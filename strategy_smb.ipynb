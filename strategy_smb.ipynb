{
 "cells": [
  {
   "cell_type": "markdown",
   "id": "acae3b45",
   "metadata": {},
   "source": [
    "# Group Project\n",
    "#### **FINN43815 - Python for Finance**"
   ]
  },
  {
   "cell_type": "code",
   "execution_count": 129,
   "id": "36a8edf5",
   "metadata": {},
   "outputs": [],
   "source": [
    "import numpy as np\n",
    "import pandas as pd\n",
    "import plotly.express as px\n",
    "from scipy.stats import kurtosis, skew\n",
    "import yfinance as yf"
   ]
  },
  {
   "cell_type": "markdown",
   "id": "278f8d90",
   "metadata": {},
   "source": [
    "### SMB Strategy"
   ]
  },
  {
   "cell_type": "markdown",
   "id": "e6e26e70",
   "metadata": {},
   "source": [
    "#### 1. Import Data"
   ]
  },
  {
   "cell_type": "code",
   "execution_count": 130,
   "id": "d81ffa77",
   "metadata": {},
   "outputs": [
    {
     "name": "stderr",
     "output_type": "stream",
     "text": [
      "/var/folders/ch/yj3xbk4s1t34gtb89jtxcmcr0000gn/T/ipykernel_12436/1299969751.py:1: DtypeWarning:\n",
      "\n",
      "Columns (12) have mixed types. Specify dtype option on import or set low_memory=False.\n",
      "\n"
     ]
    }
   ],
   "source": [
    "data = pd.read_csv('cleaned_data.csv')"
   ]
  },
  {
   "cell_type": "code",
   "execution_count": 131,
   "id": "0a7b9ab6",
   "metadata": {},
   "outputs": [
    {
     "data": {
      "text/html": [
       "<div>\n",
       "<style scoped>\n",
       "    .dataframe tbody tr th:only-of-type {\n",
       "        vertical-align: middle;\n",
       "    }\n",
       "\n",
       "    .dataframe tbody tr th {\n",
       "        vertical-align: top;\n",
       "    }\n",
       "\n",
       "    .dataframe thead th {\n",
       "        text-align: right;\n",
       "    }\n",
       "</style>\n",
       "<table border=\"1\" class=\"dataframe\">\n",
       "  <thead>\n",
       "    <tr style=\"text-align: right;\">\n",
       "      <th></th>\n",
       "      <th>date</th>\n",
       "      <th>permno</th>\n",
       "      <th>price</th>\n",
       "      <th>cap</th>\n",
       "    </tr>\n",
       "  </thead>\n",
       "  <tbody>\n",
       "    <tr>\n",
       "      <th>0</th>\n",
       "      <td>1990-01-31</td>\n",
       "      <td>0111145D UN Equity</td>\n",
       "      <td>20.6875</td>\n",
       "      <td>1226.3674</td>\n",
       "    </tr>\n",
       "    <tr>\n",
       "      <th>1</th>\n",
       "      <td>1990-02-28</td>\n",
       "      <td>0111145D UN Equity</td>\n",
       "      <td>22.0000</td>\n",
       "      <td>1303.3636</td>\n",
       "    </tr>\n",
       "    <tr>\n",
       "      <th>2</th>\n",
       "      <td>1990-03-30</td>\n",
       "      <td>0111145D UN Equity</td>\n",
       "      <td>19.5000</td>\n",
       "      <td>1155.2541</td>\n",
       "    </tr>\n",
       "    <tr>\n",
       "      <th>3</th>\n",
       "      <td>1990-04-30</td>\n",
       "      <td>0111145D UN Equity</td>\n",
       "      <td>17.6250</td>\n",
       "      <td>1021.1925</td>\n",
       "    </tr>\n",
       "    <tr>\n",
       "      <th>4</th>\n",
       "      <td>1990-05-31</td>\n",
       "      <td>0111145D UN Equity</td>\n",
       "      <td>19.8125</td>\n",
       "      <td>1147.9362</td>\n",
       "    </tr>\n",
       "    <tr>\n",
       "      <th>...</th>\n",
       "      <td>...</td>\n",
       "      <td>...</td>\n",
       "      <td>...</td>\n",
       "      <td>...</td>\n",
       "    </tr>\n",
       "    <tr>\n",
       "      <th>514691</th>\n",
       "      <td>2022-04-29</td>\n",
       "      <td>J UN Equity</td>\n",
       "      <td>138.5500</td>\n",
       "      <td>17902.9731</td>\n",
       "    </tr>\n",
       "    <tr>\n",
       "      <th>514692</th>\n",
       "      <td>2022-05-31</td>\n",
       "      <td>J UN Equity</td>\n",
       "      <td>140.0900</td>\n",
       "      <td>18019.3940</td>\n",
       "    </tr>\n",
       "    <tr>\n",
       "      <th>514693</th>\n",
       "      <td>2022-06-30</td>\n",
       "      <td>J UN Equity</td>\n",
       "      <td>127.1300</td>\n",
       "      <td>16352.3846</td>\n",
       "    </tr>\n",
       "    <tr>\n",
       "      <th>514694</th>\n",
       "      <td>2022-07-29</td>\n",
       "      <td>J UN Equity</td>\n",
       "      <td>137.3000</td>\n",
       "      <td>17660.5239</td>\n",
       "    </tr>\n",
       "    <tr>\n",
       "      <th>514695</th>\n",
       "      <td>2022-08-30</td>\n",
       "      <td>J UN Equity</td>\n",
       "      <td>124.4400</td>\n",
       "      <td>15879.2422</td>\n",
       "    </tr>\n",
       "  </tbody>\n",
       "</table>\n",
       "<p>514696 rows × 4 columns</p>\n",
       "</div>"
      ],
      "text/plain": [
       "              date              permno     price         cap\n",
       "0       1990-01-31  0111145D UN Equity   20.6875   1226.3674\n",
       "1       1990-02-28  0111145D UN Equity   22.0000   1303.3636\n",
       "2       1990-03-30  0111145D UN Equity   19.5000   1155.2541\n",
       "3       1990-04-30  0111145D UN Equity   17.6250   1021.1925\n",
       "4       1990-05-31  0111145D UN Equity   19.8125   1147.9362\n",
       "...            ...                 ...       ...         ...\n",
       "514691  2022-04-29         J UN Equity  138.5500  17902.9731\n",
       "514692  2022-05-31         J UN Equity  140.0900  18019.3940\n",
       "514693  2022-06-30         J UN Equity  127.1300  16352.3846\n",
       "514694  2022-07-29         J UN Equity  137.3000  17660.5239\n",
       "514695  2022-08-30         J UN Equity  124.4400  15879.2422\n",
       "\n",
       "[514696 rows x 4 columns]"
      ]
     },
     "execution_count": 131,
     "metadata": {},
     "output_type": "execute_result"
    }
   ],
   "source": [
    "# drop unnecessary columns\n",
    "data = data[[\"date\", \"permno\", \"price\", \"cap\"]]\n",
    "data"
   ]
  },
  {
   "cell_type": "markdown",
   "id": "27834fd8",
   "metadata": {},
   "source": [
    "#### 2. Calculate monthly returns"
   ]
  },
  {
   "cell_type": "code",
   "execution_count": 132,
   "id": "8529d569",
   "metadata": {},
   "outputs": [
    {
     "name": "stderr",
     "output_type": "stream",
     "text": [
      "/var/folders/ch/yj3xbk4s1t34gtb89jtxcmcr0000gn/T/ipykernel_12436/1728035520.py:1: FutureWarning:\n",
      "\n",
      "The default fill_method='pad' in Series.pct_change is deprecated and will be removed in a future version. Call ffill before calling pct_change to retain current behavior and silence this warning.\n",
      "\n"
     ]
    },
    {
     "data": {
      "text/html": [
       "<div>\n",
       "<style scoped>\n",
       "    .dataframe tbody tr th:only-of-type {\n",
       "        vertical-align: middle;\n",
       "    }\n",
       "\n",
       "    .dataframe tbody tr th {\n",
       "        vertical-align: top;\n",
       "    }\n",
       "\n",
       "    .dataframe thead th {\n",
       "        text-align: right;\n",
       "    }\n",
       "</style>\n",
       "<table border=\"1\" class=\"dataframe\">\n",
       "  <thead>\n",
       "    <tr style=\"text-align: right;\">\n",
       "      <th></th>\n",
       "      <th>date</th>\n",
       "      <th>permno</th>\n",
       "      <th>price</th>\n",
       "      <th>cap</th>\n",
       "      <th>rets</th>\n",
       "    </tr>\n",
       "  </thead>\n",
       "  <tbody>\n",
       "    <tr>\n",
       "      <th>0</th>\n",
       "      <td>1990-01-31</td>\n",
       "      <td>0111145D UN Equity</td>\n",
       "      <td>20.6875</td>\n",
       "      <td>1226.3674</td>\n",
       "      <td>NaN</td>\n",
       "    </tr>\n",
       "    <tr>\n",
       "      <th>1</th>\n",
       "      <td>1990-02-28</td>\n",
       "      <td>0111145D UN Equity</td>\n",
       "      <td>22.0000</td>\n",
       "      <td>1303.3636</td>\n",
       "      <td>0.063444</td>\n",
       "    </tr>\n",
       "    <tr>\n",
       "      <th>2</th>\n",
       "      <td>1990-03-30</td>\n",
       "      <td>0111145D UN Equity</td>\n",
       "      <td>19.5000</td>\n",
       "      <td>1155.2541</td>\n",
       "      <td>-0.113636</td>\n",
       "    </tr>\n",
       "    <tr>\n",
       "      <th>3</th>\n",
       "      <td>1990-04-30</td>\n",
       "      <td>0111145D UN Equity</td>\n",
       "      <td>17.6250</td>\n",
       "      <td>1021.1925</td>\n",
       "      <td>-0.096154</td>\n",
       "    </tr>\n",
       "    <tr>\n",
       "      <th>4</th>\n",
       "      <td>1990-05-31</td>\n",
       "      <td>0111145D UN Equity</td>\n",
       "      <td>19.8125</td>\n",
       "      <td>1147.9362</td>\n",
       "      <td>0.124113</td>\n",
       "    </tr>\n",
       "  </tbody>\n",
       "</table>\n",
       "</div>"
      ],
      "text/plain": [
       "         date              permno    price        cap      rets\n",
       "0  1990-01-31  0111145D UN Equity  20.6875  1226.3674       NaN\n",
       "1  1990-02-28  0111145D UN Equity  22.0000  1303.3636  0.063444\n",
       "2  1990-03-30  0111145D UN Equity  19.5000  1155.2541 -0.113636\n",
       "3  1990-04-30  0111145D UN Equity  17.6250  1021.1925 -0.096154\n",
       "4  1990-05-31  0111145D UN Equity  19.8125  1147.9362  0.124113"
      ]
     },
     "execution_count": 132,
     "metadata": {},
     "output_type": "execute_result"
    }
   ],
   "source": [
    "data['rets'] = data.groupby('permno')['price'].transform(pd.Series.pct_change)\n",
    "data.head()"
   ]
  },
  {
   "cell_type": "markdown",
   "id": "67a0e395",
   "metadata": {},
   "source": [
    "#### 3. Sort all stocks into 10 equal groups by size"
   ]
  },
  {
   "cell_type": "code",
   "execution_count": 133,
   "id": "1c727b61",
   "metadata": {},
   "outputs": [
    {
     "data": {
      "text/html": [
       "<div>\n",
       "<style scoped>\n",
       "    .dataframe tbody tr th:only-of-type {\n",
       "        vertical-align: middle;\n",
       "    }\n",
       "\n",
       "    .dataframe tbody tr th {\n",
       "        vertical-align: top;\n",
       "    }\n",
       "\n",
       "    .dataframe thead th {\n",
       "        text-align: right;\n",
       "    }\n",
       "</style>\n",
       "<table border=\"1\" class=\"dataframe\">\n",
       "  <thead>\n",
       "    <tr style=\"text-align: right;\">\n",
       "      <th></th>\n",
       "      <th>date</th>\n",
       "      <th>permno</th>\n",
       "      <th>price</th>\n",
       "      <th>cap</th>\n",
       "      <th>rets</th>\n",
       "    </tr>\n",
       "  </thead>\n",
       "  <tbody>\n",
       "    <tr>\n",
       "      <th>1</th>\n",
       "      <td>1990-02-28</td>\n",
       "      <td>0111145D UN Equity</td>\n",
       "      <td>22.0000</td>\n",
       "      <td>1303.3636</td>\n",
       "      <td>0.063444</td>\n",
       "    </tr>\n",
       "    <tr>\n",
       "      <th>2</th>\n",
       "      <td>1990-03-30</td>\n",
       "      <td>0111145D UN Equity</td>\n",
       "      <td>19.5000</td>\n",
       "      <td>1155.2541</td>\n",
       "      <td>-0.113636</td>\n",
       "    </tr>\n",
       "    <tr>\n",
       "      <th>3</th>\n",
       "      <td>1990-04-30</td>\n",
       "      <td>0111145D UN Equity</td>\n",
       "      <td>17.6250</td>\n",
       "      <td>1021.1925</td>\n",
       "      <td>-0.096154</td>\n",
       "    </tr>\n",
       "    <tr>\n",
       "      <th>4</th>\n",
       "      <td>1990-05-31</td>\n",
       "      <td>0111145D UN Equity</td>\n",
       "      <td>19.8125</td>\n",
       "      <td>1147.9362</td>\n",
       "      <td>0.124113</td>\n",
       "    </tr>\n",
       "    <tr>\n",
       "      <th>5</th>\n",
       "      <td>1990-06-29</td>\n",
       "      <td>0111145D UN Equity</td>\n",
       "      <td>18.9375</td>\n",
       "      <td>1097.2387</td>\n",
       "      <td>-0.044164</td>\n",
       "    </tr>\n",
       "    <tr>\n",
       "      <th>...</th>\n",
       "      <td>...</td>\n",
       "      <td>...</td>\n",
       "      <td>...</td>\n",
       "      <td>...</td>\n",
       "      <td>...</td>\n",
       "    </tr>\n",
       "    <tr>\n",
       "      <th>514691</th>\n",
       "      <td>2022-04-29</td>\n",
       "      <td>J UN Equity</td>\n",
       "      <td>138.5500</td>\n",
       "      <td>17902.9731</td>\n",
       "      <td>0.005370</td>\n",
       "    </tr>\n",
       "    <tr>\n",
       "      <th>514692</th>\n",
       "      <td>2022-05-31</td>\n",
       "      <td>J UN Equity</td>\n",
       "      <td>140.0900</td>\n",
       "      <td>18019.3940</td>\n",
       "      <td>0.011115</td>\n",
       "    </tr>\n",
       "    <tr>\n",
       "      <th>514693</th>\n",
       "      <td>2022-06-30</td>\n",
       "      <td>J UN Equity</td>\n",
       "      <td>127.1300</td>\n",
       "      <td>16352.3846</td>\n",
       "      <td>-0.092512</td>\n",
       "    </tr>\n",
       "    <tr>\n",
       "      <th>514694</th>\n",
       "      <td>2022-07-29</td>\n",
       "      <td>J UN Equity</td>\n",
       "      <td>137.3000</td>\n",
       "      <td>17660.5239</td>\n",
       "      <td>0.079997</td>\n",
       "    </tr>\n",
       "    <tr>\n",
       "      <th>514695</th>\n",
       "      <td>2022-08-30</td>\n",
       "      <td>J UN Equity</td>\n",
       "      <td>124.4400</td>\n",
       "      <td>15879.2422</td>\n",
       "      <td>-0.093664</td>\n",
       "    </tr>\n",
       "  </tbody>\n",
       "</table>\n",
       "<p>293533 rows × 5 columns</p>\n",
       "</div>"
      ],
      "text/plain": [
       "              date              permno     price         cap      rets\n",
       "1       1990-02-28  0111145D UN Equity   22.0000   1303.3636  0.063444\n",
       "2       1990-03-30  0111145D UN Equity   19.5000   1155.2541 -0.113636\n",
       "3       1990-04-30  0111145D UN Equity   17.6250   1021.1925 -0.096154\n",
       "4       1990-05-31  0111145D UN Equity   19.8125   1147.9362  0.124113\n",
       "5       1990-06-29  0111145D UN Equity   18.9375   1097.2387 -0.044164\n",
       "...            ...                 ...       ...         ...       ...\n",
       "514691  2022-04-29         J UN Equity  138.5500  17902.9731  0.005370\n",
       "514692  2022-05-31         J UN Equity  140.0900  18019.3940  0.011115\n",
       "514693  2022-06-30         J UN Equity  127.1300  16352.3846 -0.092512\n",
       "514694  2022-07-29         J UN Equity  137.3000  17660.5239  0.079997\n",
       "514695  2022-08-30         J UN Equity  124.4400  15879.2422 -0.093664\n",
       "\n",
       "[293533 rows x 5 columns]"
      ]
     },
     "execution_count": 133,
     "metadata": {},
     "output_type": "execute_result"
    }
   ],
   "source": [
    "# Filter out null values fro return and cap\n",
    "data = data.loc[(~data['rets'].isnull()) & ~(data['cap'].isnull())]\n",
    "data "
   ]
  },
  {
   "cell_type": "code",
   "execution_count": 134,
   "id": "9ccc9cda",
   "metadata": {},
   "outputs": [
    {
     "name": "stderr",
     "output_type": "stream",
     "text": [
      "/var/folders/ch/yj3xbk4s1t34gtb89jtxcmcr0000gn/T/ipykernel_12436/734047425.py:2: SettingWithCopyWarning:\n",
      "\n",
      "\n",
      "A value is trying to be set on a copy of a slice from a DataFrame.\n",
      "Try using .loc[row_indexer,col_indexer] = value instead\n",
      "\n",
      "See the caveats in the documentation: https://pandas.pydata.org/pandas-docs/stable/user_guide/indexing.html#returning-a-view-versus-a-copy\n",
      "\n"
     ]
    },
    {
     "data": {
      "text/html": [
       "<div>\n",
       "<style scoped>\n",
       "    .dataframe tbody tr th:only-of-type {\n",
       "        vertical-align: middle;\n",
       "    }\n",
       "\n",
       "    .dataframe tbody tr th {\n",
       "        vertical-align: top;\n",
       "    }\n",
       "\n",
       "    .dataframe thead th {\n",
       "        text-align: right;\n",
       "    }\n",
       "</style>\n",
       "<table border=\"1\" class=\"dataframe\">\n",
       "  <thead>\n",
       "    <tr style=\"text-align: right;\">\n",
       "      <th></th>\n",
       "      <th>date</th>\n",
       "      <th>permno</th>\n",
       "      <th>price</th>\n",
       "      <th>cap</th>\n",
       "      <th>rets</th>\n",
       "      <th>port</th>\n",
       "    </tr>\n",
       "  </thead>\n",
       "  <tbody>\n",
       "    <tr>\n",
       "      <th>1</th>\n",
       "      <td>1990-02-28</td>\n",
       "      <td>0111145D UN Equity</td>\n",
       "      <td>22.0000</td>\n",
       "      <td>1303.3636</td>\n",
       "      <td>0.063444</td>\n",
       "      <td>5</td>\n",
       "    </tr>\n",
       "    <tr>\n",
       "      <th>2</th>\n",
       "      <td>1990-03-30</td>\n",
       "      <td>0111145D UN Equity</td>\n",
       "      <td>19.5000</td>\n",
       "      <td>1155.2541</td>\n",
       "      <td>-0.113636</td>\n",
       "      <td>5</td>\n",
       "    </tr>\n",
       "    <tr>\n",
       "      <th>3</th>\n",
       "      <td>1990-04-30</td>\n",
       "      <td>0111145D UN Equity</td>\n",
       "      <td>17.6250</td>\n",
       "      <td>1021.1925</td>\n",
       "      <td>-0.096154</td>\n",
       "      <td>4</td>\n",
       "    </tr>\n",
       "    <tr>\n",
       "      <th>4</th>\n",
       "      <td>1990-05-31</td>\n",
       "      <td>0111145D UN Equity</td>\n",
       "      <td>19.8125</td>\n",
       "      <td>1147.9362</td>\n",
       "      <td>0.124113</td>\n",
       "      <td>4</td>\n",
       "    </tr>\n",
       "    <tr>\n",
       "      <th>5</th>\n",
       "      <td>1990-06-29</td>\n",
       "      <td>0111145D UN Equity</td>\n",
       "      <td>18.9375</td>\n",
       "      <td>1097.2387</td>\n",
       "      <td>-0.044164</td>\n",
       "      <td>4</td>\n",
       "    </tr>\n",
       "    <tr>\n",
       "      <th>...</th>\n",
       "      <td>...</td>\n",
       "      <td>...</td>\n",
       "      <td>...</td>\n",
       "      <td>...</td>\n",
       "      <td>...</td>\n",
       "      <td>...</td>\n",
       "    </tr>\n",
       "    <tr>\n",
       "      <th>514691</th>\n",
       "      <td>2022-04-29</td>\n",
       "      <td>J UN Equity</td>\n",
       "      <td>138.5500</td>\n",
       "      <td>17902.9731</td>\n",
       "      <td>0.005370</td>\n",
       "      <td>4</td>\n",
       "    </tr>\n",
       "    <tr>\n",
       "      <th>514692</th>\n",
       "      <td>2022-05-31</td>\n",
       "      <td>J UN Equity</td>\n",
       "      <td>140.0900</td>\n",
       "      <td>18019.3940</td>\n",
       "      <td>0.011115</td>\n",
       "      <td>4</td>\n",
       "    </tr>\n",
       "    <tr>\n",
       "      <th>514693</th>\n",
       "      <td>2022-06-30</td>\n",
       "      <td>J UN Equity</td>\n",
       "      <td>127.1300</td>\n",
       "      <td>16352.3846</td>\n",
       "      <td>-0.092512</td>\n",
       "      <td>4</td>\n",
       "    </tr>\n",
       "    <tr>\n",
       "      <th>514694</th>\n",
       "      <td>2022-07-29</td>\n",
       "      <td>J UN Equity</td>\n",
       "      <td>137.3000</td>\n",
       "      <td>17660.5239</td>\n",
       "      <td>0.079997</td>\n",
       "      <td>5</td>\n",
       "    </tr>\n",
       "    <tr>\n",
       "      <th>514695</th>\n",
       "      <td>2022-08-30</td>\n",
       "      <td>J UN Equity</td>\n",
       "      <td>124.4400</td>\n",
       "      <td>15879.2422</td>\n",
       "      <td>-0.093664</td>\n",
       "      <td>4</td>\n",
       "    </tr>\n",
       "  </tbody>\n",
       "</table>\n",
       "<p>293533 rows × 6 columns</p>\n",
       "</div>"
      ],
      "text/plain": [
       "              date              permno     price         cap      rets port\n",
       "1       1990-02-28  0111145D UN Equity   22.0000   1303.3636  0.063444    5\n",
       "2       1990-03-30  0111145D UN Equity   19.5000   1155.2541 -0.113636    5\n",
       "3       1990-04-30  0111145D UN Equity   17.6250   1021.1925 -0.096154    4\n",
       "4       1990-05-31  0111145D UN Equity   19.8125   1147.9362  0.124113    4\n",
       "5       1990-06-29  0111145D UN Equity   18.9375   1097.2387 -0.044164    4\n",
       "...            ...                 ...       ...         ...       ...  ...\n",
       "514691  2022-04-29         J UN Equity  138.5500  17902.9731  0.005370    4\n",
       "514692  2022-05-31         J UN Equity  140.0900  18019.3940  0.011115    4\n",
       "514693  2022-06-30         J UN Equity  127.1300  16352.3846 -0.092512    4\n",
       "514694  2022-07-29         J UN Equity  137.3000  17660.5239  0.079997    5\n",
       "514695  2022-08-30         J UN Equity  124.4400  15879.2422 -0.093664    4\n",
       "\n",
       "[293533 rows x 6 columns]"
      ]
     },
     "execution_count": 134,
     "metadata": {},
     "output_type": "execute_result"
    }
   ],
   "source": [
    "# sort all stocks into 10 different groups\n",
    "data.loc[:,'port'] = data.groupby('date')['cap'].transform(pd.qcut, q=10, labels=range(1,11)).astype(str)\n",
    "data"
   ]
  },
  {
   "cell_type": "markdown",
   "id": "104f740f",
   "metadata": {},
   "source": [
    "#### 4. Calculate the trading period returns for each portfolio"
   ]
  },
  {
   "cell_type": "code",
   "execution_count": 135,
   "id": "8e9cbe32",
   "metadata": {},
   "outputs": [
    {
     "name": "stderr",
     "output_type": "stream",
     "text": [
      "/var/folders/ch/yj3xbk4s1t34gtb89jtxcmcr0000gn/T/ipykernel_12436/2096885470.py:2: SettingWithCopyWarning:\n",
      "\n",
      "\n",
      "A value is trying to be set on a copy of a slice from a DataFrame.\n",
      "Try using .loc[row_indexer,col_indexer] = value instead\n",
      "\n",
      "See the caveats in the documentation: https://pandas.pydata.org/pandas-docs/stable/user_guide/indexing.html#returning-a-view-versus-a-copy\n",
      "\n"
     ]
    },
    {
     "data": {
      "text/html": [
       "<div>\n",
       "<style scoped>\n",
       "    .dataframe tbody tr th:only-of-type {\n",
       "        vertical-align: middle;\n",
       "    }\n",
       "\n",
       "    .dataframe tbody tr th {\n",
       "        vertical-align: top;\n",
       "    }\n",
       "\n",
       "    .dataframe thead th {\n",
       "        text-align: right;\n",
       "    }\n",
       "</style>\n",
       "<table border=\"1\" class=\"dataframe\">\n",
       "  <thead>\n",
       "    <tr style=\"text-align: right;\">\n",
       "      <th></th>\n",
       "      <th>date</th>\n",
       "      <th>permno</th>\n",
       "      <th>price</th>\n",
       "      <th>cap</th>\n",
       "      <th>rets</th>\n",
       "      <th>port</th>\n",
       "      <th>rets_t1</th>\n",
       "    </tr>\n",
       "  </thead>\n",
       "  <tbody>\n",
       "    <tr>\n",
       "      <th>1</th>\n",
       "      <td>1990-02-28</td>\n",
       "      <td>0111145D UN Equity</td>\n",
       "      <td>22.0000</td>\n",
       "      <td>1303.3636</td>\n",
       "      <td>0.063444</td>\n",
       "      <td>5</td>\n",
       "      <td>-0.113636</td>\n",
       "    </tr>\n",
       "    <tr>\n",
       "      <th>2</th>\n",
       "      <td>1990-03-30</td>\n",
       "      <td>0111145D UN Equity</td>\n",
       "      <td>19.5000</td>\n",
       "      <td>1155.2541</td>\n",
       "      <td>-0.113636</td>\n",
       "      <td>5</td>\n",
       "      <td>-0.096154</td>\n",
       "    </tr>\n",
       "    <tr>\n",
       "      <th>3</th>\n",
       "      <td>1990-04-30</td>\n",
       "      <td>0111145D UN Equity</td>\n",
       "      <td>17.6250</td>\n",
       "      <td>1021.1925</td>\n",
       "      <td>-0.096154</td>\n",
       "      <td>4</td>\n",
       "      <td>0.124113</td>\n",
       "    </tr>\n",
       "    <tr>\n",
       "      <th>4</th>\n",
       "      <td>1990-05-31</td>\n",
       "      <td>0111145D UN Equity</td>\n",
       "      <td>19.8125</td>\n",
       "      <td>1147.9362</td>\n",
       "      <td>0.124113</td>\n",
       "      <td>4</td>\n",
       "      <td>-0.044164</td>\n",
       "    </tr>\n",
       "    <tr>\n",
       "      <th>5</th>\n",
       "      <td>1990-06-29</td>\n",
       "      <td>0111145D UN Equity</td>\n",
       "      <td>18.9375</td>\n",
       "      <td>1097.2387</td>\n",
       "      <td>-0.044164</td>\n",
       "      <td>4</td>\n",
       "      <td>0.036304</td>\n",
       "    </tr>\n",
       "    <tr>\n",
       "      <th>...</th>\n",
       "      <td>...</td>\n",
       "      <td>...</td>\n",
       "      <td>...</td>\n",
       "      <td>...</td>\n",
       "      <td>...</td>\n",
       "      <td>...</td>\n",
       "      <td>...</td>\n",
       "    </tr>\n",
       "    <tr>\n",
       "      <th>514691</th>\n",
       "      <td>2022-04-29</td>\n",
       "      <td>J UN Equity</td>\n",
       "      <td>138.5500</td>\n",
       "      <td>17902.9731</td>\n",
       "      <td>0.005370</td>\n",
       "      <td>4</td>\n",
       "      <td>0.011115</td>\n",
       "    </tr>\n",
       "    <tr>\n",
       "      <th>514692</th>\n",
       "      <td>2022-05-31</td>\n",
       "      <td>J UN Equity</td>\n",
       "      <td>140.0900</td>\n",
       "      <td>18019.3940</td>\n",
       "      <td>0.011115</td>\n",
       "      <td>4</td>\n",
       "      <td>-0.092512</td>\n",
       "    </tr>\n",
       "    <tr>\n",
       "      <th>514693</th>\n",
       "      <td>2022-06-30</td>\n",
       "      <td>J UN Equity</td>\n",
       "      <td>127.1300</td>\n",
       "      <td>16352.3846</td>\n",
       "      <td>-0.092512</td>\n",
       "      <td>4</td>\n",
       "      <td>0.079997</td>\n",
       "    </tr>\n",
       "    <tr>\n",
       "      <th>514694</th>\n",
       "      <td>2022-07-29</td>\n",
       "      <td>J UN Equity</td>\n",
       "      <td>137.3000</td>\n",
       "      <td>17660.5239</td>\n",
       "      <td>0.079997</td>\n",
       "      <td>5</td>\n",
       "      <td>-0.093664</td>\n",
       "    </tr>\n",
       "    <tr>\n",
       "      <th>514695</th>\n",
       "      <td>2022-08-30</td>\n",
       "      <td>J UN Equity</td>\n",
       "      <td>124.4400</td>\n",
       "      <td>15879.2422</td>\n",
       "      <td>-0.093664</td>\n",
       "      <td>4</td>\n",
       "      <td>NaN</td>\n",
       "    </tr>\n",
       "  </tbody>\n",
       "</table>\n",
       "<p>293533 rows × 7 columns</p>\n",
       "</div>"
      ],
      "text/plain": [
       "              date              permno     price         cap      rets port  \\\n",
       "1       1990-02-28  0111145D UN Equity   22.0000   1303.3636  0.063444    5   \n",
       "2       1990-03-30  0111145D UN Equity   19.5000   1155.2541 -0.113636    5   \n",
       "3       1990-04-30  0111145D UN Equity   17.6250   1021.1925 -0.096154    4   \n",
       "4       1990-05-31  0111145D UN Equity   19.8125   1147.9362  0.124113    4   \n",
       "5       1990-06-29  0111145D UN Equity   18.9375   1097.2387 -0.044164    4   \n",
       "...            ...                 ...       ...         ...       ...  ...   \n",
       "514691  2022-04-29         J UN Equity  138.5500  17902.9731  0.005370    4   \n",
       "514692  2022-05-31         J UN Equity  140.0900  18019.3940  0.011115    4   \n",
       "514693  2022-06-30         J UN Equity  127.1300  16352.3846 -0.092512    4   \n",
       "514694  2022-07-29         J UN Equity  137.3000  17660.5239  0.079997    5   \n",
       "514695  2022-08-30         J UN Equity  124.4400  15879.2422 -0.093664    4   \n",
       "\n",
       "         rets_t1  \n",
       "1      -0.113636  \n",
       "2      -0.096154  \n",
       "3       0.124113  \n",
       "4      -0.044164  \n",
       "5       0.036304  \n",
       "...          ...  \n",
       "514691  0.011115  \n",
       "514692 -0.092512  \n",
       "514693  0.079997  \n",
       "514694 -0.093664  \n",
       "514695       NaN  \n",
       "\n",
       "[293533 rows x 7 columns]"
      ]
     },
     "execution_count": 135,
     "metadata": {},
     "output_type": "execute_result"
    }
   ],
   "source": [
    "# add columns for future retuns\n",
    "data.loc[:,'rets_t1']=data.groupby('permno')['rets'].transform('shift', periods=-1)\n",
    "data"
   ]
  },
  {
   "cell_type": "code",
   "execution_count": 136,
   "id": "22a306c8",
   "metadata": {},
   "outputs": [
    {
     "data": {
      "text/html": [
       "<div>\n",
       "<style scoped>\n",
       "    .dataframe tbody tr th:only-of-type {\n",
       "        vertical-align: middle;\n",
       "    }\n",
       "\n",
       "    .dataframe tbody tr th {\n",
       "        vertical-align: top;\n",
       "    }\n",
       "\n",
       "    .dataframe thead th {\n",
       "        text-align: right;\n",
       "    }\n",
       "</style>\n",
       "<table border=\"1\" class=\"dataframe\">\n",
       "  <thead>\n",
       "    <tr style=\"text-align: right;\">\n",
       "      <th></th>\n",
       "      <th>date</th>\n",
       "      <th>port</th>\n",
       "      <th>rets_t1</th>\n",
       "    </tr>\n",
       "  </thead>\n",
       "  <tbody>\n",
       "    <tr>\n",
       "      <th>0</th>\n",
       "      <td>1990-02-28</td>\n",
       "      <td>1</td>\n",
       "      <td>0.079803</td>\n",
       "    </tr>\n",
       "    <tr>\n",
       "      <th>1</th>\n",
       "      <td>1990-02-28</td>\n",
       "      <td>10</td>\n",
       "      <td>0.027325</td>\n",
       "    </tr>\n",
       "    <tr>\n",
       "      <th>2</th>\n",
       "      <td>1990-02-28</td>\n",
       "      <td>2</td>\n",
       "      <td>0.061317</td>\n",
       "    </tr>\n",
       "    <tr>\n",
       "      <th>3</th>\n",
       "      <td>1990-02-28</td>\n",
       "      <td>3</td>\n",
       "      <td>0.031334</td>\n",
       "    </tr>\n",
       "    <tr>\n",
       "      <th>4</th>\n",
       "      <td>1990-02-28</td>\n",
       "      <td>4</td>\n",
       "      <td>0.028990</td>\n",
       "    </tr>\n",
       "    <tr>\n",
       "      <th>...</th>\n",
       "      <td>...</td>\n",
       "      <td>...</td>\n",
       "      <td>...</td>\n",
       "    </tr>\n",
       "    <tr>\n",
       "      <th>3905</th>\n",
       "      <td>2022-08-30</td>\n",
       "      <td>5</td>\n",
       "      <td>NaN</td>\n",
       "    </tr>\n",
       "    <tr>\n",
       "      <th>3906</th>\n",
       "      <td>2022-08-30</td>\n",
       "      <td>6</td>\n",
       "      <td>NaN</td>\n",
       "    </tr>\n",
       "    <tr>\n",
       "      <th>3907</th>\n",
       "      <td>2022-08-30</td>\n",
       "      <td>7</td>\n",
       "      <td>NaN</td>\n",
       "    </tr>\n",
       "    <tr>\n",
       "      <th>3908</th>\n",
       "      <td>2022-08-30</td>\n",
       "      <td>8</td>\n",
       "      <td>NaN</td>\n",
       "    </tr>\n",
       "    <tr>\n",
       "      <th>3909</th>\n",
       "      <td>2022-08-30</td>\n",
       "      <td>9</td>\n",
       "      <td>NaN</td>\n",
       "    </tr>\n",
       "  </tbody>\n",
       "</table>\n",
       "<p>3910 rows × 3 columns</p>\n",
       "</div>"
      ],
      "text/plain": [
       "            date port   rets_t1\n",
       "0     1990-02-28    1  0.079803\n",
       "1     1990-02-28   10  0.027325\n",
       "2     1990-02-28    2  0.061317\n",
       "3     1990-02-28    3  0.031334\n",
       "4     1990-02-28    4  0.028990\n",
       "...          ...  ...       ...\n",
       "3905  2022-08-30    5       NaN\n",
       "3906  2022-08-30    6       NaN\n",
       "3907  2022-08-30    7       NaN\n",
       "3908  2022-08-30    8       NaN\n",
       "3909  2022-08-30    9       NaN\n",
       "\n",
       "[3910 rows x 3 columns]"
      ]
     },
     "execution_count": 136,
     "metadata": {},
     "output_type": "execute_result"
    }
   ],
   "source": [
    "# calculate the achieved mean return return for each month and port \n",
    "port_df = data.loc[~data['port'].isnull()].groupby(['date','port'])['rets_t1'].mean().reset_index()\n",
    "port_df"
   ]
  },
  {
   "cell_type": "markdown",
   "id": "85b134fe",
   "metadata": {},
   "source": [
    "#### 5. Calculate the returns on SMB strategy"
   ]
  },
  {
   "cell_type": "code",
   "execution_count": 137,
   "id": "8bc77d2b",
   "metadata": {},
   "outputs": [],
   "source": [
    "port_df = port_df.pivot(index = 'date', columns = 'port', values = 'rets_t1').reset_index()"
   ]
  },
  {
   "cell_type": "code",
   "execution_count": 138,
   "id": "e805b0bd",
   "metadata": {},
   "outputs": [
    {
     "data": {
      "text/html": [
       "<div>\n",
       "<style scoped>\n",
       "    .dataframe tbody tr th:only-of-type {\n",
       "        vertical-align: middle;\n",
       "    }\n",
       "\n",
       "    .dataframe tbody tr th {\n",
       "        vertical-align: top;\n",
       "    }\n",
       "\n",
       "    .dataframe thead th {\n",
       "        text-align: right;\n",
       "    }\n",
       "</style>\n",
       "<table border=\"1\" class=\"dataframe\">\n",
       "  <thead>\n",
       "    <tr style=\"text-align: right;\">\n",
       "      <th>port</th>\n",
       "      <th>date</th>\n",
       "      <th>1</th>\n",
       "      <th>10</th>\n",
       "      <th>2</th>\n",
       "      <th>3</th>\n",
       "      <th>4</th>\n",
       "      <th>5</th>\n",
       "      <th>6</th>\n",
       "      <th>7</th>\n",
       "      <th>8</th>\n",
       "      <th>9</th>\n",
       "    </tr>\n",
       "  </thead>\n",
       "  <tbody>\n",
       "    <tr>\n",
       "      <th>0</th>\n",
       "      <td>1990-02-28</td>\n",
       "      <td>0.079803</td>\n",
       "      <td>0.027325</td>\n",
       "      <td>0.061317</td>\n",
       "      <td>0.031334</td>\n",
       "      <td>0.028990</td>\n",
       "      <td>0.032949</td>\n",
       "      <td>0.036013</td>\n",
       "      <td>0.015437</td>\n",
       "      <td>0.022438</td>\n",
       "      <td>0.032901</td>\n",
       "    </tr>\n",
       "    <tr>\n",
       "      <th>1</th>\n",
       "      <td>1990-03-30</td>\n",
       "      <td>0.034176</td>\n",
       "      <td>-0.016299</td>\n",
       "      <td>-0.024953</td>\n",
       "      <td>-0.033827</td>\n",
       "      <td>-0.056571</td>\n",
       "      <td>-0.062599</td>\n",
       "      <td>-0.033857</td>\n",
       "      <td>-0.045643</td>\n",
       "      <td>-0.042175</td>\n",
       "      <td>-0.030118</td>\n",
       "    </tr>\n",
       "    <tr>\n",
       "      <th>2</th>\n",
       "      <td>1990-04-30</td>\n",
       "      <td>0.143240</td>\n",
       "      <td>0.093527</td>\n",
       "      <td>0.095036</td>\n",
       "      <td>0.100996</td>\n",
       "      <td>0.109279</td>\n",
       "      <td>0.106995</td>\n",
       "      <td>0.096825</td>\n",
       "      <td>0.098511</td>\n",
       "      <td>0.090184</td>\n",
       "      <td>0.096043</td>\n",
       "    </tr>\n",
       "    <tr>\n",
       "      <th>3</th>\n",
       "      <td>1990-05-31</td>\n",
       "      <td>0.034336</td>\n",
       "      <td>-0.001430</td>\n",
       "      <td>0.018967</td>\n",
       "      <td>-0.013480</td>\n",
       "      <td>-0.018185</td>\n",
       "      <td>-0.012922</td>\n",
       "      <td>-0.005931</td>\n",
       "      <td>-0.006232</td>\n",
       "      <td>-0.016742</td>\n",
       "      <td>-0.013181</td>\n",
       "    </tr>\n",
       "    <tr>\n",
       "      <th>4</th>\n",
       "      <td>1990-06-29</td>\n",
       "      <td>-0.045790</td>\n",
       "      <td>-0.011930</td>\n",
       "      <td>-0.030666</td>\n",
       "      <td>-0.023334</td>\n",
       "      <td>-0.023069</td>\n",
       "      <td>-0.022329</td>\n",
       "      <td>-0.039043</td>\n",
       "      <td>-0.033795</td>\n",
       "      <td>-0.010868</td>\n",
       "      <td>0.008942</td>\n",
       "    </tr>\n",
       "    <tr>\n",
       "      <th>...</th>\n",
       "      <td>...</td>\n",
       "      <td>...</td>\n",
       "      <td>...</td>\n",
       "      <td>...</td>\n",
       "      <td>...</td>\n",
       "      <td>...</td>\n",
       "      <td>...</td>\n",
       "      <td>...</td>\n",
       "      <td>...</td>\n",
       "      <td>...</td>\n",
       "      <td>...</td>\n",
       "    </tr>\n",
       "    <tr>\n",
       "      <th>386</th>\n",
       "      <td>2022-04-29</td>\n",
       "      <td>-0.015961</td>\n",
       "      <td>0.003806</td>\n",
       "      <td>0.008648</td>\n",
       "      <td>0.004065</td>\n",
       "      <td>0.006674</td>\n",
       "      <td>0.027539</td>\n",
       "      <td>-0.004353</td>\n",
       "      <td>0.013390</td>\n",
       "      <td>0.018884</td>\n",
       "      <td>0.022624</td>\n",
       "    </tr>\n",
       "    <tr>\n",
       "      <th>387</th>\n",
       "      <td>2022-05-31</td>\n",
       "      <td>-0.135041</td>\n",
       "      <td>-0.075394</td>\n",
       "      <td>-0.131446</td>\n",
       "      <td>-0.106018</td>\n",
       "      <td>-0.115822</td>\n",
       "      <td>-0.108083</td>\n",
       "      <td>-0.091793</td>\n",
       "      <td>-0.098948</td>\n",
       "      <td>-0.086429</td>\n",
       "      <td>-0.086310</td>\n",
       "    </tr>\n",
       "    <tr>\n",
       "      <th>388</th>\n",
       "      <td>2022-06-30</td>\n",
       "      <td>0.113651</td>\n",
       "      <td>0.072262</td>\n",
       "      <td>0.106285</td>\n",
       "      <td>0.074164</td>\n",
       "      <td>0.090240</td>\n",
       "      <td>0.087809</td>\n",
       "      <td>0.114172</td>\n",
       "      <td>0.082073</td>\n",
       "      <td>0.079855</td>\n",
       "      <td>0.075665</td>\n",
       "    </tr>\n",
       "    <tr>\n",
       "      <th>389</th>\n",
       "      <td>2022-07-29</td>\n",
       "      <td>0.041513</td>\n",
       "      <td>-0.045561</td>\n",
       "      <td>-0.021248</td>\n",
       "      <td>-0.027243</td>\n",
       "      <td>-0.030543</td>\n",
       "      <td>-0.019900</td>\n",
       "      <td>-0.034934</td>\n",
       "      <td>-0.021946</td>\n",
       "      <td>-0.021790</td>\n",
       "      <td>-0.019528</td>\n",
       "    </tr>\n",
       "    <tr>\n",
       "      <th>390</th>\n",
       "      <td>2022-08-30</td>\n",
       "      <td>NaN</td>\n",
       "      <td>NaN</td>\n",
       "      <td>NaN</td>\n",
       "      <td>NaN</td>\n",
       "      <td>NaN</td>\n",
       "      <td>NaN</td>\n",
       "      <td>NaN</td>\n",
       "      <td>NaN</td>\n",
       "      <td>NaN</td>\n",
       "      <td>NaN</td>\n",
       "    </tr>\n",
       "  </tbody>\n",
       "</table>\n",
       "<p>391 rows × 11 columns</p>\n",
       "</div>"
      ],
      "text/plain": [
       "port        date         1        10         2         3         4         5  \\\n",
       "0     1990-02-28  0.079803  0.027325  0.061317  0.031334  0.028990  0.032949   \n",
       "1     1990-03-30  0.034176 -0.016299 -0.024953 -0.033827 -0.056571 -0.062599   \n",
       "2     1990-04-30  0.143240  0.093527  0.095036  0.100996  0.109279  0.106995   \n",
       "3     1990-05-31  0.034336 -0.001430  0.018967 -0.013480 -0.018185 -0.012922   \n",
       "4     1990-06-29 -0.045790 -0.011930 -0.030666 -0.023334 -0.023069 -0.022329   \n",
       "..           ...       ...       ...       ...       ...       ...       ...   \n",
       "386   2022-04-29 -0.015961  0.003806  0.008648  0.004065  0.006674  0.027539   \n",
       "387   2022-05-31 -0.135041 -0.075394 -0.131446 -0.106018 -0.115822 -0.108083   \n",
       "388   2022-06-30  0.113651  0.072262  0.106285  0.074164  0.090240  0.087809   \n",
       "389   2022-07-29  0.041513 -0.045561 -0.021248 -0.027243 -0.030543 -0.019900   \n",
       "390   2022-08-30       NaN       NaN       NaN       NaN       NaN       NaN   \n",
       "\n",
       "port         6         7         8         9  \n",
       "0     0.036013  0.015437  0.022438  0.032901  \n",
       "1    -0.033857 -0.045643 -0.042175 -0.030118  \n",
       "2     0.096825  0.098511  0.090184  0.096043  \n",
       "3    -0.005931 -0.006232 -0.016742 -0.013181  \n",
       "4    -0.039043 -0.033795 -0.010868  0.008942  \n",
       "..         ...       ...       ...       ...  \n",
       "386  -0.004353  0.013390  0.018884  0.022624  \n",
       "387  -0.091793 -0.098948 -0.086429 -0.086310  \n",
       "388   0.114172  0.082073  0.079855  0.075665  \n",
       "389  -0.034934 -0.021946 -0.021790 -0.019528  \n",
       "390        NaN       NaN       NaN       NaN  \n",
       "\n",
       "[391 rows x 11 columns]"
      ]
     },
     "execution_count": 138,
     "metadata": {},
     "output_type": "execute_result"
    }
   ],
   "source": [
    "port_df"
   ]
  },
  {
   "cell_type": "code",
   "execution_count": 139,
   "id": "30e73cb5",
   "metadata": {},
   "outputs": [
    {
     "data": {
      "text/html": [
       "<div>\n",
       "<style scoped>\n",
       "    .dataframe tbody tr th:only-of-type {\n",
       "        vertical-align: middle;\n",
       "    }\n",
       "\n",
       "    .dataframe tbody tr th {\n",
       "        vertical-align: top;\n",
       "    }\n",
       "\n",
       "    .dataframe thead th {\n",
       "        text-align: right;\n",
       "    }\n",
       "</style>\n",
       "<table border=\"1\" class=\"dataframe\">\n",
       "  <thead>\n",
       "    <tr style=\"text-align: right;\">\n",
       "      <th>port</th>\n",
       "      <th>date</th>\n",
       "      <th>1</th>\n",
       "      <th>10</th>\n",
       "      <th>2</th>\n",
       "      <th>3</th>\n",
       "      <th>4</th>\n",
       "      <th>5</th>\n",
       "      <th>6</th>\n",
       "      <th>7</th>\n",
       "      <th>8</th>\n",
       "      <th>9</th>\n",
       "      <th>SMB_rets</th>\n",
       "    </tr>\n",
       "  </thead>\n",
       "  <tbody>\n",
       "    <tr>\n",
       "      <th>0</th>\n",
       "      <td>1990-02-28</td>\n",
       "      <td>0.079803</td>\n",
       "      <td>0.027325</td>\n",
       "      <td>0.061317</td>\n",
       "      <td>0.031334</td>\n",
       "      <td>0.028990</td>\n",
       "      <td>0.032949</td>\n",
       "      <td>0.036013</td>\n",
       "      <td>0.015437</td>\n",
       "      <td>0.022438</td>\n",
       "      <td>0.032901</td>\n",
       "      <td>NaN</td>\n",
       "    </tr>\n",
       "    <tr>\n",
       "      <th>1</th>\n",
       "      <td>1990-03-30</td>\n",
       "      <td>0.034176</td>\n",
       "      <td>-0.016299</td>\n",
       "      <td>-0.024953</td>\n",
       "      <td>-0.033827</td>\n",
       "      <td>-0.056571</td>\n",
       "      <td>-0.062599</td>\n",
       "      <td>-0.033857</td>\n",
       "      <td>-0.045643</td>\n",
       "      <td>-0.042175</td>\n",
       "      <td>-0.030118</td>\n",
       "      <td>0.052478</td>\n",
       "    </tr>\n",
       "    <tr>\n",
       "      <th>2</th>\n",
       "      <td>1990-04-30</td>\n",
       "      <td>0.143240</td>\n",
       "      <td>0.093527</td>\n",
       "      <td>0.095036</td>\n",
       "      <td>0.100996</td>\n",
       "      <td>0.109279</td>\n",
       "      <td>0.106995</td>\n",
       "      <td>0.096825</td>\n",
       "      <td>0.098511</td>\n",
       "      <td>0.090184</td>\n",
       "      <td>0.096043</td>\n",
       "      <td>0.050475</td>\n",
       "    </tr>\n",
       "    <tr>\n",
       "      <th>3</th>\n",
       "      <td>1990-05-31</td>\n",
       "      <td>0.034336</td>\n",
       "      <td>-0.001430</td>\n",
       "      <td>0.018967</td>\n",
       "      <td>-0.013480</td>\n",
       "      <td>-0.018185</td>\n",
       "      <td>-0.012922</td>\n",
       "      <td>-0.005931</td>\n",
       "      <td>-0.006232</td>\n",
       "      <td>-0.016742</td>\n",
       "      <td>-0.013181</td>\n",
       "      <td>0.049713</td>\n",
       "    </tr>\n",
       "    <tr>\n",
       "      <th>4</th>\n",
       "      <td>1990-06-29</td>\n",
       "      <td>-0.045790</td>\n",
       "      <td>-0.011930</td>\n",
       "      <td>-0.030666</td>\n",
       "      <td>-0.023334</td>\n",
       "      <td>-0.023069</td>\n",
       "      <td>-0.022329</td>\n",
       "      <td>-0.039043</td>\n",
       "      <td>-0.033795</td>\n",
       "      <td>-0.010868</td>\n",
       "      <td>0.008942</td>\n",
       "      <td>0.035766</td>\n",
       "    </tr>\n",
       "    <tr>\n",
       "      <th>...</th>\n",
       "      <td>...</td>\n",
       "      <td>...</td>\n",
       "      <td>...</td>\n",
       "      <td>...</td>\n",
       "      <td>...</td>\n",
       "      <td>...</td>\n",
       "      <td>...</td>\n",
       "      <td>...</td>\n",
       "      <td>...</td>\n",
       "      <td>...</td>\n",
       "      <td>...</td>\n",
       "      <td>...</td>\n",
       "    </tr>\n",
       "    <tr>\n",
       "      <th>386</th>\n",
       "      <td>2022-04-29</td>\n",
       "      <td>-0.015961</td>\n",
       "      <td>0.003806</td>\n",
       "      <td>0.008648</td>\n",
       "      <td>0.004065</td>\n",
       "      <td>0.006674</td>\n",
       "      <td>0.027539</td>\n",
       "      <td>-0.004353</td>\n",
       "      <td>0.013390</td>\n",
       "      <td>0.018884</td>\n",
       "      <td>0.022624</td>\n",
       "      <td>0.030762</td>\n",
       "    </tr>\n",
       "    <tr>\n",
       "      <th>387</th>\n",
       "      <td>2022-05-31</td>\n",
       "      <td>-0.135041</td>\n",
       "      <td>-0.075394</td>\n",
       "      <td>-0.131446</td>\n",
       "      <td>-0.106018</td>\n",
       "      <td>-0.115822</td>\n",
       "      <td>-0.108083</td>\n",
       "      <td>-0.091793</td>\n",
       "      <td>-0.098948</td>\n",
       "      <td>-0.086429</td>\n",
       "      <td>-0.086310</td>\n",
       "      <td>-0.019766</td>\n",
       "    </tr>\n",
       "    <tr>\n",
       "      <th>388</th>\n",
       "      <td>2022-06-30</td>\n",
       "      <td>0.113651</td>\n",
       "      <td>0.072262</td>\n",
       "      <td>0.106285</td>\n",
       "      <td>0.074164</td>\n",
       "      <td>0.090240</td>\n",
       "      <td>0.087809</td>\n",
       "      <td>0.114172</td>\n",
       "      <td>0.082073</td>\n",
       "      <td>0.079855</td>\n",
       "      <td>0.075665</td>\n",
       "      <td>-0.059647</td>\n",
       "    </tr>\n",
       "    <tr>\n",
       "      <th>389</th>\n",
       "      <td>2022-07-29</td>\n",
       "      <td>0.041513</td>\n",
       "      <td>-0.045561</td>\n",
       "      <td>-0.021248</td>\n",
       "      <td>-0.027243</td>\n",
       "      <td>-0.030543</td>\n",
       "      <td>-0.019900</td>\n",
       "      <td>-0.034934</td>\n",
       "      <td>-0.021946</td>\n",
       "      <td>-0.021790</td>\n",
       "      <td>-0.019528</td>\n",
       "      <td>0.041388</td>\n",
       "    </tr>\n",
       "    <tr>\n",
       "      <th>390</th>\n",
       "      <td>2022-08-30</td>\n",
       "      <td>NaN</td>\n",
       "      <td>NaN</td>\n",
       "      <td>NaN</td>\n",
       "      <td>NaN</td>\n",
       "      <td>NaN</td>\n",
       "      <td>NaN</td>\n",
       "      <td>NaN</td>\n",
       "      <td>NaN</td>\n",
       "      <td>NaN</td>\n",
       "      <td>NaN</td>\n",
       "      <td>0.087074</td>\n",
       "    </tr>\n",
       "  </tbody>\n",
       "</table>\n",
       "<p>391 rows × 12 columns</p>\n",
       "</div>"
      ],
      "text/plain": [
       "port        date         1        10         2         3         4         5  \\\n",
       "0     1990-02-28  0.079803  0.027325  0.061317  0.031334  0.028990  0.032949   \n",
       "1     1990-03-30  0.034176 -0.016299 -0.024953 -0.033827 -0.056571 -0.062599   \n",
       "2     1990-04-30  0.143240  0.093527  0.095036  0.100996  0.109279  0.106995   \n",
       "3     1990-05-31  0.034336 -0.001430  0.018967 -0.013480 -0.018185 -0.012922   \n",
       "4     1990-06-29 -0.045790 -0.011930 -0.030666 -0.023334 -0.023069 -0.022329   \n",
       "..           ...       ...       ...       ...       ...       ...       ...   \n",
       "386   2022-04-29 -0.015961  0.003806  0.008648  0.004065  0.006674  0.027539   \n",
       "387   2022-05-31 -0.135041 -0.075394 -0.131446 -0.106018 -0.115822 -0.108083   \n",
       "388   2022-06-30  0.113651  0.072262  0.106285  0.074164  0.090240  0.087809   \n",
       "389   2022-07-29  0.041513 -0.045561 -0.021248 -0.027243 -0.030543 -0.019900   \n",
       "390   2022-08-30       NaN       NaN       NaN       NaN       NaN       NaN   \n",
       "\n",
       "port         6         7         8         9  SMB_rets  \n",
       "0     0.036013  0.015437  0.022438  0.032901       NaN  \n",
       "1    -0.033857 -0.045643 -0.042175 -0.030118  0.052478  \n",
       "2     0.096825  0.098511  0.090184  0.096043  0.050475  \n",
       "3    -0.005931 -0.006232 -0.016742 -0.013181  0.049713  \n",
       "4    -0.039043 -0.033795 -0.010868  0.008942  0.035766  \n",
       "..         ...       ...       ...       ...       ...  \n",
       "386  -0.004353  0.013390  0.018884  0.022624  0.030762  \n",
       "387  -0.091793 -0.098948 -0.086429 -0.086310 -0.019766  \n",
       "388   0.114172  0.082073  0.079855  0.075665 -0.059647  \n",
       "389  -0.034934 -0.021946 -0.021790 -0.019528  0.041388  \n",
       "390        NaN       NaN       NaN       NaN  0.087074  \n",
       "\n",
       "[391 rows x 12 columns]"
      ]
     },
     "execution_count": 139,
     "metadata": {},
     "output_type": "execute_result"
    }
   ],
   "source": [
    "port_df['SMB_rets'] = port_df['1']-port_df['10']\n",
    "port_df['SMB_rets'] = port_df['SMB_rets'].transform('shift', periods=1)\n",
    "port_df"
   ]
  },
  {
   "cell_type": "code",
   "execution_count": 140,
   "id": "c62b1596",
   "metadata": {},
   "outputs": [],
   "source": [
    "# calculate cumulative returns\n",
    "port_df['SMB_cum_rets'] = (1+port_df['SMB_rets']).cumprod()"
   ]
  },
  {
   "cell_type": "code",
   "execution_count": 141,
   "id": "c2c90487",
   "metadata": {},
   "outputs": [
    {
     "data": {
      "text/html": [
       "<div>\n",
       "<style scoped>\n",
       "    .dataframe tbody tr th:only-of-type {\n",
       "        vertical-align: middle;\n",
       "    }\n",
       "\n",
       "    .dataframe tbody tr th {\n",
       "        vertical-align: top;\n",
       "    }\n",
       "\n",
       "    .dataframe thead th {\n",
       "        text-align: right;\n",
       "    }\n",
       "</style>\n",
       "<table border=\"1\" class=\"dataframe\">\n",
       "  <thead>\n",
       "    <tr style=\"text-align: right;\">\n",
       "      <th>port</th>\n",
       "      <th>date</th>\n",
       "      <th>1</th>\n",
       "      <th>10</th>\n",
       "      <th>2</th>\n",
       "      <th>3</th>\n",
       "      <th>4</th>\n",
       "      <th>5</th>\n",
       "      <th>6</th>\n",
       "      <th>7</th>\n",
       "      <th>8</th>\n",
       "      <th>9</th>\n",
       "      <th>SMB_rets</th>\n",
       "      <th>SMB_cum_rets</th>\n",
       "    </tr>\n",
       "  </thead>\n",
       "  <tbody>\n",
       "    <tr>\n",
       "      <th>0</th>\n",
       "      <td>1990-02-28</td>\n",
       "      <td>0.079803</td>\n",
       "      <td>0.027325</td>\n",
       "      <td>0.061317</td>\n",
       "      <td>0.031334</td>\n",
       "      <td>0.028990</td>\n",
       "      <td>0.032949</td>\n",
       "      <td>0.036013</td>\n",
       "      <td>0.015437</td>\n",
       "      <td>0.022438</td>\n",
       "      <td>0.032901</td>\n",
       "      <td>NaN</td>\n",
       "      <td>NaN</td>\n",
       "    </tr>\n",
       "    <tr>\n",
       "      <th>1</th>\n",
       "      <td>1990-03-30</td>\n",
       "      <td>0.034176</td>\n",
       "      <td>-0.016299</td>\n",
       "      <td>-0.024953</td>\n",
       "      <td>-0.033827</td>\n",
       "      <td>-0.056571</td>\n",
       "      <td>-0.062599</td>\n",
       "      <td>-0.033857</td>\n",
       "      <td>-0.045643</td>\n",
       "      <td>-0.042175</td>\n",
       "      <td>-0.030118</td>\n",
       "      <td>0.052478</td>\n",
       "      <td>1.052478</td>\n",
       "    </tr>\n",
       "    <tr>\n",
       "      <th>2</th>\n",
       "      <td>1990-04-30</td>\n",
       "      <td>0.143240</td>\n",
       "      <td>0.093527</td>\n",
       "      <td>0.095036</td>\n",
       "      <td>0.100996</td>\n",
       "      <td>0.109279</td>\n",
       "      <td>0.106995</td>\n",
       "      <td>0.096825</td>\n",
       "      <td>0.098511</td>\n",
       "      <td>0.090184</td>\n",
       "      <td>0.096043</td>\n",
       "      <td>0.050475</td>\n",
       "      <td>1.105602</td>\n",
       "    </tr>\n",
       "    <tr>\n",
       "      <th>3</th>\n",
       "      <td>1990-05-31</td>\n",
       "      <td>0.034336</td>\n",
       "      <td>-0.001430</td>\n",
       "      <td>0.018967</td>\n",
       "      <td>-0.013480</td>\n",
       "      <td>-0.018185</td>\n",
       "      <td>-0.012922</td>\n",
       "      <td>-0.005931</td>\n",
       "      <td>-0.006232</td>\n",
       "      <td>-0.016742</td>\n",
       "      <td>-0.013181</td>\n",
       "      <td>0.049713</td>\n",
       "      <td>1.160564</td>\n",
       "    </tr>\n",
       "    <tr>\n",
       "      <th>4</th>\n",
       "      <td>1990-06-29</td>\n",
       "      <td>-0.045790</td>\n",
       "      <td>-0.011930</td>\n",
       "      <td>-0.030666</td>\n",
       "      <td>-0.023334</td>\n",
       "      <td>-0.023069</td>\n",
       "      <td>-0.022329</td>\n",
       "      <td>-0.039043</td>\n",
       "      <td>-0.033795</td>\n",
       "      <td>-0.010868</td>\n",
       "      <td>0.008942</td>\n",
       "      <td>0.035766</td>\n",
       "      <td>1.202073</td>\n",
       "    </tr>\n",
       "    <tr>\n",
       "      <th>...</th>\n",
       "      <td>...</td>\n",
       "      <td>...</td>\n",
       "      <td>...</td>\n",
       "      <td>...</td>\n",
       "      <td>...</td>\n",
       "      <td>...</td>\n",
       "      <td>...</td>\n",
       "      <td>...</td>\n",
       "      <td>...</td>\n",
       "      <td>...</td>\n",
       "      <td>...</td>\n",
       "      <td>...</td>\n",
       "      <td>...</td>\n",
       "    </tr>\n",
       "    <tr>\n",
       "      <th>386</th>\n",
       "      <td>2022-04-29</td>\n",
       "      <td>-0.015961</td>\n",
       "      <td>0.003806</td>\n",
       "      <td>0.008648</td>\n",
       "      <td>0.004065</td>\n",
       "      <td>0.006674</td>\n",
       "      <td>0.027539</td>\n",
       "      <td>-0.004353</td>\n",
       "      <td>0.013390</td>\n",
       "      <td>0.018884</td>\n",
       "      <td>0.022624</td>\n",
       "      <td>0.030762</td>\n",
       "      <td>300.473882</td>\n",
       "    </tr>\n",
       "    <tr>\n",
       "      <th>387</th>\n",
       "      <td>2022-05-31</td>\n",
       "      <td>-0.135041</td>\n",
       "      <td>-0.075394</td>\n",
       "      <td>-0.131446</td>\n",
       "      <td>-0.106018</td>\n",
       "      <td>-0.115822</td>\n",
       "      <td>-0.108083</td>\n",
       "      <td>-0.091793</td>\n",
       "      <td>-0.098948</td>\n",
       "      <td>-0.086429</td>\n",
       "      <td>-0.086310</td>\n",
       "      <td>-0.019766</td>\n",
       "      <td>294.534597</td>\n",
       "    </tr>\n",
       "    <tr>\n",
       "      <th>388</th>\n",
       "      <td>2022-06-30</td>\n",
       "      <td>0.113651</td>\n",
       "      <td>0.072262</td>\n",
       "      <td>0.106285</td>\n",
       "      <td>0.074164</td>\n",
       "      <td>0.090240</td>\n",
       "      <td>0.087809</td>\n",
       "      <td>0.114172</td>\n",
       "      <td>0.082073</td>\n",
       "      <td>0.079855</td>\n",
       "      <td>0.075665</td>\n",
       "      <td>-0.059647</td>\n",
       "      <td>276.966515</td>\n",
       "    </tr>\n",
       "    <tr>\n",
       "      <th>389</th>\n",
       "      <td>2022-07-29</td>\n",
       "      <td>0.041513</td>\n",
       "      <td>-0.045561</td>\n",
       "      <td>-0.021248</td>\n",
       "      <td>-0.027243</td>\n",
       "      <td>-0.030543</td>\n",
       "      <td>-0.019900</td>\n",
       "      <td>-0.034934</td>\n",
       "      <td>-0.021946</td>\n",
       "      <td>-0.021790</td>\n",
       "      <td>-0.019528</td>\n",
       "      <td>0.041388</td>\n",
       "      <td>288.429692</td>\n",
       "    </tr>\n",
       "    <tr>\n",
       "      <th>390</th>\n",
       "      <td>2022-08-30</td>\n",
       "      <td>NaN</td>\n",
       "      <td>NaN</td>\n",
       "      <td>NaN</td>\n",
       "      <td>NaN</td>\n",
       "      <td>NaN</td>\n",
       "      <td>NaN</td>\n",
       "      <td>NaN</td>\n",
       "      <td>NaN</td>\n",
       "      <td>NaN</td>\n",
       "      <td>NaN</td>\n",
       "      <td>0.087074</td>\n",
       "      <td>313.544442</td>\n",
       "    </tr>\n",
       "  </tbody>\n",
       "</table>\n",
       "<p>391 rows × 13 columns</p>\n",
       "</div>"
      ],
      "text/plain": [
       "port        date         1        10         2         3         4         5  \\\n",
       "0     1990-02-28  0.079803  0.027325  0.061317  0.031334  0.028990  0.032949   \n",
       "1     1990-03-30  0.034176 -0.016299 -0.024953 -0.033827 -0.056571 -0.062599   \n",
       "2     1990-04-30  0.143240  0.093527  0.095036  0.100996  0.109279  0.106995   \n",
       "3     1990-05-31  0.034336 -0.001430  0.018967 -0.013480 -0.018185 -0.012922   \n",
       "4     1990-06-29 -0.045790 -0.011930 -0.030666 -0.023334 -0.023069 -0.022329   \n",
       "..           ...       ...       ...       ...       ...       ...       ...   \n",
       "386   2022-04-29 -0.015961  0.003806  0.008648  0.004065  0.006674  0.027539   \n",
       "387   2022-05-31 -0.135041 -0.075394 -0.131446 -0.106018 -0.115822 -0.108083   \n",
       "388   2022-06-30  0.113651  0.072262  0.106285  0.074164  0.090240  0.087809   \n",
       "389   2022-07-29  0.041513 -0.045561 -0.021248 -0.027243 -0.030543 -0.019900   \n",
       "390   2022-08-30       NaN       NaN       NaN       NaN       NaN       NaN   \n",
       "\n",
       "port         6         7         8         9  SMB_rets  SMB_cum_rets  \n",
       "0     0.036013  0.015437  0.022438  0.032901       NaN           NaN  \n",
       "1    -0.033857 -0.045643 -0.042175 -0.030118  0.052478      1.052478  \n",
       "2     0.096825  0.098511  0.090184  0.096043  0.050475      1.105602  \n",
       "3    -0.005931 -0.006232 -0.016742 -0.013181  0.049713      1.160564  \n",
       "4    -0.039043 -0.033795 -0.010868  0.008942  0.035766      1.202073  \n",
       "..         ...       ...       ...       ...       ...           ...  \n",
       "386  -0.004353  0.013390  0.018884  0.022624  0.030762    300.473882  \n",
       "387  -0.091793 -0.098948 -0.086429 -0.086310 -0.019766    294.534597  \n",
       "388   0.114172  0.082073  0.079855  0.075665 -0.059647    276.966515  \n",
       "389  -0.034934 -0.021946 -0.021790 -0.019528  0.041388    288.429692  \n",
       "390        NaN       NaN       NaN       NaN  0.087074    313.544442  \n",
       "\n",
       "[391 rows x 13 columns]"
      ]
     },
     "execution_count": 141,
     "metadata": {},
     "output_type": "execute_result"
    }
   ],
   "source": [
    "port_df"
   ]
  },
  {
   "cell_type": "markdown",
   "id": "d2add79a",
   "metadata": {},
   "source": [
    "### Evaluation"
   ]
  },
  {
   "cell_type": "code",
   "execution_count": 142,
   "id": "fb1e2a61",
   "metadata": {
    "scrolled": false
   },
   "outputs": [
    {
     "data": {
      "application/vnd.plotly.v1+json": {
       "config": {
        "plotlyServerURL": "https://plot.ly"
       },
       "data": [
        {
         "hovertemplate": "date=%{x}<br>Cumulative returns=%{y}<extra></extra>",
         "legendgroup": "",
         "line": {
          "color": "#636efa",
          "dash": "solid"
         },
         "marker": {
          "symbol": "circle"
         },
         "mode": "lines",
         "name": "",
         "orientation": "v",
         "showlegend": false,
         "type": "scatter",
         "x": [
          "1990-02-28",
          "1990-03-30",
          "1990-04-30",
          "1990-05-31",
          "1990-06-29",
          "1990-07-31",
          "1990-08-31",
          "1990-09-28",
          "1990-10-31",
          "1990-11-30",
          "1990-12-31",
          "1991-01-31",
          "1991-02-28",
          "1991-03-28",
          "1991-04-30",
          "1991-05-31",
          "1991-06-28",
          "1991-07-31",
          "1991-08-30",
          "1991-09-30",
          "1991-10-31",
          "1991-11-29",
          "1991-12-31",
          "1992-01-31",
          "1992-02-28",
          "1992-03-31",
          "1992-04-30",
          "1992-05-29",
          "1992-06-30",
          "1992-07-31",
          "1992-08-31",
          "1992-09-30",
          "1992-10-30",
          "1992-11-30",
          "1992-12-31",
          "1993-01-29",
          "1993-02-26",
          "1993-03-31",
          "1993-04-30",
          "1993-05-28",
          "1993-06-30",
          "1993-07-30",
          "1993-08-31",
          "1993-09-30",
          "1993-10-29",
          "1993-11-30",
          "1993-12-31",
          "1994-01-31",
          "1994-02-28",
          "1994-03-31",
          "1994-04-29",
          "1994-05-31",
          "1994-06-30",
          "1994-07-29",
          "1994-08-31",
          "1994-09-30",
          "1994-10-31",
          "1994-11-30",
          "1994-12-30",
          "1995-01-31",
          "1995-02-28",
          "1995-03-31",
          "1995-04-28",
          "1995-05-31",
          "1995-06-30",
          "1995-07-31",
          "1995-08-31",
          "1995-09-29",
          "1995-10-31",
          "1995-11-30",
          "1995-12-29",
          "1996-01-31",
          "1996-02-29",
          "1996-03-29",
          "1996-04-30",
          "1996-05-31",
          "1996-06-28",
          "1996-07-31",
          "1996-08-30",
          "1996-09-30",
          "1996-10-31",
          "1996-11-29",
          "1996-12-31",
          "1997-01-31",
          "1997-02-28",
          "1997-03-31",
          "1997-04-30",
          "1997-05-30",
          "1997-06-30",
          "1997-07-31",
          "1997-08-29",
          "1997-09-30",
          "1997-10-31",
          "1997-11-28",
          "1997-12-31",
          "1998-01-30",
          "1998-02-27",
          "1998-03-31",
          "1998-04-30",
          "1998-05-29",
          "1998-06-30",
          "1998-07-31",
          "1998-08-31",
          "1998-09-30",
          "1998-10-30",
          "1998-11-30",
          "1998-12-31",
          "1999-01-29",
          "1999-02-26",
          "1999-03-31",
          "1999-04-30",
          "1999-05-28",
          "1999-06-30",
          "1999-07-30",
          "1999-08-31",
          "1999-09-30",
          "1999-10-29",
          "1999-11-30",
          "1999-12-31",
          "2000-01-31",
          "2000-02-29",
          "2000-03-31",
          "2000-04-28",
          "2000-05-31",
          "2000-06-30",
          "2000-07-31",
          "2000-08-31",
          "2000-09-29",
          "2000-10-31",
          "2000-11-30",
          "2000-12-29",
          "2001-01-31",
          "2001-02-28",
          "2001-03-30",
          "2001-04-30",
          "2001-05-31",
          "2001-06-29",
          "2001-07-31",
          "2001-08-31",
          "2001-09-28",
          "2001-10-31",
          "2001-11-30",
          "2001-12-31",
          "2002-01-31",
          "2002-02-28",
          "2002-03-28",
          "2002-04-30",
          "2002-05-31",
          "2002-06-28",
          "2002-07-31",
          "2002-08-30",
          "2002-09-30",
          "2002-10-31",
          "2002-11-29",
          "2002-12-31",
          "2003-01-31",
          "2003-02-28",
          "2003-03-31",
          "2003-04-30",
          "2003-05-30",
          "2003-06-30",
          "2003-07-31",
          "2003-08-29",
          "2003-09-30",
          "2003-10-31",
          "2003-11-28",
          "2003-12-31",
          "2004-01-30",
          "2004-02-27",
          "2004-03-31",
          "2004-04-30",
          "2004-05-28",
          "2004-06-30",
          "2004-07-30",
          "2004-08-31",
          "2004-09-30",
          "2004-10-29",
          "2004-11-30",
          "2004-12-31",
          "2005-01-31",
          "2005-02-28",
          "2005-03-31",
          "2005-04-29",
          "2005-05-31",
          "2005-06-30",
          "2005-07-29",
          "2005-08-31",
          "2005-09-30",
          "2005-10-31",
          "2005-11-30",
          "2005-12-30",
          "2006-01-31",
          "2006-02-28",
          "2006-03-31",
          "2006-04-28",
          "2006-05-31",
          "2006-06-30",
          "2006-07-31",
          "2006-08-31",
          "2006-09-29",
          "2006-10-31",
          "2006-11-30",
          "2006-12-29",
          "2007-01-31",
          "2007-02-28",
          "2007-03-30",
          "2007-04-30",
          "2007-05-31",
          "2007-06-29",
          "2007-07-31",
          "2007-08-31",
          "2007-09-28",
          "2007-10-31",
          "2007-11-30",
          "2007-12-31",
          "2008-01-31",
          "2008-02-29",
          "2008-03-31",
          "2008-04-30",
          "2008-05-30",
          "2008-06-30",
          "2008-07-31",
          "2008-08-29",
          "2008-09-30",
          "2008-10-31",
          "2008-11-28",
          "2008-12-31",
          "2009-01-30",
          "2009-02-27",
          "2009-03-31",
          "2009-04-30",
          "2009-05-29",
          "2009-06-30",
          "2009-07-31",
          "2009-08-31",
          "2009-09-30",
          "2009-10-30",
          "2009-11-30",
          "2009-12-31",
          "2010-01-29",
          "2010-02-26",
          "2010-03-31",
          "2010-04-30",
          "2010-05-28",
          "2010-06-30",
          "2010-07-30",
          "2010-08-31",
          "2010-09-30",
          "2010-10-29",
          "2010-11-30",
          "2010-12-31",
          "2011-01-31",
          "2011-02-28",
          "2011-03-31",
          "2011-04-29",
          "2011-05-31",
          "2011-06-30",
          "2011-07-29",
          "2011-08-31",
          "2011-09-30",
          "2011-10-31",
          "2011-11-30",
          "2011-12-30",
          "2012-01-31",
          "2012-02-29",
          "2012-03-30",
          "2012-04-30",
          "2012-05-31",
          "2012-06-29",
          "2012-07-31",
          "2012-08-31",
          "2012-09-28",
          "2012-10-31",
          "2012-11-30",
          "2012-12-31",
          "2013-01-31",
          "2013-02-28",
          "2013-03-28",
          "2013-04-30",
          "2013-05-31",
          "2013-06-28",
          "2013-07-31",
          "2013-08-30",
          "2013-09-30",
          "2013-10-31",
          "2013-11-29",
          "2013-12-31",
          "2014-01-31",
          "2014-02-28",
          "2014-03-31",
          "2014-04-30",
          "2014-05-30",
          "2014-06-30",
          "2014-07-31",
          "2014-08-29",
          "2014-09-30",
          "2014-10-31",
          "2014-11-28",
          "2014-12-31",
          "2015-01-30",
          "2015-02-27",
          "2015-03-31",
          "2015-04-30",
          "2015-05-29",
          "2015-06-30",
          "2015-07-31",
          "2015-08-31",
          "2015-09-30",
          "2015-10-30",
          "2015-11-30",
          "2015-12-31",
          "2016-01-29",
          "2016-02-29",
          "2016-03-31",
          "2016-04-29",
          "2016-05-31",
          "2016-06-30",
          "2016-07-29",
          "2016-08-31",
          "2016-09-30",
          "2016-10-31",
          "2016-11-30",
          "2016-12-30",
          "2017-01-31",
          "2017-02-28",
          "2017-03-31",
          "2017-04-28",
          "2017-05-31",
          "2017-06-30",
          "2017-07-31",
          "2017-08-31",
          "2017-09-29",
          "2017-10-31",
          "2017-11-30",
          "2017-12-29",
          "2018-01-31",
          "2018-02-28",
          "2018-03-29",
          "2018-04-30",
          "2018-05-31",
          "2018-06-29",
          "2018-07-31",
          "2018-08-31",
          "2018-09-28",
          "2018-10-31",
          "2018-11-30",
          "2018-12-31",
          "2019-01-31",
          "2019-02-28",
          "2019-03-29",
          "2019-04-30",
          "2019-05-31",
          "2019-06-28",
          "2019-07-31",
          "2019-08-30",
          "2019-09-30",
          "2019-10-31",
          "2019-11-29",
          "2019-12-31",
          "2020-01-31",
          "2020-02-28",
          "2020-03-31",
          "2020-04-30",
          "2020-05-29",
          "2020-06-30",
          "2020-07-31",
          "2020-08-31",
          "2020-09-30",
          "2020-10-30",
          "2020-11-30",
          "2020-12-31",
          "2021-01-29",
          "2021-02-26",
          "2021-03-31",
          "2021-04-30",
          "2021-05-28",
          "2021-06-30",
          "2021-07-30",
          "2021-08-31",
          "2021-09-30",
          "2021-10-29",
          "2021-11-30",
          "2021-12-31",
          "2022-01-31",
          "2022-02-28",
          "2022-03-31",
          "2022-04-29",
          "2022-05-31",
          "2022-06-30",
          "2022-07-29",
          "2022-08-30"
         ],
         "xaxis": "x",
         "y": [
          null,
          1.0524777092530881,
          1.105601601806996,
          1.1605643187922587,
          1.2020733224498323,
          1.1613707084902816,
          1.1187133869760642,
          1.0443015022274877,
          1.0144520000070683,
          1.1105420513946458,
          1.18770186862417,
          1.3669739089363386,
          1.4336888755255106,
          1.5577011442742468,
          1.6243333651925087,
          1.686092203986518,
          1.664133797657198,
          1.7001181890412471,
          1.76701968881586,
          1.8320329786931622,
          2.000943477972988,
          1.9740828270560777,
          1.9365507349929012,
          2.1628638704134016,
          2.213930337003564,
          2.132851574730583,
          1.9799604373437003,
          1.9939068209858388,
          1.9500912306191893,
          1.9315667313538747,
          1.865489462683197,
          1.9543506318116661,
          2.1179337945087653,
          2.374981607668576,
          2.440339439403462,
          2.471636925575161,
          2.40716100732933,
          2.4263673572057907,
          2.4483116493282493,
          2.663281121740014,
          2.72875916428383,
          2.8364379682156797,
          2.947811882609167,
          3.092151023831296,
          3.1164693267312376,
          3.142351747185675,
          3.1490589092197436,
          3.2780537188351673,
          3.300050773096011,
          3.2682757763571915,
          3.252295668455761,
          3.091056629779793,
          3.0871857489618226,
          3.1011278075395294,
          3.2038062656463753,
          3.271895247133619,
          3.2392460516777932,
          3.287209407929784,
          3.2138940037483374,
          3.427374149194235,
          3.4856423996355335,
          3.449335006147259,
          3.522632777602107,
          3.61046952608571,
          3.80737740869648,
          3.9674138181014516,
          4.164181603452828,
          4.06847920635105,
          3.8613545805595564,
          3.930925162316758,
          4.020006425094499,
          3.9622804618287977,
          4.10444638447552,
          4.277092774894473,
          4.573010307796311,
          4.720184034198224,
          4.538774481944773,
          4.3082737199948475,
          4.565917713292597,
          4.574402220071481,
          4.441707423651516,
          4.332920723583593,
          4.573425483897938,
          4.386601531962519,
          4.435909079533305,
          4.526659690365094,
          4.29431632590245,
          4.821430586070557,
          4.896861568853013,
          4.953649811251895,
          5.511596100281464,
          5.928292508801873,
          5.8683886743989335,
          5.520380869568234,
          5.524796590734707,
          5.44659515911427,
          5.418979877917411,
          5.358908313051019,
          5.336184775727056,
          5.163283156731026,
          4.952433879963165,
          4.5400760404943785,
          4.310135907976038,
          4.555193253169842,
          4.6871167371727305,
          4.737851554453854,
          4.629343369101377,
          4.571119445476518,
          4.580818773285919,
          4.572623724277565,
          4.980753704622986,
          5.494742962733282,
          5.587450118122333,
          5.688442817931712,
          5.627033607641862,
          5.807162790181908,
          5.352911686398463,
          5.377147067292636,
          5.254587695267358,
          5.242960790192273,
          5.610631658075598,
          5.494611002463894,
          5.84279859760061,
          6.066656891146312,
          6.123056869488975,
          6.40308865685625,
          6.267935867876985,
          6.445531076386246,
          6.429489163085008,
          6.7669531001821115,
          7.357159087217293,
          8.743609439078739,
          10.128649889895366,
          10.495315092955094,
          11.21959313104138,
          12.048748647892788,
          12.717389945155631,
          12.464302632107225,
          13.478754043031914,
          12.07125906564239,
          13.236615968809172,
          13.509426149590809,
          14.918908723748832,
          15.41162109860057,
          15.575922161532935,
          17.56865820922037,
          17.923984441484553,
          17.3479043344338,
          17.786121545867456,
          16.0273427286155,
          16.119778911115294,
          15.972759879020582,
          16.036053728755842,
          18.57277773766963,
          18.72153455909566,
          18.78461217915102,
          18.572763163475724,
          18.767227979226533,
          21.097212555666502,
          24.425816119731774,
          25.09845689611452,
          26.823691977002234,
          27.868415538680654,
          28.87605996079272,
          29.977590362830487,
          31.773884334873834,
          32.774653906723955,
          34.81987740911944,
          36.14504243670441,
          37.334334553146014,
          36.49853786578028,
          36.78481687219524,
          40.4309414883418,
          39.828513549219416,
          39.34806700691622,
          40.348234604807644,
          40.90335159692587,
          44.55716732016301,
          45.16867563346865,
          43.85426084421911,
          44.14244791894281,
          44.76260146870514,
          43.69665404182088,
          47.032128582630506,
          49.92738727217189,
          51.1747636775674,
          51.37439243278116,
          51.36162390280528,
          50.73658731153547,
          52.70977329701815,
          53.093934218201774,
          57.42274130809362,
          57.999755431792615,
          61.16800456751638,
          61.4830391607169,
          60.89266221343015,
          59.36482275053628,
          57.59880904763738,
          59.68726531385387,
          58.96068183034917,
          60.520923079676116,
          62.26639906969956,
          61.77090123625527,
          62.95627852156993,
          65.4092992100746,
          65.96745161029507,
          64.83289966693266,
          64.60856725270962,
          64.82824468598965,
          62.83301250610131,
          62.471666851603565,
          60.68526476297838,
          61.45071355659444,
          58.756126710032774,
          58.14425234360938,
          59.50706683189835,
          60.917197811131146,
          59.510736224291726,
          60.72587464033902,
          61.87014166291399,
          57.17049736120694,
          62.24426712658002,
          71.06977326282471,
          68.5215036167307,
          58.96905899783659,
          50.69356569190358,
          54.28285512167157,
          54.349258703359304,
          50.56090831957659,
          56.1983160781425,
          84.65189610106444,
          90.05277176998283,
          90.72763705978201,
          99.70534435935846,
          115.76015968857345,
          126.88988164905624,
          119.25024260362804,
          114.62543393308134,
          124.07135129128775,
          130.8017159739692,
          137.26507019170478,
          143.8228919054195,
          161.89931574510985,
          161.33044324538633,
          148.71392891004996,
          160.38690509099848,
          152.20886125211356,
          160.03391837875998,
          157.3119083167825,
          164.11153952735455,
          171.68562469197695,
          171.94160885544412,
          175.2844137358129,
          179.56842487606173,
          178.7355399683264,
          178.4176944477328,
          176.69586212931574,
          168.358447346076,
          159.4951456794052,
          145.4652410744772,
          163.4369657760029,
          159.55007927749688,
          157.05789286622957,
          166.67396830258477,
          164.47891666397123,
          164.7291453973352,
          159.04464915222383,
          156.00201506017982,
          158.951512286161,
          151.81648347739977,
          157.172543251499,
          159.93002704524295,
          161.63760573903184,
          164.32253942245794,
          172.19985182968523,
          177.53674236507874,
          180.25812209515658,
          184.69174065620047,
          183.37783204714987,
          197.1011672872525,
          200.07600874369354,
          205.97924782026425,
          202.75225078453383,
          207.55113338358112,
          202.5194142534692,
          207.81195161705094,
          211.596348899695,
          210.0994173505247,
          214.4044225121618,
          214.6729694555081,
          205.82645100393347,
          201.90352361114512,
          211.0707853764981,
          199.30512539943797,
          206.57205847466236,
          193.58538598678933,
          202.73117507892508,
          203.64863903564762,
          205.21044733199602,
          198.78548879080026,
          208.01685791351127,
          213.1014919601746,
          207.19835615893948,
          207.78112161160178,
          202.166769124616,
          181.50550986090968,
          194.43987427979866,
          183.24668970007838,
          183.53769446486453,
          183.0426907465238,
          176.4399323691136,
          171.68411779908087,
          180.83861091263475,
          196.23109526102166,
          209.91139418465647,
          201.09519355158244,
          199.13209828546405,
          211.54480772111532,
          217.77815092841203,
          216.89744143874535,
          211.8217296425096,
          242.13126049912896,
          239.42409878688733,
          238.3566883851347,
          234.61922551628737,
          232.70256512227925,
          225.54594614629048,
          212.03320740350767,
          220.02124934297274,
          217.38647811681213,
          203.3021113735544,
          218.41670101118297,
          207.54692560737018,
          214.2651303407872,
          216.0478446736778,
          204.69011244143658,
          204.40274058923887,
          209.56983804049267,
          217.08471435619606,
          222.4325056959724,
          228.2266463793553,
          222.03390271137573,
          214.87931220617912,
          212.43358375728582,
          202.56322328065832,
          194.3857713620723,
          175.009196267506,
          197.00313345780458,
          197.4322802181729,
          182.21877025614847,
          176.97982111287567,
          160.37304663554366,
          161.83180440755604,
          157.40537623381383,
          135.5853882821383,
          145.63857601445255,
          144.38301333096857,
          141.63269547386844,
          152.30081797809353,
          133.06037257146718,
          124.05720083366298,
          90.06927829234145,
          108.46829797072171,
          105.00705888399845,
          117.63726975216969,
          118.04400830577902,
          122.51310151690086,
          123.08442008435532,
          135.11128300451438,
          175.3771715981726,
          181.9761147125257,
          250.21972747725653,
          280.8066534523964,
          296.7609362614581,
          291.7146136351537,
          307.9569685169985,
          305.83677156187787,
          281.911707781961,
          272.67054063985387,
          277.92064570430017,
          272.8195160927958,
          261.55134718366605,
          262.3310745614428,
          273.6592178543241,
          290.78276520941665,
          291.50668091886064,
          300.47388160516437,
          294.53459676898865,
          276.96651493076007,
          288.4296917933241,
          313.5444418321642
         ],
         "yaxis": "y"
        }
       ],
       "layout": {
        "legend": {
         "tracegroupgap": 0
        },
        "template": {
         "data": {
          "bar": [
           {
            "error_x": {
             "color": "#2a3f5f"
            },
            "error_y": {
             "color": "#2a3f5f"
            },
            "marker": {
             "line": {
              "color": "#E5ECF6",
              "width": 0.5
             },
             "pattern": {
              "fillmode": "overlay",
              "size": 10,
              "solidity": 0.2
             }
            },
            "type": "bar"
           }
          ],
          "barpolar": [
           {
            "marker": {
             "line": {
              "color": "#E5ECF6",
              "width": 0.5
             },
             "pattern": {
              "fillmode": "overlay",
              "size": 10,
              "solidity": 0.2
             }
            },
            "type": "barpolar"
           }
          ],
          "carpet": [
           {
            "aaxis": {
             "endlinecolor": "#2a3f5f",
             "gridcolor": "white",
             "linecolor": "white",
             "minorgridcolor": "white",
             "startlinecolor": "#2a3f5f"
            },
            "baxis": {
             "endlinecolor": "#2a3f5f",
             "gridcolor": "white",
             "linecolor": "white",
             "minorgridcolor": "white",
             "startlinecolor": "#2a3f5f"
            },
            "type": "carpet"
           }
          ],
          "choropleth": [
           {
            "colorbar": {
             "outlinewidth": 0,
             "ticks": ""
            },
            "type": "choropleth"
           }
          ],
          "contour": [
           {
            "colorbar": {
             "outlinewidth": 0,
             "ticks": ""
            },
            "colorscale": [
             [
              0,
              "#0d0887"
             ],
             [
              0.1111111111111111,
              "#46039f"
             ],
             [
              0.2222222222222222,
              "#7201a8"
             ],
             [
              0.3333333333333333,
              "#9c179e"
             ],
             [
              0.4444444444444444,
              "#bd3786"
             ],
             [
              0.5555555555555556,
              "#d8576b"
             ],
             [
              0.6666666666666666,
              "#ed7953"
             ],
             [
              0.7777777777777778,
              "#fb9f3a"
             ],
             [
              0.8888888888888888,
              "#fdca26"
             ],
             [
              1,
              "#f0f921"
             ]
            ],
            "type": "contour"
           }
          ],
          "contourcarpet": [
           {
            "colorbar": {
             "outlinewidth": 0,
             "ticks": ""
            },
            "type": "contourcarpet"
           }
          ],
          "heatmap": [
           {
            "colorbar": {
             "outlinewidth": 0,
             "ticks": ""
            },
            "colorscale": [
             [
              0,
              "#0d0887"
             ],
             [
              0.1111111111111111,
              "#46039f"
             ],
             [
              0.2222222222222222,
              "#7201a8"
             ],
             [
              0.3333333333333333,
              "#9c179e"
             ],
             [
              0.4444444444444444,
              "#bd3786"
             ],
             [
              0.5555555555555556,
              "#d8576b"
             ],
             [
              0.6666666666666666,
              "#ed7953"
             ],
             [
              0.7777777777777778,
              "#fb9f3a"
             ],
             [
              0.8888888888888888,
              "#fdca26"
             ],
             [
              1,
              "#f0f921"
             ]
            ],
            "type": "heatmap"
           }
          ],
          "heatmapgl": [
           {
            "colorbar": {
             "outlinewidth": 0,
             "ticks": ""
            },
            "colorscale": [
             [
              0,
              "#0d0887"
             ],
             [
              0.1111111111111111,
              "#46039f"
             ],
             [
              0.2222222222222222,
              "#7201a8"
             ],
             [
              0.3333333333333333,
              "#9c179e"
             ],
             [
              0.4444444444444444,
              "#bd3786"
             ],
             [
              0.5555555555555556,
              "#d8576b"
             ],
             [
              0.6666666666666666,
              "#ed7953"
             ],
             [
              0.7777777777777778,
              "#fb9f3a"
             ],
             [
              0.8888888888888888,
              "#fdca26"
             ],
             [
              1,
              "#f0f921"
             ]
            ],
            "type": "heatmapgl"
           }
          ],
          "histogram": [
           {
            "marker": {
             "pattern": {
              "fillmode": "overlay",
              "size": 10,
              "solidity": 0.2
             }
            },
            "type": "histogram"
           }
          ],
          "histogram2d": [
           {
            "colorbar": {
             "outlinewidth": 0,
             "ticks": ""
            },
            "colorscale": [
             [
              0,
              "#0d0887"
             ],
             [
              0.1111111111111111,
              "#46039f"
             ],
             [
              0.2222222222222222,
              "#7201a8"
             ],
             [
              0.3333333333333333,
              "#9c179e"
             ],
             [
              0.4444444444444444,
              "#bd3786"
             ],
             [
              0.5555555555555556,
              "#d8576b"
             ],
             [
              0.6666666666666666,
              "#ed7953"
             ],
             [
              0.7777777777777778,
              "#fb9f3a"
             ],
             [
              0.8888888888888888,
              "#fdca26"
             ],
             [
              1,
              "#f0f921"
             ]
            ],
            "type": "histogram2d"
           }
          ],
          "histogram2dcontour": [
           {
            "colorbar": {
             "outlinewidth": 0,
             "ticks": ""
            },
            "colorscale": [
             [
              0,
              "#0d0887"
             ],
             [
              0.1111111111111111,
              "#46039f"
             ],
             [
              0.2222222222222222,
              "#7201a8"
             ],
             [
              0.3333333333333333,
              "#9c179e"
             ],
             [
              0.4444444444444444,
              "#bd3786"
             ],
             [
              0.5555555555555556,
              "#d8576b"
             ],
             [
              0.6666666666666666,
              "#ed7953"
             ],
             [
              0.7777777777777778,
              "#fb9f3a"
             ],
             [
              0.8888888888888888,
              "#fdca26"
             ],
             [
              1,
              "#f0f921"
             ]
            ],
            "type": "histogram2dcontour"
           }
          ],
          "mesh3d": [
           {
            "colorbar": {
             "outlinewidth": 0,
             "ticks": ""
            },
            "type": "mesh3d"
           }
          ],
          "parcoords": [
           {
            "line": {
             "colorbar": {
              "outlinewidth": 0,
              "ticks": ""
             }
            },
            "type": "parcoords"
           }
          ],
          "pie": [
           {
            "automargin": true,
            "type": "pie"
           }
          ],
          "scatter": [
           {
            "fillpattern": {
             "fillmode": "overlay",
             "size": 10,
             "solidity": 0.2
            },
            "type": "scatter"
           }
          ],
          "scatter3d": [
           {
            "line": {
             "colorbar": {
              "outlinewidth": 0,
              "ticks": ""
             }
            },
            "marker": {
             "colorbar": {
              "outlinewidth": 0,
              "ticks": ""
             }
            },
            "type": "scatter3d"
           }
          ],
          "scattercarpet": [
           {
            "marker": {
             "colorbar": {
              "outlinewidth": 0,
              "ticks": ""
             }
            },
            "type": "scattercarpet"
           }
          ],
          "scattergeo": [
           {
            "marker": {
             "colorbar": {
              "outlinewidth": 0,
              "ticks": ""
             }
            },
            "type": "scattergeo"
           }
          ],
          "scattergl": [
           {
            "marker": {
             "colorbar": {
              "outlinewidth": 0,
              "ticks": ""
             }
            },
            "type": "scattergl"
           }
          ],
          "scattermapbox": [
           {
            "marker": {
             "colorbar": {
              "outlinewidth": 0,
              "ticks": ""
             }
            },
            "type": "scattermapbox"
           }
          ],
          "scatterpolar": [
           {
            "marker": {
             "colorbar": {
              "outlinewidth": 0,
              "ticks": ""
             }
            },
            "type": "scatterpolar"
           }
          ],
          "scatterpolargl": [
           {
            "marker": {
             "colorbar": {
              "outlinewidth": 0,
              "ticks": ""
             }
            },
            "type": "scatterpolargl"
           }
          ],
          "scatterternary": [
           {
            "marker": {
             "colorbar": {
              "outlinewidth": 0,
              "ticks": ""
             }
            },
            "type": "scatterternary"
           }
          ],
          "surface": [
           {
            "colorbar": {
             "outlinewidth": 0,
             "ticks": ""
            },
            "colorscale": [
             [
              0,
              "#0d0887"
             ],
             [
              0.1111111111111111,
              "#46039f"
             ],
             [
              0.2222222222222222,
              "#7201a8"
             ],
             [
              0.3333333333333333,
              "#9c179e"
             ],
             [
              0.4444444444444444,
              "#bd3786"
             ],
             [
              0.5555555555555556,
              "#d8576b"
             ],
             [
              0.6666666666666666,
              "#ed7953"
             ],
             [
              0.7777777777777778,
              "#fb9f3a"
             ],
             [
              0.8888888888888888,
              "#fdca26"
             ],
             [
              1,
              "#f0f921"
             ]
            ],
            "type": "surface"
           }
          ],
          "table": [
           {
            "cells": {
             "fill": {
              "color": "#EBF0F8"
             },
             "line": {
              "color": "white"
             }
            },
            "header": {
             "fill": {
              "color": "#C8D4E3"
             },
             "line": {
              "color": "white"
             }
            },
            "type": "table"
           }
          ]
         },
         "layout": {
          "annotationdefaults": {
           "arrowcolor": "#2a3f5f",
           "arrowhead": 0,
           "arrowwidth": 1
          },
          "autotypenumbers": "strict",
          "coloraxis": {
           "colorbar": {
            "outlinewidth": 0,
            "ticks": ""
           }
          },
          "colorscale": {
           "diverging": [
            [
             0,
             "#8e0152"
            ],
            [
             0.1,
             "#c51b7d"
            ],
            [
             0.2,
             "#de77ae"
            ],
            [
             0.3,
             "#f1b6da"
            ],
            [
             0.4,
             "#fde0ef"
            ],
            [
             0.5,
             "#f7f7f7"
            ],
            [
             0.6,
             "#e6f5d0"
            ],
            [
             0.7,
             "#b8e186"
            ],
            [
             0.8,
             "#7fbc41"
            ],
            [
             0.9,
             "#4d9221"
            ],
            [
             1,
             "#276419"
            ]
           ],
           "sequential": [
            [
             0,
             "#0d0887"
            ],
            [
             0.1111111111111111,
             "#46039f"
            ],
            [
             0.2222222222222222,
             "#7201a8"
            ],
            [
             0.3333333333333333,
             "#9c179e"
            ],
            [
             0.4444444444444444,
             "#bd3786"
            ],
            [
             0.5555555555555556,
             "#d8576b"
            ],
            [
             0.6666666666666666,
             "#ed7953"
            ],
            [
             0.7777777777777778,
             "#fb9f3a"
            ],
            [
             0.8888888888888888,
             "#fdca26"
            ],
            [
             1,
             "#f0f921"
            ]
           ],
           "sequentialminus": [
            [
             0,
             "#0d0887"
            ],
            [
             0.1111111111111111,
             "#46039f"
            ],
            [
             0.2222222222222222,
             "#7201a8"
            ],
            [
             0.3333333333333333,
             "#9c179e"
            ],
            [
             0.4444444444444444,
             "#bd3786"
            ],
            [
             0.5555555555555556,
             "#d8576b"
            ],
            [
             0.6666666666666666,
             "#ed7953"
            ],
            [
             0.7777777777777778,
             "#fb9f3a"
            ],
            [
             0.8888888888888888,
             "#fdca26"
            ],
            [
             1,
             "#f0f921"
            ]
           ]
          },
          "colorway": [
           "#636efa",
           "#EF553B",
           "#00cc96",
           "#ab63fa",
           "#FFA15A",
           "#19d3f3",
           "#FF6692",
           "#B6E880",
           "#FF97FF",
           "#FECB52"
          ],
          "font": {
           "color": "#2a3f5f"
          },
          "geo": {
           "bgcolor": "white",
           "lakecolor": "white",
           "landcolor": "#E5ECF6",
           "showlakes": true,
           "showland": true,
           "subunitcolor": "white"
          },
          "hoverlabel": {
           "align": "left"
          },
          "hovermode": "closest",
          "mapbox": {
           "style": "light"
          },
          "paper_bgcolor": "white",
          "plot_bgcolor": "#E5ECF6",
          "polar": {
           "angularaxis": {
            "gridcolor": "white",
            "linecolor": "white",
            "ticks": ""
           },
           "bgcolor": "#E5ECF6",
           "radialaxis": {
            "gridcolor": "white",
            "linecolor": "white",
            "ticks": ""
           }
          },
          "scene": {
           "xaxis": {
            "backgroundcolor": "#E5ECF6",
            "gridcolor": "white",
            "gridwidth": 2,
            "linecolor": "white",
            "showbackground": true,
            "ticks": "",
            "zerolinecolor": "white"
           },
           "yaxis": {
            "backgroundcolor": "#E5ECF6",
            "gridcolor": "white",
            "gridwidth": 2,
            "linecolor": "white",
            "showbackground": true,
            "ticks": "",
            "zerolinecolor": "white"
           },
           "zaxis": {
            "backgroundcolor": "#E5ECF6",
            "gridcolor": "white",
            "gridwidth": 2,
            "linecolor": "white",
            "showbackground": true,
            "ticks": "",
            "zerolinecolor": "white"
           }
          },
          "shapedefaults": {
           "line": {
            "color": "#2a3f5f"
           }
          },
          "ternary": {
           "aaxis": {
            "gridcolor": "white",
            "linecolor": "white",
            "ticks": ""
           },
           "baxis": {
            "gridcolor": "white",
            "linecolor": "white",
            "ticks": ""
           },
           "bgcolor": "#E5ECF6",
           "caxis": {
            "gridcolor": "white",
            "linecolor": "white",
            "ticks": ""
           }
          },
          "title": {
           "x": 0.05
          },
          "xaxis": {
           "automargin": true,
           "gridcolor": "white",
           "linecolor": "white",
           "ticks": "",
           "title": {
            "standoff": 15
           },
           "zerolinecolor": "white",
           "zerolinewidth": 2
          },
          "yaxis": {
           "automargin": true,
           "gridcolor": "white",
           "linecolor": "white",
           "ticks": "",
           "title": {
            "standoff": 15
           },
           "zerolinecolor": "white",
           "zerolinewidth": 2
          }
         }
        },
        "title": {
         "text": "Small-minus-Big"
        },
        "xaxis": {
         "anchor": "y",
         "domain": [
          0,
          1
         ],
         "title": {
          "text": "date"
         }
        },
        "yaxis": {
         "anchor": "x",
         "domain": [
          0,
          1
         ],
         "title": {
          "text": "Cumulative returns"
         }
        }
       }
      }
     },
     "metadata": {},
     "output_type": "display_data"
    }
   ],
   "source": [
    "px.line(port_df, y='SMB_cum_rets', x='date', labels={'SMB_cum_rets': 'Cumulative returns'}, title = 'Small-minus-Big').show()"
   ]
  },
  {
   "cell_type": "code",
   "execution_count": 143,
   "id": "57bd7d0f",
   "metadata": {},
   "outputs": [
    {
     "data": {
      "application/vnd.plotly.v1+json": {
       "config": {
        "plotlyServerURL": "https://plot.ly"
       },
       "data": [
        {
         "alignmentgroup": "True",
         "bingroup": "x",
         "hovertemplate": "port=SMB_rets<br>value=%{x}<br>count=%{y}<extra></extra>",
         "legendgroup": "SMB_rets",
         "marker": {
          "color": "#636efa",
          "pattern": {
           "shape": ""
          }
         },
         "name": "SMB_rets",
         "offsetgroup": "SMB_rets",
         "orientation": "v",
         "showlegend": true,
         "type": "histogram",
         "x": [
          null,
          0.05247770925308805,
          0.05047507618152622,
          0.04971294985049911,
          0.03576622422854587,
          -0.033860342126717034,
          -0.03673015102100309,
          -0.06651559337259322,
          -0.028583222524099384,
          0.094721141450663,
          0.06947941965153426,
          0.1509402696485075,
          0.04880485732246622,
          0.08649873125595693,
          0.04277599792693657,
          0.03802103688653208,
          -0.013023253578542497,
          0.02162349652095804,
          0.03935108759252841,
          0.03679262335829976,
          0.09219839448540634,
          -0.01342399283767929,
          -0.019012420121777562,
          0.11686403631523246,
          0.023610578219331917,
          -0.03662209280835667,
          -0.07168390862181574,
          0.007043768844618291,
          -0.02197474320539509,
          -0.009499298788925324,
          -0.03420915653499725,
          0.04763423804102168,
          0.08370205429588598,
          0.1213672560616705,
          0.02751930015956833,
          0.012825054443798934,
          -0.02608632262233555,
          0.00797883889693352,
          0.009044093037803482,
          0.08780314894582408,
          0.0245854791705339,
          0.03946072095377122,
          0.03926541515855843,
          0.04896484137053268,
          0.00786452625131183,
          0.008305045787691069,
          0.002134440245295797,
          0.04096297126667134,
          0.006710400788874395,
          -0.009628638746369683,
          -0.004889461292413301,
          -0.049576992719277325,
          -0.001252284018570679,
          0.00451610615992094,
          0.033110037534477506,
          0.02125252772533255,
          -0.009978679936171072,
          0.014806950594922375,
          -0.022303235079756987,
          0.06642414006090987,
          0.017000843183402274,
          -0.010416270324250857,
          0.021249826799722045,
          0.02493497166156352,
          0.05453802647774951,
          0.04203324026649681,
          0.049595982262706596,
          -0.02298228228625393,
          -0.05090959429463575,
          0.018017144063242105,
          0.022661653198515437,
          -0.014359669403847811,
          0.03587982325236659,
          0.04206325878003007,
          0.06918660606073462,
          0.03218311713643066,
          -0.038432728668865615,
          -0.050784801683110115,
          0.05980214119219374,
          0.001858225949666878,
          -0.029008117353067412,
          -0.024492090471481293,
          0.05550638372064019,
          -0.04084989524661241,
          0.011240489297127022,
          0.02045817648754356,
          -0.05132777375714431,
          0.12274695671314657,
          0.015644938039838435,
          0.011596864971656407,
          0.11263337342947194,
          0.07560358214549318,
          -0.010104736619186618,
          -0.059302105593124155,
          0.0007998942954852732,
          -0.01415462638960932,
          -0.005070191631674284,
          -0.011085400983160215,
          -0.004240329559030351,
          -0.03240173012421074,
          -0.04083628001168044,
          -0.08326367387500652,
          -0.05064675799863955,
          0.05685605986120257,
          0.028961116833207137,
          0.010824312712067782,
          -0.022902402936300074,
          -0.012577145176457402,
          0.002121871442015852,
          -0.0017889921898121067,
          0.08925509837569282,
          0.10319507620568069,
          0.016871973087333417,
          0.01807491748012554,
          -0.010795434226088852,
          0.03201139269817399,
          -0.07822255380053089,
          0.004527513681153075,
          -0.022792639013123686,
          -0.0022127150119803825,
          0.07012657210237161,
          -0.020678715460622138,
          0.06336892547635901,
          0.03831353927510542,
          0.009296714707069241,
          0.045733984402899386,
          -0.021107436773430778,
          0.028333922403295717,
          -0.002488842751842253,
          0.05248689725377516,
          0.08721886767905901,
          0.18844914666455106,
          0.15840602905092233,
          0.03620079744542507,
          0.06900965160850205,
          0.07390245859784127,
          0.055494667272337886,
          -0.019900884862370176,
          0.08138854141037369,
          -0.10442322583348523,
          0.09653979728458134,
          0.020610266356936552,
          0.10433326764221701,
          0.0330260332022415,
          0.010660855329961527,
          0.1279369546805258,
          0.02022500682936057,
          -0.032140181159577,
          0.02526052732282138,
          -0.09888489813343257,
          0.0057674053687485904,
          -0.009120412438990422,
          0.00396261198532083,
          0.15818879456389767,
          0.008009400829920882,
          0.0033692547935240697,
          -0.011277795551745524,
          0.010470429953752651,
          0.12415177025712211,
          0.15777456644011678,
          0.02753810857682541,
          0.06873869130794233,
          0.038947791473825905,
          0.03615721965654912,
          0.038146838714609915,
          0.05992122616601598,
          0.03149660775820563,
          0.062402596476416106,
          0.03805771663164736,
          0.03290332605153917,
          -0.022386810890548205,
          0.007843574651338853,
          0.09912036884170475,
          -0.014900170932108922,
          -0.012062879065508514,
          0.025418468401907146,
          0.013758148220246767,
          0.0893280276697849,
          0.013724129025341258,
          -0.02910014010407689,
          0.006571472627196031,
          0.014048916156646014,
          -0.023813348462990894,
          0.07633249304666068,
          0.061559167675235366,
          0.024983810961218753,
          0.003900921877657027,
          -0.0002485388025286429,
          -0.01216933079165481,
          0.03889079045397383,
          0.007288229433636304,
          0.08153110432731571,
          0.010048529738472542,
          0.0546252154364616,
          0.005150316663555641,
          -0.009602273331731387,
          -0.025090699065492605,
          -0.029748487758820802,
          0.036258670982055,
          -0.012173174289089907,
          0.02646240173775985,
          0.02884086859887299,
          -0.007957708183664765,
          0.01918989785790783,
          0.03896387693348524,
          0.008533227032869677,
          -0.01719866260811188,
          -0.0034601632099676045,
          0.003400128537455285,
          -0.030777205052407233,
          -0.005750888586834134,
          -0.028595396579838953,
          0.01261342101094419,
          -0.043849561552772164,
          -0.010413796835912176,
          0.023438507390812845,
          0.023696865839754423,
          -0.0230880873936461,
          0.020418810002073108,
          0.018843154246062484,
          -0.07595981155679317,
          0.08874804312645157,
          0.1417882568734744,
          -0.03585588540813549,
          -0.1394079831103081,
          -0.14033619404095654,
          0.07080364895975824,
          0.0012232883023359648,
          -0.06970380965929462,
          0.11149735924311248,
          0.5063066299594792,
          0.06380100054073656,
          0.007494109026682337,
          0.09895228830506067,
          0.1610226155114629,
          0.09614466661435841,
          -0.06020684191791916,
          -0.03878238374674808,
          0.08240681874950175,
          0.05424592069510283,
          0.04941337481399567,
          0.04777487604498411,
          0.12568530364121533,
          -0.0035137424584248955,
          -0.07820293604565653,
          0.07849282354720745,
          -0.050989473450123245,
          0.051409997172801106,
          -0.01700895716078864,
          0.04322388103562691,
          0.04615205723153888,
          0.001491005224965163,
          0.01944151216579098,
          0.024440342691881597,
          -0.004638259250256099,
          -0.001778300614695482,
          -0.009650569265266744,
          -0.04718511618080764,
          -0.052645422943652424,
          -0.08796446152116094,
          0.1235465226522692,
          -0.023782174858979942,
          -0.015620088830747648,
          0.06122631127201897,
          -0.013169732868113924,
          0.0015213422999080448,
          -0.034508138990219726,
          -0.019130691338957707,
          0.01890678927989093,
          -0.044888083832232,
          0.03527983030180357,
          0.017544309818360228,
          0.010677036234764296,
          0.016610823150653396,
          0.047938112658881565,
          0.030992422343498686,
          0.015328543792257414,
          0.02459594335895398,
          -0.007114062623387226,
          0.07483639154690266,
          0.015092967217720951,
          0.02950498219970507,
          -0.015666612388769728,
          0.023668701977306784,
          -0.02424327464795217,
          0.026133481489126354,
          0.018210681595531127,
          -0.007074467763524047,
          0.020490324132859075,
          0.001252525205402713,
          -0.04120927974310293,
          -0.019059393842015968,
          0.04540416928536929,
          -0.0557427213627556,
          0.03646134569123773,
          -0.06286751743564552,
          0.047244212395040334,
          0.004525519848466053,
          0.007669132009642584,
          -0.03130912009953013,
          0.04643884812148432,
          0.024443374915207157,
          -0.027701053366338355,
          0.00281259689249295,
          -0.027020512948623454,
          -0.102199087185148,
          0.07126155249392012,
          -0.05756630228845603,
          0.0015880492316802663,
          -0.002697013928305017,
          -0.03607223184100614,
          -0.02695429830523586,
          0.05332172381994725,
          0.08511724498825753,
          0.06971524520839882,
          -0.041999628782983224,
          -0.009762019824779353,
          0.06233404630657353,
          0.0294658293646907,
          -0.0040440672579509715,
          -0.02340143693059286,
          0.14308980909452768,
          -0.011180554326860125,
          -0.004458241284653339,
          -0.015680125840682742,
          -0.008169238432146538,
          -0.03075436221439215,
          -0.059911246349860524,
          0.03767354197620322,
          -0.011975076198451479,
          -0.06478952538938286,
          0.07434546319027882,
          -0.049766228285154104,
          0.032369569984025175,
          0.008320132772211521,
          -0.05257044914933599,
          -0.0014039361685334595,
          0.02527900279789998,
          0.03585857767495811,
          0.02463458265883062,
          0.026048983556848107,
          -0.027134183348976996,
          -0.032222964231264,
          -0.01138187024047535,
          -0.04646327714315083,
          -0.04036987458111225,
          -0.09968103611078888,
          0.1256730369567567,
          0.002178375302138276,
          -0.07705685182388974,
          -0.028750875312725993,
          -0.09383428219616297,
          0.009096028307845734,
          -0.02735202879277507,
          -0.1386228887078391,
          0.07414654233533394,
          -0.008621085963923391,
          -0.019048763380464854,
          0.07532245622052282,
          -0.12633185863383756,
          -0.06766230669441854,
          -0.27396976808216755,
          0.20427630849513226,
          -0.03191014472871618,
          0.12027963645876275,
          0.0034575653996919767,
          0.037859551494940635,
          0.004663326292295787,
          0.09771230925828397,
          0.2980201778730268,
          0.037627149840645954,
          0.37501412134519796,
          0.12224026571973635,
          0.05681590023922388,
          -0.017004672818050428,
          0.05567892084473701,
          -0.006884718229727475,
          -0.07822821192407287,
          -0.03278035954879361,
          0.01925439048943928,
          -0.018354626366735516,
          -0.04130264971695451,
          0.002981163684197069,
          0.04318262070865734,
          0.06257252172739837,
          0.0024895413210705604,
          0.030761561477898672,
          -0.019766393020409674,
          -0.059646921044075804,
          0.04138831318807522,
          0.08707407993500281
         ],
         "xaxis": "x",
         "yaxis": "y"
        }
       ],
       "layout": {
        "barmode": "relative",
        "legend": {
         "title": {
          "text": "port"
         },
         "tracegroupgap": 0
        },
        "margin": {
         "t": 60
        },
        "template": {
         "data": {
          "bar": [
           {
            "error_x": {
             "color": "#2a3f5f"
            },
            "error_y": {
             "color": "#2a3f5f"
            },
            "marker": {
             "line": {
              "color": "#E5ECF6",
              "width": 0.5
             },
             "pattern": {
              "fillmode": "overlay",
              "size": 10,
              "solidity": 0.2
             }
            },
            "type": "bar"
           }
          ],
          "barpolar": [
           {
            "marker": {
             "line": {
              "color": "#E5ECF6",
              "width": 0.5
             },
             "pattern": {
              "fillmode": "overlay",
              "size": 10,
              "solidity": 0.2
             }
            },
            "type": "barpolar"
           }
          ],
          "carpet": [
           {
            "aaxis": {
             "endlinecolor": "#2a3f5f",
             "gridcolor": "white",
             "linecolor": "white",
             "minorgridcolor": "white",
             "startlinecolor": "#2a3f5f"
            },
            "baxis": {
             "endlinecolor": "#2a3f5f",
             "gridcolor": "white",
             "linecolor": "white",
             "minorgridcolor": "white",
             "startlinecolor": "#2a3f5f"
            },
            "type": "carpet"
           }
          ],
          "choropleth": [
           {
            "colorbar": {
             "outlinewidth": 0,
             "ticks": ""
            },
            "type": "choropleth"
           }
          ],
          "contour": [
           {
            "colorbar": {
             "outlinewidth": 0,
             "ticks": ""
            },
            "colorscale": [
             [
              0,
              "#0d0887"
             ],
             [
              0.1111111111111111,
              "#46039f"
             ],
             [
              0.2222222222222222,
              "#7201a8"
             ],
             [
              0.3333333333333333,
              "#9c179e"
             ],
             [
              0.4444444444444444,
              "#bd3786"
             ],
             [
              0.5555555555555556,
              "#d8576b"
             ],
             [
              0.6666666666666666,
              "#ed7953"
             ],
             [
              0.7777777777777778,
              "#fb9f3a"
             ],
             [
              0.8888888888888888,
              "#fdca26"
             ],
             [
              1,
              "#f0f921"
             ]
            ],
            "type": "contour"
           }
          ],
          "contourcarpet": [
           {
            "colorbar": {
             "outlinewidth": 0,
             "ticks": ""
            },
            "type": "contourcarpet"
           }
          ],
          "heatmap": [
           {
            "colorbar": {
             "outlinewidth": 0,
             "ticks": ""
            },
            "colorscale": [
             [
              0,
              "#0d0887"
             ],
             [
              0.1111111111111111,
              "#46039f"
             ],
             [
              0.2222222222222222,
              "#7201a8"
             ],
             [
              0.3333333333333333,
              "#9c179e"
             ],
             [
              0.4444444444444444,
              "#bd3786"
             ],
             [
              0.5555555555555556,
              "#d8576b"
             ],
             [
              0.6666666666666666,
              "#ed7953"
             ],
             [
              0.7777777777777778,
              "#fb9f3a"
             ],
             [
              0.8888888888888888,
              "#fdca26"
             ],
             [
              1,
              "#f0f921"
             ]
            ],
            "type": "heatmap"
           }
          ],
          "heatmapgl": [
           {
            "colorbar": {
             "outlinewidth": 0,
             "ticks": ""
            },
            "colorscale": [
             [
              0,
              "#0d0887"
             ],
             [
              0.1111111111111111,
              "#46039f"
             ],
             [
              0.2222222222222222,
              "#7201a8"
             ],
             [
              0.3333333333333333,
              "#9c179e"
             ],
             [
              0.4444444444444444,
              "#bd3786"
             ],
             [
              0.5555555555555556,
              "#d8576b"
             ],
             [
              0.6666666666666666,
              "#ed7953"
             ],
             [
              0.7777777777777778,
              "#fb9f3a"
             ],
             [
              0.8888888888888888,
              "#fdca26"
             ],
             [
              1,
              "#f0f921"
             ]
            ],
            "type": "heatmapgl"
           }
          ],
          "histogram": [
           {
            "marker": {
             "pattern": {
              "fillmode": "overlay",
              "size": 10,
              "solidity": 0.2
             }
            },
            "type": "histogram"
           }
          ],
          "histogram2d": [
           {
            "colorbar": {
             "outlinewidth": 0,
             "ticks": ""
            },
            "colorscale": [
             [
              0,
              "#0d0887"
             ],
             [
              0.1111111111111111,
              "#46039f"
             ],
             [
              0.2222222222222222,
              "#7201a8"
             ],
             [
              0.3333333333333333,
              "#9c179e"
             ],
             [
              0.4444444444444444,
              "#bd3786"
             ],
             [
              0.5555555555555556,
              "#d8576b"
             ],
             [
              0.6666666666666666,
              "#ed7953"
             ],
             [
              0.7777777777777778,
              "#fb9f3a"
             ],
             [
              0.8888888888888888,
              "#fdca26"
             ],
             [
              1,
              "#f0f921"
             ]
            ],
            "type": "histogram2d"
           }
          ],
          "histogram2dcontour": [
           {
            "colorbar": {
             "outlinewidth": 0,
             "ticks": ""
            },
            "colorscale": [
             [
              0,
              "#0d0887"
             ],
             [
              0.1111111111111111,
              "#46039f"
             ],
             [
              0.2222222222222222,
              "#7201a8"
             ],
             [
              0.3333333333333333,
              "#9c179e"
             ],
             [
              0.4444444444444444,
              "#bd3786"
             ],
             [
              0.5555555555555556,
              "#d8576b"
             ],
             [
              0.6666666666666666,
              "#ed7953"
             ],
             [
              0.7777777777777778,
              "#fb9f3a"
             ],
             [
              0.8888888888888888,
              "#fdca26"
             ],
             [
              1,
              "#f0f921"
             ]
            ],
            "type": "histogram2dcontour"
           }
          ],
          "mesh3d": [
           {
            "colorbar": {
             "outlinewidth": 0,
             "ticks": ""
            },
            "type": "mesh3d"
           }
          ],
          "parcoords": [
           {
            "line": {
             "colorbar": {
              "outlinewidth": 0,
              "ticks": ""
             }
            },
            "type": "parcoords"
           }
          ],
          "pie": [
           {
            "automargin": true,
            "type": "pie"
           }
          ],
          "scatter": [
           {
            "fillpattern": {
             "fillmode": "overlay",
             "size": 10,
             "solidity": 0.2
            },
            "type": "scatter"
           }
          ],
          "scatter3d": [
           {
            "line": {
             "colorbar": {
              "outlinewidth": 0,
              "ticks": ""
             }
            },
            "marker": {
             "colorbar": {
              "outlinewidth": 0,
              "ticks": ""
             }
            },
            "type": "scatter3d"
           }
          ],
          "scattercarpet": [
           {
            "marker": {
             "colorbar": {
              "outlinewidth": 0,
              "ticks": ""
             }
            },
            "type": "scattercarpet"
           }
          ],
          "scattergeo": [
           {
            "marker": {
             "colorbar": {
              "outlinewidth": 0,
              "ticks": ""
             }
            },
            "type": "scattergeo"
           }
          ],
          "scattergl": [
           {
            "marker": {
             "colorbar": {
              "outlinewidth": 0,
              "ticks": ""
             }
            },
            "type": "scattergl"
           }
          ],
          "scattermapbox": [
           {
            "marker": {
             "colorbar": {
              "outlinewidth": 0,
              "ticks": ""
             }
            },
            "type": "scattermapbox"
           }
          ],
          "scatterpolar": [
           {
            "marker": {
             "colorbar": {
              "outlinewidth": 0,
              "ticks": ""
             }
            },
            "type": "scatterpolar"
           }
          ],
          "scatterpolargl": [
           {
            "marker": {
             "colorbar": {
              "outlinewidth": 0,
              "ticks": ""
             }
            },
            "type": "scatterpolargl"
           }
          ],
          "scatterternary": [
           {
            "marker": {
             "colorbar": {
              "outlinewidth": 0,
              "ticks": ""
             }
            },
            "type": "scatterternary"
           }
          ],
          "surface": [
           {
            "colorbar": {
             "outlinewidth": 0,
             "ticks": ""
            },
            "colorscale": [
             [
              0,
              "#0d0887"
             ],
             [
              0.1111111111111111,
              "#46039f"
             ],
             [
              0.2222222222222222,
              "#7201a8"
             ],
             [
              0.3333333333333333,
              "#9c179e"
             ],
             [
              0.4444444444444444,
              "#bd3786"
             ],
             [
              0.5555555555555556,
              "#d8576b"
             ],
             [
              0.6666666666666666,
              "#ed7953"
             ],
             [
              0.7777777777777778,
              "#fb9f3a"
             ],
             [
              0.8888888888888888,
              "#fdca26"
             ],
             [
              1,
              "#f0f921"
             ]
            ],
            "type": "surface"
           }
          ],
          "table": [
           {
            "cells": {
             "fill": {
              "color": "#EBF0F8"
             },
             "line": {
              "color": "white"
             }
            },
            "header": {
             "fill": {
              "color": "#C8D4E3"
             },
             "line": {
              "color": "white"
             }
            },
            "type": "table"
           }
          ]
         },
         "layout": {
          "annotationdefaults": {
           "arrowcolor": "#2a3f5f",
           "arrowhead": 0,
           "arrowwidth": 1
          },
          "autotypenumbers": "strict",
          "coloraxis": {
           "colorbar": {
            "outlinewidth": 0,
            "ticks": ""
           }
          },
          "colorscale": {
           "diverging": [
            [
             0,
             "#8e0152"
            ],
            [
             0.1,
             "#c51b7d"
            ],
            [
             0.2,
             "#de77ae"
            ],
            [
             0.3,
             "#f1b6da"
            ],
            [
             0.4,
             "#fde0ef"
            ],
            [
             0.5,
             "#f7f7f7"
            ],
            [
             0.6,
             "#e6f5d0"
            ],
            [
             0.7,
             "#b8e186"
            ],
            [
             0.8,
             "#7fbc41"
            ],
            [
             0.9,
             "#4d9221"
            ],
            [
             1,
             "#276419"
            ]
           ],
           "sequential": [
            [
             0,
             "#0d0887"
            ],
            [
             0.1111111111111111,
             "#46039f"
            ],
            [
             0.2222222222222222,
             "#7201a8"
            ],
            [
             0.3333333333333333,
             "#9c179e"
            ],
            [
             0.4444444444444444,
             "#bd3786"
            ],
            [
             0.5555555555555556,
             "#d8576b"
            ],
            [
             0.6666666666666666,
             "#ed7953"
            ],
            [
             0.7777777777777778,
             "#fb9f3a"
            ],
            [
             0.8888888888888888,
             "#fdca26"
            ],
            [
             1,
             "#f0f921"
            ]
           ],
           "sequentialminus": [
            [
             0,
             "#0d0887"
            ],
            [
             0.1111111111111111,
             "#46039f"
            ],
            [
             0.2222222222222222,
             "#7201a8"
            ],
            [
             0.3333333333333333,
             "#9c179e"
            ],
            [
             0.4444444444444444,
             "#bd3786"
            ],
            [
             0.5555555555555556,
             "#d8576b"
            ],
            [
             0.6666666666666666,
             "#ed7953"
            ],
            [
             0.7777777777777778,
             "#fb9f3a"
            ],
            [
             0.8888888888888888,
             "#fdca26"
            ],
            [
             1,
             "#f0f921"
            ]
           ]
          },
          "colorway": [
           "#636efa",
           "#EF553B",
           "#00cc96",
           "#ab63fa",
           "#FFA15A",
           "#19d3f3",
           "#FF6692",
           "#B6E880",
           "#FF97FF",
           "#FECB52"
          ],
          "font": {
           "color": "#2a3f5f"
          },
          "geo": {
           "bgcolor": "white",
           "lakecolor": "white",
           "landcolor": "#E5ECF6",
           "showlakes": true,
           "showland": true,
           "subunitcolor": "white"
          },
          "hoverlabel": {
           "align": "left"
          },
          "hovermode": "closest",
          "mapbox": {
           "style": "light"
          },
          "paper_bgcolor": "white",
          "plot_bgcolor": "#E5ECF6",
          "polar": {
           "angularaxis": {
            "gridcolor": "white",
            "linecolor": "white",
            "ticks": ""
           },
           "bgcolor": "#E5ECF6",
           "radialaxis": {
            "gridcolor": "white",
            "linecolor": "white",
            "ticks": ""
           }
          },
          "scene": {
           "xaxis": {
            "backgroundcolor": "#E5ECF6",
            "gridcolor": "white",
            "gridwidth": 2,
            "linecolor": "white",
            "showbackground": true,
            "ticks": "",
            "zerolinecolor": "white"
           },
           "yaxis": {
            "backgroundcolor": "#E5ECF6",
            "gridcolor": "white",
            "gridwidth": 2,
            "linecolor": "white",
            "showbackground": true,
            "ticks": "",
            "zerolinecolor": "white"
           },
           "zaxis": {
            "backgroundcolor": "#E5ECF6",
            "gridcolor": "white",
            "gridwidth": 2,
            "linecolor": "white",
            "showbackground": true,
            "ticks": "",
            "zerolinecolor": "white"
           }
          },
          "shapedefaults": {
           "line": {
            "color": "#2a3f5f"
           }
          },
          "ternary": {
           "aaxis": {
            "gridcolor": "white",
            "linecolor": "white",
            "ticks": ""
           },
           "baxis": {
            "gridcolor": "white",
            "linecolor": "white",
            "ticks": ""
           },
           "bgcolor": "#E5ECF6",
           "caxis": {
            "gridcolor": "white",
            "linecolor": "white",
            "ticks": ""
           }
          },
          "title": {
           "x": 0.05
          },
          "xaxis": {
           "automargin": true,
           "gridcolor": "white",
           "linecolor": "white",
           "ticks": "",
           "title": {
            "standoff": 15
           },
           "zerolinecolor": "white",
           "zerolinewidth": 2
          },
          "yaxis": {
           "automargin": true,
           "gridcolor": "white",
           "linecolor": "white",
           "ticks": "",
           "title": {
            "standoff": 15
           },
           "zerolinecolor": "white",
           "zerolinewidth": 2
          }
         }
        },
        "xaxis": {
         "anchor": "y",
         "domain": [
          0,
          1
         ],
         "title": {
          "text": "value"
         }
        },
        "yaxis": {
         "anchor": "x",
         "domain": [
          0,
          1
         ],
         "title": {
          "text": "count"
         }
        }
       }
      }
     },
     "metadata": {},
     "output_type": "display_data"
    }
   ],
   "source": [
    "px.histogram(port_df[['SMB_rets']]).show()"
   ]
  },
  {
   "cell_type": "code",
   "execution_count": 144,
   "id": "b11c1346",
   "metadata": {},
   "outputs": [],
   "source": [
    "port_df[\"date\"]= pd.to_datetime(port_df.date)"
   ]
  },
  {
   "cell_type": "code",
   "execution_count": 145,
   "id": "4273827e",
   "metadata": {},
   "outputs": [
    {
     "name": "stderr",
     "output_type": "stream",
     "text": [
      "/Library/Frameworks/Python.framework/Versions/3.9/lib/python3.9/site-packages/_plotly_utils/basevalidators.py:105: FutureWarning:\n",
      "\n",
      "The behavior of DatetimeProperties.to_pydatetime is deprecated, in a future version this will return a Series containing python datetime objects instead of an ndarray. To retain the old behavior, call `np.array` on the result\n",
      "\n"
     ]
    },
    {
     "data": {
      "application/vnd.plotly.v1+json": {
       "config": {
        "plotlyServerURL": "https://plot.ly"
       },
       "data": [
        {
         "alignmentgroup": "True",
         "hovertemplate": "date=%{x}<br>SMB_rets=%{y}<extra></extra>",
         "legendgroup": "",
         "marker": {
          "color": [
           "red",
           "green",
           "green",
           "green",
           "green",
           "red",
           "red",
           "red",
           "red",
           "green",
           "green",
           "green",
           "green",
           "green",
           "green",
           "green",
           "red",
           "green",
           "green",
           "green",
           "green",
           "red",
           "red",
           "green",
           "green",
           "red",
           "red",
           "green",
           "red",
           "red",
           "red",
           "green",
           "green",
           "green",
           "green",
           "green",
           "red",
           "green",
           "green",
           "green",
           "green",
           "green",
           "green",
           "green",
           "green",
           "green",
           "green",
           "green",
           "green",
           "red",
           "red",
           "red",
           "red",
           "green",
           "green",
           "green",
           "red",
           "green",
           "red",
           "green",
           "green",
           "red",
           "green",
           "green",
           "green",
           "green",
           "green",
           "red",
           "red",
           "green",
           "green",
           "red",
           "green",
           "green",
           "green",
           "green",
           "red",
           "red",
           "green",
           "green",
           "red",
           "red",
           "green",
           "red",
           "green",
           "green",
           "red",
           "green",
           "green",
           "green",
           "green",
           "green",
           "red",
           "red",
           "green",
           "red",
           "red",
           "red",
           "red",
           "red",
           "red",
           "red",
           "red",
           "green",
           "green",
           "green",
           "red",
           "red",
           "green",
           "red",
           "green",
           "green",
           "green",
           "green",
           "red",
           "green",
           "red",
           "green",
           "red",
           "red",
           "green",
           "red",
           "green",
           "green",
           "green",
           "green",
           "red",
           "green",
           "red",
           "green",
           "green",
           "green",
           "green",
           "green",
           "green",
           "green",
           "green",
           "red",
           "green",
           "red",
           "green",
           "green",
           "green",
           "green",
           "green",
           "green",
           "green",
           "red",
           "green",
           "red",
           "green",
           "red",
           "green",
           "green",
           "green",
           "green",
           "red",
           "green",
           "green",
           "green",
           "green",
           "green",
           "green",
           "green",
           "green",
           "green",
           "green",
           "green",
           "green",
           "green",
           "red",
           "green",
           "green",
           "red",
           "red",
           "green",
           "green",
           "green",
           "green",
           "red",
           "green",
           "green",
           "red",
           "green",
           "green",
           "green",
           "green",
           "red",
           "red",
           "green",
           "green",
           "green",
           "green",
           "green",
           "green",
           "red",
           "red",
           "red",
           "green",
           "red",
           "green",
           "green",
           "red",
           "green",
           "green",
           "green",
           "red",
           "red",
           "green",
           "red",
           "red",
           "red",
           "green",
           "red",
           "red",
           "green",
           "green",
           "red",
           "green",
           "green",
           "red",
           "green",
           "green",
           "red",
           "red",
           "red",
           "green",
           "green",
           "red",
           "green",
           "green",
           "green",
           "green",
           "green",
           "green",
           "green",
           "red",
           "red",
           "green",
           "green",
           "green",
           "green",
           "green",
           "red",
           "red",
           "green",
           "red",
           "green",
           "red",
           "green",
           "green",
           "green",
           "green",
           "green",
           "red",
           "red",
           "red",
           "red",
           "red",
           "red",
           "green",
           "red",
           "red",
           "green",
           "red",
           "green",
           "red",
           "red",
           "green",
           "red",
           "green",
           "green",
           "green",
           "green",
           "green",
           "green",
           "green",
           "green",
           "red",
           "green",
           "green",
           "green",
           "red",
           "green",
           "red",
           "green",
           "green",
           "red",
           "green",
           "green",
           "red",
           "red",
           "green",
           "red",
           "green",
           "red",
           "green",
           "green",
           "green",
           "red",
           "green",
           "green",
           "red",
           "green",
           "red",
           "red",
           "green",
           "red",
           "green",
           "red",
           "red",
           "red",
           "green",
           "green",
           "green",
           "red",
           "red",
           "green",
           "green",
           "red",
           "red",
           "green",
           "red",
           "red",
           "red",
           "red",
           "red",
           "red",
           "green",
           "red",
           "red",
           "green",
           "red",
           "green",
           "green",
           "red",
           "red",
           "green",
           "green",
           "green",
           "green",
           "red",
           "red",
           "red",
           "red",
           "red",
           "red",
           "green",
           "green",
           "red",
           "red",
           "red",
           "green",
           "red",
           "red",
           "green",
           "red",
           "red",
           "green",
           "red",
           "red",
           "red",
           "green",
           "red",
           "green",
           "green",
           "green",
           "green",
           "green",
           "green",
           "green",
           "green",
           "green",
           "green",
           "red",
           "green",
           "red",
           "red",
           "red",
           "green",
           "red",
           "red",
           "green",
           "green",
           "green",
           "green",
           "green",
           "red",
           "red",
           "green",
           "green"
          ],
          "pattern": {
           "shape": ""
          }
         },
         "name": "",
         "offsetgroup": "",
         "orientation": "v",
         "showlegend": false,
         "textposition": "auto",
         "type": "bar",
         "x": [
          "1990-02-28T00:00:00",
          "1990-03-31T00:00:00",
          "1990-04-30T00:00:00",
          "1990-05-31T00:00:00",
          "1990-06-30T00:00:00",
          "1990-07-31T00:00:00",
          "1990-08-31T00:00:00",
          "1990-09-30T00:00:00",
          "1990-10-31T00:00:00",
          "1990-11-30T00:00:00",
          "1990-12-31T00:00:00",
          "1991-01-31T00:00:00",
          "1991-02-28T00:00:00",
          "1991-03-31T00:00:00",
          "1991-04-30T00:00:00",
          "1991-05-31T00:00:00",
          "1991-06-30T00:00:00",
          "1991-07-31T00:00:00",
          "1991-08-31T00:00:00",
          "1991-09-30T00:00:00",
          "1991-10-31T00:00:00",
          "1991-11-30T00:00:00",
          "1991-12-31T00:00:00",
          "1992-01-31T00:00:00",
          "1992-02-29T00:00:00",
          "1992-03-31T00:00:00",
          "1992-04-30T00:00:00",
          "1992-05-31T00:00:00",
          "1992-06-30T00:00:00",
          "1992-07-31T00:00:00",
          "1992-08-31T00:00:00",
          "1992-09-30T00:00:00",
          "1992-10-31T00:00:00",
          "1992-11-30T00:00:00",
          "1992-12-31T00:00:00",
          "1993-01-31T00:00:00",
          "1993-02-28T00:00:00",
          "1993-03-31T00:00:00",
          "1993-04-30T00:00:00",
          "1993-05-31T00:00:00",
          "1993-06-30T00:00:00",
          "1993-07-31T00:00:00",
          "1993-08-31T00:00:00",
          "1993-09-30T00:00:00",
          "1993-10-31T00:00:00",
          "1993-11-30T00:00:00",
          "1993-12-31T00:00:00",
          "1994-01-31T00:00:00",
          "1994-02-28T00:00:00",
          "1994-03-31T00:00:00",
          "1994-04-30T00:00:00",
          "1994-05-31T00:00:00",
          "1994-06-30T00:00:00",
          "1994-07-31T00:00:00",
          "1994-08-31T00:00:00",
          "1994-09-30T00:00:00",
          "1994-10-31T00:00:00",
          "1994-11-30T00:00:00",
          "1994-12-31T00:00:00",
          "1995-01-31T00:00:00",
          "1995-02-28T00:00:00",
          "1995-03-31T00:00:00",
          "1995-04-30T00:00:00",
          "1995-05-31T00:00:00",
          "1995-06-30T00:00:00",
          "1995-07-31T00:00:00",
          "1995-08-31T00:00:00",
          "1995-09-30T00:00:00",
          "1995-10-31T00:00:00",
          "1995-11-30T00:00:00",
          "1995-12-31T00:00:00",
          "1996-01-31T00:00:00",
          "1996-02-29T00:00:00",
          "1996-03-31T00:00:00",
          "1996-04-30T00:00:00",
          "1996-05-31T00:00:00",
          "1996-06-30T00:00:00",
          "1996-07-31T00:00:00",
          "1996-08-31T00:00:00",
          "1996-09-30T00:00:00",
          "1996-10-31T00:00:00",
          "1996-11-30T00:00:00",
          "1996-12-31T00:00:00",
          "1997-01-31T00:00:00",
          "1997-02-28T00:00:00",
          "1997-03-31T00:00:00",
          "1997-04-30T00:00:00",
          "1997-05-31T00:00:00",
          "1997-06-30T00:00:00",
          "1997-07-31T00:00:00",
          "1997-08-31T00:00:00",
          "1997-09-30T00:00:00",
          "1997-10-31T00:00:00",
          "1997-11-30T00:00:00",
          "1997-12-31T00:00:00",
          "1998-01-31T00:00:00",
          "1998-02-28T00:00:00",
          "1998-03-31T00:00:00",
          "1998-04-30T00:00:00",
          "1998-05-31T00:00:00",
          "1998-06-30T00:00:00",
          "1998-07-31T00:00:00",
          "1998-08-31T00:00:00",
          "1998-09-30T00:00:00",
          "1998-10-31T00:00:00",
          "1998-11-30T00:00:00",
          "1998-12-31T00:00:00",
          "1999-01-31T00:00:00",
          "1999-02-28T00:00:00",
          "1999-03-31T00:00:00",
          "1999-04-30T00:00:00",
          "1999-05-31T00:00:00",
          "1999-06-30T00:00:00",
          "1999-07-31T00:00:00",
          "1999-08-31T00:00:00",
          "1999-09-30T00:00:00",
          "1999-10-31T00:00:00",
          "1999-11-30T00:00:00",
          "1999-12-31T00:00:00",
          "2000-01-31T00:00:00",
          "2000-02-29T00:00:00",
          "2000-03-31T00:00:00",
          "2000-04-30T00:00:00",
          "2000-05-31T00:00:00",
          "2000-06-30T00:00:00",
          "2000-07-31T00:00:00",
          "2000-08-31T00:00:00",
          "2000-09-30T00:00:00",
          "2000-10-31T00:00:00",
          "2000-11-30T00:00:00",
          "2000-12-31T00:00:00",
          "2001-01-31T00:00:00",
          "2001-02-28T00:00:00",
          "2001-03-31T00:00:00",
          "2001-04-30T00:00:00",
          "2001-05-31T00:00:00",
          "2001-06-30T00:00:00",
          "2001-07-31T00:00:00",
          "2001-08-31T00:00:00",
          "2001-09-30T00:00:00",
          "2001-10-31T00:00:00",
          "2001-11-30T00:00:00",
          "2001-12-31T00:00:00",
          "2002-01-31T00:00:00",
          "2002-02-28T00:00:00",
          "2002-03-31T00:00:00",
          "2002-04-30T00:00:00",
          "2002-05-31T00:00:00",
          "2002-06-30T00:00:00",
          "2002-07-31T00:00:00",
          "2002-08-31T00:00:00",
          "2002-09-30T00:00:00",
          "2002-10-31T00:00:00",
          "2002-11-30T00:00:00",
          "2002-12-31T00:00:00",
          "2003-01-31T00:00:00",
          "2003-02-28T00:00:00",
          "2003-03-31T00:00:00",
          "2003-04-30T00:00:00",
          "2003-05-31T00:00:00",
          "2003-06-30T00:00:00",
          "2003-07-31T00:00:00",
          "2003-08-31T00:00:00",
          "2003-09-30T00:00:00",
          "2003-10-31T00:00:00",
          "2003-11-30T00:00:00",
          "2003-12-31T00:00:00",
          "2004-01-31T00:00:00",
          "2004-02-29T00:00:00",
          "2004-03-31T00:00:00",
          "2004-04-30T00:00:00",
          "2004-05-31T00:00:00",
          "2004-06-30T00:00:00",
          "2004-07-31T00:00:00",
          "2004-08-31T00:00:00",
          "2004-09-30T00:00:00",
          "2004-10-31T00:00:00",
          "2004-11-30T00:00:00",
          "2004-12-31T00:00:00",
          "2005-01-31T00:00:00",
          "2005-02-28T00:00:00",
          "2005-03-31T00:00:00",
          "2005-04-30T00:00:00",
          "2005-05-31T00:00:00",
          "2005-06-30T00:00:00",
          "2005-07-31T00:00:00",
          "2005-08-31T00:00:00",
          "2005-09-30T00:00:00",
          "2005-10-31T00:00:00",
          "2005-11-30T00:00:00",
          "2005-12-31T00:00:00",
          "2006-01-31T00:00:00",
          "2006-02-28T00:00:00",
          "2006-03-31T00:00:00",
          "2006-04-30T00:00:00",
          "2006-05-31T00:00:00",
          "2006-06-30T00:00:00",
          "2006-07-31T00:00:00",
          "2006-08-31T00:00:00",
          "2006-09-30T00:00:00",
          "2006-10-31T00:00:00",
          "2006-11-30T00:00:00",
          "2006-12-31T00:00:00",
          "2007-01-31T00:00:00",
          "2007-02-28T00:00:00",
          "2007-03-31T00:00:00",
          "2007-04-30T00:00:00",
          "2007-05-31T00:00:00",
          "2007-06-30T00:00:00",
          "2007-07-31T00:00:00",
          "2007-08-31T00:00:00",
          "2007-09-30T00:00:00",
          "2007-10-31T00:00:00",
          "2007-11-30T00:00:00",
          "2007-12-31T00:00:00",
          "2008-01-31T00:00:00",
          "2008-02-29T00:00:00",
          "2008-03-31T00:00:00",
          "2008-04-30T00:00:00",
          "2008-05-31T00:00:00",
          "2008-06-30T00:00:00",
          "2008-07-31T00:00:00",
          "2008-08-31T00:00:00",
          "2008-09-30T00:00:00",
          "2008-10-31T00:00:00",
          "2008-11-30T00:00:00",
          "2008-12-31T00:00:00",
          "2009-01-31T00:00:00",
          "2009-02-28T00:00:00",
          "2009-03-31T00:00:00",
          "2009-04-30T00:00:00",
          "2009-05-31T00:00:00",
          "2009-06-30T00:00:00",
          "2009-07-31T00:00:00",
          "2009-08-31T00:00:00",
          "2009-09-30T00:00:00",
          "2009-10-31T00:00:00",
          "2009-11-30T00:00:00",
          "2009-12-31T00:00:00",
          "2010-01-31T00:00:00",
          "2010-02-28T00:00:00",
          "2010-03-31T00:00:00",
          "2010-04-30T00:00:00",
          "2010-05-31T00:00:00",
          "2010-06-30T00:00:00",
          "2010-07-31T00:00:00",
          "2010-08-31T00:00:00",
          "2010-09-30T00:00:00",
          "2010-10-31T00:00:00",
          "2010-11-30T00:00:00",
          "2010-12-31T00:00:00",
          "2011-01-31T00:00:00",
          "2011-02-28T00:00:00",
          "2011-03-31T00:00:00",
          "2011-04-30T00:00:00",
          "2011-05-31T00:00:00",
          "2011-06-30T00:00:00",
          "2011-07-31T00:00:00",
          "2011-08-31T00:00:00",
          "2011-09-30T00:00:00",
          "2011-10-31T00:00:00",
          "2011-11-30T00:00:00",
          "2011-12-31T00:00:00",
          "2012-01-31T00:00:00",
          "2012-02-29T00:00:00",
          "2012-03-31T00:00:00",
          "2012-04-30T00:00:00",
          "2012-05-31T00:00:00",
          "2012-06-30T00:00:00",
          "2012-07-31T00:00:00",
          "2012-08-31T00:00:00",
          "2012-09-30T00:00:00",
          "2012-10-31T00:00:00",
          "2012-11-30T00:00:00",
          "2012-12-31T00:00:00",
          "2013-01-31T00:00:00",
          "2013-02-28T00:00:00",
          "2013-03-31T00:00:00",
          "2013-04-30T00:00:00",
          "2013-05-31T00:00:00",
          "2013-06-30T00:00:00",
          "2013-07-31T00:00:00",
          "2013-08-31T00:00:00",
          "2013-09-30T00:00:00",
          "2013-10-31T00:00:00",
          "2013-11-30T00:00:00",
          "2013-12-31T00:00:00",
          "2014-01-31T00:00:00",
          "2014-02-28T00:00:00",
          "2014-03-31T00:00:00",
          "2014-04-30T00:00:00",
          "2014-05-31T00:00:00",
          "2014-06-30T00:00:00",
          "2014-07-31T00:00:00",
          "2014-08-31T00:00:00",
          "2014-09-30T00:00:00",
          "2014-10-31T00:00:00",
          "2014-11-30T00:00:00",
          "2014-12-31T00:00:00",
          "2015-01-31T00:00:00",
          "2015-02-28T00:00:00",
          "2015-03-31T00:00:00",
          "2015-04-30T00:00:00",
          "2015-05-31T00:00:00",
          "2015-06-30T00:00:00",
          "2015-07-31T00:00:00",
          "2015-08-31T00:00:00",
          "2015-09-30T00:00:00",
          "2015-10-31T00:00:00",
          "2015-11-30T00:00:00",
          "2015-12-31T00:00:00",
          "2016-01-31T00:00:00",
          "2016-02-29T00:00:00",
          "2016-03-31T00:00:00",
          "2016-04-30T00:00:00",
          "2016-05-31T00:00:00",
          "2016-06-30T00:00:00",
          "2016-07-31T00:00:00",
          "2016-08-31T00:00:00",
          "2016-09-30T00:00:00",
          "2016-10-31T00:00:00",
          "2016-11-30T00:00:00",
          "2016-12-31T00:00:00",
          "2017-01-31T00:00:00",
          "2017-02-28T00:00:00",
          "2017-03-31T00:00:00",
          "2017-04-30T00:00:00",
          "2017-05-31T00:00:00",
          "2017-06-30T00:00:00",
          "2017-07-31T00:00:00",
          "2017-08-31T00:00:00",
          "2017-09-30T00:00:00",
          "2017-10-31T00:00:00",
          "2017-11-30T00:00:00",
          "2017-12-31T00:00:00",
          "2018-01-31T00:00:00",
          "2018-02-28T00:00:00",
          "2018-03-31T00:00:00",
          "2018-04-30T00:00:00",
          "2018-05-31T00:00:00",
          "2018-06-30T00:00:00",
          "2018-07-31T00:00:00",
          "2018-08-31T00:00:00",
          "2018-09-30T00:00:00",
          "2018-10-31T00:00:00",
          "2018-11-30T00:00:00",
          "2018-12-31T00:00:00",
          "2019-01-31T00:00:00",
          "2019-02-28T00:00:00",
          "2019-03-31T00:00:00",
          "2019-04-30T00:00:00",
          "2019-05-31T00:00:00",
          "2019-06-30T00:00:00",
          "2019-07-31T00:00:00",
          "2019-08-31T00:00:00",
          "2019-09-30T00:00:00",
          "2019-10-31T00:00:00",
          "2019-11-30T00:00:00",
          "2019-12-31T00:00:00",
          "2020-01-31T00:00:00",
          "2020-02-29T00:00:00",
          "2020-03-31T00:00:00",
          "2020-04-30T00:00:00",
          "2020-05-31T00:00:00",
          "2020-06-30T00:00:00",
          "2020-07-31T00:00:00",
          "2020-08-31T00:00:00",
          "2020-09-30T00:00:00",
          "2020-10-31T00:00:00",
          "2020-11-30T00:00:00",
          "2020-12-31T00:00:00",
          "2021-01-31T00:00:00",
          "2021-02-28T00:00:00",
          "2021-03-31T00:00:00",
          "2021-04-30T00:00:00",
          "2021-05-31T00:00:00",
          "2021-06-30T00:00:00",
          "2021-07-31T00:00:00",
          "2021-08-31T00:00:00",
          "2021-09-30T00:00:00",
          "2021-10-31T00:00:00",
          "2021-11-30T00:00:00",
          "2021-12-31T00:00:00",
          "2022-01-31T00:00:00",
          "2022-02-28T00:00:00",
          "2022-03-31T00:00:00",
          "2022-04-30T00:00:00",
          "2022-05-31T00:00:00",
          "2022-06-30T00:00:00",
          "2022-07-31T00:00:00",
          "2022-08-31T00:00:00"
         ],
         "xaxis": "x",
         "y": [
          null,
          0.05247770925308805,
          0.05047507618152622,
          0.04971294985049911,
          0.03576622422854587,
          -0.033860342126717034,
          -0.03673015102100309,
          -0.06651559337259322,
          -0.028583222524099384,
          0.094721141450663,
          0.06947941965153426,
          0.1509402696485075,
          0.04880485732246622,
          0.08649873125595693,
          0.04277599792693657,
          0.03802103688653208,
          -0.013023253578542497,
          0.02162349652095804,
          0.03935108759252841,
          0.03679262335829976,
          0.09219839448540634,
          -0.01342399283767929,
          -0.019012420121777562,
          0.11686403631523246,
          0.023610578219331917,
          -0.03662209280835667,
          -0.07168390862181574,
          0.007043768844618291,
          -0.02197474320539509,
          -0.009499298788925324,
          -0.03420915653499725,
          0.04763423804102168,
          0.08370205429588598,
          0.1213672560616705,
          0.02751930015956833,
          0.012825054443798934,
          -0.02608632262233555,
          0.00797883889693352,
          0.009044093037803482,
          0.08780314894582408,
          0.0245854791705339,
          0.03946072095377122,
          0.03926541515855843,
          0.04896484137053268,
          0.00786452625131183,
          0.008305045787691069,
          0.002134440245295797,
          0.04096297126667134,
          0.006710400788874395,
          -0.009628638746369683,
          -0.004889461292413301,
          -0.049576992719277325,
          -0.001252284018570679,
          0.00451610615992094,
          0.033110037534477506,
          0.02125252772533255,
          -0.009978679936171072,
          0.014806950594922375,
          -0.022303235079756987,
          0.06642414006090987,
          0.017000843183402274,
          -0.010416270324250857,
          0.021249826799722045,
          0.02493497166156352,
          0.05453802647774951,
          0.04203324026649681,
          0.049595982262706596,
          -0.02298228228625393,
          -0.05090959429463575,
          0.018017144063242105,
          0.022661653198515437,
          -0.014359669403847811,
          0.03587982325236659,
          0.04206325878003007,
          0.06918660606073462,
          0.03218311713643066,
          -0.038432728668865615,
          -0.050784801683110115,
          0.05980214119219374,
          0.001858225949666878,
          -0.029008117353067412,
          -0.024492090471481293,
          0.05550638372064019,
          -0.04084989524661241,
          0.011240489297127022,
          0.02045817648754356,
          -0.05132777375714431,
          0.12274695671314657,
          0.015644938039838435,
          0.011596864971656407,
          0.11263337342947194,
          0.07560358214549318,
          -0.010104736619186618,
          -0.059302105593124155,
          0.0007998942954852732,
          -0.01415462638960932,
          -0.005070191631674284,
          -0.011085400983160215,
          -0.004240329559030351,
          -0.03240173012421074,
          -0.04083628001168044,
          -0.08326367387500652,
          -0.05064675799863955,
          0.05685605986120257,
          0.028961116833207137,
          0.010824312712067782,
          -0.022902402936300074,
          -0.012577145176457402,
          0.002121871442015852,
          -0.0017889921898121067,
          0.08925509837569282,
          0.10319507620568069,
          0.016871973087333417,
          0.01807491748012554,
          -0.010795434226088852,
          0.03201139269817399,
          -0.07822255380053089,
          0.004527513681153075,
          -0.022792639013123686,
          -0.0022127150119803825,
          0.07012657210237161,
          -0.020678715460622138,
          0.06336892547635901,
          0.03831353927510542,
          0.009296714707069241,
          0.045733984402899386,
          -0.021107436773430778,
          0.028333922403295717,
          -0.002488842751842253,
          0.05248689725377516,
          0.08721886767905901,
          0.18844914666455106,
          0.15840602905092233,
          0.03620079744542507,
          0.06900965160850205,
          0.07390245859784127,
          0.055494667272337886,
          -0.019900884862370176,
          0.08138854141037369,
          -0.10442322583348523,
          0.09653979728458134,
          0.020610266356936552,
          0.10433326764221701,
          0.0330260332022415,
          0.010660855329961527,
          0.1279369546805258,
          0.02022500682936057,
          -0.032140181159577,
          0.02526052732282138,
          -0.09888489813343257,
          0.0057674053687485904,
          -0.009120412438990422,
          0.00396261198532083,
          0.15818879456389767,
          0.008009400829920882,
          0.0033692547935240697,
          -0.011277795551745524,
          0.010470429953752651,
          0.12415177025712211,
          0.15777456644011678,
          0.02753810857682541,
          0.06873869130794233,
          0.038947791473825905,
          0.03615721965654912,
          0.038146838714609915,
          0.05992122616601598,
          0.03149660775820563,
          0.062402596476416106,
          0.03805771663164736,
          0.03290332605153917,
          -0.022386810890548205,
          0.007843574651338853,
          0.09912036884170475,
          -0.014900170932108922,
          -0.012062879065508514,
          0.025418468401907146,
          0.013758148220246767,
          0.0893280276697849,
          0.013724129025341258,
          -0.02910014010407689,
          0.006571472627196031,
          0.014048916156646014,
          -0.023813348462990894,
          0.07633249304666068,
          0.061559167675235366,
          0.024983810961218753,
          0.003900921877657027,
          -0.0002485388025286429,
          -0.01216933079165481,
          0.03889079045397383,
          0.007288229433636304,
          0.08153110432731571,
          0.010048529738472542,
          0.0546252154364616,
          0.005150316663555641,
          -0.009602273331731387,
          -0.025090699065492605,
          -0.029748487758820802,
          0.036258670982055,
          -0.012173174289089907,
          0.02646240173775985,
          0.02884086859887299,
          -0.007957708183664765,
          0.01918989785790783,
          0.03896387693348524,
          0.008533227032869677,
          -0.01719866260811188,
          -0.0034601632099676045,
          0.003400128537455285,
          -0.030777205052407233,
          -0.005750888586834134,
          -0.028595396579838953,
          0.01261342101094419,
          -0.043849561552772164,
          -0.010413796835912176,
          0.023438507390812845,
          0.023696865839754423,
          -0.0230880873936461,
          0.020418810002073108,
          0.018843154246062484,
          -0.07595981155679317,
          0.08874804312645157,
          0.1417882568734744,
          -0.03585588540813549,
          -0.1394079831103081,
          -0.14033619404095654,
          0.07080364895975824,
          0.0012232883023359648,
          -0.06970380965929462,
          0.11149735924311248,
          0.5063066299594792,
          0.06380100054073656,
          0.007494109026682337,
          0.09895228830506067,
          0.1610226155114629,
          0.09614466661435841,
          -0.06020684191791916,
          -0.03878238374674808,
          0.08240681874950175,
          0.05424592069510283,
          0.04941337481399567,
          0.04777487604498411,
          0.12568530364121533,
          -0.0035137424584248955,
          -0.07820293604565653,
          0.07849282354720745,
          -0.050989473450123245,
          0.051409997172801106,
          -0.01700895716078864,
          0.04322388103562691,
          0.04615205723153888,
          0.001491005224965163,
          0.01944151216579098,
          0.024440342691881597,
          -0.004638259250256099,
          -0.001778300614695482,
          -0.009650569265266744,
          -0.04718511618080764,
          -0.052645422943652424,
          -0.08796446152116094,
          0.1235465226522692,
          -0.023782174858979942,
          -0.015620088830747648,
          0.06122631127201897,
          -0.013169732868113924,
          0.0015213422999080448,
          -0.034508138990219726,
          -0.019130691338957707,
          0.01890678927989093,
          -0.044888083832232,
          0.03527983030180357,
          0.017544309818360228,
          0.010677036234764296,
          0.016610823150653396,
          0.047938112658881565,
          0.030992422343498686,
          0.015328543792257414,
          0.02459594335895398,
          -0.007114062623387226,
          0.07483639154690266,
          0.015092967217720951,
          0.02950498219970507,
          -0.015666612388769728,
          0.023668701977306784,
          -0.02424327464795217,
          0.026133481489126354,
          0.018210681595531127,
          -0.007074467763524047,
          0.020490324132859075,
          0.001252525205402713,
          -0.04120927974310293,
          -0.019059393842015968,
          0.04540416928536929,
          -0.0557427213627556,
          0.03646134569123773,
          -0.06286751743564552,
          0.047244212395040334,
          0.004525519848466053,
          0.007669132009642584,
          -0.03130912009953013,
          0.04643884812148432,
          0.024443374915207157,
          -0.027701053366338355,
          0.00281259689249295,
          -0.027020512948623454,
          -0.102199087185148,
          0.07126155249392012,
          -0.05756630228845603,
          0.0015880492316802663,
          -0.002697013928305017,
          -0.03607223184100614,
          -0.02695429830523586,
          0.05332172381994725,
          0.08511724498825753,
          0.06971524520839882,
          -0.041999628782983224,
          -0.009762019824779353,
          0.06233404630657353,
          0.0294658293646907,
          -0.0040440672579509715,
          -0.02340143693059286,
          0.14308980909452768,
          -0.011180554326860125,
          -0.004458241284653339,
          -0.015680125840682742,
          -0.008169238432146538,
          -0.03075436221439215,
          -0.059911246349860524,
          0.03767354197620322,
          -0.011975076198451479,
          -0.06478952538938286,
          0.07434546319027882,
          -0.049766228285154104,
          0.032369569984025175,
          0.008320132772211521,
          -0.05257044914933599,
          -0.0014039361685334595,
          0.02527900279789998,
          0.03585857767495811,
          0.02463458265883062,
          0.026048983556848107,
          -0.027134183348976996,
          -0.032222964231264,
          -0.01138187024047535,
          -0.04646327714315083,
          -0.04036987458111225,
          -0.09968103611078888,
          0.1256730369567567,
          0.002178375302138276,
          -0.07705685182388974,
          -0.028750875312725993,
          -0.09383428219616297,
          0.009096028307845734,
          -0.02735202879277507,
          -0.1386228887078391,
          0.07414654233533394,
          -0.008621085963923391,
          -0.019048763380464854,
          0.07532245622052282,
          -0.12633185863383756,
          -0.06766230669441854,
          -0.27396976808216755,
          0.20427630849513226,
          -0.03191014472871618,
          0.12027963645876275,
          0.0034575653996919767,
          0.037859551494940635,
          0.004663326292295787,
          0.09771230925828397,
          0.2980201778730268,
          0.037627149840645954,
          0.37501412134519796,
          0.12224026571973635,
          0.05681590023922388,
          -0.017004672818050428,
          0.05567892084473701,
          -0.006884718229727475,
          -0.07822821192407287,
          -0.03278035954879361,
          0.01925439048943928,
          -0.018354626366735516,
          -0.04130264971695451,
          0.002981163684197069,
          0.04318262070865734,
          0.06257252172739837,
          0.0024895413210705604,
          0.030761561477898672,
          -0.019766393020409674,
          -0.059646921044075804,
          0.04138831318807522,
          0.08707407993500281
         ],
         "yaxis": "y"
        }
       ],
       "layout": {
        "barmode": "relative",
        "legend": {
         "tracegroupgap": 0
        },
        "margin": {
         "t": 60
        },
        "template": {
         "data": {
          "bar": [
           {
            "error_x": {
             "color": "#2a3f5f"
            },
            "error_y": {
             "color": "#2a3f5f"
            },
            "marker": {
             "line": {
              "color": "#E5ECF6",
              "width": 0.5
             },
             "pattern": {
              "fillmode": "overlay",
              "size": 10,
              "solidity": 0.2
             }
            },
            "type": "bar"
           }
          ],
          "barpolar": [
           {
            "marker": {
             "line": {
              "color": "#E5ECF6",
              "width": 0.5
             },
             "pattern": {
              "fillmode": "overlay",
              "size": 10,
              "solidity": 0.2
             }
            },
            "type": "barpolar"
           }
          ],
          "carpet": [
           {
            "aaxis": {
             "endlinecolor": "#2a3f5f",
             "gridcolor": "white",
             "linecolor": "white",
             "minorgridcolor": "white",
             "startlinecolor": "#2a3f5f"
            },
            "baxis": {
             "endlinecolor": "#2a3f5f",
             "gridcolor": "white",
             "linecolor": "white",
             "minorgridcolor": "white",
             "startlinecolor": "#2a3f5f"
            },
            "type": "carpet"
           }
          ],
          "choropleth": [
           {
            "colorbar": {
             "outlinewidth": 0,
             "ticks": ""
            },
            "type": "choropleth"
           }
          ],
          "contour": [
           {
            "colorbar": {
             "outlinewidth": 0,
             "ticks": ""
            },
            "colorscale": [
             [
              0,
              "#0d0887"
             ],
             [
              0.1111111111111111,
              "#46039f"
             ],
             [
              0.2222222222222222,
              "#7201a8"
             ],
             [
              0.3333333333333333,
              "#9c179e"
             ],
             [
              0.4444444444444444,
              "#bd3786"
             ],
             [
              0.5555555555555556,
              "#d8576b"
             ],
             [
              0.6666666666666666,
              "#ed7953"
             ],
             [
              0.7777777777777778,
              "#fb9f3a"
             ],
             [
              0.8888888888888888,
              "#fdca26"
             ],
             [
              1,
              "#f0f921"
             ]
            ],
            "type": "contour"
           }
          ],
          "contourcarpet": [
           {
            "colorbar": {
             "outlinewidth": 0,
             "ticks": ""
            },
            "type": "contourcarpet"
           }
          ],
          "heatmap": [
           {
            "colorbar": {
             "outlinewidth": 0,
             "ticks": ""
            },
            "colorscale": [
             [
              0,
              "#0d0887"
             ],
             [
              0.1111111111111111,
              "#46039f"
             ],
             [
              0.2222222222222222,
              "#7201a8"
             ],
             [
              0.3333333333333333,
              "#9c179e"
             ],
             [
              0.4444444444444444,
              "#bd3786"
             ],
             [
              0.5555555555555556,
              "#d8576b"
             ],
             [
              0.6666666666666666,
              "#ed7953"
             ],
             [
              0.7777777777777778,
              "#fb9f3a"
             ],
             [
              0.8888888888888888,
              "#fdca26"
             ],
             [
              1,
              "#f0f921"
             ]
            ],
            "type": "heatmap"
           }
          ],
          "heatmapgl": [
           {
            "colorbar": {
             "outlinewidth": 0,
             "ticks": ""
            },
            "colorscale": [
             [
              0,
              "#0d0887"
             ],
             [
              0.1111111111111111,
              "#46039f"
             ],
             [
              0.2222222222222222,
              "#7201a8"
             ],
             [
              0.3333333333333333,
              "#9c179e"
             ],
             [
              0.4444444444444444,
              "#bd3786"
             ],
             [
              0.5555555555555556,
              "#d8576b"
             ],
             [
              0.6666666666666666,
              "#ed7953"
             ],
             [
              0.7777777777777778,
              "#fb9f3a"
             ],
             [
              0.8888888888888888,
              "#fdca26"
             ],
             [
              1,
              "#f0f921"
             ]
            ],
            "type": "heatmapgl"
           }
          ],
          "histogram": [
           {
            "marker": {
             "pattern": {
              "fillmode": "overlay",
              "size": 10,
              "solidity": 0.2
             }
            },
            "type": "histogram"
           }
          ],
          "histogram2d": [
           {
            "colorbar": {
             "outlinewidth": 0,
             "ticks": ""
            },
            "colorscale": [
             [
              0,
              "#0d0887"
             ],
             [
              0.1111111111111111,
              "#46039f"
             ],
             [
              0.2222222222222222,
              "#7201a8"
             ],
             [
              0.3333333333333333,
              "#9c179e"
             ],
             [
              0.4444444444444444,
              "#bd3786"
             ],
             [
              0.5555555555555556,
              "#d8576b"
             ],
             [
              0.6666666666666666,
              "#ed7953"
             ],
             [
              0.7777777777777778,
              "#fb9f3a"
             ],
             [
              0.8888888888888888,
              "#fdca26"
             ],
             [
              1,
              "#f0f921"
             ]
            ],
            "type": "histogram2d"
           }
          ],
          "histogram2dcontour": [
           {
            "colorbar": {
             "outlinewidth": 0,
             "ticks": ""
            },
            "colorscale": [
             [
              0,
              "#0d0887"
             ],
             [
              0.1111111111111111,
              "#46039f"
             ],
             [
              0.2222222222222222,
              "#7201a8"
             ],
             [
              0.3333333333333333,
              "#9c179e"
             ],
             [
              0.4444444444444444,
              "#bd3786"
             ],
             [
              0.5555555555555556,
              "#d8576b"
             ],
             [
              0.6666666666666666,
              "#ed7953"
             ],
             [
              0.7777777777777778,
              "#fb9f3a"
             ],
             [
              0.8888888888888888,
              "#fdca26"
             ],
             [
              1,
              "#f0f921"
             ]
            ],
            "type": "histogram2dcontour"
           }
          ],
          "mesh3d": [
           {
            "colorbar": {
             "outlinewidth": 0,
             "ticks": ""
            },
            "type": "mesh3d"
           }
          ],
          "parcoords": [
           {
            "line": {
             "colorbar": {
              "outlinewidth": 0,
              "ticks": ""
             }
            },
            "type": "parcoords"
           }
          ],
          "pie": [
           {
            "automargin": true,
            "type": "pie"
           }
          ],
          "scatter": [
           {
            "fillpattern": {
             "fillmode": "overlay",
             "size": 10,
             "solidity": 0.2
            },
            "type": "scatter"
           }
          ],
          "scatter3d": [
           {
            "line": {
             "colorbar": {
              "outlinewidth": 0,
              "ticks": ""
             }
            },
            "marker": {
             "colorbar": {
              "outlinewidth": 0,
              "ticks": ""
             }
            },
            "type": "scatter3d"
           }
          ],
          "scattercarpet": [
           {
            "marker": {
             "colorbar": {
              "outlinewidth": 0,
              "ticks": ""
             }
            },
            "type": "scattercarpet"
           }
          ],
          "scattergeo": [
           {
            "marker": {
             "colorbar": {
              "outlinewidth": 0,
              "ticks": ""
             }
            },
            "type": "scattergeo"
           }
          ],
          "scattergl": [
           {
            "marker": {
             "colorbar": {
              "outlinewidth": 0,
              "ticks": ""
             }
            },
            "type": "scattergl"
           }
          ],
          "scattermapbox": [
           {
            "marker": {
             "colorbar": {
              "outlinewidth": 0,
              "ticks": ""
             }
            },
            "type": "scattermapbox"
           }
          ],
          "scatterpolar": [
           {
            "marker": {
             "colorbar": {
              "outlinewidth": 0,
              "ticks": ""
             }
            },
            "type": "scatterpolar"
           }
          ],
          "scatterpolargl": [
           {
            "marker": {
             "colorbar": {
              "outlinewidth": 0,
              "ticks": ""
             }
            },
            "type": "scatterpolargl"
           }
          ],
          "scatterternary": [
           {
            "marker": {
             "colorbar": {
              "outlinewidth": 0,
              "ticks": ""
             }
            },
            "type": "scatterternary"
           }
          ],
          "surface": [
           {
            "colorbar": {
             "outlinewidth": 0,
             "ticks": ""
            },
            "colorscale": [
             [
              0,
              "#0d0887"
             ],
             [
              0.1111111111111111,
              "#46039f"
             ],
             [
              0.2222222222222222,
              "#7201a8"
             ],
             [
              0.3333333333333333,
              "#9c179e"
             ],
             [
              0.4444444444444444,
              "#bd3786"
             ],
             [
              0.5555555555555556,
              "#d8576b"
             ],
             [
              0.6666666666666666,
              "#ed7953"
             ],
             [
              0.7777777777777778,
              "#fb9f3a"
             ],
             [
              0.8888888888888888,
              "#fdca26"
             ],
             [
              1,
              "#f0f921"
             ]
            ],
            "type": "surface"
           }
          ],
          "table": [
           {
            "cells": {
             "fill": {
              "color": "#EBF0F8"
             },
             "line": {
              "color": "white"
             }
            },
            "header": {
             "fill": {
              "color": "#C8D4E3"
             },
             "line": {
              "color": "white"
             }
            },
            "type": "table"
           }
          ]
         },
         "layout": {
          "annotationdefaults": {
           "arrowcolor": "#2a3f5f",
           "arrowhead": 0,
           "arrowwidth": 1
          },
          "autotypenumbers": "strict",
          "coloraxis": {
           "colorbar": {
            "outlinewidth": 0,
            "ticks": ""
           }
          },
          "colorscale": {
           "diverging": [
            [
             0,
             "#8e0152"
            ],
            [
             0.1,
             "#c51b7d"
            ],
            [
             0.2,
             "#de77ae"
            ],
            [
             0.3,
             "#f1b6da"
            ],
            [
             0.4,
             "#fde0ef"
            ],
            [
             0.5,
             "#f7f7f7"
            ],
            [
             0.6,
             "#e6f5d0"
            ],
            [
             0.7,
             "#b8e186"
            ],
            [
             0.8,
             "#7fbc41"
            ],
            [
             0.9,
             "#4d9221"
            ],
            [
             1,
             "#276419"
            ]
           ],
           "sequential": [
            [
             0,
             "#0d0887"
            ],
            [
             0.1111111111111111,
             "#46039f"
            ],
            [
             0.2222222222222222,
             "#7201a8"
            ],
            [
             0.3333333333333333,
             "#9c179e"
            ],
            [
             0.4444444444444444,
             "#bd3786"
            ],
            [
             0.5555555555555556,
             "#d8576b"
            ],
            [
             0.6666666666666666,
             "#ed7953"
            ],
            [
             0.7777777777777778,
             "#fb9f3a"
            ],
            [
             0.8888888888888888,
             "#fdca26"
            ],
            [
             1,
             "#f0f921"
            ]
           ],
           "sequentialminus": [
            [
             0,
             "#0d0887"
            ],
            [
             0.1111111111111111,
             "#46039f"
            ],
            [
             0.2222222222222222,
             "#7201a8"
            ],
            [
             0.3333333333333333,
             "#9c179e"
            ],
            [
             0.4444444444444444,
             "#bd3786"
            ],
            [
             0.5555555555555556,
             "#d8576b"
            ],
            [
             0.6666666666666666,
             "#ed7953"
            ],
            [
             0.7777777777777778,
             "#fb9f3a"
            ],
            [
             0.8888888888888888,
             "#fdca26"
            ],
            [
             1,
             "#f0f921"
            ]
           ]
          },
          "colorway": [
           "#636efa",
           "#EF553B",
           "#00cc96",
           "#ab63fa",
           "#FFA15A",
           "#19d3f3",
           "#FF6692",
           "#B6E880",
           "#FF97FF",
           "#FECB52"
          ],
          "font": {
           "color": "#2a3f5f"
          },
          "geo": {
           "bgcolor": "white",
           "lakecolor": "white",
           "landcolor": "#E5ECF6",
           "showlakes": true,
           "showland": true,
           "subunitcolor": "white"
          },
          "hoverlabel": {
           "align": "left"
          },
          "hovermode": "closest",
          "mapbox": {
           "style": "light"
          },
          "paper_bgcolor": "white",
          "plot_bgcolor": "#E5ECF6",
          "polar": {
           "angularaxis": {
            "gridcolor": "white",
            "linecolor": "white",
            "ticks": ""
           },
           "bgcolor": "#E5ECF6",
           "radialaxis": {
            "gridcolor": "white",
            "linecolor": "white",
            "ticks": ""
           }
          },
          "scene": {
           "xaxis": {
            "backgroundcolor": "#E5ECF6",
            "gridcolor": "white",
            "gridwidth": 2,
            "linecolor": "white",
            "showbackground": true,
            "ticks": "",
            "zerolinecolor": "white"
           },
           "yaxis": {
            "backgroundcolor": "#E5ECF6",
            "gridcolor": "white",
            "gridwidth": 2,
            "linecolor": "white",
            "showbackground": true,
            "ticks": "",
            "zerolinecolor": "white"
           },
           "zaxis": {
            "backgroundcolor": "#E5ECF6",
            "gridcolor": "white",
            "gridwidth": 2,
            "linecolor": "white",
            "showbackground": true,
            "ticks": "",
            "zerolinecolor": "white"
           }
          },
          "shapedefaults": {
           "line": {
            "color": "#2a3f5f"
           }
          },
          "ternary": {
           "aaxis": {
            "gridcolor": "white",
            "linecolor": "white",
            "ticks": ""
           },
           "baxis": {
            "gridcolor": "white",
            "linecolor": "white",
            "ticks": ""
           },
           "bgcolor": "#E5ECF6",
           "caxis": {
            "gridcolor": "white",
            "linecolor": "white",
            "ticks": ""
           }
          },
          "title": {
           "x": 0.05
          },
          "xaxis": {
           "automargin": true,
           "gridcolor": "white",
           "linecolor": "white",
           "ticks": "",
           "title": {
            "standoff": 15
           },
           "zerolinecolor": "white",
           "zerolinewidth": 2
          },
          "yaxis": {
           "automargin": true,
           "gridcolor": "white",
           "linecolor": "white",
           "ticks": "",
           "title": {
            "standoff": 15
           },
           "zerolinecolor": "white",
           "zerolinewidth": 2
          }
         }
        },
        "xaxis": {
         "anchor": "y",
         "domain": [
          0,
          1
         ],
         "title": {
          "text": "date"
         }
        },
        "yaxis": {
         "anchor": "x",
         "domain": [
          0,
          1
         ],
         "title": {
          "text": "SMB_rets"
         }
        }
       }
      }
     },
     "metadata": {},
     "output_type": "display_data"
    }
   ],
   "source": [
    "monthly_rets = port_df[[\"date\", \"SMB_rets\"]].resample('M', on='date').mean() # Calculate average daily return for each month\n",
    "monthly_rets['Colour']='red' # Add column with 'red' value\n",
    "monthly_rets.loc[monthly_rets['SMB_rets']>=0, 'Colour']='green' # Replace 'red' with 'green' where return is non-negative\n",
    "px.bar(monthly_rets,x=monthly_rets.index,y=\"SMB_rets\").update_traces(marker_color=monthly_rets[\"Colour\"]).show()"
   ]
  },
  {
   "cell_type": "markdown",
   "id": "3272eb40",
   "metadata": {},
   "source": [
    "### Performance Metrics"
   ]
  },
  {
   "cell_type": "code",
   "execution_count": 146,
   "id": "5d5ab9cd",
   "metadata": {},
   "outputs": [
    {
     "name": "stdout",
     "output_type": "stream",
     "text": [
      "0.01679499541626178 0.06454071941385284\n"
     ]
    }
   ],
   "source": [
    "mean_ret = port_df['SMB_rets'].mean()\n",
    "volatility = port_df['SMB_rets'].std()\n",
    "print(mean_ret, volatility)"
   ]
  },
  {
   "cell_type": "code",
   "execution_count": 147,
   "id": "f1bb2435",
   "metadata": {},
   "outputs": [
    {
     "name": "stdout",
     "output_type": "stream",
     "text": [
      "Annualised expected return is: 20.15%\n",
      "Annualised volatility is: 22.36%\n"
     ]
    }
   ],
   "source": [
    "print('Annualised expected return is: '+str(round(100*mean_ret*12,2)) +'%')\n",
    "print('Annualised volatility is: '+str(round(100*volatility*np.sqrt(12),2)) +'%')"
   ]
  },
  {
   "cell_type": "code",
   "execution_count": 148,
   "id": "cda046e9",
   "metadata": {},
   "outputs": [
    {
     "data": {
      "text/plain": [
       "count    390.000000\n",
       "mean       1.679500\n",
       "std        6.454072\n",
       "min      -27.396977\n",
       "25%       -1.884797\n",
       "50%        1.025948\n",
       "75%        4.321357\n",
       "max       50.630663\n",
       "Name: SMB_rets, dtype: float64"
      ]
     },
     "execution_count": 148,
     "metadata": {},
     "output_type": "execute_result"
    }
   ],
   "source": [
    "(port_df['SMB_rets']*100).describe()"
   ]
  },
  {
   "cell_type": "code",
   "execution_count": 149,
   "id": "14743eca",
   "metadata": {},
   "outputs": [
    {
     "name": "stdout",
     "output_type": "stream",
     "text": [
      "1.6534701851876326\n"
     ]
    }
   ],
   "source": [
    "print(skew(port_df['SMB_rets'].dropna()))"
   ]
  },
  {
   "cell_type": "code",
   "execution_count": 150,
   "id": "d1d8ea4e",
   "metadata": {},
   "outputs": [
    {
     "name": "stdout",
     "output_type": "stream",
     "text": [
      "11.708275295242158\n"
     ]
    }
   ],
   "source": [
    "print(kurtosis(port_df[\"SMB_rets\"].dropna()))"
   ]
  },
  {
   "cell_type": "code",
   "execution_count": 151,
   "id": "618f1cdc",
   "metadata": {},
   "outputs": [
    {
     "data": {
      "text/plain": [
       "-0.13945903471149376"
      ]
     },
     "execution_count": 151,
     "metadata": {},
     "output_type": "execute_result"
    }
   ],
   "source": [
    "VaR = port_df['SMB_rets'].quantile(0.005)\n",
    "VaR"
   ]
  },
  {
   "cell_type": "code",
   "execution_count": 152,
   "id": "2b750603",
   "metadata": {},
   "outputs": [
    {
     "name": "stdout",
     "output_type": "stream",
     "text": [
      "There is a 10.0% chance that my losses will be -4.65% or worse over the next day.\n",
      "There is a 5.0% chance that my losses will be -6.71% or worse over the next day.\n",
      "There is a 1.0% chance that my losses will be -12.77% or worse over the next day.\n",
      "There is a 0.1% chance that my losses will be -22.2% or worse over the next day.\n",
      "There is a 0.01% chance that my losses will be -26.88% or worse over the next day.\n"
     ]
    }
   ],
   "source": [
    "for q in [0.1, 0.05, 0.01, 0.001, 0.0001]:\n",
    "    VaR = port_df['SMB_rets'].quantile(q)\n",
    "    print('There is a '+str(round(100*q,3))+'% chance that my losses will be '+str(round(VaR*100, 2))+'% or worse over the next day.')"
   ]
  },
  {
   "cell_type": "code",
   "execution_count": 153,
   "id": "2ab55ed1",
   "metadata": {},
   "outputs": [
    {
     "data": {
      "text/html": [
       "<div>\n",
       "<style scoped>\n",
       "    .dataframe tbody tr th:only-of-type {\n",
       "        vertical-align: middle;\n",
       "    }\n",
       "\n",
       "    .dataframe tbody tr th {\n",
       "        vertical-align: top;\n",
       "    }\n",
       "\n",
       "    .dataframe thead th {\n",
       "        text-align: right;\n",
       "    }\n",
       "</style>\n",
       "<table border=\"1\" class=\"dataframe\">\n",
       "  <thead>\n",
       "    <tr style=\"text-align: right;\">\n",
       "      <th>port</th>\n",
       "      <th>date</th>\n",
       "      <th>SMB_rets</th>\n",
       "      <th>SMB_cum_rets</th>\n",
       "    </tr>\n",
       "  </thead>\n",
       "  <tbody>\n",
       "    <tr>\n",
       "      <th>225</th>\n",
       "      <td>2008-11-28</td>\n",
       "      <td>-0.140336</td>\n",
       "      <td>50.693566</td>\n",
       "    </tr>\n",
       "    <tr>\n",
       "      <th>361</th>\n",
       "      <td>2020-03-31</td>\n",
       "      <td>-0.273970</td>\n",
       "      <td>90.069278</td>\n",
       "    </tr>\n",
       "  </tbody>\n",
       "</table>\n",
       "</div>"
      ],
      "text/plain": [
       "port       date  SMB_rets  SMB_cum_rets\n",
       "225  2008-11-28 -0.140336     50.693566\n",
       "361  2020-03-31 -0.273970     90.069278"
      ]
     },
     "execution_count": 153,
     "metadata": {},
     "output_type": "execute_result"
    }
   ],
   "source": [
    "VaR = port_df['SMB_rets'].quantile(0.005)\n",
    "rets_tail = port_df.loc[port_df['SMB_rets']<=VaR,[\"date\", \"SMB_rets\", \"SMB_cum_rets\"]]\n",
    "rets_tail"
   ]
  },
  {
   "cell_type": "code",
   "execution_count": 154,
   "id": "e4750315",
   "metadata": {},
   "outputs": [
    {
     "data": {
      "text/plain": [
       "-0.20715298106156205"
      ]
     },
     "execution_count": 154,
     "metadata": {},
     "output_type": "execute_result"
    }
   ],
   "source": [
    "ES = rets_tail['SMB_rets'].mean()\n",
    "ES"
   ]
  },
  {
   "cell_type": "code",
   "execution_count": 155,
   "id": "36a31c50",
   "metadata": {},
   "outputs": [
    {
     "name": "stdout",
     "output_type": "stream",
     "text": [
      "I expect to lose on average -8.05% over 1-day period given that I have exceeded my VaR for 10.0%.\n",
      "I expect to lose on average -10.43% over 1-day period given that I have exceeded my VaR for 5.0%.\n",
      "I expect to lose on average -17.31% over 1-day period given that I have exceeded my VaR for 1.0%.\n",
      "I expect to lose on average -27.4% over 1-day period given that I have exceeded my VaR for 0.1%.\n",
      "I expect to lose on average -27.4% over 1-day period given that I have exceeded my VaR for 0.01%.\n"
     ]
    }
   ],
   "source": [
    "for q in [0.1, 0.05, 0.01, 0.001, 0.0001]:\n",
    "    VaR = port_df['SMB_rets'].quantile(q)\n",
    "    rets_tail = port_df.loc[port_df['SMB_rets']<=VaR,:]\n",
    "    ES = rets_tail['SMB_rets'].mean()\n",
    "    print('I expect to lose on average '+ str(round(ES*100, 2))+'% over 1-day period given that I have exceeded my VaR for '+str(round(100*q,3))+'%.')"
   ]
  },
  {
   "cell_type": "code",
   "execution_count": 156,
   "id": "fefe4224",
   "metadata": {},
   "outputs": [
    {
     "data": {
      "text/plain": [
       "-0.47729564937459196"
      ]
     },
     "execution_count": 156,
     "metadata": {},
     "output_type": "execute_result"
    }
   ],
   "source": [
    "# according to bloomberg the risk free rate (treasury yields) 4.76 % (last 30 years)\n",
    "# calculation of sharpe ratio\n",
    "\n",
    "rf = 0.0476\n",
    "sharpe_ratio = (mean_ret-rf)/volatility\n",
    "sharpe_ratio"
   ]
  },
  {
   "cell_type": "code",
   "execution_count": 157,
   "id": "1367e747",
   "metadata": {},
   "outputs": [],
   "source": [
    "# get SP500 data from 1990-01-31 to 2022-08-30\t\n",
    "sp500_ticker = yf.Ticker(\"^GSPC\")\n",
    "sp500 = sp500_ticker.history(start=\"1990-02-28\", end=\"2022-09-30\", interval=\"1mo\")\n",
    "sp500 = sp500[[\"Close\"]]\n",
    "sp500[\"Rets\"] = sp500.Close.pct_change()"
   ]
  },
  {
   "cell_type": "code",
   "execution_count": 158,
   "id": "fc1096be",
   "metadata": {},
   "outputs": [
    {
     "data": {
      "text/html": [
       "<div>\n",
       "<style scoped>\n",
       "    .dataframe tbody tr th:only-of-type {\n",
       "        vertical-align: middle;\n",
       "    }\n",
       "\n",
       "    .dataframe tbody tr th {\n",
       "        vertical-align: top;\n",
       "    }\n",
       "\n",
       "    .dataframe thead th {\n",
       "        text-align: right;\n",
       "    }\n",
       "</style>\n",
       "<table border=\"1\" class=\"dataframe\">\n",
       "  <thead>\n",
       "    <tr style=\"text-align: right;\">\n",
       "      <th></th>\n",
       "      <th>Close</th>\n",
       "      <th>Rets</th>\n",
       "    </tr>\n",
       "    <tr>\n",
       "      <th>Date</th>\n",
       "      <th></th>\n",
       "      <th></th>\n",
       "    </tr>\n",
       "  </thead>\n",
       "  <tbody>\n",
       "    <tr>\n",
       "      <th>1990-03-01 00:00:00-05:00</th>\n",
       "      <td>339.940002</td>\n",
       "      <td>NaN</td>\n",
       "    </tr>\n",
       "    <tr>\n",
       "      <th>1990-04-01 00:00:00-05:00</th>\n",
       "      <td>330.799988</td>\n",
       "      <td>-0.026887</td>\n",
       "    </tr>\n",
       "    <tr>\n",
       "      <th>1990-05-01 00:00:00-04:00</th>\n",
       "      <td>361.230011</td>\n",
       "      <td>0.091989</td>\n",
       "    </tr>\n",
       "    <tr>\n",
       "      <th>1990-06-01 00:00:00-04:00</th>\n",
       "      <td>358.019989</td>\n",
       "      <td>-0.008886</td>\n",
       "    </tr>\n",
       "    <tr>\n",
       "      <th>1990-07-01 00:00:00-04:00</th>\n",
       "      <td>356.149994</td>\n",
       "      <td>-0.005223</td>\n",
       "    </tr>\n",
       "    <tr>\n",
       "      <th>...</th>\n",
       "      <td>...</td>\n",
       "      <td>...</td>\n",
       "    </tr>\n",
       "    <tr>\n",
       "      <th>2022-05-01 00:00:00-04:00</th>\n",
       "      <td>4132.149902</td>\n",
       "      <td>0.000053</td>\n",
       "    </tr>\n",
       "    <tr>\n",
       "      <th>2022-06-01 00:00:00-04:00</th>\n",
       "      <td>3785.379883</td>\n",
       "      <td>-0.083920</td>\n",
       "    </tr>\n",
       "    <tr>\n",
       "      <th>2022-07-01 00:00:00-04:00</th>\n",
       "      <td>4130.290039</td>\n",
       "      <td>0.091116</td>\n",
       "    </tr>\n",
       "    <tr>\n",
       "      <th>2022-08-01 00:00:00-04:00</th>\n",
       "      <td>3955.000000</td>\n",
       "      <td>-0.042440</td>\n",
       "    </tr>\n",
       "    <tr>\n",
       "      <th>2022-09-01 00:00:00-04:00</th>\n",
       "      <td>3585.620117</td>\n",
       "      <td>-0.093396</td>\n",
       "    </tr>\n",
       "  </tbody>\n",
       "</table>\n",
       "<p>391 rows × 2 columns</p>\n",
       "</div>"
      ],
      "text/plain": [
       "                                 Close      Rets\n",
       "Date                                            \n",
       "1990-03-01 00:00:00-05:00   339.940002       NaN\n",
       "1990-04-01 00:00:00-05:00   330.799988 -0.026887\n",
       "1990-05-01 00:00:00-04:00   361.230011  0.091989\n",
       "1990-06-01 00:00:00-04:00   358.019989 -0.008886\n",
       "1990-07-01 00:00:00-04:00   356.149994 -0.005223\n",
       "...                                ...       ...\n",
       "2022-05-01 00:00:00-04:00  4132.149902  0.000053\n",
       "2022-06-01 00:00:00-04:00  3785.379883 -0.083920\n",
       "2022-07-01 00:00:00-04:00  4130.290039  0.091116\n",
       "2022-08-01 00:00:00-04:00  3955.000000 -0.042440\n",
       "2022-09-01 00:00:00-04:00  3585.620117 -0.093396\n",
       "\n",
       "[391 rows x 2 columns]"
      ]
     },
     "execution_count": 158,
     "metadata": {},
     "output_type": "execute_result"
    }
   ],
   "source": [
    "sp500"
   ]
  },
  {
   "cell_type": "code",
   "execution_count": 159,
   "id": "674d499f",
   "metadata": {},
   "outputs": [
    {
     "name": "stdout",
     "output_type": "stream",
     "text": [
      "Portfolio Beta: 0.03904371995680168\n",
      "Jensen's Alpha: -0.029219328407257692\n"
     ]
    }
   ],
   "source": [
    "# Calculate the average return of the market\n",
    "average_market_return = sp500.Rets.mean()\n",
    "\n",
    "# Calculate the covariance between portfolio and market returns\n",
    "covariance = port_df['SMB_rets'].cov(sp500['Rets'].reset_index(drop=True))\n",
    "\n",
    "# Calculate the variance of the market returns\n",
    "market_variance = sp500['Rets'].var()\n",
    "\n",
    "# Calculate the portfolio's beta\n",
    "portfolio_beta = covariance / market_variance\n",
    "\n",
    "# Calculate Jensen's Alpha\n",
    "jensens_alpha = mean_ret - (rf + portfolio_beta * (average_market_return - rf))\n",
    "\n",
    "print(\"Portfolio Beta:\", portfolio_beta)\n",
    "print(\"Jensen's Alpha:\", jensens_alpha)"
   ]
  },
  {
   "cell_type": "code",
   "execution_count": 160,
   "id": "b5d4bbc5",
   "metadata": {},
   "outputs": [
    {
     "data": {
      "text/plain": [
       "-0.7889874381288761"
      ]
     },
     "execution_count": 160,
     "metadata": {},
     "output_type": "execute_result"
    }
   ],
   "source": [
    "# treynor ratio\n",
    "treynor_ratio = (mean_ret - rf)/portfolio_beta\n",
    "treynor_ratio"
   ]
  },
  {
   "cell_type": "code",
   "execution_count": 161,
   "id": "b016eee5",
   "metadata": {},
   "outputs": [
    {
     "name": "stdout",
     "output_type": "stream",
     "text": [
      "0.6280146640021912\n"
     ]
    }
   ],
   "source": [
    "# maximum drawdown\n",
    "peak = port_df.loc[1, \"SMB_cum_rets\"]\n",
    "max_drawdown = 0\n",
    "for ret in port_df[\"SMB_cum_rets\"].dropna():\n",
    "    if ret >= peak:\n",
    "        peak = ret\n",
    "    else:\n",
    "        drawdown = (peak - ret)/peak\n",
    "        max_drawdown = max(max_drawdown, drawdown)\n",
    "\n",
    "print(max_drawdown)"
   ]
  },
  {
   "cell_type": "code",
   "execution_count": 162,
   "id": "09c70947",
   "metadata": {},
   "outputs": [
    {
     "data": {
      "text/plain": [
       "0.24266949282488134"
      ]
     },
     "execution_count": 162,
     "metadata": {},
     "output_type": "execute_result"
    }
   ],
   "source": [
    "# calmar-ratio\n",
    "annualised_exp_return = round(mean_ret*12,2)\n",
    "calmar_ratio = (annualised_exp_return - rf)/max_drawdown\n",
    "calmar_ratio"
   ]
  }
 ],
 "metadata": {
  "kernelspec": {
   "display_name": "Python 3 (ipykernel)",
   "language": "python",
   "name": "python3"
  },
  "language_info": {
   "codemirror_mode": {
    "name": "ipython",
    "version": 3
   },
   "file_extension": ".py",
   "mimetype": "text/x-python",
   "name": "python",
   "nbconvert_exporter": "python",
   "pygments_lexer": "ipython3",
   "version": "3.9.0"
  }
 },
 "nbformat": 4,
 "nbformat_minor": 5
}
