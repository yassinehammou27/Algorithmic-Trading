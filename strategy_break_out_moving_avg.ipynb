{
 "cells": [
  {
   "cell_type": "markdown",
   "id": "acae3b45",
   "metadata": {},
   "source": [
    "# Group Project\n",
    "#### **FINN43815 - Python for Finance**"
   ]
  },
  {
   "cell_type": "code",
   "execution_count": 1,
   "id": "36a8edf5",
   "metadata": {},
   "outputs": [
    {
     "name": "stderr",
     "output_type": "stream",
     "text": [
      "/Library/Frameworks/Python.framework/Versions/3.9/lib/python3.9/site-packages/scipy/__init__.py:146: UserWarning: A NumPy version >=1.16.5 and <1.23.0 is required for this version of SciPy (detected version 1.26.2\n",
      "  warnings.warn(f\"A NumPy version >={np_minversion} and <{np_maxversion}\"\n"
     ]
    }
   ],
   "source": [
    "import numpy as np\n",
    "import pandas as pd\n",
    "import plotly.express as px\n",
    "from scipy.stats import kurtosis, skew\n",
    "import yfinance as yf"
   ]
  },
  {
   "cell_type": "markdown",
   "id": "278f8d90",
   "metadata": {},
   "source": [
    "### Breakout Strategy (with Moving Average)"
   ]
  },
  {
   "cell_type": "markdown",
   "id": "e6e26e70",
   "metadata": {},
   "source": [
    "#### 1. Import Data"
   ]
  },
  {
   "cell_type": "code",
   "execution_count": 2,
   "id": "d81ffa77",
   "metadata": {},
   "outputs": [
    {
     "name": "stderr",
     "output_type": "stream",
     "text": [
      "/var/folders/ch/yj3xbk4s1t34gtb89jtxcmcr0000gn/T/ipykernel_10932/1299969751.py:1: DtypeWarning: Columns (12) have mixed types. Specify dtype option on import or set low_memory=False.\n",
      "  data = pd.read_csv('cleaned_data.csv')\n"
     ]
    }
   ],
   "source": [
    "data = pd.read_csv('cleaned_data.csv')"
   ]
  },
  {
   "cell_type": "code",
   "execution_count": 3,
   "id": "0a7b9ab6",
   "metadata": {},
   "outputs": [
    {
     "data": {
      "text/html": [
       "<div>\n",
       "<style scoped>\n",
       "    .dataframe tbody tr th:only-of-type {\n",
       "        vertical-align: middle;\n",
       "    }\n",
       "\n",
       "    .dataframe tbody tr th {\n",
       "        vertical-align: top;\n",
       "    }\n",
       "\n",
       "    .dataframe thead th {\n",
       "        text-align: right;\n",
       "    }\n",
       "</style>\n",
       "<table border=\"1\" class=\"dataframe\">\n",
       "  <thead>\n",
       "    <tr style=\"text-align: right;\">\n",
       "      <th></th>\n",
       "      <th>date</th>\n",
       "      <th>permno</th>\n",
       "      <th>price</th>\n",
       "    </tr>\n",
       "  </thead>\n",
       "  <tbody>\n",
       "    <tr>\n",
       "      <th>0</th>\n",
       "      <td>1990-01-31</td>\n",
       "      <td>0111145D UN Equity</td>\n",
       "      <td>20.6875</td>\n",
       "    </tr>\n",
       "    <tr>\n",
       "      <th>1</th>\n",
       "      <td>1990-02-28</td>\n",
       "      <td>0111145D UN Equity</td>\n",
       "      <td>22.0000</td>\n",
       "    </tr>\n",
       "    <tr>\n",
       "      <th>2</th>\n",
       "      <td>1990-03-30</td>\n",
       "      <td>0111145D UN Equity</td>\n",
       "      <td>19.5000</td>\n",
       "    </tr>\n",
       "    <tr>\n",
       "      <th>3</th>\n",
       "      <td>1990-04-30</td>\n",
       "      <td>0111145D UN Equity</td>\n",
       "      <td>17.6250</td>\n",
       "    </tr>\n",
       "    <tr>\n",
       "      <th>4</th>\n",
       "      <td>1990-05-31</td>\n",
       "      <td>0111145D UN Equity</td>\n",
       "      <td>19.8125</td>\n",
       "    </tr>\n",
       "    <tr>\n",
       "      <th>...</th>\n",
       "      <td>...</td>\n",
       "      <td>...</td>\n",
       "      <td>...</td>\n",
       "    </tr>\n",
       "    <tr>\n",
       "      <th>514691</th>\n",
       "      <td>2022-04-29</td>\n",
       "      <td>J UN Equity</td>\n",
       "      <td>138.5500</td>\n",
       "    </tr>\n",
       "    <tr>\n",
       "      <th>514692</th>\n",
       "      <td>2022-05-31</td>\n",
       "      <td>J UN Equity</td>\n",
       "      <td>140.0900</td>\n",
       "    </tr>\n",
       "    <tr>\n",
       "      <th>514693</th>\n",
       "      <td>2022-06-30</td>\n",
       "      <td>J UN Equity</td>\n",
       "      <td>127.1300</td>\n",
       "    </tr>\n",
       "    <tr>\n",
       "      <th>514694</th>\n",
       "      <td>2022-07-29</td>\n",
       "      <td>J UN Equity</td>\n",
       "      <td>137.3000</td>\n",
       "    </tr>\n",
       "    <tr>\n",
       "      <th>514695</th>\n",
       "      <td>2022-08-30</td>\n",
       "      <td>J UN Equity</td>\n",
       "      <td>124.4400</td>\n",
       "    </tr>\n",
       "  </tbody>\n",
       "</table>\n",
       "<p>514696 rows × 3 columns</p>\n",
       "</div>"
      ],
      "text/plain": [
       "              date              permno     price\n",
       "0       1990-01-31  0111145D UN Equity   20.6875\n",
       "1       1990-02-28  0111145D UN Equity   22.0000\n",
       "2       1990-03-30  0111145D UN Equity   19.5000\n",
       "3       1990-04-30  0111145D UN Equity   17.6250\n",
       "4       1990-05-31  0111145D UN Equity   19.8125\n",
       "...            ...                 ...       ...\n",
       "514691  2022-04-29         J UN Equity  138.5500\n",
       "514692  2022-05-31         J UN Equity  140.0900\n",
       "514693  2022-06-30         J UN Equity  127.1300\n",
       "514694  2022-07-29         J UN Equity  137.3000\n",
       "514695  2022-08-30         J UN Equity  124.4400\n",
       "\n",
       "[514696 rows x 3 columns]"
      ]
     },
     "execution_count": 3,
     "metadata": {},
     "output_type": "execute_result"
    }
   ],
   "source": [
    "# drop unnecessary columns\n",
    "data = data[[\"date\", \"permno\", \"price\"]]\n",
    "data"
   ]
  },
  {
   "cell_type": "markdown",
   "id": "27834fd8",
   "metadata": {},
   "source": [
    "#### 2. Calculate monthly returns"
   ]
  },
  {
   "cell_type": "code",
   "execution_count": 4,
   "id": "8529d569",
   "metadata": {},
   "outputs": [
    {
     "name": "stderr",
     "output_type": "stream",
     "text": [
      "/var/folders/ch/yj3xbk4s1t34gtb89jtxcmcr0000gn/T/ipykernel_10932/1728035520.py:1: FutureWarning: The default fill_method='pad' in Series.pct_change is deprecated and will be removed in a future version. Call ffill before calling pct_change to retain current behavior and silence this warning.\n",
      "  data['rets'] = data.groupby('permno')['price'].transform(pd.Series.pct_change)\n"
     ]
    },
    {
     "data": {
      "text/html": [
       "<div>\n",
       "<style scoped>\n",
       "    .dataframe tbody tr th:only-of-type {\n",
       "        vertical-align: middle;\n",
       "    }\n",
       "\n",
       "    .dataframe tbody tr th {\n",
       "        vertical-align: top;\n",
       "    }\n",
       "\n",
       "    .dataframe thead th {\n",
       "        text-align: right;\n",
       "    }\n",
       "</style>\n",
       "<table border=\"1\" class=\"dataframe\">\n",
       "  <thead>\n",
       "    <tr style=\"text-align: right;\">\n",
       "      <th></th>\n",
       "      <th>date</th>\n",
       "      <th>permno</th>\n",
       "      <th>price</th>\n",
       "      <th>rets</th>\n",
       "    </tr>\n",
       "  </thead>\n",
       "  <tbody>\n",
       "    <tr>\n",
       "      <th>0</th>\n",
       "      <td>1990-01-31</td>\n",
       "      <td>0111145D UN Equity</td>\n",
       "      <td>20.6875</td>\n",
       "      <td>NaN</td>\n",
       "    </tr>\n",
       "    <tr>\n",
       "      <th>1</th>\n",
       "      <td>1990-02-28</td>\n",
       "      <td>0111145D UN Equity</td>\n",
       "      <td>22.0000</td>\n",
       "      <td>0.063444</td>\n",
       "    </tr>\n",
       "    <tr>\n",
       "      <th>2</th>\n",
       "      <td>1990-03-30</td>\n",
       "      <td>0111145D UN Equity</td>\n",
       "      <td>19.5000</td>\n",
       "      <td>-0.113636</td>\n",
       "    </tr>\n",
       "    <tr>\n",
       "      <th>3</th>\n",
       "      <td>1990-04-30</td>\n",
       "      <td>0111145D UN Equity</td>\n",
       "      <td>17.6250</td>\n",
       "      <td>-0.096154</td>\n",
       "    </tr>\n",
       "    <tr>\n",
       "      <th>4</th>\n",
       "      <td>1990-05-31</td>\n",
       "      <td>0111145D UN Equity</td>\n",
       "      <td>19.8125</td>\n",
       "      <td>0.124113</td>\n",
       "    </tr>\n",
       "  </tbody>\n",
       "</table>\n",
       "</div>"
      ],
      "text/plain": [
       "         date              permno    price      rets\n",
       "0  1990-01-31  0111145D UN Equity  20.6875       NaN\n",
       "1  1990-02-28  0111145D UN Equity  22.0000  0.063444\n",
       "2  1990-03-30  0111145D UN Equity  19.5000 -0.113636\n",
       "3  1990-04-30  0111145D UN Equity  17.6250 -0.096154\n",
       "4  1990-05-31  0111145D UN Equity  19.8125  0.124113"
      ]
     },
     "execution_count": 4,
     "metadata": {},
     "output_type": "execute_result"
    }
   ],
   "source": [
    "data['rets'] = data.groupby('permno')['price'].transform(pd.Series.pct_change)\n",
    "data.head()"
   ]
  },
  {
   "cell_type": "markdown",
   "id": "68b01216",
   "metadata": {},
   "source": [
    "#### 3. Calculate moving averages"
   ]
  },
  {
   "cell_type": "code",
   "execution_count": 5,
   "id": "69d33d66",
   "metadata": {},
   "outputs": [
    {
     "data": {
      "text/html": [
       "<div>\n",
       "<style scoped>\n",
       "    .dataframe tbody tr th:only-of-type {\n",
       "        vertical-align: middle;\n",
       "    }\n",
       "\n",
       "    .dataframe tbody tr th {\n",
       "        vertical-align: top;\n",
       "    }\n",
       "\n",
       "    .dataframe thead th {\n",
       "        text-align: right;\n",
       "    }\n",
       "</style>\n",
       "<table border=\"1\" class=\"dataframe\">\n",
       "  <thead>\n",
       "    <tr style=\"text-align: right;\">\n",
       "      <th></th>\n",
       "      <th>date</th>\n",
       "      <th>permno</th>\n",
       "      <th>price</th>\n",
       "      <th>rets</th>\n",
       "      <th>sm5</th>\n",
       "      <th>sm15</th>\n",
       "    </tr>\n",
       "  </thead>\n",
       "  <tbody>\n",
       "    <tr>\n",
       "      <th>0</th>\n",
       "      <td>1990-01-31</td>\n",
       "      <td>0111145D UN Equity</td>\n",
       "      <td>20.6875</td>\n",
       "      <td>NaN</td>\n",
       "      <td>NaN</td>\n",
       "      <td>NaN</td>\n",
       "    </tr>\n",
       "    <tr>\n",
       "      <th>1</th>\n",
       "      <td>1990-02-28</td>\n",
       "      <td>0111145D UN Equity</td>\n",
       "      <td>22.0000</td>\n",
       "      <td>0.063444</td>\n",
       "      <td>NaN</td>\n",
       "      <td>NaN</td>\n",
       "    </tr>\n",
       "    <tr>\n",
       "      <th>2</th>\n",
       "      <td>1990-03-30</td>\n",
       "      <td>0111145D UN Equity</td>\n",
       "      <td>19.5000</td>\n",
       "      <td>-0.113636</td>\n",
       "      <td>NaN</td>\n",
       "      <td>NaN</td>\n",
       "    </tr>\n",
       "    <tr>\n",
       "      <th>3</th>\n",
       "      <td>1990-04-30</td>\n",
       "      <td>0111145D UN Equity</td>\n",
       "      <td>17.6250</td>\n",
       "      <td>-0.096154</td>\n",
       "      <td>NaN</td>\n",
       "      <td>NaN</td>\n",
       "    </tr>\n",
       "    <tr>\n",
       "      <th>4</th>\n",
       "      <td>1990-05-31</td>\n",
       "      <td>0111145D UN Equity</td>\n",
       "      <td>19.8125</td>\n",
       "      <td>0.124113</td>\n",
       "      <td>19.925</td>\n",
       "      <td>NaN</td>\n",
       "    </tr>\n",
       "    <tr>\n",
       "      <th>...</th>\n",
       "      <td>...</td>\n",
       "      <td>...</td>\n",
       "      <td>...</td>\n",
       "      <td>...</td>\n",
       "      <td>...</td>\n",
       "      <td>...</td>\n",
       "    </tr>\n",
       "    <tr>\n",
       "      <th>514691</th>\n",
       "      <td>2022-04-29</td>\n",
       "      <td>J UN Equity</td>\n",
       "      <td>138.5500</td>\n",
       "      <td>0.005370</td>\n",
       "      <td>200.662</td>\n",
       "      <td>192.782667</td>\n",
       "    </tr>\n",
       "    <tr>\n",
       "      <th>514692</th>\n",
       "      <td>2022-05-31</td>\n",
       "      <td>J UN Equity</td>\n",
       "      <td>140.0900</td>\n",
       "      <td>0.011115</td>\n",
       "      <td>186.042</td>\n",
       "      <td>193.828667</td>\n",
       "    </tr>\n",
       "    <tr>\n",
       "      <th>514693</th>\n",
       "      <td>2022-06-30</td>\n",
       "      <td>J UN Equity</td>\n",
       "      <td>127.1300</td>\n",
       "      <td>-0.092512</td>\n",
       "      <td>180.462</td>\n",
       "      <td>194.789333</td>\n",
       "    </tr>\n",
       "    <tr>\n",
       "      <th>514694</th>\n",
       "      <td>2022-07-29</td>\n",
       "      <td>J UN Equity</td>\n",
       "      <td>137.3000</td>\n",
       "      <td>0.079997</td>\n",
       "      <td>178.242</td>\n",
       "      <td>195.424000</td>\n",
       "    </tr>\n",
       "    <tr>\n",
       "      <th>514695</th>\n",
       "      <td>2022-08-30</td>\n",
       "      <td>J UN Equity</td>\n",
       "      <td>124.4400</td>\n",
       "      <td>-0.093664</td>\n",
       "      <td>171.940</td>\n",
       "      <td>194.117333</td>\n",
       "    </tr>\n",
       "  </tbody>\n",
       "</table>\n",
       "<p>514696 rows × 6 columns</p>\n",
       "</div>"
      ],
      "text/plain": [
       "              date              permno     price      rets      sm5  \\\n",
       "0       1990-01-31  0111145D UN Equity   20.6875       NaN      NaN   \n",
       "1       1990-02-28  0111145D UN Equity   22.0000  0.063444      NaN   \n",
       "2       1990-03-30  0111145D UN Equity   19.5000 -0.113636      NaN   \n",
       "3       1990-04-30  0111145D UN Equity   17.6250 -0.096154      NaN   \n",
       "4       1990-05-31  0111145D UN Equity   19.8125  0.124113   19.925   \n",
       "...            ...                 ...       ...       ...      ...   \n",
       "514691  2022-04-29         J UN Equity  138.5500  0.005370  200.662   \n",
       "514692  2022-05-31         J UN Equity  140.0900  0.011115  186.042   \n",
       "514693  2022-06-30         J UN Equity  127.1300 -0.092512  180.462   \n",
       "514694  2022-07-29         J UN Equity  137.3000  0.079997  178.242   \n",
       "514695  2022-08-30         J UN Equity  124.4400 -0.093664  171.940   \n",
       "\n",
       "              sm15  \n",
       "0              NaN  \n",
       "1              NaN  \n",
       "2              NaN  \n",
       "3              NaN  \n",
       "4              NaN  \n",
       "...            ...  \n",
       "514691  192.782667  \n",
       "514692  193.828667  \n",
       "514693  194.789333  \n",
       "514694  195.424000  \n",
       "514695  194.117333  \n",
       "\n",
       "[514696 rows x 6 columns]"
      ]
     },
     "execution_count": 5,
     "metadata": {},
     "output_type": "execute_result"
    }
   ],
   "source": [
    "data[\"sm5\"] = data.groupby(\"permno\")[\"price\"].rolling(window=5, min_periods=5).mean().reset_index(drop=True)\n",
    "data[\"sm15\"] = data.groupby(\"permno\")[\"price\"].rolling(window=15, min_periods=15).mean().reset_index(drop=True)\n",
    "data"
   ]
  },
  {
   "cell_type": "code",
   "execution_count": 6,
   "id": "dbb78ca3",
   "metadata": {},
   "outputs": [],
   "source": [
    "data = data.dropna()"
   ]
  },
  {
   "cell_type": "markdown",
   "id": "c1b0fc7b",
   "metadata": {},
   "source": [
    "#### 4. Identify Trading Signals"
   ]
  },
  {
   "cell_type": "code",
   "execution_count": 27,
   "id": "de81aa37",
   "metadata": {},
   "outputs": [
    {
     "name": "stderr",
     "output_type": "stream",
     "text": [
      "/var/folders/ch/yj3xbk4s1t34gtb89jtxcmcr0000gn/T/ipykernel_10932/1959502340.py:1: SettingWithCopyWarning: \n",
      "A value is trying to be set on a copy of a slice from a DataFrame.\n",
      "Try using .loc[row_indexer,col_indexer] = value instead\n",
      "\n",
      "See the caveats in the documentation: https://pandas.pydata.org/pandas-docs/stable/user_guide/indexing.html#returning-a-view-versus-a-copy\n",
      "  data[\"signal_buy\"] = np.where((data.price < data.sm5) & (data.price < data.sm15), 1, 0) # buy\n",
      "/var/folders/ch/yj3xbk4s1t34gtb89jtxcmcr0000gn/T/ipykernel_10932/1959502340.py:2: SettingWithCopyWarning: \n",
      "A value is trying to be set on a copy of a slice from a DataFrame.\n",
      "Try using .loc[row_indexer,col_indexer] = value instead\n",
      "\n",
      "See the caveats in the documentation: https://pandas.pydata.org/pandas-docs/stable/user_guide/indexing.html#returning-a-view-versus-a-copy\n",
      "  data[\"signal_sell\"] = np.where((data.price > data.sm5) & (data.price > data.sm15), -1, 0) # sell\n"
     ]
    },
    {
     "data": {
      "text/html": [
       "<div>\n",
       "<style scoped>\n",
       "    .dataframe tbody tr th:only-of-type {\n",
       "        vertical-align: middle;\n",
       "    }\n",
       "\n",
       "    .dataframe tbody tr th {\n",
       "        vertical-align: top;\n",
       "    }\n",
       "\n",
       "    .dataframe thead th {\n",
       "        text-align: right;\n",
       "    }\n",
       "</style>\n",
       "<table border=\"1\" class=\"dataframe\">\n",
       "  <thead>\n",
       "    <tr style=\"text-align: right;\">\n",
       "      <th></th>\n",
       "      <th>date</th>\n",
       "      <th>permno</th>\n",
       "      <th>price</th>\n",
       "      <th>rets</th>\n",
       "      <th>sm5</th>\n",
       "      <th>sm15</th>\n",
       "      <th>signal</th>\n",
       "      <th>signal_buy</th>\n",
       "      <th>signal_sell</th>\n",
       "      <th>position_buy</th>\n",
       "      <th>position_sell</th>\n",
       "      <th>position</th>\n",
       "    </tr>\n",
       "  </thead>\n",
       "  <tbody>\n",
       "    <tr>\n",
       "      <th>15</th>\n",
       "      <td>1991-04-30</td>\n",
       "      <td>0111145D UN Equity</td>\n",
       "      <td>21.3750</td>\n",
       "      <td>0.039514</td>\n",
       "      <td>21.0375</td>\n",
       "      <td>20.720833</td>\n",
       "      <td>-1</td>\n",
       "      <td>0</td>\n",
       "      <td>-1</td>\n",
       "      <td>0.0</td>\n",
       "      <td>0.0</td>\n",
       "      <td>0</td>\n",
       "    </tr>\n",
       "    <tr>\n",
       "      <th>16</th>\n",
       "      <td>1991-05-31</td>\n",
       "      <td>0111145D UN Equity</td>\n",
       "      <td>21.0000</td>\n",
       "      <td>-0.017544</td>\n",
       "      <td>20.8375</td>\n",
       "      <td>20.654167</td>\n",
       "      <td>-1</td>\n",
       "      <td>0</td>\n",
       "      <td>-1</td>\n",
       "      <td>0.0</td>\n",
       "      <td>0.0</td>\n",
       "      <td>0</td>\n",
       "    </tr>\n",
       "    <tr>\n",
       "      <th>17</th>\n",
       "      <td>1991-06-28</td>\n",
       "      <td>0111145D UN Equity</td>\n",
       "      <td>21.6250</td>\n",
       "      <td>0.029762</td>\n",
       "      <td>21.0375</td>\n",
       "      <td>20.795833</td>\n",
       "      <td>-1</td>\n",
       "      <td>0</td>\n",
       "      <td>-1</td>\n",
       "      <td>0.0</td>\n",
       "      <td>0.0</td>\n",
       "      <td>0</td>\n",
       "    </tr>\n",
       "    <tr>\n",
       "      <th>18</th>\n",
       "      <td>1991-07-31</td>\n",
       "      <td>0111145D UN Equity</td>\n",
       "      <td>21.0625</td>\n",
       "      <td>-0.026012</td>\n",
       "      <td>21.1250</td>\n",
       "      <td>21.025000</td>\n",
       "      <td>0</td>\n",
       "      <td>0</td>\n",
       "      <td>0</td>\n",
       "      <td>0.0</td>\n",
       "      <td>0.0</td>\n",
       "      <td>0</td>\n",
       "    </tr>\n",
       "    <tr>\n",
       "      <th>19</th>\n",
       "      <td>1991-08-30</td>\n",
       "      <td>0111145D UN Equity</td>\n",
       "      <td>20.8125</td>\n",
       "      <td>-0.011869</td>\n",
       "      <td>21.1750</td>\n",
       "      <td>21.091667</td>\n",
       "      <td>1</td>\n",
       "      <td>1</td>\n",
       "      <td>0</td>\n",
       "      <td>1.0</td>\n",
       "      <td>0.0</td>\n",
       "      <td>1</td>\n",
       "    </tr>\n",
       "    <tr>\n",
       "      <th>...</th>\n",
       "      <td>...</td>\n",
       "      <td>...</td>\n",
       "      <td>...</td>\n",
       "      <td>...</td>\n",
       "      <td>...</td>\n",
       "      <td>...</td>\n",
       "      <td>...</td>\n",
       "      <td>...</td>\n",
       "      <td>...</td>\n",
       "      <td>...</td>\n",
       "      <td>...</td>\n",
       "      <td>...</td>\n",
       "    </tr>\n",
       "    <tr>\n",
       "      <th>514691</th>\n",
       "      <td>2022-04-29</td>\n",
       "      <td>J UN Equity</td>\n",
       "      <td>138.5500</td>\n",
       "      <td>0.005370</td>\n",
       "      <td>200.6620</td>\n",
       "      <td>192.782667</td>\n",
       "      <td>1</td>\n",
       "      <td>1</td>\n",
       "      <td>0</td>\n",
       "      <td>0.0</td>\n",
       "      <td>0.0</td>\n",
       "      <td>0</td>\n",
       "    </tr>\n",
       "    <tr>\n",
       "      <th>514692</th>\n",
       "      <td>2022-05-31</td>\n",
       "      <td>J UN Equity</td>\n",
       "      <td>140.0900</td>\n",
       "      <td>0.011115</td>\n",
       "      <td>186.0420</td>\n",
       "      <td>193.828667</td>\n",
       "      <td>1</td>\n",
       "      <td>1</td>\n",
       "      <td>0</td>\n",
       "      <td>0.0</td>\n",
       "      <td>0.0</td>\n",
       "      <td>0</td>\n",
       "    </tr>\n",
       "    <tr>\n",
       "      <th>514693</th>\n",
       "      <td>2022-06-30</td>\n",
       "      <td>J UN Equity</td>\n",
       "      <td>127.1300</td>\n",
       "      <td>-0.092512</td>\n",
       "      <td>180.4620</td>\n",
       "      <td>194.789333</td>\n",
       "      <td>1</td>\n",
       "      <td>1</td>\n",
       "      <td>0</td>\n",
       "      <td>0.0</td>\n",
       "      <td>0.0</td>\n",
       "      <td>0</td>\n",
       "    </tr>\n",
       "    <tr>\n",
       "      <th>514694</th>\n",
       "      <td>2022-07-29</td>\n",
       "      <td>J UN Equity</td>\n",
       "      <td>137.3000</td>\n",
       "      <td>0.079997</td>\n",
       "      <td>178.2420</td>\n",
       "      <td>195.424000</td>\n",
       "      <td>1</td>\n",
       "      <td>1</td>\n",
       "      <td>0</td>\n",
       "      <td>0.0</td>\n",
       "      <td>0.0</td>\n",
       "      <td>0</td>\n",
       "    </tr>\n",
       "    <tr>\n",
       "      <th>514695</th>\n",
       "      <td>2022-08-30</td>\n",
       "      <td>J UN Equity</td>\n",
       "      <td>124.4400</td>\n",
       "      <td>-0.093664</td>\n",
       "      <td>171.9400</td>\n",
       "      <td>194.117333</td>\n",
       "      <td>1</td>\n",
       "      <td>1</td>\n",
       "      <td>0</td>\n",
       "      <td>0.0</td>\n",
       "      <td>0.0</td>\n",
       "      <td>0</td>\n",
       "    </tr>\n",
       "  </tbody>\n",
       "</table>\n",
       "<p>174356 rows × 12 columns</p>\n",
       "</div>"
      ],
      "text/plain": [
       "              date              permno     price      rets       sm5  \\\n",
       "15      1991-04-30  0111145D UN Equity   21.3750  0.039514   21.0375   \n",
       "16      1991-05-31  0111145D UN Equity   21.0000 -0.017544   20.8375   \n",
       "17      1991-06-28  0111145D UN Equity   21.6250  0.029762   21.0375   \n",
       "18      1991-07-31  0111145D UN Equity   21.0625 -0.026012   21.1250   \n",
       "19      1991-08-30  0111145D UN Equity   20.8125 -0.011869   21.1750   \n",
       "...            ...                 ...       ...       ...       ...   \n",
       "514691  2022-04-29         J UN Equity  138.5500  0.005370  200.6620   \n",
       "514692  2022-05-31         J UN Equity  140.0900  0.011115  186.0420   \n",
       "514693  2022-06-30         J UN Equity  127.1300 -0.092512  180.4620   \n",
       "514694  2022-07-29         J UN Equity  137.3000  0.079997  178.2420   \n",
       "514695  2022-08-30         J UN Equity  124.4400 -0.093664  171.9400   \n",
       "\n",
       "              sm15  signal  signal_buy  signal_sell  position_buy  \\\n",
       "15       20.720833      -1           0           -1           0.0   \n",
       "16       20.654167      -1           0           -1           0.0   \n",
       "17       20.795833      -1           0           -1           0.0   \n",
       "18       21.025000       0           0            0           0.0   \n",
       "19       21.091667       1           1            0           1.0   \n",
       "...            ...     ...         ...          ...           ...   \n",
       "514691  192.782667       1           1            0           0.0   \n",
       "514692  193.828667       1           1            0           0.0   \n",
       "514693  194.789333       1           1            0           0.0   \n",
       "514694  195.424000       1           1            0           0.0   \n",
       "514695  194.117333       1           1            0           0.0   \n",
       "\n",
       "        position_sell  position  \n",
       "15                0.0         0  \n",
       "16                0.0         0  \n",
       "17                0.0         0  \n",
       "18                0.0         0  \n",
       "19                0.0         1  \n",
       "...               ...       ...  \n",
       "514691            0.0         0  \n",
       "514692            0.0         0  \n",
       "514693            0.0         0  \n",
       "514694            0.0         0  \n",
       "514695            0.0         0  \n",
       "\n",
       "[174356 rows x 12 columns]"
      ]
     },
     "execution_count": 27,
     "metadata": {},
     "output_type": "execute_result"
    }
   ],
   "source": [
    "data[\"signal_buy\"] = np.where((data.price < data.sm5) & (data.price < data.sm15), 1, 0) # buy\n",
    "data[\"signal_sell\"] = np.where((data.price > data.sm5) & (data.price > data.sm15), -1, 0) # sell\n",
    "data"
   ]
  },
  {
   "cell_type": "code",
   "execution_count": 28,
   "id": "e7484a12",
   "metadata": {},
   "outputs": [],
   "source": [
    "data.loc[:,\"position_buy\"] = data.groupby(\"permno\")[\"signal_buy\"].diff()\n",
    "data.loc[:,\"position_sell\"] = data.groupby(\"permno\")[\"signal_sell\"].diff()\n",
    "# position = 1 -> buy\n",
    "# position = -1 -> sell"
   ]
  },
  {
   "cell_type": "code",
   "execution_count": 30,
   "id": "85f50576",
   "metadata": {},
   "outputs": [
    {
     "name": "stderr",
     "output_type": "stream",
     "text": [
      "/var/folders/ch/yj3xbk4s1t34gtb89jtxcmcr0000gn/T/ipykernel_10932/108836894.py:1: SettingWithCopyWarning: \n",
      "A value is trying to be set on a copy of a slice from a DataFrame.\n",
      "Try using .loc[row_indexer,col_indexer] = value instead\n",
      "\n",
      "See the caveats in the documentation: https://pandas.pydata.org/pandas-docs/stable/user_guide/indexing.html#returning-a-view-versus-a-copy\n",
      "  data.position_buy = data.position_buy.replace(-1, 0)\n",
      "/var/folders/ch/yj3xbk4s1t34gtb89jtxcmcr0000gn/T/ipykernel_10932/108836894.py:2: SettingWithCopyWarning: \n",
      "A value is trying to be set on a copy of a slice from a DataFrame.\n",
      "Try using .loc[row_indexer,col_indexer] = value instead\n",
      "\n",
      "See the caveats in the documentation: https://pandas.pydata.org/pandas-docs/stable/user_guide/indexing.html#returning-a-view-versus-a-copy\n",
      "  data.position_sell = data.position_sell.replace(1, 0)\n"
     ]
    }
   ],
   "source": [
    "data.position_buy = data.position_buy.replace(-1, 0)\n",
    "data.position_sell = data.position_sell.replace(1, 0)"
   ]
  },
  {
   "cell_type": "code",
   "execution_count": 31,
   "id": "80cb9663",
   "metadata": {},
   "outputs": [],
   "source": [
    "data = data.dropna()"
   ]
  },
  {
   "cell_type": "code",
   "execution_count": 32,
   "id": "b7ce2ed1",
   "metadata": {},
   "outputs": [
    {
     "name": "stderr",
     "output_type": "stream",
     "text": [
      "/var/folders/ch/yj3xbk4s1t34gtb89jtxcmcr0000gn/T/ipykernel_10932/576510106.py:1: SettingWithCopyWarning: \n",
      "A value is trying to be set on a copy of a slice from a DataFrame.\n",
      "Try using .loc[row_indexer,col_indexer] = value instead\n",
      "\n",
      "See the caveats in the documentation: https://pandas.pydata.org/pandas-docs/stable/user_guide/indexing.html#returning-a-view-versus-a-copy\n",
      "  data[\"position\"] = np.where(data.position_buy == 1, 1, 0)\n",
      "/var/folders/ch/yj3xbk4s1t34gtb89jtxcmcr0000gn/T/ipykernel_10932/576510106.py:2: SettingWithCopyWarning: \n",
      "A value is trying to be set on a copy of a slice from a DataFrame.\n",
      "Try using .loc[row_indexer,col_indexer] = value instead\n",
      "\n",
      "See the caveats in the documentation: https://pandas.pydata.org/pandas-docs/stable/user_guide/indexing.html#returning-a-view-versus-a-copy\n",
      "  data[\"position\"] = np.where(data.position_sell == -1, -1, data.position)\n"
     ]
    },
    {
     "data": {
      "text/plain": [
       "16        0\n",
       "17        0\n",
       "18        0\n",
       "19        1\n",
       "20       -1\n",
       "         ..\n",
       "514691    0\n",
       "514692    0\n",
       "514693    0\n",
       "514694    0\n",
       "514695    0\n",
       "Name: position, Length: 173210, dtype: int64"
      ]
     },
     "execution_count": 32,
     "metadata": {},
     "output_type": "execute_result"
    }
   ],
   "source": [
    "data[\"position\"] = np.where(data.position_buy == 1, 1, 0)\n",
    "data[\"position\"] = np.where(data.position_sell == -1, -1, data.position)\n",
    "data.position"
   ]
  },
  {
   "cell_type": "code",
   "execution_count": 34,
   "id": "831b0ab9",
   "metadata": {},
   "outputs": [],
   "source": [
    "# shift position (trading decision) by 1 month.\n",
    "data.loc[:,\"position\"] = data.groupby(\"permno\")[\"position\"].shift(1)"
   ]
  },
  {
   "cell_type": "code",
   "execution_count": 35,
   "id": "1c6b0533",
   "metadata": {},
   "outputs": [
    {
     "data": {
      "text/html": [
       "<div>\n",
       "<style scoped>\n",
       "    .dataframe tbody tr th:only-of-type {\n",
       "        vertical-align: middle;\n",
       "    }\n",
       "\n",
       "    .dataframe tbody tr th {\n",
       "        vertical-align: top;\n",
       "    }\n",
       "\n",
       "    .dataframe thead th {\n",
       "        text-align: right;\n",
       "    }\n",
       "</style>\n",
       "<table border=\"1\" class=\"dataframe\">\n",
       "  <thead>\n",
       "    <tr style=\"text-align: right;\">\n",
       "      <th></th>\n",
       "      <th>date</th>\n",
       "      <th>permno</th>\n",
       "      <th>price</th>\n",
       "      <th>rets</th>\n",
       "      <th>sm5</th>\n",
       "      <th>sm15</th>\n",
       "      <th>signal</th>\n",
       "      <th>signal_buy</th>\n",
       "      <th>signal_sell</th>\n",
       "      <th>position_buy</th>\n",
       "      <th>position_sell</th>\n",
       "      <th>position</th>\n",
       "    </tr>\n",
       "  </thead>\n",
       "  <tbody>\n",
       "    <tr>\n",
       "      <th>16</th>\n",
       "      <td>1991-05-31</td>\n",
       "      <td>0111145D UN Equity</td>\n",
       "      <td>21.0000</td>\n",
       "      <td>-0.017544</td>\n",
       "      <td>20.8375</td>\n",
       "      <td>20.654167</td>\n",
       "      <td>-1</td>\n",
       "      <td>0</td>\n",
       "      <td>-1</td>\n",
       "      <td>0.0</td>\n",
       "      <td>0.0</td>\n",
       "      <td>NaN</td>\n",
       "    </tr>\n",
       "    <tr>\n",
       "      <th>17</th>\n",
       "      <td>1991-06-28</td>\n",
       "      <td>0111145D UN Equity</td>\n",
       "      <td>21.6250</td>\n",
       "      <td>0.029762</td>\n",
       "      <td>21.0375</td>\n",
       "      <td>20.795833</td>\n",
       "      <td>-1</td>\n",
       "      <td>0</td>\n",
       "      <td>-1</td>\n",
       "      <td>0.0</td>\n",
       "      <td>0.0</td>\n",
       "      <td>0.0</td>\n",
       "    </tr>\n",
       "    <tr>\n",
       "      <th>18</th>\n",
       "      <td>1991-07-31</td>\n",
       "      <td>0111145D UN Equity</td>\n",
       "      <td>21.0625</td>\n",
       "      <td>-0.026012</td>\n",
       "      <td>21.1250</td>\n",
       "      <td>21.025000</td>\n",
       "      <td>0</td>\n",
       "      <td>0</td>\n",
       "      <td>0</td>\n",
       "      <td>0.0</td>\n",
       "      <td>0.0</td>\n",
       "      <td>0.0</td>\n",
       "    </tr>\n",
       "    <tr>\n",
       "      <th>19</th>\n",
       "      <td>1991-08-30</td>\n",
       "      <td>0111145D UN Equity</td>\n",
       "      <td>20.8125</td>\n",
       "      <td>-0.011869</td>\n",
       "      <td>21.1750</td>\n",
       "      <td>21.091667</td>\n",
       "      <td>1</td>\n",
       "      <td>1</td>\n",
       "      <td>0</td>\n",
       "      <td>1.0</td>\n",
       "      <td>0.0</td>\n",
       "      <td>0.0</td>\n",
       "    </tr>\n",
       "    <tr>\n",
       "      <th>20</th>\n",
       "      <td>1991-09-30</td>\n",
       "      <td>0111145D UN Equity</td>\n",
       "      <td>21.8750</td>\n",
       "      <td>0.051051</td>\n",
       "      <td>21.2750</td>\n",
       "      <td>21.287500</td>\n",
       "      <td>-1</td>\n",
       "      <td>0</td>\n",
       "      <td>-1</td>\n",
       "      <td>0.0</td>\n",
       "      <td>-1.0</td>\n",
       "      <td>1.0</td>\n",
       "    </tr>\n",
       "    <tr>\n",
       "      <th>...</th>\n",
       "      <td>...</td>\n",
       "      <td>...</td>\n",
       "      <td>...</td>\n",
       "      <td>...</td>\n",
       "      <td>...</td>\n",
       "      <td>...</td>\n",
       "      <td>...</td>\n",
       "      <td>...</td>\n",
       "      <td>...</td>\n",
       "      <td>...</td>\n",
       "      <td>...</td>\n",
       "      <td>...</td>\n",
       "    </tr>\n",
       "    <tr>\n",
       "      <th>514691</th>\n",
       "      <td>2022-04-29</td>\n",
       "      <td>J UN Equity</td>\n",
       "      <td>138.5500</td>\n",
       "      <td>0.005370</td>\n",
       "      <td>200.6620</td>\n",
       "      <td>192.782667</td>\n",
       "      <td>1</td>\n",
       "      <td>1</td>\n",
       "      <td>0</td>\n",
       "      <td>0.0</td>\n",
       "      <td>0.0</td>\n",
       "      <td>0.0</td>\n",
       "    </tr>\n",
       "    <tr>\n",
       "      <th>514692</th>\n",
       "      <td>2022-05-31</td>\n",
       "      <td>J UN Equity</td>\n",
       "      <td>140.0900</td>\n",
       "      <td>0.011115</td>\n",
       "      <td>186.0420</td>\n",
       "      <td>193.828667</td>\n",
       "      <td>1</td>\n",
       "      <td>1</td>\n",
       "      <td>0</td>\n",
       "      <td>0.0</td>\n",
       "      <td>0.0</td>\n",
       "      <td>0.0</td>\n",
       "    </tr>\n",
       "    <tr>\n",
       "      <th>514693</th>\n",
       "      <td>2022-06-30</td>\n",
       "      <td>J UN Equity</td>\n",
       "      <td>127.1300</td>\n",
       "      <td>-0.092512</td>\n",
       "      <td>180.4620</td>\n",
       "      <td>194.789333</td>\n",
       "      <td>1</td>\n",
       "      <td>1</td>\n",
       "      <td>0</td>\n",
       "      <td>0.0</td>\n",
       "      <td>0.0</td>\n",
       "      <td>0.0</td>\n",
       "    </tr>\n",
       "    <tr>\n",
       "      <th>514694</th>\n",
       "      <td>2022-07-29</td>\n",
       "      <td>J UN Equity</td>\n",
       "      <td>137.3000</td>\n",
       "      <td>0.079997</td>\n",
       "      <td>178.2420</td>\n",
       "      <td>195.424000</td>\n",
       "      <td>1</td>\n",
       "      <td>1</td>\n",
       "      <td>0</td>\n",
       "      <td>0.0</td>\n",
       "      <td>0.0</td>\n",
       "      <td>0.0</td>\n",
       "    </tr>\n",
       "    <tr>\n",
       "      <th>514695</th>\n",
       "      <td>2022-08-30</td>\n",
       "      <td>J UN Equity</td>\n",
       "      <td>124.4400</td>\n",
       "      <td>-0.093664</td>\n",
       "      <td>171.9400</td>\n",
       "      <td>194.117333</td>\n",
       "      <td>1</td>\n",
       "      <td>1</td>\n",
       "      <td>0</td>\n",
       "      <td>0.0</td>\n",
       "      <td>0.0</td>\n",
       "      <td>0.0</td>\n",
       "    </tr>\n",
       "  </tbody>\n",
       "</table>\n",
       "<p>173210 rows × 12 columns</p>\n",
       "</div>"
      ],
      "text/plain": [
       "              date              permno     price      rets       sm5  \\\n",
       "16      1991-05-31  0111145D UN Equity   21.0000 -0.017544   20.8375   \n",
       "17      1991-06-28  0111145D UN Equity   21.6250  0.029762   21.0375   \n",
       "18      1991-07-31  0111145D UN Equity   21.0625 -0.026012   21.1250   \n",
       "19      1991-08-30  0111145D UN Equity   20.8125 -0.011869   21.1750   \n",
       "20      1991-09-30  0111145D UN Equity   21.8750  0.051051   21.2750   \n",
       "...            ...                 ...       ...       ...       ...   \n",
       "514691  2022-04-29         J UN Equity  138.5500  0.005370  200.6620   \n",
       "514692  2022-05-31         J UN Equity  140.0900  0.011115  186.0420   \n",
       "514693  2022-06-30         J UN Equity  127.1300 -0.092512  180.4620   \n",
       "514694  2022-07-29         J UN Equity  137.3000  0.079997  178.2420   \n",
       "514695  2022-08-30         J UN Equity  124.4400 -0.093664  171.9400   \n",
       "\n",
       "              sm15  signal  signal_buy  signal_sell  position_buy  \\\n",
       "16       20.654167      -1           0           -1           0.0   \n",
       "17       20.795833      -1           0           -1           0.0   \n",
       "18       21.025000       0           0            0           0.0   \n",
       "19       21.091667       1           1            0           1.0   \n",
       "20       21.287500      -1           0           -1           0.0   \n",
       "...            ...     ...         ...          ...           ...   \n",
       "514691  192.782667       1           1            0           0.0   \n",
       "514692  193.828667       1           1            0           0.0   \n",
       "514693  194.789333       1           1            0           0.0   \n",
       "514694  195.424000       1           1            0           0.0   \n",
       "514695  194.117333       1           1            0           0.0   \n",
       "\n",
       "        position_sell  position  \n",
       "16                0.0       NaN  \n",
       "17                0.0       0.0  \n",
       "18                0.0       0.0  \n",
       "19                0.0       0.0  \n",
       "20               -1.0       1.0  \n",
       "...               ...       ...  \n",
       "514691            0.0       0.0  \n",
       "514692            0.0       0.0  \n",
       "514693            0.0       0.0  \n",
       "514694            0.0       0.0  \n",
       "514695            0.0       0.0  \n",
       "\n",
       "[173210 rows x 12 columns]"
      ]
     },
     "execution_count": 35,
     "metadata": {},
     "output_type": "execute_result"
    }
   ],
   "source": [
    "data"
   ]
  },
  {
   "cell_type": "code",
   "execution_count": 46,
   "id": "67160f42",
   "metadata": {},
   "outputs": [],
   "source": [
    "holding = []\n",
    "for _,df in data[[\"permno\", \"position\"]].groupby(\"permno\"):\n",
    "    p = np.zeros(df.shape[0])\n",
    "    for i in range(1,df.shape[0]):\n",
    "        if (data.position.iloc[i] != -1 and p[i-1] == 1) or data.position.iloc[i] == 1:\n",
    "            p[i] = 1\n",
    "        else:\n",
    "            p[i] = 0\n",
    "    holding = holding + list(p)"
   ]
  },
  {
   "cell_type": "code",
   "execution_count": 49,
   "id": "22b41c8e",
   "metadata": {},
   "outputs": [
    {
     "name": "stderr",
     "output_type": "stream",
     "text": [
      "/var/folders/ch/yj3xbk4s1t34gtb89jtxcmcr0000gn/T/ipykernel_10932/3805329903.py:1: SettingWithCopyWarning: \n",
      "A value is trying to be set on a copy of a slice from a DataFrame.\n",
      "Try using .loc[row_indexer,col_indexer] = value instead\n",
      "\n",
      "See the caveats in the documentation: https://pandas.pydata.org/pandas-docs/stable/user_guide/indexing.html#returning-a-view-versus-a-copy\n",
      "  data[\"holding\"] = holding\n"
     ]
    }
   ],
   "source": [
    "data[\"holding\"] = holding"
   ]
  },
  {
   "cell_type": "code",
   "execution_count": 54,
   "id": "48f2b758",
   "metadata": {},
   "outputs": [
    {
     "name": "stderr",
     "output_type": "stream",
     "text": [
      "/var/folders/ch/yj3xbk4s1t34gtb89jtxcmcr0000gn/T/ipykernel_10932/2616624591.py:2: SettingWithCopyWarning: \n",
      "A value is trying to be set on a copy of a slice from a DataFrame.\n",
      "Try using .loc[row_indexer,col_indexer] = value instead\n",
      "\n",
      "See the caveats in the documentation: https://pandas.pydata.org/pandas-docs/stable/user_guide/indexing.html#returning-a-view-versus-a-copy\n",
      "  data[\"br_rets\"] = data[\"holding\"] * data.rets\n"
     ]
    }
   ],
   "source": [
    "# get returns for strategy\n",
    "data[\"br_rets\"] = data[\"holding\"] * data.rets"
   ]
  },
  {
   "cell_type": "markdown",
   "id": "f7404e5e",
   "metadata": {},
   "source": [
    "#### 5. Calculate Trading Return"
   ]
  },
  {
   "cell_type": "code",
   "execution_count": 55,
   "id": "aff602ae",
   "metadata": {},
   "outputs": [],
   "source": [
    "strategy_returns = data.groupby(\"date\")[\"br_rets\"].mean().reset_index()"
   ]
  },
  {
   "cell_type": "code",
   "execution_count": 56,
   "id": "c3ef5e47",
   "metadata": {},
   "outputs": [],
   "source": [
    "strategy_returns.date = pd.to_datetime(strategy_returns.date)"
   ]
  },
  {
   "cell_type": "code",
   "execution_count": 57,
   "id": "2dc22f1e",
   "metadata": {},
   "outputs": [],
   "source": [
    "strategy_returns = strategy_returns.dropna()"
   ]
  },
  {
   "cell_type": "code",
   "execution_count": 59,
   "id": "01e2e46c",
   "metadata": {},
   "outputs": [],
   "source": [
    "strategy_returns[\"br_cum_rets\"] = (strategy_returns.br_rets +1).cumprod()"
   ]
  },
  {
   "cell_type": "markdown",
   "id": "d2add79a",
   "metadata": {},
   "source": [
    "### Evaluation"
   ]
  },
  {
   "cell_type": "code",
   "execution_count": 60,
   "id": "fb1e2a61",
   "metadata": {
    "scrolled": false
   },
   "outputs": [
    {
     "name": "stderr",
     "output_type": "stream",
     "text": [
      "/Library/Frameworks/Python.framework/Versions/3.9/lib/python3.9/site-packages/_plotly_utils/basevalidators.py:105: FutureWarning: The behavior of DatetimeProperties.to_pydatetime is deprecated, in a future version this will return a Series containing python datetime objects instead of an ndarray. To retain the old behavior, call `np.array` on the result\n",
      "  v = v.dt.to_pydatetime()\n"
     ]
    },
    {
     "data": {
      "application/vnd.plotly.v1+json": {
       "config": {
        "plotlyServerURL": "https://plot.ly"
       },
       "data": [
        {
         "hovertemplate": "date=%{x}<br>Cumulative returns=%{y}<extra></extra>",
         "legendgroup": "",
         "line": {
          "color": "#636efa",
          "dash": "solid"
         },
         "marker": {
          "symbol": "circle"
         },
         "mode": "lines",
         "name": "",
         "orientation": "v",
         "showlegend": false,
         "type": "scatter",
         "x": [
          "1991-05-31T00:00:00",
          "1991-06-28T00:00:00",
          "1991-07-31T00:00:00",
          "1991-08-30T00:00:00",
          "1991-09-30T00:00:00",
          "1991-10-31T00:00:00",
          "1991-11-29T00:00:00",
          "1991-12-31T00:00:00",
          "1992-01-31T00:00:00",
          "1992-02-28T00:00:00",
          "1992-03-31T00:00:00",
          "1992-04-30T00:00:00",
          "1992-05-29T00:00:00",
          "1992-06-30T00:00:00",
          "1992-07-31T00:00:00",
          "1992-08-31T00:00:00",
          "1992-09-30T00:00:00",
          "1992-10-30T00:00:00",
          "1992-11-30T00:00:00",
          "1992-12-31T00:00:00",
          "1993-01-29T00:00:00",
          "1993-02-26T00:00:00",
          "1993-03-31T00:00:00",
          "1993-04-30T00:00:00",
          "1993-05-28T00:00:00",
          "1993-06-30T00:00:00",
          "1993-07-30T00:00:00",
          "1993-08-31T00:00:00",
          "1993-09-30T00:00:00",
          "1993-10-29T00:00:00",
          "1993-11-30T00:00:00",
          "1993-12-31T00:00:00",
          "1994-01-31T00:00:00",
          "1994-02-28T00:00:00",
          "1994-03-31T00:00:00",
          "1994-04-29T00:00:00",
          "1994-05-31T00:00:00",
          "1994-06-30T00:00:00",
          "1994-07-29T00:00:00",
          "1994-08-31T00:00:00",
          "1994-09-30T00:00:00",
          "1994-10-31T00:00:00",
          "1994-11-30T00:00:00",
          "1994-12-30T00:00:00",
          "1995-01-31T00:00:00",
          "1995-02-28T00:00:00",
          "1995-03-31T00:00:00",
          "1995-04-28T00:00:00",
          "1995-05-31T00:00:00",
          "1995-06-30T00:00:00",
          "1995-07-31T00:00:00",
          "1995-08-31T00:00:00",
          "1995-09-29T00:00:00",
          "1995-10-31T00:00:00",
          "1995-11-30T00:00:00",
          "1995-12-29T00:00:00",
          "1996-01-31T00:00:00",
          "1996-02-29T00:00:00",
          "1996-03-29T00:00:00",
          "1996-04-30T00:00:00",
          "1996-05-31T00:00:00",
          "1996-06-28T00:00:00",
          "1996-07-31T00:00:00",
          "1996-08-30T00:00:00",
          "1996-09-30T00:00:00",
          "1996-10-31T00:00:00",
          "1996-11-29T00:00:00",
          "1996-12-31T00:00:00",
          "1997-01-31T00:00:00",
          "1997-02-28T00:00:00",
          "1997-03-31T00:00:00",
          "1997-04-30T00:00:00",
          "1997-05-30T00:00:00",
          "1997-06-30T00:00:00",
          "1997-07-31T00:00:00",
          "1997-08-29T00:00:00",
          "1997-09-30T00:00:00",
          "1997-10-31T00:00:00",
          "1997-11-28T00:00:00",
          "1997-12-31T00:00:00",
          "1998-01-30T00:00:00",
          "1998-02-27T00:00:00",
          "1998-03-31T00:00:00",
          "1998-04-30T00:00:00",
          "1998-05-29T00:00:00",
          "1998-06-30T00:00:00",
          "1998-07-31T00:00:00",
          "1998-08-31T00:00:00",
          "1998-09-30T00:00:00",
          "1998-10-30T00:00:00",
          "1998-11-30T00:00:00",
          "1998-12-31T00:00:00",
          "1999-01-29T00:00:00",
          "1999-02-26T00:00:00",
          "1999-03-31T00:00:00",
          "1999-04-30T00:00:00",
          "1999-05-28T00:00:00",
          "1999-06-30T00:00:00",
          "1999-07-30T00:00:00",
          "1999-08-31T00:00:00",
          "1999-09-30T00:00:00",
          "1999-10-29T00:00:00",
          "1999-11-30T00:00:00",
          "1999-12-31T00:00:00",
          "2000-01-31T00:00:00",
          "2000-02-29T00:00:00",
          "2000-03-31T00:00:00",
          "2000-04-28T00:00:00",
          "2000-05-31T00:00:00",
          "2000-06-30T00:00:00",
          "2000-07-31T00:00:00",
          "2000-08-31T00:00:00",
          "2000-09-29T00:00:00",
          "2000-10-31T00:00:00",
          "2000-11-30T00:00:00",
          "2000-12-29T00:00:00",
          "2001-01-31T00:00:00",
          "2001-02-28T00:00:00",
          "2001-03-30T00:00:00",
          "2001-04-30T00:00:00",
          "2001-05-31T00:00:00",
          "2001-06-29T00:00:00",
          "2001-07-31T00:00:00",
          "2001-08-31T00:00:00",
          "2001-09-28T00:00:00",
          "2001-10-31T00:00:00",
          "2001-11-30T00:00:00",
          "2001-12-31T00:00:00",
          "2002-01-31T00:00:00",
          "2002-02-28T00:00:00",
          "2002-03-28T00:00:00",
          "2002-04-30T00:00:00",
          "2002-05-31T00:00:00",
          "2002-06-28T00:00:00",
          "2002-07-31T00:00:00",
          "2002-08-30T00:00:00",
          "2002-09-30T00:00:00",
          "2002-10-31T00:00:00",
          "2002-11-29T00:00:00",
          "2002-12-31T00:00:00",
          "2003-01-31T00:00:00",
          "2003-02-28T00:00:00",
          "2003-03-31T00:00:00",
          "2003-04-30T00:00:00",
          "2003-05-30T00:00:00",
          "2003-06-30T00:00:00",
          "2003-07-31T00:00:00",
          "2003-08-29T00:00:00",
          "2003-09-30T00:00:00",
          "2003-10-31T00:00:00",
          "2003-11-28T00:00:00",
          "2003-12-31T00:00:00",
          "2004-01-30T00:00:00",
          "2004-02-27T00:00:00",
          "2004-03-31T00:00:00",
          "2004-04-30T00:00:00",
          "2004-05-28T00:00:00",
          "2004-06-30T00:00:00",
          "2004-07-30T00:00:00",
          "2004-08-31T00:00:00",
          "2004-09-30T00:00:00",
          "2004-10-29T00:00:00",
          "2004-11-30T00:00:00",
          "2004-12-31T00:00:00",
          "2005-01-31T00:00:00",
          "2005-02-28T00:00:00",
          "2005-03-31T00:00:00",
          "2005-04-29T00:00:00",
          "2005-05-31T00:00:00",
          "2005-06-30T00:00:00",
          "2005-07-29T00:00:00",
          "2005-08-31T00:00:00",
          "2005-09-30T00:00:00",
          "2005-10-31T00:00:00",
          "2005-11-30T00:00:00",
          "2005-12-30T00:00:00",
          "2006-01-31T00:00:00",
          "2006-02-28T00:00:00",
          "2006-03-31T00:00:00",
          "2006-04-28T00:00:00",
          "2006-05-31T00:00:00",
          "2006-06-30T00:00:00",
          "2006-07-31T00:00:00",
          "2006-08-31T00:00:00",
          "2006-09-29T00:00:00",
          "2006-10-31T00:00:00",
          "2006-11-30T00:00:00",
          "2006-12-29T00:00:00",
          "2007-01-31T00:00:00",
          "2007-02-28T00:00:00",
          "2007-03-30T00:00:00",
          "2007-04-30T00:00:00",
          "2007-05-31T00:00:00",
          "2007-06-29T00:00:00",
          "2007-07-31T00:00:00",
          "2007-08-31T00:00:00",
          "2007-09-28T00:00:00",
          "2007-10-31T00:00:00",
          "2007-11-30T00:00:00",
          "2007-12-31T00:00:00",
          "2008-01-31T00:00:00",
          "2008-02-29T00:00:00",
          "2008-03-31T00:00:00",
          "2008-04-30T00:00:00",
          "2008-05-30T00:00:00",
          "2008-06-30T00:00:00",
          "2008-07-31T00:00:00",
          "2008-08-29T00:00:00",
          "2008-09-30T00:00:00",
          "2008-10-31T00:00:00",
          "2008-11-28T00:00:00",
          "2008-12-31T00:00:00",
          "2009-01-30T00:00:00",
          "2009-02-27T00:00:00",
          "2009-03-31T00:00:00",
          "2009-04-30T00:00:00",
          "2009-05-29T00:00:00",
          "2009-06-30T00:00:00",
          "2009-07-31T00:00:00",
          "2009-08-31T00:00:00",
          "2009-09-30T00:00:00",
          "2009-10-30T00:00:00",
          "2009-11-30T00:00:00",
          "2009-12-31T00:00:00",
          "2010-01-29T00:00:00",
          "2010-02-26T00:00:00",
          "2010-03-31T00:00:00",
          "2010-04-30T00:00:00",
          "2010-05-28T00:00:00",
          "2010-06-30T00:00:00",
          "2010-07-30T00:00:00",
          "2010-08-31T00:00:00",
          "2010-09-30T00:00:00",
          "2010-10-29T00:00:00",
          "2010-11-30T00:00:00",
          "2010-12-31T00:00:00",
          "2011-01-31T00:00:00",
          "2011-02-28T00:00:00",
          "2011-03-31T00:00:00",
          "2011-04-29T00:00:00",
          "2011-05-31T00:00:00",
          "2011-06-30T00:00:00",
          "2011-07-29T00:00:00",
          "2011-08-31T00:00:00",
          "2011-09-30T00:00:00",
          "2011-10-31T00:00:00",
          "2011-11-30T00:00:00",
          "2011-12-30T00:00:00",
          "2012-01-31T00:00:00",
          "2012-02-29T00:00:00",
          "2012-03-30T00:00:00",
          "2012-04-30T00:00:00",
          "2012-05-31T00:00:00",
          "2012-06-29T00:00:00",
          "2012-07-31T00:00:00",
          "2012-08-31T00:00:00",
          "2012-09-28T00:00:00",
          "2012-10-31T00:00:00",
          "2012-11-30T00:00:00",
          "2012-12-31T00:00:00",
          "2013-01-31T00:00:00",
          "2013-02-28T00:00:00",
          "2013-03-28T00:00:00",
          "2013-04-30T00:00:00",
          "2013-05-31T00:00:00",
          "2013-06-28T00:00:00",
          "2013-07-31T00:00:00",
          "2013-08-30T00:00:00",
          "2013-09-30T00:00:00",
          "2013-10-31T00:00:00",
          "2013-11-29T00:00:00",
          "2013-12-31T00:00:00",
          "2014-01-31T00:00:00",
          "2014-02-28T00:00:00",
          "2014-03-31T00:00:00",
          "2014-04-30T00:00:00",
          "2014-05-30T00:00:00",
          "2014-06-30T00:00:00",
          "2014-07-31T00:00:00",
          "2014-08-29T00:00:00",
          "2014-09-30T00:00:00",
          "2014-10-31T00:00:00",
          "2014-11-28T00:00:00",
          "2014-12-31T00:00:00",
          "2015-01-30T00:00:00",
          "2015-02-27T00:00:00",
          "2015-03-31T00:00:00",
          "2015-04-30T00:00:00",
          "2015-05-29T00:00:00",
          "2015-06-30T00:00:00",
          "2015-07-31T00:00:00",
          "2015-08-31T00:00:00",
          "2015-09-30T00:00:00",
          "2015-10-30T00:00:00",
          "2015-11-30T00:00:00",
          "2015-12-31T00:00:00",
          "2016-01-29T00:00:00",
          "2016-02-29T00:00:00",
          "2016-03-31T00:00:00",
          "2016-04-29T00:00:00",
          "2016-05-31T00:00:00",
          "2016-06-30T00:00:00",
          "2016-07-29T00:00:00",
          "2016-08-31T00:00:00",
          "2016-09-30T00:00:00",
          "2016-10-31T00:00:00",
          "2016-11-30T00:00:00",
          "2016-12-30T00:00:00",
          "2017-01-31T00:00:00",
          "2017-02-28T00:00:00",
          "2017-03-31T00:00:00",
          "2017-04-28T00:00:00",
          "2017-05-31T00:00:00",
          "2017-06-30T00:00:00",
          "2017-07-31T00:00:00",
          "2017-08-31T00:00:00",
          "2017-09-29T00:00:00",
          "2017-10-31T00:00:00",
          "2017-11-30T00:00:00",
          "2017-12-29T00:00:00",
          "2018-01-31T00:00:00",
          "2018-02-28T00:00:00",
          "2018-03-29T00:00:00",
          "2018-04-30T00:00:00",
          "2018-05-31T00:00:00",
          "2018-06-29T00:00:00",
          "2018-07-31T00:00:00",
          "2018-08-31T00:00:00",
          "2018-09-28T00:00:00",
          "2018-10-31T00:00:00",
          "2018-11-30T00:00:00",
          "2018-12-31T00:00:00",
          "2019-01-31T00:00:00",
          "2019-02-28T00:00:00",
          "2019-03-29T00:00:00",
          "2019-04-30T00:00:00",
          "2019-05-31T00:00:00",
          "2019-06-28T00:00:00",
          "2019-07-31T00:00:00",
          "2019-08-30T00:00:00",
          "2019-09-30T00:00:00",
          "2019-10-31T00:00:00",
          "2019-11-29T00:00:00",
          "2019-12-31T00:00:00",
          "2020-01-31T00:00:00",
          "2020-02-28T00:00:00",
          "2020-03-31T00:00:00",
          "2020-04-30T00:00:00",
          "2020-05-29T00:00:00",
          "2020-06-30T00:00:00",
          "2020-07-31T00:00:00",
          "2020-08-31T00:00:00",
          "2020-09-30T00:00:00",
          "2020-10-30T00:00:00",
          "2020-11-30T00:00:00",
          "2020-12-31T00:00:00",
          "2021-01-29T00:00:00",
          "2021-02-26T00:00:00",
          "2021-03-31T00:00:00",
          "2021-04-30T00:00:00",
          "2021-05-28T00:00:00",
          "2021-06-30T00:00:00",
          "2021-07-30T00:00:00",
          "2021-08-31T00:00:00",
          "2021-09-30T00:00:00",
          "2021-10-29T00:00:00",
          "2021-11-30T00:00:00",
          "2021-12-31T00:00:00",
          "2022-01-31T00:00:00",
          "2022-02-28T00:00:00",
          "2022-03-31T00:00:00",
          "2022-04-29T00:00:00",
          "2022-05-31T00:00:00",
          "2022-06-30T00:00:00",
          "2022-07-29T00:00:00",
          "2022-08-30T00:00:00"
         ],
         "xaxis": "x",
         "y": [
          1.0172273863922645,
          0.9932697462658568,
          1.011124602247972,
          1.024582714613487,
          1.0178298222596456,
          1.0266727238284823,
          1.0107918199288497,
          1.0395720410043499,
          1.0438828872584613,
          1.0514345524961908,
          1.043865240725854,
          1.0465281475578367,
          1.0493708640062136,
          1.0407937808008718,
          1.059816227500399,
          1.0505178055504953,
          1.0591386379412975,
          1.0666699132594544,
          1.0837831905685502,
          1.0927060925434813,
          1.1013748381249204,
          1.1014274801927075,
          1.1135857894475594,
          1.104746859590661,
          1.1194570661742766,
          1.1171154983184222,
          1.1146441649494723,
          1.13392120739488,
          1.1415490263528392,
          1.1462029999432377,
          1.1432156723449667,
          1.1537158911332954,
          1.165838758028882,
          1.1593524531241126,
          1.1369046676897214,
          1.1393161323291483,
          1.1379275718992672,
          1.133141370328439,
          1.1454885703344024,
          1.1647739253655636,
          1.1539436312951703,
          1.1621354195506983,
          1.147987057203801,
          1.1509086576006449,
          1.1624626046668123,
          1.1786536628681565,
          1.1875453008615051,
          1.1969303308975108,
          1.2140470014348455,
          1.2271572670899313,
          1.2430324152403063,
          1.246763786505105,
          1.2561666652953019,
          1.2497335385816075,
          1.2728463709140156,
          1.2743069499190591,
          1.2823668436479287,
          1.2881601949093011,
          1.2970553107859482,
          1.3134109213951426,
          1.3231362453958921,
          1.3149301935900615,
          1.2868745320966088,
          1.3040126044459432,
          1.3248150272152648,
          1.3267346724850018,
          1.348867414636487,
          1.3474243430195798,
          1.3600291855193976,
          1.3619160414517637,
          1.3446237686313063,
          1.3597597260939414,
          1.3980781604742487,
          1.4150732101968624,
          1.446001732514906,
          1.436850087873204,
          1.4630243498620281,
          1.4439483914295153,
          1.457935818184419,
          1.4663451899150477,
          1.4601853921342134,
          1.4947521163161968,
          1.5173778408587628,
          1.5294692655081352,
          1.5146910155663655,
          1.5257478132424005,
          1.495147410407016,
          1.4188823258130892,
          1.4648969110126606,
          1.5053008627123448,
          1.5362433329286729,
          1.5640808090720526,
          1.5703328233225093,
          1.5465745690772603,
          1.5872955489944804,
          1.6392544901100052,
          1.6461839808516257,
          1.6806149207060015,
          1.6667393576941647,
          1.6682062491214011,
          1.6506728507042634,
          1.6649131082297168,
          1.684250601062927,
          1.7306033145053858,
          1.7149354961944965,
          1.7272101077187667,
          1.7986545010653987,
          1.786899371837568,
          1.781278968255035,
          1.7952504227103663,
          1.7987735503245361,
          1.8516094802705487,
          1.8468827228238103,
          1.8508074510782913,
          1.8164274249693189,
          1.8649150812117798,
          1.9035087839629632,
          1.8711859625233527,
          1.8411606379207162,
          1.9056507356363843,
          1.9256871341971646,
          1.9267934679715943,
          1.9176585719067232,
          1.8876623631183467,
          1.8081540533712952,
          1.8443537524984748,
          1.9107959039857034,
          1.9326351479827877,
          1.930066773816859,
          1.9188623582813502,
          1.967572276063329,
          1.9472426147620214,
          1.9343055125392572,
          1.8993438184175502,
          1.853923695276966,
          1.8562789933125634,
          1.8026504609079748,
          1.8434171500083494,
          1.8945224504614562,
          1.871087061354848,
          1.865529410342213,
          1.8601434926402016,
          1.8665238264498432,
          1.927461349189582,
          2.001135154144834,
          2.005513142245414,
          2.0226041290940784,
          2.0536985223347646,
          2.04023958960026,
          2.0944850217974804,
          2.11030279733329,
          2.1359594539424256,
          2.1570729122676906,
          2.172867536843507,
          2.179022104745503,
          2.162166869198559,
          2.1825601371398196,
          2.212790720257247,
          2.176271771516524,
          2.170036333812127,
          2.1915664773454977,
          2.2123626962636367,
          2.254728494145785,
          2.2832732424694546,
          2.256097832151438,
          2.2742384304639347,
          2.2637099600984634,
          2.2391301852734364,
          2.2866088241287836,
          2.302971827154972,
          2.3456449710235487,
          2.339138861693894,
          2.3450020466771613,
          2.3311371583996086,
          2.365429629846477,
          2.372180507722099,
          2.4084310352854645,
          2.3995264525610662,
          2.421213932182213,
          2.430806554783384,
          2.3975516651514663,
          2.397610766836092,
          2.374205382562415,
          2.3982584822947612,
          2.410493408446625,
          2.4415664286190326,
          2.4701281232466545,
          2.4706117504840495,
          2.496252073206883,
          2.494232701514422,
          2.5037186746381006,
          2.5386793062088318,
          2.577372363289917,
          2.56287243299386,
          2.5344278776276115,
          2.539757266404418,
          2.56371856050698,
          2.5790227795176,
          2.535666217660474,
          2.5298331121937445,
          2.475590510513099,
          2.4447590694848915,
          2.4392502249054635,
          2.4963683838015664,
          2.53160980683886,
          2.4318365896158314,
          2.443989587630635,
          2.4886732830294482,
          2.398549491040427,
          2.2026274473814684,
          2.101311391761116,
          2.1322422278340416,
          2.0907181952146887,
          2.025328890478624,
          2.111782070956017,
          2.263826636276352,
          2.321139473956747,
          2.319438725794791,
          2.391663359881675,
          2.434233083119022,
          2.4915739111129267,
          2.4504358459954294,
          2.487482251889009,
          2.541495971833003,
          2.5284905756769134,
          2.566040692991146,
          2.639655707168402,
          2.685372203418878,
          2.6096450567297778,
          2.5507921947530448,
          2.6174224948585953,
          2.569110537275894,
          2.657542815404999,
          2.6934073032444372,
          2.700639400260895,
          2.769951761756122,
          2.795029514597277,
          2.824852793821999,
          2.8402791417866355,
          2.8634126382746734,
          2.851983431055482,
          2.8357559519388644,
          2.8035657714332167,
          2.7410356538993192,
          2.6603116328584213,
          2.781020943936189,
          2.7822683495299994,
          2.7752109507406337,
          2.8396671522820736,
          2.884026699113959,
          2.9065668911623788,
          2.896801304147621,
          2.837561979545367,
          2.8618820998459262,
          2.860843806956796,
          2.8866045401404685,
          2.910888741139273,
          2.8939963549916814,
          2.915442455028513,
          2.9453584904174996,
          3.0097749158608784,
          3.0197727945177193,
          3.054434180513689,
          3.0618754463756956,
          3.097447288384467,
          3.084209517024852,
          3.1465703427703113,
          3.1159226486019995,
          3.1595850763257247,
          3.196833780172757,
          3.218390361191251,
          3.2449410062842743,
          3.2218877004459556,
          3.2850994831215106,
          3.2945072226692487,
          3.285768379441953,
          3.304511557879084,
          3.343501805000473,
          3.3123543801742246,
          3.357056152981708,
          3.322577009874464,
          3.360013650251454,
          3.3894321782981423,
          3.3820227531980516,
          3.33889467484804,
          3.418085697184627,
          3.4046159294553733,
          3.398496270638117,
          3.4080293180791,
          3.377983059919429,
          3.3912459958071364,
          3.353364420527553,
          3.3054756497557185,
          3.3788640575681277,
          3.3747798214656317,
          3.331097705960583,
          3.2698180277971045,
          3.296717742462754,
          3.3837321496439827,
          3.397945473304242,
          3.410182056895808,
          3.4082351589175754,
          3.4670662728567088,
          3.477120569703928,
          3.4802245070207327,
          3.4520300557972,
          3.5061249613128114,
          3.51868258200351,
          3.5417160993868113,
          3.566490815214998,
          3.57375466656299,
          3.5825422463855205,
          3.590312471296389,
          3.6039332099950183,
          3.6334391175859255,
          3.623786205092718,
          3.6588078324812763,
          3.675117107415995,
          3.7065369918219044,
          3.7131998366228647,
          3.7748159345341006,
          3.733374648303057,
          3.7239710139119366,
          3.7357071347926363,
          3.7672775559793727,
          3.7776710267931497,
          3.8085950764732135,
          3.8308344752656254,
          3.8264769133878573,
          3.720373002684206,
          3.747714698084279,
          3.608122463106308,
          3.7559757089339505,
          3.81720775748835,
          3.8221179624134103,
          3.8583484433036594,
          3.757884000245296,
          3.836285896418633,
          3.8410297348411158,
          3.762829485961789,
          3.807394507247222,
          3.824093948697315,
          3.857447527434729,
          3.899791885843515,
          3.859173153737306,
          3.7349996073325955,
          3.490843929145515,
          3.6822746904672075,
          3.7247994324273552,
          3.76181604944853,
          3.819851038122954,
          3.85163952747255,
          3.8181058098623404,
          3.8325084062564287,
          4.04130255351381,
          4.108900118496724,
          4.107365846900209,
          4.160873328096448,
          4.224382661633763,
          4.288755765768461,
          4.3220509480126195,
          4.331009321590816,
          4.331513134577257,
          4.371920835378351,
          4.325496516015093,
          4.399418143905534,
          4.365303079445307,
          4.457316779686308,
          4.3658935671136465,
          4.359949962993606,
          4.418445335464136,
          4.328944136489803,
          4.32974330610728,
          4.208007763685232,
          4.306964473525021,
          4.270554858742784
         ],
         "yaxis": "y"
        }
       ],
       "layout": {
        "legend": {
         "tracegroupgap": 0
        },
        "template": {
         "data": {
          "bar": [
           {
            "error_x": {
             "color": "#2a3f5f"
            },
            "error_y": {
             "color": "#2a3f5f"
            },
            "marker": {
             "line": {
              "color": "#E5ECF6",
              "width": 0.5
             },
             "pattern": {
              "fillmode": "overlay",
              "size": 10,
              "solidity": 0.2
             }
            },
            "type": "bar"
           }
          ],
          "barpolar": [
           {
            "marker": {
             "line": {
              "color": "#E5ECF6",
              "width": 0.5
             },
             "pattern": {
              "fillmode": "overlay",
              "size": 10,
              "solidity": 0.2
             }
            },
            "type": "barpolar"
           }
          ],
          "carpet": [
           {
            "aaxis": {
             "endlinecolor": "#2a3f5f",
             "gridcolor": "white",
             "linecolor": "white",
             "minorgridcolor": "white",
             "startlinecolor": "#2a3f5f"
            },
            "baxis": {
             "endlinecolor": "#2a3f5f",
             "gridcolor": "white",
             "linecolor": "white",
             "minorgridcolor": "white",
             "startlinecolor": "#2a3f5f"
            },
            "type": "carpet"
           }
          ],
          "choropleth": [
           {
            "colorbar": {
             "outlinewidth": 0,
             "ticks": ""
            },
            "type": "choropleth"
           }
          ],
          "contour": [
           {
            "colorbar": {
             "outlinewidth": 0,
             "ticks": ""
            },
            "colorscale": [
             [
              0,
              "#0d0887"
             ],
             [
              0.1111111111111111,
              "#46039f"
             ],
             [
              0.2222222222222222,
              "#7201a8"
             ],
             [
              0.3333333333333333,
              "#9c179e"
             ],
             [
              0.4444444444444444,
              "#bd3786"
             ],
             [
              0.5555555555555556,
              "#d8576b"
             ],
             [
              0.6666666666666666,
              "#ed7953"
             ],
             [
              0.7777777777777778,
              "#fb9f3a"
             ],
             [
              0.8888888888888888,
              "#fdca26"
             ],
             [
              1,
              "#f0f921"
             ]
            ],
            "type": "contour"
           }
          ],
          "contourcarpet": [
           {
            "colorbar": {
             "outlinewidth": 0,
             "ticks": ""
            },
            "type": "contourcarpet"
           }
          ],
          "heatmap": [
           {
            "colorbar": {
             "outlinewidth": 0,
             "ticks": ""
            },
            "colorscale": [
             [
              0,
              "#0d0887"
             ],
             [
              0.1111111111111111,
              "#46039f"
             ],
             [
              0.2222222222222222,
              "#7201a8"
             ],
             [
              0.3333333333333333,
              "#9c179e"
             ],
             [
              0.4444444444444444,
              "#bd3786"
             ],
             [
              0.5555555555555556,
              "#d8576b"
             ],
             [
              0.6666666666666666,
              "#ed7953"
             ],
             [
              0.7777777777777778,
              "#fb9f3a"
             ],
             [
              0.8888888888888888,
              "#fdca26"
             ],
             [
              1,
              "#f0f921"
             ]
            ],
            "type": "heatmap"
           }
          ],
          "heatmapgl": [
           {
            "colorbar": {
             "outlinewidth": 0,
             "ticks": ""
            },
            "colorscale": [
             [
              0,
              "#0d0887"
             ],
             [
              0.1111111111111111,
              "#46039f"
             ],
             [
              0.2222222222222222,
              "#7201a8"
             ],
             [
              0.3333333333333333,
              "#9c179e"
             ],
             [
              0.4444444444444444,
              "#bd3786"
             ],
             [
              0.5555555555555556,
              "#d8576b"
             ],
             [
              0.6666666666666666,
              "#ed7953"
             ],
             [
              0.7777777777777778,
              "#fb9f3a"
             ],
             [
              0.8888888888888888,
              "#fdca26"
             ],
             [
              1,
              "#f0f921"
             ]
            ],
            "type": "heatmapgl"
           }
          ],
          "histogram": [
           {
            "marker": {
             "pattern": {
              "fillmode": "overlay",
              "size": 10,
              "solidity": 0.2
             }
            },
            "type": "histogram"
           }
          ],
          "histogram2d": [
           {
            "colorbar": {
             "outlinewidth": 0,
             "ticks": ""
            },
            "colorscale": [
             [
              0,
              "#0d0887"
             ],
             [
              0.1111111111111111,
              "#46039f"
             ],
             [
              0.2222222222222222,
              "#7201a8"
             ],
             [
              0.3333333333333333,
              "#9c179e"
             ],
             [
              0.4444444444444444,
              "#bd3786"
             ],
             [
              0.5555555555555556,
              "#d8576b"
             ],
             [
              0.6666666666666666,
              "#ed7953"
             ],
             [
              0.7777777777777778,
              "#fb9f3a"
             ],
             [
              0.8888888888888888,
              "#fdca26"
             ],
             [
              1,
              "#f0f921"
             ]
            ],
            "type": "histogram2d"
           }
          ],
          "histogram2dcontour": [
           {
            "colorbar": {
             "outlinewidth": 0,
             "ticks": ""
            },
            "colorscale": [
             [
              0,
              "#0d0887"
             ],
             [
              0.1111111111111111,
              "#46039f"
             ],
             [
              0.2222222222222222,
              "#7201a8"
             ],
             [
              0.3333333333333333,
              "#9c179e"
             ],
             [
              0.4444444444444444,
              "#bd3786"
             ],
             [
              0.5555555555555556,
              "#d8576b"
             ],
             [
              0.6666666666666666,
              "#ed7953"
             ],
             [
              0.7777777777777778,
              "#fb9f3a"
             ],
             [
              0.8888888888888888,
              "#fdca26"
             ],
             [
              1,
              "#f0f921"
             ]
            ],
            "type": "histogram2dcontour"
           }
          ],
          "mesh3d": [
           {
            "colorbar": {
             "outlinewidth": 0,
             "ticks": ""
            },
            "type": "mesh3d"
           }
          ],
          "parcoords": [
           {
            "line": {
             "colorbar": {
              "outlinewidth": 0,
              "ticks": ""
             }
            },
            "type": "parcoords"
           }
          ],
          "pie": [
           {
            "automargin": true,
            "type": "pie"
           }
          ],
          "scatter": [
           {
            "fillpattern": {
             "fillmode": "overlay",
             "size": 10,
             "solidity": 0.2
            },
            "type": "scatter"
           }
          ],
          "scatter3d": [
           {
            "line": {
             "colorbar": {
              "outlinewidth": 0,
              "ticks": ""
             }
            },
            "marker": {
             "colorbar": {
              "outlinewidth": 0,
              "ticks": ""
             }
            },
            "type": "scatter3d"
           }
          ],
          "scattercarpet": [
           {
            "marker": {
             "colorbar": {
              "outlinewidth": 0,
              "ticks": ""
             }
            },
            "type": "scattercarpet"
           }
          ],
          "scattergeo": [
           {
            "marker": {
             "colorbar": {
              "outlinewidth": 0,
              "ticks": ""
             }
            },
            "type": "scattergeo"
           }
          ],
          "scattergl": [
           {
            "marker": {
             "colorbar": {
              "outlinewidth": 0,
              "ticks": ""
             }
            },
            "type": "scattergl"
           }
          ],
          "scattermapbox": [
           {
            "marker": {
             "colorbar": {
              "outlinewidth": 0,
              "ticks": ""
             }
            },
            "type": "scattermapbox"
           }
          ],
          "scatterpolar": [
           {
            "marker": {
             "colorbar": {
              "outlinewidth": 0,
              "ticks": ""
             }
            },
            "type": "scatterpolar"
           }
          ],
          "scatterpolargl": [
           {
            "marker": {
             "colorbar": {
              "outlinewidth": 0,
              "ticks": ""
             }
            },
            "type": "scatterpolargl"
           }
          ],
          "scatterternary": [
           {
            "marker": {
             "colorbar": {
              "outlinewidth": 0,
              "ticks": ""
             }
            },
            "type": "scatterternary"
           }
          ],
          "surface": [
           {
            "colorbar": {
             "outlinewidth": 0,
             "ticks": ""
            },
            "colorscale": [
             [
              0,
              "#0d0887"
             ],
             [
              0.1111111111111111,
              "#46039f"
             ],
             [
              0.2222222222222222,
              "#7201a8"
             ],
             [
              0.3333333333333333,
              "#9c179e"
             ],
             [
              0.4444444444444444,
              "#bd3786"
             ],
             [
              0.5555555555555556,
              "#d8576b"
             ],
             [
              0.6666666666666666,
              "#ed7953"
             ],
             [
              0.7777777777777778,
              "#fb9f3a"
             ],
             [
              0.8888888888888888,
              "#fdca26"
             ],
             [
              1,
              "#f0f921"
             ]
            ],
            "type": "surface"
           }
          ],
          "table": [
           {
            "cells": {
             "fill": {
              "color": "#EBF0F8"
             },
             "line": {
              "color": "white"
             }
            },
            "header": {
             "fill": {
              "color": "#C8D4E3"
             },
             "line": {
              "color": "white"
             }
            },
            "type": "table"
           }
          ]
         },
         "layout": {
          "annotationdefaults": {
           "arrowcolor": "#2a3f5f",
           "arrowhead": 0,
           "arrowwidth": 1
          },
          "autotypenumbers": "strict",
          "coloraxis": {
           "colorbar": {
            "outlinewidth": 0,
            "ticks": ""
           }
          },
          "colorscale": {
           "diverging": [
            [
             0,
             "#8e0152"
            ],
            [
             0.1,
             "#c51b7d"
            ],
            [
             0.2,
             "#de77ae"
            ],
            [
             0.3,
             "#f1b6da"
            ],
            [
             0.4,
             "#fde0ef"
            ],
            [
             0.5,
             "#f7f7f7"
            ],
            [
             0.6,
             "#e6f5d0"
            ],
            [
             0.7,
             "#b8e186"
            ],
            [
             0.8,
             "#7fbc41"
            ],
            [
             0.9,
             "#4d9221"
            ],
            [
             1,
             "#276419"
            ]
           ],
           "sequential": [
            [
             0,
             "#0d0887"
            ],
            [
             0.1111111111111111,
             "#46039f"
            ],
            [
             0.2222222222222222,
             "#7201a8"
            ],
            [
             0.3333333333333333,
             "#9c179e"
            ],
            [
             0.4444444444444444,
             "#bd3786"
            ],
            [
             0.5555555555555556,
             "#d8576b"
            ],
            [
             0.6666666666666666,
             "#ed7953"
            ],
            [
             0.7777777777777778,
             "#fb9f3a"
            ],
            [
             0.8888888888888888,
             "#fdca26"
            ],
            [
             1,
             "#f0f921"
            ]
           ],
           "sequentialminus": [
            [
             0,
             "#0d0887"
            ],
            [
             0.1111111111111111,
             "#46039f"
            ],
            [
             0.2222222222222222,
             "#7201a8"
            ],
            [
             0.3333333333333333,
             "#9c179e"
            ],
            [
             0.4444444444444444,
             "#bd3786"
            ],
            [
             0.5555555555555556,
             "#d8576b"
            ],
            [
             0.6666666666666666,
             "#ed7953"
            ],
            [
             0.7777777777777778,
             "#fb9f3a"
            ],
            [
             0.8888888888888888,
             "#fdca26"
            ],
            [
             1,
             "#f0f921"
            ]
           ]
          },
          "colorway": [
           "#636efa",
           "#EF553B",
           "#00cc96",
           "#ab63fa",
           "#FFA15A",
           "#19d3f3",
           "#FF6692",
           "#B6E880",
           "#FF97FF",
           "#FECB52"
          ],
          "font": {
           "color": "#2a3f5f"
          },
          "geo": {
           "bgcolor": "white",
           "lakecolor": "white",
           "landcolor": "#E5ECF6",
           "showlakes": true,
           "showland": true,
           "subunitcolor": "white"
          },
          "hoverlabel": {
           "align": "left"
          },
          "hovermode": "closest",
          "mapbox": {
           "style": "light"
          },
          "paper_bgcolor": "white",
          "plot_bgcolor": "#E5ECF6",
          "polar": {
           "angularaxis": {
            "gridcolor": "white",
            "linecolor": "white",
            "ticks": ""
           },
           "bgcolor": "#E5ECF6",
           "radialaxis": {
            "gridcolor": "white",
            "linecolor": "white",
            "ticks": ""
           }
          },
          "scene": {
           "xaxis": {
            "backgroundcolor": "#E5ECF6",
            "gridcolor": "white",
            "gridwidth": 2,
            "linecolor": "white",
            "showbackground": true,
            "ticks": "",
            "zerolinecolor": "white"
           },
           "yaxis": {
            "backgroundcolor": "#E5ECF6",
            "gridcolor": "white",
            "gridwidth": 2,
            "linecolor": "white",
            "showbackground": true,
            "ticks": "",
            "zerolinecolor": "white"
           },
           "zaxis": {
            "backgroundcolor": "#E5ECF6",
            "gridcolor": "white",
            "gridwidth": 2,
            "linecolor": "white",
            "showbackground": true,
            "ticks": "",
            "zerolinecolor": "white"
           }
          },
          "shapedefaults": {
           "line": {
            "color": "#2a3f5f"
           }
          },
          "ternary": {
           "aaxis": {
            "gridcolor": "white",
            "linecolor": "white",
            "ticks": ""
           },
           "baxis": {
            "gridcolor": "white",
            "linecolor": "white",
            "ticks": ""
           },
           "bgcolor": "#E5ECF6",
           "caxis": {
            "gridcolor": "white",
            "linecolor": "white",
            "ticks": ""
           }
          },
          "title": {
           "x": 0.05
          },
          "xaxis": {
           "automargin": true,
           "gridcolor": "white",
           "linecolor": "white",
           "ticks": "",
           "title": {
            "standoff": 15
           },
           "zerolinecolor": "white",
           "zerolinewidth": 2
          },
          "yaxis": {
           "automargin": true,
           "gridcolor": "white",
           "linecolor": "white",
           "ticks": "",
           "title": {
            "standoff": 15
           },
           "zerolinecolor": "white",
           "zerolinewidth": 2
          }
         }
        },
        "title": {
         "text": "Breakout Returns"
        },
        "xaxis": {
         "anchor": "y",
         "domain": [
          0,
          1
         ],
         "title": {
          "text": "date"
         }
        },
        "yaxis": {
         "anchor": "x",
         "domain": [
          0,
          1
         ],
         "title": {
          "text": "Cumulative returns"
         }
        }
       }
      }
     },
     "metadata": {},
     "output_type": "display_data"
    }
   ],
   "source": [
    "px.line(strategy_returns, y='br_cum_rets', x='date', labels={'br_cum_rets': 'Cumulative returns'}, title = 'Breakout Returns').show()"
   ]
  },
  {
   "cell_type": "code",
   "execution_count": 61,
   "id": "57bd7d0f",
   "metadata": {},
   "outputs": [
    {
     "data": {
      "application/vnd.plotly.v1+json": {
       "config": {
        "plotlyServerURL": "https://plot.ly"
       },
       "data": [
        {
         "alignmentgroup": "True",
         "bingroup": "x",
         "hovertemplate": "variable=br_rets<br>value=%{x}<br>count=%{y}<extra></extra>",
         "legendgroup": "br_rets",
         "marker": {
          "color": "#636efa",
          "pattern": {
           "shape": ""
          }
         },
         "name": "br_rets",
         "offsetgroup": "br_rets",
         "orientation": "v",
         "showlegend": true,
         "type": "histogram",
         "x": [
          0.01722738639226451,
          -0.02355190240343088,
          0.017975837932484574,
          0.013310043426491858,
          -0.006590870856521191,
          0.008687996141835437,
          -0.015468321628739146,
          0.028472946167615327,
          0.004146750859081181,
          0.007234207332933944,
          -0.0071990327428052515,
          0.002551006325424835,
          0.00271633061663046,
          -0.00817354807488814,
          0.0182768643034067,
          -0.008773617263659255,
          0.00820626965602418,
          0.007110754955362413,
          0.016043648645533,
          0.008233106079316523,
          0.007933282005650008,
          0.00004779668643664896,
          0.01103868341175254,
          -0.007937358702541591,
          0.01331545453685748,
          -0.0020916995627680633,
          -0.002212245173099827,
          0.01729434652921868,
          0.006726939145519413,
          0.004076893311597564,
          -0.0026062814339334788,
          0.009184810042702295,
          0.01050767089952987,
          -0.005563638076105791,
          -0.019362347812264567,
          0.002121079020923581,
          -0.001218766583285793,
          -0.004206068724426568,
          0.01089643386895718,
          0.016835920960373403,
          -0.00929819412552023,
          0.007098950098917257,
          -0.012174452399331742,
          0.0025449767734840255,
          0.010038978323661685,
          0.013928240045179757,
          0.007543893743741129,
          0.007902881708341776,
          0.014300473549283347,
          0.01079881226969891,
          0.012936522951146544,
          0.003001829412531845,
          0.007541828606166644,
          -0.005121236609301307,
          0.018494208260298593,
          0.0011474904107983896,
          0.006324923307827522,
          0.004517702005529057,
          0.006905287022374826,
          0.012609801966952263,
          0.00740463159116953,
          -0.006201970382404114,
          -0.021336236425489902,
          0.013317593846085924,
          0.015952623999489726,
          0.001448991165032451,
          0.01668211633455696,
          -0.0010698394825529372,
          0.009354768277059894,
          0.0013873642951607043,
          -0.012697018240584345,
          0.011256648748699439,
          0.028180298066615893,
          0.012156008299885467,
          0.021856482120625277,
          -0.006328930620148959,
          0.01821641812860716,
          -0.013038715612841152,
          0.009686929836222284,
          0.005767998581104216,
          -0.004200782887412181,
          0.023672832482908596,
          0.01513677371357529,
          0.007968631361144151,
          -0.009662338613165875,
          0.0072997050635443764,
          -0.02005600307586541,
          -0.05100840496601313,
          0.03243016306740086,
          0.027581430062374502,
          0.020555671615423154,
          0.018120486219009906,
          0.0039972450363136985,
          -0.015129438735784357,
          0.026329787603785428,
          0.0327342574282652,
          0.0042272208393679825,
          0.020915608616579748,
          -0.008256241713008256,
          0.0008800964712717855,
          -0.010510330138358049,
          0.008626941140624966,
          0.011614715949814221,
          0.02752126875490254,
          -0.009053385128507797,
          0.007157477089667813,
          0.041364043104745965,
          -0.006535512640625325,
          -0.0031453386078217384,
          0.007843495996035897,
          0.0019624714020960617,
          0.029373308239094318,
          -0.002552783131164232,
          0.0021250554818555427,
          -0.018575690350145477,
          0.02669396837766864,
          0.020694616682549394,
          -0.01698065263051574,
          -0.016046146777494247,
          0.035026871847803114,
          0.010514202936609634,
          0.0005745137695439144,
          -0.004740983513135751,
          -0.01564210085560294,
          -0.04211998464370857,
          0.020020251626063332,
          0.0360246245587225,
          0.01142939648945758,
          -0.0013289493201079302,
          -0.005805195803330303,
          0.025384789884359615,
          -0.010332358078343375,
          -0.0066438060284262105,
          -0.018074546081301875,
          -0.02391358673461565,
          0.0012704395772047703,
          -0.028890340621097847,
          0.022614860720053795,
          0.02772313388365469,
          -0.012370077272454557,
          -0.0029702792175851423,
          -0.002887071987261509,
          0.003430022379932434,
          0.03264759971247889,
          0.03822323336663996,
          0.002187752332226174,
          0.008522001919931799,
          0.015373444953171844,
          -0.0065535094796698385,
          0.02658777551113435,
          0.007552107258439399,
          0.01215780817878704,
          0.009884765502591852,
          0.007322248815044474,
          0.0028324634602147226,
          -0.007735229261895275,
          0.009431865889620283,
          0.013850973727140357,
          -0.016503570991330777,
          -0.0028651925674025177,
          0.00992155900705522,
          0.009489202875254909,
          0.019149571611245215,
          0.012659949256765843,
          -0.011901952781010663,
          0.008040696663937428,
          -0.004629448796766424,
          -0.010858182036694254,
          0.02120405466712489,
          0.007156013242633615,
          0.018529598740812354,
          -0.002773697388149858,
          0.00250655704083403,
          -0.005912527154165691,
          0.014710619374456346,
          0.002853975358404672,
          0.015281521555952218,
          -0.0036972546001687832,
          0.009038233188885764,
          0.00396190624614717,
          -0.013680598962709763,
          0.000024650849233038075,
          -0.009761961615046893,
          0.010131010530515553,
          0.005101587773873796,
          0.012890730198026704,
          0.011698102616760148,
          0.00019579034497985352,
          0.010378127084439684,
          -0.0008089614482989726,
          0.0038031628395856216,
          0.013963482369194069,
          0.01524141193669248,
          -0.005625857754425577,
          -0.011098701207309273,
          0.0021027975677868475,
          0.009434481956019742,
          0.005969539420736508,
          -0.0168112364890533,
          -0.002300423228460759,
          -0.02144117784655343,
          -0.012454176446902443,
          -0.002253328210615339,
          0.02341627698253739,
          0.014117076336156234,
          -0.03941097753433509,
          0.004997456682203896,
          0.01828309565022846,
          -0.036213589225868176,
          -0.08168355265997562,
          -0.04599781762494571,
          0.014719777465729297,
          -0.019474350557972694,
          -0.031276001177839206,
          0.04268599578262178,
          0.07199822718994081,
          0.02531679624313708,
          -0.0007327212263797106,
          0.031138841170350644,
          0.017799212025999194,
          0.02355601375708561,
          -0.016510874886758606,
          0.015118292508706891,
          0.021714213198094287,
          -0.005117220841672147,
          0.014850803746492105,
          0.0286881709936741,
          0.01731911329433068,
          -0.02819986987006427,
          -0.022552056198203257,
          0.026121414454148194,
          -0.018457836928352487,
          0.03442135978425926,
          0.013495356549494608,
          0.002685110791727055,
          0.025665167103957318,
          0.00905349803826775,
          0.010670112451037488,
          0.005460938707451905,
          0.008144796808065282,
          -0.003991463565683545,
          -0.0056898924937345795,
          -0.011351534141588876,
          -0.0223037811957346,
          -0.029450190086386573,
          0.04537412443972562,
          0.00044854232275027476,
          -0.002536562941729853,
          0.023225694437476227,
          0.015621389568927755,
          0.007815528218010154,
          -0.0033598356344218066,
          -0.020449909532088105,
          0.008570780295151684,
          -0.00036280072096119746,
          0.009004592673332599,
          0.008412721819395005,
          -0.00580317135067828,
          0.007410548392654563,
          0.010261233363528485,
          0.02187048729482428,
          0.0033218027714146223,
          0.011478143673224734,
          0.0024362174537855704,
          0.01161766460842726,
          -0.004273768082916937,
          0.020219386977839166,
          -0.0097400314722755,
          0.014012680238809888,
          0.011789112477499432,
          0.006743103489518783,
          0.008249665861911094,
          -0.007104383652483265,
          0.019619486634126132,
          0.002863760929029424,
          -0.0026525494214019473,
          0.005704351698799413,
          0.011799095399870157,
          -0.009315809185347164,
          0.013495468080058517,
          -0.010270648310907711,
          0.011267350693672793,
          0.008755478729822066,
          -0.0021860372800882287,
          -0.012752154996364206,
          0.023717735972067226,
          -0.003940734353251726,
          -0.0017974593739962625,
          0.002805078093904353,
          -0.008816314460758918,
          0.003926288454514658,
          -0.011170400297241567,
          -0.01428081316742198,
          0.0222020718312757,
          -0.001208760113727618,
          -0.012943693460297561,
          -0.018396241591420785,
          0.008226670241882544,
          0.02639425452184033,
          0.004200487222889458,
          0.0036011712629592267,
          -0.0005709073432884383,
          0.01726145972797756,
          0.002899943657245023,
          0.0008926746296488906,
          -0.008101331154543506,
          0.01567046191407492,
          0.0035816238238116156,
          0.006546062864865254,
          0.006995116246747183,
          0.0020366942533548687,
          0.0024589208388446976,
          0.0021689136865610486,
          0.0037937474265884964,
          0.008187140513336121,
          -0.0026566875571101094,
          0.009664374608893992,
          0.004457537996374652,
          0.008549355976305455,
          0.0017975929595904691,
          0.016593800663116224,
          -0.010978359461693482,
          -0.002518802766123248,
          0.0031515070436521513,
          0.008450989343544631,
          0.002758881091009807,
          0.008186009173571469,
          0.005839265751770409,
          -0.0011374967793318163,
          -0.027728877791584536,
          0.00734918121928808,
          -0.03724729501136423,
          0.04097789011860559,
          0.01630256777453402,
          0.001286334209980386,
          0.009479163449830295,
          -0.026038198606122328,
          0.020863309290073538,
          0.0012365706181886342,
          -0.02035918862329804,
          0.01184348678346823,
          0.004386054930295895,
          0.00872195588938808,
          0.010977299913382404,
          -0.01041561531877059,
          -0.03217620496879187,
          -0.06536966636027246,
          0.054837960449452314,
          0.0115484980167931,
          0.009937881943096229,
          0.015427386111272319,
          0.008321918585918677,
          -0.008706348912203246,
          0.003772183672041152,
          0.05447976237091408,
          0.016726677621337616,
          -0.00037340201812346323,
          0.013027201177275342,
          0.015263462386241407,
          0.015238464242205147,
          0.007763366361383965,
          0.002072713553345845,
          0.00011632692267126488,
          0.009328772543370577,
          -0.010618746567317565,
          0.017089743944249388,
          -0.007754449189488035,
          0.021078421948354933,
          -0.020510817851069535,
          -0.001361371739524588,
          0.013416523805783745,
          -0.020256264857677796,
          0.0001846107485516418,
          -0.02811611077505091,
          0.023516284996852235,
          -0.008453660346178204
         ],
         "xaxis": "x",
         "yaxis": "y"
        }
       ],
       "layout": {
        "barmode": "relative",
        "legend": {
         "title": {
          "text": "variable"
         },
         "tracegroupgap": 0
        },
        "margin": {
         "t": 60
        },
        "template": {
         "data": {
          "bar": [
           {
            "error_x": {
             "color": "#2a3f5f"
            },
            "error_y": {
             "color": "#2a3f5f"
            },
            "marker": {
             "line": {
              "color": "#E5ECF6",
              "width": 0.5
             },
             "pattern": {
              "fillmode": "overlay",
              "size": 10,
              "solidity": 0.2
             }
            },
            "type": "bar"
           }
          ],
          "barpolar": [
           {
            "marker": {
             "line": {
              "color": "#E5ECF6",
              "width": 0.5
             },
             "pattern": {
              "fillmode": "overlay",
              "size": 10,
              "solidity": 0.2
             }
            },
            "type": "barpolar"
           }
          ],
          "carpet": [
           {
            "aaxis": {
             "endlinecolor": "#2a3f5f",
             "gridcolor": "white",
             "linecolor": "white",
             "minorgridcolor": "white",
             "startlinecolor": "#2a3f5f"
            },
            "baxis": {
             "endlinecolor": "#2a3f5f",
             "gridcolor": "white",
             "linecolor": "white",
             "minorgridcolor": "white",
             "startlinecolor": "#2a3f5f"
            },
            "type": "carpet"
           }
          ],
          "choropleth": [
           {
            "colorbar": {
             "outlinewidth": 0,
             "ticks": ""
            },
            "type": "choropleth"
           }
          ],
          "contour": [
           {
            "colorbar": {
             "outlinewidth": 0,
             "ticks": ""
            },
            "colorscale": [
             [
              0,
              "#0d0887"
             ],
             [
              0.1111111111111111,
              "#46039f"
             ],
             [
              0.2222222222222222,
              "#7201a8"
             ],
             [
              0.3333333333333333,
              "#9c179e"
             ],
             [
              0.4444444444444444,
              "#bd3786"
             ],
             [
              0.5555555555555556,
              "#d8576b"
             ],
             [
              0.6666666666666666,
              "#ed7953"
             ],
             [
              0.7777777777777778,
              "#fb9f3a"
             ],
             [
              0.8888888888888888,
              "#fdca26"
             ],
             [
              1,
              "#f0f921"
             ]
            ],
            "type": "contour"
           }
          ],
          "contourcarpet": [
           {
            "colorbar": {
             "outlinewidth": 0,
             "ticks": ""
            },
            "type": "contourcarpet"
           }
          ],
          "heatmap": [
           {
            "colorbar": {
             "outlinewidth": 0,
             "ticks": ""
            },
            "colorscale": [
             [
              0,
              "#0d0887"
             ],
             [
              0.1111111111111111,
              "#46039f"
             ],
             [
              0.2222222222222222,
              "#7201a8"
             ],
             [
              0.3333333333333333,
              "#9c179e"
             ],
             [
              0.4444444444444444,
              "#bd3786"
             ],
             [
              0.5555555555555556,
              "#d8576b"
             ],
             [
              0.6666666666666666,
              "#ed7953"
             ],
             [
              0.7777777777777778,
              "#fb9f3a"
             ],
             [
              0.8888888888888888,
              "#fdca26"
             ],
             [
              1,
              "#f0f921"
             ]
            ],
            "type": "heatmap"
           }
          ],
          "heatmapgl": [
           {
            "colorbar": {
             "outlinewidth": 0,
             "ticks": ""
            },
            "colorscale": [
             [
              0,
              "#0d0887"
             ],
             [
              0.1111111111111111,
              "#46039f"
             ],
             [
              0.2222222222222222,
              "#7201a8"
             ],
             [
              0.3333333333333333,
              "#9c179e"
             ],
             [
              0.4444444444444444,
              "#bd3786"
             ],
             [
              0.5555555555555556,
              "#d8576b"
             ],
             [
              0.6666666666666666,
              "#ed7953"
             ],
             [
              0.7777777777777778,
              "#fb9f3a"
             ],
             [
              0.8888888888888888,
              "#fdca26"
             ],
             [
              1,
              "#f0f921"
             ]
            ],
            "type": "heatmapgl"
           }
          ],
          "histogram": [
           {
            "marker": {
             "pattern": {
              "fillmode": "overlay",
              "size": 10,
              "solidity": 0.2
             }
            },
            "type": "histogram"
           }
          ],
          "histogram2d": [
           {
            "colorbar": {
             "outlinewidth": 0,
             "ticks": ""
            },
            "colorscale": [
             [
              0,
              "#0d0887"
             ],
             [
              0.1111111111111111,
              "#46039f"
             ],
             [
              0.2222222222222222,
              "#7201a8"
             ],
             [
              0.3333333333333333,
              "#9c179e"
             ],
             [
              0.4444444444444444,
              "#bd3786"
             ],
             [
              0.5555555555555556,
              "#d8576b"
             ],
             [
              0.6666666666666666,
              "#ed7953"
             ],
             [
              0.7777777777777778,
              "#fb9f3a"
             ],
             [
              0.8888888888888888,
              "#fdca26"
             ],
             [
              1,
              "#f0f921"
             ]
            ],
            "type": "histogram2d"
           }
          ],
          "histogram2dcontour": [
           {
            "colorbar": {
             "outlinewidth": 0,
             "ticks": ""
            },
            "colorscale": [
             [
              0,
              "#0d0887"
             ],
             [
              0.1111111111111111,
              "#46039f"
             ],
             [
              0.2222222222222222,
              "#7201a8"
             ],
             [
              0.3333333333333333,
              "#9c179e"
             ],
             [
              0.4444444444444444,
              "#bd3786"
             ],
             [
              0.5555555555555556,
              "#d8576b"
             ],
             [
              0.6666666666666666,
              "#ed7953"
             ],
             [
              0.7777777777777778,
              "#fb9f3a"
             ],
             [
              0.8888888888888888,
              "#fdca26"
             ],
             [
              1,
              "#f0f921"
             ]
            ],
            "type": "histogram2dcontour"
           }
          ],
          "mesh3d": [
           {
            "colorbar": {
             "outlinewidth": 0,
             "ticks": ""
            },
            "type": "mesh3d"
           }
          ],
          "parcoords": [
           {
            "line": {
             "colorbar": {
              "outlinewidth": 0,
              "ticks": ""
             }
            },
            "type": "parcoords"
           }
          ],
          "pie": [
           {
            "automargin": true,
            "type": "pie"
           }
          ],
          "scatter": [
           {
            "fillpattern": {
             "fillmode": "overlay",
             "size": 10,
             "solidity": 0.2
            },
            "type": "scatter"
           }
          ],
          "scatter3d": [
           {
            "line": {
             "colorbar": {
              "outlinewidth": 0,
              "ticks": ""
             }
            },
            "marker": {
             "colorbar": {
              "outlinewidth": 0,
              "ticks": ""
             }
            },
            "type": "scatter3d"
           }
          ],
          "scattercarpet": [
           {
            "marker": {
             "colorbar": {
              "outlinewidth": 0,
              "ticks": ""
             }
            },
            "type": "scattercarpet"
           }
          ],
          "scattergeo": [
           {
            "marker": {
             "colorbar": {
              "outlinewidth": 0,
              "ticks": ""
             }
            },
            "type": "scattergeo"
           }
          ],
          "scattergl": [
           {
            "marker": {
             "colorbar": {
              "outlinewidth": 0,
              "ticks": ""
             }
            },
            "type": "scattergl"
           }
          ],
          "scattermapbox": [
           {
            "marker": {
             "colorbar": {
              "outlinewidth": 0,
              "ticks": ""
             }
            },
            "type": "scattermapbox"
           }
          ],
          "scatterpolar": [
           {
            "marker": {
             "colorbar": {
              "outlinewidth": 0,
              "ticks": ""
             }
            },
            "type": "scatterpolar"
           }
          ],
          "scatterpolargl": [
           {
            "marker": {
             "colorbar": {
              "outlinewidth": 0,
              "ticks": ""
             }
            },
            "type": "scatterpolargl"
           }
          ],
          "scatterternary": [
           {
            "marker": {
             "colorbar": {
              "outlinewidth": 0,
              "ticks": ""
             }
            },
            "type": "scatterternary"
           }
          ],
          "surface": [
           {
            "colorbar": {
             "outlinewidth": 0,
             "ticks": ""
            },
            "colorscale": [
             [
              0,
              "#0d0887"
             ],
             [
              0.1111111111111111,
              "#46039f"
             ],
             [
              0.2222222222222222,
              "#7201a8"
             ],
             [
              0.3333333333333333,
              "#9c179e"
             ],
             [
              0.4444444444444444,
              "#bd3786"
             ],
             [
              0.5555555555555556,
              "#d8576b"
             ],
             [
              0.6666666666666666,
              "#ed7953"
             ],
             [
              0.7777777777777778,
              "#fb9f3a"
             ],
             [
              0.8888888888888888,
              "#fdca26"
             ],
             [
              1,
              "#f0f921"
             ]
            ],
            "type": "surface"
           }
          ],
          "table": [
           {
            "cells": {
             "fill": {
              "color": "#EBF0F8"
             },
             "line": {
              "color": "white"
             }
            },
            "header": {
             "fill": {
              "color": "#C8D4E3"
             },
             "line": {
              "color": "white"
             }
            },
            "type": "table"
           }
          ]
         },
         "layout": {
          "annotationdefaults": {
           "arrowcolor": "#2a3f5f",
           "arrowhead": 0,
           "arrowwidth": 1
          },
          "autotypenumbers": "strict",
          "coloraxis": {
           "colorbar": {
            "outlinewidth": 0,
            "ticks": ""
           }
          },
          "colorscale": {
           "diverging": [
            [
             0,
             "#8e0152"
            ],
            [
             0.1,
             "#c51b7d"
            ],
            [
             0.2,
             "#de77ae"
            ],
            [
             0.3,
             "#f1b6da"
            ],
            [
             0.4,
             "#fde0ef"
            ],
            [
             0.5,
             "#f7f7f7"
            ],
            [
             0.6,
             "#e6f5d0"
            ],
            [
             0.7,
             "#b8e186"
            ],
            [
             0.8,
             "#7fbc41"
            ],
            [
             0.9,
             "#4d9221"
            ],
            [
             1,
             "#276419"
            ]
           ],
           "sequential": [
            [
             0,
             "#0d0887"
            ],
            [
             0.1111111111111111,
             "#46039f"
            ],
            [
             0.2222222222222222,
             "#7201a8"
            ],
            [
             0.3333333333333333,
             "#9c179e"
            ],
            [
             0.4444444444444444,
             "#bd3786"
            ],
            [
             0.5555555555555556,
             "#d8576b"
            ],
            [
             0.6666666666666666,
             "#ed7953"
            ],
            [
             0.7777777777777778,
             "#fb9f3a"
            ],
            [
             0.8888888888888888,
             "#fdca26"
            ],
            [
             1,
             "#f0f921"
            ]
           ],
           "sequentialminus": [
            [
             0,
             "#0d0887"
            ],
            [
             0.1111111111111111,
             "#46039f"
            ],
            [
             0.2222222222222222,
             "#7201a8"
            ],
            [
             0.3333333333333333,
             "#9c179e"
            ],
            [
             0.4444444444444444,
             "#bd3786"
            ],
            [
             0.5555555555555556,
             "#d8576b"
            ],
            [
             0.6666666666666666,
             "#ed7953"
            ],
            [
             0.7777777777777778,
             "#fb9f3a"
            ],
            [
             0.8888888888888888,
             "#fdca26"
            ],
            [
             1,
             "#f0f921"
            ]
           ]
          },
          "colorway": [
           "#636efa",
           "#EF553B",
           "#00cc96",
           "#ab63fa",
           "#FFA15A",
           "#19d3f3",
           "#FF6692",
           "#B6E880",
           "#FF97FF",
           "#FECB52"
          ],
          "font": {
           "color": "#2a3f5f"
          },
          "geo": {
           "bgcolor": "white",
           "lakecolor": "white",
           "landcolor": "#E5ECF6",
           "showlakes": true,
           "showland": true,
           "subunitcolor": "white"
          },
          "hoverlabel": {
           "align": "left"
          },
          "hovermode": "closest",
          "mapbox": {
           "style": "light"
          },
          "paper_bgcolor": "white",
          "plot_bgcolor": "#E5ECF6",
          "polar": {
           "angularaxis": {
            "gridcolor": "white",
            "linecolor": "white",
            "ticks": ""
           },
           "bgcolor": "#E5ECF6",
           "radialaxis": {
            "gridcolor": "white",
            "linecolor": "white",
            "ticks": ""
           }
          },
          "scene": {
           "xaxis": {
            "backgroundcolor": "#E5ECF6",
            "gridcolor": "white",
            "gridwidth": 2,
            "linecolor": "white",
            "showbackground": true,
            "ticks": "",
            "zerolinecolor": "white"
           },
           "yaxis": {
            "backgroundcolor": "#E5ECF6",
            "gridcolor": "white",
            "gridwidth": 2,
            "linecolor": "white",
            "showbackground": true,
            "ticks": "",
            "zerolinecolor": "white"
           },
           "zaxis": {
            "backgroundcolor": "#E5ECF6",
            "gridcolor": "white",
            "gridwidth": 2,
            "linecolor": "white",
            "showbackground": true,
            "ticks": "",
            "zerolinecolor": "white"
           }
          },
          "shapedefaults": {
           "line": {
            "color": "#2a3f5f"
           }
          },
          "ternary": {
           "aaxis": {
            "gridcolor": "white",
            "linecolor": "white",
            "ticks": ""
           },
           "baxis": {
            "gridcolor": "white",
            "linecolor": "white",
            "ticks": ""
           },
           "bgcolor": "#E5ECF6",
           "caxis": {
            "gridcolor": "white",
            "linecolor": "white",
            "ticks": ""
           }
          },
          "title": {
           "x": 0.05
          },
          "xaxis": {
           "automargin": true,
           "gridcolor": "white",
           "linecolor": "white",
           "ticks": "",
           "title": {
            "standoff": 15
           },
           "zerolinecolor": "white",
           "zerolinewidth": 2
          },
          "yaxis": {
           "automargin": true,
           "gridcolor": "white",
           "linecolor": "white",
           "ticks": "",
           "title": {
            "standoff": 15
           },
           "zerolinecolor": "white",
           "zerolinewidth": 2
          }
         }
        },
        "xaxis": {
         "anchor": "y",
         "domain": [
          0,
          1
         ],
         "title": {
          "text": "value"
         }
        },
        "yaxis": {
         "anchor": "x",
         "domain": [
          0,
          1
         ],
         "title": {
          "text": "count"
         }
        }
       }
      }
     },
     "metadata": {},
     "output_type": "display_data"
    }
   ],
   "source": [
    "px.histogram(strategy_returns[['br_rets']]).show()"
   ]
  },
  {
   "cell_type": "code",
   "execution_count": 62,
   "id": "4273827e",
   "metadata": {},
   "outputs": [
    {
     "name": "stderr",
     "output_type": "stream",
     "text": [
      "/Library/Frameworks/Python.framework/Versions/3.9/lib/python3.9/site-packages/_plotly_utils/basevalidators.py:105: FutureWarning:\n",
      "\n",
      "The behavior of DatetimeProperties.to_pydatetime is deprecated, in a future version this will return a Series containing python datetime objects instead of an ndarray. To retain the old behavior, call `np.array` on the result\n",
      "\n"
     ]
    },
    {
     "data": {
      "application/vnd.plotly.v1+json": {
       "config": {
        "plotlyServerURL": "https://plot.ly"
       },
       "data": [
        {
         "alignmentgroup": "True",
         "hovertemplate": "date=%{x}<br>br_rets=%{y}<extra></extra>",
         "legendgroup": "",
         "marker": {
          "color": [
           "green",
           "red",
           "green",
           "green",
           "red",
           "green",
           "red",
           "green",
           "green",
           "green",
           "red",
           "green",
           "green",
           "red",
           "green",
           "red",
           "green",
           "green",
           "green",
           "green",
           "green",
           "green",
           "green",
           "red",
           "green",
           "red",
           "red",
           "green",
           "green",
           "green",
           "red",
           "green",
           "green",
           "red",
           "red",
           "green",
           "red",
           "red",
           "green",
           "green",
           "red",
           "green",
           "red",
           "green",
           "green",
           "green",
           "green",
           "green",
           "green",
           "green",
           "green",
           "green",
           "green",
           "red",
           "green",
           "green",
           "green",
           "green",
           "green",
           "green",
           "green",
           "red",
           "red",
           "green",
           "green",
           "green",
           "green",
           "red",
           "green",
           "green",
           "red",
           "green",
           "green",
           "green",
           "green",
           "red",
           "green",
           "red",
           "green",
           "green",
           "red",
           "green",
           "green",
           "green",
           "red",
           "green",
           "red",
           "red",
           "green",
           "green",
           "green",
           "green",
           "green",
           "red",
           "green",
           "green",
           "green",
           "green",
           "red",
           "green",
           "red",
           "green",
           "green",
           "green",
           "red",
           "green",
           "green",
           "red",
           "red",
           "green",
           "green",
           "green",
           "red",
           "green",
           "red",
           "green",
           "green",
           "red",
           "red",
           "green",
           "green",
           "green",
           "red",
           "red",
           "red",
           "green",
           "green",
           "green",
           "red",
           "red",
           "green",
           "red",
           "red",
           "red",
           "red",
           "green",
           "red",
           "green",
           "green",
           "red",
           "red",
           "red",
           "green",
           "green",
           "green",
           "green",
           "green",
           "green",
           "red",
           "green",
           "green",
           "green",
           "green",
           "green",
           "green",
           "red",
           "green",
           "green",
           "red",
           "red",
           "green",
           "green",
           "green",
           "green",
           "red",
           "green",
           "red",
           "red",
           "green",
           "green",
           "green",
           "red",
           "green",
           "red",
           "green",
           "green",
           "green",
           "red",
           "green",
           "green",
           "red",
           "green",
           "red",
           "green",
           "green",
           "green",
           "green",
           "green",
           "green",
           "red",
           "green",
           "green",
           "green",
           "red",
           "red",
           "green",
           "green",
           "green",
           "red",
           "red",
           "red",
           "red",
           "red",
           "green",
           "green",
           "red",
           "green",
           "green",
           "red",
           "red",
           "red",
           "green",
           "red",
           "red",
           "green",
           "green",
           "green",
           "red",
           "green",
           "green",
           "green",
           "red",
           "green",
           "green",
           "red",
           "green",
           "green",
           "green",
           "red",
           "red",
           "green",
           "red",
           "green",
           "green",
           "green",
           "green",
           "green",
           "green",
           "green",
           "green",
           "red",
           "red",
           "red",
           "red",
           "red",
           "green",
           "green",
           "red",
           "green",
           "green",
           "green",
           "red",
           "red",
           "green",
           "red",
           "green",
           "green",
           "red",
           "green",
           "green",
           "green",
           "green",
           "green",
           "green",
           "green",
           "red",
           "green",
           "red",
           "green",
           "green",
           "green",
           "green",
           "red",
           "green",
           "green",
           "red",
           "green",
           "green",
           "red",
           "green",
           "red",
           "green",
           "green",
           "red",
           "red",
           "green",
           "red",
           "red",
           "green",
           "red",
           "green",
           "red",
           "red",
           "green",
           "red",
           "red",
           "red",
           "green",
           "green",
           "green",
           "green",
           "red",
           "green",
           "green",
           "green",
           "red",
           "green",
           "green",
           "green",
           "green",
           "green",
           "green",
           "green",
           "green",
           "green",
           "red",
           "green",
           "green",
           "green",
           "green",
           "green",
           "red",
           "red",
           "green",
           "green",
           "green",
           "green",
           "green",
           "red",
           "red",
           "green",
           "red",
           "green",
           "green",
           "green",
           "green",
           "red",
           "green",
           "green",
           "red",
           "green",
           "green",
           "green",
           "green",
           "red",
           "red",
           "red",
           "green",
           "green",
           "green",
           "green",
           "green",
           "red",
           "green",
           "green",
           "green",
           "red",
           "green",
           "green",
           "green",
           "green",
           "green",
           "green",
           "green",
           "red",
           "green",
           "red",
           "green",
           "red",
           "red",
           "green",
           "red",
           "green",
           "red",
           "green",
           "red"
          ],
          "pattern": {
           "shape": ""
          }
         },
         "name": "",
         "offsetgroup": "",
         "orientation": "v",
         "showlegend": false,
         "textposition": "auto",
         "type": "bar",
         "x": [
          "1991-05-31T00:00:00",
          "1991-06-30T00:00:00",
          "1991-07-31T00:00:00",
          "1991-08-31T00:00:00",
          "1991-09-30T00:00:00",
          "1991-10-31T00:00:00",
          "1991-11-30T00:00:00",
          "1991-12-31T00:00:00",
          "1992-01-31T00:00:00",
          "1992-02-29T00:00:00",
          "1992-03-31T00:00:00",
          "1992-04-30T00:00:00",
          "1992-05-31T00:00:00",
          "1992-06-30T00:00:00",
          "1992-07-31T00:00:00",
          "1992-08-31T00:00:00",
          "1992-09-30T00:00:00",
          "1992-10-31T00:00:00",
          "1992-11-30T00:00:00",
          "1992-12-31T00:00:00",
          "1993-01-31T00:00:00",
          "1993-02-28T00:00:00",
          "1993-03-31T00:00:00",
          "1993-04-30T00:00:00",
          "1993-05-31T00:00:00",
          "1993-06-30T00:00:00",
          "1993-07-31T00:00:00",
          "1993-08-31T00:00:00",
          "1993-09-30T00:00:00",
          "1993-10-31T00:00:00",
          "1993-11-30T00:00:00",
          "1993-12-31T00:00:00",
          "1994-01-31T00:00:00",
          "1994-02-28T00:00:00",
          "1994-03-31T00:00:00",
          "1994-04-30T00:00:00",
          "1994-05-31T00:00:00",
          "1994-06-30T00:00:00",
          "1994-07-31T00:00:00",
          "1994-08-31T00:00:00",
          "1994-09-30T00:00:00",
          "1994-10-31T00:00:00",
          "1994-11-30T00:00:00",
          "1994-12-31T00:00:00",
          "1995-01-31T00:00:00",
          "1995-02-28T00:00:00",
          "1995-03-31T00:00:00",
          "1995-04-30T00:00:00",
          "1995-05-31T00:00:00",
          "1995-06-30T00:00:00",
          "1995-07-31T00:00:00",
          "1995-08-31T00:00:00",
          "1995-09-30T00:00:00",
          "1995-10-31T00:00:00",
          "1995-11-30T00:00:00",
          "1995-12-31T00:00:00",
          "1996-01-31T00:00:00",
          "1996-02-29T00:00:00",
          "1996-03-31T00:00:00",
          "1996-04-30T00:00:00",
          "1996-05-31T00:00:00",
          "1996-06-30T00:00:00",
          "1996-07-31T00:00:00",
          "1996-08-31T00:00:00",
          "1996-09-30T00:00:00",
          "1996-10-31T00:00:00",
          "1996-11-30T00:00:00",
          "1996-12-31T00:00:00",
          "1997-01-31T00:00:00",
          "1997-02-28T00:00:00",
          "1997-03-31T00:00:00",
          "1997-04-30T00:00:00",
          "1997-05-31T00:00:00",
          "1997-06-30T00:00:00",
          "1997-07-31T00:00:00",
          "1997-08-31T00:00:00",
          "1997-09-30T00:00:00",
          "1997-10-31T00:00:00",
          "1997-11-30T00:00:00",
          "1997-12-31T00:00:00",
          "1998-01-31T00:00:00",
          "1998-02-28T00:00:00",
          "1998-03-31T00:00:00",
          "1998-04-30T00:00:00",
          "1998-05-31T00:00:00",
          "1998-06-30T00:00:00",
          "1998-07-31T00:00:00",
          "1998-08-31T00:00:00",
          "1998-09-30T00:00:00",
          "1998-10-31T00:00:00",
          "1998-11-30T00:00:00",
          "1998-12-31T00:00:00",
          "1999-01-31T00:00:00",
          "1999-02-28T00:00:00",
          "1999-03-31T00:00:00",
          "1999-04-30T00:00:00",
          "1999-05-31T00:00:00",
          "1999-06-30T00:00:00",
          "1999-07-31T00:00:00",
          "1999-08-31T00:00:00",
          "1999-09-30T00:00:00",
          "1999-10-31T00:00:00",
          "1999-11-30T00:00:00",
          "1999-12-31T00:00:00",
          "2000-01-31T00:00:00",
          "2000-02-29T00:00:00",
          "2000-03-31T00:00:00",
          "2000-04-30T00:00:00",
          "2000-05-31T00:00:00",
          "2000-06-30T00:00:00",
          "2000-07-31T00:00:00",
          "2000-08-31T00:00:00",
          "2000-09-30T00:00:00",
          "2000-10-31T00:00:00",
          "2000-11-30T00:00:00",
          "2000-12-31T00:00:00",
          "2001-01-31T00:00:00",
          "2001-02-28T00:00:00",
          "2001-03-31T00:00:00",
          "2001-04-30T00:00:00",
          "2001-05-31T00:00:00",
          "2001-06-30T00:00:00",
          "2001-07-31T00:00:00",
          "2001-08-31T00:00:00",
          "2001-09-30T00:00:00",
          "2001-10-31T00:00:00",
          "2001-11-30T00:00:00",
          "2001-12-31T00:00:00",
          "2002-01-31T00:00:00",
          "2002-02-28T00:00:00",
          "2002-03-31T00:00:00",
          "2002-04-30T00:00:00",
          "2002-05-31T00:00:00",
          "2002-06-30T00:00:00",
          "2002-07-31T00:00:00",
          "2002-08-31T00:00:00",
          "2002-09-30T00:00:00",
          "2002-10-31T00:00:00",
          "2002-11-30T00:00:00",
          "2002-12-31T00:00:00",
          "2003-01-31T00:00:00",
          "2003-02-28T00:00:00",
          "2003-03-31T00:00:00",
          "2003-04-30T00:00:00",
          "2003-05-31T00:00:00",
          "2003-06-30T00:00:00",
          "2003-07-31T00:00:00",
          "2003-08-31T00:00:00",
          "2003-09-30T00:00:00",
          "2003-10-31T00:00:00",
          "2003-11-30T00:00:00",
          "2003-12-31T00:00:00",
          "2004-01-31T00:00:00",
          "2004-02-29T00:00:00",
          "2004-03-31T00:00:00",
          "2004-04-30T00:00:00",
          "2004-05-31T00:00:00",
          "2004-06-30T00:00:00",
          "2004-07-31T00:00:00",
          "2004-08-31T00:00:00",
          "2004-09-30T00:00:00",
          "2004-10-31T00:00:00",
          "2004-11-30T00:00:00",
          "2004-12-31T00:00:00",
          "2005-01-31T00:00:00",
          "2005-02-28T00:00:00",
          "2005-03-31T00:00:00",
          "2005-04-30T00:00:00",
          "2005-05-31T00:00:00",
          "2005-06-30T00:00:00",
          "2005-07-31T00:00:00",
          "2005-08-31T00:00:00",
          "2005-09-30T00:00:00",
          "2005-10-31T00:00:00",
          "2005-11-30T00:00:00",
          "2005-12-31T00:00:00",
          "2006-01-31T00:00:00",
          "2006-02-28T00:00:00",
          "2006-03-31T00:00:00",
          "2006-04-30T00:00:00",
          "2006-05-31T00:00:00",
          "2006-06-30T00:00:00",
          "2006-07-31T00:00:00",
          "2006-08-31T00:00:00",
          "2006-09-30T00:00:00",
          "2006-10-31T00:00:00",
          "2006-11-30T00:00:00",
          "2006-12-31T00:00:00",
          "2007-01-31T00:00:00",
          "2007-02-28T00:00:00",
          "2007-03-31T00:00:00",
          "2007-04-30T00:00:00",
          "2007-05-31T00:00:00",
          "2007-06-30T00:00:00",
          "2007-07-31T00:00:00",
          "2007-08-31T00:00:00",
          "2007-09-30T00:00:00",
          "2007-10-31T00:00:00",
          "2007-11-30T00:00:00",
          "2007-12-31T00:00:00",
          "2008-01-31T00:00:00",
          "2008-02-29T00:00:00",
          "2008-03-31T00:00:00",
          "2008-04-30T00:00:00",
          "2008-05-31T00:00:00",
          "2008-06-30T00:00:00",
          "2008-07-31T00:00:00",
          "2008-08-31T00:00:00",
          "2008-09-30T00:00:00",
          "2008-10-31T00:00:00",
          "2008-11-30T00:00:00",
          "2008-12-31T00:00:00",
          "2009-01-31T00:00:00",
          "2009-02-28T00:00:00",
          "2009-03-31T00:00:00",
          "2009-04-30T00:00:00",
          "2009-05-31T00:00:00",
          "2009-06-30T00:00:00",
          "2009-07-31T00:00:00",
          "2009-08-31T00:00:00",
          "2009-09-30T00:00:00",
          "2009-10-31T00:00:00",
          "2009-11-30T00:00:00",
          "2009-12-31T00:00:00",
          "2010-01-31T00:00:00",
          "2010-02-28T00:00:00",
          "2010-03-31T00:00:00",
          "2010-04-30T00:00:00",
          "2010-05-31T00:00:00",
          "2010-06-30T00:00:00",
          "2010-07-31T00:00:00",
          "2010-08-31T00:00:00",
          "2010-09-30T00:00:00",
          "2010-10-31T00:00:00",
          "2010-11-30T00:00:00",
          "2010-12-31T00:00:00",
          "2011-01-31T00:00:00",
          "2011-02-28T00:00:00",
          "2011-03-31T00:00:00",
          "2011-04-30T00:00:00",
          "2011-05-31T00:00:00",
          "2011-06-30T00:00:00",
          "2011-07-31T00:00:00",
          "2011-08-31T00:00:00",
          "2011-09-30T00:00:00",
          "2011-10-31T00:00:00",
          "2011-11-30T00:00:00",
          "2011-12-31T00:00:00",
          "2012-01-31T00:00:00",
          "2012-02-29T00:00:00",
          "2012-03-31T00:00:00",
          "2012-04-30T00:00:00",
          "2012-05-31T00:00:00",
          "2012-06-30T00:00:00",
          "2012-07-31T00:00:00",
          "2012-08-31T00:00:00",
          "2012-09-30T00:00:00",
          "2012-10-31T00:00:00",
          "2012-11-30T00:00:00",
          "2012-12-31T00:00:00",
          "2013-01-31T00:00:00",
          "2013-02-28T00:00:00",
          "2013-03-31T00:00:00",
          "2013-04-30T00:00:00",
          "2013-05-31T00:00:00",
          "2013-06-30T00:00:00",
          "2013-07-31T00:00:00",
          "2013-08-31T00:00:00",
          "2013-09-30T00:00:00",
          "2013-10-31T00:00:00",
          "2013-11-30T00:00:00",
          "2013-12-31T00:00:00",
          "2014-01-31T00:00:00",
          "2014-02-28T00:00:00",
          "2014-03-31T00:00:00",
          "2014-04-30T00:00:00",
          "2014-05-31T00:00:00",
          "2014-06-30T00:00:00",
          "2014-07-31T00:00:00",
          "2014-08-31T00:00:00",
          "2014-09-30T00:00:00",
          "2014-10-31T00:00:00",
          "2014-11-30T00:00:00",
          "2014-12-31T00:00:00",
          "2015-01-31T00:00:00",
          "2015-02-28T00:00:00",
          "2015-03-31T00:00:00",
          "2015-04-30T00:00:00",
          "2015-05-31T00:00:00",
          "2015-06-30T00:00:00",
          "2015-07-31T00:00:00",
          "2015-08-31T00:00:00",
          "2015-09-30T00:00:00",
          "2015-10-31T00:00:00",
          "2015-11-30T00:00:00",
          "2015-12-31T00:00:00",
          "2016-01-31T00:00:00",
          "2016-02-29T00:00:00",
          "2016-03-31T00:00:00",
          "2016-04-30T00:00:00",
          "2016-05-31T00:00:00",
          "2016-06-30T00:00:00",
          "2016-07-31T00:00:00",
          "2016-08-31T00:00:00",
          "2016-09-30T00:00:00",
          "2016-10-31T00:00:00",
          "2016-11-30T00:00:00",
          "2016-12-31T00:00:00",
          "2017-01-31T00:00:00",
          "2017-02-28T00:00:00",
          "2017-03-31T00:00:00",
          "2017-04-30T00:00:00",
          "2017-05-31T00:00:00",
          "2017-06-30T00:00:00",
          "2017-07-31T00:00:00",
          "2017-08-31T00:00:00",
          "2017-09-30T00:00:00",
          "2017-10-31T00:00:00",
          "2017-11-30T00:00:00",
          "2017-12-31T00:00:00",
          "2018-01-31T00:00:00",
          "2018-02-28T00:00:00",
          "2018-03-31T00:00:00",
          "2018-04-30T00:00:00",
          "2018-05-31T00:00:00",
          "2018-06-30T00:00:00",
          "2018-07-31T00:00:00",
          "2018-08-31T00:00:00",
          "2018-09-30T00:00:00",
          "2018-10-31T00:00:00",
          "2018-11-30T00:00:00",
          "2018-12-31T00:00:00",
          "2019-01-31T00:00:00",
          "2019-02-28T00:00:00",
          "2019-03-31T00:00:00",
          "2019-04-30T00:00:00",
          "2019-05-31T00:00:00",
          "2019-06-30T00:00:00",
          "2019-07-31T00:00:00",
          "2019-08-31T00:00:00",
          "2019-09-30T00:00:00",
          "2019-10-31T00:00:00",
          "2019-11-30T00:00:00",
          "2019-12-31T00:00:00",
          "2020-01-31T00:00:00",
          "2020-02-29T00:00:00",
          "2020-03-31T00:00:00",
          "2020-04-30T00:00:00",
          "2020-05-31T00:00:00",
          "2020-06-30T00:00:00",
          "2020-07-31T00:00:00",
          "2020-08-31T00:00:00",
          "2020-09-30T00:00:00",
          "2020-10-31T00:00:00",
          "2020-11-30T00:00:00",
          "2020-12-31T00:00:00",
          "2021-01-31T00:00:00",
          "2021-02-28T00:00:00",
          "2021-03-31T00:00:00",
          "2021-04-30T00:00:00",
          "2021-05-31T00:00:00",
          "2021-06-30T00:00:00",
          "2021-07-31T00:00:00",
          "2021-08-31T00:00:00",
          "2021-09-30T00:00:00",
          "2021-10-31T00:00:00",
          "2021-11-30T00:00:00",
          "2021-12-31T00:00:00",
          "2022-01-31T00:00:00",
          "2022-02-28T00:00:00",
          "2022-03-31T00:00:00",
          "2022-04-30T00:00:00",
          "2022-05-31T00:00:00",
          "2022-06-30T00:00:00",
          "2022-07-31T00:00:00",
          "2022-08-31T00:00:00"
         ],
         "xaxis": "x",
         "y": [
          0.01722738639226451,
          -0.02355190240343088,
          0.017975837932484574,
          0.013310043426491858,
          -0.006590870856521191,
          0.008687996141835437,
          -0.015468321628739146,
          0.028472946167615327,
          0.004146750859081181,
          0.007234207332933944,
          -0.0071990327428052515,
          0.002551006325424835,
          0.00271633061663046,
          -0.00817354807488814,
          0.0182768643034067,
          -0.008773617263659255,
          0.00820626965602418,
          0.007110754955362413,
          0.016043648645533,
          0.008233106079316523,
          0.007933282005650008,
          0.00004779668643664896,
          0.01103868341175254,
          -0.007937358702541591,
          0.01331545453685748,
          -0.0020916995627680633,
          -0.002212245173099827,
          0.01729434652921868,
          0.006726939145519413,
          0.004076893311597564,
          -0.0026062814339334788,
          0.009184810042702295,
          0.01050767089952987,
          -0.005563638076105791,
          -0.019362347812264567,
          0.002121079020923581,
          -0.001218766583285793,
          -0.004206068724426568,
          0.01089643386895718,
          0.016835920960373403,
          -0.00929819412552023,
          0.007098950098917257,
          -0.012174452399331742,
          0.0025449767734840255,
          0.010038978323661685,
          0.013928240045179757,
          0.007543893743741129,
          0.007902881708341776,
          0.014300473549283347,
          0.01079881226969891,
          0.012936522951146544,
          0.003001829412531845,
          0.007541828606166644,
          -0.005121236609301307,
          0.018494208260298593,
          0.0011474904107983896,
          0.006324923307827522,
          0.004517702005529057,
          0.006905287022374826,
          0.012609801966952263,
          0.00740463159116953,
          -0.006201970382404114,
          -0.021336236425489902,
          0.013317593846085924,
          0.015952623999489726,
          0.001448991165032451,
          0.01668211633455696,
          -0.0010698394825529372,
          0.009354768277059894,
          0.0013873642951607043,
          -0.012697018240584345,
          0.011256648748699439,
          0.028180298066615893,
          0.012156008299885467,
          0.021856482120625277,
          -0.006328930620148959,
          0.01821641812860716,
          -0.013038715612841152,
          0.009686929836222284,
          0.005767998581104216,
          -0.004200782887412181,
          0.023672832482908596,
          0.01513677371357529,
          0.007968631361144151,
          -0.009662338613165875,
          0.0072997050635443764,
          -0.02005600307586541,
          -0.05100840496601313,
          0.03243016306740086,
          0.027581430062374502,
          0.020555671615423154,
          0.018120486219009906,
          0.0039972450363136985,
          -0.015129438735784357,
          0.026329787603785428,
          0.0327342574282652,
          0.0042272208393679825,
          0.020915608616579748,
          -0.008256241713008256,
          0.0008800964712717855,
          -0.010510330138358049,
          0.008626941140624966,
          0.011614715949814221,
          0.02752126875490254,
          -0.009053385128507797,
          0.007157477089667813,
          0.041364043104745965,
          -0.006535512640625325,
          -0.0031453386078217384,
          0.007843495996035897,
          0.0019624714020960617,
          0.029373308239094318,
          -0.002552783131164232,
          0.0021250554818555427,
          -0.018575690350145477,
          0.02669396837766864,
          0.020694616682549394,
          -0.01698065263051574,
          -0.016046146777494247,
          0.035026871847803114,
          0.010514202936609634,
          0.0005745137695439144,
          -0.004740983513135751,
          -0.01564210085560294,
          -0.04211998464370857,
          0.020020251626063332,
          0.0360246245587225,
          0.01142939648945758,
          -0.0013289493201079302,
          -0.005805195803330303,
          0.025384789884359615,
          -0.010332358078343375,
          -0.0066438060284262105,
          -0.018074546081301875,
          -0.02391358673461565,
          0.0012704395772047703,
          -0.028890340621097847,
          0.022614860720053795,
          0.02772313388365469,
          -0.012370077272454557,
          -0.0029702792175851423,
          -0.002887071987261509,
          0.003430022379932434,
          0.03264759971247889,
          0.03822323336663996,
          0.002187752332226174,
          0.008522001919931799,
          0.015373444953171844,
          -0.0065535094796698385,
          0.02658777551113435,
          0.007552107258439399,
          0.01215780817878704,
          0.009884765502591852,
          0.007322248815044474,
          0.0028324634602147226,
          -0.007735229261895275,
          0.009431865889620283,
          0.013850973727140357,
          -0.016503570991330777,
          -0.0028651925674025177,
          0.00992155900705522,
          0.009489202875254909,
          0.019149571611245215,
          0.012659949256765843,
          -0.011901952781010663,
          0.008040696663937428,
          -0.004629448796766424,
          -0.010858182036694254,
          0.02120405466712489,
          0.007156013242633615,
          0.018529598740812354,
          -0.002773697388149858,
          0.00250655704083403,
          -0.005912527154165691,
          0.014710619374456346,
          0.002853975358404672,
          0.015281521555952218,
          -0.0036972546001687832,
          0.009038233188885764,
          0.00396190624614717,
          -0.013680598962709763,
          0.000024650849233038075,
          -0.009761961615046893,
          0.010131010530515553,
          0.005101587773873796,
          0.012890730198026704,
          0.011698102616760148,
          0.00019579034497985352,
          0.010378127084439684,
          -0.0008089614482989726,
          0.0038031628395856216,
          0.013963482369194069,
          0.01524141193669248,
          -0.005625857754425577,
          -0.011098701207309273,
          0.0021027975677868475,
          0.009434481956019742,
          0.005969539420736508,
          -0.0168112364890533,
          -0.002300423228460759,
          -0.02144117784655343,
          -0.012454176446902443,
          -0.002253328210615339,
          0.02341627698253739,
          0.014117076336156234,
          -0.03941097753433509,
          0.004997456682203896,
          0.01828309565022846,
          -0.036213589225868176,
          -0.08168355265997562,
          -0.04599781762494571,
          0.014719777465729297,
          -0.019474350557972694,
          -0.031276001177839206,
          0.04268599578262178,
          0.07199822718994081,
          0.02531679624313708,
          -0.0007327212263797106,
          0.031138841170350644,
          0.017799212025999194,
          0.02355601375708561,
          -0.016510874886758606,
          0.015118292508706891,
          0.021714213198094287,
          -0.005117220841672147,
          0.014850803746492105,
          0.0286881709936741,
          0.01731911329433068,
          -0.02819986987006427,
          -0.022552056198203257,
          0.026121414454148194,
          -0.018457836928352487,
          0.03442135978425926,
          0.013495356549494608,
          0.002685110791727055,
          0.025665167103957318,
          0.00905349803826775,
          0.010670112451037488,
          0.005460938707451905,
          0.008144796808065282,
          -0.003991463565683545,
          -0.0056898924937345795,
          -0.011351534141588876,
          -0.0223037811957346,
          -0.029450190086386573,
          0.04537412443972562,
          0.00044854232275027476,
          -0.002536562941729853,
          0.023225694437476227,
          0.015621389568927755,
          0.007815528218010154,
          -0.0033598356344218066,
          -0.020449909532088105,
          0.008570780295151684,
          -0.00036280072096119746,
          0.009004592673332599,
          0.008412721819395005,
          -0.00580317135067828,
          0.007410548392654563,
          0.010261233363528485,
          0.02187048729482428,
          0.0033218027714146223,
          0.011478143673224734,
          0.0024362174537855704,
          0.01161766460842726,
          -0.004273768082916937,
          0.020219386977839166,
          -0.0097400314722755,
          0.014012680238809888,
          0.011789112477499432,
          0.006743103489518783,
          0.008249665861911094,
          -0.007104383652483265,
          0.019619486634126132,
          0.002863760929029424,
          -0.0026525494214019473,
          0.005704351698799413,
          0.011799095399870157,
          -0.009315809185347164,
          0.013495468080058517,
          -0.010270648310907711,
          0.011267350693672793,
          0.008755478729822066,
          -0.0021860372800882287,
          -0.012752154996364206,
          0.023717735972067226,
          -0.003940734353251726,
          -0.0017974593739962625,
          0.002805078093904353,
          -0.008816314460758918,
          0.003926288454514658,
          -0.011170400297241567,
          -0.01428081316742198,
          0.0222020718312757,
          -0.001208760113727618,
          -0.012943693460297561,
          -0.018396241591420785,
          0.008226670241882544,
          0.02639425452184033,
          0.004200487222889458,
          0.0036011712629592267,
          -0.0005709073432884383,
          0.01726145972797756,
          0.002899943657245023,
          0.0008926746296488906,
          -0.008101331154543506,
          0.01567046191407492,
          0.0035816238238116156,
          0.006546062864865254,
          0.006995116246747183,
          0.0020366942533548687,
          0.0024589208388446976,
          0.0021689136865610486,
          0.0037937474265884964,
          0.008187140513336121,
          -0.0026566875571101094,
          0.009664374608893992,
          0.004457537996374652,
          0.008549355976305455,
          0.0017975929595904691,
          0.016593800663116224,
          -0.010978359461693482,
          -0.002518802766123248,
          0.0031515070436521513,
          0.008450989343544631,
          0.002758881091009807,
          0.008186009173571469,
          0.005839265751770409,
          -0.0011374967793318163,
          -0.027728877791584536,
          0.00734918121928808,
          -0.03724729501136423,
          0.04097789011860559,
          0.01630256777453402,
          0.001286334209980386,
          0.009479163449830295,
          -0.026038198606122328,
          0.020863309290073538,
          0.0012365706181886342,
          -0.02035918862329804,
          0.01184348678346823,
          0.004386054930295895,
          0.00872195588938808,
          0.010977299913382404,
          -0.01041561531877059,
          -0.03217620496879187,
          -0.06536966636027246,
          0.054837960449452314,
          0.0115484980167931,
          0.009937881943096229,
          0.015427386111272319,
          0.008321918585918677,
          -0.008706348912203246,
          0.003772183672041152,
          0.05447976237091408,
          0.016726677621337616,
          -0.00037340201812346323,
          0.013027201177275342,
          0.015263462386241407,
          0.015238464242205147,
          0.007763366361383965,
          0.002072713553345845,
          0.00011632692267126488,
          0.009328772543370577,
          -0.010618746567317565,
          0.017089743944249388,
          -0.007754449189488035,
          0.021078421948354933,
          -0.020510817851069535,
          -0.001361371739524588,
          0.013416523805783745,
          -0.020256264857677796,
          0.0001846107485516418,
          -0.02811611077505091,
          0.023516284996852235,
          -0.008453660346178204
         ],
         "yaxis": "y"
        }
       ],
       "layout": {
        "barmode": "relative",
        "legend": {
         "tracegroupgap": 0
        },
        "margin": {
         "t": 60
        },
        "template": {
         "data": {
          "bar": [
           {
            "error_x": {
             "color": "#2a3f5f"
            },
            "error_y": {
             "color": "#2a3f5f"
            },
            "marker": {
             "line": {
              "color": "#E5ECF6",
              "width": 0.5
             },
             "pattern": {
              "fillmode": "overlay",
              "size": 10,
              "solidity": 0.2
             }
            },
            "type": "bar"
           }
          ],
          "barpolar": [
           {
            "marker": {
             "line": {
              "color": "#E5ECF6",
              "width": 0.5
             },
             "pattern": {
              "fillmode": "overlay",
              "size": 10,
              "solidity": 0.2
             }
            },
            "type": "barpolar"
           }
          ],
          "carpet": [
           {
            "aaxis": {
             "endlinecolor": "#2a3f5f",
             "gridcolor": "white",
             "linecolor": "white",
             "minorgridcolor": "white",
             "startlinecolor": "#2a3f5f"
            },
            "baxis": {
             "endlinecolor": "#2a3f5f",
             "gridcolor": "white",
             "linecolor": "white",
             "minorgridcolor": "white",
             "startlinecolor": "#2a3f5f"
            },
            "type": "carpet"
           }
          ],
          "choropleth": [
           {
            "colorbar": {
             "outlinewidth": 0,
             "ticks": ""
            },
            "type": "choropleth"
           }
          ],
          "contour": [
           {
            "colorbar": {
             "outlinewidth": 0,
             "ticks": ""
            },
            "colorscale": [
             [
              0,
              "#0d0887"
             ],
             [
              0.1111111111111111,
              "#46039f"
             ],
             [
              0.2222222222222222,
              "#7201a8"
             ],
             [
              0.3333333333333333,
              "#9c179e"
             ],
             [
              0.4444444444444444,
              "#bd3786"
             ],
             [
              0.5555555555555556,
              "#d8576b"
             ],
             [
              0.6666666666666666,
              "#ed7953"
             ],
             [
              0.7777777777777778,
              "#fb9f3a"
             ],
             [
              0.8888888888888888,
              "#fdca26"
             ],
             [
              1,
              "#f0f921"
             ]
            ],
            "type": "contour"
           }
          ],
          "contourcarpet": [
           {
            "colorbar": {
             "outlinewidth": 0,
             "ticks": ""
            },
            "type": "contourcarpet"
           }
          ],
          "heatmap": [
           {
            "colorbar": {
             "outlinewidth": 0,
             "ticks": ""
            },
            "colorscale": [
             [
              0,
              "#0d0887"
             ],
             [
              0.1111111111111111,
              "#46039f"
             ],
             [
              0.2222222222222222,
              "#7201a8"
             ],
             [
              0.3333333333333333,
              "#9c179e"
             ],
             [
              0.4444444444444444,
              "#bd3786"
             ],
             [
              0.5555555555555556,
              "#d8576b"
             ],
             [
              0.6666666666666666,
              "#ed7953"
             ],
             [
              0.7777777777777778,
              "#fb9f3a"
             ],
             [
              0.8888888888888888,
              "#fdca26"
             ],
             [
              1,
              "#f0f921"
             ]
            ],
            "type": "heatmap"
           }
          ],
          "heatmapgl": [
           {
            "colorbar": {
             "outlinewidth": 0,
             "ticks": ""
            },
            "colorscale": [
             [
              0,
              "#0d0887"
             ],
             [
              0.1111111111111111,
              "#46039f"
             ],
             [
              0.2222222222222222,
              "#7201a8"
             ],
             [
              0.3333333333333333,
              "#9c179e"
             ],
             [
              0.4444444444444444,
              "#bd3786"
             ],
             [
              0.5555555555555556,
              "#d8576b"
             ],
             [
              0.6666666666666666,
              "#ed7953"
             ],
             [
              0.7777777777777778,
              "#fb9f3a"
             ],
             [
              0.8888888888888888,
              "#fdca26"
             ],
             [
              1,
              "#f0f921"
             ]
            ],
            "type": "heatmapgl"
           }
          ],
          "histogram": [
           {
            "marker": {
             "pattern": {
              "fillmode": "overlay",
              "size": 10,
              "solidity": 0.2
             }
            },
            "type": "histogram"
           }
          ],
          "histogram2d": [
           {
            "colorbar": {
             "outlinewidth": 0,
             "ticks": ""
            },
            "colorscale": [
             [
              0,
              "#0d0887"
             ],
             [
              0.1111111111111111,
              "#46039f"
             ],
             [
              0.2222222222222222,
              "#7201a8"
             ],
             [
              0.3333333333333333,
              "#9c179e"
             ],
             [
              0.4444444444444444,
              "#bd3786"
             ],
             [
              0.5555555555555556,
              "#d8576b"
             ],
             [
              0.6666666666666666,
              "#ed7953"
             ],
             [
              0.7777777777777778,
              "#fb9f3a"
             ],
             [
              0.8888888888888888,
              "#fdca26"
             ],
             [
              1,
              "#f0f921"
             ]
            ],
            "type": "histogram2d"
           }
          ],
          "histogram2dcontour": [
           {
            "colorbar": {
             "outlinewidth": 0,
             "ticks": ""
            },
            "colorscale": [
             [
              0,
              "#0d0887"
             ],
             [
              0.1111111111111111,
              "#46039f"
             ],
             [
              0.2222222222222222,
              "#7201a8"
             ],
             [
              0.3333333333333333,
              "#9c179e"
             ],
             [
              0.4444444444444444,
              "#bd3786"
             ],
             [
              0.5555555555555556,
              "#d8576b"
             ],
             [
              0.6666666666666666,
              "#ed7953"
             ],
             [
              0.7777777777777778,
              "#fb9f3a"
             ],
             [
              0.8888888888888888,
              "#fdca26"
             ],
             [
              1,
              "#f0f921"
             ]
            ],
            "type": "histogram2dcontour"
           }
          ],
          "mesh3d": [
           {
            "colorbar": {
             "outlinewidth": 0,
             "ticks": ""
            },
            "type": "mesh3d"
           }
          ],
          "parcoords": [
           {
            "line": {
             "colorbar": {
              "outlinewidth": 0,
              "ticks": ""
             }
            },
            "type": "parcoords"
           }
          ],
          "pie": [
           {
            "automargin": true,
            "type": "pie"
           }
          ],
          "scatter": [
           {
            "fillpattern": {
             "fillmode": "overlay",
             "size": 10,
             "solidity": 0.2
            },
            "type": "scatter"
           }
          ],
          "scatter3d": [
           {
            "line": {
             "colorbar": {
              "outlinewidth": 0,
              "ticks": ""
             }
            },
            "marker": {
             "colorbar": {
              "outlinewidth": 0,
              "ticks": ""
             }
            },
            "type": "scatter3d"
           }
          ],
          "scattercarpet": [
           {
            "marker": {
             "colorbar": {
              "outlinewidth": 0,
              "ticks": ""
             }
            },
            "type": "scattercarpet"
           }
          ],
          "scattergeo": [
           {
            "marker": {
             "colorbar": {
              "outlinewidth": 0,
              "ticks": ""
             }
            },
            "type": "scattergeo"
           }
          ],
          "scattergl": [
           {
            "marker": {
             "colorbar": {
              "outlinewidth": 0,
              "ticks": ""
             }
            },
            "type": "scattergl"
           }
          ],
          "scattermapbox": [
           {
            "marker": {
             "colorbar": {
              "outlinewidth": 0,
              "ticks": ""
             }
            },
            "type": "scattermapbox"
           }
          ],
          "scatterpolar": [
           {
            "marker": {
             "colorbar": {
              "outlinewidth": 0,
              "ticks": ""
             }
            },
            "type": "scatterpolar"
           }
          ],
          "scatterpolargl": [
           {
            "marker": {
             "colorbar": {
              "outlinewidth": 0,
              "ticks": ""
             }
            },
            "type": "scatterpolargl"
           }
          ],
          "scatterternary": [
           {
            "marker": {
             "colorbar": {
              "outlinewidth": 0,
              "ticks": ""
             }
            },
            "type": "scatterternary"
           }
          ],
          "surface": [
           {
            "colorbar": {
             "outlinewidth": 0,
             "ticks": ""
            },
            "colorscale": [
             [
              0,
              "#0d0887"
             ],
             [
              0.1111111111111111,
              "#46039f"
             ],
             [
              0.2222222222222222,
              "#7201a8"
             ],
             [
              0.3333333333333333,
              "#9c179e"
             ],
             [
              0.4444444444444444,
              "#bd3786"
             ],
             [
              0.5555555555555556,
              "#d8576b"
             ],
             [
              0.6666666666666666,
              "#ed7953"
             ],
             [
              0.7777777777777778,
              "#fb9f3a"
             ],
             [
              0.8888888888888888,
              "#fdca26"
             ],
             [
              1,
              "#f0f921"
             ]
            ],
            "type": "surface"
           }
          ],
          "table": [
           {
            "cells": {
             "fill": {
              "color": "#EBF0F8"
             },
             "line": {
              "color": "white"
             }
            },
            "header": {
             "fill": {
              "color": "#C8D4E3"
             },
             "line": {
              "color": "white"
             }
            },
            "type": "table"
           }
          ]
         },
         "layout": {
          "annotationdefaults": {
           "arrowcolor": "#2a3f5f",
           "arrowhead": 0,
           "arrowwidth": 1
          },
          "autotypenumbers": "strict",
          "coloraxis": {
           "colorbar": {
            "outlinewidth": 0,
            "ticks": ""
           }
          },
          "colorscale": {
           "diverging": [
            [
             0,
             "#8e0152"
            ],
            [
             0.1,
             "#c51b7d"
            ],
            [
             0.2,
             "#de77ae"
            ],
            [
             0.3,
             "#f1b6da"
            ],
            [
             0.4,
             "#fde0ef"
            ],
            [
             0.5,
             "#f7f7f7"
            ],
            [
             0.6,
             "#e6f5d0"
            ],
            [
             0.7,
             "#b8e186"
            ],
            [
             0.8,
             "#7fbc41"
            ],
            [
             0.9,
             "#4d9221"
            ],
            [
             1,
             "#276419"
            ]
           ],
           "sequential": [
            [
             0,
             "#0d0887"
            ],
            [
             0.1111111111111111,
             "#46039f"
            ],
            [
             0.2222222222222222,
             "#7201a8"
            ],
            [
             0.3333333333333333,
             "#9c179e"
            ],
            [
             0.4444444444444444,
             "#bd3786"
            ],
            [
             0.5555555555555556,
             "#d8576b"
            ],
            [
             0.6666666666666666,
             "#ed7953"
            ],
            [
             0.7777777777777778,
             "#fb9f3a"
            ],
            [
             0.8888888888888888,
             "#fdca26"
            ],
            [
             1,
             "#f0f921"
            ]
           ],
           "sequentialminus": [
            [
             0,
             "#0d0887"
            ],
            [
             0.1111111111111111,
             "#46039f"
            ],
            [
             0.2222222222222222,
             "#7201a8"
            ],
            [
             0.3333333333333333,
             "#9c179e"
            ],
            [
             0.4444444444444444,
             "#bd3786"
            ],
            [
             0.5555555555555556,
             "#d8576b"
            ],
            [
             0.6666666666666666,
             "#ed7953"
            ],
            [
             0.7777777777777778,
             "#fb9f3a"
            ],
            [
             0.8888888888888888,
             "#fdca26"
            ],
            [
             1,
             "#f0f921"
            ]
           ]
          },
          "colorway": [
           "#636efa",
           "#EF553B",
           "#00cc96",
           "#ab63fa",
           "#FFA15A",
           "#19d3f3",
           "#FF6692",
           "#B6E880",
           "#FF97FF",
           "#FECB52"
          ],
          "font": {
           "color": "#2a3f5f"
          },
          "geo": {
           "bgcolor": "white",
           "lakecolor": "white",
           "landcolor": "#E5ECF6",
           "showlakes": true,
           "showland": true,
           "subunitcolor": "white"
          },
          "hoverlabel": {
           "align": "left"
          },
          "hovermode": "closest",
          "mapbox": {
           "style": "light"
          },
          "paper_bgcolor": "white",
          "plot_bgcolor": "#E5ECF6",
          "polar": {
           "angularaxis": {
            "gridcolor": "white",
            "linecolor": "white",
            "ticks": ""
           },
           "bgcolor": "#E5ECF6",
           "radialaxis": {
            "gridcolor": "white",
            "linecolor": "white",
            "ticks": ""
           }
          },
          "scene": {
           "xaxis": {
            "backgroundcolor": "#E5ECF6",
            "gridcolor": "white",
            "gridwidth": 2,
            "linecolor": "white",
            "showbackground": true,
            "ticks": "",
            "zerolinecolor": "white"
           },
           "yaxis": {
            "backgroundcolor": "#E5ECF6",
            "gridcolor": "white",
            "gridwidth": 2,
            "linecolor": "white",
            "showbackground": true,
            "ticks": "",
            "zerolinecolor": "white"
           },
           "zaxis": {
            "backgroundcolor": "#E5ECF6",
            "gridcolor": "white",
            "gridwidth": 2,
            "linecolor": "white",
            "showbackground": true,
            "ticks": "",
            "zerolinecolor": "white"
           }
          },
          "shapedefaults": {
           "line": {
            "color": "#2a3f5f"
           }
          },
          "ternary": {
           "aaxis": {
            "gridcolor": "white",
            "linecolor": "white",
            "ticks": ""
           },
           "baxis": {
            "gridcolor": "white",
            "linecolor": "white",
            "ticks": ""
           },
           "bgcolor": "#E5ECF6",
           "caxis": {
            "gridcolor": "white",
            "linecolor": "white",
            "ticks": ""
           }
          },
          "title": {
           "x": 0.05
          },
          "xaxis": {
           "automargin": true,
           "gridcolor": "white",
           "linecolor": "white",
           "ticks": "",
           "title": {
            "standoff": 15
           },
           "zerolinecolor": "white",
           "zerolinewidth": 2
          },
          "yaxis": {
           "automargin": true,
           "gridcolor": "white",
           "linecolor": "white",
           "ticks": "",
           "title": {
            "standoff": 15
           },
           "zerolinecolor": "white",
           "zerolinewidth": 2
          }
         }
        },
        "xaxis": {
         "anchor": "y",
         "domain": [
          0,
          1
         ],
         "title": {
          "text": "date"
         }
        },
        "yaxis": {
         "anchor": "x",
         "domain": [
          0,
          1
         ],
         "title": {
          "text": "br_rets"
         }
        }
       }
      }
     },
     "metadata": {},
     "output_type": "display_data"
    }
   ],
   "source": [
    "monthly_rets = strategy_returns[[\"date\", \"br_rets\"]].resample('M', on='date').mean() # Calculate average daily return for each month\n",
    "monthly_rets['Colour']='red' # Add column with 'red' value\n",
    "monthly_rets.loc[monthly_rets['br_rets']>=0, 'Colour']='green' # Replace 'red' with 'green' where return is non-negative\n",
    "px.bar(monthly_rets,x=monthly_rets.index,y=\"br_rets\").update_traces(marker_color=monthly_rets[\"Colour\"]).show()"
   ]
  },
  {
   "cell_type": "code",
   "execution_count": 63,
   "id": "5d5ab9cd",
   "metadata": {},
   "outputs": [
    {
     "name": "stdout",
     "output_type": "stream",
     "text": [
      "0.004008502661430023 0.01673592528865861\n"
     ]
    }
   ],
   "source": [
    "# mean and volatility\n",
    "mean_ret = strategy_returns['br_rets'].mean()\n",
    "volatility = strategy_returns['br_rets'].std()\n",
    "print(mean_ret, volatility)"
   ]
  },
  {
   "cell_type": "code",
   "execution_count": 64,
   "id": "f1bb2435",
   "metadata": {},
   "outputs": [
    {
     "name": "stdout",
     "output_type": "stream",
     "text": [
      "Annualised expected return is: 4.81%\n",
      "Annualised volatility is: 5.8%\n"
     ]
    }
   ],
   "source": [
    "print('Annualised expected return is: '+str(round(100*mean_ret*12,2)) +'%')\n",
    "print('Annualised volatility is: '+str(round(100*volatility*np.sqrt(12),2)) +'%')"
   ]
  },
  {
   "cell_type": "code",
   "execution_count": 65,
   "id": "cda046e9",
   "metadata": {},
   "outputs": [
    {
     "data": {
      "text/plain": [
       "count    376.000000\n",
       "mean       0.400850\n",
       "std        1.673593\n",
       "min       -8.168355\n",
       "25%       -0.465733\n",
       "50%        0.528126\n",
       "75%        1.331599\n",
       "max        7.199823\n",
       "Name: br_rets, dtype: float64"
      ]
     },
     "execution_count": 65,
     "metadata": {},
     "output_type": "execute_result"
    }
   ],
   "source": [
    "# describing statistics of returns\n",
    "(strategy_returns['br_rets']*100).describe()"
   ]
  },
  {
   "cell_type": "code",
   "execution_count": 66,
   "id": "14743eca",
   "metadata": {},
   "outputs": [
    {
     "name": "stdout",
     "output_type": "stream",
     "text": [
      "-0.5113401200849281\n"
     ]
    }
   ],
   "source": [
    "# skewness\n",
    "print(skew(strategy_returns['br_rets'].dropna()))"
   ]
  },
  {
   "cell_type": "code",
   "execution_count": 67,
   "id": "d1d8ea4e",
   "metadata": {},
   "outputs": [
    {
     "name": "stdout",
     "output_type": "stream",
     "text": [
      "3.243844576722317\n"
     ]
    }
   ],
   "source": [
    "# kurtosis\n",
    "print(kurtosis(strategy_returns[\"br_rets\"].dropna()))"
   ]
  },
  {
   "cell_type": "code",
   "execution_count": 68,
   "id": "618f1cdc",
   "metadata": {},
   "outputs": [
    {
     "data": {
      "text/plain": [
       "-0.052803562640295544"
      ]
     },
     "execution_count": 68,
     "metadata": {},
     "output_type": "execute_result"
    }
   ],
   "source": [
    "# Value at Risk\n",
    "VaR = strategy_returns['br_rets'].quantile(0.005)\n",
    "VaR"
   ]
  },
  {
   "cell_type": "code",
   "execution_count": 69,
   "id": "2b750603",
   "metadata": {},
   "outputs": [
    {
     "name": "stdout",
     "output_type": "stream",
     "text": [
      "There is a 10.0% chance that my losses will be -1.58% or worse over the next day.\n",
      "There is a 5.0% chance that my losses will be -2.24% or worse over the next day.\n",
      "There is a 1.0% chance that my losses will be -4.31% or worse over the next day.\n",
      "There is a 0.1% chance that my losses will be -7.56% or worse over the next day.\n",
      "There is a 0.01% chance that my losses will be -8.11% or worse over the next day.\n"
     ]
    }
   ],
   "source": [
    "for q in [0.1, 0.05, 0.01, 0.001, 0.0001]:\n",
    "    VaR = strategy_returns['br_rets'].quantile(q)\n",
    "    print('There is a '+str(round(100*q,3))+'% chance that my losses will be '+str(round(VaR*100, 2))+'% or worse over the next day.')"
   ]
  },
  {
   "cell_type": "code",
   "execution_count": 71,
   "id": "2ab55ed1",
   "metadata": {},
   "outputs": [
    {
     "data": {
      "text/html": [
       "<div>\n",
       "<style scoped>\n",
       "    .dataframe tbody tr th:only-of-type {\n",
       "        vertical-align: middle;\n",
       "    }\n",
       "\n",
       "    .dataframe tbody tr th {\n",
       "        vertical-align: top;\n",
       "    }\n",
       "\n",
       "    .dataframe thead th {\n",
       "        text-align: right;\n",
       "    }\n",
       "</style>\n",
       "<table border=\"1\" class=\"dataframe\">\n",
       "  <thead>\n",
       "    <tr style=\"text-align: right;\">\n",
       "      <th></th>\n",
       "      <th>date</th>\n",
       "      <th>br_rets</th>\n",
       "      <th>br_cum_rets</th>\n",
       "    </tr>\n",
       "  </thead>\n",
       "  <tbody>\n",
       "    <tr>\n",
       "      <th>209</th>\n",
       "      <td>2008-10-31</td>\n",
       "      <td>-0.081684</td>\n",
       "      <td>2.202627</td>\n",
       "    </tr>\n",
       "    <tr>\n",
       "      <th>346</th>\n",
       "      <td>2020-03-31</td>\n",
       "      <td>-0.065370</td>\n",
       "      <td>3.490844</td>\n",
       "    </tr>\n",
       "  </tbody>\n",
       "</table>\n",
       "</div>"
      ],
      "text/plain": [
       "          date   br_rets  br_cum_rets\n",
       "209 2008-10-31 -0.081684     2.202627\n",
       "346 2020-03-31 -0.065370     3.490844"
      ]
     },
     "execution_count": 71,
     "metadata": {},
     "output_type": "execute_result"
    }
   ],
   "source": [
    "VaR = strategy_returns['br_rets'].quantile(0.005)\n",
    "rets_tail = strategy_returns.loc[strategy_returns['br_rets']<=VaR,[\"date\", \"br_rets\", \"br_cum_rets\"]]\n",
    "rets_tail"
   ]
  },
  {
   "cell_type": "code",
   "execution_count": 72,
   "id": "e4750315",
   "metadata": {},
   "outputs": [
    {
     "data": {
      "text/plain": [
       "-0.07352660951012405"
      ]
     },
     "execution_count": 72,
     "metadata": {},
     "output_type": "execute_result"
    }
   ],
   "source": [
    "ES = rets_tail['br_rets'].mean()\n",
    "ES"
   ]
  },
  {
   "cell_type": "code",
   "execution_count": 73,
   "id": "36a31c50",
   "metadata": {},
   "outputs": [
    {
     "name": "stdout",
     "output_type": "stream",
     "text": [
      "I expect to lose on average -2.8% over 1-day period given that I have exceeded my VaR for 10.0%.\n",
      "I expect to lose on average -3.69% over 1-day period given that I have exceeded my VaR for 5.0%.\n",
      "I expect to lose on average -6.1% over 1-day period given that I have exceeded my VaR for 1.0%.\n",
      "I expect to lose on average -8.17% over 1-day period given that I have exceeded my VaR for 0.1%.\n",
      "I expect to lose on average -8.17% over 1-day period given that I have exceeded my VaR for 0.01%.\n"
     ]
    }
   ],
   "source": [
    "for q in [0.1, 0.05, 0.01, 0.001, 0.0001]:\n",
    "    VaR = strategy_returns['br_rets'].quantile(q)\n",
    "    rets_tail = strategy_returns.loc[strategy_returns['br_rets']<=VaR,:]\n",
    "    ES = rets_tail['br_rets'].mean()\n",
    "    print('I expect to lose on average '+ str(round(ES*100, 2))+'% over 1-day period given that I have exceeded my VaR for '+str(round(100*q,3))+'%.')"
   ]
  },
  {
   "cell_type": "code",
   "execution_count": 74,
   "id": "fefe4224",
   "metadata": {},
   "outputs": [
    {
     "data": {
      "text/plain": [
       "-2.604666105202472"
      ]
     },
     "execution_count": 74,
     "metadata": {},
     "output_type": "execute_result"
    }
   ],
   "source": [
    "# according to bloomberg the risk free rate (treasury yields) 4.76 % (last 30 years)\n",
    "# calculation of sharpe ratio\n",
    "\n",
    "rf = 0.0476\n",
    "sharpe_ratio = (mean_ret-rf)/volatility\n",
    "sharpe_ratio"
   ]
  },
  {
   "cell_type": "code",
   "execution_count": 75,
   "id": "1367e747",
   "metadata": {},
   "outputs": [],
   "source": [
    "# get SP500 data from 1990-01-31 to 2022-08-30\t\n",
    "sp500_ticker = yf.Ticker(\"^GSPC\")\n",
    "sp500 = sp500_ticker.history(start=\"1990-02-28\", end=\"2022-09-30\", interval=\"1mo\")\n",
    "sp500 = sp500[[\"Close\"]]\n",
    "sp500[\"Rets\"] = sp500.Close.pct_change()"
   ]
  },
  {
   "cell_type": "code",
   "execution_count": 76,
   "id": "fc1096be",
   "metadata": {},
   "outputs": [
    {
     "data": {
      "text/html": [
       "<div>\n",
       "<style scoped>\n",
       "    .dataframe tbody tr th:only-of-type {\n",
       "        vertical-align: middle;\n",
       "    }\n",
       "\n",
       "    .dataframe tbody tr th {\n",
       "        vertical-align: top;\n",
       "    }\n",
       "\n",
       "    .dataframe thead th {\n",
       "        text-align: right;\n",
       "    }\n",
       "</style>\n",
       "<table border=\"1\" class=\"dataframe\">\n",
       "  <thead>\n",
       "    <tr style=\"text-align: right;\">\n",
       "      <th></th>\n",
       "      <th>Close</th>\n",
       "      <th>Rets</th>\n",
       "    </tr>\n",
       "    <tr>\n",
       "      <th>Date</th>\n",
       "      <th></th>\n",
       "      <th></th>\n",
       "    </tr>\n",
       "  </thead>\n",
       "  <tbody>\n",
       "    <tr>\n",
       "      <th>1990-03-01 00:00:00-05:00</th>\n",
       "      <td>339.940002</td>\n",
       "      <td>NaN</td>\n",
       "    </tr>\n",
       "    <tr>\n",
       "      <th>1990-04-01 00:00:00-05:00</th>\n",
       "      <td>330.799988</td>\n",
       "      <td>-0.026887</td>\n",
       "    </tr>\n",
       "    <tr>\n",
       "      <th>1990-05-01 00:00:00-04:00</th>\n",
       "      <td>361.230011</td>\n",
       "      <td>0.091989</td>\n",
       "    </tr>\n",
       "    <tr>\n",
       "      <th>1990-06-01 00:00:00-04:00</th>\n",
       "      <td>358.019989</td>\n",
       "      <td>-0.008886</td>\n",
       "    </tr>\n",
       "    <tr>\n",
       "      <th>1990-07-01 00:00:00-04:00</th>\n",
       "      <td>356.149994</td>\n",
       "      <td>-0.005223</td>\n",
       "    </tr>\n",
       "    <tr>\n",
       "      <th>...</th>\n",
       "      <td>...</td>\n",
       "      <td>...</td>\n",
       "    </tr>\n",
       "    <tr>\n",
       "      <th>2022-05-01 00:00:00-04:00</th>\n",
       "      <td>4132.149902</td>\n",
       "      <td>0.000053</td>\n",
       "    </tr>\n",
       "    <tr>\n",
       "      <th>2022-06-01 00:00:00-04:00</th>\n",
       "      <td>3785.379883</td>\n",
       "      <td>-0.083920</td>\n",
       "    </tr>\n",
       "    <tr>\n",
       "      <th>2022-07-01 00:00:00-04:00</th>\n",
       "      <td>4130.290039</td>\n",
       "      <td>0.091116</td>\n",
       "    </tr>\n",
       "    <tr>\n",
       "      <th>2022-08-01 00:00:00-04:00</th>\n",
       "      <td>3955.000000</td>\n",
       "      <td>-0.042440</td>\n",
       "    </tr>\n",
       "    <tr>\n",
       "      <th>2022-09-01 00:00:00-04:00</th>\n",
       "      <td>3585.620117</td>\n",
       "      <td>-0.093396</td>\n",
       "    </tr>\n",
       "  </tbody>\n",
       "</table>\n",
       "<p>391 rows × 2 columns</p>\n",
       "</div>"
      ],
      "text/plain": [
       "                                 Close      Rets\n",
       "Date                                            \n",
       "1990-03-01 00:00:00-05:00   339.940002       NaN\n",
       "1990-04-01 00:00:00-05:00   330.799988 -0.026887\n",
       "1990-05-01 00:00:00-04:00   361.230011  0.091989\n",
       "1990-06-01 00:00:00-04:00   358.019989 -0.008886\n",
       "1990-07-01 00:00:00-04:00   356.149994 -0.005223\n",
       "...                                ...       ...\n",
       "2022-05-01 00:00:00-04:00  4132.149902  0.000053\n",
       "2022-06-01 00:00:00-04:00  3785.379883 -0.083920\n",
       "2022-07-01 00:00:00-04:00  4130.290039  0.091116\n",
       "2022-08-01 00:00:00-04:00  3955.000000 -0.042440\n",
       "2022-09-01 00:00:00-04:00  3585.620117 -0.093396\n",
       "\n",
       "[391 rows x 2 columns]"
      ]
     },
     "execution_count": 76,
     "metadata": {},
     "output_type": "execute_result"
    }
   ],
   "source": [
    "sp500"
   ]
  },
  {
   "cell_type": "code",
   "execution_count": 77,
   "id": "674d499f",
   "metadata": {},
   "outputs": [
    {
     "name": "stdout",
     "output_type": "stream",
     "text": [
      "Portfolio Beta: -0.030360420060107918\n",
      "Jensen's Alpha: -0.04482452008462285\n"
     ]
    }
   ],
   "source": [
    "# Calculate the average return of the market\n",
    "average_market_return = sp500.Rets.mean()\n",
    "\n",
    "# Calculate the covariance between portfolio and market returns\n",
    "covariance = strategy_returns['br_rets'].cov(sp500['Rets'].reset_index(drop=True))\n",
    "\n",
    "# Calculate the variance of the market returns\n",
    "market_variance = sp500['Rets'].var()\n",
    "\n",
    "# Calculate the portfolio's beta\n",
    "portfolio_beta = covariance / market_variance\n",
    "\n",
    "# Calculate Jensen's Alpha\n",
    "jensens_alpha = mean_ret - (rf + portfolio_beta * (average_market_return - rf))\n",
    "\n",
    "print(\"Portfolio Beta:\", portfolio_beta)\n",
    "print(\"Jensen's Alpha:\", jensens_alpha)"
   ]
  },
  {
   "cell_type": "code",
   "execution_count": 78,
   "id": "b5d4bbc5",
   "metadata": {},
   "outputs": [
    {
     "data": {
      "text/plain": [
       "1.4358002047490455"
      ]
     },
     "execution_count": 78,
     "metadata": {},
     "output_type": "execute_result"
    }
   ],
   "source": [
    "# treynor ratio\n",
    "treynor_ratio = (mean_ret - rf)/portfolio_beta\n",
    "treynor_ratio"
   ]
  },
  {
   "cell_type": "code",
   "execution_count": 79,
   "id": "b016eee5",
   "metadata": {},
   "outputs": [
    {
     "name": "stdout",
     "output_type": "stream",
     "text": [
      "0.2146913526458044\n"
     ]
    }
   ],
   "source": [
    "# maximum drawdown\n",
    "peak = strategy_returns.reset_index(drop=True).loc[1, \"br_cum_rets\"]\n",
    "max_drawdown = 0\n",
    "for ret in strategy_returns[\"br_cum_rets\"].dropna():\n",
    "    if ret >= peak:\n",
    "        peak = ret\n",
    "    else:\n",
    "        drawdown = (peak - ret)/peak\n",
    "        max_drawdown = max(max_drawdown, drawdown)\n",
    "\n",
    "print(max_drawdown)"
   ]
  },
  {
   "cell_type": "code",
   "execution_count": 80,
   "id": "09c70947",
   "metadata": {},
   "outputs": [
    {
     "data": {
      "text/plain": [
       "0.01117883869295609"
      ]
     },
     "execution_count": 80,
     "metadata": {},
     "output_type": "execute_result"
    }
   ],
   "source": [
    "# calmar-ratio\n",
    "annualised_exp_return = round(mean_ret*12,2)\n",
    "calmar_ratio = (annualised_exp_return - rf)/max_drawdown\n",
    "calmar_ratio"
   ]
  }
 ],
 "metadata": {
  "kernelspec": {
   "display_name": "Python 3 (ipykernel)",
   "language": "python",
   "name": "python3"
  },
  "language_info": {
   "codemirror_mode": {
    "name": "ipython",
    "version": 3
   },
   "file_extension": ".py",
   "mimetype": "text/x-python",
   "name": "python",
   "nbconvert_exporter": "python",
   "pygments_lexer": "ipython3",
   "version": "3.9.0"
  }
 },
 "nbformat": 4,
 "nbformat_minor": 5
}
