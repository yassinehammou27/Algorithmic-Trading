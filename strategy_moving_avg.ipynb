{
 "cells": [
  {
   "cell_type": "markdown",
   "id": "acae3b45",
   "metadata": {},
   "source": [
    "# Group Project\n",
    "#### **FINN43815 - Python for Finance**"
   ]
  },
  {
   "cell_type": "code",
   "execution_count": 1,
   "id": "36a8edf5",
   "metadata": {},
   "outputs": [],
   "source": [
    "import numpy as np\n",
    "import pandas as pd\n",
    "import plotly.express as px\n",
    "from scipy.stats import kurtosis, skew\n",
    "import yfinance as yf"
   ]
  },
  {
   "cell_type": "markdown",
   "id": "278f8d90",
   "metadata": {},
   "source": [
    "### Moving Average Crossover Strategy"
   ]
  },
  {
   "cell_type": "markdown",
   "id": "e6e26e70",
   "metadata": {},
   "source": [
    "#### 1. Import Data"
   ]
  },
  {
   "cell_type": "code",
   "execution_count": 2,
   "id": "d81ffa77",
   "metadata": {},
   "outputs": [
    {
     "name": "stderr",
     "output_type": "stream",
     "text": [
      "/var/folders/ch/yj3xbk4s1t34gtb89jtxcmcr0000gn/T/ipykernel_48721/1299969751.py:1: DtypeWarning: Columns (12) have mixed types. Specify dtype option on import or set low_memory=False.\n",
      "  data = pd.read_csv('cleaned_data.csv')\n"
     ]
    }
   ],
   "source": [
    "data = pd.read_csv('cleaned_data.csv')"
   ]
  },
  {
   "cell_type": "code",
   "execution_count": 3,
   "id": "0a7b9ab6",
   "metadata": {},
   "outputs": [
    {
     "data": {
      "text/html": [
       "<div>\n",
       "<style scoped>\n",
       "    .dataframe tbody tr th:only-of-type {\n",
       "        vertical-align: middle;\n",
       "    }\n",
       "\n",
       "    .dataframe tbody tr th {\n",
       "        vertical-align: top;\n",
       "    }\n",
       "\n",
       "    .dataframe thead th {\n",
       "        text-align: right;\n",
       "    }\n",
       "</style>\n",
       "<table border=\"1\" class=\"dataframe\">\n",
       "  <thead>\n",
       "    <tr style=\"text-align: right;\">\n",
       "      <th></th>\n",
       "      <th>date</th>\n",
       "      <th>permno</th>\n",
       "      <th>price</th>\n",
       "    </tr>\n",
       "  </thead>\n",
       "  <tbody>\n",
       "    <tr>\n",
       "      <th>0</th>\n",
       "      <td>1990-01-31</td>\n",
       "      <td>0111145D UN Equity</td>\n",
       "      <td>20.6875</td>\n",
       "    </tr>\n",
       "    <tr>\n",
       "      <th>1</th>\n",
       "      <td>1990-02-28</td>\n",
       "      <td>0111145D UN Equity</td>\n",
       "      <td>22.0000</td>\n",
       "    </tr>\n",
       "    <tr>\n",
       "      <th>2</th>\n",
       "      <td>1990-03-30</td>\n",
       "      <td>0111145D UN Equity</td>\n",
       "      <td>19.5000</td>\n",
       "    </tr>\n",
       "    <tr>\n",
       "      <th>3</th>\n",
       "      <td>1990-04-30</td>\n",
       "      <td>0111145D UN Equity</td>\n",
       "      <td>17.6250</td>\n",
       "    </tr>\n",
       "    <tr>\n",
       "      <th>4</th>\n",
       "      <td>1990-05-31</td>\n",
       "      <td>0111145D UN Equity</td>\n",
       "      <td>19.8125</td>\n",
       "    </tr>\n",
       "    <tr>\n",
       "      <th>...</th>\n",
       "      <td>...</td>\n",
       "      <td>...</td>\n",
       "      <td>...</td>\n",
       "    </tr>\n",
       "    <tr>\n",
       "      <th>514691</th>\n",
       "      <td>2022-04-29</td>\n",
       "      <td>J UN Equity</td>\n",
       "      <td>138.5500</td>\n",
       "    </tr>\n",
       "    <tr>\n",
       "      <th>514692</th>\n",
       "      <td>2022-05-31</td>\n",
       "      <td>J UN Equity</td>\n",
       "      <td>140.0900</td>\n",
       "    </tr>\n",
       "    <tr>\n",
       "      <th>514693</th>\n",
       "      <td>2022-06-30</td>\n",
       "      <td>J UN Equity</td>\n",
       "      <td>127.1300</td>\n",
       "    </tr>\n",
       "    <tr>\n",
       "      <th>514694</th>\n",
       "      <td>2022-07-29</td>\n",
       "      <td>J UN Equity</td>\n",
       "      <td>137.3000</td>\n",
       "    </tr>\n",
       "    <tr>\n",
       "      <th>514695</th>\n",
       "      <td>2022-08-30</td>\n",
       "      <td>J UN Equity</td>\n",
       "      <td>124.4400</td>\n",
       "    </tr>\n",
       "  </tbody>\n",
       "</table>\n",
       "<p>514696 rows × 3 columns</p>\n",
       "</div>"
      ],
      "text/plain": [
       "              date              permno     price\n",
       "0       1990-01-31  0111145D UN Equity   20.6875\n",
       "1       1990-02-28  0111145D UN Equity   22.0000\n",
       "2       1990-03-30  0111145D UN Equity   19.5000\n",
       "3       1990-04-30  0111145D UN Equity   17.6250\n",
       "4       1990-05-31  0111145D UN Equity   19.8125\n",
       "...            ...                 ...       ...\n",
       "514691  2022-04-29         J UN Equity  138.5500\n",
       "514692  2022-05-31         J UN Equity  140.0900\n",
       "514693  2022-06-30         J UN Equity  127.1300\n",
       "514694  2022-07-29         J UN Equity  137.3000\n",
       "514695  2022-08-30         J UN Equity  124.4400\n",
       "\n",
       "[514696 rows x 3 columns]"
      ]
     },
     "execution_count": 3,
     "metadata": {},
     "output_type": "execute_result"
    }
   ],
   "source": [
    "# drop unnecessary columns\n",
    "data = data[[\"date\", \"permno\", \"price\"]]\n",
    "data"
   ]
  },
  {
   "cell_type": "markdown",
   "id": "27834fd8",
   "metadata": {},
   "source": [
    "#### 2. Calculate monthly returns"
   ]
  },
  {
   "cell_type": "code",
   "execution_count": 4,
   "id": "8529d569",
   "metadata": {},
   "outputs": [
    {
     "name": "stderr",
     "output_type": "stream",
     "text": [
      "/var/folders/ch/yj3xbk4s1t34gtb89jtxcmcr0000gn/T/ipykernel_48721/1728035520.py:1: FutureWarning: The default fill_method='pad' in Series.pct_change is deprecated and will be removed in a future version. Call ffill before calling pct_change to retain current behavior and silence this warning.\n",
      "  data['rets'] = data.groupby('permno')['price'].transform(pd.Series.pct_change)\n"
     ]
    },
    {
     "data": {
      "text/html": [
       "<div>\n",
       "<style scoped>\n",
       "    .dataframe tbody tr th:only-of-type {\n",
       "        vertical-align: middle;\n",
       "    }\n",
       "\n",
       "    .dataframe tbody tr th {\n",
       "        vertical-align: top;\n",
       "    }\n",
       "\n",
       "    .dataframe thead th {\n",
       "        text-align: right;\n",
       "    }\n",
       "</style>\n",
       "<table border=\"1\" class=\"dataframe\">\n",
       "  <thead>\n",
       "    <tr style=\"text-align: right;\">\n",
       "      <th></th>\n",
       "      <th>date</th>\n",
       "      <th>permno</th>\n",
       "      <th>price</th>\n",
       "      <th>rets</th>\n",
       "    </tr>\n",
       "  </thead>\n",
       "  <tbody>\n",
       "    <tr>\n",
       "      <th>0</th>\n",
       "      <td>1990-01-31</td>\n",
       "      <td>0111145D UN Equity</td>\n",
       "      <td>20.6875</td>\n",
       "      <td>NaN</td>\n",
       "    </tr>\n",
       "    <tr>\n",
       "      <th>1</th>\n",
       "      <td>1990-02-28</td>\n",
       "      <td>0111145D UN Equity</td>\n",
       "      <td>22.0000</td>\n",
       "      <td>0.063444</td>\n",
       "    </tr>\n",
       "    <tr>\n",
       "      <th>2</th>\n",
       "      <td>1990-03-30</td>\n",
       "      <td>0111145D UN Equity</td>\n",
       "      <td>19.5000</td>\n",
       "      <td>-0.113636</td>\n",
       "    </tr>\n",
       "    <tr>\n",
       "      <th>3</th>\n",
       "      <td>1990-04-30</td>\n",
       "      <td>0111145D UN Equity</td>\n",
       "      <td>17.6250</td>\n",
       "      <td>-0.096154</td>\n",
       "    </tr>\n",
       "    <tr>\n",
       "      <th>4</th>\n",
       "      <td>1990-05-31</td>\n",
       "      <td>0111145D UN Equity</td>\n",
       "      <td>19.8125</td>\n",
       "      <td>0.124113</td>\n",
       "    </tr>\n",
       "  </tbody>\n",
       "</table>\n",
       "</div>"
      ],
      "text/plain": [
       "         date              permno    price      rets\n",
       "0  1990-01-31  0111145D UN Equity  20.6875       NaN\n",
       "1  1990-02-28  0111145D UN Equity  22.0000  0.063444\n",
       "2  1990-03-30  0111145D UN Equity  19.5000 -0.113636\n",
       "3  1990-04-30  0111145D UN Equity  17.6250 -0.096154\n",
       "4  1990-05-31  0111145D UN Equity  19.8125  0.124113"
      ]
     },
     "execution_count": 4,
     "metadata": {},
     "output_type": "execute_result"
    }
   ],
   "source": [
    "data['rets'] = data.groupby('permno')['price'].transform(pd.Series.pct_change)\n",
    "data.head()"
   ]
  },
  {
   "cell_type": "markdown",
   "id": "68b01216",
   "metadata": {},
   "source": [
    "#### 3. Calculate moving averages"
   ]
  },
  {
   "cell_type": "code",
   "execution_count": 5,
   "id": "69d33d66",
   "metadata": {},
   "outputs": [
    {
     "data": {
      "text/html": [
       "<div>\n",
       "<style scoped>\n",
       "    .dataframe tbody tr th:only-of-type {\n",
       "        vertical-align: middle;\n",
       "    }\n",
       "\n",
       "    .dataframe tbody tr th {\n",
       "        vertical-align: top;\n",
       "    }\n",
       "\n",
       "    .dataframe thead th {\n",
       "        text-align: right;\n",
       "    }\n",
       "</style>\n",
       "<table border=\"1\" class=\"dataframe\">\n",
       "  <thead>\n",
       "    <tr style=\"text-align: right;\">\n",
       "      <th></th>\n",
       "      <th>date</th>\n",
       "      <th>permno</th>\n",
       "      <th>price</th>\n",
       "      <th>rets</th>\n",
       "      <th>sm5</th>\n",
       "      <th>sm15</th>\n",
       "    </tr>\n",
       "  </thead>\n",
       "  <tbody>\n",
       "    <tr>\n",
       "      <th>0</th>\n",
       "      <td>1990-01-31</td>\n",
       "      <td>0111145D UN Equity</td>\n",
       "      <td>20.6875</td>\n",
       "      <td>NaN</td>\n",
       "      <td>NaN</td>\n",
       "      <td>NaN</td>\n",
       "    </tr>\n",
       "    <tr>\n",
       "      <th>1</th>\n",
       "      <td>1990-02-28</td>\n",
       "      <td>0111145D UN Equity</td>\n",
       "      <td>22.0000</td>\n",
       "      <td>0.063444</td>\n",
       "      <td>NaN</td>\n",
       "      <td>NaN</td>\n",
       "    </tr>\n",
       "    <tr>\n",
       "      <th>2</th>\n",
       "      <td>1990-03-30</td>\n",
       "      <td>0111145D UN Equity</td>\n",
       "      <td>19.5000</td>\n",
       "      <td>-0.113636</td>\n",
       "      <td>NaN</td>\n",
       "      <td>NaN</td>\n",
       "    </tr>\n",
       "    <tr>\n",
       "      <th>3</th>\n",
       "      <td>1990-04-30</td>\n",
       "      <td>0111145D UN Equity</td>\n",
       "      <td>17.6250</td>\n",
       "      <td>-0.096154</td>\n",
       "      <td>NaN</td>\n",
       "      <td>NaN</td>\n",
       "    </tr>\n",
       "    <tr>\n",
       "      <th>4</th>\n",
       "      <td>1990-05-31</td>\n",
       "      <td>0111145D UN Equity</td>\n",
       "      <td>19.8125</td>\n",
       "      <td>0.124113</td>\n",
       "      <td>19.925</td>\n",
       "      <td>NaN</td>\n",
       "    </tr>\n",
       "    <tr>\n",
       "      <th>...</th>\n",
       "      <td>...</td>\n",
       "      <td>...</td>\n",
       "      <td>...</td>\n",
       "      <td>...</td>\n",
       "      <td>...</td>\n",
       "      <td>...</td>\n",
       "    </tr>\n",
       "    <tr>\n",
       "      <th>514691</th>\n",
       "      <td>2022-04-29</td>\n",
       "      <td>J UN Equity</td>\n",
       "      <td>138.5500</td>\n",
       "      <td>0.005370</td>\n",
       "      <td>200.662</td>\n",
       "      <td>192.782667</td>\n",
       "    </tr>\n",
       "    <tr>\n",
       "      <th>514692</th>\n",
       "      <td>2022-05-31</td>\n",
       "      <td>J UN Equity</td>\n",
       "      <td>140.0900</td>\n",
       "      <td>0.011115</td>\n",
       "      <td>186.042</td>\n",
       "      <td>193.828667</td>\n",
       "    </tr>\n",
       "    <tr>\n",
       "      <th>514693</th>\n",
       "      <td>2022-06-30</td>\n",
       "      <td>J UN Equity</td>\n",
       "      <td>127.1300</td>\n",
       "      <td>-0.092512</td>\n",
       "      <td>180.462</td>\n",
       "      <td>194.789333</td>\n",
       "    </tr>\n",
       "    <tr>\n",
       "      <th>514694</th>\n",
       "      <td>2022-07-29</td>\n",
       "      <td>J UN Equity</td>\n",
       "      <td>137.3000</td>\n",
       "      <td>0.079997</td>\n",
       "      <td>178.242</td>\n",
       "      <td>195.424000</td>\n",
       "    </tr>\n",
       "    <tr>\n",
       "      <th>514695</th>\n",
       "      <td>2022-08-30</td>\n",
       "      <td>J UN Equity</td>\n",
       "      <td>124.4400</td>\n",
       "      <td>-0.093664</td>\n",
       "      <td>171.940</td>\n",
       "      <td>194.117333</td>\n",
       "    </tr>\n",
       "  </tbody>\n",
       "</table>\n",
       "<p>514696 rows × 6 columns</p>\n",
       "</div>"
      ],
      "text/plain": [
       "              date              permno     price      rets      sm5  \\\n",
       "0       1990-01-31  0111145D UN Equity   20.6875       NaN      NaN   \n",
       "1       1990-02-28  0111145D UN Equity   22.0000  0.063444      NaN   \n",
       "2       1990-03-30  0111145D UN Equity   19.5000 -0.113636      NaN   \n",
       "3       1990-04-30  0111145D UN Equity   17.6250 -0.096154      NaN   \n",
       "4       1990-05-31  0111145D UN Equity   19.8125  0.124113   19.925   \n",
       "...            ...                 ...       ...       ...      ...   \n",
       "514691  2022-04-29         J UN Equity  138.5500  0.005370  200.662   \n",
       "514692  2022-05-31         J UN Equity  140.0900  0.011115  186.042   \n",
       "514693  2022-06-30         J UN Equity  127.1300 -0.092512  180.462   \n",
       "514694  2022-07-29         J UN Equity  137.3000  0.079997  178.242   \n",
       "514695  2022-08-30         J UN Equity  124.4400 -0.093664  171.940   \n",
       "\n",
       "              sm15  \n",
       "0              NaN  \n",
       "1              NaN  \n",
       "2              NaN  \n",
       "3              NaN  \n",
       "4              NaN  \n",
       "...            ...  \n",
       "514691  192.782667  \n",
       "514692  193.828667  \n",
       "514693  194.789333  \n",
       "514694  195.424000  \n",
       "514695  194.117333  \n",
       "\n",
       "[514696 rows x 6 columns]"
      ]
     },
     "execution_count": 5,
     "metadata": {},
     "output_type": "execute_result"
    }
   ],
   "source": [
    "data[\"sm5\"] = data.groupby(\"permno\")[\"price\"].rolling(window=5, min_periods=5).mean().reset_index(drop=True)\n",
    "data[\"sm15\"] = data.groupby(\"permno\")[\"price\"].rolling(window=15, min_periods=15).mean().reset_index(drop=True)\n",
    "data"
   ]
  },
  {
   "cell_type": "code",
   "execution_count": 6,
   "id": "dbb78ca3",
   "metadata": {},
   "outputs": [],
   "source": [
    "data = data.dropna()"
   ]
  },
  {
   "cell_type": "markdown",
   "id": "c1b0fc7b",
   "metadata": {},
   "source": [
    "#### 4. Identify Trading Signals"
   ]
  },
  {
   "cell_type": "code",
   "execution_count": 7,
   "id": "de81aa37",
   "metadata": {},
   "outputs": [
    {
     "name": "stderr",
     "output_type": "stream",
     "text": [
      "/var/folders/ch/yj3xbk4s1t34gtb89jtxcmcr0000gn/T/ipykernel_48721/1564215788.py:1: SettingWithCopyWarning: \n",
      "A value is trying to be set on a copy of a slice from a DataFrame.\n",
      "Try using .loc[row_indexer,col_indexer] = value instead\n",
      "\n",
      "See the caveats in the documentation: https://pandas.pydata.org/pandas-docs/stable/user_guide/indexing.html#returning-a-view-versus-a-copy\n",
      "  data[\"signal\"] = np.where(data[\"sm15\"] < data[\"sm5\"], 1, 0)\n"
     ]
    },
    {
     "data": {
      "text/html": [
       "<div>\n",
       "<style scoped>\n",
       "    .dataframe tbody tr th:only-of-type {\n",
       "        vertical-align: middle;\n",
       "    }\n",
       "\n",
       "    .dataframe tbody tr th {\n",
       "        vertical-align: top;\n",
       "    }\n",
       "\n",
       "    .dataframe thead th {\n",
       "        text-align: right;\n",
       "    }\n",
       "</style>\n",
       "<table border=\"1\" class=\"dataframe\">\n",
       "  <thead>\n",
       "    <tr style=\"text-align: right;\">\n",
       "      <th></th>\n",
       "      <th>date</th>\n",
       "      <th>permno</th>\n",
       "      <th>price</th>\n",
       "      <th>rets</th>\n",
       "      <th>sm5</th>\n",
       "      <th>sm15</th>\n",
       "      <th>signal</th>\n",
       "    </tr>\n",
       "  </thead>\n",
       "  <tbody>\n",
       "    <tr>\n",
       "      <th>14</th>\n",
       "      <td>1991-03-28</td>\n",
       "      <td>0111145D UN Equity</td>\n",
       "      <td>20.5625</td>\n",
       "      <td>-0.003030</td>\n",
       "      <td>21.3875</td>\n",
       "      <td>20.675000</td>\n",
       "      <td>1</td>\n",
       "    </tr>\n",
       "    <tr>\n",
       "      <th>15</th>\n",
       "      <td>1991-04-30</td>\n",
       "      <td>0111145D UN Equity</td>\n",
       "      <td>21.3750</td>\n",
       "      <td>0.039514</td>\n",
       "      <td>21.0375</td>\n",
       "      <td>20.720833</td>\n",
       "      <td>1</td>\n",
       "    </tr>\n",
       "    <tr>\n",
       "      <th>16</th>\n",
       "      <td>1991-05-31</td>\n",
       "      <td>0111145D UN Equity</td>\n",
       "      <td>21.0000</td>\n",
       "      <td>-0.017544</td>\n",
       "      <td>20.8375</td>\n",
       "      <td>20.654167</td>\n",
       "      <td>1</td>\n",
       "    </tr>\n",
       "    <tr>\n",
       "      <th>17</th>\n",
       "      <td>1991-06-28</td>\n",
       "      <td>0111145D UN Equity</td>\n",
       "      <td>21.6250</td>\n",
       "      <td>0.029762</td>\n",
       "      <td>21.0375</td>\n",
       "      <td>20.795833</td>\n",
       "      <td>1</td>\n",
       "    </tr>\n",
       "    <tr>\n",
       "      <th>18</th>\n",
       "      <td>1991-07-31</td>\n",
       "      <td>0111145D UN Equity</td>\n",
       "      <td>21.0625</td>\n",
       "      <td>-0.026012</td>\n",
       "      <td>21.1250</td>\n",
       "      <td>21.025000</td>\n",
       "      <td>1</td>\n",
       "    </tr>\n",
       "    <tr>\n",
       "      <th>...</th>\n",
       "      <td>...</td>\n",
       "      <td>...</td>\n",
       "      <td>...</td>\n",
       "      <td>...</td>\n",
       "      <td>...</td>\n",
       "      <td>...</td>\n",
       "      <td>...</td>\n",
       "    </tr>\n",
       "    <tr>\n",
       "      <th>514691</th>\n",
       "      <td>2022-04-29</td>\n",
       "      <td>J UN Equity</td>\n",
       "      <td>138.5500</td>\n",
       "      <td>0.005370</td>\n",
       "      <td>200.6620</td>\n",
       "      <td>192.782667</td>\n",
       "      <td>1</td>\n",
       "    </tr>\n",
       "    <tr>\n",
       "      <th>514692</th>\n",
       "      <td>2022-05-31</td>\n",
       "      <td>J UN Equity</td>\n",
       "      <td>140.0900</td>\n",
       "      <td>0.011115</td>\n",
       "      <td>186.0420</td>\n",
       "      <td>193.828667</td>\n",
       "      <td>0</td>\n",
       "    </tr>\n",
       "    <tr>\n",
       "      <th>514693</th>\n",
       "      <td>2022-06-30</td>\n",
       "      <td>J UN Equity</td>\n",
       "      <td>127.1300</td>\n",
       "      <td>-0.092512</td>\n",
       "      <td>180.4620</td>\n",
       "      <td>194.789333</td>\n",
       "      <td>0</td>\n",
       "    </tr>\n",
       "    <tr>\n",
       "      <th>514694</th>\n",
       "      <td>2022-07-29</td>\n",
       "      <td>J UN Equity</td>\n",
       "      <td>137.3000</td>\n",
       "      <td>0.079997</td>\n",
       "      <td>178.2420</td>\n",
       "      <td>195.424000</td>\n",
       "      <td>0</td>\n",
       "    </tr>\n",
       "    <tr>\n",
       "      <th>514695</th>\n",
       "      <td>2022-08-30</td>\n",
       "      <td>J UN Equity</td>\n",
       "      <td>124.4400</td>\n",
       "      <td>-0.093664</td>\n",
       "      <td>171.9400</td>\n",
       "      <td>194.117333</td>\n",
       "      <td>0</td>\n",
       "    </tr>\n",
       "  </tbody>\n",
       "</table>\n",
       "<p>175504 rows × 7 columns</p>\n",
       "</div>"
      ],
      "text/plain": [
       "              date              permno     price      rets       sm5  \\\n",
       "14      1991-03-28  0111145D UN Equity   20.5625 -0.003030   21.3875   \n",
       "15      1991-04-30  0111145D UN Equity   21.3750  0.039514   21.0375   \n",
       "16      1991-05-31  0111145D UN Equity   21.0000 -0.017544   20.8375   \n",
       "17      1991-06-28  0111145D UN Equity   21.6250  0.029762   21.0375   \n",
       "18      1991-07-31  0111145D UN Equity   21.0625 -0.026012   21.1250   \n",
       "...            ...                 ...       ...       ...       ...   \n",
       "514691  2022-04-29         J UN Equity  138.5500  0.005370  200.6620   \n",
       "514692  2022-05-31         J UN Equity  140.0900  0.011115  186.0420   \n",
       "514693  2022-06-30         J UN Equity  127.1300 -0.092512  180.4620   \n",
       "514694  2022-07-29         J UN Equity  137.3000  0.079997  178.2420   \n",
       "514695  2022-08-30         J UN Equity  124.4400 -0.093664  171.9400   \n",
       "\n",
       "              sm15  signal  \n",
       "14       20.675000       1  \n",
       "15       20.720833       1  \n",
       "16       20.654167       1  \n",
       "17       20.795833       1  \n",
       "18       21.025000       1  \n",
       "...            ...     ...  \n",
       "514691  192.782667       1  \n",
       "514692  193.828667       0  \n",
       "514693  194.789333       0  \n",
       "514694  195.424000       0  \n",
       "514695  194.117333       0  \n",
       "\n",
       "[175504 rows x 7 columns]"
      ]
     },
     "execution_count": 7,
     "metadata": {},
     "output_type": "execute_result"
    }
   ],
   "source": [
    "data[\"signal\"] = np.where(data[\"sm15\"] < data[\"sm5\"], 1, 0)\n",
    "data"
   ]
  },
  {
   "cell_type": "code",
   "execution_count": 8,
   "id": "e7484a12",
   "metadata": {},
   "outputs": [
    {
     "name": "stderr",
     "output_type": "stream",
     "text": [
      "/var/folders/ch/yj3xbk4s1t34gtb89jtxcmcr0000gn/T/ipykernel_48721/1247704023.py:1: SettingWithCopyWarning: \n",
      "A value is trying to be set on a copy of a slice from a DataFrame.\n",
      "Try using .loc[row_indexer,col_indexer] = value instead\n",
      "\n",
      "See the caveats in the documentation: https://pandas.pydata.org/pandas-docs/stable/user_guide/indexing.html#returning-a-view-versus-a-copy\n",
      "  data.loc[:,\"position\"] = data.groupby(\"permno\")[\"signal\"].diff()\n"
     ]
    }
   ],
   "source": [
    "data.loc[:,\"position\"] = data.groupby(\"permno\")[\"signal\"].diff()\n",
    "# position = 1 -> buy\n",
    "# position = -1 -> sell"
   ]
  },
  {
   "cell_type": "code",
   "execution_count": 9,
   "id": "831b0ab9",
   "metadata": {},
   "outputs": [],
   "source": [
    "# shift position (trading decision) by 1 month.\n",
    "data.loc[:,\"position\"] = data.groupby(\"permno\")[\"position\"].shift(1)"
   ]
  },
  {
   "cell_type": "code",
   "execution_count": 10,
   "id": "1c6b0533",
   "metadata": {},
   "outputs": [
    {
     "data": {
      "text/html": [
       "<div>\n",
       "<style scoped>\n",
       "    .dataframe tbody tr th:only-of-type {\n",
       "        vertical-align: middle;\n",
       "    }\n",
       "\n",
       "    .dataframe tbody tr th {\n",
       "        vertical-align: top;\n",
       "    }\n",
       "\n",
       "    .dataframe thead th {\n",
       "        text-align: right;\n",
       "    }\n",
       "</style>\n",
       "<table border=\"1\" class=\"dataframe\">\n",
       "  <thead>\n",
       "    <tr style=\"text-align: right;\">\n",
       "      <th></th>\n",
       "      <th>date</th>\n",
       "      <th>permno</th>\n",
       "      <th>price</th>\n",
       "      <th>rets</th>\n",
       "      <th>sm5</th>\n",
       "      <th>sm15</th>\n",
       "      <th>signal</th>\n",
       "      <th>position</th>\n",
       "    </tr>\n",
       "  </thead>\n",
       "  <tbody>\n",
       "    <tr>\n",
       "      <th>14</th>\n",
       "      <td>1991-03-28</td>\n",
       "      <td>0111145D UN Equity</td>\n",
       "      <td>20.5625</td>\n",
       "      <td>-0.003030</td>\n",
       "      <td>21.3875</td>\n",
       "      <td>20.675000</td>\n",
       "      <td>1</td>\n",
       "      <td>NaN</td>\n",
       "    </tr>\n",
       "    <tr>\n",
       "      <th>15</th>\n",
       "      <td>1991-04-30</td>\n",
       "      <td>0111145D UN Equity</td>\n",
       "      <td>21.3750</td>\n",
       "      <td>0.039514</td>\n",
       "      <td>21.0375</td>\n",
       "      <td>20.720833</td>\n",
       "      <td>1</td>\n",
       "      <td>NaN</td>\n",
       "    </tr>\n",
       "    <tr>\n",
       "      <th>16</th>\n",
       "      <td>1991-05-31</td>\n",
       "      <td>0111145D UN Equity</td>\n",
       "      <td>21.0000</td>\n",
       "      <td>-0.017544</td>\n",
       "      <td>20.8375</td>\n",
       "      <td>20.654167</td>\n",
       "      <td>1</td>\n",
       "      <td>0.0</td>\n",
       "    </tr>\n",
       "    <tr>\n",
       "      <th>17</th>\n",
       "      <td>1991-06-28</td>\n",
       "      <td>0111145D UN Equity</td>\n",
       "      <td>21.6250</td>\n",
       "      <td>0.029762</td>\n",
       "      <td>21.0375</td>\n",
       "      <td>20.795833</td>\n",
       "      <td>1</td>\n",
       "      <td>0.0</td>\n",
       "    </tr>\n",
       "    <tr>\n",
       "      <th>18</th>\n",
       "      <td>1991-07-31</td>\n",
       "      <td>0111145D UN Equity</td>\n",
       "      <td>21.0625</td>\n",
       "      <td>-0.026012</td>\n",
       "      <td>21.1250</td>\n",
       "      <td>21.025000</td>\n",
       "      <td>1</td>\n",
       "      <td>0.0</td>\n",
       "    </tr>\n",
       "    <tr>\n",
       "      <th>...</th>\n",
       "      <td>...</td>\n",
       "      <td>...</td>\n",
       "      <td>...</td>\n",
       "      <td>...</td>\n",
       "      <td>...</td>\n",
       "      <td>...</td>\n",
       "      <td>...</td>\n",
       "      <td>...</td>\n",
       "    </tr>\n",
       "    <tr>\n",
       "      <th>514691</th>\n",
       "      <td>2022-04-29</td>\n",
       "      <td>J UN Equity</td>\n",
       "      <td>138.5500</td>\n",
       "      <td>0.005370</td>\n",
       "      <td>200.6620</td>\n",
       "      <td>192.782667</td>\n",
       "      <td>1</td>\n",
       "      <td>0.0</td>\n",
       "    </tr>\n",
       "    <tr>\n",
       "      <th>514692</th>\n",
       "      <td>2022-05-31</td>\n",
       "      <td>J UN Equity</td>\n",
       "      <td>140.0900</td>\n",
       "      <td>0.011115</td>\n",
       "      <td>186.0420</td>\n",
       "      <td>193.828667</td>\n",
       "      <td>0</td>\n",
       "      <td>0.0</td>\n",
       "    </tr>\n",
       "    <tr>\n",
       "      <th>514693</th>\n",
       "      <td>2022-06-30</td>\n",
       "      <td>J UN Equity</td>\n",
       "      <td>127.1300</td>\n",
       "      <td>-0.092512</td>\n",
       "      <td>180.4620</td>\n",
       "      <td>194.789333</td>\n",
       "      <td>0</td>\n",
       "      <td>-1.0</td>\n",
       "    </tr>\n",
       "    <tr>\n",
       "      <th>514694</th>\n",
       "      <td>2022-07-29</td>\n",
       "      <td>J UN Equity</td>\n",
       "      <td>137.3000</td>\n",
       "      <td>0.079997</td>\n",
       "      <td>178.2420</td>\n",
       "      <td>195.424000</td>\n",
       "      <td>0</td>\n",
       "      <td>0.0</td>\n",
       "    </tr>\n",
       "    <tr>\n",
       "      <th>514695</th>\n",
       "      <td>2022-08-30</td>\n",
       "      <td>J UN Equity</td>\n",
       "      <td>124.4400</td>\n",
       "      <td>-0.093664</td>\n",
       "      <td>171.9400</td>\n",
       "      <td>194.117333</td>\n",
       "      <td>0</td>\n",
       "      <td>0.0</td>\n",
       "    </tr>\n",
       "  </tbody>\n",
       "</table>\n",
       "<p>175504 rows × 8 columns</p>\n",
       "</div>"
      ],
      "text/plain": [
       "              date              permno     price      rets       sm5  \\\n",
       "14      1991-03-28  0111145D UN Equity   20.5625 -0.003030   21.3875   \n",
       "15      1991-04-30  0111145D UN Equity   21.3750  0.039514   21.0375   \n",
       "16      1991-05-31  0111145D UN Equity   21.0000 -0.017544   20.8375   \n",
       "17      1991-06-28  0111145D UN Equity   21.6250  0.029762   21.0375   \n",
       "18      1991-07-31  0111145D UN Equity   21.0625 -0.026012   21.1250   \n",
       "...            ...                 ...       ...       ...       ...   \n",
       "514691  2022-04-29         J UN Equity  138.5500  0.005370  200.6620   \n",
       "514692  2022-05-31         J UN Equity  140.0900  0.011115  186.0420   \n",
       "514693  2022-06-30         J UN Equity  127.1300 -0.092512  180.4620   \n",
       "514694  2022-07-29         J UN Equity  137.3000  0.079997  178.2420   \n",
       "514695  2022-08-30         J UN Equity  124.4400 -0.093664  171.9400   \n",
       "\n",
       "              sm15  signal  position  \n",
       "14       20.675000       1       NaN  \n",
       "15       20.720833       1       NaN  \n",
       "16       20.654167       1       0.0  \n",
       "17       20.795833       1       0.0  \n",
       "18       21.025000       1       0.0  \n",
       "...            ...     ...       ...  \n",
       "514691  192.782667       1       0.0  \n",
       "514692  193.828667       0       0.0  \n",
       "514693  194.789333       0      -1.0  \n",
       "514694  195.424000       0       0.0  \n",
       "514695  194.117333       0       0.0  \n",
       "\n",
       "[175504 rows x 8 columns]"
      ]
     },
     "execution_count": 10,
     "metadata": {},
     "output_type": "execute_result"
    }
   ],
   "source": [
    "data"
   ]
  },
  {
   "cell_type": "code",
   "execution_count": 11,
   "id": "48f2b758",
   "metadata": {},
   "outputs": [
    {
     "name": "stderr",
     "output_type": "stream",
     "text": [
      "/var/folders/ch/yj3xbk4s1t34gtb89jtxcmcr0000gn/T/ipykernel_48721/100072644.py:2: SettingWithCopyWarning: \n",
      "A value is trying to be set on a copy of a slice from a DataFrame.\n",
      "Try using .loc[row_indexer,col_indexer] = value instead\n",
      "\n",
      "See the caveats in the documentation: https://pandas.pydata.org/pandas-docs/stable/user_guide/indexing.html#returning-a-view-versus-a-copy\n",
      "  data[\"mavg_rets\"] = data.groupby(\"permno\")[\"signal\"].shift(1) * data.rets\n"
     ]
    }
   ],
   "source": [
    "# get returns for strategy\n",
    "data[\"mavg_rets\"] = data.groupby(\"permno\")[\"signal\"].shift(1) * data.rets"
   ]
  },
  {
   "cell_type": "markdown",
   "id": "f7404e5e",
   "metadata": {},
   "source": [
    "#### 5. Calculate Trading Return"
   ]
  },
  {
   "cell_type": "code",
   "execution_count": 12,
   "id": "aff602ae",
   "metadata": {},
   "outputs": [],
   "source": [
    "strategy_returns = data.groupby(\"date\")[\"mavg_rets\"].mean().reset_index()"
   ]
  },
  {
   "cell_type": "code",
   "execution_count": 13,
   "id": "c3ef5e47",
   "metadata": {},
   "outputs": [],
   "source": [
    "strategy_returns.date = pd.to_datetime(strategy_returns.date)"
   ]
  },
  {
   "cell_type": "code",
   "execution_count": 14,
   "id": "2dc22f1e",
   "metadata": {},
   "outputs": [],
   "source": [
    "strategy_returns = strategy_returns.dropna()"
   ]
  },
  {
   "cell_type": "code",
   "execution_count": 15,
   "id": "01e2e46c",
   "metadata": {},
   "outputs": [],
   "source": [
    "strategy_returns[\"mavg_cum_rets\"] = (strategy_returns.mavg_rets +1).cumprod()"
   ]
  },
  {
   "cell_type": "markdown",
   "id": "d2add79a",
   "metadata": {},
   "source": [
    "### Evaluation"
   ]
  },
  {
   "cell_type": "code",
   "execution_count": 16,
   "id": "fb1e2a61",
   "metadata": {
    "scrolled": false
   },
   "outputs": [
    {
     "name": "stderr",
     "output_type": "stream",
     "text": [
      "/Library/Frameworks/Python.framework/Versions/3.9/lib/python3.9/site-packages/_plotly_utils/basevalidators.py:105: FutureWarning: The behavior of DatetimeProperties.to_pydatetime is deprecated, in a future version this will return a Series containing python datetime objects instead of an ndarray. To retain the old behavior, call `np.array` on the result\n",
      "  v = v.dt.to_pydatetime()\n"
     ]
    },
    {
     "data": {
      "application/vnd.plotly.v1+json": {
       "config": {
        "plotlyServerURL": "https://plot.ly"
       },
       "data": [
        {
         "hovertemplate": "date=%{x}<br>Cumulative returns=%{y}<extra></extra>",
         "legendgroup": "",
         "line": {
          "color": "#636efa",
          "dash": "solid"
         },
         "marker": {
          "symbol": "circle"
         },
         "mode": "lines",
         "name": "",
         "orientation": "v",
         "showlegend": false,
         "type": "scatter",
         "x": [
          "1991-04-30T00:00:00",
          "1991-05-31T00:00:00",
          "1991-06-28T00:00:00",
          "1991-07-31T00:00:00",
          "1991-08-30T00:00:00",
          "1991-09-30T00:00:00",
          "1991-10-31T00:00:00",
          "1991-11-29T00:00:00",
          "1991-12-31T00:00:00",
          "1992-01-31T00:00:00",
          "1992-02-28T00:00:00",
          "1992-03-31T00:00:00",
          "1992-04-30T00:00:00",
          "1992-05-29T00:00:00",
          "1992-06-30T00:00:00",
          "1992-07-31T00:00:00",
          "1992-08-31T00:00:00",
          "1992-09-30T00:00:00",
          "1992-10-30T00:00:00",
          "1992-11-30T00:00:00",
          "1992-12-31T00:00:00",
          "1993-01-29T00:00:00",
          "1993-02-26T00:00:00",
          "1993-03-31T00:00:00",
          "1993-04-30T00:00:00",
          "1993-05-28T00:00:00",
          "1993-06-30T00:00:00",
          "1993-07-30T00:00:00",
          "1993-08-31T00:00:00",
          "1993-09-30T00:00:00",
          "1993-10-29T00:00:00",
          "1993-11-30T00:00:00",
          "1993-12-31T00:00:00",
          "1994-01-31T00:00:00",
          "1994-02-28T00:00:00",
          "1994-03-31T00:00:00",
          "1994-04-29T00:00:00",
          "1994-05-31T00:00:00",
          "1994-06-30T00:00:00",
          "1994-07-29T00:00:00",
          "1994-08-31T00:00:00",
          "1994-09-30T00:00:00",
          "1994-10-31T00:00:00",
          "1994-11-30T00:00:00",
          "1994-12-30T00:00:00",
          "1995-01-31T00:00:00",
          "1995-02-28T00:00:00",
          "1995-03-31T00:00:00",
          "1995-04-28T00:00:00",
          "1995-05-31T00:00:00",
          "1995-06-30T00:00:00",
          "1995-07-31T00:00:00",
          "1995-08-31T00:00:00",
          "1995-09-29T00:00:00",
          "1995-10-31T00:00:00",
          "1995-11-30T00:00:00",
          "1995-12-29T00:00:00",
          "1996-01-31T00:00:00",
          "1996-02-29T00:00:00",
          "1996-03-29T00:00:00",
          "1996-04-30T00:00:00",
          "1996-05-31T00:00:00",
          "1996-06-28T00:00:00",
          "1996-07-31T00:00:00",
          "1996-08-30T00:00:00",
          "1996-09-30T00:00:00",
          "1996-10-31T00:00:00",
          "1996-11-29T00:00:00",
          "1996-12-31T00:00:00",
          "1997-01-31T00:00:00",
          "1997-02-28T00:00:00",
          "1997-03-31T00:00:00",
          "1997-04-30T00:00:00",
          "1997-05-30T00:00:00",
          "1997-06-30T00:00:00",
          "1997-07-31T00:00:00",
          "1997-08-29T00:00:00",
          "1997-09-30T00:00:00",
          "1997-10-31T00:00:00",
          "1997-11-28T00:00:00",
          "1997-12-31T00:00:00",
          "1998-01-30T00:00:00",
          "1998-02-27T00:00:00",
          "1998-03-31T00:00:00",
          "1998-04-30T00:00:00",
          "1998-05-29T00:00:00",
          "1998-06-30T00:00:00",
          "1998-07-31T00:00:00",
          "1998-08-31T00:00:00",
          "1998-09-30T00:00:00",
          "1998-10-30T00:00:00",
          "1998-11-30T00:00:00",
          "1998-12-31T00:00:00",
          "1999-01-29T00:00:00",
          "1999-02-26T00:00:00",
          "1999-03-31T00:00:00",
          "1999-04-30T00:00:00",
          "1999-05-28T00:00:00",
          "1999-06-30T00:00:00",
          "1999-07-30T00:00:00",
          "1999-08-31T00:00:00",
          "1999-09-30T00:00:00",
          "1999-10-29T00:00:00",
          "1999-11-30T00:00:00",
          "1999-12-31T00:00:00",
          "2000-01-31T00:00:00",
          "2000-02-29T00:00:00",
          "2000-03-31T00:00:00",
          "2000-04-28T00:00:00",
          "2000-05-31T00:00:00",
          "2000-06-30T00:00:00",
          "2000-07-31T00:00:00",
          "2000-08-31T00:00:00",
          "2000-09-29T00:00:00",
          "2000-10-31T00:00:00",
          "2000-11-30T00:00:00",
          "2000-12-29T00:00:00",
          "2001-01-31T00:00:00",
          "2001-02-28T00:00:00",
          "2001-03-30T00:00:00",
          "2001-04-30T00:00:00",
          "2001-05-31T00:00:00",
          "2001-06-29T00:00:00",
          "2001-07-31T00:00:00",
          "2001-08-31T00:00:00",
          "2001-09-28T00:00:00",
          "2001-10-31T00:00:00",
          "2001-11-30T00:00:00",
          "2001-12-31T00:00:00",
          "2002-01-31T00:00:00",
          "2002-02-28T00:00:00",
          "2002-03-28T00:00:00",
          "2002-04-30T00:00:00",
          "2002-05-31T00:00:00",
          "2002-06-28T00:00:00",
          "2002-07-31T00:00:00",
          "2002-08-30T00:00:00",
          "2002-09-30T00:00:00",
          "2002-10-31T00:00:00",
          "2002-11-29T00:00:00",
          "2002-12-31T00:00:00",
          "2003-01-31T00:00:00",
          "2003-02-28T00:00:00",
          "2003-03-31T00:00:00",
          "2003-04-30T00:00:00",
          "2003-05-30T00:00:00",
          "2003-06-30T00:00:00",
          "2003-07-31T00:00:00",
          "2003-08-29T00:00:00",
          "2003-09-30T00:00:00",
          "2003-10-31T00:00:00",
          "2003-11-28T00:00:00",
          "2003-12-31T00:00:00",
          "2004-01-30T00:00:00",
          "2004-02-27T00:00:00",
          "2004-03-31T00:00:00",
          "2004-04-30T00:00:00",
          "2004-05-28T00:00:00",
          "2004-06-30T00:00:00",
          "2004-07-30T00:00:00",
          "2004-08-31T00:00:00",
          "2004-09-30T00:00:00",
          "2004-10-29T00:00:00",
          "2004-11-30T00:00:00",
          "2004-12-31T00:00:00",
          "2005-01-31T00:00:00",
          "2005-02-28T00:00:00",
          "2005-03-31T00:00:00",
          "2005-04-29T00:00:00",
          "2005-05-31T00:00:00",
          "2005-06-30T00:00:00",
          "2005-07-29T00:00:00",
          "2005-08-31T00:00:00",
          "2005-09-30T00:00:00",
          "2005-10-31T00:00:00",
          "2005-11-30T00:00:00",
          "2005-12-30T00:00:00",
          "2006-01-31T00:00:00",
          "2006-02-28T00:00:00",
          "2006-03-31T00:00:00",
          "2006-04-28T00:00:00",
          "2006-05-31T00:00:00",
          "2006-06-30T00:00:00",
          "2006-07-31T00:00:00",
          "2006-08-31T00:00:00",
          "2006-09-29T00:00:00",
          "2006-10-31T00:00:00",
          "2006-11-30T00:00:00",
          "2006-12-29T00:00:00",
          "2007-01-31T00:00:00",
          "2007-02-28T00:00:00",
          "2007-03-30T00:00:00",
          "2007-04-30T00:00:00",
          "2007-05-31T00:00:00",
          "2007-06-29T00:00:00",
          "2007-07-31T00:00:00",
          "2007-08-31T00:00:00",
          "2007-09-28T00:00:00",
          "2007-10-31T00:00:00",
          "2007-11-30T00:00:00",
          "2007-12-31T00:00:00",
          "2008-01-31T00:00:00",
          "2008-02-29T00:00:00",
          "2008-03-31T00:00:00",
          "2008-04-30T00:00:00",
          "2008-05-30T00:00:00",
          "2008-06-30T00:00:00",
          "2008-07-31T00:00:00",
          "2008-08-29T00:00:00",
          "2008-09-30T00:00:00",
          "2008-10-31T00:00:00",
          "2008-11-28T00:00:00",
          "2008-12-31T00:00:00",
          "2009-01-30T00:00:00",
          "2009-02-27T00:00:00",
          "2009-03-31T00:00:00",
          "2009-04-30T00:00:00",
          "2009-05-29T00:00:00",
          "2009-06-30T00:00:00",
          "2009-07-31T00:00:00",
          "2009-08-31T00:00:00",
          "2009-09-30T00:00:00",
          "2009-10-30T00:00:00",
          "2009-11-30T00:00:00",
          "2009-12-31T00:00:00",
          "2010-01-29T00:00:00",
          "2010-02-26T00:00:00",
          "2010-03-31T00:00:00",
          "2010-04-30T00:00:00",
          "2010-05-28T00:00:00",
          "2010-06-30T00:00:00",
          "2010-07-30T00:00:00",
          "2010-08-31T00:00:00",
          "2010-09-30T00:00:00",
          "2010-10-29T00:00:00",
          "2010-11-30T00:00:00",
          "2010-12-31T00:00:00",
          "2011-01-31T00:00:00",
          "2011-02-28T00:00:00",
          "2011-03-31T00:00:00",
          "2011-04-29T00:00:00",
          "2011-05-31T00:00:00",
          "2011-06-30T00:00:00",
          "2011-07-29T00:00:00",
          "2011-08-31T00:00:00",
          "2011-09-30T00:00:00",
          "2011-10-31T00:00:00",
          "2011-11-30T00:00:00",
          "2011-12-30T00:00:00",
          "2012-01-31T00:00:00",
          "2012-02-29T00:00:00",
          "2012-03-30T00:00:00",
          "2012-04-30T00:00:00",
          "2012-05-31T00:00:00",
          "2012-06-29T00:00:00",
          "2012-07-31T00:00:00",
          "2012-08-31T00:00:00",
          "2012-09-28T00:00:00",
          "2012-10-31T00:00:00",
          "2012-11-30T00:00:00",
          "2012-12-31T00:00:00",
          "2013-01-31T00:00:00",
          "2013-02-28T00:00:00",
          "2013-03-28T00:00:00",
          "2013-04-30T00:00:00",
          "2013-05-31T00:00:00",
          "2013-06-28T00:00:00",
          "2013-07-31T00:00:00",
          "2013-08-30T00:00:00",
          "2013-09-30T00:00:00",
          "2013-10-31T00:00:00",
          "2013-11-29T00:00:00",
          "2013-12-31T00:00:00",
          "2014-01-31T00:00:00",
          "2014-02-28T00:00:00",
          "2014-03-31T00:00:00",
          "2014-04-30T00:00:00",
          "2014-05-30T00:00:00",
          "2014-06-30T00:00:00",
          "2014-07-31T00:00:00",
          "2014-08-29T00:00:00",
          "2014-09-30T00:00:00",
          "2014-10-31T00:00:00",
          "2014-11-28T00:00:00",
          "2014-12-31T00:00:00",
          "2015-01-30T00:00:00",
          "2015-02-27T00:00:00",
          "2015-03-31T00:00:00",
          "2015-04-30T00:00:00",
          "2015-05-29T00:00:00",
          "2015-06-30T00:00:00",
          "2015-07-31T00:00:00",
          "2015-08-31T00:00:00",
          "2015-09-30T00:00:00",
          "2015-10-30T00:00:00",
          "2015-11-30T00:00:00",
          "2015-12-31T00:00:00",
          "2016-01-29T00:00:00",
          "2016-02-29T00:00:00",
          "2016-03-31T00:00:00",
          "2016-04-29T00:00:00",
          "2016-05-31T00:00:00",
          "2016-06-30T00:00:00",
          "2016-07-29T00:00:00",
          "2016-08-31T00:00:00",
          "2016-09-30T00:00:00",
          "2016-10-31T00:00:00",
          "2016-11-30T00:00:00",
          "2016-12-30T00:00:00",
          "2017-01-31T00:00:00",
          "2017-02-28T00:00:00",
          "2017-03-31T00:00:00",
          "2017-04-28T00:00:00",
          "2017-05-31T00:00:00",
          "2017-06-30T00:00:00",
          "2017-07-31T00:00:00",
          "2017-08-31T00:00:00",
          "2017-09-29T00:00:00",
          "2017-10-31T00:00:00",
          "2017-11-30T00:00:00",
          "2017-12-29T00:00:00",
          "2018-01-31T00:00:00",
          "2018-02-28T00:00:00",
          "2018-03-29T00:00:00",
          "2018-04-30T00:00:00",
          "2018-05-31T00:00:00",
          "2018-06-29T00:00:00",
          "2018-07-31T00:00:00",
          "2018-08-31T00:00:00",
          "2018-09-28T00:00:00",
          "2018-10-31T00:00:00",
          "2018-11-30T00:00:00",
          "2018-12-31T00:00:00",
          "2019-01-31T00:00:00",
          "2019-02-28T00:00:00",
          "2019-03-29T00:00:00",
          "2019-04-30T00:00:00",
          "2019-05-31T00:00:00",
          "2019-06-28T00:00:00",
          "2019-07-31T00:00:00",
          "2019-08-30T00:00:00",
          "2019-09-30T00:00:00",
          "2019-10-31T00:00:00",
          "2019-11-29T00:00:00",
          "2019-12-31T00:00:00",
          "2020-01-31T00:00:00",
          "2020-02-28T00:00:00",
          "2020-03-31T00:00:00",
          "2020-04-30T00:00:00",
          "2020-05-29T00:00:00",
          "2020-06-30T00:00:00",
          "2020-07-31T00:00:00",
          "2020-08-31T00:00:00",
          "2020-09-30T00:00:00",
          "2020-10-30T00:00:00",
          "2020-11-30T00:00:00",
          "2020-12-31T00:00:00",
          "2021-01-29T00:00:00",
          "2021-02-26T00:00:00",
          "2021-03-31T00:00:00",
          "2021-04-30T00:00:00",
          "2021-05-28T00:00:00",
          "2021-06-30T00:00:00",
          "2021-07-30T00:00:00",
          "2021-08-31T00:00:00",
          "2021-09-30T00:00:00",
          "2021-10-29T00:00:00",
          "2021-11-30T00:00:00",
          "2021-12-31T00:00:00",
          "2022-01-31T00:00:00",
          "2022-02-28T00:00:00",
          "2022-03-31T00:00:00",
          "2022-04-29T00:00:00",
          "2022-05-31T00:00:00",
          "2022-06-30T00:00:00",
          "2022-07-29T00:00:00",
          "2022-08-30T00:00:00"
         ],
         "xaxis": "x",
         "y": [
          1.003804604600888,
          1.0343364441822123,
          0.9933941411129528,
          1.028427944040963,
          1.054748177565617,
          1.0409011095311342,
          1.0659505415930153,
          1.01708927226169,
          1.0984264055236763,
          1.1212986636161544,
          1.1355359088904982,
          1.1143883268108739,
          1.1189481687076255,
          1.1187025217647195,
          1.1036512556083848,
          1.1384503703325717,
          1.1176606294904985,
          1.1376749036704517,
          1.1614256472350852,
          1.2022285564343427,
          1.2222891498296513,
          1.2445139459525236,
          1.2446203910777907,
          1.2781936479293448,
          1.254530636857949,
          1.29427487186547,
          1.3043064439649072,
          1.3011421910961738,
          1.3494583590489655,
          1.3637168099025816,
          1.3787631828622324,
          1.3636590692059511,
          1.3883314204055155,
          1.4241992702218615,
          1.4039035998103684,
          1.3608812072058463,
          1.3638693360487943,
          1.3667578273619674,
          1.3472452240158455,
          1.366685274072208,
          1.3987741301548027,
          1.38342163319395,
          1.3966474371313689,
          1.370522906966621,
          1.3804021305495635,
          1.3982260373113704,
          1.4252688740966957,
          1.4458628645839744,
          1.4584062445528063,
          1.4882049154736143,
          1.5282396109993068,
          1.5842915494258567,
          1.5948911659303442,
          1.6333762560188978,
          1.6042712308328437,
          1.6709503975459323,
          1.690107809837709,
          1.721018155378854,
          1.7479271328435642,
          1.7770008132629909,
          1.8403475703156784,
          1.8700427360315375,
          1.8475177178521098,
          1.7517640450107281,
          1.8114834470328454,
          1.8825222166176183,
          1.8939982020297095,
          1.9807878287830065,
          1.970641564893313,
          2.0312544906665027,
          2.025269300666545,
          1.9665242199579587,
          2.0160685467958106,
          2.141460826564141,
          2.199057394240058,
          2.3322303932112973,
          2.3132309970213374,
          2.4339839497409064,
          2.354647564459818,
          2.3957190396558414,
          2.4328180807418485,
          2.423434539579938,
          2.5881258346521996,
          2.6911997680262925,
          2.7259613179485878,
          2.6653452210793374,
          2.7162604980237086,
          2.6089285767313477,
          2.3073345652836297,
          2.422632136774469,
          2.536156604999544,
          2.588076857813033,
          2.6441168167376827,
          2.6543762579814714,
          2.611202542303419,
          2.6857905299776172,
          2.7984275997002195,
          2.8016241578549055,
          2.8822773347941797,
          2.843591374777857,
          2.822096135462947,
          2.786426042793228,
          2.834407402584195,
          2.875037950055631,
          2.979864947831337,
          2.926864343495736,
          2.968369287966082,
          3.0720265181348503,
          3.0729671665953275,
          3.078449953208164,
          3.081955139500193,
          3.0848026122717656,
          3.2106480024385387,
          3.1741254928519687,
          3.1786661377703074,
          3.084714042552093,
          3.2370230220972984,
          3.3820655826396693,
          3.271070955167689,
          3.1666424607675845,
          3.3730112067495015,
          3.4209093146453045,
          3.3880818424045964,
          3.355088549096648,
          3.257640953777558,
          2.9902789385297432,
          3.085104024044321,
          3.220285475838965,
          3.2792352809668737,
          3.271889492895155,
          3.2571686735926084,
          3.383495742354771,
          3.343102114448806,
          3.290377627311691,
          3.129607163432595,
          2.921046099169556,
          2.9230325529983516,
          2.7946941538087344,
          2.873623150558486,
          2.964316367520006,
          2.919124785325643,
          2.913524727912009,
          2.899723748765937,
          2.906573200812519,
          2.981832863315395,
          3.0587327240983764,
          3.0602724518468554,
          3.0999639349848342,
          3.190805637086132,
          3.164144584849452,
          3.402497984853233,
          3.4902631119885967,
          3.6337322241978245,
          3.7494524782206877,
          3.8266357513443223,
          3.845042542580408,
          3.740085131366325,
          3.8326546762883775,
          3.9893343050712344,
          3.8364496921456315,
          3.8140139038937315,
          3.9078922049363407,
          3.9817969015658616,
          4.150627988981274,
          4.262274916512883,
          4.170955702068411,
          4.255523772804896,
          4.198993970300201,
          4.100746596379582,
          4.2904049791482635,
          4.357584346020428,
          4.540835611905796,
          4.515526470303797,
          4.5498203815570255,
          4.479086732654917,
          4.64184596174734,
          4.659728445692381,
          4.862252256344,
          4.8481430454403345,
          4.9467515607740085,
          5.005078874945213,
          4.853002690789977,
          4.861155785443316,
          4.784473578081884,
          4.877067913329723,
          4.94488329055943,
          5.0798887838719216,
          5.189803707606567,
          5.186880902671252,
          5.297582521171379,
          5.300040002967615,
          5.341338893852112,
          5.505833833825758,
          5.683368662350019,
          5.616966254180984,
          5.4319271600880255,
          5.444394369703257,
          5.57123933821686,
          5.6691853231499625,
          5.441543637161827,
          5.397557721812028,
          5.2020797930376705,
          5.115671707612089,
          5.073780451423689,
          5.186885656264986,
          5.259159952155039,
          5.09213394119161,
          5.096106776729979,
          5.1848026517508226,
          4.988463006580233,
          4.619483207319729,
          4.507930371372096,
          4.537321136828078,
          4.520097262096474,
          4.50180814968597,
          4.513907790673483,
          4.531472117569735,
          4.537894086801022,
          4.543254303696929,
          4.56350905907982,
          4.625615957959346,
          4.742864097885188,
          4.640556519619479,
          4.794417892456578,
          5.030693400847187,
          4.9130384627049795,
          5.112224702299197,
          5.461220564683202,
          5.7049467161510075,
          5.278889860670586,
          4.942859138836935,
          5.278736682318529,
          5.042105181348224,
          5.466381614895991,
          5.604172223244555,
          5.64405028255729,
          5.926213117754311,
          6.007637148522091,
          6.226270571176586,
          6.281026838037462,
          6.457118297721384,
          6.418918978620042,
          6.28965210564037,
          6.064181601115982,
          5.67448280439748,
          5.237082328298947,
          5.72132166432736,
          5.699345752681274,
          5.706323242055292,
          5.832246251070577,
          5.9168299258541195,
          5.98810763740739,
          5.93952999290945,
          5.634791579917059,
          5.778616930198144,
          5.742075019878551,
          5.877929927710208,
          5.969503680029426,
          5.936891280908818,
          5.986987106260207,
          6.100583927334729,
          6.368146364706932,
          6.42226940798785,
          6.639379179388353,
          6.709472364622087,
          6.917643588731545,
          6.854477111935165,
          7.224889016680773,
          7.069283591675856,
          7.391795617670761,
          7.632527077391848,
          7.789065520798171,
          8.020488650026513,
          7.871575126321091,
          8.276638818820357,
          8.255351044938724,
          8.232468955490445,
          8.40317711037838,
          8.64472909179619,
          8.461342198242058,
          8.785810366741053,
          8.544918305216665,
          8.753000625349587,
          8.948911976462211,
          8.946013343895062,
          8.76259178308294,
          9.169183708234812,
          9.134135084267177,
          9.127465147462575,
          9.220812788670692,
          9.062246279691633,
          9.107137150689953,
          8.826754117793376,
          8.617653005258255,
          8.968908943913519,
          8.96255710389822,
          8.826549930610161,
          8.620933835572735,
          8.690308160456276,
          8.996951838324252,
          9.048371905500732,
          9.092558507518746,
          9.073603310303753,
          9.29071815767221,
          9.354993617791923,
          9.38518164975691,
          9.204235013870136,
          9.613540569604849,
          9.690748611167093,
          9.85658187687927,
          10.07589272083236,
          10.091516490346832,
          10.139630832681503,
          10.196126459621576,
          10.299424685449766,
          10.466020492020311,
          10.420621782653045,
          10.668765356774783,
          10.767773950705317,
          11.05312441191757,
          11.12598998337654,
          11.488822974607901,
          11.123894188647407,
          11.07131641272922,
          11.093766355753589,
          11.267459217645257,
          11.313278624416789,
          11.527115902989204,
          11.599320502942211,
          11.565836311352552,
          10.976267040582556,
          11.073761051546725,
          10.336855210461241,
          10.86351762488233,
          11.06187440155808,
          11.058670014218904,
          11.24181981105503,
          10.821583481776216,
          11.243719844664799,
          11.292394839994952,
          10.989654738759105,
          11.204397168670369,
          11.326341404270101,
          11.578222488835745,
          11.866353931197844,
          11.650094456760653,
          10.847703811212696,
          9.287830821555044,
          10.11864513397522,
          10.324876992499277,
          10.394538619438935,
          10.50247215483311,
          10.617540316729269,
          10.47669677419669,
          10.467284952781355,
          11.33396071644139,
          11.62922327205658,
          12.17791869865355,
          12.819952530454575,
          13.408282441309815,
          13.945313718026412,
          14.22310751847022,
          14.315044443122714,
          14.356605672981674,
          14.689469384971904,
          14.192394363907697,
          14.893144907938245,
          14.53773909314174,
          15.247263377427808,
          14.688887489090444,
          14.690486689664983,
          14.944661638619683,
          14.298203692488425,
          14.399254859278253,
          13.734782372450882,
          14.235909847703429,
          14.086978373761283
         ],
         "yaxis": "y"
        }
       ],
       "layout": {
        "legend": {
         "tracegroupgap": 0
        },
        "template": {
         "data": {
          "bar": [
           {
            "error_x": {
             "color": "#2a3f5f"
            },
            "error_y": {
             "color": "#2a3f5f"
            },
            "marker": {
             "line": {
              "color": "#E5ECF6",
              "width": 0.5
             },
             "pattern": {
              "fillmode": "overlay",
              "size": 10,
              "solidity": 0.2
             }
            },
            "type": "bar"
           }
          ],
          "barpolar": [
           {
            "marker": {
             "line": {
              "color": "#E5ECF6",
              "width": 0.5
             },
             "pattern": {
              "fillmode": "overlay",
              "size": 10,
              "solidity": 0.2
             }
            },
            "type": "barpolar"
           }
          ],
          "carpet": [
           {
            "aaxis": {
             "endlinecolor": "#2a3f5f",
             "gridcolor": "white",
             "linecolor": "white",
             "minorgridcolor": "white",
             "startlinecolor": "#2a3f5f"
            },
            "baxis": {
             "endlinecolor": "#2a3f5f",
             "gridcolor": "white",
             "linecolor": "white",
             "minorgridcolor": "white",
             "startlinecolor": "#2a3f5f"
            },
            "type": "carpet"
           }
          ],
          "choropleth": [
           {
            "colorbar": {
             "outlinewidth": 0,
             "ticks": ""
            },
            "type": "choropleth"
           }
          ],
          "contour": [
           {
            "colorbar": {
             "outlinewidth": 0,
             "ticks": ""
            },
            "colorscale": [
             [
              0,
              "#0d0887"
             ],
             [
              0.1111111111111111,
              "#46039f"
             ],
             [
              0.2222222222222222,
              "#7201a8"
             ],
             [
              0.3333333333333333,
              "#9c179e"
             ],
             [
              0.4444444444444444,
              "#bd3786"
             ],
             [
              0.5555555555555556,
              "#d8576b"
             ],
             [
              0.6666666666666666,
              "#ed7953"
             ],
             [
              0.7777777777777778,
              "#fb9f3a"
             ],
             [
              0.8888888888888888,
              "#fdca26"
             ],
             [
              1,
              "#f0f921"
             ]
            ],
            "type": "contour"
           }
          ],
          "contourcarpet": [
           {
            "colorbar": {
             "outlinewidth": 0,
             "ticks": ""
            },
            "type": "contourcarpet"
           }
          ],
          "heatmap": [
           {
            "colorbar": {
             "outlinewidth": 0,
             "ticks": ""
            },
            "colorscale": [
             [
              0,
              "#0d0887"
             ],
             [
              0.1111111111111111,
              "#46039f"
             ],
             [
              0.2222222222222222,
              "#7201a8"
             ],
             [
              0.3333333333333333,
              "#9c179e"
             ],
             [
              0.4444444444444444,
              "#bd3786"
             ],
             [
              0.5555555555555556,
              "#d8576b"
             ],
             [
              0.6666666666666666,
              "#ed7953"
             ],
             [
              0.7777777777777778,
              "#fb9f3a"
             ],
             [
              0.8888888888888888,
              "#fdca26"
             ],
             [
              1,
              "#f0f921"
             ]
            ],
            "type": "heatmap"
           }
          ],
          "heatmapgl": [
           {
            "colorbar": {
             "outlinewidth": 0,
             "ticks": ""
            },
            "colorscale": [
             [
              0,
              "#0d0887"
             ],
             [
              0.1111111111111111,
              "#46039f"
             ],
             [
              0.2222222222222222,
              "#7201a8"
             ],
             [
              0.3333333333333333,
              "#9c179e"
             ],
             [
              0.4444444444444444,
              "#bd3786"
             ],
             [
              0.5555555555555556,
              "#d8576b"
             ],
             [
              0.6666666666666666,
              "#ed7953"
             ],
             [
              0.7777777777777778,
              "#fb9f3a"
             ],
             [
              0.8888888888888888,
              "#fdca26"
             ],
             [
              1,
              "#f0f921"
             ]
            ],
            "type": "heatmapgl"
           }
          ],
          "histogram": [
           {
            "marker": {
             "pattern": {
              "fillmode": "overlay",
              "size": 10,
              "solidity": 0.2
             }
            },
            "type": "histogram"
           }
          ],
          "histogram2d": [
           {
            "colorbar": {
             "outlinewidth": 0,
             "ticks": ""
            },
            "colorscale": [
             [
              0,
              "#0d0887"
             ],
             [
              0.1111111111111111,
              "#46039f"
             ],
             [
              0.2222222222222222,
              "#7201a8"
             ],
             [
              0.3333333333333333,
              "#9c179e"
             ],
             [
              0.4444444444444444,
              "#bd3786"
             ],
             [
              0.5555555555555556,
              "#d8576b"
             ],
             [
              0.6666666666666666,
              "#ed7953"
             ],
             [
              0.7777777777777778,
              "#fb9f3a"
             ],
             [
              0.8888888888888888,
              "#fdca26"
             ],
             [
              1,
              "#f0f921"
             ]
            ],
            "type": "histogram2d"
           }
          ],
          "histogram2dcontour": [
           {
            "colorbar": {
             "outlinewidth": 0,
             "ticks": ""
            },
            "colorscale": [
             [
              0,
              "#0d0887"
             ],
             [
              0.1111111111111111,
              "#46039f"
             ],
             [
              0.2222222222222222,
              "#7201a8"
             ],
             [
              0.3333333333333333,
              "#9c179e"
             ],
             [
              0.4444444444444444,
              "#bd3786"
             ],
             [
              0.5555555555555556,
              "#d8576b"
             ],
             [
              0.6666666666666666,
              "#ed7953"
             ],
             [
              0.7777777777777778,
              "#fb9f3a"
             ],
             [
              0.8888888888888888,
              "#fdca26"
             ],
             [
              1,
              "#f0f921"
             ]
            ],
            "type": "histogram2dcontour"
           }
          ],
          "mesh3d": [
           {
            "colorbar": {
             "outlinewidth": 0,
             "ticks": ""
            },
            "type": "mesh3d"
           }
          ],
          "parcoords": [
           {
            "line": {
             "colorbar": {
              "outlinewidth": 0,
              "ticks": ""
             }
            },
            "type": "parcoords"
           }
          ],
          "pie": [
           {
            "automargin": true,
            "type": "pie"
           }
          ],
          "scatter": [
           {
            "fillpattern": {
             "fillmode": "overlay",
             "size": 10,
             "solidity": 0.2
            },
            "type": "scatter"
           }
          ],
          "scatter3d": [
           {
            "line": {
             "colorbar": {
              "outlinewidth": 0,
              "ticks": ""
             }
            },
            "marker": {
             "colorbar": {
              "outlinewidth": 0,
              "ticks": ""
             }
            },
            "type": "scatter3d"
           }
          ],
          "scattercarpet": [
           {
            "marker": {
             "colorbar": {
              "outlinewidth": 0,
              "ticks": ""
             }
            },
            "type": "scattercarpet"
           }
          ],
          "scattergeo": [
           {
            "marker": {
             "colorbar": {
              "outlinewidth": 0,
              "ticks": ""
             }
            },
            "type": "scattergeo"
           }
          ],
          "scattergl": [
           {
            "marker": {
             "colorbar": {
              "outlinewidth": 0,
              "ticks": ""
             }
            },
            "type": "scattergl"
           }
          ],
          "scattermapbox": [
           {
            "marker": {
             "colorbar": {
              "outlinewidth": 0,
              "ticks": ""
             }
            },
            "type": "scattermapbox"
           }
          ],
          "scatterpolar": [
           {
            "marker": {
             "colorbar": {
              "outlinewidth": 0,
              "ticks": ""
             }
            },
            "type": "scatterpolar"
           }
          ],
          "scatterpolargl": [
           {
            "marker": {
             "colorbar": {
              "outlinewidth": 0,
              "ticks": ""
             }
            },
            "type": "scatterpolargl"
           }
          ],
          "scatterternary": [
           {
            "marker": {
             "colorbar": {
              "outlinewidth": 0,
              "ticks": ""
             }
            },
            "type": "scatterternary"
           }
          ],
          "surface": [
           {
            "colorbar": {
             "outlinewidth": 0,
             "ticks": ""
            },
            "colorscale": [
             [
              0,
              "#0d0887"
             ],
             [
              0.1111111111111111,
              "#46039f"
             ],
             [
              0.2222222222222222,
              "#7201a8"
             ],
             [
              0.3333333333333333,
              "#9c179e"
             ],
             [
              0.4444444444444444,
              "#bd3786"
             ],
             [
              0.5555555555555556,
              "#d8576b"
             ],
             [
              0.6666666666666666,
              "#ed7953"
             ],
             [
              0.7777777777777778,
              "#fb9f3a"
             ],
             [
              0.8888888888888888,
              "#fdca26"
             ],
             [
              1,
              "#f0f921"
             ]
            ],
            "type": "surface"
           }
          ],
          "table": [
           {
            "cells": {
             "fill": {
              "color": "#EBF0F8"
             },
             "line": {
              "color": "white"
             }
            },
            "header": {
             "fill": {
              "color": "#C8D4E3"
             },
             "line": {
              "color": "white"
             }
            },
            "type": "table"
           }
          ]
         },
         "layout": {
          "annotationdefaults": {
           "arrowcolor": "#2a3f5f",
           "arrowhead": 0,
           "arrowwidth": 1
          },
          "autotypenumbers": "strict",
          "coloraxis": {
           "colorbar": {
            "outlinewidth": 0,
            "ticks": ""
           }
          },
          "colorscale": {
           "diverging": [
            [
             0,
             "#8e0152"
            ],
            [
             0.1,
             "#c51b7d"
            ],
            [
             0.2,
             "#de77ae"
            ],
            [
             0.3,
             "#f1b6da"
            ],
            [
             0.4,
             "#fde0ef"
            ],
            [
             0.5,
             "#f7f7f7"
            ],
            [
             0.6,
             "#e6f5d0"
            ],
            [
             0.7,
             "#b8e186"
            ],
            [
             0.8,
             "#7fbc41"
            ],
            [
             0.9,
             "#4d9221"
            ],
            [
             1,
             "#276419"
            ]
           ],
           "sequential": [
            [
             0,
             "#0d0887"
            ],
            [
             0.1111111111111111,
             "#46039f"
            ],
            [
             0.2222222222222222,
             "#7201a8"
            ],
            [
             0.3333333333333333,
             "#9c179e"
            ],
            [
             0.4444444444444444,
             "#bd3786"
            ],
            [
             0.5555555555555556,
             "#d8576b"
            ],
            [
             0.6666666666666666,
             "#ed7953"
            ],
            [
             0.7777777777777778,
             "#fb9f3a"
            ],
            [
             0.8888888888888888,
             "#fdca26"
            ],
            [
             1,
             "#f0f921"
            ]
           ],
           "sequentialminus": [
            [
             0,
             "#0d0887"
            ],
            [
             0.1111111111111111,
             "#46039f"
            ],
            [
             0.2222222222222222,
             "#7201a8"
            ],
            [
             0.3333333333333333,
             "#9c179e"
            ],
            [
             0.4444444444444444,
             "#bd3786"
            ],
            [
             0.5555555555555556,
             "#d8576b"
            ],
            [
             0.6666666666666666,
             "#ed7953"
            ],
            [
             0.7777777777777778,
             "#fb9f3a"
            ],
            [
             0.8888888888888888,
             "#fdca26"
            ],
            [
             1,
             "#f0f921"
            ]
           ]
          },
          "colorway": [
           "#636efa",
           "#EF553B",
           "#00cc96",
           "#ab63fa",
           "#FFA15A",
           "#19d3f3",
           "#FF6692",
           "#B6E880",
           "#FF97FF",
           "#FECB52"
          ],
          "font": {
           "color": "#2a3f5f"
          },
          "geo": {
           "bgcolor": "white",
           "lakecolor": "white",
           "landcolor": "#E5ECF6",
           "showlakes": true,
           "showland": true,
           "subunitcolor": "white"
          },
          "hoverlabel": {
           "align": "left"
          },
          "hovermode": "closest",
          "mapbox": {
           "style": "light"
          },
          "paper_bgcolor": "white",
          "plot_bgcolor": "#E5ECF6",
          "polar": {
           "angularaxis": {
            "gridcolor": "white",
            "linecolor": "white",
            "ticks": ""
           },
           "bgcolor": "#E5ECF6",
           "radialaxis": {
            "gridcolor": "white",
            "linecolor": "white",
            "ticks": ""
           }
          },
          "scene": {
           "xaxis": {
            "backgroundcolor": "#E5ECF6",
            "gridcolor": "white",
            "gridwidth": 2,
            "linecolor": "white",
            "showbackground": true,
            "ticks": "",
            "zerolinecolor": "white"
           },
           "yaxis": {
            "backgroundcolor": "#E5ECF6",
            "gridcolor": "white",
            "gridwidth": 2,
            "linecolor": "white",
            "showbackground": true,
            "ticks": "",
            "zerolinecolor": "white"
           },
           "zaxis": {
            "backgroundcolor": "#E5ECF6",
            "gridcolor": "white",
            "gridwidth": 2,
            "linecolor": "white",
            "showbackground": true,
            "ticks": "",
            "zerolinecolor": "white"
           }
          },
          "shapedefaults": {
           "line": {
            "color": "#2a3f5f"
           }
          },
          "ternary": {
           "aaxis": {
            "gridcolor": "white",
            "linecolor": "white",
            "ticks": ""
           },
           "baxis": {
            "gridcolor": "white",
            "linecolor": "white",
            "ticks": ""
           },
           "bgcolor": "#E5ECF6",
           "caxis": {
            "gridcolor": "white",
            "linecolor": "white",
            "ticks": ""
           }
          },
          "title": {
           "x": 0.05
          },
          "xaxis": {
           "automargin": true,
           "gridcolor": "white",
           "linecolor": "white",
           "ticks": "",
           "title": {
            "standoff": 15
           },
           "zerolinecolor": "white",
           "zerolinewidth": 2
          },
          "yaxis": {
           "automargin": true,
           "gridcolor": "white",
           "linecolor": "white",
           "ticks": "",
           "title": {
            "standoff": 15
           },
           "zerolinecolor": "white",
           "zerolinewidth": 2
          }
         }
        },
        "title": {
         "text": "Moving Average Returns"
        },
        "xaxis": {
         "anchor": "y",
         "domain": [
          0,
          1
         ],
         "title": {
          "text": "date"
         }
        },
        "yaxis": {
         "anchor": "x",
         "domain": [
          0,
          1
         ],
         "title": {
          "text": "Cumulative returns"
         }
        }
       }
      }
     },
     "metadata": {},
     "output_type": "display_data"
    }
   ],
   "source": [
    "px.line(strategy_returns, y='mavg_cum_rets', x='date', labels={'mavg_cum_rets': 'Cumulative returns'}, title = 'Moving Average Returns').show()"
   ]
  },
  {
   "cell_type": "code",
   "execution_count": 17,
   "id": "57bd7d0f",
   "metadata": {},
   "outputs": [
    {
     "data": {
      "application/vnd.plotly.v1+json": {
       "config": {
        "plotlyServerURL": "https://plot.ly"
       },
       "data": [
        {
         "alignmentgroup": "True",
         "bingroup": "x",
         "hovertemplate": "variable=mavg_rets<br>value=%{x}<br>count=%{y}<extra></extra>",
         "legendgroup": "mavg_rets",
         "marker": {
          "color": "#636efa",
          "pattern": {
           "shape": ""
          }
         },
         "name": "mavg_rets",
         "offsetgroup": "mavg_rets",
         "orientation": "v",
         "showlegend": true,
         "type": "histogram",
         "x": [
          0.0038046046008878517,
          0.030416118277783535,
          -0.039583158168259365,
          0.035266770235588364,
          0.025592686076999098,
          -0.013128316624772023,
          0.024065141090265856,
          -0.04583821427427989,
          0.07997049568826708,
          0.020822749687607667,
          0.012697103578478447,
          -0.01862343754526184,
          0.0040917889994422,
          -0.00021953379948743993,
          -0.01345421670507357,
          0.03153089759772338,
          -0.018261437989606916,
          0.01790729104332573,
          0.020876564551092037,
          0.03513174459027453,
          0.01668617276469128,
          0.01818292842243574,
          0.00008553148449095875,
          0.026974696134040403,
          -0.01851285297007185,
          0.031680561510289584,
          0.00775072769896123,
          -0.0024260041674826873,
          0.03713365709253254,
          0.010566054712251166,
          0.011033355936065348,
          -0.010954828098126326,
          0.0180927562883669,
          0.025835221539442958,
          -0.01425058335294017,
          -0.03064483388341861,
          0.002195730844930439,
          0.002117865133283979,
          -0.014276562354710478,
          0.014429481515188485,
          0.023479331116945345,
          -0.01097567979696168,
          0.009560211883403958,
          -0.01870517173496997,
          0.0072083607889548654,
          0.012912111889244076,
          0.019340819054782757,
          0.014449196822831495,
          0.008675359383022272,
          0.020432352804376053,
          0.026901332679009314,
          0.03667745425725351,
          0.006690445649557756,
          0.02413022964241219,
          -0.017818934907865625,
          0.041563524565900706,
          0.011464979642670766,
          0.018288978585403536,
          0.015635498893843098,
          0.016633233658962153,
          0.035648130591661296,
          0.016135629049009094,
          -0.012045188992433665,
          -0.05182828392720539,
          0.0340910079711971,
          0.03921579835638706,
          0.006096069045448127,
          0.04582350007528449,
          -0.005122337557943867,
          0.030757965757446593,
          -0.0029465485627030944,
          -0.029006058942014586,
          0.025193855399813486,
          0.062196436707283344,
          0.026895924016657316,
          0.06055912834292371,
          -0.00814644910093943,
          0.05220099197834456,
          -0.03259527873613698,
          0.017442727232704017,
          0.015485555890283486,
          -0.0038570665172996386,
          0.067957806320945,
          0.0398257039878219,
          0.012916748260494026,
          -0.02223659465383279,
          0.019102695043666212,
          -0.03951459050796248,
          -0.11560071599414058,
          0.04997002741848428,
          0.046859969576818504,
          0.020472021605897207,
          0.02165312778694075,
          0.0038801013551460943,
          -0.016265107687063112,
          0.02856461207654989,
          0.041938143896702695,
          0.0011422693783566889,
          0.028788007382484687,
          -0.013422011667411336,
          -0.007559187127084912,
          -0.012639573904475548,
          0.01721967820214184,
          0.014334759157907951,
          0.03646108315672062,
          -0.017786243760534642,
          0.014180686085633373,
          0.03492059784778117,
          0.0003061980275640171,
          0.0017841995425258706,
          0.0011386205217908422,
          0.0009239176570346966,
          0.04079528124948527,
          -0.011375432485539001,
          0.001430518399024776,
          -0.029557081853244842,
          0.04937539669615369,
          0.044807392333093894,
          -0.03281859111240245,
          -0.03192486370102326,
          0.06516957583266092,
          0.014200399868211894,
          -0.009596124661992528,
          -0.009738044959543366,
          -0.029044716374274946,
          -0.08207227838837859,
          0.031711117077660146,
          0.04381746960267232,
          0.01830576996051901,
          -0.0022400918026085634,
          -0.004499179857544845,
          0.0387843189658414,
          -0.0119384302454752,
          -0.01577112673562714,
          -0.04886079413640103,
          -0.06664129182088355,
          0.0006800487775116297,
          -0.04390590828623232,
          0.02824244529305058,
          0.03156058126268026,
          -0.015245195381143195,
          -0.001918402886298341,
          -0.004736867003000395,
          0.0023621050279347446,
          0.025892918327960143,
          0.02578946047884082,
          0.0005033874768947762,
          0.012969918124128399,
          0.029304115791831647,
          -0.008355586415795405,
          0.07532949067658434,
          0.02579432156200076,
          0.04110552918386876,
          0.03184611492620636,
          0.020585211726769782,
          0.004810175943613052,
          -0.02729681402787442,
          0.02475065183562679,
          0.040880184106382715,
          -0.03832333949332259,
          -0.0058480600691396805,
          0.02461404268788019,
          0.018911651794327012,
          0.04240072801026569,
          0.02689880370584876,
          -0.021424993984006917,
          0.02027546605075361,
          -0.013283864812587986,
          -0.023397836390223314,
          0.0462497202182949,
          0.01565804794621065,
          0.04205340650553834,
          -0.005573674927944813,
          0.007594665091382021,
          -0.015546470623067138,
          0.03633759264044223,
          0.0038524509629159005,
          0.04346257791885679,
          -0.0029017850493579097,
          0.020339440154600028,
          0.011791033662114826,
          -0.030384373144748997,
          0.0016800103302665945,
          -0.015774480544535476,
          0.01935308738499951,
          0.013904948308051482,
          0.02730205858856946,
          0.021637269714174283,
          -0.000563182174121709,
          0.02134261815094225,
          0.0004638874026812453,
          0.007792184749808053,
          0.030796574275221412,
          0.03224485770594009,
          -0.011683635553843892,
          -0.032942888691066166,
          0.0022951724586509387,
          0.023298269724813653,
          0.01758064570323263,
          -0.04015421493782666,
          -0.008083352497516781,
          -0.036215995983593215,
          -0.01661029604759781,
          -0.008188808544157784,
          0.022292096775602427,
          0.013934044565404374,
          -0.03175906655871667,
          0.0007801906988799561,
          0.017404634342798778,
          -0.037868296704463664,
          -0.07396663035764438,
          -0.024148336716729314,
          0.006519791353173995,
          -0.003796044893495326,
          -0.004046176741343208,
          0.0026877291490880017,
          0.0038911576644396046,
          0.0014171927057406242,
          0.00118121242879992,
          0.004458204192182157,
          0.013609461069427588,
          0.025347573380814663,
          -0.021570843303590985,
          0.03315580193595307,
          0.04928137548509474,
          -0.023387419738677317,
          0.040542373341109786,
          0.06826692540080362,
          0.04462851272551434,
          -0.07468200435145735,
          -0.06365556598124675,
          0.0679520767327849,
          -0.04482729774396916,
          0.08414668442801485,
          0.02520691346778321,
          0.007115780480002276,
          0.04999296977722442,
          0.013739639319389712,
          0.03639258118448128,
          0.008794392443264574,
          0.028035457294581803,
          -0.0059158462552594765,
          -0.020138417919003327,
          -0.03584784988699005,
          -0.06426238895068478,
          -0.07708199869062374,
          0.09246357144545754,
          -0.0038410550805255943,
          0.001224261463824181,
          0.02206727584011365,
          0.014502761224805313,
          0.01204660476073802,
          -0.008112353257392721,
          -0.05130682282203883,
          0.025524519982902585,
          -0.006323642968723322,
          0.023659549441854905,
          0.01557925212539766,
          -0.005463167604655413,
          0.00843805671707027,
          0.018973954521422278,
          0.0438584962618646,
          0.008499026275663969,
          0.03380577138829892,
          0.010557189661849011,
          0.031026467179015433,
          -0.009131212960909817,
          0.054039410840053384,
          -0.021537413882158813,
          0.04562159967307937,
          0.0325673858115878,
          0.020509385924093515,
          0.029711282901703794,
          -0.01856663979007428,
          0.05145903913751731,
          -0.00257203127351963,
          -0.0027717887856881208,
          0.020735960962729873,
          0.028745315997145984,
          -0.02121372360044984,
          0.038347127547495474,
          -0.027418308780746248,
          0.02435158683797924,
          0.022382193204150296,
          -0.0003239089371728565,
          -0.020503161996432064,
          0.046400874902884026,
          -0.003822436662072498,
          -0.0007302209506504963,
          0.010227115601100688,
          -0.017196586961822392,
          0.004953614105469571,
          -0.030787175844313962,
          -0.02368946837587846,
          0.04076004666710731,
          -0.0007082065449676512,
          -0.01517504119766261,
          -0.023295182903158674,
          0.008047193750319776,
          0.03528570819425085,
          0.005715276473688053,
          0.004883375979622559,
          -0.002084693455567998,
          0.02392818375935681,
          0.0069182445349110265,
          0.00322694308498229,
          -0.019280035553862797,
          0.044469263889711445,
          0.008031176547624119,
          0.0171125340637852,
          0.022250192479761392,
          0.0015506089581689207,
          0.004767800992119905,
          0.0055717636936029585,
          0.010131124426248422,
          0.016175253633913825,
          -0.004337724104580149,
          0.02381274162879767,
          0.009280229775384589,
          0.026500413411219746,
          0.006592305373890952,
          0.03261129946849448,
          -0.03176380964064332,
          -0.004726562031832859,
          0.002027757331418895,
          0.015656798270461524,
          0.004066525193166649,
          0.01890144189597722,
          0.006263891207538139,
          -0.002886737337860895,
          -0.050975066125680674,
          0.00888225574356963,
          -0.06654521780407717,
          0.05094996531325017,
          0.01825898235958334,
          -0.0002896785140433151,
          0.016561647702719992,
          -0.03738152152781891,
          0.039008742445083955,
          0.004329082901620692,
          -0.026809202611620814,
          0.019540416420353503,
          0.010883605227839693,
          0.022238521299621387,
          0.024885637034521364,
          -0.018224593307353047,
          -0.0688741751001275,
          -0.14379752773534368,
          0.08945192137781363,
          0.02038137080542507,
          0.006746969188133225,
          0.010383677366143915,
          0.010956292975573807,
          -0.01326517614542635,
          -0.0008983577188674483,
          0.08279852584215183,
          0.02605113631520469,
          0.04718246556632982,
          0.05272114617352572,
          0.045891738636131926,
          0.04005220497608611,
          0.019920225967001215,
          0.006463912652920852,
          0.0029033252410841457,
          0.02318540465429514,
          -0.033838868378237,
          0.04937507555544032,
          -0.02386371830754629,
          0.04880568290159993,
          -0.03662138408155193,
          0.00010887145644807592,
          0.017302010091572746,
          -0.043256780365016456,
          0.007067402938378568,
          -0.04614631057795427,
          0.03648601497011741,
          -0.010461675827918432
         ],
         "xaxis": "x",
         "yaxis": "y"
        }
       ],
       "layout": {
        "barmode": "relative",
        "legend": {
         "title": {
          "text": "variable"
         },
         "tracegroupgap": 0
        },
        "margin": {
         "t": 60
        },
        "template": {
         "data": {
          "bar": [
           {
            "error_x": {
             "color": "#2a3f5f"
            },
            "error_y": {
             "color": "#2a3f5f"
            },
            "marker": {
             "line": {
              "color": "#E5ECF6",
              "width": 0.5
             },
             "pattern": {
              "fillmode": "overlay",
              "size": 10,
              "solidity": 0.2
             }
            },
            "type": "bar"
           }
          ],
          "barpolar": [
           {
            "marker": {
             "line": {
              "color": "#E5ECF6",
              "width": 0.5
             },
             "pattern": {
              "fillmode": "overlay",
              "size": 10,
              "solidity": 0.2
             }
            },
            "type": "barpolar"
           }
          ],
          "carpet": [
           {
            "aaxis": {
             "endlinecolor": "#2a3f5f",
             "gridcolor": "white",
             "linecolor": "white",
             "minorgridcolor": "white",
             "startlinecolor": "#2a3f5f"
            },
            "baxis": {
             "endlinecolor": "#2a3f5f",
             "gridcolor": "white",
             "linecolor": "white",
             "minorgridcolor": "white",
             "startlinecolor": "#2a3f5f"
            },
            "type": "carpet"
           }
          ],
          "choropleth": [
           {
            "colorbar": {
             "outlinewidth": 0,
             "ticks": ""
            },
            "type": "choropleth"
           }
          ],
          "contour": [
           {
            "colorbar": {
             "outlinewidth": 0,
             "ticks": ""
            },
            "colorscale": [
             [
              0,
              "#0d0887"
             ],
             [
              0.1111111111111111,
              "#46039f"
             ],
             [
              0.2222222222222222,
              "#7201a8"
             ],
             [
              0.3333333333333333,
              "#9c179e"
             ],
             [
              0.4444444444444444,
              "#bd3786"
             ],
             [
              0.5555555555555556,
              "#d8576b"
             ],
             [
              0.6666666666666666,
              "#ed7953"
             ],
             [
              0.7777777777777778,
              "#fb9f3a"
             ],
             [
              0.8888888888888888,
              "#fdca26"
             ],
             [
              1,
              "#f0f921"
             ]
            ],
            "type": "contour"
           }
          ],
          "contourcarpet": [
           {
            "colorbar": {
             "outlinewidth": 0,
             "ticks": ""
            },
            "type": "contourcarpet"
           }
          ],
          "heatmap": [
           {
            "colorbar": {
             "outlinewidth": 0,
             "ticks": ""
            },
            "colorscale": [
             [
              0,
              "#0d0887"
             ],
             [
              0.1111111111111111,
              "#46039f"
             ],
             [
              0.2222222222222222,
              "#7201a8"
             ],
             [
              0.3333333333333333,
              "#9c179e"
             ],
             [
              0.4444444444444444,
              "#bd3786"
             ],
             [
              0.5555555555555556,
              "#d8576b"
             ],
             [
              0.6666666666666666,
              "#ed7953"
             ],
             [
              0.7777777777777778,
              "#fb9f3a"
             ],
             [
              0.8888888888888888,
              "#fdca26"
             ],
             [
              1,
              "#f0f921"
             ]
            ],
            "type": "heatmap"
           }
          ],
          "heatmapgl": [
           {
            "colorbar": {
             "outlinewidth": 0,
             "ticks": ""
            },
            "colorscale": [
             [
              0,
              "#0d0887"
             ],
             [
              0.1111111111111111,
              "#46039f"
             ],
             [
              0.2222222222222222,
              "#7201a8"
             ],
             [
              0.3333333333333333,
              "#9c179e"
             ],
             [
              0.4444444444444444,
              "#bd3786"
             ],
             [
              0.5555555555555556,
              "#d8576b"
             ],
             [
              0.6666666666666666,
              "#ed7953"
             ],
             [
              0.7777777777777778,
              "#fb9f3a"
             ],
             [
              0.8888888888888888,
              "#fdca26"
             ],
             [
              1,
              "#f0f921"
             ]
            ],
            "type": "heatmapgl"
           }
          ],
          "histogram": [
           {
            "marker": {
             "pattern": {
              "fillmode": "overlay",
              "size": 10,
              "solidity": 0.2
             }
            },
            "type": "histogram"
           }
          ],
          "histogram2d": [
           {
            "colorbar": {
             "outlinewidth": 0,
             "ticks": ""
            },
            "colorscale": [
             [
              0,
              "#0d0887"
             ],
             [
              0.1111111111111111,
              "#46039f"
             ],
             [
              0.2222222222222222,
              "#7201a8"
             ],
             [
              0.3333333333333333,
              "#9c179e"
             ],
             [
              0.4444444444444444,
              "#bd3786"
             ],
             [
              0.5555555555555556,
              "#d8576b"
             ],
             [
              0.6666666666666666,
              "#ed7953"
             ],
             [
              0.7777777777777778,
              "#fb9f3a"
             ],
             [
              0.8888888888888888,
              "#fdca26"
             ],
             [
              1,
              "#f0f921"
             ]
            ],
            "type": "histogram2d"
           }
          ],
          "histogram2dcontour": [
           {
            "colorbar": {
             "outlinewidth": 0,
             "ticks": ""
            },
            "colorscale": [
             [
              0,
              "#0d0887"
             ],
             [
              0.1111111111111111,
              "#46039f"
             ],
             [
              0.2222222222222222,
              "#7201a8"
             ],
             [
              0.3333333333333333,
              "#9c179e"
             ],
             [
              0.4444444444444444,
              "#bd3786"
             ],
             [
              0.5555555555555556,
              "#d8576b"
             ],
             [
              0.6666666666666666,
              "#ed7953"
             ],
             [
              0.7777777777777778,
              "#fb9f3a"
             ],
             [
              0.8888888888888888,
              "#fdca26"
             ],
             [
              1,
              "#f0f921"
             ]
            ],
            "type": "histogram2dcontour"
           }
          ],
          "mesh3d": [
           {
            "colorbar": {
             "outlinewidth": 0,
             "ticks": ""
            },
            "type": "mesh3d"
           }
          ],
          "parcoords": [
           {
            "line": {
             "colorbar": {
              "outlinewidth": 0,
              "ticks": ""
             }
            },
            "type": "parcoords"
           }
          ],
          "pie": [
           {
            "automargin": true,
            "type": "pie"
           }
          ],
          "scatter": [
           {
            "fillpattern": {
             "fillmode": "overlay",
             "size": 10,
             "solidity": 0.2
            },
            "type": "scatter"
           }
          ],
          "scatter3d": [
           {
            "line": {
             "colorbar": {
              "outlinewidth": 0,
              "ticks": ""
             }
            },
            "marker": {
             "colorbar": {
              "outlinewidth": 0,
              "ticks": ""
             }
            },
            "type": "scatter3d"
           }
          ],
          "scattercarpet": [
           {
            "marker": {
             "colorbar": {
              "outlinewidth": 0,
              "ticks": ""
             }
            },
            "type": "scattercarpet"
           }
          ],
          "scattergeo": [
           {
            "marker": {
             "colorbar": {
              "outlinewidth": 0,
              "ticks": ""
             }
            },
            "type": "scattergeo"
           }
          ],
          "scattergl": [
           {
            "marker": {
             "colorbar": {
              "outlinewidth": 0,
              "ticks": ""
             }
            },
            "type": "scattergl"
           }
          ],
          "scattermapbox": [
           {
            "marker": {
             "colorbar": {
              "outlinewidth": 0,
              "ticks": ""
             }
            },
            "type": "scattermapbox"
           }
          ],
          "scatterpolar": [
           {
            "marker": {
             "colorbar": {
              "outlinewidth": 0,
              "ticks": ""
             }
            },
            "type": "scatterpolar"
           }
          ],
          "scatterpolargl": [
           {
            "marker": {
             "colorbar": {
              "outlinewidth": 0,
              "ticks": ""
             }
            },
            "type": "scatterpolargl"
           }
          ],
          "scatterternary": [
           {
            "marker": {
             "colorbar": {
              "outlinewidth": 0,
              "ticks": ""
             }
            },
            "type": "scatterternary"
           }
          ],
          "surface": [
           {
            "colorbar": {
             "outlinewidth": 0,
             "ticks": ""
            },
            "colorscale": [
             [
              0,
              "#0d0887"
             ],
             [
              0.1111111111111111,
              "#46039f"
             ],
             [
              0.2222222222222222,
              "#7201a8"
             ],
             [
              0.3333333333333333,
              "#9c179e"
             ],
             [
              0.4444444444444444,
              "#bd3786"
             ],
             [
              0.5555555555555556,
              "#d8576b"
             ],
             [
              0.6666666666666666,
              "#ed7953"
             ],
             [
              0.7777777777777778,
              "#fb9f3a"
             ],
             [
              0.8888888888888888,
              "#fdca26"
             ],
             [
              1,
              "#f0f921"
             ]
            ],
            "type": "surface"
           }
          ],
          "table": [
           {
            "cells": {
             "fill": {
              "color": "#EBF0F8"
             },
             "line": {
              "color": "white"
             }
            },
            "header": {
             "fill": {
              "color": "#C8D4E3"
             },
             "line": {
              "color": "white"
             }
            },
            "type": "table"
           }
          ]
         },
         "layout": {
          "annotationdefaults": {
           "arrowcolor": "#2a3f5f",
           "arrowhead": 0,
           "arrowwidth": 1
          },
          "autotypenumbers": "strict",
          "coloraxis": {
           "colorbar": {
            "outlinewidth": 0,
            "ticks": ""
           }
          },
          "colorscale": {
           "diverging": [
            [
             0,
             "#8e0152"
            ],
            [
             0.1,
             "#c51b7d"
            ],
            [
             0.2,
             "#de77ae"
            ],
            [
             0.3,
             "#f1b6da"
            ],
            [
             0.4,
             "#fde0ef"
            ],
            [
             0.5,
             "#f7f7f7"
            ],
            [
             0.6,
             "#e6f5d0"
            ],
            [
             0.7,
             "#b8e186"
            ],
            [
             0.8,
             "#7fbc41"
            ],
            [
             0.9,
             "#4d9221"
            ],
            [
             1,
             "#276419"
            ]
           ],
           "sequential": [
            [
             0,
             "#0d0887"
            ],
            [
             0.1111111111111111,
             "#46039f"
            ],
            [
             0.2222222222222222,
             "#7201a8"
            ],
            [
             0.3333333333333333,
             "#9c179e"
            ],
            [
             0.4444444444444444,
             "#bd3786"
            ],
            [
             0.5555555555555556,
             "#d8576b"
            ],
            [
             0.6666666666666666,
             "#ed7953"
            ],
            [
             0.7777777777777778,
             "#fb9f3a"
            ],
            [
             0.8888888888888888,
             "#fdca26"
            ],
            [
             1,
             "#f0f921"
            ]
           ],
           "sequentialminus": [
            [
             0,
             "#0d0887"
            ],
            [
             0.1111111111111111,
             "#46039f"
            ],
            [
             0.2222222222222222,
             "#7201a8"
            ],
            [
             0.3333333333333333,
             "#9c179e"
            ],
            [
             0.4444444444444444,
             "#bd3786"
            ],
            [
             0.5555555555555556,
             "#d8576b"
            ],
            [
             0.6666666666666666,
             "#ed7953"
            ],
            [
             0.7777777777777778,
             "#fb9f3a"
            ],
            [
             0.8888888888888888,
             "#fdca26"
            ],
            [
             1,
             "#f0f921"
            ]
           ]
          },
          "colorway": [
           "#636efa",
           "#EF553B",
           "#00cc96",
           "#ab63fa",
           "#FFA15A",
           "#19d3f3",
           "#FF6692",
           "#B6E880",
           "#FF97FF",
           "#FECB52"
          ],
          "font": {
           "color": "#2a3f5f"
          },
          "geo": {
           "bgcolor": "white",
           "lakecolor": "white",
           "landcolor": "#E5ECF6",
           "showlakes": true,
           "showland": true,
           "subunitcolor": "white"
          },
          "hoverlabel": {
           "align": "left"
          },
          "hovermode": "closest",
          "mapbox": {
           "style": "light"
          },
          "paper_bgcolor": "white",
          "plot_bgcolor": "#E5ECF6",
          "polar": {
           "angularaxis": {
            "gridcolor": "white",
            "linecolor": "white",
            "ticks": ""
           },
           "bgcolor": "#E5ECF6",
           "radialaxis": {
            "gridcolor": "white",
            "linecolor": "white",
            "ticks": ""
           }
          },
          "scene": {
           "xaxis": {
            "backgroundcolor": "#E5ECF6",
            "gridcolor": "white",
            "gridwidth": 2,
            "linecolor": "white",
            "showbackground": true,
            "ticks": "",
            "zerolinecolor": "white"
           },
           "yaxis": {
            "backgroundcolor": "#E5ECF6",
            "gridcolor": "white",
            "gridwidth": 2,
            "linecolor": "white",
            "showbackground": true,
            "ticks": "",
            "zerolinecolor": "white"
           },
           "zaxis": {
            "backgroundcolor": "#E5ECF6",
            "gridcolor": "white",
            "gridwidth": 2,
            "linecolor": "white",
            "showbackground": true,
            "ticks": "",
            "zerolinecolor": "white"
           }
          },
          "shapedefaults": {
           "line": {
            "color": "#2a3f5f"
           }
          },
          "ternary": {
           "aaxis": {
            "gridcolor": "white",
            "linecolor": "white",
            "ticks": ""
           },
           "baxis": {
            "gridcolor": "white",
            "linecolor": "white",
            "ticks": ""
           },
           "bgcolor": "#E5ECF6",
           "caxis": {
            "gridcolor": "white",
            "linecolor": "white",
            "ticks": ""
           }
          },
          "title": {
           "x": 0.05
          },
          "xaxis": {
           "automargin": true,
           "gridcolor": "white",
           "linecolor": "white",
           "ticks": "",
           "title": {
            "standoff": 15
           },
           "zerolinecolor": "white",
           "zerolinewidth": 2
          },
          "yaxis": {
           "automargin": true,
           "gridcolor": "white",
           "linecolor": "white",
           "ticks": "",
           "title": {
            "standoff": 15
           },
           "zerolinecolor": "white",
           "zerolinewidth": 2
          }
         }
        },
        "xaxis": {
         "anchor": "y",
         "domain": [
          0,
          1
         ],
         "title": {
          "text": "value"
         }
        },
        "yaxis": {
         "anchor": "x",
         "domain": [
          0,
          1
         ],
         "title": {
          "text": "count"
         }
        }
       }
      }
     },
     "metadata": {},
     "output_type": "display_data"
    }
   ],
   "source": [
    "px.histogram(strategy_returns[['mavg_rets']]).show()"
   ]
  },
  {
   "cell_type": "code",
   "execution_count": 18,
   "id": "4273827e",
   "metadata": {},
   "outputs": [
    {
     "name": "stderr",
     "output_type": "stream",
     "text": [
      "/Library/Frameworks/Python.framework/Versions/3.9/lib/python3.9/site-packages/_plotly_utils/basevalidators.py:105: FutureWarning:\n",
      "\n",
      "The behavior of DatetimeProperties.to_pydatetime is deprecated, in a future version this will return a Series containing python datetime objects instead of an ndarray. To retain the old behavior, call `np.array` on the result\n",
      "\n"
     ]
    },
    {
     "data": {
      "application/vnd.plotly.v1+json": {
       "config": {
        "plotlyServerURL": "https://plot.ly"
       },
       "data": [
        {
         "alignmentgroup": "True",
         "hovertemplate": "date=%{x}<br>mavg_rets=%{y}<extra></extra>",
         "legendgroup": "",
         "marker": {
          "color": [
           "green",
           "green",
           "red",
           "green",
           "green",
           "red",
           "green",
           "red",
           "green",
           "green",
           "green",
           "red",
           "green",
           "red",
           "red",
           "green",
           "red",
           "green",
           "green",
           "green",
           "green",
           "green",
           "green",
           "green",
           "red",
           "green",
           "green",
           "red",
           "green",
           "green",
           "green",
           "red",
           "green",
           "green",
           "red",
           "red",
           "green",
           "green",
           "red",
           "green",
           "green",
           "red",
           "green",
           "red",
           "green",
           "green",
           "green",
           "green",
           "green",
           "green",
           "green",
           "green",
           "green",
           "green",
           "red",
           "green",
           "green",
           "green",
           "green",
           "green",
           "green",
           "green",
           "red",
           "red",
           "green",
           "green",
           "green",
           "green",
           "red",
           "green",
           "red",
           "red",
           "green",
           "green",
           "green",
           "green",
           "red",
           "green",
           "red",
           "green",
           "green",
           "red",
           "green",
           "green",
           "green",
           "red",
           "green",
           "red",
           "red",
           "green",
           "green",
           "green",
           "green",
           "green",
           "red",
           "green",
           "green",
           "green",
           "green",
           "red",
           "red",
           "red",
           "green",
           "green",
           "green",
           "red",
           "green",
           "green",
           "green",
           "green",
           "green",
           "green",
           "green",
           "red",
           "green",
           "red",
           "green",
           "green",
           "red",
           "red",
           "green",
           "green",
           "red",
           "red",
           "red",
           "red",
           "green",
           "green",
           "green",
           "red",
           "red",
           "green",
           "red",
           "red",
           "red",
           "red",
           "green",
           "red",
           "green",
           "green",
           "red",
           "red",
           "red",
           "green",
           "green",
           "green",
           "green",
           "green",
           "green",
           "red",
           "green",
           "green",
           "green",
           "green",
           "green",
           "green",
           "red",
           "green",
           "green",
           "red",
           "red",
           "green",
           "green",
           "green",
           "green",
           "red",
           "green",
           "red",
           "red",
           "green",
           "green",
           "green",
           "red",
           "green",
           "red",
           "green",
           "green",
           "green",
           "red",
           "green",
           "green",
           "red",
           "green",
           "red",
           "green",
           "green",
           "green",
           "green",
           "red",
           "green",
           "green",
           "green",
           "green",
           "green",
           "red",
           "red",
           "green",
           "green",
           "green",
           "red",
           "red",
           "red",
           "red",
           "red",
           "green",
           "green",
           "red",
           "green",
           "green",
           "red",
           "red",
           "red",
           "green",
           "red",
           "red",
           "green",
           "green",
           "green",
           "green",
           "green",
           "green",
           "green",
           "red",
           "green",
           "green",
           "red",
           "green",
           "green",
           "green",
           "red",
           "red",
           "green",
           "red",
           "green",
           "green",
           "green",
           "green",
           "green",
           "green",
           "green",
           "green",
           "red",
           "red",
           "red",
           "red",
           "red",
           "green",
           "red",
           "green",
           "green",
           "green",
           "green",
           "red",
           "red",
           "green",
           "red",
           "green",
           "green",
           "red",
           "green",
           "green",
           "green",
           "green",
           "green",
           "green",
           "green",
           "red",
           "green",
           "red",
           "green",
           "green",
           "green",
           "green",
           "red",
           "green",
           "red",
           "red",
           "green",
           "green",
           "red",
           "green",
           "red",
           "green",
           "green",
           "red",
           "red",
           "green",
           "red",
           "red",
           "green",
           "red",
           "green",
           "red",
           "red",
           "green",
           "red",
           "red",
           "red",
           "green",
           "green",
           "green",
           "green",
           "red",
           "green",
           "green",
           "green",
           "red",
           "green",
           "green",
           "green",
           "green",
           "green",
           "green",
           "green",
           "green",
           "green",
           "red",
           "green",
           "green",
           "green",
           "green",
           "green",
           "red",
           "red",
           "green",
           "green",
           "green",
           "green",
           "green",
           "red",
           "red",
           "green",
           "red",
           "green",
           "green",
           "red",
           "green",
           "red",
           "green",
           "green",
           "red",
           "green",
           "green",
           "green",
           "green",
           "red",
           "red",
           "red",
           "green",
           "green",
           "green",
           "green",
           "green",
           "red",
           "red",
           "green",
           "green",
           "green",
           "green",
           "green",
           "green",
           "green",
           "green",
           "green",
           "green",
           "red",
           "green",
           "red",
           "green",
           "red",
           "green",
           "green",
           "red",
           "green",
           "red",
           "green",
           "red"
          ],
          "pattern": {
           "shape": ""
          }
         },
         "name": "",
         "offsetgroup": "",
         "orientation": "v",
         "showlegend": false,
         "textposition": "auto",
         "type": "bar",
         "x": [
          "1991-04-30T00:00:00",
          "1991-05-31T00:00:00",
          "1991-06-30T00:00:00",
          "1991-07-31T00:00:00",
          "1991-08-31T00:00:00",
          "1991-09-30T00:00:00",
          "1991-10-31T00:00:00",
          "1991-11-30T00:00:00",
          "1991-12-31T00:00:00",
          "1992-01-31T00:00:00",
          "1992-02-29T00:00:00",
          "1992-03-31T00:00:00",
          "1992-04-30T00:00:00",
          "1992-05-31T00:00:00",
          "1992-06-30T00:00:00",
          "1992-07-31T00:00:00",
          "1992-08-31T00:00:00",
          "1992-09-30T00:00:00",
          "1992-10-31T00:00:00",
          "1992-11-30T00:00:00",
          "1992-12-31T00:00:00",
          "1993-01-31T00:00:00",
          "1993-02-28T00:00:00",
          "1993-03-31T00:00:00",
          "1993-04-30T00:00:00",
          "1993-05-31T00:00:00",
          "1993-06-30T00:00:00",
          "1993-07-31T00:00:00",
          "1993-08-31T00:00:00",
          "1993-09-30T00:00:00",
          "1993-10-31T00:00:00",
          "1993-11-30T00:00:00",
          "1993-12-31T00:00:00",
          "1994-01-31T00:00:00",
          "1994-02-28T00:00:00",
          "1994-03-31T00:00:00",
          "1994-04-30T00:00:00",
          "1994-05-31T00:00:00",
          "1994-06-30T00:00:00",
          "1994-07-31T00:00:00",
          "1994-08-31T00:00:00",
          "1994-09-30T00:00:00",
          "1994-10-31T00:00:00",
          "1994-11-30T00:00:00",
          "1994-12-31T00:00:00",
          "1995-01-31T00:00:00",
          "1995-02-28T00:00:00",
          "1995-03-31T00:00:00",
          "1995-04-30T00:00:00",
          "1995-05-31T00:00:00",
          "1995-06-30T00:00:00",
          "1995-07-31T00:00:00",
          "1995-08-31T00:00:00",
          "1995-09-30T00:00:00",
          "1995-10-31T00:00:00",
          "1995-11-30T00:00:00",
          "1995-12-31T00:00:00",
          "1996-01-31T00:00:00",
          "1996-02-29T00:00:00",
          "1996-03-31T00:00:00",
          "1996-04-30T00:00:00",
          "1996-05-31T00:00:00",
          "1996-06-30T00:00:00",
          "1996-07-31T00:00:00",
          "1996-08-31T00:00:00",
          "1996-09-30T00:00:00",
          "1996-10-31T00:00:00",
          "1996-11-30T00:00:00",
          "1996-12-31T00:00:00",
          "1997-01-31T00:00:00",
          "1997-02-28T00:00:00",
          "1997-03-31T00:00:00",
          "1997-04-30T00:00:00",
          "1997-05-31T00:00:00",
          "1997-06-30T00:00:00",
          "1997-07-31T00:00:00",
          "1997-08-31T00:00:00",
          "1997-09-30T00:00:00",
          "1997-10-31T00:00:00",
          "1997-11-30T00:00:00",
          "1997-12-31T00:00:00",
          "1998-01-31T00:00:00",
          "1998-02-28T00:00:00",
          "1998-03-31T00:00:00",
          "1998-04-30T00:00:00",
          "1998-05-31T00:00:00",
          "1998-06-30T00:00:00",
          "1998-07-31T00:00:00",
          "1998-08-31T00:00:00",
          "1998-09-30T00:00:00",
          "1998-10-31T00:00:00",
          "1998-11-30T00:00:00",
          "1998-12-31T00:00:00",
          "1999-01-31T00:00:00",
          "1999-02-28T00:00:00",
          "1999-03-31T00:00:00",
          "1999-04-30T00:00:00",
          "1999-05-31T00:00:00",
          "1999-06-30T00:00:00",
          "1999-07-31T00:00:00",
          "1999-08-31T00:00:00",
          "1999-09-30T00:00:00",
          "1999-10-31T00:00:00",
          "1999-11-30T00:00:00",
          "1999-12-31T00:00:00",
          "2000-01-31T00:00:00",
          "2000-02-29T00:00:00",
          "2000-03-31T00:00:00",
          "2000-04-30T00:00:00",
          "2000-05-31T00:00:00",
          "2000-06-30T00:00:00",
          "2000-07-31T00:00:00",
          "2000-08-31T00:00:00",
          "2000-09-30T00:00:00",
          "2000-10-31T00:00:00",
          "2000-11-30T00:00:00",
          "2000-12-31T00:00:00",
          "2001-01-31T00:00:00",
          "2001-02-28T00:00:00",
          "2001-03-31T00:00:00",
          "2001-04-30T00:00:00",
          "2001-05-31T00:00:00",
          "2001-06-30T00:00:00",
          "2001-07-31T00:00:00",
          "2001-08-31T00:00:00",
          "2001-09-30T00:00:00",
          "2001-10-31T00:00:00",
          "2001-11-30T00:00:00",
          "2001-12-31T00:00:00",
          "2002-01-31T00:00:00",
          "2002-02-28T00:00:00",
          "2002-03-31T00:00:00",
          "2002-04-30T00:00:00",
          "2002-05-31T00:00:00",
          "2002-06-30T00:00:00",
          "2002-07-31T00:00:00",
          "2002-08-31T00:00:00",
          "2002-09-30T00:00:00",
          "2002-10-31T00:00:00",
          "2002-11-30T00:00:00",
          "2002-12-31T00:00:00",
          "2003-01-31T00:00:00",
          "2003-02-28T00:00:00",
          "2003-03-31T00:00:00",
          "2003-04-30T00:00:00",
          "2003-05-31T00:00:00",
          "2003-06-30T00:00:00",
          "2003-07-31T00:00:00",
          "2003-08-31T00:00:00",
          "2003-09-30T00:00:00",
          "2003-10-31T00:00:00",
          "2003-11-30T00:00:00",
          "2003-12-31T00:00:00",
          "2004-01-31T00:00:00",
          "2004-02-29T00:00:00",
          "2004-03-31T00:00:00",
          "2004-04-30T00:00:00",
          "2004-05-31T00:00:00",
          "2004-06-30T00:00:00",
          "2004-07-31T00:00:00",
          "2004-08-31T00:00:00",
          "2004-09-30T00:00:00",
          "2004-10-31T00:00:00",
          "2004-11-30T00:00:00",
          "2004-12-31T00:00:00",
          "2005-01-31T00:00:00",
          "2005-02-28T00:00:00",
          "2005-03-31T00:00:00",
          "2005-04-30T00:00:00",
          "2005-05-31T00:00:00",
          "2005-06-30T00:00:00",
          "2005-07-31T00:00:00",
          "2005-08-31T00:00:00",
          "2005-09-30T00:00:00",
          "2005-10-31T00:00:00",
          "2005-11-30T00:00:00",
          "2005-12-31T00:00:00",
          "2006-01-31T00:00:00",
          "2006-02-28T00:00:00",
          "2006-03-31T00:00:00",
          "2006-04-30T00:00:00",
          "2006-05-31T00:00:00",
          "2006-06-30T00:00:00",
          "2006-07-31T00:00:00",
          "2006-08-31T00:00:00",
          "2006-09-30T00:00:00",
          "2006-10-31T00:00:00",
          "2006-11-30T00:00:00",
          "2006-12-31T00:00:00",
          "2007-01-31T00:00:00",
          "2007-02-28T00:00:00",
          "2007-03-31T00:00:00",
          "2007-04-30T00:00:00",
          "2007-05-31T00:00:00",
          "2007-06-30T00:00:00",
          "2007-07-31T00:00:00",
          "2007-08-31T00:00:00",
          "2007-09-30T00:00:00",
          "2007-10-31T00:00:00",
          "2007-11-30T00:00:00",
          "2007-12-31T00:00:00",
          "2008-01-31T00:00:00",
          "2008-02-29T00:00:00",
          "2008-03-31T00:00:00",
          "2008-04-30T00:00:00",
          "2008-05-31T00:00:00",
          "2008-06-30T00:00:00",
          "2008-07-31T00:00:00",
          "2008-08-31T00:00:00",
          "2008-09-30T00:00:00",
          "2008-10-31T00:00:00",
          "2008-11-30T00:00:00",
          "2008-12-31T00:00:00",
          "2009-01-31T00:00:00",
          "2009-02-28T00:00:00",
          "2009-03-31T00:00:00",
          "2009-04-30T00:00:00",
          "2009-05-31T00:00:00",
          "2009-06-30T00:00:00",
          "2009-07-31T00:00:00",
          "2009-08-31T00:00:00",
          "2009-09-30T00:00:00",
          "2009-10-31T00:00:00",
          "2009-11-30T00:00:00",
          "2009-12-31T00:00:00",
          "2010-01-31T00:00:00",
          "2010-02-28T00:00:00",
          "2010-03-31T00:00:00",
          "2010-04-30T00:00:00",
          "2010-05-31T00:00:00",
          "2010-06-30T00:00:00",
          "2010-07-31T00:00:00",
          "2010-08-31T00:00:00",
          "2010-09-30T00:00:00",
          "2010-10-31T00:00:00",
          "2010-11-30T00:00:00",
          "2010-12-31T00:00:00",
          "2011-01-31T00:00:00",
          "2011-02-28T00:00:00",
          "2011-03-31T00:00:00",
          "2011-04-30T00:00:00",
          "2011-05-31T00:00:00",
          "2011-06-30T00:00:00",
          "2011-07-31T00:00:00",
          "2011-08-31T00:00:00",
          "2011-09-30T00:00:00",
          "2011-10-31T00:00:00",
          "2011-11-30T00:00:00",
          "2011-12-31T00:00:00",
          "2012-01-31T00:00:00",
          "2012-02-29T00:00:00",
          "2012-03-31T00:00:00",
          "2012-04-30T00:00:00",
          "2012-05-31T00:00:00",
          "2012-06-30T00:00:00",
          "2012-07-31T00:00:00",
          "2012-08-31T00:00:00",
          "2012-09-30T00:00:00",
          "2012-10-31T00:00:00",
          "2012-11-30T00:00:00",
          "2012-12-31T00:00:00",
          "2013-01-31T00:00:00",
          "2013-02-28T00:00:00",
          "2013-03-31T00:00:00",
          "2013-04-30T00:00:00",
          "2013-05-31T00:00:00",
          "2013-06-30T00:00:00",
          "2013-07-31T00:00:00",
          "2013-08-31T00:00:00",
          "2013-09-30T00:00:00",
          "2013-10-31T00:00:00",
          "2013-11-30T00:00:00",
          "2013-12-31T00:00:00",
          "2014-01-31T00:00:00",
          "2014-02-28T00:00:00",
          "2014-03-31T00:00:00",
          "2014-04-30T00:00:00",
          "2014-05-31T00:00:00",
          "2014-06-30T00:00:00",
          "2014-07-31T00:00:00",
          "2014-08-31T00:00:00",
          "2014-09-30T00:00:00",
          "2014-10-31T00:00:00",
          "2014-11-30T00:00:00",
          "2014-12-31T00:00:00",
          "2015-01-31T00:00:00",
          "2015-02-28T00:00:00",
          "2015-03-31T00:00:00",
          "2015-04-30T00:00:00",
          "2015-05-31T00:00:00",
          "2015-06-30T00:00:00",
          "2015-07-31T00:00:00",
          "2015-08-31T00:00:00",
          "2015-09-30T00:00:00",
          "2015-10-31T00:00:00",
          "2015-11-30T00:00:00",
          "2015-12-31T00:00:00",
          "2016-01-31T00:00:00",
          "2016-02-29T00:00:00",
          "2016-03-31T00:00:00",
          "2016-04-30T00:00:00",
          "2016-05-31T00:00:00",
          "2016-06-30T00:00:00",
          "2016-07-31T00:00:00",
          "2016-08-31T00:00:00",
          "2016-09-30T00:00:00",
          "2016-10-31T00:00:00",
          "2016-11-30T00:00:00",
          "2016-12-31T00:00:00",
          "2017-01-31T00:00:00",
          "2017-02-28T00:00:00",
          "2017-03-31T00:00:00",
          "2017-04-30T00:00:00",
          "2017-05-31T00:00:00",
          "2017-06-30T00:00:00",
          "2017-07-31T00:00:00",
          "2017-08-31T00:00:00",
          "2017-09-30T00:00:00",
          "2017-10-31T00:00:00",
          "2017-11-30T00:00:00",
          "2017-12-31T00:00:00",
          "2018-01-31T00:00:00",
          "2018-02-28T00:00:00",
          "2018-03-31T00:00:00",
          "2018-04-30T00:00:00",
          "2018-05-31T00:00:00",
          "2018-06-30T00:00:00",
          "2018-07-31T00:00:00",
          "2018-08-31T00:00:00",
          "2018-09-30T00:00:00",
          "2018-10-31T00:00:00",
          "2018-11-30T00:00:00",
          "2018-12-31T00:00:00",
          "2019-01-31T00:00:00",
          "2019-02-28T00:00:00",
          "2019-03-31T00:00:00",
          "2019-04-30T00:00:00",
          "2019-05-31T00:00:00",
          "2019-06-30T00:00:00",
          "2019-07-31T00:00:00",
          "2019-08-31T00:00:00",
          "2019-09-30T00:00:00",
          "2019-10-31T00:00:00",
          "2019-11-30T00:00:00",
          "2019-12-31T00:00:00",
          "2020-01-31T00:00:00",
          "2020-02-29T00:00:00",
          "2020-03-31T00:00:00",
          "2020-04-30T00:00:00",
          "2020-05-31T00:00:00",
          "2020-06-30T00:00:00",
          "2020-07-31T00:00:00",
          "2020-08-31T00:00:00",
          "2020-09-30T00:00:00",
          "2020-10-31T00:00:00",
          "2020-11-30T00:00:00",
          "2020-12-31T00:00:00",
          "2021-01-31T00:00:00",
          "2021-02-28T00:00:00",
          "2021-03-31T00:00:00",
          "2021-04-30T00:00:00",
          "2021-05-31T00:00:00",
          "2021-06-30T00:00:00",
          "2021-07-31T00:00:00",
          "2021-08-31T00:00:00",
          "2021-09-30T00:00:00",
          "2021-10-31T00:00:00",
          "2021-11-30T00:00:00",
          "2021-12-31T00:00:00",
          "2022-01-31T00:00:00",
          "2022-02-28T00:00:00",
          "2022-03-31T00:00:00",
          "2022-04-30T00:00:00",
          "2022-05-31T00:00:00",
          "2022-06-30T00:00:00",
          "2022-07-31T00:00:00",
          "2022-08-31T00:00:00"
         ],
         "xaxis": "x",
         "y": [
          0.0038046046008878517,
          0.030416118277783535,
          -0.039583158168259365,
          0.035266770235588364,
          0.025592686076999098,
          -0.013128316624772023,
          0.024065141090265856,
          -0.04583821427427989,
          0.07997049568826708,
          0.020822749687607667,
          0.012697103578478447,
          -0.01862343754526184,
          0.0040917889994422,
          -0.00021953379948743993,
          -0.01345421670507357,
          0.03153089759772338,
          -0.018261437989606916,
          0.01790729104332573,
          0.020876564551092037,
          0.03513174459027453,
          0.01668617276469128,
          0.01818292842243574,
          0.00008553148449095875,
          0.026974696134040403,
          -0.01851285297007185,
          0.031680561510289584,
          0.00775072769896123,
          -0.0024260041674826873,
          0.03713365709253254,
          0.010566054712251166,
          0.011033355936065348,
          -0.010954828098126326,
          0.0180927562883669,
          0.025835221539442958,
          -0.01425058335294017,
          -0.03064483388341861,
          0.002195730844930439,
          0.002117865133283979,
          -0.014276562354710478,
          0.014429481515188485,
          0.023479331116945345,
          -0.01097567979696168,
          0.009560211883403958,
          -0.01870517173496997,
          0.0072083607889548654,
          0.012912111889244076,
          0.019340819054782757,
          0.014449196822831495,
          0.008675359383022272,
          0.020432352804376053,
          0.026901332679009314,
          0.03667745425725351,
          0.006690445649557756,
          0.02413022964241219,
          -0.017818934907865625,
          0.041563524565900706,
          0.011464979642670766,
          0.018288978585403536,
          0.015635498893843098,
          0.016633233658962153,
          0.035648130591661296,
          0.016135629049009094,
          -0.012045188992433665,
          -0.05182828392720539,
          0.0340910079711971,
          0.03921579835638706,
          0.006096069045448127,
          0.04582350007528449,
          -0.005122337557943867,
          0.030757965757446593,
          -0.0029465485627030944,
          -0.029006058942014586,
          0.025193855399813486,
          0.062196436707283344,
          0.026895924016657316,
          0.06055912834292371,
          -0.00814644910093943,
          0.05220099197834456,
          -0.03259527873613698,
          0.017442727232704017,
          0.015485555890283486,
          -0.0038570665172996386,
          0.067957806320945,
          0.0398257039878219,
          0.012916748260494026,
          -0.02223659465383279,
          0.019102695043666212,
          -0.03951459050796248,
          -0.11560071599414058,
          0.04997002741848428,
          0.046859969576818504,
          0.020472021605897207,
          0.02165312778694075,
          0.0038801013551460943,
          -0.016265107687063112,
          0.02856461207654989,
          0.041938143896702695,
          0.0011422693783566889,
          0.028788007382484687,
          -0.013422011667411336,
          -0.007559187127084912,
          -0.012639573904475548,
          0.01721967820214184,
          0.014334759157907951,
          0.03646108315672062,
          -0.017786243760534642,
          0.014180686085633373,
          0.03492059784778117,
          0.0003061980275640171,
          0.0017841995425258706,
          0.0011386205217908422,
          0.0009239176570346966,
          0.04079528124948527,
          -0.011375432485539001,
          0.001430518399024776,
          -0.029557081853244842,
          0.04937539669615369,
          0.044807392333093894,
          -0.03281859111240245,
          -0.03192486370102326,
          0.06516957583266092,
          0.014200399868211894,
          -0.009596124661992528,
          -0.009738044959543366,
          -0.029044716374274946,
          -0.08207227838837859,
          0.031711117077660146,
          0.04381746960267232,
          0.01830576996051901,
          -0.0022400918026085634,
          -0.004499179857544845,
          0.0387843189658414,
          -0.0119384302454752,
          -0.01577112673562714,
          -0.04886079413640103,
          -0.06664129182088355,
          0.0006800487775116297,
          -0.04390590828623232,
          0.02824244529305058,
          0.03156058126268026,
          -0.015245195381143195,
          -0.001918402886298341,
          -0.004736867003000395,
          0.0023621050279347446,
          0.025892918327960143,
          0.02578946047884082,
          0.0005033874768947762,
          0.012969918124128399,
          0.029304115791831647,
          -0.008355586415795405,
          0.07532949067658434,
          0.02579432156200076,
          0.04110552918386876,
          0.03184611492620636,
          0.020585211726769782,
          0.004810175943613052,
          -0.02729681402787442,
          0.02475065183562679,
          0.040880184106382715,
          -0.03832333949332259,
          -0.0058480600691396805,
          0.02461404268788019,
          0.018911651794327012,
          0.04240072801026569,
          0.02689880370584876,
          -0.021424993984006917,
          0.02027546605075361,
          -0.013283864812587986,
          -0.023397836390223314,
          0.0462497202182949,
          0.01565804794621065,
          0.04205340650553834,
          -0.005573674927944813,
          0.007594665091382021,
          -0.015546470623067138,
          0.03633759264044223,
          0.0038524509629159005,
          0.04346257791885679,
          -0.0029017850493579097,
          0.020339440154600028,
          0.011791033662114826,
          -0.030384373144748997,
          0.0016800103302665945,
          -0.015774480544535476,
          0.01935308738499951,
          0.013904948308051482,
          0.02730205858856946,
          0.021637269714174283,
          -0.000563182174121709,
          0.02134261815094225,
          0.0004638874026812453,
          0.007792184749808053,
          0.030796574275221412,
          0.03224485770594009,
          -0.011683635553843892,
          -0.032942888691066166,
          0.0022951724586509387,
          0.023298269724813653,
          0.01758064570323263,
          -0.04015421493782666,
          -0.008083352497516781,
          -0.036215995983593215,
          -0.01661029604759781,
          -0.008188808544157784,
          0.022292096775602427,
          0.013934044565404374,
          -0.03175906655871667,
          0.0007801906988799561,
          0.017404634342798778,
          -0.037868296704463664,
          -0.07396663035764438,
          -0.024148336716729314,
          0.006519791353173995,
          -0.003796044893495326,
          -0.004046176741343208,
          0.0026877291490880017,
          0.0038911576644396046,
          0.0014171927057406242,
          0.00118121242879992,
          0.004458204192182157,
          0.013609461069427588,
          0.025347573380814663,
          -0.021570843303590985,
          0.03315580193595307,
          0.04928137548509474,
          -0.023387419738677317,
          0.040542373341109786,
          0.06826692540080362,
          0.04462851272551434,
          -0.07468200435145735,
          -0.06365556598124675,
          0.0679520767327849,
          -0.04482729774396916,
          0.08414668442801485,
          0.02520691346778321,
          0.007115780480002276,
          0.04999296977722442,
          0.013739639319389712,
          0.03639258118448128,
          0.008794392443264574,
          0.028035457294581803,
          -0.0059158462552594765,
          -0.020138417919003327,
          -0.03584784988699005,
          -0.06426238895068478,
          -0.07708199869062374,
          0.09246357144545754,
          -0.0038410550805255943,
          0.001224261463824181,
          0.02206727584011365,
          0.014502761224805313,
          0.01204660476073802,
          -0.008112353257392721,
          -0.05130682282203883,
          0.025524519982902585,
          -0.006323642968723322,
          0.023659549441854905,
          0.01557925212539766,
          -0.005463167604655413,
          0.00843805671707027,
          0.018973954521422278,
          0.0438584962618646,
          0.008499026275663969,
          0.03380577138829892,
          0.010557189661849011,
          0.031026467179015433,
          -0.009131212960909817,
          0.054039410840053384,
          -0.021537413882158813,
          0.04562159967307937,
          0.0325673858115878,
          0.020509385924093515,
          0.029711282901703794,
          -0.01856663979007428,
          0.05145903913751731,
          -0.00257203127351963,
          -0.0027717887856881208,
          0.020735960962729873,
          0.028745315997145984,
          -0.02121372360044984,
          0.038347127547495474,
          -0.027418308780746248,
          0.02435158683797924,
          0.022382193204150296,
          -0.0003239089371728565,
          -0.020503161996432064,
          0.046400874902884026,
          -0.003822436662072498,
          -0.0007302209506504963,
          0.010227115601100688,
          -0.017196586961822392,
          0.004953614105469571,
          -0.030787175844313962,
          -0.02368946837587846,
          0.04076004666710731,
          -0.0007082065449676512,
          -0.01517504119766261,
          -0.023295182903158674,
          0.008047193750319776,
          0.03528570819425085,
          0.005715276473688053,
          0.004883375979622559,
          -0.002084693455567998,
          0.02392818375935681,
          0.0069182445349110265,
          0.00322694308498229,
          -0.019280035553862797,
          0.044469263889711445,
          0.008031176547624119,
          0.0171125340637852,
          0.022250192479761392,
          0.0015506089581689207,
          0.004767800992119905,
          0.0055717636936029585,
          0.010131124426248422,
          0.016175253633913825,
          -0.004337724104580149,
          0.02381274162879767,
          0.009280229775384589,
          0.026500413411219746,
          0.006592305373890952,
          0.03261129946849448,
          -0.03176380964064332,
          -0.004726562031832859,
          0.002027757331418895,
          0.015656798270461524,
          0.004066525193166649,
          0.01890144189597722,
          0.006263891207538139,
          -0.002886737337860895,
          -0.050975066125680674,
          0.00888225574356963,
          -0.06654521780407717,
          0.05094996531325017,
          0.01825898235958334,
          -0.0002896785140433151,
          0.016561647702719992,
          -0.03738152152781891,
          0.039008742445083955,
          0.004329082901620692,
          -0.026809202611620814,
          0.019540416420353503,
          0.010883605227839693,
          0.022238521299621387,
          0.024885637034521364,
          -0.018224593307353047,
          -0.0688741751001275,
          -0.14379752773534368,
          0.08945192137781363,
          0.02038137080542507,
          0.006746969188133225,
          0.010383677366143915,
          0.010956292975573807,
          -0.01326517614542635,
          -0.0008983577188674483,
          0.08279852584215183,
          0.02605113631520469,
          0.04718246556632982,
          0.05272114617352572,
          0.045891738636131926,
          0.04005220497608611,
          0.019920225967001215,
          0.006463912652920852,
          0.0029033252410841457,
          0.02318540465429514,
          -0.033838868378237,
          0.04937507555544032,
          -0.02386371830754629,
          0.04880568290159993,
          -0.03662138408155193,
          0.00010887145644807592,
          0.017302010091572746,
          -0.043256780365016456,
          0.007067402938378568,
          -0.04614631057795427,
          0.03648601497011741,
          -0.010461675827918432
         ],
         "yaxis": "y"
        }
       ],
       "layout": {
        "barmode": "relative",
        "legend": {
         "tracegroupgap": 0
        },
        "margin": {
         "t": 60
        },
        "template": {
         "data": {
          "bar": [
           {
            "error_x": {
             "color": "#2a3f5f"
            },
            "error_y": {
             "color": "#2a3f5f"
            },
            "marker": {
             "line": {
              "color": "#E5ECF6",
              "width": 0.5
             },
             "pattern": {
              "fillmode": "overlay",
              "size": 10,
              "solidity": 0.2
             }
            },
            "type": "bar"
           }
          ],
          "barpolar": [
           {
            "marker": {
             "line": {
              "color": "#E5ECF6",
              "width": 0.5
             },
             "pattern": {
              "fillmode": "overlay",
              "size": 10,
              "solidity": 0.2
             }
            },
            "type": "barpolar"
           }
          ],
          "carpet": [
           {
            "aaxis": {
             "endlinecolor": "#2a3f5f",
             "gridcolor": "white",
             "linecolor": "white",
             "minorgridcolor": "white",
             "startlinecolor": "#2a3f5f"
            },
            "baxis": {
             "endlinecolor": "#2a3f5f",
             "gridcolor": "white",
             "linecolor": "white",
             "minorgridcolor": "white",
             "startlinecolor": "#2a3f5f"
            },
            "type": "carpet"
           }
          ],
          "choropleth": [
           {
            "colorbar": {
             "outlinewidth": 0,
             "ticks": ""
            },
            "type": "choropleth"
           }
          ],
          "contour": [
           {
            "colorbar": {
             "outlinewidth": 0,
             "ticks": ""
            },
            "colorscale": [
             [
              0,
              "#0d0887"
             ],
             [
              0.1111111111111111,
              "#46039f"
             ],
             [
              0.2222222222222222,
              "#7201a8"
             ],
             [
              0.3333333333333333,
              "#9c179e"
             ],
             [
              0.4444444444444444,
              "#bd3786"
             ],
             [
              0.5555555555555556,
              "#d8576b"
             ],
             [
              0.6666666666666666,
              "#ed7953"
             ],
             [
              0.7777777777777778,
              "#fb9f3a"
             ],
             [
              0.8888888888888888,
              "#fdca26"
             ],
             [
              1,
              "#f0f921"
             ]
            ],
            "type": "contour"
           }
          ],
          "contourcarpet": [
           {
            "colorbar": {
             "outlinewidth": 0,
             "ticks": ""
            },
            "type": "contourcarpet"
           }
          ],
          "heatmap": [
           {
            "colorbar": {
             "outlinewidth": 0,
             "ticks": ""
            },
            "colorscale": [
             [
              0,
              "#0d0887"
             ],
             [
              0.1111111111111111,
              "#46039f"
             ],
             [
              0.2222222222222222,
              "#7201a8"
             ],
             [
              0.3333333333333333,
              "#9c179e"
             ],
             [
              0.4444444444444444,
              "#bd3786"
             ],
             [
              0.5555555555555556,
              "#d8576b"
             ],
             [
              0.6666666666666666,
              "#ed7953"
             ],
             [
              0.7777777777777778,
              "#fb9f3a"
             ],
             [
              0.8888888888888888,
              "#fdca26"
             ],
             [
              1,
              "#f0f921"
             ]
            ],
            "type": "heatmap"
           }
          ],
          "heatmapgl": [
           {
            "colorbar": {
             "outlinewidth": 0,
             "ticks": ""
            },
            "colorscale": [
             [
              0,
              "#0d0887"
             ],
             [
              0.1111111111111111,
              "#46039f"
             ],
             [
              0.2222222222222222,
              "#7201a8"
             ],
             [
              0.3333333333333333,
              "#9c179e"
             ],
             [
              0.4444444444444444,
              "#bd3786"
             ],
             [
              0.5555555555555556,
              "#d8576b"
             ],
             [
              0.6666666666666666,
              "#ed7953"
             ],
             [
              0.7777777777777778,
              "#fb9f3a"
             ],
             [
              0.8888888888888888,
              "#fdca26"
             ],
             [
              1,
              "#f0f921"
             ]
            ],
            "type": "heatmapgl"
           }
          ],
          "histogram": [
           {
            "marker": {
             "pattern": {
              "fillmode": "overlay",
              "size": 10,
              "solidity": 0.2
             }
            },
            "type": "histogram"
           }
          ],
          "histogram2d": [
           {
            "colorbar": {
             "outlinewidth": 0,
             "ticks": ""
            },
            "colorscale": [
             [
              0,
              "#0d0887"
             ],
             [
              0.1111111111111111,
              "#46039f"
             ],
             [
              0.2222222222222222,
              "#7201a8"
             ],
             [
              0.3333333333333333,
              "#9c179e"
             ],
             [
              0.4444444444444444,
              "#bd3786"
             ],
             [
              0.5555555555555556,
              "#d8576b"
             ],
             [
              0.6666666666666666,
              "#ed7953"
             ],
             [
              0.7777777777777778,
              "#fb9f3a"
             ],
             [
              0.8888888888888888,
              "#fdca26"
             ],
             [
              1,
              "#f0f921"
             ]
            ],
            "type": "histogram2d"
           }
          ],
          "histogram2dcontour": [
           {
            "colorbar": {
             "outlinewidth": 0,
             "ticks": ""
            },
            "colorscale": [
             [
              0,
              "#0d0887"
             ],
             [
              0.1111111111111111,
              "#46039f"
             ],
             [
              0.2222222222222222,
              "#7201a8"
             ],
             [
              0.3333333333333333,
              "#9c179e"
             ],
             [
              0.4444444444444444,
              "#bd3786"
             ],
             [
              0.5555555555555556,
              "#d8576b"
             ],
             [
              0.6666666666666666,
              "#ed7953"
             ],
             [
              0.7777777777777778,
              "#fb9f3a"
             ],
             [
              0.8888888888888888,
              "#fdca26"
             ],
             [
              1,
              "#f0f921"
             ]
            ],
            "type": "histogram2dcontour"
           }
          ],
          "mesh3d": [
           {
            "colorbar": {
             "outlinewidth": 0,
             "ticks": ""
            },
            "type": "mesh3d"
           }
          ],
          "parcoords": [
           {
            "line": {
             "colorbar": {
              "outlinewidth": 0,
              "ticks": ""
             }
            },
            "type": "parcoords"
           }
          ],
          "pie": [
           {
            "automargin": true,
            "type": "pie"
           }
          ],
          "scatter": [
           {
            "fillpattern": {
             "fillmode": "overlay",
             "size": 10,
             "solidity": 0.2
            },
            "type": "scatter"
           }
          ],
          "scatter3d": [
           {
            "line": {
             "colorbar": {
              "outlinewidth": 0,
              "ticks": ""
             }
            },
            "marker": {
             "colorbar": {
              "outlinewidth": 0,
              "ticks": ""
             }
            },
            "type": "scatter3d"
           }
          ],
          "scattercarpet": [
           {
            "marker": {
             "colorbar": {
              "outlinewidth": 0,
              "ticks": ""
             }
            },
            "type": "scattercarpet"
           }
          ],
          "scattergeo": [
           {
            "marker": {
             "colorbar": {
              "outlinewidth": 0,
              "ticks": ""
             }
            },
            "type": "scattergeo"
           }
          ],
          "scattergl": [
           {
            "marker": {
             "colorbar": {
              "outlinewidth": 0,
              "ticks": ""
             }
            },
            "type": "scattergl"
           }
          ],
          "scattermapbox": [
           {
            "marker": {
             "colorbar": {
              "outlinewidth": 0,
              "ticks": ""
             }
            },
            "type": "scattermapbox"
           }
          ],
          "scatterpolar": [
           {
            "marker": {
             "colorbar": {
              "outlinewidth": 0,
              "ticks": ""
             }
            },
            "type": "scatterpolar"
           }
          ],
          "scatterpolargl": [
           {
            "marker": {
             "colorbar": {
              "outlinewidth": 0,
              "ticks": ""
             }
            },
            "type": "scatterpolargl"
           }
          ],
          "scatterternary": [
           {
            "marker": {
             "colorbar": {
              "outlinewidth": 0,
              "ticks": ""
             }
            },
            "type": "scatterternary"
           }
          ],
          "surface": [
           {
            "colorbar": {
             "outlinewidth": 0,
             "ticks": ""
            },
            "colorscale": [
             [
              0,
              "#0d0887"
             ],
             [
              0.1111111111111111,
              "#46039f"
             ],
             [
              0.2222222222222222,
              "#7201a8"
             ],
             [
              0.3333333333333333,
              "#9c179e"
             ],
             [
              0.4444444444444444,
              "#bd3786"
             ],
             [
              0.5555555555555556,
              "#d8576b"
             ],
             [
              0.6666666666666666,
              "#ed7953"
             ],
             [
              0.7777777777777778,
              "#fb9f3a"
             ],
             [
              0.8888888888888888,
              "#fdca26"
             ],
             [
              1,
              "#f0f921"
             ]
            ],
            "type": "surface"
           }
          ],
          "table": [
           {
            "cells": {
             "fill": {
              "color": "#EBF0F8"
             },
             "line": {
              "color": "white"
             }
            },
            "header": {
             "fill": {
              "color": "#C8D4E3"
             },
             "line": {
              "color": "white"
             }
            },
            "type": "table"
           }
          ]
         },
         "layout": {
          "annotationdefaults": {
           "arrowcolor": "#2a3f5f",
           "arrowhead": 0,
           "arrowwidth": 1
          },
          "autotypenumbers": "strict",
          "coloraxis": {
           "colorbar": {
            "outlinewidth": 0,
            "ticks": ""
           }
          },
          "colorscale": {
           "diverging": [
            [
             0,
             "#8e0152"
            ],
            [
             0.1,
             "#c51b7d"
            ],
            [
             0.2,
             "#de77ae"
            ],
            [
             0.3,
             "#f1b6da"
            ],
            [
             0.4,
             "#fde0ef"
            ],
            [
             0.5,
             "#f7f7f7"
            ],
            [
             0.6,
             "#e6f5d0"
            ],
            [
             0.7,
             "#b8e186"
            ],
            [
             0.8,
             "#7fbc41"
            ],
            [
             0.9,
             "#4d9221"
            ],
            [
             1,
             "#276419"
            ]
           ],
           "sequential": [
            [
             0,
             "#0d0887"
            ],
            [
             0.1111111111111111,
             "#46039f"
            ],
            [
             0.2222222222222222,
             "#7201a8"
            ],
            [
             0.3333333333333333,
             "#9c179e"
            ],
            [
             0.4444444444444444,
             "#bd3786"
            ],
            [
             0.5555555555555556,
             "#d8576b"
            ],
            [
             0.6666666666666666,
             "#ed7953"
            ],
            [
             0.7777777777777778,
             "#fb9f3a"
            ],
            [
             0.8888888888888888,
             "#fdca26"
            ],
            [
             1,
             "#f0f921"
            ]
           ],
           "sequentialminus": [
            [
             0,
             "#0d0887"
            ],
            [
             0.1111111111111111,
             "#46039f"
            ],
            [
             0.2222222222222222,
             "#7201a8"
            ],
            [
             0.3333333333333333,
             "#9c179e"
            ],
            [
             0.4444444444444444,
             "#bd3786"
            ],
            [
             0.5555555555555556,
             "#d8576b"
            ],
            [
             0.6666666666666666,
             "#ed7953"
            ],
            [
             0.7777777777777778,
             "#fb9f3a"
            ],
            [
             0.8888888888888888,
             "#fdca26"
            ],
            [
             1,
             "#f0f921"
            ]
           ]
          },
          "colorway": [
           "#636efa",
           "#EF553B",
           "#00cc96",
           "#ab63fa",
           "#FFA15A",
           "#19d3f3",
           "#FF6692",
           "#B6E880",
           "#FF97FF",
           "#FECB52"
          ],
          "font": {
           "color": "#2a3f5f"
          },
          "geo": {
           "bgcolor": "white",
           "lakecolor": "white",
           "landcolor": "#E5ECF6",
           "showlakes": true,
           "showland": true,
           "subunitcolor": "white"
          },
          "hoverlabel": {
           "align": "left"
          },
          "hovermode": "closest",
          "mapbox": {
           "style": "light"
          },
          "paper_bgcolor": "white",
          "plot_bgcolor": "#E5ECF6",
          "polar": {
           "angularaxis": {
            "gridcolor": "white",
            "linecolor": "white",
            "ticks": ""
           },
           "bgcolor": "#E5ECF6",
           "radialaxis": {
            "gridcolor": "white",
            "linecolor": "white",
            "ticks": ""
           }
          },
          "scene": {
           "xaxis": {
            "backgroundcolor": "#E5ECF6",
            "gridcolor": "white",
            "gridwidth": 2,
            "linecolor": "white",
            "showbackground": true,
            "ticks": "",
            "zerolinecolor": "white"
           },
           "yaxis": {
            "backgroundcolor": "#E5ECF6",
            "gridcolor": "white",
            "gridwidth": 2,
            "linecolor": "white",
            "showbackground": true,
            "ticks": "",
            "zerolinecolor": "white"
           },
           "zaxis": {
            "backgroundcolor": "#E5ECF6",
            "gridcolor": "white",
            "gridwidth": 2,
            "linecolor": "white",
            "showbackground": true,
            "ticks": "",
            "zerolinecolor": "white"
           }
          },
          "shapedefaults": {
           "line": {
            "color": "#2a3f5f"
           }
          },
          "ternary": {
           "aaxis": {
            "gridcolor": "white",
            "linecolor": "white",
            "ticks": ""
           },
           "baxis": {
            "gridcolor": "white",
            "linecolor": "white",
            "ticks": ""
           },
           "bgcolor": "#E5ECF6",
           "caxis": {
            "gridcolor": "white",
            "linecolor": "white",
            "ticks": ""
           }
          },
          "title": {
           "x": 0.05
          },
          "xaxis": {
           "automargin": true,
           "gridcolor": "white",
           "linecolor": "white",
           "ticks": "",
           "title": {
            "standoff": 15
           },
           "zerolinecolor": "white",
           "zerolinewidth": 2
          },
          "yaxis": {
           "automargin": true,
           "gridcolor": "white",
           "linecolor": "white",
           "ticks": "",
           "title": {
            "standoff": 15
           },
           "zerolinecolor": "white",
           "zerolinewidth": 2
          }
         }
        },
        "xaxis": {
         "anchor": "y",
         "domain": [
          0,
          1
         ],
         "title": {
          "text": "date"
         }
        },
        "yaxis": {
         "anchor": "x",
         "domain": [
          0,
          1
         ],
         "title": {
          "text": "mavg_rets"
         }
        }
       }
      }
     },
     "metadata": {},
     "output_type": "display_data"
    }
   ],
   "source": [
    "monthly_rets = strategy_returns[[\"date\", \"mavg_rets\"]].resample('M', on='date').mean() # Calculate average daily return for each month\n",
    "monthly_rets['Colour']='red' # Add column with 'red' value\n",
    "monthly_rets.loc[monthly_rets['mavg_rets']>=0, 'Colour']='green' # Replace 'red' with 'green' where return is non-negative\n",
    "px.bar(monthly_rets,x=monthly_rets.index,y=\"mavg_rets\").update_traces(marker_color=monthly_rets[\"Colour\"]).show()"
   ]
  },
  {
   "cell_type": "code",
   "execution_count": 19,
   "id": "5d5ab9cd",
   "metadata": {},
   "outputs": [
    {
     "name": "stdout",
     "output_type": "stream",
     "text": [
      "0.007503742823585041 0.030331837875630662\n"
     ]
    }
   ],
   "source": [
    "# mean and volatility\n",
    "mean_ret = strategy_returns['mavg_rets'].mean()\n",
    "volatility = strategy_returns['mavg_rets'].std()\n",
    "print(mean_ret, volatility)"
   ]
  },
  {
   "cell_type": "code",
   "execution_count": 20,
   "id": "f1bb2435",
   "metadata": {},
   "outputs": [
    {
     "name": "stdout",
     "output_type": "stream",
     "text": [
      "Annualised expected return is: 9.0%\n",
      "Annualised volatility is: 10.51%\n"
     ]
    }
   ],
   "source": [
    "print('Annualised expected return is: '+str(round(100*mean_ret*12,2)) +'%')\n",
    "print('Annualised volatility is: '+str(round(100*volatility*np.sqrt(12),2)) +'%')"
   ]
  },
  {
   "cell_type": "code",
   "execution_count": 21,
   "id": "cda046e9",
   "metadata": {},
   "outputs": [
    {
     "data": {
      "text/plain": [
       "count    377.000000\n",
       "mean       0.750374\n",
       "std        3.033184\n",
       "min      -14.379753\n",
       "25%       -0.818881\n",
       "50%        0.879439\n",
       "75%        2.578946\n",
       "max        9.246357\n",
       "Name: mavg_rets, dtype: float64"
      ]
     },
     "execution_count": 21,
     "metadata": {},
     "output_type": "execute_result"
    }
   ],
   "source": [
    "# describing statistics of returns\n",
    "(strategy_returns['mavg_rets']*100).describe()"
   ]
  },
  {
   "cell_type": "code",
   "execution_count": 22,
   "id": "14743eca",
   "metadata": {},
   "outputs": [
    {
     "name": "stdout",
     "output_type": "stream",
     "text": [
      "-0.665156374549675\n"
     ]
    }
   ],
   "source": [
    "# skewness\n",
    "print(skew(strategy_returns['mavg_rets'].dropna()))"
   ]
  },
  {
   "cell_type": "code",
   "execution_count": 23,
   "id": "d1d8ea4e",
   "metadata": {},
   "outputs": [
    {
     "name": "stdout",
     "output_type": "stream",
     "text": [
      "2.2441184861485572\n"
     ]
    }
   ],
   "source": [
    "# kurtosis\n",
    "print(kurtosis(strategy_returns[\"mavg_rets\"].dropna()))"
   ]
  },
  {
   "cell_type": "code",
   "execution_count": 24,
   "id": "618f1cdc",
   "metadata": {},
   "outputs": [
    {
     "data": {
      "text/plain": [
       "-0.08609569090107003"
      ]
     },
     "execution_count": 24,
     "metadata": {},
     "output_type": "execute_result"
    }
   ],
   "source": [
    "# Value at Risk\n",
    "VaR = strategy_returns['mavg_rets'].quantile(0.005)\n",
    "VaR"
   ]
  },
  {
   "cell_type": "code",
   "execution_count": 25,
   "id": "2b750603",
   "metadata": {},
   "outputs": [
    {
     "name": "stdout",
     "output_type": "stream",
     "text": [
      "There is a 10.0% chance that my losses will be -3.05% or worse over the next day.\n",
      "There is a 5.0% chance that my losses will be -4.34% or worse over the next day.\n",
      "There is a 1.0% chance that my losses will be -7.53% or worse over the next day.\n",
      "There is a 0.1% chance that my losses will be -13.32% or worse over the next day.\n",
      "There is a 0.01% chance that my losses will be -14.27% or worse over the next day.\n"
     ]
    }
   ],
   "source": [
    "for q in [0.1, 0.05, 0.01, 0.001, 0.0001]:\n",
    "    VaR = strategy_returns['mavg_rets'].quantile(q)\n",
    "    print('There is a '+str(round(100*q,3))+'% chance that my losses will be '+str(round(VaR*100, 2))+'% or worse over the next day.')"
   ]
  },
  {
   "cell_type": "code",
   "execution_count": 26,
   "id": "2ab55ed1",
   "metadata": {},
   "outputs": [
    {
     "data": {
      "text/html": [
       "<div>\n",
       "<style scoped>\n",
       "    .dataframe tbody tr th:only-of-type {\n",
       "        vertical-align: middle;\n",
       "    }\n",
       "\n",
       "    .dataframe tbody tr th {\n",
       "        vertical-align: top;\n",
       "    }\n",
       "\n",
       "    .dataframe thead th {\n",
       "        text-align: right;\n",
       "    }\n",
       "</style>\n",
       "<table border=\"1\" class=\"dataframe\">\n",
       "  <thead>\n",
       "    <tr style=\"text-align: right;\">\n",
       "      <th></th>\n",
       "      <th>date</th>\n",
       "      <th>mavg_rets</th>\n",
       "      <th>mavg_cum_rets</th>\n",
       "    </tr>\n",
       "  </thead>\n",
       "  <tbody>\n",
       "    <tr>\n",
       "      <th>89</th>\n",
       "      <td>1998-08-31</td>\n",
       "      <td>-0.115601</td>\n",
       "      <td>2.307335</td>\n",
       "    </tr>\n",
       "    <tr>\n",
       "      <th>348</th>\n",
       "      <td>2020-03-31</td>\n",
       "      <td>-0.143798</td>\n",
       "      <td>9.287831</td>\n",
       "    </tr>\n",
       "  </tbody>\n",
       "</table>\n",
       "</div>"
      ],
      "text/plain": [
       "          date  mavg_rets  mavg_cum_rets\n",
       "89  1998-08-31  -0.115601       2.307335\n",
       "348 2020-03-31  -0.143798       9.287831"
      ]
     },
     "execution_count": 26,
     "metadata": {},
     "output_type": "execute_result"
    }
   ],
   "source": [
    "VaR = strategy_returns['mavg_rets'].quantile(0.005)\n",
    "rets_tail = strategy_returns.loc[strategy_returns['mavg_rets']<=VaR,[\"date\", \"mavg_rets\", \"mavg_cum_rets\"]]\n",
    "rets_tail"
   ]
  },
  {
   "cell_type": "code",
   "execution_count": 27,
   "id": "e4750315",
   "metadata": {},
   "outputs": [
    {
     "data": {
      "text/plain": [
       "-0.12969912186474214"
      ]
     },
     "execution_count": 27,
     "metadata": {},
     "output_type": "execute_result"
    }
   ],
   "source": [
    "ES = rets_tail['mavg_rets'].mean()\n",
    "ES"
   ]
  },
  {
   "cell_type": "code",
   "execution_count": 28,
   "id": "36a31c50",
   "metadata": {},
   "outputs": [
    {
     "name": "stdout",
     "output_type": "stream",
     "text": [
      "I expect to lose on average -5.14% over 1-day period given that I have exceeded my VaR for 10.0%.\n",
      "I expect to lose on average -6.74% over 1-day period given that I have exceeded my VaR for 5.0%.\n",
      "I expect to lose on average -10.46% over 1-day period given that I have exceeded my VaR for 1.0%.\n",
      "I expect to lose on average -14.38% over 1-day period given that I have exceeded my VaR for 0.1%.\n",
      "I expect to lose on average -14.38% over 1-day period given that I have exceeded my VaR for 0.01%.\n"
     ]
    }
   ],
   "source": [
    "for q in [0.1, 0.05, 0.01, 0.001, 0.0001]:\n",
    "    VaR = strategy_returns['mavg_rets'].quantile(q)\n",
    "    rets_tail = strategy_returns.loc[strategy_returns['mavg_rets']<=VaR,:]\n",
    "    ES = rets_tail['mavg_rets'].mean()\n",
    "    print('I expect to lose on average '+ str(round(ES*100, 2))+'% over 1-day period given that I have exceeded my VaR for '+str(round(100*q,3))+'%.')"
   ]
  },
  {
   "cell_type": "code",
   "execution_count": 29,
   "id": "fefe4224",
   "metadata": {},
   "outputs": [
    {
     "data": {
      "text/plain": [
       "-1.3219198038978466"
      ]
     },
     "execution_count": 29,
     "metadata": {},
     "output_type": "execute_result"
    }
   ],
   "source": [
    "# according to bloomberg the risk free rate (treasury yields) 4.76 % (last 30 years)\n",
    "# calculation of sharpe ratio\n",
    "\n",
    "rf = 0.0476\n",
    "sharpe_ratio = (mean_ret-rf)/volatility\n",
    "sharpe_ratio"
   ]
  },
  {
   "cell_type": "code",
   "execution_count": 30,
   "id": "1367e747",
   "metadata": {},
   "outputs": [],
   "source": [
    "# get SP500 data from 1990-01-31 to 2022-08-30\t\n",
    "sp500_ticker = yf.Ticker(\"^GSPC\")\n",
    "sp500 = sp500_ticker.history(start=\"1990-02-28\", end=\"2022-09-30\", interval=\"1mo\")\n",
    "sp500 = sp500[[\"Close\"]]\n",
    "sp500[\"Rets\"] = sp500.Close.pct_change()"
   ]
  },
  {
   "cell_type": "code",
   "execution_count": 31,
   "id": "fc1096be",
   "metadata": {},
   "outputs": [
    {
     "data": {
      "text/html": [
       "<div>\n",
       "<style scoped>\n",
       "    .dataframe tbody tr th:only-of-type {\n",
       "        vertical-align: middle;\n",
       "    }\n",
       "\n",
       "    .dataframe tbody tr th {\n",
       "        vertical-align: top;\n",
       "    }\n",
       "\n",
       "    .dataframe thead th {\n",
       "        text-align: right;\n",
       "    }\n",
       "</style>\n",
       "<table border=\"1\" class=\"dataframe\">\n",
       "  <thead>\n",
       "    <tr style=\"text-align: right;\">\n",
       "      <th></th>\n",
       "      <th>Close</th>\n",
       "      <th>Rets</th>\n",
       "    </tr>\n",
       "    <tr>\n",
       "      <th>Date</th>\n",
       "      <th></th>\n",
       "      <th></th>\n",
       "    </tr>\n",
       "  </thead>\n",
       "  <tbody>\n",
       "    <tr>\n",
       "      <th>1990-03-01 00:00:00-05:00</th>\n",
       "      <td>339.940002</td>\n",
       "      <td>NaN</td>\n",
       "    </tr>\n",
       "    <tr>\n",
       "      <th>1990-04-01 00:00:00-05:00</th>\n",
       "      <td>330.799988</td>\n",
       "      <td>-0.026887</td>\n",
       "    </tr>\n",
       "    <tr>\n",
       "      <th>1990-05-01 00:00:00-04:00</th>\n",
       "      <td>361.230011</td>\n",
       "      <td>0.091989</td>\n",
       "    </tr>\n",
       "    <tr>\n",
       "      <th>1990-06-01 00:00:00-04:00</th>\n",
       "      <td>358.019989</td>\n",
       "      <td>-0.008886</td>\n",
       "    </tr>\n",
       "    <tr>\n",
       "      <th>1990-07-01 00:00:00-04:00</th>\n",
       "      <td>356.149994</td>\n",
       "      <td>-0.005223</td>\n",
       "    </tr>\n",
       "    <tr>\n",
       "      <th>...</th>\n",
       "      <td>...</td>\n",
       "      <td>...</td>\n",
       "    </tr>\n",
       "    <tr>\n",
       "      <th>2022-05-01 00:00:00-04:00</th>\n",
       "      <td>4132.149902</td>\n",
       "      <td>0.000053</td>\n",
       "    </tr>\n",
       "    <tr>\n",
       "      <th>2022-06-01 00:00:00-04:00</th>\n",
       "      <td>3785.379883</td>\n",
       "      <td>-0.083920</td>\n",
       "    </tr>\n",
       "    <tr>\n",
       "      <th>2022-07-01 00:00:00-04:00</th>\n",
       "      <td>4130.290039</td>\n",
       "      <td>0.091116</td>\n",
       "    </tr>\n",
       "    <tr>\n",
       "      <th>2022-08-01 00:00:00-04:00</th>\n",
       "      <td>3955.000000</td>\n",
       "      <td>-0.042440</td>\n",
       "    </tr>\n",
       "    <tr>\n",
       "      <th>2022-09-01 00:00:00-04:00</th>\n",
       "      <td>3585.620117</td>\n",
       "      <td>-0.093396</td>\n",
       "    </tr>\n",
       "  </tbody>\n",
       "</table>\n",
       "<p>391 rows × 2 columns</p>\n",
       "</div>"
      ],
      "text/plain": [
       "                                 Close      Rets\n",
       "Date                                            \n",
       "1990-03-01 00:00:00-05:00   339.940002       NaN\n",
       "1990-04-01 00:00:00-05:00   330.799988 -0.026887\n",
       "1990-05-01 00:00:00-04:00   361.230011  0.091989\n",
       "1990-06-01 00:00:00-04:00   358.019989 -0.008886\n",
       "1990-07-01 00:00:00-04:00   356.149994 -0.005223\n",
       "...                                ...       ...\n",
       "2022-05-01 00:00:00-04:00  4132.149902  0.000053\n",
       "2022-06-01 00:00:00-04:00  3785.379883 -0.083920\n",
       "2022-07-01 00:00:00-04:00  4130.290039  0.091116\n",
       "2022-08-01 00:00:00-04:00  3955.000000 -0.042440\n",
       "2022-09-01 00:00:00-04:00  3585.620117 -0.093396\n",
       "\n",
       "[391 rows x 2 columns]"
      ]
     },
     "execution_count": 31,
     "metadata": {},
     "output_type": "execute_result"
    }
   ],
   "source": [
    "sp500"
   ]
  },
  {
   "cell_type": "code",
   "execution_count": 32,
   "id": "674d499f",
   "metadata": {},
   "outputs": [
    {
     "name": "stdout",
     "output_type": "stream",
     "text": [
      "Portfolio Beta: 0.0021396319128105107\n",
      "Jensen's Alpha: -0.04000936065747837\n"
     ]
    }
   ],
   "source": [
    "# Calculate the average return of the market\n",
    "average_market_return = sp500.Rets.mean()\n",
    "\n",
    "# Calculate the covariance between portfolio and market returns\n",
    "covariance = strategy_returns['mavg_rets'].cov(sp500['Rets'].reset_index(drop=True))\n",
    "\n",
    "# Calculate the variance of the market returns\n",
    "market_variance = sp500['Rets'].var()\n",
    "\n",
    "# Calculate the portfolio's beta\n",
    "portfolio_beta = covariance / market_variance\n",
    "\n",
    "# Calculate Jensen's Alpha\n",
    "jensens_alpha = mean_ret - (rf + portfolio_beta * (average_market_return - rf))\n",
    "\n",
    "print(\"Portfolio Beta:\", portfolio_beta)\n",
    "print(\"Jensen's Alpha:\", jensens_alpha)"
   ]
  },
  {
   "cell_type": "code",
   "execution_count": 33,
   "id": "b5d4bbc5",
   "metadata": {},
   "outputs": [
    {
     "data": {
      "text/plain": [
       "-18.73979208122138"
      ]
     },
     "execution_count": 33,
     "metadata": {},
     "output_type": "execute_result"
    }
   ],
   "source": [
    "# treynor ratio\n",
    "treynor_ratio = (mean_ret - rf)/portfolio_beta\n",
    "treynor_ratio"
   ]
  },
  {
   "cell_type": "code",
   "execution_count": 34,
   "id": "b016eee5",
   "metadata": {},
   "outputs": [
    {
     "name": "stdout",
     "output_type": "stream",
     "text": [
      "0.2172969999540973\n"
     ]
    }
   ],
   "source": [
    "# maximum drawdown\n",
    "peak = strategy_returns.reset_index(drop=True).loc[1, \"mavg_cum_rets\"]\n",
    "max_drawdown = 0\n",
    "for ret in strategy_returns[\"mavg_cum_rets\"].dropna():\n",
    "    if ret >= peak:\n",
    "        peak = ret\n",
    "    else:\n",
    "        drawdown = (peak - ret)/peak\n",
    "        max_drawdown = max(max_drawdown, drawdown)\n",
    "\n",
    "print(max_drawdown)"
   ]
  },
  {
   "cell_type": "code",
   "execution_count": 35,
   "id": "09c70947",
   "metadata": {},
   "outputs": [
    {
     "data": {
      "text/plain": [
       "0.19512464511225072"
      ]
     },
     "execution_count": 35,
     "metadata": {},
     "output_type": "execute_result"
    }
   ],
   "source": [
    "# calmar-ratio\n",
    "annualised_exp_return = round(mean_ret*12,2)\n",
    "calmar_ratio = (annualised_exp_return - rf)/max_drawdown\n",
    "calmar_ratio"
   ]
  }
 ],
 "metadata": {
  "kernelspec": {
   "display_name": "Python 3 (ipykernel)",
   "language": "python",
   "name": "python3"
  },
  "language_info": {
   "codemirror_mode": {
    "name": "ipython",
    "version": 3
   },
   "file_extension": ".py",
   "mimetype": "text/x-python",
   "name": "python",
   "nbconvert_exporter": "python",
   "pygments_lexer": "ipython3",
   "version": "3.9.0"
  }
 },
 "nbformat": 4,
 "nbformat_minor": 5
}
