{
 "cells": [
  {
   "cell_type": "markdown",
   "id": "acae3b45",
   "metadata": {},
   "source": [
    "# Group Project\n",
    "#### **FINN43815 - Python for Finance**"
   ]
  },
  {
   "cell_type": "code",
   "execution_count": 72,
   "id": "36a8edf5",
   "metadata": {},
   "outputs": [],
   "source": [
    "import numpy as np\n",
    "import pandas as pd\n",
    "import plotly.express as px\n",
    "from scipy.stats import kurtosis, skew\n",
    "import yfinance as yf"
   ]
  },
  {
   "cell_type": "markdown",
   "id": "278f8d90",
   "metadata": {},
   "source": [
    "### Moving Average Crossover Strategy"
   ]
  },
  {
   "cell_type": "markdown",
   "id": "e6e26e70",
   "metadata": {},
   "source": [
    "#### 1. Import Data"
   ]
  },
  {
   "cell_type": "code",
   "execution_count": 73,
   "id": "d81ffa77",
   "metadata": {},
   "outputs": [
    {
     "name": "stderr",
     "output_type": "stream",
     "text": [
      "/var/folders/ch/yj3xbk4s1t34gtb89jtxcmcr0000gn/T/ipykernel_21676/1299969751.py:1: DtypeWarning:\n",
      "\n",
      "Columns (12) have mixed types. Specify dtype option on import or set low_memory=False.\n",
      "\n"
     ]
    }
   ],
   "source": [
    "data = pd.read_csv('cleaned_data.csv')"
   ]
  },
  {
   "cell_type": "code",
   "execution_count": 74,
   "id": "0a7b9ab6",
   "metadata": {},
   "outputs": [
    {
     "data": {
      "text/html": [
       "<div>\n",
       "<style scoped>\n",
       "    .dataframe tbody tr th:only-of-type {\n",
       "        vertical-align: middle;\n",
       "    }\n",
       "\n",
       "    .dataframe tbody tr th {\n",
       "        vertical-align: top;\n",
       "    }\n",
       "\n",
       "    .dataframe thead th {\n",
       "        text-align: right;\n",
       "    }\n",
       "</style>\n",
       "<table border=\"1\" class=\"dataframe\">\n",
       "  <thead>\n",
       "    <tr style=\"text-align: right;\">\n",
       "      <th></th>\n",
       "      <th>date</th>\n",
       "      <th>permno</th>\n",
       "      <th>price</th>\n",
       "    </tr>\n",
       "  </thead>\n",
       "  <tbody>\n",
       "    <tr>\n",
       "      <th>0</th>\n",
       "      <td>1990-01-31</td>\n",
       "      <td>0111145D UN Equity</td>\n",
       "      <td>20.6875</td>\n",
       "    </tr>\n",
       "    <tr>\n",
       "      <th>1</th>\n",
       "      <td>1990-02-28</td>\n",
       "      <td>0111145D UN Equity</td>\n",
       "      <td>22.0000</td>\n",
       "    </tr>\n",
       "    <tr>\n",
       "      <th>2</th>\n",
       "      <td>1990-03-30</td>\n",
       "      <td>0111145D UN Equity</td>\n",
       "      <td>19.5000</td>\n",
       "    </tr>\n",
       "    <tr>\n",
       "      <th>3</th>\n",
       "      <td>1990-04-30</td>\n",
       "      <td>0111145D UN Equity</td>\n",
       "      <td>17.6250</td>\n",
       "    </tr>\n",
       "    <tr>\n",
       "      <th>4</th>\n",
       "      <td>1990-05-31</td>\n",
       "      <td>0111145D UN Equity</td>\n",
       "      <td>19.8125</td>\n",
       "    </tr>\n",
       "    <tr>\n",
       "      <th>...</th>\n",
       "      <td>...</td>\n",
       "      <td>...</td>\n",
       "      <td>...</td>\n",
       "    </tr>\n",
       "    <tr>\n",
       "      <th>514691</th>\n",
       "      <td>2022-04-29</td>\n",
       "      <td>J UN Equity</td>\n",
       "      <td>138.5500</td>\n",
       "    </tr>\n",
       "    <tr>\n",
       "      <th>514692</th>\n",
       "      <td>2022-05-31</td>\n",
       "      <td>J UN Equity</td>\n",
       "      <td>140.0900</td>\n",
       "    </tr>\n",
       "    <tr>\n",
       "      <th>514693</th>\n",
       "      <td>2022-06-30</td>\n",
       "      <td>J UN Equity</td>\n",
       "      <td>127.1300</td>\n",
       "    </tr>\n",
       "    <tr>\n",
       "      <th>514694</th>\n",
       "      <td>2022-07-29</td>\n",
       "      <td>J UN Equity</td>\n",
       "      <td>137.3000</td>\n",
       "    </tr>\n",
       "    <tr>\n",
       "      <th>514695</th>\n",
       "      <td>2022-08-30</td>\n",
       "      <td>J UN Equity</td>\n",
       "      <td>124.4400</td>\n",
       "    </tr>\n",
       "  </tbody>\n",
       "</table>\n",
       "<p>514696 rows × 3 columns</p>\n",
       "</div>"
      ],
      "text/plain": [
       "              date              permno     price\n",
       "0       1990-01-31  0111145D UN Equity   20.6875\n",
       "1       1990-02-28  0111145D UN Equity   22.0000\n",
       "2       1990-03-30  0111145D UN Equity   19.5000\n",
       "3       1990-04-30  0111145D UN Equity   17.6250\n",
       "4       1990-05-31  0111145D UN Equity   19.8125\n",
       "...            ...                 ...       ...\n",
       "514691  2022-04-29         J UN Equity  138.5500\n",
       "514692  2022-05-31         J UN Equity  140.0900\n",
       "514693  2022-06-30         J UN Equity  127.1300\n",
       "514694  2022-07-29         J UN Equity  137.3000\n",
       "514695  2022-08-30         J UN Equity  124.4400\n",
       "\n",
       "[514696 rows x 3 columns]"
      ]
     },
     "execution_count": 74,
     "metadata": {},
     "output_type": "execute_result"
    }
   ],
   "source": [
    "# drop unnecessary columns\n",
    "data = data[[\"date\", \"permno\", \"price\"]]\n",
    "data"
   ]
  },
  {
   "cell_type": "markdown",
   "id": "27834fd8",
   "metadata": {},
   "source": [
    "#### 2. Calculate monthly returns"
   ]
  },
  {
   "cell_type": "code",
   "execution_count": 75,
   "id": "8529d569",
   "metadata": {},
   "outputs": [
    {
     "name": "stderr",
     "output_type": "stream",
     "text": [
      "/var/folders/ch/yj3xbk4s1t34gtb89jtxcmcr0000gn/T/ipykernel_21676/1728035520.py:1: FutureWarning:\n",
      "\n",
      "The default fill_method='pad' in Series.pct_change is deprecated and will be removed in a future version. Call ffill before calling pct_change to retain current behavior and silence this warning.\n",
      "\n"
     ]
    },
    {
     "data": {
      "text/html": [
       "<div>\n",
       "<style scoped>\n",
       "    .dataframe tbody tr th:only-of-type {\n",
       "        vertical-align: middle;\n",
       "    }\n",
       "\n",
       "    .dataframe tbody tr th {\n",
       "        vertical-align: top;\n",
       "    }\n",
       "\n",
       "    .dataframe thead th {\n",
       "        text-align: right;\n",
       "    }\n",
       "</style>\n",
       "<table border=\"1\" class=\"dataframe\">\n",
       "  <thead>\n",
       "    <tr style=\"text-align: right;\">\n",
       "      <th></th>\n",
       "      <th>date</th>\n",
       "      <th>permno</th>\n",
       "      <th>price</th>\n",
       "      <th>rets</th>\n",
       "    </tr>\n",
       "  </thead>\n",
       "  <tbody>\n",
       "    <tr>\n",
       "      <th>0</th>\n",
       "      <td>1990-01-31</td>\n",
       "      <td>0111145D UN Equity</td>\n",
       "      <td>20.6875</td>\n",
       "      <td>NaN</td>\n",
       "    </tr>\n",
       "    <tr>\n",
       "      <th>1</th>\n",
       "      <td>1990-02-28</td>\n",
       "      <td>0111145D UN Equity</td>\n",
       "      <td>22.0000</td>\n",
       "      <td>0.063444</td>\n",
       "    </tr>\n",
       "    <tr>\n",
       "      <th>2</th>\n",
       "      <td>1990-03-30</td>\n",
       "      <td>0111145D UN Equity</td>\n",
       "      <td>19.5000</td>\n",
       "      <td>-0.113636</td>\n",
       "    </tr>\n",
       "    <tr>\n",
       "      <th>3</th>\n",
       "      <td>1990-04-30</td>\n",
       "      <td>0111145D UN Equity</td>\n",
       "      <td>17.6250</td>\n",
       "      <td>-0.096154</td>\n",
       "    </tr>\n",
       "    <tr>\n",
       "      <th>4</th>\n",
       "      <td>1990-05-31</td>\n",
       "      <td>0111145D UN Equity</td>\n",
       "      <td>19.8125</td>\n",
       "      <td>0.124113</td>\n",
       "    </tr>\n",
       "  </tbody>\n",
       "</table>\n",
       "</div>"
      ],
      "text/plain": [
       "         date              permno    price      rets\n",
       "0  1990-01-31  0111145D UN Equity  20.6875       NaN\n",
       "1  1990-02-28  0111145D UN Equity  22.0000  0.063444\n",
       "2  1990-03-30  0111145D UN Equity  19.5000 -0.113636\n",
       "3  1990-04-30  0111145D UN Equity  17.6250 -0.096154\n",
       "4  1990-05-31  0111145D UN Equity  19.8125  0.124113"
      ]
     },
     "execution_count": 75,
     "metadata": {},
     "output_type": "execute_result"
    }
   ],
   "source": [
    "data['rets'] = data.groupby('permno')['price'].transform(pd.Series.pct_change)\n",
    "data.head()"
   ]
  },
  {
   "cell_type": "markdown",
   "id": "68b01216",
   "metadata": {},
   "source": [
    "#### 3. Calculate moving averages"
   ]
  },
  {
   "cell_type": "code",
   "execution_count": 76,
   "id": "69d33d66",
   "metadata": {},
   "outputs": [
    {
     "data": {
      "text/html": [
       "<div>\n",
       "<style scoped>\n",
       "    .dataframe tbody tr th:only-of-type {\n",
       "        vertical-align: middle;\n",
       "    }\n",
       "\n",
       "    .dataframe tbody tr th {\n",
       "        vertical-align: top;\n",
       "    }\n",
       "\n",
       "    .dataframe thead th {\n",
       "        text-align: right;\n",
       "    }\n",
       "</style>\n",
       "<table border=\"1\" class=\"dataframe\">\n",
       "  <thead>\n",
       "    <tr style=\"text-align: right;\">\n",
       "      <th></th>\n",
       "      <th>date</th>\n",
       "      <th>permno</th>\n",
       "      <th>price</th>\n",
       "      <th>rets</th>\n",
       "      <th>sm5</th>\n",
       "      <th>sm15</th>\n",
       "    </tr>\n",
       "  </thead>\n",
       "  <tbody>\n",
       "    <tr>\n",
       "      <th>0</th>\n",
       "      <td>1990-01-31</td>\n",
       "      <td>0111145D UN Equity</td>\n",
       "      <td>20.6875</td>\n",
       "      <td>NaN</td>\n",
       "      <td>NaN</td>\n",
       "      <td>NaN</td>\n",
       "    </tr>\n",
       "    <tr>\n",
       "      <th>1</th>\n",
       "      <td>1990-02-28</td>\n",
       "      <td>0111145D UN Equity</td>\n",
       "      <td>22.0000</td>\n",
       "      <td>0.063444</td>\n",
       "      <td>NaN</td>\n",
       "      <td>NaN</td>\n",
       "    </tr>\n",
       "    <tr>\n",
       "      <th>2</th>\n",
       "      <td>1990-03-30</td>\n",
       "      <td>0111145D UN Equity</td>\n",
       "      <td>19.5000</td>\n",
       "      <td>-0.113636</td>\n",
       "      <td>NaN</td>\n",
       "      <td>NaN</td>\n",
       "    </tr>\n",
       "    <tr>\n",
       "      <th>3</th>\n",
       "      <td>1990-04-30</td>\n",
       "      <td>0111145D UN Equity</td>\n",
       "      <td>17.6250</td>\n",
       "      <td>-0.096154</td>\n",
       "      <td>NaN</td>\n",
       "      <td>NaN</td>\n",
       "    </tr>\n",
       "    <tr>\n",
       "      <th>4</th>\n",
       "      <td>1990-05-31</td>\n",
       "      <td>0111145D UN Equity</td>\n",
       "      <td>19.8125</td>\n",
       "      <td>0.124113</td>\n",
       "      <td>19.925</td>\n",
       "      <td>NaN</td>\n",
       "    </tr>\n",
       "    <tr>\n",
       "      <th>...</th>\n",
       "      <td>...</td>\n",
       "      <td>...</td>\n",
       "      <td>...</td>\n",
       "      <td>...</td>\n",
       "      <td>...</td>\n",
       "      <td>...</td>\n",
       "    </tr>\n",
       "    <tr>\n",
       "      <th>514691</th>\n",
       "      <td>2022-04-29</td>\n",
       "      <td>J UN Equity</td>\n",
       "      <td>138.5500</td>\n",
       "      <td>0.005370</td>\n",
       "      <td>200.662</td>\n",
       "      <td>192.782667</td>\n",
       "    </tr>\n",
       "    <tr>\n",
       "      <th>514692</th>\n",
       "      <td>2022-05-31</td>\n",
       "      <td>J UN Equity</td>\n",
       "      <td>140.0900</td>\n",
       "      <td>0.011115</td>\n",
       "      <td>186.042</td>\n",
       "      <td>193.828667</td>\n",
       "    </tr>\n",
       "    <tr>\n",
       "      <th>514693</th>\n",
       "      <td>2022-06-30</td>\n",
       "      <td>J UN Equity</td>\n",
       "      <td>127.1300</td>\n",
       "      <td>-0.092512</td>\n",
       "      <td>180.462</td>\n",
       "      <td>194.789333</td>\n",
       "    </tr>\n",
       "    <tr>\n",
       "      <th>514694</th>\n",
       "      <td>2022-07-29</td>\n",
       "      <td>J UN Equity</td>\n",
       "      <td>137.3000</td>\n",
       "      <td>0.079997</td>\n",
       "      <td>178.242</td>\n",
       "      <td>195.424000</td>\n",
       "    </tr>\n",
       "    <tr>\n",
       "      <th>514695</th>\n",
       "      <td>2022-08-30</td>\n",
       "      <td>J UN Equity</td>\n",
       "      <td>124.4400</td>\n",
       "      <td>-0.093664</td>\n",
       "      <td>171.940</td>\n",
       "      <td>194.117333</td>\n",
       "    </tr>\n",
       "  </tbody>\n",
       "</table>\n",
       "<p>514696 rows × 6 columns</p>\n",
       "</div>"
      ],
      "text/plain": [
       "              date              permno     price      rets      sm5  \\\n",
       "0       1990-01-31  0111145D UN Equity   20.6875       NaN      NaN   \n",
       "1       1990-02-28  0111145D UN Equity   22.0000  0.063444      NaN   \n",
       "2       1990-03-30  0111145D UN Equity   19.5000 -0.113636      NaN   \n",
       "3       1990-04-30  0111145D UN Equity   17.6250 -0.096154      NaN   \n",
       "4       1990-05-31  0111145D UN Equity   19.8125  0.124113   19.925   \n",
       "...            ...                 ...       ...       ...      ...   \n",
       "514691  2022-04-29         J UN Equity  138.5500  0.005370  200.662   \n",
       "514692  2022-05-31         J UN Equity  140.0900  0.011115  186.042   \n",
       "514693  2022-06-30         J UN Equity  127.1300 -0.092512  180.462   \n",
       "514694  2022-07-29         J UN Equity  137.3000  0.079997  178.242   \n",
       "514695  2022-08-30         J UN Equity  124.4400 -0.093664  171.940   \n",
       "\n",
       "              sm15  \n",
       "0              NaN  \n",
       "1              NaN  \n",
       "2              NaN  \n",
       "3              NaN  \n",
       "4              NaN  \n",
       "...            ...  \n",
       "514691  192.782667  \n",
       "514692  193.828667  \n",
       "514693  194.789333  \n",
       "514694  195.424000  \n",
       "514695  194.117333  \n",
       "\n",
       "[514696 rows x 6 columns]"
      ]
     },
     "execution_count": 76,
     "metadata": {},
     "output_type": "execute_result"
    }
   ],
   "source": [
    "data[\"sm5\"] = data.groupby(\"permno\")[\"price\"].rolling(window=5, min_periods=5).mean().reset_index(drop=True)\n",
    "data[\"sm15\"] = data.groupby(\"permno\")[\"price\"].rolling(window=15, min_periods=15).mean().reset_index(drop=True)\n",
    "data"
   ]
  },
  {
   "cell_type": "code",
   "execution_count": 77,
   "id": "dbb78ca3",
   "metadata": {},
   "outputs": [],
   "source": [
    "data = data.dropna()"
   ]
  },
  {
   "cell_type": "markdown",
   "id": "c1b0fc7b",
   "metadata": {},
   "source": [
    "#### 4. Identify Trading Signals"
   ]
  },
  {
   "cell_type": "code",
   "execution_count": 78,
   "id": "de81aa37",
   "metadata": {},
   "outputs": [
    {
     "name": "stderr",
     "output_type": "stream",
     "text": [
      "/var/folders/ch/yj3xbk4s1t34gtb89jtxcmcr0000gn/T/ipykernel_21676/1324855623.py:1: SettingWithCopyWarning:\n",
      "\n",
      "\n",
      "A value is trying to be set on a copy of a slice from a DataFrame.\n",
      "Try using .loc[row_indexer,col_indexer] = value instead\n",
      "\n",
      "See the caveats in the documentation: https://pandas.pydata.org/pandas-docs/stable/user_guide/indexing.html#returning-a-view-versus-a-copy\n",
      "\n"
     ]
    },
    {
     "data": {
      "text/html": [
       "<div>\n",
       "<style scoped>\n",
       "    .dataframe tbody tr th:only-of-type {\n",
       "        vertical-align: middle;\n",
       "    }\n",
       "\n",
       "    .dataframe tbody tr th {\n",
       "        vertical-align: top;\n",
       "    }\n",
       "\n",
       "    .dataframe thead th {\n",
       "        text-align: right;\n",
       "    }\n",
       "</style>\n",
       "<table border=\"1\" class=\"dataframe\">\n",
       "  <thead>\n",
       "    <tr style=\"text-align: right;\">\n",
       "      <th></th>\n",
       "      <th>date</th>\n",
       "      <th>permno</th>\n",
       "      <th>price</th>\n",
       "      <th>rets</th>\n",
       "      <th>sm5</th>\n",
       "      <th>sm15</th>\n",
       "      <th>signal</th>\n",
       "    </tr>\n",
       "  </thead>\n",
       "  <tbody>\n",
       "    <tr>\n",
       "      <th>14</th>\n",
       "      <td>1991-03-28</td>\n",
       "      <td>0111145D UN Equity</td>\n",
       "      <td>20.5625</td>\n",
       "      <td>-0.003030</td>\n",
       "      <td>21.3875</td>\n",
       "      <td>20.675000</td>\n",
       "      <td>0</td>\n",
       "    </tr>\n",
       "    <tr>\n",
       "      <th>15</th>\n",
       "      <td>1991-04-30</td>\n",
       "      <td>0111145D UN Equity</td>\n",
       "      <td>21.3750</td>\n",
       "      <td>0.039514</td>\n",
       "      <td>21.0375</td>\n",
       "      <td>20.720833</td>\n",
       "      <td>0</td>\n",
       "    </tr>\n",
       "    <tr>\n",
       "      <th>16</th>\n",
       "      <td>1991-05-31</td>\n",
       "      <td>0111145D UN Equity</td>\n",
       "      <td>21.0000</td>\n",
       "      <td>-0.017544</td>\n",
       "      <td>20.8375</td>\n",
       "      <td>20.654167</td>\n",
       "      <td>0</td>\n",
       "    </tr>\n",
       "    <tr>\n",
       "      <th>17</th>\n",
       "      <td>1991-06-28</td>\n",
       "      <td>0111145D UN Equity</td>\n",
       "      <td>21.6250</td>\n",
       "      <td>0.029762</td>\n",
       "      <td>21.0375</td>\n",
       "      <td>20.795833</td>\n",
       "      <td>0</td>\n",
       "    </tr>\n",
       "    <tr>\n",
       "      <th>18</th>\n",
       "      <td>1991-07-31</td>\n",
       "      <td>0111145D UN Equity</td>\n",
       "      <td>21.0625</td>\n",
       "      <td>-0.026012</td>\n",
       "      <td>21.1250</td>\n",
       "      <td>21.025000</td>\n",
       "      <td>0</td>\n",
       "    </tr>\n",
       "    <tr>\n",
       "      <th>...</th>\n",
       "      <td>...</td>\n",
       "      <td>...</td>\n",
       "      <td>...</td>\n",
       "      <td>...</td>\n",
       "      <td>...</td>\n",
       "      <td>...</td>\n",
       "      <td>...</td>\n",
       "    </tr>\n",
       "    <tr>\n",
       "      <th>514691</th>\n",
       "      <td>2022-04-29</td>\n",
       "      <td>J UN Equity</td>\n",
       "      <td>138.5500</td>\n",
       "      <td>0.005370</td>\n",
       "      <td>200.6620</td>\n",
       "      <td>192.782667</td>\n",
       "      <td>0</td>\n",
       "    </tr>\n",
       "    <tr>\n",
       "      <th>514692</th>\n",
       "      <td>2022-05-31</td>\n",
       "      <td>J UN Equity</td>\n",
       "      <td>140.0900</td>\n",
       "      <td>0.011115</td>\n",
       "      <td>186.0420</td>\n",
       "      <td>193.828667</td>\n",
       "      <td>1</td>\n",
       "    </tr>\n",
       "    <tr>\n",
       "      <th>514693</th>\n",
       "      <td>2022-06-30</td>\n",
       "      <td>J UN Equity</td>\n",
       "      <td>127.1300</td>\n",
       "      <td>-0.092512</td>\n",
       "      <td>180.4620</td>\n",
       "      <td>194.789333</td>\n",
       "      <td>1</td>\n",
       "    </tr>\n",
       "    <tr>\n",
       "      <th>514694</th>\n",
       "      <td>2022-07-29</td>\n",
       "      <td>J UN Equity</td>\n",
       "      <td>137.3000</td>\n",
       "      <td>0.079997</td>\n",
       "      <td>178.2420</td>\n",
       "      <td>195.424000</td>\n",
       "      <td>1</td>\n",
       "    </tr>\n",
       "    <tr>\n",
       "      <th>514695</th>\n",
       "      <td>2022-08-30</td>\n",
       "      <td>J UN Equity</td>\n",
       "      <td>124.4400</td>\n",
       "      <td>-0.093664</td>\n",
       "      <td>171.9400</td>\n",
       "      <td>194.117333</td>\n",
       "      <td>1</td>\n",
       "    </tr>\n",
       "  </tbody>\n",
       "</table>\n",
       "<p>175504 rows × 7 columns</p>\n",
       "</div>"
      ],
      "text/plain": [
       "              date              permno     price      rets       sm5  \\\n",
       "14      1991-03-28  0111145D UN Equity   20.5625 -0.003030   21.3875   \n",
       "15      1991-04-30  0111145D UN Equity   21.3750  0.039514   21.0375   \n",
       "16      1991-05-31  0111145D UN Equity   21.0000 -0.017544   20.8375   \n",
       "17      1991-06-28  0111145D UN Equity   21.6250  0.029762   21.0375   \n",
       "18      1991-07-31  0111145D UN Equity   21.0625 -0.026012   21.1250   \n",
       "...            ...                 ...       ...       ...       ...   \n",
       "514691  2022-04-29         J UN Equity  138.5500  0.005370  200.6620   \n",
       "514692  2022-05-31         J UN Equity  140.0900  0.011115  186.0420   \n",
       "514693  2022-06-30         J UN Equity  127.1300 -0.092512  180.4620   \n",
       "514694  2022-07-29         J UN Equity  137.3000  0.079997  178.2420   \n",
       "514695  2022-08-30         J UN Equity  124.4400 -0.093664  171.9400   \n",
       "\n",
       "              sm15  signal  \n",
       "14       20.675000       0  \n",
       "15       20.720833       0  \n",
       "16       20.654167       0  \n",
       "17       20.795833       0  \n",
       "18       21.025000       0  \n",
       "...            ...     ...  \n",
       "514691  192.782667       0  \n",
       "514692  193.828667       1  \n",
       "514693  194.789333       1  \n",
       "514694  195.424000       1  \n",
       "514695  194.117333       1  \n",
       "\n",
       "[175504 rows x 7 columns]"
      ]
     },
     "execution_count": 78,
     "metadata": {},
     "output_type": "execute_result"
    }
   ],
   "source": [
    "data[\"signal\"] = np.where(data[\"sm15\"] > data[\"sm5\"], 1, 0)\n",
    "data"
   ]
  },
  {
   "cell_type": "code",
   "execution_count": 79,
   "id": "e7484a12",
   "metadata": {},
   "outputs": [
    {
     "name": "stderr",
     "output_type": "stream",
     "text": [
      "/var/folders/ch/yj3xbk4s1t34gtb89jtxcmcr0000gn/T/ipykernel_21676/281602730.py:1: SettingWithCopyWarning:\n",
      "\n",
      "\n",
      "A value is trying to be set on a copy of a slice from a DataFrame.\n",
      "Try using .loc[row_indexer,col_indexer] = value instead\n",
      "\n",
      "See the caveats in the documentation: https://pandas.pydata.org/pandas-docs/stable/user_guide/indexing.html#returning-a-view-versus-a-copy\n",
      "\n"
     ]
    }
   ],
   "source": [
    "data.loc[:,\"position\"] = data.groupby(\"permno\")[\"signal\"].diff()\n",
    "# position = 1 -> buy\n",
    "# position = -1 -> sell"
   ]
  },
  {
   "cell_type": "code",
   "execution_count": 80,
   "id": "831b0ab9",
   "metadata": {},
   "outputs": [],
   "source": [
    "# shift position (trading decision) by two days\n",
    "data.loc[:,\"position\"] = data.groupby(\"permno\")[\"position\"].shift(2)"
   ]
  },
  {
   "cell_type": "code",
   "execution_count": 81,
   "id": "1c6b0533",
   "metadata": {},
   "outputs": [
    {
     "data": {
      "text/html": [
       "<div>\n",
       "<style scoped>\n",
       "    .dataframe tbody tr th:only-of-type {\n",
       "        vertical-align: middle;\n",
       "    }\n",
       "\n",
       "    .dataframe tbody tr th {\n",
       "        vertical-align: top;\n",
       "    }\n",
       "\n",
       "    .dataframe thead th {\n",
       "        text-align: right;\n",
       "    }\n",
       "</style>\n",
       "<table border=\"1\" class=\"dataframe\">\n",
       "  <thead>\n",
       "    <tr style=\"text-align: right;\">\n",
       "      <th></th>\n",
       "      <th>date</th>\n",
       "      <th>permno</th>\n",
       "      <th>price</th>\n",
       "      <th>rets</th>\n",
       "      <th>sm5</th>\n",
       "      <th>sm15</th>\n",
       "      <th>signal</th>\n",
       "      <th>position</th>\n",
       "    </tr>\n",
       "  </thead>\n",
       "  <tbody>\n",
       "    <tr>\n",
       "      <th>14</th>\n",
       "      <td>1991-03-28</td>\n",
       "      <td>0111145D UN Equity</td>\n",
       "      <td>20.5625</td>\n",
       "      <td>-0.003030</td>\n",
       "      <td>21.3875</td>\n",
       "      <td>20.675000</td>\n",
       "      <td>0</td>\n",
       "      <td>NaN</td>\n",
       "    </tr>\n",
       "    <tr>\n",
       "      <th>15</th>\n",
       "      <td>1991-04-30</td>\n",
       "      <td>0111145D UN Equity</td>\n",
       "      <td>21.3750</td>\n",
       "      <td>0.039514</td>\n",
       "      <td>21.0375</td>\n",
       "      <td>20.720833</td>\n",
       "      <td>0</td>\n",
       "      <td>NaN</td>\n",
       "    </tr>\n",
       "    <tr>\n",
       "      <th>16</th>\n",
       "      <td>1991-05-31</td>\n",
       "      <td>0111145D UN Equity</td>\n",
       "      <td>21.0000</td>\n",
       "      <td>-0.017544</td>\n",
       "      <td>20.8375</td>\n",
       "      <td>20.654167</td>\n",
       "      <td>0</td>\n",
       "      <td>NaN</td>\n",
       "    </tr>\n",
       "    <tr>\n",
       "      <th>17</th>\n",
       "      <td>1991-06-28</td>\n",
       "      <td>0111145D UN Equity</td>\n",
       "      <td>21.6250</td>\n",
       "      <td>0.029762</td>\n",
       "      <td>21.0375</td>\n",
       "      <td>20.795833</td>\n",
       "      <td>0</td>\n",
       "      <td>0.0</td>\n",
       "    </tr>\n",
       "    <tr>\n",
       "      <th>18</th>\n",
       "      <td>1991-07-31</td>\n",
       "      <td>0111145D UN Equity</td>\n",
       "      <td>21.0625</td>\n",
       "      <td>-0.026012</td>\n",
       "      <td>21.1250</td>\n",
       "      <td>21.025000</td>\n",
       "      <td>0</td>\n",
       "      <td>0.0</td>\n",
       "    </tr>\n",
       "    <tr>\n",
       "      <th>...</th>\n",
       "      <td>...</td>\n",
       "      <td>...</td>\n",
       "      <td>...</td>\n",
       "      <td>...</td>\n",
       "      <td>...</td>\n",
       "      <td>...</td>\n",
       "      <td>...</td>\n",
       "      <td>...</td>\n",
       "    </tr>\n",
       "    <tr>\n",
       "      <th>514691</th>\n",
       "      <td>2022-04-29</td>\n",
       "      <td>J UN Equity</td>\n",
       "      <td>138.5500</td>\n",
       "      <td>0.005370</td>\n",
       "      <td>200.6620</td>\n",
       "      <td>192.782667</td>\n",
       "      <td>0</td>\n",
       "      <td>0.0</td>\n",
       "    </tr>\n",
       "    <tr>\n",
       "      <th>514692</th>\n",
       "      <td>2022-05-31</td>\n",
       "      <td>J UN Equity</td>\n",
       "      <td>140.0900</td>\n",
       "      <td>0.011115</td>\n",
       "      <td>186.0420</td>\n",
       "      <td>193.828667</td>\n",
       "      <td>1</td>\n",
       "      <td>0.0</td>\n",
       "    </tr>\n",
       "    <tr>\n",
       "      <th>514693</th>\n",
       "      <td>2022-06-30</td>\n",
       "      <td>J UN Equity</td>\n",
       "      <td>127.1300</td>\n",
       "      <td>-0.092512</td>\n",
       "      <td>180.4620</td>\n",
       "      <td>194.789333</td>\n",
       "      <td>1</td>\n",
       "      <td>0.0</td>\n",
       "    </tr>\n",
       "    <tr>\n",
       "      <th>514694</th>\n",
       "      <td>2022-07-29</td>\n",
       "      <td>J UN Equity</td>\n",
       "      <td>137.3000</td>\n",
       "      <td>0.079997</td>\n",
       "      <td>178.2420</td>\n",
       "      <td>195.424000</td>\n",
       "      <td>1</td>\n",
       "      <td>1.0</td>\n",
       "    </tr>\n",
       "    <tr>\n",
       "      <th>514695</th>\n",
       "      <td>2022-08-30</td>\n",
       "      <td>J UN Equity</td>\n",
       "      <td>124.4400</td>\n",
       "      <td>-0.093664</td>\n",
       "      <td>171.9400</td>\n",
       "      <td>194.117333</td>\n",
       "      <td>1</td>\n",
       "      <td>0.0</td>\n",
       "    </tr>\n",
       "  </tbody>\n",
       "</table>\n",
       "<p>175504 rows × 8 columns</p>\n",
       "</div>"
      ],
      "text/plain": [
       "              date              permno     price      rets       sm5  \\\n",
       "14      1991-03-28  0111145D UN Equity   20.5625 -0.003030   21.3875   \n",
       "15      1991-04-30  0111145D UN Equity   21.3750  0.039514   21.0375   \n",
       "16      1991-05-31  0111145D UN Equity   21.0000 -0.017544   20.8375   \n",
       "17      1991-06-28  0111145D UN Equity   21.6250  0.029762   21.0375   \n",
       "18      1991-07-31  0111145D UN Equity   21.0625 -0.026012   21.1250   \n",
       "...            ...                 ...       ...       ...       ...   \n",
       "514691  2022-04-29         J UN Equity  138.5500  0.005370  200.6620   \n",
       "514692  2022-05-31         J UN Equity  140.0900  0.011115  186.0420   \n",
       "514693  2022-06-30         J UN Equity  127.1300 -0.092512  180.4620   \n",
       "514694  2022-07-29         J UN Equity  137.3000  0.079997  178.2420   \n",
       "514695  2022-08-30         J UN Equity  124.4400 -0.093664  171.9400   \n",
       "\n",
       "              sm15  signal  position  \n",
       "14       20.675000       0       NaN  \n",
       "15       20.720833       0       NaN  \n",
       "16       20.654167       0       NaN  \n",
       "17       20.795833       0       0.0  \n",
       "18       21.025000       0       0.0  \n",
       "...            ...     ...       ...  \n",
       "514691  192.782667       0       0.0  \n",
       "514692  193.828667       1       0.0  \n",
       "514693  194.789333       1       0.0  \n",
       "514694  195.424000       1       1.0  \n",
       "514695  194.117333       1       0.0  \n",
       "\n",
       "[175504 rows x 8 columns]"
      ]
     },
     "execution_count": 81,
     "metadata": {},
     "output_type": "execute_result"
    }
   ],
   "source": [
    "data"
   ]
  },
  {
   "cell_type": "code",
   "execution_count": 82,
   "id": "48f2b758",
   "metadata": {},
   "outputs": [
    {
     "name": "stderr",
     "output_type": "stream",
     "text": [
      "/var/folders/ch/yj3xbk4s1t34gtb89jtxcmcr0000gn/T/ipykernel_21676/2007258890.py:2: SettingWithCopyWarning:\n",
      "\n",
      "\n",
      "A value is trying to be set on a copy of a slice from a DataFrame.\n",
      "Try using .loc[row_indexer,col_indexer] = value instead\n",
      "\n",
      "See the caveats in the documentation: https://pandas.pydata.org/pandas-docs/stable/user_guide/indexing.html#returning-a-view-versus-a-copy\n",
      "\n"
     ]
    }
   ],
   "source": [
    "# get returns for strategy\n",
    "data[\"mavg_rets\"] = data.groupby(\"permno\")[\"signal\"].shift(2) * data.rets"
   ]
  },
  {
   "cell_type": "markdown",
   "id": "f7404e5e",
   "metadata": {},
   "source": [
    "#### 5. Calculate Trading Return"
   ]
  },
  {
   "cell_type": "code",
   "execution_count": 83,
   "id": "aff602ae",
   "metadata": {},
   "outputs": [],
   "source": [
    "strategy_returns = data.groupby(\"date\")[\"mavg_rets\"].mean().reset_index()"
   ]
  },
  {
   "cell_type": "code",
   "execution_count": 84,
   "id": "c3ef5e47",
   "metadata": {},
   "outputs": [],
   "source": [
    "strategy_returns.date = pd.to_datetime(strategy_returns.date)"
   ]
  },
  {
   "cell_type": "code",
   "execution_count": 85,
   "id": "2dc22f1e",
   "metadata": {},
   "outputs": [],
   "source": [
    "strategy_returns = strategy_returns.dropna()"
   ]
  },
  {
   "cell_type": "code",
   "execution_count": 86,
   "id": "01e2e46c",
   "metadata": {},
   "outputs": [],
   "source": [
    "strategy_returns[\"mavg_cum_rets\"] = (strategy_returns.mavg_rets +1).cumprod()"
   ]
  },
  {
   "cell_type": "markdown",
   "id": "d2add79a",
   "metadata": {},
   "source": [
    "### Evaluation"
   ]
  },
  {
   "cell_type": "code",
   "execution_count": 87,
   "id": "fb1e2a61",
   "metadata": {
    "scrolled": false
   },
   "outputs": [
    {
     "name": "stderr",
     "output_type": "stream",
     "text": [
      "/Library/Frameworks/Python.framework/Versions/3.9/lib/python3.9/site-packages/_plotly_utils/basevalidators.py:105: FutureWarning:\n",
      "\n",
      "The behavior of DatetimeProperties.to_pydatetime is deprecated, in a future version this will return a Series containing python datetime objects instead of an ndarray. To retain the old behavior, call `np.array` on the result\n",
      "\n"
     ]
    },
    {
     "data": {
      "application/vnd.plotly.v1+json": {
       "config": {
        "plotlyServerURL": "https://plot.ly"
       },
       "data": [
        {
         "hovertemplate": "date=%{x}<br>Cumulative returns=%{y}<extra></extra>",
         "legendgroup": "",
         "line": {
          "color": "#636efa",
          "dash": "solid"
         },
         "marker": {
          "symbol": "circle"
         },
         "mode": "lines",
         "name": "",
         "orientation": "v",
         "showlegend": false,
         "type": "scatter",
         "x": [
          "1991-05-31T00:00:00",
          "1991-06-28T00:00:00",
          "1991-07-31T00:00:00",
          "1991-08-30T00:00:00",
          "1991-09-30T00:00:00",
          "1991-10-31T00:00:00",
          "1991-11-29T00:00:00",
          "1991-12-31T00:00:00",
          "1992-01-31T00:00:00",
          "1992-02-28T00:00:00",
          "1992-03-31T00:00:00",
          "1992-04-30T00:00:00",
          "1992-05-29T00:00:00",
          "1992-06-30T00:00:00",
          "1992-07-31T00:00:00",
          "1992-08-31T00:00:00",
          "1992-09-30T00:00:00",
          "1992-10-30T00:00:00",
          "1992-11-30T00:00:00",
          "1992-12-31T00:00:00",
          "1993-01-29T00:00:00",
          "1993-02-26T00:00:00",
          "1993-03-31T00:00:00",
          "1993-04-30T00:00:00",
          "1993-05-28T00:00:00",
          "1993-06-30T00:00:00",
          "1993-07-30T00:00:00",
          "1993-08-31T00:00:00",
          "1993-09-30T00:00:00",
          "1993-10-29T00:00:00",
          "1993-11-30T00:00:00",
          "1993-12-31T00:00:00",
          "1994-01-31T00:00:00",
          "1994-02-28T00:00:00",
          "1994-03-31T00:00:00",
          "1994-04-29T00:00:00",
          "1994-05-31T00:00:00",
          "1994-06-30T00:00:00",
          "1994-07-29T00:00:00",
          "1994-08-31T00:00:00",
          "1994-09-30T00:00:00",
          "1994-10-31T00:00:00",
          "1994-11-30T00:00:00",
          "1994-12-30T00:00:00",
          "1995-01-31T00:00:00",
          "1995-02-28T00:00:00",
          "1995-03-31T00:00:00",
          "1995-04-28T00:00:00",
          "1995-05-31T00:00:00",
          "1995-06-30T00:00:00",
          "1995-07-31T00:00:00",
          "1995-08-31T00:00:00",
          "1995-09-29T00:00:00",
          "1995-10-31T00:00:00",
          "1995-11-30T00:00:00",
          "1995-12-29T00:00:00",
          "1996-01-31T00:00:00",
          "1996-02-29T00:00:00",
          "1996-03-29T00:00:00",
          "1996-04-30T00:00:00",
          "1996-05-31T00:00:00",
          "1996-06-28T00:00:00",
          "1996-07-31T00:00:00",
          "1996-08-30T00:00:00",
          "1996-09-30T00:00:00",
          "1996-10-31T00:00:00",
          "1996-11-29T00:00:00",
          "1996-12-31T00:00:00",
          "1997-01-31T00:00:00",
          "1997-02-28T00:00:00",
          "1997-03-31T00:00:00",
          "1997-04-30T00:00:00",
          "1997-05-30T00:00:00",
          "1997-06-30T00:00:00",
          "1997-07-31T00:00:00",
          "1997-08-29T00:00:00",
          "1997-09-30T00:00:00",
          "1997-10-31T00:00:00",
          "1997-11-28T00:00:00",
          "1997-12-31T00:00:00",
          "1998-01-30T00:00:00",
          "1998-02-27T00:00:00",
          "1998-03-31T00:00:00",
          "1998-04-30T00:00:00",
          "1998-05-29T00:00:00",
          "1998-06-30T00:00:00",
          "1998-07-31T00:00:00",
          "1998-08-31T00:00:00",
          "1998-09-30T00:00:00",
          "1998-10-30T00:00:00",
          "1998-11-30T00:00:00",
          "1998-12-31T00:00:00",
          "1999-01-29T00:00:00",
          "1999-02-26T00:00:00",
          "1999-03-31T00:00:00",
          "1999-04-30T00:00:00",
          "1999-05-28T00:00:00",
          "1999-06-30T00:00:00",
          "1999-07-30T00:00:00",
          "1999-08-31T00:00:00",
          "1999-09-30T00:00:00",
          "1999-10-29T00:00:00",
          "1999-11-30T00:00:00",
          "1999-12-31T00:00:00",
          "2000-01-31T00:00:00",
          "2000-02-29T00:00:00",
          "2000-03-31T00:00:00",
          "2000-04-28T00:00:00",
          "2000-05-31T00:00:00",
          "2000-06-30T00:00:00",
          "2000-07-31T00:00:00",
          "2000-08-31T00:00:00",
          "2000-09-29T00:00:00",
          "2000-10-31T00:00:00",
          "2000-11-30T00:00:00",
          "2000-12-29T00:00:00",
          "2001-01-31T00:00:00",
          "2001-02-28T00:00:00",
          "2001-03-30T00:00:00",
          "2001-04-30T00:00:00",
          "2001-05-31T00:00:00",
          "2001-06-29T00:00:00",
          "2001-07-31T00:00:00",
          "2001-08-31T00:00:00",
          "2001-09-28T00:00:00",
          "2001-10-31T00:00:00",
          "2001-11-30T00:00:00",
          "2001-12-31T00:00:00",
          "2002-01-31T00:00:00",
          "2002-02-28T00:00:00",
          "2002-03-28T00:00:00",
          "2002-04-30T00:00:00",
          "2002-05-31T00:00:00",
          "2002-06-28T00:00:00",
          "2002-07-31T00:00:00",
          "2002-08-30T00:00:00",
          "2002-09-30T00:00:00",
          "2002-10-31T00:00:00",
          "2002-11-29T00:00:00",
          "2002-12-31T00:00:00",
          "2003-01-31T00:00:00",
          "2003-02-28T00:00:00",
          "2003-03-31T00:00:00",
          "2003-04-30T00:00:00",
          "2003-05-30T00:00:00",
          "2003-06-30T00:00:00",
          "2003-07-31T00:00:00",
          "2003-08-29T00:00:00",
          "2003-09-30T00:00:00",
          "2003-10-31T00:00:00",
          "2003-11-28T00:00:00",
          "2003-12-31T00:00:00",
          "2004-01-30T00:00:00",
          "2004-02-27T00:00:00",
          "2004-03-31T00:00:00",
          "2004-04-30T00:00:00",
          "2004-05-28T00:00:00",
          "2004-06-30T00:00:00",
          "2004-07-30T00:00:00",
          "2004-08-31T00:00:00",
          "2004-09-30T00:00:00",
          "2004-10-29T00:00:00",
          "2004-11-30T00:00:00",
          "2004-12-31T00:00:00",
          "2005-01-31T00:00:00",
          "2005-02-28T00:00:00",
          "2005-03-31T00:00:00",
          "2005-04-29T00:00:00",
          "2005-05-31T00:00:00",
          "2005-06-30T00:00:00",
          "2005-07-29T00:00:00",
          "2005-08-31T00:00:00",
          "2005-09-30T00:00:00",
          "2005-10-31T00:00:00",
          "2005-11-30T00:00:00",
          "2005-12-30T00:00:00",
          "2006-01-31T00:00:00",
          "2006-02-28T00:00:00",
          "2006-03-31T00:00:00",
          "2006-04-28T00:00:00",
          "2006-05-31T00:00:00",
          "2006-06-30T00:00:00",
          "2006-07-31T00:00:00",
          "2006-08-31T00:00:00",
          "2006-09-29T00:00:00",
          "2006-10-31T00:00:00",
          "2006-11-30T00:00:00",
          "2006-12-29T00:00:00",
          "2007-01-31T00:00:00",
          "2007-02-28T00:00:00",
          "2007-03-30T00:00:00",
          "2007-04-30T00:00:00",
          "2007-05-31T00:00:00",
          "2007-06-29T00:00:00",
          "2007-07-31T00:00:00",
          "2007-08-31T00:00:00",
          "2007-09-28T00:00:00",
          "2007-10-31T00:00:00",
          "2007-11-30T00:00:00",
          "2007-12-31T00:00:00",
          "2008-01-31T00:00:00",
          "2008-02-29T00:00:00",
          "2008-03-31T00:00:00",
          "2008-04-30T00:00:00",
          "2008-05-30T00:00:00",
          "2008-06-30T00:00:00",
          "2008-07-31T00:00:00",
          "2008-08-29T00:00:00",
          "2008-09-30T00:00:00",
          "2008-10-31T00:00:00",
          "2008-11-28T00:00:00",
          "2008-12-31T00:00:00",
          "2009-01-30T00:00:00",
          "2009-02-27T00:00:00",
          "2009-03-31T00:00:00",
          "2009-04-30T00:00:00",
          "2009-05-29T00:00:00",
          "2009-06-30T00:00:00",
          "2009-07-31T00:00:00",
          "2009-08-31T00:00:00",
          "2009-09-30T00:00:00",
          "2009-10-30T00:00:00",
          "2009-11-30T00:00:00",
          "2009-12-31T00:00:00",
          "2010-01-29T00:00:00",
          "2010-02-26T00:00:00",
          "2010-03-31T00:00:00",
          "2010-04-30T00:00:00",
          "2010-05-28T00:00:00",
          "2010-06-30T00:00:00",
          "2010-07-30T00:00:00",
          "2010-08-31T00:00:00",
          "2010-09-30T00:00:00",
          "2010-10-29T00:00:00",
          "2010-11-30T00:00:00",
          "2010-12-31T00:00:00",
          "2011-01-31T00:00:00",
          "2011-02-28T00:00:00",
          "2011-03-31T00:00:00",
          "2011-04-29T00:00:00",
          "2011-05-31T00:00:00",
          "2011-06-30T00:00:00",
          "2011-07-29T00:00:00",
          "2011-08-31T00:00:00",
          "2011-09-30T00:00:00",
          "2011-10-31T00:00:00",
          "2011-11-30T00:00:00",
          "2011-12-30T00:00:00",
          "2012-01-31T00:00:00",
          "2012-02-29T00:00:00",
          "2012-03-30T00:00:00",
          "2012-04-30T00:00:00",
          "2012-05-31T00:00:00",
          "2012-06-29T00:00:00",
          "2012-07-31T00:00:00",
          "2012-08-31T00:00:00",
          "2012-09-28T00:00:00",
          "2012-10-31T00:00:00",
          "2012-11-30T00:00:00",
          "2012-12-31T00:00:00",
          "2013-01-31T00:00:00",
          "2013-02-28T00:00:00",
          "2013-03-28T00:00:00",
          "2013-04-30T00:00:00",
          "2013-05-31T00:00:00",
          "2013-06-28T00:00:00",
          "2013-07-31T00:00:00",
          "2013-08-30T00:00:00",
          "2013-09-30T00:00:00",
          "2013-10-31T00:00:00",
          "2013-11-29T00:00:00",
          "2013-12-31T00:00:00",
          "2014-01-31T00:00:00",
          "2014-02-28T00:00:00",
          "2014-03-31T00:00:00",
          "2014-04-30T00:00:00",
          "2014-05-30T00:00:00",
          "2014-06-30T00:00:00",
          "2014-07-31T00:00:00",
          "2014-08-29T00:00:00",
          "2014-09-30T00:00:00",
          "2014-10-31T00:00:00",
          "2014-11-28T00:00:00",
          "2014-12-31T00:00:00",
          "2015-01-30T00:00:00",
          "2015-02-27T00:00:00",
          "2015-03-31T00:00:00",
          "2015-04-30T00:00:00",
          "2015-05-29T00:00:00",
          "2015-06-30T00:00:00",
          "2015-07-31T00:00:00",
          "2015-08-31T00:00:00",
          "2015-09-30T00:00:00",
          "2015-10-30T00:00:00",
          "2015-11-30T00:00:00",
          "2015-12-31T00:00:00",
          "2016-01-29T00:00:00",
          "2016-02-29T00:00:00",
          "2016-03-31T00:00:00",
          "2016-04-29T00:00:00",
          "2016-05-31T00:00:00",
          "2016-06-30T00:00:00",
          "2016-07-29T00:00:00",
          "2016-08-31T00:00:00",
          "2016-09-30T00:00:00",
          "2016-10-31T00:00:00",
          "2016-11-30T00:00:00",
          "2016-12-30T00:00:00",
          "2017-01-31T00:00:00",
          "2017-02-28T00:00:00",
          "2017-03-31T00:00:00",
          "2017-04-28T00:00:00",
          "2017-05-31T00:00:00",
          "2017-06-30T00:00:00",
          "2017-07-31T00:00:00",
          "2017-08-31T00:00:00",
          "2017-09-29T00:00:00",
          "2017-10-31T00:00:00",
          "2017-11-30T00:00:00",
          "2017-12-29T00:00:00",
          "2018-01-31T00:00:00",
          "2018-02-28T00:00:00",
          "2018-03-29T00:00:00",
          "2018-04-30T00:00:00",
          "2018-05-31T00:00:00",
          "2018-06-29T00:00:00",
          "2018-07-31T00:00:00",
          "2018-08-31T00:00:00",
          "2018-09-28T00:00:00",
          "2018-10-31T00:00:00",
          "2018-11-30T00:00:00",
          "2018-12-31T00:00:00",
          "2019-01-31T00:00:00",
          "2019-02-28T00:00:00",
          "2019-03-29T00:00:00",
          "2019-04-30T00:00:00",
          "2019-05-31T00:00:00",
          "2019-06-28T00:00:00",
          "2019-07-31T00:00:00",
          "2019-08-30T00:00:00",
          "2019-09-30T00:00:00",
          "2019-10-31T00:00:00",
          "2019-11-29T00:00:00",
          "2019-12-31T00:00:00",
          "2020-01-31T00:00:00",
          "2020-02-28T00:00:00",
          "2020-03-31T00:00:00",
          "2020-04-30T00:00:00",
          "2020-05-29T00:00:00",
          "2020-06-30T00:00:00",
          "2020-07-31T00:00:00",
          "2020-08-31T00:00:00",
          "2020-09-30T00:00:00",
          "2020-10-30T00:00:00",
          "2020-11-30T00:00:00",
          "2020-12-31T00:00:00",
          "2021-01-29T00:00:00",
          "2021-02-26T00:00:00",
          "2021-03-31T00:00:00",
          "2021-04-30T00:00:00",
          "2021-05-28T00:00:00",
          "2021-06-30T00:00:00",
          "2021-07-30T00:00:00",
          "2021-08-31T00:00:00",
          "2021-09-30T00:00:00",
          "2021-10-29T00:00:00",
          "2021-11-30T00:00:00",
          "2021-12-31T00:00:00",
          "2022-01-31T00:00:00",
          "2022-02-28T00:00:00",
          "2022-03-31T00:00:00",
          "2022-04-29T00:00:00",
          "2022-05-31T00:00:00",
          "2022-06-30T00:00:00",
          "2022-07-29T00:00:00",
          "2022-08-30T00:00:00"
         ],
         "xaxis": "x",
         "y": [
          1.0206467801102814,
          1.0007567247811893,
          1.016495090430283,
          1.0226431904844282,
          1.0229522036852683,
          1.026679766263284,
          1.017706850687448,
          1.035064016443993,
          1.0388222818499155,
          1.0461521393918851,
          1.0377104528305867,
          1.0432616380839492,
          1.046850600228779,
          1.0410791667921622,
          1.0534721540811995,
          1.0417331924970594,
          1.0502367804909163,
          1.0631974893652985,
          1.0825081784374344,
          1.0932229267617881,
          1.1022207096298497,
          1.0990158689381893,
          1.1125374736385953,
          1.1035267733810545,
          1.1130918176903775,
          1.114067543525715,
          1.1147620062491828,
          1.1283811338784864,
          1.1303820348413336,
          1.1338708708373457,
          1.1320032781182778,
          1.142623214883138,
          1.1571466343738113,
          1.1521350538819246,
          1.1312968926591624,
          1.1415734833368771,
          1.139591082643481,
          1.125806147706789,
          1.1467929555901304,
          1.1815288669206023,
          1.1696944183016404,
          1.1790705389576783,
          1.1526010554557682,
          1.1582873529637647,
          1.1628458607151217,
          1.1921587394182562,
          1.2115455255901197,
          1.2287210099255215,
          1.2497285956282576,
          1.2659280556350023,
          1.2814654214515795,
          1.2822170302254476,
          1.284813594782416,
          1.2837546679506306,
          1.2943295188092983,
          1.2965831960276823,
          1.3002608064667858,
          1.3036989563404624,
          1.3078258876323217,
          1.3239905820543318,
          1.3289020335107382,
          1.3257608641379728,
          1.3109002028453443,
          1.3252897124400558,
          1.3395083532215695,
          1.3410645912930736,
          1.3654785078517433,
          1.3643458429476585,
          1.3820313205598336,
          1.3856500157460019,
          1.371649881420264,
          1.3794382416650115,
          1.4175923270636368,
          1.4362072843774778,
          1.4668243256340465,
          1.4632163913197513,
          1.4855268570806555,
          1.4806454014151944,
          1.4840391471697616,
          1.4897721333480265,
          1.491889606116112,
          1.5074784690803973,
          1.5217713475767995,
          1.5304516402421977,
          1.51791004687564,
          1.5222510959015185,
          1.5038516273176943,
          1.4490196975206224,
          1.480235155322822,
          1.535612010940752,
          1.5758607377700287,
          1.615781804482902,
          1.630853567958758,
          1.596692312137294,
          1.6348025870848268,
          1.7157916124559396,
          1.7269507712033,
          1.7809881199733126,
          1.767210184352772,
          1.7666877992365588,
          1.7389381153252428,
          1.755565080748604,
          1.7739352152773318,
          1.809161016550473,
          1.7765022996273985,
          1.8005749643952549,
          1.893919169640127,
          1.8991876162312211,
          1.8952500863100685,
          1.9214712698175764,
          1.9364543783098018,
          2.038115861590179,
          2.0194134003697344,
          2.0174908537836913,
          1.957598590712391,
          2.022829231682982,
          2.069183202882196,
          2.026258474511199,
          1.9842098072060457,
          2.0550256593941647,
          2.072394674339008,
          2.079942516772644,
          2.0633428681635086,
          2.0385721219435244,
          1.9307887538256212,
          1.985303469571942,
          2.069714925722055,
          2.108570666340698,
          2.0928755124068954,
          2.0724080347723177,
          2.1638033443200935,
          2.1249727436596846,
          2.11235867476738,
          2.0545428500100047,
          1.9885658201742864,
          1.9974373643672547,
          1.906979316329946,
          1.9841401357514048,
          2.126250858687664,
          2.0522119204650626,
          2.0253998424244646,
          2.0033196067631245,
          2.0230065992686157,
          2.186580792599005,
          2.376930637953331,
          2.3904839142464573,
          2.4563247377829938,
          2.512426960760934,
          2.496005878890107,
          2.523719987624982,
          2.5290224577359974,
          2.5378287743395163,
          2.5420221653672135,
          2.550222815798045,
          2.5483371032878384,
          2.5444765531106692,
          2.5467073765066326,
          2.5531310112024834,
          2.540905186401314,
          2.5383062156331726,
          2.559457181757215,
          2.5768958347551667,
          2.6262821915155055,
          2.6551865009932363,
          2.6295052291318193,
          2.6447704519356368,
          2.6355335675388036,
          2.6142058665301304,
          2.64103333952888,
          2.6548193667047544,
          2.6927215210613755,
          2.6883418690432266,
          2.695371117652693,
          2.6769555570455865,
          2.7082123881520666,
          2.7140551573873966,
          2.7546538848153475,
          2.7570465224784155,
          2.7864581192270217,
          2.7922765239560374,
          2.765038708819444,
          2.759530992331247,
          2.740808396824166,
          2.762279664353351,
          2.785700363982112,
          2.826990893272229,
          2.86182674684996,
          2.857126350878751,
          2.888389175360061,
          2.8852966984717,
          2.8912007774072097,
          2.91481614535366,
          2.9347582899940474,
          2.9265212723822813,
          2.9077097097490245,
          2.911341444266622,
          2.9280312279315193,
          2.9482138984699273,
          2.9093700502400264,
          2.898850406429207,
          2.8361248965009147,
          2.7971967731031278,
          2.780660599542521,
          2.877892367859671,
          2.951347143862916,
          2.7602431590500465,
          2.777904001870519,
          2.8528696152028505,
          2.658760520915319,
          2.288954625432336,
          2.1029648440185795,
          2.1726190278975603,
          2.0257635194075365,
          1.8229158456152017,
          2.018622531887868,
          2.4601914201919737,
          2.6047678668661916,
          2.5916478969831602,
          2.8461726316519353,
          3.0062934525738,
          3.1673026800593638,
          3.092218730417908,
          3.1549629327241946,
          3.2010941709172753,
          3.190004270845282,
          3.209417505634399,
          3.2265477044066584,
          3.241572350061059,
          3.228617999423926,
          3.213921090462501,
          3.2367581874034004,
          3.2179437029829336,
          3.2811444987262646,
          3.311324927534075,
          3.334939593457921,
          3.4387857958436023,
          3.4726614177628305,
          3.5189148979418485,
          3.5252421548060546,
          3.539399677376256,
          3.542790726576198,
          3.5392751028847123,
          3.5259510941384535,
          3.5039130868769335,
          3.4744820359360316,
          3.570156296800974,
          3.5503387688139587,
          3.5264818622053844,
          3.6893541756303145,
          3.8147415326702463,
          3.8649641047805074,
          3.8441444369476425,
          3.7258219583186625,
          3.78421372672648,
          3.7832089885663165,
          3.8297956529996964,
          3.8607947522306056,
          3.8446050301411443,
          3.8684416097845853,
          3.9024697303063105,
          3.985625484705851,
          3.991858199242357,
          4.031779298931158,
          4.043248709045608,
          4.069131002079285,
          4.054582514731627,
          4.082399864273787,
          4.072837249845642,
          4.086770595924953,
          4.103209256040209,
          4.114510312378786,
          4.130170870726767,
          4.113169632843359,
          4.138607988910468,
          4.152177960624727,
          4.1475885538465,
          4.157858530841084,
          4.185261200191259,
          4.164070221146977,
          4.190947318538659,
          4.160837253764819,
          4.186191243677574,
          4.2115807677530395,
          4.207258208358142,
          4.173501578078732,
          4.241443798483774,
          4.224230274718124,
          4.239830098301409,
          4.2418344663089815,
          4.205857876030244,
          4.211987609003091,
          4.146401213261594,
          4.090872898961893,
          4.224865764282688,
          4.232972081018563,
          4.154360374655819,
          4.000045593486543,
          4.018387441686827,
          4.218029249210452,
          4.255514986815927,
          4.291775935556213,
          4.279516191861907,
          4.428969283523485,
          4.457239691974879,
          4.461428176294772,
          4.425985153088513,
          4.509601665462678,
          4.5295899261744275,
          4.571057110011517,
          4.60961728399223,
          4.5998291274537175,
          4.614896957822076,
          4.617473639969012,
          4.624065488857613,
          4.626617258237191,
          4.609862816920348,
          4.645730342844237,
          4.6562858788709525,
          4.679807250518546,
          4.695413435219048,
          4.751091128682391,
          4.697079613553546,
          4.691806773708922,
          4.703482474350096,
          4.756093634260959,
          4.7935732105136974,
          4.818383382311624,
          4.891682375479341,
          4.88865550046905,
          4.7465232804354285,
          4.792891821304421,
          4.578530485668964,
          4.790312841477699,
          4.900962748796994,
          4.901982575554928,
          4.979713624504317,
          4.704559168074698,
          4.886687527856364,
          4.8943087243367405,
          4.805951444442631,
          4.8714233106448805,
          4.897408628995271,
          4.965732128288493,
          5.036319430639098,
          4.994083526118498,
          4.846214183675271,
          4.568486172608434,
          4.774947945194538,
          4.85128067703543,
          4.9541134564270815,
          5.106372147530185,
          5.310600720496019,
          5.190022243183904,
          5.213361168513696,
          5.6949099298535515,
          5.839707494858086,
          5.8600205353105075,
          5.9858596722214195,
          6.099465775053025,
          6.160858334444334,
          6.170485473004188,
          6.171959519459948,
          6.176122260993497,
          6.190804069598293,
          6.18103633371847,
          6.194690920318205,
          6.189225129427895,
          6.213641214678368,
          6.143441685840366,
          6.113469042424109,
          6.17376059686169,
          6.03319574690611,
          6.042450733436313,
          5.781219316387167,
          6.06939242388835,
          5.990858631057639
         ],
         "yaxis": "y"
        }
       ],
       "layout": {
        "legend": {
         "tracegroupgap": 0
        },
        "template": {
         "data": {
          "bar": [
           {
            "error_x": {
             "color": "#2a3f5f"
            },
            "error_y": {
             "color": "#2a3f5f"
            },
            "marker": {
             "line": {
              "color": "#E5ECF6",
              "width": 0.5
             },
             "pattern": {
              "fillmode": "overlay",
              "size": 10,
              "solidity": 0.2
             }
            },
            "type": "bar"
           }
          ],
          "barpolar": [
           {
            "marker": {
             "line": {
              "color": "#E5ECF6",
              "width": 0.5
             },
             "pattern": {
              "fillmode": "overlay",
              "size": 10,
              "solidity": 0.2
             }
            },
            "type": "barpolar"
           }
          ],
          "carpet": [
           {
            "aaxis": {
             "endlinecolor": "#2a3f5f",
             "gridcolor": "white",
             "linecolor": "white",
             "minorgridcolor": "white",
             "startlinecolor": "#2a3f5f"
            },
            "baxis": {
             "endlinecolor": "#2a3f5f",
             "gridcolor": "white",
             "linecolor": "white",
             "minorgridcolor": "white",
             "startlinecolor": "#2a3f5f"
            },
            "type": "carpet"
           }
          ],
          "choropleth": [
           {
            "colorbar": {
             "outlinewidth": 0,
             "ticks": ""
            },
            "type": "choropleth"
           }
          ],
          "contour": [
           {
            "colorbar": {
             "outlinewidth": 0,
             "ticks": ""
            },
            "colorscale": [
             [
              0,
              "#0d0887"
             ],
             [
              0.1111111111111111,
              "#46039f"
             ],
             [
              0.2222222222222222,
              "#7201a8"
             ],
             [
              0.3333333333333333,
              "#9c179e"
             ],
             [
              0.4444444444444444,
              "#bd3786"
             ],
             [
              0.5555555555555556,
              "#d8576b"
             ],
             [
              0.6666666666666666,
              "#ed7953"
             ],
             [
              0.7777777777777778,
              "#fb9f3a"
             ],
             [
              0.8888888888888888,
              "#fdca26"
             ],
             [
              1,
              "#f0f921"
             ]
            ],
            "type": "contour"
           }
          ],
          "contourcarpet": [
           {
            "colorbar": {
             "outlinewidth": 0,
             "ticks": ""
            },
            "type": "contourcarpet"
           }
          ],
          "heatmap": [
           {
            "colorbar": {
             "outlinewidth": 0,
             "ticks": ""
            },
            "colorscale": [
             [
              0,
              "#0d0887"
             ],
             [
              0.1111111111111111,
              "#46039f"
             ],
             [
              0.2222222222222222,
              "#7201a8"
             ],
             [
              0.3333333333333333,
              "#9c179e"
             ],
             [
              0.4444444444444444,
              "#bd3786"
             ],
             [
              0.5555555555555556,
              "#d8576b"
             ],
             [
              0.6666666666666666,
              "#ed7953"
             ],
             [
              0.7777777777777778,
              "#fb9f3a"
             ],
             [
              0.8888888888888888,
              "#fdca26"
             ],
             [
              1,
              "#f0f921"
             ]
            ],
            "type": "heatmap"
           }
          ],
          "heatmapgl": [
           {
            "colorbar": {
             "outlinewidth": 0,
             "ticks": ""
            },
            "colorscale": [
             [
              0,
              "#0d0887"
             ],
             [
              0.1111111111111111,
              "#46039f"
             ],
             [
              0.2222222222222222,
              "#7201a8"
             ],
             [
              0.3333333333333333,
              "#9c179e"
             ],
             [
              0.4444444444444444,
              "#bd3786"
             ],
             [
              0.5555555555555556,
              "#d8576b"
             ],
             [
              0.6666666666666666,
              "#ed7953"
             ],
             [
              0.7777777777777778,
              "#fb9f3a"
             ],
             [
              0.8888888888888888,
              "#fdca26"
             ],
             [
              1,
              "#f0f921"
             ]
            ],
            "type": "heatmapgl"
           }
          ],
          "histogram": [
           {
            "marker": {
             "pattern": {
              "fillmode": "overlay",
              "size": 10,
              "solidity": 0.2
             }
            },
            "type": "histogram"
           }
          ],
          "histogram2d": [
           {
            "colorbar": {
             "outlinewidth": 0,
             "ticks": ""
            },
            "colorscale": [
             [
              0,
              "#0d0887"
             ],
             [
              0.1111111111111111,
              "#46039f"
             ],
             [
              0.2222222222222222,
              "#7201a8"
             ],
             [
              0.3333333333333333,
              "#9c179e"
             ],
             [
              0.4444444444444444,
              "#bd3786"
             ],
             [
              0.5555555555555556,
              "#d8576b"
             ],
             [
              0.6666666666666666,
              "#ed7953"
             ],
             [
              0.7777777777777778,
              "#fb9f3a"
             ],
             [
              0.8888888888888888,
              "#fdca26"
             ],
             [
              1,
              "#f0f921"
             ]
            ],
            "type": "histogram2d"
           }
          ],
          "histogram2dcontour": [
           {
            "colorbar": {
             "outlinewidth": 0,
             "ticks": ""
            },
            "colorscale": [
             [
              0,
              "#0d0887"
             ],
             [
              0.1111111111111111,
              "#46039f"
             ],
             [
              0.2222222222222222,
              "#7201a8"
             ],
             [
              0.3333333333333333,
              "#9c179e"
             ],
             [
              0.4444444444444444,
              "#bd3786"
             ],
             [
              0.5555555555555556,
              "#d8576b"
             ],
             [
              0.6666666666666666,
              "#ed7953"
             ],
             [
              0.7777777777777778,
              "#fb9f3a"
             ],
             [
              0.8888888888888888,
              "#fdca26"
             ],
             [
              1,
              "#f0f921"
             ]
            ],
            "type": "histogram2dcontour"
           }
          ],
          "mesh3d": [
           {
            "colorbar": {
             "outlinewidth": 0,
             "ticks": ""
            },
            "type": "mesh3d"
           }
          ],
          "parcoords": [
           {
            "line": {
             "colorbar": {
              "outlinewidth": 0,
              "ticks": ""
             }
            },
            "type": "parcoords"
           }
          ],
          "pie": [
           {
            "automargin": true,
            "type": "pie"
           }
          ],
          "scatter": [
           {
            "fillpattern": {
             "fillmode": "overlay",
             "size": 10,
             "solidity": 0.2
            },
            "type": "scatter"
           }
          ],
          "scatter3d": [
           {
            "line": {
             "colorbar": {
              "outlinewidth": 0,
              "ticks": ""
             }
            },
            "marker": {
             "colorbar": {
              "outlinewidth": 0,
              "ticks": ""
             }
            },
            "type": "scatter3d"
           }
          ],
          "scattercarpet": [
           {
            "marker": {
             "colorbar": {
              "outlinewidth": 0,
              "ticks": ""
             }
            },
            "type": "scattercarpet"
           }
          ],
          "scattergeo": [
           {
            "marker": {
             "colorbar": {
              "outlinewidth": 0,
              "ticks": ""
             }
            },
            "type": "scattergeo"
           }
          ],
          "scattergl": [
           {
            "marker": {
             "colorbar": {
              "outlinewidth": 0,
              "ticks": ""
             }
            },
            "type": "scattergl"
           }
          ],
          "scattermapbox": [
           {
            "marker": {
             "colorbar": {
              "outlinewidth": 0,
              "ticks": ""
             }
            },
            "type": "scattermapbox"
           }
          ],
          "scatterpolar": [
           {
            "marker": {
             "colorbar": {
              "outlinewidth": 0,
              "ticks": ""
             }
            },
            "type": "scatterpolar"
           }
          ],
          "scatterpolargl": [
           {
            "marker": {
             "colorbar": {
              "outlinewidth": 0,
              "ticks": ""
             }
            },
            "type": "scatterpolargl"
           }
          ],
          "scatterternary": [
           {
            "marker": {
             "colorbar": {
              "outlinewidth": 0,
              "ticks": ""
             }
            },
            "type": "scatterternary"
           }
          ],
          "surface": [
           {
            "colorbar": {
             "outlinewidth": 0,
             "ticks": ""
            },
            "colorscale": [
             [
              0,
              "#0d0887"
             ],
             [
              0.1111111111111111,
              "#46039f"
             ],
             [
              0.2222222222222222,
              "#7201a8"
             ],
             [
              0.3333333333333333,
              "#9c179e"
             ],
             [
              0.4444444444444444,
              "#bd3786"
             ],
             [
              0.5555555555555556,
              "#d8576b"
             ],
             [
              0.6666666666666666,
              "#ed7953"
             ],
             [
              0.7777777777777778,
              "#fb9f3a"
             ],
             [
              0.8888888888888888,
              "#fdca26"
             ],
             [
              1,
              "#f0f921"
             ]
            ],
            "type": "surface"
           }
          ],
          "table": [
           {
            "cells": {
             "fill": {
              "color": "#EBF0F8"
             },
             "line": {
              "color": "white"
             }
            },
            "header": {
             "fill": {
              "color": "#C8D4E3"
             },
             "line": {
              "color": "white"
             }
            },
            "type": "table"
           }
          ]
         },
         "layout": {
          "annotationdefaults": {
           "arrowcolor": "#2a3f5f",
           "arrowhead": 0,
           "arrowwidth": 1
          },
          "autotypenumbers": "strict",
          "coloraxis": {
           "colorbar": {
            "outlinewidth": 0,
            "ticks": ""
           }
          },
          "colorscale": {
           "diverging": [
            [
             0,
             "#8e0152"
            ],
            [
             0.1,
             "#c51b7d"
            ],
            [
             0.2,
             "#de77ae"
            ],
            [
             0.3,
             "#f1b6da"
            ],
            [
             0.4,
             "#fde0ef"
            ],
            [
             0.5,
             "#f7f7f7"
            ],
            [
             0.6,
             "#e6f5d0"
            ],
            [
             0.7,
             "#b8e186"
            ],
            [
             0.8,
             "#7fbc41"
            ],
            [
             0.9,
             "#4d9221"
            ],
            [
             1,
             "#276419"
            ]
           ],
           "sequential": [
            [
             0,
             "#0d0887"
            ],
            [
             0.1111111111111111,
             "#46039f"
            ],
            [
             0.2222222222222222,
             "#7201a8"
            ],
            [
             0.3333333333333333,
             "#9c179e"
            ],
            [
             0.4444444444444444,
             "#bd3786"
            ],
            [
             0.5555555555555556,
             "#d8576b"
            ],
            [
             0.6666666666666666,
             "#ed7953"
            ],
            [
             0.7777777777777778,
             "#fb9f3a"
            ],
            [
             0.8888888888888888,
             "#fdca26"
            ],
            [
             1,
             "#f0f921"
            ]
           ],
           "sequentialminus": [
            [
             0,
             "#0d0887"
            ],
            [
             0.1111111111111111,
             "#46039f"
            ],
            [
             0.2222222222222222,
             "#7201a8"
            ],
            [
             0.3333333333333333,
             "#9c179e"
            ],
            [
             0.4444444444444444,
             "#bd3786"
            ],
            [
             0.5555555555555556,
             "#d8576b"
            ],
            [
             0.6666666666666666,
             "#ed7953"
            ],
            [
             0.7777777777777778,
             "#fb9f3a"
            ],
            [
             0.8888888888888888,
             "#fdca26"
            ],
            [
             1,
             "#f0f921"
            ]
           ]
          },
          "colorway": [
           "#636efa",
           "#EF553B",
           "#00cc96",
           "#ab63fa",
           "#FFA15A",
           "#19d3f3",
           "#FF6692",
           "#B6E880",
           "#FF97FF",
           "#FECB52"
          ],
          "font": {
           "color": "#2a3f5f"
          },
          "geo": {
           "bgcolor": "white",
           "lakecolor": "white",
           "landcolor": "#E5ECF6",
           "showlakes": true,
           "showland": true,
           "subunitcolor": "white"
          },
          "hoverlabel": {
           "align": "left"
          },
          "hovermode": "closest",
          "mapbox": {
           "style": "light"
          },
          "paper_bgcolor": "white",
          "plot_bgcolor": "#E5ECF6",
          "polar": {
           "angularaxis": {
            "gridcolor": "white",
            "linecolor": "white",
            "ticks": ""
           },
           "bgcolor": "#E5ECF6",
           "radialaxis": {
            "gridcolor": "white",
            "linecolor": "white",
            "ticks": ""
           }
          },
          "scene": {
           "xaxis": {
            "backgroundcolor": "#E5ECF6",
            "gridcolor": "white",
            "gridwidth": 2,
            "linecolor": "white",
            "showbackground": true,
            "ticks": "",
            "zerolinecolor": "white"
           },
           "yaxis": {
            "backgroundcolor": "#E5ECF6",
            "gridcolor": "white",
            "gridwidth": 2,
            "linecolor": "white",
            "showbackground": true,
            "ticks": "",
            "zerolinecolor": "white"
           },
           "zaxis": {
            "backgroundcolor": "#E5ECF6",
            "gridcolor": "white",
            "gridwidth": 2,
            "linecolor": "white",
            "showbackground": true,
            "ticks": "",
            "zerolinecolor": "white"
           }
          },
          "shapedefaults": {
           "line": {
            "color": "#2a3f5f"
           }
          },
          "ternary": {
           "aaxis": {
            "gridcolor": "white",
            "linecolor": "white",
            "ticks": ""
           },
           "baxis": {
            "gridcolor": "white",
            "linecolor": "white",
            "ticks": ""
           },
           "bgcolor": "#E5ECF6",
           "caxis": {
            "gridcolor": "white",
            "linecolor": "white",
            "ticks": ""
           }
          },
          "title": {
           "x": 0.05
          },
          "xaxis": {
           "automargin": true,
           "gridcolor": "white",
           "linecolor": "white",
           "ticks": "",
           "title": {
            "standoff": 15
           },
           "zerolinecolor": "white",
           "zerolinewidth": 2
          },
          "yaxis": {
           "automargin": true,
           "gridcolor": "white",
           "linecolor": "white",
           "ticks": "",
           "title": {
            "standoff": 15
           },
           "zerolinecolor": "white",
           "zerolinewidth": 2
          }
         }
        },
        "title": {
         "text": "Moving Average Returns"
        },
        "xaxis": {
         "anchor": "y",
         "domain": [
          0,
          1
         ],
         "title": {
          "text": "date"
         }
        },
        "yaxis": {
         "anchor": "x",
         "domain": [
          0,
          1
         ],
         "title": {
          "text": "Cumulative returns"
         }
        }
       }
      }
     },
     "metadata": {},
     "output_type": "display_data"
    }
   ],
   "source": [
    "px.line(strategy_returns, y='mavg_cum_rets', x='date', labels={'mavg_cum_rets': 'Cumulative returns'}, title = 'Moving Average Returns').show()"
   ]
  },
  {
   "cell_type": "code",
   "execution_count": 88,
   "id": "57bd7d0f",
   "metadata": {},
   "outputs": [
    {
     "data": {
      "application/vnd.plotly.v1+json": {
       "config": {
        "plotlyServerURL": "https://plot.ly"
       },
       "data": [
        {
         "alignmentgroup": "True",
         "bingroup": "x",
         "hovertemplate": "variable=mavg_rets<br>value=%{x}<br>count=%{y}<extra></extra>",
         "legendgroup": "mavg_rets",
         "marker": {
          "color": "#636efa",
          "pattern": {
           "shape": ""
          }
         },
         "name": "mavg_rets",
         "offsetgroup": "mavg_rets",
         "orientation": "v",
         "showlegend": true,
         "type": "histogram",
         "x": [
          0.02064678011028149,
          -0.019487697131560906,
          0.015726465043274896,
          0.006048332266457408,
          0.0003021710834389954,
          0.0036439264362371645,
          -0.008739741320211143,
          0.017055172366011184,
          0.0036309497250556592,
          0.007055930229872088,
          -0.008069272377730405,
          0.005349454887170495,
          0.0034401362168565252,
          -0.005513139540021722,
          0.011903981641687754,
          -0.011143115210651594,
          0.008162923150671256,
          0.012340749357800853,
          0.01816284299510902,
          0.00989807609566525,
          0.008230510582790113,
          -0.002907621553161388,
          0.012303375303825099,
          -0.008099233033536352,
          0.008667704798875867,
          0.000876590609894266,
          0.0006233578273628803,
          0.012217071942672018,
          0.0017732492176376325,
          0.0030864220135114746,
          -0.0016470947151934353,
          0.009381542412592276,
          0.012710593747352334,
          -0.004330981349307233,
          -0.018086561252130644,
          0.009083902505520965,
          -0.0017365511045346555,
          -0.012096387157326126,
          0.018641582235174627,
          0.030289609960672755,
          -0.010016216234992029,
          0.008015871931450034,
          -0.022449448635456264,
          0.00493344811813311,
          0.003935558598384942,
          0.0252078798174573,
          0.016261916748875102,
          0.014176507586898889,
          0.01709711605241397,
          0.012962382443206431,
          0.012273498282478092,
          0.0005865228677155929,
          0.002025058547624997,
          -0.0008241871319587178,
          0.008237439070464543,
          0.0017411927840888645,
          0.0028363860108403327,
          0.0026442001916670266,
          0.0031655554158330408,
          0.012359974347406925,
          0.0037095818678600195,
          -0.0023637328362475516,
          -0.011209156714918704,
          0.010976815445964998,
          0.010728703805702318,
          0.00116179795949865,
          0.018204877466139992,
          -0.0008295003528592695,
          0.0129626060016907,
          0.0026183886952015575,
          -0.010103658331213166,
          0.005678096393434723,
          0.02765914721384867,
          0.013131389722177454,
          0.021317982153139996,
          -0.002459690810442279,
          0.015247550460244076,
          -0.0032860097023449286,
          0.0022920719243941035,
          0.00386309632680404,
          0.001421340029583447,
          0.010449072706437195,
          0.00948131518264505,
          0.005704071560566627,
          -0.008194700856129656,
          0.002859885560948739,
          -0.012087012867563555,
          -0.036460997083117494,
          0.02154246616220011,
          0.037410850173905705,
          0.026210218819934367,
          0.02533286460919434,
          0.009327845773507312,
          -0.020946856598671515,
          0.023868264823370566,
          0.04954055371023847,
          0.006503796070775441,
          0.03129061330008885,
          -0.007736118768016863,
          -0.00029559874701864675,
          -0.01570718036503533,
          0.00956156247127368,
          0.010463943906251784,
          0.019857433895991643,
          -0.018051857531920935,
          0.013550595894475086,
          0.0518413324025212,
          0.0027817695050287856,
          -0.002073270638193288,
          0.013835210295945153,
          0.007797727047799181,
          0.0524987752973093,
          -0.009176348397510947,
          -0.0009520322018715705,
          -0.029686510329886104,
          0.03332176539157218,
          0.022915414941205033,
          -0.02074476939074646,
          -0.020751877331591173,
          0.03568969971367823,
          0.00845196986492305,
          0.0036420873529044557,
          -0.007980820852151417,
          -0.012005152707379042,
          -0.052871991605156085,
          0.02823442784111236,
          0.04251816281181079,
          0.01877347461515153,
          -0.007443503878881439,
          -0.009779596308162239,
          0.04410102065533471,
          -0.017945531308257576,
          -0.005936108559481974,
          -0.027370268812772734,
          -0.03211275434600789,
          0.004461277621773956,
          -0.04528705112411065,
          0.040462326340254956,
          0.07162332961045674,
          -0.034821356059697675,
          -0.013064965549231335,
          -0.010901667512183447,
          0.009827185057755535,
          0.08085697465817798,
          0.08705365289890483,
          0.0057020074867630876,
          0.02754288499669364,
          0.022839904722278946,
          -0.006535943980577904,
          0.011103382796197079,
          0.0021010532614615073,
          0.003482102966931435,
          0.001652353803415485,
          0.003226034195357668,
          -0.0007394304915339539,
          -0.0015149291560321654,
          0.0008767317557854342,
          0.0025223293241732714,
          -0.004788561475116565,
          -0.001022852321310851,
          0.00833270863608813,
          0.0068134185335261555,
          0.01916505746730391,
          0.011005789694309766,
          -0.009672116008352008,
          0.005805359363691938,
          -0.003492508920792361,
          -0.00809236553514668,
          0.010262188354109194,
          0.0052199368215223125,
          0.014276735672478601,
          -0.0016264778900800597,
          0.0026147152973398998,
          -0.006832291288757285,
          0.0116762607523365,
          0.002157426522709581,
          0.01495869651633474,
          0.0008685801422303982,
          0.010667791242843007,
          0.0020881005491767187,
          -0.009754698326941976,
          -0.001991912977792876,
          -0.006784702023318968,
          0.0078339177426866,
          0.008478757575128996,
          0.014822315358817952,
          0.012322591367603766,
          -0.0016424460273084948,
          0.010942051782797167,
          -0.001070657969065272,
          0.0020462640596501987,
          0.008168013833901956,
          0.006841647515976822,
          -0.0028067107399782285,
          -0.006427960326406053,
          0.0012490017505601757,
          0.00573267821188219,
          0.006892915057011184,
          -0.013175383322784147,
          -0.003615780608572349,
          -0.021638063761129905,
          -0.013725814207200312,
          -0.005911694779435201,
          0.03496714713516151,
          0.025523809306973632,
          -0.0647514424761094,
          0.006398292397743065,
          0.026986394519700196,
          -0.06803994590328657,
          -0.1390895842532187,
          -0.08125533785040709,
          0.033121896486808494,
          -0.0675937689048668,
          -0.10013393559958089,
          0.10735914482471293,
          0.21874762682408924,
          0.05876634049188599,
          -0.005036905610639295,
          0.09820961210242261,
          0.056258295488186776,
          0.05355738886625234,
          -0.02370595968429787,
          0.020290997428182203,
          0.014621800375083363,
          -0.003464409192565441,
          0.006085645391306278,
          0.005337479072818026,
          0.004656570127223247,
          -0.003996316983913319,
          -0.004552074281951986,
          0.007105680661752948,
          -0.005812755643497803,
          0.019640118528097796,
          0.00919814071569432,
          0.0071314855656378255,
          0.031138855585088956,
          0.009851041597348857,
          0.013319317553513616,
          0.0017980704415178298,
          0.004016042571969157,
          0.0009580859775790297,
          -0.0009923317415035102,
          -0.003764615170885979,
          -0.006250230554291086,
          -0.008399480869296837,
          0.02753626580175057,
          -0.0055508852665001555,
          -0.006719614144467714,
          0.046185495853670246,
          0.033986261841751714,
          0.013165393167569617,
          -0.005386768743107684,
          -0.0307799253045058,
          0.015672184302163515,
          -0.00026550777327067455,
          0.0123140605169249,
          0.008094191450300776,
          -0.004193365130354906,
          0.0062000074016878,
          0.008796338152204833,
          0.021308494401316977,
          0.0015637983449329621,
          0.010000630707868751,
          0.002844751476721509,
          0.006401360612759732,
          -0.003575330295393161,
          0.006860718567470473,
          -0.0023424002415418184,
          0.0034210417025231678,
          0.004022408336706712,
          0.0027541993677122696,
          0.0038061779310324013,
          -0.004116352183854282,
          0.006184611464595377,
          0.003278873416042555,
          -0.0011053010785541982,
          0.0024761320611370124,
          0.006590572802540966,
          -0.005063239313071672,
          0.006454525491714299,
          -0.0071845486199858056,
          0.006093482721491797,
          0.006065065496902678,
          -0.0010263508248481406,
          -0.008023427279159698,
          0.016279428468868127,
          -0.004058411376758787,
          0.003692938729370206,
          0.0004727472472009875,
          -0.008481375349388021,
          0.0014574275102784014,
          -0.015571364835287439,
          -0.013391929879362002,
          0.032754101295788915,
          0.0019187158097203336,
          -0.01857127920008111,
          -0.03714525636983544,
          0.004585409783866247,
          0.04968207033810057,
          0.008887026473913501,
          0.008520930804526866,
          -0.002856566577191778,
          0.03492289430889029,
          0.006383067174695627,
          0.0009397036303510429,
          -0.007944322267605103,
          0.018892180945481906,
          0.004432378332843075,
          0.009154732440009678,
          0.008435723521427676,
          -0.0021234206519711862,
          0.0032757369786689545,
          0.000558340125572865,
          0.0014275877682421157,
          0.0005518454238433179,
          -0.0036213156139106605,
          0.0077806059200370365,
          0.0022720939976583446,
          0.0050515308250998255,
          0.0033347921965746177,
          0.01185788945563759,
          -0.011368233878482554,
          -0.0011225783419572112,
          0.0024885297294424654,
          0.0111855758361537,
          0.007880327666964159,
          0.00517571563181949,
          0.015212362187035498,
          -0.0006187799570682214,
          -0.02907388749728518,
          0.009768948371140854,
          -0.044724843294526216,
          0.04625553034355128,
          0.023098680812913722,
          0.0002080870249795464,
          0.015857063494475892,
          -0.055255076331223424,
          0.03871316169591318,
          0.0015595833449410697,
          -0.018053066300202293,
          0.013623081081678147,
          0.005334235333974916,
          0.01395094926094378,
          0.014214883229098951,
          -0.008386264037116682,
          -0.029608904550732333,
          -0.05730824114261777,
          0.04519260095915341,
          0.015986086700214952,
          0.021197037697371912,
          0.030733791715160483,
          0.0399948470392262,
          -0.02270524252496484,
          0.0044968834883979455,
          0.09236819506160214,
          0.025425786674076085,
          0.0034784345740445574,
          0.021474180193166232,
          0.01897907887129682,
          0.010065235490361387,
          0.0015626294320111862,
          0.00023888662605383936,
          0.0006744602780404229,
          0.0023771887900475115,
          -0.0015777814594052399,
          0.002209109583331038,
          -0.0008823347218798423,
          0.0039449340975469226,
          -0.011297647613153328,
          -0.004878803274936208,
          0.00986208550647605,
          -0.02276810831100795,
          0.0015340106501516484,
          -0.04323269292103687,
          0.04984642369202985,
          -0.012939317042940143
         ],
         "xaxis": "x",
         "yaxis": "y"
        }
       ],
       "layout": {
        "barmode": "relative",
        "legend": {
         "title": {
          "text": "variable"
         },
         "tracegroupgap": 0
        },
        "margin": {
         "t": 60
        },
        "template": {
         "data": {
          "bar": [
           {
            "error_x": {
             "color": "#2a3f5f"
            },
            "error_y": {
             "color": "#2a3f5f"
            },
            "marker": {
             "line": {
              "color": "#E5ECF6",
              "width": 0.5
             },
             "pattern": {
              "fillmode": "overlay",
              "size": 10,
              "solidity": 0.2
             }
            },
            "type": "bar"
           }
          ],
          "barpolar": [
           {
            "marker": {
             "line": {
              "color": "#E5ECF6",
              "width": 0.5
             },
             "pattern": {
              "fillmode": "overlay",
              "size": 10,
              "solidity": 0.2
             }
            },
            "type": "barpolar"
           }
          ],
          "carpet": [
           {
            "aaxis": {
             "endlinecolor": "#2a3f5f",
             "gridcolor": "white",
             "linecolor": "white",
             "minorgridcolor": "white",
             "startlinecolor": "#2a3f5f"
            },
            "baxis": {
             "endlinecolor": "#2a3f5f",
             "gridcolor": "white",
             "linecolor": "white",
             "minorgridcolor": "white",
             "startlinecolor": "#2a3f5f"
            },
            "type": "carpet"
           }
          ],
          "choropleth": [
           {
            "colorbar": {
             "outlinewidth": 0,
             "ticks": ""
            },
            "type": "choropleth"
           }
          ],
          "contour": [
           {
            "colorbar": {
             "outlinewidth": 0,
             "ticks": ""
            },
            "colorscale": [
             [
              0,
              "#0d0887"
             ],
             [
              0.1111111111111111,
              "#46039f"
             ],
             [
              0.2222222222222222,
              "#7201a8"
             ],
             [
              0.3333333333333333,
              "#9c179e"
             ],
             [
              0.4444444444444444,
              "#bd3786"
             ],
             [
              0.5555555555555556,
              "#d8576b"
             ],
             [
              0.6666666666666666,
              "#ed7953"
             ],
             [
              0.7777777777777778,
              "#fb9f3a"
             ],
             [
              0.8888888888888888,
              "#fdca26"
             ],
             [
              1,
              "#f0f921"
             ]
            ],
            "type": "contour"
           }
          ],
          "contourcarpet": [
           {
            "colorbar": {
             "outlinewidth": 0,
             "ticks": ""
            },
            "type": "contourcarpet"
           }
          ],
          "heatmap": [
           {
            "colorbar": {
             "outlinewidth": 0,
             "ticks": ""
            },
            "colorscale": [
             [
              0,
              "#0d0887"
             ],
             [
              0.1111111111111111,
              "#46039f"
             ],
             [
              0.2222222222222222,
              "#7201a8"
             ],
             [
              0.3333333333333333,
              "#9c179e"
             ],
             [
              0.4444444444444444,
              "#bd3786"
             ],
             [
              0.5555555555555556,
              "#d8576b"
             ],
             [
              0.6666666666666666,
              "#ed7953"
             ],
             [
              0.7777777777777778,
              "#fb9f3a"
             ],
             [
              0.8888888888888888,
              "#fdca26"
             ],
             [
              1,
              "#f0f921"
             ]
            ],
            "type": "heatmap"
           }
          ],
          "heatmapgl": [
           {
            "colorbar": {
             "outlinewidth": 0,
             "ticks": ""
            },
            "colorscale": [
             [
              0,
              "#0d0887"
             ],
             [
              0.1111111111111111,
              "#46039f"
             ],
             [
              0.2222222222222222,
              "#7201a8"
             ],
             [
              0.3333333333333333,
              "#9c179e"
             ],
             [
              0.4444444444444444,
              "#bd3786"
             ],
             [
              0.5555555555555556,
              "#d8576b"
             ],
             [
              0.6666666666666666,
              "#ed7953"
             ],
             [
              0.7777777777777778,
              "#fb9f3a"
             ],
             [
              0.8888888888888888,
              "#fdca26"
             ],
             [
              1,
              "#f0f921"
             ]
            ],
            "type": "heatmapgl"
           }
          ],
          "histogram": [
           {
            "marker": {
             "pattern": {
              "fillmode": "overlay",
              "size": 10,
              "solidity": 0.2
             }
            },
            "type": "histogram"
           }
          ],
          "histogram2d": [
           {
            "colorbar": {
             "outlinewidth": 0,
             "ticks": ""
            },
            "colorscale": [
             [
              0,
              "#0d0887"
             ],
             [
              0.1111111111111111,
              "#46039f"
             ],
             [
              0.2222222222222222,
              "#7201a8"
             ],
             [
              0.3333333333333333,
              "#9c179e"
             ],
             [
              0.4444444444444444,
              "#bd3786"
             ],
             [
              0.5555555555555556,
              "#d8576b"
             ],
             [
              0.6666666666666666,
              "#ed7953"
             ],
             [
              0.7777777777777778,
              "#fb9f3a"
             ],
             [
              0.8888888888888888,
              "#fdca26"
             ],
             [
              1,
              "#f0f921"
             ]
            ],
            "type": "histogram2d"
           }
          ],
          "histogram2dcontour": [
           {
            "colorbar": {
             "outlinewidth": 0,
             "ticks": ""
            },
            "colorscale": [
             [
              0,
              "#0d0887"
             ],
             [
              0.1111111111111111,
              "#46039f"
             ],
             [
              0.2222222222222222,
              "#7201a8"
             ],
             [
              0.3333333333333333,
              "#9c179e"
             ],
             [
              0.4444444444444444,
              "#bd3786"
             ],
             [
              0.5555555555555556,
              "#d8576b"
             ],
             [
              0.6666666666666666,
              "#ed7953"
             ],
             [
              0.7777777777777778,
              "#fb9f3a"
             ],
             [
              0.8888888888888888,
              "#fdca26"
             ],
             [
              1,
              "#f0f921"
             ]
            ],
            "type": "histogram2dcontour"
           }
          ],
          "mesh3d": [
           {
            "colorbar": {
             "outlinewidth": 0,
             "ticks": ""
            },
            "type": "mesh3d"
           }
          ],
          "parcoords": [
           {
            "line": {
             "colorbar": {
              "outlinewidth": 0,
              "ticks": ""
             }
            },
            "type": "parcoords"
           }
          ],
          "pie": [
           {
            "automargin": true,
            "type": "pie"
           }
          ],
          "scatter": [
           {
            "fillpattern": {
             "fillmode": "overlay",
             "size": 10,
             "solidity": 0.2
            },
            "type": "scatter"
           }
          ],
          "scatter3d": [
           {
            "line": {
             "colorbar": {
              "outlinewidth": 0,
              "ticks": ""
             }
            },
            "marker": {
             "colorbar": {
              "outlinewidth": 0,
              "ticks": ""
             }
            },
            "type": "scatter3d"
           }
          ],
          "scattercarpet": [
           {
            "marker": {
             "colorbar": {
              "outlinewidth": 0,
              "ticks": ""
             }
            },
            "type": "scattercarpet"
           }
          ],
          "scattergeo": [
           {
            "marker": {
             "colorbar": {
              "outlinewidth": 0,
              "ticks": ""
             }
            },
            "type": "scattergeo"
           }
          ],
          "scattergl": [
           {
            "marker": {
             "colorbar": {
              "outlinewidth": 0,
              "ticks": ""
             }
            },
            "type": "scattergl"
           }
          ],
          "scattermapbox": [
           {
            "marker": {
             "colorbar": {
              "outlinewidth": 0,
              "ticks": ""
             }
            },
            "type": "scattermapbox"
           }
          ],
          "scatterpolar": [
           {
            "marker": {
             "colorbar": {
              "outlinewidth": 0,
              "ticks": ""
             }
            },
            "type": "scatterpolar"
           }
          ],
          "scatterpolargl": [
           {
            "marker": {
             "colorbar": {
              "outlinewidth": 0,
              "ticks": ""
             }
            },
            "type": "scatterpolargl"
           }
          ],
          "scatterternary": [
           {
            "marker": {
             "colorbar": {
              "outlinewidth": 0,
              "ticks": ""
             }
            },
            "type": "scatterternary"
           }
          ],
          "surface": [
           {
            "colorbar": {
             "outlinewidth": 0,
             "ticks": ""
            },
            "colorscale": [
             [
              0,
              "#0d0887"
             ],
             [
              0.1111111111111111,
              "#46039f"
             ],
             [
              0.2222222222222222,
              "#7201a8"
             ],
             [
              0.3333333333333333,
              "#9c179e"
             ],
             [
              0.4444444444444444,
              "#bd3786"
             ],
             [
              0.5555555555555556,
              "#d8576b"
             ],
             [
              0.6666666666666666,
              "#ed7953"
             ],
             [
              0.7777777777777778,
              "#fb9f3a"
             ],
             [
              0.8888888888888888,
              "#fdca26"
             ],
             [
              1,
              "#f0f921"
             ]
            ],
            "type": "surface"
           }
          ],
          "table": [
           {
            "cells": {
             "fill": {
              "color": "#EBF0F8"
             },
             "line": {
              "color": "white"
             }
            },
            "header": {
             "fill": {
              "color": "#C8D4E3"
             },
             "line": {
              "color": "white"
             }
            },
            "type": "table"
           }
          ]
         },
         "layout": {
          "annotationdefaults": {
           "arrowcolor": "#2a3f5f",
           "arrowhead": 0,
           "arrowwidth": 1
          },
          "autotypenumbers": "strict",
          "coloraxis": {
           "colorbar": {
            "outlinewidth": 0,
            "ticks": ""
           }
          },
          "colorscale": {
           "diverging": [
            [
             0,
             "#8e0152"
            ],
            [
             0.1,
             "#c51b7d"
            ],
            [
             0.2,
             "#de77ae"
            ],
            [
             0.3,
             "#f1b6da"
            ],
            [
             0.4,
             "#fde0ef"
            ],
            [
             0.5,
             "#f7f7f7"
            ],
            [
             0.6,
             "#e6f5d0"
            ],
            [
             0.7,
             "#b8e186"
            ],
            [
             0.8,
             "#7fbc41"
            ],
            [
             0.9,
             "#4d9221"
            ],
            [
             1,
             "#276419"
            ]
           ],
           "sequential": [
            [
             0,
             "#0d0887"
            ],
            [
             0.1111111111111111,
             "#46039f"
            ],
            [
             0.2222222222222222,
             "#7201a8"
            ],
            [
             0.3333333333333333,
             "#9c179e"
            ],
            [
             0.4444444444444444,
             "#bd3786"
            ],
            [
             0.5555555555555556,
             "#d8576b"
            ],
            [
             0.6666666666666666,
             "#ed7953"
            ],
            [
             0.7777777777777778,
             "#fb9f3a"
            ],
            [
             0.8888888888888888,
             "#fdca26"
            ],
            [
             1,
             "#f0f921"
            ]
           ],
           "sequentialminus": [
            [
             0,
             "#0d0887"
            ],
            [
             0.1111111111111111,
             "#46039f"
            ],
            [
             0.2222222222222222,
             "#7201a8"
            ],
            [
             0.3333333333333333,
             "#9c179e"
            ],
            [
             0.4444444444444444,
             "#bd3786"
            ],
            [
             0.5555555555555556,
             "#d8576b"
            ],
            [
             0.6666666666666666,
             "#ed7953"
            ],
            [
             0.7777777777777778,
             "#fb9f3a"
            ],
            [
             0.8888888888888888,
             "#fdca26"
            ],
            [
             1,
             "#f0f921"
            ]
           ]
          },
          "colorway": [
           "#636efa",
           "#EF553B",
           "#00cc96",
           "#ab63fa",
           "#FFA15A",
           "#19d3f3",
           "#FF6692",
           "#B6E880",
           "#FF97FF",
           "#FECB52"
          ],
          "font": {
           "color": "#2a3f5f"
          },
          "geo": {
           "bgcolor": "white",
           "lakecolor": "white",
           "landcolor": "#E5ECF6",
           "showlakes": true,
           "showland": true,
           "subunitcolor": "white"
          },
          "hoverlabel": {
           "align": "left"
          },
          "hovermode": "closest",
          "mapbox": {
           "style": "light"
          },
          "paper_bgcolor": "white",
          "plot_bgcolor": "#E5ECF6",
          "polar": {
           "angularaxis": {
            "gridcolor": "white",
            "linecolor": "white",
            "ticks": ""
           },
           "bgcolor": "#E5ECF6",
           "radialaxis": {
            "gridcolor": "white",
            "linecolor": "white",
            "ticks": ""
           }
          },
          "scene": {
           "xaxis": {
            "backgroundcolor": "#E5ECF6",
            "gridcolor": "white",
            "gridwidth": 2,
            "linecolor": "white",
            "showbackground": true,
            "ticks": "",
            "zerolinecolor": "white"
           },
           "yaxis": {
            "backgroundcolor": "#E5ECF6",
            "gridcolor": "white",
            "gridwidth": 2,
            "linecolor": "white",
            "showbackground": true,
            "ticks": "",
            "zerolinecolor": "white"
           },
           "zaxis": {
            "backgroundcolor": "#E5ECF6",
            "gridcolor": "white",
            "gridwidth": 2,
            "linecolor": "white",
            "showbackground": true,
            "ticks": "",
            "zerolinecolor": "white"
           }
          },
          "shapedefaults": {
           "line": {
            "color": "#2a3f5f"
           }
          },
          "ternary": {
           "aaxis": {
            "gridcolor": "white",
            "linecolor": "white",
            "ticks": ""
           },
           "baxis": {
            "gridcolor": "white",
            "linecolor": "white",
            "ticks": ""
           },
           "bgcolor": "#E5ECF6",
           "caxis": {
            "gridcolor": "white",
            "linecolor": "white",
            "ticks": ""
           }
          },
          "title": {
           "x": 0.05
          },
          "xaxis": {
           "automargin": true,
           "gridcolor": "white",
           "linecolor": "white",
           "ticks": "",
           "title": {
            "standoff": 15
           },
           "zerolinecolor": "white",
           "zerolinewidth": 2
          },
          "yaxis": {
           "automargin": true,
           "gridcolor": "white",
           "linecolor": "white",
           "ticks": "",
           "title": {
            "standoff": 15
           },
           "zerolinecolor": "white",
           "zerolinewidth": 2
          }
         }
        },
        "xaxis": {
         "anchor": "y",
         "domain": [
          0,
          1
         ],
         "title": {
          "text": "value"
         }
        },
        "yaxis": {
         "anchor": "x",
         "domain": [
          0,
          1
         ],
         "title": {
          "text": "count"
         }
        }
       }
      }
     },
     "metadata": {},
     "output_type": "display_data"
    }
   ],
   "source": [
    "px.histogram(strategy_returns[['mavg_rets']]).show()"
   ]
  },
  {
   "cell_type": "code",
   "execution_count": 89,
   "id": "4273827e",
   "metadata": {},
   "outputs": [
    {
     "name": "stderr",
     "output_type": "stream",
     "text": [
      "/Library/Frameworks/Python.framework/Versions/3.9/lib/python3.9/site-packages/_plotly_utils/basevalidators.py:105: FutureWarning:\n",
      "\n",
      "The behavior of DatetimeProperties.to_pydatetime is deprecated, in a future version this will return a Series containing python datetime objects instead of an ndarray. To retain the old behavior, call `np.array` on the result\n",
      "\n"
     ]
    },
    {
     "data": {
      "application/vnd.plotly.v1+json": {
       "config": {
        "plotlyServerURL": "https://plot.ly"
       },
       "data": [
        {
         "alignmentgroup": "True",
         "hovertemplate": "date=%{x}<br>mavg_rets=%{y}<extra></extra>",
         "legendgroup": "",
         "marker": {
          "color": [
           "green",
           "red",
           "green",
           "green",
           "green",
           "green",
           "red",
           "green",
           "green",
           "green",
           "red",
           "green",
           "green",
           "red",
           "green",
           "red",
           "green",
           "green",
           "green",
           "green",
           "green",
           "red",
           "green",
           "red",
           "green",
           "green",
           "green",
           "green",
           "green",
           "green",
           "red",
           "green",
           "green",
           "red",
           "red",
           "green",
           "red",
           "red",
           "green",
           "green",
           "red",
           "green",
           "red",
           "green",
           "green",
           "green",
           "green",
           "green",
           "green",
           "green",
           "green",
           "green",
           "green",
           "red",
           "green",
           "green",
           "green",
           "green",
           "green",
           "green",
           "green",
           "red",
           "red",
           "green",
           "green",
           "green",
           "green",
           "red",
           "green",
           "green",
           "red",
           "green",
           "green",
           "green",
           "green",
           "red",
           "green",
           "red",
           "green",
           "green",
           "green",
           "green",
           "green",
           "green",
           "red",
           "green",
           "red",
           "red",
           "green",
           "green",
           "green",
           "green",
           "green",
           "red",
           "green",
           "green",
           "green",
           "green",
           "red",
           "red",
           "red",
           "green",
           "green",
           "green",
           "red",
           "green",
           "green",
           "green",
           "red",
           "green",
           "green",
           "green",
           "red",
           "red",
           "red",
           "green",
           "green",
           "red",
           "red",
           "green",
           "green",
           "green",
           "red",
           "red",
           "red",
           "green",
           "green",
           "green",
           "red",
           "red",
           "green",
           "red",
           "red",
           "red",
           "red",
           "green",
           "red",
           "green",
           "green",
           "red",
           "red",
           "red",
           "green",
           "green",
           "green",
           "green",
           "green",
           "green",
           "red",
           "green",
           "green",
           "green",
           "green",
           "green",
           "red",
           "red",
           "green",
           "green",
           "red",
           "red",
           "green",
           "green",
           "green",
           "green",
           "red",
           "green",
           "red",
           "red",
           "green",
           "green",
           "green",
           "red",
           "green",
           "red",
           "green",
           "green",
           "green",
           "green",
           "green",
           "green",
           "red",
           "red",
           "red",
           "green",
           "green",
           "green",
           "green",
           "red",
           "green",
           "red",
           "green",
           "green",
           "green",
           "red",
           "red",
           "green",
           "green",
           "green",
           "red",
           "red",
           "red",
           "red",
           "red",
           "green",
           "green",
           "red",
           "green",
           "green",
           "red",
           "red",
           "red",
           "green",
           "red",
           "red",
           "green",
           "green",
           "green",
           "red",
           "green",
           "green",
           "green",
           "red",
           "green",
           "green",
           "red",
           "green",
           "green",
           "green",
           "red",
           "red",
           "green",
           "red",
           "green",
           "green",
           "green",
           "green",
           "green",
           "green",
           "green",
           "green",
           "green",
           "red",
           "red",
           "red",
           "red",
           "green",
           "red",
           "red",
           "green",
           "green",
           "green",
           "red",
           "red",
           "green",
           "red",
           "green",
           "green",
           "red",
           "green",
           "green",
           "green",
           "green",
           "green",
           "green",
           "green",
           "red",
           "green",
           "red",
           "green",
           "green",
           "green",
           "green",
           "red",
           "green",
           "green",
           "red",
           "green",
           "green",
           "red",
           "green",
           "red",
           "green",
           "green",
           "red",
           "red",
           "green",
           "red",
           "green",
           "green",
           "red",
           "green",
           "red",
           "red",
           "green",
           "green",
           "red",
           "red",
           "green",
           "green",
           "green",
           "green",
           "red",
           "green",
           "green",
           "green",
           "red",
           "green",
           "green",
           "green",
           "green",
           "red",
           "green",
           "green",
           "green",
           "green",
           "red",
           "green",
           "green",
           "green",
           "green",
           "green",
           "red",
           "red",
           "green",
           "green",
           "green",
           "green",
           "green",
           "red",
           "red",
           "green",
           "red",
           "green",
           "green",
           "green",
           "green",
           "red",
           "green",
           "green",
           "red",
           "green",
           "green",
           "green",
           "green",
           "red",
           "red",
           "red",
           "green",
           "green",
           "green",
           "green",
           "green",
           "red",
           "green",
           "green",
           "green",
           "green",
           "green",
           "green",
           "green",
           "green",
           "green",
           "green",
           "green",
           "red",
           "green",
           "red",
           "green",
           "red",
           "red",
           "green",
           "red",
           "green",
           "red",
           "green",
           "red"
          ],
          "pattern": {
           "shape": ""
          }
         },
         "name": "",
         "offsetgroup": "",
         "orientation": "v",
         "showlegend": false,
         "textposition": "auto",
         "type": "bar",
         "x": [
          "1991-05-31T00:00:00",
          "1991-06-30T00:00:00",
          "1991-07-31T00:00:00",
          "1991-08-31T00:00:00",
          "1991-09-30T00:00:00",
          "1991-10-31T00:00:00",
          "1991-11-30T00:00:00",
          "1991-12-31T00:00:00",
          "1992-01-31T00:00:00",
          "1992-02-29T00:00:00",
          "1992-03-31T00:00:00",
          "1992-04-30T00:00:00",
          "1992-05-31T00:00:00",
          "1992-06-30T00:00:00",
          "1992-07-31T00:00:00",
          "1992-08-31T00:00:00",
          "1992-09-30T00:00:00",
          "1992-10-31T00:00:00",
          "1992-11-30T00:00:00",
          "1992-12-31T00:00:00",
          "1993-01-31T00:00:00",
          "1993-02-28T00:00:00",
          "1993-03-31T00:00:00",
          "1993-04-30T00:00:00",
          "1993-05-31T00:00:00",
          "1993-06-30T00:00:00",
          "1993-07-31T00:00:00",
          "1993-08-31T00:00:00",
          "1993-09-30T00:00:00",
          "1993-10-31T00:00:00",
          "1993-11-30T00:00:00",
          "1993-12-31T00:00:00",
          "1994-01-31T00:00:00",
          "1994-02-28T00:00:00",
          "1994-03-31T00:00:00",
          "1994-04-30T00:00:00",
          "1994-05-31T00:00:00",
          "1994-06-30T00:00:00",
          "1994-07-31T00:00:00",
          "1994-08-31T00:00:00",
          "1994-09-30T00:00:00",
          "1994-10-31T00:00:00",
          "1994-11-30T00:00:00",
          "1994-12-31T00:00:00",
          "1995-01-31T00:00:00",
          "1995-02-28T00:00:00",
          "1995-03-31T00:00:00",
          "1995-04-30T00:00:00",
          "1995-05-31T00:00:00",
          "1995-06-30T00:00:00",
          "1995-07-31T00:00:00",
          "1995-08-31T00:00:00",
          "1995-09-30T00:00:00",
          "1995-10-31T00:00:00",
          "1995-11-30T00:00:00",
          "1995-12-31T00:00:00",
          "1996-01-31T00:00:00",
          "1996-02-29T00:00:00",
          "1996-03-31T00:00:00",
          "1996-04-30T00:00:00",
          "1996-05-31T00:00:00",
          "1996-06-30T00:00:00",
          "1996-07-31T00:00:00",
          "1996-08-31T00:00:00",
          "1996-09-30T00:00:00",
          "1996-10-31T00:00:00",
          "1996-11-30T00:00:00",
          "1996-12-31T00:00:00",
          "1997-01-31T00:00:00",
          "1997-02-28T00:00:00",
          "1997-03-31T00:00:00",
          "1997-04-30T00:00:00",
          "1997-05-31T00:00:00",
          "1997-06-30T00:00:00",
          "1997-07-31T00:00:00",
          "1997-08-31T00:00:00",
          "1997-09-30T00:00:00",
          "1997-10-31T00:00:00",
          "1997-11-30T00:00:00",
          "1997-12-31T00:00:00",
          "1998-01-31T00:00:00",
          "1998-02-28T00:00:00",
          "1998-03-31T00:00:00",
          "1998-04-30T00:00:00",
          "1998-05-31T00:00:00",
          "1998-06-30T00:00:00",
          "1998-07-31T00:00:00",
          "1998-08-31T00:00:00",
          "1998-09-30T00:00:00",
          "1998-10-31T00:00:00",
          "1998-11-30T00:00:00",
          "1998-12-31T00:00:00",
          "1999-01-31T00:00:00",
          "1999-02-28T00:00:00",
          "1999-03-31T00:00:00",
          "1999-04-30T00:00:00",
          "1999-05-31T00:00:00",
          "1999-06-30T00:00:00",
          "1999-07-31T00:00:00",
          "1999-08-31T00:00:00",
          "1999-09-30T00:00:00",
          "1999-10-31T00:00:00",
          "1999-11-30T00:00:00",
          "1999-12-31T00:00:00",
          "2000-01-31T00:00:00",
          "2000-02-29T00:00:00",
          "2000-03-31T00:00:00",
          "2000-04-30T00:00:00",
          "2000-05-31T00:00:00",
          "2000-06-30T00:00:00",
          "2000-07-31T00:00:00",
          "2000-08-31T00:00:00",
          "2000-09-30T00:00:00",
          "2000-10-31T00:00:00",
          "2000-11-30T00:00:00",
          "2000-12-31T00:00:00",
          "2001-01-31T00:00:00",
          "2001-02-28T00:00:00",
          "2001-03-31T00:00:00",
          "2001-04-30T00:00:00",
          "2001-05-31T00:00:00",
          "2001-06-30T00:00:00",
          "2001-07-31T00:00:00",
          "2001-08-31T00:00:00",
          "2001-09-30T00:00:00",
          "2001-10-31T00:00:00",
          "2001-11-30T00:00:00",
          "2001-12-31T00:00:00",
          "2002-01-31T00:00:00",
          "2002-02-28T00:00:00",
          "2002-03-31T00:00:00",
          "2002-04-30T00:00:00",
          "2002-05-31T00:00:00",
          "2002-06-30T00:00:00",
          "2002-07-31T00:00:00",
          "2002-08-31T00:00:00",
          "2002-09-30T00:00:00",
          "2002-10-31T00:00:00",
          "2002-11-30T00:00:00",
          "2002-12-31T00:00:00",
          "2003-01-31T00:00:00",
          "2003-02-28T00:00:00",
          "2003-03-31T00:00:00",
          "2003-04-30T00:00:00",
          "2003-05-31T00:00:00",
          "2003-06-30T00:00:00",
          "2003-07-31T00:00:00",
          "2003-08-31T00:00:00",
          "2003-09-30T00:00:00",
          "2003-10-31T00:00:00",
          "2003-11-30T00:00:00",
          "2003-12-31T00:00:00",
          "2004-01-31T00:00:00",
          "2004-02-29T00:00:00",
          "2004-03-31T00:00:00",
          "2004-04-30T00:00:00",
          "2004-05-31T00:00:00",
          "2004-06-30T00:00:00",
          "2004-07-31T00:00:00",
          "2004-08-31T00:00:00",
          "2004-09-30T00:00:00",
          "2004-10-31T00:00:00",
          "2004-11-30T00:00:00",
          "2004-12-31T00:00:00",
          "2005-01-31T00:00:00",
          "2005-02-28T00:00:00",
          "2005-03-31T00:00:00",
          "2005-04-30T00:00:00",
          "2005-05-31T00:00:00",
          "2005-06-30T00:00:00",
          "2005-07-31T00:00:00",
          "2005-08-31T00:00:00",
          "2005-09-30T00:00:00",
          "2005-10-31T00:00:00",
          "2005-11-30T00:00:00",
          "2005-12-31T00:00:00",
          "2006-01-31T00:00:00",
          "2006-02-28T00:00:00",
          "2006-03-31T00:00:00",
          "2006-04-30T00:00:00",
          "2006-05-31T00:00:00",
          "2006-06-30T00:00:00",
          "2006-07-31T00:00:00",
          "2006-08-31T00:00:00",
          "2006-09-30T00:00:00",
          "2006-10-31T00:00:00",
          "2006-11-30T00:00:00",
          "2006-12-31T00:00:00",
          "2007-01-31T00:00:00",
          "2007-02-28T00:00:00",
          "2007-03-31T00:00:00",
          "2007-04-30T00:00:00",
          "2007-05-31T00:00:00",
          "2007-06-30T00:00:00",
          "2007-07-31T00:00:00",
          "2007-08-31T00:00:00",
          "2007-09-30T00:00:00",
          "2007-10-31T00:00:00",
          "2007-11-30T00:00:00",
          "2007-12-31T00:00:00",
          "2008-01-31T00:00:00",
          "2008-02-29T00:00:00",
          "2008-03-31T00:00:00",
          "2008-04-30T00:00:00",
          "2008-05-31T00:00:00",
          "2008-06-30T00:00:00",
          "2008-07-31T00:00:00",
          "2008-08-31T00:00:00",
          "2008-09-30T00:00:00",
          "2008-10-31T00:00:00",
          "2008-11-30T00:00:00",
          "2008-12-31T00:00:00",
          "2009-01-31T00:00:00",
          "2009-02-28T00:00:00",
          "2009-03-31T00:00:00",
          "2009-04-30T00:00:00",
          "2009-05-31T00:00:00",
          "2009-06-30T00:00:00",
          "2009-07-31T00:00:00",
          "2009-08-31T00:00:00",
          "2009-09-30T00:00:00",
          "2009-10-31T00:00:00",
          "2009-11-30T00:00:00",
          "2009-12-31T00:00:00",
          "2010-01-31T00:00:00",
          "2010-02-28T00:00:00",
          "2010-03-31T00:00:00",
          "2010-04-30T00:00:00",
          "2010-05-31T00:00:00",
          "2010-06-30T00:00:00",
          "2010-07-31T00:00:00",
          "2010-08-31T00:00:00",
          "2010-09-30T00:00:00",
          "2010-10-31T00:00:00",
          "2010-11-30T00:00:00",
          "2010-12-31T00:00:00",
          "2011-01-31T00:00:00",
          "2011-02-28T00:00:00",
          "2011-03-31T00:00:00",
          "2011-04-30T00:00:00",
          "2011-05-31T00:00:00",
          "2011-06-30T00:00:00",
          "2011-07-31T00:00:00",
          "2011-08-31T00:00:00",
          "2011-09-30T00:00:00",
          "2011-10-31T00:00:00",
          "2011-11-30T00:00:00",
          "2011-12-31T00:00:00",
          "2012-01-31T00:00:00",
          "2012-02-29T00:00:00",
          "2012-03-31T00:00:00",
          "2012-04-30T00:00:00",
          "2012-05-31T00:00:00",
          "2012-06-30T00:00:00",
          "2012-07-31T00:00:00",
          "2012-08-31T00:00:00",
          "2012-09-30T00:00:00",
          "2012-10-31T00:00:00",
          "2012-11-30T00:00:00",
          "2012-12-31T00:00:00",
          "2013-01-31T00:00:00",
          "2013-02-28T00:00:00",
          "2013-03-31T00:00:00",
          "2013-04-30T00:00:00",
          "2013-05-31T00:00:00",
          "2013-06-30T00:00:00",
          "2013-07-31T00:00:00",
          "2013-08-31T00:00:00",
          "2013-09-30T00:00:00",
          "2013-10-31T00:00:00",
          "2013-11-30T00:00:00",
          "2013-12-31T00:00:00",
          "2014-01-31T00:00:00",
          "2014-02-28T00:00:00",
          "2014-03-31T00:00:00",
          "2014-04-30T00:00:00",
          "2014-05-31T00:00:00",
          "2014-06-30T00:00:00",
          "2014-07-31T00:00:00",
          "2014-08-31T00:00:00",
          "2014-09-30T00:00:00",
          "2014-10-31T00:00:00",
          "2014-11-30T00:00:00",
          "2014-12-31T00:00:00",
          "2015-01-31T00:00:00",
          "2015-02-28T00:00:00",
          "2015-03-31T00:00:00",
          "2015-04-30T00:00:00",
          "2015-05-31T00:00:00",
          "2015-06-30T00:00:00",
          "2015-07-31T00:00:00",
          "2015-08-31T00:00:00",
          "2015-09-30T00:00:00",
          "2015-10-31T00:00:00",
          "2015-11-30T00:00:00",
          "2015-12-31T00:00:00",
          "2016-01-31T00:00:00",
          "2016-02-29T00:00:00",
          "2016-03-31T00:00:00",
          "2016-04-30T00:00:00",
          "2016-05-31T00:00:00",
          "2016-06-30T00:00:00",
          "2016-07-31T00:00:00",
          "2016-08-31T00:00:00",
          "2016-09-30T00:00:00",
          "2016-10-31T00:00:00",
          "2016-11-30T00:00:00",
          "2016-12-31T00:00:00",
          "2017-01-31T00:00:00",
          "2017-02-28T00:00:00",
          "2017-03-31T00:00:00",
          "2017-04-30T00:00:00",
          "2017-05-31T00:00:00",
          "2017-06-30T00:00:00",
          "2017-07-31T00:00:00",
          "2017-08-31T00:00:00",
          "2017-09-30T00:00:00",
          "2017-10-31T00:00:00",
          "2017-11-30T00:00:00",
          "2017-12-31T00:00:00",
          "2018-01-31T00:00:00",
          "2018-02-28T00:00:00",
          "2018-03-31T00:00:00",
          "2018-04-30T00:00:00",
          "2018-05-31T00:00:00",
          "2018-06-30T00:00:00",
          "2018-07-31T00:00:00",
          "2018-08-31T00:00:00",
          "2018-09-30T00:00:00",
          "2018-10-31T00:00:00",
          "2018-11-30T00:00:00",
          "2018-12-31T00:00:00",
          "2019-01-31T00:00:00",
          "2019-02-28T00:00:00",
          "2019-03-31T00:00:00",
          "2019-04-30T00:00:00",
          "2019-05-31T00:00:00",
          "2019-06-30T00:00:00",
          "2019-07-31T00:00:00",
          "2019-08-31T00:00:00",
          "2019-09-30T00:00:00",
          "2019-10-31T00:00:00",
          "2019-11-30T00:00:00",
          "2019-12-31T00:00:00",
          "2020-01-31T00:00:00",
          "2020-02-29T00:00:00",
          "2020-03-31T00:00:00",
          "2020-04-30T00:00:00",
          "2020-05-31T00:00:00",
          "2020-06-30T00:00:00",
          "2020-07-31T00:00:00",
          "2020-08-31T00:00:00",
          "2020-09-30T00:00:00",
          "2020-10-31T00:00:00",
          "2020-11-30T00:00:00",
          "2020-12-31T00:00:00",
          "2021-01-31T00:00:00",
          "2021-02-28T00:00:00",
          "2021-03-31T00:00:00",
          "2021-04-30T00:00:00",
          "2021-05-31T00:00:00",
          "2021-06-30T00:00:00",
          "2021-07-31T00:00:00",
          "2021-08-31T00:00:00",
          "2021-09-30T00:00:00",
          "2021-10-31T00:00:00",
          "2021-11-30T00:00:00",
          "2021-12-31T00:00:00",
          "2022-01-31T00:00:00",
          "2022-02-28T00:00:00",
          "2022-03-31T00:00:00",
          "2022-04-30T00:00:00",
          "2022-05-31T00:00:00",
          "2022-06-30T00:00:00",
          "2022-07-31T00:00:00",
          "2022-08-31T00:00:00"
         ],
         "xaxis": "x",
         "y": [
          0.02064678011028149,
          -0.019487697131560906,
          0.015726465043274896,
          0.006048332266457408,
          0.0003021710834389954,
          0.0036439264362371645,
          -0.008739741320211143,
          0.017055172366011184,
          0.0036309497250556592,
          0.007055930229872088,
          -0.008069272377730405,
          0.005349454887170495,
          0.0034401362168565252,
          -0.005513139540021722,
          0.011903981641687754,
          -0.011143115210651594,
          0.008162923150671256,
          0.012340749357800853,
          0.01816284299510902,
          0.00989807609566525,
          0.008230510582790113,
          -0.002907621553161388,
          0.012303375303825099,
          -0.008099233033536352,
          0.008667704798875867,
          0.000876590609894266,
          0.0006233578273628803,
          0.012217071942672018,
          0.0017732492176376325,
          0.0030864220135114746,
          -0.0016470947151934353,
          0.009381542412592276,
          0.012710593747352334,
          -0.004330981349307233,
          -0.018086561252130644,
          0.009083902505520965,
          -0.0017365511045346555,
          -0.012096387157326126,
          0.018641582235174627,
          0.030289609960672755,
          -0.010016216234992029,
          0.008015871931450034,
          -0.022449448635456264,
          0.00493344811813311,
          0.003935558598384942,
          0.0252078798174573,
          0.016261916748875102,
          0.014176507586898889,
          0.01709711605241397,
          0.012962382443206431,
          0.012273498282478092,
          0.0005865228677155929,
          0.002025058547624997,
          -0.0008241871319587178,
          0.008237439070464543,
          0.0017411927840888645,
          0.0028363860108403327,
          0.0026442001916670266,
          0.0031655554158330408,
          0.012359974347406925,
          0.0037095818678600195,
          -0.0023637328362475516,
          -0.011209156714918704,
          0.010976815445964998,
          0.010728703805702318,
          0.00116179795949865,
          0.018204877466139992,
          -0.0008295003528592695,
          0.0129626060016907,
          0.0026183886952015575,
          -0.010103658331213166,
          0.005678096393434723,
          0.02765914721384867,
          0.013131389722177454,
          0.021317982153139996,
          -0.002459690810442279,
          0.015247550460244076,
          -0.0032860097023449286,
          0.0022920719243941035,
          0.00386309632680404,
          0.001421340029583447,
          0.010449072706437195,
          0.00948131518264505,
          0.005704071560566627,
          -0.008194700856129656,
          0.002859885560948739,
          -0.012087012867563555,
          -0.036460997083117494,
          0.02154246616220011,
          0.037410850173905705,
          0.026210218819934367,
          0.02533286460919434,
          0.009327845773507312,
          -0.020946856598671515,
          0.023868264823370566,
          0.04954055371023847,
          0.006503796070775441,
          0.03129061330008885,
          -0.007736118768016863,
          -0.00029559874701864675,
          -0.01570718036503533,
          0.00956156247127368,
          0.010463943906251784,
          0.019857433895991643,
          -0.018051857531920935,
          0.013550595894475086,
          0.0518413324025212,
          0.0027817695050287856,
          -0.002073270638193288,
          0.013835210295945153,
          0.007797727047799181,
          0.0524987752973093,
          -0.009176348397510947,
          -0.0009520322018715705,
          -0.029686510329886104,
          0.03332176539157218,
          0.022915414941205033,
          -0.02074476939074646,
          -0.020751877331591173,
          0.03568969971367823,
          0.00845196986492305,
          0.0036420873529044557,
          -0.007980820852151417,
          -0.012005152707379042,
          -0.052871991605156085,
          0.02823442784111236,
          0.04251816281181079,
          0.01877347461515153,
          -0.007443503878881439,
          -0.009779596308162239,
          0.04410102065533471,
          -0.017945531308257576,
          -0.005936108559481974,
          -0.027370268812772734,
          -0.03211275434600789,
          0.004461277621773956,
          -0.04528705112411065,
          0.040462326340254956,
          0.07162332961045674,
          -0.034821356059697675,
          -0.013064965549231335,
          -0.010901667512183447,
          0.009827185057755535,
          0.08085697465817798,
          0.08705365289890483,
          0.0057020074867630876,
          0.02754288499669364,
          0.022839904722278946,
          -0.006535943980577904,
          0.011103382796197079,
          0.0021010532614615073,
          0.003482102966931435,
          0.001652353803415485,
          0.003226034195357668,
          -0.0007394304915339539,
          -0.0015149291560321654,
          0.0008767317557854342,
          0.0025223293241732714,
          -0.004788561475116565,
          -0.001022852321310851,
          0.00833270863608813,
          0.0068134185335261555,
          0.01916505746730391,
          0.011005789694309766,
          -0.009672116008352008,
          0.005805359363691938,
          -0.003492508920792361,
          -0.00809236553514668,
          0.010262188354109194,
          0.0052199368215223125,
          0.014276735672478601,
          -0.0016264778900800597,
          0.0026147152973398998,
          -0.006832291288757285,
          0.0116762607523365,
          0.002157426522709581,
          0.01495869651633474,
          0.0008685801422303982,
          0.010667791242843007,
          0.0020881005491767187,
          -0.009754698326941976,
          -0.001991912977792876,
          -0.006784702023318968,
          0.0078339177426866,
          0.008478757575128996,
          0.014822315358817952,
          0.012322591367603766,
          -0.0016424460273084948,
          0.010942051782797167,
          -0.001070657969065272,
          0.0020462640596501987,
          0.008168013833901956,
          0.006841647515976822,
          -0.0028067107399782285,
          -0.006427960326406053,
          0.0012490017505601757,
          0.00573267821188219,
          0.006892915057011184,
          -0.013175383322784147,
          -0.003615780608572349,
          -0.021638063761129905,
          -0.013725814207200312,
          -0.005911694779435201,
          0.03496714713516151,
          0.025523809306973632,
          -0.0647514424761094,
          0.006398292397743065,
          0.026986394519700196,
          -0.06803994590328657,
          -0.1390895842532187,
          -0.08125533785040709,
          0.033121896486808494,
          -0.0675937689048668,
          -0.10013393559958089,
          0.10735914482471293,
          0.21874762682408924,
          0.05876634049188599,
          -0.005036905610639295,
          0.09820961210242261,
          0.056258295488186776,
          0.05355738886625234,
          -0.02370595968429787,
          0.020290997428182203,
          0.014621800375083363,
          -0.003464409192565441,
          0.006085645391306278,
          0.005337479072818026,
          0.004656570127223247,
          -0.003996316983913319,
          -0.004552074281951986,
          0.007105680661752948,
          -0.005812755643497803,
          0.019640118528097796,
          0.00919814071569432,
          0.0071314855656378255,
          0.031138855585088956,
          0.009851041597348857,
          0.013319317553513616,
          0.0017980704415178298,
          0.004016042571969157,
          0.0009580859775790297,
          -0.0009923317415035102,
          -0.003764615170885979,
          -0.006250230554291086,
          -0.008399480869296837,
          0.02753626580175057,
          -0.0055508852665001555,
          -0.006719614144467714,
          0.046185495853670246,
          0.033986261841751714,
          0.013165393167569617,
          -0.005386768743107684,
          -0.0307799253045058,
          0.015672184302163515,
          -0.00026550777327067455,
          0.0123140605169249,
          0.008094191450300776,
          -0.004193365130354906,
          0.0062000074016878,
          0.008796338152204833,
          0.021308494401316977,
          0.0015637983449329621,
          0.010000630707868751,
          0.002844751476721509,
          0.006401360612759732,
          -0.003575330295393161,
          0.006860718567470473,
          -0.0023424002415418184,
          0.0034210417025231678,
          0.004022408336706712,
          0.0027541993677122696,
          0.0038061779310324013,
          -0.004116352183854282,
          0.006184611464595377,
          0.003278873416042555,
          -0.0011053010785541982,
          0.0024761320611370124,
          0.006590572802540966,
          -0.005063239313071672,
          0.006454525491714299,
          -0.0071845486199858056,
          0.006093482721491797,
          0.006065065496902678,
          -0.0010263508248481406,
          -0.008023427279159698,
          0.016279428468868127,
          -0.004058411376758787,
          0.003692938729370206,
          0.0004727472472009875,
          -0.008481375349388021,
          0.0014574275102784014,
          -0.015571364835287439,
          -0.013391929879362002,
          0.032754101295788915,
          0.0019187158097203336,
          -0.01857127920008111,
          -0.03714525636983544,
          0.004585409783866247,
          0.04968207033810057,
          0.008887026473913501,
          0.008520930804526866,
          -0.002856566577191778,
          0.03492289430889029,
          0.006383067174695627,
          0.0009397036303510429,
          -0.007944322267605103,
          0.018892180945481906,
          0.004432378332843075,
          0.009154732440009678,
          0.008435723521427676,
          -0.0021234206519711862,
          0.0032757369786689545,
          0.000558340125572865,
          0.0014275877682421157,
          0.0005518454238433179,
          -0.0036213156139106605,
          0.0077806059200370365,
          0.0022720939976583446,
          0.0050515308250998255,
          0.0033347921965746177,
          0.01185788945563759,
          -0.011368233878482554,
          -0.0011225783419572112,
          0.0024885297294424654,
          0.0111855758361537,
          0.007880327666964159,
          0.00517571563181949,
          0.015212362187035498,
          -0.0006187799570682214,
          -0.02907388749728518,
          0.009768948371140854,
          -0.044724843294526216,
          0.04625553034355128,
          0.023098680812913722,
          0.0002080870249795464,
          0.015857063494475892,
          -0.055255076331223424,
          0.03871316169591318,
          0.0015595833449410697,
          -0.018053066300202293,
          0.013623081081678147,
          0.005334235333974916,
          0.01395094926094378,
          0.014214883229098951,
          -0.008386264037116682,
          -0.029608904550732333,
          -0.05730824114261777,
          0.04519260095915341,
          0.015986086700214952,
          0.021197037697371912,
          0.030733791715160483,
          0.0399948470392262,
          -0.02270524252496484,
          0.0044968834883979455,
          0.09236819506160214,
          0.025425786674076085,
          0.0034784345740445574,
          0.021474180193166232,
          0.01897907887129682,
          0.010065235490361387,
          0.0015626294320111862,
          0.00023888662605383936,
          0.0006744602780404229,
          0.0023771887900475115,
          -0.0015777814594052399,
          0.002209109583331038,
          -0.0008823347218798423,
          0.0039449340975469226,
          -0.011297647613153328,
          -0.004878803274936208,
          0.00986208550647605,
          -0.02276810831100795,
          0.0015340106501516484,
          -0.04323269292103687,
          0.04984642369202985,
          -0.012939317042940143
         ],
         "yaxis": "y"
        }
       ],
       "layout": {
        "barmode": "relative",
        "legend": {
         "tracegroupgap": 0
        },
        "margin": {
         "t": 60
        },
        "template": {
         "data": {
          "bar": [
           {
            "error_x": {
             "color": "#2a3f5f"
            },
            "error_y": {
             "color": "#2a3f5f"
            },
            "marker": {
             "line": {
              "color": "#E5ECF6",
              "width": 0.5
             },
             "pattern": {
              "fillmode": "overlay",
              "size": 10,
              "solidity": 0.2
             }
            },
            "type": "bar"
           }
          ],
          "barpolar": [
           {
            "marker": {
             "line": {
              "color": "#E5ECF6",
              "width": 0.5
             },
             "pattern": {
              "fillmode": "overlay",
              "size": 10,
              "solidity": 0.2
             }
            },
            "type": "barpolar"
           }
          ],
          "carpet": [
           {
            "aaxis": {
             "endlinecolor": "#2a3f5f",
             "gridcolor": "white",
             "linecolor": "white",
             "minorgridcolor": "white",
             "startlinecolor": "#2a3f5f"
            },
            "baxis": {
             "endlinecolor": "#2a3f5f",
             "gridcolor": "white",
             "linecolor": "white",
             "minorgridcolor": "white",
             "startlinecolor": "#2a3f5f"
            },
            "type": "carpet"
           }
          ],
          "choropleth": [
           {
            "colorbar": {
             "outlinewidth": 0,
             "ticks": ""
            },
            "type": "choropleth"
           }
          ],
          "contour": [
           {
            "colorbar": {
             "outlinewidth": 0,
             "ticks": ""
            },
            "colorscale": [
             [
              0,
              "#0d0887"
             ],
             [
              0.1111111111111111,
              "#46039f"
             ],
             [
              0.2222222222222222,
              "#7201a8"
             ],
             [
              0.3333333333333333,
              "#9c179e"
             ],
             [
              0.4444444444444444,
              "#bd3786"
             ],
             [
              0.5555555555555556,
              "#d8576b"
             ],
             [
              0.6666666666666666,
              "#ed7953"
             ],
             [
              0.7777777777777778,
              "#fb9f3a"
             ],
             [
              0.8888888888888888,
              "#fdca26"
             ],
             [
              1,
              "#f0f921"
             ]
            ],
            "type": "contour"
           }
          ],
          "contourcarpet": [
           {
            "colorbar": {
             "outlinewidth": 0,
             "ticks": ""
            },
            "type": "contourcarpet"
           }
          ],
          "heatmap": [
           {
            "colorbar": {
             "outlinewidth": 0,
             "ticks": ""
            },
            "colorscale": [
             [
              0,
              "#0d0887"
             ],
             [
              0.1111111111111111,
              "#46039f"
             ],
             [
              0.2222222222222222,
              "#7201a8"
             ],
             [
              0.3333333333333333,
              "#9c179e"
             ],
             [
              0.4444444444444444,
              "#bd3786"
             ],
             [
              0.5555555555555556,
              "#d8576b"
             ],
             [
              0.6666666666666666,
              "#ed7953"
             ],
             [
              0.7777777777777778,
              "#fb9f3a"
             ],
             [
              0.8888888888888888,
              "#fdca26"
             ],
             [
              1,
              "#f0f921"
             ]
            ],
            "type": "heatmap"
           }
          ],
          "heatmapgl": [
           {
            "colorbar": {
             "outlinewidth": 0,
             "ticks": ""
            },
            "colorscale": [
             [
              0,
              "#0d0887"
             ],
             [
              0.1111111111111111,
              "#46039f"
             ],
             [
              0.2222222222222222,
              "#7201a8"
             ],
             [
              0.3333333333333333,
              "#9c179e"
             ],
             [
              0.4444444444444444,
              "#bd3786"
             ],
             [
              0.5555555555555556,
              "#d8576b"
             ],
             [
              0.6666666666666666,
              "#ed7953"
             ],
             [
              0.7777777777777778,
              "#fb9f3a"
             ],
             [
              0.8888888888888888,
              "#fdca26"
             ],
             [
              1,
              "#f0f921"
             ]
            ],
            "type": "heatmapgl"
           }
          ],
          "histogram": [
           {
            "marker": {
             "pattern": {
              "fillmode": "overlay",
              "size": 10,
              "solidity": 0.2
             }
            },
            "type": "histogram"
           }
          ],
          "histogram2d": [
           {
            "colorbar": {
             "outlinewidth": 0,
             "ticks": ""
            },
            "colorscale": [
             [
              0,
              "#0d0887"
             ],
             [
              0.1111111111111111,
              "#46039f"
             ],
             [
              0.2222222222222222,
              "#7201a8"
             ],
             [
              0.3333333333333333,
              "#9c179e"
             ],
             [
              0.4444444444444444,
              "#bd3786"
             ],
             [
              0.5555555555555556,
              "#d8576b"
             ],
             [
              0.6666666666666666,
              "#ed7953"
             ],
             [
              0.7777777777777778,
              "#fb9f3a"
             ],
             [
              0.8888888888888888,
              "#fdca26"
             ],
             [
              1,
              "#f0f921"
             ]
            ],
            "type": "histogram2d"
           }
          ],
          "histogram2dcontour": [
           {
            "colorbar": {
             "outlinewidth": 0,
             "ticks": ""
            },
            "colorscale": [
             [
              0,
              "#0d0887"
             ],
             [
              0.1111111111111111,
              "#46039f"
             ],
             [
              0.2222222222222222,
              "#7201a8"
             ],
             [
              0.3333333333333333,
              "#9c179e"
             ],
             [
              0.4444444444444444,
              "#bd3786"
             ],
             [
              0.5555555555555556,
              "#d8576b"
             ],
             [
              0.6666666666666666,
              "#ed7953"
             ],
             [
              0.7777777777777778,
              "#fb9f3a"
             ],
             [
              0.8888888888888888,
              "#fdca26"
             ],
             [
              1,
              "#f0f921"
             ]
            ],
            "type": "histogram2dcontour"
           }
          ],
          "mesh3d": [
           {
            "colorbar": {
             "outlinewidth": 0,
             "ticks": ""
            },
            "type": "mesh3d"
           }
          ],
          "parcoords": [
           {
            "line": {
             "colorbar": {
              "outlinewidth": 0,
              "ticks": ""
             }
            },
            "type": "parcoords"
           }
          ],
          "pie": [
           {
            "automargin": true,
            "type": "pie"
           }
          ],
          "scatter": [
           {
            "fillpattern": {
             "fillmode": "overlay",
             "size": 10,
             "solidity": 0.2
            },
            "type": "scatter"
           }
          ],
          "scatter3d": [
           {
            "line": {
             "colorbar": {
              "outlinewidth": 0,
              "ticks": ""
             }
            },
            "marker": {
             "colorbar": {
              "outlinewidth": 0,
              "ticks": ""
             }
            },
            "type": "scatter3d"
           }
          ],
          "scattercarpet": [
           {
            "marker": {
             "colorbar": {
              "outlinewidth": 0,
              "ticks": ""
             }
            },
            "type": "scattercarpet"
           }
          ],
          "scattergeo": [
           {
            "marker": {
             "colorbar": {
              "outlinewidth": 0,
              "ticks": ""
             }
            },
            "type": "scattergeo"
           }
          ],
          "scattergl": [
           {
            "marker": {
             "colorbar": {
              "outlinewidth": 0,
              "ticks": ""
             }
            },
            "type": "scattergl"
           }
          ],
          "scattermapbox": [
           {
            "marker": {
             "colorbar": {
              "outlinewidth": 0,
              "ticks": ""
             }
            },
            "type": "scattermapbox"
           }
          ],
          "scatterpolar": [
           {
            "marker": {
             "colorbar": {
              "outlinewidth": 0,
              "ticks": ""
             }
            },
            "type": "scatterpolar"
           }
          ],
          "scatterpolargl": [
           {
            "marker": {
             "colorbar": {
              "outlinewidth": 0,
              "ticks": ""
             }
            },
            "type": "scatterpolargl"
           }
          ],
          "scatterternary": [
           {
            "marker": {
             "colorbar": {
              "outlinewidth": 0,
              "ticks": ""
             }
            },
            "type": "scatterternary"
           }
          ],
          "surface": [
           {
            "colorbar": {
             "outlinewidth": 0,
             "ticks": ""
            },
            "colorscale": [
             [
              0,
              "#0d0887"
             ],
             [
              0.1111111111111111,
              "#46039f"
             ],
             [
              0.2222222222222222,
              "#7201a8"
             ],
             [
              0.3333333333333333,
              "#9c179e"
             ],
             [
              0.4444444444444444,
              "#bd3786"
             ],
             [
              0.5555555555555556,
              "#d8576b"
             ],
             [
              0.6666666666666666,
              "#ed7953"
             ],
             [
              0.7777777777777778,
              "#fb9f3a"
             ],
             [
              0.8888888888888888,
              "#fdca26"
             ],
             [
              1,
              "#f0f921"
             ]
            ],
            "type": "surface"
           }
          ],
          "table": [
           {
            "cells": {
             "fill": {
              "color": "#EBF0F8"
             },
             "line": {
              "color": "white"
             }
            },
            "header": {
             "fill": {
              "color": "#C8D4E3"
             },
             "line": {
              "color": "white"
             }
            },
            "type": "table"
           }
          ]
         },
         "layout": {
          "annotationdefaults": {
           "arrowcolor": "#2a3f5f",
           "arrowhead": 0,
           "arrowwidth": 1
          },
          "autotypenumbers": "strict",
          "coloraxis": {
           "colorbar": {
            "outlinewidth": 0,
            "ticks": ""
           }
          },
          "colorscale": {
           "diverging": [
            [
             0,
             "#8e0152"
            ],
            [
             0.1,
             "#c51b7d"
            ],
            [
             0.2,
             "#de77ae"
            ],
            [
             0.3,
             "#f1b6da"
            ],
            [
             0.4,
             "#fde0ef"
            ],
            [
             0.5,
             "#f7f7f7"
            ],
            [
             0.6,
             "#e6f5d0"
            ],
            [
             0.7,
             "#b8e186"
            ],
            [
             0.8,
             "#7fbc41"
            ],
            [
             0.9,
             "#4d9221"
            ],
            [
             1,
             "#276419"
            ]
           ],
           "sequential": [
            [
             0,
             "#0d0887"
            ],
            [
             0.1111111111111111,
             "#46039f"
            ],
            [
             0.2222222222222222,
             "#7201a8"
            ],
            [
             0.3333333333333333,
             "#9c179e"
            ],
            [
             0.4444444444444444,
             "#bd3786"
            ],
            [
             0.5555555555555556,
             "#d8576b"
            ],
            [
             0.6666666666666666,
             "#ed7953"
            ],
            [
             0.7777777777777778,
             "#fb9f3a"
            ],
            [
             0.8888888888888888,
             "#fdca26"
            ],
            [
             1,
             "#f0f921"
            ]
           ],
           "sequentialminus": [
            [
             0,
             "#0d0887"
            ],
            [
             0.1111111111111111,
             "#46039f"
            ],
            [
             0.2222222222222222,
             "#7201a8"
            ],
            [
             0.3333333333333333,
             "#9c179e"
            ],
            [
             0.4444444444444444,
             "#bd3786"
            ],
            [
             0.5555555555555556,
             "#d8576b"
            ],
            [
             0.6666666666666666,
             "#ed7953"
            ],
            [
             0.7777777777777778,
             "#fb9f3a"
            ],
            [
             0.8888888888888888,
             "#fdca26"
            ],
            [
             1,
             "#f0f921"
            ]
           ]
          },
          "colorway": [
           "#636efa",
           "#EF553B",
           "#00cc96",
           "#ab63fa",
           "#FFA15A",
           "#19d3f3",
           "#FF6692",
           "#B6E880",
           "#FF97FF",
           "#FECB52"
          ],
          "font": {
           "color": "#2a3f5f"
          },
          "geo": {
           "bgcolor": "white",
           "lakecolor": "white",
           "landcolor": "#E5ECF6",
           "showlakes": true,
           "showland": true,
           "subunitcolor": "white"
          },
          "hoverlabel": {
           "align": "left"
          },
          "hovermode": "closest",
          "mapbox": {
           "style": "light"
          },
          "paper_bgcolor": "white",
          "plot_bgcolor": "#E5ECF6",
          "polar": {
           "angularaxis": {
            "gridcolor": "white",
            "linecolor": "white",
            "ticks": ""
           },
           "bgcolor": "#E5ECF6",
           "radialaxis": {
            "gridcolor": "white",
            "linecolor": "white",
            "ticks": ""
           }
          },
          "scene": {
           "xaxis": {
            "backgroundcolor": "#E5ECF6",
            "gridcolor": "white",
            "gridwidth": 2,
            "linecolor": "white",
            "showbackground": true,
            "ticks": "",
            "zerolinecolor": "white"
           },
           "yaxis": {
            "backgroundcolor": "#E5ECF6",
            "gridcolor": "white",
            "gridwidth": 2,
            "linecolor": "white",
            "showbackground": true,
            "ticks": "",
            "zerolinecolor": "white"
           },
           "zaxis": {
            "backgroundcolor": "#E5ECF6",
            "gridcolor": "white",
            "gridwidth": 2,
            "linecolor": "white",
            "showbackground": true,
            "ticks": "",
            "zerolinecolor": "white"
           }
          },
          "shapedefaults": {
           "line": {
            "color": "#2a3f5f"
           }
          },
          "ternary": {
           "aaxis": {
            "gridcolor": "white",
            "linecolor": "white",
            "ticks": ""
           },
           "baxis": {
            "gridcolor": "white",
            "linecolor": "white",
            "ticks": ""
           },
           "bgcolor": "#E5ECF6",
           "caxis": {
            "gridcolor": "white",
            "linecolor": "white",
            "ticks": ""
           }
          },
          "title": {
           "x": 0.05
          },
          "xaxis": {
           "automargin": true,
           "gridcolor": "white",
           "linecolor": "white",
           "ticks": "",
           "title": {
            "standoff": 15
           },
           "zerolinecolor": "white",
           "zerolinewidth": 2
          },
          "yaxis": {
           "automargin": true,
           "gridcolor": "white",
           "linecolor": "white",
           "ticks": "",
           "title": {
            "standoff": 15
           },
           "zerolinecolor": "white",
           "zerolinewidth": 2
          }
         }
        },
        "xaxis": {
         "anchor": "y",
         "domain": [
          0,
          1
         ],
         "title": {
          "text": "date"
         }
        },
        "yaxis": {
         "anchor": "x",
         "domain": [
          0,
          1
         ],
         "title": {
          "text": "mavg_rets"
         }
        }
       }
      }
     },
     "metadata": {},
     "output_type": "display_data"
    }
   ],
   "source": [
    "monthly_rets = strategy_returns[[\"date\", \"mavg_rets\"]].resample('M', on='date').mean() # Calculate average daily return for each month\n",
    "monthly_rets['Colour']='red' # Add column with 'red' value\n",
    "monthly_rets.loc[monthly_rets['mavg_rets']>=0, 'Colour']='green' # Replace 'red' with 'green' where return is non-negative\n",
    "px.bar(monthly_rets,x=monthly_rets.index,y=\"mavg_rets\").update_traces(marker_color=monthly_rets[\"Colour\"]).show()"
   ]
  },
  {
   "cell_type": "code",
   "execution_count": 90,
   "id": "5d5ab9cd",
   "metadata": {},
   "outputs": [
    {
     "name": "stdout",
     "output_type": "stream",
     "text": [
      "0.005098530513870373 0.025813938043749433\n"
     ]
    }
   ],
   "source": [
    "# mean and volatility\n",
    "mean_ret = strategy_returns['mavg_rets'].mean()\n",
    "volatility = strategy_returns['mavg_rets'].std()\n",
    "print(mean_ret, volatility)"
   ]
  },
  {
   "cell_type": "code",
   "execution_count": 91,
   "id": "f1bb2435",
   "metadata": {},
   "outputs": [
    {
     "name": "stdout",
     "output_type": "stream",
     "text": [
      "Annualised expected return is: 6.12%\n",
      "Annualised volatility is: 8.94%\n"
     ]
    }
   ],
   "source": [
    "print('Annualised expected return is: '+str(round(100*mean_ret*12,2)) +'%')\n",
    "print('Annualised volatility is: '+str(round(100*volatility*np.sqrt(12),2)) +'%')"
   ]
  },
  {
   "cell_type": "code",
   "execution_count": 92,
   "id": "cda046e9",
   "metadata": {},
   "outputs": [
    {
     "data": {
      "text/plain": [
       "count    376.000000\n",
       "mean       0.509853\n",
       "std        2.581394\n",
       "min      -13.908958\n",
       "25%       -0.361716\n",
       "50%        0.364301\n",
       "75%        1.231619\n",
       "max       21.874763\n",
       "Name: mavg_rets, dtype: float64"
      ]
     },
     "execution_count": 92,
     "metadata": {},
     "output_type": "execute_result"
    }
   ],
   "source": [
    "# describing statistics of returns\n",
    "(strategy_returns['mavg_rets']*100).describe()"
   ]
  },
  {
   "cell_type": "code",
   "execution_count": 93,
   "id": "14743eca",
   "metadata": {},
   "outputs": [
    {
     "name": "stdout",
     "output_type": "stream",
     "text": [
      "1.171007302882262\n"
     ]
    }
   ],
   "source": [
    "# skewness\n",
    "print(skew(strategy_returns['mavg_rets'].dropna()))"
   ]
  },
  {
   "cell_type": "code",
   "execution_count": 94,
   "id": "d1d8ea4e",
   "metadata": {},
   "outputs": [
    {
     "name": "stdout",
     "output_type": "stream",
     "text": [
      "16.68776608001451\n"
     ]
    }
   ],
   "source": [
    "# kurtosis\n",
    "print(kurtosis(strategy_returns[\"mavg_rets\"].dropna()))"
   ]
  },
  {
   "cell_type": "code",
   "execution_count": 95,
   "id": "618f1cdc",
   "metadata": {},
   "outputs": [
    {
     "data": {
      "text/plain": [
       "-0.08361516256905381"
      ]
     },
     "execution_count": 95,
     "metadata": {},
     "output_type": "execute_result"
    }
   ],
   "source": [
    "# Value at Risk\n",
    "VaR = strategy_returns['mavg_rets'].quantile(0.005)\n",
    "VaR"
   ]
  },
  {
   "cell_type": "code",
   "execution_count": 96,
   "id": "2b750603",
   "metadata": {},
   "outputs": [
    {
     "name": "stdout",
     "output_type": "stream",
     "text": [
      "There is a 10.0% chance that my losses will be -1.36% or worse over the next day.\n",
      "There is a 5.0% chance that my losses will be -2.92% or worse over the next day.\n",
      "There is a 1.0% chance that my losses will be -6.77% or worse over the next day.\n",
      "There is a 0.1% chance that my losses will be -12.45% or worse over the next day.\n",
      "There is a 0.01% chance that my losses will be -13.76% or worse over the next day.\n"
     ]
    }
   ],
   "source": [
    "for q in [0.1, 0.05, 0.01, 0.001, 0.0001]:\n",
    "    VaR = strategy_returns['mavg_rets'].quantile(q)\n",
    "    print('There is a '+str(round(100*q,3))+'% chance that my losses will be '+str(round(VaR*100, 2))+'% or worse over the next day.')"
   ]
  },
  {
   "cell_type": "code",
   "execution_count": 97,
   "id": "2ab55ed1",
   "metadata": {},
   "outputs": [
    {
     "data": {
      "text/html": [
       "<div>\n",
       "<style scoped>\n",
       "    .dataframe tbody tr th:only-of-type {\n",
       "        vertical-align: middle;\n",
       "    }\n",
       "\n",
       "    .dataframe tbody tr th {\n",
       "        vertical-align: top;\n",
       "    }\n",
       "\n",
       "    .dataframe thead th {\n",
       "        text-align: right;\n",
       "    }\n",
       "</style>\n",
       "<table border=\"1\" class=\"dataframe\">\n",
       "  <thead>\n",
       "    <tr style=\"text-align: right;\">\n",
       "      <th></th>\n",
       "      <th>date</th>\n",
       "      <th>mavg_rets</th>\n",
       "      <th>mavg_cum_rets</th>\n",
       "    </tr>\n",
       "  </thead>\n",
       "  <tbody>\n",
       "    <tr>\n",
       "      <th>211</th>\n",
       "      <td>2008-10-31</td>\n",
       "      <td>-0.139090</td>\n",
       "      <td>2.288955</td>\n",
       "    </tr>\n",
       "    <tr>\n",
       "      <th>215</th>\n",
       "      <td>2009-02-27</td>\n",
       "      <td>-0.100134</td>\n",
       "      <td>1.822916</td>\n",
       "    </tr>\n",
       "  </tbody>\n",
       "</table>\n",
       "</div>"
      ],
      "text/plain": [
       "          date  mavg_rets  mavg_cum_rets\n",
       "211 2008-10-31  -0.139090       2.288955\n",
       "215 2009-02-27  -0.100134       1.822916"
      ]
     },
     "execution_count": 97,
     "metadata": {},
     "output_type": "execute_result"
    }
   ],
   "source": [
    "VaR = strategy_returns['mavg_rets'].quantile(0.005)\n",
    "rets_tail = strategy_returns.loc[strategy_returns['mavg_rets']<=VaR,[\"date\", \"mavg_rets\", \"mavg_cum_rets\"]]\n",
    "rets_tail"
   ]
  },
  {
   "cell_type": "code",
   "execution_count": 98,
   "id": "e4750315",
   "metadata": {},
   "outputs": [
    {
     "data": {
      "text/plain": [
       "-0.1196117599263998"
      ]
     },
     "execution_count": 98,
     "metadata": {},
     "output_type": "execute_result"
    }
   ],
   "source": [
    "ES = rets_tail['mavg_rets'].mean()\n",
    "ES"
   ]
  },
  {
   "cell_type": "code",
   "execution_count": 99,
   "id": "36a31c50",
   "metadata": {},
   "outputs": [
    {
     "name": "stdout",
     "output_type": "stream",
     "text": [
      "I expect to lose on average -3.78% over 1-day period given that I have exceeded my VaR for 10.0%.\n",
      "I expect to lose on average -5.53% over 1-day period given that I have exceeded my VaR for 5.0%.\n",
      "I expect to lose on average -9.71% over 1-day period given that I have exceeded my VaR for 1.0%.\n",
      "I expect to lose on average -13.91% over 1-day period given that I have exceeded my VaR for 0.1%.\n",
      "I expect to lose on average -13.91% over 1-day period given that I have exceeded my VaR for 0.01%.\n"
     ]
    }
   ],
   "source": [
    "for q in [0.1, 0.05, 0.01, 0.001, 0.0001]:\n",
    "    VaR = strategy_returns['mavg_rets'].quantile(q)\n",
    "    rets_tail = strategy_returns.loc[strategy_returns['mavg_rets']<=VaR,:]\n",
    "    ES = rets_tail['mavg_rets'].mean()\n",
    "    print('I expect to lose on average '+ str(round(ES*100, 2))+'% over 1-day period given that I have exceeded my VaR for '+str(round(100*q,3))+'%.')"
   ]
  },
  {
   "cell_type": "code",
   "execution_count": 100,
   "id": "fefe4224",
   "metadata": {},
   "outputs": [
    {
     "data": {
      "text/plain": [
       "-1.6464543075178297"
      ]
     },
     "execution_count": 100,
     "metadata": {},
     "output_type": "execute_result"
    }
   ],
   "source": [
    "# according to bloomberg the risk free rate (treasury yields) 4.76 % (last 30 years)\n",
    "# calculation of sharpe ratio\n",
    "\n",
    "rf = 0.0476\n",
    "sharpe_ratio = (mean_ret-rf)/volatility\n",
    "sharpe_ratio"
   ]
  },
  {
   "cell_type": "code",
   "execution_count": 101,
   "id": "1367e747",
   "metadata": {},
   "outputs": [],
   "source": [
    "# get SP500 data from 1990-01-31 to 2022-08-30\t\n",
    "sp500_ticker = yf.Ticker(\"^GSPC\")\n",
    "sp500 = sp500_ticker.history(start=\"1990-02-28\", end=\"2022-09-30\", interval=\"1mo\")\n",
    "sp500 = sp500[[\"Close\"]]\n",
    "sp500[\"Rets\"] = sp500.Close.pct_change()"
   ]
  },
  {
   "cell_type": "code",
   "execution_count": 102,
   "id": "fc1096be",
   "metadata": {},
   "outputs": [
    {
     "data": {
      "text/html": [
       "<div>\n",
       "<style scoped>\n",
       "    .dataframe tbody tr th:only-of-type {\n",
       "        vertical-align: middle;\n",
       "    }\n",
       "\n",
       "    .dataframe tbody tr th {\n",
       "        vertical-align: top;\n",
       "    }\n",
       "\n",
       "    .dataframe thead th {\n",
       "        text-align: right;\n",
       "    }\n",
       "</style>\n",
       "<table border=\"1\" class=\"dataframe\">\n",
       "  <thead>\n",
       "    <tr style=\"text-align: right;\">\n",
       "      <th></th>\n",
       "      <th>Close</th>\n",
       "      <th>Rets</th>\n",
       "    </tr>\n",
       "    <tr>\n",
       "      <th>Date</th>\n",
       "      <th></th>\n",
       "      <th></th>\n",
       "    </tr>\n",
       "  </thead>\n",
       "  <tbody>\n",
       "    <tr>\n",
       "      <th>1990-03-01 00:00:00-05:00</th>\n",
       "      <td>339.940002</td>\n",
       "      <td>NaN</td>\n",
       "    </tr>\n",
       "    <tr>\n",
       "      <th>1990-04-01 00:00:00-05:00</th>\n",
       "      <td>330.799988</td>\n",
       "      <td>-0.026887</td>\n",
       "    </tr>\n",
       "    <tr>\n",
       "      <th>1990-05-01 00:00:00-04:00</th>\n",
       "      <td>361.230011</td>\n",
       "      <td>0.091989</td>\n",
       "    </tr>\n",
       "    <tr>\n",
       "      <th>1990-06-01 00:00:00-04:00</th>\n",
       "      <td>358.019989</td>\n",
       "      <td>-0.008886</td>\n",
       "    </tr>\n",
       "    <tr>\n",
       "      <th>1990-07-01 00:00:00-04:00</th>\n",
       "      <td>356.149994</td>\n",
       "      <td>-0.005223</td>\n",
       "    </tr>\n",
       "    <tr>\n",
       "      <th>...</th>\n",
       "      <td>...</td>\n",
       "      <td>...</td>\n",
       "    </tr>\n",
       "    <tr>\n",
       "      <th>2022-05-01 00:00:00-04:00</th>\n",
       "      <td>4132.149902</td>\n",
       "      <td>0.000053</td>\n",
       "    </tr>\n",
       "    <tr>\n",
       "      <th>2022-06-01 00:00:00-04:00</th>\n",
       "      <td>3785.379883</td>\n",
       "      <td>-0.083920</td>\n",
       "    </tr>\n",
       "    <tr>\n",
       "      <th>2022-07-01 00:00:00-04:00</th>\n",
       "      <td>4130.290039</td>\n",
       "      <td>0.091116</td>\n",
       "    </tr>\n",
       "    <tr>\n",
       "      <th>2022-08-01 00:00:00-04:00</th>\n",
       "      <td>3955.000000</td>\n",
       "      <td>-0.042440</td>\n",
       "    </tr>\n",
       "    <tr>\n",
       "      <th>2022-09-01 00:00:00-04:00</th>\n",
       "      <td>3585.620117</td>\n",
       "      <td>-0.093396</td>\n",
       "    </tr>\n",
       "  </tbody>\n",
       "</table>\n",
       "<p>391 rows × 2 columns</p>\n",
       "</div>"
      ],
      "text/plain": [
       "                                 Close      Rets\n",
       "Date                                            \n",
       "1990-03-01 00:00:00-05:00   339.940002       NaN\n",
       "1990-04-01 00:00:00-05:00   330.799988 -0.026887\n",
       "1990-05-01 00:00:00-04:00   361.230011  0.091989\n",
       "1990-06-01 00:00:00-04:00   358.019989 -0.008886\n",
       "1990-07-01 00:00:00-04:00   356.149994 -0.005223\n",
       "...                                ...       ...\n",
       "2022-05-01 00:00:00-04:00  4132.149902  0.000053\n",
       "2022-06-01 00:00:00-04:00  3785.379883 -0.083920\n",
       "2022-07-01 00:00:00-04:00  4130.290039  0.091116\n",
       "2022-08-01 00:00:00-04:00  3955.000000 -0.042440\n",
       "2022-09-01 00:00:00-04:00  3585.620117 -0.093396\n",
       "\n",
       "[391 rows x 2 columns]"
      ]
     },
     "execution_count": 102,
     "metadata": {},
     "output_type": "execute_result"
    }
   ],
   "source": [
    "sp500"
   ]
  },
  {
   "cell_type": "code",
   "execution_count": 103,
   "id": "674d499f",
   "metadata": {},
   "outputs": [
    {
     "name": "stdout",
     "output_type": "stream",
     "text": [
      "Portfolio Beta: 0.018516648320690266\n",
      "Jensen's Alpha: -0.04174945589360124\n"
     ]
    }
   ],
   "source": [
    "# Calculate the average return of the market\n",
    "average_market_return = sp500.Rets.mean()\n",
    "\n",
    "# Calculate the covariance between portfolio and market returns\n",
    "covariance = strategy_returns['mavg_rets'].cov(sp500['Rets'].reset_index(drop=True))\n",
    "\n",
    "# Calculate the variance of the market returns\n",
    "market_variance = sp500['Rets'].var()\n",
    "\n",
    "# Calculate the portfolio's beta\n",
    "portfolio_beta = covariance / market_variance\n",
    "\n",
    "# Calculate Jensen's Alpha\n",
    "jensens_alpha = mean_ret - (rf + portfolio_beta * (average_market_return - rf))\n",
    "\n",
    "print(\"Portfolio Beta:\", portfolio_beta)\n",
    "print(\"Jensen's Alpha:\", jensens_alpha)"
   ]
  },
  {
   "cell_type": "code",
   "execution_count": 104,
   "id": "b5d4bbc5",
   "metadata": {},
   "outputs": [
    {
     "data": {
      "text/plain": [
       "-2.2953111572918425"
      ]
     },
     "execution_count": 104,
     "metadata": {},
     "output_type": "execute_result"
    }
   ],
   "source": [
    "# treynor ratio\n",
    "treynor_ratio = (mean_ret - rf)/portfolio_beta\n",
    "treynor_ratio"
   ]
  },
  {
   "cell_type": "code",
   "execution_count": 105,
   "id": "b016eee5",
   "metadata": {},
   "outputs": [
    {
     "name": "stdout",
     "output_type": "stream",
     "text": [
      "0.38234448312669506\n"
     ]
    }
   ],
   "source": [
    "# maximum drawdown\n",
    "peak = strategy_returns.reset_index(drop=True).loc[1, \"mavg_cum_rets\"]\n",
    "max_drawdown = 0\n",
    "for ret in strategy_returns[\"mavg_cum_rets\"].dropna():\n",
    "    if ret >= peak:\n",
    "        peak = ret\n",
    "    else:\n",
    "        drawdown = (peak - ret)/peak\n",
    "        max_drawdown = max(max_drawdown, drawdown)\n",
    "\n",
    "print(max_drawdown)"
   ]
  },
  {
   "cell_type": "code",
   "execution_count": 106,
   "id": "09c70947",
   "metadata": {},
   "outputs": [
    {
     "data": {
      "text/plain": [
       "0.03243148664941266"
      ]
     },
     "execution_count": 106,
     "metadata": {},
     "output_type": "execute_result"
    }
   ],
   "source": [
    "# calmar-ratio\n",
    "annualised_exp_return = round(mean_ret*12,2)\n",
    "calmar_ratio = (annualised_exp_return - rf)/max_drawdown\n",
    "calmar_ratio"
   ]
  }
 ],
 "metadata": {
  "kernelspec": {
   "display_name": "Python 3 (ipykernel)",
   "language": "python",
   "name": "python3"
  },
  "language_info": {
   "codemirror_mode": {
    "name": "ipython",
    "version": 3
   },
   "file_extension": ".py",
   "mimetype": "text/x-python",
   "name": "python",
   "nbconvert_exporter": "python",
   "pygments_lexer": "ipython3",
   "version": "3.9.0"
  }
 },
 "nbformat": 4,
 "nbformat_minor": 5
}
