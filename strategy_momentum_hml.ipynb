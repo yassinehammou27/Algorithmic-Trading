{
 "cells": [
  {
   "cell_type": "markdown",
   "id": "baa51d6d",
   "metadata": {},
   "source": [
    "# Group Project\n",
    "#### **FINN43815 - Python for Finance**"
   ]
  },
  {
   "cell_type": "code",
   "execution_count": 59,
   "id": "36a8edf5",
   "metadata": {},
   "outputs": [],
   "source": [
    "# Importing necessary packages\n",
    "import numpy as np\n",
    "import pandas as pd\n",
    "import plotly.express as px\n",
    "from scipy.stats import kurtosis, skew\n",
    "import yfinance as yf"
   ]
  },
  {
   "cell_type": "markdown",
   "id": "bdeb8da1",
   "metadata": {},
   "source": [
    "### Momentum and HML"
   ]
  },
  {
   "cell_type": "code",
   "execution_count": 60,
   "id": "a418c961",
   "metadata": {},
   "outputs": [
    {
     "name": "stderr",
     "output_type": "stream",
     "text": [
      "/var/folders/ch/yj3xbk4s1t34gtb89jtxcmcr0000gn/T/ipykernel_3999/2384377179.py:1: DtypeWarning:\n",
      "\n",
      "Columns (12) have mixed types. Specify dtype option on import or set low_memory=False.\n",
      "\n"
     ]
    }
   ],
   "source": [
    "data = pd.read_csv('cleaned_data.csv')\n",
    "data = data[[\"date\", \"permno\", \"price\", \"p2b\"]]"
   ]
  },
  {
   "cell_type": "markdown",
   "id": "452ab8e3",
   "metadata": {},
   "source": [
    "#### 2. Calculate returns:\n",
    "- Formation period returns ('form_rets'): returns over the past J=6 months.\n",
    "- Trading period returns ('hold_rets'): returns over the next K=1 month."
   ]
  },
  {
   "cell_type": "code",
   "execution_count": 61,
   "id": "9f2964a5",
   "metadata": {},
   "outputs": [
    {
     "name": "stderr",
     "output_type": "stream",
     "text": [
      "/var/folders/ch/yj3xbk4s1t34gtb89jtxcmcr0000gn/T/ipykernel_3999/1708375802.py:1: FutureWarning:\n",
      "\n",
      "The 'fill_method' and 'limit' keywords in Series.pct_change are deprecated and will be removed in a future version. Call ffill before calling pct_change instead.\n",
      "\n"
     ]
    },
    {
     "data": {
      "text/html": [
       "<div>\n",
       "<style scoped>\n",
       "    .dataframe tbody tr th:only-of-type {\n",
       "        vertical-align: middle;\n",
       "    }\n",
       "\n",
       "    .dataframe tbody tr th {\n",
       "        vertical-align: top;\n",
       "    }\n",
       "\n",
       "    .dataframe thead th {\n",
       "        text-align: right;\n",
       "    }\n",
       "</style>\n",
       "<table border=\"1\" class=\"dataframe\">\n",
       "  <thead>\n",
       "    <tr style=\"text-align: right;\">\n",
       "      <th></th>\n",
       "      <th>date</th>\n",
       "      <th>permno</th>\n",
       "      <th>price</th>\n",
       "      <th>p2b</th>\n",
       "      <th>form_rets</th>\n",
       "    </tr>\n",
       "  </thead>\n",
       "  <tbody>\n",
       "    <tr>\n",
       "      <th>0</th>\n",
       "      <td>1990-01-31</td>\n",
       "      <td>0111145D UN Equity</td>\n",
       "      <td>20.6875</td>\n",
       "      <td>NaN</td>\n",
       "      <td>NaN</td>\n",
       "    </tr>\n",
       "    <tr>\n",
       "      <th>1</th>\n",
       "      <td>1990-02-28</td>\n",
       "      <td>0111145D UN Equity</td>\n",
       "      <td>22.0000</td>\n",
       "      <td>NaN</td>\n",
       "      <td>NaN</td>\n",
       "    </tr>\n",
       "    <tr>\n",
       "      <th>2</th>\n",
       "      <td>1990-03-30</td>\n",
       "      <td>0111145D UN Equity</td>\n",
       "      <td>19.5000</td>\n",
       "      <td>NaN</td>\n",
       "      <td>NaN</td>\n",
       "    </tr>\n",
       "    <tr>\n",
       "      <th>3</th>\n",
       "      <td>1990-04-30</td>\n",
       "      <td>0111145D UN Equity</td>\n",
       "      <td>17.6250</td>\n",
       "      <td>1.5612</td>\n",
       "      <td>NaN</td>\n",
       "    </tr>\n",
       "    <tr>\n",
       "      <th>4</th>\n",
       "      <td>1990-05-31</td>\n",
       "      <td>0111145D UN Equity</td>\n",
       "      <td>19.8125</td>\n",
       "      <td>1.7550</td>\n",
       "      <td>NaN</td>\n",
       "    </tr>\n",
       "    <tr>\n",
       "      <th>5</th>\n",
       "      <td>1990-06-29</td>\n",
       "      <td>0111145D UN Equity</td>\n",
       "      <td>18.9375</td>\n",
       "      <td>1.6775</td>\n",
       "      <td>NaN</td>\n",
       "    </tr>\n",
       "    <tr>\n",
       "      <th>6</th>\n",
       "      <td>1990-07-31</td>\n",
       "      <td>0111145D UN Equity</td>\n",
       "      <td>19.6250</td>\n",
       "      <td>1.7262</td>\n",
       "      <td>-0.051360</td>\n",
       "    </tr>\n",
       "    <tr>\n",
       "      <th>7</th>\n",
       "      <td>1990-08-31</td>\n",
       "      <td>0111145D UN Equity</td>\n",
       "      <td>20.3750</td>\n",
       "      <td>1.7922</td>\n",
       "      <td>-0.073864</td>\n",
       "    </tr>\n",
       "    <tr>\n",
       "      <th>8</th>\n",
       "      <td>1990-09-28</td>\n",
       "      <td>0111145D UN Equity</td>\n",
       "      <td>21.7500</td>\n",
       "      <td>1.9131</td>\n",
       "      <td>0.115385</td>\n",
       "    </tr>\n",
       "    <tr>\n",
       "      <th>9</th>\n",
       "      <td>1990-10-31</td>\n",
       "      <td>0111145D UN Equity</td>\n",
       "      <td>22.8750</td>\n",
       "      <td>2.0292</td>\n",
       "      <td>0.297872</td>\n",
       "    </tr>\n",
       "    <tr>\n",
       "      <th>10</th>\n",
       "      <td>1990-11-30</td>\n",
       "      <td>0111145D UN Equity</td>\n",
       "      <td>23.1250</td>\n",
       "      <td>2.0513</td>\n",
       "      <td>0.167192</td>\n",
       "    </tr>\n",
       "    <tr>\n",
       "      <th>11</th>\n",
       "      <td>1990-12-31</td>\n",
       "      <td>0111145D UN Equity</td>\n",
       "      <td>22.0000</td>\n",
       "      <td>1.8845</td>\n",
       "      <td>0.161716</td>\n",
       "    </tr>\n",
       "    <tr>\n",
       "      <th>12</th>\n",
       "      <td>1991-01-31</td>\n",
       "      <td>0111145D UN Equity</td>\n",
       "      <td>20.6250</td>\n",
       "      <td>1.7667</td>\n",
       "      <td>0.050955</td>\n",
       "    </tr>\n",
       "    <tr>\n",
       "      <th>13</th>\n",
       "      <td>1991-02-28</td>\n",
       "      <td>0111145D UN Equity</td>\n",
       "      <td>20.6250</td>\n",
       "      <td>1.7667</td>\n",
       "      <td>0.012270</td>\n",
       "    </tr>\n",
       "    <tr>\n",
       "      <th>14</th>\n",
       "      <td>1991-03-28</td>\n",
       "      <td>0111145D UN Equity</td>\n",
       "      <td>20.5625</td>\n",
       "      <td>1.7614</td>\n",
       "      <td>-0.054598</td>\n",
       "    </tr>\n",
       "    <tr>\n",
       "      <th>15</th>\n",
       "      <td>1991-04-30</td>\n",
       "      <td>0111145D UN Equity</td>\n",
       "      <td>21.3750</td>\n",
       "      <td>1.7512</td>\n",
       "      <td>-0.065574</td>\n",
       "    </tr>\n",
       "    <tr>\n",
       "      <th>16</th>\n",
       "      <td>1991-05-31</td>\n",
       "      <td>0111145D UN Equity</td>\n",
       "      <td>21.0000</td>\n",
       "      <td>1.7204</td>\n",
       "      <td>-0.091892</td>\n",
       "    </tr>\n",
       "    <tr>\n",
       "      <th>17</th>\n",
       "      <td>1991-06-28</td>\n",
       "      <td>0111145D UN Equity</td>\n",
       "      <td>21.6250</td>\n",
       "      <td>1.7716</td>\n",
       "      <td>-0.017045</td>\n",
       "    </tr>\n",
       "    <tr>\n",
       "      <th>18</th>\n",
       "      <td>1991-07-31</td>\n",
       "      <td>0111145D UN Equity</td>\n",
       "      <td>21.0625</td>\n",
       "      <td>1.7280</td>\n",
       "      <td>0.021212</td>\n",
       "    </tr>\n",
       "    <tr>\n",
       "      <th>19</th>\n",
       "      <td>1991-08-30</td>\n",
       "      <td>0111145D UN Equity</td>\n",
       "      <td>20.8125</td>\n",
       "      <td>1.7075</td>\n",
       "      <td>0.009091</td>\n",
       "    </tr>\n",
       "  </tbody>\n",
       "</table>\n",
       "</div>"
      ],
      "text/plain": [
       "          date              permno    price     p2b  form_rets\n",
       "0   1990-01-31  0111145D UN Equity  20.6875     NaN        NaN\n",
       "1   1990-02-28  0111145D UN Equity  22.0000     NaN        NaN\n",
       "2   1990-03-30  0111145D UN Equity  19.5000     NaN        NaN\n",
       "3   1990-04-30  0111145D UN Equity  17.6250  1.5612        NaN\n",
       "4   1990-05-31  0111145D UN Equity  19.8125  1.7550        NaN\n",
       "5   1990-06-29  0111145D UN Equity  18.9375  1.6775        NaN\n",
       "6   1990-07-31  0111145D UN Equity  19.6250  1.7262  -0.051360\n",
       "7   1990-08-31  0111145D UN Equity  20.3750  1.7922  -0.073864\n",
       "8   1990-09-28  0111145D UN Equity  21.7500  1.9131   0.115385\n",
       "9   1990-10-31  0111145D UN Equity  22.8750  2.0292   0.297872\n",
       "10  1990-11-30  0111145D UN Equity  23.1250  2.0513   0.167192\n",
       "11  1990-12-31  0111145D UN Equity  22.0000  1.8845   0.161716\n",
       "12  1991-01-31  0111145D UN Equity  20.6250  1.7667   0.050955\n",
       "13  1991-02-28  0111145D UN Equity  20.6250  1.7667   0.012270\n",
       "14  1991-03-28  0111145D UN Equity  20.5625  1.7614  -0.054598\n",
       "15  1991-04-30  0111145D UN Equity  21.3750  1.7512  -0.065574\n",
       "16  1991-05-31  0111145D UN Equity  21.0000  1.7204  -0.091892\n",
       "17  1991-06-28  0111145D UN Equity  21.6250  1.7716  -0.017045\n",
       "18  1991-07-31  0111145D UN Equity  21.0625  1.7280   0.021212\n",
       "19  1991-08-30  0111145D UN Equity  20.8125  1.7075   0.009091"
      ]
     },
     "execution_count": 61,
     "metadata": {},
     "output_type": "execute_result"
    }
   ],
   "source": [
    "data['form_rets'] = data.groupby('permno')['price'].transform(pd.Series.pct_change, periods=6, fill_method=None)\n",
    "data.head(20)"
   ]
  },
  {
   "cell_type": "code",
   "execution_count": 62,
   "id": "ae740267",
   "metadata": {},
   "outputs": [
    {
     "name": "stderr",
     "output_type": "stream",
     "text": [
      "/var/folders/ch/yj3xbk4s1t34gtb89jtxcmcr0000gn/T/ipykernel_3999/2474077109.py:1: FutureWarning:\n",
      "\n",
      "The default fill_method='ffill' in SeriesGroupBy.pct_change is deprecated and will be removed in a future version. Call ffill before calling pct_change to retain current behavior and silence this warning.\n",
      "\n"
     ]
    },
    {
     "data": {
      "text/html": [
       "<div>\n",
       "<style scoped>\n",
       "    .dataframe tbody tr th:only-of-type {\n",
       "        vertical-align: middle;\n",
       "    }\n",
       "\n",
       "    .dataframe tbody tr th {\n",
       "        vertical-align: top;\n",
       "    }\n",
       "\n",
       "    .dataframe thead th {\n",
       "        text-align: right;\n",
       "    }\n",
       "</style>\n",
       "<table border=\"1\" class=\"dataframe\">\n",
       "  <thead>\n",
       "    <tr style=\"text-align: right;\">\n",
       "      <th></th>\n",
       "      <th>date</th>\n",
       "      <th>permno</th>\n",
       "      <th>price</th>\n",
       "      <th>p2b</th>\n",
       "      <th>form_rets</th>\n",
       "      <th>hold_rets</th>\n",
       "    </tr>\n",
       "  </thead>\n",
       "  <tbody>\n",
       "    <tr>\n",
       "      <th>0</th>\n",
       "      <td>1990-01-31</td>\n",
       "      <td>0111145D UN Equity</td>\n",
       "      <td>20.6875</td>\n",
       "      <td>NaN</td>\n",
       "      <td>NaN</td>\n",
       "      <td>-0.113636</td>\n",
       "    </tr>\n",
       "    <tr>\n",
       "      <th>1</th>\n",
       "      <td>1990-02-28</td>\n",
       "      <td>0111145D UN Equity</td>\n",
       "      <td>22.0000</td>\n",
       "      <td>NaN</td>\n",
       "      <td>NaN</td>\n",
       "      <td>-0.096154</td>\n",
       "    </tr>\n",
       "    <tr>\n",
       "      <th>2</th>\n",
       "      <td>1990-03-30</td>\n",
       "      <td>0111145D UN Equity</td>\n",
       "      <td>19.5000</td>\n",
       "      <td>NaN</td>\n",
       "      <td>NaN</td>\n",
       "      <td>0.124113</td>\n",
       "    </tr>\n",
       "    <tr>\n",
       "      <th>3</th>\n",
       "      <td>1990-04-30</td>\n",
       "      <td>0111145D UN Equity</td>\n",
       "      <td>17.6250</td>\n",
       "      <td>1.5612</td>\n",
       "      <td>NaN</td>\n",
       "      <td>-0.044164</td>\n",
       "    </tr>\n",
       "    <tr>\n",
       "      <th>4</th>\n",
       "      <td>1990-05-31</td>\n",
       "      <td>0111145D UN Equity</td>\n",
       "      <td>19.8125</td>\n",
       "      <td>1.7550</td>\n",
       "      <td>NaN</td>\n",
       "      <td>0.036304</td>\n",
       "    </tr>\n",
       "    <tr>\n",
       "      <th>5</th>\n",
       "      <td>1990-06-29</td>\n",
       "      <td>0111145D UN Equity</td>\n",
       "      <td>18.9375</td>\n",
       "      <td>1.6775</td>\n",
       "      <td>NaN</td>\n",
       "      <td>0.038217</td>\n",
       "    </tr>\n",
       "    <tr>\n",
       "      <th>6</th>\n",
       "      <td>1990-07-31</td>\n",
       "      <td>0111145D UN Equity</td>\n",
       "      <td>19.6250</td>\n",
       "      <td>1.7262</td>\n",
       "      <td>-0.051360</td>\n",
       "      <td>0.067485</td>\n",
       "    </tr>\n",
       "    <tr>\n",
       "      <th>7</th>\n",
       "      <td>1990-08-31</td>\n",
       "      <td>0111145D UN Equity</td>\n",
       "      <td>20.3750</td>\n",
       "      <td>1.7922</td>\n",
       "      <td>-0.073864</td>\n",
       "      <td>0.051724</td>\n",
       "    </tr>\n",
       "    <tr>\n",
       "      <th>8</th>\n",
       "      <td>1990-09-28</td>\n",
       "      <td>0111145D UN Equity</td>\n",
       "      <td>21.7500</td>\n",
       "      <td>1.9131</td>\n",
       "      <td>0.115385</td>\n",
       "      <td>0.010929</td>\n",
       "    </tr>\n",
       "    <tr>\n",
       "      <th>9</th>\n",
       "      <td>1990-10-31</td>\n",
       "      <td>0111145D UN Equity</td>\n",
       "      <td>22.8750</td>\n",
       "      <td>2.0292</td>\n",
       "      <td>0.297872</td>\n",
       "      <td>-0.048649</td>\n",
       "    </tr>\n",
       "    <tr>\n",
       "      <th>10</th>\n",
       "      <td>1990-11-30</td>\n",
       "      <td>0111145D UN Equity</td>\n",
       "      <td>23.1250</td>\n",
       "      <td>2.0513</td>\n",
       "      <td>0.167192</td>\n",
       "      <td>-0.062500</td>\n",
       "    </tr>\n",
       "    <tr>\n",
       "      <th>11</th>\n",
       "      <td>1990-12-31</td>\n",
       "      <td>0111145D UN Equity</td>\n",
       "      <td>22.0000</td>\n",
       "      <td>1.8845</td>\n",
       "      <td>0.161716</td>\n",
       "      <td>0.000000</td>\n",
       "    </tr>\n",
       "    <tr>\n",
       "      <th>12</th>\n",
       "      <td>1991-01-31</td>\n",
       "      <td>0111145D UN Equity</td>\n",
       "      <td>20.6250</td>\n",
       "      <td>1.7667</td>\n",
       "      <td>0.050955</td>\n",
       "      <td>-0.003030</td>\n",
       "    </tr>\n",
       "    <tr>\n",
       "      <th>13</th>\n",
       "      <td>1991-02-28</td>\n",
       "      <td>0111145D UN Equity</td>\n",
       "      <td>20.6250</td>\n",
       "      <td>1.7667</td>\n",
       "      <td>0.012270</td>\n",
       "      <td>0.039514</td>\n",
       "    </tr>\n",
       "    <tr>\n",
       "      <th>14</th>\n",
       "      <td>1991-03-28</td>\n",
       "      <td>0111145D UN Equity</td>\n",
       "      <td>20.5625</td>\n",
       "      <td>1.7614</td>\n",
       "      <td>-0.054598</td>\n",
       "      <td>-0.017544</td>\n",
       "    </tr>\n",
       "    <tr>\n",
       "      <th>15</th>\n",
       "      <td>1991-04-30</td>\n",
       "      <td>0111145D UN Equity</td>\n",
       "      <td>21.3750</td>\n",
       "      <td>1.7512</td>\n",
       "      <td>-0.065574</td>\n",
       "      <td>0.029762</td>\n",
       "    </tr>\n",
       "    <tr>\n",
       "      <th>16</th>\n",
       "      <td>1991-05-31</td>\n",
       "      <td>0111145D UN Equity</td>\n",
       "      <td>21.0000</td>\n",
       "      <td>1.7204</td>\n",
       "      <td>-0.091892</td>\n",
       "      <td>-0.026012</td>\n",
       "    </tr>\n",
       "    <tr>\n",
       "      <th>17</th>\n",
       "      <td>1991-06-28</td>\n",
       "      <td>0111145D UN Equity</td>\n",
       "      <td>21.6250</td>\n",
       "      <td>1.7716</td>\n",
       "      <td>-0.017045</td>\n",
       "      <td>-0.011869</td>\n",
       "    </tr>\n",
       "    <tr>\n",
       "      <th>18</th>\n",
       "      <td>1991-07-31</td>\n",
       "      <td>0111145D UN Equity</td>\n",
       "      <td>21.0625</td>\n",
       "      <td>1.7280</td>\n",
       "      <td>0.021212</td>\n",
       "      <td>0.051051</td>\n",
       "    </tr>\n",
       "    <tr>\n",
       "      <th>19</th>\n",
       "      <td>1991-08-30</td>\n",
       "      <td>0111145D UN Equity</td>\n",
       "      <td>20.8125</td>\n",
       "      <td>1.7075</td>\n",
       "      <td>0.009091</td>\n",
       "      <td>0.062857</td>\n",
       "    </tr>\n",
       "  </tbody>\n",
       "</table>\n",
       "</div>"
      ],
      "text/plain": [
       "          date              permno    price     p2b  form_rets  hold_rets\n",
       "0   1990-01-31  0111145D UN Equity  20.6875     NaN        NaN  -0.113636\n",
       "1   1990-02-28  0111145D UN Equity  22.0000     NaN        NaN  -0.096154\n",
       "2   1990-03-30  0111145D UN Equity  19.5000     NaN        NaN   0.124113\n",
       "3   1990-04-30  0111145D UN Equity  17.6250  1.5612        NaN  -0.044164\n",
       "4   1990-05-31  0111145D UN Equity  19.8125  1.7550        NaN   0.036304\n",
       "5   1990-06-29  0111145D UN Equity  18.9375  1.6775        NaN   0.038217\n",
       "6   1990-07-31  0111145D UN Equity  19.6250  1.7262  -0.051360   0.067485\n",
       "7   1990-08-31  0111145D UN Equity  20.3750  1.7922  -0.073864   0.051724\n",
       "8   1990-09-28  0111145D UN Equity  21.7500  1.9131   0.115385   0.010929\n",
       "9   1990-10-31  0111145D UN Equity  22.8750  2.0292   0.297872  -0.048649\n",
       "10  1990-11-30  0111145D UN Equity  23.1250  2.0513   0.167192  -0.062500\n",
       "11  1990-12-31  0111145D UN Equity  22.0000  1.8845   0.161716   0.000000\n",
       "12  1991-01-31  0111145D UN Equity  20.6250  1.7667   0.050955  -0.003030\n",
       "13  1991-02-28  0111145D UN Equity  20.6250  1.7667   0.012270   0.039514\n",
       "14  1991-03-28  0111145D UN Equity  20.5625  1.7614  -0.054598  -0.017544\n",
       "15  1991-04-30  0111145D UN Equity  21.3750  1.7512  -0.065574   0.029762\n",
       "16  1991-05-31  0111145D UN Equity  21.0000  1.7204  -0.091892  -0.026012\n",
       "17  1991-06-28  0111145D UN Equity  21.6250  1.7716  -0.017045  -0.011869\n",
       "18  1991-07-31  0111145D UN Equity  21.0625  1.7280   0.021212   0.051051\n",
       "19  1991-08-30  0111145D UN Equity  20.8125  1.7075   0.009091   0.062857"
      ]
     },
     "execution_count": 62,
     "metadata": {},
     "output_type": "execute_result"
    }
   ],
   "source": [
    "data['hold_rets'] = data.groupby('permno')['price'].pct_change(periods=1).groupby(data['permno']).shift(-2)\n",
    "data.head(20)"
   ]
  },
  {
   "cell_type": "markdown",
   "id": "eaffa315",
   "metadata": {},
   "source": [
    "#### 3. Define the stock universe and sort stocks into 3 decile groups"
   ]
  },
  {
   "cell_type": "code",
   "execution_count": 63,
   "id": "cd6c461b",
   "metadata": {},
   "outputs": [
    {
     "data": {
      "text/html": [
       "<div>\n",
       "<style scoped>\n",
       "    .dataframe tbody tr th:only-of-type {\n",
       "        vertical-align: middle;\n",
       "    }\n",
       "\n",
       "    .dataframe tbody tr th {\n",
       "        vertical-align: top;\n",
       "    }\n",
       "\n",
       "    .dataframe thead th {\n",
       "        text-align: right;\n",
       "    }\n",
       "</style>\n",
       "<table border=\"1\" class=\"dataframe\">\n",
       "  <thead>\n",
       "    <tr style=\"text-align: right;\">\n",
       "      <th></th>\n",
       "      <th>date</th>\n",
       "      <th>permno</th>\n",
       "      <th>price</th>\n",
       "      <th>p2b</th>\n",
       "      <th>form_rets</th>\n",
       "      <th>hold_rets</th>\n",
       "      <th>good_stock</th>\n",
       "    </tr>\n",
       "  </thead>\n",
       "  <tbody>\n",
       "    <tr>\n",
       "      <th>0</th>\n",
       "      <td>1990-01-31</td>\n",
       "      <td>0111145D UN Equity</td>\n",
       "      <td>20.6875</td>\n",
       "      <td>NaN</td>\n",
       "      <td>NaN</td>\n",
       "      <td>-0.113636</td>\n",
       "      <td>0</td>\n",
       "    </tr>\n",
       "    <tr>\n",
       "      <th>1</th>\n",
       "      <td>1990-02-28</td>\n",
       "      <td>0111145D UN Equity</td>\n",
       "      <td>22.0000</td>\n",
       "      <td>NaN</td>\n",
       "      <td>NaN</td>\n",
       "      <td>-0.096154</td>\n",
       "      <td>0</td>\n",
       "    </tr>\n",
       "    <tr>\n",
       "      <th>2</th>\n",
       "      <td>1990-03-30</td>\n",
       "      <td>0111145D UN Equity</td>\n",
       "      <td>19.5000</td>\n",
       "      <td>NaN</td>\n",
       "      <td>NaN</td>\n",
       "      <td>0.124113</td>\n",
       "      <td>0</td>\n",
       "    </tr>\n",
       "    <tr>\n",
       "      <th>3</th>\n",
       "      <td>1990-04-30</td>\n",
       "      <td>0111145D UN Equity</td>\n",
       "      <td>17.6250</td>\n",
       "      <td>1.5612</td>\n",
       "      <td>NaN</td>\n",
       "      <td>-0.044164</td>\n",
       "      <td>0</td>\n",
       "    </tr>\n",
       "    <tr>\n",
       "      <th>4</th>\n",
       "      <td>1990-05-31</td>\n",
       "      <td>0111145D UN Equity</td>\n",
       "      <td>19.8125</td>\n",
       "      <td>1.7550</td>\n",
       "      <td>NaN</td>\n",
       "      <td>0.036304</td>\n",
       "      <td>0</td>\n",
       "    </tr>\n",
       "    <tr>\n",
       "      <th>5</th>\n",
       "      <td>1990-06-29</td>\n",
       "      <td>0111145D UN Equity</td>\n",
       "      <td>18.9375</td>\n",
       "      <td>1.6775</td>\n",
       "      <td>NaN</td>\n",
       "      <td>0.038217</td>\n",
       "      <td>0</td>\n",
       "    </tr>\n",
       "    <tr>\n",
       "      <th>6</th>\n",
       "      <td>1990-07-31</td>\n",
       "      <td>0111145D UN Equity</td>\n",
       "      <td>19.6250</td>\n",
       "      <td>1.7262</td>\n",
       "      <td>-0.051360</td>\n",
       "      <td>0.067485</td>\n",
       "      <td>1</td>\n",
       "    </tr>\n",
       "    <tr>\n",
       "      <th>7</th>\n",
       "      <td>1990-08-31</td>\n",
       "      <td>0111145D UN Equity</td>\n",
       "      <td>20.3750</td>\n",
       "      <td>1.7922</td>\n",
       "      <td>-0.073864</td>\n",
       "      <td>0.051724</td>\n",
       "      <td>1</td>\n",
       "    </tr>\n",
       "    <tr>\n",
       "      <th>8</th>\n",
       "      <td>1990-09-28</td>\n",
       "      <td>0111145D UN Equity</td>\n",
       "      <td>21.7500</td>\n",
       "      <td>1.9131</td>\n",
       "      <td>0.115385</td>\n",
       "      <td>0.010929</td>\n",
       "      <td>1</td>\n",
       "    </tr>\n",
       "    <tr>\n",
       "      <th>9</th>\n",
       "      <td>1990-10-31</td>\n",
       "      <td>0111145D UN Equity</td>\n",
       "      <td>22.8750</td>\n",
       "      <td>2.0292</td>\n",
       "      <td>0.297872</td>\n",
       "      <td>-0.048649</td>\n",
       "      <td>1</td>\n",
       "    </tr>\n",
       "    <tr>\n",
       "      <th>10</th>\n",
       "      <td>1990-11-30</td>\n",
       "      <td>0111145D UN Equity</td>\n",
       "      <td>23.1250</td>\n",
       "      <td>2.0513</td>\n",
       "      <td>0.167192</td>\n",
       "      <td>-0.062500</td>\n",
       "      <td>1</td>\n",
       "    </tr>\n",
       "    <tr>\n",
       "      <th>11</th>\n",
       "      <td>1990-12-31</td>\n",
       "      <td>0111145D UN Equity</td>\n",
       "      <td>22.0000</td>\n",
       "      <td>1.8845</td>\n",
       "      <td>0.161716</td>\n",
       "      <td>0.000000</td>\n",
       "      <td>1</td>\n",
       "    </tr>\n",
       "    <tr>\n",
       "      <th>12</th>\n",
       "      <td>1991-01-31</td>\n",
       "      <td>0111145D UN Equity</td>\n",
       "      <td>20.6250</td>\n",
       "      <td>1.7667</td>\n",
       "      <td>0.050955</td>\n",
       "      <td>-0.003030</td>\n",
       "      <td>1</td>\n",
       "    </tr>\n",
       "    <tr>\n",
       "      <th>13</th>\n",
       "      <td>1991-02-28</td>\n",
       "      <td>0111145D UN Equity</td>\n",
       "      <td>20.6250</td>\n",
       "      <td>1.7667</td>\n",
       "      <td>0.012270</td>\n",
       "      <td>0.039514</td>\n",
       "      <td>1</td>\n",
       "    </tr>\n",
       "    <tr>\n",
       "      <th>14</th>\n",
       "      <td>1991-03-28</td>\n",
       "      <td>0111145D UN Equity</td>\n",
       "      <td>20.5625</td>\n",
       "      <td>1.7614</td>\n",
       "      <td>-0.054598</td>\n",
       "      <td>-0.017544</td>\n",
       "      <td>1</td>\n",
       "    </tr>\n",
       "    <tr>\n",
       "      <th>15</th>\n",
       "      <td>1991-04-30</td>\n",
       "      <td>0111145D UN Equity</td>\n",
       "      <td>21.3750</td>\n",
       "      <td>1.7512</td>\n",
       "      <td>-0.065574</td>\n",
       "      <td>0.029762</td>\n",
       "      <td>1</td>\n",
       "    </tr>\n",
       "    <tr>\n",
       "      <th>16</th>\n",
       "      <td>1991-05-31</td>\n",
       "      <td>0111145D UN Equity</td>\n",
       "      <td>21.0000</td>\n",
       "      <td>1.7204</td>\n",
       "      <td>-0.091892</td>\n",
       "      <td>-0.026012</td>\n",
       "      <td>1</td>\n",
       "    </tr>\n",
       "    <tr>\n",
       "      <th>17</th>\n",
       "      <td>1991-06-28</td>\n",
       "      <td>0111145D UN Equity</td>\n",
       "      <td>21.6250</td>\n",
       "      <td>1.7716</td>\n",
       "      <td>-0.017045</td>\n",
       "      <td>-0.011869</td>\n",
       "      <td>1</td>\n",
       "    </tr>\n",
       "    <tr>\n",
       "      <th>18</th>\n",
       "      <td>1991-07-31</td>\n",
       "      <td>0111145D UN Equity</td>\n",
       "      <td>21.0625</td>\n",
       "      <td>1.7280</td>\n",
       "      <td>0.021212</td>\n",
       "      <td>0.051051</td>\n",
       "      <td>1</td>\n",
       "    </tr>\n",
       "    <tr>\n",
       "      <th>19</th>\n",
       "      <td>1991-08-30</td>\n",
       "      <td>0111145D UN Equity</td>\n",
       "      <td>20.8125</td>\n",
       "      <td>1.7075</td>\n",
       "      <td>0.009091</td>\n",
       "      <td>0.062857</td>\n",
       "      <td>1</td>\n",
       "    </tr>\n",
       "  </tbody>\n",
       "</table>\n",
       "</div>"
      ],
      "text/plain": [
       "          date              permno    price     p2b  form_rets  hold_rets  \\\n",
       "0   1990-01-31  0111145D UN Equity  20.6875     NaN        NaN  -0.113636   \n",
       "1   1990-02-28  0111145D UN Equity  22.0000     NaN        NaN  -0.096154   \n",
       "2   1990-03-30  0111145D UN Equity  19.5000     NaN        NaN   0.124113   \n",
       "3   1990-04-30  0111145D UN Equity  17.6250  1.5612        NaN  -0.044164   \n",
       "4   1990-05-31  0111145D UN Equity  19.8125  1.7550        NaN   0.036304   \n",
       "5   1990-06-29  0111145D UN Equity  18.9375  1.6775        NaN   0.038217   \n",
       "6   1990-07-31  0111145D UN Equity  19.6250  1.7262  -0.051360   0.067485   \n",
       "7   1990-08-31  0111145D UN Equity  20.3750  1.7922  -0.073864   0.051724   \n",
       "8   1990-09-28  0111145D UN Equity  21.7500  1.9131   0.115385   0.010929   \n",
       "9   1990-10-31  0111145D UN Equity  22.8750  2.0292   0.297872  -0.048649   \n",
       "10  1990-11-30  0111145D UN Equity  23.1250  2.0513   0.167192  -0.062500   \n",
       "11  1990-12-31  0111145D UN Equity  22.0000  1.8845   0.161716   0.000000   \n",
       "12  1991-01-31  0111145D UN Equity  20.6250  1.7667   0.050955  -0.003030   \n",
       "13  1991-02-28  0111145D UN Equity  20.6250  1.7667   0.012270   0.039514   \n",
       "14  1991-03-28  0111145D UN Equity  20.5625  1.7614  -0.054598  -0.017544   \n",
       "15  1991-04-30  0111145D UN Equity  21.3750  1.7512  -0.065574   0.029762   \n",
       "16  1991-05-31  0111145D UN Equity  21.0000  1.7204  -0.091892  -0.026012   \n",
       "17  1991-06-28  0111145D UN Equity  21.6250  1.7716  -0.017045  -0.011869   \n",
       "18  1991-07-31  0111145D UN Equity  21.0625  1.7280   0.021212   0.051051   \n",
       "19  1991-08-30  0111145D UN Equity  20.8125  1.7075   0.009091   0.062857   \n",
       "\n",
       "    good_stock  \n",
       "0            0  \n",
       "1            0  \n",
       "2            0  \n",
       "3            0  \n",
       "4            0  \n",
       "5            0  \n",
       "6            1  \n",
       "7            1  \n",
       "8            1  \n",
       "9            1  \n",
       "10           1  \n",
       "11           1  \n",
       "12           1  \n",
       "13           1  \n",
       "14           1  \n",
       "15           1  \n",
       "16           1  \n",
       "17           1  \n",
       "18           1  \n",
       "19           1  "
      ]
     },
     "execution_count": 63,
     "metadata": {},
     "output_type": "execute_result"
    }
   ],
   "source": [
    "# Construct an indicator for a 'good' stock\n",
    "data['good_stock'] = 0\n",
    "data.loc[(~data['form_rets'].isnull()) & (~data['p2b'].isnull()), 'good_stock']=1\n",
    "data.head(20)"
   ]
  },
  {
   "cell_type": "code",
   "execution_count": 64,
   "id": "c792b56d",
   "metadata": {},
   "outputs": [
    {
     "data": {
      "text/html": [
       "<div>\n",
       "<style scoped>\n",
       "    .dataframe tbody tr th:only-of-type {\n",
       "        vertical-align: middle;\n",
       "    }\n",
       "\n",
       "    .dataframe tbody tr th {\n",
       "        vertical-align: top;\n",
       "    }\n",
       "\n",
       "    .dataframe thead th {\n",
       "        text-align: right;\n",
       "    }\n",
       "</style>\n",
       "<table border=\"1\" class=\"dataframe\">\n",
       "  <thead>\n",
       "    <tr style=\"text-align: right;\">\n",
       "      <th></th>\n",
       "      <th>date</th>\n",
       "      <th>permno</th>\n",
       "      <th>price</th>\n",
       "      <th>p2b</th>\n",
       "      <th>form_rets</th>\n",
       "      <th>hold_rets</th>\n",
       "      <th>good_stock</th>\n",
       "      <th>port_mom</th>\n",
       "    </tr>\n",
       "  </thead>\n",
       "  <tbody>\n",
       "    <tr>\n",
       "      <th>0</th>\n",
       "      <td>1990-01-31</td>\n",
       "      <td>0111145D UN Equity</td>\n",
       "      <td>20.6875</td>\n",
       "      <td>NaN</td>\n",
       "      <td>NaN</td>\n",
       "      <td>-0.113636</td>\n",
       "      <td>0</td>\n",
       "      <td>NaN</td>\n",
       "    </tr>\n",
       "    <tr>\n",
       "      <th>1</th>\n",
       "      <td>1990-02-28</td>\n",
       "      <td>0111145D UN Equity</td>\n",
       "      <td>22.0000</td>\n",
       "      <td>NaN</td>\n",
       "      <td>NaN</td>\n",
       "      <td>-0.096154</td>\n",
       "      <td>0</td>\n",
       "      <td>NaN</td>\n",
       "    </tr>\n",
       "    <tr>\n",
       "      <th>2</th>\n",
       "      <td>1990-03-30</td>\n",
       "      <td>0111145D UN Equity</td>\n",
       "      <td>19.5000</td>\n",
       "      <td>NaN</td>\n",
       "      <td>NaN</td>\n",
       "      <td>0.124113</td>\n",
       "      <td>0</td>\n",
       "      <td>NaN</td>\n",
       "    </tr>\n",
       "    <tr>\n",
       "      <th>3</th>\n",
       "      <td>1990-04-30</td>\n",
       "      <td>0111145D UN Equity</td>\n",
       "      <td>17.6250</td>\n",
       "      <td>1.5612</td>\n",
       "      <td>NaN</td>\n",
       "      <td>-0.044164</td>\n",
       "      <td>0</td>\n",
       "      <td>NaN</td>\n",
       "    </tr>\n",
       "    <tr>\n",
       "      <th>4</th>\n",
       "      <td>1990-05-31</td>\n",
       "      <td>0111145D UN Equity</td>\n",
       "      <td>19.8125</td>\n",
       "      <td>1.7550</td>\n",
       "      <td>NaN</td>\n",
       "      <td>0.036304</td>\n",
       "      <td>0</td>\n",
       "      <td>NaN</td>\n",
       "    </tr>\n",
       "    <tr>\n",
       "      <th>...</th>\n",
       "      <td>...</td>\n",
       "      <td>...</td>\n",
       "      <td>...</td>\n",
       "      <td>...</td>\n",
       "      <td>...</td>\n",
       "      <td>...</td>\n",
       "      <td>...</td>\n",
       "      <td>...</td>\n",
       "    </tr>\n",
       "    <tr>\n",
       "      <th>514691</th>\n",
       "      <td>2022-04-29</td>\n",
       "      <td>J UN Equity</td>\n",
       "      <td>138.5500</td>\n",
       "      <td>2.9386</td>\n",
       "      <td>-0.013317</td>\n",
       "      <td>-0.092512</td>\n",
       "      <td>1</td>\n",
       "      <td>2</td>\n",
       "    </tr>\n",
       "    <tr>\n",
       "      <th>514692</th>\n",
       "      <td>2022-05-31</td>\n",
       "      <td>J UN Equity</td>\n",
       "      <td>140.0900</td>\n",
       "      <td>2.9712</td>\n",
       "      <td>-0.017326</td>\n",
       "      <td>0.079997</td>\n",
       "      <td>1</td>\n",
       "      <td>2</td>\n",
       "    </tr>\n",
       "    <tr>\n",
       "      <th>514693</th>\n",
       "      <td>2022-06-30</td>\n",
       "      <td>J UN Equity</td>\n",
       "      <td>127.1300</td>\n",
       "      <td>2.6964</td>\n",
       "      <td>-0.086907</td>\n",
       "      <td>-0.093664</td>\n",
       "      <td>1</td>\n",
       "      <td>3</td>\n",
       "    </tr>\n",
       "    <tr>\n",
       "      <th>514694</th>\n",
       "      <td>2022-07-29</td>\n",
       "      <td>J UN Equity</td>\n",
       "      <td>137.3000</td>\n",
       "      <td>2.9522</td>\n",
       "      <td>0.054694</td>\n",
       "      <td>NaN</td>\n",
       "      <td>1</td>\n",
       "      <td>3</td>\n",
       "    </tr>\n",
       "    <tr>\n",
       "      <th>514695</th>\n",
       "      <td>2022-08-30</td>\n",
       "      <td>J UN Equity</td>\n",
       "      <td>124.4400</td>\n",
       "      <td>2.6757</td>\n",
       "      <td>0.011707</td>\n",
       "      <td>NaN</td>\n",
       "      <td>1</td>\n",
       "      <td>3</td>\n",
       "    </tr>\n",
       "  </tbody>\n",
       "</table>\n",
       "<p>514696 rows × 8 columns</p>\n",
       "</div>"
      ],
      "text/plain": [
       "              date              permno     price     p2b  form_rets  \\\n",
       "0       1990-01-31  0111145D UN Equity   20.6875     NaN        NaN   \n",
       "1       1990-02-28  0111145D UN Equity   22.0000     NaN        NaN   \n",
       "2       1990-03-30  0111145D UN Equity   19.5000     NaN        NaN   \n",
       "3       1990-04-30  0111145D UN Equity   17.6250  1.5612        NaN   \n",
       "4       1990-05-31  0111145D UN Equity   19.8125  1.7550        NaN   \n",
       "...            ...                 ...       ...     ...        ...   \n",
       "514691  2022-04-29         J UN Equity  138.5500  2.9386  -0.013317   \n",
       "514692  2022-05-31         J UN Equity  140.0900  2.9712  -0.017326   \n",
       "514693  2022-06-30         J UN Equity  127.1300  2.6964  -0.086907   \n",
       "514694  2022-07-29         J UN Equity  137.3000  2.9522   0.054694   \n",
       "514695  2022-08-30         J UN Equity  124.4400  2.6757   0.011707   \n",
       "\n",
       "        hold_rets  good_stock port_mom  \n",
       "0       -0.113636           0      NaN  \n",
       "1       -0.096154           0      NaN  \n",
       "2        0.124113           0      NaN  \n",
       "3       -0.044164           0      NaN  \n",
       "4        0.036304           0      NaN  \n",
       "...           ...         ...      ...  \n",
       "514691  -0.092512           1        2  \n",
       "514692   0.079997           1        2  \n",
       "514693  -0.093664           1        3  \n",
       "514694        NaN           1        3  \n",
       "514695        NaN           1        3  \n",
       "\n",
       "[514696 rows x 8 columns]"
      ]
     },
     "execution_count": 64,
     "metadata": {},
     "output_type": "execute_result"
    }
   ],
   "source": [
    "# Assign stocks into 3 equal groups based on formation period returns\n",
    "data['port_mom'] = data.loc[data['good_stock']==1].groupby('date')['form_rets'].transform(pd.qcut, q=3, labels=range(1,4)).astype(str)\n",
    "data"
   ]
  },
  {
   "cell_type": "code",
   "execution_count": 65,
   "id": "297f65e3",
   "metadata": {},
   "outputs": [
    {
     "data": {
      "text/html": [
       "<div>\n",
       "<style scoped>\n",
       "    .dataframe tbody tr th:only-of-type {\n",
       "        vertical-align: middle;\n",
       "    }\n",
       "\n",
       "    .dataframe tbody tr th {\n",
       "        vertical-align: top;\n",
       "    }\n",
       "\n",
       "    .dataframe thead th {\n",
       "        text-align: right;\n",
       "    }\n",
       "</style>\n",
       "<table border=\"1\" class=\"dataframe\">\n",
       "  <thead>\n",
       "    <tr style=\"text-align: right;\">\n",
       "      <th></th>\n",
       "      <th>date</th>\n",
       "      <th>permno</th>\n",
       "      <th>price</th>\n",
       "      <th>p2b</th>\n",
       "      <th>form_rets</th>\n",
       "      <th>hold_rets</th>\n",
       "      <th>good_stock</th>\n",
       "      <th>port_mom</th>\n",
       "      <th>port_value</th>\n",
       "    </tr>\n",
       "  </thead>\n",
       "  <tbody>\n",
       "    <tr>\n",
       "      <th>0</th>\n",
       "      <td>1990-01-31</td>\n",
       "      <td>0111145D UN Equity</td>\n",
       "      <td>20.6875</td>\n",
       "      <td>NaN</td>\n",
       "      <td>NaN</td>\n",
       "      <td>-0.113636</td>\n",
       "      <td>0</td>\n",
       "      <td>NaN</td>\n",
       "      <td>NaN</td>\n",
       "    </tr>\n",
       "    <tr>\n",
       "      <th>1</th>\n",
       "      <td>1990-02-28</td>\n",
       "      <td>0111145D UN Equity</td>\n",
       "      <td>22.0000</td>\n",
       "      <td>NaN</td>\n",
       "      <td>NaN</td>\n",
       "      <td>-0.096154</td>\n",
       "      <td>0</td>\n",
       "      <td>NaN</td>\n",
       "      <td>NaN</td>\n",
       "    </tr>\n",
       "    <tr>\n",
       "      <th>2</th>\n",
       "      <td>1990-03-30</td>\n",
       "      <td>0111145D UN Equity</td>\n",
       "      <td>19.5000</td>\n",
       "      <td>NaN</td>\n",
       "      <td>NaN</td>\n",
       "      <td>0.124113</td>\n",
       "      <td>0</td>\n",
       "      <td>NaN</td>\n",
       "      <td>NaN</td>\n",
       "    </tr>\n",
       "    <tr>\n",
       "      <th>3</th>\n",
       "      <td>1990-04-30</td>\n",
       "      <td>0111145D UN Equity</td>\n",
       "      <td>17.6250</td>\n",
       "      <td>1.5612</td>\n",
       "      <td>NaN</td>\n",
       "      <td>-0.044164</td>\n",
       "      <td>0</td>\n",
       "      <td>NaN</td>\n",
       "      <td>NaN</td>\n",
       "    </tr>\n",
       "    <tr>\n",
       "      <th>4</th>\n",
       "      <td>1990-05-31</td>\n",
       "      <td>0111145D UN Equity</td>\n",
       "      <td>19.8125</td>\n",
       "      <td>1.7550</td>\n",
       "      <td>NaN</td>\n",
       "      <td>0.036304</td>\n",
       "      <td>0</td>\n",
       "      <td>NaN</td>\n",
       "      <td>NaN</td>\n",
       "    </tr>\n",
       "    <tr>\n",
       "      <th>...</th>\n",
       "      <td>...</td>\n",
       "      <td>...</td>\n",
       "      <td>...</td>\n",
       "      <td>...</td>\n",
       "      <td>...</td>\n",
       "      <td>...</td>\n",
       "      <td>...</td>\n",
       "      <td>...</td>\n",
       "      <td>...</td>\n",
       "    </tr>\n",
       "    <tr>\n",
       "      <th>514691</th>\n",
       "      <td>2022-04-29</td>\n",
       "      <td>J UN Equity</td>\n",
       "      <td>138.5500</td>\n",
       "      <td>2.9386</td>\n",
       "      <td>-0.013317</td>\n",
       "      <td>-0.092512</td>\n",
       "      <td>1</td>\n",
       "      <td>2</td>\n",
       "      <td>2</td>\n",
       "    </tr>\n",
       "    <tr>\n",
       "      <th>514692</th>\n",
       "      <td>2022-05-31</td>\n",
       "      <td>J UN Equity</td>\n",
       "      <td>140.0900</td>\n",
       "      <td>2.9712</td>\n",
       "      <td>-0.017326</td>\n",
       "      <td>0.079997</td>\n",
       "      <td>1</td>\n",
       "      <td>2</td>\n",
       "      <td>2</td>\n",
       "    </tr>\n",
       "    <tr>\n",
       "      <th>514693</th>\n",
       "      <td>2022-06-30</td>\n",
       "      <td>J UN Equity</td>\n",
       "      <td>127.1300</td>\n",
       "      <td>2.6964</td>\n",
       "      <td>-0.086907</td>\n",
       "      <td>-0.093664</td>\n",
       "      <td>1</td>\n",
       "      <td>3</td>\n",
       "      <td>2</td>\n",
       "    </tr>\n",
       "    <tr>\n",
       "      <th>514694</th>\n",
       "      <td>2022-07-29</td>\n",
       "      <td>J UN Equity</td>\n",
       "      <td>137.3000</td>\n",
       "      <td>2.9522</td>\n",
       "      <td>0.054694</td>\n",
       "      <td>NaN</td>\n",
       "      <td>1</td>\n",
       "      <td>3</td>\n",
       "      <td>2</td>\n",
       "    </tr>\n",
       "    <tr>\n",
       "      <th>514695</th>\n",
       "      <td>2022-08-30</td>\n",
       "      <td>J UN Equity</td>\n",
       "      <td>124.4400</td>\n",
       "      <td>2.6757</td>\n",
       "      <td>0.011707</td>\n",
       "      <td>NaN</td>\n",
       "      <td>1</td>\n",
       "      <td>3</td>\n",
       "      <td>2</td>\n",
       "    </tr>\n",
       "  </tbody>\n",
       "</table>\n",
       "<p>514696 rows × 9 columns</p>\n",
       "</div>"
      ],
      "text/plain": [
       "              date              permno     price     p2b  form_rets  \\\n",
       "0       1990-01-31  0111145D UN Equity   20.6875     NaN        NaN   \n",
       "1       1990-02-28  0111145D UN Equity   22.0000     NaN        NaN   \n",
       "2       1990-03-30  0111145D UN Equity   19.5000     NaN        NaN   \n",
       "3       1990-04-30  0111145D UN Equity   17.6250  1.5612        NaN   \n",
       "4       1990-05-31  0111145D UN Equity   19.8125  1.7550        NaN   \n",
       "...            ...                 ...       ...     ...        ...   \n",
       "514691  2022-04-29         J UN Equity  138.5500  2.9386  -0.013317   \n",
       "514692  2022-05-31         J UN Equity  140.0900  2.9712  -0.017326   \n",
       "514693  2022-06-30         J UN Equity  127.1300  2.6964  -0.086907   \n",
       "514694  2022-07-29         J UN Equity  137.3000  2.9522   0.054694   \n",
       "514695  2022-08-30         J UN Equity  124.4400  2.6757   0.011707   \n",
       "\n",
       "        hold_rets  good_stock port_mom port_value  \n",
       "0       -0.113636           0      NaN        NaN  \n",
       "1       -0.096154           0      NaN        NaN  \n",
       "2        0.124113           0      NaN        NaN  \n",
       "3       -0.044164           0      NaN        NaN  \n",
       "4        0.036304           0      NaN        NaN  \n",
       "...           ...         ...      ...        ...  \n",
       "514691  -0.092512           1        2          2  \n",
       "514692   0.079997           1        2          2  \n",
       "514693  -0.093664           1        3          2  \n",
       "514694        NaN           1        3          2  \n",
       "514695        NaN           1        3          2  \n",
       "\n",
       "[514696 rows x 9 columns]"
      ]
     },
     "execution_count": 65,
     "metadata": {},
     "output_type": "execute_result"
    }
   ],
   "source": [
    "# Assign stocks into 3 equal groups based on b/m ratio\n",
    "data['port_value'] = data.loc[data['good_stock']==1].groupby('date')['p2b'].transform(pd.qcut, q=3, labels=range(1,4)).astype(str)\n",
    "data"
   ]
  },
  {
   "cell_type": "markdown",
   "id": "dba6fbf9",
   "metadata": {},
   "source": [
    "#### 4. Find the intersection portfolios"
   ]
  },
  {
   "cell_type": "code",
   "execution_count": 66,
   "id": "5bcb327f",
   "metadata": {},
   "outputs": [
    {
     "data": {
      "text/html": [
       "<div>\n",
       "<style scoped>\n",
       "    .dataframe tbody tr th:only-of-type {\n",
       "        vertical-align: middle;\n",
       "    }\n",
       "\n",
       "    .dataframe tbody tr th {\n",
       "        vertical-align: top;\n",
       "    }\n",
       "\n",
       "    .dataframe thead th {\n",
       "        text-align: right;\n",
       "    }\n",
       "</style>\n",
       "<table border=\"1\" class=\"dataframe\">\n",
       "  <thead>\n",
       "    <tr style=\"text-align: right;\">\n",
       "      <th></th>\n",
       "      <th>date</th>\n",
       "      <th>permno</th>\n",
       "      <th>price</th>\n",
       "      <th>p2b</th>\n",
       "      <th>form_rets</th>\n",
       "      <th>hold_rets</th>\n",
       "      <th>good_stock</th>\n",
       "      <th>port_mom</th>\n",
       "      <th>port_value</th>\n",
       "      <th>port_comb</th>\n",
       "    </tr>\n",
       "  </thead>\n",
       "  <tbody>\n",
       "    <tr>\n",
       "      <th>436</th>\n",
       "      <td>1993-09-30</td>\n",
       "      <td>0202445Q UN Equity</td>\n",
       "      <td>14.5901</td>\n",
       "      <td>1.7869</td>\n",
       "      <td>0.239432</td>\n",
       "      <td>-0.007199</td>\n",
       "      <td>1</td>\n",
       "      <td>3</td>\n",
       "      <td>1</td>\n",
       "      <td>long_leg</td>\n",
       "    </tr>\n",
       "    <tr>\n",
       "      <th>450</th>\n",
       "      <td>1994-11-30</td>\n",
       "      <td>0202445Q UN Equity</td>\n",
       "      <td>21.1668</td>\n",
       "      <td>3.3611</td>\n",
       "      <td>-0.092414</td>\n",
       "      <td>0.018090</td>\n",
       "      <td>1</td>\n",
       "      <td>1</td>\n",
       "      <td>3</td>\n",
       "      <td>short_leg</td>\n",
       "    </tr>\n",
       "    <tr>\n",
       "      <th>451</th>\n",
       "      <td>1994-12-30</td>\n",
       "      <td>0202445Q UN Equity</td>\n",
       "      <td>21.3878</td>\n",
       "      <td>3.3962</td>\n",
       "      <td>-0.082939</td>\n",
       "      <td>0.078678</td>\n",
       "      <td>1</td>\n",
       "      <td>1</td>\n",
       "      <td>3</td>\n",
       "      <td>short_leg</td>\n",
       "    </tr>\n",
       "    <tr>\n",
       "      <th>452</th>\n",
       "      <td>1995-01-31</td>\n",
       "      <td>0202445Q UN Equity</td>\n",
       "      <td>21.7747</td>\n",
       "      <td>4.5528</td>\n",
       "      <td>-0.061904</td>\n",
       "      <td>0.049413</td>\n",
       "      <td>1</td>\n",
       "      <td>1</td>\n",
       "      <td>3</td>\n",
       "      <td>short_leg</td>\n",
       "    </tr>\n",
       "    <tr>\n",
       "      <th>453</th>\n",
       "      <td>1995-02-28</td>\n",
       "      <td>0202445Q UN Equity</td>\n",
       "      <td>23.4879</td>\n",
       "      <td>4.9110</td>\n",
       "      <td>-0.049219</td>\n",
       "      <td>0.100899</td>\n",
       "      <td>1</td>\n",
       "      <td>1</td>\n",
       "      <td>3</td>\n",
       "      <td>short_leg</td>\n",
       "    </tr>\n",
       "    <tr>\n",
       "      <th>466</th>\n",
       "      <td>1996-03-29</td>\n",
       "      <td>0202445Q UN Equity</td>\n",
       "      <td>33.8226</td>\n",
       "      <td>6.6101</td>\n",
       "      <td>0.020000</td>\n",
       "      <td>0.047761</td>\n",
       "      <td>1</td>\n",
       "      <td>1</td>\n",
       "      <td>3</td>\n",
       "      <td>short_leg</td>\n",
       "    </tr>\n",
       "    <tr>\n",
       "      <th>470</th>\n",
       "      <td>1996-07-31</td>\n",
       "      <td>0202445Q UN Equity</td>\n",
       "      <td>30.1751</td>\n",
       "      <td>5.7978</td>\n",
       "      <td>-0.201753</td>\n",
       "      <td>0.032679</td>\n",
       "      <td>1</td>\n",
       "      <td>1</td>\n",
       "      <td>3</td>\n",
       "      <td>short_leg</td>\n",
       "    </tr>\n",
       "    <tr>\n",
       "      <th>471</th>\n",
       "      <td>1996-08-30</td>\n",
       "      <td>0202445Q UN Equity</td>\n",
       "      <td>33.8226</td>\n",
       "      <td>6.4986</td>\n",
       "      <td>-0.138027</td>\n",
       "      <td>-0.113923</td>\n",
       "      <td>1</td>\n",
       "      <td>1</td>\n",
       "      <td>3</td>\n",
       "      <td>short_leg</td>\n",
       "    </tr>\n",
       "    <tr>\n",
       "      <th>473</th>\n",
       "      <td>1996-10-31</td>\n",
       "      <td>0202445Q UN Equity</td>\n",
       "      <td>30.9488</td>\n",
       "      <td>5.4640</td>\n",
       "      <td>-0.164178</td>\n",
       "      <td>0.012232</td>\n",
       "      <td>1</td>\n",
       "      <td>1</td>\n",
       "      <td>3</td>\n",
       "      <td>short_leg</td>\n",
       "    </tr>\n",
       "    <tr>\n",
       "      <th>474</th>\n",
       "      <td>1996-11-29</td>\n",
       "      <td>0202445Q UN Equity</td>\n",
       "      <td>36.1438</td>\n",
       "      <td>6.3812</td>\n",
       "      <td>-0.068375</td>\n",
       "      <td>0.033231</td>\n",
       "      <td>1</td>\n",
       "      <td>1</td>\n",
       "      <td>3</td>\n",
       "      <td>short_leg</td>\n",
       "    </tr>\n",
       "    <tr>\n",
       "      <th>475</th>\n",
       "      <td>1996-12-31</td>\n",
       "      <td>0202445Q UN Equity</td>\n",
       "      <td>36.5859</td>\n",
       "      <td>7.2837</td>\n",
       "      <td>-0.011940</td>\n",
       "      <td>0.008772</td>\n",
       "      <td>1</td>\n",
       "      <td>1</td>\n",
       "      <td>3</td>\n",
       "      <td>short_leg</td>\n",
       "    </tr>\n",
       "    <tr>\n",
       "      <th>481</th>\n",
       "      <td>1997-06-30</td>\n",
       "      <td>0202445Q UN Equity</td>\n",
       "      <td>38.9070</td>\n",
       "      <td>14.3803</td>\n",
       "      <td>0.063442</td>\n",
       "      <td>0.120227</td>\n",
       "      <td>1</td>\n",
       "      <td>1</td>\n",
       "      <td>3</td>\n",
       "      <td>short_leg</td>\n",
       "    </tr>\n",
       "    <tr>\n",
       "      <th>482</th>\n",
       "      <td>1997-07-31</td>\n",
       "      <td>0202445Q UN Equity</td>\n",
       "      <td>39.0728</td>\n",
       "      <td>14.4416</td>\n",
       "      <td>0.033625</td>\n",
       "      <td>-0.007576</td>\n",
       "      <td>1</td>\n",
       "      <td>1</td>\n",
       "      <td>3</td>\n",
       "      <td>short_leg</td>\n",
       "    </tr>\n",
       "    <tr>\n",
       "      <th>484</th>\n",
       "      <td>1997-09-30</td>\n",
       "      <td>0202445Q UN Equity</td>\n",
       "      <td>43.4388</td>\n",
       "      <td>13.7932</td>\n",
       "      <td>0.159292</td>\n",
       "      <td>-0.009585</td>\n",
       "      <td>1</td>\n",
       "      <td>1</td>\n",
       "      <td>3</td>\n",
       "      <td>short_leg</td>\n",
       "    </tr>\n",
       "    <tr>\n",
       "      <th>485</th>\n",
       "      <td>1997-10-31</td>\n",
       "      <td>0202445Q UN Equity</td>\n",
       "      <td>34.5963</td>\n",
       "      <td>10.9854</td>\n",
       "      <td>0.036422</td>\n",
       "      <td>-0.124192</td>\n",
       "      <td>1</td>\n",
       "      <td>1</td>\n",
       "      <td>3</td>\n",
       "      <td>short_leg</td>\n",
       "    </tr>\n",
       "    <tr>\n",
       "      <th>486</th>\n",
       "      <td>1997-11-28</td>\n",
       "      <td>0202445Q UN Equity</td>\n",
       "      <td>34.2647</td>\n",
       "      <td>10.8801</td>\n",
       "      <td>-0.101449</td>\n",
       "      <td>-0.034992</td>\n",
       "      <td>1</td>\n",
       "      <td>1</td>\n",
       "      <td>3</td>\n",
       "      <td>short_leg</td>\n",
       "    </tr>\n",
       "    <tr>\n",
       "      <th>487</th>\n",
       "      <td>1997-12-31</td>\n",
       "      <td>0202445Q UN Equity</td>\n",
       "      <td>30.0093</td>\n",
       "      <td>8.8011</td>\n",
       "      <td>-0.228691</td>\n",
       "      <td>0.154580</td>\n",
       "      <td>1</td>\n",
       "      <td>1</td>\n",
       "      <td>3</td>\n",
       "      <td>short_leg</td>\n",
       "    </tr>\n",
       "    <tr>\n",
       "      <th>488</th>\n",
       "      <td>1998-01-30</td>\n",
       "      <td>0202445Q UN Equity</td>\n",
       "      <td>28.9592</td>\n",
       "      <td>8.4932</td>\n",
       "      <td>-0.258840</td>\n",
       "      <td>-0.080991</td>\n",
       "      <td>1</td>\n",
       "      <td>1</td>\n",
       "      <td>3</td>\n",
       "      <td>short_leg</td>\n",
       "    </tr>\n",
       "    <tr>\n",
       "      <th>489</th>\n",
       "      <td>1998-02-27</td>\n",
       "      <td>0202445Q UN Equity</td>\n",
       "      <td>33.4357</td>\n",
       "      <td>9.8060</td>\n",
       "      <td>-0.236112</td>\n",
       "      <td>-0.007192</td>\n",
       "      <td>1</td>\n",
       "      <td>1</td>\n",
       "      <td>3</td>\n",
       "      <td>short_leg</td>\n",
       "    </tr>\n",
       "    <tr>\n",
       "      <th>490</th>\n",
       "      <td>1998-03-31</td>\n",
       "      <td>0202445Q UN Equity</td>\n",
       "      <td>30.7277</td>\n",
       "      <td>8.4194</td>\n",
       "      <td>-0.292621</td>\n",
       "      <td>-0.032609</td>\n",
       "      <td>1</td>\n",
       "      <td>1</td>\n",
       "      <td>3</td>\n",
       "      <td>short_leg</td>\n",
       "    </tr>\n",
       "  </tbody>\n",
       "</table>\n",
       "</div>"
      ],
      "text/plain": [
       "           date              permno    price      p2b  form_rets  hold_rets  \\\n",
       "436  1993-09-30  0202445Q UN Equity  14.5901   1.7869   0.239432  -0.007199   \n",
       "450  1994-11-30  0202445Q UN Equity  21.1668   3.3611  -0.092414   0.018090   \n",
       "451  1994-12-30  0202445Q UN Equity  21.3878   3.3962  -0.082939   0.078678   \n",
       "452  1995-01-31  0202445Q UN Equity  21.7747   4.5528  -0.061904   0.049413   \n",
       "453  1995-02-28  0202445Q UN Equity  23.4879   4.9110  -0.049219   0.100899   \n",
       "466  1996-03-29  0202445Q UN Equity  33.8226   6.6101   0.020000   0.047761   \n",
       "470  1996-07-31  0202445Q UN Equity  30.1751   5.7978  -0.201753   0.032679   \n",
       "471  1996-08-30  0202445Q UN Equity  33.8226   6.4986  -0.138027  -0.113923   \n",
       "473  1996-10-31  0202445Q UN Equity  30.9488   5.4640  -0.164178   0.012232   \n",
       "474  1996-11-29  0202445Q UN Equity  36.1438   6.3812  -0.068375   0.033231   \n",
       "475  1996-12-31  0202445Q UN Equity  36.5859   7.2837  -0.011940   0.008772   \n",
       "481  1997-06-30  0202445Q UN Equity  38.9070  14.3803   0.063442   0.120227   \n",
       "482  1997-07-31  0202445Q UN Equity  39.0728  14.4416   0.033625  -0.007576   \n",
       "484  1997-09-30  0202445Q UN Equity  43.4388  13.7932   0.159292  -0.009585   \n",
       "485  1997-10-31  0202445Q UN Equity  34.5963  10.9854   0.036422  -0.124192   \n",
       "486  1997-11-28  0202445Q UN Equity  34.2647  10.8801  -0.101449  -0.034992   \n",
       "487  1997-12-31  0202445Q UN Equity  30.0093   8.8011  -0.228691   0.154580   \n",
       "488  1998-01-30  0202445Q UN Equity  28.9592   8.4932  -0.258840  -0.080991   \n",
       "489  1998-02-27  0202445Q UN Equity  33.4357   9.8060  -0.236112  -0.007192   \n",
       "490  1998-03-31  0202445Q UN Equity  30.7277   8.4194  -0.292621  -0.032609   \n",
       "\n",
       "     good_stock port_mom port_value  port_comb  \n",
       "436           1        3          1   long_leg  \n",
       "450           1        1          3  short_leg  \n",
       "451           1        1          3  short_leg  \n",
       "452           1        1          3  short_leg  \n",
       "453           1        1          3  short_leg  \n",
       "466           1        1          3  short_leg  \n",
       "470           1        1          3  short_leg  \n",
       "471           1        1          3  short_leg  \n",
       "473           1        1          3  short_leg  \n",
       "474           1        1          3  short_leg  \n",
       "475           1        1          3  short_leg  \n",
       "481           1        1          3  short_leg  \n",
       "482           1        1          3  short_leg  \n",
       "484           1        1          3  short_leg  \n",
       "485           1        1          3  short_leg  \n",
       "486           1        1          3  short_leg  \n",
       "487           1        1          3  short_leg  \n",
       "488           1        1          3  short_leg  \n",
       "489           1        1          3  short_leg  \n",
       "490           1        1          3  short_leg  "
      ]
     },
     "execution_count": 66,
     "metadata": {},
     "output_type": "execute_result"
    }
   ],
   "source": [
    "data['port_comb'] = ''\n",
    "data.loc[(data['port_mom']=='1') & (data['port_value']=='3'),'port_comb']='short_leg'\n",
    "data.loc[(data['port_mom']=='3') & (data['port_value']=='1'),'port_comb']='long_leg'\n",
    "data = data.loc[data['port_comb'].isin(['short_leg','long_leg'])]\n",
    "data.head(20)"
   ]
  },
  {
   "cell_type": "markdown",
   "id": "1df4b99b",
   "metadata": {},
   "source": [
    "#### 5. Calculate trading period returns for long and short legs separately"
   ]
  },
  {
   "cell_type": "code",
   "execution_count": 67,
   "id": "3e099902",
   "metadata": {},
   "outputs": [
    {
     "data": {
      "text/html": [
       "<div>\n",
       "<style scoped>\n",
       "    .dataframe tbody tr th:only-of-type {\n",
       "        vertical-align: middle;\n",
       "    }\n",
       "\n",
       "    .dataframe tbody tr th {\n",
       "        vertical-align: top;\n",
       "    }\n",
       "\n",
       "    .dataframe thead th {\n",
       "        text-align: right;\n",
       "    }\n",
       "</style>\n",
       "<table border=\"1\" class=\"dataframe\">\n",
       "  <thead>\n",
       "    <tr style=\"text-align: right;\">\n",
       "      <th></th>\n",
       "      <th>date</th>\n",
       "      <th>port_comb</th>\n",
       "      <th>hold_rets</th>\n",
       "    </tr>\n",
       "  </thead>\n",
       "  <tbody>\n",
       "    <tr>\n",
       "      <th>0</th>\n",
       "      <td>1990-07-31</td>\n",
       "      <td>long_leg</td>\n",
       "      <td>-0.092128</td>\n",
       "    </tr>\n",
       "    <tr>\n",
       "      <th>1</th>\n",
       "      <td>1990-07-31</td>\n",
       "      <td>short_leg</td>\n",
       "      <td>-0.085286</td>\n",
       "    </tr>\n",
       "    <tr>\n",
       "      <th>2</th>\n",
       "      <td>1990-08-31</td>\n",
       "      <td>long_leg</td>\n",
       "      <td>0.013928</td>\n",
       "    </tr>\n",
       "    <tr>\n",
       "      <th>3</th>\n",
       "      <td>1990-08-31</td>\n",
       "      <td>short_leg</td>\n",
       "      <td>-0.037838</td>\n",
       "    </tr>\n",
       "    <tr>\n",
       "      <th>4</th>\n",
       "      <td>1990-09-28</td>\n",
       "      <td>long_leg</td>\n",
       "      <td>0.026538</td>\n",
       "    </tr>\n",
       "    <tr>\n",
       "      <th>5</th>\n",
       "      <td>1990-09-28</td>\n",
       "      <td>short_leg</td>\n",
       "      <td>0.171646</td>\n",
       "    </tr>\n",
       "    <tr>\n",
       "      <th>6</th>\n",
       "      <td>1990-10-31</td>\n",
       "      <td>long_leg</td>\n",
       "      <td>0.024719</td>\n",
       "    </tr>\n",
       "    <tr>\n",
       "      <th>7</th>\n",
       "      <td>1990-10-31</td>\n",
       "      <td>short_leg</td>\n",
       "      <td>0.041056</td>\n",
       "    </tr>\n",
       "    <tr>\n",
       "      <th>8</th>\n",
       "      <td>1990-11-30</td>\n",
       "      <td>long_leg</td>\n",
       "      <td>0.032136</td>\n",
       "    </tr>\n",
       "    <tr>\n",
       "      <th>9</th>\n",
       "      <td>1990-11-30</td>\n",
       "      <td>short_leg</td>\n",
       "      <td>0.164149</td>\n",
       "    </tr>\n",
       "    <tr>\n",
       "      <th>10</th>\n",
       "      <td>1990-12-31</td>\n",
       "      <td>long_leg</td>\n",
       "      <td>0.047656</td>\n",
       "    </tr>\n",
       "    <tr>\n",
       "      <th>11</th>\n",
       "      <td>1990-12-31</td>\n",
       "      <td>short_leg</td>\n",
       "      <td>0.115636</td>\n",
       "    </tr>\n",
       "    <tr>\n",
       "      <th>12</th>\n",
       "      <td>1991-01-31</td>\n",
       "      <td>long_leg</td>\n",
       "      <td>0.088850</td>\n",
       "    </tr>\n",
       "    <tr>\n",
       "      <th>13</th>\n",
       "      <td>1991-01-31</td>\n",
       "      <td>short_leg</td>\n",
       "      <td>0.015670</td>\n",
       "    </tr>\n",
       "    <tr>\n",
       "      <th>14</th>\n",
       "      <td>1991-02-28</td>\n",
       "      <td>long_leg</td>\n",
       "      <td>0.021811</td>\n",
       "    </tr>\n",
       "    <tr>\n",
       "      <th>15</th>\n",
       "      <td>1991-02-28</td>\n",
       "      <td>short_leg</td>\n",
       "      <td>0.012987</td>\n",
       "    </tr>\n",
       "    <tr>\n",
       "      <th>16</th>\n",
       "      <td>1991-03-28</td>\n",
       "      <td>long_leg</td>\n",
       "      <td>0.071551</td>\n",
       "    </tr>\n",
       "    <tr>\n",
       "      <th>17</th>\n",
       "      <td>1991-03-28</td>\n",
       "      <td>short_leg</td>\n",
       "      <td>0.042626</td>\n",
       "    </tr>\n",
       "    <tr>\n",
       "      <th>18</th>\n",
       "      <td>1991-04-30</td>\n",
       "      <td>long_leg</td>\n",
       "      <td>-0.060025</td>\n",
       "    </tr>\n",
       "    <tr>\n",
       "      <th>19</th>\n",
       "      <td>1991-04-30</td>\n",
       "      <td>short_leg</td>\n",
       "      <td>-0.050289</td>\n",
       "    </tr>\n",
       "  </tbody>\n",
       "</table>\n",
       "</div>"
      ],
      "text/plain": [
       "          date  port_comb  hold_rets\n",
       "0   1990-07-31   long_leg  -0.092128\n",
       "1   1990-07-31  short_leg  -0.085286\n",
       "2   1990-08-31   long_leg   0.013928\n",
       "3   1990-08-31  short_leg  -0.037838\n",
       "4   1990-09-28   long_leg   0.026538\n",
       "5   1990-09-28  short_leg   0.171646\n",
       "6   1990-10-31   long_leg   0.024719\n",
       "7   1990-10-31  short_leg   0.041056\n",
       "8   1990-11-30   long_leg   0.032136\n",
       "9   1990-11-30  short_leg   0.164149\n",
       "10  1990-12-31   long_leg   0.047656\n",
       "11  1990-12-31  short_leg   0.115636\n",
       "12  1991-01-31   long_leg   0.088850\n",
       "13  1991-01-31  short_leg   0.015670\n",
       "14  1991-02-28   long_leg   0.021811\n",
       "15  1991-02-28  short_leg   0.012987\n",
       "16  1991-03-28   long_leg   0.071551\n",
       "17  1991-03-28  short_leg   0.042626\n",
       "18  1991-04-30   long_leg  -0.060025\n",
       "19  1991-04-30  short_leg  -0.050289"
      ]
     },
     "execution_count": 67,
     "metadata": {},
     "output_type": "execute_result"
    }
   ],
   "source": [
    "port_comb_df = data.loc[~data['port_comb'].isnull()].groupby(['date','port_comb'])['hold_rets'].mean().reset_index()\n",
    "port_comb_df.head(20)"
   ]
  },
  {
   "cell_type": "markdown",
   "id": "6122b661",
   "metadata": {},
   "source": [
    "#### 6. Calculate the returns on long/short strategy"
   ]
  },
  {
   "cell_type": "code",
   "execution_count": 68,
   "id": "6fd2a85f",
   "metadata": {},
   "outputs": [
    {
     "data": {
      "text/html": [
       "<div>\n",
       "<style scoped>\n",
       "    .dataframe tbody tr th:only-of-type {\n",
       "        vertical-align: middle;\n",
       "    }\n",
       "\n",
       "    .dataframe tbody tr th {\n",
       "        vertical-align: top;\n",
       "    }\n",
       "\n",
       "    .dataframe thead th {\n",
       "        text-align: right;\n",
       "    }\n",
       "</style>\n",
       "<table border=\"1\" class=\"dataframe\">\n",
       "  <thead>\n",
       "    <tr style=\"text-align: right;\">\n",
       "      <th>port_comb</th>\n",
       "      <th>date</th>\n",
       "      <th>long_leg</th>\n",
       "      <th>short_leg</th>\n",
       "      <th>Strat_rets</th>\n",
       "    </tr>\n",
       "  </thead>\n",
       "  <tbody>\n",
       "    <tr>\n",
       "      <th>0</th>\n",
       "      <td>1990-07-31</td>\n",
       "      <td>-0.092128</td>\n",
       "      <td>-0.085286</td>\n",
       "      <td>-0.006842</td>\n",
       "    </tr>\n",
       "    <tr>\n",
       "      <th>1</th>\n",
       "      <td>1990-08-31</td>\n",
       "      <td>0.013928</td>\n",
       "      <td>-0.037838</td>\n",
       "      <td>0.051766</td>\n",
       "    </tr>\n",
       "    <tr>\n",
       "      <th>2</th>\n",
       "      <td>1990-09-28</td>\n",
       "      <td>0.026538</td>\n",
       "      <td>0.171646</td>\n",
       "      <td>-0.145109</td>\n",
       "    </tr>\n",
       "    <tr>\n",
       "      <th>3</th>\n",
       "      <td>1990-10-31</td>\n",
       "      <td>0.024719</td>\n",
       "      <td>0.041056</td>\n",
       "      <td>-0.016336</td>\n",
       "    </tr>\n",
       "    <tr>\n",
       "      <th>4</th>\n",
       "      <td>1990-11-30</td>\n",
       "      <td>0.032136</td>\n",
       "      <td>0.164149</td>\n",
       "      <td>-0.132013</td>\n",
       "    </tr>\n",
       "    <tr>\n",
       "      <th>5</th>\n",
       "      <td>1990-12-31</td>\n",
       "      <td>0.047656</td>\n",
       "      <td>0.115636</td>\n",
       "      <td>-0.067980</td>\n",
       "    </tr>\n",
       "    <tr>\n",
       "      <th>6</th>\n",
       "      <td>1991-01-31</td>\n",
       "      <td>0.088850</td>\n",
       "      <td>0.015670</td>\n",
       "      <td>0.073180</td>\n",
       "    </tr>\n",
       "    <tr>\n",
       "      <th>7</th>\n",
       "      <td>1991-02-28</td>\n",
       "      <td>0.021811</td>\n",
       "      <td>0.012987</td>\n",
       "      <td>0.008824</td>\n",
       "    </tr>\n",
       "    <tr>\n",
       "      <th>8</th>\n",
       "      <td>1991-03-28</td>\n",
       "      <td>0.071551</td>\n",
       "      <td>0.042626</td>\n",
       "      <td>0.028925</td>\n",
       "    </tr>\n",
       "    <tr>\n",
       "      <th>9</th>\n",
       "      <td>1991-04-30</td>\n",
       "      <td>-0.060025</td>\n",
       "      <td>-0.050289</td>\n",
       "      <td>-0.009736</td>\n",
       "    </tr>\n",
       "    <tr>\n",
       "      <th>10</th>\n",
       "      <td>1991-05-31</td>\n",
       "      <td>0.065223</td>\n",
       "      <td>0.054763</td>\n",
       "      <td>0.010460</td>\n",
       "    </tr>\n",
       "    <tr>\n",
       "      <th>11</th>\n",
       "      <td>1991-06-28</td>\n",
       "      <td>0.051127</td>\n",
       "      <td>0.041165</td>\n",
       "      <td>0.009962</td>\n",
       "    </tr>\n",
       "    <tr>\n",
       "      <th>12</th>\n",
       "      <td>1991-07-31</td>\n",
       "      <td>-0.031976</td>\n",
       "      <td>-0.019194</td>\n",
       "      <td>-0.012782</td>\n",
       "    </tr>\n",
       "    <tr>\n",
       "      <th>13</th>\n",
       "      <td>1991-08-30</td>\n",
       "      <td>0.036631</td>\n",
       "      <td>0.017119</td>\n",
       "      <td>0.019512</td>\n",
       "    </tr>\n",
       "    <tr>\n",
       "      <th>14</th>\n",
       "      <td>1991-09-30</td>\n",
       "      <td>-0.084752</td>\n",
       "      <td>-0.040366</td>\n",
       "      <td>-0.044386</td>\n",
       "    </tr>\n",
       "    <tr>\n",
       "      <th>15</th>\n",
       "      <td>1991-10-31</td>\n",
       "      <td>0.109227</td>\n",
       "      <td>0.086912</td>\n",
       "      <td>0.022315</td>\n",
       "    </tr>\n",
       "    <tr>\n",
       "      <th>16</th>\n",
       "      <td>1991-11-29</td>\n",
       "      <td>0.008101</td>\n",
       "      <td>-0.003911</td>\n",
       "      <td>0.012012</td>\n",
       "    </tr>\n",
       "    <tr>\n",
       "      <th>17</th>\n",
       "      <td>1991-12-31</td>\n",
       "      <td>0.039960</td>\n",
       "      <td>0.024190</td>\n",
       "      <td>0.015770</td>\n",
       "    </tr>\n",
       "    <tr>\n",
       "      <th>18</th>\n",
       "      <td>1992-01-31</td>\n",
       "      <td>-0.024694</td>\n",
       "      <td>-0.047442</td>\n",
       "      <td>0.022749</td>\n",
       "    </tr>\n",
       "    <tr>\n",
       "      <th>19</th>\n",
       "      <td>1992-02-28</td>\n",
       "      <td>-0.012349</td>\n",
       "      <td>-0.028059</td>\n",
       "      <td>0.015710</td>\n",
       "    </tr>\n",
       "  </tbody>\n",
       "</table>\n",
       "</div>"
      ],
      "text/plain": [
       "port_comb        date  long_leg  short_leg  Strat_rets\n",
       "0          1990-07-31 -0.092128  -0.085286   -0.006842\n",
       "1          1990-08-31  0.013928  -0.037838    0.051766\n",
       "2          1990-09-28  0.026538   0.171646   -0.145109\n",
       "3          1990-10-31  0.024719   0.041056   -0.016336\n",
       "4          1990-11-30  0.032136   0.164149   -0.132013\n",
       "5          1990-12-31  0.047656   0.115636   -0.067980\n",
       "6          1991-01-31  0.088850   0.015670    0.073180\n",
       "7          1991-02-28  0.021811   0.012987    0.008824\n",
       "8          1991-03-28  0.071551   0.042626    0.028925\n",
       "9          1991-04-30 -0.060025  -0.050289   -0.009736\n",
       "10         1991-05-31  0.065223   0.054763    0.010460\n",
       "11         1991-06-28  0.051127   0.041165    0.009962\n",
       "12         1991-07-31 -0.031976  -0.019194   -0.012782\n",
       "13         1991-08-30  0.036631   0.017119    0.019512\n",
       "14         1991-09-30 -0.084752  -0.040366   -0.044386\n",
       "15         1991-10-31  0.109227   0.086912    0.022315\n",
       "16         1991-11-29  0.008101  -0.003911    0.012012\n",
       "17         1991-12-31  0.039960   0.024190    0.015770\n",
       "18         1992-01-31 -0.024694  -0.047442    0.022749\n",
       "19         1992-02-28 -0.012349  -0.028059    0.015710"
      ]
     },
     "execution_count": 68,
     "metadata": {},
     "output_type": "execute_result"
    }
   ],
   "source": [
    "# Pivot the table\n",
    "port_comb_df = port_comb_df.pivot(index = 'date', columns = 'port_comb', values = 'hold_rets').reset_index()\n",
    "# Add column with long/short strategy returns\n",
    "port_comb_df['Strat_rets'] = port_comb_df['long_leg']-port_comb_df['short_leg']\n",
    "port_comb_df.head(20)"
   ]
  },
  {
   "cell_type": "markdown",
   "id": "16d3b81c",
   "metadata": {},
   "source": [
    "#### 7. Plot the cumulative returns on the strategy"
   ]
  },
  {
   "cell_type": "code",
   "execution_count": 69,
   "id": "799a3f91",
   "metadata": {},
   "outputs": [
    {
     "data": {
      "application/vnd.plotly.v1+json": {
       "config": {
        "plotlyServerURL": "https://plot.ly"
       },
       "data": [
        {
         "hovertemplate": "date=%{x}<br>Cumulative returns=%{y}<extra></extra>",
         "legendgroup": "",
         "line": {
          "color": "#636efa",
          "dash": "solid"
         },
         "marker": {
          "symbol": "circle"
         },
         "mode": "lines",
         "name": "",
         "orientation": "v",
         "showlegend": false,
         "type": "scatter",
         "x": [
          "1990-07-31",
          "1990-08-31",
          "1990-09-28",
          "1990-10-31",
          "1990-11-30",
          "1990-12-31",
          "1991-01-31",
          "1991-02-28",
          "1991-03-28",
          "1991-04-30",
          "1991-05-31",
          "1991-06-28",
          "1991-07-31",
          "1991-08-30",
          "1991-09-30",
          "1991-10-31",
          "1991-11-29",
          "1991-12-31",
          "1992-01-31",
          "1992-02-28",
          "1992-03-31",
          "1992-04-30",
          "1992-05-29",
          "1992-06-30",
          "1992-07-31",
          "1992-08-31",
          "1992-09-30",
          "1992-10-30",
          "1992-11-30",
          "1992-12-31",
          "1993-01-29",
          "1993-02-26",
          "1993-03-31",
          "1993-04-30",
          "1993-05-28",
          "1993-06-30",
          "1993-07-30",
          "1993-08-31",
          "1993-09-30",
          "1993-10-29",
          "1993-11-30",
          "1993-12-31",
          "1994-01-31",
          "1994-02-28",
          "1994-03-31",
          "1994-04-29",
          "1994-05-31",
          "1994-06-30",
          "1994-07-29",
          "1994-08-31",
          "1994-09-30",
          "1994-10-31",
          "1994-11-30",
          "1994-12-30",
          "1995-01-31",
          "1995-02-28",
          "1995-03-31",
          "1995-04-28",
          "1995-05-31",
          "1995-06-30",
          "1995-07-31",
          "1995-08-31",
          "1995-09-29",
          "1995-10-31",
          "1995-11-30",
          "1995-12-29",
          "1996-01-31",
          "1996-02-29",
          "1996-03-29",
          "1996-04-30",
          "1996-05-31",
          "1996-06-28",
          "1996-07-31",
          "1996-08-30",
          "1996-09-30",
          "1996-10-31",
          "1996-11-29",
          "1996-12-31",
          "1997-01-31",
          "1997-02-28",
          "1997-03-31",
          "1997-04-30",
          "1997-05-30",
          "1997-06-30",
          "1997-07-31",
          "1997-08-29",
          "1997-09-30",
          "1997-10-31",
          "1997-11-28",
          "1997-12-31",
          "1998-01-30",
          "1998-02-27",
          "1998-03-31",
          "1998-04-30",
          "1998-05-29",
          "1998-06-30",
          "1998-07-31",
          "1998-08-31",
          "1998-09-30",
          "1998-10-30",
          "1998-11-30",
          "1998-12-31",
          "1999-01-29",
          "1999-02-26",
          "1999-03-31",
          "1999-04-30",
          "1999-05-28",
          "1999-06-30",
          "1999-07-30",
          "1999-08-31",
          "1999-09-30",
          "1999-10-29",
          "1999-11-30",
          "1999-12-31",
          "2000-01-31",
          "2000-02-29",
          "2000-03-31",
          "2000-04-28",
          "2000-05-31",
          "2000-06-30",
          "2000-07-31",
          "2000-08-31",
          "2000-09-29",
          "2000-10-31",
          "2000-11-30",
          "2000-12-29",
          "2001-01-31",
          "2001-02-28",
          "2001-03-30",
          "2001-04-30",
          "2001-05-31",
          "2001-06-29",
          "2001-07-31",
          "2001-08-31",
          "2001-09-28",
          "2001-10-31",
          "2001-11-30",
          "2001-12-31",
          "2002-01-31",
          "2002-02-28",
          "2002-03-28",
          "2002-04-30",
          "2002-05-31",
          "2002-06-28",
          "2002-07-31",
          "2002-08-30",
          "2002-09-30",
          "2002-10-31",
          "2002-11-29",
          "2002-12-31",
          "2003-01-31",
          "2003-02-28",
          "2003-03-31",
          "2003-04-30",
          "2003-05-30",
          "2003-06-30",
          "2003-07-31",
          "2003-08-29",
          "2003-09-30",
          "2003-10-31",
          "2003-11-28",
          "2003-12-31",
          "2004-01-30",
          "2004-02-27",
          "2004-03-31",
          "2004-04-30",
          "2004-05-28",
          "2004-06-30",
          "2004-07-30",
          "2004-08-31",
          "2004-09-30",
          "2004-10-29",
          "2004-11-30",
          "2004-12-31",
          "2005-01-31",
          "2005-02-28",
          "2005-03-31",
          "2005-04-29",
          "2005-05-31",
          "2005-06-30",
          "2005-07-29",
          "2005-08-31",
          "2005-09-30",
          "2005-10-31",
          "2005-11-30",
          "2005-12-30",
          "2006-01-31",
          "2006-02-28",
          "2006-03-31",
          "2006-04-28",
          "2006-05-31",
          "2006-06-30",
          "2006-07-31",
          "2006-08-31",
          "2006-09-29",
          "2006-10-31",
          "2006-11-30",
          "2006-12-29",
          "2007-01-31",
          "2007-02-28",
          "2007-03-30",
          "2007-04-30",
          "2007-05-31",
          "2007-06-29",
          "2007-07-31",
          "2007-08-31",
          "2007-09-28",
          "2007-10-31",
          "2007-11-30",
          "2007-12-31",
          "2008-01-31",
          "2008-02-29",
          "2008-03-31",
          "2008-04-30",
          "2008-05-30",
          "2008-06-30",
          "2008-07-31",
          "2008-08-29",
          "2008-09-30",
          "2008-10-31",
          "2008-11-28",
          "2008-12-31",
          "2009-01-30",
          "2009-02-27",
          "2009-03-31",
          "2009-04-30",
          "2009-05-29",
          "2009-06-30",
          "2009-07-31",
          "2009-08-31",
          "2009-09-30",
          "2009-10-30",
          "2009-11-30",
          "2009-12-31",
          "2010-01-29",
          "2010-02-26",
          "2010-03-31",
          "2010-04-30",
          "2010-05-28",
          "2010-06-30",
          "2010-07-30",
          "2010-08-31",
          "2010-09-30",
          "2010-10-29",
          "2010-11-30",
          "2010-12-31",
          "2011-01-31",
          "2011-02-28",
          "2011-03-31",
          "2011-04-29",
          "2011-05-31",
          "2011-06-30",
          "2011-07-29",
          "2011-08-31",
          "2011-09-30",
          "2011-10-31",
          "2011-11-30",
          "2011-12-30",
          "2012-01-31",
          "2012-02-29",
          "2012-03-30",
          "2012-04-30",
          "2012-05-31",
          "2012-06-29",
          "2012-07-31",
          "2012-08-31",
          "2012-09-28",
          "2012-10-31",
          "2012-11-30",
          "2012-12-31",
          "2013-01-31",
          "2013-02-28",
          "2013-03-28",
          "2013-04-30",
          "2013-05-31",
          "2013-06-28",
          "2013-07-31",
          "2013-08-30",
          "2013-09-30",
          "2013-10-31",
          "2013-11-29",
          "2013-12-31",
          "2014-01-31",
          "2014-02-28",
          "2014-03-31",
          "2014-04-30",
          "2014-05-30",
          "2014-06-30",
          "2014-07-31",
          "2014-08-29",
          "2014-09-30",
          "2014-10-31",
          "2014-11-28",
          "2014-12-31",
          "2015-01-30",
          "2015-02-27",
          "2015-03-31",
          "2015-04-30",
          "2015-05-29",
          "2015-06-30",
          "2015-07-31",
          "2015-08-31",
          "2015-09-30",
          "2015-10-30",
          "2015-11-30",
          "2015-12-31",
          "2016-01-29",
          "2016-02-29",
          "2016-03-31",
          "2016-04-29",
          "2016-05-31",
          "2016-06-30",
          "2016-07-29",
          "2016-08-31",
          "2016-09-30",
          "2016-10-31",
          "2016-11-30",
          "2016-12-30",
          "2017-01-31",
          "2017-02-28",
          "2017-03-31",
          "2017-04-28",
          "2017-05-31",
          "2017-06-30",
          "2017-07-31",
          "2017-08-31",
          "2017-09-29",
          "2017-10-31",
          "2017-11-30",
          "2017-12-29",
          "2018-01-31",
          "2018-02-28",
          "2018-03-29",
          "2018-04-30",
          "2018-05-31",
          "2018-06-29",
          "2018-07-31",
          "2018-08-31",
          "2018-09-28",
          "2018-10-31",
          "2018-11-30",
          "2018-12-31",
          "2019-01-31",
          "2019-02-28",
          "2019-03-29",
          "2019-04-30",
          "2019-05-31",
          "2019-06-28",
          "2019-07-31",
          "2019-08-30",
          "2019-09-30",
          "2019-10-31",
          "2019-11-29",
          "2019-12-31",
          "2020-01-31",
          "2020-02-28",
          "2020-03-31",
          "2020-04-30",
          "2020-05-29",
          "2020-06-30",
          "2020-07-31",
          "2020-08-31",
          "2020-09-30",
          "2020-10-30",
          "2020-11-30",
          "2020-12-31",
          "2021-01-29",
          "2021-02-26",
          "2021-03-31",
          "2021-04-30",
          "2021-05-28",
          "2021-06-30",
          "2021-07-30",
          "2021-08-31",
          "2021-09-30",
          "2021-10-29",
          "2021-11-30",
          "2021-12-31",
          "2022-01-31",
          "2022-02-28",
          "2022-03-31",
          "2022-04-29",
          "2022-05-31",
          "2022-06-30",
          "2022-07-29",
          "2022-08-30"
         ],
         "xaxis": "x",
         "y": [
          0.9931582403103763,
          1.0445700625125438,
          0.8929939657205216,
          0.8784056943523527,
          0.7624449488879235,
          0.7106138518832701,
          0.7626168890413413,
          0.769346316599299,
          0.7916000305369808,
          0.7838932361267023,
          0.7920930090938351,
          0.7999838440459495,
          0.7897583947118452,
          0.805168174720342,
          0.7694301513889057,
          0.7865998882136096,
          0.7960481614407712,
          0.8086016887587116,
          0.8269963284519926,
          0.8399886263970783,
          0.84622389785614,
          0.8526637323023002,
          0.8370886969173814,
          0.8174821784026343,
          0.8181697172108022,
          0.7780595063542819,
          0.720773839277215,
          0.7288049409742366,
          0.7625090984988332,
          0.7699976689663405,
          0.7943842670721302,
          0.7993852874379107,
          0.7870492305459601,
          0.834841927785989,
          0.863487476274417,
          0.8528629415478709,
          0.8623787714543159,
          0.815735654588625,
          0.7773333833699468,
          0.8016586068790985,
          0.8248271108578977,
          0.8185801646828558,
          0.8012110173060961,
          0.8293493990680469,
          0.8608100498459866,
          0.8871713641592127,
          0.8998561274547041,
          0.8455614063968019,
          0.7991034049086703,
          0.747069179977417,
          0.7283116191399343,
          0.7312600013263784,
          0.7258502331086152,
          0.7177199453079116,
          0.6845334521740953,
          0.7145205003556578,
          0.6966126103452686,
          0.6829694304365168,
          0.6837321605082617,
          0.701779020838008,
          0.7135090848723006,
          0.7101646788452882,
          0.7013706810187852,
          0.7192776469890074,
          0.7224889739075239,
          0.6838788201202665,
          0.6648494327194541,
          0.6009780463336031,
          0.5998551267611404,
          0.6185918608166169,
          0.6041387543238079,
          0.6127462301090293,
          0.5802667228523867,
          0.6097828505091476,
          0.6064678788768894,
          0.6260674131754675,
          0.6142368576352746,
          0.6214012733361257,
          0.6586946160303778,
          0.671609877900906,
          0.6405533395076181,
          0.6281821344406299,
          0.623139194360226,
          0.6145033700541728,
          0.6373021826372315,
          0.6424907227523076,
          0.6246461247628329,
          0.6419962229959824,
          0.6215467077552946,
          0.5988823915902104,
          0.6105964526739266,
          0.5691835525693303,
          0.6070945739712937,
          0.6369637835267573,
          0.6168959586198443,
          0.6064606178237573,
          0.5979576604351112,
          0.5082294612426931,
          0.4702011146422109,
          0.45628853807449465,
          0.4573039141052848,
          0.43351211440470455,
          0.4141682499345889,
          0.435857412355737,
          0.43201651627781146,
          0.44750961426318936,
          0.4500778345878896,
          0.4515178252466357,
          0.4451941871485318,
          0.38842344385645955,
          0.3776710467272066,
          0.39402949631376233,
          0.40667208854568304,
          0.43206438618253296,
          0.42750393646081586,
          0.4363479636255513,
          0.4270946612955129,
          0.41334932603494856,
          0.45368916734704634,
          0.45197342017525605,
          0.49986242808423215,
          0.5142281637046097,
          0.5689480360489254,
          0.634800956492673,
          0.51832945787275,
          0.620996330334852,
          0.7035609745883235,
          0.598087465062249,
          0.6170871796061109,
          0.6125828243280171,
          0.6252281847554485,
          0.6600674807715389,
          0.7229589772683211,
          0.6255856810338779,
          0.5646604089276445,
          0.5543382749187877,
          0.5852540406914594,
          0.6622718568993272,
          0.6443017403629158,
          0.7400589284399653,
          0.7426404232451391,
          0.7777689873293162,
          0.7381392851695954,
          0.7545578347702563,
          0.805847410849352,
          0.6859028245766152,
          0.5644395077048163,
          0.6268092489963616,
          0.6371012606081484,
          0.6361302822953706,
          0.6369138814710602,
          0.6469685587552194,
          0.7103826913805431,
          0.7284439038706488,
          0.7091455761657405,
          0.7388922291796126,
          0.7149511636087965,
          0.7493862035821186,
          0.7628227815593349,
          0.7731448598724534,
          0.7754344060729746,
          0.7945233298393629,
          0.8276182189038367,
          0.8268332247698423,
          0.8340957780707102,
          0.8807119525478971,
          0.9250429469962987,
          0.9372905072791947,
          0.9513859463136378,
          0.9327002188130052,
          0.9709506876572817,
          0.9550371923655847,
          0.9750786877204638,
          1.0102550393019838,
          1.0599612909332814,
          1.0205307983145062,
          1.0274891182517383,
          1.0718438080349388,
          1.0677939146352273,
          1.084624267654723,
          1.1343036294883369,
          1.1080384737070164,
          1.1298720156943989,
          1.1389446442193483,
          1.2110734276234778,
          1.1859224260332768,
          1.2193619069979553,
          1.2273575555564475,
          1.2069796724909414,
          1.2165944266239226,
          1.1979661449176429,
          1.1432556970460512,
          1.1254184183994833,
          1.1151371363619287,
          1.0803811861451238,
          1.1274018468682625,
          1.1161031561804449,
          1.109318383653425,
          1.121550307899902,
          1.104578912359669,
          1.143297996668028,
          1.1271069572800696,
          1.1140472362807925,
          1.0951112823062972,
          1.1054021762762023,
          1.0959196223226735,
          1.069089394826617,
          1.13203541925126,
          1.1365623122712816,
          1.1972049699288665,
          1.1886058226275908,
          1.1616902567036675,
          1.1131483948412682,
          1.142253586731942,
          1.192165681810751,
          1.1432418314896866,
          1.1527173997120017,
          1.1059243705195323,
          1.104970800359458,
          1.0338480284445413,
          0.8837698571581978,
          0.817337415959278,
          0.759471622226211,
          0.5574761269362788,
          0.5311570607833742,
          0.515840781755783,
          0.5484110369101433,
          0.5663984122095959,
          0.6051550986748656,
          0.5666937268028523,
          0.565870323324165,
          0.5742314187308515,
          0.5890093948672306,
          0.6070544004119702,
          0.6371878155452728,
          0.6638636880938468,
          0.65400624527623,
          0.6099885430701166,
          0.6194660765751779,
          0.6058899943048819,
          0.5796251805964083,
          0.5763101540892198,
          0.5669435465774331,
          0.5482399537417328,
          0.5423828612811292,
          0.5444562419183979,
          0.5576870258939125,
          0.5469812298186694,
          0.5323070417576442,
          0.5257675341547691,
          0.5201049095718825,
          0.5175600293374741,
          0.515779782095243,
          0.4739811713762825,
          0.4823568666579785,
          0.499304763822949,
          0.42027665252403934,
          0.41150292358142637,
          0.405590755539821,
          0.3884102398853421,
          0.3661693476294879,
          0.36844558906816527,
          0.36591507935593887,
          0.372879183081612,
          0.37753950615947707,
          0.3700740249213057,
          0.3654430315288756,
          0.3621206764583935,
          0.36377835727778246,
          0.36972511732446317,
          0.36687898506905275,
          0.359973177121619,
          0.37530428623024786,
          0.3755926111400421,
          0.37950889389467635,
          0.3719811975891344,
          0.3681745311601115,
          0.373255624363216,
          0.3825241665444559,
          0.38265476817683686,
          0.3720135557578785,
          0.3730050660324265,
          0.3795967792635182,
          0.37542728397622666,
          0.37442579431585676,
          0.3805488878333965,
          0.37371424413214693,
          0.37619949069294023,
          0.36494078587259166,
          0.35044765919184123,
          0.33909143777788414,
          0.3471972640629433,
          0.3511689699753829,
          0.33767582956975284,
          0.3423788662529421,
          0.323258181479394,
          0.33905308937719564,
          0.33940255052867807,
          0.3318693529311303,
          0.33699862623575,
          0.33547546723695737,
          0.3167604378224373,
          0.31741827417782975,
          0.32286776958437524,
          0.3352068108825299,
          0.3266072122616151,
          0.3188711979951995,
          0.3146875981055964,
          0.3104364734242337,
          0.3278584340013994,
          0.3136378624867382,
          0.3117836728149056,
          0.31607312726756714,
          0.31466302820534414,
          0.3624154517098823,
          0.36781511974956094,
          0.35559382605223444,
          0.3491296835097234,
          0.341798390311924,
          0.3338064071960694,
          0.32675742100788063,
          0.34202933243722644,
          0.3473673945756769,
          0.35511577932211774,
          0.3516645777308734,
          0.3889961557572879,
          0.38595748673928026,
          0.38301512492380374,
          0.376791060274515,
          0.36012706237896436,
          0.36229720343531835,
          0.3743252714394417,
          0.3762126755314905,
          0.376365104297694,
          0.3614425234011432,
          0.3627781333313859,
          0.3617569226005682,
          0.3627595591116991,
          0.3289495980756942,
          0.3160839506730594,
          0.30005617242654714,
          0.2868638500510255,
          0.278587683719435,
          0.274686376759745,
          0.2895940370728853,
          0.27782108279171497,
          0.2740777319142664,
          0.26628989136815145,
          0.27023824809724767,
          0.25119734715373937,
          0.24603721749812185,
          0.2426094986899098,
          0.22983538856742472,
          0.22061708340453048,
          0.19031525162659507,
          0.20303060561471517,
          0.21743716323071255,
          0.20614986030095625,
          0.21832437036335486,
          0.20449640624765755,
          0.21218489825060668,
          0.22062968551224163,
          0.23342131462505245,
          0.2291489427501335,
          0.2521644260059899,
          0.2885663724424376,
          0.28570698609293166,
          0.2850351052984281,
          0.3007575399933835,
          0.28206300144342,
          0.2594558187015095,
          0.2606925366444053,
          0.27350176476278837,
          0.2766512373341172,
          0.27294995048234905,
          0.26456692446696506,
          0.27427932139006966,
          0.2862542199750821,
          0.29106142242000926,
          0.30998998665498956,
          0.3271798123261063,
          0.3236723858249758,
          0.2915916131970501,
          0.3093791192437617,
          null,
          null
         ],
         "yaxis": "y"
        }
       ],
       "layout": {
        "legend": {
         "tracegroupgap": 0
        },
        "template": {
         "data": {
          "bar": [
           {
            "error_x": {
             "color": "#2a3f5f"
            },
            "error_y": {
             "color": "#2a3f5f"
            },
            "marker": {
             "line": {
              "color": "#E5ECF6",
              "width": 0.5
             },
             "pattern": {
              "fillmode": "overlay",
              "size": 10,
              "solidity": 0.2
             }
            },
            "type": "bar"
           }
          ],
          "barpolar": [
           {
            "marker": {
             "line": {
              "color": "#E5ECF6",
              "width": 0.5
             },
             "pattern": {
              "fillmode": "overlay",
              "size": 10,
              "solidity": 0.2
             }
            },
            "type": "barpolar"
           }
          ],
          "carpet": [
           {
            "aaxis": {
             "endlinecolor": "#2a3f5f",
             "gridcolor": "white",
             "linecolor": "white",
             "minorgridcolor": "white",
             "startlinecolor": "#2a3f5f"
            },
            "baxis": {
             "endlinecolor": "#2a3f5f",
             "gridcolor": "white",
             "linecolor": "white",
             "minorgridcolor": "white",
             "startlinecolor": "#2a3f5f"
            },
            "type": "carpet"
           }
          ],
          "choropleth": [
           {
            "colorbar": {
             "outlinewidth": 0,
             "ticks": ""
            },
            "type": "choropleth"
           }
          ],
          "contour": [
           {
            "colorbar": {
             "outlinewidth": 0,
             "ticks": ""
            },
            "colorscale": [
             [
              0,
              "#0d0887"
             ],
             [
              0.1111111111111111,
              "#46039f"
             ],
             [
              0.2222222222222222,
              "#7201a8"
             ],
             [
              0.3333333333333333,
              "#9c179e"
             ],
             [
              0.4444444444444444,
              "#bd3786"
             ],
             [
              0.5555555555555556,
              "#d8576b"
             ],
             [
              0.6666666666666666,
              "#ed7953"
             ],
             [
              0.7777777777777778,
              "#fb9f3a"
             ],
             [
              0.8888888888888888,
              "#fdca26"
             ],
             [
              1,
              "#f0f921"
             ]
            ],
            "type": "contour"
           }
          ],
          "contourcarpet": [
           {
            "colorbar": {
             "outlinewidth": 0,
             "ticks": ""
            },
            "type": "contourcarpet"
           }
          ],
          "heatmap": [
           {
            "colorbar": {
             "outlinewidth": 0,
             "ticks": ""
            },
            "colorscale": [
             [
              0,
              "#0d0887"
             ],
             [
              0.1111111111111111,
              "#46039f"
             ],
             [
              0.2222222222222222,
              "#7201a8"
             ],
             [
              0.3333333333333333,
              "#9c179e"
             ],
             [
              0.4444444444444444,
              "#bd3786"
             ],
             [
              0.5555555555555556,
              "#d8576b"
             ],
             [
              0.6666666666666666,
              "#ed7953"
             ],
             [
              0.7777777777777778,
              "#fb9f3a"
             ],
             [
              0.8888888888888888,
              "#fdca26"
             ],
             [
              1,
              "#f0f921"
             ]
            ],
            "type": "heatmap"
           }
          ],
          "heatmapgl": [
           {
            "colorbar": {
             "outlinewidth": 0,
             "ticks": ""
            },
            "colorscale": [
             [
              0,
              "#0d0887"
             ],
             [
              0.1111111111111111,
              "#46039f"
             ],
             [
              0.2222222222222222,
              "#7201a8"
             ],
             [
              0.3333333333333333,
              "#9c179e"
             ],
             [
              0.4444444444444444,
              "#bd3786"
             ],
             [
              0.5555555555555556,
              "#d8576b"
             ],
             [
              0.6666666666666666,
              "#ed7953"
             ],
             [
              0.7777777777777778,
              "#fb9f3a"
             ],
             [
              0.8888888888888888,
              "#fdca26"
             ],
             [
              1,
              "#f0f921"
             ]
            ],
            "type": "heatmapgl"
           }
          ],
          "histogram": [
           {
            "marker": {
             "pattern": {
              "fillmode": "overlay",
              "size": 10,
              "solidity": 0.2
             }
            },
            "type": "histogram"
           }
          ],
          "histogram2d": [
           {
            "colorbar": {
             "outlinewidth": 0,
             "ticks": ""
            },
            "colorscale": [
             [
              0,
              "#0d0887"
             ],
             [
              0.1111111111111111,
              "#46039f"
             ],
             [
              0.2222222222222222,
              "#7201a8"
             ],
             [
              0.3333333333333333,
              "#9c179e"
             ],
             [
              0.4444444444444444,
              "#bd3786"
             ],
             [
              0.5555555555555556,
              "#d8576b"
             ],
             [
              0.6666666666666666,
              "#ed7953"
             ],
             [
              0.7777777777777778,
              "#fb9f3a"
             ],
             [
              0.8888888888888888,
              "#fdca26"
             ],
             [
              1,
              "#f0f921"
             ]
            ],
            "type": "histogram2d"
           }
          ],
          "histogram2dcontour": [
           {
            "colorbar": {
             "outlinewidth": 0,
             "ticks": ""
            },
            "colorscale": [
             [
              0,
              "#0d0887"
             ],
             [
              0.1111111111111111,
              "#46039f"
             ],
             [
              0.2222222222222222,
              "#7201a8"
             ],
             [
              0.3333333333333333,
              "#9c179e"
             ],
             [
              0.4444444444444444,
              "#bd3786"
             ],
             [
              0.5555555555555556,
              "#d8576b"
             ],
             [
              0.6666666666666666,
              "#ed7953"
             ],
             [
              0.7777777777777778,
              "#fb9f3a"
             ],
             [
              0.8888888888888888,
              "#fdca26"
             ],
             [
              1,
              "#f0f921"
             ]
            ],
            "type": "histogram2dcontour"
           }
          ],
          "mesh3d": [
           {
            "colorbar": {
             "outlinewidth": 0,
             "ticks": ""
            },
            "type": "mesh3d"
           }
          ],
          "parcoords": [
           {
            "line": {
             "colorbar": {
              "outlinewidth": 0,
              "ticks": ""
             }
            },
            "type": "parcoords"
           }
          ],
          "pie": [
           {
            "automargin": true,
            "type": "pie"
           }
          ],
          "scatter": [
           {
            "fillpattern": {
             "fillmode": "overlay",
             "size": 10,
             "solidity": 0.2
            },
            "type": "scatter"
           }
          ],
          "scatter3d": [
           {
            "line": {
             "colorbar": {
              "outlinewidth": 0,
              "ticks": ""
             }
            },
            "marker": {
             "colorbar": {
              "outlinewidth": 0,
              "ticks": ""
             }
            },
            "type": "scatter3d"
           }
          ],
          "scattercarpet": [
           {
            "marker": {
             "colorbar": {
              "outlinewidth": 0,
              "ticks": ""
             }
            },
            "type": "scattercarpet"
           }
          ],
          "scattergeo": [
           {
            "marker": {
             "colorbar": {
              "outlinewidth": 0,
              "ticks": ""
             }
            },
            "type": "scattergeo"
           }
          ],
          "scattergl": [
           {
            "marker": {
             "colorbar": {
              "outlinewidth": 0,
              "ticks": ""
             }
            },
            "type": "scattergl"
           }
          ],
          "scattermapbox": [
           {
            "marker": {
             "colorbar": {
              "outlinewidth": 0,
              "ticks": ""
             }
            },
            "type": "scattermapbox"
           }
          ],
          "scatterpolar": [
           {
            "marker": {
             "colorbar": {
              "outlinewidth": 0,
              "ticks": ""
             }
            },
            "type": "scatterpolar"
           }
          ],
          "scatterpolargl": [
           {
            "marker": {
             "colorbar": {
              "outlinewidth": 0,
              "ticks": ""
             }
            },
            "type": "scatterpolargl"
           }
          ],
          "scatterternary": [
           {
            "marker": {
             "colorbar": {
              "outlinewidth": 0,
              "ticks": ""
             }
            },
            "type": "scatterternary"
           }
          ],
          "surface": [
           {
            "colorbar": {
             "outlinewidth": 0,
             "ticks": ""
            },
            "colorscale": [
             [
              0,
              "#0d0887"
             ],
             [
              0.1111111111111111,
              "#46039f"
             ],
             [
              0.2222222222222222,
              "#7201a8"
             ],
             [
              0.3333333333333333,
              "#9c179e"
             ],
             [
              0.4444444444444444,
              "#bd3786"
             ],
             [
              0.5555555555555556,
              "#d8576b"
             ],
             [
              0.6666666666666666,
              "#ed7953"
             ],
             [
              0.7777777777777778,
              "#fb9f3a"
             ],
             [
              0.8888888888888888,
              "#fdca26"
             ],
             [
              1,
              "#f0f921"
             ]
            ],
            "type": "surface"
           }
          ],
          "table": [
           {
            "cells": {
             "fill": {
              "color": "#EBF0F8"
             },
             "line": {
              "color": "white"
             }
            },
            "header": {
             "fill": {
              "color": "#C8D4E3"
             },
             "line": {
              "color": "white"
             }
            },
            "type": "table"
           }
          ]
         },
         "layout": {
          "annotationdefaults": {
           "arrowcolor": "#2a3f5f",
           "arrowhead": 0,
           "arrowwidth": 1
          },
          "autotypenumbers": "strict",
          "coloraxis": {
           "colorbar": {
            "outlinewidth": 0,
            "ticks": ""
           }
          },
          "colorscale": {
           "diverging": [
            [
             0,
             "#8e0152"
            ],
            [
             0.1,
             "#c51b7d"
            ],
            [
             0.2,
             "#de77ae"
            ],
            [
             0.3,
             "#f1b6da"
            ],
            [
             0.4,
             "#fde0ef"
            ],
            [
             0.5,
             "#f7f7f7"
            ],
            [
             0.6,
             "#e6f5d0"
            ],
            [
             0.7,
             "#b8e186"
            ],
            [
             0.8,
             "#7fbc41"
            ],
            [
             0.9,
             "#4d9221"
            ],
            [
             1,
             "#276419"
            ]
           ],
           "sequential": [
            [
             0,
             "#0d0887"
            ],
            [
             0.1111111111111111,
             "#46039f"
            ],
            [
             0.2222222222222222,
             "#7201a8"
            ],
            [
             0.3333333333333333,
             "#9c179e"
            ],
            [
             0.4444444444444444,
             "#bd3786"
            ],
            [
             0.5555555555555556,
             "#d8576b"
            ],
            [
             0.6666666666666666,
             "#ed7953"
            ],
            [
             0.7777777777777778,
             "#fb9f3a"
            ],
            [
             0.8888888888888888,
             "#fdca26"
            ],
            [
             1,
             "#f0f921"
            ]
           ],
           "sequentialminus": [
            [
             0,
             "#0d0887"
            ],
            [
             0.1111111111111111,
             "#46039f"
            ],
            [
             0.2222222222222222,
             "#7201a8"
            ],
            [
             0.3333333333333333,
             "#9c179e"
            ],
            [
             0.4444444444444444,
             "#bd3786"
            ],
            [
             0.5555555555555556,
             "#d8576b"
            ],
            [
             0.6666666666666666,
             "#ed7953"
            ],
            [
             0.7777777777777778,
             "#fb9f3a"
            ],
            [
             0.8888888888888888,
             "#fdca26"
            ],
            [
             1,
             "#f0f921"
            ]
           ]
          },
          "colorway": [
           "#636efa",
           "#EF553B",
           "#00cc96",
           "#ab63fa",
           "#FFA15A",
           "#19d3f3",
           "#FF6692",
           "#B6E880",
           "#FF97FF",
           "#FECB52"
          ],
          "font": {
           "color": "#2a3f5f"
          },
          "geo": {
           "bgcolor": "white",
           "lakecolor": "white",
           "landcolor": "#E5ECF6",
           "showlakes": true,
           "showland": true,
           "subunitcolor": "white"
          },
          "hoverlabel": {
           "align": "left"
          },
          "hovermode": "closest",
          "mapbox": {
           "style": "light"
          },
          "paper_bgcolor": "white",
          "plot_bgcolor": "#E5ECF6",
          "polar": {
           "angularaxis": {
            "gridcolor": "white",
            "linecolor": "white",
            "ticks": ""
           },
           "bgcolor": "#E5ECF6",
           "radialaxis": {
            "gridcolor": "white",
            "linecolor": "white",
            "ticks": ""
           }
          },
          "scene": {
           "xaxis": {
            "backgroundcolor": "#E5ECF6",
            "gridcolor": "white",
            "gridwidth": 2,
            "linecolor": "white",
            "showbackground": true,
            "ticks": "",
            "zerolinecolor": "white"
           },
           "yaxis": {
            "backgroundcolor": "#E5ECF6",
            "gridcolor": "white",
            "gridwidth": 2,
            "linecolor": "white",
            "showbackground": true,
            "ticks": "",
            "zerolinecolor": "white"
           },
           "zaxis": {
            "backgroundcolor": "#E5ECF6",
            "gridcolor": "white",
            "gridwidth": 2,
            "linecolor": "white",
            "showbackground": true,
            "ticks": "",
            "zerolinecolor": "white"
           }
          },
          "shapedefaults": {
           "line": {
            "color": "#2a3f5f"
           }
          },
          "ternary": {
           "aaxis": {
            "gridcolor": "white",
            "linecolor": "white",
            "ticks": ""
           },
           "baxis": {
            "gridcolor": "white",
            "linecolor": "white",
            "ticks": ""
           },
           "bgcolor": "#E5ECF6",
           "caxis": {
            "gridcolor": "white",
            "linecolor": "white",
            "ticks": ""
           }
          },
          "title": {
           "x": 0.05
          },
          "xaxis": {
           "automargin": true,
           "gridcolor": "white",
           "linecolor": "white",
           "ticks": "",
           "title": {
            "standoff": 15
           },
           "zerolinecolor": "white",
           "zerolinewidth": 2
          },
          "yaxis": {
           "automargin": true,
           "gridcolor": "white",
           "linecolor": "white",
           "ticks": "",
           "title": {
            "standoff": 15
           },
           "zerolinecolor": "white",
           "zerolinewidth": 2
          }
         }
        },
        "title": {
         "text": "Value-Momentum Strategy"
        },
        "xaxis": {
         "anchor": "y",
         "domain": [
          0,
          1
         ],
         "title": {
          "text": "date"
         }
        },
        "yaxis": {
         "anchor": "x",
         "domain": [
          0,
          1
         ],
         "title": {
          "text": "Cumulative returns"
         }
        }
       }
      }
     },
     "metadata": {},
     "output_type": "display_data"
    }
   ],
   "source": [
    "port_comb_df['Strat_cum_rets'] = (1+port_comb_df['Strat_rets']).cumprod()\n",
    "px.line(port_comb_df, y='Strat_cum_rets', x='date', labels={'Strat_cum_rets': 'Cumulative returns'}, title = 'Value-Momentum Strategy').show()"
   ]
  },
  {
   "cell_type": "code",
   "execution_count": 70,
   "id": "4b59ea23",
   "metadata": {},
   "outputs": [
    {
     "data": {
      "application/vnd.plotly.v1+json": {
       "config": {
        "plotlyServerURL": "https://plot.ly"
       },
       "data": [
        {
         "alignmentgroup": "True",
         "bingroup": "x",
         "hovertemplate": "port_comb=Strat_rets<br>value=%{x}<br>count=%{y}<extra></extra>",
         "legendgroup": "Strat_rets",
         "marker": {
          "color": "#636efa",
          "pattern": {
           "shape": ""
          }
         },
         "name": "Strat_rets",
         "offsetgroup": "Strat_rets",
         "orientation": "v",
         "showlegend": true,
         "type": "histogram",
         "x": [
          -0.006841759689623805,
          0.051765992684207764,
          -0.14510859752904515,
          -0.016336360522210432,
          -0.13201274332576696,
          -0.0679801172271551,
          0.0731804439503293,
          0.008824126051570912,
          0.028925483176482435,
          -0.009735717676830728,
          0.0104603185602783,
          0.009962005549249205,
          -0.012782069800795843,
          0.019512017993957922,
          -0.044385787284562224,
          0.02231487392807617,
          0.01201153644786144,
          0.015769808820636794,
          0.02274870303760879,
          0.015710224456987998,
          0.007423042721193033,
          0.007610083409928643,
          -0.018266327973003177,
          -0.023422271244312738,
          0.000841044399905433,
          -0.04902431612020413,
          -0.07362633141710173,
          0.011142332392467449,
          0.04624578625872401,
          0.009820958834786652,
          0.03167100250904223,
          0.006295467537660079,
          -0.015431928865602018,
          0.06072389805511413,
          0.03431254173397402,
          -0.012304214037227833,
          0.011157513643604506,
          -0.05408657820626994,
          -0.0470768575612211,
          0.03129316716554134,
          0.02890071132523042,
          -0.007573643122065274,
          -0.02121862723547549,
          0.035119813824528216,
          0.037934133446401015,
          0.030623845897178516,
          0.014297985494057353,
          -0.06033711323551023,
          -0.05494337979083441,
          -0.06511575925170829,
          -0.025108197928938522,
          0.004048242687554309,
          -0.007397872450224092,
          -0.01120105419803176,
          -0.04623877788373136,
          0.04380654895143962,
          -0.02506280785712313,
          -0.019585031488289675,
          0.0011167850825437725,
          0.026394634291198114,
          0.016714754482522777,
          -0.004687264812628069,
          -0.012383040284123889,
          0.025531386547568754,
          0.004464655522049721,
          -0.05344047477768069,
          -0.027825671509268193,
          -0.0960689492124494,
          -0.0018684868429275792,
          0.031235432056142824,
          -0.023364527418335362,
          0.014247514703564154,
          -0.05300645791139895,
          0.05086648345379864,
          -0.005436314959481756,
          0.03231751421835296,
          -0.018896616069166396,
          0.011663929983676203,
          0.06001491193288819,
          0.019607359095117564,
          -0.046241932132317795,
          -0.01931330976511296,
          -0.008027831108082056,
          -0.013858579887467418,
          0.03710120024410724,
          0.008141412749608334,
          -0.02777409440720302,
          0.02777588388903708,
          -0.031853014874848755,
          -0.036464381328534426,
          0.01955986892954372,
          -0.06782368276664687,
          0.06660596784785985,
          0.04920025781168638,
          -0.03150544100922198,
          -0.016915884518733937,
          -0.014020625806104768,
          -0.15005778022331265,
          -0.0748251518270851,
          -0.029588565689178954,
          0.0022252937474059216,
          -0.052026232373560445,
          -0.044621277762164756,
          0.052367998813461714,
          -0.008812276604787204,
          0.03586228165271095,
          0.005738916534628477,
          0.0031994258505634934,
          -0.01400529003400839,
          -0.12751905781988937,
          -0.0276821528136867,
          0.04331401553895525,
          0.03208539551022216,
          0.062439243685634645,
          -0.010555023435304428,
          0.020687592348160817,
          -0.02120624616453822,
          -0.032183346003132926,
          0.09759261421581958,
          -0.003781767992881907,
          0.10595536323885316,
          0.028739378703527576,
          0.10641165966115533,
          0.115745052748692,
          -0.1834771945893678,
          0.1980726175267986,
          0.1329551242419599,
          -0.14991381463104944,
          0.03176745150792361,
          -0.007299382367608007,
          0.020642695036875852,
          0.05572252957489014,
          0.09528040439633488,
          -0.13468716662509028,
          -0.097389172983539,
          -0.018280251006901158,
          0.05577057759037267,
          0.13159723957971095,
          -0.027134048275198067,
          0.14862165050665938,
          0.0034882287152667446,
          0.047302251513154536,
          -0.05095305007699047,
          0.022243159157812036,
          0.06797302170311721,
          -0.14884280157494933,
          -0.17708531372031333,
          0.11049853959578357,
          0.01641968689560061,
          -0.0015240564927637527,
          0.001231821841372045,
          0.015786556984652617,
          0.0980173329401568,
          0.02542462352933457,
          -0.026492537863746436,
          0.04194717419617629,
          -0.032401295649566716,
          0.04816418480880184,
          0.017930111220340633,
          0.013531423762696955,
          0.0029613418123207967,
          0.024617070917784208,
          0.041653766253993925,
          -0.0009484978895631414,
          0.008783577005979041,
          0.05588827530695753,
          0.050335406849143075,
          0.013239990989245297,
          0.015038495455757847,
          -0.019640533448107685,
          0.04101046410491432,
          -0.016389601958152082,
          0.02098504175029791,
          0.036075397836614745,
          0.049201686403505925,
          -0.03719993640905256,
          0.006818334095084928,
          0.04316803846902975,
          -0.0037784361577237677,
          0.015761798965903587,
          0.04580329180817161,
          -0.0231553131793895,
          0.01970467858786249,
          0.008029784257798081,
          0.06332948995389305,
          -0.020767528224573055,
          0.028197022191854906,
          0.00655723990769677,
          -0.016603053424205625,
          0.007965961939639256,
          -0.015311825616342502,
          -0.04566944408546107,
          -0.015602177791596415,
          -0.009135519616052003,
          -0.03116742244832263,
          0.043522287620457026,
          -0.010021884139363103,
          -0.0060789833712493815,
          0.01102652261670115,
          -0.015132085846431616,
          0.035053253212706165,
          -0.01416169663127605,
          -0.011586940276540135,
          -0.01699744261985911,
          0.009397121677198427,
          -0.00857837460160709,
          -0.024481930015262485,
          0.05887816746592253,
          0.003998896980640168,
          0.05335621021640059,
          -0.007182685937050976,
          -0.02264465259342452,
          -0.04178554617488008,
          0.0261467312225019,
          0.043696159643158164,
          -0.04103779455113602,
          0.008288332320702571,
          -0.040593669536141574,
          -0.0008622381290199072,
          -0.06436620034826238,
          -0.14516463460508894,
          -0.07516939015383071,
          -0.07079792580540575,
          -0.2659684567249929,
          -0.04721110892684548,
          -0.028835687517741106,
          0.06314013220028847,
          0.03279907603755938,
          0.06842654504286955,
          -0.0635562221259207,
          -0.0014529955772280348,
          0.014775638626125236,
          0.025735227391494725,
          0.03063619307601565,
          0.04963873931702477,
          0.04186500729890161,
          -0.014848594665450882,
          -0.06730471233882757,
          0.015537231990227551,
          -0.021915780030044144,
          -0.04334914581087672,
          -0.005719258959346038,
          -0.01625271990320813,
          -0.03299022089344077,
          -0.010683446948054457,
          0.0038227252099583275,
          0.024300913382672866,
          -0.01919678166814614,
          -0.026827589798446697,
          -0.012285217158281632,
          -0.010770205870527738,
          -0.004893013289382589,
          -0.0034396922894335685,
          -0.08103964554244984,
          0.0176709451503649,
          0.0351355984261081,
          -0.15827630141925234,
          -0.020876079815333293,
          -0.014367256470865727,
          -0.04235923876423779,
          -0.057261343733933726,
          0.006216362602203998,
          -0.00686806895592466,
          0.019032021686373052,
          0.012498211992824193,
          -0.01977403984582704,
          -0.012513694776105557,
          -0.009091307765761992,
          0.004577702758100856,
          0.016347206829953803,
          -0.007697968360945079,
          -0.018823122142397754,
          0.04258958745542625,
          0.0007682430506998298,
          0.010426943018786015,
          -0.019835362034047885,
          -0.010233491514341123,
          0.013800773201487121,
          0.024831620948920045,
          0.00034142060503193974,
          -0.027808911070567773,
          0.002665253078017689,
          0.017671913417172405,
          -0.0109840112326061,
          -0.00266759956751925,
          0.016353289785303746,
          -0.017959962359006508,
          0.006650125329219506,
          -0.029927485546592834,
          -0.039713639148599544,
          -0.03240490017866118,
          0.02390454426740428,
          0.01143933528151168,
          -0.038423498541388566,
          0.0139276675182279,
          -0.05584656840186562,
          0.048861587433042364,
          0.0010306974406997862,
          -0.022195465490207816,
          0.015455700441505252,
          -0.0045197780649915385,
          -0.055786581262292564,
          0.002076762994503779,
          0.017168184222098253,
          0.03821701160830831,
          -0.025654605878304954,
          -0.023685987253150423,
          -0.013120030645307985,
          -0.013509031518732319,
          0.05612085585496697,
          -0.0433741213886251,
          -0.005911880846053731,
          0.013757790502416881,
          -0.004461306389484082,
          0.15175733792714816,
          0.014899110990447323,
          -0.03322673006386407,
          -0.018178444249933375,
          -0.020998767919414754,
          -0.023382155511502405,
          -0.021116988878072705,
          0.04673776461522955,
          0.01560703025209143,
          0.022306022002743807,
          -0.00971852503381402,
          0.10615677662873436,
          -0.007811565674966804,
          -0.007623538644980646,
          -0.01625017980824374,
          -0.0442260967747214,
          0.0060260427028678626,
          0.03319945031336895,
          0.00504214979873219,
          0.00040516648193241606,
          -0.03964921488775289,
          0.00369522079935355,
          -0.002814973221897301,
          0.002771575189006059,
          -0.09320212296761093,
          -0.03911130300172706,
          -0.050707345983189614,
          -0.04396617562916845,
          -0.028850502878345997,
          -0.014003874498698096,
          0.054271567774834696,
          -0.040653303500884294,
          -0.013473962594318451,
          -0.02841471465675663,
          0.014827287317630517,
          -0.07045968169781905,
          -0.020542134358048723,
          -0.013931708556402462,
          -0.05265296779996341,
          -0.04010829324566767,
          -0.13735034164318546,
          0.06681205988192704,
          0.07095756608900759,
          -0.05191064288205345,
          0.05905660107955044,
          -0.06333678687671726,
          0.03759719862087905,
          0.039799190853163344,
          0.05797782416773217,
          -0.018303263700582335,
          0.10043896768466745,
          0.14435797710650525,
          -0.009908938194370942,
          -0.002351642862120973,
          0.055159643155162114,
          -0.0621581708321419,
          -0.08014940855844688,
          0.004766583956702642,
          0.049135384860884423,
          0.0115153647145948,
          -0.013378891370357398,
          -0.030712685606169722,
          0.036710548541442255,
          0.043659502015400475,
          0.01679347275769637,
          0.06503288576548577,
          0.05545284174049344,
          -0.010720180063049214,
          -0.0991149508975202,
          0.06100143228293495,
          null,
          null
         ],
         "xaxis": "x",
         "yaxis": "y"
        }
       ],
       "layout": {
        "barmode": "relative",
        "legend": {
         "title": {
          "text": "port_comb"
         },
         "tracegroupgap": 0
        },
        "margin": {
         "t": 60
        },
        "template": {
         "data": {
          "bar": [
           {
            "error_x": {
             "color": "#2a3f5f"
            },
            "error_y": {
             "color": "#2a3f5f"
            },
            "marker": {
             "line": {
              "color": "#E5ECF6",
              "width": 0.5
             },
             "pattern": {
              "fillmode": "overlay",
              "size": 10,
              "solidity": 0.2
             }
            },
            "type": "bar"
           }
          ],
          "barpolar": [
           {
            "marker": {
             "line": {
              "color": "#E5ECF6",
              "width": 0.5
             },
             "pattern": {
              "fillmode": "overlay",
              "size": 10,
              "solidity": 0.2
             }
            },
            "type": "barpolar"
           }
          ],
          "carpet": [
           {
            "aaxis": {
             "endlinecolor": "#2a3f5f",
             "gridcolor": "white",
             "linecolor": "white",
             "minorgridcolor": "white",
             "startlinecolor": "#2a3f5f"
            },
            "baxis": {
             "endlinecolor": "#2a3f5f",
             "gridcolor": "white",
             "linecolor": "white",
             "minorgridcolor": "white",
             "startlinecolor": "#2a3f5f"
            },
            "type": "carpet"
           }
          ],
          "choropleth": [
           {
            "colorbar": {
             "outlinewidth": 0,
             "ticks": ""
            },
            "type": "choropleth"
           }
          ],
          "contour": [
           {
            "colorbar": {
             "outlinewidth": 0,
             "ticks": ""
            },
            "colorscale": [
             [
              0,
              "#0d0887"
             ],
             [
              0.1111111111111111,
              "#46039f"
             ],
             [
              0.2222222222222222,
              "#7201a8"
             ],
             [
              0.3333333333333333,
              "#9c179e"
             ],
             [
              0.4444444444444444,
              "#bd3786"
             ],
             [
              0.5555555555555556,
              "#d8576b"
             ],
             [
              0.6666666666666666,
              "#ed7953"
             ],
             [
              0.7777777777777778,
              "#fb9f3a"
             ],
             [
              0.8888888888888888,
              "#fdca26"
             ],
             [
              1,
              "#f0f921"
             ]
            ],
            "type": "contour"
           }
          ],
          "contourcarpet": [
           {
            "colorbar": {
             "outlinewidth": 0,
             "ticks": ""
            },
            "type": "contourcarpet"
           }
          ],
          "heatmap": [
           {
            "colorbar": {
             "outlinewidth": 0,
             "ticks": ""
            },
            "colorscale": [
             [
              0,
              "#0d0887"
             ],
             [
              0.1111111111111111,
              "#46039f"
             ],
             [
              0.2222222222222222,
              "#7201a8"
             ],
             [
              0.3333333333333333,
              "#9c179e"
             ],
             [
              0.4444444444444444,
              "#bd3786"
             ],
             [
              0.5555555555555556,
              "#d8576b"
             ],
             [
              0.6666666666666666,
              "#ed7953"
             ],
             [
              0.7777777777777778,
              "#fb9f3a"
             ],
             [
              0.8888888888888888,
              "#fdca26"
             ],
             [
              1,
              "#f0f921"
             ]
            ],
            "type": "heatmap"
           }
          ],
          "heatmapgl": [
           {
            "colorbar": {
             "outlinewidth": 0,
             "ticks": ""
            },
            "colorscale": [
             [
              0,
              "#0d0887"
             ],
             [
              0.1111111111111111,
              "#46039f"
             ],
             [
              0.2222222222222222,
              "#7201a8"
             ],
             [
              0.3333333333333333,
              "#9c179e"
             ],
             [
              0.4444444444444444,
              "#bd3786"
             ],
             [
              0.5555555555555556,
              "#d8576b"
             ],
             [
              0.6666666666666666,
              "#ed7953"
             ],
             [
              0.7777777777777778,
              "#fb9f3a"
             ],
             [
              0.8888888888888888,
              "#fdca26"
             ],
             [
              1,
              "#f0f921"
             ]
            ],
            "type": "heatmapgl"
           }
          ],
          "histogram": [
           {
            "marker": {
             "pattern": {
              "fillmode": "overlay",
              "size": 10,
              "solidity": 0.2
             }
            },
            "type": "histogram"
           }
          ],
          "histogram2d": [
           {
            "colorbar": {
             "outlinewidth": 0,
             "ticks": ""
            },
            "colorscale": [
             [
              0,
              "#0d0887"
             ],
             [
              0.1111111111111111,
              "#46039f"
             ],
             [
              0.2222222222222222,
              "#7201a8"
             ],
             [
              0.3333333333333333,
              "#9c179e"
             ],
             [
              0.4444444444444444,
              "#bd3786"
             ],
             [
              0.5555555555555556,
              "#d8576b"
             ],
             [
              0.6666666666666666,
              "#ed7953"
             ],
             [
              0.7777777777777778,
              "#fb9f3a"
             ],
             [
              0.8888888888888888,
              "#fdca26"
             ],
             [
              1,
              "#f0f921"
             ]
            ],
            "type": "histogram2d"
           }
          ],
          "histogram2dcontour": [
           {
            "colorbar": {
             "outlinewidth": 0,
             "ticks": ""
            },
            "colorscale": [
             [
              0,
              "#0d0887"
             ],
             [
              0.1111111111111111,
              "#46039f"
             ],
             [
              0.2222222222222222,
              "#7201a8"
             ],
             [
              0.3333333333333333,
              "#9c179e"
             ],
             [
              0.4444444444444444,
              "#bd3786"
             ],
             [
              0.5555555555555556,
              "#d8576b"
             ],
             [
              0.6666666666666666,
              "#ed7953"
             ],
             [
              0.7777777777777778,
              "#fb9f3a"
             ],
             [
              0.8888888888888888,
              "#fdca26"
             ],
             [
              1,
              "#f0f921"
             ]
            ],
            "type": "histogram2dcontour"
           }
          ],
          "mesh3d": [
           {
            "colorbar": {
             "outlinewidth": 0,
             "ticks": ""
            },
            "type": "mesh3d"
           }
          ],
          "parcoords": [
           {
            "line": {
             "colorbar": {
              "outlinewidth": 0,
              "ticks": ""
             }
            },
            "type": "parcoords"
           }
          ],
          "pie": [
           {
            "automargin": true,
            "type": "pie"
           }
          ],
          "scatter": [
           {
            "fillpattern": {
             "fillmode": "overlay",
             "size": 10,
             "solidity": 0.2
            },
            "type": "scatter"
           }
          ],
          "scatter3d": [
           {
            "line": {
             "colorbar": {
              "outlinewidth": 0,
              "ticks": ""
             }
            },
            "marker": {
             "colorbar": {
              "outlinewidth": 0,
              "ticks": ""
             }
            },
            "type": "scatter3d"
           }
          ],
          "scattercarpet": [
           {
            "marker": {
             "colorbar": {
              "outlinewidth": 0,
              "ticks": ""
             }
            },
            "type": "scattercarpet"
           }
          ],
          "scattergeo": [
           {
            "marker": {
             "colorbar": {
              "outlinewidth": 0,
              "ticks": ""
             }
            },
            "type": "scattergeo"
           }
          ],
          "scattergl": [
           {
            "marker": {
             "colorbar": {
              "outlinewidth": 0,
              "ticks": ""
             }
            },
            "type": "scattergl"
           }
          ],
          "scattermapbox": [
           {
            "marker": {
             "colorbar": {
              "outlinewidth": 0,
              "ticks": ""
             }
            },
            "type": "scattermapbox"
           }
          ],
          "scatterpolar": [
           {
            "marker": {
             "colorbar": {
              "outlinewidth": 0,
              "ticks": ""
             }
            },
            "type": "scatterpolar"
           }
          ],
          "scatterpolargl": [
           {
            "marker": {
             "colorbar": {
              "outlinewidth": 0,
              "ticks": ""
             }
            },
            "type": "scatterpolargl"
           }
          ],
          "scatterternary": [
           {
            "marker": {
             "colorbar": {
              "outlinewidth": 0,
              "ticks": ""
             }
            },
            "type": "scatterternary"
           }
          ],
          "surface": [
           {
            "colorbar": {
             "outlinewidth": 0,
             "ticks": ""
            },
            "colorscale": [
             [
              0,
              "#0d0887"
             ],
             [
              0.1111111111111111,
              "#46039f"
             ],
             [
              0.2222222222222222,
              "#7201a8"
             ],
             [
              0.3333333333333333,
              "#9c179e"
             ],
             [
              0.4444444444444444,
              "#bd3786"
             ],
             [
              0.5555555555555556,
              "#d8576b"
             ],
             [
              0.6666666666666666,
              "#ed7953"
             ],
             [
              0.7777777777777778,
              "#fb9f3a"
             ],
             [
              0.8888888888888888,
              "#fdca26"
             ],
             [
              1,
              "#f0f921"
             ]
            ],
            "type": "surface"
           }
          ],
          "table": [
           {
            "cells": {
             "fill": {
              "color": "#EBF0F8"
             },
             "line": {
              "color": "white"
             }
            },
            "header": {
             "fill": {
              "color": "#C8D4E3"
             },
             "line": {
              "color": "white"
             }
            },
            "type": "table"
           }
          ]
         },
         "layout": {
          "annotationdefaults": {
           "arrowcolor": "#2a3f5f",
           "arrowhead": 0,
           "arrowwidth": 1
          },
          "autotypenumbers": "strict",
          "coloraxis": {
           "colorbar": {
            "outlinewidth": 0,
            "ticks": ""
           }
          },
          "colorscale": {
           "diverging": [
            [
             0,
             "#8e0152"
            ],
            [
             0.1,
             "#c51b7d"
            ],
            [
             0.2,
             "#de77ae"
            ],
            [
             0.3,
             "#f1b6da"
            ],
            [
             0.4,
             "#fde0ef"
            ],
            [
             0.5,
             "#f7f7f7"
            ],
            [
             0.6,
             "#e6f5d0"
            ],
            [
             0.7,
             "#b8e186"
            ],
            [
             0.8,
             "#7fbc41"
            ],
            [
             0.9,
             "#4d9221"
            ],
            [
             1,
             "#276419"
            ]
           ],
           "sequential": [
            [
             0,
             "#0d0887"
            ],
            [
             0.1111111111111111,
             "#46039f"
            ],
            [
             0.2222222222222222,
             "#7201a8"
            ],
            [
             0.3333333333333333,
             "#9c179e"
            ],
            [
             0.4444444444444444,
             "#bd3786"
            ],
            [
             0.5555555555555556,
             "#d8576b"
            ],
            [
             0.6666666666666666,
             "#ed7953"
            ],
            [
             0.7777777777777778,
             "#fb9f3a"
            ],
            [
             0.8888888888888888,
             "#fdca26"
            ],
            [
             1,
             "#f0f921"
            ]
           ],
           "sequentialminus": [
            [
             0,
             "#0d0887"
            ],
            [
             0.1111111111111111,
             "#46039f"
            ],
            [
             0.2222222222222222,
             "#7201a8"
            ],
            [
             0.3333333333333333,
             "#9c179e"
            ],
            [
             0.4444444444444444,
             "#bd3786"
            ],
            [
             0.5555555555555556,
             "#d8576b"
            ],
            [
             0.6666666666666666,
             "#ed7953"
            ],
            [
             0.7777777777777778,
             "#fb9f3a"
            ],
            [
             0.8888888888888888,
             "#fdca26"
            ],
            [
             1,
             "#f0f921"
            ]
           ]
          },
          "colorway": [
           "#636efa",
           "#EF553B",
           "#00cc96",
           "#ab63fa",
           "#FFA15A",
           "#19d3f3",
           "#FF6692",
           "#B6E880",
           "#FF97FF",
           "#FECB52"
          ],
          "font": {
           "color": "#2a3f5f"
          },
          "geo": {
           "bgcolor": "white",
           "lakecolor": "white",
           "landcolor": "#E5ECF6",
           "showlakes": true,
           "showland": true,
           "subunitcolor": "white"
          },
          "hoverlabel": {
           "align": "left"
          },
          "hovermode": "closest",
          "mapbox": {
           "style": "light"
          },
          "paper_bgcolor": "white",
          "plot_bgcolor": "#E5ECF6",
          "polar": {
           "angularaxis": {
            "gridcolor": "white",
            "linecolor": "white",
            "ticks": ""
           },
           "bgcolor": "#E5ECF6",
           "radialaxis": {
            "gridcolor": "white",
            "linecolor": "white",
            "ticks": ""
           }
          },
          "scene": {
           "xaxis": {
            "backgroundcolor": "#E5ECF6",
            "gridcolor": "white",
            "gridwidth": 2,
            "linecolor": "white",
            "showbackground": true,
            "ticks": "",
            "zerolinecolor": "white"
           },
           "yaxis": {
            "backgroundcolor": "#E5ECF6",
            "gridcolor": "white",
            "gridwidth": 2,
            "linecolor": "white",
            "showbackground": true,
            "ticks": "",
            "zerolinecolor": "white"
           },
           "zaxis": {
            "backgroundcolor": "#E5ECF6",
            "gridcolor": "white",
            "gridwidth": 2,
            "linecolor": "white",
            "showbackground": true,
            "ticks": "",
            "zerolinecolor": "white"
           }
          },
          "shapedefaults": {
           "line": {
            "color": "#2a3f5f"
           }
          },
          "ternary": {
           "aaxis": {
            "gridcolor": "white",
            "linecolor": "white",
            "ticks": ""
           },
           "baxis": {
            "gridcolor": "white",
            "linecolor": "white",
            "ticks": ""
           },
           "bgcolor": "#E5ECF6",
           "caxis": {
            "gridcolor": "white",
            "linecolor": "white",
            "ticks": ""
           }
          },
          "title": {
           "x": 0.05
          },
          "xaxis": {
           "automargin": true,
           "gridcolor": "white",
           "linecolor": "white",
           "ticks": "",
           "title": {
            "standoff": 15
           },
           "zerolinecolor": "white",
           "zerolinewidth": 2
          },
          "yaxis": {
           "automargin": true,
           "gridcolor": "white",
           "linecolor": "white",
           "ticks": "",
           "title": {
            "standoff": 15
           },
           "zerolinecolor": "white",
           "zerolinewidth": 2
          }
         }
        },
        "xaxis": {
         "anchor": "y",
         "domain": [
          0,
          1
         ],
         "title": {
          "text": "value"
         }
        },
        "yaxis": {
         "anchor": "x",
         "domain": [
          0,
          1
         ],
         "title": {
          "text": "count"
         }
        }
       }
      }
     },
     "metadata": {},
     "output_type": "display_data"
    }
   ],
   "source": [
    "px.histogram(port_comb_df[['Strat_rets']]).show()"
   ]
  },
  {
   "cell_type": "code",
   "execution_count": 73,
   "id": "90bc65f2",
   "metadata": {},
   "outputs": [],
   "source": [
    "port_comb_df.date = pd.to_datetime(port_comb_df.date)"
   ]
  },
  {
   "cell_type": "code",
   "execution_count": 74,
   "id": "a34af57e",
   "metadata": {},
   "outputs": [
    {
     "name": "stderr",
     "output_type": "stream",
     "text": [
      "/Library/Frameworks/Python.framework/Versions/3.9/lib/python3.9/site-packages/_plotly_utils/basevalidators.py:105: FutureWarning:\n",
      "\n",
      "The behavior of DatetimeProperties.to_pydatetime is deprecated, in a future version this will return a Series containing python datetime objects instead of an ndarray. To retain the old behavior, call `np.array` on the result\n",
      "\n"
     ]
    },
    {
     "data": {
      "application/vnd.plotly.v1+json": {
       "config": {
        "plotlyServerURL": "https://plot.ly"
       },
       "data": [
        {
         "alignmentgroup": "True",
         "hovertemplate": "date=%{x}<br>Strat_rets=%{y}<extra></extra>",
         "legendgroup": "",
         "marker": {
          "color": [
           "red",
           "green",
           "red",
           "red",
           "red",
           "red",
           "green",
           "green",
           "green",
           "red",
           "green",
           "green",
           "red",
           "green",
           "red",
           "green",
           "green",
           "green",
           "green",
           "green",
           "green",
           "green",
           "red",
           "red",
           "green",
           "red",
           "red",
           "green",
           "green",
           "green",
           "green",
           "green",
           "red",
           "green",
           "green",
           "red",
           "green",
           "red",
           "red",
           "green",
           "green",
           "red",
           "red",
           "green",
           "green",
           "green",
           "green",
           "red",
           "red",
           "red",
           "red",
           "green",
           "red",
           "red",
           "red",
           "green",
           "red",
           "red",
           "green",
           "green",
           "green",
           "red",
           "red",
           "green",
           "green",
           "red",
           "red",
           "red",
           "red",
           "green",
           "red",
           "green",
           "red",
           "green",
           "red",
           "green",
           "red",
           "green",
           "green",
           "green",
           "red",
           "red",
           "red",
           "red",
           "green",
           "green",
           "red",
           "green",
           "red",
           "red",
           "green",
           "red",
           "green",
           "green",
           "red",
           "red",
           "red",
           "red",
           "red",
           "red",
           "green",
           "red",
           "red",
           "green",
           "red",
           "green",
           "green",
           "green",
           "red",
           "red",
           "red",
           "green",
           "green",
           "green",
           "red",
           "green",
           "red",
           "red",
           "green",
           "red",
           "green",
           "green",
           "green",
           "green",
           "red",
           "green",
           "green",
           "red",
           "green",
           "red",
           "green",
           "green",
           "green",
           "red",
           "red",
           "red",
           "green",
           "green",
           "red",
           "green",
           "green",
           "green",
           "red",
           "green",
           "green",
           "red",
           "red",
           "green",
           "green",
           "red",
           "green",
           "green",
           "green",
           "green",
           "red",
           "green",
           "red",
           "green",
           "green",
           "green",
           "green",
           "green",
           "green",
           "red",
           "green",
           "green",
           "green",
           "green",
           "green",
           "red",
           "green",
           "red",
           "green",
           "green",
           "green",
           "red",
           "green",
           "green",
           "red",
           "green",
           "green",
           "red",
           "green",
           "green",
           "green",
           "red",
           "green",
           "green",
           "red",
           "green",
           "red",
           "red",
           "red",
           "red",
           "red",
           "green",
           "red",
           "red",
           "green",
           "red",
           "green",
           "red",
           "red",
           "red",
           "green",
           "red",
           "red",
           "green",
           "green",
           "green",
           "red",
           "red",
           "red",
           "green",
           "green",
           "red",
           "green",
           "red",
           "red",
           "red",
           "red",
           "red",
           "red",
           "red",
           "red",
           "red",
           "green",
           "green",
           "green",
           "red",
           "red",
           "green",
           "green",
           "green",
           "green",
           "green",
           "red",
           "red",
           "green",
           "red",
           "red",
           "red",
           "red",
           "red",
           "red",
           "green",
           "green",
           "red",
           "red",
           "red",
           "red",
           "red",
           "red",
           "red",
           "green",
           "green",
           "red",
           "red",
           "red",
           "red",
           "red",
           "green",
           "red",
           "green",
           "green",
           "red",
           "red",
           "red",
           "green",
           "green",
           "red",
           "red",
           "green",
           "green",
           "green",
           "red",
           "red",
           "green",
           "green",
           "green",
           "red",
           "green",
           "green",
           "red",
           "red",
           "green",
           "red",
           "green",
           "red",
           "red",
           "red",
           "green",
           "green",
           "red",
           "green",
           "red",
           "green",
           "green",
           "red",
           "green",
           "red",
           "red",
           "green",
           "green",
           "green",
           "red",
           "red",
           "red",
           "red",
           "green",
           "red",
           "red",
           "green",
           "red",
           "green",
           "green",
           "red",
           "red",
           "red",
           "red",
           "red",
           "green",
           "green",
           "green",
           "red",
           "green",
           "red",
           "red",
           "red",
           "red",
           "green",
           "green",
           "green",
           "green",
           "red",
           "green",
           "red",
           "green",
           "red",
           "red",
           "red",
           "red",
           "red",
           "red",
           "green",
           "red",
           "red",
           "red",
           "green",
           "red",
           "red",
           "red",
           "red",
           "red",
           "red",
           "green",
           "green",
           "red",
           "green",
           "red",
           "green",
           "green",
           "green",
           "red",
           "green",
           "green",
           "red",
           "red",
           "green",
           "red",
           "red",
           "green",
           "green",
           "green",
           "red",
           "red",
           "green",
           "green",
           "green",
           "green",
           "green",
           "red",
           "red",
           "green",
           "red",
           "red"
          ],
          "pattern": {
           "shape": ""
          }
         },
         "name": "",
         "offsetgroup": "",
         "orientation": "v",
         "showlegend": false,
         "textposition": "auto",
         "type": "bar",
         "x": [
          "1990-07-31T00:00:00",
          "1990-08-31T00:00:00",
          "1990-09-30T00:00:00",
          "1990-10-31T00:00:00",
          "1990-11-30T00:00:00",
          "1990-12-31T00:00:00",
          "1991-01-31T00:00:00",
          "1991-02-28T00:00:00",
          "1991-03-31T00:00:00",
          "1991-04-30T00:00:00",
          "1991-05-31T00:00:00",
          "1991-06-30T00:00:00",
          "1991-07-31T00:00:00",
          "1991-08-31T00:00:00",
          "1991-09-30T00:00:00",
          "1991-10-31T00:00:00",
          "1991-11-30T00:00:00",
          "1991-12-31T00:00:00",
          "1992-01-31T00:00:00",
          "1992-02-29T00:00:00",
          "1992-03-31T00:00:00",
          "1992-04-30T00:00:00",
          "1992-05-31T00:00:00",
          "1992-06-30T00:00:00",
          "1992-07-31T00:00:00",
          "1992-08-31T00:00:00",
          "1992-09-30T00:00:00",
          "1992-10-31T00:00:00",
          "1992-11-30T00:00:00",
          "1992-12-31T00:00:00",
          "1993-01-31T00:00:00",
          "1993-02-28T00:00:00",
          "1993-03-31T00:00:00",
          "1993-04-30T00:00:00",
          "1993-05-31T00:00:00",
          "1993-06-30T00:00:00",
          "1993-07-31T00:00:00",
          "1993-08-31T00:00:00",
          "1993-09-30T00:00:00",
          "1993-10-31T00:00:00",
          "1993-11-30T00:00:00",
          "1993-12-31T00:00:00",
          "1994-01-31T00:00:00",
          "1994-02-28T00:00:00",
          "1994-03-31T00:00:00",
          "1994-04-30T00:00:00",
          "1994-05-31T00:00:00",
          "1994-06-30T00:00:00",
          "1994-07-31T00:00:00",
          "1994-08-31T00:00:00",
          "1994-09-30T00:00:00",
          "1994-10-31T00:00:00",
          "1994-11-30T00:00:00",
          "1994-12-31T00:00:00",
          "1995-01-31T00:00:00",
          "1995-02-28T00:00:00",
          "1995-03-31T00:00:00",
          "1995-04-30T00:00:00",
          "1995-05-31T00:00:00",
          "1995-06-30T00:00:00",
          "1995-07-31T00:00:00",
          "1995-08-31T00:00:00",
          "1995-09-30T00:00:00",
          "1995-10-31T00:00:00",
          "1995-11-30T00:00:00",
          "1995-12-31T00:00:00",
          "1996-01-31T00:00:00",
          "1996-02-29T00:00:00",
          "1996-03-31T00:00:00",
          "1996-04-30T00:00:00",
          "1996-05-31T00:00:00",
          "1996-06-30T00:00:00",
          "1996-07-31T00:00:00",
          "1996-08-31T00:00:00",
          "1996-09-30T00:00:00",
          "1996-10-31T00:00:00",
          "1996-11-30T00:00:00",
          "1996-12-31T00:00:00",
          "1997-01-31T00:00:00",
          "1997-02-28T00:00:00",
          "1997-03-31T00:00:00",
          "1997-04-30T00:00:00",
          "1997-05-31T00:00:00",
          "1997-06-30T00:00:00",
          "1997-07-31T00:00:00",
          "1997-08-31T00:00:00",
          "1997-09-30T00:00:00",
          "1997-10-31T00:00:00",
          "1997-11-30T00:00:00",
          "1997-12-31T00:00:00",
          "1998-01-31T00:00:00",
          "1998-02-28T00:00:00",
          "1998-03-31T00:00:00",
          "1998-04-30T00:00:00",
          "1998-05-31T00:00:00",
          "1998-06-30T00:00:00",
          "1998-07-31T00:00:00",
          "1998-08-31T00:00:00",
          "1998-09-30T00:00:00",
          "1998-10-31T00:00:00",
          "1998-11-30T00:00:00",
          "1998-12-31T00:00:00",
          "1999-01-31T00:00:00",
          "1999-02-28T00:00:00",
          "1999-03-31T00:00:00",
          "1999-04-30T00:00:00",
          "1999-05-31T00:00:00",
          "1999-06-30T00:00:00",
          "1999-07-31T00:00:00",
          "1999-08-31T00:00:00",
          "1999-09-30T00:00:00",
          "1999-10-31T00:00:00",
          "1999-11-30T00:00:00",
          "1999-12-31T00:00:00",
          "2000-01-31T00:00:00",
          "2000-02-29T00:00:00",
          "2000-03-31T00:00:00",
          "2000-04-30T00:00:00",
          "2000-05-31T00:00:00",
          "2000-06-30T00:00:00",
          "2000-07-31T00:00:00",
          "2000-08-31T00:00:00",
          "2000-09-30T00:00:00",
          "2000-10-31T00:00:00",
          "2000-11-30T00:00:00",
          "2000-12-31T00:00:00",
          "2001-01-31T00:00:00",
          "2001-02-28T00:00:00",
          "2001-03-31T00:00:00",
          "2001-04-30T00:00:00",
          "2001-05-31T00:00:00",
          "2001-06-30T00:00:00",
          "2001-07-31T00:00:00",
          "2001-08-31T00:00:00",
          "2001-09-30T00:00:00",
          "2001-10-31T00:00:00",
          "2001-11-30T00:00:00",
          "2001-12-31T00:00:00",
          "2002-01-31T00:00:00",
          "2002-02-28T00:00:00",
          "2002-03-31T00:00:00",
          "2002-04-30T00:00:00",
          "2002-05-31T00:00:00",
          "2002-06-30T00:00:00",
          "2002-07-31T00:00:00",
          "2002-08-31T00:00:00",
          "2002-09-30T00:00:00",
          "2002-10-31T00:00:00",
          "2002-11-30T00:00:00",
          "2002-12-31T00:00:00",
          "2003-01-31T00:00:00",
          "2003-02-28T00:00:00",
          "2003-03-31T00:00:00",
          "2003-04-30T00:00:00",
          "2003-05-31T00:00:00",
          "2003-06-30T00:00:00",
          "2003-07-31T00:00:00",
          "2003-08-31T00:00:00",
          "2003-09-30T00:00:00",
          "2003-10-31T00:00:00",
          "2003-11-30T00:00:00",
          "2003-12-31T00:00:00",
          "2004-01-31T00:00:00",
          "2004-02-29T00:00:00",
          "2004-03-31T00:00:00",
          "2004-04-30T00:00:00",
          "2004-05-31T00:00:00",
          "2004-06-30T00:00:00",
          "2004-07-31T00:00:00",
          "2004-08-31T00:00:00",
          "2004-09-30T00:00:00",
          "2004-10-31T00:00:00",
          "2004-11-30T00:00:00",
          "2004-12-31T00:00:00",
          "2005-01-31T00:00:00",
          "2005-02-28T00:00:00",
          "2005-03-31T00:00:00",
          "2005-04-30T00:00:00",
          "2005-05-31T00:00:00",
          "2005-06-30T00:00:00",
          "2005-07-31T00:00:00",
          "2005-08-31T00:00:00",
          "2005-09-30T00:00:00",
          "2005-10-31T00:00:00",
          "2005-11-30T00:00:00",
          "2005-12-31T00:00:00",
          "2006-01-31T00:00:00",
          "2006-02-28T00:00:00",
          "2006-03-31T00:00:00",
          "2006-04-30T00:00:00",
          "2006-05-31T00:00:00",
          "2006-06-30T00:00:00",
          "2006-07-31T00:00:00",
          "2006-08-31T00:00:00",
          "2006-09-30T00:00:00",
          "2006-10-31T00:00:00",
          "2006-11-30T00:00:00",
          "2006-12-31T00:00:00",
          "2007-01-31T00:00:00",
          "2007-02-28T00:00:00",
          "2007-03-31T00:00:00",
          "2007-04-30T00:00:00",
          "2007-05-31T00:00:00",
          "2007-06-30T00:00:00",
          "2007-07-31T00:00:00",
          "2007-08-31T00:00:00",
          "2007-09-30T00:00:00",
          "2007-10-31T00:00:00",
          "2007-11-30T00:00:00",
          "2007-12-31T00:00:00",
          "2008-01-31T00:00:00",
          "2008-02-29T00:00:00",
          "2008-03-31T00:00:00",
          "2008-04-30T00:00:00",
          "2008-05-31T00:00:00",
          "2008-06-30T00:00:00",
          "2008-07-31T00:00:00",
          "2008-08-31T00:00:00",
          "2008-09-30T00:00:00",
          "2008-10-31T00:00:00",
          "2008-11-30T00:00:00",
          "2008-12-31T00:00:00",
          "2009-01-31T00:00:00",
          "2009-02-28T00:00:00",
          "2009-03-31T00:00:00",
          "2009-04-30T00:00:00",
          "2009-05-31T00:00:00",
          "2009-06-30T00:00:00",
          "2009-07-31T00:00:00",
          "2009-08-31T00:00:00",
          "2009-09-30T00:00:00",
          "2009-10-31T00:00:00",
          "2009-11-30T00:00:00",
          "2009-12-31T00:00:00",
          "2010-01-31T00:00:00",
          "2010-02-28T00:00:00",
          "2010-03-31T00:00:00",
          "2010-04-30T00:00:00",
          "2010-05-31T00:00:00",
          "2010-06-30T00:00:00",
          "2010-07-31T00:00:00",
          "2010-08-31T00:00:00",
          "2010-09-30T00:00:00",
          "2010-10-31T00:00:00",
          "2010-11-30T00:00:00",
          "2010-12-31T00:00:00",
          "2011-01-31T00:00:00",
          "2011-02-28T00:00:00",
          "2011-03-31T00:00:00",
          "2011-04-30T00:00:00",
          "2011-05-31T00:00:00",
          "2011-06-30T00:00:00",
          "2011-07-31T00:00:00",
          "2011-08-31T00:00:00",
          "2011-09-30T00:00:00",
          "2011-10-31T00:00:00",
          "2011-11-30T00:00:00",
          "2011-12-31T00:00:00",
          "2012-01-31T00:00:00",
          "2012-02-29T00:00:00",
          "2012-03-31T00:00:00",
          "2012-04-30T00:00:00",
          "2012-05-31T00:00:00",
          "2012-06-30T00:00:00",
          "2012-07-31T00:00:00",
          "2012-08-31T00:00:00",
          "2012-09-30T00:00:00",
          "2012-10-31T00:00:00",
          "2012-11-30T00:00:00",
          "2012-12-31T00:00:00",
          "2013-01-31T00:00:00",
          "2013-02-28T00:00:00",
          "2013-03-31T00:00:00",
          "2013-04-30T00:00:00",
          "2013-05-31T00:00:00",
          "2013-06-30T00:00:00",
          "2013-07-31T00:00:00",
          "2013-08-31T00:00:00",
          "2013-09-30T00:00:00",
          "2013-10-31T00:00:00",
          "2013-11-30T00:00:00",
          "2013-12-31T00:00:00",
          "2014-01-31T00:00:00",
          "2014-02-28T00:00:00",
          "2014-03-31T00:00:00",
          "2014-04-30T00:00:00",
          "2014-05-31T00:00:00",
          "2014-06-30T00:00:00",
          "2014-07-31T00:00:00",
          "2014-08-31T00:00:00",
          "2014-09-30T00:00:00",
          "2014-10-31T00:00:00",
          "2014-11-30T00:00:00",
          "2014-12-31T00:00:00",
          "2015-01-31T00:00:00",
          "2015-02-28T00:00:00",
          "2015-03-31T00:00:00",
          "2015-04-30T00:00:00",
          "2015-05-31T00:00:00",
          "2015-06-30T00:00:00",
          "2015-07-31T00:00:00",
          "2015-08-31T00:00:00",
          "2015-09-30T00:00:00",
          "2015-10-31T00:00:00",
          "2015-11-30T00:00:00",
          "2015-12-31T00:00:00",
          "2016-01-31T00:00:00",
          "2016-02-29T00:00:00",
          "2016-03-31T00:00:00",
          "2016-04-30T00:00:00",
          "2016-05-31T00:00:00",
          "2016-06-30T00:00:00",
          "2016-07-31T00:00:00",
          "2016-08-31T00:00:00",
          "2016-09-30T00:00:00",
          "2016-10-31T00:00:00",
          "2016-11-30T00:00:00",
          "2016-12-31T00:00:00",
          "2017-01-31T00:00:00",
          "2017-02-28T00:00:00",
          "2017-03-31T00:00:00",
          "2017-04-30T00:00:00",
          "2017-05-31T00:00:00",
          "2017-06-30T00:00:00",
          "2017-07-31T00:00:00",
          "2017-08-31T00:00:00",
          "2017-09-30T00:00:00",
          "2017-10-31T00:00:00",
          "2017-11-30T00:00:00",
          "2017-12-31T00:00:00",
          "2018-01-31T00:00:00",
          "2018-02-28T00:00:00",
          "2018-03-31T00:00:00",
          "2018-04-30T00:00:00",
          "2018-05-31T00:00:00",
          "2018-06-30T00:00:00",
          "2018-07-31T00:00:00",
          "2018-08-31T00:00:00",
          "2018-09-30T00:00:00",
          "2018-10-31T00:00:00",
          "2018-11-30T00:00:00",
          "2018-12-31T00:00:00",
          "2019-01-31T00:00:00",
          "2019-02-28T00:00:00",
          "2019-03-31T00:00:00",
          "2019-04-30T00:00:00",
          "2019-05-31T00:00:00",
          "2019-06-30T00:00:00",
          "2019-07-31T00:00:00",
          "2019-08-31T00:00:00",
          "2019-09-30T00:00:00",
          "2019-10-31T00:00:00",
          "2019-11-30T00:00:00",
          "2019-12-31T00:00:00",
          "2020-01-31T00:00:00",
          "2020-02-29T00:00:00",
          "2020-03-31T00:00:00",
          "2020-04-30T00:00:00",
          "2020-05-31T00:00:00",
          "2020-06-30T00:00:00",
          "2020-07-31T00:00:00",
          "2020-08-31T00:00:00",
          "2020-09-30T00:00:00",
          "2020-10-31T00:00:00",
          "2020-11-30T00:00:00",
          "2020-12-31T00:00:00",
          "2021-01-31T00:00:00",
          "2021-02-28T00:00:00",
          "2021-03-31T00:00:00",
          "2021-04-30T00:00:00",
          "2021-05-31T00:00:00",
          "2021-06-30T00:00:00",
          "2021-07-31T00:00:00",
          "2021-08-31T00:00:00",
          "2021-09-30T00:00:00",
          "2021-10-31T00:00:00",
          "2021-11-30T00:00:00",
          "2021-12-31T00:00:00",
          "2022-01-31T00:00:00",
          "2022-02-28T00:00:00",
          "2022-03-31T00:00:00",
          "2022-04-30T00:00:00",
          "2022-05-31T00:00:00",
          "2022-06-30T00:00:00",
          "2022-07-31T00:00:00",
          "2022-08-31T00:00:00"
         ],
         "xaxis": "x",
         "y": [
          -0.006841759689623805,
          0.051765992684207764,
          -0.14510859752904515,
          -0.016336360522210432,
          -0.13201274332576696,
          -0.0679801172271551,
          0.0731804439503293,
          0.008824126051570912,
          0.028925483176482435,
          -0.009735717676830728,
          0.0104603185602783,
          0.009962005549249205,
          -0.012782069800795843,
          0.019512017993957922,
          -0.044385787284562224,
          0.02231487392807617,
          0.01201153644786144,
          0.015769808820636794,
          0.02274870303760879,
          0.015710224456987998,
          0.007423042721193033,
          0.007610083409928643,
          -0.018266327973003177,
          -0.023422271244312738,
          0.000841044399905433,
          -0.04902431612020413,
          -0.07362633141710173,
          0.011142332392467449,
          0.04624578625872401,
          0.009820958834786652,
          0.03167100250904223,
          0.006295467537660079,
          -0.015431928865602018,
          0.06072389805511413,
          0.03431254173397402,
          -0.012304214037227833,
          0.011157513643604506,
          -0.05408657820626994,
          -0.0470768575612211,
          0.03129316716554134,
          0.02890071132523042,
          -0.007573643122065274,
          -0.02121862723547549,
          0.035119813824528216,
          0.037934133446401015,
          0.030623845897178516,
          0.014297985494057353,
          -0.06033711323551023,
          -0.05494337979083441,
          -0.06511575925170829,
          -0.025108197928938522,
          0.004048242687554309,
          -0.007397872450224092,
          -0.01120105419803176,
          -0.04623877788373136,
          0.04380654895143962,
          -0.02506280785712313,
          -0.019585031488289675,
          0.0011167850825437725,
          0.026394634291198114,
          0.016714754482522777,
          -0.004687264812628069,
          -0.012383040284123889,
          0.025531386547568754,
          0.004464655522049721,
          -0.05344047477768069,
          -0.027825671509268193,
          -0.0960689492124494,
          -0.0018684868429275792,
          0.031235432056142824,
          -0.023364527418335362,
          0.014247514703564154,
          -0.05300645791139895,
          0.05086648345379864,
          -0.005436314959481756,
          0.03231751421835296,
          -0.018896616069166396,
          0.011663929983676203,
          0.06001491193288819,
          0.019607359095117564,
          -0.046241932132317795,
          -0.01931330976511296,
          -0.008027831108082056,
          -0.013858579887467418,
          0.03710120024410724,
          0.008141412749608334,
          -0.02777409440720302,
          0.02777588388903708,
          -0.031853014874848755,
          -0.036464381328534426,
          0.01955986892954372,
          -0.06782368276664687,
          0.06660596784785985,
          0.04920025781168638,
          -0.03150544100922198,
          -0.016915884518733937,
          -0.014020625806104768,
          -0.15005778022331265,
          -0.0748251518270851,
          -0.029588565689178954,
          0.0022252937474059216,
          -0.052026232373560445,
          -0.044621277762164756,
          0.052367998813461714,
          -0.008812276604787204,
          0.03586228165271095,
          0.005738916534628477,
          0.0031994258505634934,
          -0.01400529003400839,
          -0.12751905781988937,
          -0.0276821528136867,
          0.04331401553895525,
          0.03208539551022216,
          0.062439243685634645,
          -0.010555023435304428,
          0.020687592348160817,
          -0.02120624616453822,
          -0.032183346003132926,
          0.09759261421581958,
          -0.003781767992881907,
          0.10595536323885316,
          0.028739378703527576,
          0.10641165966115533,
          0.115745052748692,
          -0.1834771945893678,
          0.1980726175267986,
          0.1329551242419599,
          -0.14991381463104944,
          0.03176745150792361,
          -0.007299382367608007,
          0.020642695036875852,
          0.05572252957489014,
          0.09528040439633488,
          -0.13468716662509028,
          -0.097389172983539,
          -0.018280251006901158,
          0.05577057759037267,
          0.13159723957971095,
          -0.027134048275198067,
          0.14862165050665938,
          0.0034882287152667446,
          0.047302251513154536,
          -0.05095305007699047,
          0.022243159157812036,
          0.06797302170311721,
          -0.14884280157494933,
          -0.17708531372031333,
          0.11049853959578357,
          0.01641968689560061,
          -0.0015240564927637527,
          0.001231821841372045,
          0.015786556984652617,
          0.0980173329401568,
          0.02542462352933457,
          -0.026492537863746436,
          0.04194717419617629,
          -0.032401295649566716,
          0.04816418480880184,
          0.017930111220340633,
          0.013531423762696955,
          0.0029613418123207967,
          0.024617070917784208,
          0.041653766253993925,
          -0.0009484978895631414,
          0.008783577005979041,
          0.05588827530695753,
          0.050335406849143075,
          0.013239990989245297,
          0.015038495455757847,
          -0.019640533448107685,
          0.04101046410491432,
          -0.016389601958152082,
          0.02098504175029791,
          0.036075397836614745,
          0.049201686403505925,
          -0.03719993640905256,
          0.006818334095084928,
          0.04316803846902975,
          -0.0037784361577237677,
          0.015761798965903587,
          0.04580329180817161,
          -0.0231553131793895,
          0.01970467858786249,
          0.008029784257798081,
          0.06332948995389305,
          -0.020767528224573055,
          0.028197022191854906,
          0.00655723990769677,
          -0.016603053424205625,
          0.007965961939639256,
          -0.015311825616342502,
          -0.04566944408546107,
          -0.015602177791596415,
          -0.009135519616052003,
          -0.03116742244832263,
          0.043522287620457026,
          -0.010021884139363103,
          -0.0060789833712493815,
          0.01102652261670115,
          -0.015132085846431616,
          0.035053253212706165,
          -0.01416169663127605,
          -0.011586940276540135,
          -0.01699744261985911,
          0.009397121677198427,
          -0.00857837460160709,
          -0.024481930015262485,
          0.05887816746592253,
          0.003998896980640168,
          0.05335621021640059,
          -0.007182685937050976,
          -0.02264465259342452,
          -0.04178554617488008,
          0.0261467312225019,
          0.043696159643158164,
          -0.04103779455113602,
          0.008288332320702571,
          -0.040593669536141574,
          -0.0008622381290199072,
          -0.06436620034826238,
          -0.14516463460508894,
          -0.07516939015383071,
          -0.07079792580540575,
          -0.2659684567249929,
          -0.04721110892684548,
          -0.028835687517741106,
          0.06314013220028847,
          0.03279907603755938,
          0.06842654504286955,
          -0.0635562221259207,
          -0.0014529955772280348,
          0.014775638626125236,
          0.025735227391494725,
          0.03063619307601565,
          0.04963873931702477,
          0.04186500729890161,
          -0.014848594665450882,
          -0.06730471233882757,
          0.015537231990227551,
          -0.021915780030044144,
          -0.04334914581087672,
          -0.005719258959346038,
          -0.01625271990320813,
          -0.03299022089344077,
          -0.010683446948054457,
          0.0038227252099583275,
          0.024300913382672866,
          -0.01919678166814614,
          -0.026827589798446697,
          -0.012285217158281632,
          -0.010770205870527738,
          -0.004893013289382589,
          -0.0034396922894335685,
          -0.08103964554244984,
          0.0176709451503649,
          0.0351355984261081,
          -0.15827630141925234,
          -0.020876079815333293,
          -0.014367256470865727,
          -0.04235923876423779,
          -0.057261343733933726,
          0.006216362602203998,
          -0.00686806895592466,
          0.019032021686373052,
          0.012498211992824193,
          -0.01977403984582704,
          -0.012513694776105557,
          -0.009091307765761992,
          0.004577702758100856,
          0.016347206829953803,
          -0.007697968360945079,
          -0.018823122142397754,
          0.04258958745542625,
          0.0007682430506998298,
          0.010426943018786015,
          -0.019835362034047885,
          -0.010233491514341123,
          0.013800773201487121,
          0.024831620948920045,
          0.00034142060503193974,
          -0.027808911070567773,
          0.002665253078017689,
          0.017671913417172405,
          -0.0109840112326061,
          -0.00266759956751925,
          0.016353289785303746,
          -0.017959962359006508,
          0.006650125329219506,
          -0.029927485546592834,
          -0.039713639148599544,
          -0.03240490017866118,
          0.02390454426740428,
          0.01143933528151168,
          -0.038423498541388566,
          0.0139276675182279,
          -0.05584656840186562,
          0.048861587433042364,
          0.0010306974406997862,
          -0.022195465490207816,
          0.015455700441505252,
          -0.0045197780649915385,
          -0.055786581262292564,
          0.002076762994503779,
          0.017168184222098253,
          0.03821701160830831,
          -0.025654605878304954,
          -0.023685987253150423,
          -0.013120030645307985,
          -0.013509031518732319,
          0.05612085585496697,
          -0.0433741213886251,
          -0.005911880846053731,
          0.013757790502416881,
          -0.004461306389484082,
          0.15175733792714816,
          0.014899110990447323,
          -0.03322673006386407,
          -0.018178444249933375,
          -0.020998767919414754,
          -0.023382155511502405,
          -0.021116988878072705,
          0.04673776461522955,
          0.01560703025209143,
          0.022306022002743807,
          -0.00971852503381402,
          0.10615677662873436,
          -0.007811565674966804,
          -0.007623538644980646,
          -0.01625017980824374,
          -0.0442260967747214,
          0.0060260427028678626,
          0.03319945031336895,
          0.00504214979873219,
          0.00040516648193241606,
          -0.03964921488775289,
          0.00369522079935355,
          -0.002814973221897301,
          0.002771575189006059,
          -0.09320212296761093,
          -0.03911130300172706,
          -0.050707345983189614,
          -0.04396617562916845,
          -0.028850502878345997,
          -0.014003874498698096,
          0.054271567774834696,
          -0.040653303500884294,
          -0.013473962594318451,
          -0.02841471465675663,
          0.014827287317630517,
          -0.07045968169781905,
          -0.020542134358048723,
          -0.013931708556402462,
          -0.05265296779996341,
          -0.04010829324566767,
          -0.13735034164318546,
          0.06681205988192704,
          0.07095756608900759,
          -0.05191064288205345,
          0.05905660107955044,
          -0.06333678687671726,
          0.03759719862087905,
          0.039799190853163344,
          0.05797782416773217,
          -0.018303263700582335,
          0.10043896768466745,
          0.14435797710650525,
          -0.009908938194370942,
          -0.002351642862120973,
          0.055159643155162114,
          -0.0621581708321419,
          -0.08014940855844688,
          0.004766583956702642,
          0.049135384860884423,
          0.0115153647145948,
          -0.013378891370357398,
          -0.030712685606169722,
          0.036710548541442255,
          0.043659502015400475,
          0.01679347275769637,
          0.06503288576548577,
          0.05545284174049344,
          -0.010720180063049214,
          -0.0991149508975202,
          0.06100143228293495,
          null,
          null
         ],
         "yaxis": "y"
        }
       ],
       "layout": {
        "barmode": "relative",
        "legend": {
         "tracegroupgap": 0
        },
        "margin": {
         "t": 60
        },
        "template": {
         "data": {
          "bar": [
           {
            "error_x": {
             "color": "#2a3f5f"
            },
            "error_y": {
             "color": "#2a3f5f"
            },
            "marker": {
             "line": {
              "color": "#E5ECF6",
              "width": 0.5
             },
             "pattern": {
              "fillmode": "overlay",
              "size": 10,
              "solidity": 0.2
             }
            },
            "type": "bar"
           }
          ],
          "barpolar": [
           {
            "marker": {
             "line": {
              "color": "#E5ECF6",
              "width": 0.5
             },
             "pattern": {
              "fillmode": "overlay",
              "size": 10,
              "solidity": 0.2
             }
            },
            "type": "barpolar"
           }
          ],
          "carpet": [
           {
            "aaxis": {
             "endlinecolor": "#2a3f5f",
             "gridcolor": "white",
             "linecolor": "white",
             "minorgridcolor": "white",
             "startlinecolor": "#2a3f5f"
            },
            "baxis": {
             "endlinecolor": "#2a3f5f",
             "gridcolor": "white",
             "linecolor": "white",
             "minorgridcolor": "white",
             "startlinecolor": "#2a3f5f"
            },
            "type": "carpet"
           }
          ],
          "choropleth": [
           {
            "colorbar": {
             "outlinewidth": 0,
             "ticks": ""
            },
            "type": "choropleth"
           }
          ],
          "contour": [
           {
            "colorbar": {
             "outlinewidth": 0,
             "ticks": ""
            },
            "colorscale": [
             [
              0,
              "#0d0887"
             ],
             [
              0.1111111111111111,
              "#46039f"
             ],
             [
              0.2222222222222222,
              "#7201a8"
             ],
             [
              0.3333333333333333,
              "#9c179e"
             ],
             [
              0.4444444444444444,
              "#bd3786"
             ],
             [
              0.5555555555555556,
              "#d8576b"
             ],
             [
              0.6666666666666666,
              "#ed7953"
             ],
             [
              0.7777777777777778,
              "#fb9f3a"
             ],
             [
              0.8888888888888888,
              "#fdca26"
             ],
             [
              1,
              "#f0f921"
             ]
            ],
            "type": "contour"
           }
          ],
          "contourcarpet": [
           {
            "colorbar": {
             "outlinewidth": 0,
             "ticks": ""
            },
            "type": "contourcarpet"
           }
          ],
          "heatmap": [
           {
            "colorbar": {
             "outlinewidth": 0,
             "ticks": ""
            },
            "colorscale": [
             [
              0,
              "#0d0887"
             ],
             [
              0.1111111111111111,
              "#46039f"
             ],
             [
              0.2222222222222222,
              "#7201a8"
             ],
             [
              0.3333333333333333,
              "#9c179e"
             ],
             [
              0.4444444444444444,
              "#bd3786"
             ],
             [
              0.5555555555555556,
              "#d8576b"
             ],
             [
              0.6666666666666666,
              "#ed7953"
             ],
             [
              0.7777777777777778,
              "#fb9f3a"
             ],
             [
              0.8888888888888888,
              "#fdca26"
             ],
             [
              1,
              "#f0f921"
             ]
            ],
            "type": "heatmap"
           }
          ],
          "heatmapgl": [
           {
            "colorbar": {
             "outlinewidth": 0,
             "ticks": ""
            },
            "colorscale": [
             [
              0,
              "#0d0887"
             ],
             [
              0.1111111111111111,
              "#46039f"
             ],
             [
              0.2222222222222222,
              "#7201a8"
             ],
             [
              0.3333333333333333,
              "#9c179e"
             ],
             [
              0.4444444444444444,
              "#bd3786"
             ],
             [
              0.5555555555555556,
              "#d8576b"
             ],
             [
              0.6666666666666666,
              "#ed7953"
             ],
             [
              0.7777777777777778,
              "#fb9f3a"
             ],
             [
              0.8888888888888888,
              "#fdca26"
             ],
             [
              1,
              "#f0f921"
             ]
            ],
            "type": "heatmapgl"
           }
          ],
          "histogram": [
           {
            "marker": {
             "pattern": {
              "fillmode": "overlay",
              "size": 10,
              "solidity": 0.2
             }
            },
            "type": "histogram"
           }
          ],
          "histogram2d": [
           {
            "colorbar": {
             "outlinewidth": 0,
             "ticks": ""
            },
            "colorscale": [
             [
              0,
              "#0d0887"
             ],
             [
              0.1111111111111111,
              "#46039f"
             ],
             [
              0.2222222222222222,
              "#7201a8"
             ],
             [
              0.3333333333333333,
              "#9c179e"
             ],
             [
              0.4444444444444444,
              "#bd3786"
             ],
             [
              0.5555555555555556,
              "#d8576b"
             ],
             [
              0.6666666666666666,
              "#ed7953"
             ],
             [
              0.7777777777777778,
              "#fb9f3a"
             ],
             [
              0.8888888888888888,
              "#fdca26"
             ],
             [
              1,
              "#f0f921"
             ]
            ],
            "type": "histogram2d"
           }
          ],
          "histogram2dcontour": [
           {
            "colorbar": {
             "outlinewidth": 0,
             "ticks": ""
            },
            "colorscale": [
             [
              0,
              "#0d0887"
             ],
             [
              0.1111111111111111,
              "#46039f"
             ],
             [
              0.2222222222222222,
              "#7201a8"
             ],
             [
              0.3333333333333333,
              "#9c179e"
             ],
             [
              0.4444444444444444,
              "#bd3786"
             ],
             [
              0.5555555555555556,
              "#d8576b"
             ],
             [
              0.6666666666666666,
              "#ed7953"
             ],
             [
              0.7777777777777778,
              "#fb9f3a"
             ],
             [
              0.8888888888888888,
              "#fdca26"
             ],
             [
              1,
              "#f0f921"
             ]
            ],
            "type": "histogram2dcontour"
           }
          ],
          "mesh3d": [
           {
            "colorbar": {
             "outlinewidth": 0,
             "ticks": ""
            },
            "type": "mesh3d"
           }
          ],
          "parcoords": [
           {
            "line": {
             "colorbar": {
              "outlinewidth": 0,
              "ticks": ""
             }
            },
            "type": "parcoords"
           }
          ],
          "pie": [
           {
            "automargin": true,
            "type": "pie"
           }
          ],
          "scatter": [
           {
            "fillpattern": {
             "fillmode": "overlay",
             "size": 10,
             "solidity": 0.2
            },
            "type": "scatter"
           }
          ],
          "scatter3d": [
           {
            "line": {
             "colorbar": {
              "outlinewidth": 0,
              "ticks": ""
             }
            },
            "marker": {
             "colorbar": {
              "outlinewidth": 0,
              "ticks": ""
             }
            },
            "type": "scatter3d"
           }
          ],
          "scattercarpet": [
           {
            "marker": {
             "colorbar": {
              "outlinewidth": 0,
              "ticks": ""
             }
            },
            "type": "scattercarpet"
           }
          ],
          "scattergeo": [
           {
            "marker": {
             "colorbar": {
              "outlinewidth": 0,
              "ticks": ""
             }
            },
            "type": "scattergeo"
           }
          ],
          "scattergl": [
           {
            "marker": {
             "colorbar": {
              "outlinewidth": 0,
              "ticks": ""
             }
            },
            "type": "scattergl"
           }
          ],
          "scattermapbox": [
           {
            "marker": {
             "colorbar": {
              "outlinewidth": 0,
              "ticks": ""
             }
            },
            "type": "scattermapbox"
           }
          ],
          "scatterpolar": [
           {
            "marker": {
             "colorbar": {
              "outlinewidth": 0,
              "ticks": ""
             }
            },
            "type": "scatterpolar"
           }
          ],
          "scatterpolargl": [
           {
            "marker": {
             "colorbar": {
              "outlinewidth": 0,
              "ticks": ""
             }
            },
            "type": "scatterpolargl"
           }
          ],
          "scatterternary": [
           {
            "marker": {
             "colorbar": {
              "outlinewidth": 0,
              "ticks": ""
             }
            },
            "type": "scatterternary"
           }
          ],
          "surface": [
           {
            "colorbar": {
             "outlinewidth": 0,
             "ticks": ""
            },
            "colorscale": [
             [
              0,
              "#0d0887"
             ],
             [
              0.1111111111111111,
              "#46039f"
             ],
             [
              0.2222222222222222,
              "#7201a8"
             ],
             [
              0.3333333333333333,
              "#9c179e"
             ],
             [
              0.4444444444444444,
              "#bd3786"
             ],
             [
              0.5555555555555556,
              "#d8576b"
             ],
             [
              0.6666666666666666,
              "#ed7953"
             ],
             [
              0.7777777777777778,
              "#fb9f3a"
             ],
             [
              0.8888888888888888,
              "#fdca26"
             ],
             [
              1,
              "#f0f921"
             ]
            ],
            "type": "surface"
           }
          ],
          "table": [
           {
            "cells": {
             "fill": {
              "color": "#EBF0F8"
             },
             "line": {
              "color": "white"
             }
            },
            "header": {
             "fill": {
              "color": "#C8D4E3"
             },
             "line": {
              "color": "white"
             }
            },
            "type": "table"
           }
          ]
         },
         "layout": {
          "annotationdefaults": {
           "arrowcolor": "#2a3f5f",
           "arrowhead": 0,
           "arrowwidth": 1
          },
          "autotypenumbers": "strict",
          "coloraxis": {
           "colorbar": {
            "outlinewidth": 0,
            "ticks": ""
           }
          },
          "colorscale": {
           "diverging": [
            [
             0,
             "#8e0152"
            ],
            [
             0.1,
             "#c51b7d"
            ],
            [
             0.2,
             "#de77ae"
            ],
            [
             0.3,
             "#f1b6da"
            ],
            [
             0.4,
             "#fde0ef"
            ],
            [
             0.5,
             "#f7f7f7"
            ],
            [
             0.6,
             "#e6f5d0"
            ],
            [
             0.7,
             "#b8e186"
            ],
            [
             0.8,
             "#7fbc41"
            ],
            [
             0.9,
             "#4d9221"
            ],
            [
             1,
             "#276419"
            ]
           ],
           "sequential": [
            [
             0,
             "#0d0887"
            ],
            [
             0.1111111111111111,
             "#46039f"
            ],
            [
             0.2222222222222222,
             "#7201a8"
            ],
            [
             0.3333333333333333,
             "#9c179e"
            ],
            [
             0.4444444444444444,
             "#bd3786"
            ],
            [
             0.5555555555555556,
             "#d8576b"
            ],
            [
             0.6666666666666666,
             "#ed7953"
            ],
            [
             0.7777777777777778,
             "#fb9f3a"
            ],
            [
             0.8888888888888888,
             "#fdca26"
            ],
            [
             1,
             "#f0f921"
            ]
           ],
           "sequentialminus": [
            [
             0,
             "#0d0887"
            ],
            [
             0.1111111111111111,
             "#46039f"
            ],
            [
             0.2222222222222222,
             "#7201a8"
            ],
            [
             0.3333333333333333,
             "#9c179e"
            ],
            [
             0.4444444444444444,
             "#bd3786"
            ],
            [
             0.5555555555555556,
             "#d8576b"
            ],
            [
             0.6666666666666666,
             "#ed7953"
            ],
            [
             0.7777777777777778,
             "#fb9f3a"
            ],
            [
             0.8888888888888888,
             "#fdca26"
            ],
            [
             1,
             "#f0f921"
            ]
           ]
          },
          "colorway": [
           "#636efa",
           "#EF553B",
           "#00cc96",
           "#ab63fa",
           "#FFA15A",
           "#19d3f3",
           "#FF6692",
           "#B6E880",
           "#FF97FF",
           "#FECB52"
          ],
          "font": {
           "color": "#2a3f5f"
          },
          "geo": {
           "bgcolor": "white",
           "lakecolor": "white",
           "landcolor": "#E5ECF6",
           "showlakes": true,
           "showland": true,
           "subunitcolor": "white"
          },
          "hoverlabel": {
           "align": "left"
          },
          "hovermode": "closest",
          "mapbox": {
           "style": "light"
          },
          "paper_bgcolor": "white",
          "plot_bgcolor": "#E5ECF6",
          "polar": {
           "angularaxis": {
            "gridcolor": "white",
            "linecolor": "white",
            "ticks": ""
           },
           "bgcolor": "#E5ECF6",
           "radialaxis": {
            "gridcolor": "white",
            "linecolor": "white",
            "ticks": ""
           }
          },
          "scene": {
           "xaxis": {
            "backgroundcolor": "#E5ECF6",
            "gridcolor": "white",
            "gridwidth": 2,
            "linecolor": "white",
            "showbackground": true,
            "ticks": "",
            "zerolinecolor": "white"
           },
           "yaxis": {
            "backgroundcolor": "#E5ECF6",
            "gridcolor": "white",
            "gridwidth": 2,
            "linecolor": "white",
            "showbackground": true,
            "ticks": "",
            "zerolinecolor": "white"
           },
           "zaxis": {
            "backgroundcolor": "#E5ECF6",
            "gridcolor": "white",
            "gridwidth": 2,
            "linecolor": "white",
            "showbackground": true,
            "ticks": "",
            "zerolinecolor": "white"
           }
          },
          "shapedefaults": {
           "line": {
            "color": "#2a3f5f"
           }
          },
          "ternary": {
           "aaxis": {
            "gridcolor": "white",
            "linecolor": "white",
            "ticks": ""
           },
           "baxis": {
            "gridcolor": "white",
            "linecolor": "white",
            "ticks": ""
           },
           "bgcolor": "#E5ECF6",
           "caxis": {
            "gridcolor": "white",
            "linecolor": "white",
            "ticks": ""
           }
          },
          "title": {
           "x": 0.05
          },
          "xaxis": {
           "automargin": true,
           "gridcolor": "white",
           "linecolor": "white",
           "ticks": "",
           "title": {
            "standoff": 15
           },
           "zerolinecolor": "white",
           "zerolinewidth": 2
          },
          "yaxis": {
           "automargin": true,
           "gridcolor": "white",
           "linecolor": "white",
           "ticks": "",
           "title": {
            "standoff": 15
           },
           "zerolinecolor": "white",
           "zerolinewidth": 2
          }
         }
        },
        "xaxis": {
         "anchor": "y",
         "domain": [
          0,
          1
         ],
         "title": {
          "text": "date"
         }
        },
        "yaxis": {
         "anchor": "x",
         "domain": [
          0,
          1
         ],
         "title": {
          "text": "Strat_rets"
         }
        }
       }
      }
     },
     "metadata": {},
     "output_type": "display_data"
    }
   ],
   "source": [
    "monthly_rets = port_comb_df[[\"date\", \"Strat_rets\"]].resample('M', on='date').mean() # Calculate average daily return for each month\n",
    "monthly_rets['Colour']='red' # Add column with 'red' value\n",
    "monthly_rets.loc[monthly_rets['Strat_rets']>=0, 'Colour']='green' # Replace 'red' with 'green' where return is non-negative\n",
    "px.bar(monthly_rets,x=monthly_rets.index,y=\"Strat_rets\").update_traces(marker_color=monthly_rets[\"Colour\"]).show()"
   ]
  },
  {
   "cell_type": "code",
   "execution_count": 75,
   "id": "3494b6b0",
   "metadata": {},
   "outputs": [
    {
     "name": "stdout",
     "output_type": "stream",
     "text": [
      "-0.0017028237948208617 0.05126517933046392\n"
     ]
    }
   ],
   "source": [
    "# mean and volatility\n",
    "mean_ret = port_comb_df['Strat_rets'].mean()\n",
    "volatility = port_comb_df['Strat_rets'].std()\n",
    "print(mean_ret, volatility)"
   ]
  },
  {
   "cell_type": "code",
   "execution_count": 76,
   "id": "edec17e6",
   "metadata": {},
   "outputs": [
    {
     "name": "stdout",
     "output_type": "stream",
     "text": [
      "Annualised expected return is: -2.04%\n",
      "Annualised volatility is: 17.76%\n"
     ]
    }
   ],
   "source": [
    "print('Annualised expected return is: '+str(round(100*mean_ret*12,2)) +'%')\n",
    "print('Annualised volatility is: '+str(round(100*volatility*np.sqrt(12),2)) +'%')"
   ]
  },
  {
   "cell_type": "code",
   "execution_count": 77,
   "id": "ad52bfd0",
   "metadata": {},
   "outputs": [
    {
     "data": {
      "text/plain": [
       "count    384.000000\n",
       "mean      -0.170282\n",
       "std        5.126518\n",
       "min      -26.596846\n",
       "25%       -2.339218\n",
       "50%       -0.148853\n",
       "75%        2.497987\n",
       "max       19.807262\n",
       "Name: Strat_rets, dtype: float64"
      ]
     },
     "execution_count": 77,
     "metadata": {},
     "output_type": "execute_result"
    }
   ],
   "source": [
    "# describing statistics of returns\n",
    "(port_comb_df['Strat_rets']*100).describe()"
   ]
  },
  {
   "cell_type": "code",
   "execution_count": 78,
   "id": "77a2faaf",
   "metadata": {},
   "outputs": [
    {
     "name": "stdout",
     "output_type": "stream",
     "text": [
      "-0.5185975524269563\n"
     ]
    }
   ],
   "source": [
    "# skewness\n",
    "print(skew(port_comb_df['Strat_rets'].dropna()))"
   ]
  },
  {
   "cell_type": "code",
   "execution_count": 79,
   "id": "67335222",
   "metadata": {},
   "outputs": [
    {
     "name": "stdout",
     "output_type": "stream",
     "text": [
      "3.566801942456803\n"
     ]
    }
   ],
   "source": [
    "# kurtosis\n",
    "print(kurtosis(port_comb_df[\"Strat_rets\"].dropna()))"
   ]
  },
  {
   "cell_type": "code",
   "execution_count": 80,
   "id": "f311702e",
   "metadata": {},
   "outputs": [
    {
     "data": {
      "text/plain": [
       "-0.17762862359418297"
      ]
     },
     "execution_count": 80,
     "metadata": {},
     "output_type": "execute_result"
    }
   ],
   "source": [
    "# Value at Risk\n",
    "VaR = port_comb_df['Strat_rets'].quantile(0.005)\n",
    "VaR"
   ]
  },
  {
   "cell_type": "code",
   "execution_count": 81,
   "id": "65acdc63",
   "metadata": {},
   "outputs": [
    {
     "name": "stdout",
     "output_type": "stream",
     "text": [
      "There is a 10.0% chance that my losses will be -5.33% or worse over the next day.\n",
      "There is a 5.0% chance that my losses will be -7.51% or worse over the next day.\n",
      "There is a 1.0% chance that my losses will be -15.15% or worse over the next day.\n",
      "There is a 0.1% chance that my losses will be -23.44% or worse over the next day.\n",
      "There is a 0.01% chance that my losses will be -26.28% or worse over the next day.\n"
     ]
    }
   ],
   "source": [
    "for q in [0.1, 0.05, 0.01, 0.001, 0.0001]:\n",
    "    VaR = port_comb_df['Strat_rets'].quantile(q)\n",
    "    print('There is a '+str(round(100*q,3))+'% chance that my losses will be '+str(round(VaR*100, 2))+'% or worse over the next day.')"
   ]
  },
  {
   "cell_type": "code",
   "execution_count": 82,
   "id": "a8f616c8",
   "metadata": {},
   "outputs": [
    {
     "data": {
      "text/html": [
       "<div>\n",
       "<style scoped>\n",
       "    .dataframe tbody tr th:only-of-type {\n",
       "        vertical-align: middle;\n",
       "    }\n",
       "\n",
       "    .dataframe tbody tr th {\n",
       "        vertical-align: top;\n",
       "    }\n",
       "\n",
       "    .dataframe thead th {\n",
       "        text-align: right;\n",
       "    }\n",
       "</style>\n",
       "<table border=\"1\" class=\"dataframe\">\n",
       "  <thead>\n",
       "    <tr style=\"text-align: right;\">\n",
       "      <th>port_comb</th>\n",
       "      <th>date</th>\n",
       "      <th>Strat_rets</th>\n",
       "      <th>Strat_cum_rets</th>\n",
       "    </tr>\n",
       "  </thead>\n",
       "  <tbody>\n",
       "    <tr>\n",
       "      <th>124</th>\n",
       "      <td>2000-11-30</td>\n",
       "      <td>-0.183477</td>\n",
       "      <td>0.518329</td>\n",
       "    </tr>\n",
       "    <tr>\n",
       "      <th>223</th>\n",
       "      <td>2009-02-27</td>\n",
       "      <td>-0.265968</td>\n",
       "      <td>0.557476</td>\n",
       "    </tr>\n",
       "  </tbody>\n",
       "</table>\n",
       "</div>"
      ],
      "text/plain": [
       "port_comb       date  Strat_rets  Strat_cum_rets\n",
       "124       2000-11-30   -0.183477        0.518329\n",
       "223       2009-02-27   -0.265968        0.557476"
      ]
     },
     "execution_count": 82,
     "metadata": {},
     "output_type": "execute_result"
    }
   ],
   "source": [
    "VaR = port_comb_df['Strat_rets'].quantile(0.005)\n",
    "rets_tail = port_comb_df.loc[port_comb_df['Strat_rets']<=VaR,[\"date\", \"Strat_rets\", \"Strat_cum_rets\"]]\n",
    "rets_tail"
   ]
  },
  {
   "cell_type": "code",
   "execution_count": 83,
   "id": "55115734",
   "metadata": {},
   "outputs": [
    {
     "data": {
      "text/plain": [
       "-0.22472282565718035"
      ]
     },
     "execution_count": 83,
     "metadata": {},
     "output_type": "execute_result"
    }
   ],
   "source": [
    "ES = rets_tail['Strat_rets'].mean()\n",
    "ES"
   ]
  },
  {
   "cell_type": "code",
   "execution_count": 84,
   "id": "e2b2936e",
   "metadata": {},
   "outputs": [
    {
     "name": "stdout",
     "output_type": "stream",
     "text": [
      "I expect to lose on average -9.95% over 1-day period given that I have exceeded my VaR for 10.0%.\n",
      "I expect to lose on average -13.39% over 1-day period given that I have exceeded my VaR for 5.0%.\n",
      "I expect to lose on average -19.62% over 1-day period given that I have exceeded my VaR for 1.0%.\n",
      "I expect to lose on average -26.6% over 1-day period given that I have exceeded my VaR for 0.1%.\n",
      "I expect to lose on average -26.6% over 1-day period given that I have exceeded my VaR for 0.01%.\n"
     ]
    }
   ],
   "source": [
    "for q in [0.1, 0.05, 0.01, 0.001, 0.0001]:\n",
    "    VaR = port_comb_df['Strat_rets'].quantile(q)\n",
    "    rets_tail = port_comb_df.loc[port_comb_df['Strat_rets']<=VaR,:]\n",
    "    ES = rets_tail['Strat_rets'].mean()\n",
    "    print('I expect to lose on average '+ str(round(ES*100, 2))+'% over 1-day period given that I have exceeded my VaR for '+str(round(100*q,3))+'%.')"
   ]
  },
  {
   "cell_type": "code",
   "execution_count": 85,
   "id": "971e1397",
   "metadata": {},
   "outputs": [
    {
     "data": {
      "text/plain": [
       "-0.9617214733026996"
      ]
     },
     "execution_count": 85,
     "metadata": {},
     "output_type": "execute_result"
    }
   ],
   "source": [
    "# according to bloomberg the risk free rate (treasury yields) 4.76 % (last 30 years)\n",
    "# calculation of sharpe ratio\n",
    "\n",
    "rf = 0.0476\n",
    "sharpe_ratio = (mean_ret-rf)/volatility\n",
    "sharpe_ratio"
   ]
  },
  {
   "cell_type": "code",
   "execution_count": 86,
   "id": "1eb58f02",
   "metadata": {},
   "outputs": [],
   "source": [
    "# get SP500 data from 1990-01-31 to 2022-08-30\t\n",
    "sp500_ticker = yf.Ticker(\"^GSPC\")\n",
    "sp500 = sp500_ticker.history(start=\"1990-02-28\", end=\"2022-09-30\", interval=\"1mo\")\n",
    "sp500 = sp500[[\"Close\"]]\n",
    "sp500[\"Rets\"] = sp500.Close.pct_change()"
   ]
  },
  {
   "cell_type": "code",
   "execution_count": 87,
   "id": "a522b64a",
   "metadata": {},
   "outputs": [
    {
     "data": {
      "text/html": [
       "<div>\n",
       "<style scoped>\n",
       "    .dataframe tbody tr th:only-of-type {\n",
       "        vertical-align: middle;\n",
       "    }\n",
       "\n",
       "    .dataframe tbody tr th {\n",
       "        vertical-align: top;\n",
       "    }\n",
       "\n",
       "    .dataframe thead th {\n",
       "        text-align: right;\n",
       "    }\n",
       "</style>\n",
       "<table border=\"1\" class=\"dataframe\">\n",
       "  <thead>\n",
       "    <tr style=\"text-align: right;\">\n",
       "      <th></th>\n",
       "      <th>Close</th>\n",
       "      <th>Rets</th>\n",
       "    </tr>\n",
       "    <tr>\n",
       "      <th>Date</th>\n",
       "      <th></th>\n",
       "      <th></th>\n",
       "    </tr>\n",
       "  </thead>\n",
       "  <tbody>\n",
       "    <tr>\n",
       "      <th>1990-03-01 00:00:00-05:00</th>\n",
       "      <td>339.940002</td>\n",
       "      <td>NaN</td>\n",
       "    </tr>\n",
       "    <tr>\n",
       "      <th>1990-04-01 00:00:00-05:00</th>\n",
       "      <td>330.799988</td>\n",
       "      <td>-0.026887</td>\n",
       "    </tr>\n",
       "    <tr>\n",
       "      <th>1990-05-01 00:00:00-04:00</th>\n",
       "      <td>361.230011</td>\n",
       "      <td>0.091989</td>\n",
       "    </tr>\n",
       "    <tr>\n",
       "      <th>1990-06-01 00:00:00-04:00</th>\n",
       "      <td>358.019989</td>\n",
       "      <td>-0.008886</td>\n",
       "    </tr>\n",
       "    <tr>\n",
       "      <th>1990-07-01 00:00:00-04:00</th>\n",
       "      <td>356.149994</td>\n",
       "      <td>-0.005223</td>\n",
       "    </tr>\n",
       "    <tr>\n",
       "      <th>...</th>\n",
       "      <td>...</td>\n",
       "      <td>...</td>\n",
       "    </tr>\n",
       "    <tr>\n",
       "      <th>2022-05-01 00:00:00-04:00</th>\n",
       "      <td>4132.149902</td>\n",
       "      <td>0.000053</td>\n",
       "    </tr>\n",
       "    <tr>\n",
       "      <th>2022-06-01 00:00:00-04:00</th>\n",
       "      <td>3785.379883</td>\n",
       "      <td>-0.083920</td>\n",
       "    </tr>\n",
       "    <tr>\n",
       "      <th>2022-07-01 00:00:00-04:00</th>\n",
       "      <td>4130.290039</td>\n",
       "      <td>0.091116</td>\n",
       "    </tr>\n",
       "    <tr>\n",
       "      <th>2022-08-01 00:00:00-04:00</th>\n",
       "      <td>3955.000000</td>\n",
       "      <td>-0.042440</td>\n",
       "    </tr>\n",
       "    <tr>\n",
       "      <th>2022-09-01 00:00:00-04:00</th>\n",
       "      <td>3585.620117</td>\n",
       "      <td>-0.093396</td>\n",
       "    </tr>\n",
       "  </tbody>\n",
       "</table>\n",
       "<p>391 rows × 2 columns</p>\n",
       "</div>"
      ],
      "text/plain": [
       "                                 Close      Rets\n",
       "Date                                            \n",
       "1990-03-01 00:00:00-05:00   339.940002       NaN\n",
       "1990-04-01 00:00:00-05:00   330.799988 -0.026887\n",
       "1990-05-01 00:00:00-04:00   361.230011  0.091989\n",
       "1990-06-01 00:00:00-04:00   358.019989 -0.008886\n",
       "1990-07-01 00:00:00-04:00   356.149994 -0.005223\n",
       "...                                ...       ...\n",
       "2022-05-01 00:00:00-04:00  4132.149902  0.000053\n",
       "2022-06-01 00:00:00-04:00  3785.379883 -0.083920\n",
       "2022-07-01 00:00:00-04:00  4130.290039  0.091116\n",
       "2022-08-01 00:00:00-04:00  3955.000000 -0.042440\n",
       "2022-09-01 00:00:00-04:00  3585.620117 -0.093396\n",
       "\n",
       "[391 rows x 2 columns]"
      ]
     },
     "execution_count": 87,
     "metadata": {},
     "output_type": "execute_result"
    }
   ],
   "source": [
    "sp500"
   ]
  },
  {
   "cell_type": "code",
   "execution_count": 88,
   "id": "fdb070ca",
   "metadata": {},
   "outputs": [
    {
     "name": "stdout",
     "output_type": "stream",
     "text": [
      "Portfolio Beta: 0.15555927248467138\n",
      "Jensen's Alpha: -0.04298512064864264\n"
     ]
    }
   ],
   "source": [
    "# Calculate the average return of the market\n",
    "average_market_return = sp500.Rets.mean()\n",
    "\n",
    "# Calculate the covariance between portfolio and market returns\n",
    "covariance = port_comb_df['Strat_rets'].cov(sp500['Rets'].reset_index(drop=True))\n",
    "\n",
    "# Calculate the variance of the market returns\n",
    "market_variance = sp500['Rets'].var()\n",
    "\n",
    "# Calculate the portfolio's beta\n",
    "portfolio_beta = covariance / market_variance\n",
    "\n",
    "# Calculate Jensen's Alpha\n",
    "jensens_alpha = mean_ret - (rf + portfolio_beta * (average_market_return - rf))\n",
    "\n",
    "print(\"Portfolio Beta:\", portfolio_beta)\n",
    "print(\"Jensen's Alpha:\", jensens_alpha)"
   ]
  },
  {
   "cell_type": "code",
   "execution_count": 89,
   "id": "3be9184e",
   "metadata": {},
   "outputs": [
    {
     "data": {
      "text/plain": [
       "-0.3169391512786813"
      ]
     },
     "execution_count": 89,
     "metadata": {},
     "output_type": "execute_result"
    }
   ],
   "source": [
    "# treynor ratio\n",
    "treynor_ratio = (mean_ret - rf)/portfolio_beta\n",
    "treynor_ratio"
   ]
  },
  {
   "cell_type": "code",
   "execution_count": 90,
   "id": "de441c2b",
   "metadata": {},
   "outputs": [
    {
     "name": "stdout",
     "output_type": "stream",
     "text": [
      "0.8449390312016193\n"
     ]
    }
   ],
   "source": [
    "# maximum drawdown\n",
    "peak = port_comb_df.reset_index(drop=True).loc[1, \"Strat_cum_rets\"]\n",
    "max_drawdown = 0\n",
    "for ret in port_comb_df[\"Strat_cum_rets\"].dropna():\n",
    "    if ret >= peak:\n",
    "        peak = ret\n",
    "    else:\n",
    "        drawdown = (peak - ret)/peak\n",
    "        max_drawdown = max(max_drawdown, drawdown)\n",
    "\n",
    "print(max_drawdown)"
   ]
  },
  {
   "cell_type": "code",
   "execution_count": 91,
   "id": "6daebcec",
   "metadata": {},
   "outputs": [
    {
     "data": {
      "text/plain": [
       "-0.08000577261043738"
      ]
     },
     "execution_count": 91,
     "metadata": {},
     "output_type": "execute_result"
    }
   ],
   "source": [
    "# calmar-ratio\n",
    "annualised_exp_return = round(mean_ret*12,2)\n",
    "calmar_ratio = (annualised_exp_return - rf)/max_drawdown\n",
    "calmar_ratio"
   ]
  }
 ],
 "metadata": {
  "kernelspec": {
   "display_name": "Python 3 (ipykernel)",
   "language": "python",
   "name": "python3"
  },
  "language_info": {
   "codemirror_mode": {
    "name": "ipython",
    "version": 3
   },
   "file_extension": ".py",
   "mimetype": "text/x-python",
   "name": "python",
   "nbconvert_exporter": "python",
   "pygments_lexer": "ipython3",
   "version": "3.9.0"
  }
 },
 "nbformat": 4,
 "nbformat_minor": 5
}
