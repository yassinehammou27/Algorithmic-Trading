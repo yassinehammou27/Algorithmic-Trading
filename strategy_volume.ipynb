{
 "cells": [
  {
   "cell_type": "markdown",
   "id": "acae3b45",
   "metadata": {},
   "source": [
    "# Group Project\n",
    "#### **FINN43815 - Python for Finance**"
   ]
  },
  {
   "cell_type": "code",
   "execution_count": 164,
   "id": "36a8edf5",
   "metadata": {},
   "outputs": [],
   "source": [
    "import numpy as np\n",
    "import pandas as pd\n",
    "import plotly.express as px\n",
    "from scipy.stats import kurtosis, skew\n",
    "import yfinance as yf\n",
    "from matplotlib import pyplot as plt"
   ]
  },
  {
   "cell_type": "markdown",
   "id": "278f8d90",
   "metadata": {},
   "source": [
    "### Volume Trading Strategy"
   ]
  },
  {
   "cell_type": "markdown",
   "id": "e6e26e70",
   "metadata": {},
   "source": [
    "#### 1. Import Data"
   ]
  },
  {
   "cell_type": "code",
   "execution_count": 165,
   "id": "d81ffa77",
   "metadata": {},
   "outputs": [
    {
     "name": "stderr",
     "output_type": "stream",
     "text": [
      "/var/folders/ch/yj3xbk4s1t34gtb89jtxcmcr0000gn/T/ipykernel_26976/1299969751.py:1: DtypeWarning:\n",
      "\n",
      "Columns (12) have mixed types. Specify dtype option on import or set low_memory=False.\n",
      "\n"
     ]
    }
   ],
   "source": [
    "data = pd.read_csv('cleaned_data.csv')"
   ]
  },
  {
   "cell_type": "code",
   "execution_count": 166,
   "id": "0a7b9ab6",
   "metadata": {},
   "outputs": [
    {
     "data": {
      "text/html": [
       "<div>\n",
       "<style scoped>\n",
       "    .dataframe tbody tr th:only-of-type {\n",
       "        vertical-align: middle;\n",
       "    }\n",
       "\n",
       "    .dataframe tbody tr th {\n",
       "        vertical-align: top;\n",
       "    }\n",
       "\n",
       "    .dataframe thead th {\n",
       "        text-align: right;\n",
       "    }\n",
       "</style>\n",
       "<table border=\"1\" class=\"dataframe\">\n",
       "  <thead>\n",
       "    <tr style=\"text-align: right;\">\n",
       "      <th></th>\n",
       "      <th>date</th>\n",
       "      <th>permno</th>\n",
       "      <th>price</th>\n",
       "      <th>volume</th>\n",
       "    </tr>\n",
       "  </thead>\n",
       "  <tbody>\n",
       "    <tr>\n",
       "      <th>0</th>\n",
       "      <td>1990-01-31</td>\n",
       "      <td>0111145D UN Equity</td>\n",
       "      <td>20.6875</td>\n",
       "      <td>49200.0</td>\n",
       "    </tr>\n",
       "    <tr>\n",
       "      <th>1</th>\n",
       "      <td>1990-02-28</td>\n",
       "      <td>0111145D UN Equity</td>\n",
       "      <td>22.0000</td>\n",
       "      <td>141600.0</td>\n",
       "    </tr>\n",
       "    <tr>\n",
       "      <th>2</th>\n",
       "      <td>1990-03-30</td>\n",
       "      <td>0111145D UN Equity</td>\n",
       "      <td>19.5000</td>\n",
       "      <td>32400.0</td>\n",
       "    </tr>\n",
       "    <tr>\n",
       "      <th>3</th>\n",
       "      <td>1990-04-30</td>\n",
       "      <td>0111145D UN Equity</td>\n",
       "      <td>17.6250</td>\n",
       "      <td>219400.0</td>\n",
       "    </tr>\n",
       "    <tr>\n",
       "      <th>4</th>\n",
       "      <td>1990-05-31</td>\n",
       "      <td>0111145D UN Equity</td>\n",
       "      <td>19.8125</td>\n",
       "      <td>128800.0</td>\n",
       "    </tr>\n",
       "    <tr>\n",
       "      <th>...</th>\n",
       "      <td>...</td>\n",
       "      <td>...</td>\n",
       "      <td>...</td>\n",
       "      <td>...</td>\n",
       "    </tr>\n",
       "    <tr>\n",
       "      <th>514691</th>\n",
       "      <td>2022-04-29</td>\n",
       "      <td>J UN Equity</td>\n",
       "      <td>138.5500</td>\n",
       "      <td>304510.0</td>\n",
       "    </tr>\n",
       "    <tr>\n",
       "      <th>514692</th>\n",
       "      <td>2022-05-31</td>\n",
       "      <td>J UN Equity</td>\n",
       "      <td>140.0900</td>\n",
       "      <td>439716.0</td>\n",
       "    </tr>\n",
       "    <tr>\n",
       "      <th>514693</th>\n",
       "      <td>2022-06-30</td>\n",
       "      <td>J UN Equity</td>\n",
       "      <td>127.1300</td>\n",
       "      <td>361201.0</td>\n",
       "    </tr>\n",
       "    <tr>\n",
       "      <th>514694</th>\n",
       "      <td>2022-07-29</td>\n",
       "      <td>J UN Equity</td>\n",
       "      <td>137.3000</td>\n",
       "      <td>214654.0</td>\n",
       "    </tr>\n",
       "    <tr>\n",
       "      <th>514695</th>\n",
       "      <td>2022-08-30</td>\n",
       "      <td>J UN Equity</td>\n",
       "      <td>124.4400</td>\n",
       "      <td>162011.0</td>\n",
       "    </tr>\n",
       "  </tbody>\n",
       "</table>\n",
       "<p>514696 rows × 4 columns</p>\n",
       "</div>"
      ],
      "text/plain": [
       "              date              permno     price    volume\n",
       "0       1990-01-31  0111145D UN Equity   20.6875   49200.0\n",
       "1       1990-02-28  0111145D UN Equity   22.0000  141600.0\n",
       "2       1990-03-30  0111145D UN Equity   19.5000   32400.0\n",
       "3       1990-04-30  0111145D UN Equity   17.6250  219400.0\n",
       "4       1990-05-31  0111145D UN Equity   19.8125  128800.0\n",
       "...            ...                 ...       ...       ...\n",
       "514691  2022-04-29         J UN Equity  138.5500  304510.0\n",
       "514692  2022-05-31         J UN Equity  140.0900  439716.0\n",
       "514693  2022-06-30         J UN Equity  127.1300  361201.0\n",
       "514694  2022-07-29         J UN Equity  137.3000  214654.0\n",
       "514695  2022-08-30         J UN Equity  124.4400  162011.0\n",
       "\n",
       "[514696 rows x 4 columns]"
      ]
     },
     "execution_count": 166,
     "metadata": {},
     "output_type": "execute_result"
    }
   ],
   "source": [
    "# drop unnecessary columns\n",
    "data = data[[\"date\", \"permno\", \"price\", \"volume\"]]\n",
    "data"
   ]
  },
  {
   "cell_type": "markdown",
   "id": "31589d51",
   "metadata": {},
   "source": [
    "#### 2. Calculate monthly returns"
   ]
  },
  {
   "cell_type": "code",
   "execution_count": 167,
   "id": "5b02046b",
   "metadata": {},
   "outputs": [
    {
     "name": "stderr",
     "output_type": "stream",
     "text": [
      "/var/folders/ch/yj3xbk4s1t34gtb89jtxcmcr0000gn/T/ipykernel_26976/1728035520.py:1: FutureWarning:\n",
      "\n",
      "The default fill_method='pad' in Series.pct_change is deprecated and will be removed in a future version. Call ffill before calling pct_change to retain current behavior and silence this warning.\n",
      "\n"
     ]
    },
    {
     "data": {
      "text/html": [
       "<div>\n",
       "<style scoped>\n",
       "    .dataframe tbody tr th:only-of-type {\n",
       "        vertical-align: middle;\n",
       "    }\n",
       "\n",
       "    .dataframe tbody tr th {\n",
       "        vertical-align: top;\n",
       "    }\n",
       "\n",
       "    .dataframe thead th {\n",
       "        text-align: right;\n",
       "    }\n",
       "</style>\n",
       "<table border=\"1\" class=\"dataframe\">\n",
       "  <thead>\n",
       "    <tr style=\"text-align: right;\">\n",
       "      <th></th>\n",
       "      <th>date</th>\n",
       "      <th>permno</th>\n",
       "      <th>price</th>\n",
       "      <th>volume</th>\n",
       "      <th>rets</th>\n",
       "    </tr>\n",
       "  </thead>\n",
       "  <tbody>\n",
       "    <tr>\n",
       "      <th>0</th>\n",
       "      <td>1990-01-31</td>\n",
       "      <td>0111145D UN Equity</td>\n",
       "      <td>20.6875</td>\n",
       "      <td>49200.0</td>\n",
       "      <td>NaN</td>\n",
       "    </tr>\n",
       "    <tr>\n",
       "      <th>1</th>\n",
       "      <td>1990-02-28</td>\n",
       "      <td>0111145D UN Equity</td>\n",
       "      <td>22.0000</td>\n",
       "      <td>141600.0</td>\n",
       "      <td>0.063444</td>\n",
       "    </tr>\n",
       "    <tr>\n",
       "      <th>2</th>\n",
       "      <td>1990-03-30</td>\n",
       "      <td>0111145D UN Equity</td>\n",
       "      <td>19.5000</td>\n",
       "      <td>32400.0</td>\n",
       "      <td>-0.113636</td>\n",
       "    </tr>\n",
       "    <tr>\n",
       "      <th>3</th>\n",
       "      <td>1990-04-30</td>\n",
       "      <td>0111145D UN Equity</td>\n",
       "      <td>17.6250</td>\n",
       "      <td>219400.0</td>\n",
       "      <td>-0.096154</td>\n",
       "    </tr>\n",
       "    <tr>\n",
       "      <th>4</th>\n",
       "      <td>1990-05-31</td>\n",
       "      <td>0111145D UN Equity</td>\n",
       "      <td>19.8125</td>\n",
       "      <td>128800.0</td>\n",
       "      <td>0.124113</td>\n",
       "    </tr>\n",
       "  </tbody>\n",
       "</table>\n",
       "</div>"
      ],
      "text/plain": [
       "         date              permno    price    volume      rets\n",
       "0  1990-01-31  0111145D UN Equity  20.6875   49200.0       NaN\n",
       "1  1990-02-28  0111145D UN Equity  22.0000  141600.0  0.063444\n",
       "2  1990-03-30  0111145D UN Equity  19.5000   32400.0 -0.113636\n",
       "3  1990-04-30  0111145D UN Equity  17.6250  219400.0 -0.096154\n",
       "4  1990-05-31  0111145D UN Equity  19.8125  128800.0  0.124113"
      ]
     },
     "execution_count": 167,
     "metadata": {},
     "output_type": "execute_result"
    }
   ],
   "source": [
    "data['rets'] = data.groupby('permno')['price'].transform(pd.Series.pct_change)\n",
    "data.head()"
   ]
  },
  {
   "cell_type": "markdown",
   "id": "27834fd8",
   "metadata": {},
   "source": [
    "#### 3. Calculate On-Balance Volume (OBV)"
   ]
  },
  {
   "cell_type": "code",
   "execution_count": 168,
   "id": "9da62d57",
   "metadata": {},
   "outputs": [],
   "source": [
    "OBV = [0]\n",
    "for _, df in data.groupby(\"permno\"):\n",
    "    for i in range(1, len(df.price)):\n",
    "        if df[\"price\"].iloc[i] > df[\"price\"].iloc[i-1]:\n",
    "            OBV += [OBV[i-1] + df[\"volume\"].iloc[i]]\n",
    "        elif df[\"price\"].iloc[i] < df[\"price\"].iloc[i-1]:\n",
    "            OBV += [OBV[i-1] - df[\"volume\"].iloc[i]]\n",
    "        else:\n",
    "            OBV += [OBV[i-1]]"
   ]
  },
  {
   "cell_type": "code",
   "execution_count": 169,
   "id": "5582ceaf",
   "metadata": {},
   "outputs": [],
   "source": [
    "data = data.dropna().reset_index(drop=True)"
   ]
  },
  {
   "cell_type": "code",
   "execution_count": 170,
   "id": "fc060a7e",
   "metadata": {},
   "outputs": [],
   "source": [
    "data.loc[:,\"pt-1\"] = data.groupby(\"permno\").price.shift(1)\n",
    "data.loc[:,\"signal\"] = np.where(data.price > data[\"pt-1\"], 1, 0)\n",
    "data.loc[:,\"signal\"] = np.where(data[\"pt-1\"] > data.price, -1, data.signal)"
   ]
  },
  {
   "cell_type": "code",
   "execution_count": 171,
   "id": "9dc733ff",
   "metadata": {},
   "outputs": [
    {
     "data": {
      "text/html": [
       "<div>\n",
       "<style scoped>\n",
       "    .dataframe tbody tr th:only-of-type {\n",
       "        vertical-align: middle;\n",
       "    }\n",
       "\n",
       "    .dataframe tbody tr th {\n",
       "        vertical-align: top;\n",
       "    }\n",
       "\n",
       "    .dataframe thead th {\n",
       "        text-align: right;\n",
       "    }\n",
       "</style>\n",
       "<table border=\"1\" class=\"dataframe\">\n",
       "  <thead>\n",
       "    <tr style=\"text-align: right;\">\n",
       "      <th></th>\n",
       "      <th>date</th>\n",
       "      <th>permno</th>\n",
       "      <th>price</th>\n",
       "      <th>volume</th>\n",
       "      <th>rets</th>\n",
       "      <th>pt-1</th>\n",
       "      <th>signal</th>\n",
       "      <th>vol</th>\n",
       "    </tr>\n",
       "  </thead>\n",
       "  <tbody>\n",
       "    <tr>\n",
       "      <th>0</th>\n",
       "      <td>1990-02-28</td>\n",
       "      <td>0111145D UN Equity</td>\n",
       "      <td>22.0000</td>\n",
       "      <td>141600.0</td>\n",
       "      <td>0.063444</td>\n",
       "      <td>NaN</td>\n",
       "      <td>0</td>\n",
       "      <td>0.0</td>\n",
       "    </tr>\n",
       "    <tr>\n",
       "      <th>1</th>\n",
       "      <td>1990-03-30</td>\n",
       "      <td>0111145D UN Equity</td>\n",
       "      <td>19.5000</td>\n",
       "      <td>32400.0</td>\n",
       "      <td>-0.113636</td>\n",
       "      <td>22.0000</td>\n",
       "      <td>-1</td>\n",
       "      <td>-32400.0</td>\n",
       "    </tr>\n",
       "    <tr>\n",
       "      <th>2</th>\n",
       "      <td>1990-04-30</td>\n",
       "      <td>0111145D UN Equity</td>\n",
       "      <td>17.6250</td>\n",
       "      <td>219400.0</td>\n",
       "      <td>-0.096154</td>\n",
       "      <td>19.5000</td>\n",
       "      <td>-1</td>\n",
       "      <td>-219400.0</td>\n",
       "    </tr>\n",
       "    <tr>\n",
       "      <th>3</th>\n",
       "      <td>1990-05-31</td>\n",
       "      <td>0111145D UN Equity</td>\n",
       "      <td>19.8125</td>\n",
       "      <td>128800.0</td>\n",
       "      <td>0.124113</td>\n",
       "      <td>17.6250</td>\n",
       "      <td>1</td>\n",
       "      <td>128800.0</td>\n",
       "    </tr>\n",
       "    <tr>\n",
       "      <th>4</th>\n",
       "      <td>1990-06-29</td>\n",
       "      <td>0111145D UN Equity</td>\n",
       "      <td>18.9375</td>\n",
       "      <td>32200.0</td>\n",
       "      <td>-0.044164</td>\n",
       "      <td>19.8125</td>\n",
       "      <td>-1</td>\n",
       "      <td>-32200.0</td>\n",
       "    </tr>\n",
       "    <tr>\n",
       "      <th>...</th>\n",
       "      <td>...</td>\n",
       "      <td>...</td>\n",
       "      <td>...</td>\n",
       "      <td>...</td>\n",
       "      <td>...</td>\n",
       "      <td>...</td>\n",
       "      <td>...</td>\n",
       "      <td>...</td>\n",
       "    </tr>\n",
       "    <tr>\n",
       "      <th>297922</th>\n",
       "      <td>2022-04-29</td>\n",
       "      <td>J UN Equity</td>\n",
       "      <td>138.5500</td>\n",
       "      <td>304510.0</td>\n",
       "      <td>0.005370</td>\n",
       "      <td>137.8100</td>\n",
       "      <td>1</td>\n",
       "      <td>304510.0</td>\n",
       "    </tr>\n",
       "    <tr>\n",
       "      <th>297923</th>\n",
       "      <td>2022-05-31</td>\n",
       "      <td>J UN Equity</td>\n",
       "      <td>140.0900</td>\n",
       "      <td>439716.0</td>\n",
       "      <td>0.011115</td>\n",
       "      <td>138.5500</td>\n",
       "      <td>1</td>\n",
       "      <td>439716.0</td>\n",
       "    </tr>\n",
       "    <tr>\n",
       "      <th>297924</th>\n",
       "      <td>2022-06-30</td>\n",
       "      <td>J UN Equity</td>\n",
       "      <td>127.1300</td>\n",
       "      <td>361201.0</td>\n",
       "      <td>-0.092512</td>\n",
       "      <td>140.0900</td>\n",
       "      <td>-1</td>\n",
       "      <td>-361201.0</td>\n",
       "    </tr>\n",
       "    <tr>\n",
       "      <th>297925</th>\n",
       "      <td>2022-07-29</td>\n",
       "      <td>J UN Equity</td>\n",
       "      <td>137.3000</td>\n",
       "      <td>214654.0</td>\n",
       "      <td>0.079997</td>\n",
       "      <td>127.1300</td>\n",
       "      <td>1</td>\n",
       "      <td>214654.0</td>\n",
       "    </tr>\n",
       "    <tr>\n",
       "      <th>297926</th>\n",
       "      <td>2022-08-30</td>\n",
       "      <td>J UN Equity</td>\n",
       "      <td>124.4400</td>\n",
       "      <td>162011.0</td>\n",
       "      <td>-0.093664</td>\n",
       "      <td>137.3000</td>\n",
       "      <td>-1</td>\n",
       "      <td>-162011.0</td>\n",
       "    </tr>\n",
       "  </tbody>\n",
       "</table>\n",
       "<p>297927 rows × 8 columns</p>\n",
       "</div>"
      ],
      "text/plain": [
       "              date              permno     price    volume      rets  \\\n",
       "0       1990-02-28  0111145D UN Equity   22.0000  141600.0  0.063444   \n",
       "1       1990-03-30  0111145D UN Equity   19.5000   32400.0 -0.113636   \n",
       "2       1990-04-30  0111145D UN Equity   17.6250  219400.0 -0.096154   \n",
       "3       1990-05-31  0111145D UN Equity   19.8125  128800.0  0.124113   \n",
       "4       1990-06-29  0111145D UN Equity   18.9375   32200.0 -0.044164   \n",
       "...            ...                 ...       ...       ...       ...   \n",
       "297922  2022-04-29         J UN Equity  138.5500  304510.0  0.005370   \n",
       "297923  2022-05-31         J UN Equity  140.0900  439716.0  0.011115   \n",
       "297924  2022-06-30         J UN Equity  127.1300  361201.0 -0.092512   \n",
       "297925  2022-07-29         J UN Equity  137.3000  214654.0  0.079997   \n",
       "297926  2022-08-30         J UN Equity  124.4400  162011.0 -0.093664   \n",
       "\n",
       "            pt-1  signal       vol  \n",
       "0            NaN       0       0.0  \n",
       "1        22.0000      -1  -32400.0  \n",
       "2        19.5000      -1 -219400.0  \n",
       "3        17.6250       1  128800.0  \n",
       "4        19.8125      -1  -32200.0  \n",
       "...          ...     ...       ...  \n",
       "297922  137.8100       1  304510.0  \n",
       "297923  138.5500       1  439716.0  \n",
       "297924  140.0900      -1 -361201.0  \n",
       "297925  127.1300       1  214654.0  \n",
       "297926  137.3000      -1 -162011.0  \n",
       "\n",
       "[297927 rows x 8 columns]"
      ]
     },
     "execution_count": 171,
     "metadata": {},
     "output_type": "execute_result"
    }
   ],
   "source": [
    "data.loc[:,\"vol\"] = data.volume * data.signal\n",
    "data"
   ]
  },
  {
   "cell_type": "code",
   "execution_count": 172,
   "id": "e941bf49",
   "metadata": {},
   "outputs": [],
   "source": [
    "data.loc[:,\"OBV\"] = data.groupby(\"permno\")[\"vol\"].cumsum()"
   ]
  },
  {
   "cell_type": "code",
   "execution_count": 173,
   "id": "f56eff79",
   "metadata": {},
   "outputs": [],
   "source": [
    "data = data.drop(columns=[\"pt-1\", \"signal\", \"vol\"])"
   ]
  },
  {
   "cell_type": "code",
   "execution_count": 174,
   "id": "a01b3dd7",
   "metadata": {},
   "outputs": [
    {
     "data": {
      "text/html": [
       "<div>\n",
       "<style scoped>\n",
       "    .dataframe tbody tr th:only-of-type {\n",
       "        vertical-align: middle;\n",
       "    }\n",
       "\n",
       "    .dataframe tbody tr th {\n",
       "        vertical-align: top;\n",
       "    }\n",
       "\n",
       "    .dataframe thead th {\n",
       "        text-align: right;\n",
       "    }\n",
       "</style>\n",
       "<table border=\"1\" class=\"dataframe\">\n",
       "  <thead>\n",
       "    <tr style=\"text-align: right;\">\n",
       "      <th></th>\n",
       "      <th>date</th>\n",
       "      <th>permno</th>\n",
       "      <th>price</th>\n",
       "      <th>volume</th>\n",
       "      <th>rets</th>\n",
       "      <th>OBV</th>\n",
       "    </tr>\n",
       "  </thead>\n",
       "  <tbody>\n",
       "    <tr>\n",
       "      <th>297536</th>\n",
       "      <td>1990-02-28</td>\n",
       "      <td>J UN Equity</td>\n",
       "      <td>2.3125</td>\n",
       "      <td>150400.0</td>\n",
       "      <td>0.156250</td>\n",
       "      <td>0.0</td>\n",
       "    </tr>\n",
       "    <tr>\n",
       "      <th>297537</th>\n",
       "      <td>1990-03-30</td>\n",
       "      <td>J UN Equity</td>\n",
       "      <td>2.5156</td>\n",
       "      <td>561600.0</td>\n",
       "      <td>0.087827</td>\n",
       "      <td>561600.0</td>\n",
       "    </tr>\n",
       "    <tr>\n",
       "      <th>297538</th>\n",
       "      <td>1990-04-30</td>\n",
       "      <td>J UN Equity</td>\n",
       "      <td>2.3906</td>\n",
       "      <td>373600.0</td>\n",
       "      <td>-0.049690</td>\n",
       "      <td>188000.0</td>\n",
       "    </tr>\n",
       "    <tr>\n",
       "      <th>297539</th>\n",
       "      <td>1990-05-31</td>\n",
       "      <td>J UN Equity</td>\n",
       "      <td>3.1094</td>\n",
       "      <td>55200.0</td>\n",
       "      <td>0.300678</td>\n",
       "      <td>243200.0</td>\n",
       "    </tr>\n",
       "    <tr>\n",
       "      <th>297540</th>\n",
       "      <td>1990-06-29</td>\n",
       "      <td>J UN Equity</td>\n",
       "      <td>2.9375</td>\n",
       "      <td>84800.0</td>\n",
       "      <td>-0.055284</td>\n",
       "      <td>158400.0</td>\n",
       "    </tr>\n",
       "    <tr>\n",
       "      <th>...</th>\n",
       "      <td>...</td>\n",
       "      <td>...</td>\n",
       "      <td>...</td>\n",
       "      <td>...</td>\n",
       "      <td>...</td>\n",
       "      <td>...</td>\n",
       "    </tr>\n",
       "    <tr>\n",
       "      <th>297922</th>\n",
       "      <td>2022-04-29</td>\n",
       "      <td>J UN Equity</td>\n",
       "      <td>138.5500</td>\n",
       "      <td>304510.0</td>\n",
       "      <td>0.005370</td>\n",
       "      <td>11288256.0</td>\n",
       "    </tr>\n",
       "    <tr>\n",
       "      <th>297923</th>\n",
       "      <td>2022-05-31</td>\n",
       "      <td>J UN Equity</td>\n",
       "      <td>140.0900</td>\n",
       "      <td>439716.0</td>\n",
       "      <td>0.011115</td>\n",
       "      <td>11727972.0</td>\n",
       "    </tr>\n",
       "    <tr>\n",
       "      <th>297924</th>\n",
       "      <td>2022-06-30</td>\n",
       "      <td>J UN Equity</td>\n",
       "      <td>127.1300</td>\n",
       "      <td>361201.0</td>\n",
       "      <td>-0.092512</td>\n",
       "      <td>11366771.0</td>\n",
       "    </tr>\n",
       "    <tr>\n",
       "      <th>297925</th>\n",
       "      <td>2022-07-29</td>\n",
       "      <td>J UN Equity</td>\n",
       "      <td>137.3000</td>\n",
       "      <td>214654.0</td>\n",
       "      <td>0.079997</td>\n",
       "      <td>11581425.0</td>\n",
       "    </tr>\n",
       "    <tr>\n",
       "      <th>297926</th>\n",
       "      <td>2022-08-30</td>\n",
       "      <td>J UN Equity</td>\n",
       "      <td>124.4400</td>\n",
       "      <td>162011.0</td>\n",
       "      <td>-0.093664</td>\n",
       "      <td>11419414.0</td>\n",
       "    </tr>\n",
       "  </tbody>\n",
       "</table>\n",
       "<p>391 rows × 6 columns</p>\n",
       "</div>"
      ],
      "text/plain": [
       "              date       permno     price    volume      rets         OBV\n",
       "297536  1990-02-28  J UN Equity    2.3125  150400.0  0.156250         0.0\n",
       "297537  1990-03-30  J UN Equity    2.5156  561600.0  0.087827    561600.0\n",
       "297538  1990-04-30  J UN Equity    2.3906  373600.0 -0.049690    188000.0\n",
       "297539  1990-05-31  J UN Equity    3.1094   55200.0  0.300678    243200.0\n",
       "297540  1990-06-29  J UN Equity    2.9375   84800.0 -0.055284    158400.0\n",
       "...            ...          ...       ...       ...       ...         ...\n",
       "297922  2022-04-29  J UN Equity  138.5500  304510.0  0.005370  11288256.0\n",
       "297923  2022-05-31  J UN Equity  140.0900  439716.0  0.011115  11727972.0\n",
       "297924  2022-06-30  J UN Equity  127.1300  361201.0 -0.092512  11366771.0\n",
       "297925  2022-07-29  J UN Equity  137.3000  214654.0  0.079997  11581425.0\n",
       "297926  2022-08-30  J UN Equity  124.4400  162011.0 -0.093664  11419414.0\n",
       "\n",
       "[391 rows x 6 columns]"
      ]
     },
     "execution_count": 174,
     "metadata": {},
     "output_type": "execute_result"
    }
   ],
   "source": [
    "data[data.permno==\"J UN Equity\"]"
   ]
  },
  {
   "cell_type": "markdown",
   "id": "ea900ddc",
   "metadata": {},
   "source": [
    "#### 4. Calculate Exponential Moving Average"
   ]
  },
  {
   "cell_type": "code",
   "execution_count": 175,
   "id": "252475de",
   "metadata": {},
   "outputs": [],
   "source": [
    "data[\"OBV_ewm\"] = data.groupby(\"permno\")[\"OBV\"].ewm(span=15).mean().reset_index(drop=True)"
   ]
  },
  {
   "cell_type": "code",
   "execution_count": 176,
   "id": "78a556fa",
   "metadata": {},
   "outputs": [
    {
     "name": "stdout",
     "output_type": "stream",
     "text": [
      "0      0.000000e+00\n",
      "1     -1.728000e+04\n",
      "2     -1.060923e+05\n",
      "3     -1.111995e+05\n",
      "4     -1.224912e+05\n",
      "           ...     \n",
      "257    3.486527e+06\n",
      "258    3.505459e+06\n",
      "259    3.495196e+06\n",
      "260    3.499708e+06\n",
      "261    3.477330e+06\n",
      "Name: OBV, Length: 262, dtype: float64\n"
     ]
    }
   ],
   "source": [
    "for x,y in data.groupby(\"permno\"):\n",
    "    if x == \"0111145D UN Equity\":\n",
    "        print(y.OBV.ewm(span=15).mean())"
   ]
  },
  {
   "cell_type": "code",
   "execution_count": 177,
   "id": "bdfece75",
   "metadata": {},
   "outputs": [
    {
     "data": {
      "text/html": [
       "<div>\n",
       "<style scoped>\n",
       "    .dataframe tbody tr th:only-of-type {\n",
       "        vertical-align: middle;\n",
       "    }\n",
       "\n",
       "    .dataframe tbody tr th {\n",
       "        vertical-align: top;\n",
       "    }\n",
       "\n",
       "    .dataframe thead th {\n",
       "        text-align: right;\n",
       "    }\n",
       "</style>\n",
       "<table border=\"1\" class=\"dataframe\">\n",
       "  <thead>\n",
       "    <tr style=\"text-align: right;\">\n",
       "      <th></th>\n",
       "      <th>date</th>\n",
       "      <th>permno</th>\n",
       "      <th>price</th>\n",
       "      <th>volume</th>\n",
       "      <th>rets</th>\n",
       "      <th>OBV</th>\n",
       "      <th>OBV_ewm</th>\n",
       "    </tr>\n",
       "  </thead>\n",
       "  <tbody>\n",
       "    <tr>\n",
       "      <th>0</th>\n",
       "      <td>1990-02-28</td>\n",
       "      <td>0111145D UN Equity</td>\n",
       "      <td>22.0000</td>\n",
       "      <td>141600.0</td>\n",
       "      <td>0.063444</td>\n",
       "      <td>0.0</td>\n",
       "      <td>0.000000e+00</td>\n",
       "    </tr>\n",
       "    <tr>\n",
       "      <th>1</th>\n",
       "      <td>1990-03-30</td>\n",
       "      <td>0111145D UN Equity</td>\n",
       "      <td>19.5000</td>\n",
       "      <td>32400.0</td>\n",
       "      <td>-0.113636</td>\n",
       "      <td>-32400.0</td>\n",
       "      <td>-1.728000e+04</td>\n",
       "    </tr>\n",
       "    <tr>\n",
       "      <th>2</th>\n",
       "      <td>1990-04-30</td>\n",
       "      <td>0111145D UN Equity</td>\n",
       "      <td>17.6250</td>\n",
       "      <td>219400.0</td>\n",
       "      <td>-0.096154</td>\n",
       "      <td>-251800.0</td>\n",
       "      <td>-1.060923e+05</td>\n",
       "    </tr>\n",
       "    <tr>\n",
       "      <th>3</th>\n",
       "      <td>1990-05-31</td>\n",
       "      <td>0111145D UN Equity</td>\n",
       "      <td>19.8125</td>\n",
       "      <td>128800.0</td>\n",
       "      <td>0.124113</td>\n",
       "      <td>-123000.0</td>\n",
       "      <td>-1.111995e+05</td>\n",
       "    </tr>\n",
       "    <tr>\n",
       "      <th>4</th>\n",
       "      <td>1990-06-29</td>\n",
       "      <td>0111145D UN Equity</td>\n",
       "      <td>18.9375</td>\n",
       "      <td>32200.0</td>\n",
       "      <td>-0.044164</td>\n",
       "      <td>-155200.0</td>\n",
       "      <td>-1.224912e+05</td>\n",
       "    </tr>\n",
       "    <tr>\n",
       "      <th>...</th>\n",
       "      <td>...</td>\n",
       "      <td>...</td>\n",
       "      <td>...</td>\n",
       "      <td>...</td>\n",
       "      <td>...</td>\n",
       "      <td>...</td>\n",
       "      <td>...</td>\n",
       "    </tr>\n",
       "    <tr>\n",
       "      <th>257</th>\n",
       "      <td>2011-07-29</td>\n",
       "      <td>0111145D UN Equity</td>\n",
       "      <td>54.7000</td>\n",
       "      <td>126900.0</td>\n",
       "      <td>-0.000731</td>\n",
       "      <td>3507166.0</td>\n",
       "      <td>3.486527e+06</td>\n",
       "    </tr>\n",
       "    <tr>\n",
       "      <th>258</th>\n",
       "      <td>2011-08-31</td>\n",
       "      <td>0111145D UN Equity</td>\n",
       "      <td>55.6000</td>\n",
       "      <td>130817.0</td>\n",
       "      <td>0.016453</td>\n",
       "      <td>3637983.0</td>\n",
       "      <td>3.505459e+06</td>\n",
       "    </tr>\n",
       "    <tr>\n",
       "      <th>259</th>\n",
       "      <td>2011-09-30</td>\n",
       "      <td>0111145D UN Equity</td>\n",
       "      <td>55.0100</td>\n",
       "      <td>214629.0</td>\n",
       "      <td>-0.010612</td>\n",
       "      <td>3423354.0</td>\n",
       "      <td>3.495196e+06</td>\n",
       "    </tr>\n",
       "    <tr>\n",
       "      <th>260</th>\n",
       "      <td>2011-10-31</td>\n",
       "      <td>0111145D UN Equity</td>\n",
       "      <td>56.2500</td>\n",
       "      <td>107938.0</td>\n",
       "      <td>0.022541</td>\n",
       "      <td>3531292.0</td>\n",
       "      <td>3.499708e+06</td>\n",
       "    </tr>\n",
       "    <tr>\n",
       "      <th>261</th>\n",
       "      <td>2011-11-30</td>\n",
       "      <td>0111145D UN Equity</td>\n",
       "      <td>56.1200</td>\n",
       "      <td>210602.0</td>\n",
       "      <td>-0.002311</td>\n",
       "      <td>3320690.0</td>\n",
       "      <td>3.477330e+06</td>\n",
       "    </tr>\n",
       "  </tbody>\n",
       "</table>\n",
       "<p>262 rows × 7 columns</p>\n",
       "</div>"
      ],
      "text/plain": [
       "           date              permno    price    volume      rets        OBV  \\\n",
       "0    1990-02-28  0111145D UN Equity  22.0000  141600.0  0.063444        0.0   \n",
       "1    1990-03-30  0111145D UN Equity  19.5000   32400.0 -0.113636   -32400.0   \n",
       "2    1990-04-30  0111145D UN Equity  17.6250  219400.0 -0.096154  -251800.0   \n",
       "3    1990-05-31  0111145D UN Equity  19.8125  128800.0  0.124113  -123000.0   \n",
       "4    1990-06-29  0111145D UN Equity  18.9375   32200.0 -0.044164  -155200.0   \n",
       "..          ...                 ...      ...       ...       ...        ...   \n",
       "257  2011-07-29  0111145D UN Equity  54.7000  126900.0 -0.000731  3507166.0   \n",
       "258  2011-08-31  0111145D UN Equity  55.6000  130817.0  0.016453  3637983.0   \n",
       "259  2011-09-30  0111145D UN Equity  55.0100  214629.0 -0.010612  3423354.0   \n",
       "260  2011-10-31  0111145D UN Equity  56.2500  107938.0  0.022541  3531292.0   \n",
       "261  2011-11-30  0111145D UN Equity  56.1200  210602.0 -0.002311  3320690.0   \n",
       "\n",
       "          OBV_ewm  \n",
       "0    0.000000e+00  \n",
       "1   -1.728000e+04  \n",
       "2   -1.060923e+05  \n",
       "3   -1.111995e+05  \n",
       "4   -1.224912e+05  \n",
       "..            ...  \n",
       "257  3.486527e+06  \n",
       "258  3.505459e+06  \n",
       "259  3.495196e+06  \n",
       "260  3.499708e+06  \n",
       "261  3.477330e+06  \n",
       "\n",
       "[262 rows x 7 columns]"
      ]
     },
     "execution_count": 177,
     "metadata": {},
     "output_type": "execute_result"
    }
   ],
   "source": [
    "data[data.permno ==\"0111145D UN Equity\"]"
   ]
  },
  {
   "cell_type": "code",
   "execution_count": 178,
   "id": "16c5ea63",
   "metadata": {},
   "outputs": [
    {
     "data": {
      "text/plain": [
       "[<matplotlib.lines.Line2D at 0x7fd1c15960d0>]"
      ]
     },
     "execution_count": 178,
     "metadata": {},
     "output_type": "execute_result"
    },
    {
     "data": {
      "image/png": "[encoded data removed]",
      "text/plain": [
       "<Figure size 1440x432 with 1 Axes>"
      ]
     },
     "metadata": {
      "needs_background": "light"
     },
     "output_type": "display_data"
    }
   ],
   "source": [
    "plt.figure(figsize=(20, 6))\n",
    "plt.plot(data[data.permno==\"0111145D UN Equity\"].date, data[data.permno==\"0111145D UN Equity\"].OBV, color=\"blue\")\n",
    "plt.plot(data[data.permno==\"0111145D UN Equity\"].date, data[data.permno==\"0111145D UN Equity\"].OBV_ewm, color=\"green\")"
   ]
  },
  {
   "cell_type": "code",
   "execution_count": 179,
   "id": "5a15fa93",
   "metadata": {},
   "outputs": [],
   "source": [
    "data[\"signal\"] = np.where(data.OBV > data.OBV_ewm, 1, 0)"
   ]
  },
  {
   "cell_type": "code",
   "execution_count": 180,
   "id": "58a4cea0",
   "metadata": {},
   "outputs": [
    {
     "data": {
      "text/html": [
       "<div>\n",
       "<style scoped>\n",
       "    .dataframe tbody tr th:only-of-type {\n",
       "        vertical-align: middle;\n",
       "    }\n",
       "\n",
       "    .dataframe tbody tr th {\n",
       "        vertical-align: top;\n",
       "    }\n",
       "\n",
       "    .dataframe thead th {\n",
       "        text-align: right;\n",
       "    }\n",
       "</style>\n",
       "<table border=\"1\" class=\"dataframe\">\n",
       "  <thead>\n",
       "    <tr style=\"text-align: right;\">\n",
       "      <th></th>\n",
       "      <th>date</th>\n",
       "      <th>permno</th>\n",
       "      <th>price</th>\n",
       "      <th>volume</th>\n",
       "      <th>rets</th>\n",
       "      <th>OBV</th>\n",
       "      <th>OBV_ewm</th>\n",
       "      <th>signal</th>\n",
       "    </tr>\n",
       "  </thead>\n",
       "  <tbody>\n",
       "    <tr>\n",
       "      <th>0</th>\n",
       "      <td>1990-02-28</td>\n",
       "      <td>0111145D UN Equity</td>\n",
       "      <td>22.0000</td>\n",
       "      <td>141600.0</td>\n",
       "      <td>0.063444</td>\n",
       "      <td>0.0</td>\n",
       "      <td>0.000000e+00</td>\n",
       "      <td>0</td>\n",
       "    </tr>\n",
       "    <tr>\n",
       "      <th>1</th>\n",
       "      <td>1990-03-30</td>\n",
       "      <td>0111145D UN Equity</td>\n",
       "      <td>19.5000</td>\n",
       "      <td>32400.0</td>\n",
       "      <td>-0.113636</td>\n",
       "      <td>-32400.0</td>\n",
       "      <td>-1.728000e+04</td>\n",
       "      <td>0</td>\n",
       "    </tr>\n",
       "    <tr>\n",
       "      <th>2</th>\n",
       "      <td>1990-04-30</td>\n",
       "      <td>0111145D UN Equity</td>\n",
       "      <td>17.6250</td>\n",
       "      <td>219400.0</td>\n",
       "      <td>-0.096154</td>\n",
       "      <td>-251800.0</td>\n",
       "      <td>-1.060923e+05</td>\n",
       "      <td>0</td>\n",
       "    </tr>\n",
       "    <tr>\n",
       "      <th>3</th>\n",
       "      <td>1990-05-31</td>\n",
       "      <td>0111145D UN Equity</td>\n",
       "      <td>19.8125</td>\n",
       "      <td>128800.0</td>\n",
       "      <td>0.124113</td>\n",
       "      <td>-123000.0</td>\n",
       "      <td>-1.111995e+05</td>\n",
       "      <td>0</td>\n",
       "    </tr>\n",
       "    <tr>\n",
       "      <th>4</th>\n",
       "      <td>1990-06-29</td>\n",
       "      <td>0111145D UN Equity</td>\n",
       "      <td>18.9375</td>\n",
       "      <td>32200.0</td>\n",
       "      <td>-0.044164</td>\n",
       "      <td>-155200.0</td>\n",
       "      <td>-1.224912e+05</td>\n",
       "      <td>0</td>\n",
       "    </tr>\n",
       "    <tr>\n",
       "      <th>...</th>\n",
       "      <td>...</td>\n",
       "      <td>...</td>\n",
       "      <td>...</td>\n",
       "      <td>...</td>\n",
       "      <td>...</td>\n",
       "      <td>...</td>\n",
       "      <td>...</td>\n",
       "      <td>...</td>\n",
       "    </tr>\n",
       "    <tr>\n",
       "      <th>257</th>\n",
       "      <td>2011-07-29</td>\n",
       "      <td>0111145D UN Equity</td>\n",
       "      <td>54.7000</td>\n",
       "      <td>126900.0</td>\n",
       "      <td>-0.000731</td>\n",
       "      <td>3507166.0</td>\n",
       "      <td>3.486527e+06</td>\n",
       "      <td>1</td>\n",
       "    </tr>\n",
       "    <tr>\n",
       "      <th>258</th>\n",
       "      <td>2011-08-31</td>\n",
       "      <td>0111145D UN Equity</td>\n",
       "      <td>55.6000</td>\n",
       "      <td>130817.0</td>\n",
       "      <td>0.016453</td>\n",
       "      <td>3637983.0</td>\n",
       "      <td>3.505459e+06</td>\n",
       "      <td>1</td>\n",
       "    </tr>\n",
       "    <tr>\n",
       "      <th>259</th>\n",
       "      <td>2011-09-30</td>\n",
       "      <td>0111145D UN Equity</td>\n",
       "      <td>55.0100</td>\n",
       "      <td>214629.0</td>\n",
       "      <td>-0.010612</td>\n",
       "      <td>3423354.0</td>\n",
       "      <td>3.495196e+06</td>\n",
       "      <td>0</td>\n",
       "    </tr>\n",
       "    <tr>\n",
       "      <th>260</th>\n",
       "      <td>2011-10-31</td>\n",
       "      <td>0111145D UN Equity</td>\n",
       "      <td>56.2500</td>\n",
       "      <td>107938.0</td>\n",
       "      <td>0.022541</td>\n",
       "      <td>3531292.0</td>\n",
       "      <td>3.499708e+06</td>\n",
       "      <td>1</td>\n",
       "    </tr>\n",
       "    <tr>\n",
       "      <th>261</th>\n",
       "      <td>2011-11-30</td>\n",
       "      <td>0111145D UN Equity</td>\n",
       "      <td>56.1200</td>\n",
       "      <td>210602.0</td>\n",
       "      <td>-0.002311</td>\n",
       "      <td>3320690.0</td>\n",
       "      <td>3.477330e+06</td>\n",
       "      <td>0</td>\n",
       "    </tr>\n",
       "  </tbody>\n",
       "</table>\n",
       "<p>262 rows × 8 columns</p>\n",
       "</div>"
      ],
      "text/plain": [
       "           date              permno    price    volume      rets        OBV  \\\n",
       "0    1990-02-28  0111145D UN Equity  22.0000  141600.0  0.063444        0.0   \n",
       "1    1990-03-30  0111145D UN Equity  19.5000   32400.0 -0.113636   -32400.0   \n",
       "2    1990-04-30  0111145D UN Equity  17.6250  219400.0 -0.096154  -251800.0   \n",
       "3    1990-05-31  0111145D UN Equity  19.8125  128800.0  0.124113  -123000.0   \n",
       "4    1990-06-29  0111145D UN Equity  18.9375   32200.0 -0.044164  -155200.0   \n",
       "..          ...                 ...      ...       ...       ...        ...   \n",
       "257  2011-07-29  0111145D UN Equity  54.7000  126900.0 -0.000731  3507166.0   \n",
       "258  2011-08-31  0111145D UN Equity  55.6000  130817.0  0.016453  3637983.0   \n",
       "259  2011-09-30  0111145D UN Equity  55.0100  214629.0 -0.010612  3423354.0   \n",
       "260  2011-10-31  0111145D UN Equity  56.2500  107938.0  0.022541  3531292.0   \n",
       "261  2011-11-30  0111145D UN Equity  56.1200  210602.0 -0.002311  3320690.0   \n",
       "\n",
       "          OBV_ewm  signal  \n",
       "0    0.000000e+00       0  \n",
       "1   -1.728000e+04       0  \n",
       "2   -1.060923e+05       0  \n",
       "3   -1.111995e+05       0  \n",
       "4   -1.224912e+05       0  \n",
       "..            ...     ...  \n",
       "257  3.486527e+06       1  \n",
       "258  3.505459e+06       1  \n",
       "259  3.495196e+06       0  \n",
       "260  3.499708e+06       1  \n",
       "261  3.477330e+06       0  \n",
       "\n",
       "[262 rows x 8 columns]"
      ]
     },
     "execution_count": 180,
     "metadata": {},
     "output_type": "execute_result"
    }
   ],
   "source": [
    "data[data.permno==\"0111145D UN Equity\"]"
   ]
  },
  {
   "cell_type": "markdown",
   "id": "c3ae5db2",
   "metadata": {},
   "source": [
    "#### 5. Get Trading Signals"
   ]
  },
  {
   "cell_type": "code",
   "execution_count": 181,
   "id": "e7484a12",
   "metadata": {},
   "outputs": [
    {
     "data": {
      "text/html": [
       "<div>\n",
       "<style scoped>\n",
       "    .dataframe tbody tr th:only-of-type {\n",
       "        vertical-align: middle;\n",
       "    }\n",
       "\n",
       "    .dataframe tbody tr th {\n",
       "        vertical-align: top;\n",
       "    }\n",
       "\n",
       "    .dataframe thead th {\n",
       "        text-align: right;\n",
       "    }\n",
       "</style>\n",
       "<table border=\"1\" class=\"dataframe\">\n",
       "  <thead>\n",
       "    <tr style=\"text-align: right;\">\n",
       "      <th></th>\n",
       "      <th>date</th>\n",
       "      <th>permno</th>\n",
       "      <th>price</th>\n",
       "      <th>volume</th>\n",
       "      <th>rets</th>\n",
       "      <th>OBV</th>\n",
       "      <th>OBV_ewm</th>\n",
       "      <th>signal</th>\n",
       "      <th>position</th>\n",
       "    </tr>\n",
       "  </thead>\n",
       "  <tbody>\n",
       "    <tr>\n",
       "      <th>0</th>\n",
       "      <td>1990-02-28</td>\n",
       "      <td>0111145D UN Equity</td>\n",
       "      <td>22.0000</td>\n",
       "      <td>141600.0</td>\n",
       "      <td>0.063444</td>\n",
       "      <td>0.0</td>\n",
       "      <td>0.000000e+00</td>\n",
       "      <td>0</td>\n",
       "      <td>NaN</td>\n",
       "    </tr>\n",
       "    <tr>\n",
       "      <th>1</th>\n",
       "      <td>1990-03-30</td>\n",
       "      <td>0111145D UN Equity</td>\n",
       "      <td>19.5000</td>\n",
       "      <td>32400.0</td>\n",
       "      <td>-0.113636</td>\n",
       "      <td>-32400.0</td>\n",
       "      <td>-1.728000e+04</td>\n",
       "      <td>0</td>\n",
       "      <td>0.0</td>\n",
       "    </tr>\n",
       "    <tr>\n",
       "      <th>2</th>\n",
       "      <td>1990-04-30</td>\n",
       "      <td>0111145D UN Equity</td>\n",
       "      <td>17.6250</td>\n",
       "      <td>219400.0</td>\n",
       "      <td>-0.096154</td>\n",
       "      <td>-251800.0</td>\n",
       "      <td>-1.060923e+05</td>\n",
       "      <td>0</td>\n",
       "      <td>0.0</td>\n",
       "    </tr>\n",
       "    <tr>\n",
       "      <th>3</th>\n",
       "      <td>1990-05-31</td>\n",
       "      <td>0111145D UN Equity</td>\n",
       "      <td>19.8125</td>\n",
       "      <td>128800.0</td>\n",
       "      <td>0.124113</td>\n",
       "      <td>-123000.0</td>\n",
       "      <td>-1.111995e+05</td>\n",
       "      <td>0</td>\n",
       "      <td>0.0</td>\n",
       "    </tr>\n",
       "    <tr>\n",
       "      <th>4</th>\n",
       "      <td>1990-06-29</td>\n",
       "      <td>0111145D UN Equity</td>\n",
       "      <td>18.9375</td>\n",
       "      <td>32200.0</td>\n",
       "      <td>-0.044164</td>\n",
       "      <td>-155200.0</td>\n",
       "      <td>-1.224912e+05</td>\n",
       "      <td>0</td>\n",
       "      <td>0.0</td>\n",
       "    </tr>\n",
       "    <tr>\n",
       "      <th>...</th>\n",
       "      <td>...</td>\n",
       "      <td>...</td>\n",
       "      <td>...</td>\n",
       "      <td>...</td>\n",
       "      <td>...</td>\n",
       "      <td>...</td>\n",
       "      <td>...</td>\n",
       "      <td>...</td>\n",
       "      <td>...</td>\n",
       "    </tr>\n",
       "    <tr>\n",
       "      <th>297922</th>\n",
       "      <td>2022-04-29</td>\n",
       "      <td>J UN Equity</td>\n",
       "      <td>138.5500</td>\n",
       "      <td>304510.0</td>\n",
       "      <td>0.005370</td>\n",
       "      <td>11288256.0</td>\n",
       "      <td>2.636634e+07</td>\n",
       "      <td>0</td>\n",
       "      <td>0.0</td>\n",
       "    </tr>\n",
       "    <tr>\n",
       "      <th>297923</th>\n",
       "      <td>2022-05-31</td>\n",
       "      <td>J UN Equity</td>\n",
       "      <td>140.0900</td>\n",
       "      <td>439716.0</td>\n",
       "      <td>0.011115</td>\n",
       "      <td>11727972.0</td>\n",
       "      <td>2.607408e+07</td>\n",
       "      <td>0</td>\n",
       "      <td>0.0</td>\n",
       "    </tr>\n",
       "    <tr>\n",
       "      <th>297924</th>\n",
       "      <td>2022-06-30</td>\n",
       "      <td>J UN Equity</td>\n",
       "      <td>127.1300</td>\n",
       "      <td>361201.0</td>\n",
       "      <td>-0.092512</td>\n",
       "      <td>11366771.0</td>\n",
       "      <td>2.594201e+07</td>\n",
       "      <td>0</td>\n",
       "      <td>0.0</td>\n",
       "    </tr>\n",
       "    <tr>\n",
       "      <th>297925</th>\n",
       "      <td>2022-07-29</td>\n",
       "      <td>J UN Equity</td>\n",
       "      <td>137.3000</td>\n",
       "      <td>214654.0</td>\n",
       "      <td>0.079997</td>\n",
       "      <td>11581425.0</td>\n",
       "      <td>2.592299e+07</td>\n",
       "      <td>0</td>\n",
       "      <td>0.0</td>\n",
       "    </tr>\n",
       "    <tr>\n",
       "      <th>297926</th>\n",
       "      <td>2022-08-30</td>\n",
       "      <td>J UN Equity</td>\n",
       "      <td>124.4400</td>\n",
       "      <td>162011.0</td>\n",
       "      <td>-0.093664</td>\n",
       "      <td>11419414.0</td>\n",
       "      <td>2.585017e+07</td>\n",
       "      <td>0</td>\n",
       "      <td>0.0</td>\n",
       "    </tr>\n",
       "  </tbody>\n",
       "</table>\n",
       "<p>297927 rows × 9 columns</p>\n",
       "</div>"
      ],
      "text/plain": [
       "              date              permno     price    volume      rets  \\\n",
       "0       1990-02-28  0111145D UN Equity   22.0000  141600.0  0.063444   \n",
       "1       1990-03-30  0111145D UN Equity   19.5000   32400.0 -0.113636   \n",
       "2       1990-04-30  0111145D UN Equity   17.6250  219400.0 -0.096154   \n",
       "3       1990-05-31  0111145D UN Equity   19.8125  128800.0  0.124113   \n",
       "4       1990-06-29  0111145D UN Equity   18.9375   32200.0 -0.044164   \n",
       "...            ...                 ...       ...       ...       ...   \n",
       "297922  2022-04-29         J UN Equity  138.5500  304510.0  0.005370   \n",
       "297923  2022-05-31         J UN Equity  140.0900  439716.0  0.011115   \n",
       "297924  2022-06-30         J UN Equity  127.1300  361201.0 -0.092512   \n",
       "297925  2022-07-29         J UN Equity  137.3000  214654.0  0.079997   \n",
       "297926  2022-08-30         J UN Equity  124.4400  162011.0 -0.093664   \n",
       "\n",
       "               OBV       OBV_ewm  signal  position  \n",
       "0              0.0  0.000000e+00       0       NaN  \n",
       "1         -32400.0 -1.728000e+04       0       0.0  \n",
       "2        -251800.0 -1.060923e+05       0       0.0  \n",
       "3        -123000.0 -1.111995e+05       0       0.0  \n",
       "4        -155200.0 -1.224912e+05       0       0.0  \n",
       "...            ...           ...     ...       ...  \n",
       "297922  11288256.0  2.636634e+07       0       0.0  \n",
       "297923  11727972.0  2.607408e+07       0       0.0  \n",
       "297924  11366771.0  2.594201e+07       0       0.0  \n",
       "297925  11581425.0  2.592299e+07       0       0.0  \n",
       "297926  11419414.0  2.585017e+07       0       0.0  \n",
       "\n",
       "[297927 rows x 9 columns]"
      ]
     },
     "execution_count": 181,
     "metadata": {},
     "output_type": "execute_result"
    }
   ],
   "source": [
    "data.loc[:,\"position\"] = data.groupby(\"permno\")[\"signal\"].diff()\n",
    "data\n",
    "# position = 1 -> buy\n",
    "# position = -1 -> sell"
   ]
  },
  {
   "cell_type": "code",
   "execution_count": 182,
   "id": "831b0ab9",
   "metadata": {},
   "outputs": [],
   "source": [
    "# shift position (trading decision) by two days\n",
    "data.loc[:,\"position\"] = data.groupby(\"permno\")[\"position\"].shift(2)"
   ]
  },
  {
   "cell_type": "code",
   "execution_count": 183,
   "id": "1c6b0533",
   "metadata": {},
   "outputs": [
    {
     "data": {
      "text/html": [
       "<div>\n",
       "<style scoped>\n",
       "    .dataframe tbody tr th:only-of-type {\n",
       "        vertical-align: middle;\n",
       "    }\n",
       "\n",
       "    .dataframe tbody tr th {\n",
       "        vertical-align: top;\n",
       "    }\n",
       "\n",
       "    .dataframe thead th {\n",
       "        text-align: right;\n",
       "    }\n",
       "</style>\n",
       "<table border=\"1\" class=\"dataframe\">\n",
       "  <thead>\n",
       "    <tr style=\"text-align: right;\">\n",
       "      <th></th>\n",
       "      <th>date</th>\n",
       "      <th>permno</th>\n",
       "      <th>price</th>\n",
       "      <th>volume</th>\n",
       "      <th>rets</th>\n",
       "      <th>OBV</th>\n",
       "      <th>OBV_ewm</th>\n",
       "      <th>signal</th>\n",
       "      <th>position</th>\n",
       "    </tr>\n",
       "  </thead>\n",
       "  <tbody>\n",
       "    <tr>\n",
       "      <th>0</th>\n",
       "      <td>1990-02-28</td>\n",
       "      <td>0111145D UN Equity</td>\n",
       "      <td>22.0000</td>\n",
       "      <td>141600.0</td>\n",
       "      <td>0.063444</td>\n",
       "      <td>0.0</td>\n",
       "      <td>0.000000e+00</td>\n",
       "      <td>0</td>\n",
       "      <td>NaN</td>\n",
       "    </tr>\n",
       "    <tr>\n",
       "      <th>1</th>\n",
       "      <td>1990-03-30</td>\n",
       "      <td>0111145D UN Equity</td>\n",
       "      <td>19.5000</td>\n",
       "      <td>32400.0</td>\n",
       "      <td>-0.113636</td>\n",
       "      <td>-32400.0</td>\n",
       "      <td>-1.728000e+04</td>\n",
       "      <td>0</td>\n",
       "      <td>NaN</td>\n",
       "    </tr>\n",
       "    <tr>\n",
       "      <th>2</th>\n",
       "      <td>1990-04-30</td>\n",
       "      <td>0111145D UN Equity</td>\n",
       "      <td>17.6250</td>\n",
       "      <td>219400.0</td>\n",
       "      <td>-0.096154</td>\n",
       "      <td>-251800.0</td>\n",
       "      <td>-1.060923e+05</td>\n",
       "      <td>0</td>\n",
       "      <td>NaN</td>\n",
       "    </tr>\n",
       "    <tr>\n",
       "      <th>3</th>\n",
       "      <td>1990-05-31</td>\n",
       "      <td>0111145D UN Equity</td>\n",
       "      <td>19.8125</td>\n",
       "      <td>128800.0</td>\n",
       "      <td>0.124113</td>\n",
       "      <td>-123000.0</td>\n",
       "      <td>-1.111995e+05</td>\n",
       "      <td>0</td>\n",
       "      <td>0.0</td>\n",
       "    </tr>\n",
       "    <tr>\n",
       "      <th>4</th>\n",
       "      <td>1990-06-29</td>\n",
       "      <td>0111145D UN Equity</td>\n",
       "      <td>18.9375</td>\n",
       "      <td>32200.0</td>\n",
       "      <td>-0.044164</td>\n",
       "      <td>-155200.0</td>\n",
       "      <td>-1.224912e+05</td>\n",
       "      <td>0</td>\n",
       "      <td>0.0</td>\n",
       "    </tr>\n",
       "    <tr>\n",
       "      <th>...</th>\n",
       "      <td>...</td>\n",
       "      <td>...</td>\n",
       "      <td>...</td>\n",
       "      <td>...</td>\n",
       "      <td>...</td>\n",
       "      <td>...</td>\n",
       "      <td>...</td>\n",
       "      <td>...</td>\n",
       "      <td>...</td>\n",
       "    </tr>\n",
       "    <tr>\n",
       "      <th>297922</th>\n",
       "      <td>2022-04-29</td>\n",
       "      <td>J UN Equity</td>\n",
       "      <td>138.5500</td>\n",
       "      <td>304510.0</td>\n",
       "      <td>0.005370</td>\n",
       "      <td>11288256.0</td>\n",
       "      <td>2.636634e+07</td>\n",
       "      <td>0</td>\n",
       "      <td>0.0</td>\n",
       "    </tr>\n",
       "    <tr>\n",
       "      <th>297923</th>\n",
       "      <td>2022-05-31</td>\n",
       "      <td>J UN Equity</td>\n",
       "      <td>140.0900</td>\n",
       "      <td>439716.0</td>\n",
       "      <td>0.011115</td>\n",
       "      <td>11727972.0</td>\n",
       "      <td>2.607408e+07</td>\n",
       "      <td>0</td>\n",
       "      <td>0.0</td>\n",
       "    </tr>\n",
       "    <tr>\n",
       "      <th>297924</th>\n",
       "      <td>2022-06-30</td>\n",
       "      <td>J UN Equity</td>\n",
       "      <td>127.1300</td>\n",
       "      <td>361201.0</td>\n",
       "      <td>-0.092512</td>\n",
       "      <td>11366771.0</td>\n",
       "      <td>2.594201e+07</td>\n",
       "      <td>0</td>\n",
       "      <td>0.0</td>\n",
       "    </tr>\n",
       "    <tr>\n",
       "      <th>297925</th>\n",
       "      <td>2022-07-29</td>\n",
       "      <td>J UN Equity</td>\n",
       "      <td>137.3000</td>\n",
       "      <td>214654.0</td>\n",
       "      <td>0.079997</td>\n",
       "      <td>11581425.0</td>\n",
       "      <td>2.592299e+07</td>\n",
       "      <td>0</td>\n",
       "      <td>0.0</td>\n",
       "    </tr>\n",
       "    <tr>\n",
       "      <th>297926</th>\n",
       "      <td>2022-08-30</td>\n",
       "      <td>J UN Equity</td>\n",
       "      <td>124.4400</td>\n",
       "      <td>162011.0</td>\n",
       "      <td>-0.093664</td>\n",
       "      <td>11419414.0</td>\n",
       "      <td>2.585017e+07</td>\n",
       "      <td>0</td>\n",
       "      <td>0.0</td>\n",
       "    </tr>\n",
       "  </tbody>\n",
       "</table>\n",
       "<p>297927 rows × 9 columns</p>\n",
       "</div>"
      ],
      "text/plain": [
       "              date              permno     price    volume      rets  \\\n",
       "0       1990-02-28  0111145D UN Equity   22.0000  141600.0  0.063444   \n",
       "1       1990-03-30  0111145D UN Equity   19.5000   32400.0 -0.113636   \n",
       "2       1990-04-30  0111145D UN Equity   17.6250  219400.0 -0.096154   \n",
       "3       1990-05-31  0111145D UN Equity   19.8125  128800.0  0.124113   \n",
       "4       1990-06-29  0111145D UN Equity   18.9375   32200.0 -0.044164   \n",
       "...            ...                 ...       ...       ...       ...   \n",
       "297922  2022-04-29         J UN Equity  138.5500  304510.0  0.005370   \n",
       "297923  2022-05-31         J UN Equity  140.0900  439716.0  0.011115   \n",
       "297924  2022-06-30         J UN Equity  127.1300  361201.0 -0.092512   \n",
       "297925  2022-07-29         J UN Equity  137.3000  214654.0  0.079997   \n",
       "297926  2022-08-30         J UN Equity  124.4400  162011.0 -0.093664   \n",
       "\n",
       "               OBV       OBV_ewm  signal  position  \n",
       "0              0.0  0.000000e+00       0       NaN  \n",
       "1         -32400.0 -1.728000e+04       0       NaN  \n",
       "2        -251800.0 -1.060923e+05       0       NaN  \n",
       "3        -123000.0 -1.111995e+05       0       0.0  \n",
       "4        -155200.0 -1.224912e+05       0       0.0  \n",
       "...            ...           ...     ...       ...  \n",
       "297922  11288256.0  2.636634e+07       0       0.0  \n",
       "297923  11727972.0  2.607408e+07       0       0.0  \n",
       "297924  11366771.0  2.594201e+07       0       0.0  \n",
       "297925  11581425.0  2.592299e+07       0       0.0  \n",
       "297926  11419414.0  2.585017e+07       0       0.0  \n",
       "\n",
       "[297927 rows x 9 columns]"
      ]
     },
     "execution_count": 183,
     "metadata": {},
     "output_type": "execute_result"
    }
   ],
   "source": [
    "data"
   ]
  },
  {
   "cell_type": "markdown",
   "id": "b6be51c6",
   "metadata": {},
   "source": [
    "#### 6. Get Returns of Trading Strategy"
   ]
  },
  {
   "cell_type": "code",
   "execution_count": 184,
   "id": "48f2b758",
   "metadata": {},
   "outputs": [],
   "source": [
    "# get returns for strategy\n",
    "data[\"vol_rets\"] = data.groupby(\"permno\")[\"signal\"].shift(2) * data.rets"
   ]
  },
  {
   "cell_type": "code",
   "execution_count": 185,
   "id": "aff602ae",
   "metadata": {},
   "outputs": [],
   "source": [
    "strategy_returns = data.groupby(\"date\")[\"vol_rets\"].mean().reset_index()"
   ]
  },
  {
   "cell_type": "code",
   "execution_count": 186,
   "id": "c3ef5e47",
   "metadata": {},
   "outputs": [],
   "source": [
    "strategy_returns.date = pd.to_datetime(strategy_returns.date)"
   ]
  },
  {
   "cell_type": "code",
   "execution_count": 187,
   "id": "2dc22f1e",
   "metadata": {},
   "outputs": [],
   "source": [
    "strategy_returns = strategy_returns.dropna()"
   ]
  },
  {
   "cell_type": "code",
   "execution_count": 188,
   "id": "01e2e46c",
   "metadata": {},
   "outputs": [],
   "source": [
    "strategy_returns[\"vol_cum_rets\"] = (strategy_returns.vol_rets +1).cumprod()"
   ]
  },
  {
   "cell_type": "markdown",
   "id": "d2add79a",
   "metadata": {},
   "source": [
    "### Evaluation"
   ]
  },
  {
   "cell_type": "code",
   "execution_count": 189,
   "id": "fb1e2a61",
   "metadata": {
    "scrolled": false
   },
   "outputs": [
    {
     "name": "stderr",
     "output_type": "stream",
     "text": [
      "/Library/Frameworks/Python.framework/Versions/3.9/lib/python3.9/site-packages/_plotly_utils/basevalidators.py:105: FutureWarning:\n",
      "\n",
      "The behavior of DatetimeProperties.to_pydatetime is deprecated, in a future version this will return a Series containing python datetime objects instead of an ndarray. To retain the old behavior, call `np.array` on the result\n",
      "\n"
     ]
    },
    {
     "data": {
      "application/vnd.plotly.v1+json": {
       "config": {
        "plotlyServerURL": "https://plot.ly"
       },
       "data": [
        {
         "hovertemplate": "date=%{x}<br>Cumulative returns=%{y}<extra></extra>",
         "legendgroup": "",
         "line": {
          "color": "#636efa",
          "dash": "solid"
         },
         "marker": {
          "symbol": "circle"
         },
         "mode": "lines",
         "name": "",
         "orientation": "v",
         "showlegend": false,
         "type": "scatter",
         "x": [
          "1990-04-30T00:00:00",
          "1990-05-31T00:00:00",
          "1990-06-29T00:00:00",
          "1990-07-31T00:00:00",
          "1990-08-31T00:00:00",
          "1990-09-28T00:00:00",
          "1990-10-31T00:00:00",
          "1990-11-30T00:00:00",
          "1990-12-31T00:00:00",
          "1991-01-31T00:00:00",
          "1991-02-28T00:00:00",
          "1991-03-28T00:00:00",
          "1991-04-30T00:00:00",
          "1991-05-31T00:00:00",
          "1991-06-28T00:00:00",
          "1991-07-31T00:00:00",
          "1991-08-30T00:00:00",
          "1991-09-30T00:00:00",
          "1991-10-31T00:00:00",
          "1991-11-29T00:00:00",
          "1991-12-31T00:00:00",
          "1992-01-31T00:00:00",
          "1992-02-28T00:00:00",
          "1992-03-31T00:00:00",
          "1992-04-30T00:00:00",
          "1992-05-29T00:00:00",
          "1992-06-30T00:00:00",
          "1992-07-31T00:00:00",
          "1992-08-31T00:00:00",
          "1992-09-30T00:00:00",
          "1992-10-30T00:00:00",
          "1992-11-30T00:00:00",
          "1992-12-31T00:00:00",
          "1993-01-29T00:00:00",
          "1993-02-26T00:00:00",
          "1993-03-31T00:00:00",
          "1993-04-30T00:00:00",
          "1993-05-28T00:00:00",
          "1993-06-30T00:00:00",
          "1993-07-30T00:00:00",
          "1993-08-31T00:00:00",
          "1993-09-30T00:00:00",
          "1993-10-29T00:00:00",
          "1993-11-30T00:00:00",
          "1993-12-31T00:00:00",
          "1994-01-31T00:00:00",
          "1994-02-28T00:00:00",
          "1994-03-31T00:00:00",
          "1994-04-29T00:00:00",
          "1994-05-31T00:00:00",
          "1994-06-30T00:00:00",
          "1994-07-29T00:00:00",
          "1994-08-31T00:00:00",
          "1994-09-30T00:00:00",
          "1994-10-31T00:00:00",
          "1994-11-30T00:00:00",
          "1994-12-30T00:00:00",
          "1995-01-31T00:00:00",
          "1995-02-28T00:00:00",
          "1995-03-31T00:00:00",
          "1995-04-28T00:00:00",
          "1995-05-31T00:00:00",
          "1995-06-30T00:00:00",
          "1995-07-31T00:00:00",
          "1995-08-31T00:00:00",
          "1995-09-29T00:00:00",
          "1995-10-31T00:00:00",
          "1995-11-30T00:00:00",
          "1995-12-29T00:00:00",
          "1996-01-31T00:00:00",
          "1996-02-29T00:00:00",
          "1996-03-29T00:00:00",
          "1996-04-30T00:00:00",
          "1996-05-31T00:00:00",
          "1996-06-28T00:00:00",
          "1996-07-31T00:00:00",
          "1996-08-30T00:00:00",
          "1996-09-30T00:00:00",
          "1996-10-31T00:00:00",
          "1996-11-29T00:00:00",
          "1996-12-31T00:00:00",
          "1997-01-31T00:00:00",
          "1997-02-28T00:00:00",
          "1997-03-31T00:00:00",
          "1997-04-30T00:00:00",
          "1997-05-30T00:00:00",
          "1997-06-30T00:00:00",
          "1997-07-31T00:00:00",
          "1997-08-29T00:00:00",
          "1997-09-30T00:00:00",
          "1997-10-31T00:00:00",
          "1997-11-28T00:00:00",
          "1997-12-31T00:00:00",
          "1998-01-30T00:00:00",
          "1998-02-27T00:00:00",
          "1998-03-31T00:00:00",
          "1998-04-30T00:00:00",
          "1998-05-29T00:00:00",
          "1998-06-30T00:00:00",
          "1998-07-31T00:00:00",
          "1998-08-31T00:00:00",
          "1998-09-30T00:00:00",
          "1998-10-30T00:00:00",
          "1998-11-30T00:00:00",
          "1998-12-31T00:00:00",
          "1999-01-29T00:00:00",
          "1999-02-26T00:00:00",
          "1999-03-31T00:00:00",
          "1999-04-30T00:00:00",
          "1999-05-28T00:00:00",
          "1999-06-30T00:00:00",
          "1999-07-30T00:00:00",
          "1999-08-31T00:00:00",
          "1999-09-30T00:00:00",
          "1999-10-29T00:00:00",
          "1999-11-30T00:00:00",
          "1999-12-31T00:00:00",
          "2000-01-31T00:00:00",
          "2000-02-29T00:00:00",
          "2000-03-31T00:00:00",
          "2000-04-28T00:00:00",
          "2000-05-31T00:00:00",
          "2000-06-30T00:00:00",
          "2000-07-31T00:00:00",
          "2000-08-31T00:00:00",
          "2000-09-29T00:00:00",
          "2000-10-31T00:00:00",
          "2000-11-30T00:00:00",
          "2000-12-29T00:00:00",
          "2001-01-31T00:00:00",
          "2001-02-28T00:00:00",
          "2001-03-30T00:00:00",
          "2001-04-30T00:00:00",
          "2001-05-31T00:00:00",
          "2001-06-29T00:00:00",
          "2001-07-31T00:00:00",
          "2001-08-31T00:00:00",
          "2001-09-28T00:00:00",
          "2001-10-31T00:00:00",
          "2001-11-30T00:00:00",
          "2001-12-31T00:00:00",
          "2002-01-31T00:00:00",
          "2002-02-28T00:00:00",
          "2002-03-28T00:00:00",
          "2002-04-30T00:00:00",
          "2002-05-31T00:00:00",
          "2002-06-28T00:00:00",
          "2002-07-31T00:00:00",
          "2002-08-30T00:00:00",
          "2002-09-30T00:00:00",
          "2002-10-31T00:00:00",
          "2002-11-29T00:00:00",
          "2002-12-31T00:00:00",
          "2003-01-31T00:00:00",
          "2003-02-28T00:00:00",
          "2003-03-31T00:00:00",
          "2003-04-30T00:00:00",
          "2003-05-30T00:00:00",
          "2003-06-30T00:00:00",
          "2003-07-31T00:00:00",
          "2003-08-29T00:00:00",
          "2003-09-30T00:00:00",
          "2003-10-31T00:00:00",
          "2003-11-28T00:00:00",
          "2003-12-31T00:00:00",
          "2004-01-30T00:00:00",
          "2004-02-27T00:00:00",
          "2004-03-31T00:00:00",
          "2004-04-30T00:00:00",
          "2004-05-28T00:00:00",
          "2004-06-30T00:00:00",
          "2004-07-30T00:00:00",
          "2004-08-31T00:00:00",
          "2004-09-30T00:00:00",
          "2004-10-29T00:00:00",
          "2004-11-30T00:00:00",
          "2004-12-31T00:00:00",
          "2005-01-31T00:00:00",
          "2005-02-28T00:00:00",
          "2005-03-31T00:00:00",
          "2005-04-29T00:00:00",
          "2005-05-31T00:00:00",
          "2005-06-30T00:00:00",
          "2005-07-29T00:00:00",
          "2005-08-31T00:00:00",
          "2005-09-30T00:00:00",
          "2005-10-31T00:00:00",
          "2005-11-30T00:00:00",
          "2005-12-30T00:00:00",
          "2006-01-31T00:00:00",
          "2006-02-28T00:00:00",
          "2006-03-31T00:00:00",
          "2006-04-28T00:00:00",
          "2006-05-31T00:00:00",
          "2006-06-30T00:00:00",
          "2006-07-31T00:00:00",
          "2006-08-31T00:00:00",
          "2006-09-29T00:00:00",
          "2006-10-31T00:00:00",
          "2006-11-30T00:00:00",
          "2006-12-29T00:00:00",
          "2007-01-31T00:00:00",
          "2007-02-28T00:00:00",
          "2007-03-30T00:00:00",
          "2007-04-30T00:00:00",
          "2007-05-31T00:00:00",
          "2007-06-29T00:00:00",
          "2007-07-31T00:00:00",
          "2007-08-31T00:00:00",
          "2007-09-28T00:00:00",
          "2007-10-31T00:00:00",
          "2007-11-30T00:00:00",
          "2007-12-31T00:00:00",
          "2008-01-31T00:00:00",
          "2008-02-29T00:00:00",
          "2008-03-31T00:00:00",
          "2008-04-30T00:00:00",
          "2008-05-30T00:00:00",
          "2008-06-30T00:00:00",
          "2008-07-31T00:00:00",
          "2008-08-29T00:00:00",
          "2008-09-30T00:00:00",
          "2008-10-31T00:00:00",
          "2008-11-28T00:00:00",
          "2008-12-31T00:00:00",
          "2009-01-30T00:00:00",
          "2009-02-27T00:00:00",
          "2009-03-31T00:00:00",
          "2009-04-30T00:00:00",
          "2009-05-29T00:00:00",
          "2009-06-30T00:00:00",
          "2009-07-31T00:00:00",
          "2009-08-31T00:00:00",
          "2009-09-30T00:00:00",
          "2009-10-30T00:00:00",
          "2009-11-30T00:00:00",
          "2009-12-31T00:00:00",
          "2010-01-29T00:00:00",
          "2010-02-26T00:00:00",
          "2010-03-31T00:00:00",
          "2010-04-30T00:00:00",
          "2010-05-28T00:00:00",
          "2010-06-30T00:00:00",
          "2010-07-30T00:00:00",
          "2010-08-31T00:00:00",
          "2010-09-30T00:00:00",
          "2010-10-29T00:00:00",
          "2010-11-30T00:00:00",
          "2010-12-31T00:00:00",
          "2011-01-31T00:00:00",
          "2011-02-28T00:00:00",
          "2011-03-31T00:00:00",
          "2011-04-29T00:00:00",
          "2011-05-31T00:00:00",
          "2011-06-30T00:00:00",
          "2011-07-29T00:00:00",
          "2011-08-31T00:00:00",
          "2011-09-30T00:00:00",
          "2011-10-31T00:00:00",
          "2011-11-30T00:00:00",
          "2011-12-30T00:00:00",
          "2012-01-31T00:00:00",
          "2012-02-29T00:00:00",
          "2012-03-30T00:00:00",
          "2012-04-30T00:00:00",
          "2012-05-31T00:00:00",
          "2012-06-29T00:00:00",
          "2012-07-31T00:00:00",
          "2012-08-31T00:00:00",
          "2012-09-28T00:00:00",
          "2012-10-31T00:00:00",
          "2012-11-30T00:00:00",
          "2012-12-31T00:00:00",
          "2013-01-31T00:00:00",
          "2013-02-28T00:00:00",
          "2013-03-28T00:00:00",
          "2013-04-30T00:00:00",
          "2013-05-31T00:00:00",
          "2013-06-28T00:00:00",
          "2013-07-31T00:00:00",
          "2013-08-30T00:00:00",
          "2013-09-30T00:00:00",
          "2013-10-31T00:00:00",
          "2013-11-29T00:00:00",
          "2013-12-31T00:00:00",
          "2014-01-31T00:00:00",
          "2014-02-28T00:00:00",
          "2014-03-31T00:00:00",
          "2014-04-30T00:00:00",
          "2014-05-30T00:00:00",
          "2014-06-30T00:00:00",
          "2014-07-31T00:00:00",
          "2014-08-29T00:00:00",
          "2014-09-30T00:00:00",
          "2014-10-31T00:00:00",
          "2014-11-28T00:00:00",
          "2014-12-31T00:00:00",
          "2015-01-30T00:00:00",
          "2015-02-27T00:00:00",
          "2015-03-31T00:00:00",
          "2015-04-30T00:00:00",
          "2015-05-29T00:00:00",
          "2015-06-30T00:00:00",
          "2015-07-31T00:00:00",
          "2015-08-31T00:00:00",
          "2015-09-30T00:00:00",
          "2015-10-30T00:00:00",
          "2015-11-30T00:00:00",
          "2015-12-31T00:00:00",
          "2016-01-29T00:00:00",
          "2016-02-29T00:00:00",
          "2016-03-31T00:00:00",
          "2016-04-29T00:00:00",
          "2016-05-31T00:00:00",
          "2016-06-30T00:00:00",
          "2016-07-29T00:00:00",
          "2016-08-31T00:00:00",
          "2016-09-30T00:00:00",
          "2016-10-31T00:00:00",
          "2016-11-30T00:00:00",
          "2016-12-30T00:00:00",
          "2017-01-31T00:00:00",
          "2017-02-28T00:00:00",
          "2017-03-31T00:00:00",
          "2017-04-28T00:00:00",
          "2017-05-31T00:00:00",
          "2017-06-30T00:00:00",
          "2017-07-31T00:00:00",
          "2017-08-31T00:00:00",
          "2017-09-29T00:00:00",
          "2017-10-31T00:00:00",
          "2017-11-30T00:00:00",
          "2017-12-29T00:00:00",
          "2018-01-31T00:00:00",
          "2018-02-28T00:00:00",
          "2018-03-29T00:00:00",
          "2018-04-30T00:00:00",
          "2018-05-31T00:00:00",
          "2018-06-29T00:00:00",
          "2018-07-31T00:00:00",
          "2018-08-31T00:00:00",
          "2018-09-28T00:00:00",
          "2018-10-31T00:00:00",
          "2018-11-30T00:00:00",
          "2018-12-31T00:00:00",
          "2019-01-31T00:00:00",
          "2019-02-28T00:00:00",
          "2019-03-29T00:00:00",
          "2019-04-30T00:00:00",
          "2019-05-31T00:00:00",
          "2019-06-28T00:00:00",
          "2019-07-31T00:00:00",
          "2019-08-30T00:00:00",
          "2019-09-30T00:00:00",
          "2019-10-31T00:00:00",
          "2019-11-29T00:00:00",
          "2019-12-31T00:00:00",
          "2020-01-31T00:00:00",
          "2020-02-28T00:00:00",
          "2020-03-31T00:00:00",
          "2020-04-30T00:00:00",
          "2020-05-29T00:00:00",
          "2020-06-30T00:00:00",
          "2020-07-31T00:00:00",
          "2020-08-31T00:00:00",
          "2020-09-30T00:00:00",
          "2020-10-30T00:00:00",
          "2020-11-30T00:00:00",
          "2020-12-31T00:00:00",
          "2021-01-29T00:00:00",
          "2021-02-26T00:00:00",
          "2021-03-31T00:00:00",
          "2021-04-30T00:00:00",
          "2021-05-28T00:00:00",
          "2021-06-30T00:00:00",
          "2021-07-30T00:00:00",
          "2021-08-31T00:00:00",
          "2021-09-30T00:00:00",
          "2021-10-29T00:00:00",
          "2021-11-30T00:00:00",
          "2021-12-31T00:00:00",
          "2022-01-31T00:00:00",
          "2022-02-28T00:00:00",
          "2022-03-31T00:00:00",
          "2022-04-29T00:00:00",
          "2022-05-31T00:00:00",
          "2022-06-30T00:00:00",
          "2022-07-29T00:00:00",
          "2022-08-30T00:00:00"
         ],
         "xaxis": "x",
         "y": [
          0.991879640242299,
          1.0208295556910827,
          1.020783263395406,
          1.0128443143491297,
          0.97927467400387,
          0.9582260048200538,
          0.9544496844671033,
          0.9763107467982564,
          0.9903056108768665,
          1.0150897310864746,
          1.0412334629032947,
          1.05721078273545,
          1.057623743398238,
          1.0766353807860702,
          1.0560116783177051,
          1.0781657018795918,
          1.0896442515949845,
          1.0837331436728463,
          1.0990772502848338,
          1.079815155486917,
          1.1306710145556211,
          1.142422119452906,
          1.150181918100547,
          1.1312487899406602,
          1.1309018160295579,
          1.1338931072769896,
          1.119229368112464,
          1.1382647313052452,
          1.1241367905424506,
          1.1330072048162108,
          1.1470642586574944,
          1.1714696389131676,
          1.1847534343553519,
          1.1981884528995133,
          1.2008167569779205,
          1.222138527703387,
          1.2094939245480916,
          1.2332171004792567,
          1.2373749993252865,
          1.2384626232713465,
          1.2631335690130638,
          1.267776135581182,
          1.2757350985131868,
          1.2640004270476008,
          1.280020913750847,
          1.302493511465078,
          1.295896989110292,
          1.2685036369642562,
          1.2759471321999885,
          1.2761323034103247,
          1.2601722391316255,
          1.274862973192079,
          1.3062920203016128,
          1.2990416162146945,
          1.3141767550869594,
          1.2935466101930049,
          1.2990878610761314,
          1.3081365743950442,
          1.3342406296076568,
          1.3547825151261228,
          1.3709143059012647,
          1.3898330017675702,
          1.4222948570585416,
          1.453340374909262,
          1.4632240153687202,
          1.4784495837966611,
          1.4673908746969841,
          1.4974375571373622,
          1.507616161044246,
          1.5259369697772664,
          1.5413731386833884,
          1.5450592789222477,
          1.571190289340707,
          1.5845176528993048,
          1.5687346307982168,
          1.528469001037883,
          1.55800322713917,
          1.6003962998669197,
          1.6112522287774402,
          1.6585075840754455,
          1.651038019857501,
          1.6939896846431342,
          1.6904865015963166,
          1.6571650345622642,
          1.6801042176324572,
          1.7501334614115411,
          1.7784284908846537,
          1.8579056235499762,
          1.8442309395348215,
          1.907738583217733,
          1.863788827168033,
          1.882342041451969,
          1.900422745856623,
          1.901018901293073,
          1.9859576433700967,
          2.029251795592238,
          2.046770218737398,
          2.0096778424224673,
          2.038629238462889,
          2.003278226288312,
          1.8208083560568709,
          1.8995462038591229,
          1.9937881337777987,
          2.055127135007362,
          2.134734389751981,
          2.1740504572506194,
          2.13396270171564,
          2.1858825515592653,
          2.2638653323200018,
          2.268215334261912,
          2.338908521050793,
          2.313460481140648,
          2.306696841369913,
          2.2787441827407973,
          2.328143210634524,
          2.3710186081753193,
          2.4796748970161318,
          2.43777584507545,
          2.4844128031605712,
          2.592750539932563,
          2.565254999510671,
          2.54969035895885,
          2.5962345483872955,
          2.606004290585156,
          2.7300805797942957,
          2.6940428746939595,
          2.684751381912229,
          2.5818592226023225,
          2.658840048356373,
          2.730318297268737,
          2.647155546735599,
          2.5710979359747714,
          2.7010178782603274,
          2.7241435947289374,
          2.715945414145162,
          2.682003251376873,
          2.6239188420576105,
          2.470197085517604,
          2.544885290360627,
          2.660572090763175,
          2.694507366433054,
          2.69873101020831,
          2.674744674931838,
          2.7586982262541806,
          2.7174978465955624,
          2.6966026429299808,
          2.6049442454904073,
          2.5006211389256,
          2.50249940934146,
          2.405726705288507,
          2.496040085212475,
          2.5708839948930216,
          2.5117626564997697,
          2.4889789518792416,
          2.4860209886785305,
          2.49115146953296,
          2.5866201279578984,
          2.6803793881503006,
          2.691713592478435,
          2.736427540400749,
          2.785679641997436,
          2.7678264074950203,
          2.871667362466859,
          2.8988031663699907,
          2.945147952780202,
          2.9892223524144677,
          3.0162130695780727,
          3.014135763916195,
          2.9758162923875426,
          3.008667687845653,
          3.0566802621196003,
          2.9880141705278795,
          2.9915108979597145,
          3.039305589453395,
          3.0666489804671895,
          3.149683303991107,
          3.208215483922654,
          3.1631768780542284,
          3.1955364041126852,
          3.177941484588733,
          3.1335756125243455,
          3.2126288619038994,
          3.2374145939112458,
          3.324423955789809,
          3.3181659340406737,
          3.342945925489733,
          3.3133106219366057,
          3.393693954285485,
          3.4019321961148794,
          3.495050657491269,
          3.485641389140734,
          3.5369046794136034,
          3.5648971746113745,
          3.4882265268839516,
          3.4851092113392594,
          3.4486784337390666,
          3.4928133904503,
          3.528996593782527,
          3.610501691160678,
          3.6661342019975427,
          3.6643970404166266,
          3.7198773351929995,
          3.7110341240822295,
          3.7309762923855856,
          3.8159539943945813,
          3.8921951635681764,
          3.8535717175470876,
          3.782243204952312,
          3.7983476273473307,
          3.863495184467143,
          3.927258760255556,
          3.8148422977986747,
          3.7991819245012084,
          3.6859991310230016,
          3.6401934094051307,
          3.621669910290995,
          3.7264139843776616,
          3.800926622834137,
          3.633582825280166,
          3.6363491082472725,
          3.6722224862752153,
          3.4825492040530928,
          3.1234734290882877,
          2.959267130527027,
          3.029554779838479,
          2.9343274972350417,
          2.790277458178592,
          2.9217514495855257,
          3.1479626177391373,
          3.212523707493605,
          3.214155153565524,
          3.358386122655079,
          3.420367265508224,
          3.5067332889334177,
          3.452292313074477,
          3.541054938317177,
          3.619680828309025,
          3.574285675006205,
          3.665097478296451,
          3.793407885114155,
          3.8630280453052968,
          3.6987929386296967,
          3.5691092376469205,
          3.7134335510790732,
          3.621988364409711,
          3.820272950192894,
          3.9015327571517635,
          3.934103813047656,
          4.078023811251214,
          4.122300335033986,
          4.21210787278895,
          4.23581209958914,
          4.315973433855881,
          4.290779279684919,
          4.245694290112968,
          4.163678110575321,
          4.009525913013884,
          3.8082212173765075,
          4.094039955338974,
          4.081202441641788,
          4.065493654129755,
          4.204793740595108,
          4.288209137558379,
          4.340523317779108,
          4.32625106304985,
          4.1617348572617585,
          4.247375279442717,
          4.24228071538668,
          4.316969998131644,
          4.366219157645397,
          4.3421449536916885,
          4.3808912101615745,
          4.428895379169541,
          4.5881184404541155,
          4.622094765799752,
          4.736031609075759,
          4.769321855671358,
          4.85247188799611,
          4.8163057282719866,
          4.975120332415539,
          4.901123460497595,
          5.031952623447171,
          5.150011923114818,
          5.214214154475478,
          5.297067979881702,
          5.218890020372827,
          5.389046734404955,
          5.397178173815795,
          5.376738467153123,
          5.451480046366763,
          5.550211227157788,
          5.466414294844068,
          5.605447505752828,
          5.5049375464368016,
          5.608624095397062,
          5.696657968787255,
          5.697302402623252,
          5.6079352737119335,
          5.800078431827718,
          5.779906169119044,
          5.7878401061307505,
          5.832066045442545,
          5.773918033974425,
          5.795234350112767,
          5.60983871220909,
          5.4882701785072046,
          5.715214493595391,
          5.719298845856193,
          5.619538416083369,
          5.420125675672076,
          5.454981044312197,
          5.687264087959028,
          5.747645495829907,
          5.795794918708444,
          5.792307894458062,
          5.95960190490675,
          5.960655854997927,
          5.96890863868891,
          5.88214801985849,
          6.107309903839358,
          6.129824624770833,
          6.217033389554518,
          6.338641182406378,
          6.33732672039944,
          6.363134136249992,
          6.368161614032633,
          6.406951376681998,
          6.463446590881407,
          6.435633462243859,
          6.563880554072264,
          6.604978353724766,
          6.741592988558503,
          6.799149137350317,
          7.0094053937226715,
          6.840442287482989,
          6.788589150264662,
          6.81770696700398,
          6.897420070691807,
          6.923101679222038,
          7.062870512064411,
          7.164379070036834,
          7.176471149854747,
          6.843937793620345,
          6.939947516795951,
          6.500443699702984,
          6.9355431965206815,
          7.08709147165843,
          7.1066150421638135,
          7.26293895742598,
          6.921663171253506,
          7.23786665195194,
          7.277851066180522,
          7.100502495148805,
          7.235998197043937,
          7.282671386209555,
          7.435958920135688,
          7.570699319978162,
          7.493813220920588,
          7.091137581755183,
          6.279013373536811,
          6.853214742585,
          7.054600548095039,
          7.117396800298926,
          7.365338740744309,
          7.597389428124081,
          7.4651666679266855,
          7.447382478900679,
          8.1701876271074,
          8.367126210564107,
          8.378574198850533,
          8.67114614753508,
          8.980897652190782,
          9.237596391496762,
          9.339594490927004,
          9.364739571904519,
          9.423293469166302,
          9.555802638325419,
          9.321068991966714,
          9.654981657316073,
          9.52567255517989,
          9.868364059743351,
          9.598984118002296,
          9.57092924141762,
          9.741887368254481,
          9.309725939319268,
          9.377571060562037,
          8.813350417874032,
          9.315838802677325,
          9.217748247091166
         ],
         "yaxis": "y"
        }
       ],
       "layout": {
        "legend": {
         "tracegroupgap": 0
        },
        "template": {
         "data": {
          "bar": [
           {
            "error_x": {
             "color": "#2a3f5f"
            },
            "error_y": {
             "color": "#2a3f5f"
            },
            "marker": {
             "line": {
              "color": "#E5ECF6",
              "width": 0.5
             },
             "pattern": {
              "fillmode": "overlay",
              "size": 10,
              "solidity": 0.2
             }
            },
            "type": "bar"
           }
          ],
          "barpolar": [
           {
            "marker": {
             "line": {
              "color": "#E5ECF6",
              "width": 0.5
             },
             "pattern": {
              "fillmode": "overlay",
              "size": 10,
              "solidity": 0.2
             }
            },
            "type": "barpolar"
           }
          ],
          "carpet": [
           {
            "aaxis": {
             "endlinecolor": "#2a3f5f",
             "gridcolor": "white",
             "linecolor": "white",
             "minorgridcolor": "white",
             "startlinecolor": "#2a3f5f"
            },
            "baxis": {
             "endlinecolor": "#2a3f5f",
             "gridcolor": "white",
             "linecolor": "white",
             "minorgridcolor": "white",
             "startlinecolor": "#2a3f5f"
            },
            "type": "carpet"
           }
          ],
          "choropleth": [
           {
            "colorbar": {
             "outlinewidth": 0,
             "ticks": ""
            },
            "type": "choropleth"
           }
          ],
          "contour": [
           {
            "colorbar": {
             "outlinewidth": 0,
             "ticks": ""
            },
            "colorscale": [
             [
              0,
              "#0d0887"
             ],
             [
              0.1111111111111111,
              "#46039f"
             ],
             [
              0.2222222222222222,
              "#7201a8"
             ],
             [
              0.3333333333333333,
              "#9c179e"
             ],
             [
              0.4444444444444444,
              "#bd3786"
             ],
             [
              0.5555555555555556,
              "#d8576b"
             ],
             [
              0.6666666666666666,
              "#ed7953"
             ],
             [
              0.7777777777777778,
              "#fb9f3a"
             ],
             [
              0.8888888888888888,
              "#fdca26"
             ],
             [
              1,
              "#f0f921"
             ]
            ],
            "type": "contour"
           }
          ],
          "contourcarpet": [
           {
            "colorbar": {
             "outlinewidth": 0,
             "ticks": ""
            },
            "type": "contourcarpet"
           }
          ],
          "heatmap": [
           {
            "colorbar": {
             "outlinewidth": 0,
             "ticks": ""
            },
            "colorscale": [
             [
              0,
              "#0d0887"
             ],
             [
              0.1111111111111111,
              "#46039f"
             ],
             [
              0.2222222222222222,
              "#7201a8"
             ],
             [
              0.3333333333333333,
              "#9c179e"
             ],
             [
              0.4444444444444444,
              "#bd3786"
             ],
             [
              0.5555555555555556,
              "#d8576b"
             ],
             [
              0.6666666666666666,
              "#ed7953"
             ],
             [
              0.7777777777777778,
              "#fb9f3a"
             ],
             [
              0.8888888888888888,
              "#fdca26"
             ],
             [
              1,
              "#f0f921"
             ]
            ],
            "type": "heatmap"
           }
          ],
          "heatmapgl": [
           {
            "colorbar": {
             "outlinewidth": 0,
             "ticks": ""
            },
            "colorscale": [
             [
              0,
              "#0d0887"
             ],
             [
              0.1111111111111111,
              "#46039f"
             ],
             [
              0.2222222222222222,
              "#7201a8"
             ],
             [
              0.3333333333333333,
              "#9c179e"
             ],
             [
              0.4444444444444444,
              "#bd3786"
             ],
             [
              0.5555555555555556,
              "#d8576b"
             ],
             [
              0.6666666666666666,
              "#ed7953"
             ],
             [
              0.7777777777777778,
              "#fb9f3a"
             ],
             [
              0.8888888888888888,
              "#fdca26"
             ],
             [
              1,
              "#f0f921"
             ]
            ],
            "type": "heatmapgl"
           }
          ],
          "histogram": [
           {
            "marker": {
             "pattern": {
              "fillmode": "overlay",
              "size": 10,
              "solidity": 0.2
             }
            },
            "type": "histogram"
           }
          ],
          "histogram2d": [
           {
            "colorbar": {
             "outlinewidth": 0,
             "ticks": ""
            },
            "colorscale": [
             [
              0,
              "#0d0887"
             ],
             [
              0.1111111111111111,
              "#46039f"
             ],
             [
              0.2222222222222222,
              "#7201a8"
             ],
             [
              0.3333333333333333,
              "#9c179e"
             ],
             [
              0.4444444444444444,
              "#bd3786"
             ],
             [
              0.5555555555555556,
              "#d8576b"
             ],
             [
              0.6666666666666666,
              "#ed7953"
             ],
             [
              0.7777777777777778,
              "#fb9f3a"
             ],
             [
              0.8888888888888888,
              "#fdca26"
             ],
             [
              1,
              "#f0f921"
             ]
            ],
            "type": "histogram2d"
           }
          ],
          "histogram2dcontour": [
           {
            "colorbar": {
             "outlinewidth": 0,
             "ticks": ""
            },
            "colorscale": [
             [
              0,
              "#0d0887"
             ],
             [
              0.1111111111111111,
              "#46039f"
             ],
             [
              0.2222222222222222,
              "#7201a8"
             ],
             [
              0.3333333333333333,
              "#9c179e"
             ],
             [
              0.4444444444444444,
              "#bd3786"
             ],
             [
              0.5555555555555556,
              "#d8576b"
             ],
             [
              0.6666666666666666,
              "#ed7953"
             ],
             [
              0.7777777777777778,
              "#fb9f3a"
             ],
             [
              0.8888888888888888,
              "#fdca26"
             ],
             [
              1,
              "#f0f921"
             ]
            ],
            "type": "histogram2dcontour"
           }
          ],
          "mesh3d": [
           {
            "colorbar": {
             "outlinewidth": 0,
             "ticks": ""
            },
            "type": "mesh3d"
           }
          ],
          "parcoords": [
           {
            "line": {
             "colorbar": {
              "outlinewidth": 0,
              "ticks": ""
             }
            },
            "type": "parcoords"
           }
          ],
          "pie": [
           {
            "automargin": true,
            "type": "pie"
           }
          ],
          "scatter": [
           {
            "fillpattern": {
             "fillmode": "overlay",
             "size": 10,
             "solidity": 0.2
            },
            "type": "scatter"
           }
          ],
          "scatter3d": [
           {
            "line": {
             "colorbar": {
              "outlinewidth": 0,
              "ticks": ""
             }
            },
            "marker": {
             "colorbar": {
              "outlinewidth": 0,
              "ticks": ""
             }
            },
            "type": "scatter3d"
           }
          ],
          "scattercarpet": [
           {
            "marker": {
             "colorbar": {
              "outlinewidth": 0,
              "ticks": ""
             }
            },
            "type": "scattercarpet"
           }
          ],
          "scattergeo": [
           {
            "marker": {
             "colorbar": {
              "outlinewidth": 0,
              "ticks": ""
             }
            },
            "type": "scattergeo"
           }
          ],
          "scattergl": [
           {
            "marker": {
             "colorbar": {
              "outlinewidth": 0,
              "ticks": ""
             }
            },
            "type": "scattergl"
           }
          ],
          "scattermapbox": [
           {
            "marker": {
             "colorbar": {
              "outlinewidth": 0,
              "ticks": ""
             }
            },
            "type": "scattermapbox"
           }
          ],
          "scatterpolar": [
           {
            "marker": {
             "colorbar": {
              "outlinewidth": 0,
              "ticks": ""
             }
            },
            "type": "scatterpolar"
           }
          ],
          "scatterpolargl": [
           {
            "marker": {
             "colorbar": {
              "outlinewidth": 0,
              "ticks": ""
             }
            },
            "type": "scatterpolargl"
           }
          ],
          "scatterternary": [
           {
            "marker": {
             "colorbar": {
              "outlinewidth": 0,
              "ticks": ""
             }
            },
            "type": "scatterternary"
           }
          ],
          "surface": [
           {
            "colorbar": {
             "outlinewidth": 0,
             "ticks": ""
            },
            "colorscale": [
             [
              0,
              "#0d0887"
             ],
             [
              0.1111111111111111,
              "#46039f"
             ],
             [
              0.2222222222222222,
              "#7201a8"
             ],
             [
              0.3333333333333333,
              "#9c179e"
             ],
             [
              0.4444444444444444,
              "#bd3786"
             ],
             [
              0.5555555555555556,
              "#d8576b"
             ],
             [
              0.6666666666666666,
              "#ed7953"
             ],
             [
              0.7777777777777778,
              "#fb9f3a"
             ],
             [
              0.8888888888888888,
              "#fdca26"
             ],
             [
              1,
              "#f0f921"
             ]
            ],
            "type": "surface"
           }
          ],
          "table": [
           {
            "cells": {
             "fill": {
              "color": "#EBF0F8"
             },
             "line": {
              "color": "white"
             }
            },
            "header": {
             "fill": {
              "color": "#C8D4E3"
             },
             "line": {
              "color": "white"
             }
            },
            "type": "table"
           }
          ]
         },
         "layout": {
          "annotationdefaults": {
           "arrowcolor": "#2a3f5f",
           "arrowhead": 0,
           "arrowwidth": 1
          },
          "autotypenumbers": "strict",
          "coloraxis": {
           "colorbar": {
            "outlinewidth": 0,
            "ticks": ""
           }
          },
          "colorscale": {
           "diverging": [
            [
             0,
             "#8e0152"
            ],
            [
             0.1,
             "#c51b7d"
            ],
            [
             0.2,
             "#de77ae"
            ],
            [
             0.3,
             "#f1b6da"
            ],
            [
             0.4,
             "#fde0ef"
            ],
            [
             0.5,
             "#f7f7f7"
            ],
            [
             0.6,
             "#e6f5d0"
            ],
            [
             0.7,
             "#b8e186"
            ],
            [
             0.8,
             "#7fbc41"
            ],
            [
             0.9,
             "#4d9221"
            ],
            [
             1,
             "#276419"
            ]
           ],
           "sequential": [
            [
             0,
             "#0d0887"
            ],
            [
             0.1111111111111111,
             "#46039f"
            ],
            [
             0.2222222222222222,
             "#7201a8"
            ],
            [
             0.3333333333333333,
             "#9c179e"
            ],
            [
             0.4444444444444444,
             "#bd3786"
            ],
            [
             0.5555555555555556,
             "#d8576b"
            ],
            [
             0.6666666666666666,
             "#ed7953"
            ],
            [
             0.7777777777777778,
             "#fb9f3a"
            ],
            [
             0.8888888888888888,
             "#fdca26"
            ],
            [
             1,
             "#f0f921"
            ]
           ],
           "sequentialminus": [
            [
             0,
             "#0d0887"
            ],
            [
             0.1111111111111111,
             "#46039f"
            ],
            [
             0.2222222222222222,
             "#7201a8"
            ],
            [
             0.3333333333333333,
             "#9c179e"
            ],
            [
             0.4444444444444444,
             "#bd3786"
            ],
            [
             0.5555555555555556,
             "#d8576b"
            ],
            [
             0.6666666666666666,
             "#ed7953"
            ],
            [
             0.7777777777777778,
             "#fb9f3a"
            ],
            [
             0.8888888888888888,
             "#fdca26"
            ],
            [
             1,
             "#f0f921"
            ]
           ]
          },
          "colorway": [
           "#636efa",
           "#EF553B",
           "#00cc96",
           "#ab63fa",
           "#FFA15A",
           "#19d3f3",
           "#FF6692",
           "#B6E880",
           "#FF97FF",
           "#FECB52"
          ],
          "font": {
           "color": "#2a3f5f"
          },
          "geo": {
           "bgcolor": "white",
           "lakecolor": "white",
           "landcolor": "#E5ECF6",
           "showlakes": true,
           "showland": true,
           "subunitcolor": "white"
          },
          "hoverlabel": {
           "align": "left"
          },
          "hovermode": "closest",
          "mapbox": {
           "style": "light"
          },
          "paper_bgcolor": "white",
          "plot_bgcolor": "#E5ECF6",
          "polar": {
           "angularaxis": {
            "gridcolor": "white",
            "linecolor": "white",
            "ticks": ""
           },
           "bgcolor": "#E5ECF6",
           "radialaxis": {
            "gridcolor": "white",
            "linecolor": "white",
            "ticks": ""
           }
          },
          "scene": {
           "xaxis": {
            "backgroundcolor": "#E5ECF6",
            "gridcolor": "white",
            "gridwidth": 2,
            "linecolor": "white",
            "showbackground": true,
            "ticks": "",
            "zerolinecolor": "white"
           },
           "yaxis": {
            "backgroundcolor": "#E5ECF6",
            "gridcolor": "white",
            "gridwidth": 2,
            "linecolor": "white",
            "showbackground": true,
            "ticks": "",
            "zerolinecolor": "white"
           },
           "zaxis": {
            "backgroundcolor": "#E5ECF6",
            "gridcolor": "white",
            "gridwidth": 2,
            "linecolor": "white",
            "showbackground": true,
            "ticks": "",
            "zerolinecolor": "white"
           }
          },
          "shapedefaults": {
           "line": {
            "color": "#2a3f5f"
           }
          },
          "ternary": {
           "aaxis": {
            "gridcolor": "white",
            "linecolor": "white",
            "ticks": ""
           },
           "baxis": {
            "gridcolor": "white",
            "linecolor": "white",
            "ticks": ""
           },
           "bgcolor": "#E5ECF6",
           "caxis": {
            "gridcolor": "white",
            "linecolor": "white",
            "ticks": ""
           }
          },
          "title": {
           "x": 0.05
          },
          "xaxis": {
           "automargin": true,
           "gridcolor": "white",
           "linecolor": "white",
           "ticks": "",
           "title": {
            "standoff": 15
           },
           "zerolinecolor": "white",
           "zerolinewidth": 2
          },
          "yaxis": {
           "automargin": true,
           "gridcolor": "white",
           "linecolor": "white",
           "ticks": "",
           "title": {
            "standoff": 15
           },
           "zerolinecolor": "white",
           "zerolinewidth": 2
          }
         }
        },
        "title": {
         "text": "OBV Returns"
        },
        "xaxis": {
         "anchor": "y",
         "domain": [
          0,
          1
         ],
         "title": {
          "text": "date"
         }
        },
        "yaxis": {
         "anchor": "x",
         "domain": [
          0,
          1
         ],
         "title": {
          "text": "Cumulative returns"
         }
        }
       }
      }
     },
     "metadata": {},
     "output_type": "display_data"
    }
   ],
   "source": [
    "px.line(strategy_returns, y='vol_cum_rets', x='date', labels={'vol_cum_rets': 'Cumulative returns'}, title = 'OBV Returns').show()"
   ]
  },
  {
   "cell_type": "code",
   "execution_count": 190,
   "id": "57bd7d0f",
   "metadata": {},
   "outputs": [
    {
     "data": {
      "application/vnd.plotly.v1+json": {
       "config": {
        "plotlyServerURL": "https://plot.ly"
       },
       "data": [
        {
         "alignmentgroup": "True",
         "bingroup": "x",
         "hovertemplate": "variable=vol_rets<br>value=%{x}<br>count=%{y}<extra></extra>",
         "legendgroup": "vol_rets",
         "marker": {
          "color": "#636efa",
          "pattern": {
           "shape": ""
          }
         },
         "name": "vol_rets",
         "offsetgroup": "vol_rets",
         "orientation": "v",
         "showlegend": true,
         "type": "histogram",
         "x": [
          -0.008120359757700969,
          0.029186923770016793,
          -0.000045347722759983845,
          -0.0077773111403386915,
          -0.033143929298583376,
          -0.021494142289779104,
          -0.003940949560912503,
          0.0229043633068607,
          0.014334436166461762,
          0.02502673915748392,
          0.025755094368689765,
          0.015344608487327412,
          0.00039061336635207893,
          0.01797580425600699,
          -0.019155698239553907,
          0.020978956972501864,
          0.01064636882381054,
          -0.005424805310068544,
          0.014158565419514083,
          -0.017525696936157013,
          0.047096819127132865,
          0.010393036299691015,
          0.006792409316581545,
          -0.01646098574663187,
          -0.00030671759756804997,
          0.002645049468515062,
          -0.012932205928775801,
          0.01700756228804418,
          -0.012411823343234084,
          0.007890867328948154,
          0.012406853002813899,
          0.02127638453684944,
          0.011339427844248942,
          0.011339927916285613,
          0.0021935648537147914,
          0.017756056951709006,
          -0.010346292886336459,
          0.019614134018927788,
          0.003371587082610157,
          0.0008789768232371683,
          0.01992062196964015,
          0.003675435980808918,
          0.006277893003843378,
          -0.009198360599518066,
          0.012674431400839167,
          0.017556430112051415,
          -0.0050645337552322894,
          -0.021138525960186817,
          0.005867933696702484,
          0.00014512451626185773,
          -0.012506590606669754,
          0.011657719162721047,
          0.024652882521828803,
          -0.0055503700353650145,
          0.011651003850336655,
          -0.015698150811219735,
          0.004283765918802017,
          0.006965435972450047,
          0.01995514514582293,
          0.015395937631209966,
          0.011907291830999358,
          0.013800057220839974,
          0.023356658857349794,
          0.02182776496494249,
          0.0068006370910017044,
          0.010405493805474703,
          -0.007479936563868636,
          0.020476263658503868,
          0.006797347814851228,
          0.012152170563315514,
          0.01011586272031609,
          0.0023914652113426497,
          0.01691262644413689,
          0.008482335748262617,
          -0.009960773912621684,
          -0.025667585179684364,
          0.019322751119736265,
          0.02720987478671179,
          0.006783275437104697,
          0.02932834130746927,
          -0.004503786590827396,
          0.026014945912233047,
          -0.0020680073075861733,
          -0.01971117012918306,
          0.013842425221246804,
          0.04168148799588566,
          0.016167355288602858,
          0.04468952958900694,
          -0.007360268380600433,
          0.03443584115280607,
          -0.023037619743251848,
          0.009954568894012946,
          0.009605429835008722,
          0.0003136962224587674,
          0.04468064048140098,
          0.021800138772684184,
          0.00863294697248129,
          -0.01812239399194107,
          0.014405988576519013,
          -0.017340579398945222,
          -0.09108563545340505,
          0.04324334713224087,
          0.04961286528709537,
          0.030765054817203232,
          0.038735927032725166,
          0.018417311159355403,
          -0.01843920199794963,
          0.024330251790194542,
          0.035675649958918886,
          0.0019214932442348305,
          0.031166876319476528,
          -0.010880305784132363,
          -0.0029236028995836445,
          -0.01211804608555115,
          0.021678180582039377,
          0.018416134087004713,
          0.04582683934498156,
          -0.01689699403381481,
          0.019130946013487127,
          0.04360697893448654,
          -0.010604776664170382,
          -0.006067482786229821,
          0.0182548399514093,
          0.0037630429823565757,
          0.047611697976629015,
          -0.01320023495535481,
          -0.003448903085028285,
          -0.03832465084220228,
          0.029816043059257124,
          0.026883245179246444,
          -0.030458994695354544,
          -0.028731825318923883,
          0.05053091928849448,
          0.008561852424133083,
          -0.003009452438424399,
          -0.012497365591926811,
          -0.021657098771018825,
          -0.058584798461015594,
          0.030235727052269974,
          0.045458552037979875,
          0.012754879218530912,
          0.0015675012909121412,
          -0.008888005209018843,
          0.031387501061005886,
          -0.014934717855878379,
          -0.007689133476870647,
          -0.03399032396555925,
          -0.04004811494349938,
          0.0007511215460118307,
          -0.03867042033724944,
          0.037540997373239515,
          0.029985059183925456,
          -0.022996501791093884,
          -0.009070803151551728,
          -0.0011884243530776023,
          0.002063731914490743,
          0.038323104633551965,
          0.03624778883415849,
          0.004228582109772027,
          0.016611703432066624,
          0.017998686561045876,
          -0.006408933113936381,
          0.03751714872386779,
          0.009449494136333584,
          0.01598755891668422,
          0.014965088457664697,
          0.009029344084023654,
          -0.0006887131691157863,
          -0.012713253327005071,
          0.011039456817999052,
          0.015958084858592923,
          -0.02246427028782707,
          0.0011702512880712383,
          0.015976773317549247,
          0.00899659155982143,
          0.027076566001781956,
          0.018583512779642944,
          -0.014038522690925178,
          0.010230071635564724,
          -0.005506092655150999,
          -0.013960569217381012,
          0.025227809746665115,
          0.007715093486602581,
          0.0268761875733203,
          -0.0018824379298062448,
          0.007467978377707072,
          -0.008865026301251295,
          0.0242607293794555,
          0.002427514661123451,
          0.027372227313270447,
          -0.0026921693768205486,
          0.014706989202210056,
          0.007914404750769695,
          -0.02150711338140649,
          -0.0008936677479707076,
          -0.01045326714057075,
          0.012797643375344298,
          0.010359329081580864,
          0.02309582772671105,
          0.015408526458543398,
          -0.00047384015019684525,
          0.015140361201160853,
          -0.002377285677435104,
          0.005373749644053153,
          0.022776264266922315,
          0.01997958290000073,
          -0.009923306616947965,
          -0.018509714577254168,
          0.004257902393461233,
          0.017151552072475745,
          0.01650411680200073,
          -0.02862466400089356,
          -0.004105116823964852,
          -0.029791359226122523,
          -0.012426948566631383,
          -0.005088603002872536,
          0.028921485580183787,
          0.019995802605093375,
          -0.04402710553491091,
          0.0007613100072633722,
          0.009865218371520464,
          -0.051650814440306635,
          -0.10310716487419681,
          -0.05257169695507567,
          0.023751708180171777,
          -0.03143276472079978,
          -0.04909132985059959,
          0.047118608589110086,
          0.07742313884560646,
          0.020508848926813324,
          0.0005078393874925945,
          0.04487367976917875,
          0.018455633327874713,
          0.025250511632516404,
          -0.015524698165881605,
          0.025711213649707274,
          0.02220408645487257,
          -0.012541203342513279,
          0.025406979617008035,
          0.03500872966613232,
          0.018352932850785826,
          -0.04251460376405848,
          -0.035061086990941626,
          0.04043706813728809,
          -0.024625507744117165,
          0.05474467773876975,
          0.021270680922096614,
          0.008348271800662837,
          0.036582664068558514,
          0.010857348027398475,
          0.02178578231957544,
          0.005627640012100239,
          0.018924667190623513,
          -0.005837421049288732,
          -0.010507412904087207,
          -0.019317495310163843,
          -0.03702308234873066,
          -0.0502066079642967,
          0.07505308164827867,
          -0.0031356591135473957,
          -0.0038490586381484363,
          0.03426400292713562,
          0.01983816617636618,
          0.012199540307522351,
          -0.003288141471512898,
          -0.03802742915065901,
          0.020578058218083173,
          -0.0011994617194989387,
          0.017605926565412752,
          0.011408270044746248,
          -0.005513741542623591,
          0.008923298711376341,
          0.01095762636073222,
          0.03595096466569287,
          0.007405285148278306,
          0.024650477553826818,
          0.0070291436678344725,
          0.017434351222464676,
          -0.0074531415243415606,
          0.03297436107747509,
          -0.014873383350311324,
          0.02669370890246724,
          0.02346192591669714,
          0.012466423829525779,
          0.015889992806511283,
          -0.014758723090924155,
          0.03260400456186906,
          0.001508882704417074,
          -0.0037871098571166002,
          0.01390091403371057,
          0.01811089464719329,
          -0.015097971749920435,
          0.02543407861345168,
          -0.01793076453090927,
          0.018835190787472884,
          0.015696162176823753,
          0.0001131248952503621,
          -0.01568586720448083,
          0.03426272749910035,
          -0.0034779292979865953,
          0.001372675745861855,
          0.007641181943666344,
          -0.009970396599599455,
          0.0036918286703958194,
          -0.031991051043530165,
          -0.02167059338752599,
          0.04135079136171722,
          0.0007146454897501353,
          -0.017442772700206746,
          -0.035485608540474535,
          0.006430730711017769,
          0.042581824163995655,
          0.010616951654964794,
          0.008377242979489776,
          -0.0006016472803627795,
          0.02888209906948305,
          0.00017684907616228888,
          0.0013845428912094744,
          -0.014535424159126863,
          0.038278853782785977,
          0.0036865201350469675,
          0.014226959190850704,
          0.019560421382998804,
          -0.00020737283734986975,
          0.004072287415367107,
          0.0007900945783934628,
          0.006091202610795723,
          0.008817799742483104,
          -0.00430314202283134,
          0.01992765631865089,
          0.006261204681277437,
          0.020683585549783928,
          0.008537470133467649,
          0.030923907113220572,
          -0.024105198194271857,
          -0.007580377852644223,
          0.0042892294841828165,
          0.011692069499850698,
          0.003723364427136413,
          0.02018875921783065,
          0.014372139174721025,
          0.0016878056981217344,
          -0.046336611586759106,
          0.014028433055762415,
          -0.06332955919757118,
          0.06693381512366274,
          0.02185095973647382,
          0.0027548071847893554,
          0.02199695837395036,
          -0.04698866232705112,
          0.0456831649959023,
          0.005524336956083325,
          -0.02436826055095273,
          0.01908255112757236,
          0.006450138307757546,
          0.02104825630556362,
          0.018120110841066343,
          -0.010155745963213832,
          -0.053734410945985335,
          -0.11452664665650965,
          0.09144770601511798,
          0.02938559684386571,
          0.008901461078592686,
          0.034836042924425555,
          0.03150577258532479,
          -0.017403709714804438,
          -0.0023822896148338974,
          0.0970549250363484,
          0.024104536204688505,
          0.0013682103028361862,
          0.03491906161369147,
          0.035722094794095244,
          0.028582748545560078,
          0.011041627616912554,
          0.002692309714510771,
          0.006252592163636157,
          0.014061874395899525,
          -0.02456451386064202,
          0.03582343029937231,
          -0.013392993039836494,
          0.035975570499440584,
          -0.027297325079437957,
          -0.0029226922599090016,
          0.017862228684864877,
          -0.044361160481436186,
          0.007287553004780423,
          -0.06016703462380254,
          0.05701445658897386,
          -0.010529438911928049
         ],
         "xaxis": "x",
         "yaxis": "y"
        }
       ],
       "layout": {
        "barmode": "relative",
        "legend": {
         "title": {
          "text": "variable"
         },
         "tracegroupgap": 0
        },
        "margin": {
         "t": 60
        },
        "template": {
         "data": {
          "bar": [
           {
            "error_x": {
             "color": "#2a3f5f"
            },
            "error_y": {
             "color": "#2a3f5f"
            },
            "marker": {
             "line": {
              "color": "#E5ECF6",
              "width": 0.5
             },
             "pattern": {
              "fillmode": "overlay",
              "size": 10,
              "solidity": 0.2
             }
            },
            "type": "bar"
           }
          ],
          "barpolar": [
           {
            "marker": {
             "line": {
              "color": "#E5ECF6",
              "width": 0.5
             },
             "pattern": {
              "fillmode": "overlay",
              "size": 10,
              "solidity": 0.2
             }
            },
            "type": "barpolar"
           }
          ],
          "carpet": [
           {
            "aaxis": {
             "endlinecolor": "#2a3f5f",
             "gridcolor": "white",
             "linecolor": "white",
             "minorgridcolor": "white",
             "startlinecolor": "#2a3f5f"
            },
            "baxis": {
             "endlinecolor": "#2a3f5f",
             "gridcolor": "white",
             "linecolor": "white",
             "minorgridcolor": "white",
             "startlinecolor": "#2a3f5f"
            },
            "type": "carpet"
           }
          ],
          "choropleth": [
           {
            "colorbar": {
             "outlinewidth": 0,
             "ticks": ""
            },
            "type": "choropleth"
           }
          ],
          "contour": [
           {
            "colorbar": {
             "outlinewidth": 0,
             "ticks": ""
            },
            "colorscale": [
             [
              0,
              "#0d0887"
             ],
             [
              0.1111111111111111,
              "#46039f"
             ],
             [
              0.2222222222222222,
              "#7201a8"
             ],
             [
              0.3333333333333333,
              "#9c179e"
             ],
             [
              0.4444444444444444,
              "#bd3786"
             ],
             [
              0.5555555555555556,
              "#d8576b"
             ],
             [
              0.6666666666666666,
              "#ed7953"
             ],
             [
              0.7777777777777778,
              "#fb9f3a"
             ],
             [
              0.8888888888888888,
              "#fdca26"
             ],
             [
              1,
              "#f0f921"
             ]
            ],
            "type": "contour"
           }
          ],
          "contourcarpet": [
           {
            "colorbar": {
             "outlinewidth": 0,
             "ticks": ""
            },
            "type": "contourcarpet"
           }
          ],
          "heatmap": [
           {
            "colorbar": {
             "outlinewidth": 0,
             "ticks": ""
            },
            "colorscale": [
             [
              0,
              "#0d0887"
             ],
             [
              0.1111111111111111,
              "#46039f"
             ],
             [
              0.2222222222222222,
              "#7201a8"
             ],
             [
              0.3333333333333333,
              "#9c179e"
             ],
             [
              0.4444444444444444,
              "#bd3786"
             ],
             [
              0.5555555555555556,
              "#d8576b"
             ],
             [
              0.6666666666666666,
              "#ed7953"
             ],
             [
              0.7777777777777778,
              "#fb9f3a"
             ],
             [
              0.8888888888888888,
              "#fdca26"
             ],
             [
              1,
              "#f0f921"
             ]
            ],
            "type": "heatmap"
           }
          ],
          "heatmapgl": [
           {
            "colorbar": {
             "outlinewidth": 0,
             "ticks": ""
            },
            "colorscale": [
             [
              0,
              "#0d0887"
             ],
             [
              0.1111111111111111,
              "#46039f"
             ],
             [
              0.2222222222222222,
              "#7201a8"
             ],
             [
              0.3333333333333333,
              "#9c179e"
             ],
             [
              0.4444444444444444,
              "#bd3786"
             ],
             [
              0.5555555555555556,
              "#d8576b"
             ],
             [
              0.6666666666666666,
              "#ed7953"
             ],
             [
              0.7777777777777778,
              "#fb9f3a"
             ],
             [
              0.8888888888888888,
              "#fdca26"
             ],
             [
              1,
              "#f0f921"
             ]
            ],
            "type": "heatmapgl"
           }
          ],
          "histogram": [
           {
            "marker": {
             "pattern": {
              "fillmode": "overlay",
              "size": 10,
              "solidity": 0.2
             }
            },
            "type": "histogram"
           }
          ],
          "histogram2d": [
           {
            "colorbar": {
             "outlinewidth": 0,
             "ticks": ""
            },
            "colorscale": [
             [
              0,
              "#0d0887"
             ],
             [
              0.1111111111111111,
              "#46039f"
             ],
             [
              0.2222222222222222,
              "#7201a8"
             ],
             [
              0.3333333333333333,
              "#9c179e"
             ],
             [
              0.4444444444444444,
              "#bd3786"
             ],
             [
              0.5555555555555556,
              "#d8576b"
             ],
             [
              0.6666666666666666,
              "#ed7953"
             ],
             [
              0.7777777777777778,
              "#fb9f3a"
             ],
             [
              0.8888888888888888,
              "#fdca26"
             ],
             [
              1,
              "#f0f921"
             ]
            ],
            "type": "histogram2d"
           }
          ],
          "histogram2dcontour": [
           {
            "colorbar": {
             "outlinewidth": 0,
             "ticks": ""
            },
            "colorscale": [
             [
              0,
              "#0d0887"
             ],
             [
              0.1111111111111111,
              "#46039f"
             ],
             [
              0.2222222222222222,
              "#7201a8"
             ],
             [
              0.3333333333333333,
              "#9c179e"
             ],
             [
              0.4444444444444444,
              "#bd3786"
             ],
             [
              0.5555555555555556,
              "#d8576b"
             ],
             [
              0.6666666666666666,
              "#ed7953"
             ],
             [
              0.7777777777777778,
              "#fb9f3a"
             ],
             [
              0.8888888888888888,
              "#fdca26"
             ],
             [
              1,
              "#f0f921"
             ]
            ],
            "type": "histogram2dcontour"
           }
          ],
          "mesh3d": [
           {
            "colorbar": {
             "outlinewidth": 0,
             "ticks": ""
            },
            "type": "mesh3d"
           }
          ],
          "parcoords": [
           {
            "line": {
             "colorbar": {
              "outlinewidth": 0,
              "ticks": ""
             }
            },
            "type": "parcoords"
           }
          ],
          "pie": [
           {
            "automargin": true,
            "type": "pie"
           }
          ],
          "scatter": [
           {
            "fillpattern": {
             "fillmode": "overlay",
             "size": 10,
             "solidity": 0.2
            },
            "type": "scatter"
           }
          ],
          "scatter3d": [
           {
            "line": {
             "colorbar": {
              "outlinewidth": 0,
              "ticks": ""
             }
            },
            "marker": {
             "colorbar": {
              "outlinewidth": 0,
              "ticks": ""
             }
            },
            "type": "scatter3d"
           }
          ],
          "scattercarpet": [
           {
            "marker": {
             "colorbar": {
              "outlinewidth": 0,
              "ticks": ""
             }
            },
            "type": "scattercarpet"
           }
          ],
          "scattergeo": [
           {
            "marker": {
             "colorbar": {
              "outlinewidth": 0,
              "ticks": ""
             }
            },
            "type": "scattergeo"
           }
          ],
          "scattergl": [
           {
            "marker": {
             "colorbar": {
              "outlinewidth": 0,
              "ticks": ""
             }
            },
            "type": "scattergl"
           }
          ],
          "scattermapbox": [
           {
            "marker": {
             "colorbar": {
              "outlinewidth": 0,
              "ticks": ""
             }
            },
            "type": "scattermapbox"
           }
          ],
          "scatterpolar": [
           {
            "marker": {
             "colorbar": {
              "outlinewidth": 0,
              "ticks": ""
             }
            },
            "type": "scatterpolar"
           }
          ],
          "scatterpolargl": [
           {
            "marker": {
             "colorbar": {
              "outlinewidth": 0,
              "ticks": ""
             }
            },
            "type": "scatterpolargl"
           }
          ],
          "scatterternary": [
           {
            "marker": {
             "colorbar": {
              "outlinewidth": 0,
              "ticks": ""
             }
            },
            "type": "scatterternary"
           }
          ],
          "surface": [
           {
            "colorbar": {
             "outlinewidth": 0,
             "ticks": ""
            },
            "colorscale": [
             [
              0,
              "#0d0887"
             ],
             [
              0.1111111111111111,
              "#46039f"
             ],
             [
              0.2222222222222222,
              "#7201a8"
             ],
             [
              0.3333333333333333,
              "#9c179e"
             ],
             [
              0.4444444444444444,
              "#bd3786"
             ],
             [
              0.5555555555555556,
              "#d8576b"
             ],
             [
              0.6666666666666666,
              "#ed7953"
             ],
             [
              0.7777777777777778,
              "#fb9f3a"
             ],
             [
              0.8888888888888888,
              "#fdca26"
             ],
             [
              1,
              "#f0f921"
             ]
            ],
            "type": "surface"
           }
          ],
          "table": [
           {
            "cells": {
             "fill": {
              "color": "#EBF0F8"
             },
             "line": {
              "color": "white"
             }
            },
            "header": {
             "fill": {
              "color": "#C8D4E3"
             },
             "line": {
              "color": "white"
             }
            },
            "type": "table"
           }
          ]
         },
         "layout": {
          "annotationdefaults": {
           "arrowcolor": "#2a3f5f",
           "arrowhead": 0,
           "arrowwidth": 1
          },
          "autotypenumbers": "strict",
          "coloraxis": {
           "colorbar": {
            "outlinewidth": 0,
            "ticks": ""
           }
          },
          "colorscale": {
           "diverging": [
            [
             0,
             "#8e0152"
            ],
            [
             0.1,
             "#c51b7d"
            ],
            [
             0.2,
             "#de77ae"
            ],
            [
             0.3,
             "#f1b6da"
            ],
            [
             0.4,
             "#fde0ef"
            ],
            [
             0.5,
             "#f7f7f7"
            ],
            [
             0.6,
             "#e6f5d0"
            ],
            [
             0.7,
             "#b8e186"
            ],
            [
             0.8,
             "#7fbc41"
            ],
            [
             0.9,
             "#4d9221"
            ],
            [
             1,
             "#276419"
            ]
           ],
           "sequential": [
            [
             0,
             "#0d0887"
            ],
            [
             0.1111111111111111,
             "#46039f"
            ],
            [
             0.2222222222222222,
             "#7201a8"
            ],
            [
             0.3333333333333333,
             "#9c179e"
            ],
            [
             0.4444444444444444,
             "#bd3786"
            ],
            [
             0.5555555555555556,
             "#d8576b"
            ],
            [
             0.6666666666666666,
             "#ed7953"
            ],
            [
             0.7777777777777778,
             "#fb9f3a"
            ],
            [
             0.8888888888888888,
             "#fdca26"
            ],
            [
             1,
             "#f0f921"
            ]
           ],
           "sequentialminus": [
            [
             0,
             "#0d0887"
            ],
            [
             0.1111111111111111,
             "#46039f"
            ],
            [
             0.2222222222222222,
             "#7201a8"
            ],
            [
             0.3333333333333333,
             "#9c179e"
            ],
            [
             0.4444444444444444,
             "#bd3786"
            ],
            [
             0.5555555555555556,
             "#d8576b"
            ],
            [
             0.6666666666666666,
             "#ed7953"
            ],
            [
             0.7777777777777778,
             "#fb9f3a"
            ],
            [
             0.8888888888888888,
             "#fdca26"
            ],
            [
             1,
             "#f0f921"
            ]
           ]
          },
          "colorway": [
           "#636efa",
           "#EF553B",
           "#00cc96",
           "#ab63fa",
           "#FFA15A",
           "#19d3f3",
           "#FF6692",
           "#B6E880",
           "#FF97FF",
           "#FECB52"
          ],
          "font": {
           "color": "#2a3f5f"
          },
          "geo": {
           "bgcolor": "white",
           "lakecolor": "white",
           "landcolor": "#E5ECF6",
           "showlakes": true,
           "showland": true,
           "subunitcolor": "white"
          },
          "hoverlabel": {
           "align": "left"
          },
          "hovermode": "closest",
          "mapbox": {
           "style": "light"
          },
          "paper_bgcolor": "white",
          "plot_bgcolor": "#E5ECF6",
          "polar": {
           "angularaxis": {
            "gridcolor": "white",
            "linecolor": "white",
            "ticks": ""
           },
           "bgcolor": "#E5ECF6",
           "radialaxis": {
            "gridcolor": "white",
            "linecolor": "white",
            "ticks": ""
           }
          },
          "scene": {
           "xaxis": {
            "backgroundcolor": "#E5ECF6",
            "gridcolor": "white",
            "gridwidth": 2,
            "linecolor": "white",
            "showbackground": true,
            "ticks": "",
            "zerolinecolor": "white"
           },
           "yaxis": {
            "backgroundcolor": "#E5ECF6",
            "gridcolor": "white",
            "gridwidth": 2,
            "linecolor": "white",
            "showbackground": true,
            "ticks": "",
            "zerolinecolor": "white"
           },
           "zaxis": {
            "backgroundcolor": "#E5ECF6",
            "gridcolor": "white",
            "gridwidth": 2,
            "linecolor": "white",
            "showbackground": true,
            "ticks": "",
            "zerolinecolor": "white"
           }
          },
          "shapedefaults": {
           "line": {
            "color": "#2a3f5f"
           }
          },
          "ternary": {
           "aaxis": {
            "gridcolor": "white",
            "linecolor": "white",
            "ticks": ""
           },
           "baxis": {
            "gridcolor": "white",
            "linecolor": "white",
            "ticks": ""
           },
           "bgcolor": "#E5ECF6",
           "caxis": {
            "gridcolor": "white",
            "linecolor": "white",
            "ticks": ""
           }
          },
          "title": {
           "x": 0.05
          },
          "xaxis": {
           "automargin": true,
           "gridcolor": "white",
           "linecolor": "white",
           "ticks": "",
           "title": {
            "standoff": 15
           },
           "zerolinecolor": "white",
           "zerolinewidth": 2
          },
          "yaxis": {
           "automargin": true,
           "gridcolor": "white",
           "linecolor": "white",
           "ticks": "",
           "title": {
            "standoff": 15
           },
           "zerolinecolor": "white",
           "zerolinewidth": 2
          }
         }
        },
        "xaxis": {
         "anchor": "y",
         "domain": [
          0,
          1
         ],
         "title": {
          "text": "value"
         }
        },
        "yaxis": {
         "anchor": "x",
         "domain": [
          0,
          1
         ],
         "title": {
          "text": "count"
         }
        }
       }
      }
     },
     "metadata": {},
     "output_type": "display_data"
    }
   ],
   "source": [
    "px.histogram(strategy_returns[['vol_rets']]).show()"
   ]
  },
  {
   "cell_type": "code",
   "execution_count": 191,
   "id": "4273827e",
   "metadata": {},
   "outputs": [
    {
     "name": "stderr",
     "output_type": "stream",
     "text": [
      "/Library/Frameworks/Python.framework/Versions/3.9/lib/python3.9/site-packages/_plotly_utils/basevalidators.py:105: FutureWarning:\n",
      "\n",
      "The behavior of DatetimeProperties.to_pydatetime is deprecated, in a future version this will return a Series containing python datetime objects instead of an ndarray. To retain the old behavior, call `np.array` on the result\n",
      "\n"
     ]
    },
    {
     "data": {
      "application/vnd.plotly.v1+json": {
       "config": {
        "plotlyServerURL": "https://plot.ly"
       },
       "data": [
        {
         "alignmentgroup": "True",
         "hovertemplate": "date=%{x}<br>vol_rets=%{y}<extra></extra>",
         "legendgroup": "",
         "marker": {
          "color": [
           "red",
           "green",
           "red",
           "red",
           "red",
           "red",
           "red",
           "green",
           "green",
           "green",
           "green",
           "green",
           "green",
           "green",
           "red",
           "green",
           "green",
           "red",
           "green",
           "red",
           "green",
           "green",
           "green",
           "red",
           "red",
           "green",
           "red",
           "green",
           "red",
           "green",
           "green",
           "green",
           "green",
           "green",
           "green",
           "green",
           "red",
           "green",
           "green",
           "green",
           "green",
           "green",
           "green",
           "red",
           "green",
           "green",
           "red",
           "red",
           "green",
           "green",
           "red",
           "green",
           "green",
           "red",
           "green",
           "red",
           "green",
           "green",
           "green",
           "green",
           "green",
           "green",
           "green",
           "green",
           "green",
           "green",
           "red",
           "green",
           "green",
           "green",
           "green",
           "green",
           "green",
           "green",
           "red",
           "red",
           "green",
           "green",
           "green",
           "green",
           "red",
           "green",
           "red",
           "red",
           "green",
           "green",
           "green",
           "green",
           "red",
           "green",
           "red",
           "green",
           "green",
           "green",
           "green",
           "green",
           "green",
           "red",
           "green",
           "red",
           "red",
           "green",
           "green",
           "green",
           "green",
           "green",
           "red",
           "green",
           "green",
           "green",
           "green",
           "red",
           "red",
           "red",
           "green",
           "green",
           "green",
           "red",
           "green",
           "green",
           "red",
           "red",
           "green",
           "green",
           "green",
           "red",
           "red",
           "red",
           "green",
           "green",
           "red",
           "red",
           "green",
           "green",
           "red",
           "red",
           "red",
           "red",
           "green",
           "green",
           "green",
           "green",
           "red",
           "green",
           "red",
           "red",
           "red",
           "red",
           "green",
           "red",
           "green",
           "green",
           "red",
           "red",
           "red",
           "green",
           "green",
           "green",
           "green",
           "green",
           "green",
           "red",
           "green",
           "green",
           "green",
           "green",
           "green",
           "red",
           "red",
           "green",
           "green",
           "red",
           "green",
           "green",
           "green",
           "green",
           "green",
           "red",
           "green",
           "red",
           "red",
           "green",
           "green",
           "green",
           "red",
           "green",
           "red",
           "green",
           "green",
           "green",
           "red",
           "green",
           "green",
           "red",
           "red",
           "red",
           "green",
           "green",
           "green",
           "green",
           "red",
           "green",
           "red",
           "green",
           "green",
           "green",
           "red",
           "red",
           "green",
           "green",
           "green",
           "red",
           "red",
           "red",
           "red",
           "red",
           "green",
           "green",
           "red",
           "green",
           "green",
           "red",
           "red",
           "red",
           "green",
           "red",
           "red",
           "green",
           "green",
           "green",
           "green",
           "green",
           "green",
           "green",
           "red",
           "green",
           "green",
           "red",
           "green",
           "green",
           "green",
           "red",
           "red",
           "green",
           "red",
           "green",
           "green",
           "green",
           "green",
           "green",
           "green",
           "green",
           "green",
           "red",
           "red",
           "red",
           "red",
           "red",
           "green",
           "red",
           "red",
           "green",
           "green",
           "green",
           "red",
           "red",
           "green",
           "red",
           "green",
           "green",
           "red",
           "green",
           "green",
           "green",
           "green",
           "green",
           "green",
           "green",
           "red",
           "green",
           "red",
           "green",
           "green",
           "green",
           "green",
           "red",
           "green",
           "green",
           "red",
           "green",
           "green",
           "red",
           "green",
           "red",
           "green",
           "green",
           "green",
           "red",
           "green",
           "red",
           "green",
           "green",
           "red",
           "green",
           "red",
           "red",
           "green",
           "green",
           "red",
           "red",
           "green",
           "green",
           "green",
           "green",
           "red",
           "green",
           "green",
           "green",
           "red",
           "green",
           "green",
           "green",
           "green",
           "red",
           "green",
           "green",
           "green",
           "green",
           "red",
           "green",
           "green",
           "green",
           "green",
           "green",
           "red",
           "red",
           "green",
           "green",
           "green",
           "green",
           "green",
           "green",
           "red",
           "green",
           "red",
           "green",
           "green",
           "green",
           "green",
           "red",
           "green",
           "green",
           "red",
           "green",
           "green",
           "green",
           "green",
           "red",
           "red",
           "red",
           "green",
           "green",
           "green",
           "green",
           "green",
           "red",
           "red",
           "green",
           "green",
           "green",
           "green",
           "green",
           "green",
           "green",
           "green",
           "green",
           "green",
           "red",
           "green",
           "red",
           "green",
           "red",
           "red",
           "green",
           "red",
           "green",
           "red",
           "green",
           "red"
          ],
          "pattern": {
           "shape": ""
          }
         },
         "name": "",
         "offsetgroup": "",
         "orientation": "v",
         "showlegend": false,
         "textposition": "auto",
         "type": "bar",
         "x": [
          "1990-04-30T00:00:00",
          "1990-05-31T00:00:00",
          "1990-06-30T00:00:00",
          "1990-07-31T00:00:00",
          "1990-08-31T00:00:00",
          "1990-09-30T00:00:00",
          "1990-10-31T00:00:00",
          "1990-11-30T00:00:00",
          "1990-12-31T00:00:00",
          "1991-01-31T00:00:00",
          "1991-02-28T00:00:00",
          "1991-03-31T00:00:00",
          "1991-04-30T00:00:00",
          "1991-05-31T00:00:00",
          "1991-06-30T00:00:00",
          "1991-07-31T00:00:00",
          "1991-08-31T00:00:00",
          "1991-09-30T00:00:00",
          "1991-10-31T00:00:00",
          "1991-11-30T00:00:00",
          "1991-12-31T00:00:00",
          "1992-01-31T00:00:00",
          "1992-02-29T00:00:00",
          "1992-03-31T00:00:00",
          "1992-04-30T00:00:00",
          "1992-05-31T00:00:00",
          "1992-06-30T00:00:00",
          "1992-07-31T00:00:00",
          "1992-08-31T00:00:00",
          "1992-09-30T00:00:00",
          "1992-10-31T00:00:00",
          "1992-11-30T00:00:00",
          "1992-12-31T00:00:00",
          "1993-01-31T00:00:00",
          "1993-02-28T00:00:00",
          "1993-03-31T00:00:00",
          "1993-04-30T00:00:00",
          "1993-05-31T00:00:00",
          "1993-06-30T00:00:00",
          "1993-07-31T00:00:00",
          "1993-08-31T00:00:00",
          "1993-09-30T00:00:00",
          "1993-10-31T00:00:00",
          "1993-11-30T00:00:00",
          "1993-12-31T00:00:00",
          "1994-01-31T00:00:00",
          "1994-02-28T00:00:00",
          "1994-03-31T00:00:00",
          "1994-04-30T00:00:00",
          "1994-05-31T00:00:00",
          "1994-06-30T00:00:00",
          "1994-07-31T00:00:00",
          "1994-08-31T00:00:00",
          "1994-09-30T00:00:00",
          "1994-10-31T00:00:00",
          "1994-11-30T00:00:00",
          "1994-12-31T00:00:00",
          "1995-01-31T00:00:00",
          "1995-02-28T00:00:00",
          "1995-03-31T00:00:00",
          "1995-04-30T00:00:00",
          "1995-05-31T00:00:00",
          "1995-06-30T00:00:00",
          "1995-07-31T00:00:00",
          "1995-08-31T00:00:00",
          "1995-09-30T00:00:00",
          "1995-10-31T00:00:00",
          "1995-11-30T00:00:00",
          "1995-12-31T00:00:00",
          "1996-01-31T00:00:00",
          "1996-02-29T00:00:00",
          "1996-03-31T00:00:00",
          "1996-04-30T00:00:00",
          "1996-05-31T00:00:00",
          "1996-06-30T00:00:00",
          "1996-07-31T00:00:00",
          "1996-08-31T00:00:00",
          "1996-09-30T00:00:00",
          "1996-10-31T00:00:00",
          "1996-11-30T00:00:00",
          "1996-12-31T00:00:00",
          "1997-01-31T00:00:00",
          "1997-02-28T00:00:00",
          "1997-03-31T00:00:00",
          "1997-04-30T00:00:00",
          "1997-05-31T00:00:00",
          "1997-06-30T00:00:00",
          "1997-07-31T00:00:00",
          "1997-08-31T00:00:00",
          "1997-09-30T00:00:00",
          "1997-10-31T00:00:00",
          "1997-11-30T00:00:00",
          "1997-12-31T00:00:00",
          "1998-01-31T00:00:00",
          "1998-02-28T00:00:00",
          "1998-03-31T00:00:00",
          "1998-04-30T00:00:00",
          "1998-05-31T00:00:00",
          "1998-06-30T00:00:00",
          "1998-07-31T00:00:00",
          "1998-08-31T00:00:00",
          "1998-09-30T00:00:00",
          "1998-10-31T00:00:00",
          "1998-11-30T00:00:00",
          "1998-12-31T00:00:00",
          "1999-01-31T00:00:00",
          "1999-02-28T00:00:00",
          "1999-03-31T00:00:00",
          "1999-04-30T00:00:00",
          "1999-05-31T00:00:00",
          "1999-06-30T00:00:00",
          "1999-07-31T00:00:00",
          "1999-08-31T00:00:00",
          "1999-09-30T00:00:00",
          "1999-10-31T00:00:00",
          "1999-11-30T00:00:00",
          "1999-12-31T00:00:00",
          "2000-01-31T00:00:00",
          "2000-02-29T00:00:00",
          "2000-03-31T00:00:00",
          "2000-04-30T00:00:00",
          "2000-05-31T00:00:00",
          "2000-06-30T00:00:00",
          "2000-07-31T00:00:00",
          "2000-08-31T00:00:00",
          "2000-09-30T00:00:00",
          "2000-10-31T00:00:00",
          "2000-11-30T00:00:00",
          "2000-12-31T00:00:00",
          "2001-01-31T00:00:00",
          "2001-02-28T00:00:00",
          "2001-03-31T00:00:00",
          "2001-04-30T00:00:00",
          "2001-05-31T00:00:00",
          "2001-06-30T00:00:00",
          "2001-07-31T00:00:00",
          "2001-08-31T00:00:00",
          "2001-09-30T00:00:00",
          "2001-10-31T00:00:00",
          "2001-11-30T00:00:00",
          "2001-12-31T00:00:00",
          "2002-01-31T00:00:00",
          "2002-02-28T00:00:00",
          "2002-03-31T00:00:00",
          "2002-04-30T00:00:00",
          "2002-05-31T00:00:00",
          "2002-06-30T00:00:00",
          "2002-07-31T00:00:00",
          "2002-08-31T00:00:00",
          "2002-09-30T00:00:00",
          "2002-10-31T00:00:00",
          "2002-11-30T00:00:00",
          "2002-12-31T00:00:00",
          "2003-01-31T00:00:00",
          "2003-02-28T00:00:00",
          "2003-03-31T00:00:00",
          "2003-04-30T00:00:00",
          "2003-05-31T00:00:00",
          "2003-06-30T00:00:00",
          "2003-07-31T00:00:00",
          "2003-08-31T00:00:00",
          "2003-09-30T00:00:00",
          "2003-10-31T00:00:00",
          "2003-11-30T00:00:00",
          "2003-12-31T00:00:00",
          "2004-01-31T00:00:00",
          "2004-02-29T00:00:00",
          "2004-03-31T00:00:00",
          "2004-04-30T00:00:00",
          "2004-05-31T00:00:00",
          "2004-06-30T00:00:00",
          "2004-07-31T00:00:00",
          "2004-08-31T00:00:00",
          "2004-09-30T00:00:00",
          "2004-10-31T00:00:00",
          "2004-11-30T00:00:00",
          "2004-12-31T00:00:00",
          "2005-01-31T00:00:00",
          "2005-02-28T00:00:00",
          "2005-03-31T00:00:00",
          "2005-04-30T00:00:00",
          "2005-05-31T00:00:00",
          "2005-06-30T00:00:00",
          "2005-07-31T00:00:00",
          "2005-08-31T00:00:00",
          "2005-09-30T00:00:00",
          "2005-10-31T00:00:00",
          "2005-11-30T00:00:00",
          "2005-12-31T00:00:00",
          "2006-01-31T00:00:00",
          "2006-02-28T00:00:00",
          "2006-03-31T00:00:00",
          "2006-04-30T00:00:00",
          "2006-05-31T00:00:00",
          "2006-06-30T00:00:00",
          "2006-07-31T00:00:00",
          "2006-08-31T00:00:00",
          "2006-09-30T00:00:00",
          "2006-10-31T00:00:00",
          "2006-11-30T00:00:00",
          "2006-12-31T00:00:00",
          "2007-01-31T00:00:00",
          "2007-02-28T00:00:00",
          "2007-03-31T00:00:00",
          "2007-04-30T00:00:00",
          "2007-05-31T00:00:00",
          "2007-06-30T00:00:00",
          "2007-07-31T00:00:00",
          "2007-08-31T00:00:00",
          "2007-09-30T00:00:00",
          "2007-10-31T00:00:00",
          "2007-11-30T00:00:00",
          "2007-12-31T00:00:00",
          "2008-01-31T00:00:00",
          "2008-02-29T00:00:00",
          "2008-03-31T00:00:00",
          "2008-04-30T00:00:00",
          "2008-05-31T00:00:00",
          "2008-06-30T00:00:00",
          "2008-07-31T00:00:00",
          "2008-08-31T00:00:00",
          "2008-09-30T00:00:00",
          "2008-10-31T00:00:00",
          "2008-11-30T00:00:00",
          "2008-12-31T00:00:00",
          "2009-01-31T00:00:00",
          "2009-02-28T00:00:00",
          "2009-03-31T00:00:00",
          "2009-04-30T00:00:00",
          "2009-05-31T00:00:00",
          "2009-06-30T00:00:00",
          "2009-07-31T00:00:00",
          "2009-08-31T00:00:00",
          "2009-09-30T00:00:00",
          "2009-10-31T00:00:00",
          "2009-11-30T00:00:00",
          "2009-12-31T00:00:00",
          "2010-01-31T00:00:00",
          "2010-02-28T00:00:00",
          "2010-03-31T00:00:00",
          "2010-04-30T00:00:00",
          "2010-05-31T00:00:00",
          "2010-06-30T00:00:00",
          "2010-07-31T00:00:00",
          "2010-08-31T00:00:00",
          "2010-09-30T00:00:00",
          "2010-10-31T00:00:00",
          "2010-11-30T00:00:00",
          "2010-12-31T00:00:00",
          "2011-01-31T00:00:00",
          "2011-02-28T00:00:00",
          "2011-03-31T00:00:00",
          "2011-04-30T00:00:00",
          "2011-05-31T00:00:00",
          "2011-06-30T00:00:00",
          "2011-07-31T00:00:00",
          "2011-08-31T00:00:00",
          "2011-09-30T00:00:00",
          "2011-10-31T00:00:00",
          "2011-11-30T00:00:00",
          "2011-12-31T00:00:00",
          "2012-01-31T00:00:00",
          "2012-02-29T00:00:00",
          "2012-03-31T00:00:00",
          "2012-04-30T00:00:00",
          "2012-05-31T00:00:00",
          "2012-06-30T00:00:00",
          "2012-07-31T00:00:00",
          "2012-08-31T00:00:00",
          "2012-09-30T00:00:00",
          "2012-10-31T00:00:00",
          "2012-11-30T00:00:00",
          "2012-12-31T00:00:00",
          "2013-01-31T00:00:00",
          "2013-02-28T00:00:00",
          "2013-03-31T00:00:00",
          "2013-04-30T00:00:00",
          "2013-05-31T00:00:00",
          "2013-06-30T00:00:00",
          "2013-07-31T00:00:00",
          "2013-08-31T00:00:00",
          "2013-09-30T00:00:00",
          "2013-10-31T00:00:00",
          "2013-11-30T00:00:00",
          "2013-12-31T00:00:00",
          "2014-01-31T00:00:00",
          "2014-02-28T00:00:00",
          "2014-03-31T00:00:00",
          "2014-04-30T00:00:00",
          "2014-05-31T00:00:00",
          "2014-06-30T00:00:00",
          "2014-07-31T00:00:00",
          "2014-08-31T00:00:00",
          "2014-09-30T00:00:00",
          "2014-10-31T00:00:00",
          "2014-11-30T00:00:00",
          "2014-12-31T00:00:00",
          "2015-01-31T00:00:00",
          "2015-02-28T00:00:00",
          "2015-03-31T00:00:00",
          "2015-04-30T00:00:00",
          "2015-05-31T00:00:00",
          "2015-06-30T00:00:00",
          "2015-07-31T00:00:00",
          "2015-08-31T00:00:00",
          "2015-09-30T00:00:00",
          "2015-10-31T00:00:00",
          "2015-11-30T00:00:00",
          "2015-12-31T00:00:00",
          "2016-01-31T00:00:00",
          "2016-02-29T00:00:00",
          "2016-03-31T00:00:00",
          "2016-04-30T00:00:00",
          "2016-05-31T00:00:00",
          "2016-06-30T00:00:00",
          "2016-07-31T00:00:00",
          "2016-08-31T00:00:00",
          "2016-09-30T00:00:00",
          "2016-10-31T00:00:00",
          "2016-11-30T00:00:00",
          "2016-12-31T00:00:00",
          "2017-01-31T00:00:00",
          "2017-02-28T00:00:00",
          "2017-03-31T00:00:00",
          "2017-04-30T00:00:00",
          "2017-05-31T00:00:00",
          "2017-06-30T00:00:00",
          "2017-07-31T00:00:00",
          "2017-08-31T00:00:00",
          "2017-09-30T00:00:00",
          "2017-10-31T00:00:00",
          "2017-11-30T00:00:00",
          "2017-12-31T00:00:00",
          "2018-01-31T00:00:00",
          "2018-02-28T00:00:00",
          "2018-03-31T00:00:00",
          "2018-04-30T00:00:00",
          "2018-05-31T00:00:00",
          "2018-06-30T00:00:00",
          "2018-07-31T00:00:00",
          "2018-08-31T00:00:00",
          "2018-09-30T00:00:00",
          "2018-10-31T00:00:00",
          "2018-11-30T00:00:00",
          "2018-12-31T00:00:00",
          "2019-01-31T00:00:00",
          "2019-02-28T00:00:00",
          "2019-03-31T00:00:00",
          "2019-04-30T00:00:00",
          "2019-05-31T00:00:00",
          "2019-06-30T00:00:00",
          "2019-07-31T00:00:00",
          "2019-08-31T00:00:00",
          "2019-09-30T00:00:00",
          "2019-10-31T00:00:00",
          "2019-11-30T00:00:00",
          "2019-12-31T00:00:00",
          "2020-01-31T00:00:00",
          "2020-02-29T00:00:00",
          "2020-03-31T00:00:00",
          "2020-04-30T00:00:00",
          "2020-05-31T00:00:00",
          "2020-06-30T00:00:00",
          "2020-07-31T00:00:00",
          "2020-08-31T00:00:00",
          "2020-09-30T00:00:00",
          "2020-10-31T00:00:00",
          "2020-11-30T00:00:00",
          "2020-12-31T00:00:00",
          "2021-01-31T00:00:00",
          "2021-02-28T00:00:00",
          "2021-03-31T00:00:00",
          "2021-04-30T00:00:00",
          "2021-05-31T00:00:00",
          "2021-06-30T00:00:00",
          "2021-07-31T00:00:00",
          "2021-08-31T00:00:00",
          "2021-09-30T00:00:00",
          "2021-10-31T00:00:00",
          "2021-11-30T00:00:00",
          "2021-12-31T00:00:00",
          "2022-01-31T00:00:00",
          "2022-02-28T00:00:00",
          "2022-03-31T00:00:00",
          "2022-04-30T00:00:00",
          "2022-05-31T00:00:00",
          "2022-06-30T00:00:00",
          "2022-07-31T00:00:00",
          "2022-08-31T00:00:00"
         ],
         "xaxis": "x",
         "y": [
          -0.008120359757700969,
          0.029186923770016793,
          -0.000045347722759983845,
          -0.0077773111403386915,
          -0.033143929298583376,
          -0.021494142289779104,
          -0.003940949560912503,
          0.0229043633068607,
          0.014334436166461762,
          0.02502673915748392,
          0.025755094368689765,
          0.015344608487327412,
          0.00039061336635207893,
          0.01797580425600699,
          -0.019155698239553907,
          0.020978956972501864,
          0.01064636882381054,
          -0.005424805310068544,
          0.014158565419514083,
          -0.017525696936157013,
          0.047096819127132865,
          0.010393036299691015,
          0.006792409316581545,
          -0.01646098574663187,
          -0.00030671759756804997,
          0.002645049468515062,
          -0.012932205928775801,
          0.01700756228804418,
          -0.012411823343234084,
          0.007890867328948154,
          0.012406853002813899,
          0.02127638453684944,
          0.011339427844248942,
          0.011339927916285613,
          0.0021935648537147914,
          0.017756056951709006,
          -0.010346292886336459,
          0.019614134018927788,
          0.003371587082610157,
          0.0008789768232371683,
          0.01992062196964015,
          0.003675435980808918,
          0.006277893003843378,
          -0.009198360599518066,
          0.012674431400839167,
          0.017556430112051415,
          -0.0050645337552322894,
          -0.021138525960186817,
          0.005867933696702484,
          0.00014512451626185773,
          -0.012506590606669754,
          0.011657719162721047,
          0.024652882521828803,
          -0.0055503700353650145,
          0.011651003850336655,
          -0.015698150811219735,
          0.004283765918802017,
          0.006965435972450047,
          0.01995514514582293,
          0.015395937631209966,
          0.011907291830999358,
          0.013800057220839974,
          0.023356658857349794,
          0.02182776496494249,
          0.0068006370910017044,
          0.010405493805474703,
          -0.007479936563868636,
          0.020476263658503868,
          0.006797347814851228,
          0.012152170563315514,
          0.01011586272031609,
          0.0023914652113426497,
          0.01691262644413689,
          0.008482335748262617,
          -0.009960773912621684,
          -0.025667585179684364,
          0.019322751119736265,
          0.02720987478671179,
          0.006783275437104697,
          0.02932834130746927,
          -0.004503786590827396,
          0.026014945912233047,
          -0.0020680073075861733,
          -0.01971117012918306,
          0.013842425221246804,
          0.04168148799588566,
          0.016167355288602858,
          0.04468952958900694,
          -0.007360268380600433,
          0.03443584115280607,
          -0.023037619743251848,
          0.009954568894012946,
          0.009605429835008722,
          0.0003136962224587674,
          0.04468064048140098,
          0.021800138772684184,
          0.00863294697248129,
          -0.01812239399194107,
          0.014405988576519013,
          -0.017340579398945222,
          -0.09108563545340505,
          0.04324334713224087,
          0.04961286528709537,
          0.030765054817203232,
          0.038735927032725166,
          0.018417311159355403,
          -0.01843920199794963,
          0.024330251790194542,
          0.035675649958918886,
          0.0019214932442348305,
          0.031166876319476528,
          -0.010880305784132363,
          -0.0029236028995836445,
          -0.01211804608555115,
          0.021678180582039377,
          0.018416134087004713,
          0.04582683934498156,
          -0.01689699403381481,
          0.019130946013487127,
          0.04360697893448654,
          -0.010604776664170382,
          -0.006067482786229821,
          0.0182548399514093,
          0.0037630429823565757,
          0.047611697976629015,
          -0.01320023495535481,
          -0.003448903085028285,
          -0.03832465084220228,
          0.029816043059257124,
          0.026883245179246444,
          -0.030458994695354544,
          -0.028731825318923883,
          0.05053091928849448,
          0.008561852424133083,
          -0.003009452438424399,
          -0.012497365591926811,
          -0.021657098771018825,
          -0.058584798461015594,
          0.030235727052269974,
          0.045458552037979875,
          0.012754879218530912,
          0.0015675012909121412,
          -0.008888005209018843,
          0.031387501061005886,
          -0.014934717855878379,
          -0.007689133476870647,
          -0.03399032396555925,
          -0.04004811494349938,
          0.0007511215460118307,
          -0.03867042033724944,
          0.037540997373239515,
          0.029985059183925456,
          -0.022996501791093884,
          -0.009070803151551728,
          -0.0011884243530776023,
          0.002063731914490743,
          0.038323104633551965,
          0.03624778883415849,
          0.004228582109772027,
          0.016611703432066624,
          0.017998686561045876,
          -0.006408933113936381,
          0.03751714872386779,
          0.009449494136333584,
          0.01598755891668422,
          0.014965088457664697,
          0.009029344084023654,
          -0.0006887131691157863,
          -0.012713253327005071,
          0.011039456817999052,
          0.015958084858592923,
          -0.02246427028782707,
          0.0011702512880712383,
          0.015976773317549247,
          0.00899659155982143,
          0.027076566001781956,
          0.018583512779642944,
          -0.014038522690925178,
          0.010230071635564724,
          -0.005506092655150999,
          -0.013960569217381012,
          0.025227809746665115,
          0.007715093486602581,
          0.0268761875733203,
          -0.0018824379298062448,
          0.007467978377707072,
          -0.008865026301251295,
          0.0242607293794555,
          0.002427514661123451,
          0.027372227313270447,
          -0.0026921693768205486,
          0.014706989202210056,
          0.007914404750769695,
          -0.02150711338140649,
          -0.0008936677479707076,
          -0.01045326714057075,
          0.012797643375344298,
          0.010359329081580864,
          0.02309582772671105,
          0.015408526458543398,
          -0.00047384015019684525,
          0.015140361201160853,
          -0.002377285677435104,
          0.005373749644053153,
          0.022776264266922315,
          0.01997958290000073,
          -0.009923306616947965,
          -0.018509714577254168,
          0.004257902393461233,
          0.017151552072475745,
          0.01650411680200073,
          -0.02862466400089356,
          -0.004105116823964852,
          -0.029791359226122523,
          -0.012426948566631383,
          -0.005088603002872536,
          0.028921485580183787,
          0.019995802605093375,
          -0.04402710553491091,
          0.0007613100072633722,
          0.009865218371520464,
          -0.051650814440306635,
          -0.10310716487419681,
          -0.05257169695507567,
          0.023751708180171777,
          -0.03143276472079978,
          -0.04909132985059959,
          0.047118608589110086,
          0.07742313884560646,
          0.020508848926813324,
          0.0005078393874925945,
          0.04487367976917875,
          0.018455633327874713,
          0.025250511632516404,
          -0.015524698165881605,
          0.025711213649707274,
          0.02220408645487257,
          -0.012541203342513279,
          0.025406979617008035,
          0.03500872966613232,
          0.018352932850785826,
          -0.04251460376405848,
          -0.035061086990941626,
          0.04043706813728809,
          -0.024625507744117165,
          0.05474467773876975,
          0.021270680922096614,
          0.008348271800662837,
          0.036582664068558514,
          0.010857348027398475,
          0.02178578231957544,
          0.005627640012100239,
          0.018924667190623513,
          -0.005837421049288732,
          -0.010507412904087207,
          -0.019317495310163843,
          -0.03702308234873066,
          -0.0502066079642967,
          0.07505308164827867,
          -0.0031356591135473957,
          -0.0038490586381484363,
          0.03426400292713562,
          0.01983816617636618,
          0.012199540307522351,
          -0.003288141471512898,
          -0.03802742915065901,
          0.020578058218083173,
          -0.0011994617194989387,
          0.017605926565412752,
          0.011408270044746248,
          -0.005513741542623591,
          0.008923298711376341,
          0.01095762636073222,
          0.03595096466569287,
          0.007405285148278306,
          0.024650477553826818,
          0.0070291436678344725,
          0.017434351222464676,
          -0.0074531415243415606,
          0.03297436107747509,
          -0.014873383350311324,
          0.02669370890246724,
          0.02346192591669714,
          0.012466423829525779,
          0.015889992806511283,
          -0.014758723090924155,
          0.03260400456186906,
          0.001508882704417074,
          -0.0037871098571166002,
          0.01390091403371057,
          0.01811089464719329,
          -0.015097971749920435,
          0.02543407861345168,
          -0.01793076453090927,
          0.018835190787472884,
          0.015696162176823753,
          0.0001131248952503621,
          -0.01568586720448083,
          0.03426272749910035,
          -0.0034779292979865953,
          0.001372675745861855,
          0.007641181943666344,
          -0.009970396599599455,
          0.0036918286703958194,
          -0.031991051043530165,
          -0.02167059338752599,
          0.04135079136171722,
          0.0007146454897501353,
          -0.017442772700206746,
          -0.035485608540474535,
          0.006430730711017769,
          0.042581824163995655,
          0.010616951654964794,
          0.008377242979489776,
          -0.0006016472803627795,
          0.02888209906948305,
          0.00017684907616228888,
          0.0013845428912094744,
          -0.014535424159126863,
          0.038278853782785977,
          0.0036865201350469675,
          0.014226959190850704,
          0.019560421382998804,
          -0.00020737283734986975,
          0.004072287415367107,
          0.0007900945783934628,
          0.006091202610795723,
          0.008817799742483104,
          -0.00430314202283134,
          0.01992765631865089,
          0.006261204681277437,
          0.020683585549783928,
          0.008537470133467649,
          0.030923907113220572,
          -0.024105198194271857,
          -0.007580377852644223,
          0.0042892294841828165,
          0.011692069499850698,
          0.003723364427136413,
          0.02018875921783065,
          0.014372139174721025,
          0.0016878056981217344,
          -0.046336611586759106,
          0.014028433055762415,
          -0.06332955919757118,
          0.06693381512366274,
          0.02185095973647382,
          0.0027548071847893554,
          0.02199695837395036,
          -0.04698866232705112,
          0.0456831649959023,
          0.005524336956083325,
          -0.02436826055095273,
          0.01908255112757236,
          0.006450138307757546,
          0.02104825630556362,
          0.018120110841066343,
          -0.010155745963213832,
          -0.053734410945985335,
          -0.11452664665650965,
          0.09144770601511798,
          0.02938559684386571,
          0.008901461078592686,
          0.034836042924425555,
          0.03150577258532479,
          -0.017403709714804438,
          -0.0023822896148338974,
          0.0970549250363484,
          0.024104536204688505,
          0.0013682103028361862,
          0.03491906161369147,
          0.035722094794095244,
          0.028582748545560078,
          0.011041627616912554,
          0.002692309714510771,
          0.006252592163636157,
          0.014061874395899525,
          -0.02456451386064202,
          0.03582343029937231,
          -0.013392993039836494,
          0.035975570499440584,
          -0.027297325079437957,
          -0.0029226922599090016,
          0.017862228684864877,
          -0.044361160481436186,
          0.007287553004780423,
          -0.06016703462380254,
          0.05701445658897386,
          -0.010529438911928049
         ],
         "yaxis": "y"
        }
       ],
       "layout": {
        "barmode": "relative",
        "legend": {
         "tracegroupgap": 0
        },
        "margin": {
         "t": 60
        },
        "template": {
         "data": {
          "bar": [
           {
            "error_x": {
             "color": "#2a3f5f"
            },
            "error_y": {
             "color": "#2a3f5f"
            },
            "marker": {
             "line": {
              "color": "#E5ECF6",
              "width": 0.5
             },
             "pattern": {
              "fillmode": "overlay",
              "size": 10,
              "solidity": 0.2
             }
            },
            "type": "bar"
           }
          ],
          "barpolar": [
           {
            "marker": {
             "line": {
              "color": "#E5ECF6",
              "width": 0.5
             },
             "pattern": {
              "fillmode": "overlay",
              "size": 10,
              "solidity": 0.2
             }
            },
            "type": "barpolar"
           }
          ],
          "carpet": [
           {
            "aaxis": {
             "endlinecolor": "#2a3f5f",
             "gridcolor": "white",
             "linecolor": "white",
             "minorgridcolor": "white",
             "startlinecolor": "#2a3f5f"
            },
            "baxis": {
             "endlinecolor": "#2a3f5f",
             "gridcolor": "white",
             "linecolor": "white",
             "minorgridcolor": "white",
             "startlinecolor": "#2a3f5f"
            },
            "type": "carpet"
           }
          ],
          "choropleth": [
           {
            "colorbar": {
             "outlinewidth": 0,
             "ticks": ""
            },
            "type": "choropleth"
           }
          ],
          "contour": [
           {
            "colorbar": {
             "outlinewidth": 0,
             "ticks": ""
            },
            "colorscale": [
             [
              0,
              "#0d0887"
             ],
             [
              0.1111111111111111,
              "#46039f"
             ],
             [
              0.2222222222222222,
              "#7201a8"
             ],
             [
              0.3333333333333333,
              "#9c179e"
             ],
             [
              0.4444444444444444,
              "#bd3786"
             ],
             [
              0.5555555555555556,
              "#d8576b"
             ],
             [
              0.6666666666666666,
              "#ed7953"
             ],
             [
              0.7777777777777778,
              "#fb9f3a"
             ],
             [
              0.8888888888888888,
              "#fdca26"
             ],
             [
              1,
              "#f0f921"
             ]
            ],
            "type": "contour"
           }
          ],
          "contourcarpet": [
           {
            "colorbar": {
             "outlinewidth": 0,
             "ticks": ""
            },
            "type": "contourcarpet"
           }
          ],
          "heatmap": [
           {
            "colorbar": {
             "outlinewidth": 0,
             "ticks": ""
            },
            "colorscale": [
             [
              0,
              "#0d0887"
             ],
             [
              0.1111111111111111,
              "#46039f"
             ],
             [
              0.2222222222222222,
              "#7201a8"
             ],
             [
              0.3333333333333333,
              "#9c179e"
             ],
             [
              0.4444444444444444,
              "#bd3786"
             ],
             [
              0.5555555555555556,
              "#d8576b"
             ],
             [
              0.6666666666666666,
              "#ed7953"
             ],
             [
              0.7777777777777778,
              "#fb9f3a"
             ],
             [
              0.8888888888888888,
              "#fdca26"
             ],
             [
              1,
              "#f0f921"
             ]
            ],
            "type": "heatmap"
           }
          ],
          "heatmapgl": [
           {
            "colorbar": {
             "outlinewidth": 0,
             "ticks": ""
            },
            "colorscale": [
             [
              0,
              "#0d0887"
             ],
             [
              0.1111111111111111,
              "#46039f"
             ],
             [
              0.2222222222222222,
              "#7201a8"
             ],
             [
              0.3333333333333333,
              "#9c179e"
             ],
             [
              0.4444444444444444,
              "#bd3786"
             ],
             [
              0.5555555555555556,
              "#d8576b"
             ],
             [
              0.6666666666666666,
              "#ed7953"
             ],
             [
              0.7777777777777778,
              "#fb9f3a"
             ],
             [
              0.8888888888888888,
              "#fdca26"
             ],
             [
              1,
              "#f0f921"
             ]
            ],
            "type": "heatmapgl"
           }
          ],
          "histogram": [
           {
            "marker": {
             "pattern": {
              "fillmode": "overlay",
              "size": 10,
              "solidity": 0.2
             }
            },
            "type": "histogram"
           }
          ],
          "histogram2d": [
           {
            "colorbar": {
             "outlinewidth": 0,
             "ticks": ""
            },
            "colorscale": [
             [
              0,
              "#0d0887"
             ],
             [
              0.1111111111111111,
              "#46039f"
             ],
             [
              0.2222222222222222,
              "#7201a8"
             ],
             [
              0.3333333333333333,
              "#9c179e"
             ],
             [
              0.4444444444444444,
              "#bd3786"
             ],
             [
              0.5555555555555556,
              "#d8576b"
             ],
             [
              0.6666666666666666,
              "#ed7953"
             ],
             [
              0.7777777777777778,
              "#fb9f3a"
             ],
             [
              0.8888888888888888,
              "#fdca26"
             ],
             [
              1,
              "#f0f921"
             ]
            ],
            "type": "histogram2d"
           }
          ],
          "histogram2dcontour": [
           {
            "colorbar": {
             "outlinewidth": 0,
             "ticks": ""
            },
            "colorscale": [
             [
              0,
              "#0d0887"
             ],
             [
              0.1111111111111111,
              "#46039f"
             ],
             [
              0.2222222222222222,
              "#7201a8"
             ],
             [
              0.3333333333333333,
              "#9c179e"
             ],
             [
              0.4444444444444444,
              "#bd3786"
             ],
             [
              0.5555555555555556,
              "#d8576b"
             ],
             [
              0.6666666666666666,
              "#ed7953"
             ],
             [
              0.7777777777777778,
              "#fb9f3a"
             ],
             [
              0.8888888888888888,
              "#fdca26"
             ],
             [
              1,
              "#f0f921"
             ]
            ],
            "type": "histogram2dcontour"
           }
          ],
          "mesh3d": [
           {
            "colorbar": {
             "outlinewidth": 0,
             "ticks": ""
            },
            "type": "mesh3d"
           }
          ],
          "parcoords": [
           {
            "line": {
             "colorbar": {
              "outlinewidth": 0,
              "ticks": ""
             }
            },
            "type": "parcoords"
           }
          ],
          "pie": [
           {
            "automargin": true,
            "type": "pie"
           }
          ],
          "scatter": [
           {
            "fillpattern": {
             "fillmode": "overlay",
             "size": 10,
             "solidity": 0.2
            },
            "type": "scatter"
           }
          ],
          "scatter3d": [
           {
            "line": {
             "colorbar": {
              "outlinewidth": 0,
              "ticks": ""
             }
            },
            "marker": {
             "colorbar": {
              "outlinewidth": 0,
              "ticks": ""
             }
            },
            "type": "scatter3d"
           }
          ],
          "scattercarpet": [
           {
            "marker": {
             "colorbar": {
              "outlinewidth": 0,
              "ticks": ""
             }
            },
            "type": "scattercarpet"
           }
          ],
          "scattergeo": [
           {
            "marker": {
             "colorbar": {
              "outlinewidth": 0,
              "ticks": ""
             }
            },
            "type": "scattergeo"
           }
          ],
          "scattergl": [
           {
            "marker": {
             "colorbar": {
              "outlinewidth": 0,
              "ticks": ""
             }
            },
            "type": "scattergl"
           }
          ],
          "scattermapbox": [
           {
            "marker": {
             "colorbar": {
              "outlinewidth": 0,
              "ticks": ""
             }
            },
            "type": "scattermapbox"
           }
          ],
          "scatterpolar": [
           {
            "marker": {
             "colorbar": {
              "outlinewidth": 0,
              "ticks": ""
             }
            },
            "type": "scatterpolar"
           }
          ],
          "scatterpolargl": [
           {
            "marker": {
             "colorbar": {
              "outlinewidth": 0,
              "ticks": ""
             }
            },
            "type": "scatterpolargl"
           }
          ],
          "scatterternary": [
           {
            "marker": {
             "colorbar": {
              "outlinewidth": 0,
              "ticks": ""
             }
            },
            "type": "scatterternary"
           }
          ],
          "surface": [
           {
            "colorbar": {
             "outlinewidth": 0,
             "ticks": ""
            },
            "colorscale": [
             [
              0,
              "#0d0887"
             ],
             [
              0.1111111111111111,
              "#46039f"
             ],
             [
              0.2222222222222222,
              "#7201a8"
             ],
             [
              0.3333333333333333,
              "#9c179e"
             ],
             [
              0.4444444444444444,
              "#bd3786"
             ],
             [
              0.5555555555555556,
              "#d8576b"
             ],
             [
              0.6666666666666666,
              "#ed7953"
             ],
             [
              0.7777777777777778,
              "#fb9f3a"
             ],
             [
              0.8888888888888888,
              "#fdca26"
             ],
             [
              1,
              "#f0f921"
             ]
            ],
            "type": "surface"
           }
          ],
          "table": [
           {
            "cells": {
             "fill": {
              "color": "#EBF0F8"
             },
             "line": {
              "color": "white"
             }
            },
            "header": {
             "fill": {
              "color": "#C8D4E3"
             },
             "line": {
              "color": "white"
             }
            },
            "type": "table"
           }
          ]
         },
         "layout": {
          "annotationdefaults": {
           "arrowcolor": "#2a3f5f",
           "arrowhead": 0,
           "arrowwidth": 1
          },
          "autotypenumbers": "strict",
          "coloraxis": {
           "colorbar": {
            "outlinewidth": 0,
            "ticks": ""
           }
          },
          "colorscale": {
           "diverging": [
            [
             0,
             "#8e0152"
            ],
            [
             0.1,
             "#c51b7d"
            ],
            [
             0.2,
             "#de77ae"
            ],
            [
             0.3,
             "#f1b6da"
            ],
            [
             0.4,
             "#fde0ef"
            ],
            [
             0.5,
             "#f7f7f7"
            ],
            [
             0.6,
             "#e6f5d0"
            ],
            [
             0.7,
             "#b8e186"
            ],
            [
             0.8,
             "#7fbc41"
            ],
            [
             0.9,
             "#4d9221"
            ],
            [
             1,
             "#276419"
            ]
           ],
           "sequential": [
            [
             0,
             "#0d0887"
            ],
            [
             0.1111111111111111,
             "#46039f"
            ],
            [
             0.2222222222222222,
             "#7201a8"
            ],
            [
             0.3333333333333333,
             "#9c179e"
            ],
            [
             0.4444444444444444,
             "#bd3786"
            ],
            [
             0.5555555555555556,
             "#d8576b"
            ],
            [
             0.6666666666666666,
             "#ed7953"
            ],
            [
             0.7777777777777778,
             "#fb9f3a"
            ],
            [
             0.8888888888888888,
             "#fdca26"
            ],
            [
             1,
             "#f0f921"
            ]
           ],
           "sequentialminus": [
            [
             0,
             "#0d0887"
            ],
            [
             0.1111111111111111,
             "#46039f"
            ],
            [
             0.2222222222222222,
             "#7201a8"
            ],
            [
             0.3333333333333333,
             "#9c179e"
            ],
            [
             0.4444444444444444,
             "#bd3786"
            ],
            [
             0.5555555555555556,
             "#d8576b"
            ],
            [
             0.6666666666666666,
             "#ed7953"
            ],
            [
             0.7777777777777778,
             "#fb9f3a"
            ],
            [
             0.8888888888888888,
             "#fdca26"
            ],
            [
             1,
             "#f0f921"
            ]
           ]
          },
          "colorway": [
           "#636efa",
           "#EF553B",
           "#00cc96",
           "#ab63fa",
           "#FFA15A",
           "#19d3f3",
           "#FF6692",
           "#B6E880",
           "#FF97FF",
           "#FECB52"
          ],
          "font": {
           "color": "#2a3f5f"
          },
          "geo": {
           "bgcolor": "white",
           "lakecolor": "white",
           "landcolor": "#E5ECF6",
           "showlakes": true,
           "showland": true,
           "subunitcolor": "white"
          },
          "hoverlabel": {
           "align": "left"
          },
          "hovermode": "closest",
          "mapbox": {
           "style": "light"
          },
          "paper_bgcolor": "white",
          "plot_bgcolor": "#E5ECF6",
          "polar": {
           "angularaxis": {
            "gridcolor": "white",
            "linecolor": "white",
            "ticks": ""
           },
           "bgcolor": "#E5ECF6",
           "radialaxis": {
            "gridcolor": "white",
            "linecolor": "white",
            "ticks": ""
           }
          },
          "scene": {
           "xaxis": {
            "backgroundcolor": "#E5ECF6",
            "gridcolor": "white",
            "gridwidth": 2,
            "linecolor": "white",
            "showbackground": true,
            "ticks": "",
            "zerolinecolor": "white"
           },
           "yaxis": {
            "backgroundcolor": "#E5ECF6",
            "gridcolor": "white",
            "gridwidth": 2,
            "linecolor": "white",
            "showbackground": true,
            "ticks": "",
            "zerolinecolor": "white"
           },
           "zaxis": {
            "backgroundcolor": "#E5ECF6",
            "gridcolor": "white",
            "gridwidth": 2,
            "linecolor": "white",
            "showbackground": true,
            "ticks": "",
            "zerolinecolor": "white"
           }
          },
          "shapedefaults": {
           "line": {
            "color": "#2a3f5f"
           }
          },
          "ternary": {
           "aaxis": {
            "gridcolor": "white",
            "linecolor": "white",
            "ticks": ""
           },
           "baxis": {
            "gridcolor": "white",
            "linecolor": "white",
            "ticks": ""
           },
           "bgcolor": "#E5ECF6",
           "caxis": {
            "gridcolor": "white",
            "linecolor": "white",
            "ticks": ""
           }
          },
          "title": {
           "x": 0.05
          },
          "xaxis": {
           "automargin": true,
           "gridcolor": "white",
           "linecolor": "white",
           "ticks": "",
           "title": {
            "standoff": 15
           },
           "zerolinecolor": "white",
           "zerolinewidth": 2
          },
          "yaxis": {
           "automargin": true,
           "gridcolor": "white",
           "linecolor": "white",
           "ticks": "",
           "title": {
            "standoff": 15
           },
           "zerolinecolor": "white",
           "zerolinewidth": 2
          }
         }
        },
        "xaxis": {
         "anchor": "y",
         "domain": [
          0,
          1
         ],
         "title": {
          "text": "date"
         }
        },
        "yaxis": {
         "anchor": "x",
         "domain": [
          0,
          1
         ],
         "title": {
          "text": "vol_rets"
         }
        }
       }
      }
     },
     "metadata": {},
     "output_type": "display_data"
    }
   ],
   "source": [
    "monthly_rets = strategy_returns[[\"date\", \"vol_rets\"]].resample('M', on='date').mean() # Calculate average daily return for each month\n",
    "monthly_rets['Colour']='red' # Add column with 'red' value\n",
    "monthly_rets.loc[monthly_rets['vol_rets']>=0, 'Colour']='green' # Replace 'red' with 'green' where return is non-negative\n",
    "px.bar(monthly_rets,x=monthly_rets.index,y=\"vol_rets\").update_traces(marker_color=monthly_rets[\"Colour\"]).show()"
   ]
  },
  {
   "cell_type": "code",
   "execution_count": 192,
   "id": "5d5ab9cd",
   "metadata": {},
   "outputs": [
    {
     "name": "stdout",
     "output_type": "stream",
     "text": [
      "0.006043966023173701 0.025173054561218742\n"
     ]
    }
   ],
   "source": [
    "# mean and volatility\n",
    "mean_ret = strategy_returns['vol_rets'].mean()\n",
    "volatility = strategy_returns['vol_rets'].std()\n",
    "print(mean_ret, volatility)"
   ]
  },
  {
   "cell_type": "code",
   "execution_count": 193,
   "id": "f1bb2435",
   "metadata": {},
   "outputs": [
    {
     "name": "stdout",
     "output_type": "stream",
     "text": [
      "Annualised expected return is: 7.25%\n",
      "Annualised volatility is: 8.72%\n"
     ]
    }
   ],
   "source": [
    "print('Annualised expected return is: '+str(round(100*mean_ret*12,2)) +'%')\n",
    "print('Annualised volatility is: '+str(round(100*volatility*np.sqrt(12),2)) +'%')"
   ]
  },
  {
   "cell_type": "code",
   "execution_count": 194,
   "id": "cda046e9",
   "metadata": {},
   "outputs": [
    {
     "data": {
      "text/plain": [
       "count    389.000000\n",
       "mean       0.604397\n",
       "std        2.517305\n",
       "min      -11.452665\n",
       "25%       -0.745314\n",
       "50%        0.791440\n",
       "75%        2.047626\n",
       "max        9.705493\n",
       "Name: vol_rets, dtype: float64"
      ]
     },
     "execution_count": 194,
     "metadata": {},
     "output_type": "execute_result"
    }
   ],
   "source": [
    "# describing statistic of returns\n",
    "(strategy_returns['vol_rets']*100).describe()"
   ]
  },
  {
   "cell_type": "code",
   "execution_count": 195,
   "id": "14743eca",
   "metadata": {},
   "outputs": [
    {
     "name": "stdout",
     "output_type": "stream",
     "text": [
      "-0.5935241489215107\n"
     ]
    }
   ],
   "source": [
    "# skewness\n",
    "print(skew(strategy_returns['vol_rets'].dropna()))"
   ]
  },
  {
   "cell_type": "code",
   "execution_count": 196,
   "id": "d1d8ea4e",
   "metadata": {},
   "outputs": [
    {
     "name": "stdout",
     "output_type": "stream",
     "text": [
      "2.8828767173410457\n"
     ]
    }
   ],
   "source": [
    "# kurtosis\n",
    "print(kurtosis(strategy_returns[\"vol_rets\"].dropna()))"
   ]
  },
  {
   "cell_type": "code",
   "execution_count": 197,
   "id": "618f1cdc",
   "metadata": {},
   "outputs": [
    {
     "data": {
      "text/plain": [
       "-0.09180692721865255"
      ]
     },
     "execution_count": 197,
     "metadata": {},
     "output_type": "execute_result"
    }
   ],
   "source": [
    "# Value at Risk\n",
    "VaR = strategy_returns['vol_rets'].quantile(0.005)\n",
    "VaR"
   ]
  },
  {
   "cell_type": "code",
   "execution_count": 198,
   "id": "2b750603",
   "metadata": {},
   "outputs": [
    {
     "name": "stdout",
     "output_type": "stream",
     "text": [
      "There is a 10.0% chance that my losses will be -2.26% or worse over the next day.\n",
      "There is a 5.0% chance that my losses will be -3.76% or worse over the next day.\n",
      "There is a 1.0% chance that my losses will be -6.05% or worse over the next day.\n",
      "There is a 0.1% chance that my losses will be -11.01% or worse over the next day.\n",
      "There is a 0.01% chance that my losses will be -11.41% or worse over the next day.\n"
     ]
    }
   ],
   "source": [
    "for q in [0.1, 0.05, 0.01, 0.001, 0.0001]:\n",
    "    VaR = strategy_returns['vol_rets'].quantile(q)\n",
    "    print('There is a '+str(round(100*q,3))+'% chance that my losses will be '+str(round(VaR*100, 2))+'% or worse over the next day.')"
   ]
  },
  {
   "cell_type": "code",
   "execution_count": 199,
   "id": "2ab55ed1",
   "metadata": {},
   "outputs": [
    {
     "data": {
      "text/html": [
       "<div>\n",
       "<style scoped>\n",
       "    .dataframe tbody tr th:only-of-type {\n",
       "        vertical-align: middle;\n",
       "    }\n",
       "\n",
       "    .dataframe tbody tr th {\n",
       "        vertical-align: top;\n",
       "    }\n",
       "\n",
       "    .dataframe thead th {\n",
       "        text-align: right;\n",
       "    }\n",
       "</style>\n",
       "<table border=\"1\" class=\"dataframe\">\n",
       "  <thead>\n",
       "    <tr style=\"text-align: right;\">\n",
       "      <th></th>\n",
       "      <th>date</th>\n",
       "      <th>vol_rets</th>\n",
       "      <th>vol_cum_rets</th>\n",
       "    </tr>\n",
       "  </thead>\n",
       "  <tbody>\n",
       "    <tr>\n",
       "      <th>224</th>\n",
       "      <td>2008-10-31</td>\n",
       "      <td>-0.103107</td>\n",
       "      <td>3.123473</td>\n",
       "    </tr>\n",
       "    <tr>\n",
       "      <th>361</th>\n",
       "      <td>2020-03-31</td>\n",
       "      <td>-0.114527</td>\n",
       "      <td>6.279013</td>\n",
       "    </tr>\n",
       "  </tbody>\n",
       "</table>\n",
       "</div>"
      ],
      "text/plain": [
       "          date  vol_rets  vol_cum_rets\n",
       "224 2008-10-31 -0.103107      3.123473\n",
       "361 2020-03-31 -0.114527      6.279013"
      ]
     },
     "execution_count": 199,
     "metadata": {},
     "output_type": "execute_result"
    }
   ],
   "source": [
    "VaR = strategy_returns['vol_rets'].quantile(0.005)\n",
    "rets_tail = strategy_returns.loc[strategy_returns['vol_rets']<=VaR,[\"date\", \"vol_rets\", \"vol_cum_rets\"]]\n",
    "rets_tail"
   ]
  },
  {
   "cell_type": "code",
   "execution_count": 200,
   "id": "e4750315",
   "metadata": {},
   "outputs": [
    {
     "data": {
      "text/plain": [
       "-0.10881690576535323"
      ]
     },
     "execution_count": 200,
     "metadata": {},
     "output_type": "execute_result"
    }
   ],
   "source": [
    "ES = rets_tail['vol_rets'].mean()\n",
    "ES"
   ]
  },
  {
   "cell_type": "code",
   "execution_count": 201,
   "id": "36a31c50",
   "metadata": {},
   "outputs": [
    {
     "name": "stdout",
     "output_type": "stream",
     "text": [
      "I expect to lose on average -4.31% over 1-day period given that I have exceeded my VaR for 10.0%.\n",
      "I expect to lose on average -5.64% over 1-day period given that I have exceeded my VaR for 5.0%.\n",
      "I expect to lose on average -9.3% over 1-day period given that I have exceeded my VaR for 1.0%.\n",
      "I expect to lose on average -11.45% over 1-day period given that I have exceeded my VaR for 0.1%.\n",
      "I expect to lose on average -11.45% over 1-day period given that I have exceeded my VaR for 0.01%.\n"
     ]
    }
   ],
   "source": [
    "for q in [0.1, 0.05, 0.01, 0.001, 0.0001]:\n",
    "    VaR = strategy_returns['vol_rets'].quantile(q)\n",
    "    rets_tail = strategy_returns.loc[strategy_returns['vol_rets']<=VaR,:]\n",
    "    ES = rets_tail['vol_rets'].mean()\n",
    "    print('I expect to lose on average '+ str(round(ES*100, 2))+'% over 1-day period given that I have exceeded my VaR for '+str(round(100*q,3))+'%.')"
   ]
  },
  {
   "cell_type": "code",
   "execution_count": 202,
   "id": "fefe4224",
   "metadata": {},
   "outputs": [
    {
     "data": {
      "text/plain": [
       "-1.650814122527941"
      ]
     },
     "execution_count": 202,
     "metadata": {},
     "output_type": "execute_result"
    }
   ],
   "source": [
    "# according to bloomberg the risk free rate (treasury yields) 4.76 % (last 30 years)\n",
    "# calculation of sharpe ratio\n",
    "\n",
    "rf = 0.0476\n",
    "sharpe_ratio = (mean_ret-rf)/volatility\n",
    "sharpe_ratio"
   ]
  },
  {
   "cell_type": "code",
   "execution_count": 203,
   "id": "1367e747",
   "metadata": {},
   "outputs": [],
   "source": [
    "# get SP500 data from 1990-01-31 to 2022-08-30\t\n",
    "sp500_ticker = yf.Ticker(\"^GSPC\")\n",
    "sp500 = sp500_ticker.history(start=\"1990-02-28\", end=\"2022-09-30\", interval=\"1mo\")\n",
    "sp500 = sp500[[\"Close\"]]\n",
    "sp500[\"Rets\"] = sp500.Close.pct_change()"
   ]
  },
  {
   "cell_type": "code",
   "execution_count": 204,
   "id": "fc1096be",
   "metadata": {},
   "outputs": [
    {
     "data": {
      "text/html": [
       "<div>\n",
       "<style scoped>\n",
       "    .dataframe tbody tr th:only-of-type {\n",
       "        vertical-align: middle;\n",
       "    }\n",
       "\n",
       "    .dataframe tbody tr th {\n",
       "        vertical-align: top;\n",
       "    }\n",
       "\n",
       "    .dataframe thead th {\n",
       "        text-align: right;\n",
       "    }\n",
       "</style>\n",
       "<table border=\"1\" class=\"dataframe\">\n",
       "  <thead>\n",
       "    <tr style=\"text-align: right;\">\n",
       "      <th></th>\n",
       "      <th>Close</th>\n",
       "      <th>Rets</th>\n",
       "    </tr>\n",
       "    <tr>\n",
       "      <th>Date</th>\n",
       "      <th></th>\n",
       "      <th></th>\n",
       "    </tr>\n",
       "  </thead>\n",
       "  <tbody>\n",
       "    <tr>\n",
       "      <th>1990-03-01 00:00:00-05:00</th>\n",
       "      <td>339.940002</td>\n",
       "      <td>NaN</td>\n",
       "    </tr>\n",
       "    <tr>\n",
       "      <th>1990-04-01 00:00:00-05:00</th>\n",
       "      <td>330.799988</td>\n",
       "      <td>-0.026887</td>\n",
       "    </tr>\n",
       "    <tr>\n",
       "      <th>1990-05-01 00:00:00-04:00</th>\n",
       "      <td>361.230011</td>\n",
       "      <td>0.091989</td>\n",
       "    </tr>\n",
       "    <tr>\n",
       "      <th>1990-06-01 00:00:00-04:00</th>\n",
       "      <td>358.019989</td>\n",
       "      <td>-0.008886</td>\n",
       "    </tr>\n",
       "    <tr>\n",
       "      <th>1990-07-01 00:00:00-04:00</th>\n",
       "      <td>356.149994</td>\n",
       "      <td>-0.005223</td>\n",
       "    </tr>\n",
       "    <tr>\n",
       "      <th>...</th>\n",
       "      <td>...</td>\n",
       "      <td>...</td>\n",
       "    </tr>\n",
       "    <tr>\n",
       "      <th>2022-05-01 00:00:00-04:00</th>\n",
       "      <td>4132.149902</td>\n",
       "      <td>0.000053</td>\n",
       "    </tr>\n",
       "    <tr>\n",
       "      <th>2022-06-01 00:00:00-04:00</th>\n",
       "      <td>3785.379883</td>\n",
       "      <td>-0.083920</td>\n",
       "    </tr>\n",
       "    <tr>\n",
       "      <th>2022-07-01 00:00:00-04:00</th>\n",
       "      <td>4130.290039</td>\n",
       "      <td>0.091116</td>\n",
       "    </tr>\n",
       "    <tr>\n",
       "      <th>2022-08-01 00:00:00-04:00</th>\n",
       "      <td>3955.000000</td>\n",
       "      <td>-0.042440</td>\n",
       "    </tr>\n",
       "    <tr>\n",
       "      <th>2022-09-01 00:00:00-04:00</th>\n",
       "      <td>3585.620117</td>\n",
       "      <td>-0.093396</td>\n",
       "    </tr>\n",
       "  </tbody>\n",
       "</table>\n",
       "<p>391 rows × 2 columns</p>\n",
       "</div>"
      ],
      "text/plain": [
       "                                 Close      Rets\n",
       "Date                                            \n",
       "1990-03-01 00:00:00-05:00   339.940002       NaN\n",
       "1990-04-01 00:00:00-05:00   330.799988 -0.026887\n",
       "1990-05-01 00:00:00-04:00   361.230011  0.091989\n",
       "1990-06-01 00:00:00-04:00   358.019989 -0.008886\n",
       "1990-07-01 00:00:00-04:00   356.149994 -0.005223\n",
       "...                                ...       ...\n",
       "2022-05-01 00:00:00-04:00  4132.149902  0.000053\n",
       "2022-06-01 00:00:00-04:00  3785.379883 -0.083920\n",
       "2022-07-01 00:00:00-04:00  4130.290039  0.091116\n",
       "2022-08-01 00:00:00-04:00  3955.000000 -0.042440\n",
       "2022-09-01 00:00:00-04:00  3585.620117 -0.093396\n",
       "\n",
       "[391 rows x 2 columns]"
      ]
     },
     "execution_count": 204,
     "metadata": {},
     "output_type": "execute_result"
    }
   ],
   "source": [
    "sp500"
   ]
  },
  {
   "cell_type": "code",
   "execution_count": 205,
   "id": "674d499f",
   "metadata": {},
   "outputs": [
    {
     "name": "stdout",
     "output_type": "stream",
     "text": [
      "Portfolio Beta: -0.0037173724630780707\n",
      "Jensen's Alpha: -0.041707007013215495\n"
     ]
    }
   ],
   "source": [
    "# Calculate the average return of the market\n",
    "average_market_return = sp500.Rets.mean()\n",
    "\n",
    "# Calculate the covariance between portfolio and market returns\n",
    "covariance = strategy_returns['vol_rets'].cov(sp500['Rets'].reset_index(drop=True))\n",
    "\n",
    "# Calculate the variance of the market returns\n",
    "market_variance = sp500['Rets'].var()\n",
    "\n",
    "# Calculate the portfolio's beta\n",
    "portfolio_beta = covariance / market_variance\n",
    "\n",
    "# Calculate Jensen's Alpha\n",
    "jensens_alpha = mean_ret - (rf + portfolio_beta * (average_market_return - rf))\n",
    "\n",
    "print(\"Portfolio Beta:\", portfolio_beta)\n",
    "print(\"Jensen's Alpha:\", jensens_alpha)"
   ]
  },
  {
   "cell_type": "code",
   "execution_count": 206,
   "id": "b5d4bbc5",
   "metadata": {},
   "outputs": [
    {
     "data": {
      "text/plain": [
       "11.178872816639132"
      ]
     },
     "execution_count": 206,
     "metadata": {},
     "output_type": "execute_result"
    }
   ],
   "source": [
    "# treynor ratio\n",
    "treynor_ratio = (mean_ret - rf)/portfolio_beta\n",
    "treynor_ratio"
   ]
  },
  {
   "cell_type": "code",
   "execution_count": 207,
   "id": "b016eee5",
   "metadata": {},
   "outputs": [
    {
     "name": "stdout",
     "output_type": "stream",
     "text": [
      "0.28951015746234604\n"
     ]
    }
   ],
   "source": [
    "# maximum drawdown\n",
    "peak = strategy_returns.reset_index(drop=True).loc[1, \"vol_cum_rets\"]\n",
    "max_drawdown = 0\n",
    "for ret in strategy_returns[\"vol_cum_rets\"].dropna():\n",
    "    if ret >= peak:\n",
    "        peak = ret\n",
    "    else:\n",
    "        drawdown = (peak - ret)/peak\n",
    "        max_drawdown = max(max_drawdown, drawdown)\n",
    "\n",
    "print(max_drawdown)"
   ]
  },
  {
   "cell_type": "code",
   "execution_count": 208,
   "id": "09c70947",
   "metadata": {},
   "outputs": [
    {
     "data": {
      "text/plain": [
       "0.07737206941664342"
      ]
     },
     "execution_count": 208,
     "metadata": {},
     "output_type": "execute_result"
    }
   ],
   "source": [
    "# calmar-ratio\n",
    "annualised_exp_return = round(mean_ret*12,2)\n",
    "calmar_ratio = (annualised_exp_return - rf)/max_drawdown\n",
    "calmar_ratio"
   ]
  }
 ],
 "metadata": {
  "kernelspec": {
   "display_name": "Python 3 (ipykernel)",
   "language": "python",
   "name": "python3"
  },
  "language_info": {
   "codemirror_mode": {
    "name": "ipython",
    "version": 3
   },
   "file_extension": ".py",
   "mimetype": "text/x-python",
   "name": "python",
   "nbconvert_exporter": "python",
   "pygments_lexer": "ipython3",
   "version": "3.9.0"
  }
 },
 "nbformat": 4,
 "nbformat_minor": 5
}
