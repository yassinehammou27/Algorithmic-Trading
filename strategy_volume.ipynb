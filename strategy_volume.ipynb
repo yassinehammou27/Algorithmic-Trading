{
 "cells": [
  {
   "cell_type": "markdown",
   "id": "acae3b45",
   "metadata": {},
   "source": [
    "# Group Project\n",
    "#### **FINN43815 - Python for Finance**"
   ]
  },
  {
   "cell_type": "code",
   "execution_count": 1,
   "id": "36a8edf5",
   "metadata": {},
   "outputs": [],
   "source": [
    "import numpy as np\n",
    "import pandas as pd\n",
    "import plotly.express as px\n",
    "from scipy.stats import kurtosis, skew\n",
    "import yfinance as yf\n",
    "from matplotlib import pyplot as plt"
   ]
  },
  {
   "cell_type": "markdown",
   "id": "278f8d90",
   "metadata": {},
   "source": [
    "### Volume Trading Strategy"
   ]
  },
  {
   "cell_type": "markdown",
   "id": "e6e26e70",
   "metadata": {},
   "source": [
    "#### 1. Import Data"
   ]
  },
  {
   "cell_type": "code",
   "execution_count": 2,
   "id": "d81ffa77",
   "metadata": {},
   "outputs": [
    {
     "name": "stderr",
     "output_type": "stream",
     "text": [
      "/var/folders/ch/yj3xbk4s1t34gtb89jtxcmcr0000gn/T/ipykernel_48966/1299969751.py:1: DtypeWarning: Columns (12) have mixed types. Specify dtype option on import or set low_memory=False.\n",
      "  data = pd.read_csv('cleaned_data.csv')\n"
     ]
    }
   ],
   "source": [
    "data = pd.read_csv('cleaned_data.csv')"
   ]
  },
  {
   "cell_type": "code",
   "execution_count": 3,
   "id": "0a7b9ab6",
   "metadata": {},
   "outputs": [
    {
     "data": {
      "text/html": [
       "<div>\n",
       "<style scoped>\n",
       "    .dataframe tbody tr th:only-of-type {\n",
       "        vertical-align: middle;\n",
       "    }\n",
       "\n",
       "    .dataframe tbody tr th {\n",
       "        vertical-align: top;\n",
       "    }\n",
       "\n",
       "    .dataframe thead th {\n",
       "        text-align: right;\n",
       "    }\n",
       "</style>\n",
       "<table border=\"1\" class=\"dataframe\">\n",
       "  <thead>\n",
       "    <tr style=\"text-align: right;\">\n",
       "      <th></th>\n",
       "      <th>date</th>\n",
       "      <th>permno</th>\n",
       "      <th>price</th>\n",
       "      <th>volume</th>\n",
       "    </tr>\n",
       "  </thead>\n",
       "  <tbody>\n",
       "    <tr>\n",
       "      <th>0</th>\n",
       "      <td>1990-01-31</td>\n",
       "      <td>0111145D UN Equity</td>\n",
       "      <td>20.6875</td>\n",
       "      <td>49200.0</td>\n",
       "    </tr>\n",
       "    <tr>\n",
       "      <th>1</th>\n",
       "      <td>1990-02-28</td>\n",
       "      <td>0111145D UN Equity</td>\n",
       "      <td>22.0000</td>\n",
       "      <td>141600.0</td>\n",
       "    </tr>\n",
       "    <tr>\n",
       "      <th>2</th>\n",
       "      <td>1990-03-30</td>\n",
       "      <td>0111145D UN Equity</td>\n",
       "      <td>19.5000</td>\n",
       "      <td>32400.0</td>\n",
       "    </tr>\n",
       "    <tr>\n",
       "      <th>3</th>\n",
       "      <td>1990-04-30</td>\n",
       "      <td>0111145D UN Equity</td>\n",
       "      <td>17.6250</td>\n",
       "      <td>219400.0</td>\n",
       "    </tr>\n",
       "    <tr>\n",
       "      <th>4</th>\n",
       "      <td>1990-05-31</td>\n",
       "      <td>0111145D UN Equity</td>\n",
       "      <td>19.8125</td>\n",
       "      <td>128800.0</td>\n",
       "    </tr>\n",
       "    <tr>\n",
       "      <th>...</th>\n",
       "      <td>...</td>\n",
       "      <td>...</td>\n",
       "      <td>...</td>\n",
       "      <td>...</td>\n",
       "    </tr>\n",
       "    <tr>\n",
       "      <th>514691</th>\n",
       "      <td>2022-04-29</td>\n",
       "      <td>J UN Equity</td>\n",
       "      <td>138.5500</td>\n",
       "      <td>304510.0</td>\n",
       "    </tr>\n",
       "    <tr>\n",
       "      <th>514692</th>\n",
       "      <td>2022-05-31</td>\n",
       "      <td>J UN Equity</td>\n",
       "      <td>140.0900</td>\n",
       "      <td>439716.0</td>\n",
       "    </tr>\n",
       "    <tr>\n",
       "      <th>514693</th>\n",
       "      <td>2022-06-30</td>\n",
       "      <td>J UN Equity</td>\n",
       "      <td>127.1300</td>\n",
       "      <td>361201.0</td>\n",
       "    </tr>\n",
       "    <tr>\n",
       "      <th>514694</th>\n",
       "      <td>2022-07-29</td>\n",
       "      <td>J UN Equity</td>\n",
       "      <td>137.3000</td>\n",
       "      <td>214654.0</td>\n",
       "    </tr>\n",
       "    <tr>\n",
       "      <th>514695</th>\n",
       "      <td>2022-08-30</td>\n",
       "      <td>J UN Equity</td>\n",
       "      <td>124.4400</td>\n",
       "      <td>162011.0</td>\n",
       "    </tr>\n",
       "  </tbody>\n",
       "</table>\n",
       "<p>514696 rows × 4 columns</p>\n",
       "</div>"
      ],
      "text/plain": [
       "              date              permno     price    volume\n",
       "0       1990-01-31  0111145D UN Equity   20.6875   49200.0\n",
       "1       1990-02-28  0111145D UN Equity   22.0000  141600.0\n",
       "2       1990-03-30  0111145D UN Equity   19.5000   32400.0\n",
       "3       1990-04-30  0111145D UN Equity   17.6250  219400.0\n",
       "4       1990-05-31  0111145D UN Equity   19.8125  128800.0\n",
       "...            ...                 ...       ...       ...\n",
       "514691  2022-04-29         J UN Equity  138.5500  304510.0\n",
       "514692  2022-05-31         J UN Equity  140.0900  439716.0\n",
       "514693  2022-06-30         J UN Equity  127.1300  361201.0\n",
       "514694  2022-07-29         J UN Equity  137.3000  214654.0\n",
       "514695  2022-08-30         J UN Equity  124.4400  162011.0\n",
       "\n",
       "[514696 rows x 4 columns]"
      ]
     },
     "execution_count": 3,
     "metadata": {},
     "output_type": "execute_result"
    }
   ],
   "source": [
    "# drop unnecessary columns\n",
    "data = data[[\"date\", \"permno\", \"price\", \"volume\"]]\n",
    "data"
   ]
  },
  {
   "cell_type": "markdown",
   "id": "31589d51",
   "metadata": {},
   "source": [
    "#### 2. Calculate monthly returns"
   ]
  },
  {
   "cell_type": "code",
   "execution_count": 4,
   "id": "5b02046b",
   "metadata": {},
   "outputs": [
    {
     "name": "stderr",
     "output_type": "stream",
     "text": [
      "/var/folders/ch/yj3xbk4s1t34gtb89jtxcmcr0000gn/T/ipykernel_48966/1728035520.py:1: FutureWarning: The default fill_method='pad' in Series.pct_change is deprecated and will be removed in a future version. Call ffill before calling pct_change to retain current behavior and silence this warning.\n",
      "  data['rets'] = data.groupby('permno')['price'].transform(pd.Series.pct_change)\n"
     ]
    },
    {
     "data": {
      "text/html": [
       "<div>\n",
       "<style scoped>\n",
       "    .dataframe tbody tr th:only-of-type {\n",
       "        vertical-align: middle;\n",
       "    }\n",
       "\n",
       "    .dataframe tbody tr th {\n",
       "        vertical-align: top;\n",
       "    }\n",
       "\n",
       "    .dataframe thead th {\n",
       "        text-align: right;\n",
       "    }\n",
       "</style>\n",
       "<table border=\"1\" class=\"dataframe\">\n",
       "  <thead>\n",
       "    <tr style=\"text-align: right;\">\n",
       "      <th></th>\n",
       "      <th>date</th>\n",
       "      <th>permno</th>\n",
       "      <th>price</th>\n",
       "      <th>volume</th>\n",
       "      <th>rets</th>\n",
       "    </tr>\n",
       "  </thead>\n",
       "  <tbody>\n",
       "    <tr>\n",
       "      <th>0</th>\n",
       "      <td>1990-01-31</td>\n",
       "      <td>0111145D UN Equity</td>\n",
       "      <td>20.6875</td>\n",
       "      <td>49200.0</td>\n",
       "      <td>NaN</td>\n",
       "    </tr>\n",
       "    <tr>\n",
       "      <th>1</th>\n",
       "      <td>1990-02-28</td>\n",
       "      <td>0111145D UN Equity</td>\n",
       "      <td>22.0000</td>\n",
       "      <td>141600.0</td>\n",
       "      <td>0.063444</td>\n",
       "    </tr>\n",
       "    <tr>\n",
       "      <th>2</th>\n",
       "      <td>1990-03-30</td>\n",
       "      <td>0111145D UN Equity</td>\n",
       "      <td>19.5000</td>\n",
       "      <td>32400.0</td>\n",
       "      <td>-0.113636</td>\n",
       "    </tr>\n",
       "    <tr>\n",
       "      <th>3</th>\n",
       "      <td>1990-04-30</td>\n",
       "      <td>0111145D UN Equity</td>\n",
       "      <td>17.6250</td>\n",
       "      <td>219400.0</td>\n",
       "      <td>-0.096154</td>\n",
       "    </tr>\n",
       "    <tr>\n",
       "      <th>4</th>\n",
       "      <td>1990-05-31</td>\n",
       "      <td>0111145D UN Equity</td>\n",
       "      <td>19.8125</td>\n",
       "      <td>128800.0</td>\n",
       "      <td>0.124113</td>\n",
       "    </tr>\n",
       "  </tbody>\n",
       "</table>\n",
       "</div>"
      ],
      "text/plain": [
       "         date              permno    price    volume      rets\n",
       "0  1990-01-31  0111145D UN Equity  20.6875   49200.0       NaN\n",
       "1  1990-02-28  0111145D UN Equity  22.0000  141600.0  0.063444\n",
       "2  1990-03-30  0111145D UN Equity  19.5000   32400.0 -0.113636\n",
       "3  1990-04-30  0111145D UN Equity  17.6250  219400.0 -0.096154\n",
       "4  1990-05-31  0111145D UN Equity  19.8125  128800.0  0.124113"
      ]
     },
     "execution_count": 4,
     "metadata": {},
     "output_type": "execute_result"
    }
   ],
   "source": [
    "data['rets'] = data.groupby('permno')['price'].transform(pd.Series.pct_change)\n",
    "data.head()"
   ]
  },
  {
   "cell_type": "markdown",
   "id": "27834fd8",
   "metadata": {},
   "source": [
    "#### 3. Calculate On-Balance Volume (OBV)"
   ]
  },
  {
   "cell_type": "code",
   "execution_count": 5,
   "id": "9da62d57",
   "metadata": {},
   "outputs": [],
   "source": [
    "OBV = [0]\n",
    "for _, df in data.groupby(\"permno\"):\n",
    "    for i in range(1, len(df.price)):\n",
    "        if df[\"price\"].iloc[i] > df[\"price\"].iloc[i-1]:\n",
    "            OBV += [OBV[i-1] + df[\"volume\"].iloc[i]]\n",
    "        elif df[\"price\"].iloc[i] < df[\"price\"].iloc[i-1]:\n",
    "            OBV += [OBV[i-1] - df[\"volume\"].iloc[i]]\n",
    "        else:\n",
    "            OBV += [OBV[i-1]]"
   ]
  },
  {
   "cell_type": "code",
   "execution_count": 6,
   "id": "5582ceaf",
   "metadata": {},
   "outputs": [],
   "source": [
    "data = data.dropna().reset_index(drop=True)"
   ]
  },
  {
   "cell_type": "code",
   "execution_count": 7,
   "id": "fc060a7e",
   "metadata": {},
   "outputs": [],
   "source": [
    "data.loc[:,\"pt-1\"] = data.groupby(\"permno\").price.shift(1)\n",
    "data.loc[:,\"signal\"] = np.where(data.price > data[\"pt-1\"], 1, 0)\n",
    "data.loc[:,\"signal\"] = np.where(data[\"pt-1\"] > data.price, -1, data.signal)"
   ]
  },
  {
   "cell_type": "code",
   "execution_count": 8,
   "id": "9dc733ff",
   "metadata": {},
   "outputs": [
    {
     "data": {
      "text/html": [
       "<div>\n",
       "<style scoped>\n",
       "    .dataframe tbody tr th:only-of-type {\n",
       "        vertical-align: middle;\n",
       "    }\n",
       "\n",
       "    .dataframe tbody tr th {\n",
       "        vertical-align: top;\n",
       "    }\n",
       "\n",
       "    .dataframe thead th {\n",
       "        text-align: right;\n",
       "    }\n",
       "</style>\n",
       "<table border=\"1\" class=\"dataframe\">\n",
       "  <thead>\n",
       "    <tr style=\"text-align: right;\">\n",
       "      <th></th>\n",
       "      <th>date</th>\n",
       "      <th>permno</th>\n",
       "      <th>price</th>\n",
       "      <th>volume</th>\n",
       "      <th>rets</th>\n",
       "      <th>pt-1</th>\n",
       "      <th>signal</th>\n",
       "      <th>vol</th>\n",
       "    </tr>\n",
       "  </thead>\n",
       "  <tbody>\n",
       "    <tr>\n",
       "      <th>0</th>\n",
       "      <td>1990-02-28</td>\n",
       "      <td>0111145D UN Equity</td>\n",
       "      <td>22.0000</td>\n",
       "      <td>141600.0</td>\n",
       "      <td>0.063444</td>\n",
       "      <td>NaN</td>\n",
       "      <td>0</td>\n",
       "      <td>0.0</td>\n",
       "    </tr>\n",
       "    <tr>\n",
       "      <th>1</th>\n",
       "      <td>1990-03-30</td>\n",
       "      <td>0111145D UN Equity</td>\n",
       "      <td>19.5000</td>\n",
       "      <td>32400.0</td>\n",
       "      <td>-0.113636</td>\n",
       "      <td>22.0000</td>\n",
       "      <td>-1</td>\n",
       "      <td>-32400.0</td>\n",
       "    </tr>\n",
       "    <tr>\n",
       "      <th>2</th>\n",
       "      <td>1990-04-30</td>\n",
       "      <td>0111145D UN Equity</td>\n",
       "      <td>17.6250</td>\n",
       "      <td>219400.0</td>\n",
       "      <td>-0.096154</td>\n",
       "      <td>19.5000</td>\n",
       "      <td>-1</td>\n",
       "      <td>-219400.0</td>\n",
       "    </tr>\n",
       "    <tr>\n",
       "      <th>3</th>\n",
       "      <td>1990-05-31</td>\n",
       "      <td>0111145D UN Equity</td>\n",
       "      <td>19.8125</td>\n",
       "      <td>128800.0</td>\n",
       "      <td>0.124113</td>\n",
       "      <td>17.6250</td>\n",
       "      <td>1</td>\n",
       "      <td>128800.0</td>\n",
       "    </tr>\n",
       "    <tr>\n",
       "      <th>4</th>\n",
       "      <td>1990-06-29</td>\n",
       "      <td>0111145D UN Equity</td>\n",
       "      <td>18.9375</td>\n",
       "      <td>32200.0</td>\n",
       "      <td>-0.044164</td>\n",
       "      <td>19.8125</td>\n",
       "      <td>-1</td>\n",
       "      <td>-32200.0</td>\n",
       "    </tr>\n",
       "    <tr>\n",
       "      <th>...</th>\n",
       "      <td>...</td>\n",
       "      <td>...</td>\n",
       "      <td>...</td>\n",
       "      <td>...</td>\n",
       "      <td>...</td>\n",
       "      <td>...</td>\n",
       "      <td>...</td>\n",
       "      <td>...</td>\n",
       "    </tr>\n",
       "    <tr>\n",
       "      <th>297922</th>\n",
       "      <td>2022-04-29</td>\n",
       "      <td>J UN Equity</td>\n",
       "      <td>138.5500</td>\n",
       "      <td>304510.0</td>\n",
       "      <td>0.005370</td>\n",
       "      <td>137.8100</td>\n",
       "      <td>1</td>\n",
       "      <td>304510.0</td>\n",
       "    </tr>\n",
       "    <tr>\n",
       "      <th>297923</th>\n",
       "      <td>2022-05-31</td>\n",
       "      <td>J UN Equity</td>\n",
       "      <td>140.0900</td>\n",
       "      <td>439716.0</td>\n",
       "      <td>0.011115</td>\n",
       "      <td>138.5500</td>\n",
       "      <td>1</td>\n",
       "      <td>439716.0</td>\n",
       "    </tr>\n",
       "    <tr>\n",
       "      <th>297924</th>\n",
       "      <td>2022-06-30</td>\n",
       "      <td>J UN Equity</td>\n",
       "      <td>127.1300</td>\n",
       "      <td>361201.0</td>\n",
       "      <td>-0.092512</td>\n",
       "      <td>140.0900</td>\n",
       "      <td>-1</td>\n",
       "      <td>-361201.0</td>\n",
       "    </tr>\n",
       "    <tr>\n",
       "      <th>297925</th>\n",
       "      <td>2022-07-29</td>\n",
       "      <td>J UN Equity</td>\n",
       "      <td>137.3000</td>\n",
       "      <td>214654.0</td>\n",
       "      <td>0.079997</td>\n",
       "      <td>127.1300</td>\n",
       "      <td>1</td>\n",
       "      <td>214654.0</td>\n",
       "    </tr>\n",
       "    <tr>\n",
       "      <th>297926</th>\n",
       "      <td>2022-08-30</td>\n",
       "      <td>J UN Equity</td>\n",
       "      <td>124.4400</td>\n",
       "      <td>162011.0</td>\n",
       "      <td>-0.093664</td>\n",
       "      <td>137.3000</td>\n",
       "      <td>-1</td>\n",
       "      <td>-162011.0</td>\n",
       "    </tr>\n",
       "  </tbody>\n",
       "</table>\n",
       "<p>297927 rows × 8 columns</p>\n",
       "</div>"
      ],
      "text/plain": [
       "              date              permno     price    volume      rets  \\\n",
       "0       1990-02-28  0111145D UN Equity   22.0000  141600.0  0.063444   \n",
       "1       1990-03-30  0111145D UN Equity   19.5000   32400.0 -0.113636   \n",
       "2       1990-04-30  0111145D UN Equity   17.6250  219400.0 -0.096154   \n",
       "3       1990-05-31  0111145D UN Equity   19.8125  128800.0  0.124113   \n",
       "4       1990-06-29  0111145D UN Equity   18.9375   32200.0 -0.044164   \n",
       "...            ...                 ...       ...       ...       ...   \n",
       "297922  2022-04-29         J UN Equity  138.5500  304510.0  0.005370   \n",
       "297923  2022-05-31         J UN Equity  140.0900  439716.0  0.011115   \n",
       "297924  2022-06-30         J UN Equity  127.1300  361201.0 -0.092512   \n",
       "297925  2022-07-29         J UN Equity  137.3000  214654.0  0.079997   \n",
       "297926  2022-08-30         J UN Equity  124.4400  162011.0 -0.093664   \n",
       "\n",
       "            pt-1  signal       vol  \n",
       "0            NaN       0       0.0  \n",
       "1        22.0000      -1  -32400.0  \n",
       "2        19.5000      -1 -219400.0  \n",
       "3        17.6250       1  128800.0  \n",
       "4        19.8125      -1  -32200.0  \n",
       "...          ...     ...       ...  \n",
       "297922  137.8100       1  304510.0  \n",
       "297923  138.5500       1  439716.0  \n",
       "297924  140.0900      -1 -361201.0  \n",
       "297925  127.1300       1  214654.0  \n",
       "297926  137.3000      -1 -162011.0  \n",
       "\n",
       "[297927 rows x 8 columns]"
      ]
     },
     "execution_count": 8,
     "metadata": {},
     "output_type": "execute_result"
    }
   ],
   "source": [
    "data.loc[:,\"vol\"] = data.volume * data.signal\n",
    "data"
   ]
  },
  {
   "cell_type": "code",
   "execution_count": 9,
   "id": "e941bf49",
   "metadata": {},
   "outputs": [],
   "source": [
    "data.loc[:,\"OBV\"] = data.groupby(\"permno\")[\"vol\"].cumsum()"
   ]
  },
  {
   "cell_type": "code",
   "execution_count": 10,
   "id": "f56eff79",
   "metadata": {},
   "outputs": [],
   "source": [
    "data = data.drop(columns=[\"pt-1\", \"signal\", \"vol\"])"
   ]
  },
  {
   "cell_type": "code",
   "execution_count": 11,
   "id": "a01b3dd7",
   "metadata": {},
   "outputs": [
    {
     "data": {
      "text/html": [
       "<div>\n",
       "<style scoped>\n",
       "    .dataframe tbody tr th:only-of-type {\n",
       "        vertical-align: middle;\n",
       "    }\n",
       "\n",
       "    .dataframe tbody tr th {\n",
       "        vertical-align: top;\n",
       "    }\n",
       "\n",
       "    .dataframe thead th {\n",
       "        text-align: right;\n",
       "    }\n",
       "</style>\n",
       "<table border=\"1\" class=\"dataframe\">\n",
       "  <thead>\n",
       "    <tr style=\"text-align: right;\">\n",
       "      <th></th>\n",
       "      <th>date</th>\n",
       "      <th>permno</th>\n",
       "      <th>price</th>\n",
       "      <th>volume</th>\n",
       "      <th>rets</th>\n",
       "      <th>OBV</th>\n",
       "    </tr>\n",
       "  </thead>\n",
       "  <tbody>\n",
       "    <tr>\n",
       "      <th>297536</th>\n",
       "      <td>1990-02-28</td>\n",
       "      <td>J UN Equity</td>\n",
       "      <td>2.3125</td>\n",
       "      <td>150400.0</td>\n",
       "      <td>0.156250</td>\n",
       "      <td>0.0</td>\n",
       "    </tr>\n",
       "    <tr>\n",
       "      <th>297537</th>\n",
       "      <td>1990-03-30</td>\n",
       "      <td>J UN Equity</td>\n",
       "      <td>2.5156</td>\n",
       "      <td>561600.0</td>\n",
       "      <td>0.087827</td>\n",
       "      <td>561600.0</td>\n",
       "    </tr>\n",
       "    <tr>\n",
       "      <th>297538</th>\n",
       "      <td>1990-04-30</td>\n",
       "      <td>J UN Equity</td>\n",
       "      <td>2.3906</td>\n",
       "      <td>373600.0</td>\n",
       "      <td>-0.049690</td>\n",
       "      <td>188000.0</td>\n",
       "    </tr>\n",
       "    <tr>\n",
       "      <th>297539</th>\n",
       "      <td>1990-05-31</td>\n",
       "      <td>J UN Equity</td>\n",
       "      <td>3.1094</td>\n",
       "      <td>55200.0</td>\n",
       "      <td>0.300678</td>\n",
       "      <td>243200.0</td>\n",
       "    </tr>\n",
       "    <tr>\n",
       "      <th>297540</th>\n",
       "      <td>1990-06-29</td>\n",
       "      <td>J UN Equity</td>\n",
       "      <td>2.9375</td>\n",
       "      <td>84800.0</td>\n",
       "      <td>-0.055284</td>\n",
       "      <td>158400.0</td>\n",
       "    </tr>\n",
       "    <tr>\n",
       "      <th>...</th>\n",
       "      <td>...</td>\n",
       "      <td>...</td>\n",
       "      <td>...</td>\n",
       "      <td>...</td>\n",
       "      <td>...</td>\n",
       "      <td>...</td>\n",
       "    </tr>\n",
       "    <tr>\n",
       "      <th>297922</th>\n",
       "      <td>2022-04-29</td>\n",
       "      <td>J UN Equity</td>\n",
       "      <td>138.5500</td>\n",
       "      <td>304510.0</td>\n",
       "      <td>0.005370</td>\n",
       "      <td>11288256.0</td>\n",
       "    </tr>\n",
       "    <tr>\n",
       "      <th>297923</th>\n",
       "      <td>2022-05-31</td>\n",
       "      <td>J UN Equity</td>\n",
       "      <td>140.0900</td>\n",
       "      <td>439716.0</td>\n",
       "      <td>0.011115</td>\n",
       "      <td>11727972.0</td>\n",
       "    </tr>\n",
       "    <tr>\n",
       "      <th>297924</th>\n",
       "      <td>2022-06-30</td>\n",
       "      <td>J UN Equity</td>\n",
       "      <td>127.1300</td>\n",
       "      <td>361201.0</td>\n",
       "      <td>-0.092512</td>\n",
       "      <td>11366771.0</td>\n",
       "    </tr>\n",
       "    <tr>\n",
       "      <th>297925</th>\n",
       "      <td>2022-07-29</td>\n",
       "      <td>J UN Equity</td>\n",
       "      <td>137.3000</td>\n",
       "      <td>214654.0</td>\n",
       "      <td>0.079997</td>\n",
       "      <td>11581425.0</td>\n",
       "    </tr>\n",
       "    <tr>\n",
       "      <th>297926</th>\n",
       "      <td>2022-08-30</td>\n",
       "      <td>J UN Equity</td>\n",
       "      <td>124.4400</td>\n",
       "      <td>162011.0</td>\n",
       "      <td>-0.093664</td>\n",
       "      <td>11419414.0</td>\n",
       "    </tr>\n",
       "  </tbody>\n",
       "</table>\n",
       "<p>391 rows × 6 columns</p>\n",
       "</div>"
      ],
      "text/plain": [
       "              date       permno     price    volume      rets         OBV\n",
       "297536  1990-02-28  J UN Equity    2.3125  150400.0  0.156250         0.0\n",
       "297537  1990-03-30  J UN Equity    2.5156  561600.0  0.087827    561600.0\n",
       "297538  1990-04-30  J UN Equity    2.3906  373600.0 -0.049690    188000.0\n",
       "297539  1990-05-31  J UN Equity    3.1094   55200.0  0.300678    243200.0\n",
       "297540  1990-06-29  J UN Equity    2.9375   84800.0 -0.055284    158400.0\n",
       "...            ...          ...       ...       ...       ...         ...\n",
       "297922  2022-04-29  J UN Equity  138.5500  304510.0  0.005370  11288256.0\n",
       "297923  2022-05-31  J UN Equity  140.0900  439716.0  0.011115  11727972.0\n",
       "297924  2022-06-30  J UN Equity  127.1300  361201.0 -0.092512  11366771.0\n",
       "297925  2022-07-29  J UN Equity  137.3000  214654.0  0.079997  11581425.0\n",
       "297926  2022-08-30  J UN Equity  124.4400  162011.0 -0.093664  11419414.0\n",
       "\n",
       "[391 rows x 6 columns]"
      ]
     },
     "execution_count": 11,
     "metadata": {},
     "output_type": "execute_result"
    }
   ],
   "source": [
    "data[data.permno==\"J UN Equity\"]"
   ]
  },
  {
   "cell_type": "markdown",
   "id": "ea900ddc",
   "metadata": {},
   "source": [
    "#### 4. Calculate Exponential Moving Average"
   ]
  },
  {
   "cell_type": "code",
   "execution_count": 12,
   "id": "252475de",
   "metadata": {},
   "outputs": [],
   "source": [
    "data[\"OBV_ewm\"] = data.groupby(\"permno\")[\"OBV\"].ewm(span=15).mean().reset_index(drop=True)"
   ]
  },
  {
   "cell_type": "code",
   "execution_count": 13,
   "id": "78a556fa",
   "metadata": {},
   "outputs": [
    {
     "name": "stdout",
     "output_type": "stream",
     "text": [
      "0      0.000000e+00\n",
      "1     -1.728000e+04\n",
      "2     -1.060923e+05\n",
      "3     -1.111995e+05\n",
      "4     -1.224912e+05\n",
      "           ...     \n",
      "257    3.486527e+06\n",
      "258    3.505459e+06\n",
      "259    3.495196e+06\n",
      "260    3.499708e+06\n",
      "261    3.477330e+06\n",
      "Name: OBV, Length: 262, dtype: float64\n"
     ]
    }
   ],
   "source": [
    "for x,y in data.groupby(\"permno\"):\n",
    "    if x == \"0111145D UN Equity\":\n",
    "        print(y.OBV.ewm(span=15).mean())"
   ]
  },
  {
   "cell_type": "code",
   "execution_count": 14,
   "id": "bdfece75",
   "metadata": {},
   "outputs": [
    {
     "data": {
      "text/html": [
       "<div>\n",
       "<style scoped>\n",
       "    .dataframe tbody tr th:only-of-type {\n",
       "        vertical-align: middle;\n",
       "    }\n",
       "\n",
       "    .dataframe tbody tr th {\n",
       "        vertical-align: top;\n",
       "    }\n",
       "\n",
       "    .dataframe thead th {\n",
       "        text-align: right;\n",
       "    }\n",
       "</style>\n",
       "<table border=\"1\" class=\"dataframe\">\n",
       "  <thead>\n",
       "    <tr style=\"text-align: right;\">\n",
       "      <th></th>\n",
       "      <th>date</th>\n",
       "      <th>permno</th>\n",
       "      <th>price</th>\n",
       "      <th>volume</th>\n",
       "      <th>rets</th>\n",
       "      <th>OBV</th>\n",
       "      <th>OBV_ewm</th>\n",
       "    </tr>\n",
       "  </thead>\n",
       "  <tbody>\n",
       "    <tr>\n",
       "      <th>0</th>\n",
       "      <td>1990-02-28</td>\n",
       "      <td>0111145D UN Equity</td>\n",
       "      <td>22.0000</td>\n",
       "      <td>141600.0</td>\n",
       "      <td>0.063444</td>\n",
       "      <td>0.0</td>\n",
       "      <td>0.000000e+00</td>\n",
       "    </tr>\n",
       "    <tr>\n",
       "      <th>1</th>\n",
       "      <td>1990-03-30</td>\n",
       "      <td>0111145D UN Equity</td>\n",
       "      <td>19.5000</td>\n",
       "      <td>32400.0</td>\n",
       "      <td>-0.113636</td>\n",
       "      <td>-32400.0</td>\n",
       "      <td>-1.728000e+04</td>\n",
       "    </tr>\n",
       "    <tr>\n",
       "      <th>2</th>\n",
       "      <td>1990-04-30</td>\n",
       "      <td>0111145D UN Equity</td>\n",
       "      <td>17.6250</td>\n",
       "      <td>219400.0</td>\n",
       "      <td>-0.096154</td>\n",
       "      <td>-251800.0</td>\n",
       "      <td>-1.060923e+05</td>\n",
       "    </tr>\n",
       "    <tr>\n",
       "      <th>3</th>\n",
       "      <td>1990-05-31</td>\n",
       "      <td>0111145D UN Equity</td>\n",
       "      <td>19.8125</td>\n",
       "      <td>128800.0</td>\n",
       "      <td>0.124113</td>\n",
       "      <td>-123000.0</td>\n",
       "      <td>-1.111995e+05</td>\n",
       "    </tr>\n",
       "    <tr>\n",
       "      <th>4</th>\n",
       "      <td>1990-06-29</td>\n",
       "      <td>0111145D UN Equity</td>\n",
       "      <td>18.9375</td>\n",
       "      <td>32200.0</td>\n",
       "      <td>-0.044164</td>\n",
       "      <td>-155200.0</td>\n",
       "      <td>-1.224912e+05</td>\n",
       "    </tr>\n",
       "    <tr>\n",
       "      <th>...</th>\n",
       "      <td>...</td>\n",
       "      <td>...</td>\n",
       "      <td>...</td>\n",
       "      <td>...</td>\n",
       "      <td>...</td>\n",
       "      <td>...</td>\n",
       "      <td>...</td>\n",
       "    </tr>\n",
       "    <tr>\n",
       "      <th>257</th>\n",
       "      <td>2011-07-29</td>\n",
       "      <td>0111145D UN Equity</td>\n",
       "      <td>54.7000</td>\n",
       "      <td>126900.0</td>\n",
       "      <td>-0.000731</td>\n",
       "      <td>3507166.0</td>\n",
       "      <td>3.486527e+06</td>\n",
       "    </tr>\n",
       "    <tr>\n",
       "      <th>258</th>\n",
       "      <td>2011-08-31</td>\n",
       "      <td>0111145D UN Equity</td>\n",
       "      <td>55.6000</td>\n",
       "      <td>130817.0</td>\n",
       "      <td>0.016453</td>\n",
       "      <td>3637983.0</td>\n",
       "      <td>3.505459e+06</td>\n",
       "    </tr>\n",
       "    <tr>\n",
       "      <th>259</th>\n",
       "      <td>2011-09-30</td>\n",
       "      <td>0111145D UN Equity</td>\n",
       "      <td>55.0100</td>\n",
       "      <td>214629.0</td>\n",
       "      <td>-0.010612</td>\n",
       "      <td>3423354.0</td>\n",
       "      <td>3.495196e+06</td>\n",
       "    </tr>\n",
       "    <tr>\n",
       "      <th>260</th>\n",
       "      <td>2011-10-31</td>\n",
       "      <td>0111145D UN Equity</td>\n",
       "      <td>56.2500</td>\n",
       "      <td>107938.0</td>\n",
       "      <td>0.022541</td>\n",
       "      <td>3531292.0</td>\n",
       "      <td>3.499708e+06</td>\n",
       "    </tr>\n",
       "    <tr>\n",
       "      <th>261</th>\n",
       "      <td>2011-11-30</td>\n",
       "      <td>0111145D UN Equity</td>\n",
       "      <td>56.1200</td>\n",
       "      <td>210602.0</td>\n",
       "      <td>-0.002311</td>\n",
       "      <td>3320690.0</td>\n",
       "      <td>3.477330e+06</td>\n",
       "    </tr>\n",
       "  </tbody>\n",
       "</table>\n",
       "<p>262 rows × 7 columns</p>\n",
       "</div>"
      ],
      "text/plain": [
       "           date              permno    price    volume      rets        OBV  \\\n",
       "0    1990-02-28  0111145D UN Equity  22.0000  141600.0  0.063444        0.0   \n",
       "1    1990-03-30  0111145D UN Equity  19.5000   32400.0 -0.113636   -32400.0   \n",
       "2    1990-04-30  0111145D UN Equity  17.6250  219400.0 -0.096154  -251800.0   \n",
       "3    1990-05-31  0111145D UN Equity  19.8125  128800.0  0.124113  -123000.0   \n",
       "4    1990-06-29  0111145D UN Equity  18.9375   32200.0 -0.044164  -155200.0   \n",
       "..          ...                 ...      ...       ...       ...        ...   \n",
       "257  2011-07-29  0111145D UN Equity  54.7000  126900.0 -0.000731  3507166.0   \n",
       "258  2011-08-31  0111145D UN Equity  55.6000  130817.0  0.016453  3637983.0   \n",
       "259  2011-09-30  0111145D UN Equity  55.0100  214629.0 -0.010612  3423354.0   \n",
       "260  2011-10-31  0111145D UN Equity  56.2500  107938.0  0.022541  3531292.0   \n",
       "261  2011-11-30  0111145D UN Equity  56.1200  210602.0 -0.002311  3320690.0   \n",
       "\n",
       "          OBV_ewm  \n",
       "0    0.000000e+00  \n",
       "1   -1.728000e+04  \n",
       "2   -1.060923e+05  \n",
       "3   -1.111995e+05  \n",
       "4   -1.224912e+05  \n",
       "..            ...  \n",
       "257  3.486527e+06  \n",
       "258  3.505459e+06  \n",
       "259  3.495196e+06  \n",
       "260  3.499708e+06  \n",
       "261  3.477330e+06  \n",
       "\n",
       "[262 rows x 7 columns]"
      ]
     },
     "execution_count": 14,
     "metadata": {},
     "output_type": "execute_result"
    }
   ],
   "source": [
    "data[data.permno ==\"0111145D UN Equity\"]"
   ]
  },
  {
   "cell_type": "code",
   "execution_count": 15,
   "id": "16c5ea63",
   "metadata": {},
   "outputs": [
    {
     "data": {
      "text/plain": [
       "[<matplotlib.lines.Line2D at 0x7feafd581430>]"
      ]
     },
     "execution_count": 15,
     "metadata": {},
     "output_type": "execute_result"
    },
    {
     "data": {
      "image/png": "[encoded data removed]",
      "text/plain": [
       "<Figure size 1440x432 with 1 Axes>"
      ]
     },
     "metadata": {
      "needs_background": "light"
     },
     "output_type": "display_data"
    }
   ],
   "source": [
    "plt.figure(figsize=(20, 6))\n",
    "plt.plot(data[data.permno==\"0111145D UN Equity\"].date, data[data.permno==\"0111145D UN Equity\"].OBV, color=\"blue\")\n",
    "plt.plot(data[data.permno==\"0111145D UN Equity\"].date, data[data.permno==\"0111145D UN Equity\"].OBV_ewm, color=\"green\")"
   ]
  },
  {
   "cell_type": "code",
   "execution_count": 16,
   "id": "5a15fa93",
   "metadata": {},
   "outputs": [],
   "source": [
    "data[\"signal\"] = np.where(data.OBV > data.OBV_ewm, 1, 0)"
   ]
  },
  {
   "cell_type": "code",
   "execution_count": 17,
   "id": "58a4cea0",
   "metadata": {},
   "outputs": [
    {
     "data": {
      "text/html": [
       "<div>\n",
       "<style scoped>\n",
       "    .dataframe tbody tr th:only-of-type {\n",
       "        vertical-align: middle;\n",
       "    }\n",
       "\n",
       "    .dataframe tbody tr th {\n",
       "        vertical-align: top;\n",
       "    }\n",
       "\n",
       "    .dataframe thead th {\n",
       "        text-align: right;\n",
       "    }\n",
       "</style>\n",
       "<table border=\"1\" class=\"dataframe\">\n",
       "  <thead>\n",
       "    <tr style=\"text-align: right;\">\n",
       "      <th></th>\n",
       "      <th>date</th>\n",
       "      <th>permno</th>\n",
       "      <th>price</th>\n",
       "      <th>volume</th>\n",
       "      <th>rets</th>\n",
       "      <th>OBV</th>\n",
       "      <th>OBV_ewm</th>\n",
       "      <th>signal</th>\n",
       "    </tr>\n",
       "  </thead>\n",
       "  <tbody>\n",
       "    <tr>\n",
       "      <th>0</th>\n",
       "      <td>1990-02-28</td>\n",
       "      <td>0111145D UN Equity</td>\n",
       "      <td>22.0000</td>\n",
       "      <td>141600.0</td>\n",
       "      <td>0.063444</td>\n",
       "      <td>0.0</td>\n",
       "      <td>0.000000e+00</td>\n",
       "      <td>0</td>\n",
       "    </tr>\n",
       "    <tr>\n",
       "      <th>1</th>\n",
       "      <td>1990-03-30</td>\n",
       "      <td>0111145D UN Equity</td>\n",
       "      <td>19.5000</td>\n",
       "      <td>32400.0</td>\n",
       "      <td>-0.113636</td>\n",
       "      <td>-32400.0</td>\n",
       "      <td>-1.728000e+04</td>\n",
       "      <td>0</td>\n",
       "    </tr>\n",
       "    <tr>\n",
       "      <th>2</th>\n",
       "      <td>1990-04-30</td>\n",
       "      <td>0111145D UN Equity</td>\n",
       "      <td>17.6250</td>\n",
       "      <td>219400.0</td>\n",
       "      <td>-0.096154</td>\n",
       "      <td>-251800.0</td>\n",
       "      <td>-1.060923e+05</td>\n",
       "      <td>0</td>\n",
       "    </tr>\n",
       "    <tr>\n",
       "      <th>3</th>\n",
       "      <td>1990-05-31</td>\n",
       "      <td>0111145D UN Equity</td>\n",
       "      <td>19.8125</td>\n",
       "      <td>128800.0</td>\n",
       "      <td>0.124113</td>\n",
       "      <td>-123000.0</td>\n",
       "      <td>-1.111995e+05</td>\n",
       "      <td>0</td>\n",
       "    </tr>\n",
       "    <tr>\n",
       "      <th>4</th>\n",
       "      <td>1990-06-29</td>\n",
       "      <td>0111145D UN Equity</td>\n",
       "      <td>18.9375</td>\n",
       "      <td>32200.0</td>\n",
       "      <td>-0.044164</td>\n",
       "      <td>-155200.0</td>\n",
       "      <td>-1.224912e+05</td>\n",
       "      <td>0</td>\n",
       "    </tr>\n",
       "    <tr>\n",
       "      <th>...</th>\n",
       "      <td>...</td>\n",
       "      <td>...</td>\n",
       "      <td>...</td>\n",
       "      <td>...</td>\n",
       "      <td>...</td>\n",
       "      <td>...</td>\n",
       "      <td>...</td>\n",
       "      <td>...</td>\n",
       "    </tr>\n",
       "    <tr>\n",
       "      <th>257</th>\n",
       "      <td>2011-07-29</td>\n",
       "      <td>0111145D UN Equity</td>\n",
       "      <td>54.7000</td>\n",
       "      <td>126900.0</td>\n",
       "      <td>-0.000731</td>\n",
       "      <td>3507166.0</td>\n",
       "      <td>3.486527e+06</td>\n",
       "      <td>1</td>\n",
       "    </tr>\n",
       "    <tr>\n",
       "      <th>258</th>\n",
       "      <td>2011-08-31</td>\n",
       "      <td>0111145D UN Equity</td>\n",
       "      <td>55.6000</td>\n",
       "      <td>130817.0</td>\n",
       "      <td>0.016453</td>\n",
       "      <td>3637983.0</td>\n",
       "      <td>3.505459e+06</td>\n",
       "      <td>1</td>\n",
       "    </tr>\n",
       "    <tr>\n",
       "      <th>259</th>\n",
       "      <td>2011-09-30</td>\n",
       "      <td>0111145D UN Equity</td>\n",
       "      <td>55.0100</td>\n",
       "      <td>214629.0</td>\n",
       "      <td>-0.010612</td>\n",
       "      <td>3423354.0</td>\n",
       "      <td>3.495196e+06</td>\n",
       "      <td>0</td>\n",
       "    </tr>\n",
       "    <tr>\n",
       "      <th>260</th>\n",
       "      <td>2011-10-31</td>\n",
       "      <td>0111145D UN Equity</td>\n",
       "      <td>56.2500</td>\n",
       "      <td>107938.0</td>\n",
       "      <td>0.022541</td>\n",
       "      <td>3531292.0</td>\n",
       "      <td>3.499708e+06</td>\n",
       "      <td>1</td>\n",
       "    </tr>\n",
       "    <tr>\n",
       "      <th>261</th>\n",
       "      <td>2011-11-30</td>\n",
       "      <td>0111145D UN Equity</td>\n",
       "      <td>56.1200</td>\n",
       "      <td>210602.0</td>\n",
       "      <td>-0.002311</td>\n",
       "      <td>3320690.0</td>\n",
       "      <td>3.477330e+06</td>\n",
       "      <td>0</td>\n",
       "    </tr>\n",
       "  </tbody>\n",
       "</table>\n",
       "<p>262 rows × 8 columns</p>\n",
       "</div>"
      ],
      "text/plain": [
       "           date              permno    price    volume      rets        OBV  \\\n",
       "0    1990-02-28  0111145D UN Equity  22.0000  141600.0  0.063444        0.0   \n",
       "1    1990-03-30  0111145D UN Equity  19.5000   32400.0 -0.113636   -32400.0   \n",
       "2    1990-04-30  0111145D UN Equity  17.6250  219400.0 -0.096154  -251800.0   \n",
       "3    1990-05-31  0111145D UN Equity  19.8125  128800.0  0.124113  -123000.0   \n",
       "4    1990-06-29  0111145D UN Equity  18.9375   32200.0 -0.044164  -155200.0   \n",
       "..          ...                 ...      ...       ...       ...        ...   \n",
       "257  2011-07-29  0111145D UN Equity  54.7000  126900.0 -0.000731  3507166.0   \n",
       "258  2011-08-31  0111145D UN Equity  55.6000  130817.0  0.016453  3637983.0   \n",
       "259  2011-09-30  0111145D UN Equity  55.0100  214629.0 -0.010612  3423354.0   \n",
       "260  2011-10-31  0111145D UN Equity  56.2500  107938.0  0.022541  3531292.0   \n",
       "261  2011-11-30  0111145D UN Equity  56.1200  210602.0 -0.002311  3320690.0   \n",
       "\n",
       "          OBV_ewm  signal  \n",
       "0    0.000000e+00       0  \n",
       "1   -1.728000e+04       0  \n",
       "2   -1.060923e+05       0  \n",
       "3   -1.111995e+05       0  \n",
       "4   -1.224912e+05       0  \n",
       "..            ...     ...  \n",
       "257  3.486527e+06       1  \n",
       "258  3.505459e+06       1  \n",
       "259  3.495196e+06       0  \n",
       "260  3.499708e+06       1  \n",
       "261  3.477330e+06       0  \n",
       "\n",
       "[262 rows x 8 columns]"
      ]
     },
     "execution_count": 17,
     "metadata": {},
     "output_type": "execute_result"
    }
   ],
   "source": [
    "data[data.permno==\"0111145D UN Equity\"]"
   ]
  },
  {
   "cell_type": "markdown",
   "id": "c3ae5db2",
   "metadata": {},
   "source": [
    "#### 5. Get Trading Signals"
   ]
  },
  {
   "cell_type": "code",
   "execution_count": 18,
   "id": "e7484a12",
   "metadata": {},
   "outputs": [
    {
     "data": {
      "text/html": [
       "<div>\n",
       "<style scoped>\n",
       "    .dataframe tbody tr th:only-of-type {\n",
       "        vertical-align: middle;\n",
       "    }\n",
       "\n",
       "    .dataframe tbody tr th {\n",
       "        vertical-align: top;\n",
       "    }\n",
       "\n",
       "    .dataframe thead th {\n",
       "        text-align: right;\n",
       "    }\n",
       "</style>\n",
       "<table border=\"1\" class=\"dataframe\">\n",
       "  <thead>\n",
       "    <tr style=\"text-align: right;\">\n",
       "      <th></th>\n",
       "      <th>date</th>\n",
       "      <th>permno</th>\n",
       "      <th>price</th>\n",
       "      <th>volume</th>\n",
       "      <th>rets</th>\n",
       "      <th>OBV</th>\n",
       "      <th>OBV_ewm</th>\n",
       "      <th>signal</th>\n",
       "      <th>position</th>\n",
       "    </tr>\n",
       "  </thead>\n",
       "  <tbody>\n",
       "    <tr>\n",
       "      <th>0</th>\n",
       "      <td>1990-02-28</td>\n",
       "      <td>0111145D UN Equity</td>\n",
       "      <td>22.0000</td>\n",
       "      <td>141600.0</td>\n",
       "      <td>0.063444</td>\n",
       "      <td>0.0</td>\n",
       "      <td>0.000000e+00</td>\n",
       "      <td>0</td>\n",
       "      <td>NaN</td>\n",
       "    </tr>\n",
       "    <tr>\n",
       "      <th>1</th>\n",
       "      <td>1990-03-30</td>\n",
       "      <td>0111145D UN Equity</td>\n",
       "      <td>19.5000</td>\n",
       "      <td>32400.0</td>\n",
       "      <td>-0.113636</td>\n",
       "      <td>-32400.0</td>\n",
       "      <td>-1.728000e+04</td>\n",
       "      <td>0</td>\n",
       "      <td>0.0</td>\n",
       "    </tr>\n",
       "    <tr>\n",
       "      <th>2</th>\n",
       "      <td>1990-04-30</td>\n",
       "      <td>0111145D UN Equity</td>\n",
       "      <td>17.6250</td>\n",
       "      <td>219400.0</td>\n",
       "      <td>-0.096154</td>\n",
       "      <td>-251800.0</td>\n",
       "      <td>-1.060923e+05</td>\n",
       "      <td>0</td>\n",
       "      <td>0.0</td>\n",
       "    </tr>\n",
       "    <tr>\n",
       "      <th>3</th>\n",
       "      <td>1990-05-31</td>\n",
       "      <td>0111145D UN Equity</td>\n",
       "      <td>19.8125</td>\n",
       "      <td>128800.0</td>\n",
       "      <td>0.124113</td>\n",
       "      <td>-123000.0</td>\n",
       "      <td>-1.111995e+05</td>\n",
       "      <td>0</td>\n",
       "      <td>0.0</td>\n",
       "    </tr>\n",
       "    <tr>\n",
       "      <th>4</th>\n",
       "      <td>1990-06-29</td>\n",
       "      <td>0111145D UN Equity</td>\n",
       "      <td>18.9375</td>\n",
       "      <td>32200.0</td>\n",
       "      <td>-0.044164</td>\n",
       "      <td>-155200.0</td>\n",
       "      <td>-1.224912e+05</td>\n",
       "      <td>0</td>\n",
       "      <td>0.0</td>\n",
       "    </tr>\n",
       "    <tr>\n",
       "      <th>...</th>\n",
       "      <td>...</td>\n",
       "      <td>...</td>\n",
       "      <td>...</td>\n",
       "      <td>...</td>\n",
       "      <td>...</td>\n",
       "      <td>...</td>\n",
       "      <td>...</td>\n",
       "      <td>...</td>\n",
       "      <td>...</td>\n",
       "    </tr>\n",
       "    <tr>\n",
       "      <th>297922</th>\n",
       "      <td>2022-04-29</td>\n",
       "      <td>J UN Equity</td>\n",
       "      <td>138.5500</td>\n",
       "      <td>304510.0</td>\n",
       "      <td>0.005370</td>\n",
       "      <td>11288256.0</td>\n",
       "      <td>2.636634e+07</td>\n",
       "      <td>0</td>\n",
       "      <td>0.0</td>\n",
       "    </tr>\n",
       "    <tr>\n",
       "      <th>297923</th>\n",
       "      <td>2022-05-31</td>\n",
       "      <td>J UN Equity</td>\n",
       "      <td>140.0900</td>\n",
       "      <td>439716.0</td>\n",
       "      <td>0.011115</td>\n",
       "      <td>11727972.0</td>\n",
       "      <td>2.607408e+07</td>\n",
       "      <td>0</td>\n",
       "      <td>0.0</td>\n",
       "    </tr>\n",
       "    <tr>\n",
       "      <th>297924</th>\n",
       "      <td>2022-06-30</td>\n",
       "      <td>J UN Equity</td>\n",
       "      <td>127.1300</td>\n",
       "      <td>361201.0</td>\n",
       "      <td>-0.092512</td>\n",
       "      <td>11366771.0</td>\n",
       "      <td>2.594201e+07</td>\n",
       "      <td>0</td>\n",
       "      <td>0.0</td>\n",
       "    </tr>\n",
       "    <tr>\n",
       "      <th>297925</th>\n",
       "      <td>2022-07-29</td>\n",
       "      <td>J UN Equity</td>\n",
       "      <td>137.3000</td>\n",
       "      <td>214654.0</td>\n",
       "      <td>0.079997</td>\n",
       "      <td>11581425.0</td>\n",
       "      <td>2.592299e+07</td>\n",
       "      <td>0</td>\n",
       "      <td>0.0</td>\n",
       "    </tr>\n",
       "    <tr>\n",
       "      <th>297926</th>\n",
       "      <td>2022-08-30</td>\n",
       "      <td>J UN Equity</td>\n",
       "      <td>124.4400</td>\n",
       "      <td>162011.0</td>\n",
       "      <td>-0.093664</td>\n",
       "      <td>11419414.0</td>\n",
       "      <td>2.585017e+07</td>\n",
       "      <td>0</td>\n",
       "      <td>0.0</td>\n",
       "    </tr>\n",
       "  </tbody>\n",
       "</table>\n",
       "<p>297927 rows × 9 columns</p>\n",
       "</div>"
      ],
      "text/plain": [
       "              date              permno     price    volume      rets  \\\n",
       "0       1990-02-28  0111145D UN Equity   22.0000  141600.0  0.063444   \n",
       "1       1990-03-30  0111145D UN Equity   19.5000   32400.0 -0.113636   \n",
       "2       1990-04-30  0111145D UN Equity   17.6250  219400.0 -0.096154   \n",
       "3       1990-05-31  0111145D UN Equity   19.8125  128800.0  0.124113   \n",
       "4       1990-06-29  0111145D UN Equity   18.9375   32200.0 -0.044164   \n",
       "...            ...                 ...       ...       ...       ...   \n",
       "297922  2022-04-29         J UN Equity  138.5500  304510.0  0.005370   \n",
       "297923  2022-05-31         J UN Equity  140.0900  439716.0  0.011115   \n",
       "297924  2022-06-30         J UN Equity  127.1300  361201.0 -0.092512   \n",
       "297925  2022-07-29         J UN Equity  137.3000  214654.0  0.079997   \n",
       "297926  2022-08-30         J UN Equity  124.4400  162011.0 -0.093664   \n",
       "\n",
       "               OBV       OBV_ewm  signal  position  \n",
       "0              0.0  0.000000e+00       0       NaN  \n",
       "1         -32400.0 -1.728000e+04       0       0.0  \n",
       "2        -251800.0 -1.060923e+05       0       0.0  \n",
       "3        -123000.0 -1.111995e+05       0       0.0  \n",
       "4        -155200.0 -1.224912e+05       0       0.0  \n",
       "...            ...           ...     ...       ...  \n",
       "297922  11288256.0  2.636634e+07       0       0.0  \n",
       "297923  11727972.0  2.607408e+07       0       0.0  \n",
       "297924  11366771.0  2.594201e+07       0       0.0  \n",
       "297925  11581425.0  2.592299e+07       0       0.0  \n",
       "297926  11419414.0  2.585017e+07       0       0.0  \n",
       "\n",
       "[297927 rows x 9 columns]"
      ]
     },
     "execution_count": 18,
     "metadata": {},
     "output_type": "execute_result"
    }
   ],
   "source": [
    "data.loc[:,\"position\"] = data.groupby(\"permno\")[\"signal\"].diff()\n",
    "data\n",
    "# position = 1 -> buy\n",
    "# position = -1 -> sell"
   ]
  },
  {
   "cell_type": "code",
   "execution_count": 19,
   "id": "831b0ab9",
   "metadata": {},
   "outputs": [],
   "source": [
    "# shift position (trading decision) by one month\n",
    "data.loc[:,\"position\"] = data.groupby(\"permno\")[\"position\"].shift(1)"
   ]
  },
  {
   "cell_type": "code",
   "execution_count": 20,
   "id": "1c6b0533",
   "metadata": {},
   "outputs": [
    {
     "data": {
      "text/html": [
       "<div>\n",
       "<style scoped>\n",
       "    .dataframe tbody tr th:only-of-type {\n",
       "        vertical-align: middle;\n",
       "    }\n",
       "\n",
       "    .dataframe tbody tr th {\n",
       "        vertical-align: top;\n",
       "    }\n",
       "\n",
       "    .dataframe thead th {\n",
       "        text-align: right;\n",
       "    }\n",
       "</style>\n",
       "<table border=\"1\" class=\"dataframe\">\n",
       "  <thead>\n",
       "    <tr style=\"text-align: right;\">\n",
       "      <th></th>\n",
       "      <th>date</th>\n",
       "      <th>permno</th>\n",
       "      <th>price</th>\n",
       "      <th>volume</th>\n",
       "      <th>rets</th>\n",
       "      <th>OBV</th>\n",
       "      <th>OBV_ewm</th>\n",
       "      <th>signal</th>\n",
       "      <th>position</th>\n",
       "    </tr>\n",
       "  </thead>\n",
       "  <tbody>\n",
       "    <tr>\n",
       "      <th>0</th>\n",
       "      <td>1990-02-28</td>\n",
       "      <td>0111145D UN Equity</td>\n",
       "      <td>22.0000</td>\n",
       "      <td>141600.0</td>\n",
       "      <td>0.063444</td>\n",
       "      <td>0.0</td>\n",
       "      <td>0.000000e+00</td>\n",
       "      <td>0</td>\n",
       "      <td>NaN</td>\n",
       "    </tr>\n",
       "    <tr>\n",
       "      <th>1</th>\n",
       "      <td>1990-03-30</td>\n",
       "      <td>0111145D UN Equity</td>\n",
       "      <td>19.5000</td>\n",
       "      <td>32400.0</td>\n",
       "      <td>-0.113636</td>\n",
       "      <td>-32400.0</td>\n",
       "      <td>-1.728000e+04</td>\n",
       "      <td>0</td>\n",
       "      <td>NaN</td>\n",
       "    </tr>\n",
       "    <tr>\n",
       "      <th>2</th>\n",
       "      <td>1990-04-30</td>\n",
       "      <td>0111145D UN Equity</td>\n",
       "      <td>17.6250</td>\n",
       "      <td>219400.0</td>\n",
       "      <td>-0.096154</td>\n",
       "      <td>-251800.0</td>\n",
       "      <td>-1.060923e+05</td>\n",
       "      <td>0</td>\n",
       "      <td>0.0</td>\n",
       "    </tr>\n",
       "    <tr>\n",
       "      <th>3</th>\n",
       "      <td>1990-05-31</td>\n",
       "      <td>0111145D UN Equity</td>\n",
       "      <td>19.8125</td>\n",
       "      <td>128800.0</td>\n",
       "      <td>0.124113</td>\n",
       "      <td>-123000.0</td>\n",
       "      <td>-1.111995e+05</td>\n",
       "      <td>0</td>\n",
       "      <td>0.0</td>\n",
       "    </tr>\n",
       "    <tr>\n",
       "      <th>4</th>\n",
       "      <td>1990-06-29</td>\n",
       "      <td>0111145D UN Equity</td>\n",
       "      <td>18.9375</td>\n",
       "      <td>32200.0</td>\n",
       "      <td>-0.044164</td>\n",
       "      <td>-155200.0</td>\n",
       "      <td>-1.224912e+05</td>\n",
       "      <td>0</td>\n",
       "      <td>0.0</td>\n",
       "    </tr>\n",
       "    <tr>\n",
       "      <th>...</th>\n",
       "      <td>...</td>\n",
       "      <td>...</td>\n",
       "      <td>...</td>\n",
       "      <td>...</td>\n",
       "      <td>...</td>\n",
       "      <td>...</td>\n",
       "      <td>...</td>\n",
       "      <td>...</td>\n",
       "      <td>...</td>\n",
       "    </tr>\n",
       "    <tr>\n",
       "      <th>297922</th>\n",
       "      <td>2022-04-29</td>\n",
       "      <td>J UN Equity</td>\n",
       "      <td>138.5500</td>\n",
       "      <td>304510.0</td>\n",
       "      <td>0.005370</td>\n",
       "      <td>11288256.0</td>\n",
       "      <td>2.636634e+07</td>\n",
       "      <td>0</td>\n",
       "      <td>0.0</td>\n",
       "    </tr>\n",
       "    <tr>\n",
       "      <th>297923</th>\n",
       "      <td>2022-05-31</td>\n",
       "      <td>J UN Equity</td>\n",
       "      <td>140.0900</td>\n",
       "      <td>439716.0</td>\n",
       "      <td>0.011115</td>\n",
       "      <td>11727972.0</td>\n",
       "      <td>2.607408e+07</td>\n",
       "      <td>0</td>\n",
       "      <td>0.0</td>\n",
       "    </tr>\n",
       "    <tr>\n",
       "      <th>297924</th>\n",
       "      <td>2022-06-30</td>\n",
       "      <td>J UN Equity</td>\n",
       "      <td>127.1300</td>\n",
       "      <td>361201.0</td>\n",
       "      <td>-0.092512</td>\n",
       "      <td>11366771.0</td>\n",
       "      <td>2.594201e+07</td>\n",
       "      <td>0</td>\n",
       "      <td>0.0</td>\n",
       "    </tr>\n",
       "    <tr>\n",
       "      <th>297925</th>\n",
       "      <td>2022-07-29</td>\n",
       "      <td>J UN Equity</td>\n",
       "      <td>137.3000</td>\n",
       "      <td>214654.0</td>\n",
       "      <td>0.079997</td>\n",
       "      <td>11581425.0</td>\n",
       "      <td>2.592299e+07</td>\n",
       "      <td>0</td>\n",
       "      <td>0.0</td>\n",
       "    </tr>\n",
       "    <tr>\n",
       "      <th>297926</th>\n",
       "      <td>2022-08-30</td>\n",
       "      <td>J UN Equity</td>\n",
       "      <td>124.4400</td>\n",
       "      <td>162011.0</td>\n",
       "      <td>-0.093664</td>\n",
       "      <td>11419414.0</td>\n",
       "      <td>2.585017e+07</td>\n",
       "      <td>0</td>\n",
       "      <td>0.0</td>\n",
       "    </tr>\n",
       "  </tbody>\n",
       "</table>\n",
       "<p>297927 rows × 9 columns</p>\n",
       "</div>"
      ],
      "text/plain": [
       "              date              permno     price    volume      rets  \\\n",
       "0       1990-02-28  0111145D UN Equity   22.0000  141600.0  0.063444   \n",
       "1       1990-03-30  0111145D UN Equity   19.5000   32400.0 -0.113636   \n",
       "2       1990-04-30  0111145D UN Equity   17.6250  219400.0 -0.096154   \n",
       "3       1990-05-31  0111145D UN Equity   19.8125  128800.0  0.124113   \n",
       "4       1990-06-29  0111145D UN Equity   18.9375   32200.0 -0.044164   \n",
       "...            ...                 ...       ...       ...       ...   \n",
       "297922  2022-04-29         J UN Equity  138.5500  304510.0  0.005370   \n",
       "297923  2022-05-31         J UN Equity  140.0900  439716.0  0.011115   \n",
       "297924  2022-06-30         J UN Equity  127.1300  361201.0 -0.092512   \n",
       "297925  2022-07-29         J UN Equity  137.3000  214654.0  0.079997   \n",
       "297926  2022-08-30         J UN Equity  124.4400  162011.0 -0.093664   \n",
       "\n",
       "               OBV       OBV_ewm  signal  position  \n",
       "0              0.0  0.000000e+00       0       NaN  \n",
       "1         -32400.0 -1.728000e+04       0       NaN  \n",
       "2        -251800.0 -1.060923e+05       0       0.0  \n",
       "3        -123000.0 -1.111995e+05       0       0.0  \n",
       "4        -155200.0 -1.224912e+05       0       0.0  \n",
       "...            ...           ...     ...       ...  \n",
       "297922  11288256.0  2.636634e+07       0       0.0  \n",
       "297923  11727972.0  2.607408e+07       0       0.0  \n",
       "297924  11366771.0  2.594201e+07       0       0.0  \n",
       "297925  11581425.0  2.592299e+07       0       0.0  \n",
       "297926  11419414.0  2.585017e+07       0       0.0  \n",
       "\n",
       "[297927 rows x 9 columns]"
      ]
     },
     "execution_count": 20,
     "metadata": {},
     "output_type": "execute_result"
    }
   ],
   "source": [
    "data"
   ]
  },
  {
   "cell_type": "markdown",
   "id": "b6be51c6",
   "metadata": {},
   "source": [
    "#### 6. Get Returns of Trading Strategy"
   ]
  },
  {
   "cell_type": "code",
   "execution_count": 21,
   "id": "48f2b758",
   "metadata": {},
   "outputs": [],
   "source": [
    "# get returns for strategy\n",
    "data[\"vol_rets\"] = data.groupby(\"permno\")[\"signal\"].shift(1) * data.rets"
   ]
  },
  {
   "cell_type": "code",
   "execution_count": 22,
   "id": "aff602ae",
   "metadata": {},
   "outputs": [],
   "source": [
    "strategy_returns = data.groupby(\"date\")[\"vol_rets\"].mean().reset_index()"
   ]
  },
  {
   "cell_type": "code",
   "execution_count": 23,
   "id": "c3ef5e47",
   "metadata": {},
   "outputs": [],
   "source": [
    "strategy_returns.date = pd.to_datetime(strategy_returns.date)"
   ]
  },
  {
   "cell_type": "code",
   "execution_count": 24,
   "id": "2dc22f1e",
   "metadata": {},
   "outputs": [],
   "source": [
    "strategy_returns = strategy_returns.dropna()"
   ]
  },
  {
   "cell_type": "code",
   "execution_count": 25,
   "id": "01e2e46c",
   "metadata": {},
   "outputs": [],
   "source": [
    "strategy_returns[\"vol_cum_rets\"] = (strategy_returns.vol_rets +1).cumprod()"
   ]
  },
  {
   "cell_type": "markdown",
   "id": "d2add79a",
   "metadata": {},
   "source": [
    "### Evaluation"
   ]
  },
  {
   "cell_type": "code",
   "execution_count": 26,
   "id": "fb1e2a61",
   "metadata": {
    "scrolled": false
   },
   "outputs": [
    {
     "name": "stderr",
     "output_type": "stream",
     "text": [
      "/Library/Frameworks/Python.framework/Versions/3.9/lib/python3.9/site-packages/_plotly_utils/basevalidators.py:105: FutureWarning: The behavior of DatetimeProperties.to_pydatetime is deprecated, in a future version this will return a Series containing python datetime objects instead of an ndarray. To retain the old behavior, call `np.array` on the result\n",
      "  v = v.dt.to_pydatetime()\n"
     ]
    },
    {
     "data": {
      "application/vnd.plotly.v1+json": {
       "config": {
        "plotlyServerURL": "https://plot.ly"
       },
       "data": [
        {
         "hovertemplate": "date=%{x}<br>Cumulative returns=%{y}<extra></extra>",
         "legendgroup": "",
         "line": {
          "color": "#636efa",
          "dash": "solid"
         },
         "marker": {
          "symbol": "circle"
         },
         "mode": "lines",
         "name": "",
         "orientation": "v",
         "showlegend": false,
         "type": "scatter",
         "x": [
          "1990-03-30T00:00:00",
          "1990-04-30T00:00:00",
          "1990-05-31T00:00:00",
          "1990-06-29T00:00:00",
          "1990-07-31T00:00:00",
          "1990-08-31T00:00:00",
          "1990-09-28T00:00:00",
          "1990-10-31T00:00:00",
          "1990-11-30T00:00:00",
          "1990-12-31T00:00:00",
          "1991-01-31T00:00:00",
          "1991-02-28T00:00:00",
          "1991-03-28T00:00:00",
          "1991-04-30T00:00:00",
          "1991-05-31T00:00:00",
          "1991-06-28T00:00:00",
          "1991-07-31T00:00:00",
          "1991-08-30T00:00:00",
          "1991-09-30T00:00:00",
          "1991-10-31T00:00:00",
          "1991-11-29T00:00:00",
          "1991-12-31T00:00:00",
          "1992-01-31T00:00:00",
          "1992-02-28T00:00:00",
          "1992-03-31T00:00:00",
          "1992-04-30T00:00:00",
          "1992-05-29T00:00:00",
          "1992-06-30T00:00:00",
          "1992-07-31T00:00:00",
          "1992-08-31T00:00:00",
          "1992-09-30T00:00:00",
          "1992-10-30T00:00:00",
          "1992-11-30T00:00:00",
          "1992-12-31T00:00:00",
          "1993-01-29T00:00:00",
          "1993-02-26T00:00:00",
          "1993-03-31T00:00:00",
          "1993-04-30T00:00:00",
          "1993-05-28T00:00:00",
          "1993-06-30T00:00:00",
          "1993-07-30T00:00:00",
          "1993-08-31T00:00:00",
          "1993-09-30T00:00:00",
          "1993-10-29T00:00:00",
          "1993-11-30T00:00:00",
          "1993-12-31T00:00:00",
          "1994-01-31T00:00:00",
          "1994-02-28T00:00:00",
          "1994-03-31T00:00:00",
          "1994-04-29T00:00:00",
          "1994-05-31T00:00:00",
          "1994-06-30T00:00:00",
          "1994-07-29T00:00:00",
          "1994-08-31T00:00:00",
          "1994-09-30T00:00:00",
          "1994-10-31T00:00:00",
          "1994-11-30T00:00:00",
          "1994-12-30T00:00:00",
          "1995-01-31T00:00:00",
          "1995-02-28T00:00:00",
          "1995-03-31T00:00:00",
          "1995-04-28T00:00:00",
          "1995-05-31T00:00:00",
          "1995-06-30T00:00:00",
          "1995-07-31T00:00:00",
          "1995-08-31T00:00:00",
          "1995-09-29T00:00:00",
          "1995-10-31T00:00:00",
          "1995-11-30T00:00:00",
          "1995-12-29T00:00:00",
          "1996-01-31T00:00:00",
          "1996-02-29T00:00:00",
          "1996-03-29T00:00:00",
          "1996-04-30T00:00:00",
          "1996-05-31T00:00:00",
          "1996-06-28T00:00:00",
          "1996-07-31T00:00:00",
          "1996-08-30T00:00:00",
          "1996-09-30T00:00:00",
          "1996-10-31T00:00:00",
          "1996-11-29T00:00:00",
          "1996-12-31T00:00:00",
          "1997-01-31T00:00:00",
          "1997-02-28T00:00:00",
          "1997-03-31T00:00:00",
          "1997-04-30T00:00:00",
          "1997-05-30T00:00:00",
          "1997-06-30T00:00:00",
          "1997-07-31T00:00:00",
          "1997-08-29T00:00:00",
          "1997-09-30T00:00:00",
          "1997-10-31T00:00:00",
          "1997-11-28T00:00:00",
          "1997-12-31T00:00:00",
          "1998-01-30T00:00:00",
          "1998-02-27T00:00:00",
          "1998-03-31T00:00:00",
          "1998-04-30T00:00:00",
          "1998-05-29T00:00:00",
          "1998-06-30T00:00:00",
          "1998-07-31T00:00:00",
          "1998-08-31T00:00:00",
          "1998-09-30T00:00:00",
          "1998-10-30T00:00:00",
          "1998-11-30T00:00:00",
          "1998-12-31T00:00:00",
          "1999-01-29T00:00:00",
          "1999-02-26T00:00:00",
          "1999-03-31T00:00:00",
          "1999-04-30T00:00:00",
          "1999-05-28T00:00:00",
          "1999-06-30T00:00:00",
          "1999-07-30T00:00:00",
          "1999-08-31T00:00:00",
          "1999-09-30T00:00:00",
          "1999-10-29T00:00:00",
          "1999-11-30T00:00:00",
          "1999-12-31T00:00:00",
          "2000-01-31T00:00:00",
          "2000-02-29T00:00:00",
          "2000-03-31T00:00:00",
          "2000-04-28T00:00:00",
          "2000-05-31T00:00:00",
          "2000-06-30T00:00:00",
          "2000-07-31T00:00:00",
          "2000-08-31T00:00:00",
          "2000-09-29T00:00:00",
          "2000-10-31T00:00:00",
          "2000-11-30T00:00:00",
          "2000-12-29T00:00:00",
          "2001-01-31T00:00:00",
          "2001-02-28T00:00:00",
          "2001-03-30T00:00:00",
          "2001-04-30T00:00:00",
          "2001-05-31T00:00:00",
          "2001-06-29T00:00:00",
          "2001-07-31T00:00:00",
          "2001-08-31T00:00:00",
          "2001-09-28T00:00:00",
          "2001-10-31T00:00:00",
          "2001-11-30T00:00:00",
          "2001-12-31T00:00:00",
          "2002-01-31T00:00:00",
          "2002-02-28T00:00:00",
          "2002-03-28T00:00:00",
          "2002-04-30T00:00:00",
          "2002-05-31T00:00:00",
          "2002-06-28T00:00:00",
          "2002-07-31T00:00:00",
          "2002-08-30T00:00:00",
          "2002-09-30T00:00:00",
          "2002-10-31T00:00:00",
          "2002-11-29T00:00:00",
          "2002-12-31T00:00:00",
          "2003-01-31T00:00:00",
          "2003-02-28T00:00:00",
          "2003-03-31T00:00:00",
          "2003-04-30T00:00:00",
          "2003-05-30T00:00:00",
          "2003-06-30T00:00:00",
          "2003-07-31T00:00:00",
          "2003-08-29T00:00:00",
          "2003-09-30T00:00:00",
          "2003-10-31T00:00:00",
          "2003-11-28T00:00:00",
          "2003-12-31T00:00:00",
          "2004-01-30T00:00:00",
          "2004-02-27T00:00:00",
          "2004-03-31T00:00:00",
          "2004-04-30T00:00:00",
          "2004-05-28T00:00:00",
          "2004-06-30T00:00:00",
          "2004-07-30T00:00:00",
          "2004-08-31T00:00:00",
          "2004-09-30T00:00:00",
          "2004-10-29T00:00:00",
          "2004-11-30T00:00:00",
          "2004-12-31T00:00:00",
          "2005-01-31T00:00:00",
          "2005-02-28T00:00:00",
          "2005-03-31T00:00:00",
          "2005-04-29T00:00:00",
          "2005-05-31T00:00:00",
          "2005-06-30T00:00:00",
          "2005-07-29T00:00:00",
          "2005-08-31T00:00:00",
          "2005-09-30T00:00:00",
          "2005-10-31T00:00:00",
          "2005-11-30T00:00:00",
          "2005-12-30T00:00:00",
          "2006-01-31T00:00:00",
          "2006-02-28T00:00:00",
          "2006-03-31T00:00:00",
          "2006-04-28T00:00:00",
          "2006-05-31T00:00:00",
          "2006-06-30T00:00:00",
          "2006-07-31T00:00:00",
          "2006-08-31T00:00:00",
          "2006-09-29T00:00:00",
          "2006-10-31T00:00:00",
          "2006-11-30T00:00:00",
          "2006-12-29T00:00:00",
          "2007-01-31T00:00:00",
          "2007-02-28T00:00:00",
          "2007-03-30T00:00:00",
          "2007-04-30T00:00:00",
          "2007-05-31T00:00:00",
          "2007-06-29T00:00:00",
          "2007-07-31T00:00:00",
          "2007-08-31T00:00:00",
          "2007-09-28T00:00:00",
          "2007-10-31T00:00:00",
          "2007-11-30T00:00:00",
          "2007-12-31T00:00:00",
          "2008-01-31T00:00:00",
          "2008-02-29T00:00:00",
          "2008-03-31T00:00:00",
          "2008-04-30T00:00:00",
          "2008-05-30T00:00:00",
          "2008-06-30T00:00:00",
          "2008-07-31T00:00:00",
          "2008-08-29T00:00:00",
          "2008-09-30T00:00:00",
          "2008-10-31T00:00:00",
          "2008-11-28T00:00:00",
          "2008-12-31T00:00:00",
          "2009-01-30T00:00:00",
          "2009-02-27T00:00:00",
          "2009-03-31T00:00:00",
          "2009-04-30T00:00:00",
          "2009-05-29T00:00:00",
          "2009-06-30T00:00:00",
          "2009-07-31T00:00:00",
          "2009-08-31T00:00:00",
          "2009-09-30T00:00:00",
          "2009-10-30T00:00:00",
          "2009-11-30T00:00:00",
          "2009-12-31T00:00:00",
          "2010-01-29T00:00:00",
          "2010-02-26T00:00:00",
          "2010-03-31T00:00:00",
          "2010-04-30T00:00:00",
          "2010-05-28T00:00:00",
          "2010-06-30T00:00:00",
          "2010-07-30T00:00:00",
          "2010-08-31T00:00:00",
          "2010-09-30T00:00:00",
          "2010-10-29T00:00:00",
          "2010-11-30T00:00:00",
          "2010-12-31T00:00:00",
          "2011-01-31T00:00:00",
          "2011-02-28T00:00:00",
          "2011-03-31T00:00:00",
          "2011-04-29T00:00:00",
          "2011-05-31T00:00:00",
          "2011-06-30T00:00:00",
          "2011-07-29T00:00:00",
          "2011-08-31T00:00:00",
          "2011-09-30T00:00:00",
          "2011-10-31T00:00:00",
          "2011-11-30T00:00:00",
          "2011-12-30T00:00:00",
          "2012-01-31T00:00:00",
          "2012-02-29T00:00:00",
          "2012-03-30T00:00:00",
          "2012-04-30T00:00:00",
          "2012-05-31T00:00:00",
          "2012-06-29T00:00:00",
          "2012-07-31T00:00:00",
          "2012-08-31T00:00:00",
          "2012-09-28T00:00:00",
          "2012-10-31T00:00:00",
          "2012-11-30T00:00:00",
          "2012-12-31T00:00:00",
          "2013-01-31T00:00:00",
          "2013-02-28T00:00:00",
          "2013-03-28T00:00:00",
          "2013-04-30T00:00:00",
          "2013-05-31T00:00:00",
          "2013-06-28T00:00:00",
          "2013-07-31T00:00:00",
          "2013-08-30T00:00:00",
          "2013-09-30T00:00:00",
          "2013-10-31T00:00:00",
          "2013-11-29T00:00:00",
          "2013-12-31T00:00:00",
          "2014-01-31T00:00:00",
          "2014-02-28T00:00:00",
          "2014-03-31T00:00:00",
          "2014-04-30T00:00:00",
          "2014-05-30T00:00:00",
          "2014-06-30T00:00:00",
          "2014-07-31T00:00:00",
          "2014-08-29T00:00:00",
          "2014-09-30T00:00:00",
          "2014-10-31T00:00:00",
          "2014-11-28T00:00:00",
          "2014-12-31T00:00:00",
          "2015-01-30T00:00:00",
          "2015-02-27T00:00:00",
          "2015-03-31T00:00:00",
          "2015-04-30T00:00:00",
          "2015-05-29T00:00:00",
          "2015-06-30T00:00:00",
          "2015-07-31T00:00:00",
          "2015-08-31T00:00:00",
          "2015-09-30T00:00:00",
          "2015-10-30T00:00:00",
          "2015-11-30T00:00:00",
          "2015-12-31T00:00:00",
          "2016-01-29T00:00:00",
          "2016-02-29T00:00:00",
          "2016-03-31T00:00:00",
          "2016-04-29T00:00:00",
          "2016-05-31T00:00:00",
          "2016-06-30T00:00:00",
          "2016-07-29T00:00:00",
          "2016-08-31T00:00:00",
          "2016-09-30T00:00:00",
          "2016-10-31T00:00:00",
          "2016-11-30T00:00:00",
          "2016-12-30T00:00:00",
          "2017-01-31T00:00:00",
          "2017-02-28T00:00:00",
          "2017-03-31T00:00:00",
          "2017-04-28T00:00:00",
          "2017-05-31T00:00:00",
          "2017-06-30T00:00:00",
          "2017-07-31T00:00:00",
          "2017-08-31T00:00:00",
          "2017-09-29T00:00:00",
          "2017-10-31T00:00:00",
          "2017-11-30T00:00:00",
          "2017-12-29T00:00:00",
          "2018-01-31T00:00:00",
          "2018-02-28T00:00:00",
          "2018-03-29T00:00:00",
          "2018-04-30T00:00:00",
          "2018-05-31T00:00:00",
          "2018-06-29T00:00:00",
          "2018-07-31T00:00:00",
          "2018-08-31T00:00:00",
          "2018-09-28T00:00:00",
          "2018-10-31T00:00:00",
          "2018-11-30T00:00:00",
          "2018-12-31T00:00:00",
          "2019-01-31T00:00:00",
          "2019-02-28T00:00:00",
          "2019-03-29T00:00:00",
          "2019-04-30T00:00:00",
          "2019-05-31T00:00:00",
          "2019-06-28T00:00:00",
          "2019-07-31T00:00:00",
          "2019-08-30T00:00:00",
          "2019-09-30T00:00:00",
          "2019-10-31T00:00:00",
          "2019-11-29T00:00:00",
          "2019-12-31T00:00:00",
          "2020-01-31T00:00:00",
          "2020-02-28T00:00:00",
          "2020-03-31T00:00:00",
          "2020-04-30T00:00:00",
          "2020-05-29T00:00:00",
          "2020-06-30T00:00:00",
          "2020-07-31T00:00:00",
          "2020-08-31T00:00:00",
          "2020-09-30T00:00:00",
          "2020-10-30T00:00:00",
          "2020-11-30T00:00:00",
          "2020-12-31T00:00:00",
          "2021-01-29T00:00:00",
          "2021-02-26T00:00:00",
          "2021-03-31T00:00:00",
          "2021-04-30T00:00:00",
          "2021-05-28T00:00:00",
          "2021-06-30T00:00:00",
          "2021-07-30T00:00:00",
          "2021-08-31T00:00:00",
          "2021-09-30T00:00:00",
          "2021-10-29T00:00:00",
          "2021-11-30T00:00:00",
          "2021-12-31T00:00:00",
          "2022-01-31T00:00:00",
          "2022-02-28T00:00:00",
          "2022-03-31T00:00:00",
          "2022-04-29T00:00:00",
          "2022-05-31T00:00:00",
          "2022-06-30T00:00:00",
          "2022-07-29T00:00:00",
          "2022-08-30T00:00:00"
         ],
         "xaxis": "x",
         "y": [
          1.008418180507339,
          0.9987386079384121,
          1.0217296855828428,
          1.0214036049714785,
          1.0134946436342995,
          0.9827363828515181,
          0.9626221060312196,
          0.9593210431587762,
          0.9815071763035709,
          0.9961852044682109,
          1.022584472621781,
          1.0516073535080555,
          1.0670804806851704,
          1.067651383080642,
          1.086945003275507,
          1.0649249816218167,
          1.0857457025086619,
          1.0997651491559377,
          1.0936373992199715,
          1.11065213665215,
          1.0910697237224583,
          1.1397811652665517,
          1.153101775120688,
          1.1613537178791309,
          1.1428427740942333,
          1.1427555388073052,
          1.1458450377576743,
          1.1304236710483329,
          1.1472119358312607,
          1.1334764729295579,
          1.1438278288887394,
          1.1581054058190452,
          1.183163126882478,
          1.1976999290464387,
          1.2110451665175557,
          1.2142902261103001,
          1.2352826738472016,
          1.223394791048436,
          1.2460723326565546,
          1.2511097101357067,
          1.254726444105218,
          1.2797196267491022,
          1.2857192862153828,
          1.2949270163277606,
          1.2833340657235945,
          1.2990871313334198,
          1.320406998916616,
          1.3130972724990637,
          1.2869648980134618,
          1.2933978731544715,
          1.2938647233252893,
          1.2779208272910085,
          1.2923031891753614,
          1.3235250326016519,
          1.3165583057018364,
          1.331488806695361,
          1.310854347029341,
          1.3152930031095305,
          1.3243954050969913,
          1.3503688357797776,
          1.370704234254611,
          1.3869558501558472,
          1.404835287642448,
          1.4360684322353798,
          1.4675272621918778,
          1.477533773003793,
          1.4927562415622844,
          1.4820351766499247,
          1.5120911913695605,
          1.5239982537473906,
          1.542325507239316,
          1.556648113263337,
          1.562186653529572,
          1.5888026189736666,
          1.6022660648282216,
          1.586416462699683,
          1.5442175550635238,
          1.5754106606205622,
          1.6174836339304983,
          1.6293165150712734,
          1.6777366298709413,
          1.6696458712986932,
          1.7113305203156852,
          1.7087826156908954,
          1.673377955677675,
          1.6957079113719284,
          1.7648375426794443,
          1.7941505623796916,
          1.8754913374787174,
          1.862549811621856,
          1.9240265315648297,
          1.8782074937193538,
          1.8968182119373431,
          1.9145933381403126,
          1.9163990480598911,
          2.0030955497871625,
          2.049371239037933,
          2.068576539942389,
          2.0283402133639434,
          2.057541650135409,
          2.0219146334135307,
          1.8445676294554554,
          1.9161688527193717,
          2.010869826012417,
          2.07292693077767,
          2.157677680438289,
          2.1958856751378004,
          2.153867639606998,
          2.205337115277125,
          2.2844948899080197,
          2.290568867122211,
          2.3603318289673423,
          2.3341208464067886,
          2.332200434438868,
          2.3007153793241146,
          2.3498460393526925,
          2.3924456129157012,
          2.505449547075417,
          2.4616473632537885,
          2.5169171744377556,
          2.618799080165337,
          2.5961880348799573,
          2.585039676527732,
          2.631551915122378,
          2.6387139716363968,
          2.760674934774643,
          2.7261468774503563,
          2.7150960933571393,
          2.612231459029195,
          2.682741803683939,
          2.7489442650495173,
          2.6589401839252926,
          2.582126183431758,
          2.7087530789302,
          2.7288117336759417,
          2.7223966317750903,
          2.6882856678357983,
          2.6323520733607384,
          2.481286532388702,
          2.548836157252816,
          2.667287403931181,
          2.7014443933476597,
          2.706321522346331,
          2.6840635150986643,
          2.763601048017063,
          2.717648917015551,
          2.6973540442457207,
          2.6061643955140252,
          2.5116027883456917,
          2.512586887020452,
          2.416901970996919,
          2.501470763233974,
          2.58183579525491,
          2.5218592846707724,
          2.5002564876846542,
          2.4989011943047434,
          2.5044820398030336,
          2.604618981386043,
          2.703954821551208,
          2.715409189120162,
          2.7585619823843195,
          2.809219858851598,
          2.7891460085682334,
          2.8897938956942797,
          2.9182645211936498,
          2.964774351275855,
          3.009089408406872,
          3.035363206938553,
          3.031303654943436,
          2.9934862691965636,
          3.025332168864273,
          3.075400066613985,
          3.0056549381908333,
          3.0084184797524083,
          3.0578203192577003,
          3.0869381441547024,
          3.172604099711345,
          3.234427843813474,
          3.1884878061051602,
          3.2224155443080913,
          3.2044516998222026,
          3.1608846275665283,
          3.23488212104459,
          3.2603966123214234,
          3.349099234352639,
          3.3434161766509978,
          3.369044751706129,
          3.339225259438491,
          3.4172753473393254,
          3.4261872418957524,
          3.5207362153486033,
          3.5113140106356573,
          3.563659605719647,
          3.5900941015323453,
          3.5134513892606893,
          3.512705635786304,
          3.4776021811341113,
          3.519454950201818,
          3.556280894117055,
          3.639781718229252,
          3.6964036846890598,
          3.695138279824244,
          3.750875605122007,
          3.7421590213765032,
          3.7622280310637306,
          3.8493348735135045,
          3.930752526607185,
          3.8911106305843823,
          3.8230810714275503,
          3.839506033584338,
          3.9060226021421447,
          3.9780213443434405,
          3.863912999556367,
          3.852190664265376,
          3.734108346721595,
          3.6879597590989426,
          3.67161494714668,
          3.778135896797671,
          3.851986806378886,
          3.6828401477095123,
          3.6829707681824946,
          3.7176717631134526,
          3.5264886507962907,
          3.158063376009042,
          3.0035958624486443,
          3.072479565541243,
          2.9781502754412212,
          2.8336105021748628,
          2.964280512440797,
          3.1944573667969247,
          3.2595783260335,
          3.2587144706410593,
          3.403195276988549,
          3.473886007724119,
          3.5650343025315454,
          3.504832310942852,
          3.592214271830314,
          3.670777854856138,
          3.6237538124414472,
          3.714160200090475,
          3.8462234554104673,
          3.9201550568165295,
          3.751533596217994,
          3.6205943951726076,
          3.7628603509559864,
          3.664683591554836,
          3.8609307813422427,
          3.946431715182702,
          3.980560377374066,
          4.123904662495638,
          4.170855483665223,
          4.266820982081861,
          4.291935057540115,
          4.3735940518592535,
          4.349571756811649,
          4.307125745638815,
          4.226315634000231,
          4.072578665686983,
          3.8766093764222913,
          4.153655103105481,
          4.1380582461867546,
          4.120401984393838,
          4.2681774499591425,
          4.353740130326176,
          4.404961174858757,
          4.38841231872488,
          4.222670218564962,
          4.308485488242481,
          4.302463205394884,
          4.378999778770652,
          4.431367636291648,
          4.407027442272171,
          4.44566737003102,
          4.493498513877092,
          4.654234603568952,
          4.686466723742234,
          4.800894151625779,
          4.83340704040339,
          4.915369661387399,
          4.8778173161877705,
          5.040570252211664,
          4.963016187463683,
          5.0960208789498775,
          5.21839911598458,
          5.283960960920963,
          5.36870283089122,
          5.2885560427722105,
          5.460052975442935,
          5.46947056114872,
          5.44868842485385,
          5.527859675686897,
          5.630442158424507,
          5.545030803613899,
          5.682741822307067,
          5.5819346536341055,
          5.686242918119035,
          5.781177942965202,
          5.781613263236128,
          5.689984457787131,
          5.88325777913911,
          5.8623591601925815,
          5.86928007004328,
          5.914503861543241,
          5.8565751158032535,
          5.8729341665157335,
          5.682796508899313,
          5.563427573992096,
          5.785928088711412,
          5.790050017465723,
          5.6918262184528485,
          5.485460903010279,
          5.523241063785739,
          5.761857627161748,
          5.824041803904033,
          5.876193708124513,
          5.871581261866658,
          6.03911303744637,
          6.042119309127495,
          6.051076950721188,
          5.960433424159132,
          6.189700664052113,
          6.214208777446857,
          6.297812110739488,
          6.421083521684242,
          6.4204213459674895,
          6.446764782203097,
          6.454080223068593,
          6.490307440439202,
          6.548100014792454,
          6.5210407609332295,
          6.649034716094335,
          6.6915427204270905,
          6.830596331080185,
          6.886761427634081,
          7.0994871718680095,
          6.927110739299644,
          6.878620980797353,
          6.9071984785924485,
          6.988521934262698,
          7.014404764510546,
          7.147890080091105,
          7.244148908706666,
          7.2594062260009276,
          6.917524865477189,
          7.014977869064973,
          6.565003189930047,
          6.9960044596375255,
          7.152543952546574,
          7.175588465193149,
          7.332577836327228,
          6.984167095849728,
          7.295375280628896,
          7.336275412111035,
          7.161312776157566,
          7.298013764314458,
          7.349626673772841,
          7.499919701869953,
          7.635612159933286,
          7.564440422407145,
          7.162133939971384,
          6.373554653339912,
          6.93101182967873,
          7.1442168117675395,
          7.204766887735201,
          7.455335391360515,
          7.683089455468845,
          7.549446922038947,
          7.5330019044655705,
          8.258593555295823,
          8.467505804839803,
          8.477614502472138,
          8.779784540142671,
          9.086207935896374,
          9.347172148846596,
          9.449188478930662,
          9.477082632894136,
          9.53587336125782,
          9.672937353619488,
          9.431644898740617,
          9.757280959815326,
          9.624789864100245,
          9.962038601539275,
          9.691278937140195,
          9.660301412737997,
          9.849786723933724,
          9.408835672030422,
          9.474952949653108,
          8.892161187771888,
          9.387986904565524,
          9.288217320743323
         ],
         "yaxis": "y"
        }
       ],
       "layout": {
        "legend": {
         "tracegroupgap": 0
        },
        "template": {
         "data": {
          "bar": [
           {
            "error_x": {
             "color": "#2a3f5f"
            },
            "error_y": {
             "color": "#2a3f5f"
            },
            "marker": {
             "line": {
              "color": "#E5ECF6",
              "width": 0.5
             },
             "pattern": {
              "fillmode": "overlay",
              "size": 10,
              "solidity": 0.2
             }
            },
            "type": "bar"
           }
          ],
          "barpolar": [
           {
            "marker": {
             "line": {
              "color": "#E5ECF6",
              "width": 0.5
             },
             "pattern": {
              "fillmode": "overlay",
              "size": 10,
              "solidity": 0.2
             }
            },
            "type": "barpolar"
           }
          ],
          "carpet": [
           {
            "aaxis": {
             "endlinecolor": "#2a3f5f",
             "gridcolor": "white",
             "linecolor": "white",
             "minorgridcolor": "white",
             "startlinecolor": "#2a3f5f"
            },
            "baxis": {
             "endlinecolor": "#2a3f5f",
             "gridcolor": "white",
             "linecolor": "white",
             "minorgridcolor": "white",
             "startlinecolor": "#2a3f5f"
            },
            "type": "carpet"
           }
          ],
          "choropleth": [
           {
            "colorbar": {
             "outlinewidth": 0,
             "ticks": ""
            },
            "type": "choropleth"
           }
          ],
          "contour": [
           {
            "colorbar": {
             "outlinewidth": 0,
             "ticks": ""
            },
            "colorscale": [
             [
              0,
              "#0d0887"
             ],
             [
              0.1111111111111111,
              "#46039f"
             ],
             [
              0.2222222222222222,
              "#7201a8"
             ],
             [
              0.3333333333333333,
              "#9c179e"
             ],
             [
              0.4444444444444444,
              "#bd3786"
             ],
             [
              0.5555555555555556,
              "#d8576b"
             ],
             [
              0.6666666666666666,
              "#ed7953"
             ],
             [
              0.7777777777777778,
              "#fb9f3a"
             ],
             [
              0.8888888888888888,
              "#fdca26"
             ],
             [
              1,
              "#f0f921"
             ]
            ],
            "type": "contour"
           }
          ],
          "contourcarpet": [
           {
            "colorbar": {
             "outlinewidth": 0,
             "ticks": ""
            },
            "type": "contourcarpet"
           }
          ],
          "heatmap": [
           {
            "colorbar": {
             "outlinewidth": 0,
             "ticks": ""
            },
            "colorscale": [
             [
              0,
              "#0d0887"
             ],
             [
              0.1111111111111111,
              "#46039f"
             ],
             [
              0.2222222222222222,
              "#7201a8"
             ],
             [
              0.3333333333333333,
              "#9c179e"
             ],
             [
              0.4444444444444444,
              "#bd3786"
             ],
             [
              0.5555555555555556,
              "#d8576b"
             ],
             [
              0.6666666666666666,
              "#ed7953"
             ],
             [
              0.7777777777777778,
              "#fb9f3a"
             ],
             [
              0.8888888888888888,
              "#fdca26"
             ],
             [
              1,
              "#f0f921"
             ]
            ],
            "type": "heatmap"
           }
          ],
          "heatmapgl": [
           {
            "colorbar": {
             "outlinewidth": 0,
             "ticks": ""
            },
            "colorscale": [
             [
              0,
              "#0d0887"
             ],
             [
              0.1111111111111111,
              "#46039f"
             ],
             [
              0.2222222222222222,
              "#7201a8"
             ],
             [
              0.3333333333333333,
              "#9c179e"
             ],
             [
              0.4444444444444444,
              "#bd3786"
             ],
             [
              0.5555555555555556,
              "#d8576b"
             ],
             [
              0.6666666666666666,
              "#ed7953"
             ],
             [
              0.7777777777777778,
              "#fb9f3a"
             ],
             [
              0.8888888888888888,
              "#fdca26"
             ],
             [
              1,
              "#f0f921"
             ]
            ],
            "type": "heatmapgl"
           }
          ],
          "histogram": [
           {
            "marker": {
             "pattern": {
              "fillmode": "overlay",
              "size": 10,
              "solidity": 0.2
             }
            },
            "type": "histogram"
           }
          ],
          "histogram2d": [
           {
            "colorbar": {
             "outlinewidth": 0,
             "ticks": ""
            },
            "colorscale": [
             [
              0,
              "#0d0887"
             ],
             [
              0.1111111111111111,
              "#46039f"
             ],
             [
              0.2222222222222222,
              "#7201a8"
             ],
             [
              0.3333333333333333,
              "#9c179e"
             ],
             [
              0.4444444444444444,
              "#bd3786"
             ],
             [
              0.5555555555555556,
              "#d8576b"
             ],
             [
              0.6666666666666666,
              "#ed7953"
             ],
             [
              0.7777777777777778,
              "#fb9f3a"
             ],
             [
              0.8888888888888888,
              "#fdca26"
             ],
             [
              1,
              "#f0f921"
             ]
            ],
            "type": "histogram2d"
           }
          ],
          "histogram2dcontour": [
           {
            "colorbar": {
             "outlinewidth": 0,
             "ticks": ""
            },
            "colorscale": [
             [
              0,
              "#0d0887"
             ],
             [
              0.1111111111111111,
              "#46039f"
             ],
             [
              0.2222222222222222,
              "#7201a8"
             ],
             [
              0.3333333333333333,
              "#9c179e"
             ],
             [
              0.4444444444444444,
              "#bd3786"
             ],
             [
              0.5555555555555556,
              "#d8576b"
             ],
             [
              0.6666666666666666,
              "#ed7953"
             ],
             [
              0.7777777777777778,
              "#fb9f3a"
             ],
             [
              0.8888888888888888,
              "#fdca26"
             ],
             [
              1,
              "#f0f921"
             ]
            ],
            "type": "histogram2dcontour"
           }
          ],
          "mesh3d": [
           {
            "colorbar": {
             "outlinewidth": 0,
             "ticks": ""
            },
            "type": "mesh3d"
           }
          ],
          "parcoords": [
           {
            "line": {
             "colorbar": {
              "outlinewidth": 0,
              "ticks": ""
             }
            },
            "type": "parcoords"
           }
          ],
          "pie": [
           {
            "automargin": true,
            "type": "pie"
           }
          ],
          "scatter": [
           {
            "fillpattern": {
             "fillmode": "overlay",
             "size": 10,
             "solidity": 0.2
            },
            "type": "scatter"
           }
          ],
          "scatter3d": [
           {
            "line": {
             "colorbar": {
              "outlinewidth": 0,
              "ticks": ""
             }
            },
            "marker": {
             "colorbar": {
              "outlinewidth": 0,
              "ticks": ""
             }
            },
            "type": "scatter3d"
           }
          ],
          "scattercarpet": [
           {
            "marker": {
             "colorbar": {
              "outlinewidth": 0,
              "ticks": ""
             }
            },
            "type": "scattercarpet"
           }
          ],
          "scattergeo": [
           {
            "marker": {
             "colorbar": {
              "outlinewidth": 0,
              "ticks": ""
             }
            },
            "type": "scattergeo"
           }
          ],
          "scattergl": [
           {
            "marker": {
             "colorbar": {
              "outlinewidth": 0,
              "ticks": ""
             }
            },
            "type": "scattergl"
           }
          ],
          "scattermapbox": [
           {
            "marker": {
             "colorbar": {
              "outlinewidth": 0,
              "ticks": ""
             }
            },
            "type": "scattermapbox"
           }
          ],
          "scatterpolar": [
           {
            "marker": {
             "colorbar": {
              "outlinewidth": 0,
              "ticks": ""
             }
            },
            "type": "scatterpolar"
           }
          ],
          "scatterpolargl": [
           {
            "marker": {
             "colorbar": {
              "outlinewidth": 0,
              "ticks": ""
             }
            },
            "type": "scatterpolargl"
           }
          ],
          "scatterternary": [
           {
            "marker": {
             "colorbar": {
              "outlinewidth": 0,
              "ticks": ""
             }
            },
            "type": "scatterternary"
           }
          ],
          "surface": [
           {
            "colorbar": {
             "outlinewidth": 0,
             "ticks": ""
            },
            "colorscale": [
             [
              0,
              "#0d0887"
             ],
             [
              0.1111111111111111,
              "#46039f"
             ],
             [
              0.2222222222222222,
              "#7201a8"
             ],
             [
              0.3333333333333333,
              "#9c179e"
             ],
             [
              0.4444444444444444,
              "#bd3786"
             ],
             [
              0.5555555555555556,
              "#d8576b"
             ],
             [
              0.6666666666666666,
              "#ed7953"
             ],
             [
              0.7777777777777778,
              "#fb9f3a"
             ],
             [
              0.8888888888888888,
              "#fdca26"
             ],
             [
              1,
              "#f0f921"
             ]
            ],
            "type": "surface"
           }
          ],
          "table": [
           {
            "cells": {
             "fill": {
              "color": "#EBF0F8"
             },
             "line": {
              "color": "white"
             }
            },
            "header": {
             "fill": {
              "color": "#C8D4E3"
             },
             "line": {
              "color": "white"
             }
            },
            "type": "table"
           }
          ]
         },
         "layout": {
          "annotationdefaults": {
           "arrowcolor": "#2a3f5f",
           "arrowhead": 0,
           "arrowwidth": 1
          },
          "autotypenumbers": "strict",
          "coloraxis": {
           "colorbar": {
            "outlinewidth": 0,
            "ticks": ""
           }
          },
          "colorscale": {
           "diverging": [
            [
             0,
             "#8e0152"
            ],
            [
             0.1,
             "#c51b7d"
            ],
            [
             0.2,
             "#de77ae"
            ],
            [
             0.3,
             "#f1b6da"
            ],
            [
             0.4,
             "#fde0ef"
            ],
            [
             0.5,
             "#f7f7f7"
            ],
            [
             0.6,
             "#e6f5d0"
            ],
            [
             0.7,
             "#b8e186"
            ],
            [
             0.8,
             "#7fbc41"
            ],
            [
             0.9,
             "#4d9221"
            ],
            [
             1,
             "#276419"
            ]
           ],
           "sequential": [
            [
             0,
             "#0d0887"
            ],
            [
             0.1111111111111111,
             "#46039f"
            ],
            [
             0.2222222222222222,
             "#7201a8"
            ],
            [
             0.3333333333333333,
             "#9c179e"
            ],
            [
             0.4444444444444444,
             "#bd3786"
            ],
            [
             0.5555555555555556,
             "#d8576b"
            ],
            [
             0.6666666666666666,
             "#ed7953"
            ],
            [
             0.7777777777777778,
             "#fb9f3a"
            ],
            [
             0.8888888888888888,
             "#fdca26"
            ],
            [
             1,
             "#f0f921"
            ]
           ],
           "sequentialminus": [
            [
             0,
             "#0d0887"
            ],
            [
             0.1111111111111111,
             "#46039f"
            ],
            [
             0.2222222222222222,
             "#7201a8"
            ],
            [
             0.3333333333333333,
             "#9c179e"
            ],
            [
             0.4444444444444444,
             "#bd3786"
            ],
            [
             0.5555555555555556,
             "#d8576b"
            ],
            [
             0.6666666666666666,
             "#ed7953"
            ],
            [
             0.7777777777777778,
             "#fb9f3a"
            ],
            [
             0.8888888888888888,
             "#fdca26"
            ],
            [
             1,
             "#f0f921"
            ]
           ]
          },
          "colorway": [
           "#636efa",
           "#EF553B",
           "#00cc96",
           "#ab63fa",
           "#FFA15A",
           "#19d3f3",
           "#FF6692",
           "#B6E880",
           "#FF97FF",
           "#FECB52"
          ],
          "font": {
           "color": "#2a3f5f"
          },
          "geo": {
           "bgcolor": "white",
           "lakecolor": "white",
           "landcolor": "#E5ECF6",
           "showlakes": true,
           "showland": true,
           "subunitcolor": "white"
          },
          "hoverlabel": {
           "align": "left"
          },
          "hovermode": "closest",
          "mapbox": {
           "style": "light"
          },
          "paper_bgcolor": "white",
          "plot_bgcolor": "#E5ECF6",
          "polar": {
           "angularaxis": {
            "gridcolor": "white",
            "linecolor": "white",
            "ticks": ""
           },
           "bgcolor": "#E5ECF6",
           "radialaxis": {
            "gridcolor": "white",
            "linecolor": "white",
            "ticks": ""
           }
          },
          "scene": {
           "xaxis": {
            "backgroundcolor": "#E5ECF6",
            "gridcolor": "white",
            "gridwidth": 2,
            "linecolor": "white",
            "showbackground": true,
            "ticks": "",
            "zerolinecolor": "white"
           },
           "yaxis": {
            "backgroundcolor": "#E5ECF6",
            "gridcolor": "white",
            "gridwidth": 2,
            "linecolor": "white",
            "showbackground": true,
            "ticks": "",
            "zerolinecolor": "white"
           },
           "zaxis": {
            "backgroundcolor": "#E5ECF6",
            "gridcolor": "white",
            "gridwidth": 2,
            "linecolor": "white",
            "showbackground": true,
            "ticks": "",
            "zerolinecolor": "white"
           }
          },
          "shapedefaults": {
           "line": {
            "color": "#2a3f5f"
           }
          },
          "ternary": {
           "aaxis": {
            "gridcolor": "white",
            "linecolor": "white",
            "ticks": ""
           },
           "baxis": {
            "gridcolor": "white",
            "linecolor": "white",
            "ticks": ""
           },
           "bgcolor": "#E5ECF6",
           "caxis": {
            "gridcolor": "white",
            "linecolor": "white",
            "ticks": ""
           }
          },
          "title": {
           "x": 0.05
          },
          "xaxis": {
           "automargin": true,
           "gridcolor": "white",
           "linecolor": "white",
           "ticks": "",
           "title": {
            "standoff": 15
           },
           "zerolinecolor": "white",
           "zerolinewidth": 2
          },
          "yaxis": {
           "automargin": true,
           "gridcolor": "white",
           "linecolor": "white",
           "ticks": "",
           "title": {
            "standoff": 15
           },
           "zerolinecolor": "white",
           "zerolinewidth": 2
          }
         }
        },
        "title": {
         "text": "OBV Returns"
        },
        "xaxis": {
         "anchor": "y",
         "domain": [
          0,
          1
         ],
         "title": {
          "text": "date"
         }
        },
        "yaxis": {
         "anchor": "x",
         "domain": [
          0,
          1
         ],
         "title": {
          "text": "Cumulative returns"
         }
        }
       }
      }
     },
     "metadata": {},
     "output_type": "display_data"
    }
   ],
   "source": [
    "px.line(strategy_returns, y='vol_cum_rets', x='date', labels={'vol_cum_rets': 'Cumulative returns'}, title = 'OBV Returns').show()"
   ]
  },
  {
   "cell_type": "code",
   "execution_count": 27,
   "id": "57bd7d0f",
   "metadata": {},
   "outputs": [
    {
     "data": {
      "application/vnd.plotly.v1+json": {
       "config": {
        "plotlyServerURL": "https://plot.ly"
       },
       "data": [
        {
         "alignmentgroup": "True",
         "bingroup": "x",
         "hovertemplate": "variable=vol_rets<br>value=%{x}<br>count=%{y}<extra></extra>",
         "legendgroup": "vol_rets",
         "marker": {
          "color": "#636efa",
          "pattern": {
           "shape": ""
          }
         },
         "name": "vol_rets",
         "offsetgroup": "vol_rets",
         "orientation": "v",
         "showlegend": true,
         "type": "histogram",
         "x": [
          0.008418180507338873,
          -0.009598768403855025,
          0.023020115034792336,
          -0.0003191456761661081,
          -0.007743228336657269,
          -0.030348715679922245,
          -0.0204676220106299,
          -0.0034292406664680228,
          0.023126911791428905,
          0.014954580586887306,
          0.02650036161464835,
          0.028381890849431143,
          0.014713787541993022,
          0.0005350134369480859,
          0.01807108621841951,
          -0.020258634601873143,
          0.019551349856716065,
          0.012912274591447491,
          -0.005571871358779755,
          0.01555793304464002,
          -0.017631454785401342,
          0.0446455808322699,
          0.011686988923896741,
          0.007156300455420871,
          -0.015939109248043957,
          -0.00007633183575700004,
          0.0027035519369204546,
          -0.01345850983438363,
          0.01485130328822544,
          -0.011972907945514156,
          0.009132395957392667,
          0.012482277987743092,
          0.021636822466700418,
          0.012286388777398462,
          0.011142388128670763,
          0.0026795529039399316,
          0.017287833901246153,
          -0.009623613323856941,
          0.018536568713591068,
          0.004042604387509873,
          0.0028908207970977716,
          0.019919228419312974,
          0.004688260882207128,
          0.007161540011958285,
          -0.008952589959117708,
          0.012275109054276529,
          0.016411422351103634,
          -0.00553596461057068,
          -0.019901324169128157,
          0.004998563015152563,
          0.00036094861489079934,
          -0.012322691659220933,
          0.011254501513087564,
          0.024159843980740957,
          -0.00526376662942365,
          0.01134055432931656,
          -0.015497283613846431,
          0.003386078773929608,
          0.006920436713296155,
          0.019611537900861512,
          0.01505914379539901,
          0.011856398700098874,
          0.012891136718296883,
          0.02223260254612953,
          0.02190621926528188,
          0.006818620048645211,
          0.010302619700898272,
          -0.007182060013454937,
          0.02028023031651392,
          0.007874566326284554,
          0.012025770664014926,
          0.00928637045603793,
          0.0035579911857047852,
          0.01703763464113512,
          0.008473957490863123,
          -0.009891991396720815,
          -0.02660014480960906,
          0.020199942329858653,
          0.02670603567793752,
          0.007315611047031824,
          0.029718053154055114,
          -0.004822424704925389,
          0.02496616182721952,
          -0.0014888442615513654,
          -0.020719229987546158,
          0.01334423918905422,
          0.040767416866968435,
          0.01660947197198857,
          0.04533664944548392,
          -0.006900338912926769,
          0.03300675211979519,
          -0.023814140342550645,
          0.009908765820721485,
          0.009371022531892748,
          0.0009431297412391671,
          0.045239274051529305,
          0.023102087793908356,
          0.009371313766202764,
          -0.019451214785393533,
          0.014396715392747582,
          -0.01731533197373365,
          -0.08771240933088575,
          0.03881734782749814,
          0.04942203979500463,
          0.030860826475432725,
          0.04088458131460731,
          0.017707925074216996,
          -0.01913489213329174,
          0.023896303897076032,
          0.03589372984408694,
          0.002658783454068238,
          0.030456609642468154,
          -0.011104787148517602,
          -0.0008227560157724722,
          -0.013500149751206378,
          0.021354514543650997,
          0.018128665814524405,
          0.04723364809200264,
          -0.017482764269892627,
          0.022452367471071065,
          0.04047884720336117,
          -0.008634127549774545,
          -0.004294125927107818,
          0.01799285288228988,
          0.002721609432389137,
          0.046219849687843206,
          -0.01250710718938923,
          -0.004053627551994692,
          -0.03788618553119234,
          0.026992380177883708,
          0.024677164710621372,
          -0.032741326286076296,
          -0.028888953936578157,
          0.049039778269143006,
          0.007405124853116388,
          -0.002350877424662055,
          -0.012529755415194884,
          -0.020806417690010355,
          -0.057388045657270424,
          0.027223629348072587,
          0.046472679831265996,
          0.012805890121228162,
          0.0018053782675229815,
          -0.008224450444590784,
          0.029633252890990086,
          -0.016627628302024116,
          -0.007467805220446878,
          -0.033807074353561735,
          -0.03628382282065624,
          0.00039182098352771107,
          -0.038082231710204,
          0.03499057605640988,
          0.032127112258165044,
          -0.023230180127786146,
          -0.008566218233281945,
          -0.0005420617391002568,
          0.0022333197931192587,
          0.039983094305154024,
          0.0381383384191969,
          0.00423615345850452,
          0.01589181970697374,
          0.01836387102801043,
          -0.00714570282568442,
          0.03608555694712894,
          0.009852130126577726,
          0.01593749632510409,
          0.014947193911046463,
          0.008731478186815333,
          -0.0013374188584211746,
          -0.01247561777098774,
          0.010638398443783923,
          0.016549553885353282,
          -0.022678392050612544,
          0.0009194473811548112,
          0.016421199323758146,
          0.00952241199838403,
          0.027751108560064932,
          0.019486750366285385,
          -0.014203451097597871,
          0.010640698746900481,
          -0.005574651760111725,
          -0.013595796203790995,
          0.02341037468837652,
          0.00788730170748668,
          0.02720608336298666,
          -0.0016968914039179556,
          0.007665385851187176,
          -0.008851022905687763,
          0.023373711515933714,
          0.0026078947847634456,
          0.02759597382673581,
          -0.00267620296910346,
          0.01490769407846639,
          0.00741779483379137,
          -0.021348385335900513,
          -0.00021225666496046413,
          -0.009993281046544292,
          0.012034950200674707,
          0.010463536097578312,
          0.0234798168643898,
          0.015556418170965137,
          -0.00034233405568165175,
          0.015083961972977648,
          -0.0023238797185384497,
          0.0053629494558052,
          0.023152993845815793,
          0.021151096428086522,
          -0.010085065328958549,
          -0.01748332689955291,
          0.004296263105572735,
          0.017324251603196523,
          0.0184327510449658,
          -0.028684698977125913,
          -0.0030337989733042977,
          -0.030653289993967565,
          -0.01235866325709838,
          -0.0044319388008332026,
          0.0290120154712223,
          0.01954691720957174,
          -0.043911536350349584,
          0.00003546732080227766,
          0.009422012042762707,
          -0.051425495444237676,
          -0.10447368792865884,
          -0.04891210060375792,
          0.022933745499450334,
          -0.030701356376118018,
          -0.04853340493200752,
          0.04611431605213272,
          0.07765015941983151,
          0.02038560912204999,
          -0.0002650205965419709,
          0.04433674924549845,
          0.02077187025192475,
          0.02623813637084241,
          -0.01688679167713582,
          0.024931852121608478,
          0.021870516923756324,
          -0.01281037542287709,
          0.024948269757905515,
          0.03555669335877734,
          0.019221868480382456,
          -0.04301397729289544,
          -0.03490284644588792,
          0.0392935358826894,
          -0.026090992023184652,
          0.05355092326105672,
          0.0221451610201453,
          0.008647979910576978,
          0.03601108174023856,
          0.011385040395471223,
          0.023008588715787124,
          0.005885898556259682,
          0.019026148630948942,
          -0.005492575388287986,
          -0.009758664426299246,
          -0.018761957837058432,
          -0.03637612086434135,
          -0.048119215207752114,
          0.07146598993651353,
          -0.003754971592866613,
          -0.004266798759825858,
          0.0358643321998701,
          0.020046654894316108,
          0.011764837358067985,
          -0.0037568676492153574,
          -0.03776812389590539,
          0.020322512826181326,
          -0.0013977725732235882,
          0.01778901287983076,
          0.011958862792109498,
          -0.005492704739759563,
          0.008767798309630561,
          0.010759046924767614,
          0.03577081180631648,
          0.006925332072553009,
          0.024416566814363747,
          0.006772256948552111,
          0.016957525054038938,
          -0.0076397804817448555,
          0.033365935104575084,
          -0.015385970409588489,
          0.026799165358790785,
          0.024014469316679846,
          0.012563593446802355,
          0.016037565492438288,
          -0.01492852009946397,
          0.0324279314209231,
          0.0017248158118870968,
          -0.003799661422897472,
          0.014530331826630558,
          0.01855736012778993,
          -0.015169564380092575,
          0.02483503222442295,
          -0.01773917799278739,
          0.018686758437241865,
          0.016695562643597204,
          0.00007529957998534623,
          -0.01584831106425654,
          0.03396728458325947,
          -0.003552218809896613,
          0.0011805673554930736,
          0.007705168429563118,
          -0.009794354200467549,
          0.002793279414847285,
          -0.03237524076133574,
          -0.021005315731486007,
          0.03999342343548439,
          0.0007124058044125316,
          -0.016964240156230433,
          -0.036256432913137016,
          0.0068873265972469845,
          0.04320227211166783,
          0.0107923834232115,
          0.008954589609147365,
          -0.0007849377483042713,
          0.028532650423789094,
          0.0004978002005400802,
          0.0014825330542814162,
          -0.014979734566299483,
          0.038464860451876526,
          0.003959498968517127,
          0.01345357651903361,
          0.01957368825509144,
          -0.00010312523026931874,
          0.0041030696921710574,
          0.0011347460490091306,
          0.005613072059613152,
          0.008904443261526274,
          -0.00413238249234081,
          0.019627841605883184,
          0.006393109097454656,
          0.020780501068701315,
          0.008222575867693527,
          0.030889082839480556,
          -0.02428012452102385,
          -0.006999997593108028,
          0.004154538805797588,
          0.011773725038059403,
          0.0037036200918183,
          0.01903017006602318,
          0.0134667471851127,
          0.0021061573259384923,
          -0.04709494824786442,
          0.014087842903772633,
          -0.0641448465745343,
          0.06565134200826969,
          0.022375556478298666,
          0.0032218624309705785,
          0.021878257357649686,
          -0.047515450671576094,
          0.04455909781484181,
          0.005606309464399908,
          -0.023848973235741967,
          0.019088816873355417,
          0.007072185820031928,
          0.020449069696755202,
          0.018092521447863046,
          -0.009321025745598264,
          -0.05318390521578584,
          -0.11010395689899963,
          0.08746409290562754,
          0.030761018351730653,
          0.008475397312680624,
          0.034778155564180846,
          0.03054913724904419,
          -0.017394374255888717,
          -0.002178307595668792,
          0.09632171344601943,
          0.025296347149814033,
          0.0011938223445394289,
          0.03564328592464519,
          0.03490101543525153,
          0.028720915787018988,
          0.010914138357519584,
          0.002952015829261024,
          0.006203462673167746,
          0.014373512227891747,
          -0.024945106750699927,
          0.03452590344216529,
          -0.013578690237652756,
          0.03503959485878671,
          -0.027179142264841662,
          -0.003196433061428251,
          0.019614844620259326,
          -0.044767573579217367,
          0.007027147664958451,
          -0.061508670805859395,
          0.05575986605769957,
          -0.010627367170024759
         ],
         "xaxis": "x",
         "yaxis": "y"
        }
       ],
       "layout": {
        "barmode": "relative",
        "legend": {
         "title": {
          "text": "variable"
         },
         "tracegroupgap": 0
        },
        "margin": {
         "t": 60
        },
        "template": {
         "data": {
          "bar": [
           {
            "error_x": {
             "color": "#2a3f5f"
            },
            "error_y": {
             "color": "#2a3f5f"
            },
            "marker": {
             "line": {
              "color": "#E5ECF6",
              "width": 0.5
             },
             "pattern": {
              "fillmode": "overlay",
              "size": 10,
              "solidity": 0.2
             }
            },
            "type": "bar"
           }
          ],
          "barpolar": [
           {
            "marker": {
             "line": {
              "color": "#E5ECF6",
              "width": 0.5
             },
             "pattern": {
              "fillmode": "overlay",
              "size": 10,
              "solidity": 0.2
             }
            },
            "type": "barpolar"
           }
          ],
          "carpet": [
           {
            "aaxis": {
             "endlinecolor": "#2a3f5f",
             "gridcolor": "white",
             "linecolor": "white",
             "minorgridcolor": "white",
             "startlinecolor": "#2a3f5f"
            },
            "baxis": {
             "endlinecolor": "#2a3f5f",
             "gridcolor": "white",
             "linecolor": "white",
             "minorgridcolor": "white",
             "startlinecolor": "#2a3f5f"
            },
            "type": "carpet"
           }
          ],
          "choropleth": [
           {
            "colorbar": {
             "outlinewidth": 0,
             "ticks": ""
            },
            "type": "choropleth"
           }
          ],
          "contour": [
           {
            "colorbar": {
             "outlinewidth": 0,
             "ticks": ""
            },
            "colorscale": [
             [
              0,
              "#0d0887"
             ],
             [
              0.1111111111111111,
              "#46039f"
             ],
             [
              0.2222222222222222,
              "#7201a8"
             ],
             [
              0.3333333333333333,
              "#9c179e"
             ],
             [
              0.4444444444444444,
              "#bd3786"
             ],
             [
              0.5555555555555556,
              "#d8576b"
             ],
             [
              0.6666666666666666,
              "#ed7953"
             ],
             [
              0.7777777777777778,
              "#fb9f3a"
             ],
             [
              0.8888888888888888,
              "#fdca26"
             ],
             [
              1,
              "#f0f921"
             ]
            ],
            "type": "contour"
           }
          ],
          "contourcarpet": [
           {
            "colorbar": {
             "outlinewidth": 0,
             "ticks": ""
            },
            "type": "contourcarpet"
           }
          ],
          "heatmap": [
           {
            "colorbar": {
             "outlinewidth": 0,
             "ticks": ""
            },
            "colorscale": [
             [
              0,
              "#0d0887"
             ],
             [
              0.1111111111111111,
              "#46039f"
             ],
             [
              0.2222222222222222,
              "#7201a8"
             ],
             [
              0.3333333333333333,
              "#9c179e"
             ],
             [
              0.4444444444444444,
              "#bd3786"
             ],
             [
              0.5555555555555556,
              "#d8576b"
             ],
             [
              0.6666666666666666,
              "#ed7953"
             ],
             [
              0.7777777777777778,
              "#fb9f3a"
             ],
             [
              0.8888888888888888,
              "#fdca26"
             ],
             [
              1,
              "#f0f921"
             ]
            ],
            "type": "heatmap"
           }
          ],
          "heatmapgl": [
           {
            "colorbar": {
             "outlinewidth": 0,
             "ticks": ""
            },
            "colorscale": [
             [
              0,
              "#0d0887"
             ],
             [
              0.1111111111111111,
              "#46039f"
             ],
             [
              0.2222222222222222,
              "#7201a8"
             ],
             [
              0.3333333333333333,
              "#9c179e"
             ],
             [
              0.4444444444444444,
              "#bd3786"
             ],
             [
              0.5555555555555556,
              "#d8576b"
             ],
             [
              0.6666666666666666,
              "#ed7953"
             ],
             [
              0.7777777777777778,
              "#fb9f3a"
             ],
             [
              0.8888888888888888,
              "#fdca26"
             ],
             [
              1,
              "#f0f921"
             ]
            ],
            "type": "heatmapgl"
           }
          ],
          "histogram": [
           {
            "marker": {
             "pattern": {
              "fillmode": "overlay",
              "size": 10,
              "solidity": 0.2
             }
            },
            "type": "histogram"
           }
          ],
          "histogram2d": [
           {
            "colorbar": {
             "outlinewidth": 0,
             "ticks": ""
            },
            "colorscale": [
             [
              0,
              "#0d0887"
             ],
             [
              0.1111111111111111,
              "#46039f"
             ],
             [
              0.2222222222222222,
              "#7201a8"
             ],
             [
              0.3333333333333333,
              "#9c179e"
             ],
             [
              0.4444444444444444,
              "#bd3786"
             ],
             [
              0.5555555555555556,
              "#d8576b"
             ],
             [
              0.6666666666666666,
              "#ed7953"
             ],
             [
              0.7777777777777778,
              "#fb9f3a"
             ],
             [
              0.8888888888888888,
              "#fdca26"
             ],
             [
              1,
              "#f0f921"
             ]
            ],
            "type": "histogram2d"
           }
          ],
          "histogram2dcontour": [
           {
            "colorbar": {
             "outlinewidth": 0,
             "ticks": ""
            },
            "colorscale": [
             [
              0,
              "#0d0887"
             ],
             [
              0.1111111111111111,
              "#46039f"
             ],
             [
              0.2222222222222222,
              "#7201a8"
             ],
             [
              0.3333333333333333,
              "#9c179e"
             ],
             [
              0.4444444444444444,
              "#bd3786"
             ],
             [
              0.5555555555555556,
              "#d8576b"
             ],
             [
              0.6666666666666666,
              "#ed7953"
             ],
             [
              0.7777777777777778,
              "#fb9f3a"
             ],
             [
              0.8888888888888888,
              "#fdca26"
             ],
             [
              1,
              "#f0f921"
             ]
            ],
            "type": "histogram2dcontour"
           }
          ],
          "mesh3d": [
           {
            "colorbar": {
             "outlinewidth": 0,
             "ticks": ""
            },
            "type": "mesh3d"
           }
          ],
          "parcoords": [
           {
            "line": {
             "colorbar": {
              "outlinewidth": 0,
              "ticks": ""
             }
            },
            "type": "parcoords"
           }
          ],
          "pie": [
           {
            "automargin": true,
            "type": "pie"
           }
          ],
          "scatter": [
           {
            "fillpattern": {
             "fillmode": "overlay",
             "size": 10,
             "solidity": 0.2
            },
            "type": "scatter"
           }
          ],
          "scatter3d": [
           {
            "line": {
             "colorbar": {
              "outlinewidth": 0,
              "ticks": ""
             }
            },
            "marker": {
             "colorbar": {
              "outlinewidth": 0,
              "ticks": ""
             }
            },
            "type": "scatter3d"
           }
          ],
          "scattercarpet": [
           {
            "marker": {
             "colorbar": {
              "outlinewidth": 0,
              "ticks": ""
             }
            },
            "type": "scattercarpet"
           }
          ],
          "scattergeo": [
           {
            "marker": {
             "colorbar": {
              "outlinewidth": 0,
              "ticks": ""
             }
            },
            "type": "scattergeo"
           }
          ],
          "scattergl": [
           {
            "marker": {
             "colorbar": {
              "outlinewidth": 0,
              "ticks": ""
             }
            },
            "type": "scattergl"
           }
          ],
          "scattermapbox": [
           {
            "marker": {
             "colorbar": {
              "outlinewidth": 0,
              "ticks": ""
             }
            },
            "type": "scattermapbox"
           }
          ],
          "scatterpolar": [
           {
            "marker": {
             "colorbar": {
              "outlinewidth": 0,
              "ticks": ""
             }
            },
            "type": "scatterpolar"
           }
          ],
          "scatterpolargl": [
           {
            "marker": {
             "colorbar": {
              "outlinewidth": 0,
              "ticks": ""
             }
            },
            "type": "scatterpolargl"
           }
          ],
          "scatterternary": [
           {
            "marker": {
             "colorbar": {
              "outlinewidth": 0,
              "ticks": ""
             }
            },
            "type": "scatterternary"
           }
          ],
          "surface": [
           {
            "colorbar": {
             "outlinewidth": 0,
             "ticks": ""
            },
            "colorscale": [
             [
              0,
              "#0d0887"
             ],
             [
              0.1111111111111111,
              "#46039f"
             ],
             [
              0.2222222222222222,
              "#7201a8"
             ],
             [
              0.3333333333333333,
              "#9c179e"
             ],
             [
              0.4444444444444444,
              "#bd3786"
             ],
             [
              0.5555555555555556,
              "#d8576b"
             ],
             [
              0.6666666666666666,
              "#ed7953"
             ],
             [
              0.7777777777777778,
              "#fb9f3a"
             ],
             [
              0.8888888888888888,
              "#fdca26"
             ],
             [
              1,
              "#f0f921"
             ]
            ],
            "type": "surface"
           }
          ],
          "table": [
           {
            "cells": {
             "fill": {
              "color": "#EBF0F8"
             },
             "line": {
              "color": "white"
             }
            },
            "header": {
             "fill": {
              "color": "#C8D4E3"
             },
             "line": {
              "color": "white"
             }
            },
            "type": "table"
           }
          ]
         },
         "layout": {
          "annotationdefaults": {
           "arrowcolor": "#2a3f5f",
           "arrowhead": 0,
           "arrowwidth": 1
          },
          "autotypenumbers": "strict",
          "coloraxis": {
           "colorbar": {
            "outlinewidth": 0,
            "ticks": ""
           }
          },
          "colorscale": {
           "diverging": [
            [
             0,
             "#8e0152"
            ],
            [
             0.1,
             "#c51b7d"
            ],
            [
             0.2,
             "#de77ae"
            ],
            [
             0.3,
             "#f1b6da"
            ],
            [
             0.4,
             "#fde0ef"
            ],
            [
             0.5,
             "#f7f7f7"
            ],
            [
             0.6,
             "#e6f5d0"
            ],
            [
             0.7,
             "#b8e186"
            ],
            [
             0.8,
             "#7fbc41"
            ],
            [
             0.9,
             "#4d9221"
            ],
            [
             1,
             "#276419"
            ]
           ],
           "sequential": [
            [
             0,
             "#0d0887"
            ],
            [
             0.1111111111111111,
             "#46039f"
            ],
            [
             0.2222222222222222,
             "#7201a8"
            ],
            [
             0.3333333333333333,
             "#9c179e"
            ],
            [
             0.4444444444444444,
             "#bd3786"
            ],
            [
             0.5555555555555556,
             "#d8576b"
            ],
            [
             0.6666666666666666,
             "#ed7953"
            ],
            [
             0.7777777777777778,
             "#fb9f3a"
            ],
            [
             0.8888888888888888,
             "#fdca26"
            ],
            [
             1,
             "#f0f921"
            ]
           ],
           "sequentialminus": [
            [
             0,
             "#0d0887"
            ],
            [
             0.1111111111111111,
             "#46039f"
            ],
            [
             0.2222222222222222,
             "#7201a8"
            ],
            [
             0.3333333333333333,
             "#9c179e"
            ],
            [
             0.4444444444444444,
             "#bd3786"
            ],
            [
             0.5555555555555556,
             "#d8576b"
            ],
            [
             0.6666666666666666,
             "#ed7953"
            ],
            [
             0.7777777777777778,
             "#fb9f3a"
            ],
            [
             0.8888888888888888,
             "#fdca26"
            ],
            [
             1,
             "#f0f921"
            ]
           ]
          },
          "colorway": [
           "#636efa",
           "#EF553B",
           "#00cc96",
           "#ab63fa",
           "#FFA15A",
           "#19d3f3",
           "#FF6692",
           "#B6E880",
           "#FF97FF",
           "#FECB52"
          ],
          "font": {
           "color": "#2a3f5f"
          },
          "geo": {
           "bgcolor": "white",
           "lakecolor": "white",
           "landcolor": "#E5ECF6",
           "showlakes": true,
           "showland": true,
           "subunitcolor": "white"
          },
          "hoverlabel": {
           "align": "left"
          },
          "hovermode": "closest",
          "mapbox": {
           "style": "light"
          },
          "paper_bgcolor": "white",
          "plot_bgcolor": "#E5ECF6",
          "polar": {
           "angularaxis": {
            "gridcolor": "white",
            "linecolor": "white",
            "ticks": ""
           },
           "bgcolor": "#E5ECF6",
           "radialaxis": {
            "gridcolor": "white",
            "linecolor": "white",
            "ticks": ""
           }
          },
          "scene": {
           "xaxis": {
            "backgroundcolor": "#E5ECF6",
            "gridcolor": "white",
            "gridwidth": 2,
            "linecolor": "white",
            "showbackground": true,
            "ticks": "",
            "zerolinecolor": "white"
           },
           "yaxis": {
            "backgroundcolor": "#E5ECF6",
            "gridcolor": "white",
            "gridwidth": 2,
            "linecolor": "white",
            "showbackground": true,
            "ticks": "",
            "zerolinecolor": "white"
           },
           "zaxis": {
            "backgroundcolor": "#E5ECF6",
            "gridcolor": "white",
            "gridwidth": 2,
            "linecolor": "white",
            "showbackground": true,
            "ticks": "",
            "zerolinecolor": "white"
           }
          },
          "shapedefaults": {
           "line": {
            "color": "#2a3f5f"
           }
          },
          "ternary": {
           "aaxis": {
            "gridcolor": "white",
            "linecolor": "white",
            "ticks": ""
           },
           "baxis": {
            "gridcolor": "white",
            "linecolor": "white",
            "ticks": ""
           },
           "bgcolor": "#E5ECF6",
           "caxis": {
            "gridcolor": "white",
            "linecolor": "white",
            "ticks": ""
           }
          },
          "title": {
           "x": 0.05
          },
          "xaxis": {
           "automargin": true,
           "gridcolor": "white",
           "linecolor": "white",
           "ticks": "",
           "title": {
            "standoff": 15
           },
           "zerolinecolor": "white",
           "zerolinewidth": 2
          },
          "yaxis": {
           "automargin": true,
           "gridcolor": "white",
           "linecolor": "white",
           "ticks": "",
           "title": {
            "standoff": 15
           },
           "zerolinecolor": "white",
           "zerolinewidth": 2
          }
         }
        },
        "xaxis": {
         "anchor": "y",
         "domain": [
          0,
          1
         ],
         "title": {
          "text": "value"
         }
        },
        "yaxis": {
         "anchor": "x",
         "domain": [
          0,
          1
         ],
         "title": {
          "text": "count"
         }
        }
       }
      }
     },
     "metadata": {},
     "output_type": "display_data"
    }
   ],
   "source": [
    "px.histogram(strategy_returns[['vol_rets']]).show()"
   ]
  },
  {
   "cell_type": "code",
   "execution_count": 28,
   "id": "4273827e",
   "metadata": {},
   "outputs": [
    {
     "name": "stderr",
     "output_type": "stream",
     "text": [
      "/Library/Frameworks/Python.framework/Versions/3.9/lib/python3.9/site-packages/_plotly_utils/basevalidators.py:105: FutureWarning:\n",
      "\n",
      "The behavior of DatetimeProperties.to_pydatetime is deprecated, in a future version this will return a Series containing python datetime objects instead of an ndarray. To retain the old behavior, call `np.array` on the result\n",
      "\n"
     ]
    },
    {
     "data": {
      "application/vnd.plotly.v1+json": {
       "config": {
        "plotlyServerURL": "https://plot.ly"
       },
       "data": [
        {
         "alignmentgroup": "True",
         "hovertemplate": "date=%{x}<br>vol_rets=%{y}<extra></extra>",
         "legendgroup": "",
         "marker": {
          "color": [
           "green",
           "red",
           "green",
           "red",
           "red",
           "red",
           "red",
           "red",
           "green",
           "green",
           "green",
           "green",
           "green",
           "green",
           "green",
           "red",
           "green",
           "green",
           "red",
           "green",
           "red",
           "green",
           "green",
           "green",
           "red",
           "red",
           "green",
           "red",
           "green",
           "red",
           "green",
           "green",
           "green",
           "green",
           "green",
           "green",
           "green",
           "red",
           "green",
           "green",
           "green",
           "green",
           "green",
           "green",
           "red",
           "green",
           "green",
           "red",
           "red",
           "green",
           "green",
           "red",
           "green",
           "green",
           "red",
           "green",
           "red",
           "green",
           "green",
           "green",
           "green",
           "green",
           "green",
           "green",
           "green",
           "green",
           "green",
           "red",
           "green",
           "green",
           "green",
           "green",
           "green",
           "green",
           "green",
           "red",
           "red",
           "green",
           "green",
           "green",
           "green",
           "red",
           "green",
           "red",
           "red",
           "green",
           "green",
           "green",
           "green",
           "red",
           "green",
           "red",
           "green",
           "green",
           "green",
           "green",
           "green",
           "green",
           "red",
           "green",
           "red",
           "red",
           "green",
           "green",
           "green",
           "green",
           "green",
           "red",
           "green",
           "green",
           "green",
           "green",
           "red",
           "red",
           "red",
           "green",
           "green",
           "green",
           "red",
           "green",
           "green",
           "red",
           "red",
           "green",
           "green",
           "green",
           "red",
           "red",
           "red",
           "green",
           "green",
           "red",
           "red",
           "green",
           "green",
           "red",
           "red",
           "red",
           "red",
           "green",
           "green",
           "green",
           "green",
           "red",
           "green",
           "red",
           "red",
           "red",
           "red",
           "green",
           "red",
           "green",
           "green",
           "red",
           "red",
           "red",
           "green",
           "green",
           "green",
           "green",
           "green",
           "green",
           "red",
           "green",
           "green",
           "green",
           "green",
           "green",
           "red",
           "red",
           "green",
           "green",
           "red",
           "green",
           "green",
           "green",
           "green",
           "green",
           "red",
           "green",
           "red",
           "red",
           "green",
           "green",
           "green",
           "red",
           "green",
           "red",
           "green",
           "green",
           "green",
           "red",
           "green",
           "green",
           "red",
           "red",
           "red",
           "green",
           "green",
           "green",
           "green",
           "red",
           "green",
           "red",
           "green",
           "green",
           "green",
           "red",
           "red",
           "green",
           "green",
           "green",
           "red",
           "red",
           "red",
           "red",
           "red",
           "green",
           "green",
           "red",
           "green",
           "green",
           "red",
           "red",
           "red",
           "green",
           "red",
           "red",
           "green",
           "green",
           "green",
           "red",
           "green",
           "green",
           "green",
           "red",
           "green",
           "green",
           "red",
           "green",
           "green",
           "green",
           "red",
           "red",
           "green",
           "red",
           "green",
           "green",
           "green",
           "green",
           "green",
           "green",
           "green",
           "green",
           "red",
           "red",
           "red",
           "red",
           "red",
           "green",
           "red",
           "red",
           "green",
           "green",
           "green",
           "red",
           "red",
           "green",
           "red",
           "green",
           "green",
           "red",
           "green",
           "green",
           "green",
           "green",
           "green",
           "green",
           "green",
           "red",
           "green",
           "red",
           "green",
           "green",
           "green",
           "green",
           "red",
           "green",
           "green",
           "red",
           "green",
           "green",
           "red",
           "green",
           "red",
           "green",
           "green",
           "green",
           "red",
           "green",
           "red",
           "green",
           "green",
           "red",
           "green",
           "red",
           "red",
           "green",
           "green",
           "red",
           "red",
           "green",
           "green",
           "green",
           "green",
           "red",
           "green",
           "green",
           "green",
           "red",
           "green",
           "green",
           "green",
           "green",
           "red",
           "green",
           "green",
           "green",
           "green",
           "red",
           "green",
           "green",
           "green",
           "green",
           "green",
           "red",
           "red",
           "green",
           "green",
           "green",
           "green",
           "green",
           "green",
           "red",
           "green",
           "red",
           "green",
           "green",
           "green",
           "green",
           "red",
           "green",
           "green",
           "red",
           "green",
           "green",
           "green",
           "green",
           "red",
           "red",
           "red",
           "green",
           "green",
           "green",
           "green",
           "green",
           "red",
           "red",
           "green",
           "green",
           "green",
           "green",
           "green",
           "green",
           "green",
           "green",
           "green",
           "green",
           "red",
           "green",
           "red",
           "green",
           "red",
           "red",
           "green",
           "red",
           "green",
           "red",
           "green",
           "red"
          ],
          "pattern": {
           "shape": ""
          }
         },
         "name": "",
         "offsetgroup": "",
         "orientation": "v",
         "showlegend": false,
         "textposition": "auto",
         "type": "bar",
         "x": [
          "1990-03-31T00:00:00",
          "1990-04-30T00:00:00",
          "1990-05-31T00:00:00",
          "1990-06-30T00:00:00",
          "1990-07-31T00:00:00",
          "1990-08-31T00:00:00",
          "1990-09-30T00:00:00",
          "1990-10-31T00:00:00",
          "1990-11-30T00:00:00",
          "1990-12-31T00:00:00",
          "1991-01-31T00:00:00",
          "1991-02-28T00:00:00",
          "1991-03-31T00:00:00",
          "1991-04-30T00:00:00",
          "1991-05-31T00:00:00",
          "1991-06-30T00:00:00",
          "1991-07-31T00:00:00",
          "1991-08-31T00:00:00",
          "1991-09-30T00:00:00",
          "1991-10-31T00:00:00",
          "1991-11-30T00:00:00",
          "1991-12-31T00:00:00",
          "1992-01-31T00:00:00",
          "1992-02-29T00:00:00",
          "1992-03-31T00:00:00",
          "1992-04-30T00:00:00",
          "1992-05-31T00:00:00",
          "1992-06-30T00:00:00",
          "1992-07-31T00:00:00",
          "1992-08-31T00:00:00",
          "1992-09-30T00:00:00",
          "1992-10-31T00:00:00",
          "1992-11-30T00:00:00",
          "1992-12-31T00:00:00",
          "1993-01-31T00:00:00",
          "1993-02-28T00:00:00",
          "1993-03-31T00:00:00",
          "1993-04-30T00:00:00",
          "1993-05-31T00:00:00",
          "1993-06-30T00:00:00",
          "1993-07-31T00:00:00",
          "1993-08-31T00:00:00",
          "1993-09-30T00:00:00",
          "1993-10-31T00:00:00",
          "1993-11-30T00:00:00",
          "1993-12-31T00:00:00",
          "1994-01-31T00:00:00",
          "1994-02-28T00:00:00",
          "1994-03-31T00:00:00",
          "1994-04-30T00:00:00",
          "1994-05-31T00:00:00",
          "1994-06-30T00:00:00",
          "1994-07-31T00:00:00",
          "1994-08-31T00:00:00",
          "1994-09-30T00:00:00",
          "1994-10-31T00:00:00",
          "1994-11-30T00:00:00",
          "1994-12-31T00:00:00",
          "1995-01-31T00:00:00",
          "1995-02-28T00:00:00",
          "1995-03-31T00:00:00",
          "1995-04-30T00:00:00",
          "1995-05-31T00:00:00",
          "1995-06-30T00:00:00",
          "1995-07-31T00:00:00",
          "1995-08-31T00:00:00",
          "1995-09-30T00:00:00",
          "1995-10-31T00:00:00",
          "1995-11-30T00:00:00",
          "1995-12-31T00:00:00",
          "1996-01-31T00:00:00",
          "1996-02-29T00:00:00",
          "1996-03-31T00:00:00",
          "1996-04-30T00:00:00",
          "1996-05-31T00:00:00",
          "1996-06-30T00:00:00",
          "1996-07-31T00:00:00",
          "1996-08-31T00:00:00",
          "1996-09-30T00:00:00",
          "1996-10-31T00:00:00",
          "1996-11-30T00:00:00",
          "1996-12-31T00:00:00",
          "1997-01-31T00:00:00",
          "1997-02-28T00:00:00",
          "1997-03-31T00:00:00",
          "1997-04-30T00:00:00",
          "1997-05-31T00:00:00",
          "1997-06-30T00:00:00",
          "1997-07-31T00:00:00",
          "1997-08-31T00:00:00",
          "1997-09-30T00:00:00",
          "1997-10-31T00:00:00",
          "1997-11-30T00:00:00",
          "1997-12-31T00:00:00",
          "1998-01-31T00:00:00",
          "1998-02-28T00:00:00",
          "1998-03-31T00:00:00",
          "1998-04-30T00:00:00",
          "1998-05-31T00:00:00",
          "1998-06-30T00:00:00",
          "1998-07-31T00:00:00",
          "1998-08-31T00:00:00",
          "1998-09-30T00:00:00",
          "1998-10-31T00:00:00",
          "1998-11-30T00:00:00",
          "1998-12-31T00:00:00",
          "1999-01-31T00:00:00",
          "1999-02-28T00:00:00",
          "1999-03-31T00:00:00",
          "1999-04-30T00:00:00",
          "1999-05-31T00:00:00",
          "1999-06-30T00:00:00",
          "1999-07-31T00:00:00",
          "1999-08-31T00:00:00",
          "1999-09-30T00:00:00",
          "1999-10-31T00:00:00",
          "1999-11-30T00:00:00",
          "1999-12-31T00:00:00",
          "2000-01-31T00:00:00",
          "2000-02-29T00:00:00",
          "2000-03-31T00:00:00",
          "2000-04-30T00:00:00",
          "2000-05-31T00:00:00",
          "2000-06-30T00:00:00",
          "2000-07-31T00:00:00",
          "2000-08-31T00:00:00",
          "2000-09-30T00:00:00",
          "2000-10-31T00:00:00",
          "2000-11-30T00:00:00",
          "2000-12-31T00:00:00",
          "2001-01-31T00:00:00",
          "2001-02-28T00:00:00",
          "2001-03-31T00:00:00",
          "2001-04-30T00:00:00",
          "2001-05-31T00:00:00",
          "2001-06-30T00:00:00",
          "2001-07-31T00:00:00",
          "2001-08-31T00:00:00",
          "2001-09-30T00:00:00",
          "2001-10-31T00:00:00",
          "2001-11-30T00:00:00",
          "2001-12-31T00:00:00",
          "2002-01-31T00:00:00",
          "2002-02-28T00:00:00",
          "2002-03-31T00:00:00",
          "2002-04-30T00:00:00",
          "2002-05-31T00:00:00",
          "2002-06-30T00:00:00",
          "2002-07-31T00:00:00",
          "2002-08-31T00:00:00",
          "2002-09-30T00:00:00",
          "2002-10-31T00:00:00",
          "2002-11-30T00:00:00",
          "2002-12-31T00:00:00",
          "2003-01-31T00:00:00",
          "2003-02-28T00:00:00",
          "2003-03-31T00:00:00",
          "2003-04-30T00:00:00",
          "2003-05-31T00:00:00",
          "2003-06-30T00:00:00",
          "2003-07-31T00:00:00",
          "2003-08-31T00:00:00",
          "2003-09-30T00:00:00",
          "2003-10-31T00:00:00",
          "2003-11-30T00:00:00",
          "2003-12-31T00:00:00",
          "2004-01-31T00:00:00",
          "2004-02-29T00:00:00",
          "2004-03-31T00:00:00",
          "2004-04-30T00:00:00",
          "2004-05-31T00:00:00",
          "2004-06-30T00:00:00",
          "2004-07-31T00:00:00",
          "2004-08-31T00:00:00",
          "2004-09-30T00:00:00",
          "2004-10-31T00:00:00",
          "2004-11-30T00:00:00",
          "2004-12-31T00:00:00",
          "2005-01-31T00:00:00",
          "2005-02-28T00:00:00",
          "2005-03-31T00:00:00",
          "2005-04-30T00:00:00",
          "2005-05-31T00:00:00",
          "2005-06-30T00:00:00",
          "2005-07-31T00:00:00",
          "2005-08-31T00:00:00",
          "2005-09-30T00:00:00",
          "2005-10-31T00:00:00",
          "2005-11-30T00:00:00",
          "2005-12-31T00:00:00",
          "2006-01-31T00:00:00",
          "2006-02-28T00:00:00",
          "2006-03-31T00:00:00",
          "2006-04-30T00:00:00",
          "2006-05-31T00:00:00",
          "2006-06-30T00:00:00",
          "2006-07-31T00:00:00",
          "2006-08-31T00:00:00",
          "2006-09-30T00:00:00",
          "2006-10-31T00:00:00",
          "2006-11-30T00:00:00",
          "2006-12-31T00:00:00",
          "2007-01-31T00:00:00",
          "2007-02-28T00:00:00",
          "2007-03-31T00:00:00",
          "2007-04-30T00:00:00",
          "2007-05-31T00:00:00",
          "2007-06-30T00:00:00",
          "2007-07-31T00:00:00",
          "2007-08-31T00:00:00",
          "2007-09-30T00:00:00",
          "2007-10-31T00:00:00",
          "2007-11-30T00:00:00",
          "2007-12-31T00:00:00",
          "2008-01-31T00:00:00",
          "2008-02-29T00:00:00",
          "2008-03-31T00:00:00",
          "2008-04-30T00:00:00",
          "2008-05-31T00:00:00",
          "2008-06-30T00:00:00",
          "2008-07-31T00:00:00",
          "2008-08-31T00:00:00",
          "2008-09-30T00:00:00",
          "2008-10-31T00:00:00",
          "2008-11-30T00:00:00",
          "2008-12-31T00:00:00",
          "2009-01-31T00:00:00",
          "2009-02-28T00:00:00",
          "2009-03-31T00:00:00",
          "2009-04-30T00:00:00",
          "2009-05-31T00:00:00",
          "2009-06-30T00:00:00",
          "2009-07-31T00:00:00",
          "2009-08-31T00:00:00",
          "2009-09-30T00:00:00",
          "2009-10-31T00:00:00",
          "2009-11-30T00:00:00",
          "2009-12-31T00:00:00",
          "2010-01-31T00:00:00",
          "2010-02-28T00:00:00",
          "2010-03-31T00:00:00",
          "2010-04-30T00:00:00",
          "2010-05-31T00:00:00",
          "2010-06-30T00:00:00",
          "2010-07-31T00:00:00",
          "2010-08-31T00:00:00",
          "2010-09-30T00:00:00",
          "2010-10-31T00:00:00",
          "2010-11-30T00:00:00",
          "2010-12-31T00:00:00",
          "2011-01-31T00:00:00",
          "2011-02-28T00:00:00",
          "2011-03-31T00:00:00",
          "2011-04-30T00:00:00",
          "2011-05-31T00:00:00",
          "2011-06-30T00:00:00",
          "2011-07-31T00:00:00",
          "2011-08-31T00:00:00",
          "2011-09-30T00:00:00",
          "2011-10-31T00:00:00",
          "2011-11-30T00:00:00",
          "2011-12-31T00:00:00",
          "2012-01-31T00:00:00",
          "2012-02-29T00:00:00",
          "2012-03-31T00:00:00",
          "2012-04-30T00:00:00",
          "2012-05-31T00:00:00",
          "2012-06-30T00:00:00",
          "2012-07-31T00:00:00",
          "2012-08-31T00:00:00",
          "2012-09-30T00:00:00",
          "2012-10-31T00:00:00",
          "2012-11-30T00:00:00",
          "2012-12-31T00:00:00",
          "2013-01-31T00:00:00",
          "2013-02-28T00:00:00",
          "2013-03-31T00:00:00",
          "2013-04-30T00:00:00",
          "2013-05-31T00:00:00",
          "2013-06-30T00:00:00",
          "2013-07-31T00:00:00",
          "2013-08-31T00:00:00",
          "2013-09-30T00:00:00",
          "2013-10-31T00:00:00",
          "2013-11-30T00:00:00",
          "2013-12-31T00:00:00",
          "2014-01-31T00:00:00",
          "2014-02-28T00:00:00",
          "2014-03-31T00:00:00",
          "2014-04-30T00:00:00",
          "2014-05-31T00:00:00",
          "2014-06-30T00:00:00",
          "2014-07-31T00:00:00",
          "2014-08-31T00:00:00",
          "2014-09-30T00:00:00",
          "2014-10-31T00:00:00",
          "2014-11-30T00:00:00",
          "2014-12-31T00:00:00",
          "2015-01-31T00:00:00",
          "2015-02-28T00:00:00",
          "2015-03-31T00:00:00",
          "2015-04-30T00:00:00",
          "2015-05-31T00:00:00",
          "2015-06-30T00:00:00",
          "2015-07-31T00:00:00",
          "2015-08-31T00:00:00",
          "2015-09-30T00:00:00",
          "2015-10-31T00:00:00",
          "2015-11-30T00:00:00",
          "2015-12-31T00:00:00",
          "2016-01-31T00:00:00",
          "2016-02-29T00:00:00",
          "2016-03-31T00:00:00",
          "2016-04-30T00:00:00",
          "2016-05-31T00:00:00",
          "2016-06-30T00:00:00",
          "2016-07-31T00:00:00",
          "2016-08-31T00:00:00",
          "2016-09-30T00:00:00",
          "2016-10-31T00:00:00",
          "2016-11-30T00:00:00",
          "2016-12-31T00:00:00",
          "2017-01-31T00:00:00",
          "2017-02-28T00:00:00",
          "2017-03-31T00:00:00",
          "2017-04-30T00:00:00",
          "2017-05-31T00:00:00",
          "2017-06-30T00:00:00",
          "2017-07-31T00:00:00",
          "2017-08-31T00:00:00",
          "2017-09-30T00:00:00",
          "2017-10-31T00:00:00",
          "2017-11-30T00:00:00",
          "2017-12-31T00:00:00",
          "2018-01-31T00:00:00",
          "2018-02-28T00:00:00",
          "2018-03-31T00:00:00",
          "2018-04-30T00:00:00",
          "2018-05-31T00:00:00",
          "2018-06-30T00:00:00",
          "2018-07-31T00:00:00",
          "2018-08-31T00:00:00",
          "2018-09-30T00:00:00",
          "2018-10-31T00:00:00",
          "2018-11-30T00:00:00",
          "2018-12-31T00:00:00",
          "2019-01-31T00:00:00",
          "2019-02-28T00:00:00",
          "2019-03-31T00:00:00",
          "2019-04-30T00:00:00",
          "2019-05-31T00:00:00",
          "2019-06-30T00:00:00",
          "2019-07-31T00:00:00",
          "2019-08-31T00:00:00",
          "2019-09-30T00:00:00",
          "2019-10-31T00:00:00",
          "2019-11-30T00:00:00",
          "2019-12-31T00:00:00",
          "2020-01-31T00:00:00",
          "2020-02-29T00:00:00",
          "2020-03-31T00:00:00",
          "2020-04-30T00:00:00",
          "2020-05-31T00:00:00",
          "2020-06-30T00:00:00",
          "2020-07-31T00:00:00",
          "2020-08-31T00:00:00",
          "2020-09-30T00:00:00",
          "2020-10-31T00:00:00",
          "2020-11-30T00:00:00",
          "2020-12-31T00:00:00",
          "2021-01-31T00:00:00",
          "2021-02-28T00:00:00",
          "2021-03-31T00:00:00",
          "2021-04-30T00:00:00",
          "2021-05-31T00:00:00",
          "2021-06-30T00:00:00",
          "2021-07-31T00:00:00",
          "2021-08-31T00:00:00",
          "2021-09-30T00:00:00",
          "2021-10-31T00:00:00",
          "2021-11-30T00:00:00",
          "2021-12-31T00:00:00",
          "2022-01-31T00:00:00",
          "2022-02-28T00:00:00",
          "2022-03-31T00:00:00",
          "2022-04-30T00:00:00",
          "2022-05-31T00:00:00",
          "2022-06-30T00:00:00",
          "2022-07-31T00:00:00",
          "2022-08-31T00:00:00"
         ],
         "xaxis": "x",
         "y": [
          0.008418180507338873,
          -0.009598768403855025,
          0.023020115034792336,
          -0.0003191456761661081,
          -0.007743228336657269,
          -0.030348715679922245,
          -0.0204676220106299,
          -0.0034292406664680228,
          0.023126911791428905,
          0.014954580586887306,
          0.02650036161464835,
          0.028381890849431143,
          0.014713787541993022,
          0.0005350134369480859,
          0.01807108621841951,
          -0.020258634601873143,
          0.019551349856716065,
          0.012912274591447491,
          -0.005571871358779755,
          0.01555793304464002,
          -0.017631454785401342,
          0.0446455808322699,
          0.011686988923896741,
          0.007156300455420871,
          -0.015939109248043957,
          -0.00007633183575700004,
          0.0027035519369204546,
          -0.01345850983438363,
          0.01485130328822544,
          -0.011972907945514156,
          0.009132395957392667,
          0.012482277987743092,
          0.021636822466700418,
          0.012286388777398462,
          0.011142388128670763,
          0.0026795529039399316,
          0.017287833901246153,
          -0.009623613323856941,
          0.018536568713591068,
          0.004042604387509873,
          0.0028908207970977716,
          0.019919228419312974,
          0.004688260882207128,
          0.007161540011958285,
          -0.008952589959117708,
          0.012275109054276529,
          0.016411422351103634,
          -0.00553596461057068,
          -0.019901324169128157,
          0.004998563015152563,
          0.00036094861489079934,
          -0.012322691659220933,
          0.011254501513087564,
          0.024159843980740957,
          -0.00526376662942365,
          0.01134055432931656,
          -0.015497283613846431,
          0.003386078773929608,
          0.006920436713296155,
          0.019611537900861512,
          0.01505914379539901,
          0.011856398700098874,
          0.012891136718296883,
          0.02223260254612953,
          0.02190621926528188,
          0.006818620048645211,
          0.010302619700898272,
          -0.007182060013454937,
          0.02028023031651392,
          0.007874566326284554,
          0.012025770664014926,
          0.00928637045603793,
          0.0035579911857047852,
          0.01703763464113512,
          0.008473957490863123,
          -0.009891991396720815,
          -0.02660014480960906,
          0.020199942329858653,
          0.02670603567793752,
          0.007315611047031824,
          0.029718053154055114,
          -0.004822424704925389,
          0.02496616182721952,
          -0.0014888442615513654,
          -0.020719229987546158,
          0.01334423918905422,
          0.040767416866968435,
          0.01660947197198857,
          0.04533664944548392,
          -0.006900338912926769,
          0.03300675211979519,
          -0.023814140342550645,
          0.009908765820721485,
          0.009371022531892748,
          0.0009431297412391671,
          0.045239274051529305,
          0.023102087793908356,
          0.009371313766202764,
          -0.019451214785393533,
          0.014396715392747582,
          -0.01731533197373365,
          -0.08771240933088575,
          0.03881734782749814,
          0.04942203979500463,
          0.030860826475432725,
          0.04088458131460731,
          0.017707925074216996,
          -0.01913489213329174,
          0.023896303897076032,
          0.03589372984408694,
          0.002658783454068238,
          0.030456609642468154,
          -0.011104787148517602,
          -0.0008227560157724722,
          -0.013500149751206378,
          0.021354514543650997,
          0.018128665814524405,
          0.04723364809200264,
          -0.017482764269892627,
          0.022452367471071065,
          0.04047884720336117,
          -0.008634127549774545,
          -0.004294125927107818,
          0.01799285288228988,
          0.002721609432389137,
          0.046219849687843206,
          -0.01250710718938923,
          -0.004053627551994692,
          -0.03788618553119234,
          0.026992380177883708,
          0.024677164710621372,
          -0.032741326286076296,
          -0.028888953936578157,
          0.049039778269143006,
          0.007405124853116388,
          -0.002350877424662055,
          -0.012529755415194884,
          -0.020806417690010355,
          -0.057388045657270424,
          0.027223629348072587,
          0.046472679831265996,
          0.012805890121228162,
          0.0018053782675229815,
          -0.008224450444590784,
          0.029633252890990086,
          -0.016627628302024116,
          -0.007467805220446878,
          -0.033807074353561735,
          -0.03628382282065624,
          0.00039182098352771107,
          -0.038082231710204,
          0.03499057605640988,
          0.032127112258165044,
          -0.023230180127786146,
          -0.008566218233281945,
          -0.0005420617391002568,
          0.0022333197931192587,
          0.039983094305154024,
          0.0381383384191969,
          0.00423615345850452,
          0.01589181970697374,
          0.01836387102801043,
          -0.00714570282568442,
          0.03608555694712894,
          0.009852130126577726,
          0.01593749632510409,
          0.014947193911046463,
          0.008731478186815333,
          -0.0013374188584211746,
          -0.01247561777098774,
          0.010638398443783923,
          0.016549553885353282,
          -0.022678392050612544,
          0.0009194473811548112,
          0.016421199323758146,
          0.00952241199838403,
          0.027751108560064932,
          0.019486750366285385,
          -0.014203451097597871,
          0.010640698746900481,
          -0.005574651760111725,
          -0.013595796203790995,
          0.02341037468837652,
          0.00788730170748668,
          0.02720608336298666,
          -0.0016968914039179556,
          0.007665385851187176,
          -0.008851022905687763,
          0.023373711515933714,
          0.0026078947847634456,
          0.02759597382673581,
          -0.00267620296910346,
          0.01490769407846639,
          0.00741779483379137,
          -0.021348385335900513,
          -0.00021225666496046413,
          -0.009993281046544292,
          0.012034950200674707,
          0.010463536097578312,
          0.0234798168643898,
          0.015556418170965137,
          -0.00034233405568165175,
          0.015083961972977648,
          -0.0023238797185384497,
          0.0053629494558052,
          0.023152993845815793,
          0.021151096428086522,
          -0.010085065328958549,
          -0.01748332689955291,
          0.004296263105572735,
          0.017324251603196523,
          0.0184327510449658,
          -0.028684698977125913,
          -0.0030337989733042977,
          -0.030653289993967565,
          -0.01235866325709838,
          -0.0044319388008332026,
          0.0290120154712223,
          0.01954691720957174,
          -0.043911536350349584,
          0.00003546732080227766,
          0.009422012042762707,
          -0.051425495444237676,
          -0.10447368792865884,
          -0.04891210060375792,
          0.022933745499450334,
          -0.030701356376118018,
          -0.04853340493200752,
          0.04611431605213272,
          0.07765015941983151,
          0.02038560912204999,
          -0.0002650205965419709,
          0.04433674924549845,
          0.02077187025192475,
          0.02623813637084241,
          -0.01688679167713582,
          0.024931852121608478,
          0.021870516923756324,
          -0.01281037542287709,
          0.024948269757905515,
          0.03555669335877734,
          0.019221868480382456,
          -0.04301397729289544,
          -0.03490284644588792,
          0.0392935358826894,
          -0.026090992023184652,
          0.05355092326105672,
          0.0221451610201453,
          0.008647979910576978,
          0.03601108174023856,
          0.011385040395471223,
          0.023008588715787124,
          0.005885898556259682,
          0.019026148630948942,
          -0.005492575388287986,
          -0.009758664426299246,
          -0.018761957837058432,
          -0.03637612086434135,
          -0.048119215207752114,
          0.07146598993651353,
          -0.003754971592866613,
          -0.004266798759825858,
          0.0358643321998701,
          0.020046654894316108,
          0.011764837358067985,
          -0.0037568676492153574,
          -0.03776812389590539,
          0.020322512826181326,
          -0.0013977725732235882,
          0.01778901287983076,
          0.011958862792109498,
          -0.005492704739759563,
          0.008767798309630561,
          0.010759046924767614,
          0.03577081180631648,
          0.006925332072553009,
          0.024416566814363747,
          0.006772256948552111,
          0.016957525054038938,
          -0.0076397804817448555,
          0.033365935104575084,
          -0.015385970409588489,
          0.026799165358790785,
          0.024014469316679846,
          0.012563593446802355,
          0.016037565492438288,
          -0.01492852009946397,
          0.0324279314209231,
          0.0017248158118870968,
          -0.003799661422897472,
          0.014530331826630558,
          0.01855736012778993,
          -0.015169564380092575,
          0.02483503222442295,
          -0.01773917799278739,
          0.018686758437241865,
          0.016695562643597204,
          0.00007529957998534623,
          -0.01584831106425654,
          0.03396728458325947,
          -0.003552218809896613,
          0.0011805673554930736,
          0.007705168429563118,
          -0.009794354200467549,
          0.002793279414847285,
          -0.03237524076133574,
          -0.021005315731486007,
          0.03999342343548439,
          0.0007124058044125316,
          -0.016964240156230433,
          -0.036256432913137016,
          0.0068873265972469845,
          0.04320227211166783,
          0.0107923834232115,
          0.008954589609147365,
          -0.0007849377483042713,
          0.028532650423789094,
          0.0004978002005400802,
          0.0014825330542814162,
          -0.014979734566299483,
          0.038464860451876526,
          0.003959498968517127,
          0.01345357651903361,
          0.01957368825509144,
          -0.00010312523026931874,
          0.0041030696921710574,
          0.0011347460490091306,
          0.005613072059613152,
          0.008904443261526274,
          -0.00413238249234081,
          0.019627841605883184,
          0.006393109097454656,
          0.020780501068701315,
          0.008222575867693527,
          0.030889082839480556,
          -0.02428012452102385,
          -0.006999997593108028,
          0.004154538805797588,
          0.011773725038059403,
          0.0037036200918183,
          0.01903017006602318,
          0.0134667471851127,
          0.0021061573259384923,
          -0.04709494824786442,
          0.014087842903772633,
          -0.0641448465745343,
          0.06565134200826969,
          0.022375556478298666,
          0.0032218624309705785,
          0.021878257357649686,
          -0.047515450671576094,
          0.04455909781484181,
          0.005606309464399908,
          -0.023848973235741967,
          0.019088816873355417,
          0.007072185820031928,
          0.020449069696755202,
          0.018092521447863046,
          -0.009321025745598264,
          -0.05318390521578584,
          -0.11010395689899963,
          0.08746409290562754,
          0.030761018351730653,
          0.008475397312680624,
          0.034778155564180846,
          0.03054913724904419,
          -0.017394374255888717,
          -0.002178307595668792,
          0.09632171344601943,
          0.025296347149814033,
          0.0011938223445394289,
          0.03564328592464519,
          0.03490101543525153,
          0.028720915787018988,
          0.010914138357519584,
          0.002952015829261024,
          0.006203462673167746,
          0.014373512227891747,
          -0.024945106750699927,
          0.03452590344216529,
          -0.013578690237652756,
          0.03503959485878671,
          -0.027179142264841662,
          -0.003196433061428251,
          0.019614844620259326,
          -0.044767573579217367,
          0.007027147664958451,
          -0.061508670805859395,
          0.05575986605769957,
          -0.010627367170024759
         ],
         "yaxis": "y"
        }
       ],
       "layout": {
        "barmode": "relative",
        "legend": {
         "tracegroupgap": 0
        },
        "margin": {
         "t": 60
        },
        "template": {
         "data": {
          "bar": [
           {
            "error_x": {
             "color": "#2a3f5f"
            },
            "error_y": {
             "color": "#2a3f5f"
            },
            "marker": {
             "line": {
              "color": "#E5ECF6",
              "width": 0.5
             },
             "pattern": {
              "fillmode": "overlay",
              "size": 10,
              "solidity": 0.2
             }
            },
            "type": "bar"
           }
          ],
          "barpolar": [
           {
            "marker": {
             "line": {
              "color": "#E5ECF6",
              "width": 0.5
             },
             "pattern": {
              "fillmode": "overlay",
              "size": 10,
              "solidity": 0.2
             }
            },
            "type": "barpolar"
           }
          ],
          "carpet": [
           {
            "aaxis": {
             "endlinecolor": "#2a3f5f",
             "gridcolor": "white",
             "linecolor": "white",
             "minorgridcolor": "white",
             "startlinecolor": "#2a3f5f"
            },
            "baxis": {
             "endlinecolor": "#2a3f5f",
             "gridcolor": "white",
             "linecolor": "white",
             "minorgridcolor": "white",
             "startlinecolor": "#2a3f5f"
            },
            "type": "carpet"
           }
          ],
          "choropleth": [
           {
            "colorbar": {
             "outlinewidth": 0,
             "ticks": ""
            },
            "type": "choropleth"
           }
          ],
          "contour": [
           {
            "colorbar": {
             "outlinewidth": 0,
             "ticks": ""
            },
            "colorscale": [
             [
              0,
              "#0d0887"
             ],
             [
              0.1111111111111111,
              "#46039f"
             ],
             [
              0.2222222222222222,
              "#7201a8"
             ],
             [
              0.3333333333333333,
              "#9c179e"
             ],
             [
              0.4444444444444444,
              "#bd3786"
             ],
             [
              0.5555555555555556,
              "#d8576b"
             ],
             [
              0.6666666666666666,
              "#ed7953"
             ],
             [
              0.7777777777777778,
              "#fb9f3a"
             ],
             [
              0.8888888888888888,
              "#fdca26"
             ],
             [
              1,
              "#f0f921"
             ]
            ],
            "type": "contour"
           }
          ],
          "contourcarpet": [
           {
            "colorbar": {
             "outlinewidth": 0,
             "ticks": ""
            },
            "type": "contourcarpet"
           }
          ],
          "heatmap": [
           {
            "colorbar": {
             "outlinewidth": 0,
             "ticks": ""
            },
            "colorscale": [
             [
              0,
              "#0d0887"
             ],
             [
              0.1111111111111111,
              "#46039f"
             ],
             [
              0.2222222222222222,
              "#7201a8"
             ],
             [
              0.3333333333333333,
              "#9c179e"
             ],
             [
              0.4444444444444444,
              "#bd3786"
             ],
             [
              0.5555555555555556,
              "#d8576b"
             ],
             [
              0.6666666666666666,
              "#ed7953"
             ],
             [
              0.7777777777777778,
              "#fb9f3a"
             ],
             [
              0.8888888888888888,
              "#fdca26"
             ],
             [
              1,
              "#f0f921"
             ]
            ],
            "type": "heatmap"
           }
          ],
          "heatmapgl": [
           {
            "colorbar": {
             "outlinewidth": 0,
             "ticks": ""
            },
            "colorscale": [
             [
              0,
              "#0d0887"
             ],
             [
              0.1111111111111111,
              "#46039f"
             ],
             [
              0.2222222222222222,
              "#7201a8"
             ],
             [
              0.3333333333333333,
              "#9c179e"
             ],
             [
              0.4444444444444444,
              "#bd3786"
             ],
             [
              0.5555555555555556,
              "#d8576b"
             ],
             [
              0.6666666666666666,
              "#ed7953"
             ],
             [
              0.7777777777777778,
              "#fb9f3a"
             ],
             [
              0.8888888888888888,
              "#fdca26"
             ],
             [
              1,
              "#f0f921"
             ]
            ],
            "type": "heatmapgl"
           }
          ],
          "histogram": [
           {
            "marker": {
             "pattern": {
              "fillmode": "overlay",
              "size": 10,
              "solidity": 0.2
             }
            },
            "type": "histogram"
           }
          ],
          "histogram2d": [
           {
            "colorbar": {
             "outlinewidth": 0,
             "ticks": ""
            },
            "colorscale": [
             [
              0,
              "#0d0887"
             ],
             [
              0.1111111111111111,
              "#46039f"
             ],
             [
              0.2222222222222222,
              "#7201a8"
             ],
             [
              0.3333333333333333,
              "#9c179e"
             ],
             [
              0.4444444444444444,
              "#bd3786"
             ],
             [
              0.5555555555555556,
              "#d8576b"
             ],
             [
              0.6666666666666666,
              "#ed7953"
             ],
             [
              0.7777777777777778,
              "#fb9f3a"
             ],
             [
              0.8888888888888888,
              "#fdca26"
             ],
             [
              1,
              "#f0f921"
             ]
            ],
            "type": "histogram2d"
           }
          ],
          "histogram2dcontour": [
           {
            "colorbar": {
             "outlinewidth": 0,
             "ticks": ""
            },
            "colorscale": [
             [
              0,
              "#0d0887"
             ],
             [
              0.1111111111111111,
              "#46039f"
             ],
             [
              0.2222222222222222,
              "#7201a8"
             ],
             [
              0.3333333333333333,
              "#9c179e"
             ],
             [
              0.4444444444444444,
              "#bd3786"
             ],
             [
              0.5555555555555556,
              "#d8576b"
             ],
             [
              0.6666666666666666,
              "#ed7953"
             ],
             [
              0.7777777777777778,
              "#fb9f3a"
             ],
             [
              0.8888888888888888,
              "#fdca26"
             ],
             [
              1,
              "#f0f921"
             ]
            ],
            "type": "histogram2dcontour"
           }
          ],
          "mesh3d": [
           {
            "colorbar": {
             "outlinewidth": 0,
             "ticks": ""
            },
            "type": "mesh3d"
           }
          ],
          "parcoords": [
           {
            "line": {
             "colorbar": {
              "outlinewidth": 0,
              "ticks": ""
             }
            },
            "type": "parcoords"
           }
          ],
          "pie": [
           {
            "automargin": true,
            "type": "pie"
           }
          ],
          "scatter": [
           {
            "fillpattern": {
             "fillmode": "overlay",
             "size": 10,
             "solidity": 0.2
            },
            "type": "scatter"
           }
          ],
          "scatter3d": [
           {
            "line": {
             "colorbar": {
              "outlinewidth": 0,
              "ticks": ""
             }
            },
            "marker": {
             "colorbar": {
              "outlinewidth": 0,
              "ticks": ""
             }
            },
            "type": "scatter3d"
           }
          ],
          "scattercarpet": [
           {
            "marker": {
             "colorbar": {
              "outlinewidth": 0,
              "ticks": ""
             }
            },
            "type": "scattercarpet"
           }
          ],
          "scattergeo": [
           {
            "marker": {
             "colorbar": {
              "outlinewidth": 0,
              "ticks": ""
             }
            },
            "type": "scattergeo"
           }
          ],
          "scattergl": [
           {
            "marker": {
             "colorbar": {
              "outlinewidth": 0,
              "ticks": ""
             }
            },
            "type": "scattergl"
           }
          ],
          "scattermapbox": [
           {
            "marker": {
             "colorbar": {
              "outlinewidth": 0,
              "ticks": ""
             }
            },
            "type": "scattermapbox"
           }
          ],
          "scatterpolar": [
           {
            "marker": {
             "colorbar": {
              "outlinewidth": 0,
              "ticks": ""
             }
            },
            "type": "scatterpolar"
           }
          ],
          "scatterpolargl": [
           {
            "marker": {
             "colorbar": {
              "outlinewidth": 0,
              "ticks": ""
             }
            },
            "type": "scatterpolargl"
           }
          ],
          "scatterternary": [
           {
            "marker": {
             "colorbar": {
              "outlinewidth": 0,
              "ticks": ""
             }
            },
            "type": "scatterternary"
           }
          ],
          "surface": [
           {
            "colorbar": {
             "outlinewidth": 0,
             "ticks": ""
            },
            "colorscale": [
             [
              0,
              "#0d0887"
             ],
             [
              0.1111111111111111,
              "#46039f"
             ],
             [
              0.2222222222222222,
              "#7201a8"
             ],
             [
              0.3333333333333333,
              "#9c179e"
             ],
             [
              0.4444444444444444,
              "#bd3786"
             ],
             [
              0.5555555555555556,
              "#d8576b"
             ],
             [
              0.6666666666666666,
              "#ed7953"
             ],
             [
              0.7777777777777778,
              "#fb9f3a"
             ],
             [
              0.8888888888888888,
              "#fdca26"
             ],
             [
              1,
              "#f0f921"
             ]
            ],
            "type": "surface"
           }
          ],
          "table": [
           {
            "cells": {
             "fill": {
              "color": "#EBF0F8"
             },
             "line": {
              "color": "white"
             }
            },
            "header": {
             "fill": {
              "color": "#C8D4E3"
             },
             "line": {
              "color": "white"
             }
            },
            "type": "table"
           }
          ]
         },
         "layout": {
          "annotationdefaults": {
           "arrowcolor": "#2a3f5f",
           "arrowhead": 0,
           "arrowwidth": 1
          },
          "autotypenumbers": "strict",
          "coloraxis": {
           "colorbar": {
            "outlinewidth": 0,
            "ticks": ""
           }
          },
          "colorscale": {
           "diverging": [
            [
             0,
             "#8e0152"
            ],
            [
             0.1,
             "#c51b7d"
            ],
            [
             0.2,
             "#de77ae"
            ],
            [
             0.3,
             "#f1b6da"
            ],
            [
             0.4,
             "#fde0ef"
            ],
            [
             0.5,
             "#f7f7f7"
            ],
            [
             0.6,
             "#e6f5d0"
            ],
            [
             0.7,
             "#b8e186"
            ],
            [
             0.8,
             "#7fbc41"
            ],
            [
             0.9,
             "#4d9221"
            ],
            [
             1,
             "#276419"
            ]
           ],
           "sequential": [
            [
             0,
             "#0d0887"
            ],
            [
             0.1111111111111111,
             "#46039f"
            ],
            [
             0.2222222222222222,
             "#7201a8"
            ],
            [
             0.3333333333333333,
             "#9c179e"
            ],
            [
             0.4444444444444444,
             "#bd3786"
            ],
            [
             0.5555555555555556,
             "#d8576b"
            ],
            [
             0.6666666666666666,
             "#ed7953"
            ],
            [
             0.7777777777777778,
             "#fb9f3a"
            ],
            [
             0.8888888888888888,
             "#fdca26"
            ],
            [
             1,
             "#f0f921"
            ]
           ],
           "sequentialminus": [
            [
             0,
             "#0d0887"
            ],
            [
             0.1111111111111111,
             "#46039f"
            ],
            [
             0.2222222222222222,
             "#7201a8"
            ],
            [
             0.3333333333333333,
             "#9c179e"
            ],
            [
             0.4444444444444444,
             "#bd3786"
            ],
            [
             0.5555555555555556,
             "#d8576b"
            ],
            [
             0.6666666666666666,
             "#ed7953"
            ],
            [
             0.7777777777777778,
             "#fb9f3a"
            ],
            [
             0.8888888888888888,
             "#fdca26"
            ],
            [
             1,
             "#f0f921"
            ]
           ]
          },
          "colorway": [
           "#636efa",
           "#EF553B",
           "#00cc96",
           "#ab63fa",
           "#FFA15A",
           "#19d3f3",
           "#FF6692",
           "#B6E880",
           "#FF97FF",
           "#FECB52"
          ],
          "font": {
           "color": "#2a3f5f"
          },
          "geo": {
           "bgcolor": "white",
           "lakecolor": "white",
           "landcolor": "#E5ECF6",
           "showlakes": true,
           "showland": true,
           "subunitcolor": "white"
          },
          "hoverlabel": {
           "align": "left"
          },
          "hovermode": "closest",
          "mapbox": {
           "style": "light"
          },
          "paper_bgcolor": "white",
          "plot_bgcolor": "#E5ECF6",
          "polar": {
           "angularaxis": {
            "gridcolor": "white",
            "linecolor": "white",
            "ticks": ""
           },
           "bgcolor": "#E5ECF6",
           "radialaxis": {
            "gridcolor": "white",
            "linecolor": "white",
            "ticks": ""
           }
          },
          "scene": {
           "xaxis": {
            "backgroundcolor": "#E5ECF6",
            "gridcolor": "white",
            "gridwidth": 2,
            "linecolor": "white",
            "showbackground": true,
            "ticks": "",
            "zerolinecolor": "white"
           },
           "yaxis": {
            "backgroundcolor": "#E5ECF6",
            "gridcolor": "white",
            "gridwidth": 2,
            "linecolor": "white",
            "showbackground": true,
            "ticks": "",
            "zerolinecolor": "white"
           },
           "zaxis": {
            "backgroundcolor": "#E5ECF6",
            "gridcolor": "white",
            "gridwidth": 2,
            "linecolor": "white",
            "showbackground": true,
            "ticks": "",
            "zerolinecolor": "white"
           }
          },
          "shapedefaults": {
           "line": {
            "color": "#2a3f5f"
           }
          },
          "ternary": {
           "aaxis": {
            "gridcolor": "white",
            "linecolor": "white",
            "ticks": ""
           },
           "baxis": {
            "gridcolor": "white",
            "linecolor": "white",
            "ticks": ""
           },
           "bgcolor": "#E5ECF6",
           "caxis": {
            "gridcolor": "white",
            "linecolor": "white",
            "ticks": ""
           }
          },
          "title": {
           "x": 0.05
          },
          "xaxis": {
           "automargin": true,
           "gridcolor": "white",
           "linecolor": "white",
           "ticks": "",
           "title": {
            "standoff": 15
           },
           "zerolinecolor": "white",
           "zerolinewidth": 2
          },
          "yaxis": {
           "automargin": true,
           "gridcolor": "white",
           "linecolor": "white",
           "ticks": "",
           "title": {
            "standoff": 15
           },
           "zerolinecolor": "white",
           "zerolinewidth": 2
          }
         }
        },
        "xaxis": {
         "anchor": "y",
         "domain": [
          0,
          1
         ],
         "title": {
          "text": "date"
         }
        },
        "yaxis": {
         "anchor": "x",
         "domain": [
          0,
          1
         ],
         "title": {
          "text": "vol_rets"
         }
        }
       }
      }
     },
     "metadata": {},
     "output_type": "display_data"
    }
   ],
   "source": [
    "monthly_rets = strategy_returns[[\"date\", \"vol_rets\"]].resample('M', on='date').mean() # Calculate average daily return for each month\n",
    "monthly_rets['Colour']='red' # Add column with 'red' value\n",
    "monthly_rets.loc[monthly_rets['vol_rets']>=0, 'Colour']='green' # Replace 'red' with 'green' where return is non-negative\n",
    "px.bar(monthly_rets,x=monthly_rets.index,y=\"vol_rets\").update_traces(marker_color=monthly_rets[\"Colour\"]).show()"
   ]
  },
  {
   "cell_type": "code",
   "execution_count": 29,
   "id": "5d5ab9cd",
   "metadata": {},
   "outputs": [
    {
     "name": "stdout",
     "output_type": "stream",
     "text": [
      "0.006041309283843599 0.024870966929937708\n"
     ]
    }
   ],
   "source": [
    "# mean and volatility\n",
    "mean_ret = strategy_returns['vol_rets'].mean()\n",
    "volatility = strategy_returns['vol_rets'].std()\n",
    "print(mean_ret, volatility)"
   ]
  },
  {
   "cell_type": "code",
   "execution_count": 30,
   "id": "f1bb2435",
   "metadata": {},
   "outputs": [
    {
     "name": "stdout",
     "output_type": "stream",
     "text": [
      "Annualised expected return is: 7.25%\n",
      "Annualised volatility is: 8.62%\n"
     ]
    }
   ],
   "source": [
    "print('Annualised expected return is: '+str(round(100*mean_ret*12,2)) +'%')\n",
    "print('Annualised volatility is: '+str(round(100*volatility*np.sqrt(12),2)) +'%')"
   ]
  },
  {
   "cell_type": "code",
   "execution_count": 31,
   "id": "cda046e9",
   "metadata": {},
   "outputs": [
    {
     "data": {
      "text/plain": [
       "count    390.000000\n",
       "mean       0.604131\n",
       "std        2.487097\n",
       "min      -11.010396\n",
       "25%       -0.710928\n",
       "50%        0.805494\n",
       "75%        2.036984\n",
       "max        9.632171\n",
       "Name: vol_rets, dtype: float64"
      ]
     },
     "execution_count": 31,
     "metadata": {},
     "output_type": "execute_result"
    }
   ],
   "source": [
    "# describing statistic of returns\n",
    "(strategy_returns['vol_rets']*100).describe()"
   ]
  },
  {
   "cell_type": "code",
   "execution_count": 32,
   "id": "14743eca",
   "metadata": {},
   "outputs": [
    {
     "name": "stdout",
     "output_type": "stream",
     "text": [
      "-0.6069826996853498\n"
     ]
    }
   ],
   "source": [
    "# skewness\n",
    "print(skew(strategy_returns['vol_rets'].dropna()))"
   ]
  },
  {
   "cell_type": "code",
   "execution_count": 33,
   "id": "d1d8ea4e",
   "metadata": {},
   "outputs": [
    {
     "name": "stdout",
     "output_type": "stream",
     "text": [
      "2.761815174774367\n"
     ]
    }
   ],
   "source": [
    "# kurtosis\n",
    "print(kurtosis(strategy_returns[\"vol_rets\"].dropna()))"
   ]
  },
  {
   "cell_type": "code",
   "execution_count": 34,
   "id": "618f1cdc",
   "metadata": {},
   "outputs": [
    {
     "data": {
      "text/plain": [
       "-0.08863427965376328"
      ]
     },
     "execution_count": 34,
     "metadata": {},
     "output_type": "execute_result"
    }
   ],
   "source": [
    "# Value at Risk\n",
    "VaR = strategy_returns['vol_rets'].quantile(0.005)\n",
    "VaR"
   ]
  },
  {
   "cell_type": "code",
   "execution_count": 35,
   "id": "2b750603",
   "metadata": {},
   "outputs": [
    {
     "name": "stdout",
     "output_type": "stream",
     "text": [
      "There is a 10.0% chance that my losses will be -2.27% or worse over the next day.\n",
      "There is a 5.0% chance that my losses will be -3.63% or worse over the next day.\n",
      "There is a 1.0% chance that my losses will be -6.18% or worse over the next day.\n",
      "There is a 0.1% chance that my losses will be -10.79% or worse over the next day.\n",
      "There is a 0.01% chance that my losses will be -10.99% or worse over the next day.\n"
     ]
    }
   ],
   "source": [
    "for q in [0.1, 0.05, 0.01, 0.001, 0.0001]:\n",
    "    VaR = strategy_returns['vol_rets'].quantile(q)\n",
    "    print('There is a '+str(round(100*q,3))+'% chance that my losses will be '+str(round(VaR*100, 2))+'% or worse over the next day.')"
   ]
  },
  {
   "cell_type": "code",
   "execution_count": 36,
   "id": "2ab55ed1",
   "metadata": {},
   "outputs": [
    {
     "data": {
      "text/html": [
       "<div>\n",
       "<style scoped>\n",
       "    .dataframe tbody tr th:only-of-type {\n",
       "        vertical-align: middle;\n",
       "    }\n",
       "\n",
       "    .dataframe tbody tr th {\n",
       "        vertical-align: top;\n",
       "    }\n",
       "\n",
       "    .dataframe thead th {\n",
       "        text-align: right;\n",
       "    }\n",
       "</style>\n",
       "<table border=\"1\" class=\"dataframe\">\n",
       "  <thead>\n",
       "    <tr style=\"text-align: right;\">\n",
       "      <th></th>\n",
       "      <th>date</th>\n",
       "      <th>vol_rets</th>\n",
       "      <th>vol_cum_rets</th>\n",
       "    </tr>\n",
       "  </thead>\n",
       "  <tbody>\n",
       "    <tr>\n",
       "      <th>224</th>\n",
       "      <td>2008-10-31</td>\n",
       "      <td>-0.104474</td>\n",
       "      <td>3.158063</td>\n",
       "    </tr>\n",
       "    <tr>\n",
       "      <th>361</th>\n",
       "      <td>2020-03-31</td>\n",
       "      <td>-0.110104</td>\n",
       "      <td>6.373555</td>\n",
       "    </tr>\n",
       "  </tbody>\n",
       "</table>\n",
       "</div>"
      ],
      "text/plain": [
       "          date  vol_rets  vol_cum_rets\n",
       "224 2008-10-31 -0.104474      3.158063\n",
       "361 2020-03-31 -0.110104      6.373555"
      ]
     },
     "execution_count": 36,
     "metadata": {},
     "output_type": "execute_result"
    }
   ],
   "source": [
    "VaR = strategy_returns['vol_rets'].quantile(0.005)\n",
    "rets_tail = strategy_returns.loc[strategy_returns['vol_rets']<=VaR,[\"date\", \"vol_rets\", \"vol_cum_rets\"]]\n",
    "rets_tail"
   ]
  },
  {
   "cell_type": "code",
   "execution_count": 37,
   "id": "e4750315",
   "metadata": {},
   "outputs": [
    {
     "data": {
      "text/plain": [
       "-0.10728882241382923"
      ]
     },
     "execution_count": 37,
     "metadata": {},
     "output_type": "execute_result"
    }
   ],
   "source": [
    "ES = rets_tail['vol_rets'].mean()\n",
    "ES"
   ]
  },
  {
   "cell_type": "code",
   "execution_count": 38,
   "id": "36a31c50",
   "metadata": {},
   "outputs": [
    {
     "name": "stdout",
     "output_type": "stream",
     "text": [
      "I expect to lose on average -4.28% over 1-day period given that I have exceeded my VaR for 10.0%.\n",
      "I expect to lose on average -5.56% over 1-day period given that I have exceeded my VaR for 5.0%.\n",
      "I expect to lose on average -9.16% over 1-day period given that I have exceeded my VaR for 1.0%.\n",
      "I expect to lose on average -11.01% over 1-day period given that I have exceeded my VaR for 0.1%.\n",
      "I expect to lose on average -11.01% over 1-day period given that I have exceeded my VaR for 0.01%.\n"
     ]
    }
   ],
   "source": [
    "for q in [0.1, 0.05, 0.01, 0.001, 0.0001]:\n",
    "    VaR = strategy_returns['vol_rets'].quantile(q)\n",
    "    rets_tail = strategy_returns.loc[strategy_returns['vol_rets']<=VaR,:]\n",
    "    ES = rets_tail['vol_rets'].mean()\n",
    "    print('I expect to lose on average '+ str(round(ES*100, 2))+'% over 1-day period given that I have exceeded my VaR for '+str(round(100*q,3))+'%.')"
   ]
  },
  {
   "cell_type": "code",
   "execution_count": 39,
   "id": "fefe4224",
   "metadata": {},
   "outputs": [
    {
     "data": {
      "text/plain": [
       "-1.6709720548151"
      ]
     },
     "execution_count": 39,
     "metadata": {},
     "output_type": "execute_result"
    }
   ],
   "source": [
    "# according to bloomberg the risk free rate (treasury yields) 4.76 % (last 30 years)\n",
    "# calculation of sharpe ratio\n",
    "\n",
    "rf = 0.0476\n",
    "sharpe_ratio = (mean_ret-rf)/volatility\n",
    "sharpe_ratio"
   ]
  },
  {
   "cell_type": "code",
   "execution_count": 40,
   "id": "1367e747",
   "metadata": {},
   "outputs": [],
   "source": [
    "# get SP500 data from 1990-01-31 to 2022-08-30\t\n",
    "sp500_ticker = yf.Ticker(\"^GSPC\")\n",
    "sp500 = sp500_ticker.history(start=\"1990-02-28\", end=\"2022-09-30\", interval=\"1mo\")\n",
    "sp500 = sp500[[\"Close\"]]\n",
    "sp500[\"Rets\"] = sp500.Close.pct_change()"
   ]
  },
  {
   "cell_type": "code",
   "execution_count": 41,
   "id": "fc1096be",
   "metadata": {},
   "outputs": [
    {
     "data": {
      "text/html": [
       "<div>\n",
       "<style scoped>\n",
       "    .dataframe tbody tr th:only-of-type {\n",
       "        vertical-align: middle;\n",
       "    }\n",
       "\n",
       "    .dataframe tbody tr th {\n",
       "        vertical-align: top;\n",
       "    }\n",
       "\n",
       "    .dataframe thead th {\n",
       "        text-align: right;\n",
       "    }\n",
       "</style>\n",
       "<table border=\"1\" class=\"dataframe\">\n",
       "  <thead>\n",
       "    <tr style=\"text-align: right;\">\n",
       "      <th></th>\n",
       "      <th>Close</th>\n",
       "      <th>Rets</th>\n",
       "    </tr>\n",
       "    <tr>\n",
       "      <th>Date</th>\n",
       "      <th></th>\n",
       "      <th></th>\n",
       "    </tr>\n",
       "  </thead>\n",
       "  <tbody>\n",
       "    <tr>\n",
       "      <th>1990-03-01 00:00:00-05:00</th>\n",
       "      <td>339.940002</td>\n",
       "      <td>NaN</td>\n",
       "    </tr>\n",
       "    <tr>\n",
       "      <th>1990-04-01 00:00:00-05:00</th>\n",
       "      <td>330.799988</td>\n",
       "      <td>-0.026887</td>\n",
       "    </tr>\n",
       "    <tr>\n",
       "      <th>1990-05-01 00:00:00-04:00</th>\n",
       "      <td>361.230011</td>\n",
       "      <td>0.091989</td>\n",
       "    </tr>\n",
       "    <tr>\n",
       "      <th>1990-06-01 00:00:00-04:00</th>\n",
       "      <td>358.019989</td>\n",
       "      <td>-0.008886</td>\n",
       "    </tr>\n",
       "    <tr>\n",
       "      <th>1990-07-01 00:00:00-04:00</th>\n",
       "      <td>356.149994</td>\n",
       "      <td>-0.005223</td>\n",
       "    </tr>\n",
       "    <tr>\n",
       "      <th>...</th>\n",
       "      <td>...</td>\n",
       "      <td>...</td>\n",
       "    </tr>\n",
       "    <tr>\n",
       "      <th>2022-05-01 00:00:00-04:00</th>\n",
       "      <td>4132.149902</td>\n",
       "      <td>0.000053</td>\n",
       "    </tr>\n",
       "    <tr>\n",
       "      <th>2022-06-01 00:00:00-04:00</th>\n",
       "      <td>3785.379883</td>\n",
       "      <td>-0.083920</td>\n",
       "    </tr>\n",
       "    <tr>\n",
       "      <th>2022-07-01 00:00:00-04:00</th>\n",
       "      <td>4130.290039</td>\n",
       "      <td>0.091116</td>\n",
       "    </tr>\n",
       "    <tr>\n",
       "      <th>2022-08-01 00:00:00-04:00</th>\n",
       "      <td>3955.000000</td>\n",
       "      <td>-0.042440</td>\n",
       "    </tr>\n",
       "    <tr>\n",
       "      <th>2022-09-01 00:00:00-04:00</th>\n",
       "      <td>3585.620117</td>\n",
       "      <td>-0.093396</td>\n",
       "    </tr>\n",
       "  </tbody>\n",
       "</table>\n",
       "<p>391 rows × 2 columns</p>\n",
       "</div>"
      ],
      "text/plain": [
       "                                 Close      Rets\n",
       "Date                                            \n",
       "1990-03-01 00:00:00-05:00   339.940002       NaN\n",
       "1990-04-01 00:00:00-05:00   330.799988 -0.026887\n",
       "1990-05-01 00:00:00-04:00   361.230011  0.091989\n",
       "1990-06-01 00:00:00-04:00   358.019989 -0.008886\n",
       "1990-07-01 00:00:00-04:00   356.149994 -0.005223\n",
       "...                                ...       ...\n",
       "2022-05-01 00:00:00-04:00  4132.149902  0.000053\n",
       "2022-06-01 00:00:00-04:00  3785.379883 -0.083920\n",
       "2022-07-01 00:00:00-04:00  4130.290039  0.091116\n",
       "2022-08-01 00:00:00-04:00  3955.000000 -0.042440\n",
       "2022-09-01 00:00:00-04:00  3585.620117 -0.093396\n",
       "\n",
       "[391 rows x 2 columns]"
      ]
     },
     "execution_count": 41,
     "metadata": {},
     "output_type": "execute_result"
    }
   ],
   "source": [
    "sp500"
   ]
  },
  {
   "cell_type": "code",
   "execution_count": 42,
   "id": "674d499f",
   "metadata": {},
   "outputs": [
    {
     "name": "stdout",
     "output_type": "stream",
     "text": [
      "Portfolio Beta: -0.003602141539503981\n",
      "Jensen's Alpha: -0.0417049838980003\n"
     ]
    }
   ],
   "source": [
    "# Calculate the average return of the market\n",
    "average_market_return = sp500.Rets.mean()\n",
    "\n",
    "# Calculate the covariance between portfolio and market returns\n",
    "covariance = strategy_returns['vol_rets'].cov(sp500['Rets'].reset_index(drop=True))\n",
    "\n",
    "# Calculate the variance of the market returns\n",
    "market_variance = sp500['Rets'].var()\n",
    "\n",
    "# Calculate the portfolio's beta\n",
    "portfolio_beta = covariance / market_variance\n",
    "\n",
    "# Calculate Jensen's Alpha\n",
    "jensens_alpha = mean_ret - (rf + portfolio_beta * (average_market_return - rf))\n",
    "\n",
    "print(\"Portfolio Beta:\", portfolio_beta)\n",
    "print(\"Jensen's Alpha:\", jensens_alpha)"
   ]
  },
  {
   "cell_type": "code",
   "execution_count": 43,
   "id": "b5d4bbc5",
   "metadata": {},
   "outputs": [
    {
     "data": {
      "text/plain": [
       "11.53721758581399"
      ]
     },
     "execution_count": 43,
     "metadata": {},
     "output_type": "execute_result"
    }
   ],
   "source": [
    "# treynor ratio\n",
    "treynor_ratio = (mean_ret - rf)/portfolio_beta\n",
    "treynor_ratio"
   ]
  },
  {
   "cell_type": "code",
   "execution_count": 44,
   "id": "b016eee5",
   "metadata": {},
   "outputs": [
    {
     "name": "stdout",
     "output_type": "stream",
     "text": [
      "0.28768343432743926\n"
     ]
    }
   ],
   "source": [
    "# maximum drawdown\n",
    "peak = strategy_returns.reset_index(drop=True).loc[1, \"vol_cum_rets\"]\n",
    "max_drawdown = 0\n",
    "for ret in strategy_returns[\"vol_cum_rets\"].dropna():\n",
    "    if ret >= peak:\n",
    "        peak = ret\n",
    "    else:\n",
    "        drawdown = (peak - ret)/peak\n",
    "        max_drawdown = max(max_drawdown, drawdown)\n",
    "\n",
    "print(max_drawdown)"
   ]
  },
  {
   "cell_type": "code",
   "execution_count": 45,
   "id": "09c70947",
   "metadata": {},
   "outputs": [
    {
     "data": {
      "text/plain": [
       "0.0778633641258067"
      ]
     },
     "execution_count": 45,
     "metadata": {},
     "output_type": "execute_result"
    }
   ],
   "source": [
    "# calmar-ratio\n",
    "annualised_exp_return = round(mean_ret*12,2)\n",
    "calmar_ratio = (annualised_exp_return - rf)/max_drawdown\n",
    "calmar_ratio"
   ]
  }
 ],
 "metadata": {
  "kernelspec": {
   "display_name": "Python 3 (ipykernel)",
   "language": "python",
   "name": "python3"
  },
  "language_info": {
   "codemirror_mode": {
    "name": "ipython",
    "version": 3
   },
   "file_extension": ".py",
   "mimetype": "text/x-python",
   "name": "python",
   "nbconvert_exporter": "python",
   "pygments_lexer": "ipython3",
   "version": "3.9.0"
  }
 },
 "nbformat": 4,
 "nbformat_minor": 5
}
