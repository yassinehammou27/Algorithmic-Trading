{
 "cells": [
  {
   "cell_type": "markdown",
   "id": "acae3b45",
   "metadata": {},
   "source": [
    "# Group Project\n",
    "#### **FINN43815 - Python for Finance**"
   ]
  },
  {
   "cell_type": "code",
   "execution_count": 138,
   "id": "36a8edf5",
   "metadata": {},
   "outputs": [],
   "source": [
    "import numpy as np\n",
    "import pandas as pd\n",
    "import plotly.express as px\n",
    "from scipy.stats import kurtosis, skew\n",
    "import yfinance as yf"
   ]
  },
  {
   "cell_type": "markdown",
   "id": "278f8d90",
   "metadata": {},
   "source": [
    "### HML Strategy"
   ]
  },
  {
   "cell_type": "markdown",
   "id": "e6e26e70",
   "metadata": {},
   "source": [
    "#### 1. Import Data"
   ]
  },
  {
   "cell_type": "code",
   "execution_count": 139,
   "id": "d81ffa77",
   "metadata": {},
   "outputs": [
    {
     "name": "stderr",
     "output_type": "stream",
     "text": [
      "/var/folders/ch/yj3xbk4s1t34gtb89jtxcmcr0000gn/T/ipykernel_12858/1299969751.py:1: DtypeWarning:\n",
      "\n",
      "Columns (12) have mixed types. Specify dtype option on import or set low_memory=False.\n",
      "\n"
     ]
    }
   ],
   "source": [
    "data = pd.read_csv('cleaned_data.csv')"
   ]
  },
  {
   "cell_type": "code",
   "execution_count": 140,
   "id": "0a7b9ab6",
   "metadata": {},
   "outputs": [
    {
     "data": {
      "text/html": [
       "<div>\n",
       "<style scoped>\n",
       "    .dataframe tbody tr th:only-of-type {\n",
       "        vertical-align: middle;\n",
       "    }\n",
       "\n",
       "    .dataframe tbody tr th {\n",
       "        vertical-align: top;\n",
       "    }\n",
       "\n",
       "    .dataframe thead th {\n",
       "        text-align: right;\n",
       "    }\n",
       "</style>\n",
       "<table border=\"1\" class=\"dataframe\">\n",
       "  <thead>\n",
       "    <tr style=\"text-align: right;\">\n",
       "      <th></th>\n",
       "      <th>date</th>\n",
       "      <th>permno</th>\n",
       "      <th>price</th>\n",
       "      <th>p2b</th>\n",
       "    </tr>\n",
       "  </thead>\n",
       "  <tbody>\n",
       "    <tr>\n",
       "      <th>0</th>\n",
       "      <td>1990-01-31</td>\n",
       "      <td>0111145D UN Equity</td>\n",
       "      <td>20.6875</td>\n",
       "      <td>NaN</td>\n",
       "    </tr>\n",
       "    <tr>\n",
       "      <th>1</th>\n",
       "      <td>1990-02-28</td>\n",
       "      <td>0111145D UN Equity</td>\n",
       "      <td>22.0000</td>\n",
       "      <td>NaN</td>\n",
       "    </tr>\n",
       "    <tr>\n",
       "      <th>2</th>\n",
       "      <td>1990-03-30</td>\n",
       "      <td>0111145D UN Equity</td>\n",
       "      <td>19.5000</td>\n",
       "      <td>NaN</td>\n",
       "    </tr>\n",
       "    <tr>\n",
       "      <th>3</th>\n",
       "      <td>1990-04-30</td>\n",
       "      <td>0111145D UN Equity</td>\n",
       "      <td>17.6250</td>\n",
       "      <td>1.5612</td>\n",
       "    </tr>\n",
       "    <tr>\n",
       "      <th>4</th>\n",
       "      <td>1990-05-31</td>\n",
       "      <td>0111145D UN Equity</td>\n",
       "      <td>19.8125</td>\n",
       "      <td>1.7550</td>\n",
       "    </tr>\n",
       "    <tr>\n",
       "      <th>...</th>\n",
       "      <td>...</td>\n",
       "      <td>...</td>\n",
       "      <td>...</td>\n",
       "      <td>...</td>\n",
       "    </tr>\n",
       "    <tr>\n",
       "      <th>514691</th>\n",
       "      <td>2022-04-29</td>\n",
       "      <td>J UN Equity</td>\n",
       "      <td>138.5500</td>\n",
       "      <td>2.9386</td>\n",
       "    </tr>\n",
       "    <tr>\n",
       "      <th>514692</th>\n",
       "      <td>2022-05-31</td>\n",
       "      <td>J UN Equity</td>\n",
       "      <td>140.0900</td>\n",
       "      <td>2.9712</td>\n",
       "    </tr>\n",
       "    <tr>\n",
       "      <th>514693</th>\n",
       "      <td>2022-06-30</td>\n",
       "      <td>J UN Equity</td>\n",
       "      <td>127.1300</td>\n",
       "      <td>2.6964</td>\n",
       "    </tr>\n",
       "    <tr>\n",
       "      <th>514694</th>\n",
       "      <td>2022-07-29</td>\n",
       "      <td>J UN Equity</td>\n",
       "      <td>137.3000</td>\n",
       "      <td>2.9522</td>\n",
       "    </tr>\n",
       "    <tr>\n",
       "      <th>514695</th>\n",
       "      <td>2022-08-30</td>\n",
       "      <td>J UN Equity</td>\n",
       "      <td>124.4400</td>\n",
       "      <td>2.6757</td>\n",
       "    </tr>\n",
       "  </tbody>\n",
       "</table>\n",
       "<p>514696 rows × 4 columns</p>\n",
       "</div>"
      ],
      "text/plain": [
       "              date              permno     price     p2b\n",
       "0       1990-01-31  0111145D UN Equity   20.6875     NaN\n",
       "1       1990-02-28  0111145D UN Equity   22.0000     NaN\n",
       "2       1990-03-30  0111145D UN Equity   19.5000     NaN\n",
       "3       1990-04-30  0111145D UN Equity   17.6250  1.5612\n",
       "4       1990-05-31  0111145D UN Equity   19.8125  1.7550\n",
       "...            ...                 ...       ...     ...\n",
       "514691  2022-04-29         J UN Equity  138.5500  2.9386\n",
       "514692  2022-05-31         J UN Equity  140.0900  2.9712\n",
       "514693  2022-06-30         J UN Equity  127.1300  2.6964\n",
       "514694  2022-07-29         J UN Equity  137.3000  2.9522\n",
       "514695  2022-08-30         J UN Equity  124.4400  2.6757\n",
       "\n",
       "[514696 rows x 4 columns]"
      ]
     },
     "execution_count": 140,
     "metadata": {},
     "output_type": "execute_result"
    }
   ],
   "source": [
    "# drop unnecessary columns\n",
    "data = data[[\"date\", \"permno\", \"price\", \"p2b\"]]\n",
    "data"
   ]
  },
  {
   "cell_type": "markdown",
   "id": "27834fd8",
   "metadata": {},
   "source": [
    "#### 2. Calculate monthly returns"
   ]
  },
  {
   "cell_type": "code",
   "execution_count": 141,
   "id": "8529d569",
   "metadata": {},
   "outputs": [
    {
     "name": "stderr",
     "output_type": "stream",
     "text": [
      "/var/folders/ch/yj3xbk4s1t34gtb89jtxcmcr0000gn/T/ipykernel_12858/1728035520.py:1: FutureWarning:\n",
      "\n",
      "The default fill_method='pad' in Series.pct_change is deprecated and will be removed in a future version. Call ffill before calling pct_change to retain current behavior and silence this warning.\n",
      "\n"
     ]
    },
    {
     "data": {
      "text/html": [
       "<div>\n",
       "<style scoped>\n",
       "    .dataframe tbody tr th:only-of-type {\n",
       "        vertical-align: middle;\n",
       "    }\n",
       "\n",
       "    .dataframe tbody tr th {\n",
       "        vertical-align: top;\n",
       "    }\n",
       "\n",
       "    .dataframe thead th {\n",
       "        text-align: right;\n",
       "    }\n",
       "</style>\n",
       "<table border=\"1\" class=\"dataframe\">\n",
       "  <thead>\n",
       "    <tr style=\"text-align: right;\">\n",
       "      <th></th>\n",
       "      <th>date</th>\n",
       "      <th>permno</th>\n",
       "      <th>price</th>\n",
       "      <th>p2b</th>\n",
       "      <th>rets</th>\n",
       "    </tr>\n",
       "  </thead>\n",
       "  <tbody>\n",
       "    <tr>\n",
       "      <th>0</th>\n",
       "      <td>1990-01-31</td>\n",
       "      <td>0111145D UN Equity</td>\n",
       "      <td>20.6875</td>\n",
       "      <td>NaN</td>\n",
       "      <td>NaN</td>\n",
       "    </tr>\n",
       "    <tr>\n",
       "      <th>1</th>\n",
       "      <td>1990-02-28</td>\n",
       "      <td>0111145D UN Equity</td>\n",
       "      <td>22.0000</td>\n",
       "      <td>NaN</td>\n",
       "      <td>0.063444</td>\n",
       "    </tr>\n",
       "    <tr>\n",
       "      <th>2</th>\n",
       "      <td>1990-03-30</td>\n",
       "      <td>0111145D UN Equity</td>\n",
       "      <td>19.5000</td>\n",
       "      <td>NaN</td>\n",
       "      <td>-0.113636</td>\n",
       "    </tr>\n",
       "    <tr>\n",
       "      <th>3</th>\n",
       "      <td>1990-04-30</td>\n",
       "      <td>0111145D UN Equity</td>\n",
       "      <td>17.6250</td>\n",
       "      <td>1.5612</td>\n",
       "      <td>-0.096154</td>\n",
       "    </tr>\n",
       "    <tr>\n",
       "      <th>4</th>\n",
       "      <td>1990-05-31</td>\n",
       "      <td>0111145D UN Equity</td>\n",
       "      <td>19.8125</td>\n",
       "      <td>1.7550</td>\n",
       "      <td>0.124113</td>\n",
       "    </tr>\n",
       "  </tbody>\n",
       "</table>\n",
       "</div>"
      ],
      "text/plain": [
       "         date              permno    price     p2b      rets\n",
       "0  1990-01-31  0111145D UN Equity  20.6875     NaN       NaN\n",
       "1  1990-02-28  0111145D UN Equity  22.0000     NaN  0.063444\n",
       "2  1990-03-30  0111145D UN Equity  19.5000     NaN -0.113636\n",
       "3  1990-04-30  0111145D UN Equity  17.6250  1.5612 -0.096154\n",
       "4  1990-05-31  0111145D UN Equity  19.8125  1.7550  0.124113"
      ]
     },
     "execution_count": 141,
     "metadata": {},
     "output_type": "execute_result"
    }
   ],
   "source": [
    "data['rets'] = data.groupby('permno')['price'].transform(pd.Series.pct_change)\n",
    "data.head()"
   ]
  },
  {
   "cell_type": "markdown",
   "id": "67a0e395",
   "metadata": {},
   "source": [
    "#### 3. Sort all stocks into 10 equal groups by size"
   ]
  },
  {
   "cell_type": "code",
   "execution_count": 142,
   "id": "1c727b61",
   "metadata": {},
   "outputs": [
    {
     "data": {
      "text/html": [
       "<div>\n",
       "<style scoped>\n",
       "    .dataframe tbody tr th:only-of-type {\n",
       "        vertical-align: middle;\n",
       "    }\n",
       "\n",
       "    .dataframe tbody tr th {\n",
       "        vertical-align: top;\n",
       "    }\n",
       "\n",
       "    .dataframe thead th {\n",
       "        text-align: right;\n",
       "    }\n",
       "</style>\n",
       "<table border=\"1\" class=\"dataframe\">\n",
       "  <thead>\n",
       "    <tr style=\"text-align: right;\">\n",
       "      <th></th>\n",
       "      <th>date</th>\n",
       "      <th>permno</th>\n",
       "      <th>price</th>\n",
       "      <th>p2b</th>\n",
       "      <th>rets</th>\n",
       "    </tr>\n",
       "  </thead>\n",
       "  <tbody>\n",
       "    <tr>\n",
       "      <th>3</th>\n",
       "      <td>1990-04-30</td>\n",
       "      <td>0111145D UN Equity</td>\n",
       "      <td>17.6250</td>\n",
       "      <td>1.5612</td>\n",
       "      <td>-0.096154</td>\n",
       "    </tr>\n",
       "    <tr>\n",
       "      <th>4</th>\n",
       "      <td>1990-05-31</td>\n",
       "      <td>0111145D UN Equity</td>\n",
       "      <td>19.8125</td>\n",
       "      <td>1.7550</td>\n",
       "      <td>0.124113</td>\n",
       "    </tr>\n",
       "    <tr>\n",
       "      <th>5</th>\n",
       "      <td>1990-06-29</td>\n",
       "      <td>0111145D UN Equity</td>\n",
       "      <td>18.9375</td>\n",
       "      <td>1.6775</td>\n",
       "      <td>-0.044164</td>\n",
       "    </tr>\n",
       "    <tr>\n",
       "      <th>6</th>\n",
       "      <td>1990-07-31</td>\n",
       "      <td>0111145D UN Equity</td>\n",
       "      <td>19.6250</td>\n",
       "      <td>1.7262</td>\n",
       "      <td>0.036304</td>\n",
       "    </tr>\n",
       "    <tr>\n",
       "      <th>7</th>\n",
       "      <td>1990-08-31</td>\n",
       "      <td>0111145D UN Equity</td>\n",
       "      <td>20.3750</td>\n",
       "      <td>1.7922</td>\n",
       "      <td>0.038217</td>\n",
       "    </tr>\n",
       "    <tr>\n",
       "      <th>...</th>\n",
       "      <td>...</td>\n",
       "      <td>...</td>\n",
       "      <td>...</td>\n",
       "      <td>...</td>\n",
       "      <td>...</td>\n",
       "    </tr>\n",
       "    <tr>\n",
       "      <th>514691</th>\n",
       "      <td>2022-04-29</td>\n",
       "      <td>J UN Equity</td>\n",
       "      <td>138.5500</td>\n",
       "      <td>2.9386</td>\n",
       "      <td>0.005370</td>\n",
       "    </tr>\n",
       "    <tr>\n",
       "      <th>514692</th>\n",
       "      <td>2022-05-31</td>\n",
       "      <td>J UN Equity</td>\n",
       "      <td>140.0900</td>\n",
       "      <td>2.9712</td>\n",
       "      <td>0.011115</td>\n",
       "    </tr>\n",
       "    <tr>\n",
       "      <th>514693</th>\n",
       "      <td>2022-06-30</td>\n",
       "      <td>J UN Equity</td>\n",
       "      <td>127.1300</td>\n",
       "      <td>2.6964</td>\n",
       "      <td>-0.092512</td>\n",
       "    </tr>\n",
       "    <tr>\n",
       "      <th>514694</th>\n",
       "      <td>2022-07-29</td>\n",
       "      <td>J UN Equity</td>\n",
       "      <td>137.3000</td>\n",
       "      <td>2.9522</td>\n",
       "      <td>0.079997</td>\n",
       "    </tr>\n",
       "    <tr>\n",
       "      <th>514695</th>\n",
       "      <td>2022-08-30</td>\n",
       "      <td>J UN Equity</td>\n",
       "      <td>124.4400</td>\n",
       "      <td>2.6757</td>\n",
       "      <td>-0.093664</td>\n",
       "    </tr>\n",
       "  </tbody>\n",
       "</table>\n",
       "<p>275505 rows × 5 columns</p>\n",
       "</div>"
      ],
      "text/plain": [
       "              date              permno     price     p2b      rets\n",
       "3       1990-04-30  0111145D UN Equity   17.6250  1.5612 -0.096154\n",
       "4       1990-05-31  0111145D UN Equity   19.8125  1.7550  0.124113\n",
       "5       1990-06-29  0111145D UN Equity   18.9375  1.6775 -0.044164\n",
       "6       1990-07-31  0111145D UN Equity   19.6250  1.7262  0.036304\n",
       "7       1990-08-31  0111145D UN Equity   20.3750  1.7922  0.038217\n",
       "...            ...                 ...       ...     ...       ...\n",
       "514691  2022-04-29         J UN Equity  138.5500  2.9386  0.005370\n",
       "514692  2022-05-31         J UN Equity  140.0900  2.9712  0.011115\n",
       "514693  2022-06-30         J UN Equity  127.1300  2.6964 -0.092512\n",
       "514694  2022-07-29         J UN Equity  137.3000  2.9522  0.079997\n",
       "514695  2022-08-30         J UN Equity  124.4400  2.6757 -0.093664\n",
       "\n",
       "[275505 rows x 5 columns]"
      ]
     },
     "execution_count": 142,
     "metadata": {},
     "output_type": "execute_result"
    }
   ],
   "source": [
    "# Filter out null values fro return and cap\n",
    "data = data.loc[(~data['rets'].isnull()) & ~(data['p2b'].isnull())]\n",
    "data "
   ]
  },
  {
   "cell_type": "code",
   "execution_count": 143,
   "id": "9ccc9cda",
   "metadata": {},
   "outputs": [
    {
     "name": "stderr",
     "output_type": "stream",
     "text": [
      "/var/folders/ch/yj3xbk4s1t34gtb89jtxcmcr0000gn/T/ipykernel_12858/1221812064.py:2: SettingWithCopyWarning:\n",
      "\n",
      "\n",
      "A value is trying to be set on a copy of a slice from a DataFrame.\n",
      "Try using .loc[row_indexer,col_indexer] = value instead\n",
      "\n",
      "See the caveats in the documentation: https://pandas.pydata.org/pandas-docs/stable/user_guide/indexing.html#returning-a-view-versus-a-copy\n",
      "\n"
     ]
    },
    {
     "data": {
      "text/html": [
       "<div>\n",
       "<style scoped>\n",
       "    .dataframe tbody tr th:only-of-type {\n",
       "        vertical-align: middle;\n",
       "    }\n",
       "\n",
       "    .dataframe tbody tr th {\n",
       "        vertical-align: top;\n",
       "    }\n",
       "\n",
       "    .dataframe thead th {\n",
       "        text-align: right;\n",
       "    }\n",
       "</style>\n",
       "<table border=\"1\" class=\"dataframe\">\n",
       "  <thead>\n",
       "    <tr style=\"text-align: right;\">\n",
       "      <th></th>\n",
       "      <th>date</th>\n",
       "      <th>permno</th>\n",
       "      <th>price</th>\n",
       "      <th>p2b</th>\n",
       "      <th>rets</th>\n",
       "      <th>port</th>\n",
       "    </tr>\n",
       "  </thead>\n",
       "  <tbody>\n",
       "    <tr>\n",
       "      <th>3</th>\n",
       "      <td>1990-04-30</td>\n",
       "      <td>0111145D UN Equity</td>\n",
       "      <td>17.6250</td>\n",
       "      <td>1.5612</td>\n",
       "      <td>-0.096154</td>\n",
       "      <td>5</td>\n",
       "    </tr>\n",
       "    <tr>\n",
       "      <th>4</th>\n",
       "      <td>1990-05-31</td>\n",
       "      <td>0111145D UN Equity</td>\n",
       "      <td>19.8125</td>\n",
       "      <td>1.7550</td>\n",
       "      <td>0.124113</td>\n",
       "      <td>5</td>\n",
       "    </tr>\n",
       "    <tr>\n",
       "      <th>5</th>\n",
       "      <td>1990-06-29</td>\n",
       "      <td>0111145D UN Equity</td>\n",
       "      <td>18.9375</td>\n",
       "      <td>1.6775</td>\n",
       "      <td>-0.044164</td>\n",
       "      <td>5</td>\n",
       "    </tr>\n",
       "    <tr>\n",
       "      <th>6</th>\n",
       "      <td>1990-07-31</td>\n",
       "      <td>0111145D UN Equity</td>\n",
       "      <td>19.6250</td>\n",
       "      <td>1.7262</td>\n",
       "      <td>0.036304</td>\n",
       "      <td>5</td>\n",
       "    </tr>\n",
       "    <tr>\n",
       "      <th>7</th>\n",
       "      <td>1990-08-31</td>\n",
       "      <td>0111145D UN Equity</td>\n",
       "      <td>20.3750</td>\n",
       "      <td>1.7922</td>\n",
       "      <td>0.038217</td>\n",
       "      <td>6</td>\n",
       "    </tr>\n",
       "    <tr>\n",
       "      <th>...</th>\n",
       "      <td>...</td>\n",
       "      <td>...</td>\n",
       "      <td>...</td>\n",
       "      <td>...</td>\n",
       "      <td>...</td>\n",
       "      <td>...</td>\n",
       "    </tr>\n",
       "    <tr>\n",
       "      <th>514691</th>\n",
       "      <td>2022-04-29</td>\n",
       "      <td>J UN Equity</td>\n",
       "      <td>138.5500</td>\n",
       "      <td>2.9386</td>\n",
       "      <td>0.005370</td>\n",
       "      <td>5</td>\n",
       "    </tr>\n",
       "    <tr>\n",
       "      <th>514692</th>\n",
       "      <td>2022-05-31</td>\n",
       "      <td>J UN Equity</td>\n",
       "      <td>140.0900</td>\n",
       "      <td>2.9712</td>\n",
       "      <td>0.011115</td>\n",
       "      <td>5</td>\n",
       "    </tr>\n",
       "    <tr>\n",
       "      <th>514693</th>\n",
       "      <td>2022-06-30</td>\n",
       "      <td>J UN Equity</td>\n",
       "      <td>127.1300</td>\n",
       "      <td>2.6964</td>\n",
       "      <td>-0.092512</td>\n",
       "      <td>5</td>\n",
       "    </tr>\n",
       "    <tr>\n",
       "      <th>514694</th>\n",
       "      <td>2022-07-29</td>\n",
       "      <td>J UN Equity</td>\n",
       "      <td>137.3000</td>\n",
       "      <td>2.9522</td>\n",
       "      <td>0.079997</td>\n",
       "      <td>5</td>\n",
       "    </tr>\n",
       "    <tr>\n",
       "      <th>514695</th>\n",
       "      <td>2022-08-30</td>\n",
       "      <td>J UN Equity</td>\n",
       "      <td>124.4400</td>\n",
       "      <td>2.6757</td>\n",
       "      <td>-0.093664</td>\n",
       "      <td>5</td>\n",
       "    </tr>\n",
       "  </tbody>\n",
       "</table>\n",
       "<p>275505 rows × 6 columns</p>\n",
       "</div>"
      ],
      "text/plain": [
       "              date              permno     price     p2b      rets port\n",
       "3       1990-04-30  0111145D UN Equity   17.6250  1.5612 -0.096154    5\n",
       "4       1990-05-31  0111145D UN Equity   19.8125  1.7550  0.124113    5\n",
       "5       1990-06-29  0111145D UN Equity   18.9375  1.6775 -0.044164    5\n",
       "6       1990-07-31  0111145D UN Equity   19.6250  1.7262  0.036304    5\n",
       "7       1990-08-31  0111145D UN Equity   20.3750  1.7922  0.038217    6\n",
       "...            ...                 ...       ...     ...       ...  ...\n",
       "514691  2022-04-29         J UN Equity  138.5500  2.9386  0.005370    5\n",
       "514692  2022-05-31         J UN Equity  140.0900  2.9712  0.011115    5\n",
       "514693  2022-06-30         J UN Equity  127.1300  2.6964 -0.092512    5\n",
       "514694  2022-07-29         J UN Equity  137.3000  2.9522  0.079997    5\n",
       "514695  2022-08-30         J UN Equity  124.4400  2.6757 -0.093664    5\n",
       "\n",
       "[275505 rows x 6 columns]"
      ]
     },
     "execution_count": 143,
     "metadata": {},
     "output_type": "execute_result"
    }
   ],
   "source": [
    "# sort all stocks into 10 different groups\n",
    "data.loc[:,'port'] = data.groupby('date')['p2b'].transform(pd.qcut, q=10, labels=range(1,11)).astype(str)\n",
    "data"
   ]
  },
  {
   "cell_type": "markdown",
   "id": "104f740f",
   "metadata": {},
   "source": [
    "#### 4. Calculate the trading period returns for each portfolio"
   ]
  },
  {
   "cell_type": "code",
   "execution_count": 144,
   "id": "8e9cbe32",
   "metadata": {},
   "outputs": [
    {
     "name": "stderr",
     "output_type": "stream",
     "text": [
      "/var/folders/ch/yj3xbk4s1t34gtb89jtxcmcr0000gn/T/ipykernel_12858/2096885470.py:2: SettingWithCopyWarning:\n",
      "\n",
      "\n",
      "A value is trying to be set on a copy of a slice from a DataFrame.\n",
      "Try using .loc[row_indexer,col_indexer] = value instead\n",
      "\n",
      "See the caveats in the documentation: https://pandas.pydata.org/pandas-docs/stable/user_guide/indexing.html#returning-a-view-versus-a-copy\n",
      "\n"
     ]
    },
    {
     "data": {
      "text/html": [
       "<div>\n",
       "<style scoped>\n",
       "    .dataframe tbody tr th:only-of-type {\n",
       "        vertical-align: middle;\n",
       "    }\n",
       "\n",
       "    .dataframe tbody tr th {\n",
       "        vertical-align: top;\n",
       "    }\n",
       "\n",
       "    .dataframe thead th {\n",
       "        text-align: right;\n",
       "    }\n",
       "</style>\n",
       "<table border=\"1\" class=\"dataframe\">\n",
       "  <thead>\n",
       "    <tr style=\"text-align: right;\">\n",
       "      <th></th>\n",
       "      <th>date</th>\n",
       "      <th>permno</th>\n",
       "      <th>price</th>\n",
       "      <th>p2b</th>\n",
       "      <th>rets</th>\n",
       "      <th>port</th>\n",
       "      <th>rets_t1</th>\n",
       "    </tr>\n",
       "  </thead>\n",
       "  <tbody>\n",
       "    <tr>\n",
       "      <th>3</th>\n",
       "      <td>1990-04-30</td>\n",
       "      <td>0111145D UN Equity</td>\n",
       "      <td>17.6250</td>\n",
       "      <td>1.5612</td>\n",
       "      <td>-0.096154</td>\n",
       "      <td>5</td>\n",
       "      <td>0.124113</td>\n",
       "    </tr>\n",
       "    <tr>\n",
       "      <th>4</th>\n",
       "      <td>1990-05-31</td>\n",
       "      <td>0111145D UN Equity</td>\n",
       "      <td>19.8125</td>\n",
       "      <td>1.7550</td>\n",
       "      <td>0.124113</td>\n",
       "      <td>5</td>\n",
       "      <td>-0.044164</td>\n",
       "    </tr>\n",
       "    <tr>\n",
       "      <th>5</th>\n",
       "      <td>1990-06-29</td>\n",
       "      <td>0111145D UN Equity</td>\n",
       "      <td>18.9375</td>\n",
       "      <td>1.6775</td>\n",
       "      <td>-0.044164</td>\n",
       "      <td>5</td>\n",
       "      <td>0.036304</td>\n",
       "    </tr>\n",
       "    <tr>\n",
       "      <th>6</th>\n",
       "      <td>1990-07-31</td>\n",
       "      <td>0111145D UN Equity</td>\n",
       "      <td>19.6250</td>\n",
       "      <td>1.7262</td>\n",
       "      <td>0.036304</td>\n",
       "      <td>5</td>\n",
       "      <td>0.038217</td>\n",
       "    </tr>\n",
       "    <tr>\n",
       "      <th>7</th>\n",
       "      <td>1990-08-31</td>\n",
       "      <td>0111145D UN Equity</td>\n",
       "      <td>20.3750</td>\n",
       "      <td>1.7922</td>\n",
       "      <td>0.038217</td>\n",
       "      <td>6</td>\n",
       "      <td>0.067485</td>\n",
       "    </tr>\n",
       "    <tr>\n",
       "      <th>...</th>\n",
       "      <td>...</td>\n",
       "      <td>...</td>\n",
       "      <td>...</td>\n",
       "      <td>...</td>\n",
       "      <td>...</td>\n",
       "      <td>...</td>\n",
       "      <td>...</td>\n",
       "    </tr>\n",
       "    <tr>\n",
       "      <th>514691</th>\n",
       "      <td>2022-04-29</td>\n",
       "      <td>J UN Equity</td>\n",
       "      <td>138.5500</td>\n",
       "      <td>2.9386</td>\n",
       "      <td>0.005370</td>\n",
       "      <td>5</td>\n",
       "      <td>0.011115</td>\n",
       "    </tr>\n",
       "    <tr>\n",
       "      <th>514692</th>\n",
       "      <td>2022-05-31</td>\n",
       "      <td>J UN Equity</td>\n",
       "      <td>140.0900</td>\n",
       "      <td>2.9712</td>\n",
       "      <td>0.011115</td>\n",
       "      <td>5</td>\n",
       "      <td>-0.092512</td>\n",
       "    </tr>\n",
       "    <tr>\n",
       "      <th>514693</th>\n",
       "      <td>2022-06-30</td>\n",
       "      <td>J UN Equity</td>\n",
       "      <td>127.1300</td>\n",
       "      <td>2.6964</td>\n",
       "      <td>-0.092512</td>\n",
       "      <td>5</td>\n",
       "      <td>0.079997</td>\n",
       "    </tr>\n",
       "    <tr>\n",
       "      <th>514694</th>\n",
       "      <td>2022-07-29</td>\n",
       "      <td>J UN Equity</td>\n",
       "      <td>137.3000</td>\n",
       "      <td>2.9522</td>\n",
       "      <td>0.079997</td>\n",
       "      <td>5</td>\n",
       "      <td>-0.093664</td>\n",
       "    </tr>\n",
       "    <tr>\n",
       "      <th>514695</th>\n",
       "      <td>2022-08-30</td>\n",
       "      <td>J UN Equity</td>\n",
       "      <td>124.4400</td>\n",
       "      <td>2.6757</td>\n",
       "      <td>-0.093664</td>\n",
       "      <td>5</td>\n",
       "      <td>NaN</td>\n",
       "    </tr>\n",
       "  </tbody>\n",
       "</table>\n",
       "<p>275505 rows × 7 columns</p>\n",
       "</div>"
      ],
      "text/plain": [
       "              date              permno     price     p2b      rets port  \\\n",
       "3       1990-04-30  0111145D UN Equity   17.6250  1.5612 -0.096154    5   \n",
       "4       1990-05-31  0111145D UN Equity   19.8125  1.7550  0.124113    5   \n",
       "5       1990-06-29  0111145D UN Equity   18.9375  1.6775 -0.044164    5   \n",
       "6       1990-07-31  0111145D UN Equity   19.6250  1.7262  0.036304    5   \n",
       "7       1990-08-31  0111145D UN Equity   20.3750  1.7922  0.038217    6   \n",
       "...            ...                 ...       ...     ...       ...  ...   \n",
       "514691  2022-04-29         J UN Equity  138.5500  2.9386  0.005370    5   \n",
       "514692  2022-05-31         J UN Equity  140.0900  2.9712  0.011115    5   \n",
       "514693  2022-06-30         J UN Equity  127.1300  2.6964 -0.092512    5   \n",
       "514694  2022-07-29         J UN Equity  137.3000  2.9522  0.079997    5   \n",
       "514695  2022-08-30         J UN Equity  124.4400  2.6757 -0.093664    5   \n",
       "\n",
       "         rets_t1  \n",
       "3       0.124113  \n",
       "4      -0.044164  \n",
       "5       0.036304  \n",
       "6       0.038217  \n",
       "7       0.067485  \n",
       "...          ...  \n",
       "514691  0.011115  \n",
       "514692 -0.092512  \n",
       "514693  0.079997  \n",
       "514694 -0.093664  \n",
       "514695       NaN  \n",
       "\n",
       "[275505 rows x 7 columns]"
      ]
     },
     "execution_count": 144,
     "metadata": {},
     "output_type": "execute_result"
    }
   ],
   "source": [
    "# add columns for future retuns\n",
    "data.loc[:,'rets_t1']=data.groupby('permno')['rets'].transform('shift', periods=-1)\n",
    "data"
   ]
  },
  {
   "cell_type": "code",
   "execution_count": 145,
   "id": "22a306c8",
   "metadata": {},
   "outputs": [
    {
     "data": {
      "text/html": [
       "<div>\n",
       "<style scoped>\n",
       "    .dataframe tbody tr th:only-of-type {\n",
       "        vertical-align: middle;\n",
       "    }\n",
       "\n",
       "    .dataframe tbody tr th {\n",
       "        vertical-align: top;\n",
       "    }\n",
       "\n",
       "    .dataframe thead th {\n",
       "        text-align: right;\n",
       "    }\n",
       "</style>\n",
       "<table border=\"1\" class=\"dataframe\">\n",
       "  <thead>\n",
       "    <tr style=\"text-align: right;\">\n",
       "      <th></th>\n",
       "      <th>date</th>\n",
       "      <th>port</th>\n",
       "      <th>rets_t1</th>\n",
       "    </tr>\n",
       "  </thead>\n",
       "  <tbody>\n",
       "    <tr>\n",
       "      <th>0</th>\n",
       "      <td>1990-02-28</td>\n",
       "      <td>1</td>\n",
       "      <td>0.058373</td>\n",
       "    </tr>\n",
       "    <tr>\n",
       "      <th>1</th>\n",
       "      <td>1990-02-28</td>\n",
       "      <td>10</td>\n",
       "      <td>0.032882</td>\n",
       "    </tr>\n",
       "    <tr>\n",
       "      <th>2</th>\n",
       "      <td>1990-02-28</td>\n",
       "      <td>2</td>\n",
       "      <td>0.058850</td>\n",
       "    </tr>\n",
       "    <tr>\n",
       "      <th>3</th>\n",
       "      <td>1990-02-28</td>\n",
       "      <td>3</td>\n",
       "      <td>0.016039</td>\n",
       "    </tr>\n",
       "    <tr>\n",
       "      <th>4</th>\n",
       "      <td>1990-02-28</td>\n",
       "      <td>4</td>\n",
       "      <td>0.069584</td>\n",
       "    </tr>\n",
       "    <tr>\n",
       "      <th>...</th>\n",
       "      <td>...</td>\n",
       "      <td>...</td>\n",
       "      <td>...</td>\n",
       "    </tr>\n",
       "    <tr>\n",
       "      <th>3905</th>\n",
       "      <td>2022-08-30</td>\n",
       "      <td>5</td>\n",
       "      <td>NaN</td>\n",
       "    </tr>\n",
       "    <tr>\n",
       "      <th>3906</th>\n",
       "      <td>2022-08-30</td>\n",
       "      <td>6</td>\n",
       "      <td>NaN</td>\n",
       "    </tr>\n",
       "    <tr>\n",
       "      <th>3907</th>\n",
       "      <td>2022-08-30</td>\n",
       "      <td>7</td>\n",
       "      <td>NaN</td>\n",
       "    </tr>\n",
       "    <tr>\n",
       "      <th>3908</th>\n",
       "      <td>2022-08-30</td>\n",
       "      <td>8</td>\n",
       "      <td>NaN</td>\n",
       "    </tr>\n",
       "    <tr>\n",
       "      <th>3909</th>\n",
       "      <td>2022-08-30</td>\n",
       "      <td>9</td>\n",
       "      <td>NaN</td>\n",
       "    </tr>\n",
       "  </tbody>\n",
       "</table>\n",
       "<p>3910 rows × 3 columns</p>\n",
       "</div>"
      ],
      "text/plain": [
       "            date port   rets_t1\n",
       "0     1990-02-28    1  0.058373\n",
       "1     1990-02-28   10  0.032882\n",
       "2     1990-02-28    2  0.058850\n",
       "3     1990-02-28    3  0.016039\n",
       "4     1990-02-28    4  0.069584\n",
       "...          ...  ...       ...\n",
       "3905  2022-08-30    5       NaN\n",
       "3906  2022-08-30    6       NaN\n",
       "3907  2022-08-30    7       NaN\n",
       "3908  2022-08-30    8       NaN\n",
       "3909  2022-08-30    9       NaN\n",
       "\n",
       "[3910 rows x 3 columns]"
      ]
     },
     "execution_count": 145,
     "metadata": {},
     "output_type": "execute_result"
    }
   ],
   "source": [
    "# calculate the achieved mean return return for each month and portfolio\n",
    "port_df = data.loc[~data['port'].isnull()].groupby(['date','port'])['rets_t1'].mean().reset_index()\n",
    "port_df"
   ]
  },
  {
   "cell_type": "markdown",
   "id": "85b134fe",
   "metadata": {},
   "source": [
    "#### 5. Calculate the returns on HML strategy"
   ]
  },
  {
   "cell_type": "code",
   "execution_count": 146,
   "id": "8bc77d2b",
   "metadata": {},
   "outputs": [],
   "source": [
    "port_df = port_df.pivot(index = 'date', columns = 'port', values = 'rets_t1').reset_index()"
   ]
  },
  {
   "cell_type": "code",
   "execution_count": 147,
   "id": "e805b0bd",
   "metadata": {},
   "outputs": [
    {
     "data": {
      "text/html": [
       "<div>\n",
       "<style scoped>\n",
       "    .dataframe tbody tr th:only-of-type {\n",
       "        vertical-align: middle;\n",
       "    }\n",
       "\n",
       "    .dataframe tbody tr th {\n",
       "        vertical-align: top;\n",
       "    }\n",
       "\n",
       "    .dataframe thead th {\n",
       "        text-align: right;\n",
       "    }\n",
       "</style>\n",
       "<table border=\"1\" class=\"dataframe\">\n",
       "  <thead>\n",
       "    <tr style=\"text-align: right;\">\n",
       "      <th>port</th>\n",
       "      <th>date</th>\n",
       "      <th>1</th>\n",
       "      <th>10</th>\n",
       "      <th>2</th>\n",
       "      <th>3</th>\n",
       "      <th>4</th>\n",
       "      <th>5</th>\n",
       "      <th>6</th>\n",
       "      <th>7</th>\n",
       "      <th>8</th>\n",
       "      <th>9</th>\n",
       "    </tr>\n",
       "  </thead>\n",
       "  <tbody>\n",
       "    <tr>\n",
       "      <th>0</th>\n",
       "      <td>1990-02-28</td>\n",
       "      <td>0.058373</td>\n",
       "      <td>0.032882</td>\n",
       "      <td>0.058850</td>\n",
       "      <td>0.016039</td>\n",
       "      <td>0.069584</td>\n",
       "      <td>0.067306</td>\n",
       "      <td>0.064337</td>\n",
       "      <td>0.034685</td>\n",
       "      <td>0.080269</td>\n",
       "      <td>0.072513</td>\n",
       "    </tr>\n",
       "    <tr>\n",
       "      <th>1</th>\n",
       "      <td>1990-03-30</td>\n",
       "      <td>-0.022048</td>\n",
       "      <td>-0.006201</td>\n",
       "      <td>-0.050032</td>\n",
       "      <td>-0.029563</td>\n",
       "      <td>-0.034384</td>\n",
       "      <td>-0.014393</td>\n",
       "      <td>-0.034759</td>\n",
       "      <td>-0.030832</td>\n",
       "      <td>-0.012337</td>\n",
       "      <td>-0.038187</td>\n",
       "    </tr>\n",
       "    <tr>\n",
       "      <th>2</th>\n",
       "      <td>1990-04-30</td>\n",
       "      <td>0.083160</td>\n",
       "      <td>0.134593</td>\n",
       "      <td>0.090239</td>\n",
       "      <td>0.087674</td>\n",
       "      <td>0.086855</td>\n",
       "      <td>0.098119</td>\n",
       "      <td>0.090896</td>\n",
       "      <td>0.096373</td>\n",
       "      <td>0.124065</td>\n",
       "      <td>0.142879</td>\n",
       "    </tr>\n",
       "    <tr>\n",
       "      <th>3</th>\n",
       "      <td>1990-05-31</td>\n",
       "      <td>-0.018901</td>\n",
       "      <td>0.037670</td>\n",
       "      <td>-0.015339</td>\n",
       "      <td>-0.007718</td>\n",
       "      <td>-0.028059</td>\n",
       "      <td>-0.021199</td>\n",
       "      <td>-0.015391</td>\n",
       "      <td>0.007216</td>\n",
       "      <td>-0.000568</td>\n",
       "      <td>0.030464</td>\n",
       "    </tr>\n",
       "    <tr>\n",
       "      <th>4</th>\n",
       "      <td>1990-06-29</td>\n",
       "      <td>-0.039871</td>\n",
       "      <td>-0.028269</td>\n",
       "      <td>-0.032141</td>\n",
       "      <td>-0.024673</td>\n",
       "      <td>-0.011727</td>\n",
       "      <td>-0.017465</td>\n",
       "      <td>-0.011508</td>\n",
       "      <td>-0.030474</td>\n",
       "      <td>-0.008174</td>\n",
       "      <td>-0.042653</td>\n",
       "    </tr>\n",
       "    <tr>\n",
       "      <th>...</th>\n",
       "      <td>...</td>\n",
       "      <td>...</td>\n",
       "      <td>...</td>\n",
       "      <td>...</td>\n",
       "      <td>...</td>\n",
       "      <td>...</td>\n",
       "      <td>...</td>\n",
       "      <td>...</td>\n",
       "      <td>...</td>\n",
       "      <td>...</td>\n",
       "      <td>...</td>\n",
       "    </tr>\n",
       "    <tr>\n",
       "      <th>386</th>\n",
       "      <td>2022-04-29</td>\n",
       "      <td>0.037972</td>\n",
       "      <td>0.006857</td>\n",
       "      <td>0.043861</td>\n",
       "      <td>0.026903</td>\n",
       "      <td>0.028772</td>\n",
       "      <td>0.011848</td>\n",
       "      <td>0.012112</td>\n",
       "      <td>-0.012093</td>\n",
       "      <td>0.003952</td>\n",
       "      <td>-0.025084</td>\n",
       "    </tr>\n",
       "    <tr>\n",
       "      <th>387</th>\n",
       "      <td>2022-05-31</td>\n",
       "      <td>-0.141133</td>\n",
       "      <td>-0.070887</td>\n",
       "      <td>-0.119767</td>\n",
       "      <td>-0.102332</td>\n",
       "      <td>-0.120173</td>\n",
       "      <td>-0.101374</td>\n",
       "      <td>-0.105185</td>\n",
       "      <td>-0.105989</td>\n",
       "      <td>-0.091582</td>\n",
       "      <td>-0.078717</td>\n",
       "    </tr>\n",
       "    <tr>\n",
       "      <th>388</th>\n",
       "      <td>2022-06-30</td>\n",
       "      <td>0.096028</td>\n",
       "      <td>0.113822</td>\n",
       "      <td>0.087731</td>\n",
       "      <td>0.066327</td>\n",
       "      <td>0.066367</td>\n",
       "      <td>0.076868</td>\n",
       "      <td>0.072401</td>\n",
       "      <td>0.086043</td>\n",
       "      <td>0.112084</td>\n",
       "      <td>0.107559</td>\n",
       "    </tr>\n",
       "    <tr>\n",
       "      <th>389</th>\n",
       "      <td>2022-07-29</td>\n",
       "      <td>-0.021782</td>\n",
       "      <td>-0.037529</td>\n",
       "      <td>-0.011224</td>\n",
       "      <td>-0.009498</td>\n",
       "      <td>-0.020434</td>\n",
       "      <td>-0.021681</td>\n",
       "      <td>-0.028096</td>\n",
       "      <td>-0.018516</td>\n",
       "      <td>-0.050197</td>\n",
       "      <td>-0.039783</td>\n",
       "    </tr>\n",
       "    <tr>\n",
       "      <th>390</th>\n",
       "      <td>2022-08-30</td>\n",
       "      <td>NaN</td>\n",
       "      <td>NaN</td>\n",
       "      <td>NaN</td>\n",
       "      <td>NaN</td>\n",
       "      <td>NaN</td>\n",
       "      <td>NaN</td>\n",
       "      <td>NaN</td>\n",
       "      <td>NaN</td>\n",
       "      <td>NaN</td>\n",
       "      <td>NaN</td>\n",
       "    </tr>\n",
       "  </tbody>\n",
       "</table>\n",
       "<p>391 rows × 11 columns</p>\n",
       "</div>"
      ],
      "text/plain": [
       "port        date         1        10         2         3         4         5  \\\n",
       "0     1990-02-28  0.058373  0.032882  0.058850  0.016039  0.069584  0.067306   \n",
       "1     1990-03-30 -0.022048 -0.006201 -0.050032 -0.029563 -0.034384 -0.014393   \n",
       "2     1990-04-30  0.083160  0.134593  0.090239  0.087674  0.086855  0.098119   \n",
       "3     1990-05-31 -0.018901  0.037670 -0.015339 -0.007718 -0.028059 -0.021199   \n",
       "4     1990-06-29 -0.039871 -0.028269 -0.032141 -0.024673 -0.011727 -0.017465   \n",
       "..           ...       ...       ...       ...       ...       ...       ...   \n",
       "386   2022-04-29  0.037972  0.006857  0.043861  0.026903  0.028772  0.011848   \n",
       "387   2022-05-31 -0.141133 -0.070887 -0.119767 -0.102332 -0.120173 -0.101374   \n",
       "388   2022-06-30  0.096028  0.113822  0.087731  0.066327  0.066367  0.076868   \n",
       "389   2022-07-29 -0.021782 -0.037529 -0.011224 -0.009498 -0.020434 -0.021681   \n",
       "390   2022-08-30       NaN       NaN       NaN       NaN       NaN       NaN   \n",
       "\n",
       "port         6         7         8         9  \n",
       "0     0.064337  0.034685  0.080269  0.072513  \n",
       "1    -0.034759 -0.030832 -0.012337 -0.038187  \n",
       "2     0.090896  0.096373  0.124065  0.142879  \n",
       "3    -0.015391  0.007216 -0.000568  0.030464  \n",
       "4    -0.011508 -0.030474 -0.008174 -0.042653  \n",
       "..         ...       ...       ...       ...  \n",
       "386   0.012112 -0.012093  0.003952 -0.025084  \n",
       "387  -0.105185 -0.105989 -0.091582 -0.078717  \n",
       "388   0.072401  0.086043  0.112084  0.107559  \n",
       "389  -0.028096 -0.018516 -0.050197 -0.039783  \n",
       "390        NaN       NaN       NaN       NaN  \n",
       "\n",
       "[391 rows x 11 columns]"
      ]
     },
     "execution_count": 147,
     "metadata": {},
     "output_type": "execute_result"
    }
   ],
   "source": [
    "port_df"
   ]
  },
  {
   "cell_type": "code",
   "execution_count": 148,
   "id": "30e73cb5",
   "metadata": {},
   "outputs": [
    {
     "data": {
      "text/html": [
       "<div>\n",
       "<style scoped>\n",
       "    .dataframe tbody tr th:only-of-type {\n",
       "        vertical-align: middle;\n",
       "    }\n",
       "\n",
       "    .dataframe tbody tr th {\n",
       "        vertical-align: top;\n",
       "    }\n",
       "\n",
       "    .dataframe thead th {\n",
       "        text-align: right;\n",
       "    }\n",
       "</style>\n",
       "<table border=\"1\" class=\"dataframe\">\n",
       "  <thead>\n",
       "    <tr style=\"text-align: right;\">\n",
       "      <th>port</th>\n",
       "      <th>date</th>\n",
       "      <th>1</th>\n",
       "      <th>10</th>\n",
       "      <th>2</th>\n",
       "      <th>3</th>\n",
       "      <th>4</th>\n",
       "      <th>5</th>\n",
       "      <th>6</th>\n",
       "      <th>7</th>\n",
       "      <th>8</th>\n",
       "      <th>9</th>\n",
       "      <th>HML_rets</th>\n",
       "    </tr>\n",
       "  </thead>\n",
       "  <tbody>\n",
       "    <tr>\n",
       "      <th>0</th>\n",
       "      <td>1990-02-28</td>\n",
       "      <td>0.058373</td>\n",
       "      <td>0.032882</td>\n",
       "      <td>0.058850</td>\n",
       "      <td>0.016039</td>\n",
       "      <td>0.069584</td>\n",
       "      <td>0.067306</td>\n",
       "      <td>0.064337</td>\n",
       "      <td>0.034685</td>\n",
       "      <td>0.080269</td>\n",
       "      <td>0.072513</td>\n",
       "      <td>NaN</td>\n",
       "    </tr>\n",
       "    <tr>\n",
       "      <th>1</th>\n",
       "      <td>1990-03-30</td>\n",
       "      <td>-0.022048</td>\n",
       "      <td>-0.006201</td>\n",
       "      <td>-0.050032</td>\n",
       "      <td>-0.029563</td>\n",
       "      <td>-0.034384</td>\n",
       "      <td>-0.014393</td>\n",
       "      <td>-0.034759</td>\n",
       "      <td>-0.030832</td>\n",
       "      <td>-0.012337</td>\n",
       "      <td>-0.038187</td>\n",
       "      <td>0.025491</td>\n",
       "    </tr>\n",
       "    <tr>\n",
       "      <th>2</th>\n",
       "      <td>1990-04-30</td>\n",
       "      <td>0.083160</td>\n",
       "      <td>0.134593</td>\n",
       "      <td>0.090239</td>\n",
       "      <td>0.087674</td>\n",
       "      <td>0.086855</td>\n",
       "      <td>0.098119</td>\n",
       "      <td>0.090896</td>\n",
       "      <td>0.096373</td>\n",
       "      <td>0.124065</td>\n",
       "      <td>0.142879</td>\n",
       "      <td>-0.015846</td>\n",
       "    </tr>\n",
       "    <tr>\n",
       "      <th>3</th>\n",
       "      <td>1990-05-31</td>\n",
       "      <td>-0.018901</td>\n",
       "      <td>0.037670</td>\n",
       "      <td>-0.015339</td>\n",
       "      <td>-0.007718</td>\n",
       "      <td>-0.028059</td>\n",
       "      <td>-0.021199</td>\n",
       "      <td>-0.015391</td>\n",
       "      <td>0.007216</td>\n",
       "      <td>-0.000568</td>\n",
       "      <td>0.030464</td>\n",
       "      <td>-0.051434</td>\n",
       "    </tr>\n",
       "    <tr>\n",
       "      <th>4</th>\n",
       "      <td>1990-06-29</td>\n",
       "      <td>-0.039871</td>\n",
       "      <td>-0.028269</td>\n",
       "      <td>-0.032141</td>\n",
       "      <td>-0.024673</td>\n",
       "      <td>-0.011727</td>\n",
       "      <td>-0.017465</td>\n",
       "      <td>-0.011508</td>\n",
       "      <td>-0.030474</td>\n",
       "      <td>-0.008174</td>\n",
       "      <td>-0.042653</td>\n",
       "      <td>-0.056571</td>\n",
       "    </tr>\n",
       "    <tr>\n",
       "      <th>...</th>\n",
       "      <td>...</td>\n",
       "      <td>...</td>\n",
       "      <td>...</td>\n",
       "      <td>...</td>\n",
       "      <td>...</td>\n",
       "      <td>...</td>\n",
       "      <td>...</td>\n",
       "      <td>...</td>\n",
       "      <td>...</td>\n",
       "      <td>...</td>\n",
       "      <td>...</td>\n",
       "      <td>...</td>\n",
       "    </tr>\n",
       "    <tr>\n",
       "      <th>386</th>\n",
       "      <td>2022-04-29</td>\n",
       "      <td>0.037972</td>\n",
       "      <td>0.006857</td>\n",
       "      <td>0.043861</td>\n",
       "      <td>0.026903</td>\n",
       "      <td>0.028772</td>\n",
       "      <td>0.011848</td>\n",
       "      <td>0.012112</td>\n",
       "      <td>-0.012093</td>\n",
       "      <td>0.003952</td>\n",
       "      <td>-0.025084</td>\n",
       "      <td>0.013869</td>\n",
       "    </tr>\n",
       "    <tr>\n",
       "      <th>387</th>\n",
       "      <td>2022-05-31</td>\n",
       "      <td>-0.141133</td>\n",
       "      <td>-0.070887</td>\n",
       "      <td>-0.119767</td>\n",
       "      <td>-0.102332</td>\n",
       "      <td>-0.120173</td>\n",
       "      <td>-0.101374</td>\n",
       "      <td>-0.105185</td>\n",
       "      <td>-0.105989</td>\n",
       "      <td>-0.091582</td>\n",
       "      <td>-0.078717</td>\n",
       "      <td>0.031115</td>\n",
       "    </tr>\n",
       "    <tr>\n",
       "      <th>388</th>\n",
       "      <td>2022-06-30</td>\n",
       "      <td>0.096028</td>\n",
       "      <td>0.113822</td>\n",
       "      <td>0.087731</td>\n",
       "      <td>0.066327</td>\n",
       "      <td>0.066367</td>\n",
       "      <td>0.076868</td>\n",
       "      <td>0.072401</td>\n",
       "      <td>0.086043</td>\n",
       "      <td>0.112084</td>\n",
       "      <td>0.107559</td>\n",
       "      <td>-0.070246</td>\n",
       "    </tr>\n",
       "    <tr>\n",
       "      <th>389</th>\n",
       "      <td>2022-07-29</td>\n",
       "      <td>-0.021782</td>\n",
       "      <td>-0.037529</td>\n",
       "      <td>-0.011224</td>\n",
       "      <td>-0.009498</td>\n",
       "      <td>-0.020434</td>\n",
       "      <td>-0.021681</td>\n",
       "      <td>-0.028096</td>\n",
       "      <td>-0.018516</td>\n",
       "      <td>-0.050197</td>\n",
       "      <td>-0.039783</td>\n",
       "      <td>-0.017794</td>\n",
       "    </tr>\n",
       "    <tr>\n",
       "      <th>390</th>\n",
       "      <td>2022-08-30</td>\n",
       "      <td>NaN</td>\n",
       "      <td>NaN</td>\n",
       "      <td>NaN</td>\n",
       "      <td>NaN</td>\n",
       "      <td>NaN</td>\n",
       "      <td>NaN</td>\n",
       "      <td>NaN</td>\n",
       "      <td>NaN</td>\n",
       "      <td>NaN</td>\n",
       "      <td>NaN</td>\n",
       "      <td>0.015747</td>\n",
       "    </tr>\n",
       "  </tbody>\n",
       "</table>\n",
       "<p>391 rows × 12 columns</p>\n",
       "</div>"
      ],
      "text/plain": [
       "port        date         1        10         2         3         4         5  \\\n",
       "0     1990-02-28  0.058373  0.032882  0.058850  0.016039  0.069584  0.067306   \n",
       "1     1990-03-30 -0.022048 -0.006201 -0.050032 -0.029563 -0.034384 -0.014393   \n",
       "2     1990-04-30  0.083160  0.134593  0.090239  0.087674  0.086855  0.098119   \n",
       "3     1990-05-31 -0.018901  0.037670 -0.015339 -0.007718 -0.028059 -0.021199   \n",
       "4     1990-06-29 -0.039871 -0.028269 -0.032141 -0.024673 -0.011727 -0.017465   \n",
       "..           ...       ...       ...       ...       ...       ...       ...   \n",
       "386   2022-04-29  0.037972  0.006857  0.043861  0.026903  0.028772  0.011848   \n",
       "387   2022-05-31 -0.141133 -0.070887 -0.119767 -0.102332 -0.120173 -0.101374   \n",
       "388   2022-06-30  0.096028  0.113822  0.087731  0.066327  0.066367  0.076868   \n",
       "389   2022-07-29 -0.021782 -0.037529 -0.011224 -0.009498 -0.020434 -0.021681   \n",
       "390   2022-08-30       NaN       NaN       NaN       NaN       NaN       NaN   \n",
       "\n",
       "port         6         7         8         9  HML_rets  \n",
       "0     0.064337  0.034685  0.080269  0.072513       NaN  \n",
       "1    -0.034759 -0.030832 -0.012337 -0.038187  0.025491  \n",
       "2     0.090896  0.096373  0.124065  0.142879 -0.015846  \n",
       "3    -0.015391  0.007216 -0.000568  0.030464 -0.051434  \n",
       "4    -0.011508 -0.030474 -0.008174 -0.042653 -0.056571  \n",
       "..         ...       ...       ...       ...       ...  \n",
       "386   0.012112 -0.012093  0.003952 -0.025084  0.013869  \n",
       "387  -0.105185 -0.105989 -0.091582 -0.078717  0.031115  \n",
       "388   0.072401  0.086043  0.112084  0.107559 -0.070246  \n",
       "389  -0.028096 -0.018516 -0.050197 -0.039783 -0.017794  \n",
       "390        NaN       NaN       NaN       NaN  0.015747  \n",
       "\n",
       "[391 rows x 12 columns]"
      ]
     },
     "execution_count": 148,
     "metadata": {},
     "output_type": "execute_result"
    }
   ],
   "source": [
    "port_df['HML_rets'] = port_df['1']-port_df['10']\n",
    "port_df['HML_rets'] = port_df['HML_rets'].transform('shift', periods=1)\n",
    "port_df"
   ]
  },
  {
   "cell_type": "code",
   "execution_count": 149,
   "id": "c62b1596",
   "metadata": {},
   "outputs": [],
   "source": [
    "# calculate cumulative returns\n",
    "port_df['HML_cum_rets'] = (1+port_df['HML_rets']).cumprod()"
   ]
  },
  {
   "cell_type": "code",
   "execution_count": 150,
   "id": "c2c90487",
   "metadata": {},
   "outputs": [
    {
     "data": {
      "text/html": [
       "<div>\n",
       "<style scoped>\n",
       "    .dataframe tbody tr th:only-of-type {\n",
       "        vertical-align: middle;\n",
       "    }\n",
       "\n",
       "    .dataframe tbody tr th {\n",
       "        vertical-align: top;\n",
       "    }\n",
       "\n",
       "    .dataframe thead th {\n",
       "        text-align: right;\n",
       "    }\n",
       "</style>\n",
       "<table border=\"1\" class=\"dataframe\">\n",
       "  <thead>\n",
       "    <tr style=\"text-align: right;\">\n",
       "      <th>port</th>\n",
       "      <th>date</th>\n",
       "      <th>1</th>\n",
       "      <th>10</th>\n",
       "      <th>2</th>\n",
       "      <th>3</th>\n",
       "      <th>4</th>\n",
       "      <th>5</th>\n",
       "      <th>6</th>\n",
       "      <th>7</th>\n",
       "      <th>8</th>\n",
       "      <th>9</th>\n",
       "      <th>HML_rets</th>\n",
       "      <th>HML_cum_rets</th>\n",
       "    </tr>\n",
       "  </thead>\n",
       "  <tbody>\n",
       "    <tr>\n",
       "      <th>0</th>\n",
       "      <td>1990-02-28</td>\n",
       "      <td>0.058373</td>\n",
       "      <td>0.032882</td>\n",
       "      <td>0.058850</td>\n",
       "      <td>0.016039</td>\n",
       "      <td>0.069584</td>\n",
       "      <td>0.067306</td>\n",
       "      <td>0.064337</td>\n",
       "      <td>0.034685</td>\n",
       "      <td>0.080269</td>\n",
       "      <td>0.072513</td>\n",
       "      <td>NaN</td>\n",
       "      <td>NaN</td>\n",
       "    </tr>\n",
       "    <tr>\n",
       "      <th>1</th>\n",
       "      <td>1990-03-30</td>\n",
       "      <td>-0.022048</td>\n",
       "      <td>-0.006201</td>\n",
       "      <td>-0.050032</td>\n",
       "      <td>-0.029563</td>\n",
       "      <td>-0.034384</td>\n",
       "      <td>-0.014393</td>\n",
       "      <td>-0.034759</td>\n",
       "      <td>-0.030832</td>\n",
       "      <td>-0.012337</td>\n",
       "      <td>-0.038187</td>\n",
       "      <td>0.025491</td>\n",
       "      <td>1.025491</td>\n",
       "    </tr>\n",
       "    <tr>\n",
       "      <th>2</th>\n",
       "      <td>1990-04-30</td>\n",
       "      <td>0.083160</td>\n",
       "      <td>0.134593</td>\n",
       "      <td>0.090239</td>\n",
       "      <td>0.087674</td>\n",
       "      <td>0.086855</td>\n",
       "      <td>0.098119</td>\n",
       "      <td>0.090896</td>\n",
       "      <td>0.096373</td>\n",
       "      <td>0.124065</td>\n",
       "      <td>0.142879</td>\n",
       "      <td>-0.015846</td>\n",
       "      <td>1.009241</td>\n",
       "    </tr>\n",
       "    <tr>\n",
       "      <th>3</th>\n",
       "      <td>1990-05-31</td>\n",
       "      <td>-0.018901</td>\n",
       "      <td>0.037670</td>\n",
       "      <td>-0.015339</td>\n",
       "      <td>-0.007718</td>\n",
       "      <td>-0.028059</td>\n",
       "      <td>-0.021199</td>\n",
       "      <td>-0.015391</td>\n",
       "      <td>0.007216</td>\n",
       "      <td>-0.000568</td>\n",
       "      <td>0.030464</td>\n",
       "      <td>-0.051434</td>\n",
       "      <td>0.957332</td>\n",
       "    </tr>\n",
       "    <tr>\n",
       "      <th>4</th>\n",
       "      <td>1990-06-29</td>\n",
       "      <td>-0.039871</td>\n",
       "      <td>-0.028269</td>\n",
       "      <td>-0.032141</td>\n",
       "      <td>-0.024673</td>\n",
       "      <td>-0.011727</td>\n",
       "      <td>-0.017465</td>\n",
       "      <td>-0.011508</td>\n",
       "      <td>-0.030474</td>\n",
       "      <td>-0.008174</td>\n",
       "      <td>-0.042653</td>\n",
       "      <td>-0.056571</td>\n",
       "      <td>0.903175</td>\n",
       "    </tr>\n",
       "    <tr>\n",
       "      <th>...</th>\n",
       "      <td>...</td>\n",
       "      <td>...</td>\n",
       "      <td>...</td>\n",
       "      <td>...</td>\n",
       "      <td>...</td>\n",
       "      <td>...</td>\n",
       "      <td>...</td>\n",
       "      <td>...</td>\n",
       "      <td>...</td>\n",
       "      <td>...</td>\n",
       "      <td>...</td>\n",
       "      <td>...</td>\n",
       "      <td>...</td>\n",
       "    </tr>\n",
       "    <tr>\n",
       "      <th>386</th>\n",
       "      <td>2022-04-29</td>\n",
       "      <td>0.037972</td>\n",
       "      <td>0.006857</td>\n",
       "      <td>0.043861</td>\n",
       "      <td>0.026903</td>\n",
       "      <td>0.028772</td>\n",
       "      <td>0.011848</td>\n",
       "      <td>0.012112</td>\n",
       "      <td>-0.012093</td>\n",
       "      <td>0.003952</td>\n",
       "      <td>-0.025084</td>\n",
       "      <td>0.013869</td>\n",
       "      <td>0.253647</td>\n",
       "    </tr>\n",
       "    <tr>\n",
       "      <th>387</th>\n",
       "      <td>2022-05-31</td>\n",
       "      <td>-0.141133</td>\n",
       "      <td>-0.070887</td>\n",
       "      <td>-0.119767</td>\n",
       "      <td>-0.102332</td>\n",
       "      <td>-0.120173</td>\n",
       "      <td>-0.101374</td>\n",
       "      <td>-0.105185</td>\n",
       "      <td>-0.105989</td>\n",
       "      <td>-0.091582</td>\n",
       "      <td>-0.078717</td>\n",
       "      <td>0.031115</td>\n",
       "      <td>0.261539</td>\n",
       "    </tr>\n",
       "    <tr>\n",
       "      <th>388</th>\n",
       "      <td>2022-06-30</td>\n",
       "      <td>0.096028</td>\n",
       "      <td>0.113822</td>\n",
       "      <td>0.087731</td>\n",
       "      <td>0.066327</td>\n",
       "      <td>0.066367</td>\n",
       "      <td>0.076868</td>\n",
       "      <td>0.072401</td>\n",
       "      <td>0.086043</td>\n",
       "      <td>0.112084</td>\n",
       "      <td>0.107559</td>\n",
       "      <td>-0.070246</td>\n",
       "      <td>0.243167</td>\n",
       "    </tr>\n",
       "    <tr>\n",
       "      <th>389</th>\n",
       "      <td>2022-07-29</td>\n",
       "      <td>-0.021782</td>\n",
       "      <td>-0.037529</td>\n",
       "      <td>-0.011224</td>\n",
       "      <td>-0.009498</td>\n",
       "      <td>-0.020434</td>\n",
       "      <td>-0.021681</td>\n",
       "      <td>-0.028096</td>\n",
       "      <td>-0.018516</td>\n",
       "      <td>-0.050197</td>\n",
       "      <td>-0.039783</td>\n",
       "      <td>-0.017794</td>\n",
       "      <td>0.238840</td>\n",
       "    </tr>\n",
       "    <tr>\n",
       "      <th>390</th>\n",
       "      <td>2022-08-30</td>\n",
       "      <td>NaN</td>\n",
       "      <td>NaN</td>\n",
       "      <td>NaN</td>\n",
       "      <td>NaN</td>\n",
       "      <td>NaN</td>\n",
       "      <td>NaN</td>\n",
       "      <td>NaN</td>\n",
       "      <td>NaN</td>\n",
       "      <td>NaN</td>\n",
       "      <td>NaN</td>\n",
       "      <td>0.015747</td>\n",
       "      <td>0.242601</td>\n",
       "    </tr>\n",
       "  </tbody>\n",
       "</table>\n",
       "<p>391 rows × 13 columns</p>\n",
       "</div>"
      ],
      "text/plain": [
       "port        date         1        10         2         3         4         5  \\\n",
       "0     1990-02-28  0.058373  0.032882  0.058850  0.016039  0.069584  0.067306   \n",
       "1     1990-03-30 -0.022048 -0.006201 -0.050032 -0.029563 -0.034384 -0.014393   \n",
       "2     1990-04-30  0.083160  0.134593  0.090239  0.087674  0.086855  0.098119   \n",
       "3     1990-05-31 -0.018901  0.037670 -0.015339 -0.007718 -0.028059 -0.021199   \n",
       "4     1990-06-29 -0.039871 -0.028269 -0.032141 -0.024673 -0.011727 -0.017465   \n",
       "..           ...       ...       ...       ...       ...       ...       ...   \n",
       "386   2022-04-29  0.037972  0.006857  0.043861  0.026903  0.028772  0.011848   \n",
       "387   2022-05-31 -0.141133 -0.070887 -0.119767 -0.102332 -0.120173 -0.101374   \n",
       "388   2022-06-30  0.096028  0.113822  0.087731  0.066327  0.066367  0.076868   \n",
       "389   2022-07-29 -0.021782 -0.037529 -0.011224 -0.009498 -0.020434 -0.021681   \n",
       "390   2022-08-30       NaN       NaN       NaN       NaN       NaN       NaN   \n",
       "\n",
       "port         6         7         8         9  HML_rets  HML_cum_rets  \n",
       "0     0.064337  0.034685  0.080269  0.072513       NaN           NaN  \n",
       "1    -0.034759 -0.030832 -0.012337 -0.038187  0.025491      1.025491  \n",
       "2     0.090896  0.096373  0.124065  0.142879 -0.015846      1.009241  \n",
       "3    -0.015391  0.007216 -0.000568  0.030464 -0.051434      0.957332  \n",
       "4    -0.011508 -0.030474 -0.008174 -0.042653 -0.056571      0.903175  \n",
       "..         ...       ...       ...       ...       ...           ...  \n",
       "386   0.012112 -0.012093  0.003952 -0.025084  0.013869      0.253647  \n",
       "387  -0.105185 -0.105989 -0.091582 -0.078717  0.031115      0.261539  \n",
       "388   0.072401  0.086043  0.112084  0.107559 -0.070246      0.243167  \n",
       "389  -0.028096 -0.018516 -0.050197 -0.039783 -0.017794      0.238840  \n",
       "390        NaN       NaN       NaN       NaN  0.015747      0.242601  \n",
       "\n",
       "[391 rows x 13 columns]"
      ]
     },
     "execution_count": 150,
     "metadata": {},
     "output_type": "execute_result"
    }
   ],
   "source": [
    "port_df"
   ]
  },
  {
   "cell_type": "code",
   "execution_count": 151,
   "id": "fb1e2a61",
   "metadata": {
    "scrolled": false
   },
   "outputs": [
    {
     "data": {
      "application/vnd.plotly.v1+json": {
       "config": {
        "plotlyServerURL": "https://plot.ly"
       },
       "data": [
        {
         "hovertemplate": "date=%{x}<br>Cumulative returns=%{y}<extra></extra>",
         "legendgroup": "",
         "line": {
          "color": "#636efa",
          "dash": "solid"
         },
         "marker": {
          "symbol": "circle"
         },
         "mode": "lines",
         "name": "",
         "orientation": "v",
         "showlegend": false,
         "type": "scatter",
         "x": [
          "1990-02-28",
          "1990-03-30",
          "1990-04-30",
          "1990-05-31",
          "1990-06-29",
          "1990-07-31",
          "1990-08-31",
          "1990-09-28",
          "1990-10-31",
          "1990-11-30",
          "1990-12-31",
          "1991-01-31",
          "1991-02-28",
          "1991-03-28",
          "1991-04-30",
          "1991-05-31",
          "1991-06-28",
          "1991-07-31",
          "1991-08-30",
          "1991-09-30",
          "1991-10-31",
          "1991-11-29",
          "1991-12-31",
          "1992-01-31",
          "1992-02-28",
          "1992-03-31",
          "1992-04-30",
          "1992-05-29",
          "1992-06-30",
          "1992-07-31",
          "1992-08-31",
          "1992-09-30",
          "1992-10-30",
          "1992-11-30",
          "1992-12-31",
          "1993-01-29",
          "1993-02-26",
          "1993-03-31",
          "1993-04-30",
          "1993-05-28",
          "1993-06-30",
          "1993-07-30",
          "1993-08-31",
          "1993-09-30",
          "1993-10-29",
          "1993-11-30",
          "1993-12-31",
          "1994-01-31",
          "1994-02-28",
          "1994-03-31",
          "1994-04-29",
          "1994-05-31",
          "1994-06-30",
          "1994-07-29",
          "1994-08-31",
          "1994-09-30",
          "1994-10-31",
          "1994-11-30",
          "1994-12-30",
          "1995-01-31",
          "1995-02-28",
          "1995-03-31",
          "1995-04-28",
          "1995-05-31",
          "1995-06-30",
          "1995-07-31",
          "1995-08-31",
          "1995-09-29",
          "1995-10-31",
          "1995-11-30",
          "1995-12-29",
          "1996-01-31",
          "1996-02-29",
          "1996-03-29",
          "1996-04-30",
          "1996-05-31",
          "1996-06-28",
          "1996-07-31",
          "1996-08-30",
          "1996-09-30",
          "1996-10-31",
          "1996-11-29",
          "1996-12-31",
          "1997-01-31",
          "1997-02-28",
          "1997-03-31",
          "1997-04-30",
          "1997-05-30",
          "1997-06-30",
          "1997-07-31",
          "1997-08-29",
          "1997-09-30",
          "1997-10-31",
          "1997-11-28",
          "1997-12-31",
          "1998-01-30",
          "1998-02-27",
          "1998-03-31",
          "1998-04-30",
          "1998-05-29",
          "1998-06-30",
          "1998-07-31",
          "1998-08-31",
          "1998-09-30",
          "1998-10-30",
          "1998-11-30",
          "1998-12-31",
          "1999-01-29",
          "1999-02-26",
          "1999-03-31",
          "1999-04-30",
          "1999-05-28",
          "1999-06-30",
          "1999-07-30",
          "1999-08-31",
          "1999-09-30",
          "1999-10-29",
          "1999-11-30",
          "1999-12-31",
          "2000-01-31",
          "2000-02-29",
          "2000-03-31",
          "2000-04-28",
          "2000-05-31",
          "2000-06-30",
          "2000-07-31",
          "2000-08-31",
          "2000-09-29",
          "2000-10-31",
          "2000-11-30",
          "2000-12-29",
          "2001-01-31",
          "2001-02-28",
          "2001-03-30",
          "2001-04-30",
          "2001-05-31",
          "2001-06-29",
          "2001-07-31",
          "2001-08-31",
          "2001-09-28",
          "2001-10-31",
          "2001-11-30",
          "2001-12-31",
          "2002-01-31",
          "2002-02-28",
          "2002-03-28",
          "2002-04-30",
          "2002-05-31",
          "2002-06-28",
          "2002-07-31",
          "2002-08-30",
          "2002-09-30",
          "2002-10-31",
          "2002-11-29",
          "2002-12-31",
          "2003-01-31",
          "2003-02-28",
          "2003-03-31",
          "2003-04-30",
          "2003-05-30",
          "2003-06-30",
          "2003-07-31",
          "2003-08-29",
          "2003-09-30",
          "2003-10-31",
          "2003-11-28",
          "2003-12-31",
          "2004-01-30",
          "2004-02-27",
          "2004-03-31",
          "2004-04-30",
          "2004-05-28",
          "2004-06-30",
          "2004-07-30",
          "2004-08-31",
          "2004-09-30",
          "2004-10-29",
          "2004-11-30",
          "2004-12-31",
          "2005-01-31",
          "2005-02-28",
          "2005-03-31",
          "2005-04-29",
          "2005-05-31",
          "2005-06-30",
          "2005-07-29",
          "2005-08-31",
          "2005-09-30",
          "2005-10-31",
          "2005-11-30",
          "2005-12-30",
          "2006-01-31",
          "2006-02-28",
          "2006-03-31",
          "2006-04-28",
          "2006-05-31",
          "2006-06-30",
          "2006-07-31",
          "2006-08-31",
          "2006-09-29",
          "2006-10-31",
          "2006-11-30",
          "2006-12-29",
          "2007-01-31",
          "2007-02-28",
          "2007-03-30",
          "2007-04-30",
          "2007-05-31",
          "2007-06-29",
          "2007-07-31",
          "2007-08-31",
          "2007-09-28",
          "2007-10-31",
          "2007-11-30",
          "2007-12-31",
          "2008-01-31",
          "2008-02-29",
          "2008-03-31",
          "2008-04-30",
          "2008-05-30",
          "2008-06-30",
          "2008-07-31",
          "2008-08-29",
          "2008-09-30",
          "2008-10-31",
          "2008-11-28",
          "2008-12-31",
          "2009-01-30",
          "2009-02-27",
          "2009-03-31",
          "2009-04-30",
          "2009-05-29",
          "2009-06-30",
          "2009-07-31",
          "2009-08-31",
          "2009-09-30",
          "2009-10-30",
          "2009-11-30",
          "2009-12-31",
          "2010-01-29",
          "2010-02-26",
          "2010-03-31",
          "2010-04-30",
          "2010-05-28",
          "2010-06-30",
          "2010-07-30",
          "2010-08-31",
          "2010-09-30",
          "2010-10-29",
          "2010-11-30",
          "2010-12-31",
          "2011-01-31",
          "2011-02-28",
          "2011-03-31",
          "2011-04-29",
          "2011-05-31",
          "2011-06-30",
          "2011-07-29",
          "2011-08-31",
          "2011-09-30",
          "2011-10-31",
          "2011-11-30",
          "2011-12-30",
          "2012-01-31",
          "2012-02-29",
          "2012-03-30",
          "2012-04-30",
          "2012-05-31",
          "2012-06-29",
          "2012-07-31",
          "2012-08-31",
          "2012-09-28",
          "2012-10-31",
          "2012-11-30",
          "2012-12-31",
          "2013-01-31",
          "2013-02-28",
          "2013-03-28",
          "2013-04-30",
          "2013-05-31",
          "2013-06-28",
          "2013-07-31",
          "2013-08-30",
          "2013-09-30",
          "2013-10-31",
          "2013-11-29",
          "2013-12-31",
          "2014-01-31",
          "2014-02-28",
          "2014-03-31",
          "2014-04-30",
          "2014-05-30",
          "2014-06-30",
          "2014-07-31",
          "2014-08-29",
          "2014-09-30",
          "2014-10-31",
          "2014-11-28",
          "2014-12-31",
          "2015-01-30",
          "2015-02-27",
          "2015-03-31",
          "2015-04-30",
          "2015-05-29",
          "2015-06-30",
          "2015-07-31",
          "2015-08-31",
          "2015-09-30",
          "2015-10-30",
          "2015-11-30",
          "2015-12-31",
          "2016-01-29",
          "2016-02-29",
          "2016-03-31",
          "2016-04-29",
          "2016-05-31",
          "2016-06-30",
          "2016-07-29",
          "2016-08-31",
          "2016-09-30",
          "2016-10-31",
          "2016-11-30",
          "2016-12-30",
          "2017-01-31",
          "2017-02-28",
          "2017-03-31",
          "2017-04-28",
          "2017-05-31",
          "2017-06-30",
          "2017-07-31",
          "2017-08-31",
          "2017-09-29",
          "2017-10-31",
          "2017-11-30",
          "2017-12-29",
          "2018-01-31",
          "2018-02-28",
          "2018-03-29",
          "2018-04-30",
          "2018-05-31",
          "2018-06-29",
          "2018-07-31",
          "2018-08-31",
          "2018-09-28",
          "2018-10-31",
          "2018-11-30",
          "2018-12-31",
          "2019-01-31",
          "2019-02-28",
          "2019-03-29",
          "2019-04-30",
          "2019-05-31",
          "2019-06-28",
          "2019-07-31",
          "2019-08-30",
          "2019-09-30",
          "2019-10-31",
          "2019-11-29",
          "2019-12-31",
          "2020-01-31",
          "2020-02-28",
          "2020-03-31",
          "2020-04-30",
          "2020-05-29",
          "2020-06-30",
          "2020-07-31",
          "2020-08-31",
          "2020-09-30",
          "2020-10-30",
          "2020-11-30",
          "2020-12-31",
          "2021-01-29",
          "2021-02-26",
          "2021-03-31",
          "2021-04-30",
          "2021-05-28",
          "2021-06-30",
          "2021-07-30",
          "2021-08-31",
          "2021-09-30",
          "2021-10-29",
          "2021-11-30",
          "2021-12-31",
          "2022-01-31",
          "2022-02-28",
          "2022-03-31",
          "2022-04-29",
          "2022-05-31",
          "2022-06-30",
          "2022-07-29",
          "2022-08-30"
         ],
         "xaxis": "x",
         "y": [
          null,
          1.025491464686829,
          1.0092411863163488,
          0.957332144826896,
          0.9031750778226169,
          0.892696692647671,
          0.8633264446935673,
          0.8285399326440502,
          0.7358896988795144,
          0.7227151725864004,
          0.6908088288991454,
          0.6777484310327164,
          0.7095525871725084,
          0.6954713440174314,
          0.7170088046651667,
          0.7216835986195129,
          0.7463029314648119,
          0.6925935883019679,
          0.6485271117029716,
          0.6231508104439587,
          0.5713132856409229,
          0.5628164529323272,
          0.500839908077919,
          0.5467773103148165,
          0.5864573698219397,
          0.6202721319519477,
          0.6436736523083406,
          0.6418779998065579,
          0.64466022887751,
          0.6529654164360912,
          0.6321815842985204,
          0.6098198609730257,
          0.5896036756565174,
          0.5845001191481571,
          0.5951511149544166,
          0.6146130549687853,
          0.6583678017594006,
          0.6319112096269413,
          0.648601744664451,
          0.6181376087018138,
          0.6069427461822307,
          0.6201270688035743,
          0.6101182906135492,
          0.5822928527646183,
          0.602247173628983,
          0.6235529351009651,
          0.6279283417738153,
          0.6491699265097136,
          0.6391755701553429,
          0.6305700997601308,
          0.635900949228242,
          0.6464933103907335,
          0.6769662896988352,
          0.6959891175074898,
          0.6663754863430327,
          0.6389886597474163,
          0.6192579463735236,
          0.6094789454561877,
          0.6130252271640085,
          0.6456856106691533,
          0.6431910498703366,
          0.6233447641052815,
          0.6284530957270452,
          0.6443837224578888,
          0.5896492810131957,
          0.5452474658889909,
          0.5551847990058053,
          0.5413780187063725,
          0.5214873720989617,
          0.5226065884376598,
          0.5251436700496883,
          0.5072893541071719,
          0.48630402214596274,
          0.5163155883271817,
          0.5007675699762151,
          0.49246915111649076,
          0.5061617057583464,
          0.5194541163174112,
          0.5152329098161533,
          0.48021087010433,
          0.47975305815142766,
          0.4999707202609398,
          0.5160405548019563,
          0.4995172738990414,
          0.528273411187372,
          0.5529211241229812,
          0.5332089425657949,
          0.5179706373681394,
          0.50875763813955,
          0.473048216840462,
          0.4874892711895486,
          0.4796241798118404,
          0.463883957790143,
          0.4599427818706366,
          0.44367913022964106,
          0.4370112611014171,
          0.4281337928106826,
          0.4225980452173322,
          0.4145131062055529,
          0.4205567450101603,
          0.3568765072667986,
          0.3449726854277587,
          0.3568774192064696,
          0.34011291402291965,
          0.3532058517034175,
          0.31539568620256453,
          0.2693937148300311,
          0.24326150986745698,
          0.2471015479063562,
          0.23677079527147538,
          0.27208459503966087,
          0.28950930929583885,
          0.27141219781069564,
          0.27020247170216033,
          0.24201469232766892,
          0.23557212051167367,
          0.19722967101811542,
          0.17683625745975734,
          0.1444818994812049,
          0.1372003762340811,
          0.09076075057202483,
          0.10401908857459558,
          0.1146993076217862,
          0.12816759578398065,
          0.10191313336290957,
          0.10887739792395439,
          0.10029575647413841,
          0.09920230489176199,
          0.10226206710135767,
          0.11265726729512378,
          0.12436870828787097,
          0.15233265147666117,
          0.1782113137430783,
          0.19650627217509492,
          0.19414296990774102,
          0.20320677335507029,
          0.19520862698973065,
          0.20186431175845523,
          0.21336834734390855,
          0.19792033711537535,
          0.19399779194244532,
          0.19599205440276943,
          0.21293240586074333,
          0.21705031976854178,
          0.22279176356591662,
          0.2572383937812116,
          0.2545848985194766,
          0.2516582695715667,
          0.2401747759570802,
          0.21223796469858058,
          0.22453690997566608,
          0.19846535806889085,
          0.20640032685143805,
          0.2503632940178678,
          0.24962110479537983,
          0.24899633687548767,
          0.2434775693648061,
          0.23996362145645103,
          0.2724820912879344,
          0.29348116280901465,
          0.31075159711654227,
          0.30849061734961497,
          0.3138482505415011,
          0.3182847996837561,
          0.31691895618373817,
          0.324428241473787,
          0.3438109774654074,
          0.3454215437381132,
          0.3561036651581652,
          0.3684777137284111,
          0.3680549372586736,
          0.3663354571083991,
          0.37971683712514687,
          0.3949691882703931,
          0.3952952688492605,
          0.3937964292042377,
          0.38797495930544196,
          0.4049697220553846,
          0.40766147853975615,
          0.4096413885872333,
          0.41432529318325956,
          0.4227372800557276,
          0.4175894848633046,
          0.42371068171331644,
          0.42857458054084757,
          0.42404821238605833,
          0.42568451421055803,
          0.41590868739795717,
          0.4009118640095311,
          0.39634205857095095,
          0.3953113098351108,
          0.38303592581255574,
          0.3806975129840323,
          0.387965732772373,
          0.3953475197513114,
          0.40618788179023535,
          0.3960306380127089,
          0.4148352111857974,
          0.41075810709260213,
          0.40856155156220264,
          0.3988559316064503,
          0.3994879243180016,
          0.41021899525571004,
          0.40647367955938035,
          0.4118529180387338,
          0.4124195582441357,
          0.40178057347346924,
          0.40481728023934066,
          0.39629347675139487,
          0.3610515764404303,
          0.3496037704692315,
          0.33182283528710055,
          0.30587289349421254,
          0.2857376785858518,
          0.2668786204436093,
          0.3017952171260424,
          0.28855803250130213,
          0.2648939207862001,
          0.26069356592227805,
          0.24286443061098928,
          0.20532654585104096,
          0.22831652061152505,
          0.25713973212308283,
          0.2640602665103669,
          0.2512135570725351,
          0.22301794677459919,
          0.2562706741267229,
          0.23176524261239673,
          0.20656665487115622,
          0.23247688500758648,
          0.33272755678610655,
          0.3773764882903208,
          0.37649589076166085,
          0.41168938863231436,
          0.48157944370824374,
          0.4871056540807407,
          0.4468176704793292,
          0.4456665243389796,
          0.4471772655547464,
          0.4829459375121511,
          0.4870896174512472,
          0.5175973718817893,
          0.528276618735836,
          0.5144207969080801,
          0.4995196003244204,
          0.5126269217399441,
          0.49420396492230617,
          0.5009179251716795,
          0.4963174024029742,
          0.4687869760385056,
          0.5032945904903063,
          0.5179207854565607,
          0.5107782753100845,
          0.5062754910902733,
          0.5018192656673363,
          0.4863856431568799,
          0.4812094345921372,
          0.4736634542770376,
          0.4448938095500462,
          0.4136781184642836,
          0.4491539974720864,
          0.44132051444695847,
          0.4281682891239288,
          0.44124958898537425,
          0.45960052385173233,
          0.4545590235585098,
          0.43534370470313477,
          0.42035357722146804,
          0.4338126108614718,
          0.43203142513054893,
          0.4405889649060138,
          0.45600745608815774,
          0.47899741349062147,
          0.46745538896968225,
          0.48803790312930395,
          0.4927157261361364,
          0.4902752242758986,
          0.4856202266652471,
          0.48735744574683676,
          0.49616299869467,
          0.4866936546655787,
          0.4830892423143516,
          0.4791336783013391,
          0.4642386632622332,
          0.4689004852384787,
          0.4815786177338641,
          0.48107978974020116,
          0.4610384502480608,
          0.4568101299977437,
          0.4832366147110191,
          0.49053676876453106,
          0.4734206650960932,
          0.4751513632399952,
          0.47319292589116757,
          0.46260378343964415,
          0.4489808365228612,
          0.43770912227249076,
          0.4057568995825955,
          0.4038174102625996,
          0.3736571865137464,
          0.38525224223541454,
          0.37988318945542643,
          0.40144949094566273,
          0.38923074726083995,
          0.3831759796921541,
          0.34552128914994623,
          0.35886245781129367,
          0.3282240317462768,
          0.33196649682374935,
          0.333285271895423,
          0.31320174651438165,
          0.2969560479622542,
          0.29148667543446316,
          0.3156405710644374,
          0.3464644291670147,
          0.3393505486940718,
          0.32203759195599474,
          0.32772066851626397,
          0.34895885878450233,
          0.357077714301187,
          0.358899369763109,
          0.41027762870436835,
          0.4152093276378086,
          0.4024428625225271,
          0.3914302551306482,
          0.3737366175186198,
          0.3583094263227891,
          0.33038459318908153,
          0.3377545408870521,
          0.3427685556596222,
          0.3154156659668509,
          0.33541067253756307,
          0.32555642212438274,
          0.33189457605645456,
          0.33699557920955137,
          0.32017612353675523,
          0.31739992677328716,
          0.32296632847676804,
          0.3337237411913677,
          0.3183762171555235,
          0.32940186292203755,
          0.3252590194453199,
          0.2977039565105701,
          0.2935905445102192,
          0.29779866562573476,
          0.2831509658590111,
          0.25868825429675046,
          0.27824120177930245,
          0.2685197515156797,
          0.25775721017037195,
          0.24941391497695387,
          0.22535324341600557,
          0.22701973979402557,
          0.2208224166819837,
          0.19071320640428485,
          0.20749901205851495,
          0.20379471862479231,
          0.19701514038494033,
          0.2160668086722077,
          0.18861077204778737,
          0.17207105213112953,
          0.1261051779879755,
          0.15126208133292587,
          0.14067147039980954,
          0.1529685305534281,
          0.1373484787193342,
          0.1365234845113769,
          0.13224052836812397,
          0.14019726585369366,
          0.17048016686508133,
          0.17640003692306813,
          0.1877914871183131,
          0.21718288674483205,
          0.22856440111865614,
          0.2300025579518557,
          0.24279097766558538,
          0.22715839983810268,
          0.21366202462055758,
          0.21434842353484979,
          0.22669869211475613,
          0.2173711689057905,
          0.20633133457775144,
          0.2102935668916562,
          0.23913138080466345,
          0.24497591750332146,
          0.25017733420409777,
          0.25364699005780855,
          0.2615391729207408,
          0.2431671752211641,
          0.2388403482254053,
          0.24260133085277844
         ],
         "yaxis": "y"
        }
       ],
       "layout": {
        "legend": {
         "tracegroupgap": 0
        },
        "template": {
         "data": {
          "bar": [
           {
            "error_x": {
             "color": "#2a3f5f"
            },
            "error_y": {
             "color": "#2a3f5f"
            },
            "marker": {
             "line": {
              "color": "#E5ECF6",
              "width": 0.5
             },
             "pattern": {
              "fillmode": "overlay",
              "size": 10,
              "solidity": 0.2
             }
            },
            "type": "bar"
           }
          ],
          "barpolar": [
           {
            "marker": {
             "line": {
              "color": "#E5ECF6",
              "width": 0.5
             },
             "pattern": {
              "fillmode": "overlay",
              "size": 10,
              "solidity": 0.2
             }
            },
            "type": "barpolar"
           }
          ],
          "carpet": [
           {
            "aaxis": {
             "endlinecolor": "#2a3f5f",
             "gridcolor": "white",
             "linecolor": "white",
             "minorgridcolor": "white",
             "startlinecolor": "#2a3f5f"
            },
            "baxis": {
             "endlinecolor": "#2a3f5f",
             "gridcolor": "white",
             "linecolor": "white",
             "minorgridcolor": "white",
             "startlinecolor": "#2a3f5f"
            },
            "type": "carpet"
           }
          ],
          "choropleth": [
           {
            "colorbar": {
             "outlinewidth": 0,
             "ticks": ""
            },
            "type": "choropleth"
           }
          ],
          "contour": [
           {
            "colorbar": {
             "outlinewidth": 0,
             "ticks": ""
            },
            "colorscale": [
             [
              0,
              "#0d0887"
             ],
             [
              0.1111111111111111,
              "#46039f"
             ],
             [
              0.2222222222222222,
              "#7201a8"
             ],
             [
              0.3333333333333333,
              "#9c179e"
             ],
             [
              0.4444444444444444,
              "#bd3786"
             ],
             [
              0.5555555555555556,
              "#d8576b"
             ],
             [
              0.6666666666666666,
              "#ed7953"
             ],
             [
              0.7777777777777778,
              "#fb9f3a"
             ],
             [
              0.8888888888888888,
              "#fdca26"
             ],
             [
              1,
              "#f0f921"
             ]
            ],
            "type": "contour"
           }
          ],
          "contourcarpet": [
           {
            "colorbar": {
             "outlinewidth": 0,
             "ticks": ""
            },
            "type": "contourcarpet"
           }
          ],
          "heatmap": [
           {
            "colorbar": {
             "outlinewidth": 0,
             "ticks": ""
            },
            "colorscale": [
             [
              0,
              "#0d0887"
             ],
             [
              0.1111111111111111,
              "#46039f"
             ],
             [
              0.2222222222222222,
              "#7201a8"
             ],
             [
              0.3333333333333333,
              "#9c179e"
             ],
             [
              0.4444444444444444,
              "#bd3786"
             ],
             [
              0.5555555555555556,
              "#d8576b"
             ],
             [
              0.6666666666666666,
              "#ed7953"
             ],
             [
              0.7777777777777778,
              "#fb9f3a"
             ],
             [
              0.8888888888888888,
              "#fdca26"
             ],
             [
              1,
              "#f0f921"
             ]
            ],
            "type": "heatmap"
           }
          ],
          "heatmapgl": [
           {
            "colorbar": {
             "outlinewidth": 0,
             "ticks": ""
            },
            "colorscale": [
             [
              0,
              "#0d0887"
             ],
             [
              0.1111111111111111,
              "#46039f"
             ],
             [
              0.2222222222222222,
              "#7201a8"
             ],
             [
              0.3333333333333333,
              "#9c179e"
             ],
             [
              0.4444444444444444,
              "#bd3786"
             ],
             [
              0.5555555555555556,
              "#d8576b"
             ],
             [
              0.6666666666666666,
              "#ed7953"
             ],
             [
              0.7777777777777778,
              "#fb9f3a"
             ],
             [
              0.8888888888888888,
              "#fdca26"
             ],
             [
              1,
              "#f0f921"
             ]
            ],
            "type": "heatmapgl"
           }
          ],
          "histogram": [
           {
            "marker": {
             "pattern": {
              "fillmode": "overlay",
              "size": 10,
              "solidity": 0.2
             }
            },
            "type": "histogram"
           }
          ],
          "histogram2d": [
           {
            "colorbar": {
             "outlinewidth": 0,
             "ticks": ""
            },
            "colorscale": [
             [
              0,
              "#0d0887"
             ],
             [
              0.1111111111111111,
              "#46039f"
             ],
             [
              0.2222222222222222,
              "#7201a8"
             ],
             [
              0.3333333333333333,
              "#9c179e"
             ],
             [
              0.4444444444444444,
              "#bd3786"
             ],
             [
              0.5555555555555556,
              "#d8576b"
             ],
             [
              0.6666666666666666,
              "#ed7953"
             ],
             [
              0.7777777777777778,
              "#fb9f3a"
             ],
             [
              0.8888888888888888,
              "#fdca26"
             ],
             [
              1,
              "#f0f921"
             ]
            ],
            "type": "histogram2d"
           }
          ],
          "histogram2dcontour": [
           {
            "colorbar": {
             "outlinewidth": 0,
             "ticks": ""
            },
            "colorscale": [
             [
              0,
              "#0d0887"
             ],
             [
              0.1111111111111111,
              "#46039f"
             ],
             [
              0.2222222222222222,
              "#7201a8"
             ],
             [
              0.3333333333333333,
              "#9c179e"
             ],
             [
              0.4444444444444444,
              "#bd3786"
             ],
             [
              0.5555555555555556,
              "#d8576b"
             ],
             [
              0.6666666666666666,
              "#ed7953"
             ],
             [
              0.7777777777777778,
              "#fb9f3a"
             ],
             [
              0.8888888888888888,
              "#fdca26"
             ],
             [
              1,
              "#f0f921"
             ]
            ],
            "type": "histogram2dcontour"
           }
          ],
          "mesh3d": [
           {
            "colorbar": {
             "outlinewidth": 0,
             "ticks": ""
            },
            "type": "mesh3d"
           }
          ],
          "parcoords": [
           {
            "line": {
             "colorbar": {
              "outlinewidth": 0,
              "ticks": ""
             }
            },
            "type": "parcoords"
           }
          ],
          "pie": [
           {
            "automargin": true,
            "type": "pie"
           }
          ],
          "scatter": [
           {
            "fillpattern": {
             "fillmode": "overlay",
             "size": 10,
             "solidity": 0.2
            },
            "type": "scatter"
           }
          ],
          "scatter3d": [
           {
            "line": {
             "colorbar": {
              "outlinewidth": 0,
              "ticks": ""
             }
            },
            "marker": {
             "colorbar": {
              "outlinewidth": 0,
              "ticks": ""
             }
            },
            "type": "scatter3d"
           }
          ],
          "scattercarpet": [
           {
            "marker": {
             "colorbar": {
              "outlinewidth": 0,
              "ticks": ""
             }
            },
            "type": "scattercarpet"
           }
          ],
          "scattergeo": [
           {
            "marker": {
             "colorbar": {
              "outlinewidth": 0,
              "ticks": ""
             }
            },
            "type": "scattergeo"
           }
          ],
          "scattergl": [
           {
            "marker": {
             "colorbar": {
              "outlinewidth": 0,
              "ticks": ""
             }
            },
            "type": "scattergl"
           }
          ],
          "scattermapbox": [
           {
            "marker": {
             "colorbar": {
              "outlinewidth": 0,
              "ticks": ""
             }
            },
            "type": "scattermapbox"
           }
          ],
          "scatterpolar": [
           {
            "marker": {
             "colorbar": {
              "outlinewidth": 0,
              "ticks": ""
             }
            },
            "type": "scatterpolar"
           }
          ],
          "scatterpolargl": [
           {
            "marker": {
             "colorbar": {
              "outlinewidth": 0,
              "ticks": ""
             }
            },
            "type": "scatterpolargl"
           }
          ],
          "scatterternary": [
           {
            "marker": {
             "colorbar": {
              "outlinewidth": 0,
              "ticks": ""
             }
            },
            "type": "scatterternary"
           }
          ],
          "surface": [
           {
            "colorbar": {
             "outlinewidth": 0,
             "ticks": ""
            },
            "colorscale": [
             [
              0,
              "#0d0887"
             ],
             [
              0.1111111111111111,
              "#46039f"
             ],
             [
              0.2222222222222222,
              "#7201a8"
             ],
             [
              0.3333333333333333,
              "#9c179e"
             ],
             [
              0.4444444444444444,
              "#bd3786"
             ],
             [
              0.5555555555555556,
              "#d8576b"
             ],
             [
              0.6666666666666666,
              "#ed7953"
             ],
             [
              0.7777777777777778,
              "#fb9f3a"
             ],
             [
              0.8888888888888888,
              "#fdca26"
             ],
             [
              1,
              "#f0f921"
             ]
            ],
            "type": "surface"
           }
          ],
          "table": [
           {
            "cells": {
             "fill": {
              "color": "#EBF0F8"
             },
             "line": {
              "color": "white"
             }
            },
            "header": {
             "fill": {
              "color": "#C8D4E3"
             },
             "line": {
              "color": "white"
             }
            },
            "type": "table"
           }
          ]
         },
         "layout": {
          "annotationdefaults": {
           "arrowcolor": "#2a3f5f",
           "arrowhead": 0,
           "arrowwidth": 1
          },
          "autotypenumbers": "strict",
          "coloraxis": {
           "colorbar": {
            "outlinewidth": 0,
            "ticks": ""
           }
          },
          "colorscale": {
           "diverging": [
            [
             0,
             "#8e0152"
            ],
            [
             0.1,
             "#c51b7d"
            ],
            [
             0.2,
             "#de77ae"
            ],
            [
             0.3,
             "#f1b6da"
            ],
            [
             0.4,
             "#fde0ef"
            ],
            [
             0.5,
             "#f7f7f7"
            ],
            [
             0.6,
             "#e6f5d0"
            ],
            [
             0.7,
             "#b8e186"
            ],
            [
             0.8,
             "#7fbc41"
            ],
            [
             0.9,
             "#4d9221"
            ],
            [
             1,
             "#276419"
            ]
           ],
           "sequential": [
            [
             0,
             "#0d0887"
            ],
            [
             0.1111111111111111,
             "#46039f"
            ],
            [
             0.2222222222222222,
             "#7201a8"
            ],
            [
             0.3333333333333333,
             "#9c179e"
            ],
            [
             0.4444444444444444,
             "#bd3786"
            ],
            [
             0.5555555555555556,
             "#d8576b"
            ],
            [
             0.6666666666666666,
             "#ed7953"
            ],
            [
             0.7777777777777778,
             "#fb9f3a"
            ],
            [
             0.8888888888888888,
             "#fdca26"
            ],
            [
             1,
             "#f0f921"
            ]
           ],
           "sequentialminus": [
            [
             0,
             "#0d0887"
            ],
            [
             0.1111111111111111,
             "#46039f"
            ],
            [
             0.2222222222222222,
             "#7201a8"
            ],
            [
             0.3333333333333333,
             "#9c179e"
            ],
            [
             0.4444444444444444,
             "#bd3786"
            ],
            [
             0.5555555555555556,
             "#d8576b"
            ],
            [
             0.6666666666666666,
             "#ed7953"
            ],
            [
             0.7777777777777778,
             "#fb9f3a"
            ],
            [
             0.8888888888888888,
             "#fdca26"
            ],
            [
             1,
             "#f0f921"
            ]
           ]
          },
          "colorway": [
           "#636efa",
           "#EF553B",
           "#00cc96",
           "#ab63fa",
           "#FFA15A",
           "#19d3f3",
           "#FF6692",
           "#B6E880",
           "#FF97FF",
           "#FECB52"
          ],
          "font": {
           "color": "#2a3f5f"
          },
          "geo": {
           "bgcolor": "white",
           "lakecolor": "white",
           "landcolor": "#E5ECF6",
           "showlakes": true,
           "showland": true,
           "subunitcolor": "white"
          },
          "hoverlabel": {
           "align": "left"
          },
          "hovermode": "closest",
          "mapbox": {
           "style": "light"
          },
          "paper_bgcolor": "white",
          "plot_bgcolor": "#E5ECF6",
          "polar": {
           "angularaxis": {
            "gridcolor": "white",
            "linecolor": "white",
            "ticks": ""
           },
           "bgcolor": "#E5ECF6",
           "radialaxis": {
            "gridcolor": "white",
            "linecolor": "white",
            "ticks": ""
           }
          },
          "scene": {
           "xaxis": {
            "backgroundcolor": "#E5ECF6",
            "gridcolor": "white",
            "gridwidth": 2,
            "linecolor": "white",
            "showbackground": true,
            "ticks": "",
            "zerolinecolor": "white"
           },
           "yaxis": {
            "backgroundcolor": "#E5ECF6",
            "gridcolor": "white",
            "gridwidth": 2,
            "linecolor": "white",
            "showbackground": true,
            "ticks": "",
            "zerolinecolor": "white"
           },
           "zaxis": {
            "backgroundcolor": "#E5ECF6",
            "gridcolor": "white",
            "gridwidth": 2,
            "linecolor": "white",
            "showbackground": true,
            "ticks": "",
            "zerolinecolor": "white"
           }
          },
          "shapedefaults": {
           "line": {
            "color": "#2a3f5f"
           }
          },
          "ternary": {
           "aaxis": {
            "gridcolor": "white",
            "linecolor": "white",
            "ticks": ""
           },
           "baxis": {
            "gridcolor": "white",
            "linecolor": "white",
            "ticks": ""
           },
           "bgcolor": "#E5ECF6",
           "caxis": {
            "gridcolor": "white",
            "linecolor": "white",
            "ticks": ""
           }
          },
          "title": {
           "x": 0.05
          },
          "xaxis": {
           "automargin": true,
           "gridcolor": "white",
           "linecolor": "white",
           "ticks": "",
           "title": {
            "standoff": 15
           },
           "zerolinecolor": "white",
           "zerolinewidth": 2
          },
          "yaxis": {
           "automargin": true,
           "gridcolor": "white",
           "linecolor": "white",
           "ticks": "",
           "title": {
            "standoff": 15
           },
           "zerolinecolor": "white",
           "zerolinewidth": 2
          }
         }
        },
        "title": {
         "text": "High-minus-Low"
        },
        "xaxis": {
         "anchor": "y",
         "domain": [
          0,
          1
         ],
         "title": {
          "text": "date"
         }
        },
        "yaxis": {
         "anchor": "x",
         "domain": [
          0,
          1
         ],
         "title": {
          "text": "Cumulative returns"
         }
        }
       }
      }
     },
     "metadata": {},
     "output_type": "display_data"
    }
   ],
   "source": [
    "px.line(port_df, y='HML_cum_rets', x='date', labels={'HML_cum_rets': 'Cumulative returns'}, title = 'High-minus-Low').show()"
   ]
  },
  {
   "cell_type": "code",
   "execution_count": 152,
   "id": "9864498a",
   "metadata": {},
   "outputs": [
    {
     "data": {
      "application/vnd.plotly.v1+json": {
       "config": {
        "plotlyServerURL": "https://plot.ly"
       },
       "data": [
        {
         "alignmentgroup": "True",
         "bingroup": "x",
         "hovertemplate": "port=HML_rets<br>value=%{x}<br>count=%{y}<extra></extra>",
         "legendgroup": "HML_rets",
         "marker": {
          "color": "#636efa",
          "pattern": {
           "shape": ""
          }
         },
         "name": "HML_rets",
         "offsetgroup": "HML_rets",
         "orientation": "v",
         "showlegend": true,
         "type": "histogram",
         "x": [
          null,
          0.025491464686828842,
          -0.015846332153961692,
          -0.05143373278187022,
          -0.05657082267311905,
          -0.011601720898020335,
          -0.03290059008395535,
          -0.0402935787074893,
          -0.11182349831814253,
          -0.017902854616899666,
          -0.04414788134732373,
          -0.018905950995504447,
          0.04692619662922787,
          -0.019845242494554535,
          0.030968149634063837,
          0.00651985571715448,
          0.03411374859064615,
          -0.07196721451626291,
          -0.06362530254869099,
          -0.03912912937807204,
          -0.0831861628585617,
          -0.014872457760305005,
          -0.11011857334927658,
          0.09172073050886105,
          0.07257078660465406,
          0.05765936941038842,
          0.03772782807886283,
          -0.0027896939626830403,
          0.004334513835636291,
          0.0128830462723633,
          -0.03182991260243103,
          -0.03537231055268354,
          -0.03315107724476445,
          -0.008655910264937595,
          0.01822240142873217,
          0.03270083769541315,
          0.0711907214415378,
          -0.04018512457893227,
          0.026412785187595086,
          -0.04696893928091044,
          -0.018110631616629982,
          0.02172251452756471,
          -0.01613988276521334,
          -0.0456066278900588,
          0.03426853132341429,
          0.035377104957752356,
          0.0070168969249445705,
          0.03382803947962215,
          -0.015395593582262399,
          -0.01346339065042916,
          0.00845401561244198,
          0.016657250119451565,
          0.04713579988891792,
          0.028100110889003577,
          -0.04254898592453703,
          -0.04109819036998372,
          -0.030878033706720136,
          -0.01579148232913822,
          0.005818546701669003,
          0.05327738901747795,
          -0.003863429442436339,
          -0.030855973149900025,
          0.008195034138284544,
          0.025348951002323778,
          -0.0849407574044828,
          -0.07530207625778675,
          0.018225363231376395,
          -0.024868801026536207,
          -0.03674077247343669,
          0.002146200269803951,
          0.004854668249807313,
          -0.0339989167932407,
          -0.04136757807217011,
          0.06171358823804052,
          -0.030113400994420565,
          -0.016571398303844798,
          0.027803882965690162,
          0.02626119362220379,
          -0.008126235539692113,
          -0.06797321957621058,
          -0.0009533560804295517,
          0.04214180976232721,
          0.032141551274501565,
          -0.032019345668008944,
          0.057567853587667125,
          0.04665711431550165,
          -0.03565098292898995,
          -0.028578487683137643,
          -0.017786721029982654,
          -0.07018945490365908,
          0.030527658354871083,
          -0.01613387584616205,
          -0.032817824213684045,
          -0.008496038402107005,
          -0.03536016278992253,
          -0.015028584113868055,
          -0.020314049272689774,
          -0.012929947802084119,
          -0.01913151067137903,
          0.014580090988993936,
          -0.15141889530703706,
          -0.033355577059995964,
          0.03450920690706075,
          -0.046975527958105265,
          0.03849585576046523,
          -0.1070485251546786,
          -0.14585478934860396,
          -0.09700376632417632,
          0.015785637608643918,
          -0.04180772124825313,
          0.14914761648578997,
          0.06404153183916203,
          -0.0625096012600079,
          -0.004457154535770214,
          -0.104320953087218,
          -0.026620581395415947,
          -0.16276310375895353,
          -0.10339931843462315,
          -0.1829622411338089,
          -0.05039747728448858,
          -0.33848030841274396,
          0.14608008328500263,
          0.10267556843214877,
          0.11742257596362568,
          -0.20484477578343224,
          0.06833530018398387,
          -0.07881931065077286,
          -0.010902271649532586,
          0.030843660466701363,
          0.10165255297903217,
          0.10395637382244663,
          0.2248470983879905,
          0.16988256959724735,
          0.10265879336029082,
          -0.012026599666234122,
          0.04668623052195235,
          -0.039359644529979296,
          0.03409523888037339,
          0.05698895206012794,
          -0.07240066495727217,
          -0.019818808062374203,
          0.010279820405975387,
          0.08643386850346997,
          0.01933906626918744,
          0.026452132406427346,
          0.1546135712737127,
          -0.010315315776664058,
          -0.011495689512337672,
          -0.045631298482805435,
          -0.11631867312948799,
          0.05794884668514604,
          -0.11611254430107155,
          0.03998163135247436,
          0.21299853462961427,
          -0.0029644490235656643,
          -0.002502864973714075,
          -0.022164051005462256,
          -0.014432327041552158,
          0.13551416516434286,
          0.07706587769428994,
          0.058846823905923024,
          -0.0072758427886030555,
          0.017367248436649718,
          0.01413596900604136,
          -0.0042912621066888285,
          0.023694654874778905,
          0.0597442932328271,
          0.004684452732076683,
          0.030924884720423915,
          0.034748444851725784,
          -0.0011473596746452708,
          -0.004671802973440477,
          0.036527668171602065,
          0.04016769775267917,
          0.0008255848520621178,
          -0.003791696392891432,
          -0.014782942320120694,
          0.043803761924137756,
          0.006646809224921259,
          0.004856750396356441,
          0.011434158575089452,
          0.02030285626020739,
          -0.012177291749013417,
          0.01465840753153927,
          0.011479292445173893,
          -0.010561448019332086,
          0.0038587636422105064,
          -0.02296495758303626,
          -0.03605797099899615,
          -0.01139852882595542,
          -0.0026006544436807,
          -0.03105244832907833,
          -0.006104943873248503,
          0.01909184993453212,
          0.01902690458301219,
          0.02741983064859729,
          -0.025006269839364433,
          0.04748262222198346,
          -0.009828249828506538,
          -0.0053475646432081456,
          -0.02375558815713648,
          0.001584513759155956,
          0.026862065871022946,
          -0.009130039660876905,
          0.013233915871710442,
          0.0013758314693998307,
          -0.025796508817286845,
          0.0075581224338909375,
          -0.021055927955709403,
          -0.08892879236837078,
          -0.03170684389211507,
          -0.0508602500432582,
          -0.07820420728560032,
          -0.06582869988360603,
          -0.066001299638109,
          0.13083324780529157,
          -0.043861479153965086,
          -0.08200815451219576,
          -0.015856743150071108,
          -0.06839115974425031,
          -0.1545631225845297,
          0.11196786399534885,
          0.1262423386374207,
          0.02691351635993558,
          -0.048650672089386254,
          -0.1122376141897261,
          0.14910336963030038,
          -0.09562323741423691,
          -0.10872461917588969,
          0.12543278174587996,
          0.4312285575198092,
          0.13419066318248102,
          -0.00233347215839917,
          0.09347644618233711,
          0.16976404300366643,
          0.011475179110520442,
          -0.08270892210734535,
          -0.0025763218789326622,
          0.003389846742488857,
          0.07998767985897437,
          0.00858000785852317,
          0.06263273397240025,
          0.02063234365974652,
          -0.02622834578769128,
          -0.02896694043713465,
          0.026239854065808282,
          -0.03593833260864876,
          0.013585403448612324,
          -0.00918418474868641,
          -0.05546939565523405,
          0.07361043760944058,
          0.029060902387219412,
          -0.013790738558947593,
          -0.008815535893881945,
          -0.008801977384566732,
          -0.030755340749885732,
          -0.010642190281659095,
          -0.015681280899023542,
          -0.060738578134348825,
          -0.07016436375532693,
          0.0857572045132616,
          -0.017440528347106125,
          -0.029801980403089515,
          0.030551771800314848,
          0.041588559682412145,
          -0.010969309284009687,
          -0.04227243957219931,
          -0.03443285688922193,
          0.03201836351427719,
          -0.004105887395448954,
          0.01980767897353522,
          0.03499518238145845,
          0.05041574889955129,
          -0.024096214709863388,
          0.044030969896373735,
          0.00958495841580792,
          -0.004953164128484658,
          -0.00949466214109946,
          0.0035773202725083164,
          0.018067956126820564,
          -0.01908514753015389,
          -0.007405916055560277,
          -0.008188060644990593,
          -0.031087388997393946,
          0.010041864982736647,
          0.027038002506944242,
          -0.001035818400763451,
          -0.041659075936163074,
          -0.00917129633773954,
          0.05785004092051535,
          0.01510678998916001,
          -0.03489260083713304,
          0.0036557300335647094,
          -0.0041217125748588095,
          -0.022378065841920286,
          -0.029448412236257226,
          -0.0251051121416771,
          -0.072998758910955,
          -0.004779929366551752,
          -0.07468777467826411,
          0.0310312664660648,
          -0.01393646082066735,
          0.05677087612419025,
          -0.030436565397156293,
          -0.015555727833156778,
          -0.0982699661196401,
          0.038611712448079295,
          -0.08537651514700363,
          0.011402166555450705,
          0.003972614960520662,
          -0.06025926458383407,
          -0.051869757218552,
          -0.018418121352713746,
          0.0828644931847146,
          0.09765493072905597,
          -0.020532787420764864,
          -0.05101791290658805,
          0.017647245856458375,
          0.064805770000388,
          0.023265938984797143,
          0.00510156581876578,
          0.14315505478644752,
          0.012020394455857286,
          -0.030747057605646687,
          -0.02736439981281179,
          -0.045202529390894454,
          -0.04127824374892062,
          -0.07793496649052986,
          0.022307177301553835,
          0.014845143930268792,
          -0.0797998802431966,
          0.06339256012988767,
          -0.029379656701522434,
          0.019468680392519658,
          0.01536934774200443,
          -0.0499100187374786,
          -0.008670842575022306,
          0.017537501536529623,
          0.03330815557564683,
          -0.045988709047353735,
          0.034630871190759034,
          -0.012576867173632787,
          -0.08471729079716465,
          -0.013817122380786506,
          0.014333299195775237,
          -0.04918658629965958,
          -0.08639458985437938,
          0.07558498369285095,
          -0.034938931407195714,
          -0.04008100441236724,
          -0.03236881400098704,
          -0.09646884201778208,
          0.007395040571675365,
          -0.027298609000541832,
          -0.13635033403814464,
          0.08801595846826983,
          -0.017852101544840144,
          -0.033266702324773745,
          0.09670154410489992,
          -0.1270719773811884,
          -0.08769233982281377,
          -0.26713310329575357,
          0.19949143838763825,
          -0.07001497559594283,
          0.08741687364657855,
          -0.10211284489418698,
          -0.006006576961388246,
          -0.03137157067578394,
          0.06016867584966196,
          0.21600207983364064,
          0.034724684793814346,
          0.06457736854223564,
          0.15651081993936006,
          0.05240520809172324,
          0.006292129597438759,
          0.055601206471827945,
          -0.06438698001790934,
          -0.059413938587188686,
          0.0032125452125204915,
          0.057617725272881976,
          -0.04114502435789957,
          -0.05078794204222987,
          0.01920325054850898,
          0.13713122250603385,
          0.024440693141115445,
          0.021232359302035334,
          0.01386878577449447,
          0.031114829555570853,
          -0.07024568248957606,
          -0.01779363103520648,
          0.015746847864347
         ],
         "xaxis": "x",
         "yaxis": "y"
        }
       ],
       "layout": {
        "barmode": "relative",
        "legend": {
         "title": {
          "text": "port"
         },
         "tracegroupgap": 0
        },
        "margin": {
         "t": 60
        },
        "template": {
         "data": {
          "bar": [
           {
            "error_x": {
             "color": "#2a3f5f"
            },
            "error_y": {
             "color": "#2a3f5f"
            },
            "marker": {
             "line": {
              "color": "#E5ECF6",
              "width": 0.5
             },
             "pattern": {
              "fillmode": "overlay",
              "size": 10,
              "solidity": 0.2
             }
            },
            "type": "bar"
           }
          ],
          "barpolar": [
           {
            "marker": {
             "line": {
              "color": "#E5ECF6",
              "width": 0.5
             },
             "pattern": {
              "fillmode": "overlay",
              "size": 10,
              "solidity": 0.2
             }
            },
            "type": "barpolar"
           }
          ],
          "carpet": [
           {
            "aaxis": {
             "endlinecolor": "#2a3f5f",
             "gridcolor": "white",
             "linecolor": "white",
             "minorgridcolor": "white",
             "startlinecolor": "#2a3f5f"
            },
            "baxis": {
             "endlinecolor": "#2a3f5f",
             "gridcolor": "white",
             "linecolor": "white",
             "minorgridcolor": "white",
             "startlinecolor": "#2a3f5f"
            },
            "type": "carpet"
           }
          ],
          "choropleth": [
           {
            "colorbar": {
             "outlinewidth": 0,
             "ticks": ""
            },
            "type": "choropleth"
           }
          ],
          "contour": [
           {
            "colorbar": {
             "outlinewidth": 0,
             "ticks": ""
            },
            "colorscale": [
             [
              0,
              "#0d0887"
             ],
             [
              0.1111111111111111,
              "#46039f"
             ],
             [
              0.2222222222222222,
              "#7201a8"
             ],
             [
              0.3333333333333333,
              "#9c179e"
             ],
             [
              0.4444444444444444,
              "#bd3786"
             ],
             [
              0.5555555555555556,
              "#d8576b"
             ],
             [
              0.6666666666666666,
              "#ed7953"
             ],
             [
              0.7777777777777778,
              "#fb9f3a"
             ],
             [
              0.8888888888888888,
              "#fdca26"
             ],
             [
              1,
              "#f0f921"
             ]
            ],
            "type": "contour"
           }
          ],
          "contourcarpet": [
           {
            "colorbar": {
             "outlinewidth": 0,
             "ticks": ""
            },
            "type": "contourcarpet"
           }
          ],
          "heatmap": [
           {
            "colorbar": {
             "outlinewidth": 0,
             "ticks": ""
            },
            "colorscale": [
             [
              0,
              "#0d0887"
             ],
             [
              0.1111111111111111,
              "#46039f"
             ],
             [
              0.2222222222222222,
              "#7201a8"
             ],
             [
              0.3333333333333333,
              "#9c179e"
             ],
             [
              0.4444444444444444,
              "#bd3786"
             ],
             [
              0.5555555555555556,
              "#d8576b"
             ],
             [
              0.6666666666666666,
              "#ed7953"
             ],
             [
              0.7777777777777778,
              "#fb9f3a"
             ],
             [
              0.8888888888888888,
              "#fdca26"
             ],
             [
              1,
              "#f0f921"
             ]
            ],
            "type": "heatmap"
           }
          ],
          "heatmapgl": [
           {
            "colorbar": {
             "outlinewidth": 0,
             "ticks": ""
            },
            "colorscale": [
             [
              0,
              "#0d0887"
             ],
             [
              0.1111111111111111,
              "#46039f"
             ],
             [
              0.2222222222222222,
              "#7201a8"
             ],
             [
              0.3333333333333333,
              "#9c179e"
             ],
             [
              0.4444444444444444,
              "#bd3786"
             ],
             [
              0.5555555555555556,
              "#d8576b"
             ],
             [
              0.6666666666666666,
              "#ed7953"
             ],
             [
              0.7777777777777778,
              "#fb9f3a"
             ],
             [
              0.8888888888888888,
              "#fdca26"
             ],
             [
              1,
              "#f0f921"
             ]
            ],
            "type": "heatmapgl"
           }
          ],
          "histogram": [
           {
            "marker": {
             "pattern": {
              "fillmode": "overlay",
              "size": 10,
              "solidity": 0.2
             }
            },
            "type": "histogram"
           }
          ],
          "histogram2d": [
           {
            "colorbar": {
             "outlinewidth": 0,
             "ticks": ""
            },
            "colorscale": [
             [
              0,
              "#0d0887"
             ],
             [
              0.1111111111111111,
              "#46039f"
             ],
             [
              0.2222222222222222,
              "#7201a8"
             ],
             [
              0.3333333333333333,
              "#9c179e"
             ],
             [
              0.4444444444444444,
              "#bd3786"
             ],
             [
              0.5555555555555556,
              "#d8576b"
             ],
             [
              0.6666666666666666,
              "#ed7953"
             ],
             [
              0.7777777777777778,
              "#fb9f3a"
             ],
             [
              0.8888888888888888,
              "#fdca26"
             ],
             [
              1,
              "#f0f921"
             ]
            ],
            "type": "histogram2d"
           }
          ],
          "histogram2dcontour": [
           {
            "colorbar": {
             "outlinewidth": 0,
             "ticks": ""
            },
            "colorscale": [
             [
              0,
              "#0d0887"
             ],
             [
              0.1111111111111111,
              "#46039f"
             ],
             [
              0.2222222222222222,
              "#7201a8"
             ],
             [
              0.3333333333333333,
              "#9c179e"
             ],
             [
              0.4444444444444444,
              "#bd3786"
             ],
             [
              0.5555555555555556,
              "#d8576b"
             ],
             [
              0.6666666666666666,
              "#ed7953"
             ],
             [
              0.7777777777777778,
              "#fb9f3a"
             ],
             [
              0.8888888888888888,
              "#fdca26"
             ],
             [
              1,
              "#f0f921"
             ]
            ],
            "type": "histogram2dcontour"
           }
          ],
          "mesh3d": [
           {
            "colorbar": {
             "outlinewidth": 0,
             "ticks": ""
            },
            "type": "mesh3d"
           }
          ],
          "parcoords": [
           {
            "line": {
             "colorbar": {
              "outlinewidth": 0,
              "ticks": ""
             }
            },
            "type": "parcoords"
           }
          ],
          "pie": [
           {
            "automargin": true,
            "type": "pie"
           }
          ],
          "scatter": [
           {
            "fillpattern": {
             "fillmode": "overlay",
             "size": 10,
             "solidity": 0.2
            },
            "type": "scatter"
           }
          ],
          "scatter3d": [
           {
            "line": {
             "colorbar": {
              "outlinewidth": 0,
              "ticks": ""
             }
            },
            "marker": {
             "colorbar": {
              "outlinewidth": 0,
              "ticks": ""
             }
            },
            "type": "scatter3d"
           }
          ],
          "scattercarpet": [
           {
            "marker": {
             "colorbar": {
              "outlinewidth": 0,
              "ticks": ""
             }
            },
            "type": "scattercarpet"
           }
          ],
          "scattergeo": [
           {
            "marker": {
             "colorbar": {
              "outlinewidth": 0,
              "ticks": ""
             }
            },
            "type": "scattergeo"
           }
          ],
          "scattergl": [
           {
            "marker": {
             "colorbar": {
              "outlinewidth": 0,
              "ticks": ""
             }
            },
            "type": "scattergl"
           }
          ],
          "scattermapbox": [
           {
            "marker": {
             "colorbar": {
              "outlinewidth": 0,
              "ticks": ""
             }
            },
            "type": "scattermapbox"
           }
          ],
          "scatterpolar": [
           {
            "marker": {
             "colorbar": {
              "outlinewidth": 0,
              "ticks": ""
             }
            },
            "type": "scatterpolar"
           }
          ],
          "scatterpolargl": [
           {
            "marker": {
             "colorbar": {
              "outlinewidth": 0,
              "ticks": ""
             }
            },
            "type": "scatterpolargl"
           }
          ],
          "scatterternary": [
           {
            "marker": {
             "colorbar": {
              "outlinewidth": 0,
              "ticks": ""
             }
            },
            "type": "scatterternary"
           }
          ],
          "surface": [
           {
            "colorbar": {
             "outlinewidth": 0,
             "ticks": ""
            },
            "colorscale": [
             [
              0,
              "#0d0887"
             ],
             [
              0.1111111111111111,
              "#46039f"
             ],
             [
              0.2222222222222222,
              "#7201a8"
             ],
             [
              0.3333333333333333,
              "#9c179e"
             ],
             [
              0.4444444444444444,
              "#bd3786"
             ],
             [
              0.5555555555555556,
              "#d8576b"
             ],
             [
              0.6666666666666666,
              "#ed7953"
             ],
             [
              0.7777777777777778,
              "#fb9f3a"
             ],
             [
              0.8888888888888888,
              "#fdca26"
             ],
             [
              1,
              "#f0f921"
             ]
            ],
            "type": "surface"
           }
          ],
          "table": [
           {
            "cells": {
             "fill": {
              "color": "#EBF0F8"
             },
             "line": {
              "color": "white"
             }
            },
            "header": {
             "fill": {
              "color": "#C8D4E3"
             },
             "line": {
              "color": "white"
             }
            },
            "type": "table"
           }
          ]
         },
         "layout": {
          "annotationdefaults": {
           "arrowcolor": "#2a3f5f",
           "arrowhead": 0,
           "arrowwidth": 1
          },
          "autotypenumbers": "strict",
          "coloraxis": {
           "colorbar": {
            "outlinewidth": 0,
            "ticks": ""
           }
          },
          "colorscale": {
           "diverging": [
            [
             0,
             "#8e0152"
            ],
            [
             0.1,
             "#c51b7d"
            ],
            [
             0.2,
             "#de77ae"
            ],
            [
             0.3,
             "#f1b6da"
            ],
            [
             0.4,
             "#fde0ef"
            ],
            [
             0.5,
             "#f7f7f7"
            ],
            [
             0.6,
             "#e6f5d0"
            ],
            [
             0.7,
             "#b8e186"
            ],
            [
             0.8,
             "#7fbc41"
            ],
            [
             0.9,
             "#4d9221"
            ],
            [
             1,
             "#276419"
            ]
           ],
           "sequential": [
            [
             0,
             "#0d0887"
            ],
            [
             0.1111111111111111,
             "#46039f"
            ],
            [
             0.2222222222222222,
             "#7201a8"
            ],
            [
             0.3333333333333333,
             "#9c179e"
            ],
            [
             0.4444444444444444,
             "#bd3786"
            ],
            [
             0.5555555555555556,
             "#d8576b"
            ],
            [
             0.6666666666666666,
             "#ed7953"
            ],
            [
             0.7777777777777778,
             "#fb9f3a"
            ],
            [
             0.8888888888888888,
             "#fdca26"
            ],
            [
             1,
             "#f0f921"
            ]
           ],
           "sequentialminus": [
            [
             0,
             "#0d0887"
            ],
            [
             0.1111111111111111,
             "#46039f"
            ],
            [
             0.2222222222222222,
             "#7201a8"
            ],
            [
             0.3333333333333333,
             "#9c179e"
            ],
            [
             0.4444444444444444,
             "#bd3786"
            ],
            [
             0.5555555555555556,
             "#d8576b"
            ],
            [
             0.6666666666666666,
             "#ed7953"
            ],
            [
             0.7777777777777778,
             "#fb9f3a"
            ],
            [
             0.8888888888888888,
             "#fdca26"
            ],
            [
             1,
             "#f0f921"
            ]
           ]
          },
          "colorway": [
           "#636efa",
           "#EF553B",
           "#00cc96",
           "#ab63fa",
           "#FFA15A",
           "#19d3f3",
           "#FF6692",
           "#B6E880",
           "#FF97FF",
           "#FECB52"
          ],
          "font": {
           "color": "#2a3f5f"
          },
          "geo": {
           "bgcolor": "white",
           "lakecolor": "white",
           "landcolor": "#E5ECF6",
           "showlakes": true,
           "showland": true,
           "subunitcolor": "white"
          },
          "hoverlabel": {
           "align": "left"
          },
          "hovermode": "closest",
          "mapbox": {
           "style": "light"
          },
          "paper_bgcolor": "white",
          "plot_bgcolor": "#E5ECF6",
          "polar": {
           "angularaxis": {
            "gridcolor": "white",
            "linecolor": "white",
            "ticks": ""
           },
           "bgcolor": "#E5ECF6",
           "radialaxis": {
            "gridcolor": "white",
            "linecolor": "white",
            "ticks": ""
           }
          },
          "scene": {
           "xaxis": {
            "backgroundcolor": "#E5ECF6",
            "gridcolor": "white",
            "gridwidth": 2,
            "linecolor": "white",
            "showbackground": true,
            "ticks": "",
            "zerolinecolor": "white"
           },
           "yaxis": {
            "backgroundcolor": "#E5ECF6",
            "gridcolor": "white",
            "gridwidth": 2,
            "linecolor": "white",
            "showbackground": true,
            "ticks": "",
            "zerolinecolor": "white"
           },
           "zaxis": {
            "backgroundcolor": "#E5ECF6",
            "gridcolor": "white",
            "gridwidth": 2,
            "linecolor": "white",
            "showbackground": true,
            "ticks": "",
            "zerolinecolor": "white"
           }
          },
          "shapedefaults": {
           "line": {
            "color": "#2a3f5f"
           }
          },
          "ternary": {
           "aaxis": {
            "gridcolor": "white",
            "linecolor": "white",
            "ticks": ""
           },
           "baxis": {
            "gridcolor": "white",
            "linecolor": "white",
            "ticks": ""
           },
           "bgcolor": "#E5ECF6",
           "caxis": {
            "gridcolor": "white",
            "linecolor": "white",
            "ticks": ""
           }
          },
          "title": {
           "x": 0.05
          },
          "xaxis": {
           "automargin": true,
           "gridcolor": "white",
           "linecolor": "white",
           "ticks": "",
           "title": {
            "standoff": 15
           },
           "zerolinecolor": "white",
           "zerolinewidth": 2
          },
          "yaxis": {
           "automargin": true,
           "gridcolor": "white",
           "linecolor": "white",
           "ticks": "",
           "title": {
            "standoff": 15
           },
           "zerolinecolor": "white",
           "zerolinewidth": 2
          }
         }
        },
        "xaxis": {
         "anchor": "y",
         "domain": [
          0,
          1
         ],
         "title": {
          "text": "value"
         }
        },
        "yaxis": {
         "anchor": "x",
         "domain": [
          0,
          1
         ],
         "title": {
          "text": "count"
         }
        }
       }
      }
     },
     "metadata": {},
     "output_type": "display_data"
    }
   ],
   "source": [
    "px.histogram(port_df[['HML_rets']]).show()"
   ]
  },
  {
   "cell_type": "code",
   "execution_count": 153,
   "id": "fbf0f243",
   "metadata": {},
   "outputs": [],
   "source": [
    "port_df[\"date\"]= pd.to_datetime(port_df.date)"
   ]
  },
  {
   "cell_type": "code",
   "execution_count": 154,
   "id": "236e8f38",
   "metadata": {},
   "outputs": [
    {
     "name": "stderr",
     "output_type": "stream",
     "text": [
      "/Library/Frameworks/Python.framework/Versions/3.9/lib/python3.9/site-packages/_plotly_utils/basevalidators.py:105: FutureWarning:\n",
      "\n",
      "The behavior of DatetimeProperties.to_pydatetime is deprecated, in a future version this will return a Series containing python datetime objects instead of an ndarray. To retain the old behavior, call `np.array` on the result\n",
      "\n"
     ]
    },
    {
     "data": {
      "application/vnd.plotly.v1+json": {
       "config": {
        "plotlyServerURL": "https://plot.ly"
       },
       "data": [
        {
         "alignmentgroup": "True",
         "hovertemplate": "date=%{x}<br>HML_rets=%{y}<extra></extra>",
         "legendgroup": "",
         "marker": {
          "color": [
           "red",
           "green",
           "red",
           "red",
           "red",
           "red",
           "red",
           "red",
           "red",
           "red",
           "red",
           "red",
           "green",
           "red",
           "green",
           "green",
           "green",
           "red",
           "red",
           "red",
           "red",
           "red",
           "red",
           "green",
           "green",
           "green",
           "green",
           "red",
           "green",
           "green",
           "red",
           "red",
           "red",
           "red",
           "green",
           "green",
           "green",
           "red",
           "green",
           "red",
           "red",
           "green",
           "red",
           "red",
           "green",
           "green",
           "green",
           "green",
           "red",
           "red",
           "green",
           "green",
           "green",
           "green",
           "red",
           "red",
           "red",
           "red",
           "green",
           "green",
           "red",
           "red",
           "green",
           "green",
           "red",
           "red",
           "green",
           "red",
           "red",
           "green",
           "green",
           "red",
           "red",
           "green",
           "red",
           "red",
           "green",
           "green",
           "red",
           "red",
           "red",
           "green",
           "green",
           "red",
           "green",
           "green",
           "red",
           "red",
           "red",
           "red",
           "green",
           "red",
           "red",
           "red",
           "red",
           "red",
           "red",
           "red",
           "red",
           "green",
           "red",
           "red",
           "green",
           "red",
           "green",
           "red",
           "red",
           "red",
           "green",
           "red",
           "green",
           "green",
           "red",
           "red",
           "red",
           "red",
           "red",
           "red",
           "red",
           "red",
           "red",
           "green",
           "green",
           "green",
           "red",
           "green",
           "red",
           "red",
           "green",
           "green",
           "green",
           "green",
           "green",
           "green",
           "red",
           "green",
           "red",
           "green",
           "green",
           "red",
           "red",
           "green",
           "green",
           "green",
           "green",
           "green",
           "red",
           "red",
           "red",
           "red",
           "green",
           "red",
           "green",
           "green",
           "red",
           "red",
           "red",
           "red",
           "green",
           "green",
           "green",
           "red",
           "green",
           "green",
           "red",
           "green",
           "green",
           "green",
           "green",
           "green",
           "red",
           "red",
           "green",
           "green",
           "green",
           "red",
           "red",
           "green",
           "green",
           "green",
           "green",
           "green",
           "red",
           "green",
           "green",
           "red",
           "green",
           "red",
           "red",
           "red",
           "red",
           "red",
           "red",
           "green",
           "green",
           "green",
           "red",
           "green",
           "red",
           "red",
           "red",
           "green",
           "green",
           "red",
           "green",
           "green",
           "red",
           "green",
           "red",
           "red",
           "red",
           "red",
           "red",
           "red",
           "red",
           "green",
           "red",
           "red",
           "red",
           "red",
           "red",
           "green",
           "green",
           "green",
           "red",
           "red",
           "green",
           "red",
           "red",
           "green",
           "green",
           "green",
           "red",
           "green",
           "green",
           "green",
           "red",
           "red",
           "green",
           "green",
           "green",
           "green",
           "green",
           "red",
           "red",
           "green",
           "red",
           "green",
           "red",
           "red",
           "green",
           "green",
           "red",
           "red",
           "red",
           "red",
           "red",
           "red",
           "red",
           "red",
           "green",
           "red",
           "red",
           "green",
           "green",
           "red",
           "red",
           "red",
           "green",
           "red",
           "green",
           "green",
           "green",
           "red",
           "green",
           "green",
           "red",
           "red",
           "green",
           "green",
           "red",
           "red",
           "red",
           "red",
           "green",
           "green",
           "red",
           "red",
           "red",
           "green",
           "green",
           "red",
           "green",
           "red",
           "red",
           "red",
           "red",
           "red",
           "red",
           "red",
           "green",
           "red",
           "green",
           "red",
           "red",
           "red",
           "green",
           "red",
           "green",
           "green",
           "red",
           "red",
           "red",
           "green",
           "green",
           "red",
           "red",
           "green",
           "green",
           "green",
           "green",
           "green",
           "green",
           "red",
           "red",
           "red",
           "red",
           "red",
           "green",
           "green",
           "red",
           "green",
           "red",
           "green",
           "green",
           "red",
           "red",
           "green",
           "green",
           "red",
           "green",
           "red",
           "red",
           "red",
           "green",
           "red",
           "red",
           "green",
           "red",
           "red",
           "red",
           "red",
           "green",
           "red",
           "red",
           "green",
           "red",
           "red",
           "green",
           "red",
           "red",
           "red",
           "green",
           "red",
           "green",
           "red",
           "red",
           "red",
           "green",
           "green",
           "green",
           "green",
           "green",
           "green",
           "green",
           "green",
           "red",
           "red",
           "green",
           "green",
           "red",
           "red",
           "green",
           "green",
           "green",
           "green",
           "green",
           "green",
           "red",
           "red",
           "green"
          ],
          "pattern": {
           "shape": ""
          }
         },
         "name": "",
         "offsetgroup": "",
         "orientation": "v",
         "showlegend": false,
         "textposition": "auto",
         "type": "bar",
         "x": [
          "1990-02-28T00:00:00",
          "1990-03-31T00:00:00",
          "1990-04-30T00:00:00",
          "1990-05-31T00:00:00",
          "1990-06-30T00:00:00",
          "1990-07-31T00:00:00",
          "1990-08-31T00:00:00",
          "1990-09-30T00:00:00",
          "1990-10-31T00:00:00",
          "1990-11-30T00:00:00",
          "1990-12-31T00:00:00",
          "1991-01-31T00:00:00",
          "1991-02-28T00:00:00",
          "1991-03-31T00:00:00",
          "1991-04-30T00:00:00",
          "1991-05-31T00:00:00",
          "1991-06-30T00:00:00",
          "1991-07-31T00:00:00",
          "1991-08-31T00:00:00",
          "1991-09-30T00:00:00",
          "1991-10-31T00:00:00",
          "1991-11-30T00:00:00",
          "1991-12-31T00:00:00",
          "1992-01-31T00:00:00",
          "1992-02-29T00:00:00",
          "1992-03-31T00:00:00",
          "1992-04-30T00:00:00",
          "1992-05-31T00:00:00",
          "1992-06-30T00:00:00",
          "1992-07-31T00:00:00",
          "1992-08-31T00:00:00",
          "1992-09-30T00:00:00",
          "1992-10-31T00:00:00",
          "1992-11-30T00:00:00",
          "1992-12-31T00:00:00",
          "1993-01-31T00:00:00",
          "1993-02-28T00:00:00",
          "1993-03-31T00:00:00",
          "1993-04-30T00:00:00",
          "1993-05-31T00:00:00",
          "1993-06-30T00:00:00",
          "1993-07-31T00:00:00",
          "1993-08-31T00:00:00",
          "1993-09-30T00:00:00",
          "1993-10-31T00:00:00",
          "1993-11-30T00:00:00",
          "1993-12-31T00:00:00",
          "1994-01-31T00:00:00",
          "1994-02-28T00:00:00",
          "1994-03-31T00:00:00",
          "1994-04-30T00:00:00",
          "1994-05-31T00:00:00",
          "1994-06-30T00:00:00",
          "1994-07-31T00:00:00",
          "1994-08-31T00:00:00",
          "1994-09-30T00:00:00",
          "1994-10-31T00:00:00",
          "1994-11-30T00:00:00",
          "1994-12-31T00:00:00",
          "1995-01-31T00:00:00",
          "1995-02-28T00:00:00",
          "1995-03-31T00:00:00",
          "1995-04-30T00:00:00",
          "1995-05-31T00:00:00",
          "1995-06-30T00:00:00",
          "1995-07-31T00:00:00",
          "1995-08-31T00:00:00",
          "1995-09-30T00:00:00",
          "1995-10-31T00:00:00",
          "1995-11-30T00:00:00",
          "1995-12-31T00:00:00",
          "1996-01-31T00:00:00",
          "1996-02-29T00:00:00",
          "1996-03-31T00:00:00",
          "1996-04-30T00:00:00",
          "1996-05-31T00:00:00",
          "1996-06-30T00:00:00",
          "1996-07-31T00:00:00",
          "1996-08-31T00:00:00",
          "1996-09-30T00:00:00",
          "1996-10-31T00:00:00",
          "1996-11-30T00:00:00",
          "1996-12-31T00:00:00",
          "1997-01-31T00:00:00",
          "1997-02-28T00:00:00",
          "1997-03-31T00:00:00",
          "1997-04-30T00:00:00",
          "1997-05-31T00:00:00",
          "1997-06-30T00:00:00",
          "1997-07-31T00:00:00",
          "1997-08-31T00:00:00",
          "1997-09-30T00:00:00",
          "1997-10-31T00:00:00",
          "1997-11-30T00:00:00",
          "1997-12-31T00:00:00",
          "1998-01-31T00:00:00",
          "1998-02-28T00:00:00",
          "1998-03-31T00:00:00",
          "1998-04-30T00:00:00",
          "1998-05-31T00:00:00",
          "1998-06-30T00:00:00",
          "1998-07-31T00:00:00",
          "1998-08-31T00:00:00",
          "1998-09-30T00:00:00",
          "1998-10-31T00:00:00",
          "1998-11-30T00:00:00",
          "1998-12-31T00:00:00",
          "1999-01-31T00:00:00",
          "1999-02-28T00:00:00",
          "1999-03-31T00:00:00",
          "1999-04-30T00:00:00",
          "1999-05-31T00:00:00",
          "1999-06-30T00:00:00",
          "1999-07-31T00:00:00",
          "1999-08-31T00:00:00",
          "1999-09-30T00:00:00",
          "1999-10-31T00:00:00",
          "1999-11-30T00:00:00",
          "1999-12-31T00:00:00",
          "2000-01-31T00:00:00",
          "2000-02-29T00:00:00",
          "2000-03-31T00:00:00",
          "2000-04-30T00:00:00",
          "2000-05-31T00:00:00",
          "2000-06-30T00:00:00",
          "2000-07-31T00:00:00",
          "2000-08-31T00:00:00",
          "2000-09-30T00:00:00",
          "2000-10-31T00:00:00",
          "2000-11-30T00:00:00",
          "2000-12-31T00:00:00",
          "2001-01-31T00:00:00",
          "2001-02-28T00:00:00",
          "2001-03-31T00:00:00",
          "2001-04-30T00:00:00",
          "2001-05-31T00:00:00",
          "2001-06-30T00:00:00",
          "2001-07-31T00:00:00",
          "2001-08-31T00:00:00",
          "2001-09-30T00:00:00",
          "2001-10-31T00:00:00",
          "2001-11-30T00:00:00",
          "2001-12-31T00:00:00",
          "2002-01-31T00:00:00",
          "2002-02-28T00:00:00",
          "2002-03-31T00:00:00",
          "2002-04-30T00:00:00",
          "2002-05-31T00:00:00",
          "2002-06-30T00:00:00",
          "2002-07-31T00:00:00",
          "2002-08-31T00:00:00",
          "2002-09-30T00:00:00",
          "2002-10-31T00:00:00",
          "2002-11-30T00:00:00",
          "2002-12-31T00:00:00",
          "2003-01-31T00:00:00",
          "2003-02-28T00:00:00",
          "2003-03-31T00:00:00",
          "2003-04-30T00:00:00",
          "2003-05-31T00:00:00",
          "2003-06-30T00:00:00",
          "2003-07-31T00:00:00",
          "2003-08-31T00:00:00",
          "2003-09-30T00:00:00",
          "2003-10-31T00:00:00",
          "2003-11-30T00:00:00",
          "2003-12-31T00:00:00",
          "2004-01-31T00:00:00",
          "2004-02-29T00:00:00",
          "2004-03-31T00:00:00",
          "2004-04-30T00:00:00",
          "2004-05-31T00:00:00",
          "2004-06-30T00:00:00",
          "2004-07-31T00:00:00",
          "2004-08-31T00:00:00",
          "2004-09-30T00:00:00",
          "2004-10-31T00:00:00",
          "2004-11-30T00:00:00",
          "2004-12-31T00:00:00",
          "2005-01-31T00:00:00",
          "2005-02-28T00:00:00",
          "2005-03-31T00:00:00",
          "2005-04-30T00:00:00",
          "2005-05-31T00:00:00",
          "2005-06-30T00:00:00",
          "2005-07-31T00:00:00",
          "2005-08-31T00:00:00",
          "2005-09-30T00:00:00",
          "2005-10-31T00:00:00",
          "2005-11-30T00:00:00",
          "2005-12-31T00:00:00",
          "2006-01-31T00:00:00",
          "2006-02-28T00:00:00",
          "2006-03-31T00:00:00",
          "2006-04-30T00:00:00",
          "2006-05-31T00:00:00",
          "2006-06-30T00:00:00",
          "2006-07-31T00:00:00",
          "2006-08-31T00:00:00",
          "2006-09-30T00:00:00",
          "2006-10-31T00:00:00",
          "2006-11-30T00:00:00",
          "2006-12-31T00:00:00",
          "2007-01-31T00:00:00",
          "2007-02-28T00:00:00",
          "2007-03-31T00:00:00",
          "2007-04-30T00:00:00",
          "2007-05-31T00:00:00",
          "2007-06-30T00:00:00",
          "2007-07-31T00:00:00",
          "2007-08-31T00:00:00",
          "2007-09-30T00:00:00",
          "2007-10-31T00:00:00",
          "2007-11-30T00:00:00",
          "2007-12-31T00:00:00",
          "2008-01-31T00:00:00",
          "2008-02-29T00:00:00",
          "2008-03-31T00:00:00",
          "2008-04-30T00:00:00",
          "2008-05-31T00:00:00",
          "2008-06-30T00:00:00",
          "2008-07-31T00:00:00",
          "2008-08-31T00:00:00",
          "2008-09-30T00:00:00",
          "2008-10-31T00:00:00",
          "2008-11-30T00:00:00",
          "2008-12-31T00:00:00",
          "2009-01-31T00:00:00",
          "2009-02-28T00:00:00",
          "2009-03-31T00:00:00",
          "2009-04-30T00:00:00",
          "2009-05-31T00:00:00",
          "2009-06-30T00:00:00",
          "2009-07-31T00:00:00",
          "2009-08-31T00:00:00",
          "2009-09-30T00:00:00",
          "2009-10-31T00:00:00",
          "2009-11-30T00:00:00",
          "2009-12-31T00:00:00",
          "2010-01-31T00:00:00",
          "2010-02-28T00:00:00",
          "2010-03-31T00:00:00",
          "2010-04-30T00:00:00",
          "2010-05-31T00:00:00",
          "2010-06-30T00:00:00",
          "2010-07-31T00:00:00",
          "2010-08-31T00:00:00",
          "2010-09-30T00:00:00",
          "2010-10-31T00:00:00",
          "2010-11-30T00:00:00",
          "2010-12-31T00:00:00",
          "2011-01-31T00:00:00",
          "2011-02-28T00:00:00",
          "2011-03-31T00:00:00",
          "2011-04-30T00:00:00",
          "2011-05-31T00:00:00",
          "2011-06-30T00:00:00",
          "2011-07-31T00:00:00",
          "2011-08-31T00:00:00",
          "2011-09-30T00:00:00",
          "2011-10-31T00:00:00",
          "2011-11-30T00:00:00",
          "2011-12-31T00:00:00",
          "2012-01-31T00:00:00",
          "2012-02-29T00:00:00",
          "2012-03-31T00:00:00",
          "2012-04-30T00:00:00",
          "2012-05-31T00:00:00",
          "2012-06-30T00:00:00",
          "2012-07-31T00:00:00",
          "2012-08-31T00:00:00",
          "2012-09-30T00:00:00",
          "2012-10-31T00:00:00",
          "2012-11-30T00:00:00",
          "2012-12-31T00:00:00",
          "2013-01-31T00:00:00",
          "2013-02-28T00:00:00",
          "2013-03-31T00:00:00",
          "2013-04-30T00:00:00",
          "2013-05-31T00:00:00",
          "2013-06-30T00:00:00",
          "2013-07-31T00:00:00",
          "2013-08-31T00:00:00",
          "2013-09-30T00:00:00",
          "2013-10-31T00:00:00",
          "2013-11-30T00:00:00",
          "2013-12-31T00:00:00",
          "2014-01-31T00:00:00",
          "2014-02-28T00:00:00",
          "2014-03-31T00:00:00",
          "2014-04-30T00:00:00",
          "2014-05-31T00:00:00",
          "2014-06-30T00:00:00",
          "2014-07-31T00:00:00",
          "2014-08-31T00:00:00",
          "2014-09-30T00:00:00",
          "2014-10-31T00:00:00",
          "2014-11-30T00:00:00",
          "2014-12-31T00:00:00",
          "2015-01-31T00:00:00",
          "2015-02-28T00:00:00",
          "2015-03-31T00:00:00",
          "2015-04-30T00:00:00",
          "2015-05-31T00:00:00",
          "2015-06-30T00:00:00",
          "2015-07-31T00:00:00",
          "2015-08-31T00:00:00",
          "2015-09-30T00:00:00",
          "2015-10-31T00:00:00",
          "2015-11-30T00:00:00",
          "2015-12-31T00:00:00",
          "2016-01-31T00:00:00",
          "2016-02-29T00:00:00",
          "2016-03-31T00:00:00",
          "2016-04-30T00:00:00",
          "2016-05-31T00:00:00",
          "2016-06-30T00:00:00",
          "2016-07-31T00:00:00",
          "2016-08-31T00:00:00",
          "2016-09-30T00:00:00",
          "2016-10-31T00:00:00",
          "2016-11-30T00:00:00",
          "2016-12-31T00:00:00",
          "2017-01-31T00:00:00",
          "2017-02-28T00:00:00",
          "2017-03-31T00:00:00",
          "2017-04-30T00:00:00",
          "2017-05-31T00:00:00",
          "2017-06-30T00:00:00",
          "2017-07-31T00:00:00",
          "2017-08-31T00:00:00",
          "2017-09-30T00:00:00",
          "2017-10-31T00:00:00",
          "2017-11-30T00:00:00",
          "2017-12-31T00:00:00",
          "2018-01-31T00:00:00",
          "2018-02-28T00:00:00",
          "2018-03-31T00:00:00",
          "2018-04-30T00:00:00",
          "2018-05-31T00:00:00",
          "2018-06-30T00:00:00",
          "2018-07-31T00:00:00",
          "2018-08-31T00:00:00",
          "2018-09-30T00:00:00",
          "2018-10-31T00:00:00",
          "2018-11-30T00:00:00",
          "2018-12-31T00:00:00",
          "2019-01-31T00:00:00",
          "2019-02-28T00:00:00",
          "2019-03-31T00:00:00",
          "2019-04-30T00:00:00",
          "2019-05-31T00:00:00",
          "2019-06-30T00:00:00",
          "2019-07-31T00:00:00",
          "2019-08-31T00:00:00",
          "2019-09-30T00:00:00",
          "2019-10-31T00:00:00",
          "2019-11-30T00:00:00",
          "2019-12-31T00:00:00",
          "2020-01-31T00:00:00",
          "2020-02-29T00:00:00",
          "2020-03-31T00:00:00",
          "2020-04-30T00:00:00",
          "2020-05-31T00:00:00",
          "2020-06-30T00:00:00",
          "2020-07-31T00:00:00",
          "2020-08-31T00:00:00",
          "2020-09-30T00:00:00",
          "2020-10-31T00:00:00",
          "2020-11-30T00:00:00",
          "2020-12-31T00:00:00",
          "2021-01-31T00:00:00",
          "2021-02-28T00:00:00",
          "2021-03-31T00:00:00",
          "2021-04-30T00:00:00",
          "2021-05-31T00:00:00",
          "2021-06-30T00:00:00",
          "2021-07-31T00:00:00",
          "2021-08-31T00:00:00",
          "2021-09-30T00:00:00",
          "2021-10-31T00:00:00",
          "2021-11-30T00:00:00",
          "2021-12-31T00:00:00",
          "2022-01-31T00:00:00",
          "2022-02-28T00:00:00",
          "2022-03-31T00:00:00",
          "2022-04-30T00:00:00",
          "2022-05-31T00:00:00",
          "2022-06-30T00:00:00",
          "2022-07-31T00:00:00",
          "2022-08-31T00:00:00"
         ],
         "xaxis": "x",
         "y": [
          null,
          0.025491464686828842,
          -0.015846332153961692,
          -0.05143373278187022,
          -0.05657082267311905,
          -0.011601720898020335,
          -0.03290059008395535,
          -0.0402935787074893,
          -0.11182349831814253,
          -0.017902854616899666,
          -0.04414788134732373,
          -0.018905950995504447,
          0.04692619662922787,
          -0.019845242494554535,
          0.030968149634063837,
          0.00651985571715448,
          0.03411374859064615,
          -0.07196721451626291,
          -0.06362530254869099,
          -0.03912912937807204,
          -0.0831861628585617,
          -0.014872457760305005,
          -0.11011857334927658,
          0.09172073050886105,
          0.07257078660465406,
          0.05765936941038842,
          0.03772782807886283,
          -0.0027896939626830403,
          0.004334513835636291,
          0.0128830462723633,
          -0.03182991260243103,
          -0.03537231055268354,
          -0.03315107724476445,
          -0.008655910264937595,
          0.01822240142873217,
          0.03270083769541315,
          0.0711907214415378,
          -0.04018512457893227,
          0.026412785187595086,
          -0.04696893928091044,
          -0.018110631616629982,
          0.02172251452756471,
          -0.01613988276521334,
          -0.0456066278900588,
          0.03426853132341429,
          0.035377104957752356,
          0.0070168969249445705,
          0.03382803947962215,
          -0.015395593582262399,
          -0.01346339065042916,
          0.00845401561244198,
          0.016657250119451565,
          0.04713579988891792,
          0.028100110889003577,
          -0.04254898592453703,
          -0.04109819036998372,
          -0.030878033706720136,
          -0.01579148232913822,
          0.005818546701669003,
          0.05327738901747795,
          -0.003863429442436339,
          -0.030855973149900025,
          0.008195034138284544,
          0.025348951002323778,
          -0.0849407574044828,
          -0.07530207625778675,
          0.018225363231376395,
          -0.024868801026536207,
          -0.03674077247343669,
          0.002146200269803951,
          0.004854668249807313,
          -0.0339989167932407,
          -0.04136757807217011,
          0.06171358823804052,
          -0.030113400994420565,
          -0.016571398303844798,
          0.027803882965690162,
          0.02626119362220379,
          -0.008126235539692113,
          -0.06797321957621058,
          -0.0009533560804295517,
          0.04214180976232721,
          0.032141551274501565,
          -0.032019345668008944,
          0.057567853587667125,
          0.04665711431550165,
          -0.03565098292898995,
          -0.028578487683137643,
          -0.017786721029982654,
          -0.07018945490365908,
          0.030527658354871083,
          -0.01613387584616205,
          -0.032817824213684045,
          -0.008496038402107005,
          -0.03536016278992253,
          -0.015028584113868055,
          -0.020314049272689774,
          -0.012929947802084119,
          -0.01913151067137903,
          0.014580090988993936,
          -0.15141889530703706,
          -0.033355577059995964,
          0.03450920690706075,
          -0.046975527958105265,
          0.03849585576046523,
          -0.1070485251546786,
          -0.14585478934860396,
          -0.09700376632417632,
          0.015785637608643918,
          -0.04180772124825313,
          0.14914761648578997,
          0.06404153183916203,
          -0.0625096012600079,
          -0.004457154535770214,
          -0.104320953087218,
          -0.026620581395415947,
          -0.16276310375895353,
          -0.10339931843462315,
          -0.1829622411338089,
          -0.05039747728448858,
          -0.33848030841274396,
          0.14608008328500263,
          0.10267556843214877,
          0.11742257596362568,
          -0.20484477578343224,
          0.06833530018398387,
          -0.07881931065077286,
          -0.010902271649532586,
          0.030843660466701363,
          0.10165255297903217,
          0.10395637382244663,
          0.2248470983879905,
          0.16988256959724735,
          0.10265879336029082,
          -0.012026599666234122,
          0.04668623052195235,
          -0.039359644529979296,
          0.03409523888037339,
          0.05698895206012794,
          -0.07240066495727217,
          -0.019818808062374203,
          0.010279820405975387,
          0.08643386850346997,
          0.01933906626918744,
          0.026452132406427346,
          0.1546135712737127,
          -0.010315315776664058,
          -0.011495689512337672,
          -0.045631298482805435,
          -0.11631867312948799,
          0.05794884668514604,
          -0.11611254430107155,
          0.03998163135247436,
          0.21299853462961427,
          -0.0029644490235656643,
          -0.002502864973714075,
          -0.022164051005462256,
          -0.014432327041552158,
          0.13551416516434286,
          0.07706587769428994,
          0.058846823905923024,
          -0.0072758427886030555,
          0.017367248436649718,
          0.01413596900604136,
          -0.0042912621066888285,
          0.023694654874778905,
          0.0597442932328271,
          0.004684452732076683,
          0.030924884720423915,
          0.034748444851725784,
          -0.0011473596746452708,
          -0.004671802973440477,
          0.036527668171602065,
          0.04016769775267917,
          0.0008255848520621178,
          -0.003791696392891432,
          -0.014782942320120694,
          0.043803761924137756,
          0.006646809224921259,
          0.004856750396356441,
          0.011434158575089452,
          0.02030285626020739,
          -0.012177291749013417,
          0.01465840753153927,
          0.011479292445173893,
          -0.010561448019332086,
          0.0038587636422105064,
          -0.02296495758303626,
          -0.03605797099899615,
          -0.01139852882595542,
          -0.0026006544436807,
          -0.03105244832907833,
          -0.006104943873248503,
          0.01909184993453212,
          0.01902690458301219,
          0.02741983064859729,
          -0.025006269839364433,
          0.04748262222198346,
          -0.009828249828506538,
          -0.0053475646432081456,
          -0.02375558815713648,
          0.001584513759155956,
          0.026862065871022946,
          -0.009130039660876905,
          0.013233915871710442,
          0.0013758314693998307,
          -0.025796508817286845,
          0.0075581224338909375,
          -0.021055927955709403,
          -0.08892879236837078,
          -0.03170684389211507,
          -0.0508602500432582,
          -0.07820420728560032,
          -0.06582869988360603,
          -0.066001299638109,
          0.13083324780529157,
          -0.043861479153965086,
          -0.08200815451219576,
          -0.015856743150071108,
          -0.06839115974425031,
          -0.1545631225845297,
          0.11196786399534885,
          0.1262423386374207,
          0.02691351635993558,
          -0.048650672089386254,
          -0.1122376141897261,
          0.14910336963030038,
          -0.09562323741423691,
          -0.10872461917588969,
          0.12543278174587996,
          0.4312285575198092,
          0.13419066318248102,
          -0.00233347215839917,
          0.09347644618233711,
          0.16976404300366643,
          0.011475179110520442,
          -0.08270892210734535,
          -0.0025763218789326622,
          0.003389846742488857,
          0.07998767985897437,
          0.00858000785852317,
          0.06263273397240025,
          0.02063234365974652,
          -0.02622834578769128,
          -0.02896694043713465,
          0.026239854065808282,
          -0.03593833260864876,
          0.013585403448612324,
          -0.00918418474868641,
          -0.05546939565523405,
          0.07361043760944058,
          0.029060902387219412,
          -0.013790738558947593,
          -0.008815535893881945,
          -0.008801977384566732,
          -0.030755340749885732,
          -0.010642190281659095,
          -0.015681280899023542,
          -0.060738578134348825,
          -0.07016436375532693,
          0.0857572045132616,
          -0.017440528347106125,
          -0.029801980403089515,
          0.030551771800314848,
          0.041588559682412145,
          -0.010969309284009687,
          -0.04227243957219931,
          -0.03443285688922193,
          0.03201836351427719,
          -0.004105887395448954,
          0.01980767897353522,
          0.03499518238145845,
          0.05041574889955129,
          -0.024096214709863388,
          0.044030969896373735,
          0.00958495841580792,
          -0.004953164128484658,
          -0.00949466214109946,
          0.0035773202725083164,
          0.018067956126820564,
          -0.01908514753015389,
          -0.007405916055560277,
          -0.008188060644990593,
          -0.031087388997393946,
          0.010041864982736647,
          0.027038002506944242,
          -0.001035818400763451,
          -0.041659075936163074,
          -0.00917129633773954,
          0.05785004092051535,
          0.01510678998916001,
          -0.03489260083713304,
          0.0036557300335647094,
          -0.0041217125748588095,
          -0.022378065841920286,
          -0.029448412236257226,
          -0.0251051121416771,
          -0.072998758910955,
          -0.004779929366551752,
          -0.07468777467826411,
          0.0310312664660648,
          -0.01393646082066735,
          0.05677087612419025,
          -0.030436565397156293,
          -0.015555727833156778,
          -0.0982699661196401,
          0.038611712448079295,
          -0.08537651514700363,
          0.011402166555450705,
          0.003972614960520662,
          -0.06025926458383407,
          -0.051869757218552,
          -0.018418121352713746,
          0.0828644931847146,
          0.09765493072905597,
          -0.020532787420764864,
          -0.05101791290658805,
          0.017647245856458375,
          0.064805770000388,
          0.023265938984797143,
          0.00510156581876578,
          0.14315505478644752,
          0.012020394455857286,
          -0.030747057605646687,
          -0.02736439981281179,
          -0.045202529390894454,
          -0.04127824374892062,
          -0.07793496649052986,
          0.022307177301553835,
          0.014845143930268792,
          -0.0797998802431966,
          0.06339256012988767,
          -0.029379656701522434,
          0.019468680392519658,
          0.01536934774200443,
          -0.0499100187374786,
          -0.008670842575022306,
          0.017537501536529623,
          0.03330815557564683,
          -0.045988709047353735,
          0.034630871190759034,
          -0.012576867173632787,
          -0.08471729079716465,
          -0.013817122380786506,
          0.014333299195775237,
          -0.04918658629965958,
          -0.08639458985437938,
          0.07558498369285095,
          -0.034938931407195714,
          -0.04008100441236724,
          -0.03236881400098704,
          -0.09646884201778208,
          0.007395040571675365,
          -0.027298609000541832,
          -0.13635033403814464,
          0.08801595846826983,
          -0.017852101544840144,
          -0.033266702324773745,
          0.09670154410489992,
          -0.1270719773811884,
          -0.08769233982281377,
          -0.26713310329575357,
          0.19949143838763825,
          -0.07001497559594283,
          0.08741687364657855,
          -0.10211284489418698,
          -0.006006576961388246,
          -0.03137157067578394,
          0.06016867584966196,
          0.21600207983364064,
          0.034724684793814346,
          0.06457736854223564,
          0.15651081993936006,
          0.05240520809172324,
          0.006292129597438759,
          0.055601206471827945,
          -0.06438698001790934,
          -0.059413938587188686,
          0.0032125452125204915,
          0.057617725272881976,
          -0.04114502435789957,
          -0.05078794204222987,
          0.01920325054850898,
          0.13713122250603385,
          0.024440693141115445,
          0.021232359302035334,
          0.01386878577449447,
          0.031114829555570853,
          -0.07024568248957606,
          -0.01779363103520648,
          0.015746847864347
         ],
         "yaxis": "y"
        }
       ],
       "layout": {
        "barmode": "relative",
        "legend": {
         "tracegroupgap": 0
        },
        "margin": {
         "t": 60
        },
        "template": {
         "data": {
          "bar": [
           {
            "error_x": {
             "color": "#2a3f5f"
            },
            "error_y": {
             "color": "#2a3f5f"
            },
            "marker": {
             "line": {
              "color": "#E5ECF6",
              "width": 0.5
             },
             "pattern": {
              "fillmode": "overlay",
              "size": 10,
              "solidity": 0.2
             }
            },
            "type": "bar"
           }
          ],
          "barpolar": [
           {
            "marker": {
             "line": {
              "color": "#E5ECF6",
              "width": 0.5
             },
             "pattern": {
              "fillmode": "overlay",
              "size": 10,
              "solidity": 0.2
             }
            },
            "type": "barpolar"
           }
          ],
          "carpet": [
           {
            "aaxis": {
             "endlinecolor": "#2a3f5f",
             "gridcolor": "white",
             "linecolor": "white",
             "minorgridcolor": "white",
             "startlinecolor": "#2a3f5f"
            },
            "baxis": {
             "endlinecolor": "#2a3f5f",
             "gridcolor": "white",
             "linecolor": "white",
             "minorgridcolor": "white",
             "startlinecolor": "#2a3f5f"
            },
            "type": "carpet"
           }
          ],
          "choropleth": [
           {
            "colorbar": {
             "outlinewidth": 0,
             "ticks": ""
            },
            "type": "choropleth"
           }
          ],
          "contour": [
           {
            "colorbar": {
             "outlinewidth": 0,
             "ticks": ""
            },
            "colorscale": [
             [
              0,
              "#0d0887"
             ],
             [
              0.1111111111111111,
              "#46039f"
             ],
             [
              0.2222222222222222,
              "#7201a8"
             ],
             [
              0.3333333333333333,
              "#9c179e"
             ],
             [
              0.4444444444444444,
              "#bd3786"
             ],
             [
              0.5555555555555556,
              "#d8576b"
             ],
             [
              0.6666666666666666,
              "#ed7953"
             ],
             [
              0.7777777777777778,
              "#fb9f3a"
             ],
             [
              0.8888888888888888,
              "#fdca26"
             ],
             [
              1,
              "#f0f921"
             ]
            ],
            "type": "contour"
           }
          ],
          "contourcarpet": [
           {
            "colorbar": {
             "outlinewidth": 0,
             "ticks": ""
            },
            "type": "contourcarpet"
           }
          ],
          "heatmap": [
           {
            "colorbar": {
             "outlinewidth": 0,
             "ticks": ""
            },
            "colorscale": [
             [
              0,
              "#0d0887"
             ],
             [
              0.1111111111111111,
              "#46039f"
             ],
             [
              0.2222222222222222,
              "#7201a8"
             ],
             [
              0.3333333333333333,
              "#9c179e"
             ],
             [
              0.4444444444444444,
              "#bd3786"
             ],
             [
              0.5555555555555556,
              "#d8576b"
             ],
             [
              0.6666666666666666,
              "#ed7953"
             ],
             [
              0.7777777777777778,
              "#fb9f3a"
             ],
             [
              0.8888888888888888,
              "#fdca26"
             ],
             [
              1,
              "#f0f921"
             ]
            ],
            "type": "heatmap"
           }
          ],
          "heatmapgl": [
           {
            "colorbar": {
             "outlinewidth": 0,
             "ticks": ""
            },
            "colorscale": [
             [
              0,
              "#0d0887"
             ],
             [
              0.1111111111111111,
              "#46039f"
             ],
             [
              0.2222222222222222,
              "#7201a8"
             ],
             [
              0.3333333333333333,
              "#9c179e"
             ],
             [
              0.4444444444444444,
              "#bd3786"
             ],
             [
              0.5555555555555556,
              "#d8576b"
             ],
             [
              0.6666666666666666,
              "#ed7953"
             ],
             [
              0.7777777777777778,
              "#fb9f3a"
             ],
             [
              0.8888888888888888,
              "#fdca26"
             ],
             [
              1,
              "#f0f921"
             ]
            ],
            "type": "heatmapgl"
           }
          ],
          "histogram": [
           {
            "marker": {
             "pattern": {
              "fillmode": "overlay",
              "size": 10,
              "solidity": 0.2
             }
            },
            "type": "histogram"
           }
          ],
          "histogram2d": [
           {
            "colorbar": {
             "outlinewidth": 0,
             "ticks": ""
            },
            "colorscale": [
             [
              0,
              "#0d0887"
             ],
             [
              0.1111111111111111,
              "#46039f"
             ],
             [
              0.2222222222222222,
              "#7201a8"
             ],
             [
              0.3333333333333333,
              "#9c179e"
             ],
             [
              0.4444444444444444,
              "#bd3786"
             ],
             [
              0.5555555555555556,
              "#d8576b"
             ],
             [
              0.6666666666666666,
              "#ed7953"
             ],
             [
              0.7777777777777778,
              "#fb9f3a"
             ],
             [
              0.8888888888888888,
              "#fdca26"
             ],
             [
              1,
              "#f0f921"
             ]
            ],
            "type": "histogram2d"
           }
          ],
          "histogram2dcontour": [
           {
            "colorbar": {
             "outlinewidth": 0,
             "ticks": ""
            },
            "colorscale": [
             [
              0,
              "#0d0887"
             ],
             [
              0.1111111111111111,
              "#46039f"
             ],
             [
              0.2222222222222222,
              "#7201a8"
             ],
             [
              0.3333333333333333,
              "#9c179e"
             ],
             [
              0.4444444444444444,
              "#bd3786"
             ],
             [
              0.5555555555555556,
              "#d8576b"
             ],
             [
              0.6666666666666666,
              "#ed7953"
             ],
             [
              0.7777777777777778,
              "#fb9f3a"
             ],
             [
              0.8888888888888888,
              "#fdca26"
             ],
             [
              1,
              "#f0f921"
             ]
            ],
            "type": "histogram2dcontour"
           }
          ],
          "mesh3d": [
           {
            "colorbar": {
             "outlinewidth": 0,
             "ticks": ""
            },
            "type": "mesh3d"
           }
          ],
          "parcoords": [
           {
            "line": {
             "colorbar": {
              "outlinewidth": 0,
              "ticks": ""
             }
            },
            "type": "parcoords"
           }
          ],
          "pie": [
           {
            "automargin": true,
            "type": "pie"
           }
          ],
          "scatter": [
           {
            "fillpattern": {
             "fillmode": "overlay",
             "size": 10,
             "solidity": 0.2
            },
            "type": "scatter"
           }
          ],
          "scatter3d": [
           {
            "line": {
             "colorbar": {
              "outlinewidth": 0,
              "ticks": ""
             }
            },
            "marker": {
             "colorbar": {
              "outlinewidth": 0,
              "ticks": ""
             }
            },
            "type": "scatter3d"
           }
          ],
          "scattercarpet": [
           {
            "marker": {
             "colorbar": {
              "outlinewidth": 0,
              "ticks": ""
             }
            },
            "type": "scattercarpet"
           }
          ],
          "scattergeo": [
           {
            "marker": {
             "colorbar": {
              "outlinewidth": 0,
              "ticks": ""
             }
            },
            "type": "scattergeo"
           }
          ],
          "scattergl": [
           {
            "marker": {
             "colorbar": {
              "outlinewidth": 0,
              "ticks": ""
             }
            },
            "type": "scattergl"
           }
          ],
          "scattermapbox": [
           {
            "marker": {
             "colorbar": {
              "outlinewidth": 0,
              "ticks": ""
             }
            },
            "type": "scattermapbox"
           }
          ],
          "scatterpolar": [
           {
            "marker": {
             "colorbar": {
              "outlinewidth": 0,
              "ticks": ""
             }
            },
            "type": "scatterpolar"
           }
          ],
          "scatterpolargl": [
           {
            "marker": {
             "colorbar": {
              "outlinewidth": 0,
              "ticks": ""
             }
            },
            "type": "scatterpolargl"
           }
          ],
          "scatterternary": [
           {
            "marker": {
             "colorbar": {
              "outlinewidth": 0,
              "ticks": ""
             }
            },
            "type": "scatterternary"
           }
          ],
          "surface": [
           {
            "colorbar": {
             "outlinewidth": 0,
             "ticks": ""
            },
            "colorscale": [
             [
              0,
              "#0d0887"
             ],
             [
              0.1111111111111111,
              "#46039f"
             ],
             [
              0.2222222222222222,
              "#7201a8"
             ],
             [
              0.3333333333333333,
              "#9c179e"
             ],
             [
              0.4444444444444444,
              "#bd3786"
             ],
             [
              0.5555555555555556,
              "#d8576b"
             ],
             [
              0.6666666666666666,
              "#ed7953"
             ],
             [
              0.7777777777777778,
              "#fb9f3a"
             ],
             [
              0.8888888888888888,
              "#fdca26"
             ],
             [
              1,
              "#f0f921"
             ]
            ],
            "type": "surface"
           }
          ],
          "table": [
           {
            "cells": {
             "fill": {
              "color": "#EBF0F8"
             },
             "line": {
              "color": "white"
             }
            },
            "header": {
             "fill": {
              "color": "#C8D4E3"
             },
             "line": {
              "color": "white"
             }
            },
            "type": "table"
           }
          ]
         },
         "layout": {
          "annotationdefaults": {
           "arrowcolor": "#2a3f5f",
           "arrowhead": 0,
           "arrowwidth": 1
          },
          "autotypenumbers": "strict",
          "coloraxis": {
           "colorbar": {
            "outlinewidth": 0,
            "ticks": ""
           }
          },
          "colorscale": {
           "diverging": [
            [
             0,
             "#8e0152"
            ],
            [
             0.1,
             "#c51b7d"
            ],
            [
             0.2,
             "#de77ae"
            ],
            [
             0.3,
             "#f1b6da"
            ],
            [
             0.4,
             "#fde0ef"
            ],
            [
             0.5,
             "#f7f7f7"
            ],
            [
             0.6,
             "#e6f5d0"
            ],
            [
             0.7,
             "#b8e186"
            ],
            [
             0.8,
             "#7fbc41"
            ],
            [
             0.9,
             "#4d9221"
            ],
            [
             1,
             "#276419"
            ]
           ],
           "sequential": [
            [
             0,
             "#0d0887"
            ],
            [
             0.1111111111111111,
             "#46039f"
            ],
            [
             0.2222222222222222,
             "#7201a8"
            ],
            [
             0.3333333333333333,
             "#9c179e"
            ],
            [
             0.4444444444444444,
             "#bd3786"
            ],
            [
             0.5555555555555556,
             "#d8576b"
            ],
            [
             0.6666666666666666,
             "#ed7953"
            ],
            [
             0.7777777777777778,
             "#fb9f3a"
            ],
            [
             0.8888888888888888,
             "#fdca26"
            ],
            [
             1,
             "#f0f921"
            ]
           ],
           "sequentialminus": [
            [
             0,
             "#0d0887"
            ],
            [
             0.1111111111111111,
             "#46039f"
            ],
            [
             0.2222222222222222,
             "#7201a8"
            ],
            [
             0.3333333333333333,
             "#9c179e"
            ],
            [
             0.4444444444444444,
             "#bd3786"
            ],
            [
             0.5555555555555556,
             "#d8576b"
            ],
            [
             0.6666666666666666,
             "#ed7953"
            ],
            [
             0.7777777777777778,
             "#fb9f3a"
            ],
            [
             0.8888888888888888,
             "#fdca26"
            ],
            [
             1,
             "#f0f921"
            ]
           ]
          },
          "colorway": [
           "#636efa",
           "#EF553B",
           "#00cc96",
           "#ab63fa",
           "#FFA15A",
           "#19d3f3",
           "#FF6692",
           "#B6E880",
           "#FF97FF",
           "#FECB52"
          ],
          "font": {
           "color": "#2a3f5f"
          },
          "geo": {
           "bgcolor": "white",
           "lakecolor": "white",
           "landcolor": "#E5ECF6",
           "showlakes": true,
           "showland": true,
           "subunitcolor": "white"
          },
          "hoverlabel": {
           "align": "left"
          },
          "hovermode": "closest",
          "mapbox": {
           "style": "light"
          },
          "paper_bgcolor": "white",
          "plot_bgcolor": "#E5ECF6",
          "polar": {
           "angularaxis": {
            "gridcolor": "white",
            "linecolor": "white",
            "ticks": ""
           },
           "bgcolor": "#E5ECF6",
           "radialaxis": {
            "gridcolor": "white",
            "linecolor": "white",
            "ticks": ""
           }
          },
          "scene": {
           "xaxis": {
            "backgroundcolor": "#E5ECF6",
            "gridcolor": "white",
            "gridwidth": 2,
            "linecolor": "white",
            "showbackground": true,
            "ticks": "",
            "zerolinecolor": "white"
           },
           "yaxis": {
            "backgroundcolor": "#E5ECF6",
            "gridcolor": "white",
            "gridwidth": 2,
            "linecolor": "white",
            "showbackground": true,
            "ticks": "",
            "zerolinecolor": "white"
           },
           "zaxis": {
            "backgroundcolor": "#E5ECF6",
            "gridcolor": "white",
            "gridwidth": 2,
            "linecolor": "white",
            "showbackground": true,
            "ticks": "",
            "zerolinecolor": "white"
           }
          },
          "shapedefaults": {
           "line": {
            "color": "#2a3f5f"
           }
          },
          "ternary": {
           "aaxis": {
            "gridcolor": "white",
            "linecolor": "white",
            "ticks": ""
           },
           "baxis": {
            "gridcolor": "white",
            "linecolor": "white",
            "ticks": ""
           },
           "bgcolor": "#E5ECF6",
           "caxis": {
            "gridcolor": "white",
            "linecolor": "white",
            "ticks": ""
           }
          },
          "title": {
           "x": 0.05
          },
          "xaxis": {
           "automargin": true,
           "gridcolor": "white",
           "linecolor": "white",
           "ticks": "",
           "title": {
            "standoff": 15
           },
           "zerolinecolor": "white",
           "zerolinewidth": 2
          },
          "yaxis": {
           "automargin": true,
           "gridcolor": "white",
           "linecolor": "white",
           "ticks": "",
           "title": {
            "standoff": 15
           },
           "zerolinecolor": "white",
           "zerolinewidth": 2
          }
         }
        },
        "xaxis": {
         "anchor": "y",
         "domain": [
          0,
          1
         ],
         "title": {
          "text": "date"
         }
        },
        "yaxis": {
         "anchor": "x",
         "domain": [
          0,
          1
         ],
         "title": {
          "text": "HML_rets"
         }
        }
       }
      }
     },
     "metadata": {},
     "output_type": "display_data"
    }
   ],
   "source": [
    "monthly_rets = port_df[[\"date\", \"HML_rets\"]].resample('M', on='date').mean() # Calculate average daily return for each month\n",
    "monthly_rets['Colour']='red' # Add column with 'red' value\n",
    "monthly_rets.loc[monthly_rets['HML_rets']>=0, 'Colour']='green' # Replace 'red' with 'green' where return is non-negative\n",
    "px.bar(monthly_rets,x=monthly_rets.index,y=\"HML_rets\").update_traces(marker_color=monthly_rets[\"Colour\"]).show()"
   ]
  },
  {
   "cell_type": "code",
   "execution_count": 155,
   "metadata": {},
   "outputs": [
    {
     "name": "stdout",
     "output_type": "stream",
     "text": [
      "-0.00128236929210746 0.06866328287837034\n"
     ]
    }
   ],
   "source": [
    "mean_ret = port_df['HML_rets'].mean()\n",
    "volatility = port_df['HML_rets'].std()\n",
    "print(mean_ret, volatility)"
   ]
  },
  {
   "cell_type": "code",
   "execution_count": 156,
   "id": "e7717ed4",
   "metadata": {},
   "outputs": [
    {
     "name": "stdout",
     "output_type": "stream",
     "text": [
      "Annualised expected return is: -32.32%\n",
      "Annualised volatility is: 109.0%\n"
     ]
    }
   ],
   "source": [
    "print('Annualised expected return is: '+str(round(100*mean_ret*252,2)) +'%')\n",
    "print('Annualised volatility is: '+str(round(100*volatility*np.sqrt(252),2)) +'%')"
   ]
  },
  {
   "cell_type": "code",
   "execution_count": 157,
   "id": "1c601366",
   "metadata": {},
   "outputs": [
    {
     "data": {
      "text/plain": [
       "count    390.000000\n",
       "mean      -0.128237\n",
       "std        6.866328\n",
       "min      -33.848031\n",
       "25%       -3.383808\n",
       "50%       -0.515036\n",
       "75%        2.882070\n",
       "max       43.122856\n",
       "Name: HML_rets, dtype: float64"
      ]
     },
     "execution_count": 157,
     "metadata": {},
     "output_type": "execute_result"
    }
   ],
   "source": [
    "(port_df['HML_rets']*100).describe()"
   ]
  },
  {
   "cell_type": "code",
   "execution_count": 158,
   "id": "f94d6e22",
   "metadata": {},
   "outputs": [
    {
     "name": "stdout",
     "output_type": "stream",
     "text": [
      "0.5303804865189324\n"
     ]
    }
   ],
   "source": [
    "print(skew(port_df['HML_rets'].dropna()))"
   ]
  },
  {
   "cell_type": "code",
   "execution_count": 159,
   "id": "2e32863f",
   "metadata": {},
   "outputs": [
    {
     "name": "stdout",
     "output_type": "stream",
     "text": [
      "6.12636283319347\n"
     ]
    }
   ],
   "source": [
    "print(kurtosis(port_df[\"HML_rets\"].dropna()))"
   ]
  },
  {
   "cell_type": "code",
   "execution_count": 160,
   "id": "9bfa9c27",
   "metadata": {},
   "outputs": [
    {
     "data": {
      "text/plain": [
       "-0.2082706337966099"
      ]
     },
     "execution_count": 160,
     "metadata": {},
     "output_type": "execute_result"
    }
   ],
   "source": [
    "VaR = port_df['HML_rets'].quantile(0.005)\n",
    "VaR"
   ]
  },
  {
   "cell_type": "code",
   "execution_count": 161,
   "id": "6f1d670d",
   "metadata": {},
   "outputs": [
    {
     "name": "stdout",
     "output_type": "stream",
     "text": [
      "There is a 10.0% chance that my losses will be -7.32% or worse over the next day.\n",
      "There is a 5.0% chance that my losses will be -10.04% or worse over the next day.\n",
      "There is a 1.0% chance that my losses will be -16.5% or worse over the next day.\n",
      "There is a 0.1% chance that my losses will be -31.07% or worse over the next day.\n",
      "There is a 0.01% chance that my losses will be -33.57% or worse over the next day.\n"
     ]
    }
   ],
   "source": [
    "for q in [0.1, 0.05, 0.01, 0.001, 0.0001]:\n",
    "    VaR = port_df['HML_rets'].quantile(q)\n",
    "    print('There is a '+str(round(100*q,3))+'% chance that my losses will be '+str(round(VaR*100, 2))+'% or worse over the next day.')"
   ]
  },
  {
   "cell_type": "code",
   "execution_count": 162,
   "id": "58e25588",
   "metadata": {},
   "outputs": [
    {
     "data": {
      "text/html": [
       "<div>\n",
       "<style scoped>\n",
       "    .dataframe tbody tr th:only-of-type {\n",
       "        vertical-align: middle;\n",
       "    }\n",
       "\n",
       "    .dataframe tbody tr th {\n",
       "        vertical-align: top;\n",
       "    }\n",
       "\n",
       "    .dataframe thead th {\n",
       "        text-align: right;\n",
       "    }\n",
       "</style>\n",
       "<table border=\"1\" class=\"dataframe\">\n",
       "  <thead>\n",
       "    <tr style=\"text-align: right;\">\n",
       "      <th>port</th>\n",
       "      <th>date</th>\n",
       "      <th>HML_rets</th>\n",
       "      <th>HML_cum_rets</th>\n",
       "    </tr>\n",
       "  </thead>\n",
       "  <tbody>\n",
       "    <tr>\n",
       "      <th>120</th>\n",
       "      <td>2000-02-29</td>\n",
       "      <td>-0.338480</td>\n",
       "      <td>0.090761</td>\n",
       "    </tr>\n",
       "    <tr>\n",
       "      <th>361</th>\n",
       "      <td>2020-03-31</td>\n",
       "      <td>-0.267133</td>\n",
       "      <td>0.126105</td>\n",
       "    </tr>\n",
       "  </tbody>\n",
       "</table>\n",
       "</div>"
      ],
      "text/plain": [
       "port       date  HML_rets  HML_cum_rets\n",
       "120  2000-02-29 -0.338480      0.090761\n",
       "361  2020-03-31 -0.267133      0.126105"
      ]
     },
     "execution_count": 162,
     "metadata": {},
     "output_type": "execute_result"
    }
   ],
   "source": [
    "VaR = port_df['HML_rets'].quantile(0.005)\n",
    "rets_tail = port_df.loc[port_df['HML_rets']<=VaR,[\"date\", \"HML_rets\", \"HML_cum_rets\"]]\n",
    "rets_tail"
   ]
  },
  {
   "cell_type": "code",
   "execution_count": 163,
   "id": "b9b543e9",
   "metadata": {},
   "outputs": [
    {
     "data": {
      "text/plain": [
       "-0.30280670585424874"
      ]
     },
     "execution_count": 163,
     "metadata": {},
     "output_type": "execute_result"
    }
   ],
   "source": [
    "ES = rets_tail['HML_rets'].mean()\n",
    "ES"
   ]
  },
  {
   "cell_type": "code",
   "execution_count": 164,
   "id": "d19594a8",
   "metadata": {},
   "outputs": [
    {
     "name": "stdout",
     "output_type": "stream",
     "text": [
      "I expect to lose on average -11.75% over 1-day period given that I have exceeded my VaR for 10.0%.\n",
      "I expect to lose on average -14.82% over 1-day period given that I have exceeded my VaR for 5.0%.\n",
      "I expect to lose on average -24.84% over 1-day period given that I have exceeded my VaR for 1.0%.\n",
      "I expect to lose on average -33.85% over 1-day period given that I have exceeded my VaR for 0.1%.\n",
      "I expect to lose on average -33.85% over 1-day period given that I have exceeded my VaR for 0.01%.\n"
     ]
    }
   ],
   "source": [
    "for q in [0.1, 0.05, 0.01, 0.001, 0.0001]:\n",
    "    VaR = port_df['HML_rets'].quantile(q)\n",
    "    rets_tail = port_df.loc[port_df['HML_rets']<=VaR,:]\n",
    "    ES = rets_tail['HML_rets'].mean()\n",
    "    print('I expect to lose on average '+ str(round(ES*100, 2))+'% over 1-day period given that I have exceeded my VaR for '+str(round(100*q,3))+'%.')"
   ]
  },
  {
   "cell_type": "code",
   "execution_count": 165,
   "id": "a619a7e8",
   "metadata": {},
   "outputs": [
    {
     "data": {
      "text/plain": [
       "-0.7119142464932438"
      ]
     },
     "execution_count": 165,
     "metadata": {},
     "output_type": "execute_result"
    }
   ],
   "source": [
    "# according to bloomberg the risk free rate (treasury yields) 4.76 % (last 30 years)\n",
    "# calculation of sharpe ratio\n",
    "\n",
    "rf = 0.0476\n",
    "sharpe_ratio = (mean_ret-rf)/volatility\n",
    "sharpe_ratio"
   ]
  },
  {
   "cell_type": "code",
   "execution_count": 166,
   "id": "cfa2bf2e",
   "metadata": {},
   "outputs": [],
   "source": [
    "# get SP500 data from 1990-01-31 to 2022-08-30\t\n",
    "sp500_ticker = yf.Ticker(\"^GSPC\")\n",
    "sp500 = sp500_ticker.history(start=\"1990-02-28\", end=\"2022-09-30\", interval=\"1mo\")\n",
    "sp500 = sp500[[\"Close\"]]\n",
    "sp500[\"Rets\"] = sp500.Close.pct_change()"
   ]
  },
  {
   "cell_type": "code",
   "execution_count": 167,
   "id": "f6d7fb4f",
   "metadata": {},
   "outputs": [
    {
     "data": {
      "text/html": [
       "<div>\n",
       "<style scoped>\n",
       "    .dataframe tbody tr th:only-of-type {\n",
       "        vertical-align: middle;\n",
       "    }\n",
       "\n",
       "    .dataframe tbody tr th {\n",
       "        vertical-align: top;\n",
       "    }\n",
       "\n",
       "    .dataframe thead th {\n",
       "        text-align: right;\n",
       "    }\n",
       "</style>\n",
       "<table border=\"1\" class=\"dataframe\">\n",
       "  <thead>\n",
       "    <tr style=\"text-align: right;\">\n",
       "      <th></th>\n",
       "      <th>Close</th>\n",
       "      <th>Rets</th>\n",
       "    </tr>\n",
       "    <tr>\n",
       "      <th>Date</th>\n",
       "      <th></th>\n",
       "      <th></th>\n",
       "    </tr>\n",
       "  </thead>\n",
       "  <tbody>\n",
       "    <tr>\n",
       "      <th>1990-03-01 00:00:00-05:00</th>\n",
       "      <td>339.940002</td>\n",
       "      <td>NaN</td>\n",
       "    </tr>\n",
       "    <tr>\n",
       "      <th>1990-04-01 00:00:00-05:00</th>\n",
       "      <td>330.799988</td>\n",
       "      <td>-0.026887</td>\n",
       "    </tr>\n",
       "    <tr>\n",
       "      <th>1990-05-01 00:00:00-04:00</th>\n",
       "      <td>361.230011</td>\n",
       "      <td>0.091989</td>\n",
       "    </tr>\n",
       "    <tr>\n",
       "      <th>1990-06-01 00:00:00-04:00</th>\n",
       "      <td>358.019989</td>\n",
       "      <td>-0.008886</td>\n",
       "    </tr>\n",
       "    <tr>\n",
       "      <th>1990-07-01 00:00:00-04:00</th>\n",
       "      <td>356.149994</td>\n",
       "      <td>-0.005223</td>\n",
       "    </tr>\n",
       "    <tr>\n",
       "      <th>...</th>\n",
       "      <td>...</td>\n",
       "      <td>...</td>\n",
       "    </tr>\n",
       "    <tr>\n",
       "      <th>2022-05-01 00:00:00-04:00</th>\n",
       "      <td>4132.149902</td>\n",
       "      <td>0.000053</td>\n",
       "    </tr>\n",
       "    <tr>\n",
       "      <th>2022-06-01 00:00:00-04:00</th>\n",
       "      <td>3785.379883</td>\n",
       "      <td>-0.083920</td>\n",
       "    </tr>\n",
       "    <tr>\n",
       "      <th>2022-07-01 00:00:00-04:00</th>\n",
       "      <td>4130.290039</td>\n",
       "      <td>0.091116</td>\n",
       "    </tr>\n",
       "    <tr>\n",
       "      <th>2022-08-01 00:00:00-04:00</th>\n",
       "      <td>3955.000000</td>\n",
       "      <td>-0.042440</td>\n",
       "    </tr>\n",
       "    <tr>\n",
       "      <th>2022-09-01 00:00:00-04:00</th>\n",
       "      <td>3585.620117</td>\n",
       "      <td>-0.093396</td>\n",
       "    </tr>\n",
       "  </tbody>\n",
       "</table>\n",
       "<p>391 rows × 2 columns</p>\n",
       "</div>"
      ],
      "text/plain": [
       "                                 Close      Rets\n",
       "Date                                            \n",
       "1990-03-01 00:00:00-05:00   339.940002       NaN\n",
       "1990-04-01 00:00:00-05:00   330.799988 -0.026887\n",
       "1990-05-01 00:00:00-04:00   361.230011  0.091989\n",
       "1990-06-01 00:00:00-04:00   358.019989 -0.008886\n",
       "1990-07-01 00:00:00-04:00   356.149994 -0.005223\n",
       "...                                ...       ...\n",
       "2022-05-01 00:00:00-04:00  4132.149902  0.000053\n",
       "2022-06-01 00:00:00-04:00  3785.379883 -0.083920\n",
       "2022-07-01 00:00:00-04:00  4130.290039  0.091116\n",
       "2022-08-01 00:00:00-04:00  3955.000000 -0.042440\n",
       "2022-09-01 00:00:00-04:00  3585.620117 -0.093396\n",
       "\n",
       "[391 rows x 2 columns]"
      ]
     },
     "execution_count": 167,
     "metadata": {},
     "output_type": "execute_result"
    }
   ],
   "source": [
    "sp500"
   ]
  },
  {
   "cell_type": "code",
   "execution_count": 168,
   "id": "721fb7cc",
   "metadata": {},
   "outputs": [
    {
     "name": "stdout",
     "output_type": "stream",
     "text": [
      "Portfolio Beta: -0.09615824896771613\n",
      "Jensen's Alpha: -0.0527876284407975\n"
     ]
    }
   ],
   "source": [
    "# Calculate the average return of the market\n",
    "average_market_return = sp500.Rets.mean()\n",
    "\n",
    "# Calculate the covariance between portfolio and market returns\n",
    "covariance = port_df['HML_rets'].cov(sp500['Rets'].reset_index(drop=True))\n",
    "\n",
    "# Calculate the variance of the market returns\n",
    "market_variance = sp500['Rets'].var()\n",
    "\n",
    "# Calculate the portfolio's beta\n",
    "portfolio_beta = covariance / market_variance\n",
    "\n",
    "# Calculate Jensen's Alpha\n",
    "jensens_alpha = mean_ret - (rf + portfolio_beta * (average_market_return - rf))\n",
    "\n",
    "print(\"Portfolio Beta:\", portfolio_beta)\n",
    "print(\"Jensen's Alpha:\", jensens_alpha)"
   ]
  },
  {
   "cell_type": "code",
   "execution_count": 169,
   "id": "1f054516",
   "metadata": {},
   "outputs": [
    {
     "data": {
      "text/plain": [
       "0.5083533635114246"
      ]
     },
     "execution_count": 169,
     "metadata": {},
     "output_type": "execute_result"
    }
   ],
   "source": [
    "# treynor ratio\n",
    "treynor_ratio = (mean_ret - rf)/portfolio_beta\n",
    "treynor_ratio"
   ]
  },
  {
   "cell_type": "code",
   "execution_count": 170,
   "id": "cac77e35",
   "metadata": {},
   "outputs": [
    {
     "name": "stdout",
     "output_type": "stream",
     "text": [
      "0.9114953622751586\n"
     ]
    }
   ],
   "source": [
    "# maximum drawdown\n",
    "peak = port_df.loc[1, \"HML_cum_rets\"]\n",
    "max_drawdown = 0\n",
    "for ret in port_df[\"HML_cum_rets\"].dropna():\n",
    "    if ret >= peak:\n",
    "        peak = ret\n",
    "    else:\n",
    "        drawdown = (peak - ret)/peak\n",
    "        max_drawdown = max(max_drawdown, drawdown)\n",
    "\n",
    "print(max_drawdown)"
   ]
  },
  {
   "cell_type": "code",
   "execution_count": 171,
   "id": "69f485a3",
   "metadata": {},
   "outputs": [
    {
     "data": {
      "text/plain": [
       "-0.07416384415962962"
      ]
     },
     "execution_count": 171,
     "metadata": {},
     "output_type": "execute_result"
    }
   ],
   "source": [
    "# calmar-ratio\n",
    "annualised_exp_return = round(mean_ret*12,2)\n",
    "calmar_ratio = (annualised_exp_return - rf)/max_drawdown\n",
    "calmar_ratio"
   ]
  }
 ],
 "metadata": {
  "kernelspec": {
   "display_name": "Python 3 (ipykernel)",
   "language": "python",
   "name": "python3"
  },
  "language_info": {
   "codemirror_mode": {
    "name": "ipython",
    "version": 3
   },
   "file_extension": ".py",
   "mimetype": "text/x-python",
   "name": "python",
   "nbconvert_exporter": "python",
   "pygments_lexer": "ipython3",
   "version": "3.9.0"
  }
 },
 "nbformat": 4,
 "nbformat_minor": 5
}
