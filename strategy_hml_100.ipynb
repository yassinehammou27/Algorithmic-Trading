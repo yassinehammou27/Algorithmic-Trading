{
 "cells": [
  {
   "cell_type": "markdown",
   "id": "acae3b45",
   "metadata": {},
   "source": [
    "# Group Project\n",
    "#### **FINN43815 - Python for Finance**"
   ]
  },
  {
   "cell_type": "code",
   "execution_count": 1,
   "id": "36a8edf5",
   "metadata": {},
   "outputs": [],
   "source": [
    "import numpy as np\n",
    "import pandas as pd\n",
    "import plotly.express as px\n",
    "from scipy.stats import kurtosis, skew\n",
    "import yfinance as yf"
   ]
  },
  {
   "cell_type": "markdown",
   "id": "278f8d90",
   "metadata": {},
   "source": [
    "### HML Strategy (Q=100)"
   ]
  },
  {
   "cell_type": "markdown",
   "id": "e6e26e70",
   "metadata": {},
   "source": [
    "#### 1. Import Data"
   ]
  },
  {
   "cell_type": "code",
   "execution_count": 2,
   "id": "d81ffa77",
   "metadata": {},
   "outputs": [
    {
     "name": "stderr",
     "output_type": "stream",
     "text": [
      "/var/folders/ch/yj3xbk4s1t34gtb89jtxcmcr0000gn/T/ipykernel_52178/1299969751.py:1: DtypeWarning: Columns (12) have mixed types. Specify dtype option on import or set low_memory=False.\n",
      "  data = pd.read_csv('cleaned_data.csv')\n"
     ]
    }
   ],
   "source": [
    "data = pd.read_csv('cleaned_data.csv')"
   ]
  },
  {
   "cell_type": "code",
   "execution_count": 3,
   "id": "0a7b9ab6",
   "metadata": {},
   "outputs": [
    {
     "data": {
      "text/html": [
       "<div>\n",
       "<style scoped>\n",
       "    .dataframe tbody tr th:only-of-type {\n",
       "        vertical-align: middle;\n",
       "    }\n",
       "\n",
       "    .dataframe tbody tr th {\n",
       "        vertical-align: top;\n",
       "    }\n",
       "\n",
       "    .dataframe thead th {\n",
       "        text-align: right;\n",
       "    }\n",
       "</style>\n",
       "<table border=\"1\" class=\"dataframe\">\n",
       "  <thead>\n",
       "    <tr style=\"text-align: right;\">\n",
       "      <th></th>\n",
       "      <th>date</th>\n",
       "      <th>permno</th>\n",
       "      <th>price</th>\n",
       "      <th>p2b</th>\n",
       "    </tr>\n",
       "  </thead>\n",
       "  <tbody>\n",
       "    <tr>\n",
       "      <th>0</th>\n",
       "      <td>1990-01-31</td>\n",
       "      <td>0111145D UN Equity</td>\n",
       "      <td>20.6875</td>\n",
       "      <td>NaN</td>\n",
       "    </tr>\n",
       "    <tr>\n",
       "      <th>1</th>\n",
       "      <td>1990-02-28</td>\n",
       "      <td>0111145D UN Equity</td>\n",
       "      <td>22.0000</td>\n",
       "      <td>NaN</td>\n",
       "    </tr>\n",
       "    <tr>\n",
       "      <th>2</th>\n",
       "      <td>1990-03-30</td>\n",
       "      <td>0111145D UN Equity</td>\n",
       "      <td>19.5000</td>\n",
       "      <td>NaN</td>\n",
       "    </tr>\n",
       "    <tr>\n",
       "      <th>3</th>\n",
       "      <td>1990-04-30</td>\n",
       "      <td>0111145D UN Equity</td>\n",
       "      <td>17.6250</td>\n",
       "      <td>1.5612</td>\n",
       "    </tr>\n",
       "    <tr>\n",
       "      <th>4</th>\n",
       "      <td>1990-05-31</td>\n",
       "      <td>0111145D UN Equity</td>\n",
       "      <td>19.8125</td>\n",
       "      <td>1.7550</td>\n",
       "    </tr>\n",
       "    <tr>\n",
       "      <th>...</th>\n",
       "      <td>...</td>\n",
       "      <td>...</td>\n",
       "      <td>...</td>\n",
       "      <td>...</td>\n",
       "    </tr>\n",
       "    <tr>\n",
       "      <th>514691</th>\n",
       "      <td>2022-04-29</td>\n",
       "      <td>J UN Equity</td>\n",
       "      <td>138.5500</td>\n",
       "      <td>2.9386</td>\n",
       "    </tr>\n",
       "    <tr>\n",
       "      <th>514692</th>\n",
       "      <td>2022-05-31</td>\n",
       "      <td>J UN Equity</td>\n",
       "      <td>140.0900</td>\n",
       "      <td>2.9712</td>\n",
       "    </tr>\n",
       "    <tr>\n",
       "      <th>514693</th>\n",
       "      <td>2022-06-30</td>\n",
       "      <td>J UN Equity</td>\n",
       "      <td>127.1300</td>\n",
       "      <td>2.6964</td>\n",
       "    </tr>\n",
       "    <tr>\n",
       "      <th>514694</th>\n",
       "      <td>2022-07-29</td>\n",
       "      <td>J UN Equity</td>\n",
       "      <td>137.3000</td>\n",
       "      <td>2.9522</td>\n",
       "    </tr>\n",
       "    <tr>\n",
       "      <th>514695</th>\n",
       "      <td>2022-08-30</td>\n",
       "      <td>J UN Equity</td>\n",
       "      <td>124.4400</td>\n",
       "      <td>2.6757</td>\n",
       "    </tr>\n",
       "  </tbody>\n",
       "</table>\n",
       "<p>514696 rows × 4 columns</p>\n",
       "</div>"
      ],
      "text/plain": [
       "              date              permno     price     p2b\n",
       "0       1990-01-31  0111145D UN Equity   20.6875     NaN\n",
       "1       1990-02-28  0111145D UN Equity   22.0000     NaN\n",
       "2       1990-03-30  0111145D UN Equity   19.5000     NaN\n",
       "3       1990-04-30  0111145D UN Equity   17.6250  1.5612\n",
       "4       1990-05-31  0111145D UN Equity   19.8125  1.7550\n",
       "...            ...                 ...       ...     ...\n",
       "514691  2022-04-29         J UN Equity  138.5500  2.9386\n",
       "514692  2022-05-31         J UN Equity  140.0900  2.9712\n",
       "514693  2022-06-30         J UN Equity  127.1300  2.6964\n",
       "514694  2022-07-29         J UN Equity  137.3000  2.9522\n",
       "514695  2022-08-30         J UN Equity  124.4400  2.6757\n",
       "\n",
       "[514696 rows x 4 columns]"
      ]
     },
     "execution_count": 3,
     "metadata": {},
     "output_type": "execute_result"
    }
   ],
   "source": [
    "# drop unnecessary columns\n",
    "data = data[[\"date\", \"permno\", \"price\", \"p2b\"]]\n",
    "data"
   ]
  },
  {
   "cell_type": "markdown",
   "id": "27834fd8",
   "metadata": {},
   "source": [
    "#### 2. Calculate monthly returns"
   ]
  },
  {
   "cell_type": "code",
   "execution_count": 4,
   "id": "8529d569",
   "metadata": {},
   "outputs": [
    {
     "name": "stderr",
     "output_type": "stream",
     "text": [
      "/var/folders/ch/yj3xbk4s1t34gtb89jtxcmcr0000gn/T/ipykernel_52178/1728035520.py:1: FutureWarning: The default fill_method='pad' in Series.pct_change is deprecated and will be removed in a future version. Call ffill before calling pct_change to retain current behavior and silence this warning.\n",
      "  data['rets'] = data.groupby('permno')['price'].transform(pd.Series.pct_change)\n"
     ]
    },
    {
     "data": {
      "text/html": [
       "<div>\n",
       "<style scoped>\n",
       "    .dataframe tbody tr th:only-of-type {\n",
       "        vertical-align: middle;\n",
       "    }\n",
       "\n",
       "    .dataframe tbody tr th {\n",
       "        vertical-align: top;\n",
       "    }\n",
       "\n",
       "    .dataframe thead th {\n",
       "        text-align: right;\n",
       "    }\n",
       "</style>\n",
       "<table border=\"1\" class=\"dataframe\">\n",
       "  <thead>\n",
       "    <tr style=\"text-align: right;\">\n",
       "      <th></th>\n",
       "      <th>date</th>\n",
       "      <th>permno</th>\n",
       "      <th>price</th>\n",
       "      <th>p2b</th>\n",
       "      <th>rets</th>\n",
       "    </tr>\n",
       "  </thead>\n",
       "  <tbody>\n",
       "    <tr>\n",
       "      <th>0</th>\n",
       "      <td>1990-01-31</td>\n",
       "      <td>0111145D UN Equity</td>\n",
       "      <td>20.6875</td>\n",
       "      <td>NaN</td>\n",
       "      <td>NaN</td>\n",
       "    </tr>\n",
       "    <tr>\n",
       "      <th>1</th>\n",
       "      <td>1990-02-28</td>\n",
       "      <td>0111145D UN Equity</td>\n",
       "      <td>22.0000</td>\n",
       "      <td>NaN</td>\n",
       "      <td>0.063444</td>\n",
       "    </tr>\n",
       "    <tr>\n",
       "      <th>2</th>\n",
       "      <td>1990-03-30</td>\n",
       "      <td>0111145D UN Equity</td>\n",
       "      <td>19.5000</td>\n",
       "      <td>NaN</td>\n",
       "      <td>-0.113636</td>\n",
       "    </tr>\n",
       "    <tr>\n",
       "      <th>3</th>\n",
       "      <td>1990-04-30</td>\n",
       "      <td>0111145D UN Equity</td>\n",
       "      <td>17.6250</td>\n",
       "      <td>1.5612</td>\n",
       "      <td>-0.096154</td>\n",
       "    </tr>\n",
       "    <tr>\n",
       "      <th>4</th>\n",
       "      <td>1990-05-31</td>\n",
       "      <td>0111145D UN Equity</td>\n",
       "      <td>19.8125</td>\n",
       "      <td>1.7550</td>\n",
       "      <td>0.124113</td>\n",
       "    </tr>\n",
       "  </tbody>\n",
       "</table>\n",
       "</div>"
      ],
      "text/plain": [
       "         date              permno    price     p2b      rets\n",
       "0  1990-01-31  0111145D UN Equity  20.6875     NaN       NaN\n",
       "1  1990-02-28  0111145D UN Equity  22.0000     NaN  0.063444\n",
       "2  1990-03-30  0111145D UN Equity  19.5000     NaN -0.113636\n",
       "3  1990-04-30  0111145D UN Equity  17.6250  1.5612 -0.096154\n",
       "4  1990-05-31  0111145D UN Equity  19.8125  1.7550  0.124113"
      ]
     },
     "execution_count": 4,
     "metadata": {},
     "output_type": "execute_result"
    }
   ],
   "source": [
    "data['rets'] = data.groupby('permno')['price'].transform(pd.Series.pct_change)\n",
    "data.head()"
   ]
  },
  {
   "cell_type": "markdown",
   "id": "67a0e395",
   "metadata": {},
   "source": [
    "#### 3. Sort all stocks into 10 equal groups by size"
   ]
  },
  {
   "cell_type": "code",
   "execution_count": 5,
   "id": "1c727b61",
   "metadata": {},
   "outputs": [
    {
     "data": {
      "text/html": [
       "<div>\n",
       "<style scoped>\n",
       "    .dataframe tbody tr th:only-of-type {\n",
       "        vertical-align: middle;\n",
       "    }\n",
       "\n",
       "    .dataframe tbody tr th {\n",
       "        vertical-align: top;\n",
       "    }\n",
       "\n",
       "    .dataframe thead th {\n",
       "        text-align: right;\n",
       "    }\n",
       "</style>\n",
       "<table border=\"1\" class=\"dataframe\">\n",
       "  <thead>\n",
       "    <tr style=\"text-align: right;\">\n",
       "      <th></th>\n",
       "      <th>date</th>\n",
       "      <th>permno</th>\n",
       "      <th>price</th>\n",
       "      <th>p2b</th>\n",
       "      <th>rets</th>\n",
       "    </tr>\n",
       "  </thead>\n",
       "  <tbody>\n",
       "    <tr>\n",
       "      <th>3</th>\n",
       "      <td>1990-04-30</td>\n",
       "      <td>0111145D UN Equity</td>\n",
       "      <td>17.6250</td>\n",
       "      <td>1.5612</td>\n",
       "      <td>-0.096154</td>\n",
       "    </tr>\n",
       "    <tr>\n",
       "      <th>4</th>\n",
       "      <td>1990-05-31</td>\n",
       "      <td>0111145D UN Equity</td>\n",
       "      <td>19.8125</td>\n",
       "      <td>1.7550</td>\n",
       "      <td>0.124113</td>\n",
       "    </tr>\n",
       "    <tr>\n",
       "      <th>5</th>\n",
       "      <td>1990-06-29</td>\n",
       "      <td>0111145D UN Equity</td>\n",
       "      <td>18.9375</td>\n",
       "      <td>1.6775</td>\n",
       "      <td>-0.044164</td>\n",
       "    </tr>\n",
       "    <tr>\n",
       "      <th>6</th>\n",
       "      <td>1990-07-31</td>\n",
       "      <td>0111145D UN Equity</td>\n",
       "      <td>19.6250</td>\n",
       "      <td>1.7262</td>\n",
       "      <td>0.036304</td>\n",
       "    </tr>\n",
       "    <tr>\n",
       "      <th>7</th>\n",
       "      <td>1990-08-31</td>\n",
       "      <td>0111145D UN Equity</td>\n",
       "      <td>20.3750</td>\n",
       "      <td>1.7922</td>\n",
       "      <td>0.038217</td>\n",
       "    </tr>\n",
       "    <tr>\n",
       "      <th>...</th>\n",
       "      <td>...</td>\n",
       "      <td>...</td>\n",
       "      <td>...</td>\n",
       "      <td>...</td>\n",
       "      <td>...</td>\n",
       "    </tr>\n",
       "    <tr>\n",
       "      <th>514691</th>\n",
       "      <td>2022-04-29</td>\n",
       "      <td>J UN Equity</td>\n",
       "      <td>138.5500</td>\n",
       "      <td>2.9386</td>\n",
       "      <td>0.005370</td>\n",
       "    </tr>\n",
       "    <tr>\n",
       "      <th>514692</th>\n",
       "      <td>2022-05-31</td>\n",
       "      <td>J UN Equity</td>\n",
       "      <td>140.0900</td>\n",
       "      <td>2.9712</td>\n",
       "      <td>0.011115</td>\n",
       "    </tr>\n",
       "    <tr>\n",
       "      <th>514693</th>\n",
       "      <td>2022-06-30</td>\n",
       "      <td>J UN Equity</td>\n",
       "      <td>127.1300</td>\n",
       "      <td>2.6964</td>\n",
       "      <td>-0.092512</td>\n",
       "    </tr>\n",
       "    <tr>\n",
       "      <th>514694</th>\n",
       "      <td>2022-07-29</td>\n",
       "      <td>J UN Equity</td>\n",
       "      <td>137.3000</td>\n",
       "      <td>2.9522</td>\n",
       "      <td>0.079997</td>\n",
       "    </tr>\n",
       "    <tr>\n",
       "      <th>514695</th>\n",
       "      <td>2022-08-30</td>\n",
       "      <td>J UN Equity</td>\n",
       "      <td>124.4400</td>\n",
       "      <td>2.6757</td>\n",
       "      <td>-0.093664</td>\n",
       "    </tr>\n",
       "  </tbody>\n",
       "</table>\n",
       "<p>275505 rows × 5 columns</p>\n",
       "</div>"
      ],
      "text/plain": [
       "              date              permno     price     p2b      rets\n",
       "3       1990-04-30  0111145D UN Equity   17.6250  1.5612 -0.096154\n",
       "4       1990-05-31  0111145D UN Equity   19.8125  1.7550  0.124113\n",
       "5       1990-06-29  0111145D UN Equity   18.9375  1.6775 -0.044164\n",
       "6       1990-07-31  0111145D UN Equity   19.6250  1.7262  0.036304\n",
       "7       1990-08-31  0111145D UN Equity   20.3750  1.7922  0.038217\n",
       "...            ...                 ...       ...     ...       ...\n",
       "514691  2022-04-29         J UN Equity  138.5500  2.9386  0.005370\n",
       "514692  2022-05-31         J UN Equity  140.0900  2.9712  0.011115\n",
       "514693  2022-06-30         J UN Equity  127.1300  2.6964 -0.092512\n",
       "514694  2022-07-29         J UN Equity  137.3000  2.9522  0.079997\n",
       "514695  2022-08-30         J UN Equity  124.4400  2.6757 -0.093664\n",
       "\n",
       "[275505 rows x 5 columns]"
      ]
     },
     "execution_count": 5,
     "metadata": {},
     "output_type": "execute_result"
    }
   ],
   "source": [
    "# Filter out null values fro return and cap\n",
    "data = data.loc[(~data['rets'].isnull()) & ~(data['p2b'].isnull())]\n",
    "data "
   ]
  },
  {
   "cell_type": "code",
   "execution_count": 6,
   "id": "9ccc9cda",
   "metadata": {},
   "outputs": [
    {
     "name": "stderr",
     "output_type": "stream",
     "text": [
      "/var/folders/ch/yj3xbk4s1t34gtb89jtxcmcr0000gn/T/ipykernel_52178/4098631186.py:2: SettingWithCopyWarning: \n",
      "A value is trying to be set on a copy of a slice from a DataFrame.\n",
      "Try using .loc[row_indexer,col_indexer] = value instead\n",
      "\n",
      "See the caveats in the documentation: https://pandas.pydata.org/pandas-docs/stable/user_guide/indexing.html#returning-a-view-versus-a-copy\n",
      "  data.loc[:,'port'] = data.groupby('date')['p2b'].transform(pd.qcut, q=100, labels=range(1,101)).astype(str)\n"
     ]
    },
    {
     "data": {
      "text/html": [
       "<div>\n",
       "<style scoped>\n",
       "    .dataframe tbody tr th:only-of-type {\n",
       "        vertical-align: middle;\n",
       "    }\n",
       "\n",
       "    .dataframe tbody tr th {\n",
       "        vertical-align: top;\n",
       "    }\n",
       "\n",
       "    .dataframe thead th {\n",
       "        text-align: right;\n",
       "    }\n",
       "</style>\n",
       "<table border=\"1\" class=\"dataframe\">\n",
       "  <thead>\n",
       "    <tr style=\"text-align: right;\">\n",
       "      <th></th>\n",
       "      <th>date</th>\n",
       "      <th>permno</th>\n",
       "      <th>price</th>\n",
       "      <th>p2b</th>\n",
       "      <th>rets</th>\n",
       "      <th>port</th>\n",
       "    </tr>\n",
       "  </thead>\n",
       "  <tbody>\n",
       "    <tr>\n",
       "      <th>3</th>\n",
       "      <td>1990-04-30</td>\n",
       "      <td>0111145D UN Equity</td>\n",
       "      <td>17.6250</td>\n",
       "      <td>1.5612</td>\n",
       "      <td>-0.096154</td>\n",
       "      <td>46</td>\n",
       "    </tr>\n",
       "    <tr>\n",
       "      <th>4</th>\n",
       "      <td>1990-05-31</td>\n",
       "      <td>0111145D UN Equity</td>\n",
       "      <td>19.8125</td>\n",
       "      <td>1.7550</td>\n",
       "      <td>0.124113</td>\n",
       "      <td>48</td>\n",
       "    </tr>\n",
       "    <tr>\n",
       "      <th>5</th>\n",
       "      <td>1990-06-29</td>\n",
       "      <td>0111145D UN Equity</td>\n",
       "      <td>18.9375</td>\n",
       "      <td>1.6775</td>\n",
       "      <td>-0.044164</td>\n",
       "      <td>47</td>\n",
       "    </tr>\n",
       "    <tr>\n",
       "      <th>6</th>\n",
       "      <td>1990-07-31</td>\n",
       "      <td>0111145D UN Equity</td>\n",
       "      <td>19.6250</td>\n",
       "      <td>1.7262</td>\n",
       "      <td>0.036304</td>\n",
       "      <td>50</td>\n",
       "    </tr>\n",
       "    <tr>\n",
       "      <th>7</th>\n",
       "      <td>1990-08-31</td>\n",
       "      <td>0111145D UN Equity</td>\n",
       "      <td>20.3750</td>\n",
       "      <td>1.7922</td>\n",
       "      <td>0.038217</td>\n",
       "      <td>58</td>\n",
       "    </tr>\n",
       "    <tr>\n",
       "      <th>...</th>\n",
       "      <td>...</td>\n",
       "      <td>...</td>\n",
       "      <td>...</td>\n",
       "      <td>...</td>\n",
       "      <td>...</td>\n",
       "      <td>...</td>\n",
       "    </tr>\n",
       "    <tr>\n",
       "      <th>514691</th>\n",
       "      <td>2022-04-29</td>\n",
       "      <td>J UN Equity</td>\n",
       "      <td>138.5500</td>\n",
       "      <td>2.9386</td>\n",
       "      <td>0.005370</td>\n",
       "      <td>48</td>\n",
       "    </tr>\n",
       "    <tr>\n",
       "      <th>514692</th>\n",
       "      <td>2022-05-31</td>\n",
       "      <td>J UN Equity</td>\n",
       "      <td>140.0900</td>\n",
       "      <td>2.9712</td>\n",
       "      <td>0.011115</td>\n",
       "      <td>48</td>\n",
       "    </tr>\n",
       "    <tr>\n",
       "      <th>514693</th>\n",
       "      <td>2022-06-30</td>\n",
       "      <td>J UN Equity</td>\n",
       "      <td>127.1300</td>\n",
       "      <td>2.6964</td>\n",
       "      <td>-0.092512</td>\n",
       "      <td>49</td>\n",
       "    </tr>\n",
       "    <tr>\n",
       "      <th>514694</th>\n",
       "      <td>2022-07-29</td>\n",
       "      <td>J UN Equity</td>\n",
       "      <td>137.3000</td>\n",
       "      <td>2.9522</td>\n",
       "      <td>0.079997</td>\n",
       "      <td>49</td>\n",
       "    </tr>\n",
       "    <tr>\n",
       "      <th>514695</th>\n",
       "      <td>2022-08-30</td>\n",
       "      <td>J UN Equity</td>\n",
       "      <td>124.4400</td>\n",
       "      <td>2.6757</td>\n",
       "      <td>-0.093664</td>\n",
       "      <td>47</td>\n",
       "    </tr>\n",
       "  </tbody>\n",
       "</table>\n",
       "<p>275505 rows × 6 columns</p>\n",
       "</div>"
      ],
      "text/plain": [
       "              date              permno     price     p2b      rets port\n",
       "3       1990-04-30  0111145D UN Equity   17.6250  1.5612 -0.096154   46\n",
       "4       1990-05-31  0111145D UN Equity   19.8125  1.7550  0.124113   48\n",
       "5       1990-06-29  0111145D UN Equity   18.9375  1.6775 -0.044164   47\n",
       "6       1990-07-31  0111145D UN Equity   19.6250  1.7262  0.036304   50\n",
       "7       1990-08-31  0111145D UN Equity   20.3750  1.7922  0.038217   58\n",
       "...            ...                 ...       ...     ...       ...  ...\n",
       "514691  2022-04-29         J UN Equity  138.5500  2.9386  0.005370   48\n",
       "514692  2022-05-31         J UN Equity  140.0900  2.9712  0.011115   48\n",
       "514693  2022-06-30         J UN Equity  127.1300  2.6964 -0.092512   49\n",
       "514694  2022-07-29         J UN Equity  137.3000  2.9522  0.079997   49\n",
       "514695  2022-08-30         J UN Equity  124.4400  2.6757 -0.093664   47\n",
       "\n",
       "[275505 rows x 6 columns]"
      ]
     },
     "execution_count": 6,
     "metadata": {},
     "output_type": "execute_result"
    }
   ],
   "source": [
    "# sort all stocks into 10 different groups\n",
    "data.loc[:,'port'] = data.groupby('date')['p2b'].transform(pd.qcut, q=100, labels=range(1,101)).astype(str)\n",
    "data"
   ]
  },
  {
   "cell_type": "markdown",
   "id": "104f740f",
   "metadata": {},
   "source": [
    "#### 4. Calculate the trading period returns for each portfolio"
   ]
  },
  {
   "cell_type": "code",
   "execution_count": 7,
   "id": "8e9cbe32",
   "metadata": {},
   "outputs": [
    {
     "name": "stderr",
     "output_type": "stream",
     "text": [
      "/var/folders/ch/yj3xbk4s1t34gtb89jtxcmcr0000gn/T/ipykernel_52178/2096885470.py:2: SettingWithCopyWarning: \n",
      "A value is trying to be set on a copy of a slice from a DataFrame.\n",
      "Try using .loc[row_indexer,col_indexer] = value instead\n",
      "\n",
      "See the caveats in the documentation: https://pandas.pydata.org/pandas-docs/stable/user_guide/indexing.html#returning-a-view-versus-a-copy\n",
      "  data.loc[:,'rets_t1']=data.groupby('permno')['rets'].transform('shift', periods=-1)\n"
     ]
    },
    {
     "data": {
      "text/html": [
       "<div>\n",
       "<style scoped>\n",
       "    .dataframe tbody tr th:only-of-type {\n",
       "        vertical-align: middle;\n",
       "    }\n",
       "\n",
       "    .dataframe tbody tr th {\n",
       "        vertical-align: top;\n",
       "    }\n",
       "\n",
       "    .dataframe thead th {\n",
       "        text-align: right;\n",
       "    }\n",
       "</style>\n",
       "<table border=\"1\" class=\"dataframe\">\n",
       "  <thead>\n",
       "    <tr style=\"text-align: right;\">\n",
       "      <th></th>\n",
       "      <th>date</th>\n",
       "      <th>permno</th>\n",
       "      <th>price</th>\n",
       "      <th>p2b</th>\n",
       "      <th>rets</th>\n",
       "      <th>port</th>\n",
       "      <th>rets_t1</th>\n",
       "    </tr>\n",
       "  </thead>\n",
       "  <tbody>\n",
       "    <tr>\n",
       "      <th>3</th>\n",
       "      <td>1990-04-30</td>\n",
       "      <td>0111145D UN Equity</td>\n",
       "      <td>17.6250</td>\n",
       "      <td>1.5612</td>\n",
       "      <td>-0.096154</td>\n",
       "      <td>46</td>\n",
       "      <td>0.124113</td>\n",
       "    </tr>\n",
       "    <tr>\n",
       "      <th>4</th>\n",
       "      <td>1990-05-31</td>\n",
       "      <td>0111145D UN Equity</td>\n",
       "      <td>19.8125</td>\n",
       "      <td>1.7550</td>\n",
       "      <td>0.124113</td>\n",
       "      <td>48</td>\n",
       "      <td>-0.044164</td>\n",
       "    </tr>\n",
       "    <tr>\n",
       "      <th>5</th>\n",
       "      <td>1990-06-29</td>\n",
       "      <td>0111145D UN Equity</td>\n",
       "      <td>18.9375</td>\n",
       "      <td>1.6775</td>\n",
       "      <td>-0.044164</td>\n",
       "      <td>47</td>\n",
       "      <td>0.036304</td>\n",
       "    </tr>\n",
       "    <tr>\n",
       "      <th>6</th>\n",
       "      <td>1990-07-31</td>\n",
       "      <td>0111145D UN Equity</td>\n",
       "      <td>19.6250</td>\n",
       "      <td>1.7262</td>\n",
       "      <td>0.036304</td>\n",
       "      <td>50</td>\n",
       "      <td>0.038217</td>\n",
       "    </tr>\n",
       "    <tr>\n",
       "      <th>7</th>\n",
       "      <td>1990-08-31</td>\n",
       "      <td>0111145D UN Equity</td>\n",
       "      <td>20.3750</td>\n",
       "      <td>1.7922</td>\n",
       "      <td>0.038217</td>\n",
       "      <td>58</td>\n",
       "      <td>0.067485</td>\n",
       "    </tr>\n",
       "    <tr>\n",
       "      <th>...</th>\n",
       "      <td>...</td>\n",
       "      <td>...</td>\n",
       "      <td>...</td>\n",
       "      <td>...</td>\n",
       "      <td>...</td>\n",
       "      <td>...</td>\n",
       "      <td>...</td>\n",
       "    </tr>\n",
       "    <tr>\n",
       "      <th>514691</th>\n",
       "      <td>2022-04-29</td>\n",
       "      <td>J UN Equity</td>\n",
       "      <td>138.5500</td>\n",
       "      <td>2.9386</td>\n",
       "      <td>0.005370</td>\n",
       "      <td>48</td>\n",
       "      <td>0.011115</td>\n",
       "    </tr>\n",
       "    <tr>\n",
       "      <th>514692</th>\n",
       "      <td>2022-05-31</td>\n",
       "      <td>J UN Equity</td>\n",
       "      <td>140.0900</td>\n",
       "      <td>2.9712</td>\n",
       "      <td>0.011115</td>\n",
       "      <td>48</td>\n",
       "      <td>-0.092512</td>\n",
       "    </tr>\n",
       "    <tr>\n",
       "      <th>514693</th>\n",
       "      <td>2022-06-30</td>\n",
       "      <td>J UN Equity</td>\n",
       "      <td>127.1300</td>\n",
       "      <td>2.6964</td>\n",
       "      <td>-0.092512</td>\n",
       "      <td>49</td>\n",
       "      <td>0.079997</td>\n",
       "    </tr>\n",
       "    <tr>\n",
       "      <th>514694</th>\n",
       "      <td>2022-07-29</td>\n",
       "      <td>J UN Equity</td>\n",
       "      <td>137.3000</td>\n",
       "      <td>2.9522</td>\n",
       "      <td>0.079997</td>\n",
       "      <td>49</td>\n",
       "      <td>-0.093664</td>\n",
       "    </tr>\n",
       "    <tr>\n",
       "      <th>514695</th>\n",
       "      <td>2022-08-30</td>\n",
       "      <td>J UN Equity</td>\n",
       "      <td>124.4400</td>\n",
       "      <td>2.6757</td>\n",
       "      <td>-0.093664</td>\n",
       "      <td>47</td>\n",
       "      <td>NaN</td>\n",
       "    </tr>\n",
       "  </tbody>\n",
       "</table>\n",
       "<p>275505 rows × 7 columns</p>\n",
       "</div>"
      ],
      "text/plain": [
       "              date              permno     price     p2b      rets port  \\\n",
       "3       1990-04-30  0111145D UN Equity   17.6250  1.5612 -0.096154   46   \n",
       "4       1990-05-31  0111145D UN Equity   19.8125  1.7550  0.124113   48   \n",
       "5       1990-06-29  0111145D UN Equity   18.9375  1.6775 -0.044164   47   \n",
       "6       1990-07-31  0111145D UN Equity   19.6250  1.7262  0.036304   50   \n",
       "7       1990-08-31  0111145D UN Equity   20.3750  1.7922  0.038217   58   \n",
       "...            ...                 ...       ...     ...       ...  ...   \n",
       "514691  2022-04-29         J UN Equity  138.5500  2.9386  0.005370   48   \n",
       "514692  2022-05-31         J UN Equity  140.0900  2.9712  0.011115   48   \n",
       "514693  2022-06-30         J UN Equity  127.1300  2.6964 -0.092512   49   \n",
       "514694  2022-07-29         J UN Equity  137.3000  2.9522  0.079997   49   \n",
       "514695  2022-08-30         J UN Equity  124.4400  2.6757 -0.093664   47   \n",
       "\n",
       "         rets_t1  \n",
       "3       0.124113  \n",
       "4      -0.044164  \n",
       "5       0.036304  \n",
       "6       0.038217  \n",
       "7       0.067485  \n",
       "...          ...  \n",
       "514691  0.011115  \n",
       "514692 -0.092512  \n",
       "514693  0.079997  \n",
       "514694 -0.093664  \n",
       "514695       NaN  \n",
       "\n",
       "[275505 rows x 7 columns]"
      ]
     },
     "execution_count": 7,
     "metadata": {},
     "output_type": "execute_result"
    }
   ],
   "source": [
    "# add columns for future retuns\n",
    "data.loc[:,'rets_t1']=data.groupby('permno')['rets'].transform('shift', periods=-1)\n",
    "data"
   ]
  },
  {
   "cell_type": "code",
   "execution_count": 8,
   "id": "22a306c8",
   "metadata": {},
   "outputs": [
    {
     "data": {
      "text/html": [
       "<div>\n",
       "<style scoped>\n",
       "    .dataframe tbody tr th:only-of-type {\n",
       "        vertical-align: middle;\n",
       "    }\n",
       "\n",
       "    .dataframe tbody tr th {\n",
       "        vertical-align: top;\n",
       "    }\n",
       "\n",
       "    .dataframe thead th {\n",
       "        text-align: right;\n",
       "    }\n",
       "</style>\n",
       "<table border=\"1\" class=\"dataframe\">\n",
       "  <thead>\n",
       "    <tr style=\"text-align: right;\">\n",
       "      <th></th>\n",
       "      <th>date</th>\n",
       "      <th>port</th>\n",
       "      <th>rets_t1</th>\n",
       "    </tr>\n",
       "  </thead>\n",
       "  <tbody>\n",
       "    <tr>\n",
       "      <th>0</th>\n",
       "      <td>1990-02-28</td>\n",
       "      <td>1</td>\n",
       "      <td>0.033242</td>\n",
       "    </tr>\n",
       "    <tr>\n",
       "      <th>1</th>\n",
       "      <td>1990-02-28</td>\n",
       "      <td>10</td>\n",
       "      <td>-0.126866</td>\n",
       "    </tr>\n",
       "    <tr>\n",
       "      <th>2</th>\n",
       "      <td>1990-02-28</td>\n",
       "      <td>100</td>\n",
       "      <td>-0.156561</td>\n",
       "    </tr>\n",
       "    <tr>\n",
       "      <th>3</th>\n",
       "      <td>1990-02-28</td>\n",
       "      <td>11</td>\n",
       "      <td>0.179321</td>\n",
       "    </tr>\n",
       "    <tr>\n",
       "      <th>4</th>\n",
       "      <td>1990-02-28</td>\n",
       "      <td>12</td>\n",
       "      <td>-0.064691</td>\n",
       "    </tr>\n",
       "    <tr>\n",
       "      <th>...</th>\n",
       "      <td>...</td>\n",
       "      <td>...</td>\n",
       "      <td>...</td>\n",
       "    </tr>\n",
       "    <tr>\n",
       "      <th>39088</th>\n",
       "      <td>2022-08-30</td>\n",
       "      <td>95</td>\n",
       "      <td>NaN</td>\n",
       "    </tr>\n",
       "    <tr>\n",
       "      <th>39089</th>\n",
       "      <td>2022-08-30</td>\n",
       "      <td>96</td>\n",
       "      <td>NaN</td>\n",
       "    </tr>\n",
       "    <tr>\n",
       "      <th>39090</th>\n",
       "      <td>2022-08-30</td>\n",
       "      <td>97</td>\n",
       "      <td>NaN</td>\n",
       "    </tr>\n",
       "    <tr>\n",
       "      <th>39091</th>\n",
       "      <td>2022-08-30</td>\n",
       "      <td>98</td>\n",
       "      <td>NaN</td>\n",
       "    </tr>\n",
       "    <tr>\n",
       "      <th>39092</th>\n",
       "      <td>2022-08-30</td>\n",
       "      <td>99</td>\n",
       "      <td>NaN</td>\n",
       "    </tr>\n",
       "  </tbody>\n",
       "</table>\n",
       "<p>39093 rows × 3 columns</p>\n",
       "</div>"
      ],
      "text/plain": [
       "             date port   rets_t1\n",
       "0      1990-02-28    1  0.033242\n",
       "1      1990-02-28   10 -0.126866\n",
       "2      1990-02-28  100 -0.156561\n",
       "3      1990-02-28   11  0.179321\n",
       "4      1990-02-28   12 -0.064691\n",
       "...           ...  ...       ...\n",
       "39088  2022-08-30   95       NaN\n",
       "39089  2022-08-30   96       NaN\n",
       "39090  2022-08-30   97       NaN\n",
       "39091  2022-08-30   98       NaN\n",
       "39092  2022-08-30   99       NaN\n",
       "\n",
       "[39093 rows x 3 columns]"
      ]
     },
     "execution_count": 8,
     "metadata": {},
     "output_type": "execute_result"
    }
   ],
   "source": [
    "# calculate the achieved mean return return for each month and portfolio\n",
    "port_df = data.loc[~data['port'].isnull()].groupby(['date','port'])['rets_t1'].mean().reset_index()\n",
    "port_df"
   ]
  },
  {
   "cell_type": "markdown",
   "id": "85b134fe",
   "metadata": {},
   "source": [
    "#### 5. Calculate the returns on HML strategy"
   ]
  },
  {
   "cell_type": "code",
   "execution_count": 9,
   "id": "8bc77d2b",
   "metadata": {},
   "outputs": [],
   "source": [
    "port_df = port_df.pivot(index = 'date', columns = 'port', values = 'rets_t1').reset_index()"
   ]
  },
  {
   "cell_type": "code",
   "execution_count": 10,
   "id": "e805b0bd",
   "metadata": {},
   "outputs": [
    {
     "data": {
      "text/html": [
       "<div>\n",
       "<style scoped>\n",
       "    .dataframe tbody tr th:only-of-type {\n",
       "        vertical-align: middle;\n",
       "    }\n",
       "\n",
       "    .dataframe tbody tr th {\n",
       "        vertical-align: top;\n",
       "    }\n",
       "\n",
       "    .dataframe thead th {\n",
       "        text-align: right;\n",
       "    }\n",
       "</style>\n",
       "<table border=\"1\" class=\"dataframe\">\n",
       "  <thead>\n",
       "    <tr style=\"text-align: right;\">\n",
       "      <th>port</th>\n",
       "      <th>date</th>\n",
       "      <th>1</th>\n",
       "      <th>10</th>\n",
       "      <th>100</th>\n",
       "      <th>11</th>\n",
       "      <th>12</th>\n",
       "      <th>13</th>\n",
       "      <th>14</th>\n",
       "      <th>15</th>\n",
       "      <th>16</th>\n",
       "      <th>...</th>\n",
       "      <th>90</th>\n",
       "      <th>91</th>\n",
       "      <th>92</th>\n",
       "      <th>93</th>\n",
       "      <th>94</th>\n",
       "      <th>95</th>\n",
       "      <th>96</th>\n",
       "      <th>97</th>\n",
       "      <th>98</th>\n",
       "      <th>99</th>\n",
       "    </tr>\n",
       "  </thead>\n",
       "  <tbody>\n",
       "    <tr>\n",
       "      <th>0</th>\n",
       "      <td>1990-02-28</td>\n",
       "      <td>0.033242</td>\n",
       "      <td>-0.126866</td>\n",
       "      <td>-0.156561</td>\n",
       "      <td>0.179321</td>\n",
       "      <td>-0.064691</td>\n",
       "      <td>0.035088</td>\n",
       "      <td>0.082098</td>\n",
       "      <td>-0.029750</td>\n",
       "      <td>0.000000</td>\n",
       "      <td>...</td>\n",
       "      <td>-0.057118</td>\n",
       "      <td>0.044940</td>\n",
       "      <td>-0.028270</td>\n",
       "      <td>0.159240</td>\n",
       "      <td>0.150790</td>\n",
       "      <td>0.038678</td>\n",
       "      <td>-0.074283</td>\n",
       "      <td>NaN</td>\n",
       "      <td>0.121464</td>\n",
       "      <td>0.065419</td>\n",
       "    </tr>\n",
       "    <tr>\n",
       "      <th>1</th>\n",
       "      <td>1990-03-30</td>\n",
       "      <td>-0.051843</td>\n",
       "      <td>-0.051948</td>\n",
       "      <td>0.004823</td>\n",
       "      <td>0.131632</td>\n",
       "      <td>-0.079424</td>\n",
       "      <td>-0.131436</td>\n",
       "      <td>-0.142921</td>\n",
       "      <td>-0.019674</td>\n",
       "      <td>-0.078623</td>\n",
       "      <td>...</td>\n",
       "      <td>-0.140303</td>\n",
       "      <td>-0.015280</td>\n",
       "      <td>0.172814</td>\n",
       "      <td>-0.009038</td>\n",
       "      <td>0.022134</td>\n",
       "      <td>-0.117182</td>\n",
       "      <td>-0.019656</td>\n",
       "      <td>0.047458</td>\n",
       "      <td>-0.064597</td>\n",
       "      <td>0.011029</td>\n",
       "    </tr>\n",
       "    <tr>\n",
       "      <th>2</th>\n",
       "      <td>1990-04-30</td>\n",
       "      <td>0.067118</td>\n",
       "      <td>0.065093</td>\n",
       "      <td>0.147206</td>\n",
       "      <td>0.089874</td>\n",
       "      <td>0.019866</td>\n",
       "      <td>0.075480</td>\n",
       "      <td>0.163417</td>\n",
       "      <td>0.192063</td>\n",
       "      <td>0.093354</td>\n",
       "      <td>...</td>\n",
       "      <td>0.152722</td>\n",
       "      <td>0.070459</td>\n",
       "      <td>0.131843</td>\n",
       "      <td>0.163947</td>\n",
       "      <td>0.176467</td>\n",
       "      <td>0.114783</td>\n",
       "      <td>0.133280</td>\n",
       "      <td>0.178196</td>\n",
       "      <td>0.185923</td>\n",
       "      <td>0.014659</td>\n",
       "    </tr>\n",
       "    <tr>\n",
       "      <th>3</th>\n",
       "      <td>1990-05-31</td>\n",
       "      <td>0.030538</td>\n",
       "      <td>-0.045115</td>\n",
       "      <td>-0.029486</td>\n",
       "      <td>-0.061293</td>\n",
       "      <td>-0.078423</td>\n",
       "      <td>0.048612</td>\n",
       "      <td>0.019393</td>\n",
       "      <td>-0.013329</td>\n",
       "      <td>-0.021832</td>\n",
       "      <td>...</td>\n",
       "      <td>0.008645</td>\n",
       "      <td>0.027255</td>\n",
       "      <td>0.041228</td>\n",
       "      <td>0.005195</td>\n",
       "      <td>0.056063</td>\n",
       "      <td>0.052660</td>\n",
       "      <td>0.091324</td>\n",
       "      <td>0.120535</td>\n",
       "      <td>-0.006898</td>\n",
       "      <td>0.021891</td>\n",
       "    </tr>\n",
       "    <tr>\n",
       "      <th>4</th>\n",
       "      <td>1990-06-29</td>\n",
       "      <td>0.021787</td>\n",
       "      <td>-0.024645</td>\n",
       "      <td>-0.059288</td>\n",
       "      <td>-0.044636</td>\n",
       "      <td>-0.099055</td>\n",
       "      <td>-0.036241</td>\n",
       "      <td>-0.055929</td>\n",
       "      <td>0.012651</td>\n",
       "      <td>0.023414</td>\n",
       "      <td>...</td>\n",
       "      <td>-0.082498</td>\n",
       "      <td>-0.028524</td>\n",
       "      <td>-0.002546</td>\n",
       "      <td>0.000209</td>\n",
       "      <td>-0.068353</td>\n",
       "      <td>0.044413</td>\n",
       "      <td>-0.031074</td>\n",
       "      <td>0.009013</td>\n",
       "      <td>-0.090258</td>\n",
       "      <td>-0.062963</td>\n",
       "    </tr>\n",
       "    <tr>\n",
       "      <th>...</th>\n",
       "      <td>...</td>\n",
       "      <td>...</td>\n",
       "      <td>...</td>\n",
       "      <td>...</td>\n",
       "      <td>...</td>\n",
       "      <td>...</td>\n",
       "      <td>...</td>\n",
       "      <td>...</td>\n",
       "      <td>...</td>\n",
       "      <td>...</td>\n",
       "      <td>...</td>\n",
       "      <td>...</td>\n",
       "      <td>...</td>\n",
       "      <td>...</td>\n",
       "      <td>...</td>\n",
       "      <td>...</td>\n",
       "      <td>...</td>\n",
       "      <td>...</td>\n",
       "      <td>...</td>\n",
       "      <td>...</td>\n",
       "      <td>...</td>\n",
       "    </tr>\n",
       "    <tr>\n",
       "      <th>386</th>\n",
       "      <td>2022-04-29</td>\n",
       "      <td>0.105623</td>\n",
       "      <td>-0.055662</td>\n",
       "      <td>0.025402</td>\n",
       "      <td>0.044583</td>\n",
       "      <td>0.055018</td>\n",
       "      <td>0.062394</td>\n",
       "      <td>0.010615</td>\n",
       "      <td>0.064913</td>\n",
       "      <td>0.044247</td>\n",
       "      <td>...</td>\n",
       "      <td>-0.050976</td>\n",
       "      <td>0.031649</td>\n",
       "      <td>-0.001340</td>\n",
       "      <td>-0.027785</td>\n",
       "      <td>-0.035516</td>\n",
       "      <td>0.016096</td>\n",
       "      <td>-0.005314</td>\n",
       "      <td>-0.025591</td>\n",
       "      <td>0.036190</td>\n",
       "      <td>0.063377</td>\n",
       "    </tr>\n",
       "    <tr>\n",
       "      <th>387</th>\n",
       "      <td>2022-05-31</td>\n",
       "      <td>-0.164150</td>\n",
       "      <td>-0.141159</td>\n",
       "      <td>-0.048654</td>\n",
       "      <td>-0.124567</td>\n",
       "      <td>-0.117195</td>\n",
       "      <td>-0.119350</td>\n",
       "      <td>-0.121270</td>\n",
       "      <td>-0.122420</td>\n",
       "      <td>-0.114944</td>\n",
       "      <td>...</td>\n",
       "      <td>-0.083564</td>\n",
       "      <td>-0.114077</td>\n",
       "      <td>-0.044625</td>\n",
       "      <td>-0.069244</td>\n",
       "      <td>-0.074745</td>\n",
       "      <td>-0.096837</td>\n",
       "      <td>-0.052114</td>\n",
       "      <td>-0.080950</td>\n",
       "      <td>-0.055073</td>\n",
       "      <td>-0.061737</td>\n",
       "    </tr>\n",
       "    <tr>\n",
       "      <th>388</th>\n",
       "      <td>2022-06-30</td>\n",
       "      <td>0.156580</td>\n",
       "      <td>0.115007</td>\n",
       "      <td>0.063567</td>\n",
       "      <td>0.105947</td>\n",
       "      <td>0.111160</td>\n",
       "      <td>0.092972</td>\n",
       "      <td>0.059768</td>\n",
       "      <td>0.083085</td>\n",
       "      <td>0.065666</td>\n",
       "      <td>...</td>\n",
       "      <td>0.046000</td>\n",
       "      <td>0.122856</td>\n",
       "      <td>0.070052</td>\n",
       "      <td>0.178872</td>\n",
       "      <td>0.114934</td>\n",
       "      <td>0.101067</td>\n",
       "      <td>0.075926</td>\n",
       "      <td>0.112517</td>\n",
       "      <td>0.115665</td>\n",
       "      <td>0.184268</td>\n",
       "    </tr>\n",
       "    <tr>\n",
       "      <th>389</th>\n",
       "      <td>2022-07-29</td>\n",
       "      <td>0.014708</td>\n",
       "      <td>-0.046845</td>\n",
       "      <td>-0.041762</td>\n",
       "      <td>0.006201</td>\n",
       "      <td>-0.011484</td>\n",
       "      <td>-0.032647</td>\n",
       "      <td>0.003154</td>\n",
       "      <td>-0.026105</td>\n",
       "      <td>0.010720</td>\n",
       "      <td>...</td>\n",
       "      <td>-0.019048</td>\n",
       "      <td>-0.056473</td>\n",
       "      <td>-0.022023</td>\n",
       "      <td>-0.102442</td>\n",
       "      <td>0.003677</td>\n",
       "      <td>0.019909</td>\n",
       "      <td>-0.016221</td>\n",
       "      <td>-0.034079</td>\n",
       "      <td>-0.043464</td>\n",
       "      <td>-0.087413</td>\n",
       "    </tr>\n",
       "    <tr>\n",
       "      <th>390</th>\n",
       "      <td>2022-08-30</td>\n",
       "      <td>NaN</td>\n",
       "      <td>NaN</td>\n",
       "      <td>NaN</td>\n",
       "      <td>NaN</td>\n",
       "      <td>NaN</td>\n",
       "      <td>NaN</td>\n",
       "      <td>NaN</td>\n",
       "      <td>NaN</td>\n",
       "      <td>NaN</td>\n",
       "      <td>...</td>\n",
       "      <td>NaN</td>\n",
       "      <td>NaN</td>\n",
       "      <td>NaN</td>\n",
       "      <td>NaN</td>\n",
       "      <td>NaN</td>\n",
       "      <td>NaN</td>\n",
       "      <td>NaN</td>\n",
       "      <td>NaN</td>\n",
       "      <td>NaN</td>\n",
       "      <td>NaN</td>\n",
       "    </tr>\n",
       "  </tbody>\n",
       "</table>\n",
       "<p>391 rows × 101 columns</p>\n",
       "</div>"
      ],
      "text/plain": [
       "port        date         1        10       100        11        12        13  \\\n",
       "0     1990-02-28  0.033242 -0.126866 -0.156561  0.179321 -0.064691  0.035088   \n",
       "1     1990-03-30 -0.051843 -0.051948  0.004823  0.131632 -0.079424 -0.131436   \n",
       "2     1990-04-30  0.067118  0.065093  0.147206  0.089874  0.019866  0.075480   \n",
       "3     1990-05-31  0.030538 -0.045115 -0.029486 -0.061293 -0.078423  0.048612   \n",
       "4     1990-06-29  0.021787 -0.024645 -0.059288 -0.044636 -0.099055 -0.036241   \n",
       "..           ...       ...       ...       ...       ...       ...       ...   \n",
       "386   2022-04-29  0.105623 -0.055662  0.025402  0.044583  0.055018  0.062394   \n",
       "387   2022-05-31 -0.164150 -0.141159 -0.048654 -0.124567 -0.117195 -0.119350   \n",
       "388   2022-06-30  0.156580  0.115007  0.063567  0.105947  0.111160  0.092972   \n",
       "389   2022-07-29  0.014708 -0.046845 -0.041762  0.006201 -0.011484 -0.032647   \n",
       "390   2022-08-30       NaN       NaN       NaN       NaN       NaN       NaN   \n",
       "\n",
       "port        14        15        16  ...        90        91        92  \\\n",
       "0     0.082098 -0.029750  0.000000  ... -0.057118  0.044940 -0.028270   \n",
       "1    -0.142921 -0.019674 -0.078623  ... -0.140303 -0.015280  0.172814   \n",
       "2     0.163417  0.192063  0.093354  ...  0.152722  0.070459  0.131843   \n",
       "3     0.019393 -0.013329 -0.021832  ...  0.008645  0.027255  0.041228   \n",
       "4    -0.055929  0.012651  0.023414  ... -0.082498 -0.028524 -0.002546   \n",
       "..         ...       ...       ...  ...       ...       ...       ...   \n",
       "386   0.010615  0.064913  0.044247  ... -0.050976  0.031649 -0.001340   \n",
       "387  -0.121270 -0.122420 -0.114944  ... -0.083564 -0.114077 -0.044625   \n",
       "388   0.059768  0.083085  0.065666  ...  0.046000  0.122856  0.070052   \n",
       "389   0.003154 -0.026105  0.010720  ... -0.019048 -0.056473 -0.022023   \n",
       "390        NaN       NaN       NaN  ...       NaN       NaN       NaN   \n",
       "\n",
       "port        93        94        95        96        97        98        99  \n",
       "0     0.159240  0.150790  0.038678 -0.074283       NaN  0.121464  0.065419  \n",
       "1    -0.009038  0.022134 -0.117182 -0.019656  0.047458 -0.064597  0.011029  \n",
       "2     0.163947  0.176467  0.114783  0.133280  0.178196  0.185923  0.014659  \n",
       "3     0.005195  0.056063  0.052660  0.091324  0.120535 -0.006898  0.021891  \n",
       "4     0.000209 -0.068353  0.044413 -0.031074  0.009013 -0.090258 -0.062963  \n",
       "..         ...       ...       ...       ...       ...       ...       ...  \n",
       "386  -0.027785 -0.035516  0.016096 -0.005314 -0.025591  0.036190  0.063377  \n",
       "387  -0.069244 -0.074745 -0.096837 -0.052114 -0.080950 -0.055073 -0.061737  \n",
       "388   0.178872  0.114934  0.101067  0.075926  0.112517  0.115665  0.184268  \n",
       "389  -0.102442  0.003677  0.019909 -0.016221 -0.034079 -0.043464 -0.087413  \n",
       "390        NaN       NaN       NaN       NaN       NaN       NaN       NaN  \n",
       "\n",
       "[391 rows x 101 columns]"
      ]
     },
     "execution_count": 10,
     "metadata": {},
     "output_type": "execute_result"
    }
   ],
   "source": [
    "port_df"
   ]
  },
  {
   "cell_type": "code",
   "execution_count": 11,
   "id": "30e73cb5",
   "metadata": {},
   "outputs": [
    {
     "data": {
      "text/html": [
       "<div>\n",
       "<style scoped>\n",
       "    .dataframe tbody tr th:only-of-type {\n",
       "        vertical-align: middle;\n",
       "    }\n",
       "\n",
       "    .dataframe tbody tr th {\n",
       "        vertical-align: top;\n",
       "    }\n",
       "\n",
       "    .dataframe thead th {\n",
       "        text-align: right;\n",
       "    }\n",
       "</style>\n",
       "<table border=\"1\" class=\"dataframe\">\n",
       "  <thead>\n",
       "    <tr style=\"text-align: right;\">\n",
       "      <th>port</th>\n",
       "      <th>date</th>\n",
       "      <th>1</th>\n",
       "      <th>10</th>\n",
       "      <th>100</th>\n",
       "      <th>11</th>\n",
       "      <th>12</th>\n",
       "      <th>13</th>\n",
       "      <th>14</th>\n",
       "      <th>15</th>\n",
       "      <th>16</th>\n",
       "      <th>...</th>\n",
       "      <th>91</th>\n",
       "      <th>92</th>\n",
       "      <th>93</th>\n",
       "      <th>94</th>\n",
       "      <th>95</th>\n",
       "      <th>96</th>\n",
       "      <th>97</th>\n",
       "      <th>98</th>\n",
       "      <th>99</th>\n",
       "      <th>HML_rets</th>\n",
       "    </tr>\n",
       "  </thead>\n",
       "  <tbody>\n",
       "    <tr>\n",
       "      <th>0</th>\n",
       "      <td>1990-02-28</td>\n",
       "      <td>0.033242</td>\n",
       "      <td>-0.126866</td>\n",
       "      <td>-0.156561</td>\n",
       "      <td>0.179321</td>\n",
       "      <td>-0.064691</td>\n",
       "      <td>0.035088</td>\n",
       "      <td>0.082098</td>\n",
       "      <td>-0.029750</td>\n",
       "      <td>0.000000</td>\n",
       "      <td>...</td>\n",
       "      <td>0.044940</td>\n",
       "      <td>-0.028270</td>\n",
       "      <td>0.159240</td>\n",
       "      <td>0.150790</td>\n",
       "      <td>0.038678</td>\n",
       "      <td>-0.074283</td>\n",
       "      <td>NaN</td>\n",
       "      <td>0.121464</td>\n",
       "      <td>0.065419</td>\n",
       "      <td>NaN</td>\n",
       "    </tr>\n",
       "    <tr>\n",
       "      <th>1</th>\n",
       "      <td>1990-03-30</td>\n",
       "      <td>-0.051843</td>\n",
       "      <td>-0.051948</td>\n",
       "      <td>0.004823</td>\n",
       "      <td>0.131632</td>\n",
       "      <td>-0.079424</td>\n",
       "      <td>-0.131436</td>\n",
       "      <td>-0.142921</td>\n",
       "      <td>-0.019674</td>\n",
       "      <td>-0.078623</td>\n",
       "      <td>...</td>\n",
       "      <td>-0.015280</td>\n",
       "      <td>0.172814</td>\n",
       "      <td>-0.009038</td>\n",
       "      <td>0.022134</td>\n",
       "      <td>-0.117182</td>\n",
       "      <td>-0.019656</td>\n",
       "      <td>0.047458</td>\n",
       "      <td>-0.064597</td>\n",
       "      <td>0.011029</td>\n",
       "      <td>0.189803</td>\n",
       "    </tr>\n",
       "    <tr>\n",
       "      <th>2</th>\n",
       "      <td>1990-04-30</td>\n",
       "      <td>0.067118</td>\n",
       "      <td>0.065093</td>\n",
       "      <td>0.147206</td>\n",
       "      <td>0.089874</td>\n",
       "      <td>0.019866</td>\n",
       "      <td>0.075480</td>\n",
       "      <td>0.163417</td>\n",
       "      <td>0.192063</td>\n",
       "      <td>0.093354</td>\n",
       "      <td>...</td>\n",
       "      <td>0.070459</td>\n",
       "      <td>0.131843</td>\n",
       "      <td>0.163947</td>\n",
       "      <td>0.176467</td>\n",
       "      <td>0.114783</td>\n",
       "      <td>0.133280</td>\n",
       "      <td>0.178196</td>\n",
       "      <td>0.185923</td>\n",
       "      <td>0.014659</td>\n",
       "      <td>-0.056666</td>\n",
       "    </tr>\n",
       "    <tr>\n",
       "      <th>3</th>\n",
       "      <td>1990-05-31</td>\n",
       "      <td>0.030538</td>\n",
       "      <td>-0.045115</td>\n",
       "      <td>-0.029486</td>\n",
       "      <td>-0.061293</td>\n",
       "      <td>-0.078423</td>\n",
       "      <td>0.048612</td>\n",
       "      <td>0.019393</td>\n",
       "      <td>-0.013329</td>\n",
       "      <td>-0.021832</td>\n",
       "      <td>...</td>\n",
       "      <td>0.027255</td>\n",
       "      <td>0.041228</td>\n",
       "      <td>0.005195</td>\n",
       "      <td>0.056063</td>\n",
       "      <td>0.052660</td>\n",
       "      <td>0.091324</td>\n",
       "      <td>0.120535</td>\n",
       "      <td>-0.006898</td>\n",
       "      <td>0.021891</td>\n",
       "      <td>-0.080088</td>\n",
       "    </tr>\n",
       "    <tr>\n",
       "      <th>4</th>\n",
       "      <td>1990-06-29</td>\n",
       "      <td>0.021787</td>\n",
       "      <td>-0.024645</td>\n",
       "      <td>-0.059288</td>\n",
       "      <td>-0.044636</td>\n",
       "      <td>-0.099055</td>\n",
       "      <td>-0.036241</td>\n",
       "      <td>-0.055929</td>\n",
       "      <td>0.012651</td>\n",
       "      <td>0.023414</td>\n",
       "      <td>...</td>\n",
       "      <td>-0.028524</td>\n",
       "      <td>-0.002546</td>\n",
       "      <td>0.000209</td>\n",
       "      <td>-0.068353</td>\n",
       "      <td>0.044413</td>\n",
       "      <td>-0.031074</td>\n",
       "      <td>0.009013</td>\n",
       "      <td>-0.090258</td>\n",
       "      <td>-0.062963</td>\n",
       "      <td>0.060024</td>\n",
       "    </tr>\n",
       "    <tr>\n",
       "      <th>...</th>\n",
       "      <td>...</td>\n",
       "      <td>...</td>\n",
       "      <td>...</td>\n",
       "      <td>...</td>\n",
       "      <td>...</td>\n",
       "      <td>...</td>\n",
       "      <td>...</td>\n",
       "      <td>...</td>\n",
       "      <td>...</td>\n",
       "      <td>...</td>\n",
       "      <td>...</td>\n",
       "      <td>...</td>\n",
       "      <td>...</td>\n",
       "      <td>...</td>\n",
       "      <td>...</td>\n",
       "      <td>...</td>\n",
       "      <td>...</td>\n",
       "      <td>...</td>\n",
       "      <td>...</td>\n",
       "      <td>...</td>\n",
       "      <td>...</td>\n",
       "    </tr>\n",
       "    <tr>\n",
       "      <th>386</th>\n",
       "      <td>2022-04-29</td>\n",
       "      <td>0.105623</td>\n",
       "      <td>-0.055662</td>\n",
       "      <td>0.025402</td>\n",
       "      <td>0.044583</td>\n",
       "      <td>0.055018</td>\n",
       "      <td>0.062394</td>\n",
       "      <td>0.010615</td>\n",
       "      <td>0.064913</td>\n",
       "      <td>0.044247</td>\n",
       "      <td>...</td>\n",
       "      <td>0.031649</td>\n",
       "      <td>-0.001340</td>\n",
       "      <td>-0.027785</td>\n",
       "      <td>-0.035516</td>\n",
       "      <td>0.016096</td>\n",
       "      <td>-0.005314</td>\n",
       "      <td>-0.025591</td>\n",
       "      <td>0.036190</td>\n",
       "      <td>0.063377</td>\n",
       "      <td>-0.015806</td>\n",
       "    </tr>\n",
       "    <tr>\n",
       "      <th>387</th>\n",
       "      <td>2022-05-31</td>\n",
       "      <td>-0.164150</td>\n",
       "      <td>-0.141159</td>\n",
       "      <td>-0.048654</td>\n",
       "      <td>-0.124567</td>\n",
       "      <td>-0.117195</td>\n",
       "      <td>-0.119350</td>\n",
       "      <td>-0.121270</td>\n",
       "      <td>-0.122420</td>\n",
       "      <td>-0.114944</td>\n",
       "      <td>...</td>\n",
       "      <td>-0.114077</td>\n",
       "      <td>-0.044625</td>\n",
       "      <td>-0.069244</td>\n",
       "      <td>-0.074745</td>\n",
       "      <td>-0.096837</td>\n",
       "      <td>-0.052114</td>\n",
       "      <td>-0.080950</td>\n",
       "      <td>-0.055073</td>\n",
       "      <td>-0.061737</td>\n",
       "      <td>0.080221</td>\n",
       "    </tr>\n",
       "    <tr>\n",
       "      <th>388</th>\n",
       "      <td>2022-06-30</td>\n",
       "      <td>0.156580</td>\n",
       "      <td>0.115007</td>\n",
       "      <td>0.063567</td>\n",
       "      <td>0.105947</td>\n",
       "      <td>0.111160</td>\n",
       "      <td>0.092972</td>\n",
       "      <td>0.059768</td>\n",
       "      <td>0.083085</td>\n",
       "      <td>0.065666</td>\n",
       "      <td>...</td>\n",
       "      <td>0.122856</td>\n",
       "      <td>0.070052</td>\n",
       "      <td>0.178872</td>\n",
       "      <td>0.114934</td>\n",
       "      <td>0.101067</td>\n",
       "      <td>0.075926</td>\n",
       "      <td>0.112517</td>\n",
       "      <td>0.115665</td>\n",
       "      <td>0.184268</td>\n",
       "      <td>-0.115497</td>\n",
       "    </tr>\n",
       "    <tr>\n",
       "      <th>389</th>\n",
       "      <td>2022-07-29</td>\n",
       "      <td>0.014708</td>\n",
       "      <td>-0.046845</td>\n",
       "      <td>-0.041762</td>\n",
       "      <td>0.006201</td>\n",
       "      <td>-0.011484</td>\n",
       "      <td>-0.032647</td>\n",
       "      <td>0.003154</td>\n",
       "      <td>-0.026105</td>\n",
       "      <td>0.010720</td>\n",
       "      <td>...</td>\n",
       "      <td>-0.056473</td>\n",
       "      <td>-0.022023</td>\n",
       "      <td>-0.102442</td>\n",
       "      <td>0.003677</td>\n",
       "      <td>0.019909</td>\n",
       "      <td>-0.016221</td>\n",
       "      <td>-0.034079</td>\n",
       "      <td>-0.043464</td>\n",
       "      <td>-0.087413</td>\n",
       "      <td>0.093013</td>\n",
       "    </tr>\n",
       "    <tr>\n",
       "      <th>390</th>\n",
       "      <td>2022-08-30</td>\n",
       "      <td>NaN</td>\n",
       "      <td>NaN</td>\n",
       "      <td>NaN</td>\n",
       "      <td>NaN</td>\n",
       "      <td>NaN</td>\n",
       "      <td>NaN</td>\n",
       "      <td>NaN</td>\n",
       "      <td>NaN</td>\n",
       "      <td>NaN</td>\n",
       "      <td>...</td>\n",
       "      <td>NaN</td>\n",
       "      <td>NaN</td>\n",
       "      <td>NaN</td>\n",
       "      <td>NaN</td>\n",
       "      <td>NaN</td>\n",
       "      <td>NaN</td>\n",
       "      <td>NaN</td>\n",
       "      <td>NaN</td>\n",
       "      <td>NaN</td>\n",
       "      <td>0.056470</td>\n",
       "    </tr>\n",
       "  </tbody>\n",
       "</table>\n",
       "<p>391 rows × 102 columns</p>\n",
       "</div>"
      ],
      "text/plain": [
       "port        date         1        10       100        11        12        13  \\\n",
       "0     1990-02-28  0.033242 -0.126866 -0.156561  0.179321 -0.064691  0.035088   \n",
       "1     1990-03-30 -0.051843 -0.051948  0.004823  0.131632 -0.079424 -0.131436   \n",
       "2     1990-04-30  0.067118  0.065093  0.147206  0.089874  0.019866  0.075480   \n",
       "3     1990-05-31  0.030538 -0.045115 -0.029486 -0.061293 -0.078423  0.048612   \n",
       "4     1990-06-29  0.021787 -0.024645 -0.059288 -0.044636 -0.099055 -0.036241   \n",
       "..           ...       ...       ...       ...       ...       ...       ...   \n",
       "386   2022-04-29  0.105623 -0.055662  0.025402  0.044583  0.055018  0.062394   \n",
       "387   2022-05-31 -0.164150 -0.141159 -0.048654 -0.124567 -0.117195 -0.119350   \n",
       "388   2022-06-30  0.156580  0.115007  0.063567  0.105947  0.111160  0.092972   \n",
       "389   2022-07-29  0.014708 -0.046845 -0.041762  0.006201 -0.011484 -0.032647   \n",
       "390   2022-08-30       NaN       NaN       NaN       NaN       NaN       NaN   \n",
       "\n",
       "port        14        15        16  ...        91        92        93  \\\n",
       "0     0.082098 -0.029750  0.000000  ...  0.044940 -0.028270  0.159240   \n",
       "1    -0.142921 -0.019674 -0.078623  ... -0.015280  0.172814 -0.009038   \n",
       "2     0.163417  0.192063  0.093354  ...  0.070459  0.131843  0.163947   \n",
       "3     0.019393 -0.013329 -0.021832  ...  0.027255  0.041228  0.005195   \n",
       "4    -0.055929  0.012651  0.023414  ... -0.028524 -0.002546  0.000209   \n",
       "..         ...       ...       ...  ...       ...       ...       ...   \n",
       "386   0.010615  0.064913  0.044247  ...  0.031649 -0.001340 -0.027785   \n",
       "387  -0.121270 -0.122420 -0.114944  ... -0.114077 -0.044625 -0.069244   \n",
       "388   0.059768  0.083085  0.065666  ...  0.122856  0.070052  0.178872   \n",
       "389   0.003154 -0.026105  0.010720  ... -0.056473 -0.022023 -0.102442   \n",
       "390        NaN       NaN       NaN  ...       NaN       NaN       NaN   \n",
       "\n",
       "port        94        95        96        97        98        99  HML_rets  \n",
       "0     0.150790  0.038678 -0.074283       NaN  0.121464  0.065419       NaN  \n",
       "1     0.022134 -0.117182 -0.019656  0.047458 -0.064597  0.011029  0.189803  \n",
       "2     0.176467  0.114783  0.133280  0.178196  0.185923  0.014659 -0.056666  \n",
       "3     0.056063  0.052660  0.091324  0.120535 -0.006898  0.021891 -0.080088  \n",
       "4    -0.068353  0.044413 -0.031074  0.009013 -0.090258 -0.062963  0.060024  \n",
       "..         ...       ...       ...       ...       ...       ...       ...  \n",
       "386  -0.035516  0.016096 -0.005314 -0.025591  0.036190  0.063377 -0.015806  \n",
       "387  -0.074745 -0.096837 -0.052114 -0.080950 -0.055073 -0.061737  0.080221  \n",
       "388   0.114934  0.101067  0.075926  0.112517  0.115665  0.184268 -0.115497  \n",
       "389   0.003677  0.019909 -0.016221 -0.034079 -0.043464 -0.087413  0.093013  \n",
       "390        NaN       NaN       NaN       NaN       NaN       NaN  0.056470  \n",
       "\n",
       "[391 rows x 102 columns]"
      ]
     },
     "execution_count": 11,
     "metadata": {},
     "output_type": "execute_result"
    }
   ],
   "source": [
    "port_df['HML_rets'] = port_df['1']-port_df['100']\n",
    "port_df['HML_rets'] = port_df['HML_rets'].transform('shift', periods=1)\n",
    "port_df"
   ]
  },
  {
   "cell_type": "code",
   "execution_count": 12,
   "id": "c62b1596",
   "metadata": {},
   "outputs": [],
   "source": [
    "# calculate cumulative returns\n",
    "port_df['HML_cum_rets'] = (1+port_df['HML_rets']).cumprod()"
   ]
  },
  {
   "cell_type": "code",
   "execution_count": 13,
   "id": "c2c90487",
   "metadata": {},
   "outputs": [
    {
     "data": {
      "text/html": [
       "<div>\n",
       "<style scoped>\n",
       "    .dataframe tbody tr th:only-of-type {\n",
       "        vertical-align: middle;\n",
       "    }\n",
       "\n",
       "    .dataframe tbody tr th {\n",
       "        vertical-align: top;\n",
       "    }\n",
       "\n",
       "    .dataframe thead th {\n",
       "        text-align: right;\n",
       "    }\n",
       "</style>\n",
       "<table border=\"1\" class=\"dataframe\">\n",
       "  <thead>\n",
       "    <tr style=\"text-align: right;\">\n",
       "      <th>port</th>\n",
       "      <th>date</th>\n",
       "      <th>1</th>\n",
       "      <th>10</th>\n",
       "      <th>100</th>\n",
       "      <th>11</th>\n",
       "      <th>12</th>\n",
       "      <th>13</th>\n",
       "      <th>14</th>\n",
       "      <th>15</th>\n",
       "      <th>16</th>\n",
       "      <th>...</th>\n",
       "      <th>92</th>\n",
       "      <th>93</th>\n",
       "      <th>94</th>\n",
       "      <th>95</th>\n",
       "      <th>96</th>\n",
       "      <th>97</th>\n",
       "      <th>98</th>\n",
       "      <th>99</th>\n",
       "      <th>HML_rets</th>\n",
       "      <th>HML_cum_rets</th>\n",
       "    </tr>\n",
       "  </thead>\n",
       "  <tbody>\n",
       "    <tr>\n",
       "      <th>0</th>\n",
       "      <td>1990-02-28</td>\n",
       "      <td>0.033242</td>\n",
       "      <td>-0.126866</td>\n",
       "      <td>-0.156561</td>\n",
       "      <td>0.179321</td>\n",
       "      <td>-0.064691</td>\n",
       "      <td>0.035088</td>\n",
       "      <td>0.082098</td>\n",
       "      <td>-0.029750</td>\n",
       "      <td>0.000000</td>\n",
       "      <td>...</td>\n",
       "      <td>-0.028270</td>\n",
       "      <td>0.159240</td>\n",
       "      <td>0.150790</td>\n",
       "      <td>0.038678</td>\n",
       "      <td>-0.074283</td>\n",
       "      <td>NaN</td>\n",
       "      <td>0.121464</td>\n",
       "      <td>0.065419</td>\n",
       "      <td>NaN</td>\n",
       "      <td>NaN</td>\n",
       "    </tr>\n",
       "    <tr>\n",
       "      <th>1</th>\n",
       "      <td>1990-03-30</td>\n",
       "      <td>-0.051843</td>\n",
       "      <td>-0.051948</td>\n",
       "      <td>0.004823</td>\n",
       "      <td>0.131632</td>\n",
       "      <td>-0.079424</td>\n",
       "      <td>-0.131436</td>\n",
       "      <td>-0.142921</td>\n",
       "      <td>-0.019674</td>\n",
       "      <td>-0.078623</td>\n",
       "      <td>...</td>\n",
       "      <td>0.172814</td>\n",
       "      <td>-0.009038</td>\n",
       "      <td>0.022134</td>\n",
       "      <td>-0.117182</td>\n",
       "      <td>-0.019656</td>\n",
       "      <td>0.047458</td>\n",
       "      <td>-0.064597</td>\n",
       "      <td>0.011029</td>\n",
       "      <td>0.189803</td>\n",
       "      <td>1.189803</td>\n",
       "    </tr>\n",
       "    <tr>\n",
       "      <th>2</th>\n",
       "      <td>1990-04-30</td>\n",
       "      <td>0.067118</td>\n",
       "      <td>0.065093</td>\n",
       "      <td>0.147206</td>\n",
       "      <td>0.089874</td>\n",
       "      <td>0.019866</td>\n",
       "      <td>0.075480</td>\n",
       "      <td>0.163417</td>\n",
       "      <td>0.192063</td>\n",
       "      <td>0.093354</td>\n",
       "      <td>...</td>\n",
       "      <td>0.131843</td>\n",
       "      <td>0.163947</td>\n",
       "      <td>0.176467</td>\n",
       "      <td>0.114783</td>\n",
       "      <td>0.133280</td>\n",
       "      <td>0.178196</td>\n",
       "      <td>0.185923</td>\n",
       "      <td>0.014659</td>\n",
       "      <td>-0.056666</td>\n",
       "      <td>1.122382</td>\n",
       "    </tr>\n",
       "    <tr>\n",
       "      <th>3</th>\n",
       "      <td>1990-05-31</td>\n",
       "      <td>0.030538</td>\n",
       "      <td>-0.045115</td>\n",
       "      <td>-0.029486</td>\n",
       "      <td>-0.061293</td>\n",
       "      <td>-0.078423</td>\n",
       "      <td>0.048612</td>\n",
       "      <td>0.019393</td>\n",
       "      <td>-0.013329</td>\n",
       "      <td>-0.021832</td>\n",
       "      <td>...</td>\n",
       "      <td>0.041228</td>\n",
       "      <td>0.005195</td>\n",
       "      <td>0.056063</td>\n",
       "      <td>0.052660</td>\n",
       "      <td>0.091324</td>\n",
       "      <td>0.120535</td>\n",
       "      <td>-0.006898</td>\n",
       "      <td>0.021891</td>\n",
       "      <td>-0.080088</td>\n",
       "      <td>1.032492</td>\n",
       "    </tr>\n",
       "    <tr>\n",
       "      <th>4</th>\n",
       "      <td>1990-06-29</td>\n",
       "      <td>0.021787</td>\n",
       "      <td>-0.024645</td>\n",
       "      <td>-0.059288</td>\n",
       "      <td>-0.044636</td>\n",
       "      <td>-0.099055</td>\n",
       "      <td>-0.036241</td>\n",
       "      <td>-0.055929</td>\n",
       "      <td>0.012651</td>\n",
       "      <td>0.023414</td>\n",
       "      <td>...</td>\n",
       "      <td>-0.002546</td>\n",
       "      <td>0.000209</td>\n",
       "      <td>-0.068353</td>\n",
       "      <td>0.044413</td>\n",
       "      <td>-0.031074</td>\n",
       "      <td>0.009013</td>\n",
       "      <td>-0.090258</td>\n",
       "      <td>-0.062963</td>\n",
       "      <td>0.060024</td>\n",
       "      <td>1.094467</td>\n",
       "    </tr>\n",
       "    <tr>\n",
       "      <th>...</th>\n",
       "      <td>...</td>\n",
       "      <td>...</td>\n",
       "      <td>...</td>\n",
       "      <td>...</td>\n",
       "      <td>...</td>\n",
       "      <td>...</td>\n",
       "      <td>...</td>\n",
       "      <td>...</td>\n",
       "      <td>...</td>\n",
       "      <td>...</td>\n",
       "      <td>...</td>\n",
       "      <td>...</td>\n",
       "      <td>...</td>\n",
       "      <td>...</td>\n",
       "      <td>...</td>\n",
       "      <td>...</td>\n",
       "      <td>...</td>\n",
       "      <td>...</td>\n",
       "      <td>...</td>\n",
       "      <td>...</td>\n",
       "      <td>...</td>\n",
       "    </tr>\n",
       "    <tr>\n",
       "      <th>386</th>\n",
       "      <td>2022-04-29</td>\n",
       "      <td>0.105623</td>\n",
       "      <td>-0.055662</td>\n",
       "      <td>0.025402</td>\n",
       "      <td>0.044583</td>\n",
       "      <td>0.055018</td>\n",
       "      <td>0.062394</td>\n",
       "      <td>0.010615</td>\n",
       "      <td>0.064913</td>\n",
       "      <td>0.044247</td>\n",
       "      <td>...</td>\n",
       "      <td>-0.001340</td>\n",
       "      <td>-0.027785</td>\n",
       "      <td>-0.035516</td>\n",
       "      <td>0.016096</td>\n",
       "      <td>-0.005314</td>\n",
       "      <td>-0.025591</td>\n",
       "      <td>0.036190</td>\n",
       "      <td>0.063377</td>\n",
       "      <td>-0.015806</td>\n",
       "      <td>1.846244</td>\n",
       "    </tr>\n",
       "    <tr>\n",
       "      <th>387</th>\n",
       "      <td>2022-05-31</td>\n",
       "      <td>-0.164150</td>\n",
       "      <td>-0.141159</td>\n",
       "      <td>-0.048654</td>\n",
       "      <td>-0.124567</td>\n",
       "      <td>-0.117195</td>\n",
       "      <td>-0.119350</td>\n",
       "      <td>-0.121270</td>\n",
       "      <td>-0.122420</td>\n",
       "      <td>-0.114944</td>\n",
       "      <td>...</td>\n",
       "      <td>-0.044625</td>\n",
       "      <td>-0.069244</td>\n",
       "      <td>-0.074745</td>\n",
       "      <td>-0.096837</td>\n",
       "      <td>-0.052114</td>\n",
       "      <td>-0.080950</td>\n",
       "      <td>-0.055073</td>\n",
       "      <td>-0.061737</td>\n",
       "      <td>0.080221</td>\n",
       "      <td>1.994352</td>\n",
       "    </tr>\n",
       "    <tr>\n",
       "      <th>388</th>\n",
       "      <td>2022-06-30</td>\n",
       "      <td>0.156580</td>\n",
       "      <td>0.115007</td>\n",
       "      <td>0.063567</td>\n",
       "      <td>0.105947</td>\n",
       "      <td>0.111160</td>\n",
       "      <td>0.092972</td>\n",
       "      <td>0.059768</td>\n",
       "      <td>0.083085</td>\n",
       "      <td>0.065666</td>\n",
       "      <td>...</td>\n",
       "      <td>0.070052</td>\n",
       "      <td>0.178872</td>\n",
       "      <td>0.114934</td>\n",
       "      <td>0.101067</td>\n",
       "      <td>0.075926</td>\n",
       "      <td>0.112517</td>\n",
       "      <td>0.115665</td>\n",
       "      <td>0.184268</td>\n",
       "      <td>-0.115497</td>\n",
       "      <td>1.764011</td>\n",
       "    </tr>\n",
       "    <tr>\n",
       "      <th>389</th>\n",
       "      <td>2022-07-29</td>\n",
       "      <td>0.014708</td>\n",
       "      <td>-0.046845</td>\n",
       "      <td>-0.041762</td>\n",
       "      <td>0.006201</td>\n",
       "      <td>-0.011484</td>\n",
       "      <td>-0.032647</td>\n",
       "      <td>0.003154</td>\n",
       "      <td>-0.026105</td>\n",
       "      <td>0.010720</td>\n",
       "      <td>...</td>\n",
       "      <td>-0.022023</td>\n",
       "      <td>-0.102442</td>\n",
       "      <td>0.003677</td>\n",
       "      <td>0.019909</td>\n",
       "      <td>-0.016221</td>\n",
       "      <td>-0.034079</td>\n",
       "      <td>-0.043464</td>\n",
       "      <td>-0.087413</td>\n",
       "      <td>0.093013</td>\n",
       "      <td>1.928086</td>\n",
       "    </tr>\n",
       "    <tr>\n",
       "      <th>390</th>\n",
       "      <td>2022-08-30</td>\n",
       "      <td>NaN</td>\n",
       "      <td>NaN</td>\n",
       "      <td>NaN</td>\n",
       "      <td>NaN</td>\n",
       "      <td>NaN</td>\n",
       "      <td>NaN</td>\n",
       "      <td>NaN</td>\n",
       "      <td>NaN</td>\n",
       "      <td>NaN</td>\n",
       "      <td>...</td>\n",
       "      <td>NaN</td>\n",
       "      <td>NaN</td>\n",
       "      <td>NaN</td>\n",
       "      <td>NaN</td>\n",
       "      <td>NaN</td>\n",
       "      <td>NaN</td>\n",
       "      <td>NaN</td>\n",
       "      <td>NaN</td>\n",
       "      <td>0.056470</td>\n",
       "      <td>2.036965</td>\n",
       "    </tr>\n",
       "  </tbody>\n",
       "</table>\n",
       "<p>391 rows × 103 columns</p>\n",
       "</div>"
      ],
      "text/plain": [
       "port        date         1        10       100        11        12        13  \\\n",
       "0     1990-02-28  0.033242 -0.126866 -0.156561  0.179321 -0.064691  0.035088   \n",
       "1     1990-03-30 -0.051843 -0.051948  0.004823  0.131632 -0.079424 -0.131436   \n",
       "2     1990-04-30  0.067118  0.065093  0.147206  0.089874  0.019866  0.075480   \n",
       "3     1990-05-31  0.030538 -0.045115 -0.029486 -0.061293 -0.078423  0.048612   \n",
       "4     1990-06-29  0.021787 -0.024645 -0.059288 -0.044636 -0.099055 -0.036241   \n",
       "..           ...       ...       ...       ...       ...       ...       ...   \n",
       "386   2022-04-29  0.105623 -0.055662  0.025402  0.044583  0.055018  0.062394   \n",
       "387   2022-05-31 -0.164150 -0.141159 -0.048654 -0.124567 -0.117195 -0.119350   \n",
       "388   2022-06-30  0.156580  0.115007  0.063567  0.105947  0.111160  0.092972   \n",
       "389   2022-07-29  0.014708 -0.046845 -0.041762  0.006201 -0.011484 -0.032647   \n",
       "390   2022-08-30       NaN       NaN       NaN       NaN       NaN       NaN   \n",
       "\n",
       "port        14        15        16  ...        92        93        94  \\\n",
       "0     0.082098 -0.029750  0.000000  ... -0.028270  0.159240  0.150790   \n",
       "1    -0.142921 -0.019674 -0.078623  ...  0.172814 -0.009038  0.022134   \n",
       "2     0.163417  0.192063  0.093354  ...  0.131843  0.163947  0.176467   \n",
       "3     0.019393 -0.013329 -0.021832  ...  0.041228  0.005195  0.056063   \n",
       "4    -0.055929  0.012651  0.023414  ... -0.002546  0.000209 -0.068353   \n",
       "..         ...       ...       ...  ...       ...       ...       ...   \n",
       "386   0.010615  0.064913  0.044247  ... -0.001340 -0.027785 -0.035516   \n",
       "387  -0.121270 -0.122420 -0.114944  ... -0.044625 -0.069244 -0.074745   \n",
       "388   0.059768  0.083085  0.065666  ...  0.070052  0.178872  0.114934   \n",
       "389   0.003154 -0.026105  0.010720  ... -0.022023 -0.102442  0.003677   \n",
       "390        NaN       NaN       NaN  ...       NaN       NaN       NaN   \n",
       "\n",
       "port        95        96        97        98        99  HML_rets  HML_cum_rets  \n",
       "0     0.038678 -0.074283       NaN  0.121464  0.065419       NaN           NaN  \n",
       "1    -0.117182 -0.019656  0.047458 -0.064597  0.011029  0.189803      1.189803  \n",
       "2     0.114783  0.133280  0.178196  0.185923  0.014659 -0.056666      1.122382  \n",
       "3     0.052660  0.091324  0.120535 -0.006898  0.021891 -0.080088      1.032492  \n",
       "4     0.044413 -0.031074  0.009013 -0.090258 -0.062963  0.060024      1.094467  \n",
       "..         ...       ...       ...       ...       ...       ...           ...  \n",
       "386   0.016096 -0.005314 -0.025591  0.036190  0.063377 -0.015806      1.846244  \n",
       "387  -0.096837 -0.052114 -0.080950 -0.055073 -0.061737  0.080221      1.994352  \n",
       "388   0.101067  0.075926  0.112517  0.115665  0.184268 -0.115497      1.764011  \n",
       "389   0.019909 -0.016221 -0.034079 -0.043464 -0.087413  0.093013      1.928086  \n",
       "390        NaN       NaN       NaN       NaN       NaN  0.056470      2.036965  \n",
       "\n",
       "[391 rows x 103 columns]"
      ]
     },
     "execution_count": 13,
     "metadata": {},
     "output_type": "execute_result"
    }
   ],
   "source": [
    "port_df"
   ]
  },
  {
   "cell_type": "code",
   "execution_count": 14,
   "id": "fb1e2a61",
   "metadata": {
    "scrolled": false
   },
   "outputs": [
    {
     "data": {
      "application/vnd.plotly.v1+json": {
       "config": {
        "plotlyServerURL": "https://plot.ly"
       },
       "data": [
        {
         "hovertemplate": "date=%{x}<br>Cumulative returns=%{y}<extra></extra>",
         "legendgroup": "",
         "line": {
          "color": "#636efa",
          "dash": "solid"
         },
         "marker": {
          "symbol": "circle"
         },
         "mode": "lines",
         "name": "",
         "orientation": "v",
         "showlegend": false,
         "type": "scatter",
         "x": [
          "1990-02-28",
          "1990-03-30",
          "1990-04-30",
          "1990-05-31",
          "1990-06-29",
          "1990-07-31",
          "1990-08-31",
          "1990-09-28",
          "1990-10-31",
          "1990-11-30",
          "1990-12-31",
          "1991-01-31",
          "1991-02-28",
          "1991-03-28",
          "1991-04-30",
          "1991-05-31",
          "1991-06-28",
          "1991-07-31",
          "1991-08-30",
          "1991-09-30",
          "1991-10-31",
          "1991-11-29",
          "1991-12-31",
          "1992-01-31",
          "1992-02-28",
          "1992-03-31",
          "1992-04-30",
          "1992-05-29",
          "1992-06-30",
          "1992-07-31",
          "1992-08-31",
          "1992-09-30",
          "1992-10-30",
          "1992-11-30",
          "1992-12-31",
          "1993-01-29",
          "1993-02-26",
          "1993-03-31",
          "1993-04-30",
          "1993-05-28",
          "1993-06-30",
          "1993-07-30",
          "1993-08-31",
          "1993-09-30",
          "1993-10-29",
          "1993-11-30",
          "1993-12-31",
          "1994-01-31",
          "1994-02-28",
          "1994-03-31",
          "1994-04-29",
          "1994-05-31",
          "1994-06-30",
          "1994-07-29",
          "1994-08-31",
          "1994-09-30",
          "1994-10-31",
          "1994-11-30",
          "1994-12-30",
          "1995-01-31",
          "1995-02-28",
          "1995-03-31",
          "1995-04-28",
          "1995-05-31",
          "1995-06-30",
          "1995-07-31",
          "1995-08-31",
          "1995-09-29",
          "1995-10-31",
          "1995-11-30",
          "1995-12-29",
          "1996-01-31",
          "1996-02-29",
          "1996-03-29",
          "1996-04-30",
          "1996-05-31",
          "1996-06-28",
          "1996-07-31",
          "1996-08-30",
          "1996-09-30",
          "1996-10-31",
          "1996-11-29",
          "1996-12-31",
          "1997-01-31",
          "1997-02-28",
          "1997-03-31",
          "1997-04-30",
          "1997-05-30",
          "1997-06-30",
          "1997-07-31",
          "1997-08-29",
          "1997-09-30",
          "1997-10-31",
          "1997-11-28",
          "1997-12-31",
          "1998-01-30",
          "1998-02-27",
          "1998-03-31",
          "1998-04-30",
          "1998-05-29",
          "1998-06-30",
          "1998-07-31",
          "1998-08-31",
          "1998-09-30",
          "1998-10-30",
          "1998-11-30",
          "1998-12-31",
          "1999-01-29",
          "1999-02-26",
          "1999-03-31",
          "1999-04-30",
          "1999-05-28",
          "1999-06-30",
          "1999-07-30",
          "1999-08-31",
          "1999-09-30",
          "1999-10-29",
          "1999-11-30",
          "1999-12-31",
          "2000-01-31",
          "2000-02-29",
          "2000-03-31",
          "2000-04-28",
          "2000-05-31",
          "2000-06-30",
          "2000-07-31",
          "2000-08-31",
          "2000-09-29",
          "2000-10-31",
          "2000-11-30",
          "2000-12-29",
          "2001-01-31",
          "2001-02-28",
          "2001-03-30",
          "2001-04-30",
          "2001-05-31",
          "2001-06-29",
          "2001-07-31",
          "2001-08-31",
          "2001-09-28",
          "2001-10-31",
          "2001-11-30",
          "2001-12-31",
          "2002-01-31",
          "2002-02-28",
          "2002-03-28",
          "2002-04-30",
          "2002-05-31",
          "2002-06-28",
          "2002-07-31",
          "2002-08-30",
          "2002-09-30",
          "2002-10-31",
          "2002-11-29",
          "2002-12-31",
          "2003-01-31",
          "2003-02-28",
          "2003-03-31",
          "2003-04-30",
          "2003-05-30",
          "2003-06-30",
          "2003-07-31",
          "2003-08-29",
          "2003-09-30",
          "2003-10-31",
          "2003-11-28",
          "2003-12-31",
          "2004-01-30",
          "2004-02-27",
          "2004-03-31",
          "2004-04-30",
          "2004-05-28",
          "2004-06-30",
          "2004-07-30",
          "2004-08-31",
          "2004-09-30",
          "2004-10-29",
          "2004-11-30",
          "2004-12-31",
          "2005-01-31",
          "2005-02-28",
          "2005-03-31",
          "2005-04-29",
          "2005-05-31",
          "2005-06-30",
          "2005-07-29",
          "2005-08-31",
          "2005-09-30",
          "2005-10-31",
          "2005-11-30",
          "2005-12-30",
          "2006-01-31",
          "2006-02-28",
          "2006-03-31",
          "2006-04-28",
          "2006-05-31",
          "2006-06-30",
          "2006-07-31",
          "2006-08-31",
          "2006-09-29",
          "2006-10-31",
          "2006-11-30",
          "2006-12-29",
          "2007-01-31",
          "2007-02-28",
          "2007-03-30",
          "2007-04-30",
          "2007-05-31",
          "2007-06-29",
          "2007-07-31",
          "2007-08-31",
          "2007-09-28",
          "2007-10-31",
          "2007-11-30",
          "2007-12-31",
          "2008-01-31",
          "2008-02-29",
          "2008-03-31",
          "2008-04-30",
          "2008-05-30",
          "2008-06-30",
          "2008-07-31",
          "2008-08-29",
          "2008-09-30",
          "2008-10-31",
          "2008-11-28",
          "2008-12-31",
          "2009-01-30",
          "2009-02-27",
          "2009-03-31",
          "2009-04-30",
          "2009-05-29",
          "2009-06-30",
          "2009-07-31",
          "2009-08-31",
          "2009-09-30",
          "2009-10-30",
          "2009-11-30",
          "2009-12-31",
          "2010-01-29",
          "2010-02-26",
          "2010-03-31",
          "2010-04-30",
          "2010-05-28",
          "2010-06-30",
          "2010-07-30",
          "2010-08-31",
          "2010-09-30",
          "2010-10-29",
          "2010-11-30",
          "2010-12-31",
          "2011-01-31",
          "2011-02-28",
          "2011-03-31",
          "2011-04-29",
          "2011-05-31",
          "2011-06-30",
          "2011-07-29",
          "2011-08-31",
          "2011-09-30",
          "2011-10-31",
          "2011-11-30",
          "2011-12-30",
          "2012-01-31",
          "2012-02-29",
          "2012-03-30",
          "2012-04-30",
          "2012-05-31",
          "2012-06-29",
          "2012-07-31",
          "2012-08-31",
          "2012-09-28",
          "2012-10-31",
          "2012-11-30",
          "2012-12-31",
          "2013-01-31",
          "2013-02-28",
          "2013-03-28",
          "2013-04-30",
          "2013-05-31",
          "2013-06-28",
          "2013-07-31",
          "2013-08-30",
          "2013-09-30",
          "2013-10-31",
          "2013-11-29",
          "2013-12-31",
          "2014-01-31",
          "2014-02-28",
          "2014-03-31",
          "2014-04-30",
          "2014-05-30",
          "2014-06-30",
          "2014-07-31",
          "2014-08-29",
          "2014-09-30",
          "2014-10-31",
          "2014-11-28",
          "2014-12-31",
          "2015-01-30",
          "2015-02-27",
          "2015-03-31",
          "2015-04-30",
          "2015-05-29",
          "2015-06-30",
          "2015-07-31",
          "2015-08-31",
          "2015-09-30",
          "2015-10-30",
          "2015-11-30",
          "2015-12-31",
          "2016-01-29",
          "2016-02-29",
          "2016-03-31",
          "2016-04-29",
          "2016-05-31",
          "2016-06-30",
          "2016-07-29",
          "2016-08-31",
          "2016-09-30",
          "2016-10-31",
          "2016-11-30",
          "2016-12-30",
          "2017-01-31",
          "2017-02-28",
          "2017-03-31",
          "2017-04-28",
          "2017-05-31",
          "2017-06-30",
          "2017-07-31",
          "2017-08-31",
          "2017-09-29",
          "2017-10-31",
          "2017-11-30",
          "2017-12-29",
          "2018-01-31",
          "2018-02-28",
          "2018-03-29",
          "2018-04-30",
          "2018-05-31",
          "2018-06-29",
          "2018-07-31",
          "2018-08-31",
          "2018-09-28",
          "2018-10-31",
          "2018-11-30",
          "2018-12-31",
          "2019-01-31",
          "2019-02-28",
          "2019-03-29",
          "2019-04-30",
          "2019-05-31",
          "2019-06-28",
          "2019-07-31",
          "2019-08-30",
          "2019-09-30",
          "2019-10-31",
          "2019-11-29",
          "2019-12-31",
          "2020-01-31",
          "2020-02-28",
          "2020-03-31",
          "2020-04-30",
          "2020-05-29",
          "2020-06-30",
          "2020-07-31",
          "2020-08-31",
          "2020-09-30",
          "2020-10-30",
          "2020-11-30",
          "2020-12-31",
          "2021-01-29",
          "2021-02-26",
          "2021-03-31",
          "2021-04-30",
          "2021-05-28",
          "2021-06-30",
          "2021-07-30",
          "2021-08-31",
          "2021-09-30",
          "2021-10-29",
          "2021-11-30",
          "2021-12-31",
          "2022-01-31",
          "2022-02-28",
          "2022-03-31",
          "2022-04-29",
          "2022-05-31",
          "2022-06-30",
          "2022-07-29",
          "2022-08-30"
         ],
         "xaxis": "x",
         "y": [
          null,
          1.1898031770982684,
          1.1223818249015274,
          1.0324922381288728,
          1.0944666323395709,
          1.1832004385295543,
          1.1382160181294072,
          1.1400523905775255,
          0.8975965792376269,
          0.9350760235937491,
          0.8831612700664868,
          0.9558230640566235,
          1.0302221153980817,
          0.981754486475688,
          1.0581436557647392,
          1.0922389438056732,
          1.1071651430750502,
          1.0749164162184022,
          1.0706807665413645,
          0.9756581156353367,
          1.0055747823111107,
          1.1136517535274728,
          1.1416206358323704,
          1.249006600284608,
          1.3438917468686424,
          1.470182552427782,
          1.4408497094364747,
          1.3874072438025418,
          1.2702703164486917,
          1.3675668826328657,
          1.3550723317784736,
          1.4104316306220515,
          1.4324567807798643,
          1.352756214463894,
          1.3157735951008502,
          1.2985986985578644,
          1.3630439999772035,
          1.2443040711740856,
          1.3012021571784163,
          1.2019895467711517,
          1.1159064481437406,
          1.0674426943428408,
          0.9268630642411644,
          0.9600292594505746,
          1.0079678094467897,
          1.0635677351440067,
          1.147340471879462,
          1.2000951065321814,
          1.144840835479872,
          1.1557564845687816,
          1.2357007153018431,
          1.3118093273199711,
          1.3357063140765553,
          1.3177954259625388,
          1.354908378666129,
          1.3338014661766704,
          1.3267985840772138,
          1.3107791656319565,
          1.3400316639300982,
          1.3955400758124388,
          1.3344156429873553,
          1.3495055785737557,
          1.3613371670296892,
          1.320038970010219,
          1.246505649300059,
          1.2189116714615607,
          1.2461567028429767,
          1.1524059895007086,
          1.0757141963402743,
          1.0548741193358238,
          1.0596216960324296,
          1.064251129136754,
          1.0678469569402815,
          1.0821520579355448,
          1.1310025747403234,
          0.9837594208205458,
          1.1615266047379744,
          1.1740838746352322,
          1.1735037961049706,
          1.1056825373442378,
          1.1876507101629041,
          1.230821526626408,
          1.2287022421603193,
          1.1831104838973006,
          1.295970770897476,
          1.320262409594178,
          1.3162175089453008,
          1.2348778965574607,
          1.2717318107139115,
          1.1756113330760425,
          1.1666543184283777,
          1.2293511125615948,
          1.1875335059215197,
          1.160599375908097,
          1.191284118686599,
          1.3159074828282267,
          1.3554446107099538,
          1.4004798550946738,
          1.2704776237626392,
          1.2203669202087226,
          0.5680584263197725,
          0.5037933728064906,
          0.5069409374082331,
          0.4865330896526159,
          0.5465607355241711,
          0.5750464072004837,
          0.5052293787929255,
          0.41067558635454227,
          0.43624839721732683,
          0.29563523510438294,
          0.28942807666852627,
          0.3202602103922597,
          0.33757037398250944,
          0.3798776215331693,
          0.3444773267927646,
          0.36194735701735925,
          0.27144472947706005,
          0.2919982777463798,
          0.30153265490328496,
          0.3194195438462828,
          0.13296324866021836,
          0.13638798135574304,
          0.17174126644346221,
          0.1982595234879381,
          0.1669986029461156,
          0.1754502961643944,
          0.14883149617804003,
          0.16955552306077445,
          0.1554919658963912,
          0.17463607365756978,
          0.21589762541469706,
          0.3311636441101669,
          0.37774452959950094,
          0.3919964434016737,
          0.37175362242618587,
          0.3597906119744659,
          0.3641975569261607,
          0.37190343759701405,
          0.39038534600783265,
          0.35103410526268114,
          0.28181909941537764,
          0.27134421819739635,
          0.37423269143251603,
          0.3547927627574374,
          0.313413807881132,
          0.4104889713234289,
          0.40066328254336236,
          0.38402344662845794,
          0.3171515268005856,
          0.2913316543995787,
          0.3047104219297108,
          0.28616072946776994,
          0.32087493393792577,
          0.45006110914007186,
          0.4159084442971461,
          0.4501600832721556,
          0.4647000139767587,
          0.5093418536985186,
          0.5755261495425568,
          0.6223888229485074,
          0.6688809812725361,
          0.7545829381403033,
          0.7556876809779576,
          0.819099857299012,
          0.8870917038961367,
          0.8745080562160633,
          0.9346828500147064,
          0.911738571251238,
          0.8601988605108138,
          0.8472417616900756,
          0.8484407297812382,
          0.8426121352147162,
          0.8942623416488477,
          0.8813549011790317,
          0.8278937476901433,
          0.8360319100809308,
          0.8546286988360481,
          0.9300242053866399,
          0.8919463322149871,
          0.8520312076425569,
          0.8537310210321081,
          0.8435021112628074,
          0.7778663688976315,
          0.8798173197004225,
          0.8816982005947119,
          0.8707731260567232,
          0.8401433313589312,
          0.7987691494386807,
          0.8109908680513157,
          0.6968520399851158,
          0.6893594552784184,
          0.7339767158574113,
          0.7532262606988116,
          0.7556011619992197,
          0.7384371704317452,
          0.7003805843042146,
          0.6647600682317787,
          0.7074670845784542,
          0.6623483868756636,
          0.6822539757154419,
          0.6545494070611539,
          0.6183923664676683,
          0.6163013693147443,
          0.6540459600653747,
          0.632968271129061,
          0.6250373000832308,
          0.5349497556764391,
          0.5222924706713492,
          0.5306270772680309,
          0.467696430121757,
          0.45615562497444573,
          0.4194123114264134,
          0.4351119912701546,
          0.44957552150316654,
          0.4074438064187667,
          0.44357971466672474,
          0.4340694325486369,
          0.4161556294825454,
          0.41365976973134044,
          0.3880361450505675,
          0.33791566237550197,
          0.37303385666844324,
          0.5192160670121028,
          0.4641525178068447,
          0.5156172903554738,
          0.39860037227674877,
          0.6245243979761292,
          0.5971972410488133,
          0.5050234816400297,
          0.6959175541304565,
          1.046192395097937,
          1.4451614861718856,
          1.5018209772220104,
          1.8629644382795199,
          2.5004956141643953,
          2.5417798015667974,
          2.2263503772239717,
          2.2262152373239648,
          2.46058291279596,
          2.6658007159394295,
          2.8318435538217472,
          3.320108428455685,
          3.444542417132868,
          3.0776252034741227,
          2.9767585201223303,
          3.2386269290193455,
          3.204535304200091,
          3.269396240761013,
          3.2665155151700818,
          2.887890138581833,
          3.2258628377215404,
          3.513797448870478,
          3.4094060791574035,
          3.3120523235783876,
          3.3272586658486767,
          3.328163531308793,
          3.5865564288311385,
          3.4067195268612958,
          3.4504246762262123,
          3.2964672628335663,
          3.41163501212952,
          3.549673035410696,
          3.3738857413465624,
          3.700579529927852,
          3.732352356668185,
          3.8210746795649975,
          3.4816905450162268,
          3.4499237996409917,
          3.507269350488746,
          3.1392310935773704,
          3.2307452222108566,
          3.44254841713406,
          3.658760005270814,
          3.814827749765658,
          4.155502866836709,
          4.111470135486138,
          3.9965657442454257,
          3.918696371612049,
          3.7472400638677175,
          3.8411039199292283,
          3.505938964214333,
          3.346522239355385,
          3.5027502397697985,
          3.559892056401483,
          3.5485527152038823,
          3.744557869365867,
          3.844798143843152,
          3.6856210177344852,
          3.6983124569030847,
          3.833708294953065,
          3.8149670547836516,
          3.533115652944284,
          3.4309901204010766,
          3.3241435414934277,
          3.588009701846046,
          3.360321107468701,
          3.172608781383712,
          2.8325112888537567,
          2.6502711018139173,
          2.3458925245331,
          2.41991726469194,
          2.448563695431332,
          2.8531806552500965,
          2.5878215093985024,
          2.250247978769729,
          1.7995382229065164,
          2.1684924989003775,
          1.8231690314027553,
          1.8036732548418546,
          1.8379967426263697,
          1.6402766848895582,
          1.5517634249366372,
          1.3781590561361003,
          1.6147007618342002,
          1.8036952654327463,
          1.5758748653599406,
          1.5182562659342527,
          1.4859153552386568,
          1.5004434692552735,
          1.638213286315467,
          1.5637882693887655,
          1.9453274946282457,
          1.9594707775333755,
          1.9527246453548257,
          1.842460822793072,
          1.7078474677385296,
          1.5890746899165669,
          1.3297086745516125,
          1.2248819931953119,
          1.2809322008231605,
          1.180153752029119,
          1.498914320609378,
          1.68916514814071,
          1.7666773919246348,
          1.759008086853331,
          1.6170245466514301,
          1.5149120797406614,
          1.6430791256964998,
          1.841481505308559,
          2.0258988996543685,
          2.2047818182261634,
          2.2043168232076007,
          2.2561047798348404,
          2.4816824911958855,
          2.4980387936811015,
          2.242125597283101,
          1.7489127404289824,
          1.8421217354526969,
          1.7274700283176254,
          1.615989342718338,
          1.6327206737902924,
          1.078101755671289,
          1.0827637831694348,
          0.9356618926491128,
          0.7185232174954475,
          0.732556247698281,
          0.7035866538249733,
          0.7227168422755637,
          0.8228621299696546,
          0.6670793921190069,
          0.5908700200391875,
          0.3941405191681075,
          0.6012983158930718,
          0.5731756753937058,
          0.8523910880984624,
          0.7259552467170022,
          0.6725847122068854,
          0.5456114230499751,
          0.6315534880648201,
          0.9420254403737153,
          1.0443117757587472,
          1.149618903567077,
          1.2972822155333041,
          1.3207879161020148,
          1.3367805866619227,
          1.442948456740042,
          1.440753589248765,
          1.3333816716943492,
          1.395644546898588,
          1.5166076443633374,
          1.543400325881134,
          1.4467811619566633,
          1.3963913868552582,
          1.549229147424258,
          1.7504816675545607,
          1.875894020264791,
          1.8462441850131477,
          1.9943515805473997,
          1.7640108262794063,
          1.9280860623199512,
          2.036964840572395
         ],
         "yaxis": "y"
        }
       ],
       "layout": {
        "legend": {
         "tracegroupgap": 0
        },
        "template": {
         "data": {
          "bar": [
           {
            "error_x": {
             "color": "#2a3f5f"
            },
            "error_y": {
             "color": "#2a3f5f"
            },
            "marker": {
             "line": {
              "color": "#E5ECF6",
              "width": 0.5
             },
             "pattern": {
              "fillmode": "overlay",
              "size": 10,
              "solidity": 0.2
             }
            },
            "type": "bar"
           }
          ],
          "barpolar": [
           {
            "marker": {
             "line": {
              "color": "#E5ECF6",
              "width": 0.5
             },
             "pattern": {
              "fillmode": "overlay",
              "size": 10,
              "solidity": 0.2
             }
            },
            "type": "barpolar"
           }
          ],
          "carpet": [
           {
            "aaxis": {
             "endlinecolor": "#2a3f5f",
             "gridcolor": "white",
             "linecolor": "white",
             "minorgridcolor": "white",
             "startlinecolor": "#2a3f5f"
            },
            "baxis": {
             "endlinecolor": "#2a3f5f",
             "gridcolor": "white",
             "linecolor": "white",
             "minorgridcolor": "white",
             "startlinecolor": "#2a3f5f"
            },
            "type": "carpet"
           }
          ],
          "choropleth": [
           {
            "colorbar": {
             "outlinewidth": 0,
             "ticks": ""
            },
            "type": "choropleth"
           }
          ],
          "contour": [
           {
            "colorbar": {
             "outlinewidth": 0,
             "ticks": ""
            },
            "colorscale": [
             [
              0,
              "#0d0887"
             ],
             [
              0.1111111111111111,
              "#46039f"
             ],
             [
              0.2222222222222222,
              "#7201a8"
             ],
             [
              0.3333333333333333,
              "#9c179e"
             ],
             [
              0.4444444444444444,
              "#bd3786"
             ],
             [
              0.5555555555555556,
              "#d8576b"
             ],
             [
              0.6666666666666666,
              "#ed7953"
             ],
             [
              0.7777777777777778,
              "#fb9f3a"
             ],
             [
              0.8888888888888888,
              "#fdca26"
             ],
             [
              1,
              "#f0f921"
             ]
            ],
            "type": "contour"
           }
          ],
          "contourcarpet": [
           {
            "colorbar": {
             "outlinewidth": 0,
             "ticks": ""
            },
            "type": "contourcarpet"
           }
          ],
          "heatmap": [
           {
            "colorbar": {
             "outlinewidth": 0,
             "ticks": ""
            },
            "colorscale": [
             [
              0,
              "#0d0887"
             ],
             [
              0.1111111111111111,
              "#46039f"
             ],
             [
              0.2222222222222222,
              "#7201a8"
             ],
             [
              0.3333333333333333,
              "#9c179e"
             ],
             [
              0.4444444444444444,
              "#bd3786"
             ],
             [
              0.5555555555555556,
              "#d8576b"
             ],
             [
              0.6666666666666666,
              "#ed7953"
             ],
             [
              0.7777777777777778,
              "#fb9f3a"
             ],
             [
              0.8888888888888888,
              "#fdca26"
             ],
             [
              1,
              "#f0f921"
             ]
            ],
            "type": "heatmap"
           }
          ],
          "heatmapgl": [
           {
            "colorbar": {
             "outlinewidth": 0,
             "ticks": ""
            },
            "colorscale": [
             [
              0,
              "#0d0887"
             ],
             [
              0.1111111111111111,
              "#46039f"
             ],
             [
              0.2222222222222222,
              "#7201a8"
             ],
             [
              0.3333333333333333,
              "#9c179e"
             ],
             [
              0.4444444444444444,
              "#bd3786"
             ],
             [
              0.5555555555555556,
              "#d8576b"
             ],
             [
              0.6666666666666666,
              "#ed7953"
             ],
             [
              0.7777777777777778,
              "#fb9f3a"
             ],
             [
              0.8888888888888888,
              "#fdca26"
             ],
             [
              1,
              "#f0f921"
             ]
            ],
            "type": "heatmapgl"
           }
          ],
          "histogram": [
           {
            "marker": {
             "pattern": {
              "fillmode": "overlay",
              "size": 10,
              "solidity": 0.2
             }
            },
            "type": "histogram"
           }
          ],
          "histogram2d": [
           {
            "colorbar": {
             "outlinewidth": 0,
             "ticks": ""
            },
            "colorscale": [
             [
              0,
              "#0d0887"
             ],
             [
              0.1111111111111111,
              "#46039f"
             ],
             [
              0.2222222222222222,
              "#7201a8"
             ],
             [
              0.3333333333333333,
              "#9c179e"
             ],
             [
              0.4444444444444444,
              "#bd3786"
             ],
             [
              0.5555555555555556,
              "#d8576b"
             ],
             [
              0.6666666666666666,
              "#ed7953"
             ],
             [
              0.7777777777777778,
              "#fb9f3a"
             ],
             [
              0.8888888888888888,
              "#fdca26"
             ],
             [
              1,
              "#f0f921"
             ]
            ],
            "type": "histogram2d"
           }
          ],
          "histogram2dcontour": [
           {
            "colorbar": {
             "outlinewidth": 0,
             "ticks": ""
            },
            "colorscale": [
             [
              0,
              "#0d0887"
             ],
             [
              0.1111111111111111,
              "#46039f"
             ],
             [
              0.2222222222222222,
              "#7201a8"
             ],
             [
              0.3333333333333333,
              "#9c179e"
             ],
             [
              0.4444444444444444,
              "#bd3786"
             ],
             [
              0.5555555555555556,
              "#d8576b"
             ],
             [
              0.6666666666666666,
              "#ed7953"
             ],
             [
              0.7777777777777778,
              "#fb9f3a"
             ],
             [
              0.8888888888888888,
              "#fdca26"
             ],
             [
              1,
              "#f0f921"
             ]
            ],
            "type": "histogram2dcontour"
           }
          ],
          "mesh3d": [
           {
            "colorbar": {
             "outlinewidth": 0,
             "ticks": ""
            },
            "type": "mesh3d"
           }
          ],
          "parcoords": [
           {
            "line": {
             "colorbar": {
              "outlinewidth": 0,
              "ticks": ""
             }
            },
            "type": "parcoords"
           }
          ],
          "pie": [
           {
            "automargin": true,
            "type": "pie"
           }
          ],
          "scatter": [
           {
            "fillpattern": {
             "fillmode": "overlay",
             "size": 10,
             "solidity": 0.2
            },
            "type": "scatter"
           }
          ],
          "scatter3d": [
           {
            "line": {
             "colorbar": {
              "outlinewidth": 0,
              "ticks": ""
             }
            },
            "marker": {
             "colorbar": {
              "outlinewidth": 0,
              "ticks": ""
             }
            },
            "type": "scatter3d"
           }
          ],
          "scattercarpet": [
           {
            "marker": {
             "colorbar": {
              "outlinewidth": 0,
              "ticks": ""
             }
            },
            "type": "scattercarpet"
           }
          ],
          "scattergeo": [
           {
            "marker": {
             "colorbar": {
              "outlinewidth": 0,
              "ticks": ""
             }
            },
            "type": "scattergeo"
           }
          ],
          "scattergl": [
           {
            "marker": {
             "colorbar": {
              "outlinewidth": 0,
              "ticks": ""
             }
            },
            "type": "scattergl"
           }
          ],
          "scattermapbox": [
           {
            "marker": {
             "colorbar": {
              "outlinewidth": 0,
              "ticks": ""
             }
            },
            "type": "scattermapbox"
           }
          ],
          "scatterpolar": [
           {
            "marker": {
             "colorbar": {
              "outlinewidth": 0,
              "ticks": ""
             }
            },
            "type": "scatterpolar"
           }
          ],
          "scatterpolargl": [
           {
            "marker": {
             "colorbar": {
              "outlinewidth": 0,
              "ticks": ""
             }
            },
            "type": "scatterpolargl"
           }
          ],
          "scatterternary": [
           {
            "marker": {
             "colorbar": {
              "outlinewidth": 0,
              "ticks": ""
             }
            },
            "type": "scatterternary"
           }
          ],
          "surface": [
           {
            "colorbar": {
             "outlinewidth": 0,
             "ticks": ""
            },
            "colorscale": [
             [
              0,
              "#0d0887"
             ],
             [
              0.1111111111111111,
              "#46039f"
             ],
             [
              0.2222222222222222,
              "#7201a8"
             ],
             [
              0.3333333333333333,
              "#9c179e"
             ],
             [
              0.4444444444444444,
              "#bd3786"
             ],
             [
              0.5555555555555556,
              "#d8576b"
             ],
             [
              0.6666666666666666,
              "#ed7953"
             ],
             [
              0.7777777777777778,
              "#fb9f3a"
             ],
             [
              0.8888888888888888,
              "#fdca26"
             ],
             [
              1,
              "#f0f921"
             ]
            ],
            "type": "surface"
           }
          ],
          "table": [
           {
            "cells": {
             "fill": {
              "color": "#EBF0F8"
             },
             "line": {
              "color": "white"
             }
            },
            "header": {
             "fill": {
              "color": "#C8D4E3"
             },
             "line": {
              "color": "white"
             }
            },
            "type": "table"
           }
          ]
         },
         "layout": {
          "annotationdefaults": {
           "arrowcolor": "#2a3f5f",
           "arrowhead": 0,
           "arrowwidth": 1
          },
          "autotypenumbers": "strict",
          "coloraxis": {
           "colorbar": {
            "outlinewidth": 0,
            "ticks": ""
           }
          },
          "colorscale": {
           "diverging": [
            [
             0,
             "#8e0152"
            ],
            [
             0.1,
             "#c51b7d"
            ],
            [
             0.2,
             "#de77ae"
            ],
            [
             0.3,
             "#f1b6da"
            ],
            [
             0.4,
             "#fde0ef"
            ],
            [
             0.5,
             "#f7f7f7"
            ],
            [
             0.6,
             "#e6f5d0"
            ],
            [
             0.7,
             "#b8e186"
            ],
            [
             0.8,
             "#7fbc41"
            ],
            [
             0.9,
             "#4d9221"
            ],
            [
             1,
             "#276419"
            ]
           ],
           "sequential": [
            [
             0,
             "#0d0887"
            ],
            [
             0.1111111111111111,
             "#46039f"
            ],
            [
             0.2222222222222222,
             "#7201a8"
            ],
            [
             0.3333333333333333,
             "#9c179e"
            ],
            [
             0.4444444444444444,
             "#bd3786"
            ],
            [
             0.5555555555555556,
             "#d8576b"
            ],
            [
             0.6666666666666666,
             "#ed7953"
            ],
            [
             0.7777777777777778,
             "#fb9f3a"
            ],
            [
             0.8888888888888888,
             "#fdca26"
            ],
            [
             1,
             "#f0f921"
            ]
           ],
           "sequentialminus": [
            [
             0,
             "#0d0887"
            ],
            [
             0.1111111111111111,
             "#46039f"
            ],
            [
             0.2222222222222222,
             "#7201a8"
            ],
            [
             0.3333333333333333,
             "#9c179e"
            ],
            [
             0.4444444444444444,
             "#bd3786"
            ],
            [
             0.5555555555555556,
             "#d8576b"
            ],
            [
             0.6666666666666666,
             "#ed7953"
            ],
            [
             0.7777777777777778,
             "#fb9f3a"
            ],
            [
             0.8888888888888888,
             "#fdca26"
            ],
            [
             1,
             "#f0f921"
            ]
           ]
          },
          "colorway": [
           "#636efa",
           "#EF553B",
           "#00cc96",
           "#ab63fa",
           "#FFA15A",
           "#19d3f3",
           "#FF6692",
           "#B6E880",
           "#FF97FF",
           "#FECB52"
          ],
          "font": {
           "color": "#2a3f5f"
          },
          "geo": {
           "bgcolor": "white",
           "lakecolor": "white",
           "landcolor": "#E5ECF6",
           "showlakes": true,
           "showland": true,
           "subunitcolor": "white"
          },
          "hoverlabel": {
           "align": "left"
          },
          "hovermode": "closest",
          "mapbox": {
           "style": "light"
          },
          "paper_bgcolor": "white",
          "plot_bgcolor": "#E5ECF6",
          "polar": {
           "angularaxis": {
            "gridcolor": "white",
            "linecolor": "white",
            "ticks": ""
           },
           "bgcolor": "#E5ECF6",
           "radialaxis": {
            "gridcolor": "white",
            "linecolor": "white",
            "ticks": ""
           }
          },
          "scene": {
           "xaxis": {
            "backgroundcolor": "#E5ECF6",
            "gridcolor": "white",
            "gridwidth": 2,
            "linecolor": "white",
            "showbackground": true,
            "ticks": "",
            "zerolinecolor": "white"
           },
           "yaxis": {
            "backgroundcolor": "#E5ECF6",
            "gridcolor": "white",
            "gridwidth": 2,
            "linecolor": "white",
            "showbackground": true,
            "ticks": "",
            "zerolinecolor": "white"
           },
           "zaxis": {
            "backgroundcolor": "#E5ECF6",
            "gridcolor": "white",
            "gridwidth": 2,
            "linecolor": "white",
            "showbackground": true,
            "ticks": "",
            "zerolinecolor": "white"
           }
          },
          "shapedefaults": {
           "line": {
            "color": "#2a3f5f"
           }
          },
          "ternary": {
           "aaxis": {
            "gridcolor": "white",
            "linecolor": "white",
            "ticks": ""
           },
           "baxis": {
            "gridcolor": "white",
            "linecolor": "white",
            "ticks": ""
           },
           "bgcolor": "#E5ECF6",
           "caxis": {
            "gridcolor": "white",
            "linecolor": "white",
            "ticks": ""
           }
          },
          "title": {
           "x": 0.05
          },
          "xaxis": {
           "automargin": true,
           "gridcolor": "white",
           "linecolor": "white",
           "ticks": "",
           "title": {
            "standoff": 15
           },
           "zerolinecolor": "white",
           "zerolinewidth": 2
          },
          "yaxis": {
           "automargin": true,
           "gridcolor": "white",
           "linecolor": "white",
           "ticks": "",
           "title": {
            "standoff": 15
           },
           "zerolinecolor": "white",
           "zerolinewidth": 2
          }
         }
        },
        "title": {
         "text": "High-minus-Low"
        },
        "xaxis": {
         "anchor": "y",
         "domain": [
          0,
          1
         ],
         "title": {
          "text": "date"
         }
        },
        "yaxis": {
         "anchor": "x",
         "domain": [
          0,
          1
         ],
         "title": {
          "text": "Cumulative returns"
         }
        }
       }
      }
     },
     "metadata": {},
     "output_type": "display_data"
    }
   ],
   "source": [
    "px.line(port_df, y='HML_cum_rets', x='date', labels={'HML_cum_rets': 'Cumulative returns'}, title = 'High-minus-Low').show()"
   ]
  },
  {
   "cell_type": "code",
   "execution_count": 15,
   "id": "9864498a",
   "metadata": {},
   "outputs": [
    {
     "data": {
      "application/vnd.plotly.v1+json": {
       "config": {
        "plotlyServerURL": "https://plot.ly"
       },
       "data": [
        {
         "alignmentgroup": "True",
         "bingroup": "x",
         "hovertemplate": "port=HML_rets<br>value=%{x}<br>count=%{y}<extra></extra>",
         "legendgroup": "HML_rets",
         "marker": {
          "color": "#636efa",
          "pattern": {
           "shape": ""
          }
         },
         "name": "HML_rets",
         "offsetgroup": "HML_rets",
         "orientation": "v",
         "showlegend": true,
         "type": "histogram",
         "x": [
          null,
          0.18980317709826855,
          -0.05666597088870656,
          -0.08008824161113007,
          0.0600240775882353,
          0.08107493053516189,
          -0.03801927292729232,
          0.0016133777937303306,
          -0.2126707626279137,
          0.0417553333235242,
          -0.05551928636533732,
          0.08227466087214913,
          0.07783768161619797,
          -0.047045805169563554,
          0.0778088313742003,
          0.032221795079698155,
          0.013665690418774051,
          -0.0291272960121199,
          -0.003940445613379853,
          -0.0887497505096508,
          0.030663063419805348,
          0.10747780584549749,
          0.025114567652146744,
          0.09406449137452863,
          0.0759684909290416,
          0.09397394236061471,
          -0.019951837234681268,
          -0.03709093688531521,
          -0.08442865487195125,
          0.07659516633923005,
          -0.009136336228278159,
          0.0408533902916615,
          0.015615893517716133,
          -0.05563907224661914,
          -0.02733871703387462,
          -0.013053078893614331,
          0.04962680271504005,
          -0.08711379002079445,
          0.045726834238068004,
          -0.07624688435992262,
          -0.07161717741943097,
          -0.043429943326805796,
          -0.13169758980665722,
          0.03578327423864259,
          0.049934467647007194,
          0.05516041799760678,
          0.07876577482308877,
          0.04597993006060527,
          -0.04604157683133399,
          0.009534643376285679,
          0.06917047994144662,
          0.0615914606794874,
          0.01821681418091882,
          -0.013409301075588015,
          0.02816290903156101,
          -0.015578110536328401,
          -0.005250318189805417,
          -0.012073737971614422,
          0.022316877674843423,
          0.04142320914980721,
          -0.04379984056674184,
          0.011308272400508287,
          0.008767350534732838,
          -0.030336494161530086,
          -0.0557054165678085,
          -0.022137066008479853,
          0.02235193248149589,
          -0.07523188145470452,
          -0.06654928372392593,
          -0.019373247164861607,
          0.00450060970269614,
          0.004368948957593641,
          0.0033787399468809265,
          0.013396208981343152,
          0.04514200795216532,
          -0.13018816862869162,
          0.1807018872247794,
          0.010811004970558064,
          -0.00049406907188973,
          -0.05779381284137407,
          0.07413355104218916,
          0.036349758471985724,
          -0.0017218454668219557,
          -0.0371056198146581,
          0.09539285513589628,
          0.01874397111586068,
          -0.0030637096227866534,
          -0.061798002104544406,
          0.02984417670701743,
          -0.07558234906769365,
          -0.007619027135633602,
          0.05374067805935616,
          -0.03401599934532928,
          -0.02268073269437733,
          0.026438703497055627,
          0.10461262950355268,
          0.03004552249885485,
          0.03322544058892335,
          -0.09282691990114085,
          -0.03944241332288008,
          -0.5345183346803468,
          -0.11313106281977,
          0.006247729270848379,
          -0.04025685489113104,
          0.12337834188094983,
          0.05211803524267785,
          -0.12141112009976829,
          -0.18715022603057554,
          0.062270102515193396,
          -0.322323618859955,
          -0.02099600351651279,
          0.10652779121717562,
          0.05405030980604161,
          0.12532867458579738,
          -0.0931886816536617,
          0.05071460112410979,
          -0.2500436203930027,
          0.07571909135578447,
          0.032652169151444185,
          0.059319906657323555,
          -0.5837347738364892,
          0.025756987212883255,
          0.25921114702553316,
          0.1544081838549023,
          -0.15767676624989158,
          0.05060936480412262,
          -0.15171704219531737,
          0.13924490054136957,
          -0.08294366889683921,
          0.12311959431997183,
          0.23627164132213507,
          0.5338920169875255,
          0.1406582102769655,
          0.0377289747048971,
          -0.05164031795754159,
          -0.03217994319368156,
          0.012248637971708776,
          0.02115851829400317,
          0.04969544925488211,
          -0.10080101916623162,
          -0.1971745901883506,
          -0.037168812332844026,
          0.37918063601514007,
          -0.051946099632998455,
          -0.11662852013865653,
          0.30973480108800583,
          -0.02393654754813064,
          -0.041530723277852497,
          -0.1741349920557606,
          -0.081411786540891,
          0.0459228076595561,
          -0.060876462132364584,
          0.1213101620712273,
          0.4026060048278421,
          -0.07588450579118244,
          0.08235379551596331,
          0.03229946688945459,
          0.09606593152371327,
          0.12994081551211548,
          0.08142579349904153,
          0.07469953927478415,
          0.1281273638618345,
          0.0014640442843525392,
          0.08391320636455388,
          0.08300800688859629,
          -0.014185283916877539,
          0.06880987930404595,
          -0.024547662089988445,
          -0.05652904501966266,
          -0.015062910933227591,
          0.0014151428144556777,
          -0.006869772232675375,
          0.06129772439245704,
          -0.014433617372299382,
          -0.06065791818638648,
          0.009829959959829715,
          0.022244113568962956,
          0.08822019042102822,
          -0.040942884014317366,
          -0.044750589952321694,
          0.001995013063258999,
          -0.011981419811751187,
          -0.07781337057581579,
          0.13106486522520927,
          0.0021378084429275884,
          -0.01239094571205858,
          -0.03517540192874155,
          -0.04924657540675563,
          0.015300689343377305,
          -0.14073996707318986,
          -0.010752045307720582,
          0.0647227803105608,
          0.02622636989092153,
          0.003152971987732865,
          -0.022715676511217767,
          -0.051536661007029194,
          -0.05085880001631207,
          0.06424425651840608,
          -0.06377497792660523,
          0.030053049473969737,
          -0.040607412547850205,
          -0.05523958956104824,
          -0.0033813437330541263,
          0.06124372365519477,
          -0.032226617429464685,
          -0.012529808218796332,
          -0.144131469265587,
          -0.02366069873064036,
          0.015957738364423546,
          -0.11859675060360016,
          -0.024675846134439877,
          -0.08054995167513451,
          0.0374325679433369,
          0.03324093686958812,
          -0.09371443299121676,
          0.08868930556479697,
          -0.021439849036453865,
          -0.04126944152899841,
          -0.005997419172986698,
          -0.0619437193455258,
          -0.1291644691206124,
          0.10392591466777557,
          0.39187384128939257,
          -0.1060513198717608,
          0.11087901190712901,
          -0.22694529502308175,
          0.5667933133351946,
          -0.04375674836063068,
          -0.1543439136572461,
          0.37799048842345134,
          0.5033280722529642,
          0.3813534613168355,
          0.03920633894016318,
          0.24047037998199605,
          0.34221328265055145,
          0.016510401845355002,
          -0.12409785621413376,
          -0.00006070019408874368,
          0.10527628754967938,
          0.08340210853138051,
          0.0622862905278366,
          0.17241943820483802,
          0.03747889304177396,
          -0.10652132249373085,
          -0.032774193309156326,
          0.08797099500239393,
          -0.01052656745171246,
          0.02024035637114388,
          -0.0008811185242754566,
          -0.11591109083360172,
          0.11703100981039292,
          0.08925816925071393,
          -0.029708988987578566,
          -0.028554461779770092,
          0.004591214384517962,
          0.00027195524934793547,
          0.07763828162035445,
          -0.05014194131289648,
          0.012829101139765195,
          -0.04461984475517708,
          0.03493671864860512,
          0.04046095868708231,
          -0.049522108743684665,
          0.09683012811539428,
          0.008585905662444202,
          0.02377115406542539,
          -0.08881902684702496,
          -0.009123942798623219,
          0.01662226593344525,
          -0.10493584043098618,
          0.02915176548190948,
          0.06555861894249368,
          0.06280567821810082,
          0.04265591191278273,
          0.08930288322768418,
          -0.010596246173231738,
          -0.027947276145574088,
          -0.019484071479494477,
          -0.0437534045726025,
          0.025048797104455886,
          -0.08725745585166853,
          -0.04547047923142393,
          0.04668368809182216,
          0.016313414522937705,
          -0.003185304783949905,
          0.0552352381076924,
          0.02676958882044464,
          -0.04140064579555734,
          0.003443500866619348,
          0.036610167374381164,
          -0.004888540996738244,
          -0.07388042879320521,
          -0.028905233390280408,
          -0.031141616605750794,
          0.07937869019761758,
          -0.06345818804787473,
          -0.05586142516790339,
          -0.10719805559563,
          -0.06433873282587592,
          -0.11484809122828687,
          0.03155504328723364,
          0.011837772785607499,
          0.16524665483431022,
          -0.09300467720587913,
          -0.13044699157293754,
          -0.20029337215964432,
          0.20502719603140543,
          -0.15924586673586952,
          -0.010693345611460195,
          0.01902977032695693,
          -0.107573671460529,
          -0.05396239595936261,
          -0.11187553850718286,
          0.17163599850461683,
          0.1170461475374918,
          -0.12630758889204405,
          -0.03656292811836136,
          -0.021301351702767354,
          0.00977721507850187,
          0.0918193986532354,
          -0.045430602686718585,
          0.24398394124583855,
          0.00727038657716212,
          -0.003442833777313071,
          -0.05646665177502164,
          -0.07306171908202416,
          -0.0695453078015435,
          -0.16321826595738695,
          -0.07883432165443972,
          0.04575967965830914,
          -0.0786758649125057,
          0.2701008813743057,
          0.12692575213637702,
          0.04588790141049484,
          -0.004341089723771625,
          -0.0807179576166097,
          -0.06314837157062667,
          0.08460362001851583,
          0.12075035006482508,
          0.10014621043663909,
          0.08829804814164882,
          -0.0002109029631498678,
          0.023493880771585745,
          0.09998547646247133,
          0.006590811896059451,
          -0.10244564537802392,
          -0.21997557025876247,
          0.05329539482961962,
          -0.06223894161201888,
          -0.0645340780284668,
          0.010353614735979545,
          -0.3396900198681742,
          0.0043242926501340095,
          -0.1358577861643373,
          -0.23206959357817475,
          0.019530378227370776,
          -0.03954589693874176,
          0.027189527184165736,
          0.1385678066928273,
          -0.18931815206563538,
          -0.11424333142377095,
          -0.332948862184669,
          0.5255937581911188,
          -0.04676986406921357,
          0.4871375822307317,
          -0.14833078753030704,
          -0.07351766483054578,
          -0.18878408452116824,
          0.15751514976432818,
          0.49160040784547054,
          0.10858128772451563,
          0.10083878229929814,
          0.12844544527586704,
          0.018119188166814994,
          0.012108431917749796,
          0.0794205654521294,
          -0.0015210990254187675,
          -0.07452483086327182,
          0.04669546351654922,
          0.0866718518934887,
          0.017666191791512454,
          -0.06260149249956293,
          -0.034828885270566184,
          0.10945195022521448,
          0.12990494044402934,
          0.07164448222153182,
          -0.01580570913460136,
          0.08022091375372292,
          -0.11549656365241806,
          0.09301260150801162,
          0.05646987464939007
         ],
         "xaxis": "x",
         "yaxis": "y"
        }
       ],
       "layout": {
        "barmode": "relative",
        "legend": {
         "title": {
          "text": "port"
         },
         "tracegroupgap": 0
        },
        "margin": {
         "t": 60
        },
        "template": {
         "data": {
          "bar": [
           {
            "error_x": {
             "color": "#2a3f5f"
            },
            "error_y": {
             "color": "#2a3f5f"
            },
            "marker": {
             "line": {
              "color": "#E5ECF6",
              "width": 0.5
             },
             "pattern": {
              "fillmode": "overlay",
              "size": 10,
              "solidity": 0.2
             }
            },
            "type": "bar"
           }
          ],
          "barpolar": [
           {
            "marker": {
             "line": {
              "color": "#E5ECF6",
              "width": 0.5
             },
             "pattern": {
              "fillmode": "overlay",
              "size": 10,
              "solidity": 0.2
             }
            },
            "type": "barpolar"
           }
          ],
          "carpet": [
           {
            "aaxis": {
             "endlinecolor": "#2a3f5f",
             "gridcolor": "white",
             "linecolor": "white",
             "minorgridcolor": "white",
             "startlinecolor": "#2a3f5f"
            },
            "baxis": {
             "endlinecolor": "#2a3f5f",
             "gridcolor": "white",
             "linecolor": "white",
             "minorgridcolor": "white",
             "startlinecolor": "#2a3f5f"
            },
            "type": "carpet"
           }
          ],
          "choropleth": [
           {
            "colorbar": {
             "outlinewidth": 0,
             "ticks": ""
            },
            "type": "choropleth"
           }
          ],
          "contour": [
           {
            "colorbar": {
             "outlinewidth": 0,
             "ticks": ""
            },
            "colorscale": [
             [
              0,
              "#0d0887"
             ],
             [
              0.1111111111111111,
              "#46039f"
             ],
             [
              0.2222222222222222,
              "#7201a8"
             ],
             [
              0.3333333333333333,
              "#9c179e"
             ],
             [
              0.4444444444444444,
              "#bd3786"
             ],
             [
              0.5555555555555556,
              "#d8576b"
             ],
             [
              0.6666666666666666,
              "#ed7953"
             ],
             [
              0.7777777777777778,
              "#fb9f3a"
             ],
             [
              0.8888888888888888,
              "#fdca26"
             ],
             [
              1,
              "#f0f921"
             ]
            ],
            "type": "contour"
           }
          ],
          "contourcarpet": [
           {
            "colorbar": {
             "outlinewidth": 0,
             "ticks": ""
            },
            "type": "contourcarpet"
           }
          ],
          "heatmap": [
           {
            "colorbar": {
             "outlinewidth": 0,
             "ticks": ""
            },
            "colorscale": [
             [
              0,
              "#0d0887"
             ],
             [
              0.1111111111111111,
              "#46039f"
             ],
             [
              0.2222222222222222,
              "#7201a8"
             ],
             [
              0.3333333333333333,
              "#9c179e"
             ],
             [
              0.4444444444444444,
              "#bd3786"
             ],
             [
              0.5555555555555556,
              "#d8576b"
             ],
             [
              0.6666666666666666,
              "#ed7953"
             ],
             [
              0.7777777777777778,
              "#fb9f3a"
             ],
             [
              0.8888888888888888,
              "#fdca26"
             ],
             [
              1,
              "#f0f921"
             ]
            ],
            "type": "heatmap"
           }
          ],
          "heatmapgl": [
           {
            "colorbar": {
             "outlinewidth": 0,
             "ticks": ""
            },
            "colorscale": [
             [
              0,
              "#0d0887"
             ],
             [
              0.1111111111111111,
              "#46039f"
             ],
             [
              0.2222222222222222,
              "#7201a8"
             ],
             [
              0.3333333333333333,
              "#9c179e"
             ],
             [
              0.4444444444444444,
              "#bd3786"
             ],
             [
              0.5555555555555556,
              "#d8576b"
             ],
             [
              0.6666666666666666,
              "#ed7953"
             ],
             [
              0.7777777777777778,
              "#fb9f3a"
             ],
             [
              0.8888888888888888,
              "#fdca26"
             ],
             [
              1,
              "#f0f921"
             ]
            ],
            "type": "heatmapgl"
           }
          ],
          "histogram": [
           {
            "marker": {
             "pattern": {
              "fillmode": "overlay",
              "size": 10,
              "solidity": 0.2
             }
            },
            "type": "histogram"
           }
          ],
          "histogram2d": [
           {
            "colorbar": {
             "outlinewidth": 0,
             "ticks": ""
            },
            "colorscale": [
             [
              0,
              "#0d0887"
             ],
             [
              0.1111111111111111,
              "#46039f"
             ],
             [
              0.2222222222222222,
              "#7201a8"
             ],
             [
              0.3333333333333333,
              "#9c179e"
             ],
             [
              0.4444444444444444,
              "#bd3786"
             ],
             [
              0.5555555555555556,
              "#d8576b"
             ],
             [
              0.6666666666666666,
              "#ed7953"
             ],
             [
              0.7777777777777778,
              "#fb9f3a"
             ],
             [
              0.8888888888888888,
              "#fdca26"
             ],
             [
              1,
              "#f0f921"
             ]
            ],
            "type": "histogram2d"
           }
          ],
          "histogram2dcontour": [
           {
            "colorbar": {
             "outlinewidth": 0,
             "ticks": ""
            },
            "colorscale": [
             [
              0,
              "#0d0887"
             ],
             [
              0.1111111111111111,
              "#46039f"
             ],
             [
              0.2222222222222222,
              "#7201a8"
             ],
             [
              0.3333333333333333,
              "#9c179e"
             ],
             [
              0.4444444444444444,
              "#bd3786"
             ],
             [
              0.5555555555555556,
              "#d8576b"
             ],
             [
              0.6666666666666666,
              "#ed7953"
             ],
             [
              0.7777777777777778,
              "#fb9f3a"
             ],
             [
              0.8888888888888888,
              "#fdca26"
             ],
             [
              1,
              "#f0f921"
             ]
            ],
            "type": "histogram2dcontour"
           }
          ],
          "mesh3d": [
           {
            "colorbar": {
             "outlinewidth": 0,
             "ticks": ""
            },
            "type": "mesh3d"
           }
          ],
          "parcoords": [
           {
            "line": {
             "colorbar": {
              "outlinewidth": 0,
              "ticks": ""
             }
            },
            "type": "parcoords"
           }
          ],
          "pie": [
           {
            "automargin": true,
            "type": "pie"
           }
          ],
          "scatter": [
           {
            "fillpattern": {
             "fillmode": "overlay",
             "size": 10,
             "solidity": 0.2
            },
            "type": "scatter"
           }
          ],
          "scatter3d": [
           {
            "line": {
             "colorbar": {
              "outlinewidth": 0,
              "ticks": ""
             }
            },
            "marker": {
             "colorbar": {
              "outlinewidth": 0,
              "ticks": ""
             }
            },
            "type": "scatter3d"
           }
          ],
          "scattercarpet": [
           {
            "marker": {
             "colorbar": {
              "outlinewidth": 0,
              "ticks": ""
             }
            },
            "type": "scattercarpet"
           }
          ],
          "scattergeo": [
           {
            "marker": {
             "colorbar": {
              "outlinewidth": 0,
              "ticks": ""
             }
            },
            "type": "scattergeo"
           }
          ],
          "scattergl": [
           {
            "marker": {
             "colorbar": {
              "outlinewidth": 0,
              "ticks": ""
             }
            },
            "type": "scattergl"
           }
          ],
          "scattermapbox": [
           {
            "marker": {
             "colorbar": {
              "outlinewidth": 0,
              "ticks": ""
             }
            },
            "type": "scattermapbox"
           }
          ],
          "scatterpolar": [
           {
            "marker": {
             "colorbar": {
              "outlinewidth": 0,
              "ticks": ""
             }
            },
            "type": "scatterpolar"
           }
          ],
          "scatterpolargl": [
           {
            "marker": {
             "colorbar": {
              "outlinewidth": 0,
              "ticks": ""
             }
            },
            "type": "scatterpolargl"
           }
          ],
          "scatterternary": [
           {
            "marker": {
             "colorbar": {
              "outlinewidth": 0,
              "ticks": ""
             }
            },
            "type": "scatterternary"
           }
          ],
          "surface": [
           {
            "colorbar": {
             "outlinewidth": 0,
             "ticks": ""
            },
            "colorscale": [
             [
              0,
              "#0d0887"
             ],
             [
              0.1111111111111111,
              "#46039f"
             ],
             [
              0.2222222222222222,
              "#7201a8"
             ],
             [
              0.3333333333333333,
              "#9c179e"
             ],
             [
              0.4444444444444444,
              "#bd3786"
             ],
             [
              0.5555555555555556,
              "#d8576b"
             ],
             [
              0.6666666666666666,
              "#ed7953"
             ],
             [
              0.7777777777777778,
              "#fb9f3a"
             ],
             [
              0.8888888888888888,
              "#fdca26"
             ],
             [
              1,
              "#f0f921"
             ]
            ],
            "type": "surface"
           }
          ],
          "table": [
           {
            "cells": {
             "fill": {
              "color": "#EBF0F8"
             },
             "line": {
              "color": "white"
             }
            },
            "header": {
             "fill": {
              "color": "#C8D4E3"
             },
             "line": {
              "color": "white"
             }
            },
            "type": "table"
           }
          ]
         },
         "layout": {
          "annotationdefaults": {
           "arrowcolor": "#2a3f5f",
           "arrowhead": 0,
           "arrowwidth": 1
          },
          "autotypenumbers": "strict",
          "coloraxis": {
           "colorbar": {
            "outlinewidth": 0,
            "ticks": ""
           }
          },
          "colorscale": {
           "diverging": [
            [
             0,
             "#8e0152"
            ],
            [
             0.1,
             "#c51b7d"
            ],
            [
             0.2,
             "#de77ae"
            ],
            [
             0.3,
             "#f1b6da"
            ],
            [
             0.4,
             "#fde0ef"
            ],
            [
             0.5,
             "#f7f7f7"
            ],
            [
             0.6,
             "#e6f5d0"
            ],
            [
             0.7,
             "#b8e186"
            ],
            [
             0.8,
             "#7fbc41"
            ],
            [
             0.9,
             "#4d9221"
            ],
            [
             1,
             "#276419"
            ]
           ],
           "sequential": [
            [
             0,
             "#0d0887"
            ],
            [
             0.1111111111111111,
             "#46039f"
            ],
            [
             0.2222222222222222,
             "#7201a8"
            ],
            [
             0.3333333333333333,
             "#9c179e"
            ],
            [
             0.4444444444444444,
             "#bd3786"
            ],
            [
             0.5555555555555556,
             "#d8576b"
            ],
            [
             0.6666666666666666,
             "#ed7953"
            ],
            [
             0.7777777777777778,
             "#fb9f3a"
            ],
            [
             0.8888888888888888,
             "#fdca26"
            ],
            [
             1,
             "#f0f921"
            ]
           ],
           "sequentialminus": [
            [
             0,
             "#0d0887"
            ],
            [
             0.1111111111111111,
             "#46039f"
            ],
            [
             0.2222222222222222,
             "#7201a8"
            ],
            [
             0.3333333333333333,
             "#9c179e"
            ],
            [
             0.4444444444444444,
             "#bd3786"
            ],
            [
             0.5555555555555556,
             "#d8576b"
            ],
            [
             0.6666666666666666,
             "#ed7953"
            ],
            [
             0.7777777777777778,
             "#fb9f3a"
            ],
            [
             0.8888888888888888,
             "#fdca26"
            ],
            [
             1,
             "#f0f921"
            ]
           ]
          },
          "colorway": [
           "#636efa",
           "#EF553B",
           "#00cc96",
           "#ab63fa",
           "#FFA15A",
           "#19d3f3",
           "#FF6692",
           "#B6E880",
           "#FF97FF",
           "#FECB52"
          ],
          "font": {
           "color": "#2a3f5f"
          },
          "geo": {
           "bgcolor": "white",
           "lakecolor": "white",
           "landcolor": "#E5ECF6",
           "showlakes": true,
           "showland": true,
           "subunitcolor": "white"
          },
          "hoverlabel": {
           "align": "left"
          },
          "hovermode": "closest",
          "mapbox": {
           "style": "light"
          },
          "paper_bgcolor": "white",
          "plot_bgcolor": "#E5ECF6",
          "polar": {
           "angularaxis": {
            "gridcolor": "white",
            "linecolor": "white",
            "ticks": ""
           },
           "bgcolor": "#E5ECF6",
           "radialaxis": {
            "gridcolor": "white",
            "linecolor": "white",
            "ticks": ""
           }
          },
          "scene": {
           "xaxis": {
            "backgroundcolor": "#E5ECF6",
            "gridcolor": "white",
            "gridwidth": 2,
            "linecolor": "white",
            "showbackground": true,
            "ticks": "",
            "zerolinecolor": "white"
           },
           "yaxis": {
            "backgroundcolor": "#E5ECF6",
            "gridcolor": "white",
            "gridwidth": 2,
            "linecolor": "white",
            "showbackground": true,
            "ticks": "",
            "zerolinecolor": "white"
           },
           "zaxis": {
            "backgroundcolor": "#E5ECF6",
            "gridcolor": "white",
            "gridwidth": 2,
            "linecolor": "white",
            "showbackground": true,
            "ticks": "",
            "zerolinecolor": "white"
           }
          },
          "shapedefaults": {
           "line": {
            "color": "#2a3f5f"
           }
          },
          "ternary": {
           "aaxis": {
            "gridcolor": "white",
            "linecolor": "white",
            "ticks": ""
           },
           "baxis": {
            "gridcolor": "white",
            "linecolor": "white",
            "ticks": ""
           },
           "bgcolor": "#E5ECF6",
           "caxis": {
            "gridcolor": "white",
            "linecolor": "white",
            "ticks": ""
           }
          },
          "title": {
           "x": 0.05
          },
          "xaxis": {
           "automargin": true,
           "gridcolor": "white",
           "linecolor": "white",
           "ticks": "",
           "title": {
            "standoff": 15
           },
           "zerolinecolor": "white",
           "zerolinewidth": 2
          },
          "yaxis": {
           "automargin": true,
           "gridcolor": "white",
           "linecolor": "white",
           "ticks": "",
           "title": {
            "standoff": 15
           },
           "zerolinecolor": "white",
           "zerolinewidth": 2
          }
         }
        },
        "xaxis": {
         "anchor": "y",
         "domain": [
          0,
          1
         ],
         "title": {
          "text": "value"
         }
        },
        "yaxis": {
         "anchor": "x",
         "domain": [
          0,
          1
         ],
         "title": {
          "text": "count"
         }
        }
       }
      }
     },
     "metadata": {},
     "output_type": "display_data"
    }
   ],
   "source": [
    "px.histogram(port_df[['HML_rets']]).show()"
   ]
  },
  {
   "cell_type": "code",
   "execution_count": 16,
   "id": "fbf0f243",
   "metadata": {},
   "outputs": [],
   "source": [
    "port_df[\"date\"]= pd.to_datetime(port_df.date)"
   ]
  },
  {
   "cell_type": "code",
   "execution_count": 17,
   "id": "236e8f38",
   "metadata": {},
   "outputs": [
    {
     "name": "stderr",
     "output_type": "stream",
     "text": [
      "/Library/Frameworks/Python.framework/Versions/3.9/lib/python3.9/site-packages/_plotly_utils/basevalidators.py:105: FutureWarning:\n",
      "\n",
      "The behavior of DatetimeProperties.to_pydatetime is deprecated, in a future version this will return a Series containing python datetime objects instead of an ndarray. To retain the old behavior, call `np.array` on the result\n",
      "\n"
     ]
    },
    {
     "data": {
      "application/vnd.plotly.v1+json": {
       "config": {
        "plotlyServerURL": "https://plot.ly"
       },
       "data": [
        {
         "alignmentgroup": "True",
         "hovertemplate": "date=%{x}<br>HML_rets=%{y}<extra></extra>",
         "legendgroup": "",
         "marker": {
          "color": [
           "red",
           "green",
           "red",
           "red",
           "green",
           "green",
           "red",
           "green",
           "red",
           "green",
           "red",
           "green",
           "green",
           "red",
           "green",
           "green",
           "green",
           "red",
           "red",
           "red",
           "green",
           "green",
           "green",
           "green",
           "green",
           "green",
           "red",
           "red",
           "red",
           "green",
           "red",
           "green",
           "green",
           "red",
           "red",
           "red",
           "green",
           "red",
           "green",
           "red",
           "red",
           "red",
           "red",
           "green",
           "green",
           "green",
           "green",
           "green",
           "red",
           "green",
           "green",
           "green",
           "green",
           "red",
           "green",
           "red",
           "red",
           "red",
           "green",
           "green",
           "red",
           "green",
           "green",
           "red",
           "red",
           "red",
           "green",
           "red",
           "red",
           "red",
           "green",
           "green",
           "green",
           "green",
           "green",
           "red",
           "green",
           "green",
           "red",
           "red",
           "green",
           "green",
           "red",
           "red",
           "green",
           "green",
           "red",
           "red",
           "green",
           "red",
           "red",
           "green",
           "red",
           "red",
           "green",
           "green",
           "green",
           "green",
           "red",
           "red",
           "red",
           "red",
           "green",
           "red",
           "green",
           "green",
           "red",
           "red",
           "green",
           "red",
           "red",
           "green",
           "green",
           "green",
           "red",
           "green",
           "red",
           "green",
           "green",
           "green",
           "red",
           "green",
           "green",
           "green",
           "red",
           "green",
           "red",
           "green",
           "red",
           "green",
           "green",
           "green",
           "green",
           "green",
           "red",
           "red",
           "green",
           "green",
           "green",
           "red",
           "red",
           "red",
           "green",
           "red",
           "red",
           "green",
           "red",
           "red",
           "red",
           "red",
           "green",
           "red",
           "green",
           "green",
           "red",
           "green",
           "green",
           "green",
           "green",
           "green",
           "green",
           "green",
           "green",
           "green",
           "green",
           "red",
           "green",
           "red",
           "red",
           "red",
           "green",
           "red",
           "green",
           "red",
           "red",
           "green",
           "green",
           "green",
           "red",
           "red",
           "green",
           "red",
           "red",
           "green",
           "green",
           "red",
           "red",
           "red",
           "green",
           "red",
           "red",
           "green",
           "green",
           "green",
           "red",
           "red",
           "red",
           "green",
           "red",
           "green",
           "red",
           "red",
           "red",
           "green",
           "red",
           "red",
           "red",
           "red",
           "green",
           "red",
           "red",
           "red",
           "green",
           "green",
           "red",
           "green",
           "red",
           "red",
           "red",
           "red",
           "red",
           "green",
           "green",
           "red",
           "green",
           "red",
           "green",
           "red",
           "red",
           "green",
           "green",
           "green",
           "green",
           "green",
           "green",
           "green",
           "red",
           "red",
           "green",
           "green",
           "green",
           "green",
           "green",
           "red",
           "red",
           "green",
           "red",
           "green",
           "red",
           "red",
           "green",
           "green",
           "red",
           "red",
           "green",
           "green",
           "green",
           "red",
           "green",
           "red",
           "green",
           "green",
           "red",
           "green",
           "green",
           "green",
           "red",
           "red",
           "green",
           "red",
           "green",
           "green",
           "green",
           "green",
           "green",
           "red",
           "red",
           "red",
           "red",
           "green",
           "red",
           "red",
           "green",
           "green",
           "red",
           "green",
           "green",
           "red",
           "green",
           "green",
           "red",
           "red",
           "red",
           "red",
           "green",
           "red",
           "red",
           "red",
           "red",
           "red",
           "green",
           "green",
           "green",
           "red",
           "red",
           "red",
           "green",
           "red",
           "red",
           "green",
           "red",
           "red",
           "red",
           "green",
           "green",
           "red",
           "red",
           "red",
           "green",
           "green",
           "red",
           "green",
           "green",
           "red",
           "red",
           "red",
           "red",
           "red",
           "red",
           "green",
           "red",
           "green",
           "green",
           "green",
           "red",
           "red",
           "red",
           "green",
           "green",
           "green",
           "green",
           "red",
           "green",
           "green",
           "green",
           "red",
           "red",
           "green",
           "red",
           "red",
           "green",
           "red",
           "green",
           "red",
           "red",
           "green",
           "red",
           "green",
           "green",
           "red",
           "red",
           "red",
           "green",
           "red",
           "green",
           "red",
           "red",
           "red",
           "green",
           "green",
           "green",
           "green",
           "green",
           "green",
           "green",
           "green",
           "red",
           "red",
           "green",
           "green",
           "green",
           "red",
           "red",
           "green",
           "green",
           "green",
           "red",
           "green",
           "red",
           "green",
           "green"
          ],
          "pattern": {
           "shape": ""
          }
         },
         "name": "",
         "offsetgroup": "",
         "orientation": "v",
         "showlegend": false,
         "textposition": "auto",
         "type": "bar",
         "x": [
          "1990-02-28T00:00:00",
          "1990-03-31T00:00:00",
          "1990-04-30T00:00:00",
          "1990-05-31T00:00:00",
          "1990-06-30T00:00:00",
          "1990-07-31T00:00:00",
          "1990-08-31T00:00:00",
          "1990-09-30T00:00:00",
          "1990-10-31T00:00:00",
          "1990-11-30T00:00:00",
          "1990-12-31T00:00:00",
          "1991-01-31T00:00:00",
          "1991-02-28T00:00:00",
          "1991-03-31T00:00:00",
          "1991-04-30T00:00:00",
          "1991-05-31T00:00:00",
          "1991-06-30T00:00:00",
          "1991-07-31T00:00:00",
          "1991-08-31T00:00:00",
          "1991-09-30T00:00:00",
          "1991-10-31T00:00:00",
          "1991-11-30T00:00:00",
          "1991-12-31T00:00:00",
          "1992-01-31T00:00:00",
          "1992-02-29T00:00:00",
          "1992-03-31T00:00:00",
          "1992-04-30T00:00:00",
          "1992-05-31T00:00:00",
          "1992-06-30T00:00:00",
          "1992-07-31T00:00:00",
          "1992-08-31T00:00:00",
          "1992-09-30T00:00:00",
          "1992-10-31T00:00:00",
          "1992-11-30T00:00:00",
          "1992-12-31T00:00:00",
          "1993-01-31T00:00:00",
          "1993-02-28T00:00:00",
          "1993-03-31T00:00:00",
          "1993-04-30T00:00:00",
          "1993-05-31T00:00:00",
          "1993-06-30T00:00:00",
          "1993-07-31T00:00:00",
          "1993-08-31T00:00:00",
          "1993-09-30T00:00:00",
          "1993-10-31T00:00:00",
          "1993-11-30T00:00:00",
          "1993-12-31T00:00:00",
          "1994-01-31T00:00:00",
          "1994-02-28T00:00:00",
          "1994-03-31T00:00:00",
          "1994-04-30T00:00:00",
          "1994-05-31T00:00:00",
          "1994-06-30T00:00:00",
          "1994-07-31T00:00:00",
          "1994-08-31T00:00:00",
          "1994-09-30T00:00:00",
          "1994-10-31T00:00:00",
          "1994-11-30T00:00:00",
          "1994-12-31T00:00:00",
          "1995-01-31T00:00:00",
          "1995-02-28T00:00:00",
          "1995-03-31T00:00:00",
          "1995-04-30T00:00:00",
          "1995-05-31T00:00:00",
          "1995-06-30T00:00:00",
          "1995-07-31T00:00:00",
          "1995-08-31T00:00:00",
          "1995-09-30T00:00:00",
          "1995-10-31T00:00:00",
          "1995-11-30T00:00:00",
          "1995-12-31T00:00:00",
          "1996-01-31T00:00:00",
          "1996-02-29T00:00:00",
          "1996-03-31T00:00:00",
          "1996-04-30T00:00:00",
          "1996-05-31T00:00:00",
          "1996-06-30T00:00:00",
          "1996-07-31T00:00:00",
          "1996-08-31T00:00:00",
          "1996-09-30T00:00:00",
          "1996-10-31T00:00:00",
          "1996-11-30T00:00:00",
          "1996-12-31T00:00:00",
          "1997-01-31T00:00:00",
          "1997-02-28T00:00:00",
          "1997-03-31T00:00:00",
          "1997-04-30T00:00:00",
          "1997-05-31T00:00:00",
          "1997-06-30T00:00:00",
          "1997-07-31T00:00:00",
          "1997-08-31T00:00:00",
          "1997-09-30T00:00:00",
          "1997-10-31T00:00:00",
          "1997-11-30T00:00:00",
          "1997-12-31T00:00:00",
          "1998-01-31T00:00:00",
          "1998-02-28T00:00:00",
          "1998-03-31T00:00:00",
          "1998-04-30T00:00:00",
          "1998-05-31T00:00:00",
          "1998-06-30T00:00:00",
          "1998-07-31T00:00:00",
          "1998-08-31T00:00:00",
          "1998-09-30T00:00:00",
          "1998-10-31T00:00:00",
          "1998-11-30T00:00:00",
          "1998-12-31T00:00:00",
          "1999-01-31T00:00:00",
          "1999-02-28T00:00:00",
          "1999-03-31T00:00:00",
          "1999-04-30T00:00:00",
          "1999-05-31T00:00:00",
          "1999-06-30T00:00:00",
          "1999-07-31T00:00:00",
          "1999-08-31T00:00:00",
          "1999-09-30T00:00:00",
          "1999-10-31T00:00:00",
          "1999-11-30T00:00:00",
          "1999-12-31T00:00:00",
          "2000-01-31T00:00:00",
          "2000-02-29T00:00:00",
          "2000-03-31T00:00:00",
          "2000-04-30T00:00:00",
          "2000-05-31T00:00:00",
          "2000-06-30T00:00:00",
          "2000-07-31T00:00:00",
          "2000-08-31T00:00:00",
          "2000-09-30T00:00:00",
          "2000-10-31T00:00:00",
          "2000-11-30T00:00:00",
          "2000-12-31T00:00:00",
          "2001-01-31T00:00:00",
          "2001-02-28T00:00:00",
          "2001-03-31T00:00:00",
          "2001-04-30T00:00:00",
          "2001-05-31T00:00:00",
          "2001-06-30T00:00:00",
          "2001-07-31T00:00:00",
          "2001-08-31T00:00:00",
          "2001-09-30T00:00:00",
          "2001-10-31T00:00:00",
          "2001-11-30T00:00:00",
          "2001-12-31T00:00:00",
          "2002-01-31T00:00:00",
          "2002-02-28T00:00:00",
          "2002-03-31T00:00:00",
          "2002-04-30T00:00:00",
          "2002-05-31T00:00:00",
          "2002-06-30T00:00:00",
          "2002-07-31T00:00:00",
          "2002-08-31T00:00:00",
          "2002-09-30T00:00:00",
          "2002-10-31T00:00:00",
          "2002-11-30T00:00:00",
          "2002-12-31T00:00:00",
          "2003-01-31T00:00:00",
          "2003-02-28T00:00:00",
          "2003-03-31T00:00:00",
          "2003-04-30T00:00:00",
          "2003-05-31T00:00:00",
          "2003-06-30T00:00:00",
          "2003-07-31T00:00:00",
          "2003-08-31T00:00:00",
          "2003-09-30T00:00:00",
          "2003-10-31T00:00:00",
          "2003-11-30T00:00:00",
          "2003-12-31T00:00:00",
          "2004-01-31T00:00:00",
          "2004-02-29T00:00:00",
          "2004-03-31T00:00:00",
          "2004-04-30T00:00:00",
          "2004-05-31T00:00:00",
          "2004-06-30T00:00:00",
          "2004-07-31T00:00:00",
          "2004-08-31T00:00:00",
          "2004-09-30T00:00:00",
          "2004-10-31T00:00:00",
          "2004-11-30T00:00:00",
          "2004-12-31T00:00:00",
          "2005-01-31T00:00:00",
          "2005-02-28T00:00:00",
          "2005-03-31T00:00:00",
          "2005-04-30T00:00:00",
          "2005-05-31T00:00:00",
          "2005-06-30T00:00:00",
          "2005-07-31T00:00:00",
          "2005-08-31T00:00:00",
          "2005-09-30T00:00:00",
          "2005-10-31T00:00:00",
          "2005-11-30T00:00:00",
          "2005-12-31T00:00:00",
          "2006-01-31T00:00:00",
          "2006-02-28T00:00:00",
          "2006-03-31T00:00:00",
          "2006-04-30T00:00:00",
          "2006-05-31T00:00:00",
          "2006-06-30T00:00:00",
          "2006-07-31T00:00:00",
          "2006-08-31T00:00:00",
          "2006-09-30T00:00:00",
          "2006-10-31T00:00:00",
          "2006-11-30T00:00:00",
          "2006-12-31T00:00:00",
          "2007-01-31T00:00:00",
          "2007-02-28T00:00:00",
          "2007-03-31T00:00:00",
          "2007-04-30T00:00:00",
          "2007-05-31T00:00:00",
          "2007-06-30T00:00:00",
          "2007-07-31T00:00:00",
          "2007-08-31T00:00:00",
          "2007-09-30T00:00:00",
          "2007-10-31T00:00:00",
          "2007-11-30T00:00:00",
          "2007-12-31T00:00:00",
          "2008-01-31T00:00:00",
          "2008-02-29T00:00:00",
          "2008-03-31T00:00:00",
          "2008-04-30T00:00:00",
          "2008-05-31T00:00:00",
          "2008-06-30T00:00:00",
          "2008-07-31T00:00:00",
          "2008-08-31T00:00:00",
          "2008-09-30T00:00:00",
          "2008-10-31T00:00:00",
          "2008-11-30T00:00:00",
          "2008-12-31T00:00:00",
          "2009-01-31T00:00:00",
          "2009-02-28T00:00:00",
          "2009-03-31T00:00:00",
          "2009-04-30T00:00:00",
          "2009-05-31T00:00:00",
          "2009-06-30T00:00:00",
          "2009-07-31T00:00:00",
          "2009-08-31T00:00:00",
          "2009-09-30T00:00:00",
          "2009-10-31T00:00:00",
          "2009-11-30T00:00:00",
          "2009-12-31T00:00:00",
          "2010-01-31T00:00:00",
          "2010-02-28T00:00:00",
          "2010-03-31T00:00:00",
          "2010-04-30T00:00:00",
          "2010-05-31T00:00:00",
          "2010-06-30T00:00:00",
          "2010-07-31T00:00:00",
          "2010-08-31T00:00:00",
          "2010-09-30T00:00:00",
          "2010-10-31T00:00:00",
          "2010-11-30T00:00:00",
          "2010-12-31T00:00:00",
          "2011-01-31T00:00:00",
          "2011-02-28T00:00:00",
          "2011-03-31T00:00:00",
          "2011-04-30T00:00:00",
          "2011-05-31T00:00:00",
          "2011-06-30T00:00:00",
          "2011-07-31T00:00:00",
          "2011-08-31T00:00:00",
          "2011-09-30T00:00:00",
          "2011-10-31T00:00:00",
          "2011-11-30T00:00:00",
          "2011-12-31T00:00:00",
          "2012-01-31T00:00:00",
          "2012-02-29T00:00:00",
          "2012-03-31T00:00:00",
          "2012-04-30T00:00:00",
          "2012-05-31T00:00:00",
          "2012-06-30T00:00:00",
          "2012-07-31T00:00:00",
          "2012-08-31T00:00:00",
          "2012-09-30T00:00:00",
          "2012-10-31T00:00:00",
          "2012-11-30T00:00:00",
          "2012-12-31T00:00:00",
          "2013-01-31T00:00:00",
          "2013-02-28T00:00:00",
          "2013-03-31T00:00:00",
          "2013-04-30T00:00:00",
          "2013-05-31T00:00:00",
          "2013-06-30T00:00:00",
          "2013-07-31T00:00:00",
          "2013-08-31T00:00:00",
          "2013-09-30T00:00:00",
          "2013-10-31T00:00:00",
          "2013-11-30T00:00:00",
          "2013-12-31T00:00:00",
          "2014-01-31T00:00:00",
          "2014-02-28T00:00:00",
          "2014-03-31T00:00:00",
          "2014-04-30T00:00:00",
          "2014-05-31T00:00:00",
          "2014-06-30T00:00:00",
          "2014-07-31T00:00:00",
          "2014-08-31T00:00:00",
          "2014-09-30T00:00:00",
          "2014-10-31T00:00:00",
          "2014-11-30T00:00:00",
          "2014-12-31T00:00:00",
          "2015-01-31T00:00:00",
          "2015-02-28T00:00:00",
          "2015-03-31T00:00:00",
          "2015-04-30T00:00:00",
          "2015-05-31T00:00:00",
          "2015-06-30T00:00:00",
          "2015-07-31T00:00:00",
          "2015-08-31T00:00:00",
          "2015-09-30T00:00:00",
          "2015-10-31T00:00:00",
          "2015-11-30T00:00:00",
          "2015-12-31T00:00:00",
          "2016-01-31T00:00:00",
          "2016-02-29T00:00:00",
          "2016-03-31T00:00:00",
          "2016-04-30T00:00:00",
          "2016-05-31T00:00:00",
          "2016-06-30T00:00:00",
          "2016-07-31T00:00:00",
          "2016-08-31T00:00:00",
          "2016-09-30T00:00:00",
          "2016-10-31T00:00:00",
          "2016-11-30T00:00:00",
          "2016-12-31T00:00:00",
          "2017-01-31T00:00:00",
          "2017-02-28T00:00:00",
          "2017-03-31T00:00:00",
          "2017-04-30T00:00:00",
          "2017-05-31T00:00:00",
          "2017-06-30T00:00:00",
          "2017-07-31T00:00:00",
          "2017-08-31T00:00:00",
          "2017-09-30T00:00:00",
          "2017-10-31T00:00:00",
          "2017-11-30T00:00:00",
          "2017-12-31T00:00:00",
          "2018-01-31T00:00:00",
          "2018-02-28T00:00:00",
          "2018-03-31T00:00:00",
          "2018-04-30T00:00:00",
          "2018-05-31T00:00:00",
          "2018-06-30T00:00:00",
          "2018-07-31T00:00:00",
          "2018-08-31T00:00:00",
          "2018-09-30T00:00:00",
          "2018-10-31T00:00:00",
          "2018-11-30T00:00:00",
          "2018-12-31T00:00:00",
          "2019-01-31T00:00:00",
          "2019-02-28T00:00:00",
          "2019-03-31T00:00:00",
          "2019-04-30T00:00:00",
          "2019-05-31T00:00:00",
          "2019-06-30T00:00:00",
          "2019-07-31T00:00:00",
          "2019-08-31T00:00:00",
          "2019-09-30T00:00:00",
          "2019-10-31T00:00:00",
          "2019-11-30T00:00:00",
          "2019-12-31T00:00:00",
          "2020-01-31T00:00:00",
          "2020-02-29T00:00:00",
          "2020-03-31T00:00:00",
          "2020-04-30T00:00:00",
          "2020-05-31T00:00:00",
          "2020-06-30T00:00:00",
          "2020-07-31T00:00:00",
          "2020-08-31T00:00:00",
          "2020-09-30T00:00:00",
          "2020-10-31T00:00:00",
          "2020-11-30T00:00:00",
          "2020-12-31T00:00:00",
          "2021-01-31T00:00:00",
          "2021-02-28T00:00:00",
          "2021-03-31T00:00:00",
          "2021-04-30T00:00:00",
          "2021-05-31T00:00:00",
          "2021-06-30T00:00:00",
          "2021-07-31T00:00:00",
          "2021-08-31T00:00:00",
          "2021-09-30T00:00:00",
          "2021-10-31T00:00:00",
          "2021-11-30T00:00:00",
          "2021-12-31T00:00:00",
          "2022-01-31T00:00:00",
          "2022-02-28T00:00:00",
          "2022-03-31T00:00:00",
          "2022-04-30T00:00:00",
          "2022-05-31T00:00:00",
          "2022-06-30T00:00:00",
          "2022-07-31T00:00:00",
          "2022-08-31T00:00:00"
         ],
         "xaxis": "x",
         "y": [
          null,
          0.18980317709826855,
          -0.05666597088870656,
          -0.08008824161113007,
          0.0600240775882353,
          0.08107493053516189,
          -0.03801927292729232,
          0.0016133777937303306,
          -0.2126707626279137,
          0.0417553333235242,
          -0.05551928636533732,
          0.08227466087214913,
          0.07783768161619797,
          -0.047045805169563554,
          0.0778088313742003,
          0.032221795079698155,
          0.013665690418774051,
          -0.0291272960121199,
          -0.003940445613379853,
          -0.0887497505096508,
          0.030663063419805348,
          0.10747780584549749,
          0.025114567652146744,
          0.09406449137452863,
          0.0759684909290416,
          0.09397394236061471,
          -0.019951837234681268,
          -0.03709093688531521,
          -0.08442865487195125,
          0.07659516633923005,
          -0.009136336228278159,
          0.0408533902916615,
          0.015615893517716133,
          -0.05563907224661914,
          -0.02733871703387462,
          -0.013053078893614331,
          0.04962680271504005,
          -0.08711379002079445,
          0.045726834238068004,
          -0.07624688435992262,
          -0.07161717741943097,
          -0.043429943326805796,
          -0.13169758980665722,
          0.03578327423864259,
          0.049934467647007194,
          0.05516041799760678,
          0.07876577482308877,
          0.04597993006060527,
          -0.04604157683133399,
          0.009534643376285679,
          0.06917047994144662,
          0.0615914606794874,
          0.01821681418091882,
          -0.013409301075588015,
          0.02816290903156101,
          -0.015578110536328401,
          -0.005250318189805417,
          -0.012073737971614422,
          0.022316877674843423,
          0.04142320914980721,
          -0.04379984056674184,
          0.011308272400508287,
          0.008767350534732838,
          -0.030336494161530086,
          -0.0557054165678085,
          -0.022137066008479853,
          0.02235193248149589,
          -0.07523188145470452,
          -0.06654928372392593,
          -0.019373247164861607,
          0.00450060970269614,
          0.004368948957593641,
          0.0033787399468809265,
          0.013396208981343152,
          0.04514200795216532,
          -0.13018816862869162,
          0.1807018872247794,
          0.010811004970558064,
          -0.00049406907188973,
          -0.05779381284137407,
          0.07413355104218916,
          0.036349758471985724,
          -0.0017218454668219557,
          -0.0371056198146581,
          0.09539285513589628,
          0.01874397111586068,
          -0.0030637096227866534,
          -0.061798002104544406,
          0.02984417670701743,
          -0.07558234906769365,
          -0.007619027135633602,
          0.05374067805935616,
          -0.03401599934532928,
          -0.02268073269437733,
          0.026438703497055627,
          0.10461262950355268,
          0.03004552249885485,
          0.03322544058892335,
          -0.09282691990114085,
          -0.03944241332288008,
          -0.5345183346803468,
          -0.11313106281977,
          0.006247729270848379,
          -0.04025685489113104,
          0.12337834188094983,
          0.05211803524267785,
          -0.12141112009976829,
          -0.18715022603057554,
          0.062270102515193396,
          -0.322323618859955,
          -0.02099600351651279,
          0.10652779121717562,
          0.05405030980604161,
          0.12532867458579738,
          -0.0931886816536617,
          0.05071460112410979,
          -0.2500436203930027,
          0.07571909135578447,
          0.032652169151444185,
          0.059319906657323555,
          -0.5837347738364892,
          0.025756987212883255,
          0.25921114702553316,
          0.1544081838549023,
          -0.15767676624989158,
          0.05060936480412262,
          -0.15171704219531737,
          0.13924490054136957,
          -0.08294366889683921,
          0.12311959431997183,
          0.23627164132213507,
          0.5338920169875255,
          0.1406582102769655,
          0.0377289747048971,
          -0.05164031795754159,
          -0.03217994319368156,
          0.012248637971708776,
          0.02115851829400317,
          0.04969544925488211,
          -0.10080101916623162,
          -0.1971745901883506,
          -0.037168812332844026,
          0.37918063601514007,
          -0.051946099632998455,
          -0.11662852013865653,
          0.30973480108800583,
          -0.02393654754813064,
          -0.041530723277852497,
          -0.1741349920557606,
          -0.081411786540891,
          0.0459228076595561,
          -0.060876462132364584,
          0.1213101620712273,
          0.4026060048278421,
          -0.07588450579118244,
          0.08235379551596331,
          0.03229946688945459,
          0.09606593152371327,
          0.12994081551211548,
          0.08142579349904153,
          0.07469953927478415,
          0.1281273638618345,
          0.0014640442843525392,
          0.08391320636455388,
          0.08300800688859629,
          -0.014185283916877539,
          0.06880987930404595,
          -0.024547662089988445,
          -0.05652904501966266,
          -0.015062910933227591,
          0.0014151428144556777,
          -0.006869772232675375,
          0.06129772439245704,
          -0.014433617372299382,
          -0.06065791818638648,
          0.009829959959829715,
          0.022244113568962956,
          0.08822019042102822,
          -0.040942884014317366,
          -0.044750589952321694,
          0.001995013063258999,
          -0.011981419811751187,
          -0.07781337057581579,
          0.13106486522520927,
          0.0021378084429275884,
          -0.01239094571205858,
          -0.03517540192874155,
          -0.04924657540675563,
          0.015300689343377305,
          -0.14073996707318986,
          -0.010752045307720582,
          0.0647227803105608,
          0.02622636989092153,
          0.003152971987732865,
          -0.022715676511217767,
          -0.051536661007029194,
          -0.05085880001631207,
          0.06424425651840608,
          -0.06377497792660523,
          0.030053049473969737,
          -0.040607412547850205,
          -0.05523958956104824,
          -0.0033813437330541263,
          0.06124372365519477,
          -0.032226617429464685,
          -0.012529808218796332,
          -0.144131469265587,
          -0.02366069873064036,
          0.015957738364423546,
          -0.11859675060360016,
          -0.024675846134439877,
          -0.08054995167513451,
          0.0374325679433369,
          0.03324093686958812,
          -0.09371443299121676,
          0.08868930556479697,
          -0.021439849036453865,
          -0.04126944152899841,
          -0.005997419172986698,
          -0.0619437193455258,
          -0.1291644691206124,
          0.10392591466777557,
          0.39187384128939257,
          -0.1060513198717608,
          0.11087901190712901,
          -0.22694529502308175,
          0.5667933133351946,
          -0.04375674836063068,
          -0.1543439136572461,
          0.37799048842345134,
          0.5033280722529642,
          0.3813534613168355,
          0.03920633894016318,
          0.24047037998199605,
          0.34221328265055145,
          0.016510401845355002,
          -0.12409785621413376,
          -0.00006070019408874368,
          0.10527628754967938,
          0.08340210853138051,
          0.0622862905278366,
          0.17241943820483802,
          0.03747889304177396,
          -0.10652132249373085,
          -0.032774193309156326,
          0.08797099500239393,
          -0.01052656745171246,
          0.02024035637114388,
          -0.0008811185242754566,
          -0.11591109083360172,
          0.11703100981039292,
          0.08925816925071393,
          -0.029708988987578566,
          -0.028554461779770092,
          0.004591214384517962,
          0.00027195524934793547,
          0.07763828162035445,
          -0.05014194131289648,
          0.012829101139765195,
          -0.04461984475517708,
          0.03493671864860512,
          0.04046095868708231,
          -0.049522108743684665,
          0.09683012811539428,
          0.008585905662444202,
          0.02377115406542539,
          -0.08881902684702496,
          -0.009123942798623219,
          0.01662226593344525,
          -0.10493584043098618,
          0.02915176548190948,
          0.06555861894249368,
          0.06280567821810082,
          0.04265591191278273,
          0.08930288322768418,
          -0.010596246173231738,
          -0.027947276145574088,
          -0.019484071479494477,
          -0.0437534045726025,
          0.025048797104455886,
          -0.08725745585166853,
          -0.04547047923142393,
          0.04668368809182216,
          0.016313414522937705,
          -0.003185304783949905,
          0.0552352381076924,
          0.02676958882044464,
          -0.04140064579555734,
          0.003443500866619348,
          0.036610167374381164,
          -0.004888540996738244,
          -0.07388042879320521,
          -0.028905233390280408,
          -0.031141616605750794,
          0.07937869019761758,
          -0.06345818804787473,
          -0.05586142516790339,
          -0.10719805559563,
          -0.06433873282587592,
          -0.11484809122828687,
          0.03155504328723364,
          0.011837772785607499,
          0.16524665483431022,
          -0.09300467720587913,
          -0.13044699157293754,
          -0.20029337215964432,
          0.20502719603140543,
          -0.15924586673586952,
          -0.010693345611460195,
          0.01902977032695693,
          -0.107573671460529,
          -0.05396239595936261,
          -0.11187553850718286,
          0.17163599850461683,
          0.1170461475374918,
          -0.12630758889204405,
          -0.03656292811836136,
          -0.021301351702767354,
          0.00977721507850187,
          0.0918193986532354,
          -0.045430602686718585,
          0.24398394124583855,
          0.00727038657716212,
          -0.003442833777313071,
          -0.05646665177502164,
          -0.07306171908202416,
          -0.0695453078015435,
          -0.16321826595738695,
          -0.07883432165443972,
          0.04575967965830914,
          -0.0786758649125057,
          0.2701008813743057,
          0.12692575213637702,
          0.04588790141049484,
          -0.004341089723771625,
          -0.0807179576166097,
          -0.06314837157062667,
          0.08460362001851583,
          0.12075035006482508,
          0.10014621043663909,
          0.08829804814164882,
          -0.0002109029631498678,
          0.023493880771585745,
          0.09998547646247133,
          0.006590811896059451,
          -0.10244564537802392,
          -0.21997557025876247,
          0.05329539482961962,
          -0.06223894161201888,
          -0.0645340780284668,
          0.010353614735979545,
          -0.3396900198681742,
          0.0043242926501340095,
          -0.1358577861643373,
          -0.23206959357817475,
          0.019530378227370776,
          -0.03954589693874176,
          0.027189527184165736,
          0.1385678066928273,
          -0.18931815206563538,
          -0.11424333142377095,
          -0.332948862184669,
          0.5255937581911188,
          -0.04676986406921357,
          0.4871375822307317,
          -0.14833078753030704,
          -0.07351766483054578,
          -0.18878408452116824,
          0.15751514976432818,
          0.49160040784547054,
          0.10858128772451563,
          0.10083878229929814,
          0.12844544527586704,
          0.018119188166814994,
          0.012108431917749796,
          0.0794205654521294,
          -0.0015210990254187675,
          -0.07452483086327182,
          0.04669546351654922,
          0.0866718518934887,
          0.017666191791512454,
          -0.06260149249956293,
          -0.034828885270566184,
          0.10945195022521448,
          0.12990494044402934,
          0.07164448222153182,
          -0.01580570913460136,
          0.08022091375372292,
          -0.11549656365241806,
          0.09301260150801162,
          0.05646987464939007
         ],
         "yaxis": "y"
        }
       ],
       "layout": {
        "barmode": "relative",
        "legend": {
         "tracegroupgap": 0
        },
        "margin": {
         "t": 60
        },
        "template": {
         "data": {
          "bar": [
           {
            "error_x": {
             "color": "#2a3f5f"
            },
            "error_y": {
             "color": "#2a3f5f"
            },
            "marker": {
             "line": {
              "color": "#E5ECF6",
              "width": 0.5
             },
             "pattern": {
              "fillmode": "overlay",
              "size": 10,
              "solidity": 0.2
             }
            },
            "type": "bar"
           }
          ],
          "barpolar": [
           {
            "marker": {
             "line": {
              "color": "#E5ECF6",
              "width": 0.5
             },
             "pattern": {
              "fillmode": "overlay",
              "size": 10,
              "solidity": 0.2
             }
            },
            "type": "barpolar"
           }
          ],
          "carpet": [
           {
            "aaxis": {
             "endlinecolor": "#2a3f5f",
             "gridcolor": "white",
             "linecolor": "white",
             "minorgridcolor": "white",
             "startlinecolor": "#2a3f5f"
            },
            "baxis": {
             "endlinecolor": "#2a3f5f",
             "gridcolor": "white",
             "linecolor": "white",
             "minorgridcolor": "white",
             "startlinecolor": "#2a3f5f"
            },
            "type": "carpet"
           }
          ],
          "choropleth": [
           {
            "colorbar": {
             "outlinewidth": 0,
             "ticks": ""
            },
            "type": "choropleth"
           }
          ],
          "contour": [
           {
            "colorbar": {
             "outlinewidth": 0,
             "ticks": ""
            },
            "colorscale": [
             [
              0,
              "#0d0887"
             ],
             [
              0.1111111111111111,
              "#46039f"
             ],
             [
              0.2222222222222222,
              "#7201a8"
             ],
             [
              0.3333333333333333,
              "#9c179e"
             ],
             [
              0.4444444444444444,
              "#bd3786"
             ],
             [
              0.5555555555555556,
              "#d8576b"
             ],
             [
              0.6666666666666666,
              "#ed7953"
             ],
             [
              0.7777777777777778,
              "#fb9f3a"
             ],
             [
              0.8888888888888888,
              "#fdca26"
             ],
             [
              1,
              "#f0f921"
             ]
            ],
            "type": "contour"
           }
          ],
          "contourcarpet": [
           {
            "colorbar": {
             "outlinewidth": 0,
             "ticks": ""
            },
            "type": "contourcarpet"
           }
          ],
          "heatmap": [
           {
            "colorbar": {
             "outlinewidth": 0,
             "ticks": ""
            },
            "colorscale": [
             [
              0,
              "#0d0887"
             ],
             [
              0.1111111111111111,
              "#46039f"
             ],
             [
              0.2222222222222222,
              "#7201a8"
             ],
             [
              0.3333333333333333,
              "#9c179e"
             ],
             [
              0.4444444444444444,
              "#bd3786"
             ],
             [
              0.5555555555555556,
              "#d8576b"
             ],
             [
              0.6666666666666666,
              "#ed7953"
             ],
             [
              0.7777777777777778,
              "#fb9f3a"
             ],
             [
              0.8888888888888888,
              "#fdca26"
             ],
             [
              1,
              "#f0f921"
             ]
            ],
            "type": "heatmap"
           }
          ],
          "heatmapgl": [
           {
            "colorbar": {
             "outlinewidth": 0,
             "ticks": ""
            },
            "colorscale": [
             [
              0,
              "#0d0887"
             ],
             [
              0.1111111111111111,
              "#46039f"
             ],
             [
              0.2222222222222222,
              "#7201a8"
             ],
             [
              0.3333333333333333,
              "#9c179e"
             ],
             [
              0.4444444444444444,
              "#bd3786"
             ],
             [
              0.5555555555555556,
              "#d8576b"
             ],
             [
              0.6666666666666666,
              "#ed7953"
             ],
             [
              0.7777777777777778,
              "#fb9f3a"
             ],
             [
              0.8888888888888888,
              "#fdca26"
             ],
             [
              1,
              "#f0f921"
             ]
            ],
            "type": "heatmapgl"
           }
          ],
          "histogram": [
           {
            "marker": {
             "pattern": {
              "fillmode": "overlay",
              "size": 10,
              "solidity": 0.2
             }
            },
            "type": "histogram"
           }
          ],
          "histogram2d": [
           {
            "colorbar": {
             "outlinewidth": 0,
             "ticks": ""
            },
            "colorscale": [
             [
              0,
              "#0d0887"
             ],
             [
              0.1111111111111111,
              "#46039f"
             ],
             [
              0.2222222222222222,
              "#7201a8"
             ],
             [
              0.3333333333333333,
              "#9c179e"
             ],
             [
              0.4444444444444444,
              "#bd3786"
             ],
             [
              0.5555555555555556,
              "#d8576b"
             ],
             [
              0.6666666666666666,
              "#ed7953"
             ],
             [
              0.7777777777777778,
              "#fb9f3a"
             ],
             [
              0.8888888888888888,
              "#fdca26"
             ],
             [
              1,
              "#f0f921"
             ]
            ],
            "type": "histogram2d"
           }
          ],
          "histogram2dcontour": [
           {
            "colorbar": {
             "outlinewidth": 0,
             "ticks": ""
            },
            "colorscale": [
             [
              0,
              "#0d0887"
             ],
             [
              0.1111111111111111,
              "#46039f"
             ],
             [
              0.2222222222222222,
              "#7201a8"
             ],
             [
              0.3333333333333333,
              "#9c179e"
             ],
             [
              0.4444444444444444,
              "#bd3786"
             ],
             [
              0.5555555555555556,
              "#d8576b"
             ],
             [
              0.6666666666666666,
              "#ed7953"
             ],
             [
              0.7777777777777778,
              "#fb9f3a"
             ],
             [
              0.8888888888888888,
              "#fdca26"
             ],
             [
              1,
              "#f0f921"
             ]
            ],
            "type": "histogram2dcontour"
           }
          ],
          "mesh3d": [
           {
            "colorbar": {
             "outlinewidth": 0,
             "ticks": ""
            },
            "type": "mesh3d"
           }
          ],
          "parcoords": [
           {
            "line": {
             "colorbar": {
              "outlinewidth": 0,
              "ticks": ""
             }
            },
            "type": "parcoords"
           }
          ],
          "pie": [
           {
            "automargin": true,
            "type": "pie"
           }
          ],
          "scatter": [
           {
            "fillpattern": {
             "fillmode": "overlay",
             "size": 10,
             "solidity": 0.2
            },
            "type": "scatter"
           }
          ],
          "scatter3d": [
           {
            "line": {
             "colorbar": {
              "outlinewidth": 0,
              "ticks": ""
             }
            },
            "marker": {
             "colorbar": {
              "outlinewidth": 0,
              "ticks": ""
             }
            },
            "type": "scatter3d"
           }
          ],
          "scattercarpet": [
           {
            "marker": {
             "colorbar": {
              "outlinewidth": 0,
              "ticks": ""
             }
            },
            "type": "scattercarpet"
           }
          ],
          "scattergeo": [
           {
            "marker": {
             "colorbar": {
              "outlinewidth": 0,
              "ticks": ""
             }
            },
            "type": "scattergeo"
           }
          ],
          "scattergl": [
           {
            "marker": {
             "colorbar": {
              "outlinewidth": 0,
              "ticks": ""
             }
            },
            "type": "scattergl"
           }
          ],
          "scattermapbox": [
           {
            "marker": {
             "colorbar": {
              "outlinewidth": 0,
              "ticks": ""
             }
            },
            "type": "scattermapbox"
           }
          ],
          "scatterpolar": [
           {
            "marker": {
             "colorbar": {
              "outlinewidth": 0,
              "ticks": ""
             }
            },
            "type": "scatterpolar"
           }
          ],
          "scatterpolargl": [
           {
            "marker": {
             "colorbar": {
              "outlinewidth": 0,
              "ticks": ""
             }
            },
            "type": "scatterpolargl"
           }
          ],
          "scatterternary": [
           {
            "marker": {
             "colorbar": {
              "outlinewidth": 0,
              "ticks": ""
             }
            },
            "type": "scatterternary"
           }
          ],
          "surface": [
           {
            "colorbar": {
             "outlinewidth": 0,
             "ticks": ""
            },
            "colorscale": [
             [
              0,
              "#0d0887"
             ],
             [
              0.1111111111111111,
              "#46039f"
             ],
             [
              0.2222222222222222,
              "#7201a8"
             ],
             [
              0.3333333333333333,
              "#9c179e"
             ],
             [
              0.4444444444444444,
              "#bd3786"
             ],
             [
              0.5555555555555556,
              "#d8576b"
             ],
             [
              0.6666666666666666,
              "#ed7953"
             ],
             [
              0.7777777777777778,
              "#fb9f3a"
             ],
             [
              0.8888888888888888,
              "#fdca26"
             ],
             [
              1,
              "#f0f921"
             ]
            ],
            "type": "surface"
           }
          ],
          "table": [
           {
            "cells": {
             "fill": {
              "color": "#EBF0F8"
             },
             "line": {
              "color": "white"
             }
            },
            "header": {
             "fill": {
              "color": "#C8D4E3"
             },
             "line": {
              "color": "white"
             }
            },
            "type": "table"
           }
          ]
         },
         "layout": {
          "annotationdefaults": {
           "arrowcolor": "#2a3f5f",
           "arrowhead": 0,
           "arrowwidth": 1
          },
          "autotypenumbers": "strict",
          "coloraxis": {
           "colorbar": {
            "outlinewidth": 0,
            "ticks": ""
           }
          },
          "colorscale": {
           "diverging": [
            [
             0,
             "#8e0152"
            ],
            [
             0.1,
             "#c51b7d"
            ],
            [
             0.2,
             "#de77ae"
            ],
            [
             0.3,
             "#f1b6da"
            ],
            [
             0.4,
             "#fde0ef"
            ],
            [
             0.5,
             "#f7f7f7"
            ],
            [
             0.6,
             "#e6f5d0"
            ],
            [
             0.7,
             "#b8e186"
            ],
            [
             0.8,
             "#7fbc41"
            ],
            [
             0.9,
             "#4d9221"
            ],
            [
             1,
             "#276419"
            ]
           ],
           "sequential": [
            [
             0,
             "#0d0887"
            ],
            [
             0.1111111111111111,
             "#46039f"
            ],
            [
             0.2222222222222222,
             "#7201a8"
            ],
            [
             0.3333333333333333,
             "#9c179e"
            ],
            [
             0.4444444444444444,
             "#bd3786"
            ],
            [
             0.5555555555555556,
             "#d8576b"
            ],
            [
             0.6666666666666666,
             "#ed7953"
            ],
            [
             0.7777777777777778,
             "#fb9f3a"
            ],
            [
             0.8888888888888888,
             "#fdca26"
            ],
            [
             1,
             "#f0f921"
            ]
           ],
           "sequentialminus": [
            [
             0,
             "#0d0887"
            ],
            [
             0.1111111111111111,
             "#46039f"
            ],
            [
             0.2222222222222222,
             "#7201a8"
            ],
            [
             0.3333333333333333,
             "#9c179e"
            ],
            [
             0.4444444444444444,
             "#bd3786"
            ],
            [
             0.5555555555555556,
             "#d8576b"
            ],
            [
             0.6666666666666666,
             "#ed7953"
            ],
            [
             0.7777777777777778,
             "#fb9f3a"
            ],
            [
             0.8888888888888888,
             "#fdca26"
            ],
            [
             1,
             "#f0f921"
            ]
           ]
          },
          "colorway": [
           "#636efa",
           "#EF553B",
           "#00cc96",
           "#ab63fa",
           "#FFA15A",
           "#19d3f3",
           "#FF6692",
           "#B6E880",
           "#FF97FF",
           "#FECB52"
          ],
          "font": {
           "color": "#2a3f5f"
          },
          "geo": {
           "bgcolor": "white",
           "lakecolor": "white",
           "landcolor": "#E5ECF6",
           "showlakes": true,
           "showland": true,
           "subunitcolor": "white"
          },
          "hoverlabel": {
           "align": "left"
          },
          "hovermode": "closest",
          "mapbox": {
           "style": "light"
          },
          "paper_bgcolor": "white",
          "plot_bgcolor": "#E5ECF6",
          "polar": {
           "angularaxis": {
            "gridcolor": "white",
            "linecolor": "white",
            "ticks": ""
           },
           "bgcolor": "#E5ECF6",
           "radialaxis": {
            "gridcolor": "white",
            "linecolor": "white",
            "ticks": ""
           }
          },
          "scene": {
           "xaxis": {
            "backgroundcolor": "#E5ECF6",
            "gridcolor": "white",
            "gridwidth": 2,
            "linecolor": "white",
            "showbackground": true,
            "ticks": "",
            "zerolinecolor": "white"
           },
           "yaxis": {
            "backgroundcolor": "#E5ECF6",
            "gridcolor": "white",
            "gridwidth": 2,
            "linecolor": "white",
            "showbackground": true,
            "ticks": "",
            "zerolinecolor": "white"
           },
           "zaxis": {
            "backgroundcolor": "#E5ECF6",
            "gridcolor": "white",
            "gridwidth": 2,
            "linecolor": "white",
            "showbackground": true,
            "ticks": "",
            "zerolinecolor": "white"
           }
          },
          "shapedefaults": {
           "line": {
            "color": "#2a3f5f"
           }
          },
          "ternary": {
           "aaxis": {
            "gridcolor": "white",
            "linecolor": "white",
            "ticks": ""
           },
           "baxis": {
            "gridcolor": "white",
            "linecolor": "white",
            "ticks": ""
           },
           "bgcolor": "#E5ECF6",
           "caxis": {
            "gridcolor": "white",
            "linecolor": "white",
            "ticks": ""
           }
          },
          "title": {
           "x": 0.05
          },
          "xaxis": {
           "automargin": true,
           "gridcolor": "white",
           "linecolor": "white",
           "ticks": "",
           "title": {
            "standoff": 15
           },
           "zerolinecolor": "white",
           "zerolinewidth": 2
          },
          "yaxis": {
           "automargin": true,
           "gridcolor": "white",
           "linecolor": "white",
           "ticks": "",
           "title": {
            "standoff": 15
           },
           "zerolinecolor": "white",
           "zerolinewidth": 2
          }
         }
        },
        "xaxis": {
         "anchor": "y",
         "domain": [
          0,
          1
         ],
         "title": {
          "text": "date"
         }
        },
        "yaxis": {
         "anchor": "x",
         "domain": [
          0,
          1
         ],
         "title": {
          "text": "HML_rets"
         }
        }
       }
      }
     },
     "metadata": {},
     "output_type": "display_data"
    }
   ],
   "source": [
    "monthly_rets = port_df[[\"date\", \"HML_rets\"]].resample('M', on='date').mean() # Calculate average daily return for each month\n",
    "monthly_rets['Colour']='red' # Add column with 'red' value\n",
    "monthly_rets.loc[monthly_rets['HML_rets']>=0, 'Colour']='green' # Replace 'red' with 'green' where return is non-negative\n",
    "px.bar(monthly_rets,x=monthly_rets.index,y=\"HML_rets\").update_traces(marker_color=monthly_rets[\"Colour\"]).show()"
   ]
  },
  {
   "cell_type": "code",
   "execution_count": 18,
   "metadata": {},
   "outputs": [
    {
     "name": "stdout",
     "output_type": "stream",
     "text": [
      "0.009702666334142303 0.1257847676399627\n"
     ]
    }
   ],
   "source": [
    "mean_ret = port_df['HML_rets'].mean()\n",
    "volatility = port_df['HML_rets'].std()\n",
    "print(mean_ret, volatility)"
   ]
  },
  {
   "cell_type": "code",
   "execution_count": 19,
   "id": "e7717ed4",
   "metadata": {},
   "outputs": [
    {
     "name": "stdout",
     "output_type": "stream",
     "text": [
      "Annualised expected return is: 244.51%\n",
      "Annualised volatility is: 199.68%\n"
     ]
    }
   ],
   "source": [
    "print('Annualised expected return is: '+str(round(100*mean_ret*252,2)) +'%')\n",
    "print('Annualised volatility is: '+str(round(100*volatility*np.sqrt(252),2)) +'%')"
   ]
  },
  {
   "cell_type": "code",
   "execution_count": 20,
   "id": "1c601366",
   "metadata": {},
   "outputs": [
    {
     "data": {
      "text/plain": [
       "count    390.000000\n",
       "mean       0.970267\n",
       "std       12.578477\n",
       "min      -58.373477\n",
       "25%       -5.161440\n",
       "50%        0.326586\n",
       "75%        6.128422\n",
       "max       56.679331\n",
       "Name: HML_rets, dtype: float64"
      ]
     },
     "execution_count": 20,
     "metadata": {},
     "output_type": "execute_result"
    }
   ],
   "source": [
    "(port_df['HML_rets']*100).describe()"
   ]
  },
  {
   "cell_type": "code",
   "execution_count": 21,
   "id": "f94d6e22",
   "metadata": {},
   "outputs": [
    {
     "name": "stdout",
     "output_type": "stream",
     "text": [
      "0.733612055345065\n"
     ]
    }
   ],
   "source": [
    "print(skew(port_df['HML_rets'].dropna()))"
   ]
  },
  {
   "cell_type": "code",
   "execution_count": 22,
   "id": "2e32863f",
   "metadata": {},
   "outputs": [
    {
     "name": "stdout",
     "output_type": "stream",
     "text": [
      "5.761734374791724\n"
     ]
    }
   ],
   "source": [
    "print(kurtosis(port_df[\"HML_rets\"].dropna()))"
   ]
  },
  {
   "cell_type": "code",
   "execution_count": 23,
   "id": "9bfa9c27",
   "metadata": {},
   "outputs": [
    {
     "data": {
      "text/plain": [
       "-0.3504055771828437"
      ]
     },
     "execution_count": 23,
     "metadata": {},
     "output_type": "execute_result"
    }
   ],
   "source": [
    "VaR = port_df['HML_rets'].quantile(0.005)\n",
    "VaR"
   ]
  },
  {
   "cell_type": "code",
   "execution_count": 24,
   "id": "6f1d670d",
   "metadata": {},
   "outputs": [
    {
     "name": "stdout",
     "output_type": "stream",
     "text": [
      "There is a 10.0% chance that my losses will be -11.2% or worse over the next day.\n",
      "There is a 5.0% chance that my losses will be -15.32% or worse over the next day.\n",
      "There is a 1.0% chance that my losses will be -32.35% or worse over the next day.\n",
      "There is a 0.1% chance that my losses will be -56.46% or worse over the next day.\n",
      "There is a 0.01% chance that my losses will be -58.18% or worse over the next day.\n"
     ]
    }
   ],
   "source": [
    "for q in [0.1, 0.05, 0.01, 0.001, 0.0001]:\n",
    "    VaR = port_df['HML_rets'].quantile(q)\n",
    "    print('There is a '+str(round(100*q,3))+'% chance that my losses will be '+str(round(VaR*100, 2))+'% or worse over the next day.')"
   ]
  },
  {
   "cell_type": "code",
   "execution_count": 25,
   "id": "58e25588",
   "metadata": {},
   "outputs": [
    {
     "data": {
      "text/html": [
       "<div>\n",
       "<style scoped>\n",
       "    .dataframe tbody tr th:only-of-type {\n",
       "        vertical-align: middle;\n",
       "    }\n",
       "\n",
       "    .dataframe tbody tr th {\n",
       "        vertical-align: top;\n",
       "    }\n",
       "\n",
       "    .dataframe thead th {\n",
       "        text-align: right;\n",
       "    }\n",
       "</style>\n",
       "<table border=\"1\" class=\"dataframe\">\n",
       "  <thead>\n",
       "    <tr style=\"text-align: right;\">\n",
       "      <th>port</th>\n",
       "      <th>date</th>\n",
       "      <th>HML_rets</th>\n",
       "      <th>HML_cum_rets</th>\n",
       "    </tr>\n",
       "  </thead>\n",
       "  <tbody>\n",
       "    <tr>\n",
       "      <th>100</th>\n",
       "      <td>1998-06-30</td>\n",
       "      <td>-0.534518</td>\n",
       "      <td>0.568058</td>\n",
       "    </tr>\n",
       "    <tr>\n",
       "      <th>120</th>\n",
       "      <td>2000-02-29</td>\n",
       "      <td>-0.583735</td>\n",
       "      <td>0.132963</td>\n",
       "    </tr>\n",
       "  </tbody>\n",
       "</table>\n",
       "</div>"
      ],
      "text/plain": [
       "port       date  HML_rets  HML_cum_rets\n",
       "100  1998-06-30 -0.534518      0.568058\n",
       "120  2000-02-29 -0.583735      0.132963"
      ]
     },
     "execution_count": 25,
     "metadata": {},
     "output_type": "execute_result"
    }
   ],
   "source": [
    "VaR = port_df['HML_rets'].quantile(0.005)\n",
    "rets_tail = port_df.loc[port_df['HML_rets']<=VaR,[\"date\", \"HML_rets\", \"HML_cum_rets\"]]\n",
    "rets_tail"
   ]
  },
  {
   "cell_type": "code",
   "execution_count": 26,
   "id": "b9b543e9",
   "metadata": {},
   "outputs": [
    {
     "data": {
      "text/plain": [
       "-0.5591265542584181"
      ]
     },
     "execution_count": 26,
     "metadata": {},
     "output_type": "execute_result"
    }
   ],
   "source": [
    "ES = rets_tail['HML_rets'].mean()\n",
    "ES"
   ]
  },
  {
   "cell_type": "code",
   "execution_count": 27,
   "id": "d19594a8",
   "metadata": {},
   "outputs": [
    {
     "name": "stdout",
     "output_type": "stream",
     "text": [
      "I expect to lose on average -19.1% over 1-day period given that I have exceeded my VaR for 10.0%.\n",
      "I expect to lose on average -25.13% over 1-day period given that I have exceeded my VaR for 5.0%.\n",
      "I expect to lose on average -44.77% over 1-day period given that I have exceeded my VaR for 1.0%.\n",
      "I expect to lose on average -58.37% over 1-day period given that I have exceeded my VaR for 0.1%.\n",
      "I expect to lose on average -58.37% over 1-day period given that I have exceeded my VaR for 0.01%.\n"
     ]
    }
   ],
   "source": [
    "for q in [0.1, 0.05, 0.01, 0.001, 0.0001]:\n",
    "    VaR = port_df['HML_rets'].quantile(q)\n",
    "    rets_tail = port_df.loc[port_df['HML_rets']<=VaR,:]\n",
    "    ES = rets_tail['HML_rets'].mean()\n",
    "    print('I expect to lose on average '+ str(round(ES*100, 2))+'% over 1-day period given that I have exceeded my VaR for '+str(round(100*q,3))+'%.')"
   ]
  },
  {
   "cell_type": "code",
   "execution_count": 28,
   "id": "a619a7e8",
   "metadata": {},
   "outputs": [
    {
     "data": {
      "text/plain": [
       "-0.3012871461060556"
      ]
     },
     "execution_count": 28,
     "metadata": {},
     "output_type": "execute_result"
    }
   ],
   "source": [
    "# according to bloomberg the risk free rate (treasury yields) 4.76 % (last 30 years)\n",
    "# calculation of sharpe ratio\n",
    "\n",
    "rf = 0.0476\n",
    "sharpe_ratio = (mean_ret-rf)/volatility\n",
    "sharpe_ratio"
   ]
  },
  {
   "cell_type": "code",
   "execution_count": 29,
   "id": "cfa2bf2e",
   "metadata": {},
   "outputs": [],
   "source": [
    "# get SP500 data from 1990-01-31 to 2022-08-30\t\n",
    "sp500_ticker = yf.Ticker(\"^GSPC\")\n",
    "sp500 = sp500_ticker.history(start=\"1990-02-28\", end=\"2022-09-30\", interval=\"1mo\")\n",
    "sp500 = sp500[[\"Close\"]]\n",
    "sp500[\"Rets\"] = sp500.Close.pct_change()"
   ]
  },
  {
   "cell_type": "code",
   "execution_count": 30,
   "id": "f6d7fb4f",
   "metadata": {},
   "outputs": [
    {
     "data": {
      "text/html": [
       "<div>\n",
       "<style scoped>\n",
       "    .dataframe tbody tr th:only-of-type {\n",
       "        vertical-align: middle;\n",
       "    }\n",
       "\n",
       "    .dataframe tbody tr th {\n",
       "        vertical-align: top;\n",
       "    }\n",
       "\n",
       "    .dataframe thead th {\n",
       "        text-align: right;\n",
       "    }\n",
       "</style>\n",
       "<table border=\"1\" class=\"dataframe\">\n",
       "  <thead>\n",
       "    <tr style=\"text-align: right;\">\n",
       "      <th></th>\n",
       "      <th>Close</th>\n",
       "      <th>Rets</th>\n",
       "    </tr>\n",
       "    <tr>\n",
       "      <th>Date</th>\n",
       "      <th></th>\n",
       "      <th></th>\n",
       "    </tr>\n",
       "  </thead>\n",
       "  <tbody>\n",
       "    <tr>\n",
       "      <th>1990-03-01 00:00:00-05:00</th>\n",
       "      <td>339.940002</td>\n",
       "      <td>NaN</td>\n",
       "    </tr>\n",
       "    <tr>\n",
       "      <th>1990-04-01 00:00:00-05:00</th>\n",
       "      <td>330.799988</td>\n",
       "      <td>-0.026887</td>\n",
       "    </tr>\n",
       "    <tr>\n",
       "      <th>1990-05-01 00:00:00-04:00</th>\n",
       "      <td>361.230011</td>\n",
       "      <td>0.091989</td>\n",
       "    </tr>\n",
       "    <tr>\n",
       "      <th>1990-06-01 00:00:00-04:00</th>\n",
       "      <td>358.019989</td>\n",
       "      <td>-0.008886</td>\n",
       "    </tr>\n",
       "    <tr>\n",
       "      <th>1990-07-01 00:00:00-04:00</th>\n",
       "      <td>356.149994</td>\n",
       "      <td>-0.005223</td>\n",
       "    </tr>\n",
       "    <tr>\n",
       "      <th>...</th>\n",
       "      <td>...</td>\n",
       "      <td>...</td>\n",
       "    </tr>\n",
       "    <tr>\n",
       "      <th>2022-05-01 00:00:00-04:00</th>\n",
       "      <td>4132.149902</td>\n",
       "      <td>0.000053</td>\n",
       "    </tr>\n",
       "    <tr>\n",
       "      <th>2022-06-01 00:00:00-04:00</th>\n",
       "      <td>3785.379883</td>\n",
       "      <td>-0.083920</td>\n",
       "    </tr>\n",
       "    <tr>\n",
       "      <th>2022-07-01 00:00:00-04:00</th>\n",
       "      <td>4130.290039</td>\n",
       "      <td>0.091116</td>\n",
       "    </tr>\n",
       "    <tr>\n",
       "      <th>2022-08-01 00:00:00-04:00</th>\n",
       "      <td>3955.000000</td>\n",
       "      <td>-0.042440</td>\n",
       "    </tr>\n",
       "    <tr>\n",
       "      <th>2022-09-01 00:00:00-04:00</th>\n",
       "      <td>3585.620117</td>\n",
       "      <td>-0.093396</td>\n",
       "    </tr>\n",
       "  </tbody>\n",
       "</table>\n",
       "<p>391 rows × 2 columns</p>\n",
       "</div>"
      ],
      "text/plain": [
       "                                 Close      Rets\n",
       "Date                                            \n",
       "1990-03-01 00:00:00-05:00   339.940002       NaN\n",
       "1990-04-01 00:00:00-05:00   330.799988 -0.026887\n",
       "1990-05-01 00:00:00-04:00   361.230011  0.091989\n",
       "1990-06-01 00:00:00-04:00   358.019989 -0.008886\n",
       "1990-07-01 00:00:00-04:00   356.149994 -0.005223\n",
       "...                                ...       ...\n",
       "2022-05-01 00:00:00-04:00  4132.149902  0.000053\n",
       "2022-06-01 00:00:00-04:00  3785.379883 -0.083920\n",
       "2022-07-01 00:00:00-04:00  4130.290039  0.091116\n",
       "2022-08-01 00:00:00-04:00  3955.000000 -0.042440\n",
       "2022-09-01 00:00:00-04:00  3585.620117 -0.093396\n",
       "\n",
       "[391 rows x 2 columns]"
      ]
     },
     "execution_count": 30,
     "metadata": {},
     "output_type": "execute_result"
    }
   ],
   "source": [
    "sp500"
   ]
  },
  {
   "cell_type": "code",
   "execution_count": 31,
   "id": "721fb7cc",
   "metadata": {},
   "outputs": [
    {
     "name": "stdout",
     "output_type": "stream",
     "text": [
      "Portfolio Beta: -0.1866899349161033\n",
      "Jensen's Alpha: -0.04547934128482169\n"
     ]
    }
   ],
   "source": [
    "# Calculate the average return of the market\n",
    "average_market_return = sp500.Rets.mean()\n",
    "\n",
    "# Calculate the covariance between portfolio and market returns\n",
    "covariance = port_df['HML_rets'].cov(sp500['Rets'].reset_index(drop=True))\n",
    "\n",
    "# Calculate the variance of the market returns\n",
    "market_variance = sp500['Rets'].var()\n",
    "\n",
    "# Calculate the portfolio's beta\n",
    "portfolio_beta = covariance / market_variance\n",
    "\n",
    "# Calculate Jensen's Alpha\n",
    "jensens_alpha = mean_ret - (rf + portfolio_beta * (average_market_return - rf))\n",
    "\n",
    "print(\"Portfolio Beta:\", portfolio_beta)\n",
    "print(\"Jensen's Alpha:\", jensens_alpha)"
   ]
  },
  {
   "cell_type": "code",
   "execution_count": 32,
   "id": "1f054516",
   "metadata": {},
   "outputs": [
    {
     "data": {
      "text/plain": [
       "0.20299612661436947"
      ]
     },
     "execution_count": 32,
     "metadata": {},
     "output_type": "execute_result"
    }
   ],
   "source": [
    "# treynor ratio\n",
    "treynor_ratio = (mean_ret - rf)/portfolio_beta\n",
    "treynor_ratio"
   ]
  },
  {
   "cell_type": "code",
   "execution_count": 33,
   "id": "cac77e35",
   "metadata": {},
   "outputs": [
    {
     "name": "stdout",
     "output_type": "stream",
     "text": [
      "0.9095600417508357\n"
     ]
    }
   ],
   "source": [
    "# maximum drawdown\n",
    "peak = port_df.loc[1, \"HML_cum_rets\"]\n",
    "max_drawdown = 0\n",
    "for ret in port_df[\"HML_cum_rets\"].dropna():\n",
    "    if ret >= peak:\n",
    "        peak = ret\n",
    "    else:\n",
    "        drawdown = (peak - ret)/peak\n",
    "        max_drawdown = max(max_drawdown, drawdown)\n",
    "\n",
    "print(max_drawdown)"
   ]
  },
  {
   "cell_type": "code",
   "execution_count": 34,
   "id": "69f485a3",
   "metadata": {},
   "outputs": [
    {
     "data": {
      "text/plain": [
       "0.0795989232999235"
      ]
     },
     "execution_count": 34,
     "metadata": {},
     "output_type": "execute_result"
    }
   ],
   "source": [
    "# calmar-ratio\n",
    "annualised_exp_return = round(mean_ret*12,2)\n",
    "calmar_ratio = (annualised_exp_return - rf)/max_drawdown\n",
    "calmar_ratio"
   ]
  }
 ],
 "metadata": {
  "kernelspec": {
   "display_name": "Python 3 (ipykernel)",
   "language": "python",
   "name": "python3"
  },
  "language_info": {
   "codemirror_mode": {
    "name": "ipython",
    "version": 3
   },
   "file_extension": ".py",
   "mimetype": "text/x-python",
   "name": "python",
   "nbconvert_exporter": "python",
   "pygments_lexer": "ipython3",
   "version": "3.9.0"
  }
 },
 "nbformat": 4,
 "nbformat_minor": 5
}
