{
 "cells": [
  {
   "cell_type": "markdown",
   "id": "acae3b45",
   "metadata": {},
   "source": [
    "# Group Project\n",
    "#### **FINN43815 - Python for Finance**"
   ]
  },
  {
   "cell_type": "code",
   "execution_count": 1,
   "id": "36a8edf5",
   "metadata": {},
   "outputs": [],
   "source": [
    "import numpy as np\n",
    "import pandas as pd\n",
    "import plotly.express as px\n",
    "from scipy.stats import kurtosis, skew\n",
    "import yfinance as yf"
   ]
  },
  {
   "cell_type": "markdown",
   "id": "278f8d90",
   "metadata": {},
   "source": [
    "### SMB Strategy (Q=100)"
   ]
  },
  {
   "cell_type": "markdown",
   "id": "e6e26e70",
   "metadata": {},
   "source": [
    "#### 1. Import Data"
   ]
  },
  {
   "cell_type": "code",
   "execution_count": 2,
   "id": "d81ffa77",
   "metadata": {},
   "outputs": [
    {
     "name": "stderr",
     "output_type": "stream",
     "text": [
      "/var/folders/ch/yj3xbk4s1t34gtb89jtxcmcr0000gn/T/ipykernel_52158/1299969751.py:1: DtypeWarning: Columns (12) have mixed types. Specify dtype option on import or set low_memory=False.\n",
      "  data = pd.read_csv('cleaned_data.csv')\n"
     ]
    }
   ],
   "source": [
    "data = pd.read_csv('cleaned_data.csv')"
   ]
  },
  {
   "cell_type": "code",
   "execution_count": 3,
   "id": "0a7b9ab6",
   "metadata": {},
   "outputs": [
    {
     "data": {
      "text/html": [
       "<div>\n",
       "<style scoped>\n",
       "    .dataframe tbody tr th:only-of-type {\n",
       "        vertical-align: middle;\n",
       "    }\n",
       "\n",
       "    .dataframe tbody tr th {\n",
       "        vertical-align: top;\n",
       "    }\n",
       "\n",
       "    .dataframe thead th {\n",
       "        text-align: right;\n",
       "    }\n",
       "</style>\n",
       "<table border=\"1\" class=\"dataframe\">\n",
       "  <thead>\n",
       "    <tr style=\"text-align: right;\">\n",
       "      <th></th>\n",
       "      <th>date</th>\n",
       "      <th>permno</th>\n",
       "      <th>price</th>\n",
       "      <th>cap</th>\n",
       "    </tr>\n",
       "  </thead>\n",
       "  <tbody>\n",
       "    <tr>\n",
       "      <th>0</th>\n",
       "      <td>1990-01-31</td>\n",
       "      <td>0111145D UN Equity</td>\n",
       "      <td>20.6875</td>\n",
       "      <td>1226.3674</td>\n",
       "    </tr>\n",
       "    <tr>\n",
       "      <th>1</th>\n",
       "      <td>1990-02-28</td>\n",
       "      <td>0111145D UN Equity</td>\n",
       "      <td>22.0000</td>\n",
       "      <td>1303.3636</td>\n",
       "    </tr>\n",
       "    <tr>\n",
       "      <th>2</th>\n",
       "      <td>1990-03-30</td>\n",
       "      <td>0111145D UN Equity</td>\n",
       "      <td>19.5000</td>\n",
       "      <td>1155.2541</td>\n",
       "    </tr>\n",
       "    <tr>\n",
       "      <th>3</th>\n",
       "      <td>1990-04-30</td>\n",
       "      <td>0111145D UN Equity</td>\n",
       "      <td>17.6250</td>\n",
       "      <td>1021.1925</td>\n",
       "    </tr>\n",
       "    <tr>\n",
       "      <th>4</th>\n",
       "      <td>1990-05-31</td>\n",
       "      <td>0111145D UN Equity</td>\n",
       "      <td>19.8125</td>\n",
       "      <td>1147.9362</td>\n",
       "    </tr>\n",
       "    <tr>\n",
       "      <th>...</th>\n",
       "      <td>...</td>\n",
       "      <td>...</td>\n",
       "      <td>...</td>\n",
       "      <td>...</td>\n",
       "    </tr>\n",
       "    <tr>\n",
       "      <th>514691</th>\n",
       "      <td>2022-04-29</td>\n",
       "      <td>J UN Equity</td>\n",
       "      <td>138.5500</td>\n",
       "      <td>17902.9731</td>\n",
       "    </tr>\n",
       "    <tr>\n",
       "      <th>514692</th>\n",
       "      <td>2022-05-31</td>\n",
       "      <td>J UN Equity</td>\n",
       "      <td>140.0900</td>\n",
       "      <td>18019.3940</td>\n",
       "    </tr>\n",
       "    <tr>\n",
       "      <th>514693</th>\n",
       "      <td>2022-06-30</td>\n",
       "      <td>J UN Equity</td>\n",
       "      <td>127.1300</td>\n",
       "      <td>16352.3846</td>\n",
       "    </tr>\n",
       "    <tr>\n",
       "      <th>514694</th>\n",
       "      <td>2022-07-29</td>\n",
       "      <td>J UN Equity</td>\n",
       "      <td>137.3000</td>\n",
       "      <td>17660.5239</td>\n",
       "    </tr>\n",
       "    <tr>\n",
       "      <th>514695</th>\n",
       "      <td>2022-08-30</td>\n",
       "      <td>J UN Equity</td>\n",
       "      <td>124.4400</td>\n",
       "      <td>15879.2422</td>\n",
       "    </tr>\n",
       "  </tbody>\n",
       "</table>\n",
       "<p>514696 rows × 4 columns</p>\n",
       "</div>"
      ],
      "text/plain": [
       "              date              permno     price         cap\n",
       "0       1990-01-31  0111145D UN Equity   20.6875   1226.3674\n",
       "1       1990-02-28  0111145D UN Equity   22.0000   1303.3636\n",
       "2       1990-03-30  0111145D UN Equity   19.5000   1155.2541\n",
       "3       1990-04-30  0111145D UN Equity   17.6250   1021.1925\n",
       "4       1990-05-31  0111145D UN Equity   19.8125   1147.9362\n",
       "...            ...                 ...       ...         ...\n",
       "514691  2022-04-29         J UN Equity  138.5500  17902.9731\n",
       "514692  2022-05-31         J UN Equity  140.0900  18019.3940\n",
       "514693  2022-06-30         J UN Equity  127.1300  16352.3846\n",
       "514694  2022-07-29         J UN Equity  137.3000  17660.5239\n",
       "514695  2022-08-30         J UN Equity  124.4400  15879.2422\n",
       "\n",
       "[514696 rows x 4 columns]"
      ]
     },
     "execution_count": 3,
     "metadata": {},
     "output_type": "execute_result"
    }
   ],
   "source": [
    "# drop unnecessary columns\n",
    "data = data[[\"date\", \"permno\", \"price\", \"cap\"]]\n",
    "data"
   ]
  },
  {
   "cell_type": "markdown",
   "id": "27834fd8",
   "metadata": {},
   "source": [
    "#### 2. Calculate monthly returns"
   ]
  },
  {
   "cell_type": "code",
   "execution_count": 4,
   "id": "8529d569",
   "metadata": {},
   "outputs": [
    {
     "name": "stderr",
     "output_type": "stream",
     "text": [
      "/var/folders/ch/yj3xbk4s1t34gtb89jtxcmcr0000gn/T/ipykernel_52158/1728035520.py:1: FutureWarning: The default fill_method='pad' in Series.pct_change is deprecated and will be removed in a future version. Call ffill before calling pct_change to retain current behavior and silence this warning.\n",
      "  data['rets'] = data.groupby('permno')['price'].transform(pd.Series.pct_change)\n"
     ]
    },
    {
     "data": {
      "text/html": [
       "<div>\n",
       "<style scoped>\n",
       "    .dataframe tbody tr th:only-of-type {\n",
       "        vertical-align: middle;\n",
       "    }\n",
       "\n",
       "    .dataframe tbody tr th {\n",
       "        vertical-align: top;\n",
       "    }\n",
       "\n",
       "    .dataframe thead th {\n",
       "        text-align: right;\n",
       "    }\n",
       "</style>\n",
       "<table border=\"1\" class=\"dataframe\">\n",
       "  <thead>\n",
       "    <tr style=\"text-align: right;\">\n",
       "      <th></th>\n",
       "      <th>date</th>\n",
       "      <th>permno</th>\n",
       "      <th>price</th>\n",
       "      <th>cap</th>\n",
       "      <th>rets</th>\n",
       "    </tr>\n",
       "  </thead>\n",
       "  <tbody>\n",
       "    <tr>\n",
       "      <th>0</th>\n",
       "      <td>1990-01-31</td>\n",
       "      <td>0111145D UN Equity</td>\n",
       "      <td>20.6875</td>\n",
       "      <td>1226.3674</td>\n",
       "      <td>NaN</td>\n",
       "    </tr>\n",
       "    <tr>\n",
       "      <th>1</th>\n",
       "      <td>1990-02-28</td>\n",
       "      <td>0111145D UN Equity</td>\n",
       "      <td>22.0000</td>\n",
       "      <td>1303.3636</td>\n",
       "      <td>0.063444</td>\n",
       "    </tr>\n",
       "    <tr>\n",
       "      <th>2</th>\n",
       "      <td>1990-03-30</td>\n",
       "      <td>0111145D UN Equity</td>\n",
       "      <td>19.5000</td>\n",
       "      <td>1155.2541</td>\n",
       "      <td>-0.113636</td>\n",
       "    </tr>\n",
       "    <tr>\n",
       "      <th>3</th>\n",
       "      <td>1990-04-30</td>\n",
       "      <td>0111145D UN Equity</td>\n",
       "      <td>17.6250</td>\n",
       "      <td>1021.1925</td>\n",
       "      <td>-0.096154</td>\n",
       "    </tr>\n",
       "    <tr>\n",
       "      <th>4</th>\n",
       "      <td>1990-05-31</td>\n",
       "      <td>0111145D UN Equity</td>\n",
       "      <td>19.8125</td>\n",
       "      <td>1147.9362</td>\n",
       "      <td>0.124113</td>\n",
       "    </tr>\n",
       "  </tbody>\n",
       "</table>\n",
       "</div>"
      ],
      "text/plain": [
       "         date              permno    price        cap      rets\n",
       "0  1990-01-31  0111145D UN Equity  20.6875  1226.3674       NaN\n",
       "1  1990-02-28  0111145D UN Equity  22.0000  1303.3636  0.063444\n",
       "2  1990-03-30  0111145D UN Equity  19.5000  1155.2541 -0.113636\n",
       "3  1990-04-30  0111145D UN Equity  17.6250  1021.1925 -0.096154\n",
       "4  1990-05-31  0111145D UN Equity  19.8125  1147.9362  0.124113"
      ]
     },
     "execution_count": 4,
     "metadata": {},
     "output_type": "execute_result"
    }
   ],
   "source": [
    "data['rets'] = data.groupby('permno')['price'].transform(pd.Series.pct_change)\n",
    "data.head()"
   ]
  },
  {
   "cell_type": "markdown",
   "id": "67a0e395",
   "metadata": {},
   "source": [
    "#### 3. Sort all stocks into 10 equal groups by size"
   ]
  },
  {
   "cell_type": "code",
   "execution_count": 5,
   "id": "1c727b61",
   "metadata": {},
   "outputs": [
    {
     "data": {
      "text/html": [
       "<div>\n",
       "<style scoped>\n",
       "    .dataframe tbody tr th:only-of-type {\n",
       "        vertical-align: middle;\n",
       "    }\n",
       "\n",
       "    .dataframe tbody tr th {\n",
       "        vertical-align: top;\n",
       "    }\n",
       "\n",
       "    .dataframe thead th {\n",
       "        text-align: right;\n",
       "    }\n",
       "</style>\n",
       "<table border=\"1\" class=\"dataframe\">\n",
       "  <thead>\n",
       "    <tr style=\"text-align: right;\">\n",
       "      <th></th>\n",
       "      <th>date</th>\n",
       "      <th>permno</th>\n",
       "      <th>price</th>\n",
       "      <th>cap</th>\n",
       "      <th>rets</th>\n",
       "    </tr>\n",
       "  </thead>\n",
       "  <tbody>\n",
       "    <tr>\n",
       "      <th>1</th>\n",
       "      <td>1990-02-28</td>\n",
       "      <td>0111145D UN Equity</td>\n",
       "      <td>22.0000</td>\n",
       "      <td>1303.3636</td>\n",
       "      <td>0.063444</td>\n",
       "    </tr>\n",
       "    <tr>\n",
       "      <th>2</th>\n",
       "      <td>1990-03-30</td>\n",
       "      <td>0111145D UN Equity</td>\n",
       "      <td>19.5000</td>\n",
       "      <td>1155.2541</td>\n",
       "      <td>-0.113636</td>\n",
       "    </tr>\n",
       "    <tr>\n",
       "      <th>3</th>\n",
       "      <td>1990-04-30</td>\n",
       "      <td>0111145D UN Equity</td>\n",
       "      <td>17.6250</td>\n",
       "      <td>1021.1925</td>\n",
       "      <td>-0.096154</td>\n",
       "    </tr>\n",
       "    <tr>\n",
       "      <th>4</th>\n",
       "      <td>1990-05-31</td>\n",
       "      <td>0111145D UN Equity</td>\n",
       "      <td>19.8125</td>\n",
       "      <td>1147.9362</td>\n",
       "      <td>0.124113</td>\n",
       "    </tr>\n",
       "    <tr>\n",
       "      <th>5</th>\n",
       "      <td>1990-06-29</td>\n",
       "      <td>0111145D UN Equity</td>\n",
       "      <td>18.9375</td>\n",
       "      <td>1097.2387</td>\n",
       "      <td>-0.044164</td>\n",
       "    </tr>\n",
       "    <tr>\n",
       "      <th>...</th>\n",
       "      <td>...</td>\n",
       "      <td>...</td>\n",
       "      <td>...</td>\n",
       "      <td>...</td>\n",
       "      <td>...</td>\n",
       "    </tr>\n",
       "    <tr>\n",
       "      <th>514691</th>\n",
       "      <td>2022-04-29</td>\n",
       "      <td>J UN Equity</td>\n",
       "      <td>138.5500</td>\n",
       "      <td>17902.9731</td>\n",
       "      <td>0.005370</td>\n",
       "    </tr>\n",
       "    <tr>\n",
       "      <th>514692</th>\n",
       "      <td>2022-05-31</td>\n",
       "      <td>J UN Equity</td>\n",
       "      <td>140.0900</td>\n",
       "      <td>18019.3940</td>\n",
       "      <td>0.011115</td>\n",
       "    </tr>\n",
       "    <tr>\n",
       "      <th>514693</th>\n",
       "      <td>2022-06-30</td>\n",
       "      <td>J UN Equity</td>\n",
       "      <td>127.1300</td>\n",
       "      <td>16352.3846</td>\n",
       "      <td>-0.092512</td>\n",
       "    </tr>\n",
       "    <tr>\n",
       "      <th>514694</th>\n",
       "      <td>2022-07-29</td>\n",
       "      <td>J UN Equity</td>\n",
       "      <td>137.3000</td>\n",
       "      <td>17660.5239</td>\n",
       "      <td>0.079997</td>\n",
       "    </tr>\n",
       "    <tr>\n",
       "      <th>514695</th>\n",
       "      <td>2022-08-30</td>\n",
       "      <td>J UN Equity</td>\n",
       "      <td>124.4400</td>\n",
       "      <td>15879.2422</td>\n",
       "      <td>-0.093664</td>\n",
       "    </tr>\n",
       "  </tbody>\n",
       "</table>\n",
       "<p>293533 rows × 5 columns</p>\n",
       "</div>"
      ],
      "text/plain": [
       "              date              permno     price         cap      rets\n",
       "1       1990-02-28  0111145D UN Equity   22.0000   1303.3636  0.063444\n",
       "2       1990-03-30  0111145D UN Equity   19.5000   1155.2541 -0.113636\n",
       "3       1990-04-30  0111145D UN Equity   17.6250   1021.1925 -0.096154\n",
       "4       1990-05-31  0111145D UN Equity   19.8125   1147.9362  0.124113\n",
       "5       1990-06-29  0111145D UN Equity   18.9375   1097.2387 -0.044164\n",
       "...            ...                 ...       ...         ...       ...\n",
       "514691  2022-04-29         J UN Equity  138.5500  17902.9731  0.005370\n",
       "514692  2022-05-31         J UN Equity  140.0900  18019.3940  0.011115\n",
       "514693  2022-06-30         J UN Equity  127.1300  16352.3846 -0.092512\n",
       "514694  2022-07-29         J UN Equity  137.3000  17660.5239  0.079997\n",
       "514695  2022-08-30         J UN Equity  124.4400  15879.2422 -0.093664\n",
       "\n",
       "[293533 rows x 5 columns]"
      ]
     },
     "execution_count": 5,
     "metadata": {},
     "output_type": "execute_result"
    }
   ],
   "source": [
    "# Filter out null values fro return and cap\n",
    "data = data.loc[(~data['rets'].isnull()) & ~(data['cap'].isnull())]\n",
    "data "
   ]
  },
  {
   "cell_type": "code",
   "execution_count": 7,
   "id": "9ccc9cda",
   "metadata": {},
   "outputs": [
    {
     "name": "stderr",
     "output_type": "stream",
     "text": [
      "/var/folders/ch/yj3xbk4s1t34gtb89jtxcmcr0000gn/T/ipykernel_52158/3380332615.py:2: SettingWithCopyWarning: \n",
      "A value is trying to be set on a copy of a slice from a DataFrame.\n",
      "Try using .loc[row_indexer,col_indexer] = value instead\n",
      "\n",
      "See the caveats in the documentation: https://pandas.pydata.org/pandas-docs/stable/user_guide/indexing.html#returning-a-view-versus-a-copy\n",
      "  data.loc[:,'port'] = data.groupby('date')['cap'].transform(pd.qcut, q=100, labels=range(1,101)).astype(str)\n"
     ]
    },
    {
     "data": {
      "text/html": [
       "<div>\n",
       "<style scoped>\n",
       "    .dataframe tbody tr th:only-of-type {\n",
       "        vertical-align: middle;\n",
       "    }\n",
       "\n",
       "    .dataframe tbody tr th {\n",
       "        vertical-align: top;\n",
       "    }\n",
       "\n",
       "    .dataframe thead th {\n",
       "        text-align: right;\n",
       "    }\n",
       "</style>\n",
       "<table border=\"1\" class=\"dataframe\">\n",
       "  <thead>\n",
       "    <tr style=\"text-align: right;\">\n",
       "      <th></th>\n",
       "      <th>date</th>\n",
       "      <th>permno</th>\n",
       "      <th>price</th>\n",
       "      <th>cap</th>\n",
       "      <th>rets</th>\n",
       "      <th>port</th>\n",
       "    </tr>\n",
       "  </thead>\n",
       "  <tbody>\n",
       "    <tr>\n",
       "      <th>1</th>\n",
       "      <td>1990-02-28</td>\n",
       "      <td>0111145D UN Equity</td>\n",
       "      <td>22.0000</td>\n",
       "      <td>1303.3636</td>\n",
       "      <td>0.063444</td>\n",
       "      <td>47</td>\n",
       "    </tr>\n",
       "    <tr>\n",
       "      <th>2</th>\n",
       "      <td>1990-03-30</td>\n",
       "      <td>0111145D UN Equity</td>\n",
       "      <td>19.5000</td>\n",
       "      <td>1155.2541</td>\n",
       "      <td>-0.113636</td>\n",
       "      <td>41</td>\n",
       "    </tr>\n",
       "    <tr>\n",
       "      <th>3</th>\n",
       "      <td>1990-04-30</td>\n",
       "      <td>0111145D UN Equity</td>\n",
       "      <td>17.6250</td>\n",
       "      <td>1021.1925</td>\n",
       "      <td>-0.096154</td>\n",
       "      <td>37</td>\n",
       "    </tr>\n",
       "    <tr>\n",
       "      <th>4</th>\n",
       "      <td>1990-05-31</td>\n",
       "      <td>0111145D UN Equity</td>\n",
       "      <td>19.8125</td>\n",
       "      <td>1147.9362</td>\n",
       "      <td>0.124113</td>\n",
       "      <td>38</td>\n",
       "    </tr>\n",
       "    <tr>\n",
       "      <th>5</th>\n",
       "      <td>1990-06-29</td>\n",
       "      <td>0111145D UN Equity</td>\n",
       "      <td>18.9375</td>\n",
       "      <td>1097.2387</td>\n",
       "      <td>-0.044164</td>\n",
       "      <td>37</td>\n",
       "    </tr>\n",
       "    <tr>\n",
       "      <th>...</th>\n",
       "      <td>...</td>\n",
       "      <td>...</td>\n",
       "      <td>...</td>\n",
       "      <td>...</td>\n",
       "      <td>...</td>\n",
       "      <td>...</td>\n",
       "    </tr>\n",
       "    <tr>\n",
       "      <th>514691</th>\n",
       "      <td>2022-04-29</td>\n",
       "      <td>J UN Equity</td>\n",
       "      <td>138.5500</td>\n",
       "      <td>17902.9731</td>\n",
       "      <td>0.005370</td>\n",
       "      <td>40</td>\n",
       "    </tr>\n",
       "    <tr>\n",
       "      <th>514692</th>\n",
       "      <td>2022-05-31</td>\n",
       "      <td>J UN Equity</td>\n",
       "      <td>140.0900</td>\n",
       "      <td>18019.3940</td>\n",
       "      <td>0.011115</td>\n",
       "      <td>40</td>\n",
       "    </tr>\n",
       "    <tr>\n",
       "      <th>514693</th>\n",
       "      <td>2022-06-30</td>\n",
       "      <td>J UN Equity</td>\n",
       "      <td>127.1300</td>\n",
       "      <td>16352.3846</td>\n",
       "      <td>-0.092512</td>\n",
       "      <td>40</td>\n",
       "    </tr>\n",
       "    <tr>\n",
       "      <th>514694</th>\n",
       "      <td>2022-07-29</td>\n",
       "      <td>J UN Equity</td>\n",
       "      <td>137.3000</td>\n",
       "      <td>17660.5239</td>\n",
       "      <td>0.079997</td>\n",
       "      <td>41</td>\n",
       "    </tr>\n",
       "    <tr>\n",
       "      <th>514695</th>\n",
       "      <td>2022-08-30</td>\n",
       "      <td>J UN Equity</td>\n",
       "      <td>124.4400</td>\n",
       "      <td>15879.2422</td>\n",
       "      <td>-0.093664</td>\n",
       "      <td>39</td>\n",
       "    </tr>\n",
       "  </tbody>\n",
       "</table>\n",
       "<p>293533 rows × 6 columns</p>\n",
       "</div>"
      ],
      "text/plain": [
       "              date              permno     price         cap      rets port\n",
       "1       1990-02-28  0111145D UN Equity   22.0000   1303.3636  0.063444   47\n",
       "2       1990-03-30  0111145D UN Equity   19.5000   1155.2541 -0.113636   41\n",
       "3       1990-04-30  0111145D UN Equity   17.6250   1021.1925 -0.096154   37\n",
       "4       1990-05-31  0111145D UN Equity   19.8125   1147.9362  0.124113   38\n",
       "5       1990-06-29  0111145D UN Equity   18.9375   1097.2387 -0.044164   37\n",
       "...            ...                 ...       ...         ...       ...  ...\n",
       "514691  2022-04-29         J UN Equity  138.5500  17902.9731  0.005370   40\n",
       "514692  2022-05-31         J UN Equity  140.0900  18019.3940  0.011115   40\n",
       "514693  2022-06-30         J UN Equity  127.1300  16352.3846 -0.092512   40\n",
       "514694  2022-07-29         J UN Equity  137.3000  17660.5239  0.079997   41\n",
       "514695  2022-08-30         J UN Equity  124.4400  15879.2422 -0.093664   39\n",
       "\n",
       "[293533 rows x 6 columns]"
      ]
     },
     "execution_count": 7,
     "metadata": {},
     "output_type": "execute_result"
    }
   ],
   "source": [
    "# sort all stocks into 10 different groups\n",
    "data.loc[:,'port'] = data.groupby('date')['cap'].transform(pd.qcut, q=100, labels=range(1,101)).astype(str)\n",
    "data"
   ]
  },
  {
   "cell_type": "markdown",
   "id": "104f740f",
   "metadata": {},
   "source": [
    "#### 4. Calculate the trading period returns for each portfolio"
   ]
  },
  {
   "cell_type": "code",
   "execution_count": 8,
   "id": "8e9cbe32",
   "metadata": {},
   "outputs": [
    {
     "name": "stderr",
     "output_type": "stream",
     "text": [
      "/var/folders/ch/yj3xbk4s1t34gtb89jtxcmcr0000gn/T/ipykernel_52158/2096885470.py:2: SettingWithCopyWarning: \n",
      "A value is trying to be set on a copy of a slice from a DataFrame.\n",
      "Try using .loc[row_indexer,col_indexer] = value instead\n",
      "\n",
      "See the caveats in the documentation: https://pandas.pydata.org/pandas-docs/stable/user_guide/indexing.html#returning-a-view-versus-a-copy\n",
      "  data.loc[:,'rets_t1']=data.groupby('permno')['rets'].transform('shift', periods=-1)\n"
     ]
    },
    {
     "data": {
      "text/html": [
       "<div>\n",
       "<style scoped>\n",
       "    .dataframe tbody tr th:only-of-type {\n",
       "        vertical-align: middle;\n",
       "    }\n",
       "\n",
       "    .dataframe tbody tr th {\n",
       "        vertical-align: top;\n",
       "    }\n",
       "\n",
       "    .dataframe thead th {\n",
       "        text-align: right;\n",
       "    }\n",
       "</style>\n",
       "<table border=\"1\" class=\"dataframe\">\n",
       "  <thead>\n",
       "    <tr style=\"text-align: right;\">\n",
       "      <th></th>\n",
       "      <th>date</th>\n",
       "      <th>permno</th>\n",
       "      <th>price</th>\n",
       "      <th>cap</th>\n",
       "      <th>rets</th>\n",
       "      <th>port</th>\n",
       "      <th>rets_t1</th>\n",
       "    </tr>\n",
       "  </thead>\n",
       "  <tbody>\n",
       "    <tr>\n",
       "      <th>1</th>\n",
       "      <td>1990-02-28</td>\n",
       "      <td>0111145D UN Equity</td>\n",
       "      <td>22.0000</td>\n",
       "      <td>1303.3636</td>\n",
       "      <td>0.063444</td>\n",
       "      <td>47</td>\n",
       "      <td>-0.113636</td>\n",
       "    </tr>\n",
       "    <tr>\n",
       "      <th>2</th>\n",
       "      <td>1990-03-30</td>\n",
       "      <td>0111145D UN Equity</td>\n",
       "      <td>19.5000</td>\n",
       "      <td>1155.2541</td>\n",
       "      <td>-0.113636</td>\n",
       "      <td>41</td>\n",
       "      <td>-0.096154</td>\n",
       "    </tr>\n",
       "    <tr>\n",
       "      <th>3</th>\n",
       "      <td>1990-04-30</td>\n",
       "      <td>0111145D UN Equity</td>\n",
       "      <td>17.6250</td>\n",
       "      <td>1021.1925</td>\n",
       "      <td>-0.096154</td>\n",
       "      <td>37</td>\n",
       "      <td>0.124113</td>\n",
       "    </tr>\n",
       "    <tr>\n",
       "      <th>4</th>\n",
       "      <td>1990-05-31</td>\n",
       "      <td>0111145D UN Equity</td>\n",
       "      <td>19.8125</td>\n",
       "      <td>1147.9362</td>\n",
       "      <td>0.124113</td>\n",
       "      <td>38</td>\n",
       "      <td>-0.044164</td>\n",
       "    </tr>\n",
       "    <tr>\n",
       "      <th>5</th>\n",
       "      <td>1990-06-29</td>\n",
       "      <td>0111145D UN Equity</td>\n",
       "      <td>18.9375</td>\n",
       "      <td>1097.2387</td>\n",
       "      <td>-0.044164</td>\n",
       "      <td>37</td>\n",
       "      <td>0.036304</td>\n",
       "    </tr>\n",
       "    <tr>\n",
       "      <th>...</th>\n",
       "      <td>...</td>\n",
       "      <td>...</td>\n",
       "      <td>...</td>\n",
       "      <td>...</td>\n",
       "      <td>...</td>\n",
       "      <td>...</td>\n",
       "      <td>...</td>\n",
       "    </tr>\n",
       "    <tr>\n",
       "      <th>514691</th>\n",
       "      <td>2022-04-29</td>\n",
       "      <td>J UN Equity</td>\n",
       "      <td>138.5500</td>\n",
       "      <td>17902.9731</td>\n",
       "      <td>0.005370</td>\n",
       "      <td>40</td>\n",
       "      <td>0.011115</td>\n",
       "    </tr>\n",
       "    <tr>\n",
       "      <th>514692</th>\n",
       "      <td>2022-05-31</td>\n",
       "      <td>J UN Equity</td>\n",
       "      <td>140.0900</td>\n",
       "      <td>18019.3940</td>\n",
       "      <td>0.011115</td>\n",
       "      <td>40</td>\n",
       "      <td>-0.092512</td>\n",
       "    </tr>\n",
       "    <tr>\n",
       "      <th>514693</th>\n",
       "      <td>2022-06-30</td>\n",
       "      <td>J UN Equity</td>\n",
       "      <td>127.1300</td>\n",
       "      <td>16352.3846</td>\n",
       "      <td>-0.092512</td>\n",
       "      <td>40</td>\n",
       "      <td>0.079997</td>\n",
       "    </tr>\n",
       "    <tr>\n",
       "      <th>514694</th>\n",
       "      <td>2022-07-29</td>\n",
       "      <td>J UN Equity</td>\n",
       "      <td>137.3000</td>\n",
       "      <td>17660.5239</td>\n",
       "      <td>0.079997</td>\n",
       "      <td>41</td>\n",
       "      <td>-0.093664</td>\n",
       "    </tr>\n",
       "    <tr>\n",
       "      <th>514695</th>\n",
       "      <td>2022-08-30</td>\n",
       "      <td>J UN Equity</td>\n",
       "      <td>124.4400</td>\n",
       "      <td>15879.2422</td>\n",
       "      <td>-0.093664</td>\n",
       "      <td>39</td>\n",
       "      <td>NaN</td>\n",
       "    </tr>\n",
       "  </tbody>\n",
       "</table>\n",
       "<p>293533 rows × 7 columns</p>\n",
       "</div>"
      ],
      "text/plain": [
       "              date              permno     price         cap      rets port  \\\n",
       "1       1990-02-28  0111145D UN Equity   22.0000   1303.3636  0.063444   47   \n",
       "2       1990-03-30  0111145D UN Equity   19.5000   1155.2541 -0.113636   41   \n",
       "3       1990-04-30  0111145D UN Equity   17.6250   1021.1925 -0.096154   37   \n",
       "4       1990-05-31  0111145D UN Equity   19.8125   1147.9362  0.124113   38   \n",
       "5       1990-06-29  0111145D UN Equity   18.9375   1097.2387 -0.044164   37   \n",
       "...            ...                 ...       ...         ...       ...  ...   \n",
       "514691  2022-04-29         J UN Equity  138.5500  17902.9731  0.005370   40   \n",
       "514692  2022-05-31         J UN Equity  140.0900  18019.3940  0.011115   40   \n",
       "514693  2022-06-30         J UN Equity  127.1300  16352.3846 -0.092512   40   \n",
       "514694  2022-07-29         J UN Equity  137.3000  17660.5239  0.079997   41   \n",
       "514695  2022-08-30         J UN Equity  124.4400  15879.2422 -0.093664   39   \n",
       "\n",
       "         rets_t1  \n",
       "1      -0.113636  \n",
       "2      -0.096154  \n",
       "3       0.124113  \n",
       "4      -0.044164  \n",
       "5       0.036304  \n",
       "...          ...  \n",
       "514691  0.011115  \n",
       "514692 -0.092512  \n",
       "514693  0.079997  \n",
       "514694 -0.093664  \n",
       "514695       NaN  \n",
       "\n",
       "[293533 rows x 7 columns]"
      ]
     },
     "execution_count": 8,
     "metadata": {},
     "output_type": "execute_result"
    }
   ],
   "source": [
    "# add columns for future retuns\n",
    "data.loc[:,'rets_t1']=data.groupby('permno')['rets'].transform('shift', periods=-1)\n",
    "data"
   ]
  },
  {
   "cell_type": "code",
   "execution_count": 9,
   "id": "22a306c8",
   "metadata": {},
   "outputs": [
    {
     "data": {
      "text/html": [
       "<div>\n",
       "<style scoped>\n",
       "    .dataframe tbody tr th:only-of-type {\n",
       "        vertical-align: middle;\n",
       "    }\n",
       "\n",
       "    .dataframe tbody tr th {\n",
       "        vertical-align: top;\n",
       "    }\n",
       "\n",
       "    .dataframe thead th {\n",
       "        text-align: right;\n",
       "    }\n",
       "</style>\n",
       "<table border=\"1\" class=\"dataframe\">\n",
       "  <thead>\n",
       "    <tr style=\"text-align: right;\">\n",
       "      <th></th>\n",
       "      <th>date</th>\n",
       "      <th>port</th>\n",
       "      <th>rets_t1</th>\n",
       "    </tr>\n",
       "  </thead>\n",
       "  <tbody>\n",
       "    <tr>\n",
       "      <th>0</th>\n",
       "      <td>1990-02-28</td>\n",
       "      <td>1</td>\n",
       "      <td>0.163373</td>\n",
       "    </tr>\n",
       "    <tr>\n",
       "      <th>1</th>\n",
       "      <td>1990-02-28</td>\n",
       "      <td>10</td>\n",
       "      <td>0.051086</td>\n",
       "    </tr>\n",
       "    <tr>\n",
       "      <th>2</th>\n",
       "      <td>1990-02-28</td>\n",
       "      <td>100</td>\n",
       "      <td>0.024544</td>\n",
       "    </tr>\n",
       "    <tr>\n",
       "      <th>3</th>\n",
       "      <td>1990-02-28</td>\n",
       "      <td>11</td>\n",
       "      <td>0.074192</td>\n",
       "    </tr>\n",
       "    <tr>\n",
       "      <th>4</th>\n",
       "      <td>1990-02-28</td>\n",
       "      <td>12</td>\n",
       "      <td>0.089466</td>\n",
       "    </tr>\n",
       "    <tr>\n",
       "      <th>...</th>\n",
       "      <td>...</td>\n",
       "      <td>...</td>\n",
       "      <td>...</td>\n",
       "    </tr>\n",
       "    <tr>\n",
       "      <th>39095</th>\n",
       "      <td>2022-08-30</td>\n",
       "      <td>95</td>\n",
       "      <td>NaN</td>\n",
       "    </tr>\n",
       "    <tr>\n",
       "      <th>39096</th>\n",
       "      <td>2022-08-30</td>\n",
       "      <td>96</td>\n",
       "      <td>NaN</td>\n",
       "    </tr>\n",
       "    <tr>\n",
       "      <th>39097</th>\n",
       "      <td>2022-08-30</td>\n",
       "      <td>97</td>\n",
       "      <td>NaN</td>\n",
       "    </tr>\n",
       "    <tr>\n",
       "      <th>39098</th>\n",
       "      <td>2022-08-30</td>\n",
       "      <td>98</td>\n",
       "      <td>NaN</td>\n",
       "    </tr>\n",
       "    <tr>\n",
       "      <th>39099</th>\n",
       "      <td>2022-08-30</td>\n",
       "      <td>99</td>\n",
       "      <td>NaN</td>\n",
       "    </tr>\n",
       "  </tbody>\n",
       "</table>\n",
       "<p>39100 rows × 3 columns</p>\n",
       "</div>"
      ],
      "text/plain": [
       "             date port   rets_t1\n",
       "0      1990-02-28    1  0.163373\n",
       "1      1990-02-28   10  0.051086\n",
       "2      1990-02-28  100  0.024544\n",
       "3      1990-02-28   11  0.074192\n",
       "4      1990-02-28   12  0.089466\n",
       "...           ...  ...       ...\n",
       "39095  2022-08-30   95       NaN\n",
       "39096  2022-08-30   96       NaN\n",
       "39097  2022-08-30   97       NaN\n",
       "39098  2022-08-30   98       NaN\n",
       "39099  2022-08-30   99       NaN\n",
       "\n",
       "[39100 rows x 3 columns]"
      ]
     },
     "execution_count": 9,
     "metadata": {},
     "output_type": "execute_result"
    }
   ],
   "source": [
    "# calculate the achieved mean return return for each month and port \n",
    "port_df = data.loc[~data['port'].isnull()].groupby(['date','port'])['rets_t1'].mean().reset_index()\n",
    "port_df"
   ]
  },
  {
   "cell_type": "markdown",
   "id": "85b134fe",
   "metadata": {},
   "source": [
    "#### 5. Calculate the returns on SMB strategy"
   ]
  },
  {
   "cell_type": "code",
   "execution_count": 10,
   "id": "8bc77d2b",
   "metadata": {},
   "outputs": [],
   "source": [
    "port_df = port_df.pivot(index = 'date', columns = 'port', values = 'rets_t1').reset_index()"
   ]
  },
  {
   "cell_type": "code",
   "execution_count": 11,
   "id": "e805b0bd",
   "metadata": {},
   "outputs": [
    {
     "data": {
      "text/html": [
       "<div>\n",
       "<style scoped>\n",
       "    .dataframe tbody tr th:only-of-type {\n",
       "        vertical-align: middle;\n",
       "    }\n",
       "\n",
       "    .dataframe tbody tr th {\n",
       "        vertical-align: top;\n",
       "    }\n",
       "\n",
       "    .dataframe thead th {\n",
       "        text-align: right;\n",
       "    }\n",
       "</style>\n",
       "<table border=\"1\" class=\"dataframe\">\n",
       "  <thead>\n",
       "    <tr style=\"text-align: right;\">\n",
       "      <th>port</th>\n",
       "      <th>date</th>\n",
       "      <th>1</th>\n",
       "      <th>10</th>\n",
       "      <th>100</th>\n",
       "      <th>11</th>\n",
       "      <th>12</th>\n",
       "      <th>13</th>\n",
       "      <th>14</th>\n",
       "      <th>15</th>\n",
       "      <th>16</th>\n",
       "      <th>...</th>\n",
       "      <th>90</th>\n",
       "      <th>91</th>\n",
       "      <th>92</th>\n",
       "      <th>93</th>\n",
       "      <th>94</th>\n",
       "      <th>95</th>\n",
       "      <th>96</th>\n",
       "      <th>97</th>\n",
       "      <th>98</th>\n",
       "      <th>99</th>\n",
       "    </tr>\n",
       "  </thead>\n",
       "  <tbody>\n",
       "    <tr>\n",
       "      <th>0</th>\n",
       "      <td>1990-02-28</td>\n",
       "      <td>0.163373</td>\n",
       "      <td>0.051086</td>\n",
       "      <td>0.024544</td>\n",
       "      <td>0.074192</td>\n",
       "      <td>0.089466</td>\n",
       "      <td>-0.018941</td>\n",
       "      <td>0.065403</td>\n",
       "      <td>0.077017</td>\n",
       "      <td>0.017527</td>\n",
       "      <td>...</td>\n",
       "      <td>0.013982</td>\n",
       "      <td>-0.011265</td>\n",
       "      <td>0.004934</td>\n",
       "      <td>0.062131</td>\n",
       "      <td>0.046729</td>\n",
       "      <td>0.008501</td>\n",
       "      <td>0.037549</td>\n",
       "      <td>0.036032</td>\n",
       "      <td>0.046161</td>\n",
       "      <td>0.014614</td>\n",
       "    </tr>\n",
       "    <tr>\n",
       "      <th>1</th>\n",
       "      <td>1990-03-30</td>\n",
       "      <td>0.298690</td>\n",
       "      <td>-0.030818</td>\n",
       "      <td>-0.002841</td>\n",
       "      <td>0.006307</td>\n",
       "      <td>0.000206</td>\n",
       "      <td>-0.115443</td>\n",
       "      <td>-0.043391</td>\n",
       "      <td>0.032265</td>\n",
       "      <td>-0.041392</td>\n",
       "      <td>...</td>\n",
       "      <td>-0.042241</td>\n",
       "      <td>-0.047951</td>\n",
       "      <td>0.025458</td>\n",
       "      <td>-0.045906</td>\n",
       "      <td>-0.040711</td>\n",
       "      <td>0.007734</td>\n",
       "      <td>-0.028092</td>\n",
       "      <td>-0.015353</td>\n",
       "      <td>-0.017842</td>\n",
       "      <td>0.008510</td>\n",
       "    </tr>\n",
       "    <tr>\n",
       "      <th>2</th>\n",
       "      <td>1990-04-30</td>\n",
       "      <td>0.157492</td>\n",
       "      <td>0.003123</td>\n",
       "      <td>0.067412</td>\n",
       "      <td>0.098035</td>\n",
       "      <td>-0.017042</td>\n",
       "      <td>0.046292</td>\n",
       "      <td>0.114019</td>\n",
       "      <td>0.136590</td>\n",
       "      <td>0.102370</td>\n",
       "      <td>...</td>\n",
       "      <td>0.153475</td>\n",
       "      <td>0.107278</td>\n",
       "      <td>0.051848</td>\n",
       "      <td>0.123254</td>\n",
       "      <td>0.088769</td>\n",
       "      <td>0.115392</td>\n",
       "      <td>0.055386</td>\n",
       "      <td>0.128733</td>\n",
       "      <td>0.077517</td>\n",
       "      <td>0.106376</td>\n",
       "    </tr>\n",
       "    <tr>\n",
       "      <th>3</th>\n",
       "      <td>1990-05-31</td>\n",
       "      <td>0.031771</td>\n",
       "      <td>0.006995</td>\n",
       "      <td>0.005653</td>\n",
       "      <td>0.042784</td>\n",
       "      <td>-0.006678</td>\n",
       "      <td>-0.034741</td>\n",
       "      <td>-0.003484</td>\n",
       "      <td>0.019890</td>\n",
       "      <td>0.042697</td>\n",
       "      <td>...</td>\n",
       "      <td>-0.007914</td>\n",
       "      <td>-0.001726</td>\n",
       "      <td>-0.000867</td>\n",
       "      <td>0.007429</td>\n",
       "      <td>-0.009930</td>\n",
       "      <td>-0.020153</td>\n",
       "      <td>-0.011213</td>\n",
       "      <td>0.002758</td>\n",
       "      <td>-0.001713</td>\n",
       "      <td>0.015414</td>\n",
       "    </tr>\n",
       "    <tr>\n",
       "      <th>4</th>\n",
       "      <td>1990-06-29</td>\n",
       "      <td>-0.184523</td>\n",
       "      <td>-0.029952</td>\n",
       "      <td>0.010237</td>\n",
       "      <td>-0.062854</td>\n",
       "      <td>-0.122559</td>\n",
       "      <td>-0.110461</td>\n",
       "      <td>0.006353</td>\n",
       "      <td>0.022096</td>\n",
       "      <td>-0.001009</td>\n",
       "      <td>...</td>\n",
       "      <td>0.005229</td>\n",
       "      <td>-0.068007</td>\n",
       "      <td>-0.037727</td>\n",
       "      <td>-0.001814</td>\n",
       "      <td>-0.083093</td>\n",
       "      <td>-0.001572</td>\n",
       "      <td>0.007015</td>\n",
       "      <td>-0.024019</td>\n",
       "      <td>0.049611</td>\n",
       "      <td>0.020725</td>\n",
       "    </tr>\n",
       "    <tr>\n",
       "      <th>...</th>\n",
       "      <td>...</td>\n",
       "      <td>...</td>\n",
       "      <td>...</td>\n",
       "      <td>...</td>\n",
       "      <td>...</td>\n",
       "      <td>...</td>\n",
       "      <td>...</td>\n",
       "      <td>...</td>\n",
       "      <td>...</td>\n",
       "      <td>...</td>\n",
       "      <td>...</td>\n",
       "      <td>...</td>\n",
       "      <td>...</td>\n",
       "      <td>...</td>\n",
       "      <td>...</td>\n",
       "      <td>...</td>\n",
       "      <td>...</td>\n",
       "      <td>...</td>\n",
       "      <td>...</td>\n",
       "      <td>...</td>\n",
       "      <td>...</td>\n",
       "    </tr>\n",
       "    <tr>\n",
       "      <th>386</th>\n",
       "      <td>2022-04-29</td>\n",
       "      <td>-0.056612</td>\n",
       "      <td>0.030597</td>\n",
       "      <td>-0.023808</td>\n",
       "      <td>0.036436</td>\n",
       "      <td>0.012554</td>\n",
       "      <td>0.053729</td>\n",
       "      <td>0.015053</td>\n",
       "      <td>0.009379</td>\n",
       "      <td>-0.110540</td>\n",
       "      <td>...</td>\n",
       "      <td>0.076668</td>\n",
       "      <td>0.029231</td>\n",
       "      <td>0.008972</td>\n",
       "      <td>0.045140</td>\n",
       "      <td>0.036232</td>\n",
       "      <td>-0.023666</td>\n",
       "      <td>-0.023127</td>\n",
       "      <td>0.044546</td>\n",
       "      <td>-0.017178</td>\n",
       "      <td>-0.039759</td>\n",
       "    </tr>\n",
       "    <tr>\n",
       "      <th>387</th>\n",
       "      <td>2022-05-31</td>\n",
       "      <td>-0.119514</td>\n",
       "      <td>-0.150425</td>\n",
       "      <td>-0.056971</td>\n",
       "      <td>-0.164130</td>\n",
       "      <td>-0.150231</td>\n",
       "      <td>-0.099078</td>\n",
       "      <td>-0.150350</td>\n",
       "      <td>-0.099206</td>\n",
       "      <td>-0.224766</td>\n",
       "      <td>...</td>\n",
       "      <td>-0.059742</td>\n",
       "      <td>-0.029930</td>\n",
       "      <td>-0.135599</td>\n",
       "      <td>-0.093367</td>\n",
       "      <td>-0.059701</td>\n",
       "      <td>-0.041054</td>\n",
       "      <td>-0.026180</td>\n",
       "      <td>-0.082665</td>\n",
       "      <td>-0.099762</td>\n",
       "      <td>-0.109882</td>\n",
       "    </tr>\n",
       "    <tr>\n",
       "      <th>388</th>\n",
       "      <td>2022-06-30</td>\n",
       "      <td>0.216503</td>\n",
       "      <td>0.076941</td>\n",
       "      <td>0.109278</td>\n",
       "      <td>0.101573</td>\n",
       "      <td>0.079974</td>\n",
       "      <td>0.088983</td>\n",
       "      <td>0.149325</td>\n",
       "      <td>0.124988</td>\n",
       "      <td>0.105389</td>\n",
       "      <td>...</td>\n",
       "      <td>0.086495</td>\n",
       "      <td>0.095931</td>\n",
       "      <td>0.014851</td>\n",
       "      <td>0.041351</td>\n",
       "      <td>0.042683</td>\n",
       "      <td>0.099549</td>\n",
       "      <td>-0.007408</td>\n",
       "      <td>0.053511</td>\n",
       "      <td>0.109607</td>\n",
       "      <td>0.141671</td>\n",
       "    </tr>\n",
       "    <tr>\n",
       "      <th>389</th>\n",
       "      <td>2022-07-29</td>\n",
       "      <td>0.421900</td>\n",
       "      <td>-0.066542</td>\n",
       "      <td>-0.050784</td>\n",
       "      <td>-0.034366</td>\n",
       "      <td>-0.026428</td>\n",
       "      <td>-0.013226</td>\n",
       "      <td>0.005024</td>\n",
       "      <td>-0.038185</td>\n",
       "      <td>-0.002953</td>\n",
       "      <td>...</td>\n",
       "      <td>-0.025276</td>\n",
       "      <td>-0.076172</td>\n",
       "      <td>-0.049986</td>\n",
       "      <td>-0.025877</td>\n",
       "      <td>-0.029667</td>\n",
       "      <td>-0.046520</td>\n",
       "      <td>-0.024897</td>\n",
       "      <td>-0.033840</td>\n",
       "      <td>-0.062302</td>\n",
       "      <td>-0.052228</td>\n",
       "    </tr>\n",
       "    <tr>\n",
       "      <th>390</th>\n",
       "      <td>2022-08-30</td>\n",
       "      <td>NaN</td>\n",
       "      <td>NaN</td>\n",
       "      <td>NaN</td>\n",
       "      <td>NaN</td>\n",
       "      <td>NaN</td>\n",
       "      <td>NaN</td>\n",
       "      <td>NaN</td>\n",
       "      <td>NaN</td>\n",
       "      <td>NaN</td>\n",
       "      <td>...</td>\n",
       "      <td>NaN</td>\n",
       "      <td>NaN</td>\n",
       "      <td>NaN</td>\n",
       "      <td>NaN</td>\n",
       "      <td>NaN</td>\n",
       "      <td>NaN</td>\n",
       "      <td>NaN</td>\n",
       "      <td>NaN</td>\n",
       "      <td>NaN</td>\n",
       "      <td>NaN</td>\n",
       "    </tr>\n",
       "  </tbody>\n",
       "</table>\n",
       "<p>391 rows × 101 columns</p>\n",
       "</div>"
      ],
      "text/plain": [
       "port        date         1        10       100        11        12        13  \\\n",
       "0     1990-02-28  0.163373  0.051086  0.024544  0.074192  0.089466 -0.018941   \n",
       "1     1990-03-30  0.298690 -0.030818 -0.002841  0.006307  0.000206 -0.115443   \n",
       "2     1990-04-30  0.157492  0.003123  0.067412  0.098035 -0.017042  0.046292   \n",
       "3     1990-05-31  0.031771  0.006995  0.005653  0.042784 -0.006678 -0.034741   \n",
       "4     1990-06-29 -0.184523 -0.029952  0.010237 -0.062854 -0.122559 -0.110461   \n",
       "..           ...       ...       ...       ...       ...       ...       ...   \n",
       "386   2022-04-29 -0.056612  0.030597 -0.023808  0.036436  0.012554  0.053729   \n",
       "387   2022-05-31 -0.119514 -0.150425 -0.056971 -0.164130 -0.150231 -0.099078   \n",
       "388   2022-06-30  0.216503  0.076941  0.109278  0.101573  0.079974  0.088983   \n",
       "389   2022-07-29  0.421900 -0.066542 -0.050784 -0.034366 -0.026428 -0.013226   \n",
       "390   2022-08-30       NaN       NaN       NaN       NaN       NaN       NaN   \n",
       "\n",
       "port        14        15        16  ...        90        91        92  \\\n",
       "0     0.065403  0.077017  0.017527  ...  0.013982 -0.011265  0.004934   \n",
       "1    -0.043391  0.032265 -0.041392  ... -0.042241 -0.047951  0.025458   \n",
       "2     0.114019  0.136590  0.102370  ...  0.153475  0.107278  0.051848   \n",
       "3    -0.003484  0.019890  0.042697  ... -0.007914 -0.001726 -0.000867   \n",
       "4     0.006353  0.022096 -0.001009  ...  0.005229 -0.068007 -0.037727   \n",
       "..         ...       ...       ...  ...       ...       ...       ...   \n",
       "386   0.015053  0.009379 -0.110540  ...  0.076668  0.029231  0.008972   \n",
       "387  -0.150350 -0.099206 -0.224766  ... -0.059742 -0.029930 -0.135599   \n",
       "388   0.149325  0.124988  0.105389  ...  0.086495  0.095931  0.014851   \n",
       "389   0.005024 -0.038185 -0.002953  ... -0.025276 -0.076172 -0.049986   \n",
       "390        NaN       NaN       NaN  ...       NaN       NaN       NaN   \n",
       "\n",
       "port        93        94        95        96        97        98        99  \n",
       "0     0.062131  0.046729  0.008501  0.037549  0.036032  0.046161  0.014614  \n",
       "1    -0.045906 -0.040711  0.007734 -0.028092 -0.015353 -0.017842  0.008510  \n",
       "2     0.123254  0.088769  0.115392  0.055386  0.128733  0.077517  0.106376  \n",
       "3     0.007429 -0.009930 -0.020153 -0.011213  0.002758 -0.001713  0.015414  \n",
       "4    -0.001814 -0.083093 -0.001572  0.007015 -0.024019  0.049611  0.020725  \n",
       "..         ...       ...       ...       ...       ...       ...       ...  \n",
       "386   0.045140  0.036232 -0.023666 -0.023127  0.044546 -0.017178 -0.039759  \n",
       "387  -0.093367 -0.059701 -0.041054 -0.026180 -0.082665 -0.099762 -0.109882  \n",
       "388   0.041351  0.042683  0.099549 -0.007408  0.053511  0.109607  0.141671  \n",
       "389  -0.025877 -0.029667 -0.046520 -0.024897 -0.033840 -0.062302 -0.052228  \n",
       "390        NaN       NaN       NaN       NaN       NaN       NaN       NaN  \n",
       "\n",
       "[391 rows x 101 columns]"
      ]
     },
     "execution_count": 11,
     "metadata": {},
     "output_type": "execute_result"
    }
   ],
   "source": [
    "port_df"
   ]
  },
  {
   "cell_type": "code",
   "execution_count": 12,
   "id": "30e73cb5",
   "metadata": {},
   "outputs": [
    {
     "data": {
      "text/html": [
       "<div>\n",
       "<style scoped>\n",
       "    .dataframe tbody tr th:only-of-type {\n",
       "        vertical-align: middle;\n",
       "    }\n",
       "\n",
       "    .dataframe tbody tr th {\n",
       "        vertical-align: top;\n",
       "    }\n",
       "\n",
       "    .dataframe thead th {\n",
       "        text-align: right;\n",
       "    }\n",
       "</style>\n",
       "<table border=\"1\" class=\"dataframe\">\n",
       "  <thead>\n",
       "    <tr style=\"text-align: right;\">\n",
       "      <th>port</th>\n",
       "      <th>date</th>\n",
       "      <th>1</th>\n",
       "      <th>10</th>\n",
       "      <th>100</th>\n",
       "      <th>11</th>\n",
       "      <th>12</th>\n",
       "      <th>13</th>\n",
       "      <th>14</th>\n",
       "      <th>15</th>\n",
       "      <th>16</th>\n",
       "      <th>...</th>\n",
       "      <th>91</th>\n",
       "      <th>92</th>\n",
       "      <th>93</th>\n",
       "      <th>94</th>\n",
       "      <th>95</th>\n",
       "      <th>96</th>\n",
       "      <th>97</th>\n",
       "      <th>98</th>\n",
       "      <th>99</th>\n",
       "      <th>SMB_rets</th>\n",
       "    </tr>\n",
       "  </thead>\n",
       "  <tbody>\n",
       "    <tr>\n",
       "      <th>0</th>\n",
       "      <td>1990-02-28</td>\n",
       "      <td>0.163373</td>\n",
       "      <td>0.051086</td>\n",
       "      <td>0.024544</td>\n",
       "      <td>0.074192</td>\n",
       "      <td>0.089466</td>\n",
       "      <td>-0.018941</td>\n",
       "      <td>0.065403</td>\n",
       "      <td>0.077017</td>\n",
       "      <td>0.017527</td>\n",
       "      <td>...</td>\n",
       "      <td>-0.011265</td>\n",
       "      <td>0.004934</td>\n",
       "      <td>0.062131</td>\n",
       "      <td>0.046729</td>\n",
       "      <td>0.008501</td>\n",
       "      <td>0.037549</td>\n",
       "      <td>0.036032</td>\n",
       "      <td>0.046161</td>\n",
       "      <td>0.014614</td>\n",
       "      <td>NaN</td>\n",
       "    </tr>\n",
       "    <tr>\n",
       "      <th>1</th>\n",
       "      <td>1990-03-30</td>\n",
       "      <td>0.298690</td>\n",
       "      <td>-0.030818</td>\n",
       "      <td>-0.002841</td>\n",
       "      <td>0.006307</td>\n",
       "      <td>0.000206</td>\n",
       "      <td>-0.115443</td>\n",
       "      <td>-0.043391</td>\n",
       "      <td>0.032265</td>\n",
       "      <td>-0.041392</td>\n",
       "      <td>...</td>\n",
       "      <td>-0.047951</td>\n",
       "      <td>0.025458</td>\n",
       "      <td>-0.045906</td>\n",
       "      <td>-0.040711</td>\n",
       "      <td>0.007734</td>\n",
       "      <td>-0.028092</td>\n",
       "      <td>-0.015353</td>\n",
       "      <td>-0.017842</td>\n",
       "      <td>0.008510</td>\n",
       "      <td>0.138829</td>\n",
       "    </tr>\n",
       "    <tr>\n",
       "      <th>2</th>\n",
       "      <td>1990-04-30</td>\n",
       "      <td>0.157492</td>\n",
       "      <td>0.003123</td>\n",
       "      <td>0.067412</td>\n",
       "      <td>0.098035</td>\n",
       "      <td>-0.017042</td>\n",
       "      <td>0.046292</td>\n",
       "      <td>0.114019</td>\n",
       "      <td>0.136590</td>\n",
       "      <td>0.102370</td>\n",
       "      <td>...</td>\n",
       "      <td>0.107278</td>\n",
       "      <td>0.051848</td>\n",
       "      <td>0.123254</td>\n",
       "      <td>0.088769</td>\n",
       "      <td>0.115392</td>\n",
       "      <td>0.055386</td>\n",
       "      <td>0.128733</td>\n",
       "      <td>0.077517</td>\n",
       "      <td>0.106376</td>\n",
       "      <td>0.301531</td>\n",
       "    </tr>\n",
       "    <tr>\n",
       "      <th>3</th>\n",
       "      <td>1990-05-31</td>\n",
       "      <td>0.031771</td>\n",
       "      <td>0.006995</td>\n",
       "      <td>0.005653</td>\n",
       "      <td>0.042784</td>\n",
       "      <td>-0.006678</td>\n",
       "      <td>-0.034741</td>\n",
       "      <td>-0.003484</td>\n",
       "      <td>0.019890</td>\n",
       "      <td>0.042697</td>\n",
       "      <td>...</td>\n",
       "      <td>-0.001726</td>\n",
       "      <td>-0.000867</td>\n",
       "      <td>0.007429</td>\n",
       "      <td>-0.009930</td>\n",
       "      <td>-0.020153</td>\n",
       "      <td>-0.011213</td>\n",
       "      <td>0.002758</td>\n",
       "      <td>-0.001713</td>\n",
       "      <td>0.015414</td>\n",
       "      <td>0.090080</td>\n",
       "    </tr>\n",
       "    <tr>\n",
       "      <th>4</th>\n",
       "      <td>1990-06-29</td>\n",
       "      <td>-0.184523</td>\n",
       "      <td>-0.029952</td>\n",
       "      <td>0.010237</td>\n",
       "      <td>-0.062854</td>\n",
       "      <td>-0.122559</td>\n",
       "      <td>-0.110461</td>\n",
       "      <td>0.006353</td>\n",
       "      <td>0.022096</td>\n",
       "      <td>-0.001009</td>\n",
       "      <td>...</td>\n",
       "      <td>-0.068007</td>\n",
       "      <td>-0.037727</td>\n",
       "      <td>-0.001814</td>\n",
       "      <td>-0.083093</td>\n",
       "      <td>-0.001572</td>\n",
       "      <td>0.007015</td>\n",
       "      <td>-0.024019</td>\n",
       "      <td>0.049611</td>\n",
       "      <td>0.020725</td>\n",
       "      <td>0.026117</td>\n",
       "    </tr>\n",
       "    <tr>\n",
       "      <th>...</th>\n",
       "      <td>...</td>\n",
       "      <td>...</td>\n",
       "      <td>...</td>\n",
       "      <td>...</td>\n",
       "      <td>...</td>\n",
       "      <td>...</td>\n",
       "      <td>...</td>\n",
       "      <td>...</td>\n",
       "      <td>...</td>\n",
       "      <td>...</td>\n",
       "      <td>...</td>\n",
       "      <td>...</td>\n",
       "      <td>...</td>\n",
       "      <td>...</td>\n",
       "      <td>...</td>\n",
       "      <td>...</td>\n",
       "      <td>...</td>\n",
       "      <td>...</td>\n",
       "      <td>...</td>\n",
       "      <td>...</td>\n",
       "      <td>...</td>\n",
       "    </tr>\n",
       "    <tr>\n",
       "      <th>386</th>\n",
       "      <td>2022-04-29</td>\n",
       "      <td>-0.056612</td>\n",
       "      <td>0.030597</td>\n",
       "      <td>-0.023808</td>\n",
       "      <td>0.036436</td>\n",
       "      <td>0.012554</td>\n",
       "      <td>0.053729</td>\n",
       "      <td>0.015053</td>\n",
       "      <td>0.009379</td>\n",
       "      <td>-0.110540</td>\n",
       "      <td>...</td>\n",
       "      <td>0.029231</td>\n",
       "      <td>0.008972</td>\n",
       "      <td>0.045140</td>\n",
       "      <td>0.036232</td>\n",
       "      <td>-0.023666</td>\n",
       "      <td>-0.023127</td>\n",
       "      <td>0.044546</td>\n",
       "      <td>-0.017178</td>\n",
       "      <td>-0.039759</td>\n",
       "      <td>0.076807</td>\n",
       "    </tr>\n",
       "    <tr>\n",
       "      <th>387</th>\n",
       "      <td>2022-05-31</td>\n",
       "      <td>-0.119514</td>\n",
       "      <td>-0.150425</td>\n",
       "      <td>-0.056971</td>\n",
       "      <td>-0.164130</td>\n",
       "      <td>-0.150231</td>\n",
       "      <td>-0.099078</td>\n",
       "      <td>-0.150350</td>\n",
       "      <td>-0.099206</td>\n",
       "      <td>-0.224766</td>\n",
       "      <td>...</td>\n",
       "      <td>-0.029930</td>\n",
       "      <td>-0.135599</td>\n",
       "      <td>-0.093367</td>\n",
       "      <td>-0.059701</td>\n",
       "      <td>-0.041054</td>\n",
       "      <td>-0.026180</td>\n",
       "      <td>-0.082665</td>\n",
       "      <td>-0.099762</td>\n",
       "      <td>-0.109882</td>\n",
       "      <td>-0.032804</td>\n",
       "    </tr>\n",
       "    <tr>\n",
       "      <th>388</th>\n",
       "      <td>2022-06-30</td>\n",
       "      <td>0.216503</td>\n",
       "      <td>0.076941</td>\n",
       "      <td>0.109278</td>\n",
       "      <td>0.101573</td>\n",
       "      <td>0.079974</td>\n",
       "      <td>0.088983</td>\n",
       "      <td>0.149325</td>\n",
       "      <td>0.124988</td>\n",
       "      <td>0.105389</td>\n",
       "      <td>...</td>\n",
       "      <td>0.095931</td>\n",
       "      <td>0.014851</td>\n",
       "      <td>0.041351</td>\n",
       "      <td>0.042683</td>\n",
       "      <td>0.099549</td>\n",
       "      <td>-0.007408</td>\n",
       "      <td>0.053511</td>\n",
       "      <td>0.109607</td>\n",
       "      <td>0.141671</td>\n",
       "      <td>-0.062543</td>\n",
       "    </tr>\n",
       "    <tr>\n",
       "      <th>389</th>\n",
       "      <td>2022-07-29</td>\n",
       "      <td>0.421900</td>\n",
       "      <td>-0.066542</td>\n",
       "      <td>-0.050784</td>\n",
       "      <td>-0.034366</td>\n",
       "      <td>-0.026428</td>\n",
       "      <td>-0.013226</td>\n",
       "      <td>0.005024</td>\n",
       "      <td>-0.038185</td>\n",
       "      <td>-0.002953</td>\n",
       "      <td>...</td>\n",
       "      <td>-0.076172</td>\n",
       "      <td>-0.049986</td>\n",
       "      <td>-0.025877</td>\n",
       "      <td>-0.029667</td>\n",
       "      <td>-0.046520</td>\n",
       "      <td>-0.024897</td>\n",
       "      <td>-0.033840</td>\n",
       "      <td>-0.062302</td>\n",
       "      <td>-0.052228</td>\n",
       "      <td>0.107224</td>\n",
       "    </tr>\n",
       "    <tr>\n",
       "      <th>390</th>\n",
       "      <td>2022-08-30</td>\n",
       "      <td>NaN</td>\n",
       "      <td>NaN</td>\n",
       "      <td>NaN</td>\n",
       "      <td>NaN</td>\n",
       "      <td>NaN</td>\n",
       "      <td>NaN</td>\n",
       "      <td>NaN</td>\n",
       "      <td>NaN</td>\n",
       "      <td>NaN</td>\n",
       "      <td>...</td>\n",
       "      <td>NaN</td>\n",
       "      <td>NaN</td>\n",
       "      <td>NaN</td>\n",
       "      <td>NaN</td>\n",
       "      <td>NaN</td>\n",
       "      <td>NaN</td>\n",
       "      <td>NaN</td>\n",
       "      <td>NaN</td>\n",
       "      <td>NaN</td>\n",
       "      <td>0.472684</td>\n",
       "    </tr>\n",
       "  </tbody>\n",
       "</table>\n",
       "<p>391 rows × 102 columns</p>\n",
       "</div>"
      ],
      "text/plain": [
       "port        date         1        10       100        11        12        13  \\\n",
       "0     1990-02-28  0.163373  0.051086  0.024544  0.074192  0.089466 -0.018941   \n",
       "1     1990-03-30  0.298690 -0.030818 -0.002841  0.006307  0.000206 -0.115443   \n",
       "2     1990-04-30  0.157492  0.003123  0.067412  0.098035 -0.017042  0.046292   \n",
       "3     1990-05-31  0.031771  0.006995  0.005653  0.042784 -0.006678 -0.034741   \n",
       "4     1990-06-29 -0.184523 -0.029952  0.010237 -0.062854 -0.122559 -0.110461   \n",
       "..           ...       ...       ...       ...       ...       ...       ...   \n",
       "386   2022-04-29 -0.056612  0.030597 -0.023808  0.036436  0.012554  0.053729   \n",
       "387   2022-05-31 -0.119514 -0.150425 -0.056971 -0.164130 -0.150231 -0.099078   \n",
       "388   2022-06-30  0.216503  0.076941  0.109278  0.101573  0.079974  0.088983   \n",
       "389   2022-07-29  0.421900 -0.066542 -0.050784 -0.034366 -0.026428 -0.013226   \n",
       "390   2022-08-30       NaN       NaN       NaN       NaN       NaN       NaN   \n",
       "\n",
       "port        14        15        16  ...        91        92        93  \\\n",
       "0     0.065403  0.077017  0.017527  ... -0.011265  0.004934  0.062131   \n",
       "1    -0.043391  0.032265 -0.041392  ... -0.047951  0.025458 -0.045906   \n",
       "2     0.114019  0.136590  0.102370  ...  0.107278  0.051848  0.123254   \n",
       "3    -0.003484  0.019890  0.042697  ... -0.001726 -0.000867  0.007429   \n",
       "4     0.006353  0.022096 -0.001009  ... -0.068007 -0.037727 -0.001814   \n",
       "..         ...       ...       ...  ...       ...       ...       ...   \n",
       "386   0.015053  0.009379 -0.110540  ...  0.029231  0.008972  0.045140   \n",
       "387  -0.150350 -0.099206 -0.224766  ... -0.029930 -0.135599 -0.093367   \n",
       "388   0.149325  0.124988  0.105389  ...  0.095931  0.014851  0.041351   \n",
       "389   0.005024 -0.038185 -0.002953  ... -0.076172 -0.049986 -0.025877   \n",
       "390        NaN       NaN       NaN  ...       NaN       NaN       NaN   \n",
       "\n",
       "port        94        95        96        97        98        99  SMB_rets  \n",
       "0     0.046729  0.008501  0.037549  0.036032  0.046161  0.014614       NaN  \n",
       "1    -0.040711  0.007734 -0.028092 -0.015353 -0.017842  0.008510  0.138829  \n",
       "2     0.088769  0.115392  0.055386  0.128733  0.077517  0.106376  0.301531  \n",
       "3    -0.009930 -0.020153 -0.011213  0.002758 -0.001713  0.015414  0.090080  \n",
       "4    -0.083093 -0.001572  0.007015 -0.024019  0.049611  0.020725  0.026117  \n",
       "..         ...       ...       ...       ...       ...       ...       ...  \n",
       "386   0.036232 -0.023666 -0.023127  0.044546 -0.017178 -0.039759  0.076807  \n",
       "387  -0.059701 -0.041054 -0.026180 -0.082665 -0.099762 -0.109882 -0.032804  \n",
       "388   0.042683  0.099549 -0.007408  0.053511  0.109607  0.141671 -0.062543  \n",
       "389  -0.029667 -0.046520 -0.024897 -0.033840 -0.062302 -0.052228  0.107224  \n",
       "390        NaN       NaN       NaN       NaN       NaN       NaN  0.472684  \n",
       "\n",
       "[391 rows x 102 columns]"
      ]
     },
     "execution_count": 12,
     "metadata": {},
     "output_type": "execute_result"
    }
   ],
   "source": [
    "port_df['SMB_rets'] = port_df['1']-port_df['100']\n",
    "port_df['SMB_rets'] = port_df['SMB_rets'].transform('shift', periods=1)\n",
    "port_df"
   ]
  },
  {
   "cell_type": "code",
   "execution_count": 13,
   "id": "c62b1596",
   "metadata": {},
   "outputs": [],
   "source": [
    "# calculate cumulative returns\n",
    "port_df['SMB_cum_rets'] = (1+port_df['SMB_rets']).cumprod()"
   ]
  },
  {
   "cell_type": "code",
   "execution_count": 14,
   "id": "c2c90487",
   "metadata": {},
   "outputs": [
    {
     "data": {
      "text/html": [
       "<div>\n",
       "<style scoped>\n",
       "    .dataframe tbody tr th:only-of-type {\n",
       "        vertical-align: middle;\n",
       "    }\n",
       "\n",
       "    .dataframe tbody tr th {\n",
       "        vertical-align: top;\n",
       "    }\n",
       "\n",
       "    .dataframe thead th {\n",
       "        text-align: right;\n",
       "    }\n",
       "</style>\n",
       "<table border=\"1\" class=\"dataframe\">\n",
       "  <thead>\n",
       "    <tr style=\"text-align: right;\">\n",
       "      <th>port</th>\n",
       "      <th>date</th>\n",
       "      <th>1</th>\n",
       "      <th>10</th>\n",
       "      <th>100</th>\n",
       "      <th>11</th>\n",
       "      <th>12</th>\n",
       "      <th>13</th>\n",
       "      <th>14</th>\n",
       "      <th>15</th>\n",
       "      <th>16</th>\n",
       "      <th>...</th>\n",
       "      <th>92</th>\n",
       "      <th>93</th>\n",
       "      <th>94</th>\n",
       "      <th>95</th>\n",
       "      <th>96</th>\n",
       "      <th>97</th>\n",
       "      <th>98</th>\n",
       "      <th>99</th>\n",
       "      <th>SMB_rets</th>\n",
       "      <th>SMB_cum_rets</th>\n",
       "    </tr>\n",
       "  </thead>\n",
       "  <tbody>\n",
       "    <tr>\n",
       "      <th>0</th>\n",
       "      <td>1990-02-28</td>\n",
       "      <td>0.163373</td>\n",
       "      <td>0.051086</td>\n",
       "      <td>0.024544</td>\n",
       "      <td>0.074192</td>\n",
       "      <td>0.089466</td>\n",
       "      <td>-0.018941</td>\n",
       "      <td>0.065403</td>\n",
       "      <td>0.077017</td>\n",
       "      <td>0.017527</td>\n",
       "      <td>...</td>\n",
       "      <td>0.004934</td>\n",
       "      <td>0.062131</td>\n",
       "      <td>0.046729</td>\n",
       "      <td>0.008501</td>\n",
       "      <td>0.037549</td>\n",
       "      <td>0.036032</td>\n",
       "      <td>0.046161</td>\n",
       "      <td>0.014614</td>\n",
       "      <td>NaN</td>\n",
       "      <td>NaN</td>\n",
       "    </tr>\n",
       "    <tr>\n",
       "      <th>1</th>\n",
       "      <td>1990-03-30</td>\n",
       "      <td>0.298690</td>\n",
       "      <td>-0.030818</td>\n",
       "      <td>-0.002841</td>\n",
       "      <td>0.006307</td>\n",
       "      <td>0.000206</td>\n",
       "      <td>-0.115443</td>\n",
       "      <td>-0.043391</td>\n",
       "      <td>0.032265</td>\n",
       "      <td>-0.041392</td>\n",
       "      <td>...</td>\n",
       "      <td>0.025458</td>\n",
       "      <td>-0.045906</td>\n",
       "      <td>-0.040711</td>\n",
       "      <td>0.007734</td>\n",
       "      <td>-0.028092</td>\n",
       "      <td>-0.015353</td>\n",
       "      <td>-0.017842</td>\n",
       "      <td>0.008510</td>\n",
       "      <td>0.138829</td>\n",
       "      <td>1.138829</td>\n",
       "    </tr>\n",
       "    <tr>\n",
       "      <th>2</th>\n",
       "      <td>1990-04-30</td>\n",
       "      <td>0.157492</td>\n",
       "      <td>0.003123</td>\n",
       "      <td>0.067412</td>\n",
       "      <td>0.098035</td>\n",
       "      <td>-0.017042</td>\n",
       "      <td>0.046292</td>\n",
       "      <td>0.114019</td>\n",
       "      <td>0.136590</td>\n",
       "      <td>0.102370</td>\n",
       "      <td>...</td>\n",
       "      <td>0.051848</td>\n",
       "      <td>0.123254</td>\n",
       "      <td>0.088769</td>\n",
       "      <td>0.115392</td>\n",
       "      <td>0.055386</td>\n",
       "      <td>0.128733</td>\n",
       "      <td>0.077517</td>\n",
       "      <td>0.106376</td>\n",
       "      <td>0.301531</td>\n",
       "      <td>1.482222</td>\n",
       "    </tr>\n",
       "    <tr>\n",
       "      <th>3</th>\n",
       "      <td>1990-05-31</td>\n",
       "      <td>0.031771</td>\n",
       "      <td>0.006995</td>\n",
       "      <td>0.005653</td>\n",
       "      <td>0.042784</td>\n",
       "      <td>-0.006678</td>\n",
       "      <td>-0.034741</td>\n",
       "      <td>-0.003484</td>\n",
       "      <td>0.019890</td>\n",
       "      <td>0.042697</td>\n",
       "      <td>...</td>\n",
       "      <td>-0.000867</td>\n",
       "      <td>0.007429</td>\n",
       "      <td>-0.009930</td>\n",
       "      <td>-0.020153</td>\n",
       "      <td>-0.011213</td>\n",
       "      <td>0.002758</td>\n",
       "      <td>-0.001713</td>\n",
       "      <td>0.015414</td>\n",
       "      <td>0.090080</td>\n",
       "      <td>1.615740</td>\n",
       "    </tr>\n",
       "    <tr>\n",
       "      <th>4</th>\n",
       "      <td>1990-06-29</td>\n",
       "      <td>-0.184523</td>\n",
       "      <td>-0.029952</td>\n",
       "      <td>0.010237</td>\n",
       "      <td>-0.062854</td>\n",
       "      <td>-0.122559</td>\n",
       "      <td>-0.110461</td>\n",
       "      <td>0.006353</td>\n",
       "      <td>0.022096</td>\n",
       "      <td>-0.001009</td>\n",
       "      <td>...</td>\n",
       "      <td>-0.037727</td>\n",
       "      <td>-0.001814</td>\n",
       "      <td>-0.083093</td>\n",
       "      <td>-0.001572</td>\n",
       "      <td>0.007015</td>\n",
       "      <td>-0.024019</td>\n",
       "      <td>0.049611</td>\n",
       "      <td>0.020725</td>\n",
       "      <td>0.026117</td>\n",
       "      <td>1.657938</td>\n",
       "    </tr>\n",
       "    <tr>\n",
       "      <th>...</th>\n",
       "      <td>...</td>\n",
       "      <td>...</td>\n",
       "      <td>...</td>\n",
       "      <td>...</td>\n",
       "      <td>...</td>\n",
       "      <td>...</td>\n",
       "      <td>...</td>\n",
       "      <td>...</td>\n",
       "      <td>...</td>\n",
       "      <td>...</td>\n",
       "      <td>...</td>\n",
       "      <td>...</td>\n",
       "      <td>...</td>\n",
       "      <td>...</td>\n",
       "      <td>...</td>\n",
       "      <td>...</td>\n",
       "      <td>...</td>\n",
       "      <td>...</td>\n",
       "      <td>...</td>\n",
       "      <td>...</td>\n",
       "      <td>...</td>\n",
       "    </tr>\n",
       "    <tr>\n",
       "      <th>386</th>\n",
       "      <td>2022-04-29</td>\n",
       "      <td>-0.056612</td>\n",
       "      <td>0.030597</td>\n",
       "      <td>-0.023808</td>\n",
       "      <td>0.036436</td>\n",
       "      <td>0.012554</td>\n",
       "      <td>0.053729</td>\n",
       "      <td>0.015053</td>\n",
       "      <td>0.009379</td>\n",
       "      <td>-0.110540</td>\n",
       "      <td>...</td>\n",
       "      <td>0.008972</td>\n",
       "      <td>0.045140</td>\n",
       "      <td>0.036232</td>\n",
       "      <td>-0.023666</td>\n",
       "      <td>-0.023127</td>\n",
       "      <td>0.044546</td>\n",
       "      <td>-0.017178</td>\n",
       "      <td>-0.039759</td>\n",
       "      <td>0.076807</td>\n",
       "      <td>215.823172</td>\n",
       "    </tr>\n",
       "    <tr>\n",
       "      <th>387</th>\n",
       "      <td>2022-05-31</td>\n",
       "      <td>-0.119514</td>\n",
       "      <td>-0.150425</td>\n",
       "      <td>-0.056971</td>\n",
       "      <td>-0.164130</td>\n",
       "      <td>-0.150231</td>\n",
       "      <td>-0.099078</td>\n",
       "      <td>-0.150350</td>\n",
       "      <td>-0.099206</td>\n",
       "      <td>-0.224766</td>\n",
       "      <td>...</td>\n",
       "      <td>-0.135599</td>\n",
       "      <td>-0.093367</td>\n",
       "      <td>-0.059701</td>\n",
       "      <td>-0.041054</td>\n",
       "      <td>-0.026180</td>\n",
       "      <td>-0.082665</td>\n",
       "      <td>-0.099762</td>\n",
       "      <td>-0.109882</td>\n",
       "      <td>-0.032804</td>\n",
       "      <td>208.743402</td>\n",
       "    </tr>\n",
       "    <tr>\n",
       "      <th>388</th>\n",
       "      <td>2022-06-30</td>\n",
       "      <td>0.216503</td>\n",
       "      <td>0.076941</td>\n",
       "      <td>0.109278</td>\n",
       "      <td>0.101573</td>\n",
       "      <td>0.079974</td>\n",
       "      <td>0.088983</td>\n",
       "      <td>0.149325</td>\n",
       "      <td>0.124988</td>\n",
       "      <td>0.105389</td>\n",
       "      <td>...</td>\n",
       "      <td>0.014851</td>\n",
       "      <td>0.041351</td>\n",
       "      <td>0.042683</td>\n",
       "      <td>0.099549</td>\n",
       "      <td>-0.007408</td>\n",
       "      <td>0.053511</td>\n",
       "      <td>0.109607</td>\n",
       "      <td>0.141671</td>\n",
       "      <td>-0.062543</td>\n",
       "      <td>195.687987</td>\n",
       "    </tr>\n",
       "    <tr>\n",
       "      <th>389</th>\n",
       "      <td>2022-07-29</td>\n",
       "      <td>0.421900</td>\n",
       "      <td>-0.066542</td>\n",
       "      <td>-0.050784</td>\n",
       "      <td>-0.034366</td>\n",
       "      <td>-0.026428</td>\n",
       "      <td>-0.013226</td>\n",
       "      <td>0.005024</td>\n",
       "      <td>-0.038185</td>\n",
       "      <td>-0.002953</td>\n",
       "      <td>...</td>\n",
       "      <td>-0.049986</td>\n",
       "      <td>-0.025877</td>\n",
       "      <td>-0.029667</td>\n",
       "      <td>-0.046520</td>\n",
       "      <td>-0.024897</td>\n",
       "      <td>-0.033840</td>\n",
       "      <td>-0.062302</td>\n",
       "      <td>-0.052228</td>\n",
       "      <td>0.107224</td>\n",
       "      <td>216.670467</td>\n",
       "    </tr>\n",
       "    <tr>\n",
       "      <th>390</th>\n",
       "      <td>2022-08-30</td>\n",
       "      <td>NaN</td>\n",
       "      <td>NaN</td>\n",
       "      <td>NaN</td>\n",
       "      <td>NaN</td>\n",
       "      <td>NaN</td>\n",
       "      <td>NaN</td>\n",
       "      <td>NaN</td>\n",
       "      <td>NaN</td>\n",
       "      <td>NaN</td>\n",
       "      <td>...</td>\n",
       "      <td>NaN</td>\n",
       "      <td>NaN</td>\n",
       "      <td>NaN</td>\n",
       "      <td>NaN</td>\n",
       "      <td>NaN</td>\n",
       "      <td>NaN</td>\n",
       "      <td>NaN</td>\n",
       "      <td>NaN</td>\n",
       "      <td>0.472684</td>\n",
       "      <td>319.087116</td>\n",
       "    </tr>\n",
       "  </tbody>\n",
       "</table>\n",
       "<p>391 rows × 103 columns</p>\n",
       "</div>"
      ],
      "text/plain": [
       "port        date         1        10       100        11        12        13  \\\n",
       "0     1990-02-28  0.163373  0.051086  0.024544  0.074192  0.089466 -0.018941   \n",
       "1     1990-03-30  0.298690 -0.030818 -0.002841  0.006307  0.000206 -0.115443   \n",
       "2     1990-04-30  0.157492  0.003123  0.067412  0.098035 -0.017042  0.046292   \n",
       "3     1990-05-31  0.031771  0.006995  0.005653  0.042784 -0.006678 -0.034741   \n",
       "4     1990-06-29 -0.184523 -0.029952  0.010237 -0.062854 -0.122559 -0.110461   \n",
       "..           ...       ...       ...       ...       ...       ...       ...   \n",
       "386   2022-04-29 -0.056612  0.030597 -0.023808  0.036436  0.012554  0.053729   \n",
       "387   2022-05-31 -0.119514 -0.150425 -0.056971 -0.164130 -0.150231 -0.099078   \n",
       "388   2022-06-30  0.216503  0.076941  0.109278  0.101573  0.079974  0.088983   \n",
       "389   2022-07-29  0.421900 -0.066542 -0.050784 -0.034366 -0.026428 -0.013226   \n",
       "390   2022-08-30       NaN       NaN       NaN       NaN       NaN       NaN   \n",
       "\n",
       "port        14        15        16  ...        92        93        94  \\\n",
       "0     0.065403  0.077017  0.017527  ...  0.004934  0.062131  0.046729   \n",
       "1    -0.043391  0.032265 -0.041392  ...  0.025458 -0.045906 -0.040711   \n",
       "2     0.114019  0.136590  0.102370  ...  0.051848  0.123254  0.088769   \n",
       "3    -0.003484  0.019890  0.042697  ... -0.000867  0.007429 -0.009930   \n",
       "4     0.006353  0.022096 -0.001009  ... -0.037727 -0.001814 -0.083093   \n",
       "..         ...       ...       ...  ...       ...       ...       ...   \n",
       "386   0.015053  0.009379 -0.110540  ...  0.008972  0.045140  0.036232   \n",
       "387  -0.150350 -0.099206 -0.224766  ... -0.135599 -0.093367 -0.059701   \n",
       "388   0.149325  0.124988  0.105389  ...  0.014851  0.041351  0.042683   \n",
       "389   0.005024 -0.038185 -0.002953  ... -0.049986 -0.025877 -0.029667   \n",
       "390        NaN       NaN       NaN  ...       NaN       NaN       NaN   \n",
       "\n",
       "port        95        96        97        98        99  SMB_rets  SMB_cum_rets  \n",
       "0     0.008501  0.037549  0.036032  0.046161  0.014614       NaN           NaN  \n",
       "1     0.007734 -0.028092 -0.015353 -0.017842  0.008510  0.138829      1.138829  \n",
       "2     0.115392  0.055386  0.128733  0.077517  0.106376  0.301531      1.482222  \n",
       "3    -0.020153 -0.011213  0.002758 -0.001713  0.015414  0.090080      1.615740  \n",
       "4    -0.001572  0.007015 -0.024019  0.049611  0.020725  0.026117      1.657938  \n",
       "..         ...       ...       ...       ...       ...       ...           ...  \n",
       "386  -0.023666 -0.023127  0.044546 -0.017178 -0.039759  0.076807    215.823172  \n",
       "387  -0.041054 -0.026180 -0.082665 -0.099762 -0.109882 -0.032804    208.743402  \n",
       "388   0.099549 -0.007408  0.053511  0.109607  0.141671 -0.062543    195.687987  \n",
       "389  -0.046520 -0.024897 -0.033840 -0.062302 -0.052228  0.107224    216.670467  \n",
       "390        NaN       NaN       NaN       NaN       NaN  0.472684    319.087116  \n",
       "\n",
       "[391 rows x 103 columns]"
      ]
     },
     "execution_count": 14,
     "metadata": {},
     "output_type": "execute_result"
    }
   ],
   "source": [
    "port_df"
   ]
  },
  {
   "cell_type": "markdown",
   "id": "d2add79a",
   "metadata": {},
   "source": [
    "### Evaluation"
   ]
  },
  {
   "cell_type": "code",
   "execution_count": 15,
   "id": "fb1e2a61",
   "metadata": {
    "scrolled": false
   },
   "outputs": [
    {
     "data": {
      "application/vnd.plotly.v1+json": {
       "config": {
        "plotlyServerURL": "https://plot.ly"
       },
       "data": [
        {
         "hovertemplate": "date=%{x}<br>Cumulative returns=%{y}<extra></extra>",
         "legendgroup": "",
         "line": {
          "color": "#636efa",
          "dash": "solid"
         },
         "marker": {
          "symbol": "circle"
         },
         "mode": "lines",
         "name": "",
         "orientation": "v",
         "showlegend": false,
         "type": "scatter",
         "x": [
          "1990-02-28",
          "1990-03-30",
          "1990-04-30",
          "1990-05-31",
          "1990-06-29",
          "1990-07-31",
          "1990-08-31",
          "1990-09-28",
          "1990-10-31",
          "1990-11-30",
          "1990-12-31",
          "1991-01-31",
          "1991-02-28",
          "1991-03-28",
          "1991-04-30",
          "1991-05-31",
          "1991-06-28",
          "1991-07-31",
          "1991-08-30",
          "1991-09-30",
          "1991-10-31",
          "1991-11-29",
          "1991-12-31",
          "1992-01-31",
          "1992-02-28",
          "1992-03-31",
          "1992-04-30",
          "1992-05-29",
          "1992-06-30",
          "1992-07-31",
          "1992-08-31",
          "1992-09-30",
          "1992-10-30",
          "1992-11-30",
          "1992-12-31",
          "1993-01-29",
          "1993-02-26",
          "1993-03-31",
          "1993-04-30",
          "1993-05-28",
          "1993-06-30",
          "1993-07-30",
          "1993-08-31",
          "1993-09-30",
          "1993-10-29",
          "1993-11-30",
          "1993-12-31",
          "1994-01-31",
          "1994-02-28",
          "1994-03-31",
          "1994-04-29",
          "1994-05-31",
          "1994-06-30",
          "1994-07-29",
          "1994-08-31",
          "1994-09-30",
          "1994-10-31",
          "1994-11-30",
          "1994-12-30",
          "1995-01-31",
          "1995-02-28",
          "1995-03-31",
          "1995-04-28",
          "1995-05-31",
          "1995-06-30",
          "1995-07-31",
          "1995-08-31",
          "1995-09-29",
          "1995-10-31",
          "1995-11-30",
          "1995-12-29",
          "1996-01-31",
          "1996-02-29",
          "1996-03-29",
          "1996-04-30",
          "1996-05-31",
          "1996-06-28",
          "1996-07-31",
          "1996-08-30",
          "1996-09-30",
          "1996-10-31",
          "1996-11-29",
          "1996-12-31",
          "1997-01-31",
          "1997-02-28",
          "1997-03-31",
          "1997-04-30",
          "1997-05-30",
          "1997-06-30",
          "1997-07-31",
          "1997-08-29",
          "1997-09-30",
          "1997-10-31",
          "1997-11-28",
          "1997-12-31",
          "1998-01-30",
          "1998-02-27",
          "1998-03-31",
          "1998-04-30",
          "1998-05-29",
          "1998-06-30",
          "1998-07-31",
          "1998-08-31",
          "1998-09-30",
          "1998-10-30",
          "1998-11-30",
          "1998-12-31",
          "1999-01-29",
          "1999-02-26",
          "1999-03-31",
          "1999-04-30",
          "1999-05-28",
          "1999-06-30",
          "1999-07-30",
          "1999-08-31",
          "1999-09-30",
          "1999-10-29",
          "1999-11-30",
          "1999-12-31",
          "2000-01-31",
          "2000-02-29",
          "2000-03-31",
          "2000-04-28",
          "2000-05-31",
          "2000-06-30",
          "2000-07-31",
          "2000-08-31",
          "2000-09-29",
          "2000-10-31",
          "2000-11-30",
          "2000-12-29",
          "2001-01-31",
          "2001-02-28",
          "2001-03-30",
          "2001-04-30",
          "2001-05-31",
          "2001-06-29",
          "2001-07-31",
          "2001-08-31",
          "2001-09-28",
          "2001-10-31",
          "2001-11-30",
          "2001-12-31",
          "2002-01-31",
          "2002-02-28",
          "2002-03-28",
          "2002-04-30",
          "2002-05-31",
          "2002-06-28",
          "2002-07-31",
          "2002-08-30",
          "2002-09-30",
          "2002-10-31",
          "2002-11-29",
          "2002-12-31",
          "2003-01-31",
          "2003-02-28",
          "2003-03-31",
          "2003-04-30",
          "2003-05-30",
          "2003-06-30",
          "2003-07-31",
          "2003-08-29",
          "2003-09-30",
          "2003-10-31",
          "2003-11-28",
          "2003-12-31",
          "2004-01-30",
          "2004-02-27",
          "2004-03-31",
          "2004-04-30",
          "2004-05-28",
          "2004-06-30",
          "2004-07-30",
          "2004-08-31",
          "2004-09-30",
          "2004-10-29",
          "2004-11-30",
          "2004-12-31",
          "2005-01-31",
          "2005-02-28",
          "2005-03-31",
          "2005-04-29",
          "2005-05-31",
          "2005-06-30",
          "2005-07-29",
          "2005-08-31",
          "2005-09-30",
          "2005-10-31",
          "2005-11-30",
          "2005-12-30",
          "2006-01-31",
          "2006-02-28",
          "2006-03-31",
          "2006-04-28",
          "2006-05-31",
          "2006-06-30",
          "2006-07-31",
          "2006-08-31",
          "2006-09-29",
          "2006-10-31",
          "2006-11-30",
          "2006-12-29",
          "2007-01-31",
          "2007-02-28",
          "2007-03-30",
          "2007-04-30",
          "2007-05-31",
          "2007-06-29",
          "2007-07-31",
          "2007-08-31",
          "2007-09-28",
          "2007-10-31",
          "2007-11-30",
          "2007-12-31",
          "2008-01-31",
          "2008-02-29",
          "2008-03-31",
          "2008-04-30",
          "2008-05-30",
          "2008-06-30",
          "2008-07-31",
          "2008-08-29",
          "2008-09-30",
          "2008-10-31",
          "2008-11-28",
          "2008-12-31",
          "2009-01-30",
          "2009-02-27",
          "2009-03-31",
          "2009-04-30",
          "2009-05-29",
          "2009-06-30",
          "2009-07-31",
          "2009-08-31",
          "2009-09-30",
          "2009-10-30",
          "2009-11-30",
          "2009-12-31",
          "2010-01-29",
          "2010-02-26",
          "2010-03-31",
          "2010-04-30",
          "2010-05-28",
          "2010-06-30",
          "2010-07-30",
          "2010-08-31",
          "2010-09-30",
          "2010-10-29",
          "2010-11-30",
          "2010-12-31",
          "2011-01-31",
          "2011-02-28",
          "2011-03-31",
          "2011-04-29",
          "2011-05-31",
          "2011-06-30",
          "2011-07-29",
          "2011-08-31",
          "2011-09-30",
          "2011-10-31",
          "2011-11-30",
          "2011-12-30",
          "2012-01-31",
          "2012-02-29",
          "2012-03-30",
          "2012-04-30",
          "2012-05-31",
          "2012-06-29",
          "2012-07-31",
          "2012-08-31",
          "2012-09-28",
          "2012-10-31",
          "2012-11-30",
          "2012-12-31",
          "2013-01-31",
          "2013-02-28",
          "2013-03-28",
          "2013-04-30",
          "2013-05-31",
          "2013-06-28",
          "2013-07-31",
          "2013-08-30",
          "2013-09-30",
          "2013-10-31",
          "2013-11-29",
          "2013-12-31",
          "2014-01-31",
          "2014-02-28",
          "2014-03-31",
          "2014-04-30",
          "2014-05-30",
          "2014-06-30",
          "2014-07-31",
          "2014-08-29",
          "2014-09-30",
          "2014-10-31",
          "2014-11-28",
          "2014-12-31",
          "2015-01-30",
          "2015-02-27",
          "2015-03-31",
          "2015-04-30",
          "2015-05-29",
          "2015-06-30",
          "2015-07-31",
          "2015-08-31",
          "2015-09-30",
          "2015-10-30",
          "2015-11-30",
          "2015-12-31",
          "2016-01-29",
          "2016-02-29",
          "2016-03-31",
          "2016-04-29",
          "2016-05-31",
          "2016-06-30",
          "2016-07-29",
          "2016-08-31",
          "2016-09-30",
          "2016-10-31",
          "2016-11-30",
          "2016-12-30",
          "2017-01-31",
          "2017-02-28",
          "2017-03-31",
          "2017-04-28",
          "2017-05-31",
          "2017-06-30",
          "2017-07-31",
          "2017-08-31",
          "2017-09-29",
          "2017-10-31",
          "2017-11-30",
          "2017-12-29",
          "2018-01-31",
          "2018-02-28",
          "2018-03-29",
          "2018-04-30",
          "2018-05-31",
          "2018-06-29",
          "2018-07-31",
          "2018-08-31",
          "2018-09-28",
          "2018-10-31",
          "2018-11-30",
          "2018-12-31",
          "2019-01-31",
          "2019-02-28",
          "2019-03-29",
          "2019-04-30",
          "2019-05-31",
          "2019-06-28",
          "2019-07-31",
          "2019-08-30",
          "2019-09-30",
          "2019-10-31",
          "2019-11-29",
          "2019-12-31",
          "2020-01-31",
          "2020-02-28",
          "2020-03-31",
          "2020-04-30",
          "2020-05-29",
          "2020-06-30",
          "2020-07-31",
          "2020-08-31",
          "2020-09-30",
          "2020-10-30",
          "2020-11-30",
          "2020-12-31",
          "2021-01-29",
          "2021-02-26",
          "2021-03-31",
          "2021-04-30",
          "2021-05-28",
          "2021-06-30",
          "2021-07-30",
          "2021-08-31",
          "2021-09-30",
          "2021-10-29",
          "2021-11-30",
          "2021-12-31",
          "2022-01-31",
          "2022-02-28",
          "2022-03-31",
          "2022-04-29",
          "2022-05-31",
          "2022-06-30",
          "2022-07-29",
          "2022-08-30"
         ],
         "xaxis": "x",
         "y": [
          null,
          1.138829020341773,
          1.4822217181171868,
          1.615739712867023,
          1.6579384340145538,
          1.3350391166604354,
          1.2940946354876275,
          1.0921559066026163,
          0.9739413136590639,
          1.028294993784023,
          0.9557489495909651,
          1.1048766527429208,
          1.1706080146562818,
          1.137551569688898,
          1.1928044640676942,
          1.0927310803369863,
          1.065956736102806,
          1.1002978068708547,
          1.1439419322887883,
          1.282492782512631,
          1.6178344939342701,
          1.5494830506714745,
          1.5317546683559773,
          1.9207400090631606,
          2.1542295538969087,
          2.0796482146360615,
          1.8759025548808943,
          1.7193970771959028,
          1.5846429484854136,
          1.7749910513943035,
          1.5367559303575948,
          1.587558074685965,
          1.6562130709056577,
          2.0510853535802096,
          1.9939838173831286,
          2.283479272658942,
          2.2776264706692917,
          2.189865872591437,
          2.2413951242547236,
          2.59680858108896,
          2.9186082515609963,
          3.2217201279993892,
          3.5637159325761676,
          3.651469113397572,
          3.623615643770076,
          3.490862788684007,
          3.3934217626055614,
          3.5736227777049474,
          3.469440210967472,
          3.558158484054817,
          3.89053591777446,
          3.9380464426247572,
          3.545697621164545,
          3.708558650003025,
          4.284693591152696,
          4.157528623317484,
          4.307652616574094,
          4.313312995992502,
          4.120760514705317,
          4.968022825322672,
          5.465850826972601,
          5.176407485674327,
          5.535644157853925,
          6.298753552323688,
          6.856123838520879,
          7.410530765498064,
          7.884684359721641,
          7.592447096325304,
          7.8001402778396205,
          7.93330034772533,
          8.419985263855006,
          7.786114155081698,
          8.663569818550453,
          9.801818884990736,
          12.074572924327292,
          13.165103455484736,
          11.879884916430074,
          11.415529741665242,
          12.274248578012628,
          13.61246380493746,
          12.655369033422362,
          12.364309593168779,
          13.83116671916595,
          12.574250967189128,
          12.435242821252928,
          12.714572096735488,
          10.138008037065596,
          11.100927658059993,
          11.336489939068269,
          11.621005909026648,
          13.97332033996523,
          14.876225761080342,
          16.000801958927504,
          14.627907096921346,
          15.060739769848935,
          14.17809889178907,
          12.619541346103313,
          13.03023442234907,
          12.642422826651295,
          12.342142154449508,
          10.913869725011574,
          10.415559303604374,
          9.456876139961793,
          11.896041365845454,
          13.496102332692983,
          13.1117501254377,
          13.47537506933442,
          14.720160722741566,
          15.418736873123732,
          16.41237385411862,
          21.465105861259246,
          22.174023673256656,
          20.07199797774142,
          21.015692169290325,
          19.235788892743564,
          22.024904188819974,
          21.560900163285698,
          20.570411897542414,
          16.999215981426612,
          17.361252465589807,
          16.59961275439747,
          13.980702924712597,
          13.652774315173273,
          13.447077311678727,
          13.198790797753208,
          14.808850550103049,
          14.802696871438528,
          15.309144241586624,
          12.269962664856704,
          12.923473267052755,
          15.038202996029241,
          23.410526891097547,
          29.909201298057845,
          26.39196581114409,
          32.970670430792985,
          30.351695930589244,
          29.36759798285005,
          28.89705867374734,
          35.2772648789812,
          29.84137227259149,
          28.12773421456779,
          28.891695835612843,
          29.998255533425347,
          31.18086589831262,
          29.535651655695784,
          36.11223964992659,
          33.18821506930854,
          32.096901766935495,
          27.41754208466418,
          27.66490942104217,
          28.064370808400913,
          28.649468800228288,
          23.284714885248743,
          27.58114169137124,
          26.466741139525052,
          30.30470614316389,
          31.129267583039,
          32.48540027381919,
          42.07402669603931,
          54.081237894401426,
          53.82987019248864,
          59.6750366096642,
          60.913014822086026,
          75.46815811357142,
          77.10158952383068,
          86.5080647581743,
          80.96515602006515,
          98.3857566701011,
          101.52852417340318,
          106.69474304814683,
          105.9416264196068,
          100.36078992303572,
          137.32175866442793,
          125.81437006849329,
          120.95250060748499,
          122.0061486684505,
          121.79733976078575,
          132.51003724340308,
          141.50595195626525,
          131.39967451811071,
          136.87393757795556,
          150.6126147048834,
          134.677123751875,
          144.81075537596806,
          156.6689616821271,
          172.59735828002903,
          174.29144699049118,
          172.52696890603366,
          179.66442032979333,
          182.75004855368982,
          184.61538451344856,
          188.59691000624304,
          187.50054787623878,
          187.52447250315697,
          205.81690425538682,
          198.28288319977145,
          188.5171871016416,
          169.51513016935994,
          159.7208855942378,
          169.6197891892932,
          165.47930437752632,
          177.94589883629672,
          167.417127660704,
          170.0305069365195,
          171.81757955632784,
          166.67305696069403,
          153.4473816348169,
          128.17004006344857,
          135.47346481793065,
          125.33582108662617,
          118.31026326678277,
          105.20631173543646,
          99.11916992652658,
          84.55538067033578,
          70.07132714776144,
          77.723672390139,
          94.32536708308105,
          87.62439841711944,
          94.52573748463827,
          90.34164363232225,
          84.32941858868597,
          84.40674202644418,
          90.56327674727774,
          77.06756697293288,
          62.41397582831307,
          61.95303470740683,
          58.519101756583396,
          63.91838011129124,
          52.43021694971585,
          70.65901349047682,
          111.56309650552446,
          121.60912751384048,
          132.28939135707134,
          152.14675079651337,
          236.02794619827156,
          276.56726895961947,
          281.4479044918536,
          249.67668364361367,
          246.6842802904466,
          290.7501298321873,
          290.6881417314384,
          309.4489299217576,
          394.1600877697954,
          388.3758547058337,
          322.9693891202206,
          415.5799085850392,
          364.19408429173694,
          377.8373891591951,
          365.40165913519587,
          356.272777678849,
          344.4369063634991,
          359.3602144535489,
          356.0905494173031,
          380.6645314526237,
          404.0748490451469,
          355.3492460847908,
          384.0517017135223,
          362.87215316604517,
          342.1572494779263,
          274.725544662777,
          316.17394379243996,
          301.09640983149427,
          275.3111187508923,
          283.67305847338076,
          253.55834356514438,
          247.86117334395854,
          243.1064387382674,
          248.20322227356658,
          270.9710923872388,
          247.62514937301222,
          235.44268254000676,
          242.62062398067684,
          261.24151767185845,
          260.2983308008352,
          311.901633694351,
          345.8124365983861,
          361.49750357361836,
          375.10419554367206,
          369.4049080778047,
          454.23569130252474,
          484.5543102551877,
          467.88658831802616,
          425.2709210087051,
          463.84872343206837,
          390.55160655683056,
          401.7474082638293,
          419.2229031589765,
          429.32084314656015,
          428.7432508816071,
          399.05726911904924,
          357.8016622127366,
          340.17734922756273,
          327.873017114955,
          301.8698684653712,
          376.7538690407564,
          336.0106048114831,
          367.59313258298533,
          374.1133427464259,
          384.0218955849285,
          360.5027626933719,
          406.8332608042667,
          404.4911601353946,
          410.8582658600963,
          428.20777305605026,
          403.59574870487984,
          383.58471378125347,
          454.29661638582377,
          415.8542684451998,
          361.15362371394474,
          314.6403569954125,
          321.40737804125393,
          301.48056763516075,
          315.6829717969437,
          300.0024241561581,
          338.6386719217155,
          303.0477260663727,
          288.99065752785583,
          293.7632504303128,
          349.334288062592,
          309.8857823206122,
          283.1952747247224,
          393.51835190401516,
          402.1332633802362,
          391.88557072739076,
          374.6534453540586,
          357.2039850436855,
          348.7612792159581,
          299.32517504439073,
          340.8647530629057,
          344.50500325774004,
          305.9995675896429,
          352.3902216495499,
          336.9531509937518,
          395.2445476134302,
          388.04712077188685,
          331.39962865516793,
          344.6476691982093,
          377.51470182799585,
          394.70581578666383,
          359.8432541824681,
          326.2727700813639,
          261.43763626392894,
          221.6748908674435,
          193.00988840117645,
          198.99601134626946,
          196.69576420723894,
          170.78209758398728,
          195.59493570435185,
          196.00844351667214,
          158.92928703700758,
          159.7995601722191,
          146.34233080483142,
          133.42885657273143,
          132.51132301909513,
          113.13961234609077,
          136.760235907531,
          136.58318602557335,
          132.60395812868802,
          125.21782323927259,
          99.93115207075907,
          101.33017614873248,
          60.6780752437758,
          64.65376074423943,
          53.498044096167874,
          78.61478649981856,
          76.13111944756784,
          78.27179093611537,
          108.25018370939287,
          117.14537438365555,
          150.1093178174339,
          143.0839374309412,
          145.46963073498068,
          173.03478506408626,
          210.49498139047657,
          208.0260431785711,
          212.9033297461718,
          198.2477695141785,
          185.67866653761098,
          181.6532063484304,
          205.07839178009917,
          208.99047524054924,
          203.57022675746808,
          217.1547867813852,
          219.8468119209242,
          223.1743063398946,
          200.42880586556055,
          215.82317220299782,
          208.7434022222125,
          195.68798684297673,
          216.6704671347972,
          319.087115893999
         ],
         "yaxis": "y"
        }
       ],
       "layout": {
        "legend": {
         "tracegroupgap": 0
        },
        "template": {
         "data": {
          "bar": [
           {
            "error_x": {
             "color": "#2a3f5f"
            },
            "error_y": {
             "color": "#2a3f5f"
            },
            "marker": {
             "line": {
              "color": "#E5ECF6",
              "width": 0.5
             },
             "pattern": {
              "fillmode": "overlay",
              "size": 10,
              "solidity": 0.2
             }
            },
            "type": "bar"
           }
          ],
          "barpolar": [
           {
            "marker": {
             "line": {
              "color": "#E5ECF6",
              "width": 0.5
             },
             "pattern": {
              "fillmode": "overlay",
              "size": 10,
              "solidity": 0.2
             }
            },
            "type": "barpolar"
           }
          ],
          "carpet": [
           {
            "aaxis": {
             "endlinecolor": "#2a3f5f",
             "gridcolor": "white",
             "linecolor": "white",
             "minorgridcolor": "white",
             "startlinecolor": "#2a3f5f"
            },
            "baxis": {
             "endlinecolor": "#2a3f5f",
             "gridcolor": "white",
             "linecolor": "white",
             "minorgridcolor": "white",
             "startlinecolor": "#2a3f5f"
            },
            "type": "carpet"
           }
          ],
          "choropleth": [
           {
            "colorbar": {
             "outlinewidth": 0,
             "ticks": ""
            },
            "type": "choropleth"
           }
          ],
          "contour": [
           {
            "colorbar": {
             "outlinewidth": 0,
             "ticks": ""
            },
            "colorscale": [
             [
              0,
              "#0d0887"
             ],
             [
              0.1111111111111111,
              "#46039f"
             ],
             [
              0.2222222222222222,
              "#7201a8"
             ],
             [
              0.3333333333333333,
              "#9c179e"
             ],
             [
              0.4444444444444444,
              "#bd3786"
             ],
             [
              0.5555555555555556,
              "#d8576b"
             ],
             [
              0.6666666666666666,
              "#ed7953"
             ],
             [
              0.7777777777777778,
              "#fb9f3a"
             ],
             [
              0.8888888888888888,
              "#fdca26"
             ],
             [
              1,
              "#f0f921"
             ]
            ],
            "type": "contour"
           }
          ],
          "contourcarpet": [
           {
            "colorbar": {
             "outlinewidth": 0,
             "ticks": ""
            },
            "type": "contourcarpet"
           }
          ],
          "heatmap": [
           {
            "colorbar": {
             "outlinewidth": 0,
             "ticks": ""
            },
            "colorscale": [
             [
              0,
              "#0d0887"
             ],
             [
              0.1111111111111111,
              "#46039f"
             ],
             [
              0.2222222222222222,
              "#7201a8"
             ],
             [
              0.3333333333333333,
              "#9c179e"
             ],
             [
              0.4444444444444444,
              "#bd3786"
             ],
             [
              0.5555555555555556,
              "#d8576b"
             ],
             [
              0.6666666666666666,
              "#ed7953"
             ],
             [
              0.7777777777777778,
              "#fb9f3a"
             ],
             [
              0.8888888888888888,
              "#fdca26"
             ],
             [
              1,
              "#f0f921"
             ]
            ],
            "type": "heatmap"
           }
          ],
          "heatmapgl": [
           {
            "colorbar": {
             "outlinewidth": 0,
             "ticks": ""
            },
            "colorscale": [
             [
              0,
              "#0d0887"
             ],
             [
              0.1111111111111111,
              "#46039f"
             ],
             [
              0.2222222222222222,
              "#7201a8"
             ],
             [
              0.3333333333333333,
              "#9c179e"
             ],
             [
              0.4444444444444444,
              "#bd3786"
             ],
             [
              0.5555555555555556,
              "#d8576b"
             ],
             [
              0.6666666666666666,
              "#ed7953"
             ],
             [
              0.7777777777777778,
              "#fb9f3a"
             ],
             [
              0.8888888888888888,
              "#fdca26"
             ],
             [
              1,
              "#f0f921"
             ]
            ],
            "type": "heatmapgl"
           }
          ],
          "histogram": [
           {
            "marker": {
             "pattern": {
              "fillmode": "overlay",
              "size": 10,
              "solidity": 0.2
             }
            },
            "type": "histogram"
           }
          ],
          "histogram2d": [
           {
            "colorbar": {
             "outlinewidth": 0,
             "ticks": ""
            },
            "colorscale": [
             [
              0,
              "#0d0887"
             ],
             [
              0.1111111111111111,
              "#46039f"
             ],
             [
              0.2222222222222222,
              "#7201a8"
             ],
             [
              0.3333333333333333,
              "#9c179e"
             ],
             [
              0.4444444444444444,
              "#bd3786"
             ],
             [
              0.5555555555555556,
              "#d8576b"
             ],
             [
              0.6666666666666666,
              "#ed7953"
             ],
             [
              0.7777777777777778,
              "#fb9f3a"
             ],
             [
              0.8888888888888888,
              "#fdca26"
             ],
             [
              1,
              "#f0f921"
             ]
            ],
            "type": "histogram2d"
           }
          ],
          "histogram2dcontour": [
           {
            "colorbar": {
             "outlinewidth": 0,
             "ticks": ""
            },
            "colorscale": [
             [
              0,
              "#0d0887"
             ],
             [
              0.1111111111111111,
              "#46039f"
             ],
             [
              0.2222222222222222,
              "#7201a8"
             ],
             [
              0.3333333333333333,
              "#9c179e"
             ],
             [
              0.4444444444444444,
              "#bd3786"
             ],
             [
              0.5555555555555556,
              "#d8576b"
             ],
             [
              0.6666666666666666,
              "#ed7953"
             ],
             [
              0.7777777777777778,
              "#fb9f3a"
             ],
             [
              0.8888888888888888,
              "#fdca26"
             ],
             [
              1,
              "#f0f921"
             ]
            ],
            "type": "histogram2dcontour"
           }
          ],
          "mesh3d": [
           {
            "colorbar": {
             "outlinewidth": 0,
             "ticks": ""
            },
            "type": "mesh3d"
           }
          ],
          "parcoords": [
           {
            "line": {
             "colorbar": {
              "outlinewidth": 0,
              "ticks": ""
             }
            },
            "type": "parcoords"
           }
          ],
          "pie": [
           {
            "automargin": true,
            "type": "pie"
           }
          ],
          "scatter": [
           {
            "fillpattern": {
             "fillmode": "overlay",
             "size": 10,
             "solidity": 0.2
            },
            "type": "scatter"
           }
          ],
          "scatter3d": [
           {
            "line": {
             "colorbar": {
              "outlinewidth": 0,
              "ticks": ""
             }
            },
            "marker": {
             "colorbar": {
              "outlinewidth": 0,
              "ticks": ""
             }
            },
            "type": "scatter3d"
           }
          ],
          "scattercarpet": [
           {
            "marker": {
             "colorbar": {
              "outlinewidth": 0,
              "ticks": ""
             }
            },
            "type": "scattercarpet"
           }
          ],
          "scattergeo": [
           {
            "marker": {
             "colorbar": {
              "outlinewidth": 0,
              "ticks": ""
             }
            },
            "type": "scattergeo"
           }
          ],
          "scattergl": [
           {
            "marker": {
             "colorbar": {
              "outlinewidth": 0,
              "ticks": ""
             }
            },
            "type": "scattergl"
           }
          ],
          "scattermapbox": [
           {
            "marker": {
             "colorbar": {
              "outlinewidth": 0,
              "ticks": ""
             }
            },
            "type": "scattermapbox"
           }
          ],
          "scatterpolar": [
           {
            "marker": {
             "colorbar": {
              "outlinewidth": 0,
              "ticks": ""
             }
            },
            "type": "scatterpolar"
           }
          ],
          "scatterpolargl": [
           {
            "marker": {
             "colorbar": {
              "outlinewidth": 0,
              "ticks": ""
             }
            },
            "type": "scatterpolargl"
           }
          ],
          "scatterternary": [
           {
            "marker": {
             "colorbar": {
              "outlinewidth": 0,
              "ticks": ""
             }
            },
            "type": "scatterternary"
           }
          ],
          "surface": [
           {
            "colorbar": {
             "outlinewidth": 0,
             "ticks": ""
            },
            "colorscale": [
             [
              0,
              "#0d0887"
             ],
             [
              0.1111111111111111,
              "#46039f"
             ],
             [
              0.2222222222222222,
              "#7201a8"
             ],
             [
              0.3333333333333333,
              "#9c179e"
             ],
             [
              0.4444444444444444,
              "#bd3786"
             ],
             [
              0.5555555555555556,
              "#d8576b"
             ],
             [
              0.6666666666666666,
              "#ed7953"
             ],
             [
              0.7777777777777778,
              "#fb9f3a"
             ],
             [
              0.8888888888888888,
              "#fdca26"
             ],
             [
              1,
              "#f0f921"
             ]
            ],
            "type": "surface"
           }
          ],
          "table": [
           {
            "cells": {
             "fill": {
              "color": "#EBF0F8"
             },
             "line": {
              "color": "white"
             }
            },
            "header": {
             "fill": {
              "color": "#C8D4E3"
             },
             "line": {
              "color": "white"
             }
            },
            "type": "table"
           }
          ]
         },
         "layout": {
          "annotationdefaults": {
           "arrowcolor": "#2a3f5f",
           "arrowhead": 0,
           "arrowwidth": 1
          },
          "autotypenumbers": "strict",
          "coloraxis": {
           "colorbar": {
            "outlinewidth": 0,
            "ticks": ""
           }
          },
          "colorscale": {
           "diverging": [
            [
             0,
             "#8e0152"
            ],
            [
             0.1,
             "#c51b7d"
            ],
            [
             0.2,
             "#de77ae"
            ],
            [
             0.3,
             "#f1b6da"
            ],
            [
             0.4,
             "#fde0ef"
            ],
            [
             0.5,
             "#f7f7f7"
            ],
            [
             0.6,
             "#e6f5d0"
            ],
            [
             0.7,
             "#b8e186"
            ],
            [
             0.8,
             "#7fbc41"
            ],
            [
             0.9,
             "#4d9221"
            ],
            [
             1,
             "#276419"
            ]
           ],
           "sequential": [
            [
             0,
             "#0d0887"
            ],
            [
             0.1111111111111111,
             "#46039f"
            ],
            [
             0.2222222222222222,
             "#7201a8"
            ],
            [
             0.3333333333333333,
             "#9c179e"
            ],
            [
             0.4444444444444444,
             "#bd3786"
            ],
            [
             0.5555555555555556,
             "#d8576b"
            ],
            [
             0.6666666666666666,
             "#ed7953"
            ],
            [
             0.7777777777777778,
             "#fb9f3a"
            ],
            [
             0.8888888888888888,
             "#fdca26"
            ],
            [
             1,
             "#f0f921"
            ]
           ],
           "sequentialminus": [
            [
             0,
             "#0d0887"
            ],
            [
             0.1111111111111111,
             "#46039f"
            ],
            [
             0.2222222222222222,
             "#7201a8"
            ],
            [
             0.3333333333333333,
             "#9c179e"
            ],
            [
             0.4444444444444444,
             "#bd3786"
            ],
            [
             0.5555555555555556,
             "#d8576b"
            ],
            [
             0.6666666666666666,
             "#ed7953"
            ],
            [
             0.7777777777777778,
             "#fb9f3a"
            ],
            [
             0.8888888888888888,
             "#fdca26"
            ],
            [
             1,
             "#f0f921"
            ]
           ]
          },
          "colorway": [
           "#636efa",
           "#EF553B",
           "#00cc96",
           "#ab63fa",
           "#FFA15A",
           "#19d3f3",
           "#FF6692",
           "#B6E880",
           "#FF97FF",
           "#FECB52"
          ],
          "font": {
           "color": "#2a3f5f"
          },
          "geo": {
           "bgcolor": "white",
           "lakecolor": "white",
           "landcolor": "#E5ECF6",
           "showlakes": true,
           "showland": true,
           "subunitcolor": "white"
          },
          "hoverlabel": {
           "align": "left"
          },
          "hovermode": "closest",
          "mapbox": {
           "style": "light"
          },
          "paper_bgcolor": "white",
          "plot_bgcolor": "#E5ECF6",
          "polar": {
           "angularaxis": {
            "gridcolor": "white",
            "linecolor": "white",
            "ticks": ""
           },
           "bgcolor": "#E5ECF6",
           "radialaxis": {
            "gridcolor": "white",
            "linecolor": "white",
            "ticks": ""
           }
          },
          "scene": {
           "xaxis": {
            "backgroundcolor": "#E5ECF6",
            "gridcolor": "white",
            "gridwidth": 2,
            "linecolor": "white",
            "showbackground": true,
            "ticks": "",
            "zerolinecolor": "white"
           },
           "yaxis": {
            "backgroundcolor": "#E5ECF6",
            "gridcolor": "white",
            "gridwidth": 2,
            "linecolor": "white",
            "showbackground": true,
            "ticks": "",
            "zerolinecolor": "white"
           },
           "zaxis": {
            "backgroundcolor": "#E5ECF6",
            "gridcolor": "white",
            "gridwidth": 2,
            "linecolor": "white",
            "showbackground": true,
            "ticks": "",
            "zerolinecolor": "white"
           }
          },
          "shapedefaults": {
           "line": {
            "color": "#2a3f5f"
           }
          },
          "ternary": {
           "aaxis": {
            "gridcolor": "white",
            "linecolor": "white",
            "ticks": ""
           },
           "baxis": {
            "gridcolor": "white",
            "linecolor": "white",
            "ticks": ""
           },
           "bgcolor": "#E5ECF6",
           "caxis": {
            "gridcolor": "white",
            "linecolor": "white",
            "ticks": ""
           }
          },
          "title": {
           "x": 0.05
          },
          "xaxis": {
           "automargin": true,
           "gridcolor": "white",
           "linecolor": "white",
           "ticks": "",
           "title": {
            "standoff": 15
           },
           "zerolinecolor": "white",
           "zerolinewidth": 2
          },
          "yaxis": {
           "automargin": true,
           "gridcolor": "white",
           "linecolor": "white",
           "ticks": "",
           "title": {
            "standoff": 15
           },
           "zerolinecolor": "white",
           "zerolinewidth": 2
          }
         }
        },
        "title": {
         "text": "Small-minus-Big"
        },
        "xaxis": {
         "anchor": "y",
         "domain": [
          0,
          1
         ],
         "title": {
          "text": "date"
         }
        },
        "yaxis": {
         "anchor": "x",
         "domain": [
          0,
          1
         ],
         "title": {
          "text": "Cumulative returns"
         }
        }
       }
      }
     },
     "metadata": {},
     "output_type": "display_data"
    }
   ],
   "source": [
    "px.line(port_df, y='SMB_cum_rets', x='date', labels={'SMB_cum_rets': 'Cumulative returns'}, title = 'Small-minus-Big').show()"
   ]
  },
  {
   "cell_type": "code",
   "execution_count": 16,
   "id": "57bd7d0f",
   "metadata": {},
   "outputs": [
    {
     "data": {
      "application/vnd.plotly.v1+json": {
       "config": {
        "plotlyServerURL": "https://plot.ly"
       },
       "data": [
        {
         "alignmentgroup": "True",
         "bingroup": "x",
         "hovertemplate": "port=SMB_rets<br>value=%{x}<br>count=%{y}<extra></extra>",
         "legendgroup": "SMB_rets",
         "marker": {
          "color": "#636efa",
          "pattern": {
           "shape": ""
          }
         },
         "name": "SMB_rets",
         "offsetgroup": "SMB_rets",
         "orientation": "v",
         "showlegend": true,
         "type": "histogram",
         "x": [
          null,
          0.13882902034177305,
          0.3015313902629197,
          0.09007963728897415,
          0.02611727669468004,
          -0.1947595343285732,
          -0.030669124718404883,
          -0.1560463379936032,
          -0.10823966819104064,
          0.055807962310125366,
          -0.07054983699385287,
          0.15603229615452707,
          0.05949203628312645,
          -0.028238696945099985,
          0.04857177103092298,
          -0.08389755969678246,
          -0.02450222631713153,
          0.032216195653119395,
          0.039665738807617416,
          0.12111703078025272,
          0.26147649015587066,
          -0.04224872415507569,
          -0.011441481923803384,
          0.25394754704725586,
          0.12156228522965605,
          -0.034620887605006194,
          -0.09797121374723596,
          -0.08342942829188073,
          -0.0783728962307266,
          0.12012049975726237,
          -0.13421764625211408,
          0.033058043456874,
          0.04324565967974012,
          0.23841876966870318,
          -0.027839668445493605,
          0.14518445573733013,
          -0.0025631071232956135,
          -0.038531602617028544,
          0.023530779810869498,
          0.15856796197520645,
          0.12392121345235661,
          0.10385493711815404,
          0.10615317004247345,
          0.024624067260593532,
          -0.007628017316454738,
          -0.036635468034338904,
          -0.027913164159390783,
          0.0531030410322537,
          -0.029153207604184564,
          0.0255713509075301,
          0.09341276820836589,
          0.01221182013337517,
          -0.09963031852887624,
          0.04593201288974845,
          0.155352792155303,
          -0.02967889421493071,
          0.036108950017719646,
          0.0013140287581755311,
          -0.04464143489380089,
          0.20560823847778106,
          0.10020646425222396,
          -0.052954855604537276,
          0.06939883947965518,
          0.13785376601331387,
          0.08848898144166475,
          0.0808630269865125,
          0.06398375625550887,
          -0.037063914046985835,
          0.02735523591792134,
          0.017071496811925407,
          0.061347093239602246,
          -0.07528173612065155,
          0.11269493947710404,
          0.13138337778533998,
          0.23187064217405245,
          0.09031628182561177,
          -0.09762312490747847,
          -0.039087514570332285,
          0.07522373957059311,
          0.10902624453296753,
          -0.07031017934960059,
          -0.02299888999561417,
          0.11863639574405362,
          -0.09087561284581322,
          -0.01105498421328837,
          0.022462711785986418,
          -0.20264654131234458,
          0.09498114594838201,
          0.021220053698597037,
          0.02509736007243904,
          0.20241917518615288,
          0.06461638316075125,
          0.07559553181757389,
          -0.08580162828902223,
          0.029589514758313198,
          -0.05860541324981124,
          -0.1099271177032317,
          0.03254421575096075,
          -0.029762441958266776,
          -0.023751829559819075,
          -0.11572321980775613,
          -0.04565845423875749,
          -0.09204336855062814,
          0.2579250473183754,
          0.13450364853651564,
          -0.028478756146078435,
          0.027732754240889848,
          0.09237484277820751,
          0.047457100743670405,
          0.06444347479117345,
          0.30786113282891514,
          0.03302652298011177,
          -0.09479676429002892,
          0.047015458680067825,
          -0.08469401160851059,
          0.14499614815010603,
          -0.021067243768978935,
          -0.04593909615285469,
          -0.17360838149003993,
          0.02129724597644706,
          -0.04387009017361598,
          -0.1577693328412789,
          -0.023455802709295148,
          -0.01506631536902655,
          -0.018463976087196562,
          0.12198539828541838,
          -0.00041554060145998495,
          0.03421318254008665,
          -0.19852067031115395,
          0.05326100983728479,
          0.16363478186377348,
          0.5567369915992604,
          0.2775962470725759,
          -0.1175971050468053,
          0.24926921574258085,
          -0.07943346210387475,
          -0.03242316178936785,
          -0.016022396839451947,
          0.22079085201256854,
          -0.1540905346556078,
          -0.057424908022665824,
          0.027160439416033244,
          0.03830026815001014,
          0.03942263787871122,
          -0.05276358417954869,
          0.22266608744224367,
          -0.08097045791021691,
          -0.03288255484948513,
          -0.14578851617048405,
          0.009022228747351965,
          0.014439280507996408,
          0.020848427204084363,
          -0.18725491744324407,
          0.18451704593747695,
          -0.040404438812437785,
          0.14501086414100586,
          0.027209022782790193,
          0.0435645550337037,
          0.2951672548713474,
          0.2853829818835103,
          -0.004647965018914783,
          0.10858592815241792,
          0.020745328076117765,
          0.23894964539184074,
          0.021643981396778318,
          0.1220010546142665,
          -0.06407389592639554,
          0.21516170049395933,
          0.031943317911759785,
          0.0508844082665884,
          -0.00705861045281464,
          -0.05267841060384376,
          0.3682809667972592,
          -0.08379872722177371,
          -0.038643196785561953,
          0.00871125487834939,
          -0.0017114621676338863,
          0.08795510233357663,
          0.06788855319946724,
          -0.0714194512558598,
          0.04166116149009428,
          0.1003746759247215,
          -0.10580449044213905,
          0.07524389697216105,
          0.08188760755630294,
          0.10166912722776425,
          0.00981526442434661,
          -0.010123721587748213,
          0.04137006213589175,
          0.017174397792465046,
          0.010207034003663983,
          0.021566596431211497,
          -0.005813256060069832,
          0.0001275976373890618,
          0.09754690418831541,
          -0.03660545319575309,
          -0.04925133193817255,
          -0.10079747753734761,
          -0.05777799636726724,
          0.061976262892775365,
          -0.024410387676794855,
          0.07533627546758948,
          -0.05916838344939192,
          0.015609987534321343,
          0.010510305779865364,
          -0.02994177085323961,
          -0.07935100949757042,
          -0.16472970279496096,
          0.05698230843078976,
          -0.07483121321897944,
          -0.056053869986519414,
          -0.11075921200342241,
          -0.057859093323386235,
          -0.14693211481680488,
          -0.17129665087837184,
          0.1092079393079117,
          0.2135989484594702,
          -0.07104100278835339,
          0.07876047302106787,
          -0.0442640699100179,
          -0.06654987447544322,
          0.0009169212719865039,
          0.07293889768787386,
          -0.14901967175950842,
          -0.19013953236341746,
          -0.007385222857364301,
          -0.05542800230918929,
          0.09226522951713674,
          -0.1797317632513968,
          0.3476773052120619,
          0.5788940574518572,
          0.09004797574633977,
          0.08782452486566303,
          0.15010545619522633,
          0.5513176913908859,
          0.17175645263333975,
          0.017647191406972587,
          -0.1128849081523701,
          -0.011985113345379121,
          0.178632580437868,
          -0.0002132005952488747,
          0.0645392277737012,
          0.2737484271458186,
          -0.014674831986895301,
          -0.16841022631325453,
          0.2867470496727034,
          -0.12364848066948185,
          0.03746163228870367,
          -0.03291291539906234,
          -0.02498314177870008,
          -0.03322137434260841,
          0.043326681358299715,
          -0.009098572698754928,
          0.06901048644939553,
          0.06149855229009374,
          -0.12058558723834852,
          0.08077252434041379,
          -0.05514764926956556,
          -0.05708595577638605,
          -0.1970781122365189,
          0.15087202458926965,
          -0.04768746526071642,
          -0.08563798915779988,
          0.03037269166762041,
          -0.10615994014483496,
          -0.022468873006035034,
          -0.019183055343214073,
          0.020965234659154605,
          0.09173075959738239,
          -0.08615658153255483,
          -0.04919721144581447,
          0.03048700160579597,
          0.07674901410139238,
          -0.003610401897174667,
          0.1982467683705571,
          0.10872274858703085,
          0.04535715120462337,
          0.03763979511765224,
          -0.015193878217242829,
          0.2296417328782563,
          0.06674644800747392,
          -0.034398046997835253,
          -0.09108119012882425,
          0.09071347350028107,
          -0.15801944291859696,
          0.028666638464767316,
          0.04349871221489243,
          0.024087281280417774,
          -0.0013453627378531285,
          -0.06923953135475774,
          -0.1033826723602547,
          -0.0492572138323244,
          -0.03617034508778151,
          -0.07930859598753406,
          0.24806715872662688,
          -0.10814292188427614,
          0.09399265177722994,
          0.017737573380722974,
          0.02648543023288699,
          -0.06124424977313626,
          0.128516346906061,
          -0.00575690557906201,
          0.015741025644591303,
          0.04222747511148228,
          -0.05747682760524955,
          -0.049581877380623654,
          0.18434494406076657,
          -0.08461948989726954,
          -0.13153801435240858,
          -0.12879080719226982,
          0.021507161733674673,
          -0.061998609140626285,
          0.0471088543888179,
          -0.049671819647186505,
          0.1287864518902898,
          -0.10510006330160225,
          -0.04638565918636249,
          0.01651469616105815,
          0.18916946742275365,
          -0.11292480323291829,
          -0.08613014574600707,
          0.38956538835802035,
          0.02189201960858561,
          -0.0254833250219237,
          -0.043972339531019436,
          -0.0465749361890502,
          -0.023635530904547092,
          -0.14174768564533166,
          0.13877742830136006,
          0.01067945618349847,
          -0.1117703235191898,
          0.15160365887222,
          -0.04380675088978531,
          0.17299555278757217,
          -0.01821005978451297,
          -0.1459809623224059,
          0.03997602712109974,
          0.09536415176185177,
          0.045537601252151054,
          -0.08832543177686221,
          -0.09329196451764366,
          -0.19871451056509176,
          -0.15209265951419393,
          -0.12931100294714057,
          0.03101459202261514,
          -0.01155926253731732,
          -0.13174491442504566,
          0.145289456397279,
          0.002114102856657373,
          -0.18917122045566714,
          0.005475851250807379,
          -0.08421318151867602,
          -0.08824155089699898,
          -0.006876575106795915,
          -0.14618909714012032,
          0.20877412492085842,
          -0.0012946005889999182,
          -0.029134097780822602,
          -0.05570071205753465,
          -0.20194146898875942,
          0.013999879406801828,
          -0.4011845478812502,
          0.06552095603710564,
          -0.1725455181517113,
          0.46948898465336286,
          -0.03159287409953665,
          0.02811821898956618,
          0.38300379248694544,
          0.0821725226641887,
          0.2813934703543665,
          -0.04680176080099897,
          0.01667338309858098,
          0.18949078367652078,
          0.21648939727648578,
          -0.01172920226219304,
          0.02344555755172454,
          -0.06883668869559723,
          -0.06340098053748126,
          -0.02167971293764759,
          0.12895552961909618,
          0.01907603929645059,
          -0.02593538522194575,
          0.06673156600695668,
          0.01239680312573125,
          0.015135513632861886,
          -0.10191809643038674,
          0.07680715489450743,
          -0.03280356742290064,
          -0.06254288873445672,
          0.10722416143335957,
          0.47268393387219354
         ],
         "xaxis": "x",
         "yaxis": "y"
        }
       ],
       "layout": {
        "barmode": "relative",
        "legend": {
         "title": {
          "text": "port"
         },
         "tracegroupgap": 0
        },
        "margin": {
         "t": 60
        },
        "template": {
         "data": {
          "bar": [
           {
            "error_x": {
             "color": "#2a3f5f"
            },
            "error_y": {
             "color": "#2a3f5f"
            },
            "marker": {
             "line": {
              "color": "#E5ECF6",
              "width": 0.5
             },
             "pattern": {
              "fillmode": "overlay",
              "size": 10,
              "solidity": 0.2
             }
            },
            "type": "bar"
           }
          ],
          "barpolar": [
           {
            "marker": {
             "line": {
              "color": "#E5ECF6",
              "width": 0.5
             },
             "pattern": {
              "fillmode": "overlay",
              "size": 10,
              "solidity": 0.2
             }
            },
            "type": "barpolar"
           }
          ],
          "carpet": [
           {
            "aaxis": {
             "endlinecolor": "#2a3f5f",
             "gridcolor": "white",
             "linecolor": "white",
             "minorgridcolor": "white",
             "startlinecolor": "#2a3f5f"
            },
            "baxis": {
             "endlinecolor": "#2a3f5f",
             "gridcolor": "white",
             "linecolor": "white",
             "minorgridcolor": "white",
             "startlinecolor": "#2a3f5f"
            },
            "type": "carpet"
           }
          ],
          "choropleth": [
           {
            "colorbar": {
             "outlinewidth": 0,
             "ticks": ""
            },
            "type": "choropleth"
           }
          ],
          "contour": [
           {
            "colorbar": {
             "outlinewidth": 0,
             "ticks": ""
            },
            "colorscale": [
             [
              0,
              "#0d0887"
             ],
             [
              0.1111111111111111,
              "#46039f"
             ],
             [
              0.2222222222222222,
              "#7201a8"
             ],
             [
              0.3333333333333333,
              "#9c179e"
             ],
             [
              0.4444444444444444,
              "#bd3786"
             ],
             [
              0.5555555555555556,
              "#d8576b"
             ],
             [
              0.6666666666666666,
              "#ed7953"
             ],
             [
              0.7777777777777778,
              "#fb9f3a"
             ],
             [
              0.8888888888888888,
              "#fdca26"
             ],
             [
              1,
              "#f0f921"
             ]
            ],
            "type": "contour"
           }
          ],
          "contourcarpet": [
           {
            "colorbar": {
             "outlinewidth": 0,
             "ticks": ""
            },
            "type": "contourcarpet"
           }
          ],
          "heatmap": [
           {
            "colorbar": {
             "outlinewidth": 0,
             "ticks": ""
            },
            "colorscale": [
             [
              0,
              "#0d0887"
             ],
             [
              0.1111111111111111,
              "#46039f"
             ],
             [
              0.2222222222222222,
              "#7201a8"
             ],
             [
              0.3333333333333333,
              "#9c179e"
             ],
             [
              0.4444444444444444,
              "#bd3786"
             ],
             [
              0.5555555555555556,
              "#d8576b"
             ],
             [
              0.6666666666666666,
              "#ed7953"
             ],
             [
              0.7777777777777778,
              "#fb9f3a"
             ],
             [
              0.8888888888888888,
              "#fdca26"
             ],
             [
              1,
              "#f0f921"
             ]
            ],
            "type": "heatmap"
           }
          ],
          "heatmapgl": [
           {
            "colorbar": {
             "outlinewidth": 0,
             "ticks": ""
            },
            "colorscale": [
             [
              0,
              "#0d0887"
             ],
             [
              0.1111111111111111,
              "#46039f"
             ],
             [
              0.2222222222222222,
              "#7201a8"
             ],
             [
              0.3333333333333333,
              "#9c179e"
             ],
             [
              0.4444444444444444,
              "#bd3786"
             ],
             [
              0.5555555555555556,
              "#d8576b"
             ],
             [
              0.6666666666666666,
              "#ed7953"
             ],
             [
              0.7777777777777778,
              "#fb9f3a"
             ],
             [
              0.8888888888888888,
              "#fdca26"
             ],
             [
              1,
              "#f0f921"
             ]
            ],
            "type": "heatmapgl"
           }
          ],
          "histogram": [
           {
            "marker": {
             "pattern": {
              "fillmode": "overlay",
              "size": 10,
              "solidity": 0.2
             }
            },
            "type": "histogram"
           }
          ],
          "histogram2d": [
           {
            "colorbar": {
             "outlinewidth": 0,
             "ticks": ""
            },
            "colorscale": [
             [
              0,
              "#0d0887"
             ],
             [
              0.1111111111111111,
              "#46039f"
             ],
             [
              0.2222222222222222,
              "#7201a8"
             ],
             [
              0.3333333333333333,
              "#9c179e"
             ],
             [
              0.4444444444444444,
              "#bd3786"
             ],
             [
              0.5555555555555556,
              "#d8576b"
             ],
             [
              0.6666666666666666,
              "#ed7953"
             ],
             [
              0.7777777777777778,
              "#fb9f3a"
             ],
             [
              0.8888888888888888,
              "#fdca26"
             ],
             [
              1,
              "#f0f921"
             ]
            ],
            "type": "histogram2d"
           }
          ],
          "histogram2dcontour": [
           {
            "colorbar": {
             "outlinewidth": 0,
             "ticks": ""
            },
            "colorscale": [
             [
              0,
              "#0d0887"
             ],
             [
              0.1111111111111111,
              "#46039f"
             ],
             [
              0.2222222222222222,
              "#7201a8"
             ],
             [
              0.3333333333333333,
              "#9c179e"
             ],
             [
              0.4444444444444444,
              "#bd3786"
             ],
             [
              0.5555555555555556,
              "#d8576b"
             ],
             [
              0.6666666666666666,
              "#ed7953"
             ],
             [
              0.7777777777777778,
              "#fb9f3a"
             ],
             [
              0.8888888888888888,
              "#fdca26"
             ],
             [
              1,
              "#f0f921"
             ]
            ],
            "type": "histogram2dcontour"
           }
          ],
          "mesh3d": [
           {
            "colorbar": {
             "outlinewidth": 0,
             "ticks": ""
            },
            "type": "mesh3d"
           }
          ],
          "parcoords": [
           {
            "line": {
             "colorbar": {
              "outlinewidth": 0,
              "ticks": ""
             }
            },
            "type": "parcoords"
           }
          ],
          "pie": [
           {
            "automargin": true,
            "type": "pie"
           }
          ],
          "scatter": [
           {
            "fillpattern": {
             "fillmode": "overlay",
             "size": 10,
             "solidity": 0.2
            },
            "type": "scatter"
           }
          ],
          "scatter3d": [
           {
            "line": {
             "colorbar": {
              "outlinewidth": 0,
              "ticks": ""
             }
            },
            "marker": {
             "colorbar": {
              "outlinewidth": 0,
              "ticks": ""
             }
            },
            "type": "scatter3d"
           }
          ],
          "scattercarpet": [
           {
            "marker": {
             "colorbar": {
              "outlinewidth": 0,
              "ticks": ""
             }
            },
            "type": "scattercarpet"
           }
          ],
          "scattergeo": [
           {
            "marker": {
             "colorbar": {
              "outlinewidth": 0,
              "ticks": ""
             }
            },
            "type": "scattergeo"
           }
          ],
          "scattergl": [
           {
            "marker": {
             "colorbar": {
              "outlinewidth": 0,
              "ticks": ""
             }
            },
            "type": "scattergl"
           }
          ],
          "scattermapbox": [
           {
            "marker": {
             "colorbar": {
              "outlinewidth": 0,
              "ticks": ""
             }
            },
            "type": "scattermapbox"
           }
          ],
          "scatterpolar": [
           {
            "marker": {
             "colorbar": {
              "outlinewidth": 0,
              "ticks": ""
             }
            },
            "type": "scatterpolar"
           }
          ],
          "scatterpolargl": [
           {
            "marker": {
             "colorbar": {
              "outlinewidth": 0,
              "ticks": ""
             }
            },
            "type": "scatterpolargl"
           }
          ],
          "scatterternary": [
           {
            "marker": {
             "colorbar": {
              "outlinewidth": 0,
              "ticks": ""
             }
            },
            "type": "scatterternary"
           }
          ],
          "surface": [
           {
            "colorbar": {
             "outlinewidth": 0,
             "ticks": ""
            },
            "colorscale": [
             [
              0,
              "#0d0887"
             ],
             [
              0.1111111111111111,
              "#46039f"
             ],
             [
              0.2222222222222222,
              "#7201a8"
             ],
             [
              0.3333333333333333,
              "#9c179e"
             ],
             [
              0.4444444444444444,
              "#bd3786"
             ],
             [
              0.5555555555555556,
              "#d8576b"
             ],
             [
              0.6666666666666666,
              "#ed7953"
             ],
             [
              0.7777777777777778,
              "#fb9f3a"
             ],
             [
              0.8888888888888888,
              "#fdca26"
             ],
             [
              1,
              "#f0f921"
             ]
            ],
            "type": "surface"
           }
          ],
          "table": [
           {
            "cells": {
             "fill": {
              "color": "#EBF0F8"
             },
             "line": {
              "color": "white"
             }
            },
            "header": {
             "fill": {
              "color": "#C8D4E3"
             },
             "line": {
              "color": "white"
             }
            },
            "type": "table"
           }
          ]
         },
         "layout": {
          "annotationdefaults": {
           "arrowcolor": "#2a3f5f",
           "arrowhead": 0,
           "arrowwidth": 1
          },
          "autotypenumbers": "strict",
          "coloraxis": {
           "colorbar": {
            "outlinewidth": 0,
            "ticks": ""
           }
          },
          "colorscale": {
           "diverging": [
            [
             0,
             "#8e0152"
            ],
            [
             0.1,
             "#c51b7d"
            ],
            [
             0.2,
             "#de77ae"
            ],
            [
             0.3,
             "#f1b6da"
            ],
            [
             0.4,
             "#fde0ef"
            ],
            [
             0.5,
             "#f7f7f7"
            ],
            [
             0.6,
             "#e6f5d0"
            ],
            [
             0.7,
             "#b8e186"
            ],
            [
             0.8,
             "#7fbc41"
            ],
            [
             0.9,
             "#4d9221"
            ],
            [
             1,
             "#276419"
            ]
           ],
           "sequential": [
            [
             0,
             "#0d0887"
            ],
            [
             0.1111111111111111,
             "#46039f"
            ],
            [
             0.2222222222222222,
             "#7201a8"
            ],
            [
             0.3333333333333333,
             "#9c179e"
            ],
            [
             0.4444444444444444,
             "#bd3786"
            ],
            [
             0.5555555555555556,
             "#d8576b"
            ],
            [
             0.6666666666666666,
             "#ed7953"
            ],
            [
             0.7777777777777778,
             "#fb9f3a"
            ],
            [
             0.8888888888888888,
             "#fdca26"
            ],
            [
             1,
             "#f0f921"
            ]
           ],
           "sequentialminus": [
            [
             0,
             "#0d0887"
            ],
            [
             0.1111111111111111,
             "#46039f"
            ],
            [
             0.2222222222222222,
             "#7201a8"
            ],
            [
             0.3333333333333333,
             "#9c179e"
            ],
            [
             0.4444444444444444,
             "#bd3786"
            ],
            [
             0.5555555555555556,
             "#d8576b"
            ],
            [
             0.6666666666666666,
             "#ed7953"
            ],
            [
             0.7777777777777778,
             "#fb9f3a"
            ],
            [
             0.8888888888888888,
             "#fdca26"
            ],
            [
             1,
             "#f0f921"
            ]
           ]
          },
          "colorway": [
           "#636efa",
           "#EF553B",
           "#00cc96",
           "#ab63fa",
           "#FFA15A",
           "#19d3f3",
           "#FF6692",
           "#B6E880",
           "#FF97FF",
           "#FECB52"
          ],
          "font": {
           "color": "#2a3f5f"
          },
          "geo": {
           "bgcolor": "white",
           "lakecolor": "white",
           "landcolor": "#E5ECF6",
           "showlakes": true,
           "showland": true,
           "subunitcolor": "white"
          },
          "hoverlabel": {
           "align": "left"
          },
          "hovermode": "closest",
          "mapbox": {
           "style": "light"
          },
          "paper_bgcolor": "white",
          "plot_bgcolor": "#E5ECF6",
          "polar": {
           "angularaxis": {
            "gridcolor": "white",
            "linecolor": "white",
            "ticks": ""
           },
           "bgcolor": "#E5ECF6",
           "radialaxis": {
            "gridcolor": "white",
            "linecolor": "white",
            "ticks": ""
           }
          },
          "scene": {
           "xaxis": {
            "backgroundcolor": "#E5ECF6",
            "gridcolor": "white",
            "gridwidth": 2,
            "linecolor": "white",
            "showbackground": true,
            "ticks": "",
            "zerolinecolor": "white"
           },
           "yaxis": {
            "backgroundcolor": "#E5ECF6",
            "gridcolor": "white",
            "gridwidth": 2,
            "linecolor": "white",
            "showbackground": true,
            "ticks": "",
            "zerolinecolor": "white"
           },
           "zaxis": {
            "backgroundcolor": "#E5ECF6",
            "gridcolor": "white",
            "gridwidth": 2,
            "linecolor": "white",
            "showbackground": true,
            "ticks": "",
            "zerolinecolor": "white"
           }
          },
          "shapedefaults": {
           "line": {
            "color": "#2a3f5f"
           }
          },
          "ternary": {
           "aaxis": {
            "gridcolor": "white",
            "linecolor": "white",
            "ticks": ""
           },
           "baxis": {
            "gridcolor": "white",
            "linecolor": "white",
            "ticks": ""
           },
           "bgcolor": "#E5ECF6",
           "caxis": {
            "gridcolor": "white",
            "linecolor": "white",
            "ticks": ""
           }
          },
          "title": {
           "x": 0.05
          },
          "xaxis": {
           "automargin": true,
           "gridcolor": "white",
           "linecolor": "white",
           "ticks": "",
           "title": {
            "standoff": 15
           },
           "zerolinecolor": "white",
           "zerolinewidth": 2
          },
          "yaxis": {
           "automargin": true,
           "gridcolor": "white",
           "linecolor": "white",
           "ticks": "",
           "title": {
            "standoff": 15
           },
           "zerolinecolor": "white",
           "zerolinewidth": 2
          }
         }
        },
        "xaxis": {
         "anchor": "y",
         "domain": [
          0,
          1
         ],
         "title": {
          "text": "value"
         }
        },
        "yaxis": {
         "anchor": "x",
         "domain": [
          0,
          1
         ],
         "title": {
          "text": "count"
         }
        }
       }
      }
     },
     "metadata": {},
     "output_type": "display_data"
    }
   ],
   "source": [
    "px.histogram(port_df[['SMB_rets']]).show()"
   ]
  },
  {
   "cell_type": "code",
   "execution_count": 17,
   "id": "b11c1346",
   "metadata": {},
   "outputs": [],
   "source": [
    "port_df[\"date\"]= pd.to_datetime(port_df.date)"
   ]
  },
  {
   "cell_type": "code",
   "execution_count": 18,
   "id": "4273827e",
   "metadata": {},
   "outputs": [
    {
     "name": "stderr",
     "output_type": "stream",
     "text": [
      "/Library/Frameworks/Python.framework/Versions/3.9/lib/python3.9/site-packages/_plotly_utils/basevalidators.py:105: FutureWarning:\n",
      "\n",
      "The behavior of DatetimeProperties.to_pydatetime is deprecated, in a future version this will return a Series containing python datetime objects instead of an ndarray. To retain the old behavior, call `np.array` on the result\n",
      "\n"
     ]
    },
    {
     "data": {
      "application/vnd.plotly.v1+json": {
       "config": {
        "plotlyServerURL": "https://plot.ly"
       },
       "data": [
        {
         "alignmentgroup": "True",
         "hovertemplate": "date=%{x}<br>SMB_rets=%{y}<extra></extra>",
         "legendgroup": "",
         "marker": {
          "color": [
           "red",
           "green",
           "green",
           "green",
           "green",
           "red",
           "red",
           "red",
           "red",
           "green",
           "red",
           "green",
           "green",
           "red",
           "green",
           "red",
           "red",
           "green",
           "green",
           "green",
           "green",
           "red",
           "red",
           "green",
           "green",
           "red",
           "red",
           "red",
           "red",
           "green",
           "red",
           "green",
           "green",
           "green",
           "red",
           "green",
           "red",
           "red",
           "green",
           "green",
           "green",
           "green",
           "green",
           "green",
           "red",
           "red",
           "red",
           "green",
           "red",
           "green",
           "green",
           "green",
           "red",
           "green",
           "green",
           "red",
           "green",
           "green",
           "red",
           "green",
           "green",
           "red",
           "green",
           "green",
           "green",
           "green",
           "green",
           "red",
           "green",
           "green",
           "green",
           "red",
           "green",
           "green",
           "green",
           "green",
           "red",
           "red",
           "green",
           "green",
           "red",
           "red",
           "green",
           "red",
           "red",
           "green",
           "red",
           "green",
           "green",
           "green",
           "green",
           "green",
           "green",
           "red",
           "green",
           "red",
           "red",
           "green",
           "red",
           "red",
           "red",
           "red",
           "red",
           "green",
           "green",
           "red",
           "green",
           "green",
           "green",
           "green",
           "green",
           "green",
           "red",
           "green",
           "red",
           "green",
           "red",
           "red",
           "red",
           "green",
           "red",
           "red",
           "red",
           "red",
           "red",
           "green",
           "red",
           "green",
           "red",
           "green",
           "green",
           "green",
           "green",
           "red",
           "green",
           "red",
           "red",
           "red",
           "green",
           "red",
           "red",
           "green",
           "green",
           "green",
           "red",
           "green",
           "red",
           "red",
           "red",
           "green",
           "green",
           "green",
           "red",
           "green",
           "red",
           "green",
           "green",
           "green",
           "green",
           "green",
           "red",
           "green",
           "green",
           "green",
           "green",
           "green",
           "red",
           "green",
           "green",
           "green",
           "red",
           "red",
           "green",
           "red",
           "red",
           "green",
           "red",
           "green",
           "green",
           "red",
           "green",
           "green",
           "red",
           "green",
           "green",
           "green",
           "green",
           "red",
           "green",
           "green",
           "green",
           "green",
           "red",
           "green",
           "green",
           "red",
           "red",
           "red",
           "red",
           "green",
           "red",
           "green",
           "red",
           "green",
           "green",
           "red",
           "red",
           "red",
           "green",
           "red",
           "red",
           "red",
           "red",
           "red",
           "red",
           "green",
           "green",
           "red",
           "green",
           "red",
           "red",
           "green",
           "green",
           "red",
           "red",
           "red",
           "red",
           "green",
           "red",
           "green",
           "green",
           "green",
           "green",
           "green",
           "green",
           "green",
           "green",
           "red",
           "red",
           "green",
           "red",
           "green",
           "green",
           "red",
           "red",
           "green",
           "red",
           "green",
           "red",
           "red",
           "red",
           "green",
           "red",
           "green",
           "green",
           "red",
           "green",
           "red",
           "red",
           "red",
           "green",
           "red",
           "red",
           "green",
           "red",
           "red",
           "red",
           "green",
           "green",
           "red",
           "red",
           "green",
           "green",
           "red",
           "green",
           "green",
           "green",
           "green",
           "red",
           "green",
           "green",
           "red",
           "red",
           "green",
           "red",
           "green",
           "green",
           "green",
           "red",
           "red",
           "red",
           "red",
           "red",
           "red",
           "green",
           "red",
           "green",
           "green",
           "green",
           "red",
           "green",
           "red",
           "green",
           "green",
           "red",
           "red",
           "green",
           "red",
           "red",
           "red",
           "green",
           "red",
           "green",
           "red",
           "green",
           "red",
           "red",
           "green",
           "green",
           "red",
           "red",
           "green",
           "green",
           "red",
           "red",
           "red",
           "red",
           "red",
           "green",
           "green",
           "red",
           "green",
           "red",
           "green",
           "red",
           "red",
           "green",
           "green",
           "green",
           "red",
           "red",
           "red",
           "red",
           "red",
           "green",
           "red",
           "red",
           "green",
           "green",
           "red",
           "green",
           "red",
           "red",
           "red",
           "red",
           "green",
           "red",
           "red",
           "red",
           "red",
           "green",
           "red",
           "green",
           "red",
           "green",
           "red",
           "green",
           "green",
           "green",
           "green",
           "red",
           "green",
           "green",
           "green",
           "red",
           "green",
           "red",
           "red",
           "red",
           "green",
           "green",
           "red",
           "green",
           "green",
           "green",
           "red",
           "green",
           "red",
           "red",
           "green",
           "green"
          ],
          "pattern": {
           "shape": ""
          }
         },
         "name": "",
         "offsetgroup": "",
         "orientation": "v",
         "showlegend": false,
         "textposition": "auto",
         "type": "bar",
         "x": [
          "1990-02-28T00:00:00",
          "1990-03-31T00:00:00",
          "1990-04-30T00:00:00",
          "1990-05-31T00:00:00",
          "1990-06-30T00:00:00",
          "1990-07-31T00:00:00",
          "1990-08-31T00:00:00",
          "1990-09-30T00:00:00",
          "1990-10-31T00:00:00",
          "1990-11-30T00:00:00",
          "1990-12-31T00:00:00",
          "1991-01-31T00:00:00",
          "1991-02-28T00:00:00",
          "1991-03-31T00:00:00",
          "1991-04-30T00:00:00",
          "1991-05-31T00:00:00",
          "1991-06-30T00:00:00",
          "1991-07-31T00:00:00",
          "1991-08-31T00:00:00",
          "1991-09-30T00:00:00",
          "1991-10-31T00:00:00",
          "1991-11-30T00:00:00",
          "1991-12-31T00:00:00",
          "1992-01-31T00:00:00",
          "1992-02-29T00:00:00",
          "1992-03-31T00:00:00",
          "1992-04-30T00:00:00",
          "1992-05-31T00:00:00",
          "1992-06-30T00:00:00",
          "1992-07-31T00:00:00",
          "1992-08-31T00:00:00",
          "1992-09-30T00:00:00",
          "1992-10-31T00:00:00",
          "1992-11-30T00:00:00",
          "1992-12-31T00:00:00",
          "1993-01-31T00:00:00",
          "1993-02-28T00:00:00",
          "1993-03-31T00:00:00",
          "1993-04-30T00:00:00",
          "1993-05-31T00:00:00",
          "1993-06-30T00:00:00",
          "1993-07-31T00:00:00",
          "1993-08-31T00:00:00",
          "1993-09-30T00:00:00",
          "1993-10-31T00:00:00",
          "1993-11-30T00:00:00",
          "1993-12-31T00:00:00",
          "1994-01-31T00:00:00",
          "1994-02-28T00:00:00",
          "1994-03-31T00:00:00",
          "1994-04-30T00:00:00",
          "1994-05-31T00:00:00",
          "1994-06-30T00:00:00",
          "1994-07-31T00:00:00",
          "1994-08-31T00:00:00",
          "1994-09-30T00:00:00",
          "1994-10-31T00:00:00",
          "1994-11-30T00:00:00",
          "1994-12-31T00:00:00",
          "1995-01-31T00:00:00",
          "1995-02-28T00:00:00",
          "1995-03-31T00:00:00",
          "1995-04-30T00:00:00",
          "1995-05-31T00:00:00",
          "1995-06-30T00:00:00",
          "1995-07-31T00:00:00",
          "1995-08-31T00:00:00",
          "1995-09-30T00:00:00",
          "1995-10-31T00:00:00",
          "1995-11-30T00:00:00",
          "1995-12-31T00:00:00",
          "1996-01-31T00:00:00",
          "1996-02-29T00:00:00",
          "1996-03-31T00:00:00",
          "1996-04-30T00:00:00",
          "1996-05-31T00:00:00",
          "1996-06-30T00:00:00",
          "1996-07-31T00:00:00",
          "1996-08-31T00:00:00",
          "1996-09-30T00:00:00",
          "1996-10-31T00:00:00",
          "1996-11-30T00:00:00",
          "1996-12-31T00:00:00",
          "1997-01-31T00:00:00",
          "1997-02-28T00:00:00",
          "1997-03-31T00:00:00",
          "1997-04-30T00:00:00",
          "1997-05-31T00:00:00",
          "1997-06-30T00:00:00",
          "1997-07-31T00:00:00",
          "1997-08-31T00:00:00",
          "1997-09-30T00:00:00",
          "1997-10-31T00:00:00",
          "1997-11-30T00:00:00",
          "1997-12-31T00:00:00",
          "1998-01-31T00:00:00",
          "1998-02-28T00:00:00",
          "1998-03-31T00:00:00",
          "1998-04-30T00:00:00",
          "1998-05-31T00:00:00",
          "1998-06-30T00:00:00",
          "1998-07-31T00:00:00",
          "1998-08-31T00:00:00",
          "1998-09-30T00:00:00",
          "1998-10-31T00:00:00",
          "1998-11-30T00:00:00",
          "1998-12-31T00:00:00",
          "1999-01-31T00:00:00",
          "1999-02-28T00:00:00",
          "1999-03-31T00:00:00",
          "1999-04-30T00:00:00",
          "1999-05-31T00:00:00",
          "1999-06-30T00:00:00",
          "1999-07-31T00:00:00",
          "1999-08-31T00:00:00",
          "1999-09-30T00:00:00",
          "1999-10-31T00:00:00",
          "1999-11-30T00:00:00",
          "1999-12-31T00:00:00",
          "2000-01-31T00:00:00",
          "2000-02-29T00:00:00",
          "2000-03-31T00:00:00",
          "2000-04-30T00:00:00",
          "2000-05-31T00:00:00",
          "2000-06-30T00:00:00",
          "2000-07-31T00:00:00",
          "2000-08-31T00:00:00",
          "2000-09-30T00:00:00",
          "2000-10-31T00:00:00",
          "2000-11-30T00:00:00",
          "2000-12-31T00:00:00",
          "2001-01-31T00:00:00",
          "2001-02-28T00:00:00",
          "2001-03-31T00:00:00",
          "2001-04-30T00:00:00",
          "2001-05-31T00:00:00",
          "2001-06-30T00:00:00",
          "2001-07-31T00:00:00",
          "2001-08-31T00:00:00",
          "2001-09-30T00:00:00",
          "2001-10-31T00:00:00",
          "2001-11-30T00:00:00",
          "2001-12-31T00:00:00",
          "2002-01-31T00:00:00",
          "2002-02-28T00:00:00",
          "2002-03-31T00:00:00",
          "2002-04-30T00:00:00",
          "2002-05-31T00:00:00",
          "2002-06-30T00:00:00",
          "2002-07-31T00:00:00",
          "2002-08-31T00:00:00",
          "2002-09-30T00:00:00",
          "2002-10-31T00:00:00",
          "2002-11-30T00:00:00",
          "2002-12-31T00:00:00",
          "2003-01-31T00:00:00",
          "2003-02-28T00:00:00",
          "2003-03-31T00:00:00",
          "2003-04-30T00:00:00",
          "2003-05-31T00:00:00",
          "2003-06-30T00:00:00",
          "2003-07-31T00:00:00",
          "2003-08-31T00:00:00",
          "2003-09-30T00:00:00",
          "2003-10-31T00:00:00",
          "2003-11-30T00:00:00",
          "2003-12-31T00:00:00",
          "2004-01-31T00:00:00",
          "2004-02-29T00:00:00",
          "2004-03-31T00:00:00",
          "2004-04-30T00:00:00",
          "2004-05-31T00:00:00",
          "2004-06-30T00:00:00",
          "2004-07-31T00:00:00",
          "2004-08-31T00:00:00",
          "2004-09-30T00:00:00",
          "2004-10-31T00:00:00",
          "2004-11-30T00:00:00",
          "2004-12-31T00:00:00",
          "2005-01-31T00:00:00",
          "2005-02-28T00:00:00",
          "2005-03-31T00:00:00",
          "2005-04-30T00:00:00",
          "2005-05-31T00:00:00",
          "2005-06-30T00:00:00",
          "2005-07-31T00:00:00",
          "2005-08-31T00:00:00",
          "2005-09-30T00:00:00",
          "2005-10-31T00:00:00",
          "2005-11-30T00:00:00",
          "2005-12-31T00:00:00",
          "2006-01-31T00:00:00",
          "2006-02-28T00:00:00",
          "2006-03-31T00:00:00",
          "2006-04-30T00:00:00",
          "2006-05-31T00:00:00",
          "2006-06-30T00:00:00",
          "2006-07-31T00:00:00",
          "2006-08-31T00:00:00",
          "2006-09-30T00:00:00",
          "2006-10-31T00:00:00",
          "2006-11-30T00:00:00",
          "2006-12-31T00:00:00",
          "2007-01-31T00:00:00",
          "2007-02-28T00:00:00",
          "2007-03-31T00:00:00",
          "2007-04-30T00:00:00",
          "2007-05-31T00:00:00",
          "2007-06-30T00:00:00",
          "2007-07-31T00:00:00",
          "2007-08-31T00:00:00",
          "2007-09-30T00:00:00",
          "2007-10-31T00:00:00",
          "2007-11-30T00:00:00",
          "2007-12-31T00:00:00",
          "2008-01-31T00:00:00",
          "2008-02-29T00:00:00",
          "2008-03-31T00:00:00",
          "2008-04-30T00:00:00",
          "2008-05-31T00:00:00",
          "2008-06-30T00:00:00",
          "2008-07-31T00:00:00",
          "2008-08-31T00:00:00",
          "2008-09-30T00:00:00",
          "2008-10-31T00:00:00",
          "2008-11-30T00:00:00",
          "2008-12-31T00:00:00",
          "2009-01-31T00:00:00",
          "2009-02-28T00:00:00",
          "2009-03-31T00:00:00",
          "2009-04-30T00:00:00",
          "2009-05-31T00:00:00",
          "2009-06-30T00:00:00",
          "2009-07-31T00:00:00",
          "2009-08-31T00:00:00",
          "2009-09-30T00:00:00",
          "2009-10-31T00:00:00",
          "2009-11-30T00:00:00",
          "2009-12-31T00:00:00",
          "2010-01-31T00:00:00",
          "2010-02-28T00:00:00",
          "2010-03-31T00:00:00",
          "2010-04-30T00:00:00",
          "2010-05-31T00:00:00",
          "2010-06-30T00:00:00",
          "2010-07-31T00:00:00",
          "2010-08-31T00:00:00",
          "2010-09-30T00:00:00",
          "2010-10-31T00:00:00",
          "2010-11-30T00:00:00",
          "2010-12-31T00:00:00",
          "2011-01-31T00:00:00",
          "2011-02-28T00:00:00",
          "2011-03-31T00:00:00",
          "2011-04-30T00:00:00",
          "2011-05-31T00:00:00",
          "2011-06-30T00:00:00",
          "2011-07-31T00:00:00",
          "2011-08-31T00:00:00",
          "2011-09-30T00:00:00",
          "2011-10-31T00:00:00",
          "2011-11-30T00:00:00",
          "2011-12-31T00:00:00",
          "2012-01-31T00:00:00",
          "2012-02-29T00:00:00",
          "2012-03-31T00:00:00",
          "2012-04-30T00:00:00",
          "2012-05-31T00:00:00",
          "2012-06-30T00:00:00",
          "2012-07-31T00:00:00",
          "2012-08-31T00:00:00",
          "2012-09-30T00:00:00",
          "2012-10-31T00:00:00",
          "2012-11-30T00:00:00",
          "2012-12-31T00:00:00",
          "2013-01-31T00:00:00",
          "2013-02-28T00:00:00",
          "2013-03-31T00:00:00",
          "2013-04-30T00:00:00",
          "2013-05-31T00:00:00",
          "2013-06-30T00:00:00",
          "2013-07-31T00:00:00",
          "2013-08-31T00:00:00",
          "2013-09-30T00:00:00",
          "2013-10-31T00:00:00",
          "2013-11-30T00:00:00",
          "2013-12-31T00:00:00",
          "2014-01-31T00:00:00",
          "2014-02-28T00:00:00",
          "2014-03-31T00:00:00",
          "2014-04-30T00:00:00",
          "2014-05-31T00:00:00",
          "2014-06-30T00:00:00",
          "2014-07-31T00:00:00",
          "2014-08-31T00:00:00",
          "2014-09-30T00:00:00",
          "2014-10-31T00:00:00",
          "2014-11-30T00:00:00",
          "2014-12-31T00:00:00",
          "2015-01-31T00:00:00",
          "2015-02-28T00:00:00",
          "2015-03-31T00:00:00",
          "2015-04-30T00:00:00",
          "2015-05-31T00:00:00",
          "2015-06-30T00:00:00",
          "2015-07-31T00:00:00",
          "2015-08-31T00:00:00",
          "2015-09-30T00:00:00",
          "2015-10-31T00:00:00",
          "2015-11-30T00:00:00",
          "2015-12-31T00:00:00",
          "2016-01-31T00:00:00",
          "2016-02-29T00:00:00",
          "2016-03-31T00:00:00",
          "2016-04-30T00:00:00",
          "2016-05-31T00:00:00",
          "2016-06-30T00:00:00",
          "2016-07-31T00:00:00",
          "2016-08-31T00:00:00",
          "2016-09-30T00:00:00",
          "2016-10-31T00:00:00",
          "2016-11-30T00:00:00",
          "2016-12-31T00:00:00",
          "2017-01-31T00:00:00",
          "2017-02-28T00:00:00",
          "2017-03-31T00:00:00",
          "2017-04-30T00:00:00",
          "2017-05-31T00:00:00",
          "2017-06-30T00:00:00",
          "2017-07-31T00:00:00",
          "2017-08-31T00:00:00",
          "2017-09-30T00:00:00",
          "2017-10-31T00:00:00",
          "2017-11-30T00:00:00",
          "2017-12-31T00:00:00",
          "2018-01-31T00:00:00",
          "2018-02-28T00:00:00",
          "2018-03-31T00:00:00",
          "2018-04-30T00:00:00",
          "2018-05-31T00:00:00",
          "2018-06-30T00:00:00",
          "2018-07-31T00:00:00",
          "2018-08-31T00:00:00",
          "2018-09-30T00:00:00",
          "2018-10-31T00:00:00",
          "2018-11-30T00:00:00",
          "2018-12-31T00:00:00",
          "2019-01-31T00:00:00",
          "2019-02-28T00:00:00",
          "2019-03-31T00:00:00",
          "2019-04-30T00:00:00",
          "2019-05-31T00:00:00",
          "2019-06-30T00:00:00",
          "2019-07-31T00:00:00",
          "2019-08-31T00:00:00",
          "2019-09-30T00:00:00",
          "2019-10-31T00:00:00",
          "2019-11-30T00:00:00",
          "2019-12-31T00:00:00",
          "2020-01-31T00:00:00",
          "2020-02-29T00:00:00",
          "2020-03-31T00:00:00",
          "2020-04-30T00:00:00",
          "2020-05-31T00:00:00",
          "2020-06-30T00:00:00",
          "2020-07-31T00:00:00",
          "2020-08-31T00:00:00",
          "2020-09-30T00:00:00",
          "2020-10-31T00:00:00",
          "2020-11-30T00:00:00",
          "2020-12-31T00:00:00",
          "2021-01-31T00:00:00",
          "2021-02-28T00:00:00",
          "2021-03-31T00:00:00",
          "2021-04-30T00:00:00",
          "2021-05-31T00:00:00",
          "2021-06-30T00:00:00",
          "2021-07-31T00:00:00",
          "2021-08-31T00:00:00",
          "2021-09-30T00:00:00",
          "2021-10-31T00:00:00",
          "2021-11-30T00:00:00",
          "2021-12-31T00:00:00",
          "2022-01-31T00:00:00",
          "2022-02-28T00:00:00",
          "2022-03-31T00:00:00",
          "2022-04-30T00:00:00",
          "2022-05-31T00:00:00",
          "2022-06-30T00:00:00",
          "2022-07-31T00:00:00",
          "2022-08-31T00:00:00"
         ],
         "xaxis": "x",
         "y": [
          null,
          0.13882902034177305,
          0.3015313902629197,
          0.09007963728897415,
          0.02611727669468004,
          -0.1947595343285732,
          -0.030669124718404883,
          -0.1560463379936032,
          -0.10823966819104064,
          0.055807962310125366,
          -0.07054983699385287,
          0.15603229615452707,
          0.05949203628312645,
          -0.028238696945099985,
          0.04857177103092298,
          -0.08389755969678246,
          -0.02450222631713153,
          0.032216195653119395,
          0.039665738807617416,
          0.12111703078025272,
          0.26147649015587066,
          -0.04224872415507569,
          -0.011441481923803384,
          0.25394754704725586,
          0.12156228522965605,
          -0.034620887605006194,
          -0.09797121374723596,
          -0.08342942829188073,
          -0.0783728962307266,
          0.12012049975726237,
          -0.13421764625211408,
          0.033058043456874,
          0.04324565967974012,
          0.23841876966870318,
          -0.027839668445493605,
          0.14518445573733013,
          -0.0025631071232956135,
          -0.038531602617028544,
          0.023530779810869498,
          0.15856796197520645,
          0.12392121345235661,
          0.10385493711815404,
          0.10615317004247345,
          0.024624067260593532,
          -0.007628017316454738,
          -0.036635468034338904,
          -0.027913164159390783,
          0.0531030410322537,
          -0.029153207604184564,
          0.0255713509075301,
          0.09341276820836589,
          0.01221182013337517,
          -0.09963031852887624,
          0.04593201288974845,
          0.155352792155303,
          -0.02967889421493071,
          0.036108950017719646,
          0.0013140287581755311,
          -0.04464143489380089,
          0.20560823847778106,
          0.10020646425222396,
          -0.052954855604537276,
          0.06939883947965518,
          0.13785376601331387,
          0.08848898144166475,
          0.0808630269865125,
          0.06398375625550887,
          -0.037063914046985835,
          0.02735523591792134,
          0.017071496811925407,
          0.061347093239602246,
          -0.07528173612065155,
          0.11269493947710404,
          0.13138337778533998,
          0.23187064217405245,
          0.09031628182561177,
          -0.09762312490747847,
          -0.039087514570332285,
          0.07522373957059311,
          0.10902624453296753,
          -0.07031017934960059,
          -0.02299888999561417,
          0.11863639574405362,
          -0.09087561284581322,
          -0.01105498421328837,
          0.022462711785986418,
          -0.20264654131234458,
          0.09498114594838201,
          0.021220053698597037,
          0.02509736007243904,
          0.20241917518615288,
          0.06461638316075125,
          0.07559553181757389,
          -0.08580162828902223,
          0.029589514758313198,
          -0.05860541324981124,
          -0.1099271177032317,
          0.03254421575096075,
          -0.029762441958266776,
          -0.023751829559819075,
          -0.11572321980775613,
          -0.04565845423875749,
          -0.09204336855062814,
          0.2579250473183754,
          0.13450364853651564,
          -0.028478756146078435,
          0.027732754240889848,
          0.09237484277820751,
          0.047457100743670405,
          0.06444347479117345,
          0.30786113282891514,
          0.03302652298011177,
          -0.09479676429002892,
          0.047015458680067825,
          -0.08469401160851059,
          0.14499614815010603,
          -0.021067243768978935,
          -0.04593909615285469,
          -0.17360838149003993,
          0.02129724597644706,
          -0.04387009017361598,
          -0.1577693328412789,
          -0.023455802709295148,
          -0.01506631536902655,
          -0.018463976087196562,
          0.12198539828541838,
          -0.00041554060145998495,
          0.03421318254008665,
          -0.19852067031115395,
          0.05326100983728479,
          0.16363478186377348,
          0.5567369915992604,
          0.2775962470725759,
          -0.1175971050468053,
          0.24926921574258085,
          -0.07943346210387475,
          -0.03242316178936785,
          -0.016022396839451947,
          0.22079085201256854,
          -0.1540905346556078,
          -0.057424908022665824,
          0.027160439416033244,
          0.03830026815001014,
          0.03942263787871122,
          -0.05276358417954869,
          0.22266608744224367,
          -0.08097045791021691,
          -0.03288255484948513,
          -0.14578851617048405,
          0.009022228747351965,
          0.014439280507996408,
          0.020848427204084363,
          -0.18725491744324407,
          0.18451704593747695,
          -0.040404438812437785,
          0.14501086414100586,
          0.027209022782790193,
          0.0435645550337037,
          0.2951672548713474,
          0.2853829818835103,
          -0.004647965018914783,
          0.10858592815241792,
          0.020745328076117765,
          0.23894964539184074,
          0.021643981396778318,
          0.1220010546142665,
          -0.06407389592639554,
          0.21516170049395933,
          0.031943317911759785,
          0.0508844082665884,
          -0.00705861045281464,
          -0.05267841060384376,
          0.3682809667972592,
          -0.08379872722177371,
          -0.038643196785561953,
          0.00871125487834939,
          -0.0017114621676338863,
          0.08795510233357663,
          0.06788855319946724,
          -0.0714194512558598,
          0.04166116149009428,
          0.1003746759247215,
          -0.10580449044213905,
          0.07524389697216105,
          0.08188760755630294,
          0.10166912722776425,
          0.00981526442434661,
          -0.010123721587748213,
          0.04137006213589175,
          0.017174397792465046,
          0.010207034003663983,
          0.021566596431211497,
          -0.005813256060069832,
          0.0001275976373890618,
          0.09754690418831541,
          -0.03660545319575309,
          -0.04925133193817255,
          -0.10079747753734761,
          -0.05777799636726724,
          0.061976262892775365,
          -0.024410387676794855,
          0.07533627546758948,
          -0.05916838344939192,
          0.015609987534321343,
          0.010510305779865364,
          -0.02994177085323961,
          -0.07935100949757042,
          -0.16472970279496096,
          0.05698230843078976,
          -0.07483121321897944,
          -0.056053869986519414,
          -0.11075921200342241,
          -0.057859093323386235,
          -0.14693211481680488,
          -0.17129665087837184,
          0.1092079393079117,
          0.2135989484594702,
          -0.07104100278835339,
          0.07876047302106787,
          -0.0442640699100179,
          -0.06654987447544322,
          0.0009169212719865039,
          0.07293889768787386,
          -0.14901967175950842,
          -0.19013953236341746,
          -0.007385222857364301,
          -0.05542800230918929,
          0.09226522951713674,
          -0.1797317632513968,
          0.3476773052120619,
          0.5788940574518572,
          0.09004797574633977,
          0.08782452486566303,
          0.15010545619522633,
          0.5513176913908859,
          0.17175645263333975,
          0.017647191406972587,
          -0.1128849081523701,
          -0.011985113345379121,
          0.178632580437868,
          -0.0002132005952488747,
          0.0645392277737012,
          0.2737484271458186,
          -0.014674831986895301,
          -0.16841022631325453,
          0.2867470496727034,
          -0.12364848066948185,
          0.03746163228870367,
          -0.03291291539906234,
          -0.02498314177870008,
          -0.03322137434260841,
          0.043326681358299715,
          -0.009098572698754928,
          0.06901048644939553,
          0.06149855229009374,
          -0.12058558723834852,
          0.08077252434041379,
          -0.05514764926956556,
          -0.05708595577638605,
          -0.1970781122365189,
          0.15087202458926965,
          -0.04768746526071642,
          -0.08563798915779988,
          0.03037269166762041,
          -0.10615994014483496,
          -0.022468873006035034,
          -0.019183055343214073,
          0.020965234659154605,
          0.09173075959738239,
          -0.08615658153255483,
          -0.04919721144581447,
          0.03048700160579597,
          0.07674901410139238,
          -0.003610401897174667,
          0.1982467683705571,
          0.10872274858703085,
          0.04535715120462337,
          0.03763979511765224,
          -0.015193878217242829,
          0.2296417328782563,
          0.06674644800747392,
          -0.034398046997835253,
          -0.09108119012882425,
          0.09071347350028107,
          -0.15801944291859696,
          0.028666638464767316,
          0.04349871221489243,
          0.024087281280417774,
          -0.0013453627378531285,
          -0.06923953135475774,
          -0.1033826723602547,
          -0.0492572138323244,
          -0.03617034508778151,
          -0.07930859598753406,
          0.24806715872662688,
          -0.10814292188427614,
          0.09399265177722994,
          0.017737573380722974,
          0.02648543023288699,
          -0.06124424977313626,
          0.128516346906061,
          -0.00575690557906201,
          0.015741025644591303,
          0.04222747511148228,
          -0.05747682760524955,
          -0.049581877380623654,
          0.18434494406076657,
          -0.08461948989726954,
          -0.13153801435240858,
          -0.12879080719226982,
          0.021507161733674673,
          -0.061998609140626285,
          0.0471088543888179,
          -0.049671819647186505,
          0.1287864518902898,
          -0.10510006330160225,
          -0.04638565918636249,
          0.01651469616105815,
          0.18916946742275365,
          -0.11292480323291829,
          -0.08613014574600707,
          0.38956538835802035,
          0.02189201960858561,
          -0.0254833250219237,
          -0.043972339531019436,
          -0.0465749361890502,
          -0.023635530904547092,
          -0.14174768564533166,
          0.13877742830136006,
          0.01067945618349847,
          -0.1117703235191898,
          0.15160365887222,
          -0.04380675088978531,
          0.17299555278757217,
          -0.01821005978451297,
          -0.1459809623224059,
          0.03997602712109974,
          0.09536415176185177,
          0.045537601252151054,
          -0.08832543177686221,
          -0.09329196451764366,
          -0.19871451056509176,
          -0.15209265951419393,
          -0.12931100294714057,
          0.03101459202261514,
          -0.01155926253731732,
          -0.13174491442504566,
          0.145289456397279,
          0.002114102856657373,
          -0.18917122045566714,
          0.005475851250807379,
          -0.08421318151867602,
          -0.08824155089699898,
          -0.006876575106795915,
          -0.14618909714012032,
          0.20877412492085842,
          -0.0012946005889999182,
          -0.029134097780822602,
          -0.05570071205753465,
          -0.20194146898875942,
          0.013999879406801828,
          -0.4011845478812502,
          0.06552095603710564,
          -0.1725455181517113,
          0.46948898465336286,
          -0.03159287409953665,
          0.02811821898956618,
          0.38300379248694544,
          0.0821725226641887,
          0.2813934703543665,
          -0.04680176080099897,
          0.01667338309858098,
          0.18949078367652078,
          0.21648939727648578,
          -0.01172920226219304,
          0.02344555755172454,
          -0.06883668869559723,
          -0.06340098053748126,
          -0.02167971293764759,
          0.12895552961909618,
          0.01907603929645059,
          -0.02593538522194575,
          0.06673156600695668,
          0.01239680312573125,
          0.015135513632861886,
          -0.10191809643038674,
          0.07680715489450743,
          -0.03280356742290064,
          -0.06254288873445672,
          0.10722416143335957,
          0.47268393387219354
         ],
         "yaxis": "y"
        }
       ],
       "layout": {
        "barmode": "relative",
        "legend": {
         "tracegroupgap": 0
        },
        "margin": {
         "t": 60
        },
        "template": {
         "data": {
          "bar": [
           {
            "error_x": {
             "color": "#2a3f5f"
            },
            "error_y": {
             "color": "#2a3f5f"
            },
            "marker": {
             "line": {
              "color": "#E5ECF6",
              "width": 0.5
             },
             "pattern": {
              "fillmode": "overlay",
              "size": 10,
              "solidity": 0.2
             }
            },
            "type": "bar"
           }
          ],
          "barpolar": [
           {
            "marker": {
             "line": {
              "color": "#E5ECF6",
              "width": 0.5
             },
             "pattern": {
              "fillmode": "overlay",
              "size": 10,
              "solidity": 0.2
             }
            },
            "type": "barpolar"
           }
          ],
          "carpet": [
           {
            "aaxis": {
             "endlinecolor": "#2a3f5f",
             "gridcolor": "white",
             "linecolor": "white",
             "minorgridcolor": "white",
             "startlinecolor": "#2a3f5f"
            },
            "baxis": {
             "endlinecolor": "#2a3f5f",
             "gridcolor": "white",
             "linecolor": "white",
             "minorgridcolor": "white",
             "startlinecolor": "#2a3f5f"
            },
            "type": "carpet"
           }
          ],
          "choropleth": [
           {
            "colorbar": {
             "outlinewidth": 0,
             "ticks": ""
            },
            "type": "choropleth"
           }
          ],
          "contour": [
           {
            "colorbar": {
             "outlinewidth": 0,
             "ticks": ""
            },
            "colorscale": [
             [
              0,
              "#0d0887"
             ],
             [
              0.1111111111111111,
              "#46039f"
             ],
             [
              0.2222222222222222,
              "#7201a8"
             ],
             [
              0.3333333333333333,
              "#9c179e"
             ],
             [
              0.4444444444444444,
              "#bd3786"
             ],
             [
              0.5555555555555556,
              "#d8576b"
             ],
             [
              0.6666666666666666,
              "#ed7953"
             ],
             [
              0.7777777777777778,
              "#fb9f3a"
             ],
             [
              0.8888888888888888,
              "#fdca26"
             ],
             [
              1,
              "#f0f921"
             ]
            ],
            "type": "contour"
           }
          ],
          "contourcarpet": [
           {
            "colorbar": {
             "outlinewidth": 0,
             "ticks": ""
            },
            "type": "contourcarpet"
           }
          ],
          "heatmap": [
           {
            "colorbar": {
             "outlinewidth": 0,
             "ticks": ""
            },
            "colorscale": [
             [
              0,
              "#0d0887"
             ],
             [
              0.1111111111111111,
              "#46039f"
             ],
             [
              0.2222222222222222,
              "#7201a8"
             ],
             [
              0.3333333333333333,
              "#9c179e"
             ],
             [
              0.4444444444444444,
              "#bd3786"
             ],
             [
              0.5555555555555556,
              "#d8576b"
             ],
             [
              0.6666666666666666,
              "#ed7953"
             ],
             [
              0.7777777777777778,
              "#fb9f3a"
             ],
             [
              0.8888888888888888,
              "#fdca26"
             ],
             [
              1,
              "#f0f921"
             ]
            ],
            "type": "heatmap"
           }
          ],
          "heatmapgl": [
           {
            "colorbar": {
             "outlinewidth": 0,
             "ticks": ""
            },
            "colorscale": [
             [
              0,
              "#0d0887"
             ],
             [
              0.1111111111111111,
              "#46039f"
             ],
             [
              0.2222222222222222,
              "#7201a8"
             ],
             [
              0.3333333333333333,
              "#9c179e"
             ],
             [
              0.4444444444444444,
              "#bd3786"
             ],
             [
              0.5555555555555556,
              "#d8576b"
             ],
             [
              0.6666666666666666,
              "#ed7953"
             ],
             [
              0.7777777777777778,
              "#fb9f3a"
             ],
             [
              0.8888888888888888,
              "#fdca26"
             ],
             [
              1,
              "#f0f921"
             ]
            ],
            "type": "heatmapgl"
           }
          ],
          "histogram": [
           {
            "marker": {
             "pattern": {
              "fillmode": "overlay",
              "size": 10,
              "solidity": 0.2
             }
            },
            "type": "histogram"
           }
          ],
          "histogram2d": [
           {
            "colorbar": {
             "outlinewidth": 0,
             "ticks": ""
            },
            "colorscale": [
             [
              0,
              "#0d0887"
             ],
             [
              0.1111111111111111,
              "#46039f"
             ],
             [
              0.2222222222222222,
              "#7201a8"
             ],
             [
              0.3333333333333333,
              "#9c179e"
             ],
             [
              0.4444444444444444,
              "#bd3786"
             ],
             [
              0.5555555555555556,
              "#d8576b"
             ],
             [
              0.6666666666666666,
              "#ed7953"
             ],
             [
              0.7777777777777778,
              "#fb9f3a"
             ],
             [
              0.8888888888888888,
              "#fdca26"
             ],
             [
              1,
              "#f0f921"
             ]
            ],
            "type": "histogram2d"
           }
          ],
          "histogram2dcontour": [
           {
            "colorbar": {
             "outlinewidth": 0,
             "ticks": ""
            },
            "colorscale": [
             [
              0,
              "#0d0887"
             ],
             [
              0.1111111111111111,
              "#46039f"
             ],
             [
              0.2222222222222222,
              "#7201a8"
             ],
             [
              0.3333333333333333,
              "#9c179e"
             ],
             [
              0.4444444444444444,
              "#bd3786"
             ],
             [
              0.5555555555555556,
              "#d8576b"
             ],
             [
              0.6666666666666666,
              "#ed7953"
             ],
             [
              0.7777777777777778,
              "#fb9f3a"
             ],
             [
              0.8888888888888888,
              "#fdca26"
             ],
             [
              1,
              "#f0f921"
             ]
            ],
            "type": "histogram2dcontour"
           }
          ],
          "mesh3d": [
           {
            "colorbar": {
             "outlinewidth": 0,
             "ticks": ""
            },
            "type": "mesh3d"
           }
          ],
          "parcoords": [
           {
            "line": {
             "colorbar": {
              "outlinewidth": 0,
              "ticks": ""
             }
            },
            "type": "parcoords"
           }
          ],
          "pie": [
           {
            "automargin": true,
            "type": "pie"
           }
          ],
          "scatter": [
           {
            "fillpattern": {
             "fillmode": "overlay",
             "size": 10,
             "solidity": 0.2
            },
            "type": "scatter"
           }
          ],
          "scatter3d": [
           {
            "line": {
             "colorbar": {
              "outlinewidth": 0,
              "ticks": ""
             }
            },
            "marker": {
             "colorbar": {
              "outlinewidth": 0,
              "ticks": ""
             }
            },
            "type": "scatter3d"
           }
          ],
          "scattercarpet": [
           {
            "marker": {
             "colorbar": {
              "outlinewidth": 0,
              "ticks": ""
             }
            },
            "type": "scattercarpet"
           }
          ],
          "scattergeo": [
           {
            "marker": {
             "colorbar": {
              "outlinewidth": 0,
              "ticks": ""
             }
            },
            "type": "scattergeo"
           }
          ],
          "scattergl": [
           {
            "marker": {
             "colorbar": {
              "outlinewidth": 0,
              "ticks": ""
             }
            },
            "type": "scattergl"
           }
          ],
          "scattermapbox": [
           {
            "marker": {
             "colorbar": {
              "outlinewidth": 0,
              "ticks": ""
             }
            },
            "type": "scattermapbox"
           }
          ],
          "scatterpolar": [
           {
            "marker": {
             "colorbar": {
              "outlinewidth": 0,
              "ticks": ""
             }
            },
            "type": "scatterpolar"
           }
          ],
          "scatterpolargl": [
           {
            "marker": {
             "colorbar": {
              "outlinewidth": 0,
              "ticks": ""
             }
            },
            "type": "scatterpolargl"
           }
          ],
          "scatterternary": [
           {
            "marker": {
             "colorbar": {
              "outlinewidth": 0,
              "ticks": ""
             }
            },
            "type": "scatterternary"
           }
          ],
          "surface": [
           {
            "colorbar": {
             "outlinewidth": 0,
             "ticks": ""
            },
            "colorscale": [
             [
              0,
              "#0d0887"
             ],
             [
              0.1111111111111111,
              "#46039f"
             ],
             [
              0.2222222222222222,
              "#7201a8"
             ],
             [
              0.3333333333333333,
              "#9c179e"
             ],
             [
              0.4444444444444444,
              "#bd3786"
             ],
             [
              0.5555555555555556,
              "#d8576b"
             ],
             [
              0.6666666666666666,
              "#ed7953"
             ],
             [
              0.7777777777777778,
              "#fb9f3a"
             ],
             [
              0.8888888888888888,
              "#fdca26"
             ],
             [
              1,
              "#f0f921"
             ]
            ],
            "type": "surface"
           }
          ],
          "table": [
           {
            "cells": {
             "fill": {
              "color": "#EBF0F8"
             },
             "line": {
              "color": "white"
             }
            },
            "header": {
             "fill": {
              "color": "#C8D4E3"
             },
             "line": {
              "color": "white"
             }
            },
            "type": "table"
           }
          ]
         },
         "layout": {
          "annotationdefaults": {
           "arrowcolor": "#2a3f5f",
           "arrowhead": 0,
           "arrowwidth": 1
          },
          "autotypenumbers": "strict",
          "coloraxis": {
           "colorbar": {
            "outlinewidth": 0,
            "ticks": ""
           }
          },
          "colorscale": {
           "diverging": [
            [
             0,
             "#8e0152"
            ],
            [
             0.1,
             "#c51b7d"
            ],
            [
             0.2,
             "#de77ae"
            ],
            [
             0.3,
             "#f1b6da"
            ],
            [
             0.4,
             "#fde0ef"
            ],
            [
             0.5,
             "#f7f7f7"
            ],
            [
             0.6,
             "#e6f5d0"
            ],
            [
             0.7,
             "#b8e186"
            ],
            [
             0.8,
             "#7fbc41"
            ],
            [
             0.9,
             "#4d9221"
            ],
            [
             1,
             "#276419"
            ]
           ],
           "sequential": [
            [
             0,
             "#0d0887"
            ],
            [
             0.1111111111111111,
             "#46039f"
            ],
            [
             0.2222222222222222,
             "#7201a8"
            ],
            [
             0.3333333333333333,
             "#9c179e"
            ],
            [
             0.4444444444444444,
             "#bd3786"
            ],
            [
             0.5555555555555556,
             "#d8576b"
            ],
            [
             0.6666666666666666,
             "#ed7953"
            ],
            [
             0.7777777777777778,
             "#fb9f3a"
            ],
            [
             0.8888888888888888,
             "#fdca26"
            ],
            [
             1,
             "#f0f921"
            ]
           ],
           "sequentialminus": [
            [
             0,
             "#0d0887"
            ],
            [
             0.1111111111111111,
             "#46039f"
            ],
            [
             0.2222222222222222,
             "#7201a8"
            ],
            [
             0.3333333333333333,
             "#9c179e"
            ],
            [
             0.4444444444444444,
             "#bd3786"
            ],
            [
             0.5555555555555556,
             "#d8576b"
            ],
            [
             0.6666666666666666,
             "#ed7953"
            ],
            [
             0.7777777777777778,
             "#fb9f3a"
            ],
            [
             0.8888888888888888,
             "#fdca26"
            ],
            [
             1,
             "#f0f921"
            ]
           ]
          },
          "colorway": [
           "#636efa",
           "#EF553B",
           "#00cc96",
           "#ab63fa",
           "#FFA15A",
           "#19d3f3",
           "#FF6692",
           "#B6E880",
           "#FF97FF",
           "#FECB52"
          ],
          "font": {
           "color": "#2a3f5f"
          },
          "geo": {
           "bgcolor": "white",
           "lakecolor": "white",
           "landcolor": "#E5ECF6",
           "showlakes": true,
           "showland": true,
           "subunitcolor": "white"
          },
          "hoverlabel": {
           "align": "left"
          },
          "hovermode": "closest",
          "mapbox": {
           "style": "light"
          },
          "paper_bgcolor": "white",
          "plot_bgcolor": "#E5ECF6",
          "polar": {
           "angularaxis": {
            "gridcolor": "white",
            "linecolor": "white",
            "ticks": ""
           },
           "bgcolor": "#E5ECF6",
           "radialaxis": {
            "gridcolor": "white",
            "linecolor": "white",
            "ticks": ""
           }
          },
          "scene": {
           "xaxis": {
            "backgroundcolor": "#E5ECF6",
            "gridcolor": "white",
            "gridwidth": 2,
            "linecolor": "white",
            "showbackground": true,
            "ticks": "",
            "zerolinecolor": "white"
           },
           "yaxis": {
            "backgroundcolor": "#E5ECF6",
            "gridcolor": "white",
            "gridwidth": 2,
            "linecolor": "white",
            "showbackground": true,
            "ticks": "",
            "zerolinecolor": "white"
           },
           "zaxis": {
            "backgroundcolor": "#E5ECF6",
            "gridcolor": "white",
            "gridwidth": 2,
            "linecolor": "white",
            "showbackground": true,
            "ticks": "",
            "zerolinecolor": "white"
           }
          },
          "shapedefaults": {
           "line": {
            "color": "#2a3f5f"
           }
          },
          "ternary": {
           "aaxis": {
            "gridcolor": "white",
            "linecolor": "white",
            "ticks": ""
           },
           "baxis": {
            "gridcolor": "white",
            "linecolor": "white",
            "ticks": ""
           },
           "bgcolor": "#E5ECF6",
           "caxis": {
            "gridcolor": "white",
            "linecolor": "white",
            "ticks": ""
           }
          },
          "title": {
           "x": 0.05
          },
          "xaxis": {
           "automargin": true,
           "gridcolor": "white",
           "linecolor": "white",
           "ticks": "",
           "title": {
            "standoff": 15
           },
           "zerolinecolor": "white",
           "zerolinewidth": 2
          },
          "yaxis": {
           "automargin": true,
           "gridcolor": "white",
           "linecolor": "white",
           "ticks": "",
           "title": {
            "standoff": 15
           },
           "zerolinecolor": "white",
           "zerolinewidth": 2
          }
         }
        },
        "xaxis": {
         "anchor": "y",
         "domain": [
          0,
          1
         ],
         "title": {
          "text": "date"
         }
        },
        "yaxis": {
         "anchor": "x",
         "domain": [
          0,
          1
         ],
         "title": {
          "text": "SMB_rets"
         }
        }
       }
      }
     },
     "metadata": {},
     "output_type": "display_data"
    }
   ],
   "source": [
    "monthly_rets = port_df[[\"date\", \"SMB_rets\"]].resample('M', on='date').mean() # Calculate average daily return for each month\n",
    "monthly_rets['Colour']='red' # Add column with 'red' value\n",
    "monthly_rets.loc[monthly_rets['SMB_rets']>=0, 'Colour']='green' # Replace 'red' with 'green' where return is non-negative\n",
    "px.bar(monthly_rets,x=monthly_rets.index,y=\"SMB_rets\").update_traces(marker_color=monthly_rets[\"Colour\"]).show()"
   ]
  },
  {
   "cell_type": "markdown",
   "id": "3272eb40",
   "metadata": {},
   "source": [
    "### Performance Metrics"
   ]
  },
  {
   "cell_type": "code",
   "execution_count": 19,
   "id": "5d5ab9cd",
   "metadata": {},
   "outputs": [
    {
     "name": "stdout",
     "output_type": "stream",
     "text": [
      "0.022195523161254935 0.12587744308107873\n"
     ]
    }
   ],
   "source": [
    "mean_ret = port_df['SMB_rets'].mean()\n",
    "volatility = port_df['SMB_rets'].std()\n",
    "print(mean_ret, volatility)"
   ]
  },
  {
   "cell_type": "code",
   "execution_count": 20,
   "id": "f1bb2435",
   "metadata": {},
   "outputs": [
    {
     "name": "stdout",
     "output_type": "stream",
     "text": [
      "Annualised expected return is: 26.63%\n",
      "Annualised volatility is: 43.61%\n"
     ]
    }
   ],
   "source": [
    "print('Annualised expected return is: '+str(round(100*mean_ret*12,2)) +'%')\n",
    "print('Annualised volatility is: '+str(round(100*volatility*np.sqrt(12),2)) +'%')"
   ]
  },
  {
   "cell_type": "code",
   "execution_count": 21,
   "id": "cda046e9",
   "metadata": {},
   "outputs": [
    {
     "data": {
      "text/plain": [
       "count    390.000000\n",
       "mean       2.219552\n",
       "std       12.587744\n",
       "min      -40.118455\n",
       "25%       -5.535791\n",
       "50%        1.059488\n",
       "75%        8.026951\n",
       "max       57.889406\n",
       "Name: SMB_rets, dtype: float64"
      ]
     },
     "execution_count": 21,
     "metadata": {},
     "output_type": "execute_result"
    }
   ],
   "source": [
    "(port_df['SMB_rets']*100).describe()"
   ]
  },
  {
   "cell_type": "code",
   "execution_count": 22,
   "id": "14743eca",
   "metadata": {},
   "outputs": [
    {
     "name": "stdout",
     "output_type": "stream",
     "text": [
      "1.0804934092780791\n"
     ]
    }
   ],
   "source": [
    "print(skew(port_df['SMB_rets'].dropna()))"
   ]
  },
  {
   "cell_type": "code",
   "execution_count": 23,
   "id": "d1d8ea4e",
   "metadata": {},
   "outputs": [
    {
     "name": "stdout",
     "output_type": "stream",
     "text": [
      "2.8358614301534333\n"
     ]
    }
   ],
   "source": [
    "print(kurtosis(port_df[\"SMB_rets\"].dropna()))"
   ]
  },
  {
   "cell_type": "code",
   "execution_count": 24,
   "id": "618f1cdc",
   "metadata": {},
   "outputs": [
    {
     "data": {
      "text/plain": [
       "-0.20198024796655661"
      ]
     },
     "execution_count": 24,
     "metadata": {},
     "output_type": "execute_result"
    }
   ],
   "source": [
    "VaR = port_df['SMB_rets'].quantile(0.005)\n",
    "VaR"
   ]
  },
  {
   "cell_type": "code",
   "execution_count": 25,
   "id": "2b750603",
   "metadata": {},
   "outputs": [
    {
     "name": "stdout",
     "output_type": "stream",
     "text": [
      "There is a 10.0% chance that my losses will be -11.09% or worse over the next day.\n",
      "There is a 5.0% chance that my losses will be -15.32% or worse over the next day.\n",
      "There is a 1.0% chance that my losses will be -19.85% or worse over the next day.\n",
      "There is a 0.1% chance that my losses will be -32.4% or worse over the next day.\n",
      "There is a 0.01% chance that my losses will be -39.35% or worse over the next day.\n"
     ]
    }
   ],
   "source": [
    "for q in [0.1, 0.05, 0.01, 0.001, 0.0001]:\n",
    "    VaR = port_df['SMB_rets'].quantile(q)\n",
    "    print('There is a '+str(round(100*q,3))+'% chance that my losses will be '+str(round(VaR*100, 2))+'% or worse over the next day.')"
   ]
  },
  {
   "cell_type": "code",
   "execution_count": 26,
   "id": "2ab55ed1",
   "metadata": {},
   "outputs": [
    {
     "data": {
      "text/html": [
       "<div>\n",
       "<style scoped>\n",
       "    .dataframe tbody tr th:only-of-type {\n",
       "        vertical-align: middle;\n",
       "    }\n",
       "\n",
       "    .dataframe tbody tr th {\n",
       "        vertical-align: top;\n",
       "    }\n",
       "\n",
       "    .dataframe thead th {\n",
       "        text-align: right;\n",
       "    }\n",
       "</style>\n",
       "<table border=\"1\" class=\"dataframe\">\n",
       "  <thead>\n",
       "    <tr style=\"text-align: right;\">\n",
       "      <th>port</th>\n",
       "      <th>date</th>\n",
       "      <th>SMB_rets</th>\n",
       "      <th>SMB_cum_rets</th>\n",
       "    </tr>\n",
       "  </thead>\n",
       "  <tbody>\n",
       "    <tr>\n",
       "      <th>86</th>\n",
       "      <td>1997-04-30</td>\n",
       "      <td>-0.202647</td>\n",
       "      <td>10.138008</td>\n",
       "    </tr>\n",
       "    <tr>\n",
       "      <th>361</th>\n",
       "      <td>2020-03-31</td>\n",
       "      <td>-0.401185</td>\n",
       "      <td>60.678075</td>\n",
       "    </tr>\n",
       "  </tbody>\n",
       "</table>\n",
       "</div>"
      ],
      "text/plain": [
       "port       date  SMB_rets  SMB_cum_rets\n",
       "86   1997-04-30 -0.202647     10.138008\n",
       "361  2020-03-31 -0.401185     60.678075"
      ]
     },
     "execution_count": 26,
     "metadata": {},
     "output_type": "execute_result"
    }
   ],
   "source": [
    "VaR = port_df['SMB_rets'].quantile(0.005)\n",
    "rets_tail = port_df.loc[port_df['SMB_rets']<=VaR,[\"date\", \"SMB_rets\", \"SMB_cum_rets\"]]\n",
    "rets_tail"
   ]
  },
  {
   "cell_type": "code",
   "execution_count": 27,
   "id": "e4750315",
   "metadata": {},
   "outputs": [
    {
     "data": {
      "text/plain": [
       "-0.30191554459679737"
      ]
     },
     "execution_count": 27,
     "metadata": {},
     "output_type": "execute_result"
    }
   ],
   "source": [
    "ES = rets_tail['SMB_rets'].mean()\n",
    "ES"
   ]
  },
  {
   "cell_type": "code",
   "execution_count": 28,
   "id": "36a31c50",
   "metadata": {},
   "outputs": [
    {
     "name": "stdout",
     "output_type": "stream",
     "text": [
      "I expect to lose on average -16.2% over 1-day period given that I have exceeded my VaR for 10.0%.\n",
      "I expect to lose on average -19.09% over 1-day period given that I have exceeded my VaR for 5.0%.\n",
      "I expect to lose on average -25.11% over 1-day period given that I have exceeded my VaR for 1.0%.\n",
      "I expect to lose on average -40.12% over 1-day period given that I have exceeded my VaR for 0.1%.\n",
      "I expect to lose on average -40.12% over 1-day period given that I have exceeded my VaR for 0.01%.\n"
     ]
    }
   ],
   "source": [
    "for q in [0.1, 0.05, 0.01, 0.001, 0.0001]:\n",
    "    VaR = port_df['SMB_rets'].quantile(q)\n",
    "    rets_tail = port_df.loc[port_df['SMB_rets']<=VaR,:]\n",
    "    ES = rets_tail['SMB_rets'].mean()\n",
    "    print('I expect to lose on average '+ str(round(ES*100, 2))+'% over 1-day period given that I have exceeded my VaR for '+str(round(100*q,3))+'%.')"
   ]
  },
  {
   "cell_type": "code",
   "execution_count": 29,
   "id": "fefe4224",
   "metadata": {},
   "outputs": [
    {
     "data": {
      "text/plain": [
       "-0.20181913627195167"
      ]
     },
     "execution_count": 29,
     "metadata": {},
     "output_type": "execute_result"
    }
   ],
   "source": [
    "# according to bloomberg the risk free rate (treasury yields) 4.76 % (last 30 years)\n",
    "# calculation of sharpe ratio\n",
    "\n",
    "rf = 0.0476\n",
    "sharpe_ratio = (mean_ret-rf)/volatility\n",
    "sharpe_ratio"
   ]
  },
  {
   "cell_type": "code",
   "execution_count": 30,
   "id": "1367e747",
   "metadata": {},
   "outputs": [],
   "source": [
    "# get SP500 data from 1990-01-31 to 2022-08-30\t\n",
    "sp500_ticker = yf.Ticker(\"^GSPC\")\n",
    "sp500 = sp500_ticker.history(start=\"1990-02-28\", end=\"2022-09-30\", interval=\"1mo\")\n",
    "sp500 = sp500[[\"Close\"]]\n",
    "sp500[\"Rets\"] = sp500.Close.pct_change()"
   ]
  },
  {
   "cell_type": "code",
   "execution_count": 31,
   "id": "fc1096be",
   "metadata": {},
   "outputs": [
    {
     "data": {
      "text/html": [
       "<div>\n",
       "<style scoped>\n",
       "    .dataframe tbody tr th:only-of-type {\n",
       "        vertical-align: middle;\n",
       "    }\n",
       "\n",
       "    .dataframe tbody tr th {\n",
       "        vertical-align: top;\n",
       "    }\n",
       "\n",
       "    .dataframe thead th {\n",
       "        text-align: right;\n",
       "    }\n",
       "</style>\n",
       "<table border=\"1\" class=\"dataframe\">\n",
       "  <thead>\n",
       "    <tr style=\"text-align: right;\">\n",
       "      <th></th>\n",
       "      <th>Close</th>\n",
       "      <th>Rets</th>\n",
       "    </tr>\n",
       "    <tr>\n",
       "      <th>Date</th>\n",
       "      <th></th>\n",
       "      <th></th>\n",
       "    </tr>\n",
       "  </thead>\n",
       "  <tbody>\n",
       "    <tr>\n",
       "      <th>1990-03-01 00:00:00-05:00</th>\n",
       "      <td>339.940002</td>\n",
       "      <td>NaN</td>\n",
       "    </tr>\n",
       "    <tr>\n",
       "      <th>1990-04-01 00:00:00-05:00</th>\n",
       "      <td>330.799988</td>\n",
       "      <td>-0.026887</td>\n",
       "    </tr>\n",
       "    <tr>\n",
       "      <th>1990-05-01 00:00:00-04:00</th>\n",
       "      <td>361.230011</td>\n",
       "      <td>0.091989</td>\n",
       "    </tr>\n",
       "    <tr>\n",
       "      <th>1990-06-01 00:00:00-04:00</th>\n",
       "      <td>358.019989</td>\n",
       "      <td>-0.008886</td>\n",
       "    </tr>\n",
       "    <tr>\n",
       "      <th>1990-07-01 00:00:00-04:00</th>\n",
       "      <td>356.149994</td>\n",
       "      <td>-0.005223</td>\n",
       "    </tr>\n",
       "    <tr>\n",
       "      <th>...</th>\n",
       "      <td>...</td>\n",
       "      <td>...</td>\n",
       "    </tr>\n",
       "    <tr>\n",
       "      <th>2022-05-01 00:00:00-04:00</th>\n",
       "      <td>4132.149902</td>\n",
       "      <td>0.000053</td>\n",
       "    </tr>\n",
       "    <tr>\n",
       "      <th>2022-06-01 00:00:00-04:00</th>\n",
       "      <td>3785.379883</td>\n",
       "      <td>-0.083920</td>\n",
       "    </tr>\n",
       "    <tr>\n",
       "      <th>2022-07-01 00:00:00-04:00</th>\n",
       "      <td>4130.290039</td>\n",
       "      <td>0.091116</td>\n",
       "    </tr>\n",
       "    <tr>\n",
       "      <th>2022-08-01 00:00:00-04:00</th>\n",
       "      <td>3955.000000</td>\n",
       "      <td>-0.042440</td>\n",
       "    </tr>\n",
       "    <tr>\n",
       "      <th>2022-09-01 00:00:00-04:00</th>\n",
       "      <td>3585.620117</td>\n",
       "      <td>-0.093396</td>\n",
       "    </tr>\n",
       "  </tbody>\n",
       "</table>\n",
       "<p>391 rows × 2 columns</p>\n",
       "</div>"
      ],
      "text/plain": [
       "                                 Close      Rets\n",
       "Date                                            \n",
       "1990-03-01 00:00:00-05:00   339.940002       NaN\n",
       "1990-04-01 00:00:00-05:00   330.799988 -0.026887\n",
       "1990-05-01 00:00:00-04:00   361.230011  0.091989\n",
       "1990-06-01 00:00:00-04:00   358.019989 -0.008886\n",
       "1990-07-01 00:00:00-04:00   356.149994 -0.005223\n",
       "...                                ...       ...\n",
       "2022-05-01 00:00:00-04:00  4132.149902  0.000053\n",
       "2022-06-01 00:00:00-04:00  3785.379883 -0.083920\n",
       "2022-07-01 00:00:00-04:00  4130.290039  0.091116\n",
       "2022-08-01 00:00:00-04:00  3955.000000 -0.042440\n",
       "2022-09-01 00:00:00-04:00  3585.620117 -0.093396\n",
       "\n",
       "[391 rows x 2 columns]"
      ]
     },
     "execution_count": 31,
     "metadata": {},
     "output_type": "execute_result"
    }
   ],
   "source": [
    "sp500"
   ]
  },
  {
   "cell_type": "code",
   "execution_count": 32,
   "id": "674d499f",
   "metadata": {},
   "outputs": [
    {
     "name": "stdout",
     "output_type": "stream",
     "text": [
      "Portfolio Beta: -0.033557971340326065\n",
      "Jensen's Alpha: -0.026767361208990675\n"
     ]
    }
   ],
   "source": [
    "# Calculate the average return of the market\n",
    "average_market_return = sp500.Rets.mean()\n",
    "\n",
    "# Calculate the covariance between portfolio and market returns\n",
    "covariance = port_df['SMB_rets'].cov(sp500['Rets'].reset_index(drop=True))\n",
    "\n",
    "# Calculate the variance of the market returns\n",
    "market_variance = sp500['Rets'].var()\n",
    "\n",
    "# Calculate the portfolio's beta\n",
    "portfolio_beta = covariance / market_variance\n",
    "\n",
    "# Calculate Jensen's Alpha\n",
    "jensens_alpha = mean_ret - (rf + portfolio_beta * (average_market_return - rf))\n",
    "\n",
    "print(\"Portfolio Beta:\", portfolio_beta)\n",
    "print(\"Jensen's Alpha:\", jensens_alpha)"
   ]
  },
  {
   "cell_type": "code",
   "execution_count": 33,
   "id": "b5d4bbc5",
   "metadata": {},
   "outputs": [
    {
     "data": {
      "text/plain": [
       "0.7570325566199207"
      ]
     },
     "execution_count": 33,
     "metadata": {},
     "output_type": "execute_result"
    }
   ],
   "source": [
    "# treynor ratio\n",
    "treynor_ratio = (mean_ret - rf)/portfolio_beta\n",
    "treynor_ratio"
   ]
  },
  {
   "cell_type": "code",
   "execution_count": 34,
   "id": "b016eee5",
   "metadata": {},
   "outputs": [
    {
     "name": "stdout",
     "output_type": "stream",
     "text": [
      "0.8895932964294685\n"
     ]
    }
   ],
   "source": [
    "# maximum drawdown\n",
    "peak = port_df.loc[1, \"SMB_cum_rets\"]\n",
    "max_drawdown = 0\n",
    "for ret in port_df[\"SMB_cum_rets\"].dropna():\n",
    "    if ret >= peak:\n",
    "        peak = ret\n",
    "    else:\n",
    "        drawdown = (peak - ret)/peak\n",
    "        max_drawdown = max(max_drawdown, drawdown)\n",
    "\n",
    "print(max_drawdown)"
   ]
  },
  {
   "cell_type": "code",
   "execution_count": 35,
   "id": "09c70947",
   "metadata": {},
   "outputs": [
    {
     "data": {
      "text/plain": [
       "0.25000188388631034"
      ]
     },
     "execution_count": 35,
     "metadata": {},
     "output_type": "execute_result"
    }
   ],
   "source": [
    "# calmar-ratio\n",
    "annualised_exp_return = round(mean_ret*12,2)\n",
    "calmar_ratio = (annualised_exp_return - rf)/max_drawdown\n",
    "calmar_ratio"
   ]
  }
 ],
 "metadata": {
  "kernelspec": {
   "display_name": "Python 3 (ipykernel)",
   "language": "python",
   "name": "python3"
  },
  "language_info": {
   "codemirror_mode": {
    "name": "ipython",
    "version": 3
   },
   "file_extension": ".py",
   "mimetype": "text/x-python",
   "name": "python",
   "nbconvert_exporter": "python",
   "pygments_lexer": "ipython3",
   "version": "3.9.0"
  }
 },
 "nbformat": 4,
 "nbformat_minor": 5
}
