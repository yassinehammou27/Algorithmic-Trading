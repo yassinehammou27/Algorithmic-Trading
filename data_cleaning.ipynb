{
 "cells": [
  {
   "cell_type": "markdown",
   "id": "acae3b45",
   "metadata": {},
   "source": [
    "# Group Project\n",
    "#### **FINN43815 - Python for Finance**"
   ]
  },
  {
   "cell_type": "code",
   "execution_count": 1,
   "id": "36a8edf5",
   "metadata": {},
   "outputs": [],
   "source": [
    "# Importing necessary libraries\n",
    "import numpy as np\n",
    "import pandas as pd\n",
    "import plotly.express as px\n",
    "import yfinance as yf\n",
    "import missingno as msno"
   ]
  },
  {
   "cell_type": "markdown",
   "id": "9b1df792",
   "metadata": {},
   "source": [
    "## 1. Data Exploration"
   ]
  },
  {
   "cell_type": "markdown",
   "id": "96e36889",
   "metadata": {},
   "source": [
    "Variable\tDefinition\tBloomberg field name\n",
    "- price: Closing price\t(PX_LAST)\n",
    "- volume: Traded volume (daily)\t(PX_VOLUME)\n",
    "- turnover: Traded value (daily) (VWAP_TURNOVER)\n",
    "- p2e: Price-to-earnings ratio\t(PE_RATIO)\n",
    "- p2b: Price-to-book ratio\t(PX_TO_BOOK_RATIO)\n",
    "- cap: Market capitalisation\t(CUR_MKT_CAP)\n",
    "- rsi: Relative strength index (1 month)\t(RSI_30D)\n",
    "- lev: Leverage ratio\t(TOT_DEBT_TO_TOT_ASSET)\n",
    "- div_ratio: Dividend payout ratio\t(DVD_PAYOUT_RATIO)\n",
    "- prof_gr: Profit growth (GROSS_PROFIT_GROWTH)\n",
    "- roc: Return on capital (RETURN_ON_CAP)\n",
    "- asset_gr: Asset growth (ASSET_GROWTH)\n",
    "- prof_ma: Profit margin (PROF_MARGIN)\n",
    "- eps: Earnings per share (IS_EPS)\n",
    "- short: Short interest\t(SHORT_INT_RATIO)\n"
   ]
  },
  {
   "cell_type": "code",
   "execution_count": 2,
   "id": "fe820bdf",
   "metadata": {},
   "outputs": [
    {
     "name": "stderr",
     "output_type": "stream",
     "text": [
      "/var/folders/ch/yj3xbk4s1t34gtb89jtxcmcr0000gn/T/ipykernel_31297/1251261843.py:1: DtypeWarning: Columns (12) have mixed types. Specify dtype option on import or set low_memory=False.\n",
      "  df = pd.read_csv(\"pyfin_assig_data.csv\")\n"
     ]
    }
   ],
   "source": [
    "df = pd.read_csv(\"pyfin_assig_data.csv\")"
   ]
  },
  {
   "cell_type": "code",
   "execution_count": 3,
   "id": "fcc59512",
   "metadata": {},
   "outputs": [
    {
     "data": {
      "text/html": [
       "<div>\n",
       "<style scoped>\n",
       "    .dataframe tbody tr th:only-of-type {\n",
       "        vertical-align: middle;\n",
       "    }\n",
       "\n",
       "    .dataframe tbody tr th {\n",
       "        vertical-align: top;\n",
       "    }\n",
       "\n",
       "    .dataframe thead th {\n",
       "        text-align: right;\n",
       "    }\n",
       "</style>\n",
       "<table border=\"1\" class=\"dataframe\">\n",
       "  <thead>\n",
       "    <tr style=\"text-align: right;\">\n",
       "      <th></th>\n",
       "      <th>date</th>\n",
       "      <th>permno</th>\n",
       "      <th>price</th>\n",
       "      <th>volume</th>\n",
       "      <th>turnover</th>\n",
       "      <th>p2e</th>\n",
       "      <th>p2b</th>\n",
       "      <th>cap</th>\n",
       "      <th>rsi</th>\n",
       "      <th>lev</th>\n",
       "      <th>div_ratio</th>\n",
       "      <th>prof_gr</th>\n",
       "      <th>roc</th>\n",
       "      <th>asset_gr</th>\n",
       "      <th>prof_ma</th>\n",
       "      <th>eps</th>\n",
       "      <th>short</th>\n",
       "    </tr>\n",
       "  </thead>\n",
       "  <tbody>\n",
       "    <tr>\n",
       "      <th>0</th>\n",
       "      <td>1990-01-31</td>\n",
       "      <td>0111145D UN Equity</td>\n",
       "      <td>20.6875</td>\n",
       "      <td>49200.0</td>\n",
       "      <td>NaN</td>\n",
       "      <td>NaN</td>\n",
       "      <td>NaN</td>\n",
       "      <td>1226.3674</td>\n",
       "      <td>44.1860</td>\n",
       "      <td>NaN</td>\n",
       "      <td>NaN</td>\n",
       "      <td>NaN</td>\n",
       "      <td>NaN</td>\n",
       "      <td>NaN</td>\n",
       "      <td>NaN</td>\n",
       "      <td>NaN</td>\n",
       "      <td>NaN</td>\n",
       "    </tr>\n",
       "    <tr>\n",
       "      <th>1</th>\n",
       "      <td>1990-02-28</td>\n",
       "      <td>0111145D UN Equity</td>\n",
       "      <td>22.0000</td>\n",
       "      <td>141600.0</td>\n",
       "      <td>NaN</td>\n",
       "      <td>NaN</td>\n",
       "      <td>NaN</td>\n",
       "      <td>1303.3636</td>\n",
       "      <td>57.2650</td>\n",
       "      <td>NaN</td>\n",
       "      <td>NaN</td>\n",
       "      <td>NaN</td>\n",
       "      <td>NaN</td>\n",
       "      <td>NaN</td>\n",
       "      <td>NaN</td>\n",
       "      <td>NaN</td>\n",
       "      <td>NaN</td>\n",
       "    </tr>\n",
       "    <tr>\n",
       "      <th>2</th>\n",
       "      <td>1990-03-30</td>\n",
       "      <td>0111145D UN Equity</td>\n",
       "      <td>19.5000</td>\n",
       "      <td>32400.0</td>\n",
       "      <td>NaN</td>\n",
       "      <td>NaN</td>\n",
       "      <td>NaN</td>\n",
       "      <td>1155.2541</td>\n",
       "      <td>27.9070</td>\n",
       "      <td>NaN</td>\n",
       "      <td>NaN</td>\n",
       "      <td>NaN</td>\n",
       "      <td>NaN</td>\n",
       "      <td>NaN</td>\n",
       "      <td>NaN</td>\n",
       "      <td>NaN</td>\n",
       "      <td>NaN</td>\n",
       "    </tr>\n",
       "    <tr>\n",
       "      <th>3</th>\n",
       "      <td>1990-04-30</td>\n",
       "      <td>0111145D UN Equity</td>\n",
       "      <td>17.6250</td>\n",
       "      <td>219400.0</td>\n",
       "      <td>NaN</td>\n",
       "      <td>NaN</td>\n",
       "      <td>1.5612</td>\n",
       "      <td>1021.1925</td>\n",
       "      <td>18.0328</td>\n",
       "      <td>23.7282</td>\n",
       "      <td>35.7103</td>\n",
       "      <td>NaN</td>\n",
       "      <td>NaN</td>\n",
       "      <td>NaN</td>\n",
       "      <td>6.9403</td>\n",
       "      <td>0.745</td>\n",
       "      <td>NaN</td>\n",
       "    </tr>\n",
       "    <tr>\n",
       "      <th>4</th>\n",
       "      <td>1990-05-31</td>\n",
       "      <td>0111145D UN Equity</td>\n",
       "      <td>19.8125</td>\n",
       "      <td>128800.0</td>\n",
       "      <td>NaN</td>\n",
       "      <td>NaN</td>\n",
       "      <td>1.7550</td>\n",
       "      <td>1147.9362</td>\n",
       "      <td>60.3960</td>\n",
       "      <td>23.7282</td>\n",
       "      <td>35.7103</td>\n",
       "      <td>NaN</td>\n",
       "      <td>NaN</td>\n",
       "      <td>NaN</td>\n",
       "      <td>6.9403</td>\n",
       "      <td>0.745</td>\n",
       "      <td>NaN</td>\n",
       "    </tr>\n",
       "    <tr>\n",
       "      <th>...</th>\n",
       "      <td>...</td>\n",
       "      <td>...</td>\n",
       "      <td>...</td>\n",
       "      <td>...</td>\n",
       "      <td>...</td>\n",
       "      <td>...</td>\n",
       "      <td>...</td>\n",
       "      <td>...</td>\n",
       "      <td>...</td>\n",
       "      <td>...</td>\n",
       "      <td>...</td>\n",
       "      <td>...</td>\n",
       "      <td>...</td>\n",
       "      <td>...</td>\n",
       "      <td>...</td>\n",
       "      <td>...</td>\n",
       "      <td>...</td>\n",
       "    </tr>\n",
       "    <tr>\n",
       "      <th>569179</th>\n",
       "      <td>2022-04-29</td>\n",
       "      <td>J UN Equity</td>\n",
       "      <td>138.5500</td>\n",
       "      <td>304510.0</td>\n",
       "      <td>3.614403e+07</td>\n",
       "      <td>24.8843</td>\n",
       "      <td>2.9386</td>\n",
       "      <td>17902.9731</td>\n",
       "      <td>50.4985</td>\n",
       "      <td>27.0080</td>\n",
       "      <td>64.0717</td>\n",
       "      <td>13.4805</td>\n",
       "      <td>5.0913</td>\n",
       "      <td>-2.4340</td>\n",
       "      <td>2.3165</td>\n",
       "      <td>0.690</td>\n",
       "      <td>2.156</td>\n",
       "    </tr>\n",
       "    <tr>\n",
       "      <th>569180</th>\n",
       "      <td>2022-05-31</td>\n",
       "      <td>J UN Equity</td>\n",
       "      <td>140.0900</td>\n",
       "      <td>439716.0</td>\n",
       "      <td>5.694903e+07</td>\n",
       "      <td>25.1609</td>\n",
       "      <td>2.9712</td>\n",
       "      <td>18019.3940</td>\n",
       "      <td>46.5970</td>\n",
       "      <td>27.0080</td>\n",
       "      <td>64.0717</td>\n",
       "      <td>13.4805</td>\n",
       "      <td>5.0913</td>\n",
       "      <td>-2.4340</td>\n",
       "      <td>2.3165</td>\n",
       "      <td>0.690</td>\n",
       "      <td>2.588</td>\n",
       "    </tr>\n",
       "    <tr>\n",
       "      <th>569181</th>\n",
       "      <td>2022-06-30</td>\n",
       "      <td>J UN Equity</td>\n",
       "      <td>127.1300</td>\n",
       "      <td>361201.0</td>\n",
       "      <td>3.957354e+07</td>\n",
       "      <td>22.8332</td>\n",
       "      <td>2.6964</td>\n",
       "      <td>16352.3846</td>\n",
       "      <td>41.4452</td>\n",
       "      <td>27.0080</td>\n",
       "      <td>64.0717</td>\n",
       "      <td>13.4805</td>\n",
       "      <td>5.0913</td>\n",
       "      <td>-2.4340</td>\n",
       "      <td>2.3165</td>\n",
       "      <td>0.690</td>\n",
       "      <td>2.524</td>\n",
       "    </tr>\n",
       "    <tr>\n",
       "      <th>569182</th>\n",
       "      <td>2022-07-29</td>\n",
       "      <td>J UN Equity</td>\n",
       "      <td>137.3000</td>\n",
       "      <td>214654.0</td>\n",
       "      <td>2.401931e+07</td>\n",
       "      <td>23.1310</td>\n",
       "      <td>2.9522</td>\n",
       "      <td>17660.5239</td>\n",
       "      <td>64.8821</td>\n",
       "      <td>29.7452</td>\n",
       "      <td>15.0218</td>\n",
       "      <td>0.9230</td>\n",
       "      <td>5.534</td>\n",
       "      <td>-3.2025</td>\n",
       "      <td>5.1209</td>\n",
       "      <td>1.530</td>\n",
       "      <td>5.503</td>\n",
       "    </tr>\n",
       "    <tr>\n",
       "      <th>569183</th>\n",
       "      <td>2022-08-30</td>\n",
       "      <td>J UN Equity</td>\n",
       "      <td>124.4400</td>\n",
       "      <td>162011.0</td>\n",
       "      <td>1.618860e+07</td>\n",
       "      <td>20.9645</td>\n",
       "      <td>2.6757</td>\n",
       "      <td>15879.2422</td>\n",
       "      <td>46.1760</td>\n",
       "      <td>29.7452</td>\n",
       "      <td>15.0218</td>\n",
       "      <td>0.9230</td>\n",
       "      <td>5.534</td>\n",
       "      <td>-3.2025</td>\n",
       "      <td>5.1209</td>\n",
       "      <td>1.530</td>\n",
       "      <td>NaN</td>\n",
       "    </tr>\n",
       "  </tbody>\n",
       "</table>\n",
       "<p>569184 rows × 17 columns</p>\n",
       "</div>"
      ],
      "text/plain": [
       "              date              permno     price    volume      turnover  \\\n",
       "0       1990-01-31  0111145D UN Equity   20.6875   49200.0           NaN   \n",
       "1       1990-02-28  0111145D UN Equity   22.0000  141600.0           NaN   \n",
       "2       1990-03-30  0111145D UN Equity   19.5000   32400.0           NaN   \n",
       "3       1990-04-30  0111145D UN Equity   17.6250  219400.0           NaN   \n",
       "4       1990-05-31  0111145D UN Equity   19.8125  128800.0           NaN   \n",
       "...            ...                 ...       ...       ...           ...   \n",
       "569179  2022-04-29         J UN Equity  138.5500  304510.0  3.614403e+07   \n",
       "569180  2022-05-31         J UN Equity  140.0900  439716.0  5.694903e+07   \n",
       "569181  2022-06-30         J UN Equity  127.1300  361201.0  3.957354e+07   \n",
       "569182  2022-07-29         J UN Equity  137.3000  214654.0  2.401931e+07   \n",
       "569183  2022-08-30         J UN Equity  124.4400  162011.0  1.618860e+07   \n",
       "\n",
       "            p2e     p2b         cap      rsi      lev  div_ratio  prof_gr  \\\n",
       "0           NaN     NaN   1226.3674  44.1860      NaN        NaN      NaN   \n",
       "1           NaN     NaN   1303.3636  57.2650      NaN        NaN      NaN   \n",
       "2           NaN     NaN   1155.2541  27.9070      NaN        NaN      NaN   \n",
       "3           NaN  1.5612   1021.1925  18.0328  23.7282    35.7103      NaN   \n",
       "4           NaN  1.7550   1147.9362  60.3960  23.7282    35.7103      NaN   \n",
       "...         ...     ...         ...      ...      ...        ...      ...   \n",
       "569179  24.8843  2.9386  17902.9731  50.4985  27.0080    64.0717  13.4805   \n",
       "569180  25.1609  2.9712  18019.3940  46.5970  27.0080    64.0717  13.4805   \n",
       "569181  22.8332  2.6964  16352.3846  41.4452  27.0080    64.0717  13.4805   \n",
       "569182  23.1310  2.9522  17660.5239  64.8821  29.7452    15.0218   0.9230   \n",
       "569183  20.9645  2.6757  15879.2422  46.1760  29.7452    15.0218   0.9230   \n",
       "\n",
       "           roc  asset_gr  prof_ma    eps  short  \n",
       "0          NaN       NaN      NaN    NaN    NaN  \n",
       "1          NaN       NaN      NaN    NaN    NaN  \n",
       "2          NaN       NaN      NaN    NaN    NaN  \n",
       "3          NaN       NaN   6.9403  0.745    NaN  \n",
       "4          NaN       NaN   6.9403  0.745    NaN  \n",
       "...        ...       ...      ...    ...    ...  \n",
       "569179  5.0913   -2.4340   2.3165  0.690  2.156  \n",
       "569180  5.0913   -2.4340   2.3165  0.690  2.588  \n",
       "569181  5.0913   -2.4340   2.3165  0.690  2.524  \n",
       "569182   5.534   -3.2025   5.1209  1.530  5.503  \n",
       "569183   5.534   -3.2025   5.1209  1.530    NaN  \n",
       "\n",
       "[569184 rows x 17 columns]"
      ]
     },
     "execution_count": 3,
     "metadata": {},
     "output_type": "execute_result"
    }
   ],
   "source": [
    "df"
   ]
  },
  {
   "cell_type": "code",
   "execution_count": 4,
   "id": "f0ec5a4b",
   "metadata": {},
   "outputs": [
    {
     "data": {
      "text/plain": [
       "1452"
      ]
     },
     "execution_count": 4,
     "metadata": {},
     "output_type": "execute_result"
    }
   ],
   "source": [
    "# number of different stocks\n",
    "len(df.permno.unique())"
   ]
  },
  {
   "cell_type": "code",
   "execution_count": 5,
   "id": "140bce58",
   "metadata": {},
   "outputs": [
    {
     "name": "stdout",
     "output_type": "stream",
     "text": [
      "<class 'pandas.core.frame.DataFrame'>\n",
      "RangeIndex: 569184 entries, 0 to 569183\n",
      "Data columns (total 17 columns):\n",
      " #   Column     Non-Null Count   Dtype  \n",
      "---  ------     --------------   -----  \n",
      " 0   date       569184 non-null  object \n",
      " 1   permno     569184 non-null  object \n",
      " 2   price      334294 non-null  float64\n",
      " 3   volume     333783 non-null  float64\n",
      " 4   turnover   236329 non-null  float64\n",
      " 5   p2e        277818 non-null  float64\n",
      " 6   p2b        306044 non-null  float64\n",
      " 7   cap        332877 non-null  float64\n",
      " 8   rsi        333119 non-null  float64\n",
      " 9   lev        376973 non-null  float64\n",
      " 10  div_ratio  319959 non-null  float64\n",
      " 11  prof_gr    289776 non-null  float64\n",
      " 12  roc        270299 non-null  object \n",
      " 13  asset_gr   358912 non-null  float64\n",
      " 14  prof_ma    383415 non-null  float64\n",
      " 15  eps        375228 non-null  float64\n",
      " 16  short      152198 non-null  float64\n",
      "dtypes: float64(14), object(3)\n",
      "memory usage: 73.8+ MB\n"
     ]
    }
   ],
   "source": [
    "df.info()"
   ]
  },
  {
   "cell_type": "code",
   "execution_count": 6,
   "id": "912738b7",
   "metadata": {},
   "outputs": [],
   "source": [
    "# convert date columns to datetime\n",
    "df[\"date\"] = pd.to_datetime(df.date)"
   ]
  },
  {
   "cell_type": "code",
   "execution_count": 7,
   "id": "c38523ab",
   "metadata": {},
   "outputs": [],
   "source": [
    "# set index to date\n",
    "df = df.set_index(\"date\")"
   ]
  },
  {
   "cell_type": "markdown",
   "id": "29c6c006",
   "metadata": {},
   "source": [
    "### Exploration of Missing Data"
   ]
  },
  {
   "cell_type": "code",
   "execution_count": 8,
   "id": "6d33e4f8",
   "metadata": {},
   "outputs": [
    {
     "data": {
      "text/plain": [
       "<Axes: >"
      ]
     },
     "execution_count": 8,
     "metadata": {},
     "output_type": "execute_result"
    },
    {
     "data": {
      "image/png": "[encoded data removed]",
      "text/plain": [
       "<Figure size 1800x720 with 3 Axes>"
      ]
     },
     "metadata": {
      "needs_background": "light"
     },
     "output_type": "display_data"
    }
   ],
   "source": [
    "msno.bar(df)"
   ]
  },
  {
   "cell_type": "code",
   "execution_count": 9,
   "id": "a8a7d85f",
   "metadata": {},
   "outputs": [
    {
     "data": {
      "text/plain": [
       "<Axes: >"
      ]
     },
     "execution_count": 9,
     "metadata": {},
     "output_type": "execute_result"
    },
    {
     "data": {
      "image/png": "[encoded data removed]",
      "text/plain": [
       "<Figure size 1800x720 with 2 Axes>"
      ]
     },
     "metadata": {
      "needs_background": "light"
     },
     "output_type": "display_data"
    }
   ],
   "source": [
    "msno.matrix(df)"
   ]
  },
  {
   "cell_type": "markdown",
   "id": "c5d0ec72",
   "metadata": {},
   "source": [
    "The different variables seem to have a vary similar pattern regarding missing values"
   ]
  },
  {
   "cell_type": "code",
   "execution_count": 10,
   "id": "3e50f9b6",
   "metadata": {},
   "outputs": [
    {
     "data": {
      "application/vnd.plotly.v1+json": {
       "config": {
        "plotlyServerURL": "https://plot.ly"
       },
       "data": [
        {
         "alignmentgroup": "True",
         "hovertemplate": "variable=price<br>permno=%{x}<br>value=%{y}<extra></extra>",
         "legendgroup": "price",
         "marker": {
          "color": "#636efa",
          "pattern": {
           "shape": ""
          }
         },
         "name": "price",
         "offsetgroup": "price",
         "orientation": "v",
         "showlegend": true,
         "textposition": "auto",
         "type": "bar",
         "x": [
          "LPX UN Equity",
          "KO UN Equity",
          "ALK UN Equity",
          "KR UN Equity",
          "AFL UN Equity",
          "L UN Equity",
          "LEG UN Equity",
          "AEP UN Equity",
          "ADSK UW Equity",
          "ADSK UQ Equity",
          "ADM UN Equity",
          "ADBE UW Equity",
          "ADBE UQ Equity",
          "LHX UN Equity",
          "ABT UN Equity",
          "ABMD UW Equity",
          "LLY UN Equity",
          "AAPL UW Equity",
          "AAPL UQ Equity",
          "LNC UN Equity",
          "AA UN Equity",
          "LNT UN Equity",
          "AMAT UQ Equity",
          "LOW UN Equity",
          "AMAT UW Equity",
          "KLAC UW Equity",
          "ITT UN Equity",
          "BAC UN Equity",
          "BA UN Equity",
          "ITW UN Equity",
          "J UN Equity",
          "JBHT UW Equity",
          "JCI UN Equity",
          "JEF UN Equity",
          "AVY UN Equity",
          "JNJ UN Equity",
          "ASH UN Equity",
          "JPM UN Equity",
          "APD UN Equity",
          "JWN US Equity",
          "APA UN Equity",
          "AON UN Equity",
          "K UN Equity",
          "KBH UN Equity",
          "AMGN UW Equity",
          "AMGN UQ Equity",
          "KLAC UQ Equity",
          "KMB UN Equity",
          "EFX UN Equity",
          "LRCX UW Equity",
          "LUMN UN Equity",
          "NTRS UW Equity",
          "NUE UN Equity",
          "NWL UN Equity",
          "NYT US Equity",
          "OKE UN Equity",
          "OXY UN Equity",
          "PAYX UQ Equity",
          "PAYX UW Equity",
          "PBI UN Equity",
          "PCAR UQ Equity",
          "PCAR UW Equity",
          "PCG UN Equity",
          "PEAK UN Equity",
          "PEG UN Equity",
          "PFE UN Equity",
          "PG UN Equity",
          "PGR UN Equity",
          "PH UN Equity",
          "PHM UN Equity",
          "PKI UN Equity",
          "PNC UN Equity",
          "NTRS UQ Equity",
          "NSC UN Equity",
          "NOC UN Equity",
          "NLOK UW Equity",
          "LUV UN Equity",
          "MAS UN Equity",
          "MBI UN Equity",
          "MCD UN Equity",
          "MDT UN Equity",
          "MGM UN Equity",
          "MMC UN Equity",
          "MMM UN Equity",
          "MO UN Equity",
          "MRK UN Equity",
          "BALL UN Equity",
          "MRO US Equity",
          "MSFT UW Equity",
          "MSI UN Equity",
          "MUR UN Equity",
          "NC UN Equity",
          "NEE UN Equity",
          "NEM UN Equity",
          "NEU UN Equity",
          "NI UN Equity",
          "NL UN Equity",
          "NLOK UQ Equity",
          "MSFT UQ Equity",
          "BAX UN Equity",
          "BBWI UN Equity",
          "BBY UN Equity",
          "CTAS UW Equity",
          "CTAS UQ Equity",
          "FISV UQ Equity",
          "FISV UW Equity",
          "FITB UQ Equity",
          "CPB UN Equity",
          "FITB UW Equity",
          "FL UN Equity",
          "COP UN Equity",
          "COO UN Equity",
          "CNP UN Equity",
          "FMC UN Equity",
          "CNA UN Equity",
          "FRT UN Equity",
          "CMS UN Equity",
          "CMI UN Equity",
          "GCO UN Equity",
          "GD UN Equity",
          "GE UN Equity",
          "CMCSA UW Equity",
          "CMCSA UQ Equity",
          "FDX UN Equity",
          "FAST UW Equity",
          "F UN Equity",
          "CVS UN Equity",
          "ECL UN Equity",
          "EA UW Equity",
          "EA UQ Equity",
          "EIX UN Equity",
          "DUK UN Equity",
          "DTE UN Equity",
          "EMR UN Equity",
          "EOG UN Equity",
          "DOV UN Equity",
          "DLX UN Equity",
          "CMA UN Equity",
          "EQT UN Equity",
          "DIS UN Equity",
          "DHR UN Equity",
          "ETN UN Equity",
          "DE UN Equity",
          "DDS UN Equity",
          "DD UN Equity",
          "ETR UN Equity",
          "D UN Equity",
          "EXC UN Equity",
          "CVX UN Equity",
          "ES UN Equity",
          "PNW UN Equity",
          "CLX UN Equity",
          "CL UN Equity",
          "HPQ UN Equity",
          "HRB UN Equity",
          "BSET UQ Equity",
          "HRL UN Equity",
          "HST US Equity",
          "HSY UN Equity",
          "HUM UN Equity",
          "BMY UN Equity",
          "IBM UN Equity",
          "IFF UN Equity",
          "INTC UQ Equity",
          "BKR UN Equity",
          "INTC UW Equity",
          "BK UN Equity",
          "BIG UN Equity",
          "IP UN Equity",
          "IPG UN Equity",
          "BEN UN Equity",
          "BDX UN Equity",
          "BCO US Equity",
          "BC UN Equity",
          "HP UN Equity",
          "C UN Equity",
          "HON UN Equity",
          "CAG UN Equity",
          "GHC UN Equity",
          "CINF UW Equity",
          "CINF UQ Equity",
          "GIS UN Equity",
          "GL UN Equity",
          "CI UN Equity",
          "GLW UN Equity",
          "GOLD UN Equity",
          "GPC UN Equity",
          "GPS UN Equity",
          "CLF UN Equity",
          "GWW UN Equity",
          "HAS US Equity",
          "HBAN UQ Equity",
          "CCK UN Equity",
          "HBAN UW Equity",
          "CCEP UN Equity",
          "HD UN Equity",
          "HES UN Equity",
          "CAT UN Equity",
          "HOG UN Equity",
          "CAL UN Equity",
          "HAL UN Equity",
          "PPG UN Equity",
          "ED UN Equity",
          "SLB UN Equity",
          "SCI UN Equity",
          "SPXC UN Equity",
          "UIS UN Equity",
          "TKR UN Equity",
          "WY UN Equity",
          "WST UN Equity",
          "WOR US Equity",
          "WEC UN Equity",
          "TXT UN Equity",
          "T UN Equity",
          "WMT UN Equity",
          "RTX UN Equity",
          "RJF UN Equity",
          "TT UN Equity",
          "SWK UN Equity",
          "TROW UQ Equity",
          "WHR UN Equity",
          "ROL UN Equity",
          "TRV US Equity",
          "WFC UN Equity",
          "SYY UN Equity",
          "ROST UW Equity",
          "TROW UW Equity",
          "SWN UN Equity",
          "WMB UN Equity",
          "VZ UN Equity",
          "TAP US Equity",
          "TJX UN Equity",
          "ZION UW Equity",
          "PTC UQ Equity",
          "ZION UQ Equity",
          "PTC UW Equity",
          "VFC UN Equity",
          "TER UN Equity",
          "YELL UQ Equity",
          "PVH UN Equity",
          "SNA UN Equity",
          "XRX UN Equity",
          "USB US Equity",
          "SNV UN Equity",
          "VVI US Equity",
          "SIVB UW Equity",
          "VMC UN Equity",
          "THC UN Equity",
          "PPL UN Equity",
          "XOM UN Equity",
          "UNM UN Equity",
          "SO UN Equity",
          "TGNA UN Equity",
          "TGT UN Equity",
          "USB UN Equity",
          "SPGI UN Equity",
          "UNP UN Equity",
          "SHW UN Equity",
          "NDSN UW Equity",
          "TYL UN Equity",
          "AIG UN Equity",
          "LEN UN Equity",
          "IEX UN Equity",
          "CSCO UW Equity",
          "TRV UN Equity",
          "AXP UN Equity",
          "XRAY UW Equity",
          "R UN Equity",
          "DRE UN Equity",
          "TMO UN Equity",
          "EXPD UW Equity",
          "ATO UN Equity",
          "CSCO UQ Equity",
          "CTRA UN Equity",
          "RAD UN Equity",
          "AJG UN Equity",
          "XEL UN Equity",
          "HOLX UW Equity",
          "PEP UN Equity",
          "9990253D UN Equity",
          "JKHY UW Equity",
          "UDR UN Equity",
          "RHI UN Equity",
          "LUB UN Equity",
          "CERN UW Equity",
          "PBCT UW Equity",
          "TRMB UW Equity",
          "CHD UN Equity",
          "VNO UN Equity",
          "MDP UN Equity",
          "NKE UN Equity",
          "KSU UN Equity",
          "XLNX UQ Equity",
          "XLNX UW Equity",
          "OMC UN Equity",
          "SSP UN Equity",
          "TEX UN Equity",
          "AZO UN Equity",
          "REGN UW Equity",
          "CTB UN Equity",
          "VVI UN Equity",
          "BF/B UN Equity",
          "X UN Equity",
          "MRO UN Equity",
          "IDXX UW Equity",
          "VAR UN Equity",
          "UHS UN Equity",
          "VRTX UW Equity",
          "MTG UN Equity",
          "ZBRA UW Equity",
          "2078185D UN Equity",
          "BIIB UQ Equity",
          "BIIB UW Equity",
          "SJM UN Equity",
          "UNH UN Equity",
          "UN UN Equity",
          "KIM UN Equity",
          "CCL UN Equity",
          "TFC UN Equity",
          "QCOM UQ Equity",
          "QCOM UW Equity",
          "OI UN Equity",
          "NBL UN Equity",
          "GILD UW Equity",
          "GILD UQ Equity",
          "MXIM UQ Equity",
          "SNPS UW Equity",
          "MXIM UW Equity",
          "LM UN Equity",
          "VTR UN Equity",
          "M UN Equity",
          "BGGSQ UN Equity",
          "BSX UN Equity",
          "KSS UN Equity",
          "CPPRQ UN Equity",
          "EVRG UN Equity",
          "CSX UN Equity",
          "RTN UN Equity",
          "LIN UN Equity",
          "SBUX UW Equity",
          "BBBY UW Equity",
          "BBBY UQ Equity",
          "SBUX UQ Equity",
          "ODFL UW Equity",
          "TECH UW Equity",
          "KEY UN Equity",
          "NAV UN Equity",
          "AVP UN Equity",
          "MDRIQ UN Equity",
          "PDCO UW Equity",
          "STI UN Equity",
          "PDCO UQ Equity",
          "CELG UW Equity",
          "WELL UN Equity",
          "WLBAQ US Equity",
          "MS UN Equity",
          "APC UN Equity",
          "MNST UW Equity",
          "SITC UN Equity",
          "TSS UN Equity",
          "MCHP UW Equity",
          "INTU UQ Equity",
          "CB UN Equity",
          "INTU UW Equity",
          "SANM UQ Equity",
          "FOSL UW Equity",
          "BMS UN Equity",
          "RCL UN Equity",
          "SANM UW Equity",
          "AMD UN Equity",
          "ORLY UW Equity",
          "RIG UN Equity",
          "MTW UN Equity",
          "WBA UN Equity",
          "RDC UN Equity",
          "ALL UN Equity",
          "SWKS UW Equity",
          "CPT UN Equity",
          "USG UN Equity",
          "BCO UN Equity",
          "WM UN Equity",
          "EHC UN Equity",
          "EQR UN Equity",
          "BWA UN Equity",
          "SCG UN Equity",
          "COST UW Equity",
          "COST UQ Equity",
          "HST UN Equity",
          "RRC UN Equity",
          "REG UN Equity",
          "SVU UN Equity",
          "ANDV UN Equity",
          "SPG UN Equity",
          "URBN UW Equity",
          "VIAV UW Equity",
          "EMN UN Equity",
          "ATVI UW Equity",
          "MAA UN Equity",
          "VIAV UQ Equity",
          "MLM UN Equity",
          "CPRT UW Equity",
          "MAC UN Equity",
          "ALB UN Equity",
          "AVB UN Equity",
          "TFX UN Equity",
          "TSCO UW Equity",
          "SCHW UN Equity",
          "PENN UW Equity",
          "ESS UN Equity",
          "AIV UN Equity",
          "NKTR UW Equity",
          "SKY UN Equity",
          "CAH UN Equity",
          "FLIR UW Equity",
          "BCR UN Equity",
          "PSA UN Equity",
          "O UN Equity",
          "COF UN Equity",
          "INCY UW Equity",
          "AOS UN Equity",
          "1715651D UN Equity",
          "MCK UN Equity",
          "SPLS UQ Equity",
          "1697067D UN Equity",
          "SPLS UW Equity",
          "STT UN Equity",
          "LMT UN Equity",
          "KATE US Equity",
          "1812212D UW Equity",
          "DLTR UW Equity",
          "BHI UN Equity",
          "GT UN Equity",
          "DRI UN Equity",
          "LH UN Equity",
          "DISH UW Equity",
          "WAB UN Equity",
          "CSC UN Equity",
          "LLTC UW Equity",
          "HAR UN Equity",
          "1831877D UN Equity",
          "LLTC UQ Equity",
          "FCX UN Equity",
          "STJ US Equity",
          "IVZ UN Equity",
          "POOL UW Equity",
          "RE UN Equity",
          "DVA UN Equity",
          "WAT UN Equity",
          "EL UN Equity",
          "ATGE UN Equity",
          "HSIC UW Equity",
          "NTAP UW Equity",
          "NTAP UQ Equity",
          "HIG UN Equity",
          "CTXS UQ Equity",
          "CTXS UW Equity",
          "DHI UN Equity",
          "HOT UN Equity",
          "ADI UN Equity",
          "2073714D UN Equity",
          "1436513D UN Equity",
          "EMC UN Equity",
          "ESRX UW Equity",
          "ESRX UQ Equity",
          "GAS UN Equity",
          "1500785D UN Equity",
          "PNR UN Equity",
          "TXN UN Equity",
          "KATE UN Equity",
          "1922150D UN Equity",
          "ABC UN Equity",
          "SLM UN Equity",
          "BRK/B UN Equity",
          "ARG UN Equity",
          "TUP UN Equity",
          "FDS UN Equity",
          "ANSS UW Equity",
          "PCL UN Equity",
          "PCP UN Equity",
          "SRCL UW Equity",
          "ATI UN Equity",
          "1627457D UN Equity",
          "9876566D UN Equity",
          "ANF UN Equity",
          "NOV UN Equity",
          "1541931D UQ Equity",
          "CMCSK UQ Equity",
          "AES UN Equity",
          "CMCSK UW Equity",
          "1541931D UW Equity",
          "SIAL UW Equity",
          "SIAL UQ Equity",
          "ROP UN Equity",
          "WDC UN Equity",
          "DGX UN Equity",
          "CNW UN Equity",
          "NCR UN Equity",
          "TEN UN Equity",
          "ROK UN Equity",
          "WFM UW Equity",
          "WFM UQ Equity",
          "FDO UN Equity",
          "ALXN UW Equity",
          "TEG UN Equity",
          "1448062D UN Equity",
          "APH UN Equity",
          "AMZN UQ Equity",
          "CAR UN Equity",
          "ARE UN Equity",
          "AMZN UW Equity",
          "PCH UN Equity",
          "BXP UN Equity",
          "RL UN Equity",
          "AN UN Equity",
          "NFX UN Equity",
          "SYK UN Equity",
          "CHKAQ UN Equity",
          "1284849D UN Equity",
          "FLS UN Equity",
          "PXD UN Equity",
          "RSHCQ UN Equity",
          "RRD UN Equity",
          "VLO UN Equity",
          "AME UN Equity",
          "SLG UN Equity",
          "NYT UN Equity",
          "YUM UN Equity",
          "WFTIQ UN Equity",
          "FWLT US Equity",
          "AKS UN Equity",
          "TSN UN Equity",
          "CHRW UW Equity",
          "AMG UN Equity",
          "FE UN Equity",
          "MTD UN Equity",
          "PLD UN Equity",
          "URI UN Equity",
          "PMCS UQ Equity",
          "MHK UN Equity",
          "PMCS UW Equity",
          "BRO UN Equity",
          "SWY UN Equity",
          "TTWO UW Equity",
          "VALPQ UN Equity",
          "AEE UN Equity",
          "VRSN UW Equity",
          "VRSN UQ Equity",
          "PWR UN Equity",
          "HSH UN Equity",
          "SEE UN Equity",
          "DOFSQ UN Equity",
          "GGP UN Equity",
          "FHI UN Equity",
          "JBL UN Equity",
          "NEBLQ UN Equity",
          "1752754D UN Equity",
          "MTB UN Equity",
          "AMT UN Equity",
          "CTSH UW Equity",
          "MCO UN Equity",
          "9876544D UN Equity",
          "SRE UN Equity",
          "RSG UN Equity",
          "MAT UN Equity",
          "IT UN Equity",
          "EBAY UQ Equity",
          "EBAY UW Equity",
          "TLAB UQ Equity",
          "TLAB UW Equity",
          "MOLX UW Equity",
          "MOLX UQ Equity",
          "OMX UN Equity",
          "1683997D UQ Equity",
          "1683997D UW Equity",
          "STE UN Equity",
          "NVDA UW Equity",
          "1789494D US Equity",
          "NVDA UQ Equity",
          "0948669D US Equity",
          "GRA UN Equity",
          "BKNG UW Equity",
          "ORCL UW Equity",
          "TAP UN Equity",
          "ORCL UQ Equity",
          "0848680D US Equity",
          "MU UN Equity",
          "PARA UN Equity",
          "CNX UN Equity",
          "HNZ UN Equity",
          "IRM UN Equity",
          "MKC UN Equity",
          "GS UN Equity",
          "JWN UN Equity",
          "SBAC UW Equity",
          "FFIV UW Equity",
          "ADP UN Equity",
          "DNRCQ UN Equity",
          "FHN UN Equity",
          "RMD UN Equity",
          "BLK UN Equity",
          "STZ UN Equity",
          "JNY UN Equity",
          "1431816D UN Equity",
          "CBE UN Equity",
          "AKAM UW Equity",
          "1684442D UN Equity",
          "A UN Equity",
          "TDY UN Equity",
          "UPS UN Equity",
          "1086832D UN Equity",
          "PKG UN Equity",
          "AGN UN Equity",
          "DFODQ UN Equity",
          "QLGC UQ Equity",
          "GR UN Equity",
          "0961514D UN Equity",
          "QLGC UW Equity",
          "EW UN Equity",
          "1280712D UW Equity",
          "ON UW Equity",
          "MET UN Equity",
          "1073675D UQ Equity",
          "1280712D UQ Equity",
          "WOR UN Equity",
          "TNB UN Equity",
          "1288453D UW Equity",
          "ISRG UW Equity",
          "CRL UN Equity",
          "ILMN UW Equity",
          "1972693D UN Equity",
          "ENDPQ UW Equity",
          "APOL UW Equity",
          "APOL UQ Equity",
          "TIN UN Equity",
          "AAMRQ UN Equity",
          "1519128D UQ Equity",
          "1519128D UW Equity",
          "EKDKQ UN Equity",
          "TPR UN Equity",
          "0111145D UN Equity",
          "FTRCQ UN Equity",
          "TWX UN Equity",
          "FLR UN Equity",
          "GPN UN Equity",
          "0203524D UN Equity",
          "PETM UW Equity",
          "ALGN UW Equity",
          "MYL UN Equity",
          "1996760D UN Equity",
          "PRGO UW Equity",
          "GMCR UW Equity",
          "MEE UN Equity",
          "0848680D UN Equity",
          "CCI UN Equity",
          "WRB UN Equity",
          "1281683D UN Equity",
          "SXCL UQ Equity",
          "BFH UN Equity",
          "NOVL UW Equity",
          "FIS UN Equity",
          "GENZ UQ Equity",
          "GENZ UW Equity",
          "FTI UN Equity",
          "NOVL UQ Equity",
          "1789494D UN Equity",
          "1518855D US Equity",
          "ACN UN Equity",
          "1927294D UN Equity",
          "ZBH UN Equity",
          "AYE UN Equity",
          "BVSN UQ Equity",
          "GRMN UW Equity",
          "LXK UN Equity",
          "GAPTQ UN Equity",
          "1746513D UW Equity",
          "1746513D UQ Equity",
          "ELV UN Equity",
          "AYI UN Equity",
          "AAP UN Equity",
          "SUNEQ UN Equity",
          "PRU UN Equity",
          "CAM UN Equity",
          "PFG UN Equity",
          "1810430D UN Equity",
          "GME UN Equity",
          "CEPH UW Equity",
          "0202445Q UN Equity",
          "SNDK UQ Equity",
          "SNDK UW Equity",
          "FMCC UN Equity",
          "FNMA UN Equity",
          "HAS UN Equity",
          "NFLX UW Equity",
          "RF UN Equity",
          "1778808D UQ Equity",
          "NBR UA Equity",
          "BDK UN Equity",
          "PAS UN Equity",
          "CVG UN Equity",
          "1996074D UN Equity",
          "STJ UN Equity",
          "BNI UN Equity",
          "KMX UN Equity",
          "1920486D UQ Equity",
          "1920486D UW Equity",
          "MAR UN Equity",
          "WYNN UW Equity",
          "SGP UN Equity",
          "1524867D UN Equity",
          "WYE UN Equity",
          "EQIX UW Equity",
          "DVN UA Equity",
          "0226226D UN Equity",
          "MTLQQ UN Equity",
          "ACAS UW Equity",
          "ABKFQ UN Equity",
          "ROH UN Equity",
          "AMCC UQ Equity",
          "MOH UN Equity",
          "XEC UN Equity",
          "NRTLQ UN Equity",
          "MER UN Equity",
          "1255173D UN Equity",
          "NCC UN Equity",
          "3517233Q UN Equity",
          "LKQ UW Equity",
          "CNC UN Equity",
          "RHDCQ UN Equity",
          "HPC US Equity",
          "SAPE UQ Equity",
          "3286728Q UN Equity",
          "3393199Q UN Equity",
          "CA UN Equity",
          "FLTWQ UN Equity",
          "IKN UN Equity",
          "HTMXQ UN Equity",
          "WWY UN Equity",
          "LDG UN Equity",
          "3022239Q UN Equity",
          "3423152Q UN Equity",
          "FJCC US Equity",
          "CCTYQ UN Equity",
          "VTSS UQ Equity",
          "AIZ UN Equity",
          "NRG UN Equity",
          "CFC UN Equity",
          "SBNY UW Equity",
          "DYNIQ UN Equity",
          "1806854D UN Equity",
          "2942331Q UN Equity",
          "GNW UN Equity",
          "ETFC UW Equity",
          "CRM UN Equity",
          "CBRE UN Equity",
          "MZIAQ UN Equity",
          "HDLM UN Equity",
          "DPZ UN Equity",
          "BNSSA US Equity",
          "RAI UN Equity",
          "GOOGL UQ Equity",
          "GOOGL UW Equity",
          "EXR UN Equity",
          "AET UN Equity",
          "ANDW UW Equity",
          "TRB UN Equity",
          "MOS UN Equity",
          "ANDW UQ Equity",
          "DVN UN Equity",
          "DJ UN Equity",
          "DLR UN Equity",
          "HFC UN Equity",
          "HET US Equity",
          "SIG UN Equity",
          "8214761Q UN Equity",
          "HET UN Equity",
          "BRCM UQ Equity",
          "TEK UN Equity",
          "MKTX UW Equity",
          "MPWR UW Equity",
          "BRCM UW Equity",
          "3692470Q UN Equity",
          "0910150D US Equity",
          "3520842Q UN Equity",
          "TXU US Equity",
          "BOL UN Equity",
          "LVS UN Equity",
          "8206908Q UQ Equity",
          "0574018D UN Equity",
          "0964591D UQ Equity",
          "CE UN Equity",
          "8206908Q UW Equity",
          "1856613D UN Equity",
          "0964591D UW Equity",
          "SRR UN Equity",
          "NDAQ UW Equity",
          "DXCM UW Equity",
          "MEL UN Equity",
          "COL UN Equity",
          "JH UN Equity",
          "4621824Q UN Equity",
          "8394653Q UN Equity",
          "1704453D UN Equity",
          "EXPE UW Equity",
          "2307532Q UW Equity",
          "PGL UN Equity",
          "CF UN Equity",
          "2307532Q UQ Equity",
          "2987536Q UN Equity",
          "XTO UN Equity",
          "AMP UN Equity",
          "BLS UN Equity",
          "JNS UN Equity",
          "CDNS UW Equity",
          "1649858D UW Equity",
          "1649858D UQ Equity",
          "3133754Q UN Equity",
          "1897359D UQ Equity",
          "CIEN UQ Equity",
          "0376152D US Equity",
          "ICE UN Equity",
          "INCLF UN Equity",
          "CIEN UW Equity",
          "NBR UN Equity",
          "GDW UN Equity",
          "DISCA UW Equity",
          "NFB UN Equity",
          "LYV UN Equity",
          "CMG UN Equity",
          "0544749D UN Equity",
          "RML UN Equity",
          "TDG UN Equity",
          "CVC UN Equity",
          "1312089D UN Equity",
          "KRI UN Equity",
          "MA UN Equity",
          "HCBK UW Equity",
          "3080867Q UN Equity",
          "929530Q UN Equity",
          "2999130Q UN Equity",
          "1288652D US Equity",
          "CIN UN Equity",
          "1683351D UQ Equity",
          "1719868D UN Equity",
          "TNL UN Equity",
          "DCNAQ UN Equity",
          "PDG UN Equity",
          "ETS UN Equity",
          "RBK UN Equity",
          "MEDI UQ Equity",
          "HBI UN Equity",
          "3026360Q UN Equity",
          "MEDI UW Equity",
          "CMVT UQ Equity",
          "WU UN Equity",
          "LDOS UN Equity",
          "1825471D UN Equity",
          "RDPL UN Equity",
          "653707Q UN Equity",
          "FSLR UW Equity",
          "1028411Q US Equity",
          "SGID UN Equity",
          "IPGP UW Equity",
          "PWER UQ Equity",
          "UAA UN Equity",
          "DALRQ UN Equity",
          "1799685D UN Equity",
          "987200Q UN Equity",
          "2641504Q UN Equity",
          "TOY UN Equity",
          "BR UN Equity",
          "8384662Q US Equity",
          "0948669D UN Equity",
          "723588Q UN Equity",
          "WCG UN Equity",
          "GOSHA UQ Equity",
          "MDLZ UN Equity",
          "DAL UN Equity",
          "1317355D UN Equity",
          "1028411Q UN Equity",
          "SHLDQ UW Equity",
          "SHLDQ UQ Equity",
          "DFS UN Equity",
          "TEL UN Equity",
          "605555Q UN Equity",
          "WNDXQ UN Equity",
          "KRB UN Equity",
          "1255459D UW Equity",
          "TDC UN Equity",
          "ULTA UW Equity",
          "BTUUQ UN Equity",
          "CVGYQ US Equity",
          "TFCFA UN Equity",
          "FSH UN Equity",
          "2676187Q UQ Equity",
          "MSCI UN Equity",
          "1858968D UN Equity",
          "NVR UN Equity",
          "NVDA UA Equity",
          "PM UN Equity",
          "1822785D UN Equity",
          "3621240Q UN Equity",
          "V UN Equity",
          "TIE UN Equity",
          "KDP UN Equity",
          "AWK UN Equity",
          "LEHMQ UN Equity",
          "FBF US Equity",
          "CME UW Equity",
          "MWI UN Equity",
          "STX UW Equity",
          "ADP UW Equity",
          "AVATQ US Equity",
          "BIO UN Equity",
          "FWLT UN Equity",
          "BGEN UQ Equity",
          "PARA UA Equity",
          "VTRS UW Equity",
          "HBAN UA Equity",
          "2968900Q UN Equity",
          "POM UN Equity",
          "NXTL UQ Equity",
          "DISCK UW Equity",
          "MWV UN Equity",
          "CXO UN Equity",
          "329556Q UN Equity",
          "5656565D UN Equity",
          "3605818Q UN Equity",
          "FLMIQ UN Equity",
          "748957Q UN Equity",
          "UALAQ UN Equity",
          "2727195Q UN Equity",
          "AVGO UW Equity",
          "ECO UA Equity",
          "8277831Q UN Equity",
          "VRSK UW Equity",
          "MAT UW Equity",
          "KMRTQ UN Equity",
          "OWENQ UN Equity",
          "TMUS UN Equity",
          "JNPR UN Equity",
          "297504Q UN Equity",
          "ACKH UN Equity",
          "FTNT UW Equity",
          "519239Q UQ Equity",
          "DG UN Equity",
          "MU UW Equity",
          "RATL UQ Equity",
          "8375930Q UN Equity",
          "GNRC UN Equity",
          "CNCEQ UN Equity",
          "RHT UN Equity",
          "UAWGQ UN Equity",
          "IMNX UQ Equity",
          "BHMSQ UN Equity",
          "WCOEQ UQ Equity",
          "680884Q UN Equity",
          "355488Q UQ Equity",
          "1040983D UQ Equity",
          "FTLAQ US Equity",
          "SHOY US Equity",
          "TSLA UW Equity",
          "CBOE UF Equity",
          "MERQ UQ Equity",
          "3029830Q UQ Equity",
          "228510Q US Equity",
          "NXPI UW Equity",
          "NMK UN Equity",
          "CHTR UW Equity",
          "544791Q UN Equity",
          "1051665D UN Equity",
          "FBF UN Equity",
          "ENRNQ UN Equity",
          "CVH UN Equity",
          "MWW UW Equity",
          "LYB UN Equity",
          "MWW UQ Equity",
          "RAL UN Equity",
          "HM UN Equity",
          "UAL UN Equity",
          "MYL UW Equity",
          "GPUI UN Equity",
          "GM UN Equity",
          "677004Q UN Equity",
          "FLT UN Equity",
          "PRDCQ UN Equity",
          "FRC UN Equity",
          "RX UN Equity",
          "HAS UW Equity",
          "304024Q US Equity",
          "NLSN UN Equity",
          "JOSEA US Equity",
          "MI UN Equity",
          "TOS UN Equity",
          "41018Q US Equity",
          "502466Q US Equity",
          "KMI UN Equity",
          "OAT UN Equity",
          "950967Q UN Equity",
          "739306Q US Equity",
          "3153670Q UQ Equity",
          "HCA UN Equity",
          "HII UN Equity",
          "HRZIQ US Equity",
          "1520415D UN Equity",
          "HSP UN Equity",
          "3691661Q UN Equity",
          "GDT UN Equity",
          "RTN/B UN Equity",
          "0772031D UN Equity",
          "MPC UN Equity",
          "3075558Q UN Equity",
          "3403545Q UN Equity",
          "PTV UN Equity",
          "3346Q UN Equity",
          "CMX UN Equity",
          "1255177D UN Equity",
          "CGP UN Equity",
          "253647Q UN Equity",
          "3277Q US Equity",
          "FBHS UN Equity",
          "BMG UN Equity",
          "PBG UN Equity",
          "FPC UN Equity",
          "291784Q UN Equity",
          "3253Q UN Equity",
          "XYL UN Equity",
          "2269312Q UN Equity",
          "68335Q UN Equity",
          "APTV UN Equity",
          "KG UN Equity",
          "FJ UN Equity",
          "301710Q UN Equity",
          "BRL UN Equity",
          "CPRI UN Equity",
          "236555Q UN Equity",
          "TRIP UW Equity",
          "SLM UW Equity",
          "MKG US Equity",
          "QEP UN Equity",
          "UCM UN Equity",
          "1837572D UN Equity",
          "TXN UW Equity",
          "EPAM UN Equity",
          "CA UW Equity",
          "USW UN Equity",
          "1528159D UN Equity",
          "2731112Q US Equity",
          "571300Q UN Equity",
          "1293405D UN Equity",
          "PSX UN Equity",
          "ENPH UQ Equity",
          "WLA UN Equity",
          "1013207D UN Equity",
          "ANRZQ UN Equity",
          "GTW UN Equity",
          "SKLNQ UN Equity",
          "1916672D UN Equity",
          "ADI UW Equity",
          "140402Q UN Equity",
          "45200Q UN Equity",
          "SBUX UA Equity",
          "JOY UW Equity",
          "667517Q UN Equity",
          "JNPR UW Equity",
          "PALM UQ Equity",
          "META UW Equity",
          "1621582D UN Equity",
          "JNPR UQ Equity",
          "WDC UW Equity",
          "NOW UN Equity",
          "UH UN Equity",
          "1539941D UN Equity",
          "300583Q UN Equity",
          "TFCF UW Equity",
          "MDLZ UW Equity",
          "TFCFA UW Equity",
          "BMC UW Equity",
          "BMC UQ Equity",
          "126784Q US Equity",
          "AW UN Equity",
          "LDWIF UN Equity",
          "1727044D UN Equity",
          "CME UN Equity",
          "RNB US Equity",
          "FANG UW Equity",
          "3891289Q UN Equity",
          "375573Q UN Equity",
          "2755Q UN Equity",
          "363096Q UN Equity",
          "PPW US Equity",
          "ZETHQ US Equity",
          "0820143D UN Equity",
          "2770014Q UN Equity",
          "2784Q UN Equity",
          "GWOW UN Equity",
          "93916Q UN Equity",
          "3054Q UN Equity",
          "WAMUQ UN Equity",
          "2288005Q US Equity",
          "NGH UN Equity",
          "BKB UN Equity",
          "AS UN Equity",
          "ABBV UN Equity",
          "GT UW Equity",
          "183291Q UN Equity",
          "3546Q UN Equity",
          "SEBL UQ Equity",
          "ZTS UN Equity",
          "EOP UN Equity",
          "3459Q UN Equity",
          "231079Q UN Equity",
          "RYC UN Equity",
          "2972Q UN Equity",
          "QTRN UQ Equity",
          "GTGOF US Equity",
          "399463Q UN Equity",
          "2691Q UN Equity",
          "IQV UN Equity",
          "896661Q UN Equity",
          "COTY UN Equity",
          "NWSA UW Equity",
          "611647Q UN Equity",
          "WINMQ UW Equity",
          "CPNLQ UN Equity",
          "PRGO UN Equity",
          "CDW UW Equity",
          "968734Q UN Equity",
          "NWS UW Equity",
          "ORCL UN Equity",
          "ORX UN Equity",
          "TCOMA US Equity",
          "KSE UN Equity",
          "TWC UN Equity",
          "RBD UN Equity",
          "IK UN Equity",
          "MFE UN Equity",
          "WPX UN Equity",
          "AZA UN Equity",
          "3301Q UN Equity",
          "2500Q UN Equity",
          "134618Q UN Equity",
          "MAR UW Equity",
          "1567Q UN Equity",
          "2251Q UN Equity",
          "2223Q UN Equity",
          "GFS/A UA Equity",
          "ALLE UN Equity",
          "TWTR UN Equity",
          "945852Q UN Equity",
          "2196Q UN Equity",
          "2428Q UN Equity",
          "2200Q US Equity",
          "370506Q UN Equity",
          "504369Q UN Equity",
          "HLT UN Equity",
          "45861Q UN Equity",
          "AAL UW Equity",
          "3619382Q UN Equity",
          "VSTNQ UN Equity",
          "0943554D UN Equity",
          "2206Q US Equity",
          "UAL UW Equity",
          "MHS UN Equity",
          "0598884D US Equity",
          "BMC UN Equity",
          "162007Q UN Equity",
          "GOOG UW Equity",
          "2964Q UN Equity",
          "2218Q UN Equity",
          "WMX UN Equity",
          "2282655Q UN Equity",
          "ZRN UN Equity",
          "PAYC UN Equity",
          "2126800D UN Equity",
          "NAVI UW Equity",
          "DEC UN Equity",
          "2106Q UN Equity",
          "FTRCQ UW Equity",
          "PVN UN Equity",
          "MJN UN Equity",
          "739306Q UN Equity",
          "ETFC UN Equity",
          "ANET UN Equity",
          "263179Q US Equity",
          "1558530D UN Equity",
          "CBOE UW Equity",
          "SYF UN Equity",
          "764144Q UN Equity",
          "CTLT UN Equity",
          "CZR UW Equity",
          "UEP UN Equity",
          "VIAB UW Equity",
          "MWW UN Equity",
          "2638Q UN Equity",
          "204923Q US Equity",
          "CFG UN Equity",
          "KEYS UN Equity",
          "1802Q UN Equity",
          "1005945D US Equity",
          "2822069Q UN Equity",
          "LLX UN Equity",
          "1824174D UN Equity",
          "WBA UW Equity",
          "GIDL US Equity",
          "SNI UN Equity",
          "2071296D UN Equity",
          "AMD UW Equity",
          "1801229D UN Equity",
          "TDM UN Equity",
          "AMD UR Equity",
          "VIAB UN Equity",
          "1974Q UA Equity",
          "QRVO UW Equity",
          "1448062D UW Equity",
          "1789530D UN Equity",
          "210967Q UN Equity",
          "NAE US Equity",
          "3147596Q UN Equity",
          "334702Q UN Equity",
          "COV UN Equity",
          "SOV UN Equity",
          "SPLS UA Equity",
          "231330Q UN Equity",
          "SEDG UW Equity",
          "90457Q UN Equity",
          "316419Q UN Equity",
          "1618Q US Equity",
          "2036Q UN Equity",
          "1680Q UN Equity",
          "NEC UN Equity",
          "ETSY UW Equity",
          "1581Q UN Equity",
          "MNKKQ UN Equity",
          "CITGQ UN Equity",
          "WRK UN Equity",
          "2731112Q UN Equity",
          "693365Q UN Equity",
          "PYPL UW Equity",
          "KHC UW Equity",
          "AALEA UN Equity",
          "3414924Q US Equity",
          "69895Q US Equity",
          "LO UN Equity",
          "RRD UW Equity",
          "1958Q US Equity",
          "HPE UN Equity",
          "1703561D UN Equity",
          "210811Q UN Equity",
          "MRNKQ US Equity",
          "BLY UN Equity",
          "1511Q UN Equity",
          "TMUS UW Equity",
          "1513Q UN Equity",
          "CSX UW Equity",
          "1463Q UN Equity",
          "WTW UW Equity",
          "DPHIQ UN Equity",
          "548227Q UN Equity",
          "304024Q UN Equity",
          "VAT UN Equity",
          "2746Q UN Equity",
          "MKG UN Equity",
          "2056Q UN Equity",
          "390297Q UN Equity",
          "BF/B UA Equity",
          "2987Q UN Equity",
          "UA UN Equity",
          "USHC US Equity",
          "1356Q UN Equity",
          "FTV UN Equity",
          "0440296D UN Equity",
          "1327Q UN Equity",
          "FBO UN Equity",
          "1423Q UN Equity",
          "LVLT UN Equity",
          "3277Q UN Equity",
          "FFB UN Equity",
          "2284Q UN Equity",
          "0872237D UN Equity",
          "279776Q UN Equity",
          "1530Q UN Equity",
          "1455Q UN Equity",
          "YUMC UN Equity",
          "HWM UN Equity",
          "1297Q UN Equity",
          "LW UN Equity",
          "UPJ UN Equity",
          "923022Q US Equity",
          "WINMQ UN Equity",
          "2576Q UN Equity",
          "1270Q US Equity",
          "CFN UN Equity",
          "1456Q UN Equity",
          "1624Q US Equity",
          "DXC UN Equity",
          "MXS UN Equity",
          "222435Q UN Equity",
          "JOY UN Equity",
          "WOR UQ Equity",
          "CARS UN Equity",
          "2650Q UN Equity",
          "CINL UN Equity",
          "1291Q US Equity",
          "IR UN Equity",
          "CKL UN Equity",
          "228510Q UN Equity",
          "1377Q UN Equity",
          "BHF UW Equity",
          "2745Q UN Equity",
          "2245Q UN Equity",
          "1712414D UN Equity",
          "INFO UW Equity",
          "HFS UN Equity",
          "1199Q US Equity",
          "NCLH UW Equity",
          "1856Q UN Equity",
          "NCLH UN Equity",
          "1719Q UN Equity",
          "PFG UW Equity",
          "605018Q UN Equity",
          "PEP UW Equity",
          "1953Q UN Equity",
          "2953349Q UN Equity",
          "54279Q UN Equity",
          "UMGI UN Equity",
          "XEL UW Equity",
          "MCAWA US Equity",
          "VICI UN Equity",
          "2254Q UN Equity",
          "AFS UN Equity",
          "9876549D UN Equity",
          "JWN UQ Equity",
          "AWE UN Equity",
          "841273Q UQ Equity",
          "1671Q UN Equity",
          "GRMN UN Equity",
          "NVT UN Equity",
          "WAI UN Equity",
          "CDAY UN Equity",
          "285939Q UN Equity",
          "263179Q UN Equity",
          "TCOMA UQ Equity",
          "SCHW UW Equity",
          "TAP UQ Equity",
          "GQ UN Equity",
          "SCHW UQ Equity",
          "JHF UN Equity",
          "1237Q UN Equity",
          "244630Q UQ Equity",
          "WAMUQ UQ Equity",
          "2340361Q UN Equity",
          "2288005Q UN Equity",
          "INFO UN Equity",
          "1166Q US Equity",
          "REG UW Equity",
          "TER UW Equity",
          "MRNA UW Equity",
          "LNT UW Equity",
          "NWL UW Equity",
          "2206Q UQ Equity",
          "2603Q US Equity",
          "JWPI UN Equity",
          "0598884D UQ Equity",
          "1539547D UN Equity",
          "WAN/B UA Equity",
          "1566019D UN Equity",
          "89236Q UN Equity",
          "FOXA UW Equity",
          "FOX UW Equity",
          "DOW UN Equity",
          "CTVA UN Equity",
          "AMCR UN Equity",
          "GTX UN Equity",
          "NAE UN Equity",
          "1654539D UN Equity",
          "COC UN Equity",
          "GENZ UA Equity",
          "69895Q UN Equity",
          "1618Q UN Equity",
          "62553Q UN Equity",
          "GBLXQ US Equity",
          "EXC UW Equity",
          "PRSP UN Equity",
          "NCE UN Equity",
          "202550Q UN Equity",
          "KRFT UW Equity",
          "MIRKQ UN Equity",
          "WETT US Equity",
          "GIDL UQ Equity",
          "PARA UW Equity",
          "1684442D UA Equity",
          "2168Q UQ Equity",
          "CARR UN Equity",
          "827663Q UN Equity",
          "OTIS UN Equity",
          "AZA UA Equity",
          "ARNC UN Equity",
          "CSRA UN Equity",
          "YNR UN Equity",
          "OK UN Equity",
          "APA UW Equity",
          "BAC1 US Equity",
          "204923Q UN Equity",
          "355488Q UN Equity",
          "3147Q UN Equity",
          "3179Q UN Equity",
          "MTCH UW Equity",
          "FSL/B UN Equity",
          "SNI UW Equity",
          "292356Z US Equity",
          "VNT UN Equity",
          "KDP UW Equity",
          "AEP UW Equity",
          "EVHC UN Equity",
          "1649858D UN Equity",
          "HBJ UN Equity",
          "HST UW Equity",
          "1708Q US Equity",
          "QCP UN Equity",
          "TAP/B UN Equity",
          "1503Q UN Equity",
          "PNAA US Equity",
          "643319Q UN Equity",
          "2009Q UN Equity",
          "USHC UQ Equity",
          "1431816D UW Equity",
          "0867887D UN Equity",
          "OGN UN Equity",
          "HON UW Equity",
          "3123863Q UN Equity",
          "601964Q US Equity",
          "DTM UN Equity",
          "519239Q UN Equity",
          "GBLXQ UN Equity",
          "CPGX US Equity",
          "CPGX UN Equity",
          "SLVM UN Equity",
          "BXLT UN Equity",
          "NBL UW Equity",
          "BKR UW Equity",
          "3362726Q UN Equity",
          "1270Q UQ Equity",
          "CEG UW Equity",
          "1624Q UQ Equity",
          "ZIMV UW Equity",
          "2292198Q UN Equity",
          "EMBC UW Equity",
          "WBD UW Equity",
          "9990213D UN Equity",
          "1541931D UA Equity",
          "9995522D UN Equity",
          "1437355D US Equity"
         ],
         "xaxis": "x",
         "y": [
          0,
          0,
          0,
          0,
          0,
          0,
          0,
          0,
          0,
          0,
          0,
          0,
          0,
          0,
          0,
          0,
          0,
          0,
          0,
          0,
          0,
          0,
          0,
          0,
          0,
          0,
          0,
          0,
          0,
          0,
          0,
          0,
          0,
          0,
          0,
          0,
          0,
          0,
          0,
          0,
          0,
          0,
          0,
          0,
          0,
          0,
          0,
          0,
          0,
          0,
          0,
          0,
          0,
          0,
          0,
          0,
          0,
          0,
          0,
          0,
          0,
          0,
          0,
          0,
          0,
          0,
          0,
          0,
          0,
          0,
          0,
          0,
          0,
          0,
          0,
          0,
          0,
          0,
          0,
          0,
          0,
          0,
          0,
          0,
          0,
          0,
          0,
          0,
          0,
          0,
          0,
          0,
          0,
          0,
          0,
          0,
          0,
          0,
          0,
          0,
          0,
          0,
          0,
          0,
          0,
          0,
          0,
          0,
          0,
          0,
          0,
          0,
          0,
          0,
          0,
          0,
          0,
          0,
          0,
          0,
          0,
          0,
          0,
          0,
          0,
          0,
          0,
          0,
          0,
          0,
          0,
          0,
          0,
          0,
          0,
          0,
          0,
          0,
          0,
          0,
          0,
          0,
          0,
          0,
          0,
          0,
          0,
          0,
          0,
          0,
          0,
          0,
          0,
          0,
          0,
          0,
          0,
          0,
          0,
          0,
          0,
          0,
          0,
          0,
          0,
          0,
          0,
          0,
          0,
          0,
          0,
          0,
          0,
          0,
          0,
          0,
          0,
          0,
          0,
          0,
          0,
          0,
          0,
          0,
          0,
          0,
          0,
          0,
          0,
          0,
          0,
          0,
          0,
          0,
          0,
          0,
          0,
          0,
          0,
          0,
          0,
          0,
          0,
          0,
          0,
          0,
          0,
          0,
          0,
          0,
          0,
          0,
          0,
          0,
          0,
          0,
          0,
          0,
          0,
          0,
          0,
          0,
          0,
          0,
          0,
          0,
          0,
          0,
          0,
          0,
          0,
          0,
          0,
          0,
          0,
          0,
          0,
          0,
          0,
          0,
          0,
          0,
          0,
          0,
          0,
          0,
          0,
          0,
          0,
          0,
          0,
          0,
          0,
          0,
          0,
          0,
          0,
          0,
          1,
          1,
          1,
          1,
          1,
          1,
          1,
          1,
          1,
          1,
          1,
          1,
          1,
          1,
          1,
          2,
          2,
          3,
          3,
          3,
          4,
          4,
          4,
          4,
          4,
          4,
          6,
          6,
          6,
          7,
          8,
          9,
          9,
          9,
          12,
          12,
          13,
          14,
          14,
          15,
          15,
          15,
          16,
          16,
          16,
          16,
          17,
          17,
          17,
          18,
          19,
          19,
          20,
          20,
          20,
          21,
          21,
          22,
          22,
          22,
          22,
          23,
          23,
          23,
          23,
          24,
          24,
          25,
          25,
          25,
          25,
          25,
          26,
          26,
          28,
          28,
          28,
          28,
          28,
          29,
          29,
          29,
          29,
          29,
          29,
          30,
          30,
          31,
          31,
          32,
          32,
          33,
          33,
          33,
          34,
          35,
          35,
          37,
          37,
          37,
          37,
          38,
          38,
          38,
          38,
          38,
          39,
          39,
          39,
          39,
          39,
          39,
          39,
          40,
          40,
          40,
          41,
          41,
          41,
          42,
          42,
          42,
          43,
          43,
          43,
          43,
          44,
          45,
          45,
          45,
          46,
          46,
          47,
          47,
          47,
          47,
          48,
          48,
          48,
          48,
          48,
          49,
          50,
          50,
          50,
          50,
          51,
          51,
          51,
          52,
          53,
          54,
          55,
          55,
          56,
          57,
          57,
          57,
          57,
          58,
          58,
          59,
          60,
          60,
          60,
          60,
          60,
          61,
          62,
          62,
          62,
          62,
          62,
          64,
          64,
          64,
          65,
          65,
          65,
          66,
          66,
          66,
          66,
          67,
          68,
          68,
          69,
          69,
          69,
          70,
          70,
          70,
          70,
          70,
          70,
          71,
          71,
          71,
          71,
          72,
          72,
          72,
          72,
          72,
          74,
          74,
          74,
          75,
          75,
          75,
          75,
          76,
          76,
          76,
          76,
          76,
          76,
          77,
          78,
          79,
          79,
          79,
          79,
          79,
          80,
          80,
          81,
          81,
          81,
          81,
          81,
          81,
          82,
          82,
          82,
          82,
          83,
          83,
          83,
          83,
          83,
          85,
          85,
          86,
          87,
          87,
          87,
          88,
          88,
          88,
          88,
          88,
          88,
          89,
          89,
          89,
          89,
          90,
          90,
          90,
          90,
          91,
          91,
          91,
          91,
          91,
          91,
          92,
          92,
          93,
          93,
          93,
          93,
          93,
          94,
          94,
          94,
          94,
          95,
          95,
          95,
          95,
          95,
          95,
          96,
          96,
          96,
          96,
          96,
          97,
          97,
          98,
          98,
          99,
          100,
          100,
          100,
          100,
          101,
          101,
          101,
          101,
          101,
          101,
          102,
          103,
          104,
          104,
          104,
          105,
          105,
          105,
          105,
          106,
          107,
          107,
          107,
          108,
          108,
          108,
          109,
          110,
          110,
          110,
          110,
          110,
          110,
          110,
          111,
          111,
          111,
          111,
          112,
          112,
          113,
          113,
          113,
          113,
          114,
          114,
          116,
          117,
          117,
          117,
          117,
          117,
          117,
          118,
          118,
          118,
          118,
          119,
          120,
          120,
          120,
          122,
          122,
          122,
          122,
          122,
          123,
          123,
          123,
          123,
          123,
          123,
          124,
          124,
          125,
          125,
          126,
          126,
          127,
          127,
          127,
          127,
          128,
          128,
          128,
          128,
          129,
          129,
          130,
          131,
          131,
          132,
          132,
          132,
          132,
          133,
          133,
          134,
          135,
          135,
          135,
          135,
          136,
          136,
          136,
          137,
          137,
          137,
          137,
          137,
          137,
          137,
          137,
          138,
          138,
          138,
          138,
          139,
          139,
          140,
          140,
          141,
          141,
          141,
          141,
          142,
          142,
          143,
          143,
          144,
          145,
          145,
          145,
          146,
          146,
          146,
          146,
          147,
          147,
          148,
          148,
          148,
          149,
          150,
          150,
          150,
          150,
          150,
          151,
          151,
          152,
          152,
          152,
          152,
          153,
          154,
          155,
          155,
          155,
          156,
          157,
          159,
          159,
          160,
          161,
          162,
          162,
          163,
          164,
          164,
          164,
          164,
          164,
          165,
          165,
          165,
          166,
          166,
          166,
          166,
          166,
          166,
          166,
          167,
          167,
          167,
          168,
          169,
          169,
          169,
          169,
          169,
          170,
          170,
          170,
          170,
          171,
          171,
          172,
          172,
          173,
          173,
          174,
          174,
          174,
          174,
          175,
          175,
          175,
          175,
          177,
          177,
          177,
          177,
          177,
          177,
          177,
          177,
          177,
          177,
          178,
          178,
          178,
          178,
          178,
          178,
          178,
          178,
          178,
          179,
          179,
          179,
          179,
          179,
          180,
          180,
          180,
          180,
          180,
          180,
          180,
          181,
          181,
          183,
          183,
          183,
          184,
          184,
          185,
          186,
          186,
          187,
          187,
          187,
          187,
          188,
          188,
          188,
          188,
          189,
          189,
          190,
          190,
          190,
          190,
          190,
          190,
          190,
          190,
          190,
          190,
          191,
          191,
          191,
          191,
          192,
          193,
          193,
          194,
          194,
          195,
          195,
          196,
          196,
          197,
          197,
          197,
          197,
          197,
          197,
          198,
          198,
          198,
          198,
          198,
          199,
          199,
          199,
          199,
          199,
          200,
          200,
          201,
          201,
          202,
          202,
          202,
          203,
          203,
          203,
          203,
          203,
          203,
          205,
          205,
          206,
          206,
          206,
          206,
          206,
          206,
          206,
          206,
          207,
          207,
          207,
          207,
          208,
          208,
          209,
          209,
          210,
          211,
          212,
          212,
          212,
          213,
          213,
          213,
          213,
          213,
          214,
          214,
          215,
          216,
          216,
          218,
          218,
          218,
          218,
          218,
          219,
          219,
          220,
          221,
          222,
          222,
          224,
          225,
          225,
          225,
          226,
          226,
          226,
          227,
          227,
          228,
          228,
          229,
          229,
          230,
          231,
          231,
          232,
          232,
          233,
          233,
          233,
          234,
          235,
          235,
          236,
          237,
          237,
          237,
          237,
          237,
          237,
          237,
          238,
          238,
          238,
          238,
          239,
          239,
          240,
          241,
          241,
          241,
          241,
          242,
          243,
          243,
          244,
          244,
          244,
          244,
          245,
          245,
          245,
          245,
          246,
          246,
          247,
          247,
          248,
          248,
          248,
          248,
          248,
          248,
          249,
          249,
          249,
          249,
          249,
          249,
          249,
          250,
          250,
          251,
          251,
          251,
          251,
          251,
          251,
          252,
          252,
          252,
          252,
          252,
          252,
          253,
          253,
          253,
          253,
          254,
          254,
          254,
          254,
          254,
          254,
          255,
          256,
          256,
          256,
          257,
          257,
          258,
          259,
          259,
          259,
          259,
          259,
          260,
          260,
          260,
          260,
          260,
          260,
          261,
          261,
          261,
          261,
          262,
          262,
          262,
          262,
          262,
          262,
          262,
          263,
          263,
          263,
          263,
          263,
          263,
          263,
          264,
          264,
          265,
          265,
          266,
          266,
          266,
          266,
          266,
          266,
          266,
          267,
          267,
          267,
          267,
          267,
          267,
          267,
          267,
          267,
          267,
          268,
          268,
          268,
          268,
          268,
          268,
          268,
          269,
          269,
          269,
          269,
          269,
          269,
          269,
          269,
          270,
          270,
          272,
          272,
          272,
          272,
          272,
          272,
          273,
          273,
          273,
          273,
          273,
          274,
          274,
          274,
          274,
          274,
          275,
          275,
          275,
          275,
          275,
          275,
          275,
          275,
          275,
          275,
          275,
          276,
          276,
          277,
          277,
          277,
          277,
          277,
          278,
          279,
          279,
          279,
          279,
          280,
          280,
          281,
          281,
          281,
          281,
          281,
          281,
          281,
          281,
          281,
          282,
          282,
          282,
          282,
          282,
          282,
          283,
          283,
          283,
          284,
          284,
          284,
          285,
          285,
          286,
          286,
          286,
          286,
          286,
          286,
          286,
          287,
          287,
          287,
          287,
          287,
          287,
          287,
          287,
          288,
          288,
          288,
          288,
          288,
          288,
          288,
          289,
          289,
          290,
          290,
          290,
          290,
          290,
          291,
          291,
          291,
          291,
          291,
          292,
          292,
          292,
          292,
          292,
          292,
          293,
          293,
          293,
          293,
          294,
          294,
          294,
          296,
          296,
          296,
          296,
          296,
          296,
          296,
          297,
          297,
          298,
          298,
          299,
          299,
          299,
          299,
          299,
          300,
          300,
          300,
          300,
          300,
          300,
          300,
          300,
          301,
          301,
          301,
          301,
          301,
          301,
          301,
          302,
          302,
          302,
          302,
          303,
          303,
          303,
          303,
          303,
          303,
          303,
          304,
          304,
          304,
          305,
          305,
          305,
          306,
          306,
          307,
          307,
          307,
          308,
          308,
          308,
          309,
          309,
          309,
          309,
          309,
          309,
          309,
          309,
          311,
          312,
          312,
          312,
          312,
          312,
          313,
          313,
          313,
          314,
          314,
          314,
          314,
          314,
          314,
          317,
          317,
          317,
          317,
          318,
          319,
          319,
          320,
          320,
          321,
          321,
          321,
          321,
          321,
          321,
          322,
          322,
          322,
          322,
          323,
          323,
          324,
          325,
          325,
          326,
          326,
          326,
          327,
          327,
          328,
          328,
          328,
          328,
          328,
          328,
          328,
          328,
          329,
          330,
          330,
          330,
          330,
          330,
          331,
          332,
          333,
          333,
          334,
          335,
          335,
          335,
          335,
          335,
          335,
          335,
          336,
          336,
          336,
          336,
          337,
          337,
          337,
          337,
          338,
          338,
          338,
          338,
          339,
          339,
          339,
          339,
          339,
          340,
          341,
          341,
          341,
          341,
          341,
          341,
          343,
          343,
          344,
          344,
          345,
          346,
          346,
          346,
          346,
          347,
          347,
          347,
          347,
          347,
          347,
          347,
          347,
          348,
          348,
          349,
          350,
          350,
          350,
          352,
          353,
          353,
          353,
          354,
          354,
          355,
          355,
          355,
          356,
          356,
          356,
          356,
          356,
          357,
          358,
          358,
          359,
          359,
          359,
          359,
          360,
          362,
          362,
          362,
          363,
          363,
          363,
          363,
          364,
          365,
          365,
          366,
          366,
          366,
          366,
          366,
          367,
          368,
          368,
          368,
          368,
          369,
          370,
          370,
          370,
          370,
          370,
          371,
          372,
          372,
          372,
          373,
          373,
          373,
          375,
          375,
          376,
          376,
          376,
          376,
          377,
          377,
          378,
          379,
          379,
          380,
          380,
          382,
          383,
          383,
          384,
          384,
          385,
          385,
          386,
          386,
          387,
          392,
          392,
          392,
          392
         ],
         "yaxis": "y"
        }
       ],
       "layout": {
        "barmode": "relative",
        "legend": {
         "title": {
          "text": "variable"
         },
         "tracegroupgap": 0
        },
        "margin": {
         "t": 60
        },
        "template": {
         "data": {
          "bar": [
           {
            "error_x": {
             "color": "#2a3f5f"
            },
            "error_y": {
             "color": "#2a3f5f"
            },
            "marker": {
             "line": {
              "color": "#E5ECF6",
              "width": 0.5
             },
             "pattern": {
              "fillmode": "overlay",
              "size": 10,
              "solidity": 0.2
             }
            },
            "type": "bar"
           }
          ],
          "barpolar": [
           {
            "marker": {
             "line": {
              "color": "#E5ECF6",
              "width": 0.5
             },
             "pattern": {
              "fillmode": "overlay",
              "size": 10,
              "solidity": 0.2
             }
            },
            "type": "barpolar"
           }
          ],
          "carpet": [
           {
            "aaxis": {
             "endlinecolor": "#2a3f5f",
             "gridcolor": "white",
             "linecolor": "white",
             "minorgridcolor": "white",
             "startlinecolor": "#2a3f5f"
            },
            "baxis": {
             "endlinecolor": "#2a3f5f",
             "gridcolor": "white",
             "linecolor": "white",
             "minorgridcolor": "white",
             "startlinecolor": "#2a3f5f"
            },
            "type": "carpet"
           }
          ],
          "choropleth": [
           {
            "colorbar": {
             "outlinewidth": 0,
             "ticks": ""
            },
            "type": "choropleth"
           }
          ],
          "contour": [
           {
            "colorbar": {
             "outlinewidth": 0,
             "ticks": ""
            },
            "colorscale": [
             [
              0,
              "#0d0887"
             ],
             [
              0.1111111111111111,
              "#46039f"
             ],
             [
              0.2222222222222222,
              "#7201a8"
             ],
             [
              0.3333333333333333,
              "#9c179e"
             ],
             [
              0.4444444444444444,
              "#bd3786"
             ],
             [
              0.5555555555555556,
              "#d8576b"
             ],
             [
              0.6666666666666666,
              "#ed7953"
             ],
             [
              0.7777777777777778,
              "#fb9f3a"
             ],
             [
              0.8888888888888888,
              "#fdca26"
             ],
             [
              1,
              "#f0f921"
             ]
            ],
            "type": "contour"
           }
          ],
          "contourcarpet": [
           {
            "colorbar": {
             "outlinewidth": 0,
             "ticks": ""
            },
            "type": "contourcarpet"
           }
          ],
          "heatmap": [
           {
            "colorbar": {
             "outlinewidth": 0,
             "ticks": ""
            },
            "colorscale": [
             [
              0,
              "#0d0887"
             ],
             [
              0.1111111111111111,
              "#46039f"
             ],
             [
              0.2222222222222222,
              "#7201a8"
             ],
             [
              0.3333333333333333,
              "#9c179e"
             ],
             [
              0.4444444444444444,
              "#bd3786"
             ],
             [
              0.5555555555555556,
              "#d8576b"
             ],
             [
              0.6666666666666666,
              "#ed7953"
             ],
             [
              0.7777777777777778,
              "#fb9f3a"
             ],
             [
              0.8888888888888888,
              "#fdca26"
             ],
             [
              1,
              "#f0f921"
             ]
            ],
            "type": "heatmap"
           }
          ],
          "heatmapgl": [
           {
            "colorbar": {
             "outlinewidth": 0,
             "ticks": ""
            },
            "colorscale": [
             [
              0,
              "#0d0887"
             ],
             [
              0.1111111111111111,
              "#46039f"
             ],
             [
              0.2222222222222222,
              "#7201a8"
             ],
             [
              0.3333333333333333,
              "#9c179e"
             ],
             [
              0.4444444444444444,
              "#bd3786"
             ],
             [
              0.5555555555555556,
              "#d8576b"
             ],
             [
              0.6666666666666666,
              "#ed7953"
             ],
             [
              0.7777777777777778,
              "#fb9f3a"
             ],
             [
              0.8888888888888888,
              "#fdca26"
             ],
             [
              1,
              "#f0f921"
             ]
            ],
            "type": "heatmapgl"
           }
          ],
          "histogram": [
           {
            "marker": {
             "pattern": {
              "fillmode": "overlay",
              "size": 10,
              "solidity": 0.2
             }
            },
            "type": "histogram"
           }
          ],
          "histogram2d": [
           {
            "colorbar": {
             "outlinewidth": 0,
             "ticks": ""
            },
            "colorscale": [
             [
              0,
              "#0d0887"
             ],
             [
              0.1111111111111111,
              "#46039f"
             ],
             [
              0.2222222222222222,
              "#7201a8"
             ],
             [
              0.3333333333333333,
              "#9c179e"
             ],
             [
              0.4444444444444444,
              "#bd3786"
             ],
             [
              0.5555555555555556,
              "#d8576b"
             ],
             [
              0.6666666666666666,
              "#ed7953"
             ],
             [
              0.7777777777777778,
              "#fb9f3a"
             ],
             [
              0.8888888888888888,
              "#fdca26"
             ],
             [
              1,
              "#f0f921"
             ]
            ],
            "type": "histogram2d"
           }
          ],
          "histogram2dcontour": [
           {
            "colorbar": {
             "outlinewidth": 0,
             "ticks": ""
            },
            "colorscale": [
             [
              0,
              "#0d0887"
             ],
             [
              0.1111111111111111,
              "#46039f"
             ],
             [
              0.2222222222222222,
              "#7201a8"
             ],
             [
              0.3333333333333333,
              "#9c179e"
             ],
             [
              0.4444444444444444,
              "#bd3786"
             ],
             [
              0.5555555555555556,
              "#d8576b"
             ],
             [
              0.6666666666666666,
              "#ed7953"
             ],
             [
              0.7777777777777778,
              "#fb9f3a"
             ],
             [
              0.8888888888888888,
              "#fdca26"
             ],
             [
              1,
              "#f0f921"
             ]
            ],
            "type": "histogram2dcontour"
           }
          ],
          "mesh3d": [
           {
            "colorbar": {
             "outlinewidth": 0,
             "ticks": ""
            },
            "type": "mesh3d"
           }
          ],
          "parcoords": [
           {
            "line": {
             "colorbar": {
              "outlinewidth": 0,
              "ticks": ""
             }
            },
            "type": "parcoords"
           }
          ],
          "pie": [
           {
            "automargin": true,
            "type": "pie"
           }
          ],
          "scatter": [
           {
            "fillpattern": {
             "fillmode": "overlay",
             "size": 10,
             "solidity": 0.2
            },
            "type": "scatter"
           }
          ],
          "scatter3d": [
           {
            "line": {
             "colorbar": {
              "outlinewidth": 0,
              "ticks": ""
             }
            },
            "marker": {
             "colorbar": {
              "outlinewidth": 0,
              "ticks": ""
             }
            },
            "type": "scatter3d"
           }
          ],
          "scattercarpet": [
           {
            "marker": {
             "colorbar": {
              "outlinewidth": 0,
              "ticks": ""
             }
            },
            "type": "scattercarpet"
           }
          ],
          "scattergeo": [
           {
            "marker": {
             "colorbar": {
              "outlinewidth": 0,
              "ticks": ""
             }
            },
            "type": "scattergeo"
           }
          ],
          "scattergl": [
           {
            "marker": {
             "colorbar": {
              "outlinewidth": 0,
              "ticks": ""
             }
            },
            "type": "scattergl"
           }
          ],
          "scattermapbox": [
           {
            "marker": {
             "colorbar": {
              "outlinewidth": 0,
              "ticks": ""
             }
            },
            "type": "scattermapbox"
           }
          ],
          "scatterpolar": [
           {
            "marker": {
             "colorbar": {
              "outlinewidth": 0,
              "ticks": ""
             }
            },
            "type": "scatterpolar"
           }
          ],
          "scatterpolargl": [
           {
            "marker": {
             "colorbar": {
              "outlinewidth": 0,
              "ticks": ""
             }
            },
            "type": "scatterpolargl"
           }
          ],
          "scatterternary": [
           {
            "marker": {
             "colorbar": {
              "outlinewidth": 0,
              "ticks": ""
             }
            },
            "type": "scatterternary"
           }
          ],
          "surface": [
           {
            "colorbar": {
             "outlinewidth": 0,
             "ticks": ""
            },
            "colorscale": [
             [
              0,
              "#0d0887"
             ],
             [
              0.1111111111111111,
              "#46039f"
             ],
             [
              0.2222222222222222,
              "#7201a8"
             ],
             [
              0.3333333333333333,
              "#9c179e"
             ],
             [
              0.4444444444444444,
              "#bd3786"
             ],
             [
              0.5555555555555556,
              "#d8576b"
             ],
             [
              0.6666666666666666,
              "#ed7953"
             ],
             [
              0.7777777777777778,
              "#fb9f3a"
             ],
             [
              0.8888888888888888,
              "#fdca26"
             ],
             [
              1,
              "#f0f921"
             ]
            ],
            "type": "surface"
           }
          ],
          "table": [
           {
            "cells": {
             "fill": {
              "color": "#EBF0F8"
             },
             "line": {
              "color": "white"
             }
            },
            "header": {
             "fill": {
              "color": "#C8D4E3"
             },
             "line": {
              "color": "white"
             }
            },
            "type": "table"
           }
          ]
         },
         "layout": {
          "annotationdefaults": {
           "arrowcolor": "#2a3f5f",
           "arrowhead": 0,
           "arrowwidth": 1
          },
          "autotypenumbers": "strict",
          "coloraxis": {
           "colorbar": {
            "outlinewidth": 0,
            "ticks": ""
           }
          },
          "colorscale": {
           "diverging": [
            [
             0,
             "#8e0152"
            ],
            [
             0.1,
             "#c51b7d"
            ],
            [
             0.2,
             "#de77ae"
            ],
            [
             0.3,
             "#f1b6da"
            ],
            [
             0.4,
             "#fde0ef"
            ],
            [
             0.5,
             "#f7f7f7"
            ],
            [
             0.6,
             "#e6f5d0"
            ],
            [
             0.7,
             "#b8e186"
            ],
            [
             0.8,
             "#7fbc41"
            ],
            [
             0.9,
             "#4d9221"
            ],
            [
             1,
             "#276419"
            ]
           ],
           "sequential": [
            [
             0,
             "#0d0887"
            ],
            [
             0.1111111111111111,
             "#46039f"
            ],
            [
             0.2222222222222222,
             "#7201a8"
            ],
            [
             0.3333333333333333,
             "#9c179e"
            ],
            [
             0.4444444444444444,
             "#bd3786"
            ],
            [
             0.5555555555555556,
             "#d8576b"
            ],
            [
             0.6666666666666666,
             "#ed7953"
            ],
            [
             0.7777777777777778,
             "#fb9f3a"
            ],
            [
             0.8888888888888888,
             "#fdca26"
            ],
            [
             1,
             "#f0f921"
            ]
           ],
           "sequentialminus": [
            [
             0,
             "#0d0887"
            ],
            [
             0.1111111111111111,
             "#46039f"
            ],
            [
             0.2222222222222222,
             "#7201a8"
            ],
            [
             0.3333333333333333,
             "#9c179e"
            ],
            [
             0.4444444444444444,
             "#bd3786"
            ],
            [
             0.5555555555555556,
             "#d8576b"
            ],
            [
             0.6666666666666666,
             "#ed7953"
            ],
            [
             0.7777777777777778,
             "#fb9f3a"
            ],
            [
             0.8888888888888888,
             "#fdca26"
            ],
            [
             1,
             "#f0f921"
            ]
           ]
          },
          "colorway": [
           "#636efa",
           "#EF553B",
           "#00cc96",
           "#ab63fa",
           "#FFA15A",
           "#19d3f3",
           "#FF6692",
           "#B6E880",
           "#FF97FF",
           "#FECB52"
          ],
          "font": {
           "color": "#2a3f5f"
          },
          "geo": {
           "bgcolor": "white",
           "lakecolor": "white",
           "landcolor": "#E5ECF6",
           "showlakes": true,
           "showland": true,
           "subunitcolor": "white"
          },
          "hoverlabel": {
           "align": "left"
          },
          "hovermode": "closest",
          "mapbox": {
           "style": "light"
          },
          "paper_bgcolor": "white",
          "plot_bgcolor": "#E5ECF6",
          "polar": {
           "angularaxis": {
            "gridcolor": "white",
            "linecolor": "white",
            "ticks": ""
           },
           "bgcolor": "#E5ECF6",
           "radialaxis": {
            "gridcolor": "white",
            "linecolor": "white",
            "ticks": ""
           }
          },
          "scene": {
           "xaxis": {
            "backgroundcolor": "#E5ECF6",
            "gridcolor": "white",
            "gridwidth": 2,
            "linecolor": "white",
            "showbackground": true,
            "ticks": "",
            "zerolinecolor": "white"
           },
           "yaxis": {
            "backgroundcolor": "#E5ECF6",
            "gridcolor": "white",
            "gridwidth": 2,
            "linecolor": "white",
            "showbackground": true,
            "ticks": "",
            "zerolinecolor": "white"
           },
           "zaxis": {
            "backgroundcolor": "#E5ECF6",
            "gridcolor": "white",
            "gridwidth": 2,
            "linecolor": "white",
            "showbackground": true,
            "ticks": "",
            "zerolinecolor": "white"
           }
          },
          "shapedefaults": {
           "line": {
            "color": "#2a3f5f"
           }
          },
          "ternary": {
           "aaxis": {
            "gridcolor": "white",
            "linecolor": "white",
            "ticks": ""
           },
           "baxis": {
            "gridcolor": "white",
            "linecolor": "white",
            "ticks": ""
           },
           "bgcolor": "#E5ECF6",
           "caxis": {
            "gridcolor": "white",
            "linecolor": "white",
            "ticks": ""
           }
          },
          "title": {
           "x": 0.05
          },
          "xaxis": {
           "automargin": true,
           "gridcolor": "white",
           "linecolor": "white",
           "ticks": "",
           "title": {
            "standoff": 15
           },
           "zerolinecolor": "white",
           "zerolinewidth": 2
          },
          "yaxis": {
           "automargin": true,
           "gridcolor": "white",
           "linecolor": "white",
           "ticks": "",
           "title": {
            "standoff": 15
           },
           "zerolinecolor": "white",
           "zerolinewidth": 2
          }
         }
        },
        "xaxis": {
         "anchor": "y",
         "domain": [
          0,
          1
         ],
         "title": {
          "text": "permno"
         }
        },
        "yaxis": {
         "anchor": "x",
         "domain": [
          0,
          1
         ],
         "title": {
          "text": "value"
         }
        }
       }
      }
     },
     "metadata": {},
     "output_type": "display_data"
    }
   ],
   "source": [
    "# missing prices for differnt stocks\n",
    "df_test_missing = df.isnull()\n",
    "df_test_missing[\"permno\"] = df.permno\n",
    "px.bar(df_test_missing.groupby(\"permno\")[\"price\"].sum().sort_values())"
   ]
  },
  {
   "cell_type": "code",
   "execution_count": 11,
   "id": "8a61ab58",
   "metadata": {},
   "outputs": [
    {
     "data": {
      "text/plain": [
       "permno\n",
       "9990213D UN Equity    392\n",
       "1541931D UA Equity    392\n",
       "1437355D US Equity    392\n",
       "9995522D UN Equity    392\n",
       "WBD UW Equity         387\n",
       "                     ... \n",
       "ROL UN Equity           0\n",
       "ED UN Equity            0\n",
       "BBWI UN Equity          0\n",
       "BBY UN Equity           0\n",
       "CAL UN Equity           0\n",
       "Name: price, Length: 1452, dtype: int64"
      ]
     },
     "execution_count": 11,
     "metadata": {},
     "output_type": "execute_result"
    }
   ],
   "source": [
    "df_test_missing.groupby(\"permno\")[\"price\"].sum().sort_values(ascending=False)"
   ]
  },
  {
   "cell_type": "code",
   "execution_count": 12,
   "id": "f130dafe",
   "metadata": {},
   "outputs": [
    {
     "data": {
      "text/plain": [
       "price        False\n",
       "volume       False\n",
       "turnover     False\n",
       "p2e          False\n",
       "p2b          False\n",
       "cap          False\n",
       "rsi          False\n",
       "lev          False\n",
       "div_ratio    False\n",
       "prof_gr      False\n",
       "roc          False\n",
       "asset_gr     False\n",
       "prof_ma      False\n",
       "eps          False\n",
       "short        False\n",
       "dtype: bool"
      ]
     },
     "execution_count": 12,
     "metadata": {},
     "output_type": "execute_result"
    }
   ],
   "source": [
    "# testing if all companies (permno) have same amount of data points\n",
    "(df_test_missing.groupby(\"permno\").count() != 392).any()"
   ]
  },
  {
   "cell_type": "markdown",
   "id": "4bb1c996",
   "metadata": {},
   "source": [
    "For every company (permno) we have a total of 392 data points"
   ]
  },
  {
   "cell_type": "code",
   "execution_count": 13,
   "id": "59aef1d6",
   "metadata": {},
   "outputs": [
    {
     "data": {
      "application/vnd.plotly.v1+json": {
       "config": {
        "plotlyServerURL": "https://plot.ly"
       },
       "data": [
        {
         "alignmentgroup": "True",
         "hovertemplate": "variable=price<br>permno=%{x}<br>value=%{y}<extra></extra>",
         "legendgroup": "price",
         "marker": {
          "color": "#636efa",
          "pattern": {
           "shape": ""
          }
         },
         "name": "price",
         "offsetgroup": "price",
         "orientation": "v",
         "showlegend": true,
         "textposition": "auto",
         "type": "bar",
         "x": [
          "LPX UN Equity",
          "KO UN Equity",
          "ALK UN Equity",
          "KR UN Equity",
          "AFL UN Equity",
          "L UN Equity",
          "LEG UN Equity",
          "AEP UN Equity",
          "ADSK UW Equity",
          "ADSK UQ Equity",
          "ADM UN Equity",
          "ADBE UW Equity",
          "ADBE UQ Equity",
          "LHX UN Equity",
          "ABT UN Equity",
          "ABMD UW Equity",
          "LLY UN Equity",
          "AAPL UW Equity",
          "AAPL UQ Equity",
          "LNC UN Equity",
          "AA UN Equity",
          "LNT UN Equity",
          "AMAT UQ Equity",
          "LOW UN Equity",
          "AMAT UW Equity",
          "KLAC UW Equity",
          "ITT UN Equity",
          "BAC UN Equity",
          "BA UN Equity",
          "ITW UN Equity",
          "J UN Equity",
          "JBHT UW Equity",
          "JCI UN Equity",
          "JEF UN Equity",
          "AVY UN Equity",
          "JNJ UN Equity",
          "ASH UN Equity",
          "JPM UN Equity",
          "APD UN Equity",
          "JWN US Equity",
          "APA UN Equity",
          "AON UN Equity",
          "K UN Equity",
          "KBH UN Equity",
          "AMGN UW Equity",
          "AMGN UQ Equity",
          "KLAC UQ Equity",
          "KMB UN Equity",
          "EFX UN Equity",
          "LRCX UW Equity",
          "LUMN UN Equity",
          "NTRS UW Equity",
          "NUE UN Equity",
          "NWL UN Equity",
          "NYT US Equity",
          "OKE UN Equity",
          "OXY UN Equity",
          "PAYX UQ Equity",
          "PAYX UW Equity",
          "PBI UN Equity",
          "PCAR UQ Equity",
          "PCAR UW Equity",
          "PCG UN Equity",
          "PEAK UN Equity",
          "PEG UN Equity",
          "PFE UN Equity",
          "PG UN Equity",
          "PGR UN Equity",
          "PH UN Equity",
          "PHM UN Equity",
          "PKI UN Equity",
          "PNC UN Equity",
          "NTRS UQ Equity",
          "NSC UN Equity",
          "NOC UN Equity",
          "NLOK UW Equity",
          "LUV UN Equity",
          "MAS UN Equity",
          "MBI UN Equity",
          "MCD UN Equity",
          "MDT UN Equity",
          "MGM UN Equity",
          "MMC UN Equity",
          "MMM UN Equity",
          "MO UN Equity",
          "MRK UN Equity",
          "BALL UN Equity",
          "MRO US Equity",
          "MSFT UW Equity",
          "MSI UN Equity",
          "MUR UN Equity",
          "NC UN Equity",
          "NEE UN Equity",
          "NEM UN Equity",
          "NEU UN Equity",
          "NI UN Equity",
          "NL UN Equity",
          "NLOK UQ Equity",
          "MSFT UQ Equity",
          "BAX UN Equity",
          "BBWI UN Equity",
          "BBY UN Equity",
          "CTAS UW Equity",
          "CTAS UQ Equity",
          "FISV UQ Equity",
          "FISV UW Equity",
          "FITB UQ Equity",
          "CPB UN Equity",
          "FITB UW Equity",
          "FL UN Equity",
          "COP UN Equity",
          "COO UN Equity",
          "CNP UN Equity",
          "FMC UN Equity",
          "CNA UN Equity",
          "FRT UN Equity",
          "CMS UN Equity",
          "CMI UN Equity",
          "GCO UN Equity",
          "GD UN Equity",
          "GE UN Equity",
          "CMCSA UW Equity",
          "CMCSA UQ Equity",
          "FDX UN Equity",
          "FAST UW Equity",
          "F UN Equity",
          "CVS UN Equity",
          "ECL UN Equity",
          "EA UW Equity",
          "EA UQ Equity",
          "EIX UN Equity",
          "DUK UN Equity",
          "DTE UN Equity",
          "EMR UN Equity",
          "EOG UN Equity",
          "DOV UN Equity",
          "DLX UN Equity",
          "CMA UN Equity",
          "EQT UN Equity",
          "DIS UN Equity",
          "DHR UN Equity",
          "ETN UN Equity",
          "DE UN Equity",
          "DDS UN Equity",
          "DD UN Equity",
          "ETR UN Equity",
          "D UN Equity",
          "EXC UN Equity",
          "CVX UN Equity",
          "ES UN Equity",
          "PNW UN Equity",
          "CLX UN Equity",
          "CL UN Equity",
          "HPQ UN Equity",
          "HRB UN Equity",
          "BSET UQ Equity",
          "HRL UN Equity",
          "HST US Equity",
          "HSY UN Equity",
          "HUM UN Equity",
          "BMY UN Equity",
          "IBM UN Equity",
          "IFF UN Equity",
          "INTC UQ Equity",
          "BKR UN Equity",
          "INTC UW Equity",
          "BK UN Equity",
          "BIG UN Equity",
          "IP UN Equity",
          "IPG UN Equity",
          "BEN UN Equity",
          "BDX UN Equity",
          "BCO US Equity",
          "BC UN Equity",
          "HP UN Equity",
          "C UN Equity",
          "HON UN Equity",
          "CAG UN Equity",
          "GHC UN Equity",
          "CINF UW Equity",
          "CINF UQ Equity",
          "GIS UN Equity",
          "GL UN Equity",
          "CI UN Equity",
          "GLW UN Equity",
          "GOLD UN Equity",
          "GPC UN Equity",
          "GPS UN Equity",
          "CLF UN Equity",
          "GWW UN Equity",
          "HAS US Equity",
          "HBAN UQ Equity",
          "CCK UN Equity",
          "HBAN UW Equity",
          "CCEP UN Equity",
          "HD UN Equity",
          "HES UN Equity",
          "CAT UN Equity",
          "HOG UN Equity",
          "CAL UN Equity",
          "HAL UN Equity",
          "PPG UN Equity",
          "ED UN Equity",
          "SLB UN Equity",
          "SCI UN Equity",
          "SPXC UN Equity",
          "UIS UN Equity",
          "TKR UN Equity",
          "WY UN Equity",
          "WST UN Equity",
          "WOR US Equity",
          "WEC UN Equity",
          "TXT UN Equity",
          "T UN Equity",
          "WMT UN Equity",
          "RTX UN Equity",
          "RJF UN Equity",
          "TT UN Equity",
          "SWK UN Equity",
          "TROW UQ Equity",
          "WHR UN Equity",
          "ROL UN Equity",
          "TRV US Equity",
          "WFC UN Equity",
          "SYY UN Equity",
          "ROST UW Equity",
          "TROW UW Equity",
          "SWN UN Equity",
          "WMB UN Equity",
          "VZ UN Equity",
          "TAP US Equity",
          "TJX UN Equity",
          "ZION UW Equity",
          "PTC UQ Equity",
          "ZION UQ Equity",
          "PTC UW Equity",
          "VFC UN Equity",
          "TER UN Equity",
          "YELL UQ Equity",
          "PVH UN Equity",
          "SNA UN Equity",
          "XRX UN Equity",
          "USB US Equity",
          "SNV UN Equity",
          "VVI US Equity",
          "SIVB UW Equity",
          "VMC UN Equity",
          "THC UN Equity",
          "PPL UN Equity",
          "XOM UN Equity",
          "UNM UN Equity",
          "SO UN Equity",
          "TGNA UN Equity",
          "TGT UN Equity",
          "USB UN Equity",
          "SPGI UN Equity",
          "UNP UN Equity",
          "SHW UN Equity",
          "NDSN UW Equity",
          "TYL UN Equity",
          "AIG UN Equity",
          "LEN UN Equity",
          "IEX UN Equity",
          "CSCO UW Equity",
          "TRV UN Equity",
          "AXP UN Equity",
          "XRAY UW Equity",
          "R UN Equity",
          "DRE UN Equity",
          "TMO UN Equity",
          "EXPD UW Equity",
          "ATO UN Equity",
          "CSCO UQ Equity",
          "CTRA UN Equity",
          "RAD UN Equity",
          "AJG UN Equity",
          "XEL UN Equity",
          "HOLX UW Equity",
          "PEP UN Equity",
          "9990253D UN Equity",
          "JKHY UW Equity",
          "UDR UN Equity",
          "RHI UN Equity",
          "LUB UN Equity",
          "CERN UW Equity",
          "PBCT UW Equity",
          "TRMB UW Equity",
          "CHD UN Equity",
          "VNO UN Equity",
          "MDP UN Equity",
          "NKE UN Equity",
          "KSU UN Equity",
          "XLNX UQ Equity",
          "XLNX UW Equity",
          "OMC UN Equity",
          "SSP UN Equity",
          "TEX UN Equity",
          "AZO UN Equity",
          "REGN UW Equity",
          "CTB UN Equity",
          "VVI UN Equity",
          "BF/B UN Equity",
          "X UN Equity",
          "MRO UN Equity",
          "IDXX UW Equity",
          "VAR UN Equity",
          "UHS UN Equity",
          "VRTX UW Equity",
          "MTG UN Equity",
          "ZBRA UW Equity",
          "2078185D UN Equity",
          "BIIB UQ Equity",
          "BIIB UW Equity",
          "SJM UN Equity",
          "UNH UN Equity",
          "UN UN Equity",
          "KIM UN Equity",
          "CCL UN Equity",
          "TFC UN Equity",
          "QCOM UQ Equity",
          "QCOM UW Equity",
          "OI UN Equity",
          "NBL UN Equity",
          "GILD UW Equity",
          "GILD UQ Equity",
          "MXIM UQ Equity",
          "SNPS UW Equity",
          "MXIM UW Equity",
          "LM UN Equity",
          "VTR UN Equity",
          "M UN Equity",
          "BGGSQ UN Equity",
          "BSX UN Equity",
          "KSS UN Equity",
          "CPPRQ UN Equity",
          "EVRG UN Equity",
          "CSX UN Equity",
          "RTN UN Equity",
          "LIN UN Equity",
          "SBUX UW Equity",
          "BBBY UW Equity",
          "BBBY UQ Equity",
          "SBUX UQ Equity",
          "ODFL UW Equity",
          "TECH UW Equity",
          "KEY UN Equity",
          "NAV UN Equity",
          "AVP UN Equity",
          "MDRIQ UN Equity",
          "PDCO UW Equity",
          "STI UN Equity",
          "PDCO UQ Equity",
          "CELG UW Equity",
          "WELL UN Equity",
          "WLBAQ US Equity",
          "MS UN Equity",
          "APC UN Equity",
          "MNST UW Equity",
          "SITC UN Equity",
          "TSS UN Equity",
          "MCHP UW Equity",
          "INTU UQ Equity",
          "CB UN Equity",
          "INTU UW Equity",
          "SANM UQ Equity",
          "FOSL UW Equity",
          "BMS UN Equity",
          "RCL UN Equity",
          "SANM UW Equity",
          "AMD UN Equity",
          "ORLY UW Equity",
          "RIG UN Equity",
          "MTW UN Equity",
          "WBA UN Equity",
          "RDC UN Equity",
          "ALL UN Equity",
          "SWKS UW Equity",
          "CPT UN Equity",
          "USG UN Equity",
          "BCO UN Equity",
          "WM UN Equity",
          "EHC UN Equity",
          "EQR UN Equity",
          "BWA UN Equity",
          "SCG UN Equity",
          "COST UW Equity",
          "COST UQ Equity",
          "HST UN Equity",
          "RRC UN Equity",
          "REG UN Equity",
          "SVU UN Equity",
          "ANDV UN Equity",
          "SPG UN Equity",
          "URBN UW Equity",
          "VIAV UW Equity",
          "EMN UN Equity",
          "ATVI UW Equity",
          "MAA UN Equity",
          "VIAV UQ Equity",
          "MLM UN Equity",
          "CPRT UW Equity",
          "MAC UN Equity",
          "ALB UN Equity",
          "AVB UN Equity",
          "TFX UN Equity",
          "TSCO UW Equity",
          "SCHW UN Equity",
          "PENN UW Equity",
          "ESS UN Equity",
          "AIV UN Equity",
          "NKTR UW Equity",
          "SKY UN Equity",
          "CAH UN Equity",
          "FLIR UW Equity",
          "BCR UN Equity",
          "PSA UN Equity",
          "O UN Equity",
          "COF UN Equity",
          "INCY UW Equity",
          "AOS UN Equity",
          "1715651D UN Equity",
          "MCK UN Equity",
          "SPLS UQ Equity",
          "1697067D UN Equity",
          "SPLS UW Equity",
          "STT UN Equity",
          "LMT UN Equity",
          "KATE US Equity",
          "1812212D UW Equity",
          "DLTR UW Equity",
          "BHI UN Equity",
          "GT UN Equity",
          "DRI UN Equity",
          "LH UN Equity",
          "DISH UW Equity",
          "WAB UN Equity",
          "CSC UN Equity",
          "LLTC UW Equity",
          "HAR UN Equity",
          "1831877D UN Equity",
          "LLTC UQ Equity",
          "FCX UN Equity",
          "STJ US Equity",
          "IVZ UN Equity",
          "POOL UW Equity",
          "RE UN Equity",
          "DVA UN Equity",
          "WAT UN Equity",
          "EL UN Equity",
          "ATGE UN Equity",
          "HSIC UW Equity",
          "NTAP UW Equity",
          "NTAP UQ Equity",
          "HIG UN Equity",
          "CTXS UQ Equity",
          "CTXS UW Equity",
          "DHI UN Equity",
          "HOT UN Equity",
          "ADI UN Equity",
          "2073714D UN Equity",
          "1436513D UN Equity",
          "EMC UN Equity",
          "ESRX UW Equity",
          "ESRX UQ Equity",
          "GAS UN Equity",
          "1500785D UN Equity",
          "PNR UN Equity",
          "TXN UN Equity",
          "KATE UN Equity",
          "1922150D UN Equity",
          "ABC UN Equity",
          "SLM UN Equity",
          "BRK/B UN Equity",
          "ARG UN Equity",
          "TUP UN Equity",
          "FDS UN Equity",
          "ANSS UW Equity",
          "PCL UN Equity",
          "PCP UN Equity",
          "SRCL UW Equity",
          "ATI UN Equity",
          "1627457D UN Equity",
          "9876566D UN Equity",
          "ANF UN Equity",
          "NOV UN Equity",
          "1541931D UQ Equity",
          "CMCSK UQ Equity",
          "AES UN Equity",
          "CMCSK UW Equity",
          "1541931D UW Equity",
          "SIAL UW Equity",
          "SIAL UQ Equity",
          "ROP UN Equity",
          "WDC UN Equity",
          "DGX UN Equity",
          "CNW UN Equity",
          "NCR UN Equity",
          "TEN UN Equity",
          "ROK UN Equity",
          "WFM UW Equity",
          "WFM UQ Equity",
          "FDO UN Equity",
          "ALXN UW Equity",
          "TEG UN Equity",
          "1448062D UN Equity",
          "APH UN Equity",
          "AMZN UQ Equity",
          "CAR UN Equity",
          "ARE UN Equity",
          "AMZN UW Equity",
          "PCH UN Equity",
          "BXP UN Equity",
          "RL UN Equity",
          "AN UN Equity",
          "NFX UN Equity",
          "SYK UN Equity",
          "CHKAQ UN Equity",
          "1284849D UN Equity",
          "FLS UN Equity",
          "PXD UN Equity",
          "RSHCQ UN Equity",
          "RRD UN Equity",
          "VLO UN Equity",
          "AME UN Equity",
          "SLG UN Equity",
          "NYT UN Equity",
          "YUM UN Equity",
          "WFTIQ UN Equity",
          "FWLT US Equity",
          "AKS UN Equity",
          "TSN UN Equity",
          "CHRW UW Equity",
          "AMG UN Equity",
          "FE UN Equity",
          "MTD UN Equity",
          "PLD UN Equity",
          "URI UN Equity",
          "PMCS UQ Equity",
          "MHK UN Equity",
          "PMCS UW Equity",
          "BRO UN Equity",
          "SWY UN Equity",
          "TTWO UW Equity",
          "VALPQ UN Equity",
          "AEE UN Equity",
          "VRSN UW Equity",
          "VRSN UQ Equity",
          "PWR UN Equity",
          "HSH UN Equity",
          "SEE UN Equity",
          "DOFSQ UN Equity",
          "GGP UN Equity",
          "FHI UN Equity",
          "JBL UN Equity",
          "NEBLQ UN Equity",
          "1752754D UN Equity",
          "MTB UN Equity",
          "AMT UN Equity",
          "CTSH UW Equity",
          "MCO UN Equity",
          "9876544D UN Equity",
          "SRE UN Equity",
          "RSG UN Equity",
          "MAT UN Equity",
          "IT UN Equity",
          "EBAY UQ Equity",
          "EBAY UW Equity",
          "TLAB UQ Equity",
          "TLAB UW Equity",
          "MOLX UW Equity",
          "MOLX UQ Equity",
          "OMX UN Equity",
          "1683997D UQ Equity",
          "1683997D UW Equity",
          "STE UN Equity",
          "NVDA UW Equity",
          "1789494D US Equity",
          "NVDA UQ Equity",
          "0948669D US Equity",
          "GRA UN Equity",
          "BKNG UW Equity",
          "ORCL UW Equity",
          "TAP UN Equity",
          "ORCL UQ Equity",
          "0848680D US Equity",
          "MU UN Equity",
          "PARA UN Equity",
          "CNX UN Equity",
          "HNZ UN Equity",
          "IRM UN Equity",
          "MKC UN Equity",
          "GS UN Equity",
          "JWN UN Equity",
          "SBAC UW Equity",
          "FFIV UW Equity",
          "ADP UN Equity",
          "DNRCQ UN Equity",
          "FHN UN Equity",
          "RMD UN Equity",
          "BLK UN Equity",
          "STZ UN Equity",
          "JNY UN Equity",
          "1431816D UN Equity",
          "CBE UN Equity",
          "AKAM UW Equity",
          "1684442D UN Equity",
          "A UN Equity",
          "TDY UN Equity",
          "UPS UN Equity",
          "1086832D UN Equity",
          "PKG UN Equity",
          "AGN UN Equity",
          "DFODQ UN Equity",
          "QLGC UQ Equity",
          "GR UN Equity",
          "0961514D UN Equity",
          "QLGC UW Equity",
          "EW UN Equity",
          "1280712D UW Equity",
          "ON UW Equity",
          "MET UN Equity",
          "1073675D UQ Equity",
          "1280712D UQ Equity",
          "WOR UN Equity",
          "TNB UN Equity",
          "1288453D UW Equity",
          "ISRG UW Equity",
          "CRL UN Equity",
          "ILMN UW Equity",
          "1972693D UN Equity",
          "ENDPQ UW Equity",
          "APOL UW Equity",
          "APOL UQ Equity",
          "TIN UN Equity",
          "AAMRQ UN Equity",
          "1519128D UQ Equity",
          "1519128D UW Equity",
          "EKDKQ UN Equity",
          "TPR UN Equity",
          "0111145D UN Equity",
          "FTRCQ UN Equity",
          "TWX UN Equity",
          "FLR UN Equity",
          "GPN UN Equity",
          "0203524D UN Equity",
          "PETM UW Equity",
          "ALGN UW Equity",
          "MYL UN Equity",
          "1996760D UN Equity",
          "PRGO UW Equity",
          "GMCR UW Equity",
          "MEE UN Equity",
          "0848680D UN Equity",
          "CCI UN Equity",
          "WRB UN Equity",
          "1281683D UN Equity",
          "SXCL UQ Equity",
          "BFH UN Equity",
          "NOVL UW Equity",
          "FIS UN Equity",
          "GENZ UQ Equity",
          "GENZ UW Equity",
          "FTI UN Equity",
          "NOVL UQ Equity",
          "1789494D UN Equity",
          "1518855D US Equity",
          "ACN UN Equity",
          "1927294D UN Equity",
          "ZBH UN Equity",
          "AYE UN Equity",
          "BVSN UQ Equity",
          "GRMN UW Equity",
          "LXK UN Equity",
          "GAPTQ UN Equity",
          "1746513D UW Equity",
          "1746513D UQ Equity",
          "ELV UN Equity",
          "AYI UN Equity",
          "AAP UN Equity",
          "SUNEQ UN Equity",
          "PRU UN Equity",
          "CAM UN Equity",
          "PFG UN Equity",
          "1810430D UN Equity",
          "GME UN Equity",
          "CEPH UW Equity",
          "0202445Q UN Equity",
          "SNDK UQ Equity",
          "SNDK UW Equity",
          "FMCC UN Equity",
          "FNMA UN Equity",
          "HAS UN Equity",
          "NFLX UW Equity",
          "RF UN Equity",
          "1778808D UQ Equity",
          "NBR UA Equity",
          "BDK UN Equity",
          "PAS UN Equity",
          "CVG UN Equity",
          "1996074D UN Equity",
          "STJ UN Equity",
          "BNI UN Equity",
          "KMX UN Equity",
          "1920486D UQ Equity",
          "1920486D UW Equity",
          "MAR UN Equity",
          "WYNN UW Equity",
          "SGP UN Equity",
          "1524867D UN Equity",
          "WYE UN Equity",
          "EQIX UW Equity",
          "DVN UA Equity",
          "0226226D UN Equity",
          "MTLQQ UN Equity",
          "ACAS UW Equity",
          "ABKFQ UN Equity",
          "ROH UN Equity",
          "AMCC UQ Equity",
          "MOH UN Equity",
          "XEC UN Equity",
          "NRTLQ UN Equity",
          "MER UN Equity",
          "1255173D UN Equity",
          "NCC UN Equity",
          "3517233Q UN Equity",
          "LKQ UW Equity",
          "CNC UN Equity",
          "RHDCQ UN Equity",
          "HPC US Equity",
          "SAPE UQ Equity",
          "3286728Q UN Equity",
          "3393199Q UN Equity",
          "CA UN Equity",
          "FLTWQ UN Equity",
          "IKN UN Equity",
          "HTMXQ UN Equity",
          "WWY UN Equity",
          "LDG UN Equity",
          "3022239Q UN Equity",
          "3423152Q UN Equity",
          "FJCC US Equity",
          "CCTYQ UN Equity",
          "VTSS UQ Equity",
          "AIZ UN Equity",
          "NRG UN Equity",
          "CFC UN Equity",
          "SBNY UW Equity",
          "DYNIQ UN Equity",
          "1806854D UN Equity",
          "2942331Q UN Equity",
          "GNW UN Equity",
          "ETFC UW Equity",
          "CRM UN Equity",
          "CBRE UN Equity",
          "MZIAQ UN Equity",
          "HDLM UN Equity",
          "DPZ UN Equity",
          "BNSSA US Equity",
          "RAI UN Equity",
          "GOOGL UQ Equity",
          "GOOGL UW Equity",
          "EXR UN Equity",
          "AET UN Equity",
          "ANDW UW Equity",
          "TRB UN Equity",
          "MOS UN Equity",
          "ANDW UQ Equity",
          "DVN UN Equity",
          "DJ UN Equity",
          "DLR UN Equity",
          "HFC UN Equity",
          "HET US Equity",
          "SIG UN Equity",
          "8214761Q UN Equity",
          "HET UN Equity",
          "BRCM UQ Equity",
          "TEK UN Equity",
          "MKTX UW Equity",
          "MPWR UW Equity",
          "BRCM UW Equity",
          "3692470Q UN Equity",
          "0910150D US Equity",
          "3520842Q UN Equity",
          "TXU US Equity",
          "BOL UN Equity",
          "LVS UN Equity",
          "8206908Q UQ Equity",
          "0574018D UN Equity",
          "0964591D UQ Equity",
          "CE UN Equity",
          "8206908Q UW Equity",
          "1856613D UN Equity",
          "0964591D UW Equity",
          "SRR UN Equity",
          "NDAQ UW Equity",
          "DXCM UW Equity",
          "MEL UN Equity",
          "COL UN Equity",
          "JH UN Equity",
          "4621824Q UN Equity",
          "8394653Q UN Equity",
          "1704453D UN Equity",
          "EXPE UW Equity",
          "2307532Q UW Equity",
          "PGL UN Equity",
          "CF UN Equity",
          "2307532Q UQ Equity",
          "2987536Q UN Equity",
          "XTO UN Equity",
          "AMP UN Equity",
          "BLS UN Equity",
          "JNS UN Equity",
          "CDNS UW Equity",
          "1649858D UW Equity",
          "1649858D UQ Equity",
          "3133754Q UN Equity",
          "1897359D UQ Equity",
          "CIEN UQ Equity",
          "0376152D US Equity",
          "ICE UN Equity",
          "INCLF UN Equity",
          "CIEN UW Equity",
          "NBR UN Equity",
          "GDW UN Equity",
          "DISCA UW Equity",
          "NFB UN Equity",
          "LYV UN Equity",
          "CMG UN Equity",
          "0544749D UN Equity",
          "RML UN Equity",
          "TDG UN Equity",
          "CVC UN Equity",
          "1312089D UN Equity",
          "KRI UN Equity",
          "MA UN Equity",
          "HCBK UW Equity",
          "3080867Q UN Equity",
          "929530Q UN Equity",
          "2999130Q UN Equity",
          "1288652D US Equity",
          "CIN UN Equity",
          "1683351D UQ Equity",
          "1719868D UN Equity",
          "TNL UN Equity",
          "DCNAQ UN Equity",
          "PDG UN Equity",
          "ETS UN Equity",
          "RBK UN Equity",
          "MEDI UQ Equity",
          "HBI UN Equity",
          "3026360Q UN Equity",
          "MEDI UW Equity",
          "CMVT UQ Equity",
          "WU UN Equity",
          "LDOS UN Equity",
          "1825471D UN Equity",
          "RDPL UN Equity",
          "653707Q UN Equity",
          "FSLR UW Equity",
          "1028411Q US Equity",
          "SGID UN Equity",
          "IPGP UW Equity",
          "PWER UQ Equity",
          "UAA UN Equity",
          "DALRQ UN Equity",
          "1799685D UN Equity",
          "987200Q UN Equity",
          "2641504Q UN Equity",
          "TOY UN Equity",
          "BR UN Equity",
          "8384662Q US Equity",
          "0948669D UN Equity",
          "723588Q UN Equity",
          "WCG UN Equity",
          "GOSHA UQ Equity",
          "MDLZ UN Equity",
          "DAL UN Equity",
          "1317355D UN Equity",
          "1028411Q UN Equity",
          "SHLDQ UW Equity",
          "SHLDQ UQ Equity",
          "DFS UN Equity",
          "TEL UN Equity",
          "605555Q UN Equity",
          "WNDXQ UN Equity",
          "KRB UN Equity",
          "1255459D UW Equity",
          "TDC UN Equity",
          "ULTA UW Equity",
          "BTUUQ UN Equity",
          "CVGYQ US Equity",
          "TFCFA UN Equity",
          "FSH UN Equity",
          "2676187Q UQ Equity",
          "MSCI UN Equity",
          "1858968D UN Equity",
          "NVR UN Equity",
          "NVDA UA Equity",
          "PM UN Equity",
          "1822785D UN Equity",
          "3621240Q UN Equity",
          "V UN Equity",
          "TIE UN Equity",
          "KDP UN Equity",
          "AWK UN Equity",
          "LEHMQ UN Equity",
          "FBF US Equity",
          "CME UW Equity",
          "MWI UN Equity",
          "STX UW Equity",
          "ADP UW Equity",
          "AVATQ US Equity",
          "BIO UN Equity",
          "FWLT UN Equity",
          "BGEN UQ Equity",
          "PARA UA Equity",
          "VTRS UW Equity",
          "HBAN UA Equity",
          "2968900Q UN Equity",
          "POM UN Equity",
          "NXTL UQ Equity",
          "DISCK UW Equity",
          "MWV UN Equity",
          "CXO UN Equity",
          "329556Q UN Equity",
          "5656565D UN Equity",
          "3605818Q UN Equity",
          "FLMIQ UN Equity",
          "748957Q UN Equity",
          "UALAQ UN Equity",
          "2727195Q UN Equity",
          "AVGO UW Equity",
          "ECO UA Equity",
          "8277831Q UN Equity",
          "VRSK UW Equity",
          "MAT UW Equity",
          "KMRTQ UN Equity",
          "OWENQ UN Equity",
          "TMUS UN Equity",
          "JNPR UN Equity",
          "297504Q UN Equity",
          "ACKH UN Equity",
          "FTNT UW Equity",
          "519239Q UQ Equity",
          "DG UN Equity",
          "MU UW Equity",
          "RATL UQ Equity",
          "8375930Q UN Equity",
          "GNRC UN Equity",
          "CNCEQ UN Equity",
          "RHT UN Equity",
          "UAWGQ UN Equity",
          "IMNX UQ Equity",
          "BHMSQ UN Equity",
          "WCOEQ UQ Equity",
          "680884Q UN Equity",
          "355488Q UQ Equity",
          "1040983D UQ Equity",
          "FTLAQ US Equity",
          "SHOY US Equity",
          "TSLA UW Equity",
          "CBOE UF Equity",
          "MERQ UQ Equity",
          "3029830Q UQ Equity",
          "228510Q US Equity",
          "NXPI UW Equity",
          "NMK UN Equity",
          "CHTR UW Equity",
          "544791Q UN Equity",
          "1051665D UN Equity",
          "FBF UN Equity",
          "ENRNQ UN Equity",
          "CVH UN Equity",
          "MWW UW Equity",
          "LYB UN Equity",
          "MWW UQ Equity",
          "RAL UN Equity",
          "HM UN Equity",
          "UAL UN Equity",
          "MYL UW Equity",
          "GPUI UN Equity",
          "GM UN Equity",
          "677004Q UN Equity",
          "FLT UN Equity",
          "PRDCQ UN Equity",
          "FRC UN Equity",
          "RX UN Equity",
          "HAS UW Equity",
          "304024Q US Equity",
          "NLSN UN Equity",
          "JOSEA US Equity",
          "MI UN Equity",
          "TOS UN Equity",
          "41018Q US Equity",
          "502466Q US Equity",
          "KMI UN Equity",
          "OAT UN Equity",
          "950967Q UN Equity",
          "739306Q US Equity",
          "3153670Q UQ Equity",
          "HCA UN Equity",
          "HII UN Equity",
          "HRZIQ US Equity",
          "1520415D UN Equity",
          "HSP UN Equity",
          "3691661Q UN Equity",
          "GDT UN Equity",
          "RTN/B UN Equity",
          "0772031D UN Equity",
          "MPC UN Equity",
          "3075558Q UN Equity",
          "3403545Q UN Equity",
          "PTV UN Equity",
          "3346Q UN Equity",
          "CMX UN Equity",
          "1255177D UN Equity",
          "CGP UN Equity",
          "253647Q UN Equity",
          "3277Q US Equity",
          "FBHS UN Equity",
          "BMG UN Equity",
          "PBG UN Equity",
          "FPC UN Equity",
          "291784Q UN Equity",
          "3253Q UN Equity",
          "XYL UN Equity",
          "2269312Q UN Equity",
          "68335Q UN Equity",
          "APTV UN Equity",
          "KG UN Equity",
          "FJ UN Equity",
          "301710Q UN Equity",
          "BRL UN Equity",
          "CPRI UN Equity",
          "236555Q UN Equity",
          "TRIP UW Equity",
          "SLM UW Equity",
          "MKG US Equity",
          "QEP UN Equity",
          "UCM UN Equity",
          "1837572D UN Equity",
          "TXN UW Equity",
          "EPAM UN Equity",
          "CA UW Equity",
          "USW UN Equity",
          "1528159D UN Equity",
          "2731112Q US Equity",
          "571300Q UN Equity",
          "1293405D UN Equity",
          "PSX UN Equity",
          "ENPH UQ Equity",
          "WLA UN Equity",
          "1013207D UN Equity",
          "ANRZQ UN Equity",
          "GTW UN Equity",
          "SKLNQ UN Equity",
          "1916672D UN Equity",
          "ADI UW Equity",
          "140402Q UN Equity",
          "45200Q UN Equity",
          "SBUX UA Equity",
          "JOY UW Equity",
          "667517Q UN Equity",
          "JNPR UW Equity",
          "PALM UQ Equity",
          "META UW Equity",
          "1621582D UN Equity",
          "JNPR UQ Equity",
          "WDC UW Equity",
          "NOW UN Equity",
          "UH UN Equity",
          "1539941D UN Equity",
          "300583Q UN Equity",
          "TFCF UW Equity",
          "MDLZ UW Equity",
          "TFCFA UW Equity",
          "BMC UW Equity",
          "BMC UQ Equity",
          "126784Q US Equity",
          "AW UN Equity",
          "LDWIF UN Equity",
          "1727044D UN Equity",
          "CME UN Equity",
          "RNB US Equity",
          "FANG UW Equity",
          "3891289Q UN Equity",
          "375573Q UN Equity",
          "2755Q UN Equity",
          "363096Q UN Equity",
          "PPW US Equity",
          "ZETHQ US Equity",
          "0820143D UN Equity",
          "2770014Q UN Equity",
          "2784Q UN Equity",
          "GWOW UN Equity",
          "93916Q UN Equity",
          "3054Q UN Equity",
          "WAMUQ UN Equity",
          "2288005Q US Equity",
          "NGH UN Equity",
          "BKB UN Equity",
          "AS UN Equity",
          "ABBV UN Equity",
          "GT UW Equity",
          "183291Q UN Equity",
          "3546Q UN Equity",
          "SEBL UQ Equity",
          "ZTS UN Equity",
          "EOP UN Equity",
          "3459Q UN Equity",
          "231079Q UN Equity",
          "RYC UN Equity",
          "2972Q UN Equity",
          "QTRN UQ Equity",
          "GTGOF US Equity",
          "399463Q UN Equity",
          "2691Q UN Equity",
          "IQV UN Equity",
          "896661Q UN Equity",
          "COTY UN Equity",
          "NWSA UW Equity",
          "611647Q UN Equity",
          "WINMQ UW Equity",
          "CPNLQ UN Equity",
          "PRGO UN Equity",
          "CDW UW Equity",
          "968734Q UN Equity",
          "NWS UW Equity",
          "ORCL UN Equity",
          "ORX UN Equity",
          "TCOMA US Equity",
          "KSE UN Equity",
          "TWC UN Equity",
          "RBD UN Equity",
          "IK UN Equity",
          "MFE UN Equity",
          "WPX UN Equity",
          "AZA UN Equity",
          "3301Q UN Equity",
          "2500Q UN Equity",
          "134618Q UN Equity",
          "MAR UW Equity",
          "1567Q UN Equity",
          "2251Q UN Equity",
          "2223Q UN Equity",
          "GFS/A UA Equity",
          "ALLE UN Equity",
          "TWTR UN Equity",
          "945852Q UN Equity",
          "2196Q UN Equity",
          "2428Q UN Equity",
          "2200Q US Equity",
          "370506Q UN Equity",
          "504369Q UN Equity",
          "HLT UN Equity",
          "45861Q UN Equity",
          "AAL UW Equity",
          "3619382Q UN Equity",
          "VSTNQ UN Equity",
          "0943554D UN Equity",
          "2206Q US Equity",
          "UAL UW Equity",
          "MHS UN Equity",
          "0598884D US Equity",
          "BMC UN Equity",
          "162007Q UN Equity",
          "GOOG UW Equity",
          "2964Q UN Equity",
          "2218Q UN Equity",
          "WMX UN Equity",
          "2282655Q UN Equity",
          "ZRN UN Equity",
          "PAYC UN Equity",
          "2126800D UN Equity",
          "NAVI UW Equity",
          "DEC UN Equity",
          "2106Q UN Equity",
          "FTRCQ UW Equity",
          "PVN UN Equity",
          "MJN UN Equity",
          "739306Q UN Equity",
          "ETFC UN Equity",
          "ANET UN Equity",
          "263179Q US Equity",
          "1558530D UN Equity",
          "CBOE UW Equity",
          "SYF UN Equity",
          "764144Q UN Equity",
          "CTLT UN Equity",
          "CZR UW Equity",
          "UEP UN Equity",
          "VIAB UW Equity",
          "MWW UN Equity",
          "2638Q UN Equity",
          "204923Q US Equity",
          "CFG UN Equity",
          "KEYS UN Equity",
          "1802Q UN Equity",
          "1005945D US Equity",
          "2822069Q UN Equity",
          "LLX UN Equity",
          "1824174D UN Equity",
          "WBA UW Equity",
          "GIDL US Equity",
          "SNI UN Equity",
          "2071296D UN Equity",
          "AMD UW Equity",
          "1801229D UN Equity",
          "TDM UN Equity",
          "AMD UR Equity",
          "VIAB UN Equity",
          "1974Q UA Equity",
          "QRVO UW Equity",
          "1448062D UW Equity",
          "1789530D UN Equity",
          "210967Q UN Equity",
          "NAE US Equity",
          "3147596Q UN Equity",
          "334702Q UN Equity",
          "COV UN Equity",
          "SOV UN Equity",
          "SPLS UA Equity",
          "231330Q UN Equity",
          "SEDG UW Equity",
          "90457Q UN Equity",
          "316419Q UN Equity",
          "1618Q US Equity",
          "2036Q UN Equity",
          "1680Q UN Equity",
          "NEC UN Equity",
          "ETSY UW Equity",
          "1581Q UN Equity",
          "MNKKQ UN Equity",
          "CITGQ UN Equity",
          "WRK UN Equity",
          "2731112Q UN Equity",
          "693365Q UN Equity",
          "PYPL UW Equity",
          "KHC UW Equity",
          "AALEA UN Equity",
          "3414924Q US Equity",
          "69895Q US Equity",
          "LO UN Equity",
          "RRD UW Equity",
          "1958Q US Equity",
          "HPE UN Equity",
          "1703561D UN Equity",
          "210811Q UN Equity",
          "MRNKQ US Equity",
          "BLY UN Equity",
          "1511Q UN Equity",
          "TMUS UW Equity",
          "1513Q UN Equity",
          "CSX UW Equity",
          "1463Q UN Equity",
          "WTW UW Equity",
          "DPHIQ UN Equity",
          "548227Q UN Equity",
          "304024Q UN Equity",
          "VAT UN Equity",
          "2746Q UN Equity",
          "MKG UN Equity",
          "2056Q UN Equity",
          "390297Q UN Equity",
          "BF/B UA Equity",
          "2987Q UN Equity",
          "UA UN Equity",
          "USHC US Equity",
          "1356Q UN Equity",
          "FTV UN Equity",
          "0440296D UN Equity",
          "1327Q UN Equity",
          "FBO UN Equity",
          "1423Q UN Equity",
          "LVLT UN Equity",
          "3277Q UN Equity",
          "FFB UN Equity",
          "2284Q UN Equity",
          "0872237D UN Equity",
          "279776Q UN Equity",
          "1530Q UN Equity",
          "1455Q UN Equity",
          "YUMC UN Equity",
          "HWM UN Equity",
          "1297Q UN Equity",
          "LW UN Equity",
          "UPJ UN Equity",
          "923022Q US Equity",
          "WINMQ UN Equity",
          "2576Q UN Equity",
          "1270Q US Equity",
          "CFN UN Equity",
          "1456Q UN Equity",
          "1624Q US Equity",
          "DXC UN Equity",
          "MXS UN Equity",
          "222435Q UN Equity",
          "JOY UN Equity",
          "WOR UQ Equity",
          "CARS UN Equity",
          "2650Q UN Equity",
          "CINL UN Equity",
          "1291Q US Equity",
          "IR UN Equity",
          "CKL UN Equity",
          "228510Q UN Equity",
          "1377Q UN Equity",
          "BHF UW Equity",
          "2745Q UN Equity",
          "2245Q UN Equity",
          "1712414D UN Equity",
          "INFO UW Equity",
          "HFS UN Equity",
          "1199Q US Equity",
          "NCLH UW Equity",
          "1856Q UN Equity",
          "NCLH UN Equity",
          "1719Q UN Equity",
          "PFG UW Equity",
          "605018Q UN Equity",
          "PEP UW Equity",
          "1953Q UN Equity",
          "2953349Q UN Equity",
          "54279Q UN Equity",
          "UMGI UN Equity",
          "XEL UW Equity",
          "MCAWA US Equity",
          "VICI UN Equity",
          "2254Q UN Equity",
          "AFS UN Equity",
          "9876549D UN Equity",
          "JWN UQ Equity",
          "AWE UN Equity",
          "841273Q UQ Equity",
          "1671Q UN Equity",
          "GRMN UN Equity",
          "NVT UN Equity",
          "WAI UN Equity",
          "CDAY UN Equity",
          "285939Q UN Equity",
          "263179Q UN Equity",
          "TCOMA UQ Equity",
          "SCHW UW Equity",
          "TAP UQ Equity",
          "GQ UN Equity",
          "SCHW UQ Equity",
          "JHF UN Equity",
          "1237Q UN Equity",
          "244630Q UQ Equity",
          "WAMUQ UQ Equity",
          "2340361Q UN Equity",
          "2288005Q UN Equity",
          "INFO UN Equity",
          "1166Q US Equity",
          "REG UW Equity",
          "TER UW Equity",
          "MRNA UW Equity",
          "LNT UW Equity",
          "NWL UW Equity",
          "2206Q UQ Equity",
          "2603Q US Equity",
          "JWPI UN Equity",
          "0598884D UQ Equity",
          "1539547D UN Equity",
          "WAN/B UA Equity",
          "1566019D UN Equity",
          "89236Q UN Equity",
          "FOXA UW Equity",
          "FOX UW Equity",
          "DOW UN Equity",
          "CTVA UN Equity",
          "AMCR UN Equity",
          "GTX UN Equity",
          "NAE UN Equity",
          "1654539D UN Equity",
          "COC UN Equity",
          "GENZ UA Equity",
          "69895Q UN Equity",
          "1618Q UN Equity",
          "62553Q UN Equity",
          "GBLXQ US Equity",
          "EXC UW Equity",
          "PRSP UN Equity",
          "NCE UN Equity",
          "202550Q UN Equity",
          "KRFT UW Equity",
          "MIRKQ UN Equity",
          "WETT US Equity",
          "GIDL UQ Equity",
          "PARA UW Equity",
          "1684442D UA Equity",
          "2168Q UQ Equity",
          "CARR UN Equity",
          "827663Q UN Equity",
          "OTIS UN Equity",
          "AZA UA Equity",
          "ARNC UN Equity",
          "CSRA UN Equity",
          "YNR UN Equity",
          "OK UN Equity",
          "APA UW Equity",
          "BAC1 US Equity",
          "204923Q UN Equity",
          "355488Q UN Equity",
          "3147Q UN Equity",
          "3179Q UN Equity",
          "MTCH UW Equity",
          "FSL/B UN Equity",
          "SNI UW Equity",
          "292356Z US Equity",
          "VNT UN Equity",
          "KDP UW Equity",
          "AEP UW Equity",
          "EVHC UN Equity",
          "1649858D UN Equity",
          "HBJ UN Equity",
          "HST UW Equity",
          "1708Q US Equity",
          "QCP UN Equity",
          "TAP/B UN Equity",
          "1503Q UN Equity",
          "PNAA US Equity",
          "643319Q UN Equity",
          "2009Q UN Equity",
          "USHC UQ Equity",
          "1431816D UW Equity",
          "0867887D UN Equity",
          "OGN UN Equity",
          "HON UW Equity",
          "3123863Q UN Equity",
          "601964Q US Equity",
          "DTM UN Equity",
          "519239Q UN Equity",
          "GBLXQ UN Equity",
          "CPGX US Equity",
          "CPGX UN Equity",
          "SLVM UN Equity",
          "BXLT UN Equity",
          "NBL UW Equity",
          "BKR UW Equity",
          "3362726Q UN Equity",
          "1270Q UQ Equity",
          "CEG UW Equity",
          "1624Q UQ Equity",
          "ZIMV UW Equity",
          "2292198Q UN Equity",
          "EMBC UW Equity",
          "WBD UW Equity",
          "9990213D UN Equity",
          "1541931D UA Equity",
          "9995522D UN Equity",
          "1437355D US Equity"
         ],
         "xaxis": "x",
         "y": [
          0,
          0,
          0,
          0,
          0,
          0,
          0,
          0,
          0,
          0,
          0,
          0,
          0,
          0,
          0,
          0,
          0,
          0,
          0,
          0,
          0,
          0,
          0,
          0,
          0,
          0,
          0,
          0,
          0,
          0,
          0,
          0,
          0,
          0,
          0,
          0,
          0,
          0,
          0,
          0,
          0,
          0,
          0,
          0,
          0,
          0,
          0,
          0,
          0,
          0,
          0,
          0,
          0,
          0,
          0,
          0,
          0,
          0,
          0,
          0,
          0,
          0,
          0,
          0,
          0,
          0,
          0,
          0,
          0,
          0,
          0,
          0,
          0,
          0,
          0,
          0,
          0,
          0,
          0,
          0,
          0,
          0,
          0,
          0,
          0,
          0,
          0,
          0,
          0,
          0,
          0,
          0,
          0,
          0,
          0,
          0,
          0,
          0,
          0,
          0,
          0,
          0,
          0,
          0,
          0,
          0,
          0,
          0,
          0,
          0,
          0,
          0,
          0,
          0,
          0,
          0,
          0,
          0,
          0,
          0,
          0,
          0,
          0,
          0,
          0,
          0,
          0,
          0,
          0,
          0,
          0,
          0,
          0,
          0,
          0,
          0,
          0,
          0,
          0,
          0,
          0,
          0,
          0,
          0,
          0,
          0,
          0,
          0,
          0,
          0,
          0,
          0,
          0,
          0,
          0,
          0,
          0,
          0,
          0,
          0,
          0,
          0,
          0,
          0,
          0,
          0,
          0,
          0,
          0,
          0,
          0,
          0,
          0,
          0,
          0,
          0,
          0,
          0,
          0,
          0,
          0,
          0,
          0,
          0,
          0,
          0,
          0,
          0,
          0,
          0,
          0,
          0,
          0,
          0,
          0,
          0,
          0,
          0,
          0,
          0,
          0,
          0,
          0,
          0,
          0,
          0,
          0,
          0,
          0,
          0,
          0,
          0,
          0,
          0,
          0,
          0,
          0,
          0,
          0,
          0,
          0,
          0,
          0,
          0,
          0,
          0,
          0,
          0,
          0,
          0,
          0,
          0,
          0,
          0,
          0,
          0,
          0,
          0,
          0,
          0,
          0,
          0,
          0,
          0,
          0,
          0,
          0,
          0,
          0,
          0,
          0,
          0,
          0,
          0,
          0,
          0,
          0,
          0,
          0.002551020408163265,
          0.002551020408163265,
          0.002551020408163265,
          0.002551020408163265,
          0.002551020408163265,
          0.002551020408163265,
          0.002551020408163265,
          0.002551020408163265,
          0.002551020408163265,
          0.002551020408163265,
          0.002551020408163265,
          0.002551020408163265,
          0.002551020408163265,
          0.002551020408163265,
          0.002551020408163265,
          0.00510204081632653,
          0.00510204081632653,
          0.007653061224489796,
          0.007653061224489796,
          0.007653061224489796,
          0.01020408163265306,
          0.01020408163265306,
          0.01020408163265306,
          0.01020408163265306,
          0.01020408163265306,
          0.01020408163265306,
          0.015306122448979591,
          0.015306122448979591,
          0.015306122448979591,
          0.017857142857142856,
          0.02040816326530612,
          0.02295918367346939,
          0.02295918367346939,
          0.02295918367346939,
          0.030612244897959183,
          0.030612244897959183,
          0.03316326530612245,
          0.03571428571428571,
          0.03571428571428571,
          0.03826530612244898,
          0.03826530612244898,
          0.03826530612244898,
          0.04081632653061224,
          0.04081632653061224,
          0.04081632653061224,
          0.04081632653061224,
          0.04336734693877551,
          0.04336734693877551,
          0.04336734693877551,
          0.04591836734693878,
          0.04846938775510204,
          0.04846938775510204,
          0.05102040816326531,
          0.05102040816326531,
          0.05102040816326531,
          0.05357142857142857,
          0.05357142857142857,
          0.05612244897959184,
          0.05612244897959184,
          0.05612244897959184,
          0.05612244897959184,
          0.058673469387755105,
          0.058673469387755105,
          0.058673469387755105,
          0.058673469387755105,
          0.061224489795918366,
          0.061224489795918366,
          0.06377551020408163,
          0.06377551020408163,
          0.06377551020408163,
          0.06377551020408163,
          0.06377551020408163,
          0.0663265306122449,
          0.0663265306122449,
          0.07142857142857142,
          0.07142857142857142,
          0.07142857142857142,
          0.07142857142857142,
          0.07142857142857142,
          0.07397959183673469,
          0.07397959183673469,
          0.07397959183673469,
          0.07397959183673469,
          0.07397959183673469,
          0.07397959183673469,
          0.07653061224489796,
          0.07653061224489796,
          0.07908163265306123,
          0.07908163265306123,
          0.08163265306122448,
          0.08163265306122448,
          0.08418367346938775,
          0.08418367346938775,
          0.08418367346938775,
          0.08673469387755102,
          0.08928571428571429,
          0.08928571428571429,
          0.09438775510204081,
          0.09438775510204081,
          0.09438775510204081,
          0.09438775510204081,
          0.09693877551020408,
          0.09693877551020408,
          0.09693877551020408,
          0.09693877551020408,
          0.09693877551020408,
          0.09948979591836735,
          0.09948979591836735,
          0.09948979591836735,
          0.09948979591836735,
          0.09948979591836735,
          0.09948979591836735,
          0.09948979591836735,
          0.10204081632653061,
          0.10204081632653061,
          0.10204081632653061,
          0.10459183673469388,
          0.10459183673469388,
          0.10459183673469388,
          0.10714285714285714,
          0.10714285714285714,
          0.10714285714285714,
          0.1096938775510204,
          0.1096938775510204,
          0.1096938775510204,
          0.1096938775510204,
          0.11224489795918367,
          0.11479591836734694,
          0.11479591836734694,
          0.11479591836734694,
          0.11734693877551021,
          0.11734693877551021,
          0.11989795918367346,
          0.11989795918367346,
          0.11989795918367346,
          0.11989795918367346,
          0.12244897959183673,
          0.12244897959183673,
          0.12244897959183673,
          0.12244897959183673,
          0.12244897959183673,
          0.125,
          0.12755102040816327,
          0.12755102040816327,
          0.12755102040816327,
          0.12755102040816327,
          0.13010204081632654,
          0.13010204081632654,
          0.13010204081632654,
          0.1326530612244898,
          0.13520408163265307,
          0.1377551020408163,
          0.14030612244897958,
          0.14030612244897958,
          0.14285714285714285,
          0.14540816326530612,
          0.14540816326530612,
          0.14540816326530612,
          0.14540816326530612,
          0.14795918367346939,
          0.14795918367346939,
          0.15051020408163265,
          0.15306122448979592,
          0.15306122448979592,
          0.15306122448979592,
          0.15306122448979592,
          0.15306122448979592,
          0.1556122448979592,
          0.15816326530612246,
          0.15816326530612246,
          0.15816326530612246,
          0.15816326530612246,
          0.15816326530612246,
          0.16326530612244897,
          0.16326530612244897,
          0.16326530612244897,
          0.16581632653061223,
          0.16581632653061223,
          0.16581632653061223,
          0.1683673469387755,
          0.1683673469387755,
          0.1683673469387755,
          0.1683673469387755,
          0.17091836734693877,
          0.17346938775510204,
          0.17346938775510204,
          0.1760204081632653,
          0.1760204081632653,
          0.1760204081632653,
          0.17857142857142858,
          0.17857142857142858,
          0.17857142857142858,
          0.17857142857142858,
          0.17857142857142858,
          0.17857142857142858,
          0.18112244897959184,
          0.18112244897959184,
          0.18112244897959184,
          0.18112244897959184,
          0.1836734693877551,
          0.1836734693877551,
          0.1836734693877551,
          0.1836734693877551,
          0.1836734693877551,
          0.18877551020408162,
          0.18877551020408162,
          0.18877551020408162,
          0.1913265306122449,
          0.1913265306122449,
          0.1913265306122449,
          0.1913265306122449,
          0.19387755102040816,
          0.19387755102040816,
          0.19387755102040816,
          0.19387755102040816,
          0.19387755102040816,
          0.19387755102040816,
          0.19642857142857142,
          0.1989795918367347,
          0.20153061224489796,
          0.20153061224489796,
          0.20153061224489796,
          0.20153061224489796,
          0.20153061224489796,
          0.20408163265306123,
          0.20408163265306123,
          0.2066326530612245,
          0.2066326530612245,
          0.2066326530612245,
          0.2066326530612245,
          0.2066326530612245,
          0.2066326530612245,
          0.20918367346938777,
          0.20918367346938777,
          0.20918367346938777,
          0.20918367346938777,
          0.21173469387755103,
          0.21173469387755103,
          0.21173469387755103,
          0.21173469387755103,
          0.21173469387755103,
          0.21683673469387754,
          0.21683673469387754,
          0.2193877551020408,
          0.22193877551020408,
          0.22193877551020408,
          0.22193877551020408,
          0.22448979591836735,
          0.22448979591836735,
          0.22448979591836735,
          0.22448979591836735,
          0.22448979591836735,
          0.22448979591836735,
          0.22704081632653061,
          0.22704081632653061,
          0.22704081632653061,
          0.22704081632653061,
          0.22959183673469388,
          0.22959183673469388,
          0.22959183673469388,
          0.22959183673469388,
          0.23214285714285715,
          0.23214285714285715,
          0.23214285714285715,
          0.23214285714285715,
          0.23214285714285715,
          0.23214285714285715,
          0.23469387755102042,
          0.23469387755102042,
          0.2372448979591837,
          0.2372448979591837,
          0.2372448979591837,
          0.2372448979591837,
          0.2372448979591837,
          0.23979591836734693,
          0.23979591836734693,
          0.23979591836734693,
          0.23979591836734693,
          0.2423469387755102,
          0.2423469387755102,
          0.2423469387755102,
          0.2423469387755102,
          0.2423469387755102,
          0.2423469387755102,
          0.24489795918367346,
          0.24489795918367346,
          0.24489795918367346,
          0.24489795918367346,
          0.24489795918367346,
          0.24744897959183673,
          0.24744897959183673,
          0.25,
          0.25,
          0.25255102040816324,
          0.25510204081632654,
          0.25510204081632654,
          0.25510204081632654,
          0.25510204081632654,
          0.2576530612244898,
          0.2576530612244898,
          0.2576530612244898,
          0.2576530612244898,
          0.2576530612244898,
          0.2576530612244898,
          0.2602040816326531,
          0.2627551020408163,
          0.2653061224489796,
          0.2653061224489796,
          0.2653061224489796,
          0.26785714285714285,
          0.26785714285714285,
          0.26785714285714285,
          0.26785714285714285,
          0.27040816326530615,
          0.2729591836734694,
          0.2729591836734694,
          0.2729591836734694,
          0.2755102040816326,
          0.2755102040816326,
          0.2755102040816326,
          0.2780612244897959,
          0.28061224489795916,
          0.28061224489795916,
          0.28061224489795916,
          0.28061224489795916,
          0.28061224489795916,
          0.28061224489795916,
          0.28061224489795916,
          0.28316326530612246,
          0.28316326530612246,
          0.28316326530612246,
          0.28316326530612246,
          0.2857142857142857,
          0.2857142857142857,
          0.288265306122449,
          0.288265306122449,
          0.288265306122449,
          0.288265306122449,
          0.29081632653061223,
          0.29081632653061223,
          0.29591836734693877,
          0.29846938775510207,
          0.29846938775510207,
          0.29846938775510207,
          0.29846938775510207,
          0.29846938775510207,
          0.29846938775510207,
          0.3010204081632653,
          0.3010204081632653,
          0.3010204081632653,
          0.3010204081632653,
          0.30357142857142855,
          0.30612244897959184,
          0.30612244897959184,
          0.30612244897959184,
          0.3112244897959184,
          0.3112244897959184,
          0.3112244897959184,
          0.3112244897959184,
          0.3112244897959184,
          0.3137755102040816,
          0.3137755102040816,
          0.3137755102040816,
          0.3137755102040816,
          0.3137755102040816,
          0.3137755102040816,
          0.3163265306122449,
          0.3163265306122449,
          0.31887755102040816,
          0.31887755102040816,
          0.32142857142857145,
          0.32142857142857145,
          0.3239795918367347,
          0.3239795918367347,
          0.3239795918367347,
          0.3239795918367347,
          0.32653061224489793,
          0.32653061224489793,
          0.32653061224489793,
          0.32653061224489793,
          0.32908163265306123,
          0.32908163265306123,
          0.33163265306122447,
          0.33418367346938777,
          0.33418367346938777,
          0.336734693877551,
          0.336734693877551,
          0.336734693877551,
          0.336734693877551,
          0.3392857142857143,
          0.3392857142857143,
          0.34183673469387754,
          0.34438775510204084,
          0.34438775510204084,
          0.34438775510204084,
          0.34438775510204084,
          0.3469387755102041,
          0.3469387755102041,
          0.3469387755102041,
          0.3494897959183674,
          0.3494897959183674,
          0.3494897959183674,
          0.3494897959183674,
          0.3494897959183674,
          0.3494897959183674,
          0.3494897959183674,
          0.3494897959183674,
          0.3520408163265306,
          0.3520408163265306,
          0.3520408163265306,
          0.3520408163265306,
          0.35459183673469385,
          0.35459183673469385,
          0.35714285714285715,
          0.35714285714285715,
          0.3596938775510204,
          0.3596938775510204,
          0.3596938775510204,
          0.3596938775510204,
          0.3622448979591837,
          0.3622448979591837,
          0.3647959183673469,
          0.3647959183673469,
          0.3673469387755102,
          0.36989795918367346,
          0.36989795918367346,
          0.36989795918367346,
          0.37244897959183676,
          0.37244897959183676,
          0.37244897959183676,
          0.37244897959183676,
          0.375,
          0.375,
          0.37755102040816324,
          0.37755102040816324,
          0.37755102040816324,
          0.38010204081632654,
          0.3826530612244898,
          0.3826530612244898,
          0.3826530612244898,
          0.3826530612244898,
          0.3826530612244898,
          0.3852040816326531,
          0.3852040816326531,
          0.3877551020408163,
          0.3877551020408163,
          0.3877551020408163,
          0.3877551020408163,
          0.3903061224489796,
          0.39285714285714285,
          0.39540816326530615,
          0.39540816326530615,
          0.39540816326530615,
          0.3979591836734694,
          0.4005102040816326,
          0.40561224489795916,
          0.40561224489795916,
          0.40816326530612246,
          0.4107142857142857,
          0.413265306122449,
          0.413265306122449,
          0.41581632653061223,
          0.41836734693877553,
          0.41836734693877553,
          0.41836734693877553,
          0.41836734693877553,
          0.41836734693877553,
          0.42091836734693877,
          0.42091836734693877,
          0.42091836734693877,
          0.42346938775510207,
          0.42346938775510207,
          0.42346938775510207,
          0.42346938775510207,
          0.42346938775510207,
          0.42346938775510207,
          0.42346938775510207,
          0.4260204081632653,
          0.4260204081632653,
          0.4260204081632653,
          0.42857142857142855,
          0.43112244897959184,
          0.43112244897959184,
          0.43112244897959184,
          0.43112244897959184,
          0.43112244897959184,
          0.4336734693877551,
          0.4336734693877551,
          0.4336734693877551,
          0.4336734693877551,
          0.4362244897959184,
          0.4362244897959184,
          0.4387755102040816,
          0.4387755102040816,
          0.4413265306122449,
          0.4413265306122449,
          0.44387755102040816,
          0.44387755102040816,
          0.44387755102040816,
          0.44387755102040816,
          0.44642857142857145,
          0.44642857142857145,
          0.44642857142857145,
          0.44642857142857145,
          0.45153061224489793,
          0.45153061224489793,
          0.45153061224489793,
          0.45153061224489793,
          0.45153061224489793,
          0.45153061224489793,
          0.45153061224489793,
          0.45153061224489793,
          0.45153061224489793,
          0.45153061224489793,
          0.45408163265306123,
          0.45408163265306123,
          0.45408163265306123,
          0.45408163265306123,
          0.45408163265306123,
          0.45408163265306123,
          0.45408163265306123,
          0.45408163265306123,
          0.45408163265306123,
          0.45663265306122447,
          0.45663265306122447,
          0.45663265306122447,
          0.45663265306122447,
          0.45663265306122447,
          0.45918367346938777,
          0.45918367346938777,
          0.45918367346938777,
          0.45918367346938777,
          0.45918367346938777,
          0.45918367346938777,
          0.45918367346938777,
          0.461734693877551,
          0.461734693877551,
          0.46683673469387754,
          0.46683673469387754,
          0.46683673469387754,
          0.46938775510204084,
          0.46938775510204084,
          0.4719387755102041,
          0.4744897959183674,
          0.4744897959183674,
          0.4770408163265306,
          0.4770408163265306,
          0.4770408163265306,
          0.4770408163265306,
          0.47959183673469385,
          0.47959183673469385,
          0.47959183673469385,
          0.47959183673469385,
          0.48214285714285715,
          0.48214285714285715,
          0.4846938775510204,
          0.4846938775510204,
          0.4846938775510204,
          0.4846938775510204,
          0.4846938775510204,
          0.4846938775510204,
          0.4846938775510204,
          0.4846938775510204,
          0.4846938775510204,
          0.4846938775510204,
          0.4872448979591837,
          0.4872448979591837,
          0.4872448979591837,
          0.4872448979591837,
          0.4897959183673469,
          0.4923469387755102,
          0.4923469387755102,
          0.49489795918367346,
          0.49489795918367346,
          0.49744897959183676,
          0.49744897959183676,
          0.5,
          0.5,
          0.5025510204081632,
          0.5025510204081632,
          0.5025510204081632,
          0.5025510204081632,
          0.5025510204081632,
          0.5025510204081632,
          0.5051020408163265,
          0.5051020408163265,
          0.5051020408163265,
          0.5051020408163265,
          0.5051020408163265,
          0.5076530612244898,
          0.5076530612244898,
          0.5076530612244898,
          0.5076530612244898,
          0.5076530612244898,
          0.5102040816326531,
          0.5102040816326531,
          0.5127551020408163,
          0.5127551020408163,
          0.5153061224489796,
          0.5153061224489796,
          0.5153061224489796,
          0.5178571428571429,
          0.5178571428571429,
          0.5178571428571429,
          0.5178571428571429,
          0.5178571428571429,
          0.5178571428571429,
          0.5229591836734694,
          0.5229591836734694,
          0.5255102040816326,
          0.5255102040816326,
          0.5255102040816326,
          0.5255102040816326,
          0.5255102040816326,
          0.5255102040816326,
          0.5255102040816326,
          0.5255102040816326,
          0.5280612244897959,
          0.5280612244897959,
          0.5280612244897959,
          0.5280612244897959,
          0.5306122448979592,
          0.5306122448979592,
          0.5331632653061225,
          0.5331632653061225,
          0.5357142857142857,
          0.5382653061224489,
          0.5408163265306123,
          0.5408163265306123,
          0.5408163265306123,
          0.5433673469387755,
          0.5433673469387755,
          0.5433673469387755,
          0.5433673469387755,
          0.5433673469387755,
          0.5459183673469388,
          0.5459183673469388,
          0.548469387755102,
          0.5510204081632653,
          0.5510204081632653,
          0.5561224489795918,
          0.5561224489795918,
          0.5561224489795918,
          0.5561224489795918,
          0.5561224489795918,
          0.5586734693877551,
          0.5586734693877551,
          0.5612244897959183,
          0.5637755102040817,
          0.5663265306122449,
          0.5663265306122449,
          0.5714285714285714,
          0.5739795918367347,
          0.5739795918367347,
          0.5739795918367347,
          0.576530612244898,
          0.576530612244898,
          0.576530612244898,
          0.5790816326530612,
          0.5790816326530612,
          0.5816326530612245,
          0.5816326530612245,
          0.5841836734693877,
          0.5841836734693877,
          0.5867346938775511,
          0.5892857142857143,
          0.5892857142857143,
          0.5918367346938775,
          0.5918367346938775,
          0.5943877551020408,
          0.5943877551020408,
          0.5943877551020408,
          0.5969387755102041,
          0.5994897959183674,
          0.5994897959183674,
          0.6020408163265306,
          0.6045918367346939,
          0.6045918367346939,
          0.6045918367346939,
          0.6045918367346939,
          0.6045918367346939,
          0.6045918367346939,
          0.6045918367346939,
          0.6071428571428571,
          0.6071428571428571,
          0.6071428571428571,
          0.6071428571428571,
          0.6096938775510204,
          0.6096938775510204,
          0.6122448979591837,
          0.6147959183673469,
          0.6147959183673469,
          0.6147959183673469,
          0.6147959183673469,
          0.6173469387755102,
          0.6198979591836735,
          0.6198979591836735,
          0.6224489795918368,
          0.6224489795918368,
          0.6224489795918368,
          0.6224489795918368,
          0.625,
          0.625,
          0.625,
          0.625,
          0.6275510204081632,
          0.6275510204081632,
          0.6301020408163265,
          0.6301020408163265,
          0.6326530612244898,
          0.6326530612244898,
          0.6326530612244898,
          0.6326530612244898,
          0.6326530612244898,
          0.6326530612244898,
          0.6352040816326531,
          0.6352040816326531,
          0.6352040816326531,
          0.6352040816326531,
          0.6352040816326531,
          0.6352040816326531,
          0.6352040816326531,
          0.6377551020408163,
          0.6377551020408163,
          0.6403061224489796,
          0.6403061224489796,
          0.6403061224489796,
          0.6403061224489796,
          0.6403061224489796,
          0.6403061224489796,
          0.6428571428571429,
          0.6428571428571429,
          0.6428571428571429,
          0.6428571428571429,
          0.6428571428571429,
          0.6428571428571429,
          0.6454081632653061,
          0.6454081632653061,
          0.6454081632653061,
          0.6454081632653061,
          0.6479591836734694,
          0.6479591836734694,
          0.6479591836734694,
          0.6479591836734694,
          0.6479591836734694,
          0.6479591836734694,
          0.6505102040816326,
          0.6530612244897959,
          0.6530612244897959,
          0.6530612244897959,
          0.6556122448979592,
          0.6556122448979592,
          0.6581632653061225,
          0.6607142857142857,
          0.6607142857142857,
          0.6607142857142857,
          0.6607142857142857,
          0.6607142857142857,
          0.6632653061224489,
          0.6632653061224489,
          0.6632653061224489,
          0.6632653061224489,
          0.6632653061224489,
          0.6632653061224489,
          0.6658163265306123,
          0.6658163265306123,
          0.6658163265306123,
          0.6658163265306123,
          0.6683673469387755,
          0.6683673469387755,
          0.6683673469387755,
          0.6683673469387755,
          0.6683673469387755,
          0.6683673469387755,
          0.6683673469387755,
          0.6709183673469388,
          0.6709183673469388,
          0.6709183673469388,
          0.6709183673469388,
          0.6709183673469388,
          0.6709183673469388,
          0.6709183673469388,
          0.673469387755102,
          0.673469387755102,
          0.6760204081632653,
          0.6760204081632653,
          0.6785714285714286,
          0.6785714285714286,
          0.6785714285714286,
          0.6785714285714286,
          0.6785714285714286,
          0.6785714285714286,
          0.6785714285714286,
          0.6811224489795918,
          0.6811224489795918,
          0.6811224489795918,
          0.6811224489795918,
          0.6811224489795918,
          0.6811224489795918,
          0.6811224489795918,
          0.6811224489795918,
          0.6811224489795918,
          0.6811224489795918,
          0.6836734693877551,
          0.6836734693877551,
          0.6836734693877551,
          0.6836734693877551,
          0.6836734693877551,
          0.6836734693877551,
          0.6836734693877551,
          0.6862244897959183,
          0.6862244897959183,
          0.6862244897959183,
          0.6862244897959183,
          0.6862244897959183,
          0.6862244897959183,
          0.6862244897959183,
          0.6862244897959183,
          0.6887755102040817,
          0.6887755102040817,
          0.6938775510204082,
          0.6938775510204082,
          0.6938775510204082,
          0.6938775510204082,
          0.6938775510204082,
          0.6938775510204082,
          0.6964285714285714,
          0.6964285714285714,
          0.6964285714285714,
          0.6964285714285714,
          0.6964285714285714,
          0.6989795918367347,
          0.6989795918367347,
          0.6989795918367347,
          0.6989795918367347,
          0.6989795918367347,
          0.701530612244898,
          0.701530612244898,
          0.701530612244898,
          0.701530612244898,
          0.701530612244898,
          0.701530612244898,
          0.701530612244898,
          0.701530612244898,
          0.701530612244898,
          0.701530612244898,
          0.701530612244898,
          0.7040816326530612,
          0.7040816326530612,
          0.7066326530612245,
          0.7066326530612245,
          0.7066326530612245,
          0.7066326530612245,
          0.7066326530612245,
          0.7091836734693877,
          0.7117346938775511,
          0.7117346938775511,
          0.7117346938775511,
          0.7117346938775511,
          0.7142857142857143,
          0.7142857142857143,
          0.7168367346938775,
          0.7168367346938775,
          0.7168367346938775,
          0.7168367346938775,
          0.7168367346938775,
          0.7168367346938775,
          0.7168367346938775,
          0.7168367346938775,
          0.7168367346938775,
          0.7193877551020408,
          0.7193877551020408,
          0.7193877551020408,
          0.7193877551020408,
          0.7193877551020408,
          0.7193877551020408,
          0.7219387755102041,
          0.7219387755102041,
          0.7219387755102041,
          0.7244897959183674,
          0.7244897959183674,
          0.7244897959183674,
          0.7270408163265306,
          0.7270408163265306,
          0.7295918367346939,
          0.7295918367346939,
          0.7295918367346939,
          0.7295918367346939,
          0.7295918367346939,
          0.7295918367346939,
          0.7295918367346939,
          0.7321428571428571,
          0.7321428571428571,
          0.7321428571428571,
          0.7321428571428571,
          0.7321428571428571,
          0.7321428571428571,
          0.7321428571428571,
          0.7321428571428571,
          0.7346938775510204,
          0.7346938775510204,
          0.7346938775510204,
          0.7346938775510204,
          0.7346938775510204,
          0.7346938775510204,
          0.7346938775510204,
          0.7372448979591837,
          0.7372448979591837,
          0.7397959183673469,
          0.7397959183673469,
          0.7397959183673469,
          0.7397959183673469,
          0.7397959183673469,
          0.7423469387755102,
          0.7423469387755102,
          0.7423469387755102,
          0.7423469387755102,
          0.7423469387755102,
          0.7448979591836735,
          0.7448979591836735,
          0.7448979591836735,
          0.7448979591836735,
          0.7448979591836735,
          0.7448979591836735,
          0.7474489795918368,
          0.7474489795918368,
          0.7474489795918368,
          0.7474489795918368,
          0.75,
          0.75,
          0.75,
          0.7551020408163265,
          0.7551020408163265,
          0.7551020408163265,
          0.7551020408163265,
          0.7551020408163265,
          0.7551020408163265,
          0.7551020408163265,
          0.7576530612244898,
          0.7576530612244898,
          0.7602040816326531,
          0.7602040816326531,
          0.7627551020408163,
          0.7627551020408163,
          0.7627551020408163,
          0.7627551020408163,
          0.7627551020408163,
          0.7653061224489796,
          0.7653061224489796,
          0.7653061224489796,
          0.7653061224489796,
          0.7653061224489796,
          0.7653061224489796,
          0.7653061224489796,
          0.7653061224489796,
          0.7678571428571429,
          0.7678571428571429,
          0.7678571428571429,
          0.7678571428571429,
          0.7678571428571429,
          0.7678571428571429,
          0.7678571428571429,
          0.7704081632653061,
          0.7704081632653061,
          0.7704081632653061,
          0.7704081632653061,
          0.7729591836734694,
          0.7729591836734694,
          0.7729591836734694,
          0.7729591836734694,
          0.7729591836734694,
          0.7729591836734694,
          0.7729591836734694,
          0.7755102040816326,
          0.7755102040816326,
          0.7755102040816326,
          0.7780612244897959,
          0.7780612244897959,
          0.7780612244897959,
          0.7806122448979592,
          0.7806122448979592,
          0.7831632653061225,
          0.7831632653061225,
          0.7831632653061225,
          0.7857142857142857,
          0.7857142857142857,
          0.7857142857142857,
          0.7882653061224489,
          0.7882653061224489,
          0.7882653061224489,
          0.7882653061224489,
          0.7882653061224489,
          0.7882653061224489,
          0.7882653061224489,
          0.7882653061224489,
          0.7933673469387755,
          0.7959183673469388,
          0.7959183673469388,
          0.7959183673469388,
          0.7959183673469388,
          0.7959183673469388,
          0.798469387755102,
          0.798469387755102,
          0.798469387755102,
          0.8010204081632653,
          0.8010204081632653,
          0.8010204081632653,
          0.8010204081632653,
          0.8010204081632653,
          0.8010204081632653,
          0.8086734693877551,
          0.8086734693877551,
          0.8086734693877551,
          0.8086734693877551,
          0.8112244897959183,
          0.8137755102040817,
          0.8137755102040817,
          0.8163265306122449,
          0.8163265306122449,
          0.8188775510204082,
          0.8188775510204082,
          0.8188775510204082,
          0.8188775510204082,
          0.8188775510204082,
          0.8188775510204082,
          0.8214285714285714,
          0.8214285714285714,
          0.8214285714285714,
          0.8214285714285714,
          0.8239795918367347,
          0.8239795918367347,
          0.826530612244898,
          0.8290816326530612,
          0.8290816326530612,
          0.8316326530612245,
          0.8316326530612245,
          0.8316326530612245,
          0.8341836734693877,
          0.8341836734693877,
          0.8367346938775511,
          0.8367346938775511,
          0.8367346938775511,
          0.8367346938775511,
          0.8367346938775511,
          0.8367346938775511,
          0.8367346938775511,
          0.8367346938775511,
          0.8392857142857143,
          0.8418367346938775,
          0.8418367346938775,
          0.8418367346938775,
          0.8418367346938775,
          0.8418367346938775,
          0.8443877551020408,
          0.8469387755102041,
          0.8494897959183674,
          0.8494897959183674,
          0.8520408163265306,
          0.8545918367346939,
          0.8545918367346939,
          0.8545918367346939,
          0.8545918367346939,
          0.8545918367346939,
          0.8545918367346939,
          0.8545918367346939,
          0.8571428571428571,
          0.8571428571428571,
          0.8571428571428571,
          0.8571428571428571,
          0.8596938775510204,
          0.8596938775510204,
          0.8596938775510204,
          0.8596938775510204,
          0.8622448979591837,
          0.8622448979591837,
          0.8622448979591837,
          0.8622448979591837,
          0.8647959183673469,
          0.8647959183673469,
          0.8647959183673469,
          0.8647959183673469,
          0.8647959183673469,
          0.8673469387755102,
          0.8698979591836735,
          0.8698979591836735,
          0.8698979591836735,
          0.8698979591836735,
          0.8698979591836735,
          0.8698979591836735,
          0.875,
          0.875,
          0.8775510204081632,
          0.8775510204081632,
          0.8801020408163265,
          0.8826530612244898,
          0.8826530612244898,
          0.8826530612244898,
          0.8826530612244898,
          0.8852040816326531,
          0.8852040816326531,
          0.8852040816326531,
          0.8852040816326531,
          0.8852040816326531,
          0.8852040816326531,
          0.8852040816326531,
          0.8852040816326531,
          0.8877551020408163,
          0.8877551020408163,
          0.8903061224489796,
          0.8928571428571429,
          0.8928571428571429,
          0.8928571428571429,
          0.8979591836734694,
          0.9005102040816326,
          0.9005102040816326,
          0.9005102040816326,
          0.9030612244897959,
          0.9030612244897959,
          0.9056122448979592,
          0.9056122448979592,
          0.9056122448979592,
          0.9081632653061225,
          0.9081632653061225,
          0.9081632653061225,
          0.9081632653061225,
          0.9081632653061225,
          0.9107142857142857,
          0.9132653061224489,
          0.9132653061224489,
          0.9158163265306123,
          0.9158163265306123,
          0.9158163265306123,
          0.9158163265306123,
          0.9183673469387755,
          0.923469387755102,
          0.923469387755102,
          0.923469387755102,
          0.9260204081632653,
          0.9260204081632653,
          0.9260204081632653,
          0.9260204081632653,
          0.9285714285714286,
          0.9311224489795918,
          0.9311224489795918,
          0.9336734693877551,
          0.9336734693877551,
          0.9336734693877551,
          0.9336734693877551,
          0.9336734693877551,
          0.9362244897959183,
          0.9387755102040817,
          0.9387755102040817,
          0.9387755102040817,
          0.9387755102040817,
          0.9413265306122449,
          0.9438775510204082,
          0.9438775510204082,
          0.9438775510204082,
          0.9438775510204082,
          0.9438775510204082,
          0.9464285714285714,
          0.9489795918367347,
          0.9489795918367347,
          0.9489795918367347,
          0.951530612244898,
          0.951530612244898,
          0.951530612244898,
          0.9566326530612245,
          0.9566326530612245,
          0.9591836734693877,
          0.9591836734693877,
          0.9591836734693877,
          0.9591836734693877,
          0.9617346938775511,
          0.9617346938775511,
          0.9642857142857143,
          0.9668367346938775,
          0.9668367346938775,
          0.9693877551020408,
          0.9693877551020408,
          0.9744897959183674,
          0.9770408163265306,
          0.9770408163265306,
          0.9795918367346939,
          0.9795918367346939,
          0.9821428571428571,
          0.9821428571428571,
          0.9846938775510204,
          0.9846938775510204,
          0.9872448979591837,
          1,
          1,
          1,
          1
         ],
         "yaxis": "y"
        }
       ],
       "layout": {
        "barmode": "relative",
        "legend": {
         "title": {
          "text": "variable"
         },
         "tracegroupgap": 0
        },
        "margin": {
         "t": 60
        },
        "template": {
         "data": {
          "bar": [
           {
            "error_x": {
             "color": "#2a3f5f"
            },
            "error_y": {
             "color": "#2a3f5f"
            },
            "marker": {
             "line": {
              "color": "#E5ECF6",
              "width": 0.5
             },
             "pattern": {
              "fillmode": "overlay",
              "size": 10,
              "solidity": 0.2
             }
            },
            "type": "bar"
           }
          ],
          "barpolar": [
           {
            "marker": {
             "line": {
              "color": "#E5ECF6",
              "width": 0.5
             },
             "pattern": {
              "fillmode": "overlay",
              "size": 10,
              "solidity": 0.2
             }
            },
            "type": "barpolar"
           }
          ],
          "carpet": [
           {
            "aaxis": {
             "endlinecolor": "#2a3f5f",
             "gridcolor": "white",
             "linecolor": "white",
             "minorgridcolor": "white",
             "startlinecolor": "#2a3f5f"
            },
            "baxis": {
             "endlinecolor": "#2a3f5f",
             "gridcolor": "white",
             "linecolor": "white",
             "minorgridcolor": "white",
             "startlinecolor": "#2a3f5f"
            },
            "type": "carpet"
           }
          ],
          "choropleth": [
           {
            "colorbar": {
             "outlinewidth": 0,
             "ticks": ""
            },
            "type": "choropleth"
           }
          ],
          "contour": [
           {
            "colorbar": {
             "outlinewidth": 0,
             "ticks": ""
            },
            "colorscale": [
             [
              0,
              "#0d0887"
             ],
             [
              0.1111111111111111,
              "#46039f"
             ],
             [
              0.2222222222222222,
              "#7201a8"
             ],
             [
              0.3333333333333333,
              "#9c179e"
             ],
             [
              0.4444444444444444,
              "#bd3786"
             ],
             [
              0.5555555555555556,
              "#d8576b"
             ],
             [
              0.6666666666666666,
              "#ed7953"
             ],
             [
              0.7777777777777778,
              "#fb9f3a"
             ],
             [
              0.8888888888888888,
              "#fdca26"
             ],
             [
              1,
              "#f0f921"
             ]
            ],
            "type": "contour"
           }
          ],
          "contourcarpet": [
           {
            "colorbar": {
             "outlinewidth": 0,
             "ticks": ""
            },
            "type": "contourcarpet"
           }
          ],
          "heatmap": [
           {
            "colorbar": {
             "outlinewidth": 0,
             "ticks": ""
            },
            "colorscale": [
             [
              0,
              "#0d0887"
             ],
             [
              0.1111111111111111,
              "#46039f"
             ],
             [
              0.2222222222222222,
              "#7201a8"
             ],
             [
              0.3333333333333333,
              "#9c179e"
             ],
             [
              0.4444444444444444,
              "#bd3786"
             ],
             [
              0.5555555555555556,
              "#d8576b"
             ],
             [
              0.6666666666666666,
              "#ed7953"
             ],
             [
              0.7777777777777778,
              "#fb9f3a"
             ],
             [
              0.8888888888888888,
              "#fdca26"
             ],
             [
              1,
              "#f0f921"
             ]
            ],
            "type": "heatmap"
           }
          ],
          "heatmapgl": [
           {
            "colorbar": {
             "outlinewidth": 0,
             "ticks": ""
            },
            "colorscale": [
             [
              0,
              "#0d0887"
             ],
             [
              0.1111111111111111,
              "#46039f"
             ],
             [
              0.2222222222222222,
              "#7201a8"
             ],
             [
              0.3333333333333333,
              "#9c179e"
             ],
             [
              0.4444444444444444,
              "#bd3786"
             ],
             [
              0.5555555555555556,
              "#d8576b"
             ],
             [
              0.6666666666666666,
              "#ed7953"
             ],
             [
              0.7777777777777778,
              "#fb9f3a"
             ],
             [
              0.8888888888888888,
              "#fdca26"
             ],
             [
              1,
              "#f0f921"
             ]
            ],
            "type": "heatmapgl"
           }
          ],
          "histogram": [
           {
            "marker": {
             "pattern": {
              "fillmode": "overlay",
              "size": 10,
              "solidity": 0.2
             }
            },
            "type": "histogram"
           }
          ],
          "histogram2d": [
           {
            "colorbar": {
             "outlinewidth": 0,
             "ticks": ""
            },
            "colorscale": [
             [
              0,
              "#0d0887"
             ],
             [
              0.1111111111111111,
              "#46039f"
             ],
             [
              0.2222222222222222,
              "#7201a8"
             ],
             [
              0.3333333333333333,
              "#9c179e"
             ],
             [
              0.4444444444444444,
              "#bd3786"
             ],
             [
              0.5555555555555556,
              "#d8576b"
             ],
             [
              0.6666666666666666,
              "#ed7953"
             ],
             [
              0.7777777777777778,
              "#fb9f3a"
             ],
             [
              0.8888888888888888,
              "#fdca26"
             ],
             [
              1,
              "#f0f921"
             ]
            ],
            "type": "histogram2d"
           }
          ],
          "histogram2dcontour": [
           {
            "colorbar": {
             "outlinewidth": 0,
             "ticks": ""
            },
            "colorscale": [
             [
              0,
              "#0d0887"
             ],
             [
              0.1111111111111111,
              "#46039f"
             ],
             [
              0.2222222222222222,
              "#7201a8"
             ],
             [
              0.3333333333333333,
              "#9c179e"
             ],
             [
              0.4444444444444444,
              "#bd3786"
             ],
             [
              0.5555555555555556,
              "#d8576b"
             ],
             [
              0.6666666666666666,
              "#ed7953"
             ],
             [
              0.7777777777777778,
              "#fb9f3a"
             ],
             [
              0.8888888888888888,
              "#fdca26"
             ],
             [
              1,
              "#f0f921"
             ]
            ],
            "type": "histogram2dcontour"
           }
          ],
          "mesh3d": [
           {
            "colorbar": {
             "outlinewidth": 0,
             "ticks": ""
            },
            "type": "mesh3d"
           }
          ],
          "parcoords": [
           {
            "line": {
             "colorbar": {
              "outlinewidth": 0,
              "ticks": ""
             }
            },
            "type": "parcoords"
           }
          ],
          "pie": [
           {
            "automargin": true,
            "type": "pie"
           }
          ],
          "scatter": [
           {
            "fillpattern": {
             "fillmode": "overlay",
             "size": 10,
             "solidity": 0.2
            },
            "type": "scatter"
           }
          ],
          "scatter3d": [
           {
            "line": {
             "colorbar": {
              "outlinewidth": 0,
              "ticks": ""
             }
            },
            "marker": {
             "colorbar": {
              "outlinewidth": 0,
              "ticks": ""
             }
            },
            "type": "scatter3d"
           }
          ],
          "scattercarpet": [
           {
            "marker": {
             "colorbar": {
              "outlinewidth": 0,
              "ticks": ""
             }
            },
            "type": "scattercarpet"
           }
          ],
          "scattergeo": [
           {
            "marker": {
             "colorbar": {
              "outlinewidth": 0,
              "ticks": ""
             }
            },
            "type": "scattergeo"
           }
          ],
          "scattergl": [
           {
            "marker": {
             "colorbar": {
              "outlinewidth": 0,
              "ticks": ""
             }
            },
            "type": "scattergl"
           }
          ],
          "scattermapbox": [
           {
            "marker": {
             "colorbar": {
              "outlinewidth": 0,
              "ticks": ""
             }
            },
            "type": "scattermapbox"
           }
          ],
          "scatterpolar": [
           {
            "marker": {
             "colorbar": {
              "outlinewidth": 0,
              "ticks": ""
             }
            },
            "type": "scatterpolar"
           }
          ],
          "scatterpolargl": [
           {
            "marker": {
             "colorbar": {
              "outlinewidth": 0,
              "ticks": ""
             }
            },
            "type": "scatterpolargl"
           }
          ],
          "scatterternary": [
           {
            "marker": {
             "colorbar": {
              "outlinewidth": 0,
              "ticks": ""
             }
            },
            "type": "scatterternary"
           }
          ],
          "surface": [
           {
            "colorbar": {
             "outlinewidth": 0,
             "ticks": ""
            },
            "colorscale": [
             [
              0,
              "#0d0887"
             ],
             [
              0.1111111111111111,
              "#46039f"
             ],
             [
              0.2222222222222222,
              "#7201a8"
             ],
             [
              0.3333333333333333,
              "#9c179e"
             ],
             [
              0.4444444444444444,
              "#bd3786"
             ],
             [
              0.5555555555555556,
              "#d8576b"
             ],
             [
              0.6666666666666666,
              "#ed7953"
             ],
             [
              0.7777777777777778,
              "#fb9f3a"
             ],
             [
              0.8888888888888888,
              "#fdca26"
             ],
             [
              1,
              "#f0f921"
             ]
            ],
            "type": "surface"
           }
          ],
          "table": [
           {
            "cells": {
             "fill": {
              "color": "#EBF0F8"
             },
             "line": {
              "color": "white"
             }
            },
            "header": {
             "fill": {
              "color": "#C8D4E3"
             },
             "line": {
              "color": "white"
             }
            },
            "type": "table"
           }
          ]
         },
         "layout": {
          "annotationdefaults": {
           "arrowcolor": "#2a3f5f",
           "arrowhead": 0,
           "arrowwidth": 1
          },
          "autotypenumbers": "strict",
          "coloraxis": {
           "colorbar": {
            "outlinewidth": 0,
            "ticks": ""
           }
          },
          "colorscale": {
           "diverging": [
            [
             0,
             "#8e0152"
            ],
            [
             0.1,
             "#c51b7d"
            ],
            [
             0.2,
             "#de77ae"
            ],
            [
             0.3,
             "#f1b6da"
            ],
            [
             0.4,
             "#fde0ef"
            ],
            [
             0.5,
             "#f7f7f7"
            ],
            [
             0.6,
             "#e6f5d0"
            ],
            [
             0.7,
             "#b8e186"
            ],
            [
             0.8,
             "#7fbc41"
            ],
            [
             0.9,
             "#4d9221"
            ],
            [
             1,
             "#276419"
            ]
           ],
           "sequential": [
            [
             0,
             "#0d0887"
            ],
            [
             0.1111111111111111,
             "#46039f"
            ],
            [
             0.2222222222222222,
             "#7201a8"
            ],
            [
             0.3333333333333333,
             "#9c179e"
            ],
            [
             0.4444444444444444,
             "#bd3786"
            ],
            [
             0.5555555555555556,
             "#d8576b"
            ],
            [
             0.6666666666666666,
             "#ed7953"
            ],
            [
             0.7777777777777778,
             "#fb9f3a"
            ],
            [
             0.8888888888888888,
             "#fdca26"
            ],
            [
             1,
             "#f0f921"
            ]
           ],
           "sequentialminus": [
            [
             0,
             "#0d0887"
            ],
            [
             0.1111111111111111,
             "#46039f"
            ],
            [
             0.2222222222222222,
             "#7201a8"
            ],
            [
             0.3333333333333333,
             "#9c179e"
            ],
            [
             0.4444444444444444,
             "#bd3786"
            ],
            [
             0.5555555555555556,
             "#d8576b"
            ],
            [
             0.6666666666666666,
             "#ed7953"
            ],
            [
             0.7777777777777778,
             "#fb9f3a"
            ],
            [
             0.8888888888888888,
             "#fdca26"
            ],
            [
             1,
             "#f0f921"
            ]
           ]
          },
          "colorway": [
           "#636efa",
           "#EF553B",
           "#00cc96",
           "#ab63fa",
           "#FFA15A",
           "#19d3f3",
           "#FF6692",
           "#B6E880",
           "#FF97FF",
           "#FECB52"
          ],
          "font": {
           "color": "#2a3f5f"
          },
          "geo": {
           "bgcolor": "white",
           "lakecolor": "white",
           "landcolor": "#E5ECF6",
           "showlakes": true,
           "showland": true,
           "subunitcolor": "white"
          },
          "hoverlabel": {
           "align": "left"
          },
          "hovermode": "closest",
          "mapbox": {
           "style": "light"
          },
          "paper_bgcolor": "white",
          "plot_bgcolor": "#E5ECF6",
          "polar": {
           "angularaxis": {
            "gridcolor": "white",
            "linecolor": "white",
            "ticks": ""
           },
           "bgcolor": "#E5ECF6",
           "radialaxis": {
            "gridcolor": "white",
            "linecolor": "white",
            "ticks": ""
           }
          },
          "scene": {
           "xaxis": {
            "backgroundcolor": "#E5ECF6",
            "gridcolor": "white",
            "gridwidth": 2,
            "linecolor": "white",
            "showbackground": true,
            "ticks": "",
            "zerolinecolor": "white"
           },
           "yaxis": {
            "backgroundcolor": "#E5ECF6",
            "gridcolor": "white",
            "gridwidth": 2,
            "linecolor": "white",
            "showbackground": true,
            "ticks": "",
            "zerolinecolor": "white"
           },
           "zaxis": {
            "backgroundcolor": "#E5ECF6",
            "gridcolor": "white",
            "gridwidth": 2,
            "linecolor": "white",
            "showbackground": true,
            "ticks": "",
            "zerolinecolor": "white"
           }
          },
          "shapedefaults": {
           "line": {
            "color": "#2a3f5f"
           }
          },
          "ternary": {
           "aaxis": {
            "gridcolor": "white",
            "linecolor": "white",
            "ticks": ""
           },
           "baxis": {
            "gridcolor": "white",
            "linecolor": "white",
            "ticks": ""
           },
           "bgcolor": "#E5ECF6",
           "caxis": {
            "gridcolor": "white",
            "linecolor": "white",
            "ticks": ""
           }
          },
          "title": {
           "x": 0.05
          },
          "xaxis": {
           "automargin": true,
           "gridcolor": "white",
           "linecolor": "white",
           "ticks": "",
           "title": {
            "standoff": 15
           },
           "zerolinecolor": "white",
           "zerolinewidth": 2
          },
          "yaxis": {
           "automargin": true,
           "gridcolor": "white",
           "linecolor": "white",
           "ticks": "",
           "title": {
            "standoff": 15
           },
           "zerolinecolor": "white",
           "zerolinewidth": 2
          }
         }
        },
        "xaxis": {
         "anchor": "y",
         "domain": [
          0,
          1
         ],
         "title": {
          "text": "permno"
         }
        },
        "yaxis": {
         "anchor": "x",
         "domain": [
          0,
          1
         ],
         "title": {
          "text": "value"
         }
        }
       }
      }
     },
     "metadata": {},
     "output_type": "display_data"
    }
   ],
   "source": [
    "# relative number of missing prices\n",
    "df_test_missing = df.isnull()\n",
    "df_test_missing[\"permno\"] = df.permno\n",
    "px.bar(df_test_missing.groupby(\"permno\")[\"price\"].sum().div(392).sort_values())"
   ]
  },
  {
   "cell_type": "code",
   "execution_count": 14,
   "id": "9d836317",
   "metadata": {},
   "outputs": [
    {
     "name": "stderr",
     "output_type": "stream",
     "text": [
      "/var/folders/ch/yj3xbk4s1t34gtb89jtxcmcr0000gn/T/ipykernel_31297/2272349530.py:1: FutureWarning:\n",
      "\n",
      "Series.__getitem__ treating keys as positions is deprecated. In a future version, integer keys will always be treated as labels (consistent with DataFrame behavior). To access a value by position, use `ser.iloc[pos]`\n",
      "\n"
     ]
    },
    {
     "data": {
      "text/plain": [
       "permno\n",
       "9990213D UN Equity    1.000000\n",
       "1541931D UA Equity    1.000000\n",
       "1437355D US Equity    1.000000\n",
       "9995522D UN Equity    1.000000\n",
       "WBD UW Equity         0.987245\n",
       "2292198Q UN Equity    0.984694\n",
       "EMBC UW Equity        0.984694\n",
       "1624Q UQ Equity       0.982143\n",
       "ZIMV UW Equity        0.982143\n",
       "CEG UW Equity         0.979592\n",
       "1270Q UQ Equity       0.979592\n",
       "3362726Q UN Equity    0.977041\n",
       "BKR UW Equity         0.977041\n",
       "NBL UW Equity         0.974490\n",
       "BXLT UN Equity        0.969388\n",
       "SLVM UN Equity        0.969388\n",
       "CPGX UN Equity        0.966837\n",
       "CPGX US Equity        0.966837\n",
       "GBLXQ UN Equity       0.964286\n",
       "DTM UN Equity         0.961735\n",
       "519239Q UN Equity     0.961735\n",
       "601964Q US Equity     0.959184\n",
       "HON UW Equity         0.959184\n",
       "3123863Q UN Equity    0.959184\n",
       "OGN UN Equity         0.959184\n",
       "1431816D UW Equity    0.956633\n",
       "0867887D UN Equity    0.956633\n",
       "2009Q UN Equity       0.951531\n",
       "USHC UQ Equity        0.951531\n",
       "643319Q UN Equity     0.951531\n",
       "PNAA US Equity        0.948980\n",
       "1503Q UN Equity       0.948980\n",
       "TAP/B UN Equity       0.948980\n",
       "QCP UN Equity         0.946429\n",
       "1708Q US Equity       0.943878\n",
       "HBJ UN Equity         0.943878\n",
       "EVHC UN Equity        0.943878\n",
       "1649858D UN Equity    0.943878\n",
       "HST UW Equity         0.943878\n",
       "AEP UW Equity         0.941327\n",
       "SNI UW Equity         0.938776\n",
       "VNT UN Equity         0.938776\n",
       "292356Z US Equity     0.938776\n",
       "KDP UW Equity         0.938776\n",
       "FSL/B UN Equity       0.936224\n",
       "3179Q UN Equity       0.933673\n",
       "MTCH UW Equity        0.933673\n",
       "355488Q UN Equity     0.933673\n",
       "204923Q UN Equity     0.933673\n",
       "3147Q UN Equity       0.933673\n",
       "Name: price, dtype: float64"
      ]
     },
     "execution_count": 14,
     "metadata": {},
     "output_type": "execute_result"
    }
   ],
   "source": [
    "df_test_missing.groupby(\"permno\")[\"price\"].sum().div(392).sort_values(ascending=False)[range(50)]"
   ]
  },
  {
   "cell_type": "code",
   "execution_count": 15,
   "id": "798b7c4e",
   "metadata": {},
   "outputs": [
    {
     "name": "stderr",
     "output_type": "stream",
     "text": [
      "/Library/Frameworks/Python.framework/Versions/3.9/lib/python3.9/site-packages/_plotly_utils/basevalidators.py:105: FutureWarning:\n",
      "\n",
      "The behavior of DatetimeProperties.to_pydatetime is deprecated, in a future version this will return a Series containing python datetime objects instead of an ndarray. To retain the old behavior, call `np.array` on the result\n",
      "\n"
     ]
    },
    {
     "data": {
      "application/vnd.plotly.v1+json": {
       "config": {
        "plotlyServerURL": "https://plot.ly"
       },
       "data": [
        {
         "hovertemplate": "variable=price<br>date=%{x}<br>value=%{y}<extra></extra>",
         "legendgroup": "price",
         "line": {
          "color": "#636efa",
          "dash": "solid"
         },
         "marker": {
          "symbol": "circle"
         },
         "mode": "lines",
         "name": "price",
         "orientation": "v",
         "showlegend": true,
         "type": "scatter",
         "x": [
          "1990-01-31T00:00:00",
          "1990-02-28T00:00:00",
          "1990-03-30T00:00:00",
          "1990-04-30T00:00:00",
          "1990-05-31T00:00:00",
          "1990-06-29T00:00:00",
          "1990-07-31T00:00:00",
          "1990-08-31T00:00:00",
          "1990-09-28T00:00:00",
          "1990-10-31T00:00:00",
          "1990-11-30T00:00:00",
          "1990-12-31T00:00:00",
          "1991-01-31T00:00:00",
          "1991-02-28T00:00:00",
          "1991-03-28T00:00:00",
          "1991-04-30T00:00:00",
          "1991-05-31T00:00:00",
          "1991-06-28T00:00:00",
          "1991-07-31T00:00:00",
          "1991-08-30T00:00:00",
          "1991-09-30T00:00:00",
          "1991-10-31T00:00:00",
          "1991-11-29T00:00:00",
          "1991-12-31T00:00:00",
          "1992-01-31T00:00:00",
          "1992-02-28T00:00:00",
          "1992-03-31T00:00:00",
          "1992-04-30T00:00:00",
          "1992-05-29T00:00:00",
          "1992-06-30T00:00:00",
          "1992-07-31T00:00:00",
          "1992-08-31T00:00:00",
          "1992-09-30T00:00:00",
          "1992-10-30T00:00:00",
          "1992-11-30T00:00:00",
          "1992-12-31T00:00:00",
          "1993-01-29T00:00:00",
          "1993-02-26T00:00:00",
          "1993-03-31T00:00:00",
          "1993-04-30T00:00:00",
          "1993-05-28T00:00:00",
          "1993-06-30T00:00:00",
          "1993-07-30T00:00:00",
          "1993-08-31T00:00:00",
          "1993-09-30T00:00:00",
          "1993-10-29T00:00:00",
          "1993-11-30T00:00:00",
          "1993-12-31T00:00:00",
          "1994-01-31T00:00:00",
          "1994-02-28T00:00:00",
          "1994-03-31T00:00:00",
          "1994-04-29T00:00:00",
          "1994-05-31T00:00:00",
          "1994-06-30T00:00:00",
          "1994-07-29T00:00:00",
          "1994-08-31T00:00:00",
          "1994-09-30T00:00:00",
          "1994-10-31T00:00:00",
          "1994-11-30T00:00:00",
          "1994-12-30T00:00:00",
          "1995-01-31T00:00:00",
          "1995-02-28T00:00:00",
          "1995-03-31T00:00:00",
          "1995-04-28T00:00:00",
          "1995-05-31T00:00:00",
          "1995-06-30T00:00:00",
          "1995-07-31T00:00:00",
          "1995-08-31T00:00:00",
          "1995-09-29T00:00:00",
          "1995-10-31T00:00:00",
          "1995-11-30T00:00:00",
          "1995-12-29T00:00:00",
          "1996-01-31T00:00:00",
          "1996-02-29T00:00:00",
          "1996-03-29T00:00:00",
          "1996-04-30T00:00:00",
          "1996-05-31T00:00:00",
          "1996-06-28T00:00:00",
          "1996-07-31T00:00:00",
          "1996-08-30T00:00:00",
          "1996-09-30T00:00:00",
          "1996-10-31T00:00:00",
          "1996-11-29T00:00:00",
          "1996-12-31T00:00:00",
          "1997-01-31T00:00:00",
          "1997-02-28T00:00:00",
          "1997-03-31T00:00:00",
          "1997-04-30T00:00:00",
          "1997-05-30T00:00:00",
          "1997-06-30T00:00:00",
          "1997-07-31T00:00:00",
          "1997-08-29T00:00:00",
          "1997-09-30T00:00:00",
          "1997-10-31T00:00:00",
          "1997-11-28T00:00:00",
          "1997-12-31T00:00:00",
          "1998-01-30T00:00:00",
          "1998-02-27T00:00:00",
          "1998-03-31T00:00:00",
          "1998-04-30T00:00:00",
          "1998-05-29T00:00:00",
          "1998-06-30T00:00:00",
          "1998-07-31T00:00:00",
          "1998-08-31T00:00:00",
          "1998-09-30T00:00:00",
          "1998-10-30T00:00:00",
          "1998-11-30T00:00:00",
          "1998-12-31T00:00:00",
          "1999-01-29T00:00:00",
          "1999-02-26T00:00:00",
          "1999-03-31T00:00:00",
          "1999-04-30T00:00:00",
          "1999-05-28T00:00:00",
          "1999-06-30T00:00:00",
          "1999-07-30T00:00:00",
          "1999-08-31T00:00:00",
          "1999-09-30T00:00:00",
          "1999-10-29T00:00:00",
          "1999-11-30T00:00:00",
          "1999-12-31T00:00:00",
          "2000-01-31T00:00:00",
          "2000-02-29T00:00:00",
          "2000-03-31T00:00:00",
          "2000-04-28T00:00:00",
          "2000-05-31T00:00:00",
          "2000-06-30T00:00:00",
          "2000-07-31T00:00:00",
          "2000-08-31T00:00:00",
          "2000-09-29T00:00:00",
          "2000-10-31T00:00:00",
          "2000-11-30T00:00:00",
          "2000-12-29T00:00:00",
          "2001-01-31T00:00:00",
          "2001-02-28T00:00:00",
          "2001-03-30T00:00:00",
          "2001-04-30T00:00:00",
          "2001-05-31T00:00:00",
          "2001-06-29T00:00:00",
          "2001-07-31T00:00:00",
          "2001-08-31T00:00:00",
          "2001-09-28T00:00:00",
          "2001-10-31T00:00:00",
          "2001-11-30T00:00:00",
          "2001-12-31T00:00:00",
          "2002-01-31T00:00:00",
          "2002-02-28T00:00:00",
          "2002-03-28T00:00:00",
          "2002-04-30T00:00:00",
          "2002-05-31T00:00:00",
          "2002-06-28T00:00:00",
          "2002-07-31T00:00:00",
          "2002-08-30T00:00:00",
          "2002-09-30T00:00:00",
          "2002-10-31T00:00:00",
          "2002-11-29T00:00:00",
          "2002-12-31T00:00:00",
          "2003-01-31T00:00:00",
          "2003-02-28T00:00:00",
          "2003-03-31T00:00:00",
          "2003-04-30T00:00:00",
          "2003-05-30T00:00:00",
          "2003-06-30T00:00:00",
          "2003-07-31T00:00:00",
          "2003-08-29T00:00:00",
          "2003-09-30T00:00:00",
          "2003-10-31T00:00:00",
          "2003-11-28T00:00:00",
          "2003-12-31T00:00:00",
          "2004-01-30T00:00:00",
          "2004-02-27T00:00:00",
          "2004-03-31T00:00:00",
          "2004-04-30T00:00:00",
          "2004-05-28T00:00:00",
          "2004-06-30T00:00:00",
          "2004-07-30T00:00:00",
          "2004-08-31T00:00:00",
          "2004-09-30T00:00:00",
          "2004-10-29T00:00:00",
          "2004-11-30T00:00:00",
          "2004-12-31T00:00:00",
          "2005-01-31T00:00:00",
          "2005-02-28T00:00:00",
          "2005-03-31T00:00:00",
          "2005-04-29T00:00:00",
          "2005-05-31T00:00:00",
          "2005-06-30T00:00:00",
          "2005-07-29T00:00:00",
          "2005-08-31T00:00:00",
          "2005-09-30T00:00:00",
          "2005-10-31T00:00:00",
          "2005-11-30T00:00:00",
          "2005-12-30T00:00:00",
          "2006-01-31T00:00:00",
          "2006-02-28T00:00:00",
          "2006-03-31T00:00:00",
          "2006-04-28T00:00:00",
          "2006-05-31T00:00:00",
          "2006-06-30T00:00:00",
          "2006-07-31T00:00:00",
          "2006-08-31T00:00:00",
          "2006-09-29T00:00:00",
          "2006-10-31T00:00:00",
          "2006-11-30T00:00:00",
          "2006-12-29T00:00:00",
          "2007-01-31T00:00:00",
          "2007-02-28T00:00:00",
          "2007-03-30T00:00:00",
          "2007-04-30T00:00:00",
          "2007-05-31T00:00:00",
          "2007-06-29T00:00:00",
          "2007-07-31T00:00:00",
          "2007-08-31T00:00:00",
          "2007-09-28T00:00:00",
          "2007-10-31T00:00:00",
          "2007-11-30T00:00:00",
          "2007-12-31T00:00:00",
          "2008-01-31T00:00:00",
          "2008-02-29T00:00:00",
          "2008-03-31T00:00:00",
          "2008-04-30T00:00:00",
          "2008-05-30T00:00:00",
          "2008-06-30T00:00:00",
          "2008-07-31T00:00:00",
          "2008-08-29T00:00:00",
          "2008-09-30T00:00:00",
          "2008-10-31T00:00:00",
          "2008-11-28T00:00:00",
          "2008-12-31T00:00:00",
          "2009-01-30T00:00:00",
          "2009-02-27T00:00:00",
          "2009-03-31T00:00:00",
          "2009-04-30T00:00:00",
          "2009-05-29T00:00:00",
          "2009-06-30T00:00:00",
          "2009-07-31T00:00:00",
          "2009-08-31T00:00:00",
          "2009-09-30T00:00:00",
          "2009-10-30T00:00:00",
          "2009-11-30T00:00:00",
          "2009-12-31T00:00:00",
          "2010-01-29T00:00:00",
          "2010-02-26T00:00:00",
          "2010-03-31T00:00:00",
          "2010-04-30T00:00:00",
          "2010-05-28T00:00:00",
          "2010-06-30T00:00:00",
          "2010-07-30T00:00:00",
          "2010-08-31T00:00:00",
          "2010-09-30T00:00:00",
          "2010-10-29T00:00:00",
          "2010-11-30T00:00:00",
          "2010-12-31T00:00:00",
          "2011-01-31T00:00:00",
          "2011-02-28T00:00:00",
          "2011-03-31T00:00:00",
          "2011-04-29T00:00:00",
          "2011-05-31T00:00:00",
          "2011-06-30T00:00:00",
          "2011-07-29T00:00:00",
          "2011-08-31T00:00:00",
          "2011-09-30T00:00:00",
          "2011-10-31T00:00:00",
          "2011-11-30T00:00:00",
          "2011-12-30T00:00:00",
          "2012-01-31T00:00:00",
          "2012-02-29T00:00:00",
          "2012-03-30T00:00:00",
          "2012-04-30T00:00:00",
          "2012-05-31T00:00:00",
          "2012-06-29T00:00:00",
          "2012-07-31T00:00:00",
          "2012-08-31T00:00:00",
          "2012-09-28T00:00:00",
          "2012-10-31T00:00:00",
          "2012-11-30T00:00:00",
          "2012-12-31T00:00:00",
          "2013-01-31T00:00:00",
          "2013-02-28T00:00:00",
          "2013-03-28T00:00:00",
          "2013-04-30T00:00:00",
          "2013-05-31T00:00:00",
          "2013-06-28T00:00:00",
          "2013-07-31T00:00:00",
          "2013-08-30T00:00:00",
          "2013-09-30T00:00:00",
          "2013-10-31T00:00:00",
          "2013-11-29T00:00:00",
          "2013-12-31T00:00:00",
          "2014-01-31T00:00:00",
          "2014-02-28T00:00:00",
          "2014-03-31T00:00:00",
          "2014-04-30T00:00:00",
          "2014-05-30T00:00:00",
          "2014-06-30T00:00:00",
          "2014-07-31T00:00:00",
          "2014-08-29T00:00:00",
          "2014-09-30T00:00:00",
          "2014-10-31T00:00:00",
          "2014-11-28T00:00:00",
          "2014-12-31T00:00:00",
          "2015-01-30T00:00:00",
          "2015-02-27T00:00:00",
          "2015-03-31T00:00:00",
          "2015-04-30T00:00:00",
          "2015-05-29T00:00:00",
          "2015-06-30T00:00:00",
          "2015-07-31T00:00:00",
          "2015-08-31T00:00:00",
          "2015-09-30T00:00:00",
          "2015-10-30T00:00:00",
          "2015-11-30T00:00:00",
          "2015-12-31T00:00:00",
          "2016-01-29T00:00:00",
          "2016-02-29T00:00:00",
          "2016-03-31T00:00:00",
          "2016-04-29T00:00:00",
          "2016-05-31T00:00:00",
          "2016-06-30T00:00:00",
          "2016-07-29T00:00:00",
          "2016-08-31T00:00:00",
          "2016-09-30T00:00:00",
          "2016-10-31T00:00:00",
          "2016-11-30T00:00:00",
          "2016-12-30T00:00:00",
          "2017-01-31T00:00:00",
          "2017-02-28T00:00:00",
          "2017-03-31T00:00:00",
          "2017-04-28T00:00:00",
          "2017-05-31T00:00:00",
          "2017-06-30T00:00:00",
          "2017-07-31T00:00:00",
          "2017-08-31T00:00:00",
          "2017-09-29T00:00:00",
          "2017-10-31T00:00:00",
          "2017-11-30T00:00:00",
          "2017-12-29T00:00:00",
          "2018-01-31T00:00:00",
          "2018-02-28T00:00:00",
          "2018-03-29T00:00:00",
          "2018-04-30T00:00:00",
          "2018-05-31T00:00:00",
          "2018-06-29T00:00:00",
          "2018-07-31T00:00:00",
          "2018-08-31T00:00:00",
          "2018-09-28T00:00:00",
          "2018-10-31T00:00:00",
          "2018-11-30T00:00:00",
          "2018-12-31T00:00:00",
          "2019-01-31T00:00:00",
          "2019-02-28T00:00:00",
          "2019-03-29T00:00:00",
          "2019-04-30T00:00:00",
          "2019-05-31T00:00:00",
          "2019-06-28T00:00:00",
          "2019-07-31T00:00:00",
          "2019-08-30T00:00:00",
          "2019-09-30T00:00:00",
          "2019-10-31T00:00:00",
          "2019-11-29T00:00:00",
          "2019-12-31T00:00:00",
          "2020-01-31T00:00:00",
          "2020-02-28T00:00:00",
          "2020-03-31T00:00:00",
          "2020-04-30T00:00:00",
          "2020-05-29T00:00:00",
          "2020-06-30T00:00:00",
          "2020-07-31T00:00:00",
          "2020-08-31T00:00:00",
          "2020-09-30T00:00:00",
          "2020-10-30T00:00:00",
          "2020-11-30T00:00:00",
          "2020-12-31T00:00:00",
          "2021-01-29T00:00:00",
          "2021-02-26T00:00:00",
          "2021-03-31T00:00:00",
          "2021-04-30T00:00:00",
          "2021-05-28T00:00:00",
          "2021-06-30T00:00:00",
          "2021-07-30T00:00:00",
          "2021-08-31T00:00:00",
          "2021-09-30T00:00:00",
          "2021-10-29T00:00:00",
          "2021-11-30T00:00:00",
          "2021-12-31T00:00:00",
          "2022-01-31T00:00:00",
          "2022-02-28T00:00:00",
          "2022-03-31T00:00:00",
          "2022-04-29T00:00:00",
          "2022-05-31T00:00:00",
          "2022-06-30T00:00:00",
          "2022-07-29T00:00:00",
          "2022-08-30T00:00:00"
         ],
         "xaxis": "x",
         "y": [
          null,
          null,
          null,
          null,
          null,
          null,
          null,
          null,
          null,
          null,
          null,
          null,
          null,
          null,
          null,
          null,
          null,
          null,
          null,
          null,
          null,
          null,
          null,
          null,
          null,
          null,
          null,
          null,
          null,
          null,
          null,
          null,
          null,
          null,
          null,
          null,
          null,
          null,
          null,
          null,
          null,
          null,
          null,
          null,
          null,
          null,
          null,
          null,
          null,
          null,
          null,
          null,
          null,
          null,
          null,
          null,
          null,
          null,
          null,
          null,
          null,
          null,
          null,
          null,
          null,
          null,
          null,
          null,
          null,
          null,
          null,
          null,
          null,
          null,
          null,
          null,
          null,
          null,
          null,
          null,
          null,
          null,
          null,
          null,
          null,
          null,
          null,
          null,
          null,
          null,
          null,
          null,
          null,
          null,
          null,
          null,
          null,
          null,
          null,
          null,
          null,
          null,
          null,
          null,
          null,
          null,
          null,
          null,
          null,
          null,
          null,
          null,
          null,
          null,
          null,
          null,
          null,
          null,
          null,
          null,
          null,
          null,
          null,
          null,
          null,
          null,
          null,
          null,
          null,
          null,
          null,
          null,
          null,
          null,
          null,
          null,
          null,
          null,
          null,
          null,
          null,
          null,
          null,
          null,
          null,
          null,
          null,
          null,
          36.05,
          35.15,
          35.23,
          35.72,
          32.67,
          33.87,
          34.74,
          33.36,
          32.78,
          32.38,
          32.4,
          33.71,
          35.04,
          33.78,
          36.1,
          35.26,
          34.25,
          36.75,
          37.11,
          37.2,
          37.5,
          36.9,
          36.52,
          34.71,
          38.02,
          36.55,
          null,
          null,
          null,
          null,
          null,
          null,
          null,
          null,
          null,
          null,
          null,
          null,
          null,
          null,
          null,
          null,
          null,
          null,
          null,
          null,
          null,
          null,
          null,
          null,
          null,
          null,
          null,
          null,
          null,
          null,
          null,
          null,
          null,
          null,
          null,
          null,
          null,
          null,
          null,
          null,
          null,
          null,
          null,
          null,
          null,
          null,
          null,
          null,
          null,
          null,
          null,
          null,
          null,
          null,
          null,
          null,
          null,
          null,
          null,
          null,
          null,
          null,
          null,
          null,
          null,
          null,
          null,
          null,
          null,
          null,
          null,
          null,
          null,
          null,
          null,
          null,
          null,
          null,
          null,
          null,
          null,
          null,
          null,
          null,
          null,
          null,
          null,
          null,
          null,
          null,
          null,
          null,
          null,
          null,
          null,
          null,
          null,
          null,
          null,
          null,
          null,
          null,
          null,
          null,
          null,
          null,
          null,
          null,
          null,
          null,
          null,
          null,
          null,
          null,
          null,
          null,
          null,
          null,
          null,
          null,
          null,
          null,
          null,
          null,
          null,
          null,
          null,
          null,
          null,
          null,
          null,
          null,
          null,
          null,
          null,
          null,
          null,
          null,
          null,
          null,
          null,
          null,
          null,
          null,
          null,
          null,
          null,
          null,
          null,
          null,
          null,
          null,
          null,
          null,
          null,
          null,
          null,
          null,
          null,
          null,
          null,
          null,
          null,
          null,
          null,
          null,
          null,
          null,
          null,
          null,
          null,
          null,
          null,
          null,
          null,
          null,
          null,
          null,
          null,
          null,
          null,
          null,
          null,
          null,
          null,
          null,
          null,
          null,
          null,
          null,
          null,
          null,
          null,
          null,
          null,
          null,
          null,
          null,
          null,
          null,
          null,
          null,
          null,
          null,
          null,
          null,
          null,
          null,
          null,
          null,
          null,
          null,
          null,
          null,
          null,
          null,
          null,
          null
         ],
         "yaxis": "y"
        }
       ],
       "layout": {
        "legend": {
         "title": {
          "text": "variable"
         },
         "tracegroupgap": 0
        },
        "margin": {
         "t": 60
        },
        "template": {
         "data": {
          "bar": [
           {
            "error_x": {
             "color": "#2a3f5f"
            },
            "error_y": {
             "color": "#2a3f5f"
            },
            "marker": {
             "line": {
              "color": "#E5ECF6",
              "width": 0.5
             },
             "pattern": {
              "fillmode": "overlay",
              "size": 10,
              "solidity": 0.2
             }
            },
            "type": "bar"
           }
          ],
          "barpolar": [
           {
            "marker": {
             "line": {
              "color": "#E5ECF6",
              "width": 0.5
             },
             "pattern": {
              "fillmode": "overlay",
              "size": 10,
              "solidity": 0.2
             }
            },
            "type": "barpolar"
           }
          ],
          "carpet": [
           {
            "aaxis": {
             "endlinecolor": "#2a3f5f",
             "gridcolor": "white",
             "linecolor": "white",
             "minorgridcolor": "white",
             "startlinecolor": "#2a3f5f"
            },
            "baxis": {
             "endlinecolor": "#2a3f5f",
             "gridcolor": "white",
             "linecolor": "white",
             "minorgridcolor": "white",
             "startlinecolor": "#2a3f5f"
            },
            "type": "carpet"
           }
          ],
          "choropleth": [
           {
            "colorbar": {
             "outlinewidth": 0,
             "ticks": ""
            },
            "type": "choropleth"
           }
          ],
          "contour": [
           {
            "colorbar": {
             "outlinewidth": 0,
             "ticks": ""
            },
            "colorscale": [
             [
              0,
              "#0d0887"
             ],
             [
              0.1111111111111111,
              "#46039f"
             ],
             [
              0.2222222222222222,
              "#7201a8"
             ],
             [
              0.3333333333333333,
              "#9c179e"
             ],
             [
              0.4444444444444444,
              "#bd3786"
             ],
             [
              0.5555555555555556,
              "#d8576b"
             ],
             [
              0.6666666666666666,
              "#ed7953"
             ],
             [
              0.7777777777777778,
              "#fb9f3a"
             ],
             [
              0.8888888888888888,
              "#fdca26"
             ],
             [
              1,
              "#f0f921"
             ]
            ],
            "type": "contour"
           }
          ],
          "contourcarpet": [
           {
            "colorbar": {
             "outlinewidth": 0,
             "ticks": ""
            },
            "type": "contourcarpet"
           }
          ],
          "heatmap": [
           {
            "colorbar": {
             "outlinewidth": 0,
             "ticks": ""
            },
            "colorscale": [
             [
              0,
              "#0d0887"
             ],
             [
              0.1111111111111111,
              "#46039f"
             ],
             [
              0.2222222222222222,
              "#7201a8"
             ],
             [
              0.3333333333333333,
              "#9c179e"
             ],
             [
              0.4444444444444444,
              "#bd3786"
             ],
             [
              0.5555555555555556,
              "#d8576b"
             ],
             [
              0.6666666666666666,
              "#ed7953"
             ],
             [
              0.7777777777777778,
              "#fb9f3a"
             ],
             [
              0.8888888888888888,
              "#fdca26"
             ],
             [
              1,
              "#f0f921"
             ]
            ],
            "type": "heatmap"
           }
          ],
          "heatmapgl": [
           {
            "colorbar": {
             "outlinewidth": 0,
             "ticks": ""
            },
            "colorscale": [
             [
              0,
              "#0d0887"
             ],
             [
              0.1111111111111111,
              "#46039f"
             ],
             [
              0.2222222222222222,
              "#7201a8"
             ],
             [
              0.3333333333333333,
              "#9c179e"
             ],
             [
              0.4444444444444444,
              "#bd3786"
             ],
             [
              0.5555555555555556,
              "#d8576b"
             ],
             [
              0.6666666666666666,
              "#ed7953"
             ],
             [
              0.7777777777777778,
              "#fb9f3a"
             ],
             [
              0.8888888888888888,
              "#fdca26"
             ],
             [
              1,
              "#f0f921"
             ]
            ],
            "type": "heatmapgl"
           }
          ],
          "histogram": [
           {
            "marker": {
             "pattern": {
              "fillmode": "overlay",
              "size": 10,
              "solidity": 0.2
             }
            },
            "type": "histogram"
           }
          ],
          "histogram2d": [
           {
            "colorbar": {
             "outlinewidth": 0,
             "ticks": ""
            },
            "colorscale": [
             [
              0,
              "#0d0887"
             ],
             [
              0.1111111111111111,
              "#46039f"
             ],
             [
              0.2222222222222222,
              "#7201a8"
             ],
             [
              0.3333333333333333,
              "#9c179e"
             ],
             [
              0.4444444444444444,
              "#bd3786"
             ],
             [
              0.5555555555555556,
              "#d8576b"
             ],
             [
              0.6666666666666666,
              "#ed7953"
             ],
             [
              0.7777777777777778,
              "#fb9f3a"
             ],
             [
              0.8888888888888888,
              "#fdca26"
             ],
             [
              1,
              "#f0f921"
             ]
            ],
            "type": "histogram2d"
           }
          ],
          "histogram2dcontour": [
           {
            "colorbar": {
             "outlinewidth": 0,
             "ticks": ""
            },
            "colorscale": [
             [
              0,
              "#0d0887"
             ],
             [
              0.1111111111111111,
              "#46039f"
             ],
             [
              0.2222222222222222,
              "#7201a8"
             ],
             [
              0.3333333333333333,
              "#9c179e"
             ],
             [
              0.4444444444444444,
              "#bd3786"
             ],
             [
              0.5555555555555556,
              "#d8576b"
             ],
             [
              0.6666666666666666,
              "#ed7953"
             ],
             [
              0.7777777777777778,
              "#fb9f3a"
             ],
             [
              0.8888888888888888,
              "#fdca26"
             ],
             [
              1,
              "#f0f921"
             ]
            ],
            "type": "histogram2dcontour"
           }
          ],
          "mesh3d": [
           {
            "colorbar": {
             "outlinewidth": 0,
             "ticks": ""
            },
            "type": "mesh3d"
           }
          ],
          "parcoords": [
           {
            "line": {
             "colorbar": {
              "outlinewidth": 0,
              "ticks": ""
             }
            },
            "type": "parcoords"
           }
          ],
          "pie": [
           {
            "automargin": true,
            "type": "pie"
           }
          ],
          "scatter": [
           {
            "fillpattern": {
             "fillmode": "overlay",
             "size": 10,
             "solidity": 0.2
            },
            "type": "scatter"
           }
          ],
          "scatter3d": [
           {
            "line": {
             "colorbar": {
              "outlinewidth": 0,
              "ticks": ""
             }
            },
            "marker": {
             "colorbar": {
              "outlinewidth": 0,
              "ticks": ""
             }
            },
            "type": "scatter3d"
           }
          ],
          "scattercarpet": [
           {
            "marker": {
             "colorbar": {
              "outlinewidth": 0,
              "ticks": ""
             }
            },
            "type": "scattercarpet"
           }
          ],
          "scattergeo": [
           {
            "marker": {
             "colorbar": {
              "outlinewidth": 0,
              "ticks": ""
             }
            },
            "type": "scattergeo"
           }
          ],
          "scattergl": [
           {
            "marker": {
             "colorbar": {
              "outlinewidth": 0,
              "ticks": ""
             }
            },
            "type": "scattergl"
           }
          ],
          "scattermapbox": [
           {
            "marker": {
             "colorbar": {
              "outlinewidth": 0,
              "ticks": ""
             }
            },
            "type": "scattermapbox"
           }
          ],
          "scatterpolar": [
           {
            "marker": {
             "colorbar": {
              "outlinewidth": 0,
              "ticks": ""
             }
            },
            "type": "scatterpolar"
           }
          ],
          "scatterpolargl": [
           {
            "marker": {
             "colorbar": {
              "outlinewidth": 0,
              "ticks": ""
             }
            },
            "type": "scatterpolargl"
           }
          ],
          "scatterternary": [
           {
            "marker": {
             "colorbar": {
              "outlinewidth": 0,
              "ticks": ""
             }
            },
            "type": "scatterternary"
           }
          ],
          "surface": [
           {
            "colorbar": {
             "outlinewidth": 0,
             "ticks": ""
            },
            "colorscale": [
             [
              0,
              "#0d0887"
             ],
             [
              0.1111111111111111,
              "#46039f"
             ],
             [
              0.2222222222222222,
              "#7201a8"
             ],
             [
              0.3333333333333333,
              "#9c179e"
             ],
             [
              0.4444444444444444,
              "#bd3786"
             ],
             [
              0.5555555555555556,
              "#d8576b"
             ],
             [
              0.6666666666666666,
              "#ed7953"
             ],
             [
              0.7777777777777778,
              "#fb9f3a"
             ],
             [
              0.8888888888888888,
              "#fdca26"
             ],
             [
              1,
              "#f0f921"
             ]
            ],
            "type": "surface"
           }
          ],
          "table": [
           {
            "cells": {
             "fill": {
              "color": "#EBF0F8"
             },
             "line": {
              "color": "white"
             }
            },
            "header": {
             "fill": {
              "color": "#C8D4E3"
             },
             "line": {
              "color": "white"
             }
            },
            "type": "table"
           }
          ]
         },
         "layout": {
          "annotationdefaults": {
           "arrowcolor": "#2a3f5f",
           "arrowhead": 0,
           "arrowwidth": 1
          },
          "autotypenumbers": "strict",
          "coloraxis": {
           "colorbar": {
            "outlinewidth": 0,
            "ticks": ""
           }
          },
          "colorscale": {
           "diverging": [
            [
             0,
             "#8e0152"
            ],
            [
             0.1,
             "#c51b7d"
            ],
            [
             0.2,
             "#de77ae"
            ],
            [
             0.3,
             "#f1b6da"
            ],
            [
             0.4,
             "#fde0ef"
            ],
            [
             0.5,
             "#f7f7f7"
            ],
            [
             0.6,
             "#e6f5d0"
            ],
            [
             0.7,
             "#b8e186"
            ],
            [
             0.8,
             "#7fbc41"
            ],
            [
             0.9,
             "#4d9221"
            ],
            [
             1,
             "#276419"
            ]
           ],
           "sequential": [
            [
             0,
             "#0d0887"
            ],
            [
             0.1111111111111111,
             "#46039f"
            ],
            [
             0.2222222222222222,
             "#7201a8"
            ],
            [
             0.3333333333333333,
             "#9c179e"
            ],
            [
             0.4444444444444444,
             "#bd3786"
            ],
            [
             0.5555555555555556,
             "#d8576b"
            ],
            [
             0.6666666666666666,
             "#ed7953"
            ],
            [
             0.7777777777777778,
             "#fb9f3a"
            ],
            [
             0.8888888888888888,
             "#fdca26"
            ],
            [
             1,
             "#f0f921"
            ]
           ],
           "sequentialminus": [
            [
             0,
             "#0d0887"
            ],
            [
             0.1111111111111111,
             "#46039f"
            ],
            [
             0.2222222222222222,
             "#7201a8"
            ],
            [
             0.3333333333333333,
             "#9c179e"
            ],
            [
             0.4444444444444444,
             "#bd3786"
            ],
            [
             0.5555555555555556,
             "#d8576b"
            ],
            [
             0.6666666666666666,
             "#ed7953"
            ],
            [
             0.7777777777777778,
             "#fb9f3a"
            ],
            [
             0.8888888888888888,
             "#fdca26"
            ],
            [
             1,
             "#f0f921"
            ]
           ]
          },
          "colorway": [
           "#636efa",
           "#EF553B",
           "#00cc96",
           "#ab63fa",
           "#FFA15A",
           "#19d3f3",
           "#FF6692",
           "#B6E880",
           "#FF97FF",
           "#FECB52"
          ],
          "font": {
           "color": "#2a3f5f"
          },
          "geo": {
           "bgcolor": "white",
           "lakecolor": "white",
           "landcolor": "#E5ECF6",
           "showlakes": true,
           "showland": true,
           "subunitcolor": "white"
          },
          "hoverlabel": {
           "align": "left"
          },
          "hovermode": "closest",
          "mapbox": {
           "style": "light"
          },
          "paper_bgcolor": "white",
          "plot_bgcolor": "#E5ECF6",
          "polar": {
           "angularaxis": {
            "gridcolor": "white",
            "linecolor": "white",
            "ticks": ""
           },
           "bgcolor": "#E5ECF6",
           "radialaxis": {
            "gridcolor": "white",
            "linecolor": "white",
            "ticks": ""
           }
          },
          "scene": {
           "xaxis": {
            "backgroundcolor": "#E5ECF6",
            "gridcolor": "white",
            "gridwidth": 2,
            "linecolor": "white",
            "showbackground": true,
            "ticks": "",
            "zerolinecolor": "white"
           },
           "yaxis": {
            "backgroundcolor": "#E5ECF6",
            "gridcolor": "white",
            "gridwidth": 2,
            "linecolor": "white",
            "showbackground": true,
            "ticks": "",
            "zerolinecolor": "white"
           },
           "zaxis": {
            "backgroundcolor": "#E5ECF6",
            "gridcolor": "white",
            "gridwidth": 2,
            "linecolor": "white",
            "showbackground": true,
            "ticks": "",
            "zerolinecolor": "white"
           }
          },
          "shapedefaults": {
           "line": {
            "color": "#2a3f5f"
           }
          },
          "ternary": {
           "aaxis": {
            "gridcolor": "white",
            "linecolor": "white",
            "ticks": ""
           },
           "baxis": {
            "gridcolor": "white",
            "linecolor": "white",
            "ticks": ""
           },
           "bgcolor": "#E5ECF6",
           "caxis": {
            "gridcolor": "white",
            "linecolor": "white",
            "ticks": ""
           }
          },
          "title": {
           "x": 0.05
          },
          "xaxis": {
           "automargin": true,
           "gridcolor": "white",
           "linecolor": "white",
           "ticks": "",
           "title": {
            "standoff": 15
           },
           "zerolinecolor": "white",
           "zerolinewidth": 2
          },
          "yaxis": {
           "automargin": true,
           "gridcolor": "white",
           "linecolor": "white",
           "ticks": "",
           "title": {
            "standoff": 15
           },
           "zerolinecolor": "white",
           "zerolinewidth": 2
          }
         }
        },
        "xaxis": {
         "anchor": "y",
         "domain": [
          0,
          1
         ],
         "title": {
          "text": "date"
         }
        },
        "yaxis": {
         "anchor": "x",
         "domain": [
          0,
          1
         ],
         "title": {
          "text": "value"
         }
        }
       }
      }
     },
     "metadata": {},
     "output_type": "display_data"
    }
   ],
   "source": [
    "# explore missing values for stocks with many missing values\n",
    "px.line(df[df.permno == \"355488Q UN Equity\"].price)"
   ]
  },
  {
   "cell_type": "code",
   "execution_count": 16,
   "id": "f231dbbd",
   "metadata": {},
   "outputs": [
    {
     "name": "stderr",
     "output_type": "stream",
     "text": [
      "/Library/Frameworks/Python.framework/Versions/3.9/lib/python3.9/site-packages/_plotly_utils/basevalidators.py:105: FutureWarning:\n",
      "\n",
      "The behavior of DatetimeProperties.to_pydatetime is deprecated, in a future version this will return a Series containing python datetime objects instead of an ndarray. To retain the old behavior, call `np.array` on the result\n",
      "\n"
     ]
    },
    {
     "data": {
      "application/vnd.plotly.v1+json": {
       "config": {
        "plotlyServerURL": "https://plot.ly"
       },
       "data": [
        {
         "hovertemplate": "variable=price<br>date=%{x}<br>value=%{y}<extra></extra>",
         "legendgroup": "price",
         "line": {
          "color": "#636efa",
          "dash": "solid"
         },
         "marker": {
          "symbol": "circle"
         },
         "mode": "lines",
         "name": "price",
         "orientation": "v",
         "showlegend": true,
         "type": "scatter",
         "x": [
          "1990-01-31T00:00:00",
          "1990-02-28T00:00:00",
          "1990-03-30T00:00:00",
          "1990-04-30T00:00:00",
          "1990-05-31T00:00:00",
          "1990-06-29T00:00:00",
          "1990-07-31T00:00:00",
          "1990-08-31T00:00:00",
          "1990-09-28T00:00:00",
          "1990-10-31T00:00:00",
          "1990-11-30T00:00:00",
          "1990-12-31T00:00:00",
          "1991-01-31T00:00:00",
          "1991-02-28T00:00:00",
          "1991-03-28T00:00:00",
          "1991-04-30T00:00:00",
          "1991-05-31T00:00:00",
          "1991-06-28T00:00:00",
          "1991-07-31T00:00:00",
          "1991-08-30T00:00:00",
          "1991-09-30T00:00:00",
          "1991-10-31T00:00:00",
          "1991-11-29T00:00:00",
          "1991-12-31T00:00:00",
          "1992-01-31T00:00:00",
          "1992-02-28T00:00:00",
          "1992-03-31T00:00:00",
          "1992-04-30T00:00:00",
          "1992-05-29T00:00:00",
          "1992-06-30T00:00:00",
          "1992-07-31T00:00:00",
          "1992-08-31T00:00:00",
          "1992-09-30T00:00:00",
          "1992-10-30T00:00:00",
          "1992-11-30T00:00:00",
          "1992-12-31T00:00:00",
          "1993-01-29T00:00:00",
          "1993-02-26T00:00:00",
          "1993-03-31T00:00:00",
          "1993-04-30T00:00:00",
          "1993-05-28T00:00:00",
          "1993-06-30T00:00:00",
          "1993-07-30T00:00:00",
          "1993-08-31T00:00:00",
          "1993-09-30T00:00:00",
          "1993-10-29T00:00:00",
          "1993-11-30T00:00:00",
          "1993-12-31T00:00:00",
          "1994-01-31T00:00:00",
          "1994-02-28T00:00:00",
          "1994-03-31T00:00:00",
          "1994-04-29T00:00:00",
          "1994-05-31T00:00:00",
          "1994-06-30T00:00:00",
          "1994-07-29T00:00:00",
          "1994-08-31T00:00:00",
          "1994-09-30T00:00:00",
          "1994-10-31T00:00:00",
          "1994-11-30T00:00:00",
          "1994-12-30T00:00:00",
          "1995-01-31T00:00:00",
          "1995-02-28T00:00:00",
          "1995-03-31T00:00:00",
          "1995-04-28T00:00:00",
          "1995-05-31T00:00:00",
          "1995-06-30T00:00:00",
          "1995-07-31T00:00:00",
          "1995-08-31T00:00:00",
          "1995-09-29T00:00:00",
          "1995-10-31T00:00:00",
          "1995-11-30T00:00:00",
          "1995-12-29T00:00:00",
          "1996-01-31T00:00:00",
          "1996-02-29T00:00:00",
          "1996-03-29T00:00:00",
          "1996-04-30T00:00:00",
          "1996-05-31T00:00:00",
          "1996-06-28T00:00:00",
          "1996-07-31T00:00:00",
          "1996-08-30T00:00:00",
          "1996-09-30T00:00:00",
          "1996-10-31T00:00:00",
          "1996-11-29T00:00:00",
          "1996-12-31T00:00:00",
          "1997-01-31T00:00:00",
          "1997-02-28T00:00:00",
          "1997-03-31T00:00:00",
          "1997-04-30T00:00:00",
          "1997-05-30T00:00:00",
          "1997-06-30T00:00:00",
          "1997-07-31T00:00:00",
          "1997-08-29T00:00:00",
          "1997-09-30T00:00:00",
          "1997-10-31T00:00:00",
          "1997-11-28T00:00:00",
          "1997-12-31T00:00:00",
          "1998-01-30T00:00:00",
          "1998-02-27T00:00:00",
          "1998-03-31T00:00:00",
          "1998-04-30T00:00:00",
          "1998-05-29T00:00:00",
          "1998-06-30T00:00:00",
          "1998-07-31T00:00:00",
          "1998-08-31T00:00:00",
          "1998-09-30T00:00:00",
          "1998-10-30T00:00:00",
          "1998-11-30T00:00:00",
          "1998-12-31T00:00:00",
          "1999-01-29T00:00:00",
          "1999-02-26T00:00:00",
          "1999-03-31T00:00:00",
          "1999-04-30T00:00:00",
          "1999-05-28T00:00:00",
          "1999-06-30T00:00:00",
          "1999-07-30T00:00:00",
          "1999-08-31T00:00:00",
          "1999-09-30T00:00:00",
          "1999-10-29T00:00:00",
          "1999-11-30T00:00:00",
          "1999-12-31T00:00:00",
          "2000-01-31T00:00:00",
          "2000-02-29T00:00:00",
          "2000-03-31T00:00:00",
          "2000-04-28T00:00:00",
          "2000-05-31T00:00:00",
          "2000-06-30T00:00:00",
          "2000-07-31T00:00:00",
          "2000-08-31T00:00:00",
          "2000-09-29T00:00:00",
          "2000-10-31T00:00:00",
          "2000-11-30T00:00:00",
          "2000-12-29T00:00:00",
          "2001-01-31T00:00:00",
          "2001-02-28T00:00:00",
          "2001-03-30T00:00:00",
          "2001-04-30T00:00:00",
          "2001-05-31T00:00:00",
          "2001-06-29T00:00:00",
          "2001-07-31T00:00:00",
          "2001-08-31T00:00:00",
          "2001-09-28T00:00:00",
          "2001-10-31T00:00:00",
          "2001-11-30T00:00:00",
          "2001-12-31T00:00:00",
          "2002-01-31T00:00:00",
          "2002-02-28T00:00:00",
          "2002-03-28T00:00:00",
          "2002-04-30T00:00:00",
          "2002-05-31T00:00:00",
          "2002-06-28T00:00:00",
          "2002-07-31T00:00:00",
          "2002-08-30T00:00:00",
          "2002-09-30T00:00:00",
          "2002-10-31T00:00:00",
          "2002-11-29T00:00:00",
          "2002-12-31T00:00:00",
          "2003-01-31T00:00:00",
          "2003-02-28T00:00:00",
          "2003-03-31T00:00:00",
          "2003-04-30T00:00:00",
          "2003-05-30T00:00:00",
          "2003-06-30T00:00:00",
          "2003-07-31T00:00:00",
          "2003-08-29T00:00:00",
          "2003-09-30T00:00:00",
          "2003-10-31T00:00:00",
          "2003-11-28T00:00:00",
          "2003-12-31T00:00:00",
          "2004-01-30T00:00:00",
          "2004-02-27T00:00:00",
          "2004-03-31T00:00:00",
          "2004-04-30T00:00:00",
          "2004-05-28T00:00:00",
          "2004-06-30T00:00:00",
          "2004-07-30T00:00:00",
          "2004-08-31T00:00:00",
          "2004-09-30T00:00:00",
          "2004-10-29T00:00:00",
          "2004-11-30T00:00:00",
          "2004-12-31T00:00:00",
          "2005-01-31T00:00:00",
          "2005-02-28T00:00:00",
          "2005-03-31T00:00:00",
          "2005-04-29T00:00:00",
          "2005-05-31T00:00:00",
          "2005-06-30T00:00:00",
          "2005-07-29T00:00:00",
          "2005-08-31T00:00:00",
          "2005-09-30T00:00:00",
          "2005-10-31T00:00:00",
          "2005-11-30T00:00:00",
          "2005-12-30T00:00:00",
          "2006-01-31T00:00:00",
          "2006-02-28T00:00:00",
          "2006-03-31T00:00:00",
          "2006-04-28T00:00:00",
          "2006-05-31T00:00:00",
          "2006-06-30T00:00:00",
          "2006-07-31T00:00:00",
          "2006-08-31T00:00:00",
          "2006-09-29T00:00:00",
          "2006-10-31T00:00:00",
          "2006-11-30T00:00:00",
          "2006-12-29T00:00:00",
          "2007-01-31T00:00:00",
          "2007-02-28T00:00:00",
          "2007-03-30T00:00:00",
          "2007-04-30T00:00:00",
          "2007-05-31T00:00:00",
          "2007-06-29T00:00:00",
          "2007-07-31T00:00:00",
          "2007-08-31T00:00:00",
          "2007-09-28T00:00:00",
          "2007-10-31T00:00:00",
          "2007-11-30T00:00:00",
          "2007-12-31T00:00:00",
          "2008-01-31T00:00:00",
          "2008-02-29T00:00:00",
          "2008-03-31T00:00:00",
          "2008-04-30T00:00:00",
          "2008-05-30T00:00:00",
          "2008-06-30T00:00:00",
          "2008-07-31T00:00:00",
          "2008-08-29T00:00:00",
          "2008-09-30T00:00:00",
          "2008-10-31T00:00:00",
          "2008-11-28T00:00:00",
          "2008-12-31T00:00:00",
          "2009-01-30T00:00:00",
          "2009-02-27T00:00:00",
          "2009-03-31T00:00:00",
          "2009-04-30T00:00:00",
          "2009-05-29T00:00:00",
          "2009-06-30T00:00:00",
          "2009-07-31T00:00:00",
          "2009-08-31T00:00:00",
          "2009-09-30T00:00:00",
          "2009-10-30T00:00:00",
          "2009-11-30T00:00:00",
          "2009-12-31T00:00:00",
          "2010-01-29T00:00:00",
          "2010-02-26T00:00:00",
          "2010-03-31T00:00:00",
          "2010-04-30T00:00:00",
          "2010-05-28T00:00:00",
          "2010-06-30T00:00:00",
          "2010-07-30T00:00:00",
          "2010-08-31T00:00:00",
          "2010-09-30T00:00:00",
          "2010-10-29T00:00:00",
          "2010-11-30T00:00:00",
          "2010-12-31T00:00:00",
          "2011-01-31T00:00:00",
          "2011-02-28T00:00:00",
          "2011-03-31T00:00:00",
          "2011-04-29T00:00:00",
          "2011-05-31T00:00:00",
          "2011-06-30T00:00:00",
          "2011-07-29T00:00:00",
          "2011-08-31T00:00:00",
          "2011-09-30T00:00:00",
          "2011-10-31T00:00:00",
          "2011-11-30T00:00:00",
          "2011-12-30T00:00:00",
          "2012-01-31T00:00:00",
          "2012-02-29T00:00:00",
          "2012-03-30T00:00:00",
          "2012-04-30T00:00:00",
          "2012-05-31T00:00:00",
          "2012-06-29T00:00:00",
          "2012-07-31T00:00:00",
          "2012-08-31T00:00:00",
          "2012-09-28T00:00:00",
          "2012-10-31T00:00:00",
          "2012-11-30T00:00:00",
          "2012-12-31T00:00:00",
          "2013-01-31T00:00:00",
          "2013-02-28T00:00:00",
          "2013-03-28T00:00:00",
          "2013-04-30T00:00:00",
          "2013-05-31T00:00:00",
          "2013-06-28T00:00:00",
          "2013-07-31T00:00:00",
          "2013-08-30T00:00:00",
          "2013-09-30T00:00:00",
          "2013-10-31T00:00:00",
          "2013-11-29T00:00:00",
          "2013-12-31T00:00:00",
          "2014-01-31T00:00:00",
          "2014-02-28T00:00:00",
          "2014-03-31T00:00:00",
          "2014-04-30T00:00:00",
          "2014-05-30T00:00:00",
          "2014-06-30T00:00:00",
          "2014-07-31T00:00:00",
          "2014-08-29T00:00:00",
          "2014-09-30T00:00:00",
          "2014-10-31T00:00:00",
          "2014-11-28T00:00:00",
          "2014-12-31T00:00:00",
          "2015-01-30T00:00:00",
          "2015-02-27T00:00:00",
          "2015-03-31T00:00:00",
          "2015-04-30T00:00:00",
          "2015-05-29T00:00:00",
          "2015-06-30T00:00:00",
          "2015-07-31T00:00:00",
          "2015-08-31T00:00:00",
          "2015-09-30T00:00:00",
          "2015-10-30T00:00:00",
          "2015-11-30T00:00:00",
          "2015-12-31T00:00:00",
          "2016-01-29T00:00:00",
          "2016-02-29T00:00:00",
          "2016-03-31T00:00:00",
          "2016-04-29T00:00:00",
          "2016-05-31T00:00:00",
          "2016-06-30T00:00:00",
          "2016-07-29T00:00:00",
          "2016-08-31T00:00:00",
          "2016-09-30T00:00:00",
          "2016-10-31T00:00:00",
          "2016-11-30T00:00:00",
          "2016-12-30T00:00:00",
          "2017-01-31T00:00:00",
          "2017-02-28T00:00:00",
          "2017-03-31T00:00:00",
          "2017-04-28T00:00:00",
          "2017-05-31T00:00:00",
          "2017-06-30T00:00:00",
          "2017-07-31T00:00:00",
          "2017-08-31T00:00:00",
          "2017-09-29T00:00:00",
          "2017-10-31T00:00:00",
          "2017-11-30T00:00:00",
          "2017-12-29T00:00:00",
          "2018-01-31T00:00:00",
          "2018-02-28T00:00:00",
          "2018-03-29T00:00:00",
          "2018-04-30T00:00:00",
          "2018-05-31T00:00:00",
          "2018-06-29T00:00:00",
          "2018-07-31T00:00:00",
          "2018-08-31T00:00:00",
          "2018-09-28T00:00:00",
          "2018-10-31T00:00:00",
          "2018-11-30T00:00:00",
          "2018-12-31T00:00:00",
          "2019-01-31T00:00:00",
          "2019-02-28T00:00:00",
          "2019-03-29T00:00:00",
          "2019-04-30T00:00:00",
          "2019-05-31T00:00:00",
          "2019-06-28T00:00:00",
          "2019-07-31T00:00:00",
          "2019-08-30T00:00:00",
          "2019-09-30T00:00:00",
          "2019-10-31T00:00:00",
          "2019-11-29T00:00:00",
          "2019-12-31T00:00:00",
          "2020-01-31T00:00:00",
          "2020-02-28T00:00:00",
          "2020-03-31T00:00:00",
          "2020-04-30T00:00:00",
          "2020-05-29T00:00:00",
          "2020-06-30T00:00:00",
          "2020-07-31T00:00:00",
          "2020-08-31T00:00:00",
          "2020-09-30T00:00:00",
          "2020-10-30T00:00:00",
          "2020-11-30T00:00:00",
          "2020-12-31T00:00:00",
          "2021-01-29T00:00:00",
          "2021-02-26T00:00:00",
          "2021-03-31T00:00:00",
          "2021-04-30T00:00:00",
          "2021-05-28T00:00:00",
          "2021-06-30T00:00:00",
          "2021-07-30T00:00:00",
          "2021-08-31T00:00:00",
          "2021-09-30T00:00:00",
          "2021-10-29T00:00:00",
          "2021-11-30T00:00:00",
          "2021-12-31T00:00:00",
          "2022-01-31T00:00:00",
          "2022-02-28T00:00:00",
          "2022-03-31T00:00:00",
          "2022-04-29T00:00:00",
          "2022-05-31T00:00:00",
          "2022-06-30T00:00:00",
          "2022-07-29T00:00:00",
          "2022-08-30T00:00:00"
         ],
         "xaxis": "x",
         "y": [
          null,
          null,
          null,
          null,
          null,
          null,
          null,
          null,
          null,
          null,
          null,
          null,
          null,
          null,
          null,
          null,
          null,
          null,
          null,
          null,
          null,
          null,
          null,
          null,
          null,
          null,
          null,
          null,
          null,
          null,
          null,
          null,
          null,
          null,
          null,
          null,
          null,
          null,
          null,
          null,
          null,
          null,
          null,
          null,
          null,
          null,
          null,
          null,
          null,
          null,
          null,
          null,
          null,
          null,
          null,
          null,
          null,
          null,
          null,
          null,
          null,
          null,
          null,
          null,
          null,
          null,
          null,
          null,
          null,
          null,
          42.8844,
          41.7109,
          38,
          42.25,
          42.875,
          40.125,
          37.125,
          34,
          18.25,
          17.375,
          16.125,
          16.875,
          19.375,
          19.25,
          22,
          22.75,
          26.5,
          29.75,
          32,
          37.25,
          38.9375,
          41.75,
          54.25,
          52.125,
          53.4375,
          48.6875,
          null,
          null,
          null,
          null,
          null,
          null,
          null,
          null,
          null,
          null,
          null,
          null,
          null,
          null,
          null,
          null,
          null,
          null,
          null,
          null,
          null,
          null,
          null,
          null,
          null,
          null,
          null,
          null,
          null,
          null,
          null,
          null,
          null,
          null,
          null,
          null,
          null,
          null,
          null,
          null,
          null,
          null,
          null,
          null,
          null,
          null,
          null,
          null,
          null,
          null,
          null,
          null,
          null,
          null,
          null,
          null,
          null,
          null,
          null,
          null,
          null,
          null,
          null,
          null,
          null,
          null,
          null,
          null,
          null,
          null,
          null,
          null,
          null,
          null,
          null,
          null,
          null,
          null,
          null,
          null,
          null,
          null,
          null,
          null,
          null,
          null,
          null,
          null,
          null,
          null,
          null,
          null,
          null,
          null,
          null,
          null,
          null,
          null,
          null,
          null,
          null,
          null,
          null,
          null,
          null,
          null,
          null,
          null,
          null,
          null,
          null,
          null,
          null,
          null,
          null,
          null,
          null,
          null,
          null,
          null,
          null,
          null,
          null,
          null,
          null,
          null,
          null,
          null,
          null,
          null,
          null,
          null,
          null,
          null,
          null,
          null,
          null,
          null,
          null,
          null,
          null,
          null,
          null,
          null,
          null,
          null,
          null,
          null,
          null,
          null,
          null,
          null,
          null,
          null,
          null,
          null,
          null,
          null,
          null,
          null,
          null,
          null,
          null,
          null,
          null,
          null,
          null,
          null,
          null,
          null,
          null,
          null,
          null,
          null,
          null,
          null,
          null,
          null,
          null,
          null,
          null,
          null,
          null,
          null,
          null,
          null,
          null,
          null,
          null,
          null,
          null,
          null,
          null,
          null,
          null,
          null,
          null,
          null,
          null,
          null,
          null,
          null,
          null,
          null,
          null,
          null,
          null,
          null,
          null,
          null,
          null,
          null,
          null,
          null,
          null,
          null,
          null,
          null,
          null,
          null,
          null,
          null,
          null,
          null,
          null,
          null,
          null,
          null,
          null,
          null,
          null,
          null,
          null,
          null,
          null,
          null,
          null,
          null,
          null,
          null,
          null,
          null,
          null,
          null,
          null,
          null,
          null,
          null,
          null,
          null,
          null,
          null,
          null,
          null,
          null,
          null,
          null,
          null,
          null,
          null,
          null,
          null,
          null,
          null,
          null,
          null,
          null,
          null,
          null,
          null,
          null,
          null,
          null,
          null,
          null,
          null,
          null,
          null,
          null,
          null,
          null,
          null,
          null,
          null,
          null,
          null,
          null,
          null,
          null,
          null,
          null,
          null,
          null,
          null,
          null,
          null
         ],
         "yaxis": "y"
        }
       ],
       "layout": {
        "legend": {
         "title": {
          "text": "variable"
         },
         "tracegroupgap": 0
        },
        "margin": {
         "t": 60
        },
        "template": {
         "data": {
          "bar": [
           {
            "error_x": {
             "color": "#2a3f5f"
            },
            "error_y": {
             "color": "#2a3f5f"
            },
            "marker": {
             "line": {
              "color": "#E5ECF6",
              "width": 0.5
             },
             "pattern": {
              "fillmode": "overlay",
              "size": 10,
              "solidity": 0.2
             }
            },
            "type": "bar"
           }
          ],
          "barpolar": [
           {
            "marker": {
             "line": {
              "color": "#E5ECF6",
              "width": 0.5
             },
             "pattern": {
              "fillmode": "overlay",
              "size": 10,
              "solidity": 0.2
             }
            },
            "type": "barpolar"
           }
          ],
          "carpet": [
           {
            "aaxis": {
             "endlinecolor": "#2a3f5f",
             "gridcolor": "white",
             "linecolor": "white",
             "minorgridcolor": "white",
             "startlinecolor": "#2a3f5f"
            },
            "baxis": {
             "endlinecolor": "#2a3f5f",
             "gridcolor": "white",
             "linecolor": "white",
             "minorgridcolor": "white",
             "startlinecolor": "#2a3f5f"
            },
            "type": "carpet"
           }
          ],
          "choropleth": [
           {
            "colorbar": {
             "outlinewidth": 0,
             "ticks": ""
            },
            "type": "choropleth"
           }
          ],
          "contour": [
           {
            "colorbar": {
             "outlinewidth": 0,
             "ticks": ""
            },
            "colorscale": [
             [
              0,
              "#0d0887"
             ],
             [
              0.1111111111111111,
              "#46039f"
             ],
             [
              0.2222222222222222,
              "#7201a8"
             ],
             [
              0.3333333333333333,
              "#9c179e"
             ],
             [
              0.4444444444444444,
              "#bd3786"
             ],
             [
              0.5555555555555556,
              "#d8576b"
             ],
             [
              0.6666666666666666,
              "#ed7953"
             ],
             [
              0.7777777777777778,
              "#fb9f3a"
             ],
             [
              0.8888888888888888,
              "#fdca26"
             ],
             [
              1,
              "#f0f921"
             ]
            ],
            "type": "contour"
           }
          ],
          "contourcarpet": [
           {
            "colorbar": {
             "outlinewidth": 0,
             "ticks": ""
            },
            "type": "contourcarpet"
           }
          ],
          "heatmap": [
           {
            "colorbar": {
             "outlinewidth": 0,
             "ticks": ""
            },
            "colorscale": [
             [
              0,
              "#0d0887"
             ],
             [
              0.1111111111111111,
              "#46039f"
             ],
             [
              0.2222222222222222,
              "#7201a8"
             ],
             [
              0.3333333333333333,
              "#9c179e"
             ],
             [
              0.4444444444444444,
              "#bd3786"
             ],
             [
              0.5555555555555556,
              "#d8576b"
             ],
             [
              0.6666666666666666,
              "#ed7953"
             ],
             [
              0.7777777777777778,
              "#fb9f3a"
             ],
             [
              0.8888888888888888,
              "#fdca26"
             ],
             [
              1,
              "#f0f921"
             ]
            ],
            "type": "heatmap"
           }
          ],
          "heatmapgl": [
           {
            "colorbar": {
             "outlinewidth": 0,
             "ticks": ""
            },
            "colorscale": [
             [
              0,
              "#0d0887"
             ],
             [
              0.1111111111111111,
              "#46039f"
             ],
             [
              0.2222222222222222,
              "#7201a8"
             ],
             [
              0.3333333333333333,
              "#9c179e"
             ],
             [
              0.4444444444444444,
              "#bd3786"
             ],
             [
              0.5555555555555556,
              "#d8576b"
             ],
             [
              0.6666666666666666,
              "#ed7953"
             ],
             [
              0.7777777777777778,
              "#fb9f3a"
             ],
             [
              0.8888888888888888,
              "#fdca26"
             ],
             [
              1,
              "#f0f921"
             ]
            ],
            "type": "heatmapgl"
           }
          ],
          "histogram": [
           {
            "marker": {
             "pattern": {
              "fillmode": "overlay",
              "size": 10,
              "solidity": 0.2
             }
            },
            "type": "histogram"
           }
          ],
          "histogram2d": [
           {
            "colorbar": {
             "outlinewidth": 0,
             "ticks": ""
            },
            "colorscale": [
             [
              0,
              "#0d0887"
             ],
             [
              0.1111111111111111,
              "#46039f"
             ],
             [
              0.2222222222222222,
              "#7201a8"
             ],
             [
              0.3333333333333333,
              "#9c179e"
             ],
             [
              0.4444444444444444,
              "#bd3786"
             ],
             [
              0.5555555555555556,
              "#d8576b"
             ],
             [
              0.6666666666666666,
              "#ed7953"
             ],
             [
              0.7777777777777778,
              "#fb9f3a"
             ],
             [
              0.8888888888888888,
              "#fdca26"
             ],
             [
              1,
              "#f0f921"
             ]
            ],
            "type": "histogram2d"
           }
          ],
          "histogram2dcontour": [
           {
            "colorbar": {
             "outlinewidth": 0,
             "ticks": ""
            },
            "colorscale": [
             [
              0,
              "#0d0887"
             ],
             [
              0.1111111111111111,
              "#46039f"
             ],
             [
              0.2222222222222222,
              "#7201a8"
             ],
             [
              0.3333333333333333,
              "#9c179e"
             ],
             [
              0.4444444444444444,
              "#bd3786"
             ],
             [
              0.5555555555555556,
              "#d8576b"
             ],
             [
              0.6666666666666666,
              "#ed7953"
             ],
             [
              0.7777777777777778,
              "#fb9f3a"
             ],
             [
              0.8888888888888888,
              "#fdca26"
             ],
             [
              1,
              "#f0f921"
             ]
            ],
            "type": "histogram2dcontour"
           }
          ],
          "mesh3d": [
           {
            "colorbar": {
             "outlinewidth": 0,
             "ticks": ""
            },
            "type": "mesh3d"
           }
          ],
          "parcoords": [
           {
            "line": {
             "colorbar": {
              "outlinewidth": 0,
              "ticks": ""
             }
            },
            "type": "parcoords"
           }
          ],
          "pie": [
           {
            "automargin": true,
            "type": "pie"
           }
          ],
          "scatter": [
           {
            "fillpattern": {
             "fillmode": "overlay",
             "size": 10,
             "solidity": 0.2
            },
            "type": "scatter"
           }
          ],
          "scatter3d": [
           {
            "line": {
             "colorbar": {
              "outlinewidth": 0,
              "ticks": ""
             }
            },
            "marker": {
             "colorbar": {
              "outlinewidth": 0,
              "ticks": ""
             }
            },
            "type": "scatter3d"
           }
          ],
          "scattercarpet": [
           {
            "marker": {
             "colorbar": {
              "outlinewidth": 0,
              "ticks": ""
             }
            },
            "type": "scattercarpet"
           }
          ],
          "scattergeo": [
           {
            "marker": {
             "colorbar": {
              "outlinewidth": 0,
              "ticks": ""
             }
            },
            "type": "scattergeo"
           }
          ],
          "scattergl": [
           {
            "marker": {
             "colorbar": {
              "outlinewidth": 0,
              "ticks": ""
             }
            },
            "type": "scattergl"
           }
          ],
          "scattermapbox": [
           {
            "marker": {
             "colorbar": {
              "outlinewidth": 0,
              "ticks": ""
             }
            },
            "type": "scattermapbox"
           }
          ],
          "scatterpolar": [
           {
            "marker": {
             "colorbar": {
              "outlinewidth": 0,
              "ticks": ""
             }
            },
            "type": "scatterpolar"
           }
          ],
          "scatterpolargl": [
           {
            "marker": {
             "colorbar": {
              "outlinewidth": 0,
              "ticks": ""
             }
            },
            "type": "scatterpolargl"
           }
          ],
          "scatterternary": [
           {
            "marker": {
             "colorbar": {
              "outlinewidth": 0,
              "ticks": ""
             }
            },
            "type": "scatterternary"
           }
          ],
          "surface": [
           {
            "colorbar": {
             "outlinewidth": 0,
             "ticks": ""
            },
            "colorscale": [
             [
              0,
              "#0d0887"
             ],
             [
              0.1111111111111111,
              "#46039f"
             ],
             [
              0.2222222222222222,
              "#7201a8"
             ],
             [
              0.3333333333333333,
              "#9c179e"
             ],
             [
              0.4444444444444444,
              "#bd3786"
             ],
             [
              0.5555555555555556,
              "#d8576b"
             ],
             [
              0.6666666666666666,
              "#ed7953"
             ],
             [
              0.7777777777777778,
              "#fb9f3a"
             ],
             [
              0.8888888888888888,
              "#fdca26"
             ],
             [
              1,
              "#f0f921"
             ]
            ],
            "type": "surface"
           }
          ],
          "table": [
           {
            "cells": {
             "fill": {
              "color": "#EBF0F8"
             },
             "line": {
              "color": "white"
             }
            },
            "header": {
             "fill": {
              "color": "#C8D4E3"
             },
             "line": {
              "color": "white"
             }
            },
            "type": "table"
           }
          ]
         },
         "layout": {
          "annotationdefaults": {
           "arrowcolor": "#2a3f5f",
           "arrowhead": 0,
           "arrowwidth": 1
          },
          "autotypenumbers": "strict",
          "coloraxis": {
           "colorbar": {
            "outlinewidth": 0,
            "ticks": ""
           }
          },
          "colorscale": {
           "diverging": [
            [
             0,
             "#8e0152"
            ],
            [
             0.1,
             "#c51b7d"
            ],
            [
             0.2,
             "#de77ae"
            ],
            [
             0.3,
             "#f1b6da"
            ],
            [
             0.4,
             "#fde0ef"
            ],
            [
             0.5,
             "#f7f7f7"
            ],
            [
             0.6,
             "#e6f5d0"
            ],
            [
             0.7,
             "#b8e186"
            ],
            [
             0.8,
             "#7fbc41"
            ],
            [
             0.9,
             "#4d9221"
            ],
            [
             1,
             "#276419"
            ]
           ],
           "sequential": [
            [
             0,
             "#0d0887"
            ],
            [
             0.1111111111111111,
             "#46039f"
            ],
            [
             0.2222222222222222,
             "#7201a8"
            ],
            [
             0.3333333333333333,
             "#9c179e"
            ],
            [
             0.4444444444444444,
             "#bd3786"
            ],
            [
             0.5555555555555556,
             "#d8576b"
            ],
            [
             0.6666666666666666,
             "#ed7953"
            ],
            [
             0.7777777777777778,
             "#fb9f3a"
            ],
            [
             0.8888888888888888,
             "#fdca26"
            ],
            [
             1,
             "#f0f921"
            ]
           ],
           "sequentialminus": [
            [
             0,
             "#0d0887"
            ],
            [
             0.1111111111111111,
             "#46039f"
            ],
            [
             0.2222222222222222,
             "#7201a8"
            ],
            [
             0.3333333333333333,
             "#9c179e"
            ],
            [
             0.4444444444444444,
             "#bd3786"
            ],
            [
             0.5555555555555556,
             "#d8576b"
            ],
            [
             0.6666666666666666,
             "#ed7953"
            ],
            [
             0.7777777777777778,
             "#fb9f3a"
            ],
            [
             0.8888888888888888,
             "#fdca26"
            ],
            [
             1,
             "#f0f921"
            ]
           ]
          },
          "colorway": [
           "#636efa",
           "#EF553B",
           "#00cc96",
           "#ab63fa",
           "#FFA15A",
           "#19d3f3",
           "#FF6692",
           "#B6E880",
           "#FF97FF",
           "#FECB52"
          ],
          "font": {
           "color": "#2a3f5f"
          },
          "geo": {
           "bgcolor": "white",
           "lakecolor": "white",
           "landcolor": "#E5ECF6",
           "showlakes": true,
           "showland": true,
           "subunitcolor": "white"
          },
          "hoverlabel": {
           "align": "left"
          },
          "hovermode": "closest",
          "mapbox": {
           "style": "light"
          },
          "paper_bgcolor": "white",
          "plot_bgcolor": "#E5ECF6",
          "polar": {
           "angularaxis": {
            "gridcolor": "white",
            "linecolor": "white",
            "ticks": ""
           },
           "bgcolor": "#E5ECF6",
           "radialaxis": {
            "gridcolor": "white",
            "linecolor": "white",
            "ticks": ""
           }
          },
          "scene": {
           "xaxis": {
            "backgroundcolor": "#E5ECF6",
            "gridcolor": "white",
            "gridwidth": 2,
            "linecolor": "white",
            "showbackground": true,
            "ticks": "",
            "zerolinecolor": "white"
           },
           "yaxis": {
            "backgroundcolor": "#E5ECF6",
            "gridcolor": "white",
            "gridwidth": 2,
            "linecolor": "white",
            "showbackground": true,
            "ticks": "",
            "zerolinecolor": "white"
           },
           "zaxis": {
            "backgroundcolor": "#E5ECF6",
            "gridcolor": "white",
            "gridwidth": 2,
            "linecolor": "white",
            "showbackground": true,
            "ticks": "",
            "zerolinecolor": "white"
           }
          },
          "shapedefaults": {
           "line": {
            "color": "#2a3f5f"
           }
          },
          "ternary": {
           "aaxis": {
            "gridcolor": "white",
            "linecolor": "white",
            "ticks": ""
           },
           "baxis": {
            "gridcolor": "white",
            "linecolor": "white",
            "ticks": ""
           },
           "bgcolor": "#E5ECF6",
           "caxis": {
            "gridcolor": "white",
            "linecolor": "white",
            "ticks": ""
           }
          },
          "title": {
           "x": 0.05
          },
          "xaxis": {
           "automargin": true,
           "gridcolor": "white",
           "linecolor": "white",
           "ticks": "",
           "title": {
            "standoff": 15
           },
           "zerolinecolor": "white",
           "zerolinewidth": 2
          },
          "yaxis": {
           "automargin": true,
           "gridcolor": "white",
           "linecolor": "white",
           "ticks": "",
           "title": {
            "standoff": 15
           },
           "zerolinecolor": "white",
           "zerolinewidth": 2
          }
         }
        },
        "xaxis": {
         "anchor": "y",
         "domain": [
          0,
          1
         ],
         "title": {
          "text": "date"
         }
        },
        "yaxis": {
         "anchor": "x",
         "domain": [
          0,
          1
         ],
         "title": {
          "text": "value"
         }
        }
       }
      }
     },
     "metadata": {},
     "output_type": "display_data"
    }
   ],
   "source": [
    "px.line(df[df.permno == \"204923Q UN Equity\"].price)"
   ]
  },
  {
   "cell_type": "code",
   "execution_count": 17,
   "id": "00ce2b54",
   "metadata": {},
   "outputs": [
    {
     "data": {
      "text/html": [
       "<div>\n",
       "<style scoped>\n",
       "    .dataframe tbody tr th:only-of-type {\n",
       "        vertical-align: middle;\n",
       "    }\n",
       "\n",
       "    .dataframe tbody tr th {\n",
       "        vertical-align: top;\n",
       "    }\n",
       "\n",
       "    .dataframe thead th {\n",
       "        text-align: right;\n",
       "    }\n",
       "</style>\n",
       "<table border=\"1\" class=\"dataframe\">\n",
       "  <thead>\n",
       "    <tr style=\"text-align: right;\">\n",
       "      <th></th>\n",
       "      <th>permno</th>\n",
       "      <th>price</th>\n",
       "    </tr>\n",
       "    <tr>\n",
       "      <th>date</th>\n",
       "      <th></th>\n",
       "      <th></th>\n",
       "    </tr>\n",
       "  </thead>\n",
       "  <tbody>\n",
       "    <tr>\n",
       "      <th>1990-01-31</th>\n",
       "      <td>0111145D UN Equity</td>\n",
       "      <td>False</td>\n",
       "    </tr>\n",
       "    <tr>\n",
       "      <th>1990-02-28</th>\n",
       "      <td>0111145D UN Equity</td>\n",
       "      <td>False</td>\n",
       "    </tr>\n",
       "    <tr>\n",
       "      <th>1990-03-30</th>\n",
       "      <td>0111145D UN Equity</td>\n",
       "      <td>False</td>\n",
       "    </tr>\n",
       "    <tr>\n",
       "      <th>1990-04-30</th>\n",
       "      <td>0111145D UN Equity</td>\n",
       "      <td>False</td>\n",
       "    </tr>\n",
       "    <tr>\n",
       "      <th>1990-05-31</th>\n",
       "      <td>0111145D UN Equity</td>\n",
       "      <td>False</td>\n",
       "    </tr>\n",
       "    <tr>\n",
       "      <th>...</th>\n",
       "      <td>...</td>\n",
       "      <td>...</td>\n",
       "    </tr>\n",
       "    <tr>\n",
       "      <th>2022-04-29</th>\n",
       "      <td>J UN Equity</td>\n",
       "      <td>False</td>\n",
       "    </tr>\n",
       "    <tr>\n",
       "      <th>2022-05-31</th>\n",
       "      <td>J UN Equity</td>\n",
       "      <td>False</td>\n",
       "    </tr>\n",
       "    <tr>\n",
       "      <th>2022-06-30</th>\n",
       "      <td>J UN Equity</td>\n",
       "      <td>False</td>\n",
       "    </tr>\n",
       "    <tr>\n",
       "      <th>2022-07-29</th>\n",
       "      <td>J UN Equity</td>\n",
       "      <td>False</td>\n",
       "    </tr>\n",
       "    <tr>\n",
       "      <th>2022-08-30</th>\n",
       "      <td>J UN Equity</td>\n",
       "      <td>False</td>\n",
       "    </tr>\n",
       "  </tbody>\n",
       "</table>\n",
       "<p>569184 rows × 2 columns</p>\n",
       "</div>"
      ],
      "text/plain": [
       "                        permno  price\n",
       "date                                 \n",
       "1990-01-31  0111145D UN Equity  False\n",
       "1990-02-28  0111145D UN Equity  False\n",
       "1990-03-30  0111145D UN Equity  False\n",
       "1990-04-30  0111145D UN Equity  False\n",
       "1990-05-31  0111145D UN Equity  False\n",
       "...                        ...    ...\n",
       "2022-04-29         J UN Equity  False\n",
       "2022-05-31         J UN Equity  False\n",
       "2022-06-30         J UN Equity  False\n",
       "2022-07-29         J UN Equity  False\n",
       "2022-08-30         J UN Equity  False\n",
       "\n",
       "[569184 rows x 2 columns]"
      ]
     },
     "execution_count": 17,
     "metadata": {},
     "output_type": "execute_result"
    }
   ],
   "source": [
    "df_test_missing[[\"permno\", \"price\"]]"
   ]
  },
  {
   "cell_type": "code",
   "execution_count": 18,
   "id": "cb93bb61",
   "metadata": {},
   "outputs": [],
   "source": [
    "df_test_available = df_test_missing[[\"permno\", \"price\"]]\n",
    "df_test_available.loc[:, \"price\"] = ~df_test_available[\"price\"]"
   ]
  },
  {
   "cell_type": "code",
   "execution_count": 19,
   "id": "3d9669e3",
   "metadata": {},
   "outputs": [
    {
     "data": {
      "text/html": [
       "<div>\n",
       "<style scoped>\n",
       "    .dataframe tbody tr th:only-of-type {\n",
       "        vertical-align: middle;\n",
       "    }\n",
       "\n",
       "    .dataframe tbody tr th {\n",
       "        vertical-align: top;\n",
       "    }\n",
       "\n",
       "    .dataframe thead th {\n",
       "        text-align: right;\n",
       "    }\n",
       "</style>\n",
       "<table border=\"1\" class=\"dataframe\">\n",
       "  <thead>\n",
       "    <tr style=\"text-align: right;\">\n",
       "      <th></th>\n",
       "      <th>permno</th>\n",
       "      <th>price</th>\n",
       "    </tr>\n",
       "    <tr>\n",
       "      <th>date</th>\n",
       "      <th></th>\n",
       "      <th></th>\n",
       "    </tr>\n",
       "  </thead>\n",
       "  <tbody>\n",
       "    <tr>\n",
       "      <th>1990-01-31</th>\n",
       "      <td>0111145D UN Equity</td>\n",
       "      <td>True</td>\n",
       "    </tr>\n",
       "    <tr>\n",
       "      <th>1990-02-28</th>\n",
       "      <td>0111145D UN Equity</td>\n",
       "      <td>True</td>\n",
       "    </tr>\n",
       "    <tr>\n",
       "      <th>1990-03-30</th>\n",
       "      <td>0111145D UN Equity</td>\n",
       "      <td>True</td>\n",
       "    </tr>\n",
       "    <tr>\n",
       "      <th>1990-04-30</th>\n",
       "      <td>0111145D UN Equity</td>\n",
       "      <td>True</td>\n",
       "    </tr>\n",
       "    <tr>\n",
       "      <th>1990-05-31</th>\n",
       "      <td>0111145D UN Equity</td>\n",
       "      <td>True</td>\n",
       "    </tr>\n",
       "    <tr>\n",
       "      <th>...</th>\n",
       "      <td>...</td>\n",
       "      <td>...</td>\n",
       "    </tr>\n",
       "    <tr>\n",
       "      <th>2022-04-29</th>\n",
       "      <td>J UN Equity</td>\n",
       "      <td>True</td>\n",
       "    </tr>\n",
       "    <tr>\n",
       "      <th>2022-05-31</th>\n",
       "      <td>J UN Equity</td>\n",
       "      <td>True</td>\n",
       "    </tr>\n",
       "    <tr>\n",
       "      <th>2022-06-30</th>\n",
       "      <td>J UN Equity</td>\n",
       "      <td>True</td>\n",
       "    </tr>\n",
       "    <tr>\n",
       "      <th>2022-07-29</th>\n",
       "      <td>J UN Equity</td>\n",
       "      <td>True</td>\n",
       "    </tr>\n",
       "    <tr>\n",
       "      <th>2022-08-30</th>\n",
       "      <td>J UN Equity</td>\n",
       "      <td>True</td>\n",
       "    </tr>\n",
       "  </tbody>\n",
       "</table>\n",
       "<p>569184 rows × 2 columns</p>\n",
       "</div>"
      ],
      "text/plain": [
       "                        permno  price\n",
       "date                                 \n",
       "1990-01-31  0111145D UN Equity   True\n",
       "1990-02-28  0111145D UN Equity   True\n",
       "1990-03-30  0111145D UN Equity   True\n",
       "1990-04-30  0111145D UN Equity   True\n",
       "1990-05-31  0111145D UN Equity   True\n",
       "...                        ...    ...\n",
       "2022-04-29         J UN Equity   True\n",
       "2022-05-31         J UN Equity   True\n",
       "2022-06-30         J UN Equity   True\n",
       "2022-07-29         J UN Equity   True\n",
       "2022-08-30         J UN Equity   True\n",
       "\n",
       "[569184 rows x 2 columns]"
      ]
     },
     "execution_count": 19,
     "metadata": {},
     "output_type": "execute_result"
    }
   ],
   "source": [
    "df_test_available"
   ]
  },
  {
   "cell_type": "code",
   "execution_count": 20,
   "id": "8850384c",
   "metadata": {},
   "outputs": [],
   "source": [
    "df_pivot_missing = df_test_available.reset_index().pivot(index=\"date\", columns=\"permno\", values=\"price\").cumsum(axis=0)"
   ]
  },
  {
   "cell_type": "code",
   "execution_count": 21,
   "id": "1b50866f",
   "metadata": {},
   "outputs": [
    {
     "data": {
      "text/html": [
       "<div>\n",
       "<style scoped>\n",
       "    .dataframe tbody tr th:only-of-type {\n",
       "        vertical-align: middle;\n",
       "    }\n",
       "\n",
       "    .dataframe tbody tr th {\n",
       "        vertical-align: top;\n",
       "    }\n",
       "\n",
       "    .dataframe thead th {\n",
       "        text-align: right;\n",
       "    }\n",
       "</style>\n",
       "<table border=\"1\" class=\"dataframe\">\n",
       "  <thead>\n",
       "    <tr style=\"text-align: right;\">\n",
       "      <th>permno</th>\n",
       "      <th>0111145D UN Equity</th>\n",
       "      <th>0202445Q UN Equity</th>\n",
       "      <th>0203524D UN Equity</th>\n",
       "      <th>0226226D UN Equity</th>\n",
       "      <th>0376152D US Equity</th>\n",
       "      <th>0440296D UN Equity</th>\n",
       "      <th>0544749D UN Equity</th>\n",
       "      <th>0574018D UN Equity</th>\n",
       "      <th>0598884D UQ Equity</th>\n",
       "      <th>0598884D US Equity</th>\n",
       "      <th>...</th>\n",
       "      <th>YUM UN Equity</th>\n",
       "      <th>YUMC UN Equity</th>\n",
       "      <th>ZBH UN Equity</th>\n",
       "      <th>ZBRA UW Equity</th>\n",
       "      <th>ZETHQ US Equity</th>\n",
       "      <th>ZIMV UW Equity</th>\n",
       "      <th>ZION UQ Equity</th>\n",
       "      <th>ZION UW Equity</th>\n",
       "      <th>ZRN UN Equity</th>\n",
       "      <th>ZTS UN Equity</th>\n",
       "    </tr>\n",
       "    <tr>\n",
       "      <th>date</th>\n",
       "      <th></th>\n",
       "      <th></th>\n",
       "      <th></th>\n",
       "      <th></th>\n",
       "      <th></th>\n",
       "      <th></th>\n",
       "      <th></th>\n",
       "      <th></th>\n",
       "      <th></th>\n",
       "      <th></th>\n",
       "      <th></th>\n",
       "      <th></th>\n",
       "      <th></th>\n",
       "      <th></th>\n",
       "      <th></th>\n",
       "      <th></th>\n",
       "      <th></th>\n",
       "      <th></th>\n",
       "      <th></th>\n",
       "      <th></th>\n",
       "      <th></th>\n",
       "    </tr>\n",
       "  </thead>\n",
       "  <tbody>\n",
       "    <tr>\n",
       "      <th>1990-01-31</th>\n",
       "      <td>1</td>\n",
       "      <td>1</td>\n",
       "      <td>1</td>\n",
       "      <td>1</td>\n",
       "      <td>1</td>\n",
       "      <td>1</td>\n",
       "      <td>1</td>\n",
       "      <td>1</td>\n",
       "      <td>0</td>\n",
       "      <td>1</td>\n",
       "      <td>...</td>\n",
       "      <td>0</td>\n",
       "      <td>0</td>\n",
       "      <td>0</td>\n",
       "      <td>0</td>\n",
       "      <td>1</td>\n",
       "      <td>0</td>\n",
       "      <td>1</td>\n",
       "      <td>1</td>\n",
       "      <td>1</td>\n",
       "      <td>0</td>\n",
       "    </tr>\n",
       "    <tr>\n",
       "      <th>1990-02-28</th>\n",
       "      <td>2</td>\n",
       "      <td>2</td>\n",
       "      <td>2</td>\n",
       "      <td>2</td>\n",
       "      <td>2</td>\n",
       "      <td>2</td>\n",
       "      <td>2</td>\n",
       "      <td>2</td>\n",
       "      <td>0</td>\n",
       "      <td>2</td>\n",
       "      <td>...</td>\n",
       "      <td>0</td>\n",
       "      <td>0</td>\n",
       "      <td>0</td>\n",
       "      <td>0</td>\n",
       "      <td>2</td>\n",
       "      <td>0</td>\n",
       "      <td>2</td>\n",
       "      <td>2</td>\n",
       "      <td>2</td>\n",
       "      <td>0</td>\n",
       "    </tr>\n",
       "    <tr>\n",
       "      <th>1990-03-30</th>\n",
       "      <td>3</td>\n",
       "      <td>3</td>\n",
       "      <td>3</td>\n",
       "      <td>3</td>\n",
       "      <td>3</td>\n",
       "      <td>3</td>\n",
       "      <td>3</td>\n",
       "      <td>2</td>\n",
       "      <td>0</td>\n",
       "      <td>3</td>\n",
       "      <td>...</td>\n",
       "      <td>0</td>\n",
       "      <td>0</td>\n",
       "      <td>0</td>\n",
       "      <td>0</td>\n",
       "      <td>3</td>\n",
       "      <td>0</td>\n",
       "      <td>3</td>\n",
       "      <td>3</td>\n",
       "      <td>3</td>\n",
       "      <td>0</td>\n",
       "    </tr>\n",
       "    <tr>\n",
       "      <th>1990-04-30</th>\n",
       "      <td>4</td>\n",
       "      <td>4</td>\n",
       "      <td>4</td>\n",
       "      <td>4</td>\n",
       "      <td>4</td>\n",
       "      <td>4</td>\n",
       "      <td>4</td>\n",
       "      <td>3</td>\n",
       "      <td>0</td>\n",
       "      <td>4</td>\n",
       "      <td>...</td>\n",
       "      <td>0</td>\n",
       "      <td>0</td>\n",
       "      <td>0</td>\n",
       "      <td>0</td>\n",
       "      <td>4</td>\n",
       "      <td>0</td>\n",
       "      <td>4</td>\n",
       "      <td>4</td>\n",
       "      <td>4</td>\n",
       "      <td>0</td>\n",
       "    </tr>\n",
       "    <tr>\n",
       "      <th>1990-05-31</th>\n",
       "      <td>5</td>\n",
       "      <td>5</td>\n",
       "      <td>5</td>\n",
       "      <td>5</td>\n",
       "      <td>5</td>\n",
       "      <td>5</td>\n",
       "      <td>5</td>\n",
       "      <td>4</td>\n",
       "      <td>0</td>\n",
       "      <td>5</td>\n",
       "      <td>...</td>\n",
       "      <td>0</td>\n",
       "      <td>0</td>\n",
       "      <td>0</td>\n",
       "      <td>0</td>\n",
       "      <td>5</td>\n",
       "      <td>0</td>\n",
       "      <td>5</td>\n",
       "      <td>5</td>\n",
       "      <td>5</td>\n",
       "      <td>0</td>\n",
       "    </tr>\n",
       "    <tr>\n",
       "      <th>...</th>\n",
       "      <td>...</td>\n",
       "      <td>...</td>\n",
       "      <td>...</td>\n",
       "      <td>...</td>\n",
       "      <td>...</td>\n",
       "      <td>...</td>\n",
       "      <td>...</td>\n",
       "      <td>...</td>\n",
       "      <td>...</td>\n",
       "      <td>...</td>\n",
       "      <td>...</td>\n",
       "      <td>...</td>\n",
       "      <td>...</td>\n",
       "      <td>...</td>\n",
       "      <td>...</td>\n",
       "      <td>...</td>\n",
       "      <td>...</td>\n",
       "      <td>...</td>\n",
       "      <td>...</td>\n",
       "      <td>...</td>\n",
       "      <td>...</td>\n",
       "    </tr>\n",
       "    <tr>\n",
       "      <th>2022-04-29</th>\n",
       "      <td>263</td>\n",
       "      <td>246</td>\n",
       "      <td>260</td>\n",
       "      <td>235</td>\n",
       "      <td>202</td>\n",
       "      <td>75</td>\n",
       "      <td>199</td>\n",
       "      <td>212</td>\n",
       "      <td>45</td>\n",
       "      <td>104</td>\n",
       "      <td>...</td>\n",
       "      <td>296</td>\n",
       "      <td>67</td>\n",
       "      <td>250</td>\n",
       "      <td>369</td>\n",
       "      <td>118</td>\n",
       "      <td>3</td>\n",
       "      <td>388</td>\n",
       "      <td>388</td>\n",
       "      <td>101</td>\n",
       "      <td>111</td>\n",
       "    </tr>\n",
       "    <tr>\n",
       "      <th>2022-05-31</th>\n",
       "      <td>263</td>\n",
       "      <td>246</td>\n",
       "      <td>260</td>\n",
       "      <td>235</td>\n",
       "      <td>202</td>\n",
       "      <td>75</td>\n",
       "      <td>199</td>\n",
       "      <td>212</td>\n",
       "      <td>45</td>\n",
       "      <td>104</td>\n",
       "      <td>...</td>\n",
       "      <td>297</td>\n",
       "      <td>68</td>\n",
       "      <td>251</td>\n",
       "      <td>370</td>\n",
       "      <td>118</td>\n",
       "      <td>4</td>\n",
       "      <td>389</td>\n",
       "      <td>389</td>\n",
       "      <td>101</td>\n",
       "      <td>112</td>\n",
       "    </tr>\n",
       "    <tr>\n",
       "      <th>2022-06-30</th>\n",
       "      <td>263</td>\n",
       "      <td>246</td>\n",
       "      <td>260</td>\n",
       "      <td>235</td>\n",
       "      <td>202</td>\n",
       "      <td>75</td>\n",
       "      <td>199</td>\n",
       "      <td>212</td>\n",
       "      <td>45</td>\n",
       "      <td>104</td>\n",
       "      <td>...</td>\n",
       "      <td>298</td>\n",
       "      <td>69</td>\n",
       "      <td>252</td>\n",
       "      <td>371</td>\n",
       "      <td>118</td>\n",
       "      <td>5</td>\n",
       "      <td>390</td>\n",
       "      <td>390</td>\n",
       "      <td>101</td>\n",
       "      <td>113</td>\n",
       "    </tr>\n",
       "    <tr>\n",
       "      <th>2022-07-29</th>\n",
       "      <td>263</td>\n",
       "      <td>246</td>\n",
       "      <td>260</td>\n",
       "      <td>235</td>\n",
       "      <td>202</td>\n",
       "      <td>75</td>\n",
       "      <td>199</td>\n",
       "      <td>212</td>\n",
       "      <td>45</td>\n",
       "      <td>104</td>\n",
       "      <td>...</td>\n",
       "      <td>299</td>\n",
       "      <td>70</td>\n",
       "      <td>253</td>\n",
       "      <td>372</td>\n",
       "      <td>118</td>\n",
       "      <td>6</td>\n",
       "      <td>391</td>\n",
       "      <td>391</td>\n",
       "      <td>101</td>\n",
       "      <td>114</td>\n",
       "    </tr>\n",
       "    <tr>\n",
       "      <th>2022-08-30</th>\n",
       "      <td>263</td>\n",
       "      <td>246</td>\n",
       "      <td>260</td>\n",
       "      <td>235</td>\n",
       "      <td>202</td>\n",
       "      <td>75</td>\n",
       "      <td>199</td>\n",
       "      <td>212</td>\n",
       "      <td>45</td>\n",
       "      <td>104</td>\n",
       "      <td>...</td>\n",
       "      <td>300</td>\n",
       "      <td>71</td>\n",
       "      <td>254</td>\n",
       "      <td>373</td>\n",
       "      <td>118</td>\n",
       "      <td>7</td>\n",
       "      <td>392</td>\n",
       "      <td>392</td>\n",
       "      <td>101</td>\n",
       "      <td>115</td>\n",
       "    </tr>\n",
       "  </tbody>\n",
       "</table>\n",
       "<p>392 rows × 1452 columns</p>\n",
       "</div>"
      ],
      "text/plain": [
       "permno      0111145D UN Equity  0202445Q UN Equity  0203524D UN Equity  \\\n",
       "date                                                                     \n",
       "1990-01-31                   1                   1                   1   \n",
       "1990-02-28                   2                   2                   2   \n",
       "1990-03-30                   3                   3                   3   \n",
       "1990-04-30                   4                   4                   4   \n",
       "1990-05-31                   5                   5                   5   \n",
       "...                        ...                 ...                 ...   \n",
       "2022-04-29                 263                 246                 260   \n",
       "2022-05-31                 263                 246                 260   \n",
       "2022-06-30                 263                 246                 260   \n",
       "2022-07-29                 263                 246                 260   \n",
       "2022-08-30                 263                 246                 260   \n",
       "\n",
       "permno      0226226D UN Equity  0376152D US Equity  0440296D UN Equity  \\\n",
       "date                                                                     \n",
       "1990-01-31                   1                   1                   1   \n",
       "1990-02-28                   2                   2                   2   \n",
       "1990-03-30                   3                   3                   3   \n",
       "1990-04-30                   4                   4                   4   \n",
       "1990-05-31                   5                   5                   5   \n",
       "...                        ...                 ...                 ...   \n",
       "2022-04-29                 235                 202                  75   \n",
       "2022-05-31                 235                 202                  75   \n",
       "2022-06-30                 235                 202                  75   \n",
       "2022-07-29                 235                 202                  75   \n",
       "2022-08-30                 235                 202                  75   \n",
       "\n",
       "permno      0544749D UN Equity  0574018D UN Equity  0598884D UQ Equity  \\\n",
       "date                                                                     \n",
       "1990-01-31                   1                   1                   0   \n",
       "1990-02-28                   2                   2                   0   \n",
       "1990-03-30                   3                   2                   0   \n",
       "1990-04-30                   4                   3                   0   \n",
       "1990-05-31                   5                   4                   0   \n",
       "...                        ...                 ...                 ...   \n",
       "2022-04-29                 199                 212                  45   \n",
       "2022-05-31                 199                 212                  45   \n",
       "2022-06-30                 199                 212                  45   \n",
       "2022-07-29                 199                 212                  45   \n",
       "2022-08-30                 199                 212                  45   \n",
       "\n",
       "permno      0598884D US Equity  ...  YUM UN Equity  YUMC UN Equity  \\\n",
       "date                            ...                                  \n",
       "1990-01-31                   1  ...              0               0   \n",
       "1990-02-28                   2  ...              0               0   \n",
       "1990-03-30                   3  ...              0               0   \n",
       "1990-04-30                   4  ...              0               0   \n",
       "1990-05-31                   5  ...              0               0   \n",
       "...                        ...  ...            ...             ...   \n",
       "2022-04-29                 104  ...            296              67   \n",
       "2022-05-31                 104  ...            297              68   \n",
       "2022-06-30                 104  ...            298              69   \n",
       "2022-07-29                 104  ...            299              70   \n",
       "2022-08-30                 104  ...            300              71   \n",
       "\n",
       "permno      ZBH UN Equity  ZBRA UW Equity  ZETHQ US Equity  ZIMV UW Equity  \\\n",
       "date                                                                         \n",
       "1990-01-31              0               0                1               0   \n",
       "1990-02-28              0               0                2               0   \n",
       "1990-03-30              0               0                3               0   \n",
       "1990-04-30              0               0                4               0   \n",
       "1990-05-31              0               0                5               0   \n",
       "...                   ...             ...              ...             ...   \n",
       "2022-04-29            250             369              118               3   \n",
       "2022-05-31            251             370              118               4   \n",
       "2022-06-30            252             371              118               5   \n",
       "2022-07-29            253             372              118               6   \n",
       "2022-08-30            254             373              118               7   \n",
       "\n",
       "permno      ZION UQ Equity  ZION UW Equity  ZRN UN Equity  ZTS UN Equity  \n",
       "date                                                                      \n",
       "1990-01-31               1               1              1              0  \n",
       "1990-02-28               2               2              2              0  \n",
       "1990-03-30               3               3              3              0  \n",
       "1990-04-30               4               4              4              0  \n",
       "1990-05-31               5               5              5              0  \n",
       "...                    ...             ...            ...            ...  \n",
       "2022-04-29             388             388            101            111  \n",
       "2022-05-31             389             389            101            112  \n",
       "2022-06-30             390             390            101            113  \n",
       "2022-07-29             391             391            101            114  \n",
       "2022-08-30             392             392            101            115  \n",
       "\n",
       "[392 rows x 1452 columns]"
      ]
     },
     "execution_count": 21,
     "metadata": {},
     "output_type": "execute_result"
    }
   ],
   "source": [
    "df_pivot_missing"
   ]
  },
  {
   "cell_type": "code",
   "execution_count": 22,
   "id": "e5333427",
   "metadata": {},
   "outputs": [
    {
     "data": {
      "text/plain": [
       "permno\n",
       "0111145D UN Equity   2011-11-30\n",
       "0202445Q UN Equity   2010-06-30\n",
       "0203524D UN Equity   2011-08-31\n",
       "0226226D UN Equity   2009-07-31\n",
       "0376152D US Equity   2006-10-31\n",
       "                        ...    \n",
       "ZIMV UW Equity       2022-08-30\n",
       "ZION UQ Equity       2022-08-30\n",
       "ZION UW Equity       2022-08-30\n",
       "ZRN UN Equity        1998-05-29\n",
       "ZTS UN Equity        2022-08-30\n",
       "Length: 1452, dtype: datetime64[ns]"
      ]
     },
     "execution_count": 22,
     "metadata": {},
     "output_type": "execute_result"
    }
   ],
   "source": [
    "df_pivot_missing.idxmax()"
   ]
  },
  {
   "cell_type": "code",
   "execution_count": 23,
   "id": "edbabb40",
   "metadata": {},
   "outputs": [
    {
     "name": "stderr",
     "output_type": "stream",
     "text": [
      "/var/folders/ch/yj3xbk4s1t34gtb89jtxcmcr0000gn/T/ipykernel_31297/2975795845.py:1: FutureWarning:\n",
      "\n",
      "The behavior of DataFrame.idxmin with all-NA values, or any-NA and skipna=False, is deprecated. In a future version this will raise ValueError\n",
      "\n"
     ]
    },
    {
     "data": {
      "text/html": [
       "<div>\n",
       "<style scoped>\n",
       "    .dataframe tbody tr th:only-of-type {\n",
       "        vertical-align: middle;\n",
       "    }\n",
       "\n",
       "    .dataframe tbody tr th {\n",
       "        vertical-align: top;\n",
       "    }\n",
       "\n",
       "    .dataframe thead th {\n",
       "        text-align: right;\n",
       "    }\n",
       "</style>\n",
       "<table border=\"1\" class=\"dataframe\">\n",
       "  <thead>\n",
       "    <tr style=\"text-align: right;\">\n",
       "      <th></th>\n",
       "      <th>0</th>\n",
       "    </tr>\n",
       "    <tr>\n",
       "      <th>permno</th>\n",
       "      <th></th>\n",
       "    </tr>\n",
       "  </thead>\n",
       "  <tbody>\n",
       "    <tr>\n",
       "      <th>0111145D UN Equity</th>\n",
       "      <td>1990-01-31</td>\n",
       "    </tr>\n",
       "    <tr>\n",
       "      <th>0202445Q UN Equity</th>\n",
       "      <td>1990-01-31</td>\n",
       "    </tr>\n",
       "    <tr>\n",
       "      <th>0203524D UN Equity</th>\n",
       "      <td>1990-01-31</td>\n",
       "    </tr>\n",
       "    <tr>\n",
       "      <th>0226226D UN Equity</th>\n",
       "      <td>1990-01-31</td>\n",
       "    </tr>\n",
       "    <tr>\n",
       "      <th>0376152D US Equity</th>\n",
       "      <td>1990-01-31</td>\n",
       "    </tr>\n",
       "    <tr>\n",
       "      <th>...</th>\n",
       "      <td>...</td>\n",
       "    </tr>\n",
       "    <tr>\n",
       "      <th>ZIMV UW Equity</th>\n",
       "      <td>2022-02-28</td>\n",
       "    </tr>\n",
       "    <tr>\n",
       "      <th>ZION UQ Equity</th>\n",
       "      <td>1990-01-31</td>\n",
       "    </tr>\n",
       "    <tr>\n",
       "      <th>ZION UW Equity</th>\n",
       "      <td>1990-01-31</td>\n",
       "    </tr>\n",
       "    <tr>\n",
       "      <th>ZRN UN Equity</th>\n",
       "      <td>1990-01-31</td>\n",
       "    </tr>\n",
       "    <tr>\n",
       "      <th>ZTS UN Equity</th>\n",
       "      <td>2013-02-28</td>\n",
       "    </tr>\n",
       "  </tbody>\n",
       "</table>\n",
       "<p>1452 rows × 1 columns</p>\n",
       "</div>"
      ],
      "text/plain": [
       "                            0\n",
       "permno                       \n",
       "0111145D UN Equity 1990-01-31\n",
       "0202445Q UN Equity 1990-01-31\n",
       "0203524D UN Equity 1990-01-31\n",
       "0226226D UN Equity 1990-01-31\n",
       "0376152D US Equity 1990-01-31\n",
       "...                       ...\n",
       "ZIMV UW Equity     2022-02-28\n",
       "ZION UQ Equity     1990-01-31\n",
       "ZION UW Equity     1990-01-31\n",
       "ZRN UN Equity      1990-01-31\n",
       "ZTS UN Equity      2013-02-28\n",
       "\n",
       "[1452 rows x 1 columns]"
      ]
     },
     "execution_count": 23,
     "metadata": {},
     "output_type": "execute_result"
    }
   ],
   "source": [
    "df_pivot_missing.replace(0, np.nan).idxmin().to_frame()"
   ]
  },
  {
   "cell_type": "code",
   "execution_count": 24,
   "id": "5fd4a3f7",
   "metadata": {},
   "outputs": [
    {
     "name": "stderr",
     "output_type": "stream",
     "text": [
      "/var/folders/ch/yj3xbk4s1t34gtb89jtxcmcr0000gn/T/ipykernel_31297/3586882586.py:1: FutureWarning:\n",
      "\n",
      "The behavior of DataFrame.idxmin with all-NA values, or any-NA and skipna=False, is deprecated. In a future version this will raise ValueError\n",
      "\n"
     ]
    }
   ],
   "source": [
    "df_start_end = df_pivot_missing.replace(0, np.nan).idxmin().to_frame()"
   ]
  },
  {
   "cell_type": "code",
   "execution_count": 25,
   "id": "80ad4eb8",
   "metadata": {},
   "outputs": [],
   "source": [
    "df_start_end[\"end\"] = df_pivot_missing.idxmax()\n",
    "df_start_end = df_start_end.rename(columns={0:\"start\"})"
   ]
  },
  {
   "cell_type": "code",
   "execution_count": 26,
   "id": "b598d83b",
   "metadata": {},
   "outputs": [
    {
     "data": {
      "text/html": [
       "<div>\n",
       "<style scoped>\n",
       "    .dataframe tbody tr th:only-of-type {\n",
       "        vertical-align: middle;\n",
       "    }\n",
       "\n",
       "    .dataframe tbody tr th {\n",
       "        vertical-align: top;\n",
       "    }\n",
       "\n",
       "    .dataframe thead th {\n",
       "        text-align: right;\n",
       "    }\n",
       "</style>\n",
       "<table border=\"1\" class=\"dataframe\">\n",
       "  <thead>\n",
       "    <tr style=\"text-align: right;\">\n",
       "      <th></th>\n",
       "      <th>start</th>\n",
       "      <th>end</th>\n",
       "    </tr>\n",
       "    <tr>\n",
       "      <th>permno</th>\n",
       "      <th></th>\n",
       "      <th></th>\n",
       "    </tr>\n",
       "  </thead>\n",
       "  <tbody>\n",
       "    <tr>\n",
       "      <th>0111145D UN Equity</th>\n",
       "      <td>1990-01-31</td>\n",
       "      <td>2011-11-30</td>\n",
       "    </tr>\n",
       "    <tr>\n",
       "      <th>0202445Q UN Equity</th>\n",
       "      <td>1990-01-31</td>\n",
       "      <td>2010-06-30</td>\n",
       "    </tr>\n",
       "    <tr>\n",
       "      <th>0203524D UN Equity</th>\n",
       "      <td>1990-01-31</td>\n",
       "      <td>2011-08-31</td>\n",
       "    </tr>\n",
       "    <tr>\n",
       "      <th>0226226D UN Equity</th>\n",
       "      <td>1990-01-31</td>\n",
       "      <td>2009-07-31</td>\n",
       "    </tr>\n",
       "    <tr>\n",
       "      <th>0376152D US Equity</th>\n",
       "      <td>1990-01-31</td>\n",
       "      <td>2006-10-31</td>\n",
       "    </tr>\n",
       "    <tr>\n",
       "      <th>...</th>\n",
       "      <td>...</td>\n",
       "      <td>...</td>\n",
       "    </tr>\n",
       "    <tr>\n",
       "      <th>ZIMV UW Equity</th>\n",
       "      <td>2022-02-28</td>\n",
       "      <td>2022-08-30</td>\n",
       "    </tr>\n",
       "    <tr>\n",
       "      <th>ZION UQ Equity</th>\n",
       "      <td>1990-01-31</td>\n",
       "      <td>2022-08-30</td>\n",
       "    </tr>\n",
       "    <tr>\n",
       "      <th>ZION UW Equity</th>\n",
       "      <td>1990-01-31</td>\n",
       "      <td>2022-08-30</td>\n",
       "    </tr>\n",
       "    <tr>\n",
       "      <th>ZRN UN Equity</th>\n",
       "      <td>1990-01-31</td>\n",
       "      <td>1998-05-29</td>\n",
       "    </tr>\n",
       "    <tr>\n",
       "      <th>ZTS UN Equity</th>\n",
       "      <td>2013-02-28</td>\n",
       "      <td>2022-08-30</td>\n",
       "    </tr>\n",
       "  </tbody>\n",
       "</table>\n",
       "<p>1452 rows × 2 columns</p>\n",
       "</div>"
      ],
      "text/plain": [
       "                        start        end\n",
       "permno                                  \n",
       "0111145D UN Equity 1990-01-31 2011-11-30\n",
       "0202445Q UN Equity 1990-01-31 2010-06-30\n",
       "0203524D UN Equity 1990-01-31 2011-08-31\n",
       "0226226D UN Equity 1990-01-31 2009-07-31\n",
       "0376152D US Equity 1990-01-31 2006-10-31\n",
       "...                       ...        ...\n",
       "ZIMV UW Equity     2022-02-28 2022-08-30\n",
       "ZION UQ Equity     1990-01-31 2022-08-30\n",
       "ZION UW Equity     1990-01-31 2022-08-30\n",
       "ZRN UN Equity      1990-01-31 1998-05-29\n",
       "ZTS UN Equity      2013-02-28 2022-08-30\n",
       "\n",
       "[1452 rows x 2 columns]"
      ]
     },
     "execution_count": 26,
     "metadata": {},
     "output_type": "execute_result"
    }
   ],
   "source": [
    "df_start_end"
   ]
  },
  {
   "cell_type": "code",
   "execution_count": 27,
   "id": "f002d079",
   "metadata": {},
   "outputs": [
    {
     "data": {
      "text/html": [
       "<div>\n",
       "<style scoped>\n",
       "    .dataframe tbody tr th:only-of-type {\n",
       "        vertical-align: middle;\n",
       "    }\n",
       "\n",
       "    .dataframe tbody tr th {\n",
       "        vertical-align: top;\n",
       "    }\n",
       "\n",
       "    .dataframe thead th {\n",
       "        text-align: right;\n",
       "    }\n",
       "</style>\n",
       "<table border=\"1\" class=\"dataframe\">\n",
       "  <thead>\n",
       "    <tr style=\"text-align: right;\">\n",
       "      <th></th>\n",
       "      <th>0</th>\n",
       "    </tr>\n",
       "    <tr>\n",
       "      <th>start</th>\n",
       "      <th></th>\n",
       "    </tr>\n",
       "  </thead>\n",
       "  <tbody>\n",
       "    <tr>\n",
       "      <th>1990-01-31</th>\n",
       "      <td>736</td>\n",
       "    </tr>\n",
       "    <tr>\n",
       "      <th>1994-12-30</th>\n",
       "      <td>23</td>\n",
       "    </tr>\n",
       "    <tr>\n",
       "      <th>1995-11-30</th>\n",
       "      <td>12</td>\n",
       "    </tr>\n",
       "    <tr>\n",
       "      <th>1992-06-30</th>\n",
       "      <td>11</td>\n",
       "    </tr>\n",
       "    <tr>\n",
       "      <th>1990-02-28</th>\n",
       "      <td>8</td>\n",
       "    </tr>\n",
       "    <tr>\n",
       "      <th>...</th>\n",
       "      <td>...</td>\n",
       "    </tr>\n",
       "    <tr>\n",
       "      <th>2009-02-27</th>\n",
       "      <td>1</td>\n",
       "    </tr>\n",
       "    <tr>\n",
       "      <th>2008-11-28</th>\n",
       "      <td>1</td>\n",
       "    </tr>\n",
       "    <tr>\n",
       "      <th>2008-07-31</th>\n",
       "      <td>1</td>\n",
       "    </tr>\n",
       "    <tr>\n",
       "      <th>1999-09-30</th>\n",
       "      <td>1</td>\n",
       "    </tr>\n",
       "    <tr>\n",
       "      <th>2022-04-29</th>\n",
       "      <td>1</td>\n",
       "    </tr>\n",
       "  </tbody>\n",
       "</table>\n",
       "<p>281 rows × 1 columns</p>\n",
       "</div>"
      ],
      "text/plain": [
       "              0\n",
       "start          \n",
       "1990-01-31  736\n",
       "1994-12-30   23\n",
       "1995-11-30   12\n",
       "1992-06-30   11\n",
       "1990-02-28    8\n",
       "...         ...\n",
       "2009-02-27    1\n",
       "2008-11-28    1\n",
       "2008-07-31    1\n",
       "1999-09-30    1\n",
       "2022-04-29    1\n",
       "\n",
       "[281 rows x 1 columns]"
      ]
     },
     "execution_count": 27,
     "metadata": {},
     "output_type": "execute_result"
    }
   ],
   "source": [
    "df_start_end.groupby(\"start\").size().sort_values(ascending=False).to_frame()"
   ]
  },
  {
   "cell_type": "code",
   "execution_count": 28,
   "id": "d4d820b1",
   "metadata": {},
   "outputs": [
    {
     "data": {
      "text/html": [
       "<div>\n",
       "<style scoped>\n",
       "    .dataframe tbody tr th:only-of-type {\n",
       "        vertical-align: middle;\n",
       "    }\n",
       "\n",
       "    .dataframe tbody tr th {\n",
       "        vertical-align: top;\n",
       "    }\n",
       "\n",
       "    .dataframe thead th {\n",
       "        text-align: right;\n",
       "    }\n",
       "</style>\n",
       "<table border=\"1\" class=\"dataframe\">\n",
       "  <thead>\n",
       "    <tr style=\"text-align: right;\">\n",
       "      <th></th>\n",
       "      <th>0</th>\n",
       "    </tr>\n",
       "    <tr>\n",
       "      <th>start</th>\n",
       "      <th></th>\n",
       "    </tr>\n",
       "  </thead>\n",
       "  <tbody>\n",
       "    <tr>\n",
       "      <th>1990-01-31</th>\n",
       "      <td>736</td>\n",
       "    </tr>\n",
       "    <tr>\n",
       "      <th>1990-02-28</th>\n",
       "      <td>744</td>\n",
       "    </tr>\n",
       "    <tr>\n",
       "      <th>1990-03-30</th>\n",
       "      <td>747</td>\n",
       "    </tr>\n",
       "    <tr>\n",
       "      <th>1990-04-30</th>\n",
       "      <td>748</td>\n",
       "    </tr>\n",
       "    <tr>\n",
       "      <th>1990-05-31</th>\n",
       "      <td>749</td>\n",
       "    </tr>\n",
       "    <tr>\n",
       "      <th>...</th>\n",
       "      <td>...</td>\n",
       "    </tr>\n",
       "    <tr>\n",
       "      <th>2021-12-31</th>\n",
       "      <td>1444</td>\n",
       "    </tr>\n",
       "    <tr>\n",
       "      <th>2022-01-31</th>\n",
       "      <td>1445</td>\n",
       "    </tr>\n",
       "    <tr>\n",
       "      <th>2022-02-28</th>\n",
       "      <td>1446</td>\n",
       "    </tr>\n",
       "    <tr>\n",
       "      <th>2022-03-31</th>\n",
       "      <td>1447</td>\n",
       "    </tr>\n",
       "    <tr>\n",
       "      <th>2022-04-29</th>\n",
       "      <td>1448</td>\n",
       "    </tr>\n",
       "  </tbody>\n",
       "</table>\n",
       "<p>281 rows × 1 columns</p>\n",
       "</div>"
      ],
      "text/plain": [
       "               0\n",
       "start           \n",
       "1990-01-31   736\n",
       "1990-02-28   744\n",
       "1990-03-30   747\n",
       "1990-04-30   748\n",
       "1990-05-31   749\n",
       "...          ...\n",
       "2021-12-31  1444\n",
       "2022-01-31  1445\n",
       "2022-02-28  1446\n",
       "2022-03-31  1447\n",
       "2022-04-29  1448\n",
       "\n",
       "[281 rows x 1 columns]"
      ]
     },
     "execution_count": 28,
     "metadata": {},
     "output_type": "execute_result"
    }
   ],
   "source": [
    "df_start_end.groupby(\"start\").size().to_frame().cumsum()"
   ]
  },
  {
   "cell_type": "code",
   "execution_count": 29,
   "id": "3737298f",
   "metadata": {},
   "outputs": [
    {
     "data": {
      "text/html": [
       "<div>\n",
       "<style scoped>\n",
       "    .dataframe tbody tr th:only-of-type {\n",
       "        vertical-align: middle;\n",
       "    }\n",
       "\n",
       "    .dataframe tbody tr th {\n",
       "        vertical-align: top;\n",
       "    }\n",
       "\n",
       "    .dataframe thead th {\n",
       "        text-align: right;\n",
       "    }\n",
       "</style>\n",
       "<table border=\"1\" class=\"dataframe\">\n",
       "  <thead>\n",
       "    <tr style=\"text-align: right;\">\n",
       "      <th></th>\n",
       "      <th>0</th>\n",
       "    </tr>\n",
       "    <tr>\n",
       "      <th>end</th>\n",
       "      <th></th>\n",
       "    </tr>\n",
       "  </thead>\n",
       "  <tbody>\n",
       "    <tr>\n",
       "      <th>2022-08-30</th>\n",
       "      <td>719</td>\n",
       "    </tr>\n",
       "    <tr>\n",
       "      <th>1999-09-30</th>\n",
       "      <td>8</td>\n",
       "    </tr>\n",
       "    <tr>\n",
       "      <th>2008-12-31</th>\n",
       "      <td>8</td>\n",
       "    </tr>\n",
       "    <tr>\n",
       "      <th>2006-10-31</th>\n",
       "      <td>8</td>\n",
       "    </tr>\n",
       "    <tr>\n",
       "      <th>2000-05-31</th>\n",
       "      <td>8</td>\n",
       "    </tr>\n",
       "    <tr>\n",
       "      <th>...</th>\n",
       "      <td>...</td>\n",
       "    </tr>\n",
       "    <tr>\n",
       "      <th>2011-06-30</th>\n",
       "      <td>1</td>\n",
       "    </tr>\n",
       "    <tr>\n",
       "      <th>2011-04-29</th>\n",
       "      <td>1</td>\n",
       "    </tr>\n",
       "    <tr>\n",
       "      <th>1999-01-29</th>\n",
       "      <td>1</td>\n",
       "    </tr>\n",
       "    <tr>\n",
       "      <th>2011-01-31</th>\n",
       "      <td>1</td>\n",
       "    </tr>\n",
       "    <tr>\n",
       "      <th>1992-03-31</th>\n",
       "      <td>1</td>\n",
       "    </tr>\n",
       "  </tbody>\n",
       "</table>\n",
       "<p>290 rows × 1 columns</p>\n",
       "</div>"
      ],
      "text/plain": [
       "              0\n",
       "end            \n",
       "2022-08-30  719\n",
       "1999-09-30    8\n",
       "2008-12-31    8\n",
       "2006-10-31    8\n",
       "2000-05-31    8\n",
       "...         ...\n",
       "2011-06-30    1\n",
       "2011-04-29    1\n",
       "1999-01-29    1\n",
       "2011-01-31    1\n",
       "1992-03-31    1\n",
       "\n",
       "[290 rows x 1 columns]"
      ]
     },
     "execution_count": 29,
     "metadata": {},
     "output_type": "execute_result"
    }
   ],
   "source": [
    "df_start_end.groupby(\"end\").size().sort_values(ascending=False).to_frame()"
   ]
  },
  {
   "cell_type": "code",
   "execution_count": 30,
   "id": "1c7a4d68",
   "metadata": {},
   "outputs": [
    {
     "data": {
      "text/html": [
       "<div>\n",
       "<style scoped>\n",
       "    .dataframe tbody tr th:only-of-type {\n",
       "        vertical-align: middle;\n",
       "    }\n",
       "\n",
       "    .dataframe tbody tr th {\n",
       "        vertical-align: top;\n",
       "    }\n",
       "\n",
       "    .dataframe thead th {\n",
       "        text-align: right;\n",
       "    }\n",
       "</style>\n",
       "<table border=\"1\" class=\"dataframe\">\n",
       "  <thead>\n",
       "    <tr style=\"text-align: right;\">\n",
       "      <th></th>\n",
       "      <th></th>\n",
       "      <th>0</th>\n",
       "    </tr>\n",
       "    <tr>\n",
       "      <th>start</th>\n",
       "      <th>end</th>\n",
       "      <th></th>\n",
       "    </tr>\n",
       "  </thead>\n",
       "  <tbody>\n",
       "    <tr>\n",
       "      <th rowspan=\"3\" valign=\"top\">1990-01-31</th>\n",
       "      <th>2022-08-30</th>\n",
       "      <td>295</td>\n",
       "    </tr>\n",
       "    <tr>\n",
       "      <th>2008-12-31</th>\n",
       "      <td>7</td>\n",
       "    </tr>\n",
       "    <tr>\n",
       "      <th>1999-09-30</th>\n",
       "      <td>6</td>\n",
       "    </tr>\n",
       "    <tr>\n",
       "      <th>1995-11-30</th>\n",
       "      <th>2022-08-30</th>\n",
       "      <td>6</td>\n",
       "    </tr>\n",
       "    <tr>\n",
       "      <th>1990-01-31</th>\n",
       "      <th>1998-09-30</th>\n",
       "      <td>6</td>\n",
       "    </tr>\n",
       "    <tr>\n",
       "      <th>...</th>\n",
       "      <th>...</th>\n",
       "      <td>...</td>\n",
       "    </tr>\n",
       "    <tr>\n",
       "      <th>1993-07-30</th>\n",
       "      <th>2006-10-31</th>\n",
       "      <td>1</td>\n",
       "    </tr>\n",
       "    <tr>\n",
       "      <th rowspan=\"2\" valign=\"top\">1993-06-30</th>\n",
       "      <th>2022-08-30</th>\n",
       "      <td>1</td>\n",
       "    </tr>\n",
       "    <tr>\n",
       "      <th>2021-04-30</th>\n",
       "      <td>1</td>\n",
       "    </tr>\n",
       "    <tr>\n",
       "      <th>1993-05-28</th>\n",
       "      <th>2010-05-28</th>\n",
       "      <td>1</td>\n",
       "    </tr>\n",
       "    <tr>\n",
       "      <th>2022-04-29</th>\n",
       "      <th>2022-08-30</th>\n",
       "      <td>1</td>\n",
       "    </tr>\n",
       "  </tbody>\n",
       "</table>\n",
       "<p>733 rows × 1 columns</p>\n",
       "</div>"
      ],
      "text/plain": [
       "                         0\n",
       "start      end            \n",
       "1990-01-31 2022-08-30  295\n",
       "           2008-12-31    7\n",
       "           1999-09-30    6\n",
       "1995-11-30 2022-08-30    6\n",
       "1990-01-31 1998-09-30    6\n",
       "...                    ...\n",
       "1993-07-30 2006-10-31    1\n",
       "1993-06-30 2022-08-30    1\n",
       "           2021-04-30    1\n",
       "1993-05-28 2010-05-28    1\n",
       "2022-04-29 2022-08-30    1\n",
       "\n",
       "[733 rows x 1 columns]"
      ]
     },
     "execution_count": 30,
     "metadata": {},
     "output_type": "execute_result"
    }
   ],
   "source": [
    "df_start_end.groupby([\"start\", \"end\"]).size().sort_values(ascending=False).to_frame()"
   ]
  },
  {
   "cell_type": "code",
   "execution_count": 31,
   "id": "43092630",
   "metadata": {},
   "outputs": [],
   "source": [
    "# remove stocks which only have missing values\n",
    "# check if stocks have missing values, within the timespan the stock was actually available (if so then replace missing values)"
   ]
  },
  {
   "cell_type": "code",
   "execution_count": 32,
   "id": "50fa749d",
   "metadata": {},
   "outputs": [],
   "source": [
    "# get stocks which only contain missing values \n",
    "rmv_stocks = list(df_start_end[(df_start_end.start.isnull() == True) | (df_start_end.end.isnull() == True)].index)"
   ]
  },
  {
   "cell_type": "code",
   "execution_count": 33,
   "id": "a585d17b",
   "metadata": {},
   "outputs": [
    {
     "data": {
      "text/html": [
       "<div>\n",
       "<style scoped>\n",
       "    .dataframe tbody tr th:only-of-type {\n",
       "        vertical-align: middle;\n",
       "    }\n",
       "\n",
       "    .dataframe tbody tr th {\n",
       "        vertical-align: top;\n",
       "    }\n",
       "\n",
       "    .dataframe thead th {\n",
       "        text-align: right;\n",
       "    }\n",
       "</style>\n",
       "<table border=\"1\" class=\"dataframe\">\n",
       "  <thead>\n",
       "    <tr style=\"text-align: right;\">\n",
       "      <th></th>\n",
       "      <th>permno</th>\n",
       "      <th>price</th>\n",
       "      <th>volume</th>\n",
       "      <th>turnover</th>\n",
       "      <th>p2e</th>\n",
       "      <th>p2b</th>\n",
       "      <th>cap</th>\n",
       "      <th>rsi</th>\n",
       "      <th>lev</th>\n",
       "      <th>div_ratio</th>\n",
       "      <th>prof_gr</th>\n",
       "      <th>roc</th>\n",
       "      <th>asset_gr</th>\n",
       "      <th>prof_ma</th>\n",
       "      <th>eps</th>\n",
       "      <th>short</th>\n",
       "    </tr>\n",
       "    <tr>\n",
       "      <th>date</th>\n",
       "      <th></th>\n",
       "      <th></th>\n",
       "      <th></th>\n",
       "      <th></th>\n",
       "      <th></th>\n",
       "      <th></th>\n",
       "      <th></th>\n",
       "      <th></th>\n",
       "      <th></th>\n",
       "      <th></th>\n",
       "      <th></th>\n",
       "      <th></th>\n",
       "      <th></th>\n",
       "      <th></th>\n",
       "      <th></th>\n",
       "      <th></th>\n",
       "    </tr>\n",
       "  </thead>\n",
       "  <tbody>\n",
       "    <tr>\n",
       "      <th>1990-01-31</th>\n",
       "      <td>0111145D UN Equity</td>\n",
       "      <td>20.6875</td>\n",
       "      <td>49200.0</td>\n",
       "      <td>NaN</td>\n",
       "      <td>NaN</td>\n",
       "      <td>NaN</td>\n",
       "      <td>1226.3674</td>\n",
       "      <td>44.1860</td>\n",
       "      <td>NaN</td>\n",
       "      <td>NaN</td>\n",
       "      <td>NaN</td>\n",
       "      <td>NaN</td>\n",
       "      <td>NaN</td>\n",
       "      <td>NaN</td>\n",
       "      <td>NaN</td>\n",
       "      <td>NaN</td>\n",
       "    </tr>\n",
       "    <tr>\n",
       "      <th>1990-02-28</th>\n",
       "      <td>0111145D UN Equity</td>\n",
       "      <td>22.0000</td>\n",
       "      <td>141600.0</td>\n",
       "      <td>NaN</td>\n",
       "      <td>NaN</td>\n",
       "      <td>NaN</td>\n",
       "      <td>1303.3636</td>\n",
       "      <td>57.2650</td>\n",
       "      <td>NaN</td>\n",
       "      <td>NaN</td>\n",
       "      <td>NaN</td>\n",
       "      <td>NaN</td>\n",
       "      <td>NaN</td>\n",
       "      <td>NaN</td>\n",
       "      <td>NaN</td>\n",
       "      <td>NaN</td>\n",
       "    </tr>\n",
       "    <tr>\n",
       "      <th>1990-03-30</th>\n",
       "      <td>0111145D UN Equity</td>\n",
       "      <td>19.5000</td>\n",
       "      <td>32400.0</td>\n",
       "      <td>NaN</td>\n",
       "      <td>NaN</td>\n",
       "      <td>NaN</td>\n",
       "      <td>1155.2541</td>\n",
       "      <td>27.9070</td>\n",
       "      <td>NaN</td>\n",
       "      <td>NaN</td>\n",
       "      <td>NaN</td>\n",
       "      <td>NaN</td>\n",
       "      <td>NaN</td>\n",
       "      <td>NaN</td>\n",
       "      <td>NaN</td>\n",
       "      <td>NaN</td>\n",
       "    </tr>\n",
       "    <tr>\n",
       "      <th>1990-04-30</th>\n",
       "      <td>0111145D UN Equity</td>\n",
       "      <td>17.6250</td>\n",
       "      <td>219400.0</td>\n",
       "      <td>NaN</td>\n",
       "      <td>NaN</td>\n",
       "      <td>1.5612</td>\n",
       "      <td>1021.1925</td>\n",
       "      <td>18.0328</td>\n",
       "      <td>23.7282</td>\n",
       "      <td>35.7103</td>\n",
       "      <td>NaN</td>\n",
       "      <td>NaN</td>\n",
       "      <td>NaN</td>\n",
       "      <td>6.9403</td>\n",
       "      <td>0.745</td>\n",
       "      <td>NaN</td>\n",
       "    </tr>\n",
       "    <tr>\n",
       "      <th>1990-05-31</th>\n",
       "      <td>0111145D UN Equity</td>\n",
       "      <td>19.8125</td>\n",
       "      <td>128800.0</td>\n",
       "      <td>NaN</td>\n",
       "      <td>NaN</td>\n",
       "      <td>1.7550</td>\n",
       "      <td>1147.9362</td>\n",
       "      <td>60.3960</td>\n",
       "      <td>23.7282</td>\n",
       "      <td>35.7103</td>\n",
       "      <td>NaN</td>\n",
       "      <td>NaN</td>\n",
       "      <td>NaN</td>\n",
       "      <td>6.9403</td>\n",
       "      <td>0.745</td>\n",
       "      <td>NaN</td>\n",
       "    </tr>\n",
       "    <tr>\n",
       "      <th>...</th>\n",
       "      <td>...</td>\n",
       "      <td>...</td>\n",
       "      <td>...</td>\n",
       "      <td>...</td>\n",
       "      <td>...</td>\n",
       "      <td>...</td>\n",
       "      <td>...</td>\n",
       "      <td>...</td>\n",
       "      <td>...</td>\n",
       "      <td>...</td>\n",
       "      <td>...</td>\n",
       "      <td>...</td>\n",
       "      <td>...</td>\n",
       "      <td>...</td>\n",
       "      <td>...</td>\n",
       "      <td>...</td>\n",
       "    </tr>\n",
       "    <tr>\n",
       "      <th>2022-04-29</th>\n",
       "      <td>J UN Equity</td>\n",
       "      <td>138.5500</td>\n",
       "      <td>304510.0</td>\n",
       "      <td>3.614403e+07</td>\n",
       "      <td>24.8843</td>\n",
       "      <td>2.9386</td>\n",
       "      <td>17902.9731</td>\n",
       "      <td>50.4985</td>\n",
       "      <td>27.0080</td>\n",
       "      <td>64.0717</td>\n",
       "      <td>13.4805</td>\n",
       "      <td>5.0913</td>\n",
       "      <td>-2.4340</td>\n",
       "      <td>2.3165</td>\n",
       "      <td>0.690</td>\n",
       "      <td>2.156</td>\n",
       "    </tr>\n",
       "    <tr>\n",
       "      <th>2022-05-31</th>\n",
       "      <td>J UN Equity</td>\n",
       "      <td>140.0900</td>\n",
       "      <td>439716.0</td>\n",
       "      <td>5.694903e+07</td>\n",
       "      <td>25.1609</td>\n",
       "      <td>2.9712</td>\n",
       "      <td>18019.3940</td>\n",
       "      <td>46.5970</td>\n",
       "      <td>27.0080</td>\n",
       "      <td>64.0717</td>\n",
       "      <td>13.4805</td>\n",
       "      <td>5.0913</td>\n",
       "      <td>-2.4340</td>\n",
       "      <td>2.3165</td>\n",
       "      <td>0.690</td>\n",
       "      <td>2.588</td>\n",
       "    </tr>\n",
       "    <tr>\n",
       "      <th>2022-06-30</th>\n",
       "      <td>J UN Equity</td>\n",
       "      <td>127.1300</td>\n",
       "      <td>361201.0</td>\n",
       "      <td>3.957354e+07</td>\n",
       "      <td>22.8332</td>\n",
       "      <td>2.6964</td>\n",
       "      <td>16352.3846</td>\n",
       "      <td>41.4452</td>\n",
       "      <td>27.0080</td>\n",
       "      <td>64.0717</td>\n",
       "      <td>13.4805</td>\n",
       "      <td>5.0913</td>\n",
       "      <td>-2.4340</td>\n",
       "      <td>2.3165</td>\n",
       "      <td>0.690</td>\n",
       "      <td>2.524</td>\n",
       "    </tr>\n",
       "    <tr>\n",
       "      <th>2022-07-29</th>\n",
       "      <td>J UN Equity</td>\n",
       "      <td>137.3000</td>\n",
       "      <td>214654.0</td>\n",
       "      <td>2.401931e+07</td>\n",
       "      <td>23.1310</td>\n",
       "      <td>2.9522</td>\n",
       "      <td>17660.5239</td>\n",
       "      <td>64.8821</td>\n",
       "      <td>29.7452</td>\n",
       "      <td>15.0218</td>\n",
       "      <td>0.9230</td>\n",
       "      <td>5.534</td>\n",
       "      <td>-3.2025</td>\n",
       "      <td>5.1209</td>\n",
       "      <td>1.530</td>\n",
       "      <td>5.503</td>\n",
       "    </tr>\n",
       "    <tr>\n",
       "      <th>2022-08-30</th>\n",
       "      <td>J UN Equity</td>\n",
       "      <td>124.4400</td>\n",
       "      <td>162011.0</td>\n",
       "      <td>1.618860e+07</td>\n",
       "      <td>20.9645</td>\n",
       "      <td>2.6757</td>\n",
       "      <td>15879.2422</td>\n",
       "      <td>46.1760</td>\n",
       "      <td>29.7452</td>\n",
       "      <td>15.0218</td>\n",
       "      <td>0.9230</td>\n",
       "      <td>5.534</td>\n",
       "      <td>-3.2025</td>\n",
       "      <td>5.1209</td>\n",
       "      <td>1.530</td>\n",
       "      <td>NaN</td>\n",
       "    </tr>\n",
       "  </tbody>\n",
       "</table>\n",
       "<p>569184 rows × 16 columns</p>\n",
       "</div>"
      ],
      "text/plain": [
       "                        permno     price    volume      turnover      p2e  \\\n",
       "date                                                                        \n",
       "1990-01-31  0111145D UN Equity   20.6875   49200.0           NaN      NaN   \n",
       "1990-02-28  0111145D UN Equity   22.0000  141600.0           NaN      NaN   \n",
       "1990-03-30  0111145D UN Equity   19.5000   32400.0           NaN      NaN   \n",
       "1990-04-30  0111145D UN Equity   17.6250  219400.0           NaN      NaN   \n",
       "1990-05-31  0111145D UN Equity   19.8125  128800.0           NaN      NaN   \n",
       "...                        ...       ...       ...           ...      ...   \n",
       "2022-04-29         J UN Equity  138.5500  304510.0  3.614403e+07  24.8843   \n",
       "2022-05-31         J UN Equity  140.0900  439716.0  5.694903e+07  25.1609   \n",
       "2022-06-30         J UN Equity  127.1300  361201.0  3.957354e+07  22.8332   \n",
       "2022-07-29         J UN Equity  137.3000  214654.0  2.401931e+07  23.1310   \n",
       "2022-08-30         J UN Equity  124.4400  162011.0  1.618860e+07  20.9645   \n",
       "\n",
       "               p2b         cap      rsi      lev  div_ratio  prof_gr     roc  \\\n",
       "date                                                                           \n",
       "1990-01-31     NaN   1226.3674  44.1860      NaN        NaN      NaN     NaN   \n",
       "1990-02-28     NaN   1303.3636  57.2650      NaN        NaN      NaN     NaN   \n",
       "1990-03-30     NaN   1155.2541  27.9070      NaN        NaN      NaN     NaN   \n",
       "1990-04-30  1.5612   1021.1925  18.0328  23.7282    35.7103      NaN     NaN   \n",
       "1990-05-31  1.7550   1147.9362  60.3960  23.7282    35.7103      NaN     NaN   \n",
       "...            ...         ...      ...      ...        ...      ...     ...   \n",
       "2022-04-29  2.9386  17902.9731  50.4985  27.0080    64.0717  13.4805  5.0913   \n",
       "2022-05-31  2.9712  18019.3940  46.5970  27.0080    64.0717  13.4805  5.0913   \n",
       "2022-06-30  2.6964  16352.3846  41.4452  27.0080    64.0717  13.4805  5.0913   \n",
       "2022-07-29  2.9522  17660.5239  64.8821  29.7452    15.0218   0.9230   5.534   \n",
       "2022-08-30  2.6757  15879.2422  46.1760  29.7452    15.0218   0.9230   5.534   \n",
       "\n",
       "            asset_gr  prof_ma    eps  short  \n",
       "date                                         \n",
       "1990-01-31       NaN      NaN    NaN    NaN  \n",
       "1990-02-28       NaN      NaN    NaN    NaN  \n",
       "1990-03-30       NaN      NaN    NaN    NaN  \n",
       "1990-04-30       NaN   6.9403  0.745    NaN  \n",
       "1990-05-31       NaN   6.9403  0.745    NaN  \n",
       "...              ...      ...    ...    ...  \n",
       "2022-04-29   -2.4340   2.3165  0.690  2.156  \n",
       "2022-05-31   -2.4340   2.3165  0.690  2.588  \n",
       "2022-06-30   -2.4340   2.3165  0.690  2.524  \n",
       "2022-07-29   -3.2025   5.1209  1.530  5.503  \n",
       "2022-08-30   -3.2025   5.1209  1.530    NaN  \n",
       "\n",
       "[569184 rows x 16 columns]"
      ]
     },
     "execution_count": 33,
     "metadata": {},
     "output_type": "execute_result"
    }
   ],
   "source": [
    "df"
   ]
  },
  {
   "cell_type": "code",
   "execution_count": 34,
   "id": "e40bda86",
   "metadata": {},
   "outputs": [],
   "source": [
    "# remove stocks\n",
    "df_rmv = df[~df.permno.isin(rmv_stocks)]"
   ]
  },
  {
   "cell_type": "code",
   "execution_count": 35,
   "id": "a528dfce",
   "metadata": {},
   "outputs": [
    {
     "data": {
      "text/plain": [
       "array(['0111145D UN Equity', '0202445Q UN Equity', '0203524D UN Equity',\n",
       "       ..., 'ON UW Equity', 'VICI UN Equity', 'J UN Equity'], dtype=object)"
      ]
     },
     "execution_count": 35,
     "metadata": {},
     "output_type": "execute_result"
    }
   ],
   "source": [
    "df_rmv.permno.unique()"
   ]
  },
  {
   "cell_type": "code",
   "execution_count": 36,
   "id": "619c7ebf",
   "metadata": {},
   "outputs": [
    {
     "data": {
      "text/plain": [
       "start   1990-01-31\n",
       "end     2011-11-30\n",
       "Name: 0111145D UN Equity, dtype: datetime64[ns]"
      ]
     },
     "execution_count": 36,
     "metadata": {},
     "output_type": "execute_result"
    }
   ],
   "source": [
    "df_start_end.loc[\"0111145D UN Equity\"]"
   ]
  },
  {
   "cell_type": "code",
   "execution_count": 37,
   "id": "d8a6a2ec",
   "metadata": {},
   "outputs": [
    {
     "name": "stderr",
     "output_type": "stream",
     "text": [
      "/Library/Frameworks/Python.framework/Versions/3.9/lib/python3.9/site-packages/_plotly_utils/basevalidators.py:105: FutureWarning:\n",
      "\n",
      "The behavior of DatetimeProperties.to_pydatetime is deprecated, in a future version this will return a Series containing python datetime objects instead of an ndarray. To retain the old behavior, call `np.array` on the result\n",
      "\n"
     ]
    },
    {
     "data": {
      "application/vnd.plotly.v1+json": {
       "config": {
        "plotlyServerURL": "https://plot.ly"
       },
       "data": [
        {
         "hovertemplate": "variable=price<br>date=%{x}<br>value=%{y}<extra></extra>",
         "legendgroup": "price",
         "line": {
          "color": "#636efa",
          "dash": "solid"
         },
         "marker": {
          "symbol": "circle"
         },
         "mode": "lines",
         "name": "price",
         "orientation": "v",
         "showlegend": true,
         "type": "scatter",
         "x": [
          "1990-01-31T00:00:00",
          "1990-02-28T00:00:00",
          "1990-03-30T00:00:00",
          "1990-04-30T00:00:00",
          "1990-05-31T00:00:00",
          "1990-06-29T00:00:00",
          "1990-07-31T00:00:00",
          "1990-08-31T00:00:00",
          "1990-09-28T00:00:00",
          "1990-10-31T00:00:00",
          "1990-11-30T00:00:00",
          "1990-12-31T00:00:00",
          "1991-01-31T00:00:00",
          "1991-02-28T00:00:00",
          "1991-03-28T00:00:00",
          "1991-04-30T00:00:00",
          "1991-05-31T00:00:00",
          "1991-06-28T00:00:00",
          "1991-07-31T00:00:00",
          "1991-08-30T00:00:00",
          "1991-09-30T00:00:00",
          "1991-10-31T00:00:00",
          "1991-11-29T00:00:00",
          "1991-12-31T00:00:00",
          "1992-01-31T00:00:00",
          "1992-02-28T00:00:00",
          "1992-03-31T00:00:00",
          "1992-04-30T00:00:00",
          "1992-05-29T00:00:00",
          "1992-06-30T00:00:00",
          "1992-07-31T00:00:00",
          "1992-08-31T00:00:00",
          "1992-09-30T00:00:00",
          "1992-10-30T00:00:00",
          "1992-11-30T00:00:00",
          "1992-12-31T00:00:00",
          "1993-01-29T00:00:00",
          "1993-02-26T00:00:00",
          "1993-03-31T00:00:00",
          "1993-04-30T00:00:00",
          "1993-05-28T00:00:00",
          "1993-06-30T00:00:00",
          "1993-07-30T00:00:00",
          "1993-08-31T00:00:00",
          "1993-09-30T00:00:00",
          "1993-10-29T00:00:00",
          "1993-11-30T00:00:00",
          "1993-12-31T00:00:00",
          "1994-01-31T00:00:00",
          "1994-02-28T00:00:00",
          "1994-03-31T00:00:00",
          "1994-04-29T00:00:00",
          "1994-05-31T00:00:00",
          "1994-06-30T00:00:00",
          "1994-07-29T00:00:00",
          "1994-08-31T00:00:00",
          "1994-09-30T00:00:00",
          "1994-10-31T00:00:00",
          "1994-11-30T00:00:00",
          "1994-12-30T00:00:00",
          "1995-01-31T00:00:00",
          "1995-02-28T00:00:00",
          "1995-03-31T00:00:00",
          "1995-04-28T00:00:00",
          "1995-05-31T00:00:00",
          "1995-06-30T00:00:00",
          "1995-07-31T00:00:00",
          "1995-08-31T00:00:00",
          "1995-09-29T00:00:00",
          "1995-10-31T00:00:00",
          "1995-11-30T00:00:00",
          "1995-12-29T00:00:00",
          "1996-01-31T00:00:00",
          "1996-02-29T00:00:00",
          "1996-03-29T00:00:00",
          "1996-04-30T00:00:00",
          "1996-05-31T00:00:00",
          "1996-06-28T00:00:00",
          "1996-07-31T00:00:00",
          "1996-08-30T00:00:00",
          "1996-09-30T00:00:00",
          "1996-10-31T00:00:00",
          "1996-11-29T00:00:00",
          "1996-12-31T00:00:00",
          "1997-01-31T00:00:00",
          "1997-02-28T00:00:00",
          "1997-03-31T00:00:00",
          "1997-04-30T00:00:00",
          "1997-05-30T00:00:00",
          "1997-06-30T00:00:00",
          "1997-07-31T00:00:00",
          "1997-08-29T00:00:00",
          "1997-09-30T00:00:00",
          "1997-10-31T00:00:00",
          "1997-11-28T00:00:00",
          "1997-12-31T00:00:00",
          "1998-01-30T00:00:00",
          "1998-02-27T00:00:00",
          "1998-03-31T00:00:00",
          "1998-04-30T00:00:00",
          "1998-05-29T00:00:00",
          "1998-06-30T00:00:00",
          "1998-07-31T00:00:00",
          "1998-08-31T00:00:00",
          "1998-09-30T00:00:00",
          "1998-10-30T00:00:00",
          "1998-11-30T00:00:00",
          "1998-12-31T00:00:00",
          "1999-01-29T00:00:00",
          "1999-02-26T00:00:00",
          "1999-03-31T00:00:00",
          "1999-04-30T00:00:00",
          "1999-05-28T00:00:00",
          "1999-06-30T00:00:00",
          "1999-07-30T00:00:00",
          "1999-08-31T00:00:00",
          "1999-09-30T00:00:00",
          "1999-10-29T00:00:00",
          "1999-11-30T00:00:00",
          "1999-12-31T00:00:00",
          "2000-01-31T00:00:00",
          "2000-02-29T00:00:00",
          "2000-03-31T00:00:00",
          "2000-04-28T00:00:00",
          "2000-05-31T00:00:00",
          "2000-06-30T00:00:00",
          "2000-07-31T00:00:00",
          "2000-08-31T00:00:00",
          "2000-09-29T00:00:00",
          "2000-10-31T00:00:00",
          "2000-11-30T00:00:00",
          "2000-12-29T00:00:00",
          "2001-01-31T00:00:00",
          "2001-02-28T00:00:00",
          "2001-03-30T00:00:00",
          "2001-04-30T00:00:00",
          "2001-05-31T00:00:00",
          "2001-06-29T00:00:00",
          "2001-07-31T00:00:00",
          "2001-08-31T00:00:00",
          "2001-09-28T00:00:00",
          "2001-10-31T00:00:00",
          "2001-11-30T00:00:00",
          "2001-12-31T00:00:00",
          "2002-01-31T00:00:00",
          "2002-02-28T00:00:00",
          "2002-03-28T00:00:00",
          "2002-04-30T00:00:00",
          "2002-05-31T00:00:00",
          "2002-06-28T00:00:00",
          "2002-07-31T00:00:00",
          "2002-08-30T00:00:00",
          "2002-09-30T00:00:00",
          "2002-10-31T00:00:00",
          "2002-11-29T00:00:00",
          "2002-12-31T00:00:00",
          "2003-01-31T00:00:00",
          "2003-02-28T00:00:00",
          "2003-03-31T00:00:00",
          "2003-04-30T00:00:00",
          "2003-05-30T00:00:00",
          "2003-06-30T00:00:00",
          "2003-07-31T00:00:00",
          "2003-08-29T00:00:00",
          "2003-09-30T00:00:00",
          "2003-10-31T00:00:00",
          "2003-11-28T00:00:00",
          "2003-12-31T00:00:00",
          "2004-01-30T00:00:00",
          "2004-02-27T00:00:00",
          "2004-03-31T00:00:00",
          "2004-04-30T00:00:00",
          "2004-05-28T00:00:00",
          "2004-06-30T00:00:00",
          "2004-07-30T00:00:00",
          "2004-08-31T00:00:00",
          "2004-09-30T00:00:00",
          "2004-10-29T00:00:00",
          "2004-11-30T00:00:00",
          "2004-12-31T00:00:00",
          "2005-01-31T00:00:00",
          "2005-02-28T00:00:00",
          "2005-03-31T00:00:00",
          "2005-04-29T00:00:00",
          "2005-05-31T00:00:00",
          "2005-06-30T00:00:00",
          "2005-07-29T00:00:00",
          "2005-08-31T00:00:00",
          "2005-09-30T00:00:00",
          "2005-10-31T00:00:00",
          "2005-11-30T00:00:00",
          "2005-12-30T00:00:00",
          "2006-01-31T00:00:00",
          "2006-02-28T00:00:00",
          "2006-03-31T00:00:00",
          "2006-04-28T00:00:00",
          "2006-05-31T00:00:00",
          "2006-06-30T00:00:00",
          "2006-07-31T00:00:00",
          "2006-08-31T00:00:00",
          "2006-09-29T00:00:00",
          "2006-10-31T00:00:00",
          "2006-11-30T00:00:00",
          "2006-12-29T00:00:00",
          "2007-01-31T00:00:00",
          "2007-02-28T00:00:00",
          "2007-03-30T00:00:00",
          "2007-04-30T00:00:00",
          "2007-05-31T00:00:00",
          "2007-06-29T00:00:00",
          "2007-07-31T00:00:00",
          "2007-08-31T00:00:00",
          "2007-09-28T00:00:00",
          "2007-10-31T00:00:00",
          "2007-11-30T00:00:00",
          "2007-12-31T00:00:00",
          "2008-01-31T00:00:00",
          "2008-02-29T00:00:00",
          "2008-03-31T00:00:00",
          "2008-04-30T00:00:00",
          "2008-05-30T00:00:00",
          "2008-06-30T00:00:00",
          "2008-07-31T00:00:00",
          "2008-08-29T00:00:00",
          "2008-09-30T00:00:00",
          "2008-10-31T00:00:00",
          "2008-11-28T00:00:00",
          "2008-12-31T00:00:00",
          "2009-01-30T00:00:00",
          "2009-02-27T00:00:00",
          "2009-03-31T00:00:00",
          "2009-04-30T00:00:00",
          "2009-05-29T00:00:00",
          "2009-06-30T00:00:00",
          "2009-07-31T00:00:00",
          "2009-08-31T00:00:00",
          "2009-09-30T00:00:00",
          "2009-10-30T00:00:00",
          "2009-11-30T00:00:00",
          "2009-12-31T00:00:00",
          "2010-01-29T00:00:00",
          "2010-02-26T00:00:00",
          "2010-03-31T00:00:00",
          "2010-04-30T00:00:00",
          "2010-05-28T00:00:00",
          "2010-06-30T00:00:00",
          "2010-07-30T00:00:00",
          "2010-08-31T00:00:00",
          "2010-09-30T00:00:00",
          "2010-10-29T00:00:00",
          "2010-11-30T00:00:00",
          "2010-12-31T00:00:00",
          "2011-01-31T00:00:00",
          "2011-02-28T00:00:00",
          "2011-03-31T00:00:00",
          "2011-04-29T00:00:00",
          "2011-05-31T00:00:00",
          "2011-06-30T00:00:00",
          "2011-07-29T00:00:00",
          "2011-08-31T00:00:00",
          "2011-09-30T00:00:00",
          "2011-10-31T00:00:00",
          "2011-11-30T00:00:00",
          "2011-12-30T00:00:00",
          "2012-01-31T00:00:00",
          "2012-02-29T00:00:00",
          "2012-03-30T00:00:00",
          "2012-04-30T00:00:00",
          "2012-05-31T00:00:00",
          "2012-06-29T00:00:00",
          "2012-07-31T00:00:00",
          "2012-08-31T00:00:00",
          "2012-09-28T00:00:00",
          "2012-10-31T00:00:00",
          "2012-11-30T00:00:00",
          "2012-12-31T00:00:00",
          "2013-01-31T00:00:00",
          "2013-02-28T00:00:00",
          "2013-03-28T00:00:00",
          "2013-04-30T00:00:00",
          "2013-05-31T00:00:00",
          "2013-06-28T00:00:00",
          "2013-07-31T00:00:00",
          "2013-08-30T00:00:00",
          "2013-09-30T00:00:00",
          "2013-10-31T00:00:00",
          "2013-11-29T00:00:00",
          "2013-12-31T00:00:00",
          "2014-01-31T00:00:00",
          "2014-02-28T00:00:00",
          "2014-03-31T00:00:00",
          "2014-04-30T00:00:00",
          "2014-05-30T00:00:00",
          "2014-06-30T00:00:00",
          "2014-07-31T00:00:00",
          "2014-08-29T00:00:00",
          "2014-09-30T00:00:00",
          "2014-10-31T00:00:00",
          "2014-11-28T00:00:00",
          "2014-12-31T00:00:00",
          "2015-01-30T00:00:00",
          "2015-02-27T00:00:00",
          "2015-03-31T00:00:00",
          "2015-04-30T00:00:00",
          "2015-05-29T00:00:00",
          "2015-06-30T00:00:00",
          "2015-07-31T00:00:00",
          "2015-08-31T00:00:00",
          "2015-09-30T00:00:00",
          "2015-10-30T00:00:00",
          "2015-11-30T00:00:00",
          "2015-12-31T00:00:00",
          "2016-01-29T00:00:00",
          "2016-02-29T00:00:00",
          "2016-03-31T00:00:00",
          "2016-04-29T00:00:00",
          "2016-05-31T00:00:00",
          "2016-06-30T00:00:00",
          "2016-07-29T00:00:00",
          "2016-08-31T00:00:00",
          "2016-09-30T00:00:00",
          "2016-10-31T00:00:00",
          "2016-11-30T00:00:00",
          "2016-12-30T00:00:00",
          "2017-01-31T00:00:00",
          "2017-02-28T00:00:00",
          "2017-03-31T00:00:00",
          "2017-04-28T00:00:00",
          "2017-05-31T00:00:00",
          "2017-06-30T00:00:00",
          "2017-07-31T00:00:00",
          "2017-08-31T00:00:00",
          "2017-09-29T00:00:00",
          "2017-10-31T00:00:00",
          "2017-11-30T00:00:00",
          "2017-12-29T00:00:00",
          "2018-01-31T00:00:00",
          "2018-02-28T00:00:00",
          "2018-03-29T00:00:00",
          "2018-04-30T00:00:00",
          "2018-05-31T00:00:00",
          "2018-06-29T00:00:00",
          "2018-07-31T00:00:00",
          "2018-08-31T00:00:00",
          "2018-09-28T00:00:00",
          "2018-10-31T00:00:00",
          "2018-11-30T00:00:00",
          "2018-12-31T00:00:00",
          "2019-01-31T00:00:00",
          "2019-02-28T00:00:00",
          "2019-03-29T00:00:00",
          "2019-04-30T00:00:00",
          "2019-05-31T00:00:00",
          "2019-06-28T00:00:00",
          "2019-07-31T00:00:00",
          "2019-08-30T00:00:00",
          "2019-09-30T00:00:00",
          "2019-10-31T00:00:00",
          "2019-11-29T00:00:00",
          "2019-12-31T00:00:00",
          "2020-01-31T00:00:00",
          "2020-02-28T00:00:00",
          "2020-03-31T00:00:00",
          "2020-04-30T00:00:00",
          "2020-05-29T00:00:00",
          "2020-06-30T00:00:00",
          "2020-07-31T00:00:00",
          "2020-08-31T00:00:00",
          "2020-09-30T00:00:00",
          "2020-10-30T00:00:00",
          "2020-11-30T00:00:00",
          "2020-12-31T00:00:00",
          "2021-01-29T00:00:00",
          "2021-02-26T00:00:00",
          "2021-03-31T00:00:00",
          "2021-04-30T00:00:00",
          "2021-05-28T00:00:00",
          "2021-06-30T00:00:00",
          "2021-07-30T00:00:00",
          "2021-08-31T00:00:00",
          "2021-09-30T00:00:00",
          "2021-10-29T00:00:00",
          "2021-11-30T00:00:00",
          "2021-12-31T00:00:00",
          "2022-01-31T00:00:00",
          "2022-02-28T00:00:00",
          "2022-03-31T00:00:00",
          "2022-04-29T00:00:00",
          "2022-05-31T00:00:00",
          "2022-06-30T00:00:00",
          "2022-07-29T00:00:00",
          "2022-08-30T00:00:00"
         ],
         "xaxis": "x",
         "y": [
          20.6875,
          22,
          19.5,
          17.625,
          19.8125,
          18.9375,
          19.625,
          20.375,
          21.75,
          22.875,
          23.125,
          22,
          20.625,
          20.625,
          20.5625,
          21.375,
          21,
          21.625,
          21.0625,
          20.8125,
          21.875,
          23.25,
          22.25,
          22.75,
          21.625,
          21.3125,
          20.375,
          19.6875,
          21.75,
          22.4375,
          23.0625,
          23.1875,
          23.125,
          24.125,
          23.875,
          24.875,
          25.125,
          27.1875,
          29.3125,
          28.125,
          28.5,
          27,
          26.75,
          29.875,
          30.5,
          28.25,
          27.5,
          28,
          28.75,
          27,
          25.5,
          26.625,
          26.875,
          26.375,
          25.125,
          24.375,
          24.25,
          24.375,
          22.5,
          22.75,
          23.875,
          24.75,
          25,
          24.75,
          26.625,
          26.875,
          25.375,
          25.625,
          27.25,
          26.875,
          25.375,
          27.5,
          27.25,
          26.875,
          26.75,
          27.875,
          27.75,
          28.375,
          28.375,
          31.375,
          33.75,
          34.875,
          36.875,
          35.75,
          36.125,
          33.5,
          32,
          33.875,
          34.375,
          35.875,
          36.625,
          36.3125,
          37.5,
          38.5625,
          40.25,
          42.1875,
          40.25,
          41.125,
          42.25,
          40.9375,
          38.625,
          40.125,
          38.5,
          38.8125,
          41.4375,
          42.375,
          42.0625,
          42.25,
          38.5625,
          38.1875,
          35.9375,
          36.375,
          37.625,
          38.0625,
          38.625,
          38.6875,
          37.1875,
          38.75,
          34.6875,
          32.5,
          34.25,
          30.375,
          32.9375,
          33.875,
          36.6875,
          32.625,
          34.6875,
          36.875,
          36.1875,
          35.3125,
          38.5625,
          43.1875,
          35.66,
          37,
          37.27,
          39.19,
          38.79,
          38.98,
          37.13,
          38.76,
          38.75,
          38.89,
          38.97,
          41.64,
          40.64,
          41.85,
          45.55,
          46.78,
          48.06,
          45.75,
          27,
          28.4,
          28.2,
          31.04,
          31.51,
          34.03,
          31.45,
          30.09,
          27.32,
          30.06,
          35.61,
          37.11,
          36.28,
          33.99,
          35.14,
          34.27,
          32.77,
          34.04,
          33.15,
          36.14,
          35.23,
          33.99,
          33.28,
          33.97,
          33.11,
          35.85,
          36.7,
          37.52,
          36.9,
          36.94,
          36.92,
          37.29,
          37.09,
          36.97,
          39.5,
          41.17,
          40.82,
          41.41,
          42.03,
          39.2,
          40.1,
          39.31,
          40.9,
          42.93,
          39.56,
          39.61,
          40.98,
          41.5,
          43.82,
          43.66,
          42.76,
          45.96,
          49.55,
          46.8,
          45.5,
          46.54,
          48.42,
          51.24,
          46.95,
          42.92,
          39.41,
          41.56,
          42.9,
          43.27,
          42.14,
          42.35,
          41,
          34.1,
          33.51,
          35.12,
          40.83,
          42.59,
          39.82,
          45.89,
          44.35,
          46.21,
          40.78,
          34.74,
          34.21,
          31.38,
          33.23,
          32.14,
          31.45,
          34.62,
          36.44,
          36.22,
          36.59,
          37.08,
          39.16,
          42.1,
          40.52,
          41.65,
          41.92,
          43.51,
          40.41,
          40.5,
          43.79,
          42.29,
          45.82,
          47.63,
          43.25,
          49.92,
          50.47,
          52.74,
          53.7,
          55.43,
          54.96,
          54.74,
          54.7,
          55.6,
          55.01,
          56.25,
          56.12,
          null,
          null,
          null,
          null,
          null,
          null,
          null,
          null,
          null,
          null,
          null,
          null,
          null,
          null,
          null,
          null,
          null,
          null,
          null,
          null,
          null,
          null,
          null,
          null,
          null,
          null,
          null,
          null,
          null,
          null,
          null,
          null,
          null,
          null,
          null,
          null,
          null,
          null,
          null,
          null,
          null,
          null,
          null,
          null,
          null,
          null,
          null,
          null,
          null,
          null,
          null,
          null,
          null,
          null,
          null,
          null,
          null,
          null,
          null,
          null,
          null,
          null,
          null,
          null,
          null,
          null,
          null,
          null,
          null,
          null,
          null,
          null,
          null,
          null,
          null,
          null,
          null,
          null,
          null,
          null,
          null,
          null,
          null,
          null,
          null,
          null,
          null,
          null,
          null,
          null,
          null,
          null,
          null,
          null,
          null,
          null,
          null,
          null,
          null,
          null,
          null,
          null,
          null,
          null,
          null,
          null,
          null,
          null,
          null,
          null,
          null,
          null,
          null,
          null,
          null,
          null,
          null,
          null,
          null,
          null,
          null,
          null,
          null,
          null,
          null,
          null,
          null,
          null,
          null
         ],
         "yaxis": "y"
        }
       ],
       "layout": {
        "legend": {
         "title": {
          "text": "variable"
         },
         "tracegroupgap": 0
        },
        "margin": {
         "t": 60
        },
        "template": {
         "data": {
          "bar": [
           {
            "error_x": {
             "color": "#2a3f5f"
            },
            "error_y": {
             "color": "#2a3f5f"
            },
            "marker": {
             "line": {
              "color": "#E5ECF6",
              "width": 0.5
             },
             "pattern": {
              "fillmode": "overlay",
              "size": 10,
              "solidity": 0.2
             }
            },
            "type": "bar"
           }
          ],
          "barpolar": [
           {
            "marker": {
             "line": {
              "color": "#E5ECF6",
              "width": 0.5
             },
             "pattern": {
              "fillmode": "overlay",
              "size": 10,
              "solidity": 0.2
             }
            },
            "type": "barpolar"
           }
          ],
          "carpet": [
           {
            "aaxis": {
             "endlinecolor": "#2a3f5f",
             "gridcolor": "white",
             "linecolor": "white",
             "minorgridcolor": "white",
             "startlinecolor": "#2a3f5f"
            },
            "baxis": {
             "endlinecolor": "#2a3f5f",
             "gridcolor": "white",
             "linecolor": "white",
             "minorgridcolor": "white",
             "startlinecolor": "#2a3f5f"
            },
            "type": "carpet"
           }
          ],
          "choropleth": [
           {
            "colorbar": {
             "outlinewidth": 0,
             "ticks": ""
            },
            "type": "choropleth"
           }
          ],
          "contour": [
           {
            "colorbar": {
             "outlinewidth": 0,
             "ticks": ""
            },
            "colorscale": [
             [
              0,
              "#0d0887"
             ],
             [
              0.1111111111111111,
              "#46039f"
             ],
             [
              0.2222222222222222,
              "#7201a8"
             ],
             [
              0.3333333333333333,
              "#9c179e"
             ],
             [
              0.4444444444444444,
              "#bd3786"
             ],
             [
              0.5555555555555556,
              "#d8576b"
             ],
             [
              0.6666666666666666,
              "#ed7953"
             ],
             [
              0.7777777777777778,
              "#fb9f3a"
             ],
             [
              0.8888888888888888,
              "#fdca26"
             ],
             [
              1,
              "#f0f921"
             ]
            ],
            "type": "contour"
           }
          ],
          "contourcarpet": [
           {
            "colorbar": {
             "outlinewidth": 0,
             "ticks": ""
            },
            "type": "contourcarpet"
           }
          ],
          "heatmap": [
           {
            "colorbar": {
             "outlinewidth": 0,
             "ticks": ""
            },
            "colorscale": [
             [
              0,
              "#0d0887"
             ],
             [
              0.1111111111111111,
              "#46039f"
             ],
             [
              0.2222222222222222,
              "#7201a8"
             ],
             [
              0.3333333333333333,
              "#9c179e"
             ],
             [
              0.4444444444444444,
              "#bd3786"
             ],
             [
              0.5555555555555556,
              "#d8576b"
             ],
             [
              0.6666666666666666,
              "#ed7953"
             ],
             [
              0.7777777777777778,
              "#fb9f3a"
             ],
             [
              0.8888888888888888,
              "#fdca26"
             ],
             [
              1,
              "#f0f921"
             ]
            ],
            "type": "heatmap"
           }
          ],
          "heatmapgl": [
           {
            "colorbar": {
             "outlinewidth": 0,
             "ticks": ""
            },
            "colorscale": [
             [
              0,
              "#0d0887"
             ],
             [
              0.1111111111111111,
              "#46039f"
             ],
             [
              0.2222222222222222,
              "#7201a8"
             ],
             [
              0.3333333333333333,
              "#9c179e"
             ],
             [
              0.4444444444444444,
              "#bd3786"
             ],
             [
              0.5555555555555556,
              "#d8576b"
             ],
             [
              0.6666666666666666,
              "#ed7953"
             ],
             [
              0.7777777777777778,
              "#fb9f3a"
             ],
             [
              0.8888888888888888,
              "#fdca26"
             ],
             [
              1,
              "#f0f921"
             ]
            ],
            "type": "heatmapgl"
           }
          ],
          "histogram": [
           {
            "marker": {
             "pattern": {
              "fillmode": "overlay",
              "size": 10,
              "solidity": 0.2
             }
            },
            "type": "histogram"
           }
          ],
          "histogram2d": [
           {
            "colorbar": {
             "outlinewidth": 0,
             "ticks": ""
            },
            "colorscale": [
             [
              0,
              "#0d0887"
             ],
             [
              0.1111111111111111,
              "#46039f"
             ],
             [
              0.2222222222222222,
              "#7201a8"
             ],
             [
              0.3333333333333333,
              "#9c179e"
             ],
             [
              0.4444444444444444,
              "#bd3786"
             ],
             [
              0.5555555555555556,
              "#d8576b"
             ],
             [
              0.6666666666666666,
              "#ed7953"
             ],
             [
              0.7777777777777778,
              "#fb9f3a"
             ],
             [
              0.8888888888888888,
              "#fdca26"
             ],
             [
              1,
              "#f0f921"
             ]
            ],
            "type": "histogram2d"
           }
          ],
          "histogram2dcontour": [
           {
            "colorbar": {
             "outlinewidth": 0,
             "ticks": ""
            },
            "colorscale": [
             [
              0,
              "#0d0887"
             ],
             [
              0.1111111111111111,
              "#46039f"
             ],
             [
              0.2222222222222222,
              "#7201a8"
             ],
             [
              0.3333333333333333,
              "#9c179e"
             ],
             [
              0.4444444444444444,
              "#bd3786"
             ],
             [
              0.5555555555555556,
              "#d8576b"
             ],
             [
              0.6666666666666666,
              "#ed7953"
             ],
             [
              0.7777777777777778,
              "#fb9f3a"
             ],
             [
              0.8888888888888888,
              "#fdca26"
             ],
             [
              1,
              "#f0f921"
             ]
            ],
            "type": "histogram2dcontour"
           }
          ],
          "mesh3d": [
           {
            "colorbar": {
             "outlinewidth": 0,
             "ticks": ""
            },
            "type": "mesh3d"
           }
          ],
          "parcoords": [
           {
            "line": {
             "colorbar": {
              "outlinewidth": 0,
              "ticks": ""
             }
            },
            "type": "parcoords"
           }
          ],
          "pie": [
           {
            "automargin": true,
            "type": "pie"
           }
          ],
          "scatter": [
           {
            "fillpattern": {
             "fillmode": "overlay",
             "size": 10,
             "solidity": 0.2
            },
            "type": "scatter"
           }
          ],
          "scatter3d": [
           {
            "line": {
             "colorbar": {
              "outlinewidth": 0,
              "ticks": ""
             }
            },
            "marker": {
             "colorbar": {
              "outlinewidth": 0,
              "ticks": ""
             }
            },
            "type": "scatter3d"
           }
          ],
          "scattercarpet": [
           {
            "marker": {
             "colorbar": {
              "outlinewidth": 0,
              "ticks": ""
             }
            },
            "type": "scattercarpet"
           }
          ],
          "scattergeo": [
           {
            "marker": {
             "colorbar": {
              "outlinewidth": 0,
              "ticks": ""
             }
            },
            "type": "scattergeo"
           }
          ],
          "scattergl": [
           {
            "marker": {
             "colorbar": {
              "outlinewidth": 0,
              "ticks": ""
             }
            },
            "type": "scattergl"
           }
          ],
          "scattermapbox": [
           {
            "marker": {
             "colorbar": {
              "outlinewidth": 0,
              "ticks": ""
             }
            },
            "type": "scattermapbox"
           }
          ],
          "scatterpolar": [
           {
            "marker": {
             "colorbar": {
              "outlinewidth": 0,
              "ticks": ""
             }
            },
            "type": "scatterpolar"
           }
          ],
          "scatterpolargl": [
           {
            "marker": {
             "colorbar": {
              "outlinewidth": 0,
              "ticks": ""
             }
            },
            "type": "scatterpolargl"
           }
          ],
          "scatterternary": [
           {
            "marker": {
             "colorbar": {
              "outlinewidth": 0,
              "ticks": ""
             }
            },
            "type": "scatterternary"
           }
          ],
          "surface": [
           {
            "colorbar": {
             "outlinewidth": 0,
             "ticks": ""
            },
            "colorscale": [
             [
              0,
              "#0d0887"
             ],
             [
              0.1111111111111111,
              "#46039f"
             ],
             [
              0.2222222222222222,
              "#7201a8"
             ],
             [
              0.3333333333333333,
              "#9c179e"
             ],
             [
              0.4444444444444444,
              "#bd3786"
             ],
             [
              0.5555555555555556,
              "#d8576b"
             ],
             [
              0.6666666666666666,
              "#ed7953"
             ],
             [
              0.7777777777777778,
              "#fb9f3a"
             ],
             [
              0.8888888888888888,
              "#fdca26"
             ],
             [
              1,
              "#f0f921"
             ]
            ],
            "type": "surface"
           }
          ],
          "table": [
           {
            "cells": {
             "fill": {
              "color": "#EBF0F8"
             },
             "line": {
              "color": "white"
             }
            },
            "header": {
             "fill": {
              "color": "#C8D4E3"
             },
             "line": {
              "color": "white"
             }
            },
            "type": "table"
           }
          ]
         },
         "layout": {
          "annotationdefaults": {
           "arrowcolor": "#2a3f5f",
           "arrowhead": 0,
           "arrowwidth": 1
          },
          "autotypenumbers": "strict",
          "coloraxis": {
           "colorbar": {
            "outlinewidth": 0,
            "ticks": ""
           }
          },
          "colorscale": {
           "diverging": [
            [
             0,
             "#8e0152"
            ],
            [
             0.1,
             "#c51b7d"
            ],
            [
             0.2,
             "#de77ae"
            ],
            [
             0.3,
             "#f1b6da"
            ],
            [
             0.4,
             "#fde0ef"
            ],
            [
             0.5,
             "#f7f7f7"
            ],
            [
             0.6,
             "#e6f5d0"
            ],
            [
             0.7,
             "#b8e186"
            ],
            [
             0.8,
             "#7fbc41"
            ],
            [
             0.9,
             "#4d9221"
            ],
            [
             1,
             "#276419"
            ]
           ],
           "sequential": [
            [
             0,
             "#0d0887"
            ],
            [
             0.1111111111111111,
             "#46039f"
            ],
            [
             0.2222222222222222,
             "#7201a8"
            ],
            [
             0.3333333333333333,
             "#9c179e"
            ],
            [
             0.4444444444444444,
             "#bd3786"
            ],
            [
             0.5555555555555556,
             "#d8576b"
            ],
            [
             0.6666666666666666,
             "#ed7953"
            ],
            [
             0.7777777777777778,
             "#fb9f3a"
            ],
            [
             0.8888888888888888,
             "#fdca26"
            ],
            [
             1,
             "#f0f921"
            ]
           ],
           "sequentialminus": [
            [
             0,
             "#0d0887"
            ],
            [
             0.1111111111111111,
             "#46039f"
            ],
            [
             0.2222222222222222,
             "#7201a8"
            ],
            [
             0.3333333333333333,
             "#9c179e"
            ],
            [
             0.4444444444444444,
             "#bd3786"
            ],
            [
             0.5555555555555556,
             "#d8576b"
            ],
            [
             0.6666666666666666,
             "#ed7953"
            ],
            [
             0.7777777777777778,
             "#fb9f3a"
            ],
            [
             0.8888888888888888,
             "#fdca26"
            ],
            [
             1,
             "#f0f921"
            ]
           ]
          },
          "colorway": [
           "#636efa",
           "#EF553B",
           "#00cc96",
           "#ab63fa",
           "#FFA15A",
           "#19d3f3",
           "#FF6692",
           "#B6E880",
           "#FF97FF",
           "#FECB52"
          ],
          "font": {
           "color": "#2a3f5f"
          },
          "geo": {
           "bgcolor": "white",
           "lakecolor": "white",
           "landcolor": "#E5ECF6",
           "showlakes": true,
           "showland": true,
           "subunitcolor": "white"
          },
          "hoverlabel": {
           "align": "left"
          },
          "hovermode": "closest",
          "mapbox": {
           "style": "light"
          },
          "paper_bgcolor": "white",
          "plot_bgcolor": "#E5ECF6",
          "polar": {
           "angularaxis": {
            "gridcolor": "white",
            "linecolor": "white",
            "ticks": ""
           },
           "bgcolor": "#E5ECF6",
           "radialaxis": {
            "gridcolor": "white",
            "linecolor": "white",
            "ticks": ""
           }
          },
          "scene": {
           "xaxis": {
            "backgroundcolor": "#E5ECF6",
            "gridcolor": "white",
            "gridwidth": 2,
            "linecolor": "white",
            "showbackground": true,
            "ticks": "",
            "zerolinecolor": "white"
           },
           "yaxis": {
            "backgroundcolor": "#E5ECF6",
            "gridcolor": "white",
            "gridwidth": 2,
            "linecolor": "white",
            "showbackground": true,
            "ticks": "",
            "zerolinecolor": "white"
           },
           "zaxis": {
            "backgroundcolor": "#E5ECF6",
            "gridcolor": "white",
            "gridwidth": 2,
            "linecolor": "white",
            "showbackground": true,
            "ticks": "",
            "zerolinecolor": "white"
           }
          },
          "shapedefaults": {
           "line": {
            "color": "#2a3f5f"
           }
          },
          "ternary": {
           "aaxis": {
            "gridcolor": "white",
            "linecolor": "white",
            "ticks": ""
           },
           "baxis": {
            "gridcolor": "white",
            "linecolor": "white",
            "ticks": ""
           },
           "bgcolor": "#E5ECF6",
           "caxis": {
            "gridcolor": "white",
            "linecolor": "white",
            "ticks": ""
           }
          },
          "title": {
           "x": 0.05
          },
          "xaxis": {
           "automargin": true,
           "gridcolor": "white",
           "linecolor": "white",
           "ticks": "",
           "title": {
            "standoff": 15
           },
           "zerolinecolor": "white",
           "zerolinewidth": 2
          },
          "yaxis": {
           "automargin": true,
           "gridcolor": "white",
           "linecolor": "white",
           "ticks": "",
           "title": {
            "standoff": 15
           },
           "zerolinecolor": "white",
           "zerolinewidth": 2
          }
         }
        },
        "xaxis": {
         "anchor": "y",
         "domain": [
          0,
          1
         ],
         "title": {
          "text": "date"
         }
        },
        "yaxis": {
         "anchor": "x",
         "domain": [
          0,
          1
         ],
         "title": {
          "text": "value"
         }
        }
       }
      }
     },
     "metadata": {},
     "output_type": "display_data"
    }
   ],
   "source": [
    "px.line(df_rmv[df_rmv.permno == \"0111145D UN Equity\"].price)"
   ]
  },
  {
   "cell_type": "code",
   "execution_count": 38,
   "id": "458d0864",
   "metadata": {},
   "outputs": [
    {
     "data": {
      "text/plain": [
       "0"
      ]
     },
     "execution_count": 38,
     "metadata": {},
     "output_type": "execute_result"
    }
   ],
   "source": [
    "df[(df.permno == \"0111145D UN Equity\")].loc[df_start_end.loc[\"0111145D UN Equity\"].start:df_start_end.loc[\"0111145D UN Equity\"].end].price.isnull().sum()"
   ]
  },
  {
   "cell_type": "code",
   "execution_count": 39,
   "id": "95716051",
   "metadata": {},
   "outputs": [
    {
     "data": {
      "text/plain": [
       "1448"
      ]
     },
     "execution_count": 39,
     "metadata": {},
     "output_type": "execute_result"
    }
   ],
   "source": [
    "len(df_rmv.permno.unique())"
   ]
  },
  {
   "cell_type": "code",
   "execution_count": 40,
   "id": "fd2c5e15",
   "metadata": {},
   "outputs": [],
   "source": [
    "# check if there are missing within the trading period\n",
    "n_list = []\n",
    "for stock in df_rmv.permno.unique():\n",
    "    n = df_rmv[(df_rmv.permno == stock)].loc[df_start_end.loc[stock].start:df_start_end.loc[stock].end].price.isnull().sum()\n",
    "    n_list.append(n)\n"
   ]
  },
  {
   "cell_type": "code",
   "execution_count": 41,
   "id": "ff3bc2d9",
   "metadata": {},
   "outputs": [],
   "source": [
    "df_n_missing = pd.DataFrame({\n",
    "    \"permno\": df_rmv.permno.unique(),\n",
    "    \"number_missings\": n_list\n",
    "})"
   ]
  },
  {
   "cell_type": "code",
   "execution_count": 42,
   "id": "ac0dad6b",
   "metadata": {},
   "outputs": [
    {
     "data": {
      "text/html": [
       "<div>\n",
       "<style scoped>\n",
       "    .dataframe tbody tr th:only-of-type {\n",
       "        vertical-align: middle;\n",
       "    }\n",
       "\n",
       "    .dataframe tbody tr th {\n",
       "        vertical-align: top;\n",
       "    }\n",
       "\n",
       "    .dataframe thead th {\n",
       "        text-align: right;\n",
       "    }\n",
       "</style>\n",
       "<table border=\"1\" class=\"dataframe\">\n",
       "  <thead>\n",
       "    <tr style=\"text-align: right;\">\n",
       "      <th></th>\n",
       "      <th>permno</th>\n",
       "      <th>number_missings</th>\n",
       "    </tr>\n",
       "  </thead>\n",
       "  <tbody>\n",
       "    <tr>\n",
       "      <th>206</th>\n",
       "      <td>BF/B UA Equity</td>\n",
       "      <td>314</td>\n",
       "    </tr>\n",
       "    <tr>\n",
       "      <th>559</th>\n",
       "      <td>PARA UA Equity</td>\n",
       "      <td>221</td>\n",
       "    </tr>\n",
       "    <tr>\n",
       "      <th>1183</th>\n",
       "      <td>PSX UN Equity</td>\n",
       "      <td>207</td>\n",
       "    </tr>\n",
       "    <tr>\n",
       "      <th>408</th>\n",
       "      <td>PNAA US Equity</td>\n",
       "      <td>196</td>\n",
       "    </tr>\n",
       "    <tr>\n",
       "      <th>790</th>\n",
       "      <td>DVN UA Equity</td>\n",
       "      <td>156</td>\n",
       "    </tr>\n",
       "    <tr>\n",
       "      <th>...</th>\n",
       "      <td>...</td>\n",
       "      <td>...</td>\n",
       "    </tr>\n",
       "    <tr>\n",
       "      <th>1149</th>\n",
       "      <td>URBN UW Equity</td>\n",
       "      <td>1</td>\n",
       "    </tr>\n",
       "    <tr>\n",
       "      <th>516</th>\n",
       "      <td>FMCC UN Equity</td>\n",
       "      <td>1</td>\n",
       "    </tr>\n",
       "    <tr>\n",
       "      <th>514</th>\n",
       "      <td>TRV UN Equity</td>\n",
       "      <td>1</td>\n",
       "    </tr>\n",
       "    <tr>\n",
       "      <th>475</th>\n",
       "      <td>VAT UN Equity</td>\n",
       "      <td>1</td>\n",
       "    </tr>\n",
       "    <tr>\n",
       "      <th>1438</th>\n",
       "      <td>NDSN UW Equity</td>\n",
       "      <td>1</td>\n",
       "    </tr>\n",
       "  </tbody>\n",
       "</table>\n",
       "<p>135 rows × 2 columns</p>\n",
       "</div>"
      ],
      "text/plain": [
       "              permno  number_missings\n",
       "206   BF/B UA Equity              314\n",
       "559   PARA UA Equity              221\n",
       "1183   PSX UN Equity              207\n",
       "408   PNAA US Equity              196\n",
       "790    DVN UA Equity              156\n",
       "...              ...              ...\n",
       "1149  URBN UW Equity                1\n",
       "516   FMCC UN Equity                1\n",
       "514    TRV UN Equity                1\n",
       "475    VAT UN Equity                1\n",
       "1438  NDSN UW Equity                1\n",
       "\n",
       "[135 rows x 2 columns]"
      ]
     },
     "execution_count": 42,
     "metadata": {},
     "output_type": "execute_result"
    }
   ],
   "source": [
    "df_n_missing[df_n_missing.number_missings != 0].sort_values(by=\"number_missings\", ascending=False)"
   ]
  },
  {
   "cell_type": "code",
   "execution_count": 43,
   "id": "24dc680a",
   "metadata": {},
   "outputs": [
    {
     "name": "stderr",
     "output_type": "stream",
     "text": [
      "/Library/Frameworks/Python.framework/Versions/3.9/lib/python3.9/site-packages/_plotly_utils/basevalidators.py:105: FutureWarning:\n",
      "\n",
      "The behavior of DatetimeProperties.to_pydatetime is deprecated, in a future version this will return a Series containing python datetime objects instead of an ndarray. To retain the old behavior, call `np.array` on the result\n",
      "\n"
     ]
    },
    {
     "data": {
      "application/vnd.plotly.v1+json": {
       "config": {
        "plotlyServerURL": "https://plot.ly"
       },
       "data": [
        {
         "hovertemplate": "variable=price<br>date=%{x}<br>value=%{y}<extra></extra>",
         "legendgroup": "price",
         "line": {
          "color": "#636efa",
          "dash": "solid"
         },
         "marker": {
          "symbol": "circle"
         },
         "mode": "lines",
         "name": "price",
         "orientation": "v",
         "showlegend": true,
         "type": "scatter",
         "x": [
          "1990-01-31T00:00:00",
          "1990-02-28T00:00:00",
          "1990-03-30T00:00:00",
          "1990-04-30T00:00:00",
          "1990-05-31T00:00:00",
          "1990-06-29T00:00:00",
          "1990-07-31T00:00:00",
          "1990-08-31T00:00:00",
          "1990-09-28T00:00:00",
          "1990-10-31T00:00:00",
          "1990-11-30T00:00:00",
          "1990-12-31T00:00:00",
          "1991-01-31T00:00:00",
          "1991-02-28T00:00:00",
          "1991-03-28T00:00:00",
          "1991-04-30T00:00:00",
          "1991-05-31T00:00:00",
          "1991-06-28T00:00:00",
          "1991-07-31T00:00:00",
          "1991-08-30T00:00:00",
          "1991-09-30T00:00:00",
          "1991-10-31T00:00:00",
          "1991-11-29T00:00:00",
          "1991-12-31T00:00:00",
          "1992-01-31T00:00:00",
          "1992-02-28T00:00:00",
          "1992-03-31T00:00:00",
          "1992-04-30T00:00:00",
          "1992-05-29T00:00:00",
          "1992-06-30T00:00:00",
          "1992-07-31T00:00:00",
          "1992-08-31T00:00:00",
          "1992-09-30T00:00:00",
          "1992-10-30T00:00:00",
          "1992-11-30T00:00:00",
          "1992-12-31T00:00:00",
          "1993-01-29T00:00:00",
          "1993-02-26T00:00:00",
          "1993-03-31T00:00:00",
          "1993-04-30T00:00:00",
          "1993-05-28T00:00:00",
          "1993-06-30T00:00:00",
          "1993-07-30T00:00:00",
          "1993-08-31T00:00:00",
          "1993-09-30T00:00:00",
          "1993-10-29T00:00:00",
          "1993-11-30T00:00:00",
          "1993-12-31T00:00:00",
          "1994-01-31T00:00:00",
          "1994-02-28T00:00:00",
          "1994-03-31T00:00:00",
          "1994-04-29T00:00:00",
          "1994-05-31T00:00:00",
          "1994-06-30T00:00:00",
          "1994-07-29T00:00:00",
          "1994-08-31T00:00:00",
          "1994-09-30T00:00:00",
          "1994-10-31T00:00:00",
          "1994-11-30T00:00:00",
          "1994-12-30T00:00:00",
          "1995-01-31T00:00:00",
          "1995-02-28T00:00:00",
          "1995-03-31T00:00:00",
          "1995-04-28T00:00:00",
          "1995-05-31T00:00:00",
          "1995-06-30T00:00:00",
          "1995-07-31T00:00:00",
          "1995-08-31T00:00:00",
          "1995-09-29T00:00:00",
          "1995-10-31T00:00:00",
          "1995-11-30T00:00:00",
          "1995-12-29T00:00:00",
          "1996-01-31T00:00:00",
          "1996-02-29T00:00:00",
          "1996-03-29T00:00:00",
          "1996-04-30T00:00:00",
          "1996-05-31T00:00:00",
          "1996-06-28T00:00:00",
          "1996-07-31T00:00:00",
          "1996-08-30T00:00:00",
          "1996-09-30T00:00:00",
          "1996-10-31T00:00:00",
          "1996-11-29T00:00:00",
          "1996-12-31T00:00:00",
          "1997-01-31T00:00:00",
          "1997-02-28T00:00:00",
          "1997-03-31T00:00:00",
          "1997-04-30T00:00:00",
          "1997-05-30T00:00:00",
          "1997-06-30T00:00:00",
          "1997-07-31T00:00:00",
          "1997-08-29T00:00:00",
          "1997-09-30T00:00:00",
          "1997-10-31T00:00:00",
          "1997-11-28T00:00:00",
          "1997-12-31T00:00:00",
          "1998-01-30T00:00:00",
          "1998-02-27T00:00:00",
          "1998-03-31T00:00:00",
          "1998-04-30T00:00:00",
          "1998-05-29T00:00:00",
          "1998-06-30T00:00:00",
          "1998-07-31T00:00:00",
          "1998-08-31T00:00:00",
          "1998-09-30T00:00:00",
          "1998-10-30T00:00:00",
          "1998-11-30T00:00:00",
          "1998-12-31T00:00:00",
          "1999-01-29T00:00:00",
          "1999-02-26T00:00:00",
          "1999-03-31T00:00:00",
          "1999-04-30T00:00:00",
          "1999-05-28T00:00:00",
          "1999-06-30T00:00:00",
          "1999-07-30T00:00:00",
          "1999-08-31T00:00:00",
          "1999-09-30T00:00:00",
          "1999-10-29T00:00:00",
          "1999-11-30T00:00:00",
          "1999-12-31T00:00:00",
          "2000-01-31T00:00:00",
          "2000-02-29T00:00:00",
          "2000-03-31T00:00:00",
          "2000-04-28T00:00:00",
          "2000-05-31T00:00:00",
          "2000-06-30T00:00:00",
          "2000-07-31T00:00:00",
          "2000-08-31T00:00:00",
          "2000-09-29T00:00:00",
          "2000-10-31T00:00:00",
          "2000-11-30T00:00:00",
          "2000-12-29T00:00:00",
          "2001-01-31T00:00:00",
          "2001-02-28T00:00:00",
          "2001-03-30T00:00:00",
          "2001-04-30T00:00:00",
          "2001-05-31T00:00:00",
          "2001-06-29T00:00:00",
          "2001-07-31T00:00:00",
          "2001-08-31T00:00:00",
          "2001-09-28T00:00:00",
          "2001-10-31T00:00:00",
          "2001-11-30T00:00:00",
          "2001-12-31T00:00:00",
          "2002-01-31T00:00:00",
          "2002-02-28T00:00:00",
          "2002-03-28T00:00:00",
          "2002-04-30T00:00:00",
          "2002-05-31T00:00:00",
          "2002-06-28T00:00:00",
          "2002-07-31T00:00:00",
          "2002-08-30T00:00:00",
          "2002-09-30T00:00:00",
          "2002-10-31T00:00:00",
          "2002-11-29T00:00:00",
          "2002-12-31T00:00:00",
          "2003-01-31T00:00:00",
          "2003-02-28T00:00:00",
          "2003-03-31T00:00:00",
          "2003-04-30T00:00:00",
          "2003-05-30T00:00:00",
          "2003-06-30T00:00:00",
          "2003-07-31T00:00:00",
          "2003-08-29T00:00:00",
          "2003-09-30T00:00:00",
          "2003-10-31T00:00:00",
          "2003-11-28T00:00:00",
          "2003-12-31T00:00:00",
          "2004-01-30T00:00:00",
          "2004-02-27T00:00:00",
          "2004-03-31T00:00:00",
          "2004-04-30T00:00:00",
          "2004-05-28T00:00:00",
          "2004-06-30T00:00:00",
          "2004-07-30T00:00:00",
          "2004-08-31T00:00:00",
          "2004-09-30T00:00:00",
          "2004-10-29T00:00:00",
          "2004-11-30T00:00:00",
          "2004-12-31T00:00:00",
          "2005-01-31T00:00:00",
          "2005-02-28T00:00:00",
          "2005-03-31T00:00:00",
          "2005-04-29T00:00:00",
          "2005-05-31T00:00:00",
          "2005-06-30T00:00:00",
          "2005-07-29T00:00:00",
          "2005-08-31T00:00:00",
          "2005-09-30T00:00:00",
          "2005-10-31T00:00:00",
          "2005-11-30T00:00:00",
          "2005-12-30T00:00:00",
          "2006-01-31T00:00:00",
          "2006-02-28T00:00:00",
          "2006-03-31T00:00:00",
          "2006-04-28T00:00:00",
          "2006-05-31T00:00:00",
          "2006-06-30T00:00:00",
          "2006-07-31T00:00:00",
          "2006-08-31T00:00:00",
          "2006-09-29T00:00:00",
          "2006-10-31T00:00:00",
          "2006-11-30T00:00:00",
          "2006-12-29T00:00:00",
          "2007-01-31T00:00:00",
          "2007-02-28T00:00:00",
          "2007-03-30T00:00:00",
          "2007-04-30T00:00:00",
          "2007-05-31T00:00:00",
          "2007-06-29T00:00:00",
          "2007-07-31T00:00:00",
          "2007-08-31T00:00:00",
          "2007-09-28T00:00:00",
          "2007-10-31T00:00:00",
          "2007-11-30T00:00:00",
          "2007-12-31T00:00:00",
          "2008-01-31T00:00:00",
          "2008-02-29T00:00:00",
          "2008-03-31T00:00:00",
          "2008-04-30T00:00:00",
          "2008-05-30T00:00:00",
          "2008-06-30T00:00:00",
          "2008-07-31T00:00:00",
          "2008-08-29T00:00:00",
          "2008-09-30T00:00:00",
          "2008-10-31T00:00:00",
          "2008-11-28T00:00:00",
          "2008-12-31T00:00:00",
          "2009-01-30T00:00:00",
          "2009-02-27T00:00:00",
          "2009-03-31T00:00:00",
          "2009-04-30T00:00:00",
          "2009-05-29T00:00:00",
          "2009-06-30T00:00:00",
          "2009-07-31T00:00:00",
          "2009-08-31T00:00:00",
          "2009-09-30T00:00:00",
          "2009-10-30T00:00:00",
          "2009-11-30T00:00:00",
          "2009-12-31T00:00:00",
          "2010-01-29T00:00:00",
          "2010-02-26T00:00:00",
          "2010-03-31T00:00:00",
          "2010-04-30T00:00:00",
          "2010-05-28T00:00:00",
          "2010-06-30T00:00:00",
          "2010-07-30T00:00:00",
          "2010-08-31T00:00:00",
          "2010-09-30T00:00:00",
          "2010-10-29T00:00:00",
          "2010-11-30T00:00:00",
          "2010-12-31T00:00:00",
          "2011-01-31T00:00:00",
          "2011-02-28T00:00:00",
          "2011-03-31T00:00:00",
          "2011-04-29T00:00:00",
          "2011-05-31T00:00:00",
          "2011-06-30T00:00:00",
          "2011-07-29T00:00:00",
          "2011-08-31T00:00:00",
          "2011-09-30T00:00:00",
          "2011-10-31T00:00:00",
          "2011-11-30T00:00:00",
          "2011-12-30T00:00:00",
          "2012-01-31T00:00:00",
          "2012-02-29T00:00:00",
          "2012-03-30T00:00:00",
          "2012-04-30T00:00:00",
          "2012-05-31T00:00:00",
          "2012-06-29T00:00:00",
          "2012-07-31T00:00:00",
          "2012-08-31T00:00:00",
          "2012-09-28T00:00:00",
          "2012-10-31T00:00:00",
          "2012-11-30T00:00:00",
          "2012-12-31T00:00:00",
          "2013-01-31T00:00:00",
          "2013-02-28T00:00:00",
          "2013-03-28T00:00:00",
          "2013-04-30T00:00:00",
          "2013-05-31T00:00:00",
          "2013-06-28T00:00:00",
          "2013-07-31T00:00:00",
          "2013-08-30T00:00:00",
          "2013-09-30T00:00:00",
          "2013-10-31T00:00:00",
          "2013-11-29T00:00:00",
          "2013-12-31T00:00:00",
          "2014-01-31T00:00:00",
          "2014-02-28T00:00:00",
          "2014-03-31T00:00:00",
          "2014-04-30T00:00:00",
          "2014-05-30T00:00:00",
          "2014-06-30T00:00:00",
          "2014-07-31T00:00:00",
          "2014-08-29T00:00:00",
          "2014-09-30T00:00:00",
          "2014-10-31T00:00:00",
          "2014-11-28T00:00:00",
          "2014-12-31T00:00:00",
          "2015-01-30T00:00:00",
          "2015-02-27T00:00:00",
          "2015-03-31T00:00:00",
          "2015-04-30T00:00:00",
          "2015-05-29T00:00:00",
          "2015-06-30T00:00:00",
          "2015-07-31T00:00:00",
          "2015-08-31T00:00:00",
          "2015-09-30T00:00:00",
          "2015-10-30T00:00:00",
          "2015-11-30T00:00:00",
          "2015-12-31T00:00:00",
          "2016-01-29T00:00:00",
          "2016-02-29T00:00:00",
          "2016-03-31T00:00:00",
          "2016-04-29T00:00:00",
          "2016-05-31T00:00:00",
          "2016-06-30T00:00:00",
          "2016-07-29T00:00:00",
          "2016-08-31T00:00:00",
          "2016-09-30T00:00:00",
          "2016-10-31T00:00:00",
          "2016-11-30T00:00:00",
          "2016-12-30T00:00:00",
          "2017-01-31T00:00:00",
          "2017-02-28T00:00:00",
          "2017-03-31T00:00:00",
          "2017-04-28T00:00:00",
          "2017-05-31T00:00:00",
          "2017-06-30T00:00:00",
          "2017-07-31T00:00:00",
          "2017-08-31T00:00:00",
          "2017-09-29T00:00:00",
          "2017-10-31T00:00:00",
          "2017-11-30T00:00:00",
          "2017-12-29T00:00:00",
          "2018-01-31T00:00:00",
          "2018-02-28T00:00:00",
          "2018-03-29T00:00:00",
          "2018-04-30T00:00:00",
          "2018-05-31T00:00:00",
          "2018-06-29T00:00:00",
          "2018-07-31T00:00:00",
          "2018-08-31T00:00:00",
          "2018-09-28T00:00:00",
          "2018-10-31T00:00:00",
          "2018-11-30T00:00:00",
          "2018-12-31T00:00:00",
          "2019-01-31T00:00:00",
          "2019-02-28T00:00:00",
          "2019-03-29T00:00:00",
          "2019-04-30T00:00:00",
          "2019-05-31T00:00:00",
          "2019-06-28T00:00:00",
          "2019-07-31T00:00:00",
          "2019-08-30T00:00:00",
          "2019-09-30T00:00:00",
          "2019-10-31T00:00:00",
          "2019-11-29T00:00:00",
          "2019-12-31T00:00:00",
          "2020-01-31T00:00:00",
          "2020-02-28T00:00:00",
          "2020-03-31T00:00:00",
          "2020-04-30T00:00:00",
          "2020-05-29T00:00:00",
          "2020-06-30T00:00:00",
          "2020-07-31T00:00:00",
          "2020-08-31T00:00:00",
          "2020-09-30T00:00:00",
          "2020-10-30T00:00:00",
          "2020-11-30T00:00:00",
          "2020-12-31T00:00:00",
          "2021-01-29T00:00:00",
          "2021-02-26T00:00:00",
          "2021-03-31T00:00:00",
          "2021-04-30T00:00:00",
          "2021-05-28T00:00:00",
          "2021-06-30T00:00:00",
          "2021-07-30T00:00:00",
          "2021-08-31T00:00:00",
          "2021-09-30T00:00:00",
          "2021-10-29T00:00:00",
          "2021-11-30T00:00:00",
          "2021-12-31T00:00:00",
          "2022-01-31T00:00:00",
          "2022-02-28T00:00:00",
          "2022-03-31T00:00:00",
          "2022-04-29T00:00:00",
          "2022-05-31T00:00:00",
          "2022-06-30T00:00:00",
          "2022-07-29T00:00:00",
          "2022-08-30T00:00:00"
         ],
         "xaxis": "x",
         "y": [
          null,
          null,
          null,
          null,
          null,
          9.3138,
          7.7001,
          5.9941,
          6.409,
          5.4408,
          7.9767,
          9.0833,
          8.7605,
          8.6222,
          9.2216,
          10.8815,
          10.9276,
          9.8671,
          10.6971,
          10.8815,
          11.0198,
          11.9881,
          null,
          12.5875,
          12.5414,
          12.2648,
          13.2791,
          13.0947,
          12.5875,
          11.9881,
          11.7576,
          11.4809,
          10.7432,
          12.2187,
          14.2474,
          15.4462,
          15.769,
          13.5097,
          15.9073,
          14.6163,
          17.0139,
          17.475,
          20.3798,
          21.5786,
          20.3798,
          19.6421,
          16.2762,
          16.5528,
          12.8181,
          10.651,
          9.7749,
          8.2995,
          10.6049,
          11.6654,
          12.9103,
          12.1725,
          14.6624,
          14.478,
          14.2013,
          14.9851,
          17.0139,
          16.5067,
          16.5067,
          16.9217,
          17.1983,
          17.1061,
          18.7199,
          17.9361,
          18.351,
          18.4433,
          17.7977,
          17.475,
          14.939,
          14.478,
          15.5384,
          15.1235,
          15.6307,
          14.3396,
          12.9103,
          11.6192,
          13.0947,
          12.0342,
          13.9247,
          12.8642,
          12.6336,
          13.0025,
          12.2187,
          9.8671,
          10.9507,
          11.066,
          11.3887,
          10.9276,
          11.6654,
          11.1582,
          12.9103,
          15.2848,
          15.4001,
          17.7055,
          19.8265,
          21.3942,
          20.2876,
          21.4864,
          25.2673,
          18.3049,
          21.3942,
          22.0858,
          24.5526,
          27.296,
          31.3535,
          32.5984,
          30.9616,
          null,
          null,
          null,
          null,
          null,
          null,
          null,
          null,
          null,
          null,
          null,
          null,
          null,
          null,
          null,
          null,
          null,
          null,
          null,
          null,
          null,
          null,
          null,
          null,
          null,
          null,
          null,
          null,
          null,
          null,
          null,
          null,
          null,
          null,
          null,
          null,
          null,
          null,
          null,
          null,
          null,
          null,
          null,
          null,
          null,
          null,
          null,
          null,
          null,
          null,
          null,
          null,
          null,
          null,
          null,
          null,
          null,
          null,
          null,
          null,
          null,
          null,
          null,
          null,
          null,
          null,
          null,
          null,
          null,
          null,
          null,
          null,
          null,
          null,
          null,
          null,
          null,
          null,
          null,
          null,
          null,
          null,
          null,
          null,
          null,
          null,
          null,
          null,
          null,
          null,
          null,
          null,
          null,
          null,
          null,
          null,
          null,
          null,
          null,
          null,
          null,
          null,
          null,
          null,
          null,
          null,
          null,
          null,
          null,
          null,
          null,
          null,
          null,
          null,
          null,
          null,
          null,
          null,
          null,
          null,
          null,
          null,
          null,
          null,
          null,
          null,
          null,
          null,
          null,
          null,
          null,
          null,
          null,
          null,
          null,
          null,
          null,
          null,
          null,
          null,
          null,
          null,
          null,
          null,
          null,
          null,
          null,
          null,
          null,
          null,
          null,
          null,
          null,
          null,
          null,
          null,
          null,
          null,
          null,
          null,
          null,
          null,
          null,
          null,
          null,
          null,
          null,
          null,
          null,
          null,
          null,
          null,
          null,
          null,
          null,
          null,
          null,
          null,
          null,
          null,
          null,
          null,
          null,
          null,
          null,
          null,
          null,
          null,
          null,
          null,
          null,
          null,
          null,
          null,
          null,
          null,
          null,
          null,
          null,
          null,
          null,
          null,
          null,
          null,
          null,
          null,
          null,
          null,
          null,
          null,
          null,
          null,
          null,
          null,
          null,
          null,
          null,
          null,
          null,
          65.86,
          64.07,
          57.99,
          56.135,
          56.02,
          59.01,
          57.605,
          52.97,
          51.4,
          49.22,
          50.38,
          56.24,
          52.74,
          53.02,
          57.42,
          57.42,
          null,
          43.56,
          49.5,
          50.24,
          47.54,
          51.29,
          48.3,
          49.83,
          51.54,
          42.02,
          40.35,
          36.02,
          40.38,
          41.97,
          34.14,
          24.59,
          13.98,
          17.3,
          20.76,
          23.31,
          26.06,
          27.9,
          28.03,
          28.57,
          35.21,
          37.25,
          48.74,
          64.48,
          45.22,
          40.97,
          42.37,
          45.22,
          40.94,
          41.45,
          39.56,
          36.26,
          30.94,
          30.14,
          33.44,
          30.63,
          37.77,
          29.105,
          34.32,
          24.63,
          23.64,
          24.06
         ],
         "yaxis": "y"
        }
       ],
       "layout": {
        "legend": {
         "title": {
          "text": "variable"
         },
         "tracegroupgap": 0
        },
        "margin": {
         "t": 60
        },
        "template": {
         "data": {
          "bar": [
           {
            "error_x": {
             "color": "#2a3f5f"
            },
            "error_y": {
             "color": "#2a3f5f"
            },
            "marker": {
             "line": {
              "color": "#E5ECF6",
              "width": 0.5
             },
             "pattern": {
              "fillmode": "overlay",
              "size": 10,
              "solidity": 0.2
             }
            },
            "type": "bar"
           }
          ],
          "barpolar": [
           {
            "marker": {
             "line": {
              "color": "#E5ECF6",
              "width": 0.5
             },
             "pattern": {
              "fillmode": "overlay",
              "size": 10,
              "solidity": 0.2
             }
            },
            "type": "barpolar"
           }
          ],
          "carpet": [
           {
            "aaxis": {
             "endlinecolor": "#2a3f5f",
             "gridcolor": "white",
             "linecolor": "white",
             "minorgridcolor": "white",
             "startlinecolor": "#2a3f5f"
            },
            "baxis": {
             "endlinecolor": "#2a3f5f",
             "gridcolor": "white",
             "linecolor": "white",
             "minorgridcolor": "white",
             "startlinecolor": "#2a3f5f"
            },
            "type": "carpet"
           }
          ],
          "choropleth": [
           {
            "colorbar": {
             "outlinewidth": 0,
             "ticks": ""
            },
            "type": "choropleth"
           }
          ],
          "contour": [
           {
            "colorbar": {
             "outlinewidth": 0,
             "ticks": ""
            },
            "colorscale": [
             [
              0,
              "#0d0887"
             ],
             [
              0.1111111111111111,
              "#46039f"
             ],
             [
              0.2222222222222222,
              "#7201a8"
             ],
             [
              0.3333333333333333,
              "#9c179e"
             ],
             [
              0.4444444444444444,
              "#bd3786"
             ],
             [
              0.5555555555555556,
              "#d8576b"
             ],
             [
              0.6666666666666666,
              "#ed7953"
             ],
             [
              0.7777777777777778,
              "#fb9f3a"
             ],
             [
              0.8888888888888888,
              "#fdca26"
             ],
             [
              1,
              "#f0f921"
             ]
            ],
            "type": "contour"
           }
          ],
          "contourcarpet": [
           {
            "colorbar": {
             "outlinewidth": 0,
             "ticks": ""
            },
            "type": "contourcarpet"
           }
          ],
          "heatmap": [
           {
            "colorbar": {
             "outlinewidth": 0,
             "ticks": ""
            },
            "colorscale": [
             [
              0,
              "#0d0887"
             ],
             [
              0.1111111111111111,
              "#46039f"
             ],
             [
              0.2222222222222222,
              "#7201a8"
             ],
             [
              0.3333333333333333,
              "#9c179e"
             ],
             [
              0.4444444444444444,
              "#bd3786"
             ],
             [
              0.5555555555555556,
              "#d8576b"
             ],
             [
              0.6666666666666666,
              "#ed7953"
             ],
             [
              0.7777777777777778,
              "#fb9f3a"
             ],
             [
              0.8888888888888888,
              "#fdca26"
             ],
             [
              1,
              "#f0f921"
             ]
            ],
            "type": "heatmap"
           }
          ],
          "heatmapgl": [
           {
            "colorbar": {
             "outlinewidth": 0,
             "ticks": ""
            },
            "colorscale": [
             [
              0,
              "#0d0887"
             ],
             [
              0.1111111111111111,
              "#46039f"
             ],
             [
              0.2222222222222222,
              "#7201a8"
             ],
             [
              0.3333333333333333,
              "#9c179e"
             ],
             [
              0.4444444444444444,
              "#bd3786"
             ],
             [
              0.5555555555555556,
              "#d8576b"
             ],
             [
              0.6666666666666666,
              "#ed7953"
             ],
             [
              0.7777777777777778,
              "#fb9f3a"
             ],
             [
              0.8888888888888888,
              "#fdca26"
             ],
             [
              1,
              "#f0f921"
             ]
            ],
            "type": "heatmapgl"
           }
          ],
          "histogram": [
           {
            "marker": {
             "pattern": {
              "fillmode": "overlay",
              "size": 10,
              "solidity": 0.2
             }
            },
            "type": "histogram"
           }
          ],
          "histogram2d": [
           {
            "colorbar": {
             "outlinewidth": 0,
             "ticks": ""
            },
            "colorscale": [
             [
              0,
              "#0d0887"
             ],
             [
              0.1111111111111111,
              "#46039f"
             ],
             [
              0.2222222222222222,
              "#7201a8"
             ],
             [
              0.3333333333333333,
              "#9c179e"
             ],
             [
              0.4444444444444444,
              "#bd3786"
             ],
             [
              0.5555555555555556,
              "#d8576b"
             ],
             [
              0.6666666666666666,
              "#ed7953"
             ],
             [
              0.7777777777777778,
              "#fb9f3a"
             ],
             [
              0.8888888888888888,
              "#fdca26"
             ],
             [
              1,
              "#f0f921"
             ]
            ],
            "type": "histogram2d"
           }
          ],
          "histogram2dcontour": [
           {
            "colorbar": {
             "outlinewidth": 0,
             "ticks": ""
            },
            "colorscale": [
             [
              0,
              "#0d0887"
             ],
             [
              0.1111111111111111,
              "#46039f"
             ],
             [
              0.2222222222222222,
              "#7201a8"
             ],
             [
              0.3333333333333333,
              "#9c179e"
             ],
             [
              0.4444444444444444,
              "#bd3786"
             ],
             [
              0.5555555555555556,
              "#d8576b"
             ],
             [
              0.6666666666666666,
              "#ed7953"
             ],
             [
              0.7777777777777778,
              "#fb9f3a"
             ],
             [
              0.8888888888888888,
              "#fdca26"
             ],
             [
              1,
              "#f0f921"
             ]
            ],
            "type": "histogram2dcontour"
           }
          ],
          "mesh3d": [
           {
            "colorbar": {
             "outlinewidth": 0,
             "ticks": ""
            },
            "type": "mesh3d"
           }
          ],
          "parcoords": [
           {
            "line": {
             "colorbar": {
              "outlinewidth": 0,
              "ticks": ""
             }
            },
            "type": "parcoords"
           }
          ],
          "pie": [
           {
            "automargin": true,
            "type": "pie"
           }
          ],
          "scatter": [
           {
            "fillpattern": {
             "fillmode": "overlay",
             "size": 10,
             "solidity": 0.2
            },
            "type": "scatter"
           }
          ],
          "scatter3d": [
           {
            "line": {
             "colorbar": {
              "outlinewidth": 0,
              "ticks": ""
             }
            },
            "marker": {
             "colorbar": {
              "outlinewidth": 0,
              "ticks": ""
             }
            },
            "type": "scatter3d"
           }
          ],
          "scattercarpet": [
           {
            "marker": {
             "colorbar": {
              "outlinewidth": 0,
              "ticks": ""
             }
            },
            "type": "scattercarpet"
           }
          ],
          "scattergeo": [
           {
            "marker": {
             "colorbar": {
              "outlinewidth": 0,
              "ticks": ""
             }
            },
            "type": "scattergeo"
           }
          ],
          "scattergl": [
           {
            "marker": {
             "colorbar": {
              "outlinewidth": 0,
              "ticks": ""
             }
            },
            "type": "scattergl"
           }
          ],
          "scattermapbox": [
           {
            "marker": {
             "colorbar": {
              "outlinewidth": 0,
              "ticks": ""
             }
            },
            "type": "scattermapbox"
           }
          ],
          "scatterpolar": [
           {
            "marker": {
             "colorbar": {
              "outlinewidth": 0,
              "ticks": ""
             }
            },
            "type": "scatterpolar"
           }
          ],
          "scatterpolargl": [
           {
            "marker": {
             "colorbar": {
              "outlinewidth": 0,
              "ticks": ""
             }
            },
            "type": "scatterpolargl"
           }
          ],
          "scatterternary": [
           {
            "marker": {
             "colorbar": {
              "outlinewidth": 0,
              "ticks": ""
             }
            },
            "type": "scatterternary"
           }
          ],
          "surface": [
           {
            "colorbar": {
             "outlinewidth": 0,
             "ticks": ""
            },
            "colorscale": [
             [
              0,
              "#0d0887"
             ],
             [
              0.1111111111111111,
              "#46039f"
             ],
             [
              0.2222222222222222,
              "#7201a8"
             ],
             [
              0.3333333333333333,
              "#9c179e"
             ],
             [
              0.4444444444444444,
              "#bd3786"
             ],
             [
              0.5555555555555556,
              "#d8576b"
             ],
             [
              0.6666666666666666,
              "#ed7953"
             ],
             [
              0.7777777777777778,
              "#fb9f3a"
             ],
             [
              0.8888888888888888,
              "#fdca26"
             ],
             [
              1,
              "#f0f921"
             ]
            ],
            "type": "surface"
           }
          ],
          "table": [
           {
            "cells": {
             "fill": {
              "color": "#EBF0F8"
             },
             "line": {
              "color": "white"
             }
            },
            "header": {
             "fill": {
              "color": "#C8D4E3"
             },
             "line": {
              "color": "white"
             }
            },
            "type": "table"
           }
          ]
         },
         "layout": {
          "annotationdefaults": {
           "arrowcolor": "#2a3f5f",
           "arrowhead": 0,
           "arrowwidth": 1
          },
          "autotypenumbers": "strict",
          "coloraxis": {
           "colorbar": {
            "outlinewidth": 0,
            "ticks": ""
           }
          },
          "colorscale": {
           "diverging": [
            [
             0,
             "#8e0152"
            ],
            [
             0.1,
             "#c51b7d"
            ],
            [
             0.2,
             "#de77ae"
            ],
            [
             0.3,
             "#f1b6da"
            ],
            [
             0.4,
             "#fde0ef"
            ],
            [
             0.5,
             "#f7f7f7"
            ],
            [
             0.6,
             "#e6f5d0"
            ],
            [
             0.7,
             "#b8e186"
            ],
            [
             0.8,
             "#7fbc41"
            ],
            [
             0.9,
             "#4d9221"
            ],
            [
             1,
             "#276419"
            ]
           ],
           "sequential": [
            [
             0,
             "#0d0887"
            ],
            [
             0.1111111111111111,
             "#46039f"
            ],
            [
             0.2222222222222222,
             "#7201a8"
            ],
            [
             0.3333333333333333,
             "#9c179e"
            ],
            [
             0.4444444444444444,
             "#bd3786"
            ],
            [
             0.5555555555555556,
             "#d8576b"
            ],
            [
             0.6666666666666666,
             "#ed7953"
            ],
            [
             0.7777777777777778,
             "#fb9f3a"
            ],
            [
             0.8888888888888888,
             "#fdca26"
            ],
            [
             1,
             "#f0f921"
            ]
           ],
           "sequentialminus": [
            [
             0,
             "#0d0887"
            ],
            [
             0.1111111111111111,
             "#46039f"
            ],
            [
             0.2222222222222222,
             "#7201a8"
            ],
            [
             0.3333333333333333,
             "#9c179e"
            ],
            [
             0.4444444444444444,
             "#bd3786"
            ],
            [
             0.5555555555555556,
             "#d8576b"
            ],
            [
             0.6666666666666666,
             "#ed7953"
            ],
            [
             0.7777777777777778,
             "#fb9f3a"
            ],
            [
             0.8888888888888888,
             "#fdca26"
            ],
            [
             1,
             "#f0f921"
            ]
           ]
          },
          "colorway": [
           "#636efa",
           "#EF553B",
           "#00cc96",
           "#ab63fa",
           "#FFA15A",
           "#19d3f3",
           "#FF6692",
           "#B6E880",
           "#FF97FF",
           "#FECB52"
          ],
          "font": {
           "color": "#2a3f5f"
          },
          "geo": {
           "bgcolor": "white",
           "lakecolor": "white",
           "landcolor": "#E5ECF6",
           "showlakes": true,
           "showland": true,
           "subunitcolor": "white"
          },
          "hoverlabel": {
           "align": "left"
          },
          "hovermode": "closest",
          "mapbox": {
           "style": "light"
          },
          "paper_bgcolor": "white",
          "plot_bgcolor": "#E5ECF6",
          "polar": {
           "angularaxis": {
            "gridcolor": "white",
            "linecolor": "white",
            "ticks": ""
           },
           "bgcolor": "#E5ECF6",
           "radialaxis": {
            "gridcolor": "white",
            "linecolor": "white",
            "ticks": ""
           }
          },
          "scene": {
           "xaxis": {
            "backgroundcolor": "#E5ECF6",
            "gridcolor": "white",
            "gridwidth": 2,
            "linecolor": "white",
            "showbackground": true,
            "ticks": "",
            "zerolinecolor": "white"
           },
           "yaxis": {
            "backgroundcolor": "#E5ECF6",
            "gridcolor": "white",
            "gridwidth": 2,
            "linecolor": "white",
            "showbackground": true,
            "ticks": "",
            "zerolinecolor": "white"
           },
           "zaxis": {
            "backgroundcolor": "#E5ECF6",
            "gridcolor": "white",
            "gridwidth": 2,
            "linecolor": "white",
            "showbackground": true,
            "ticks": "",
            "zerolinecolor": "white"
           }
          },
          "shapedefaults": {
           "line": {
            "color": "#2a3f5f"
           }
          },
          "ternary": {
           "aaxis": {
            "gridcolor": "white",
            "linecolor": "white",
            "ticks": ""
           },
           "baxis": {
            "gridcolor": "white",
            "linecolor": "white",
            "ticks": ""
           },
           "bgcolor": "#E5ECF6",
           "caxis": {
            "gridcolor": "white",
            "linecolor": "white",
            "ticks": ""
           }
          },
          "title": {
           "x": 0.05
          },
          "xaxis": {
           "automargin": true,
           "gridcolor": "white",
           "linecolor": "white",
           "ticks": "",
           "title": {
            "standoff": 15
           },
           "zerolinecolor": "white",
           "zerolinewidth": 2
          },
          "yaxis": {
           "automargin": true,
           "gridcolor": "white",
           "linecolor": "white",
           "ticks": "",
           "title": {
            "standoff": 15
           },
           "zerolinecolor": "white",
           "zerolinewidth": 2
          }
         }
        },
        "xaxis": {
         "anchor": "y",
         "domain": [
          0,
          1
         ],
         "title": {
          "text": "date"
         }
        },
        "yaxis": {
         "anchor": "x",
         "domain": [
          0,
          1
         ],
         "title": {
          "text": "value"
         }
        }
       }
      }
     },
     "metadata": {},
     "output_type": "display_data"
    }
   ],
   "source": [
    "px.line(df_rmv[df_rmv.permno == \"PARA UA Equity\"].price)"
   ]
  },
  {
   "cell_type": "code",
   "execution_count": 44,
   "id": "56bc026a",
   "metadata": {},
   "outputs": [
    {
     "name": "stderr",
     "output_type": "stream",
     "text": [
      "/Library/Frameworks/Python.framework/Versions/3.9/lib/python3.9/site-packages/_plotly_utils/basevalidators.py:105: FutureWarning:\n",
      "\n",
      "The behavior of DatetimeProperties.to_pydatetime is deprecated, in a future version this will return a Series containing python datetime objects instead of an ndarray. To retain the old behavior, call `np.array` on the result\n",
      "\n"
     ]
    },
    {
     "data": {
      "application/vnd.plotly.v1+json": {
       "config": {
        "plotlyServerURL": "https://plot.ly"
       },
       "data": [
        {
         "hovertemplate": "variable=price<br>date=%{x}<br>value=%{y}<extra></extra>",
         "legendgroup": "price",
         "line": {
          "color": "#636efa",
          "dash": "solid"
         },
         "marker": {
          "symbol": "circle"
         },
         "mode": "lines",
         "name": "price",
         "orientation": "v",
         "showlegend": true,
         "type": "scatter",
         "x": [
          "1990-01-31T00:00:00",
          "1990-02-28T00:00:00",
          "1990-03-30T00:00:00",
          "1990-04-30T00:00:00",
          "1990-05-31T00:00:00",
          "1990-06-29T00:00:00",
          "1990-07-31T00:00:00",
          "1990-08-31T00:00:00",
          "1990-09-28T00:00:00",
          "1990-10-31T00:00:00",
          "1990-11-30T00:00:00",
          "1990-12-31T00:00:00",
          "1991-01-31T00:00:00",
          "1991-02-28T00:00:00",
          "1991-03-28T00:00:00",
          "1991-04-30T00:00:00",
          "1991-05-31T00:00:00",
          "1991-06-28T00:00:00",
          "1991-07-31T00:00:00",
          "1991-08-30T00:00:00",
          "1991-09-30T00:00:00",
          "1991-10-31T00:00:00",
          "1991-11-29T00:00:00",
          "1991-12-31T00:00:00",
          "1992-01-31T00:00:00",
          "1992-02-28T00:00:00",
          "1992-03-31T00:00:00",
          "1992-04-30T00:00:00",
          "1992-05-29T00:00:00",
          "1992-06-30T00:00:00",
          "1992-07-31T00:00:00",
          "1992-08-31T00:00:00",
          "1992-09-30T00:00:00",
          "1992-10-30T00:00:00",
          "1992-11-30T00:00:00",
          "1992-12-31T00:00:00",
          "1993-01-29T00:00:00",
          "1993-02-26T00:00:00",
          "1993-03-31T00:00:00",
          "1993-04-30T00:00:00",
          "1993-05-28T00:00:00",
          "1993-06-30T00:00:00",
          "1993-07-30T00:00:00",
          "1993-08-31T00:00:00",
          "1993-09-30T00:00:00",
          "1993-10-29T00:00:00",
          "1993-11-30T00:00:00",
          "1993-12-31T00:00:00",
          "1994-01-31T00:00:00",
          "1994-02-28T00:00:00",
          "1994-03-31T00:00:00",
          "1994-04-29T00:00:00",
          "1994-05-31T00:00:00",
          "1994-06-30T00:00:00",
          "1994-07-29T00:00:00",
          "1994-08-31T00:00:00",
          "1994-09-30T00:00:00",
          "1994-10-31T00:00:00",
          "1994-11-30T00:00:00",
          "1994-12-30T00:00:00",
          "1995-01-31T00:00:00",
          "1995-02-28T00:00:00",
          "1995-03-31T00:00:00",
          "1995-04-28T00:00:00",
          "1995-05-31T00:00:00",
          "1995-06-30T00:00:00",
          "1995-07-31T00:00:00",
          "1995-08-31T00:00:00",
          "1995-09-29T00:00:00",
          "1995-10-31T00:00:00",
          "1995-11-30T00:00:00",
          "1995-12-29T00:00:00",
          "1996-01-31T00:00:00",
          "1996-02-29T00:00:00",
          "1996-03-29T00:00:00",
          "1996-04-30T00:00:00",
          "1996-05-31T00:00:00",
          "1996-06-28T00:00:00",
          "1996-07-31T00:00:00",
          "1996-08-30T00:00:00",
          "1996-09-30T00:00:00",
          "1996-10-31T00:00:00",
          "1996-11-29T00:00:00",
          "1996-12-31T00:00:00",
          "1997-01-31T00:00:00",
          "1997-02-28T00:00:00",
          "1997-03-31T00:00:00",
          "1997-04-30T00:00:00",
          "1997-05-30T00:00:00",
          "1997-06-30T00:00:00",
          "1997-07-31T00:00:00",
          "1997-08-29T00:00:00",
          "1997-09-30T00:00:00",
          "1997-10-31T00:00:00",
          "1997-11-28T00:00:00",
          "1997-12-31T00:00:00",
          "1998-01-30T00:00:00",
          "1998-02-27T00:00:00",
          "1998-03-31T00:00:00",
          "1998-04-30T00:00:00",
          "1998-05-29T00:00:00",
          "1998-06-30T00:00:00",
          "1998-07-31T00:00:00",
          "1998-08-31T00:00:00",
          "1998-09-30T00:00:00",
          "1998-10-30T00:00:00",
          "1998-11-30T00:00:00",
          "1998-12-31T00:00:00",
          "1999-01-29T00:00:00",
          "1999-02-26T00:00:00",
          "1999-03-31T00:00:00",
          "1999-04-30T00:00:00",
          "1999-05-28T00:00:00",
          "1999-06-30T00:00:00",
          "1999-07-30T00:00:00",
          "1999-08-31T00:00:00",
          "1999-09-30T00:00:00",
          "1999-10-29T00:00:00",
          "1999-11-30T00:00:00",
          "1999-12-31T00:00:00",
          "2000-01-31T00:00:00",
          "2000-02-29T00:00:00",
          "2000-03-31T00:00:00",
          "2000-04-28T00:00:00",
          "2000-05-31T00:00:00",
          "2000-06-30T00:00:00",
          "2000-07-31T00:00:00",
          "2000-08-31T00:00:00",
          "2000-09-29T00:00:00",
          "2000-10-31T00:00:00",
          "2000-11-30T00:00:00",
          "2000-12-29T00:00:00",
          "2001-01-31T00:00:00",
          "2001-02-28T00:00:00",
          "2001-03-30T00:00:00",
          "2001-04-30T00:00:00",
          "2001-05-31T00:00:00",
          "2001-06-29T00:00:00",
          "2001-07-31T00:00:00",
          "2001-08-31T00:00:00",
          "2001-09-28T00:00:00",
          "2001-10-31T00:00:00",
          "2001-11-30T00:00:00",
          "2001-12-31T00:00:00",
          "2002-01-31T00:00:00",
          "2002-02-28T00:00:00",
          "2002-03-28T00:00:00",
          "2002-04-30T00:00:00",
          "2002-05-31T00:00:00",
          "2002-06-28T00:00:00",
          "2002-07-31T00:00:00",
          "2002-08-30T00:00:00",
          "2002-09-30T00:00:00",
          "2002-10-31T00:00:00",
          "2002-11-29T00:00:00",
          "2002-12-31T00:00:00",
          "2003-01-31T00:00:00",
          "2003-02-28T00:00:00",
          "2003-03-31T00:00:00",
          "2003-04-30T00:00:00",
          "2003-05-30T00:00:00",
          "2003-06-30T00:00:00",
          "2003-07-31T00:00:00",
          "2003-08-29T00:00:00",
          "2003-09-30T00:00:00",
          "2003-10-31T00:00:00",
          "2003-11-28T00:00:00",
          "2003-12-31T00:00:00",
          "2004-01-30T00:00:00",
          "2004-02-27T00:00:00",
          "2004-03-31T00:00:00",
          "2004-04-30T00:00:00",
          "2004-05-28T00:00:00",
          "2004-06-30T00:00:00",
          "2004-07-30T00:00:00",
          "2004-08-31T00:00:00",
          "2004-09-30T00:00:00",
          "2004-10-29T00:00:00",
          "2004-11-30T00:00:00",
          "2004-12-31T00:00:00",
          "2005-01-31T00:00:00",
          "2005-02-28T00:00:00",
          "2005-03-31T00:00:00",
          "2005-04-29T00:00:00",
          "2005-05-31T00:00:00",
          "2005-06-30T00:00:00",
          "2005-07-29T00:00:00",
          "2005-08-31T00:00:00",
          "2005-09-30T00:00:00",
          "2005-10-31T00:00:00",
          "2005-11-30T00:00:00",
          "2005-12-30T00:00:00",
          "2006-01-31T00:00:00",
          "2006-02-28T00:00:00",
          "2006-03-31T00:00:00",
          "2006-04-28T00:00:00",
          "2006-05-31T00:00:00",
          "2006-06-30T00:00:00",
          "2006-07-31T00:00:00",
          "2006-08-31T00:00:00",
          "2006-09-29T00:00:00",
          "2006-10-31T00:00:00",
          "2006-11-30T00:00:00",
          "2006-12-29T00:00:00",
          "2007-01-31T00:00:00",
          "2007-02-28T00:00:00",
          "2007-03-30T00:00:00",
          "2007-04-30T00:00:00",
          "2007-05-31T00:00:00",
          "2007-06-29T00:00:00",
          "2007-07-31T00:00:00",
          "2007-08-31T00:00:00",
          "2007-09-28T00:00:00",
          "2007-10-31T00:00:00",
          "2007-11-30T00:00:00",
          "2007-12-31T00:00:00",
          "2008-01-31T00:00:00",
          "2008-02-29T00:00:00",
          "2008-03-31T00:00:00",
          "2008-04-30T00:00:00",
          "2008-05-30T00:00:00",
          "2008-06-30T00:00:00",
          "2008-07-31T00:00:00",
          "2008-08-29T00:00:00",
          "2008-09-30T00:00:00",
          "2008-10-31T00:00:00",
          "2008-11-28T00:00:00",
          "2008-12-31T00:00:00",
          "2009-01-30T00:00:00",
          "2009-02-27T00:00:00",
          "2009-03-31T00:00:00",
          "2009-04-30T00:00:00",
          "2009-05-29T00:00:00",
          "2009-06-30T00:00:00",
          "2009-07-31T00:00:00",
          "2009-08-31T00:00:00",
          "2009-09-30T00:00:00",
          "2009-10-30T00:00:00",
          "2009-11-30T00:00:00",
          "2009-12-31T00:00:00",
          "2010-01-29T00:00:00",
          "2010-02-26T00:00:00",
          "2010-03-31T00:00:00",
          "2010-04-30T00:00:00",
          "2010-05-28T00:00:00",
          "2010-06-30T00:00:00",
          "2010-07-30T00:00:00",
          "2010-08-31T00:00:00",
          "2010-09-30T00:00:00",
          "2010-10-29T00:00:00",
          "2010-11-30T00:00:00",
          "2010-12-31T00:00:00",
          "2011-01-31T00:00:00",
          "2011-02-28T00:00:00",
          "2011-03-31T00:00:00",
          "2011-04-29T00:00:00",
          "2011-05-31T00:00:00",
          "2011-06-30T00:00:00",
          "2011-07-29T00:00:00",
          "2011-08-31T00:00:00",
          "2011-09-30T00:00:00",
          "2011-10-31T00:00:00",
          "2011-11-30T00:00:00",
          "2011-12-30T00:00:00",
          "2012-01-31T00:00:00",
          "2012-02-29T00:00:00",
          "2012-03-30T00:00:00",
          "2012-04-30T00:00:00",
          "2012-05-31T00:00:00",
          "2012-06-29T00:00:00",
          "2012-07-31T00:00:00",
          "2012-08-31T00:00:00",
          "2012-09-28T00:00:00",
          "2012-10-31T00:00:00",
          "2012-11-30T00:00:00",
          "2012-12-31T00:00:00",
          "2013-01-31T00:00:00",
          "2013-02-28T00:00:00",
          "2013-03-28T00:00:00",
          "2013-04-30T00:00:00",
          "2013-05-31T00:00:00",
          "2013-06-28T00:00:00",
          "2013-07-31T00:00:00",
          "2013-08-30T00:00:00",
          "2013-09-30T00:00:00",
          "2013-10-31T00:00:00",
          "2013-11-29T00:00:00",
          "2013-12-31T00:00:00",
          "2014-01-31T00:00:00",
          "2014-02-28T00:00:00",
          "2014-03-31T00:00:00",
          "2014-04-30T00:00:00",
          "2014-05-30T00:00:00",
          "2014-06-30T00:00:00",
          "2014-07-31T00:00:00",
          "2014-08-29T00:00:00",
          "2014-09-30T00:00:00",
          "2014-10-31T00:00:00",
          "2014-11-28T00:00:00",
          "2014-12-31T00:00:00",
          "2015-01-30T00:00:00",
          "2015-02-27T00:00:00",
          "2015-03-31T00:00:00",
          "2015-04-30T00:00:00",
          "2015-05-29T00:00:00",
          "2015-06-30T00:00:00",
          "2015-07-31T00:00:00",
          "2015-08-31T00:00:00",
          "2015-09-30T00:00:00",
          "2015-10-30T00:00:00",
          "2015-11-30T00:00:00",
          "2015-12-31T00:00:00",
          "2016-01-29T00:00:00",
          "2016-02-29T00:00:00",
          "2016-03-31T00:00:00",
          "2016-04-29T00:00:00",
          "2016-05-31T00:00:00",
          "2016-06-30T00:00:00",
          "2016-07-29T00:00:00",
          "2016-08-31T00:00:00",
          "2016-09-30T00:00:00",
          "2016-10-31T00:00:00",
          "2016-11-30T00:00:00",
          "2016-12-30T00:00:00",
          "2017-01-31T00:00:00",
          "2017-02-28T00:00:00",
          "2017-03-31T00:00:00",
          "2017-04-28T00:00:00",
          "2017-05-31T00:00:00",
          "2017-06-30T00:00:00",
          "2017-07-31T00:00:00",
          "2017-08-31T00:00:00",
          "2017-09-29T00:00:00",
          "2017-10-31T00:00:00",
          "2017-11-30T00:00:00",
          "2017-12-29T00:00:00",
          "2018-01-31T00:00:00",
          "2018-02-28T00:00:00",
          "2018-03-29T00:00:00",
          "2018-04-30T00:00:00",
          "2018-05-31T00:00:00",
          "2018-06-29T00:00:00",
          "2018-07-31T00:00:00",
          "2018-08-31T00:00:00",
          "2018-09-28T00:00:00",
          "2018-10-31T00:00:00",
          "2018-11-30T00:00:00",
          "2018-12-31T00:00:00",
          "2019-01-31T00:00:00",
          "2019-02-28T00:00:00",
          "2019-03-29T00:00:00",
          "2019-04-30T00:00:00",
          "2019-05-31T00:00:00",
          "2019-06-28T00:00:00",
          "2019-07-31T00:00:00",
          "2019-08-30T00:00:00",
          "2019-09-30T00:00:00",
          "2019-10-31T00:00:00",
          "2019-11-29T00:00:00",
          "2019-12-31T00:00:00",
          "2020-01-31T00:00:00",
          "2020-02-28T00:00:00",
          "2020-03-31T00:00:00",
          "2020-04-30T00:00:00",
          "2020-05-29T00:00:00",
          "2020-06-30T00:00:00",
          "2020-07-31T00:00:00",
          "2020-08-31T00:00:00",
          "2020-09-30T00:00:00",
          "2020-10-30T00:00:00",
          "2020-11-30T00:00:00",
          "2020-12-31T00:00:00",
          "2021-01-29T00:00:00",
          "2021-02-26T00:00:00",
          "2021-03-31T00:00:00",
          "2021-04-30T00:00:00",
          "2021-05-28T00:00:00",
          "2021-06-30T00:00:00",
          "2021-07-30T00:00:00",
          "2021-08-31T00:00:00",
          "2021-09-30T00:00:00",
          "2021-10-29T00:00:00",
          "2021-11-30T00:00:00",
          "2021-12-31T00:00:00",
          "2022-01-31T00:00:00",
          "2022-02-28T00:00:00",
          "2022-03-31T00:00:00",
          "2022-04-29T00:00:00",
          "2022-05-31T00:00:00",
          "2022-06-30T00:00:00",
          "2022-07-29T00:00:00",
          "2022-08-30T00:00:00"
         ],
         "xaxis": "x",
         "y": [
          6.125,
          6.125,
          6.3125,
          6.125,
          6.5625,
          6.625,
          6.875,
          6.375,
          7.5,
          null,
          5.6875,
          5.75,
          4.8125,
          5.3125,
          5,
          4.625,
          5.375,
          4.75,
          5.0625,
          5.25,
          5.875,
          5.875,
          null,
          4.4375,
          null,
          4.3125,
          4.3125,
          4.5,
          5.5,
          5.25,
          6.875,
          7.625,
          7.75,
          7.375,
          6.9375,
          7.5,
          8.25,
          9.75,
          11.625,
          10.8125,
          10.6875,
          13.4375,
          11.125,
          12.0625,
          12.75,
          10.0625,
          9.1875,
          10.3125,
          10.25,
          9.75,
          8.875,
          10.8125,
          10.625,
          11.25,
          10.125,
          10.5,
          10.4375,
          10.9375,
          9.625,
          9.125,
          8.5,
          9,
          10.5,
          10.375,
          10.75,
          10.75,
          9.8125,
          10.5625,
          10.9375,
          10.875,
          12.0625,
          12.75,
          12.3125,
          11.1875,
          11.75,
          12.75,
          12.75,
          12.25,
          11.6875,
          11.375,
          12.75,
          17.4375,
          18.125,
          17.375,
          17.6875,
          15.625,
          15,
          16.5,
          18.625,
          18.375,
          19.0313,
          21.3438,
          22,
          22.375,
          19.4375,
          19.25,
          17.4375,
          17.0313,
          19.4375,
          19.9375,
          18.3438,
          17.4688,
          16.125,
          13.2188,
          16.4688,
          16.9375,
          16.4688,
          15.3438,
          13.0938,
          11.7188,
          13.7813,
          16.625,
          17.375,
          17.875,
          18.4063,
          19.3125,
          20.7188,
          19.4375,
          17.625,
          16.4375,
          17.5625,
          18.625,
          24.2813,
          24.0938,
          29.9063,
          28.0938,
          22.875,
          29.2813,
          30.075,
          25.2,
          24.625,
          30.485,
          27.4,
          28.5,
          29.1,
          29.505,
          29.105,
          26.25,
          27.105,
          23.135,
          17.2,
          19.15,
          17.195,
          19.325,
          18.61,
          21.84,
          24.135,
          24.655,
          26.125,
          24.64,
          20.84,
          23.5,
          24.125,
          25.25,
          22.895,
          22.95,
          22.65,
          24.1,
          24.11,
          23.625,
          26,
          26.7,
          23.685,
          25.875,
          24.095,
          24.25,
          24.68,
          28.63,
          28.23,
          28.39,
          29.075,
          30.6,
          29.68,
          33,
          34.745,
          32.405,
          35.505,
          null,
          null,
          null,
          null,
          null,
          null,
          null,
          null,
          null,
          null,
          null,
          null,
          null,
          null,
          null,
          null,
          null,
          null,
          null,
          null,
          null,
          null,
          null,
          null,
          null,
          null,
          null,
          null,
          null,
          null,
          null,
          null,
          null,
          null,
          null,
          null,
          null,
          null,
          null,
          null,
          null,
          null,
          null,
          null,
          null,
          null,
          null,
          null,
          null,
          null,
          null,
          null,
          null,
          null,
          null,
          null,
          null,
          null,
          null,
          null,
          null,
          null,
          null,
          null,
          null,
          null,
          null,
          null,
          null,
          null,
          null,
          null,
          null,
          null,
          null,
          null,
          null,
          null,
          null,
          null,
          null,
          null,
          null,
          null,
          null,
          null,
          null,
          null,
          null,
          null,
          null,
          null,
          null,
          null,
          null,
          null,
          null,
          null,
          null,
          null,
          null,
          null,
          null,
          null,
          null,
          null,
          null,
          null,
          null,
          null,
          null,
          null,
          null,
          null,
          null,
          null,
          null,
          null,
          null,
          null,
          null,
          null,
          null,
          null,
          null,
          null,
          null,
          null,
          null,
          null,
          null,
          null,
          null,
          null,
          null,
          null,
          null,
          null,
          null,
          null,
          null,
          null,
          null,
          null,
          null,
          null,
          null,
          null,
          null,
          null,
          null,
          null,
          null,
          33.31,
          31.38,
          36.71,
          36.89,
          38.53,
          41.41,
          41.37,
          30.665,
          31.8,
          36.33,
          41.57,
          43.97,
          45.05,
          42.94,
          39.96,
          32.38,
          26.98,
          22.44,
          26.65,
          29.5,
          31.54,
          32.06,
          25.15,
          28.5,
          27.02,
          22,
          24.07,
          20.29,
          21.88,
          25.98,
          21.73,
          16.18,
          6.87,
          12.51,
          10.82,
          11.35,
          10.49,
          10.88,
          9.45,
          8.92,
          14,
          15.82,
          16.54,
          21.57,
          21.89,
          23.42,
          26.57,
          29.19,
          25.84,
          29.55,
          35.56,
          40.11,
          42.16,
          44.02,
          50.55,
          59.59,
          59.315,
          58.07,
          74.87,
          54.99,
          62.85,
          71.01
         ],
         "yaxis": "y"
        }
       ],
       "layout": {
        "legend": {
         "title": {
          "text": "variable"
         },
         "tracegroupgap": 0
        },
        "margin": {
         "t": 60
        },
        "template": {
         "data": {
          "bar": [
           {
            "error_x": {
             "color": "#2a3f5f"
            },
            "error_y": {
             "color": "#2a3f5f"
            },
            "marker": {
             "line": {
              "color": "#E5ECF6",
              "width": 0.5
             },
             "pattern": {
              "fillmode": "overlay",
              "size": 10,
              "solidity": 0.2
             }
            },
            "type": "bar"
           }
          ],
          "barpolar": [
           {
            "marker": {
             "line": {
              "color": "#E5ECF6",
              "width": 0.5
             },
             "pattern": {
              "fillmode": "overlay",
              "size": 10,
              "solidity": 0.2
             }
            },
            "type": "barpolar"
           }
          ],
          "carpet": [
           {
            "aaxis": {
             "endlinecolor": "#2a3f5f",
             "gridcolor": "white",
             "linecolor": "white",
             "minorgridcolor": "white",
             "startlinecolor": "#2a3f5f"
            },
            "baxis": {
             "endlinecolor": "#2a3f5f",
             "gridcolor": "white",
             "linecolor": "white",
             "minorgridcolor": "white",
             "startlinecolor": "#2a3f5f"
            },
            "type": "carpet"
           }
          ],
          "choropleth": [
           {
            "colorbar": {
             "outlinewidth": 0,
             "ticks": ""
            },
            "type": "choropleth"
           }
          ],
          "contour": [
           {
            "colorbar": {
             "outlinewidth": 0,
             "ticks": ""
            },
            "colorscale": [
             [
              0,
              "#0d0887"
             ],
             [
              0.1111111111111111,
              "#46039f"
             ],
             [
              0.2222222222222222,
              "#7201a8"
             ],
             [
              0.3333333333333333,
              "#9c179e"
             ],
             [
              0.4444444444444444,
              "#bd3786"
             ],
             [
              0.5555555555555556,
              "#d8576b"
             ],
             [
              0.6666666666666666,
              "#ed7953"
             ],
             [
              0.7777777777777778,
              "#fb9f3a"
             ],
             [
              0.8888888888888888,
              "#fdca26"
             ],
             [
              1,
              "#f0f921"
             ]
            ],
            "type": "contour"
           }
          ],
          "contourcarpet": [
           {
            "colorbar": {
             "outlinewidth": 0,
             "ticks": ""
            },
            "type": "contourcarpet"
           }
          ],
          "heatmap": [
           {
            "colorbar": {
             "outlinewidth": 0,
             "ticks": ""
            },
            "colorscale": [
             [
              0,
              "#0d0887"
             ],
             [
              0.1111111111111111,
              "#46039f"
             ],
             [
              0.2222222222222222,
              "#7201a8"
             ],
             [
              0.3333333333333333,
              "#9c179e"
             ],
             [
              0.4444444444444444,
              "#bd3786"
             ],
             [
              0.5555555555555556,
              "#d8576b"
             ],
             [
              0.6666666666666666,
              "#ed7953"
             ],
             [
              0.7777777777777778,
              "#fb9f3a"
             ],
             [
              0.8888888888888888,
              "#fdca26"
             ],
             [
              1,
              "#f0f921"
             ]
            ],
            "type": "heatmap"
           }
          ],
          "heatmapgl": [
           {
            "colorbar": {
             "outlinewidth": 0,
             "ticks": ""
            },
            "colorscale": [
             [
              0,
              "#0d0887"
             ],
             [
              0.1111111111111111,
              "#46039f"
             ],
             [
              0.2222222222222222,
              "#7201a8"
             ],
             [
              0.3333333333333333,
              "#9c179e"
             ],
             [
              0.4444444444444444,
              "#bd3786"
             ],
             [
              0.5555555555555556,
              "#d8576b"
             ],
             [
              0.6666666666666666,
              "#ed7953"
             ],
             [
              0.7777777777777778,
              "#fb9f3a"
             ],
             [
              0.8888888888888888,
              "#fdca26"
             ],
             [
              1,
              "#f0f921"
             ]
            ],
            "type": "heatmapgl"
           }
          ],
          "histogram": [
           {
            "marker": {
             "pattern": {
              "fillmode": "overlay",
              "size": 10,
              "solidity": 0.2
             }
            },
            "type": "histogram"
           }
          ],
          "histogram2d": [
           {
            "colorbar": {
             "outlinewidth": 0,
             "ticks": ""
            },
            "colorscale": [
             [
              0,
              "#0d0887"
             ],
             [
              0.1111111111111111,
              "#46039f"
             ],
             [
              0.2222222222222222,
              "#7201a8"
             ],
             [
              0.3333333333333333,
              "#9c179e"
             ],
             [
              0.4444444444444444,
              "#bd3786"
             ],
             [
              0.5555555555555556,
              "#d8576b"
             ],
             [
              0.6666666666666666,
              "#ed7953"
             ],
             [
              0.7777777777777778,
              "#fb9f3a"
             ],
             [
              0.8888888888888888,
              "#fdca26"
             ],
             [
              1,
              "#f0f921"
             ]
            ],
            "type": "histogram2d"
           }
          ],
          "histogram2dcontour": [
           {
            "colorbar": {
             "outlinewidth": 0,
             "ticks": ""
            },
            "colorscale": [
             [
              0,
              "#0d0887"
             ],
             [
              0.1111111111111111,
              "#46039f"
             ],
             [
              0.2222222222222222,
              "#7201a8"
             ],
             [
              0.3333333333333333,
              "#9c179e"
             ],
             [
              0.4444444444444444,
              "#bd3786"
             ],
             [
              0.5555555555555556,
              "#d8576b"
             ],
             [
              0.6666666666666666,
              "#ed7953"
             ],
             [
              0.7777777777777778,
              "#fb9f3a"
             ],
             [
              0.8888888888888888,
              "#fdca26"
             ],
             [
              1,
              "#f0f921"
             ]
            ],
            "type": "histogram2dcontour"
           }
          ],
          "mesh3d": [
           {
            "colorbar": {
             "outlinewidth": 0,
             "ticks": ""
            },
            "type": "mesh3d"
           }
          ],
          "parcoords": [
           {
            "line": {
             "colorbar": {
              "outlinewidth": 0,
              "ticks": ""
             }
            },
            "type": "parcoords"
           }
          ],
          "pie": [
           {
            "automargin": true,
            "type": "pie"
           }
          ],
          "scatter": [
           {
            "fillpattern": {
             "fillmode": "overlay",
             "size": 10,
             "solidity": 0.2
            },
            "type": "scatter"
           }
          ],
          "scatter3d": [
           {
            "line": {
             "colorbar": {
              "outlinewidth": 0,
              "ticks": ""
             }
            },
            "marker": {
             "colorbar": {
              "outlinewidth": 0,
              "ticks": ""
             }
            },
            "type": "scatter3d"
           }
          ],
          "scattercarpet": [
           {
            "marker": {
             "colorbar": {
              "outlinewidth": 0,
              "ticks": ""
             }
            },
            "type": "scattercarpet"
           }
          ],
          "scattergeo": [
           {
            "marker": {
             "colorbar": {
              "outlinewidth": 0,
              "ticks": ""
             }
            },
            "type": "scattergeo"
           }
          ],
          "scattergl": [
           {
            "marker": {
             "colorbar": {
              "outlinewidth": 0,
              "ticks": ""
             }
            },
            "type": "scattergl"
           }
          ],
          "scattermapbox": [
           {
            "marker": {
             "colorbar": {
              "outlinewidth": 0,
              "ticks": ""
             }
            },
            "type": "scattermapbox"
           }
          ],
          "scatterpolar": [
           {
            "marker": {
             "colorbar": {
              "outlinewidth": 0,
              "ticks": ""
             }
            },
            "type": "scatterpolar"
           }
          ],
          "scatterpolargl": [
           {
            "marker": {
             "colorbar": {
              "outlinewidth": 0,
              "ticks": ""
             }
            },
            "type": "scatterpolargl"
           }
          ],
          "scatterternary": [
           {
            "marker": {
             "colorbar": {
              "outlinewidth": 0,
              "ticks": ""
             }
            },
            "type": "scatterternary"
           }
          ],
          "surface": [
           {
            "colorbar": {
             "outlinewidth": 0,
             "ticks": ""
            },
            "colorscale": [
             [
              0,
              "#0d0887"
             ],
             [
              0.1111111111111111,
              "#46039f"
             ],
             [
              0.2222222222222222,
              "#7201a8"
             ],
             [
              0.3333333333333333,
              "#9c179e"
             ],
             [
              0.4444444444444444,
              "#bd3786"
             ],
             [
              0.5555555555555556,
              "#d8576b"
             ],
             [
              0.6666666666666666,
              "#ed7953"
             ],
             [
              0.7777777777777778,
              "#fb9f3a"
             ],
             [
              0.8888888888888888,
              "#fdca26"
             ],
             [
              1,
              "#f0f921"
             ]
            ],
            "type": "surface"
           }
          ],
          "table": [
           {
            "cells": {
             "fill": {
              "color": "#EBF0F8"
             },
             "line": {
              "color": "white"
             }
            },
            "header": {
             "fill": {
              "color": "#C8D4E3"
             },
             "line": {
              "color": "white"
             }
            },
            "type": "table"
           }
          ]
         },
         "layout": {
          "annotationdefaults": {
           "arrowcolor": "#2a3f5f",
           "arrowhead": 0,
           "arrowwidth": 1
          },
          "autotypenumbers": "strict",
          "coloraxis": {
           "colorbar": {
            "outlinewidth": 0,
            "ticks": ""
           }
          },
          "colorscale": {
           "diverging": [
            [
             0,
             "#8e0152"
            ],
            [
             0.1,
             "#c51b7d"
            ],
            [
             0.2,
             "#de77ae"
            ],
            [
             0.3,
             "#f1b6da"
            ],
            [
             0.4,
             "#fde0ef"
            ],
            [
             0.5,
             "#f7f7f7"
            ],
            [
             0.6,
             "#e6f5d0"
            ],
            [
             0.7,
             "#b8e186"
            ],
            [
             0.8,
             "#7fbc41"
            ],
            [
             0.9,
             "#4d9221"
            ],
            [
             1,
             "#276419"
            ]
           ],
           "sequential": [
            [
             0,
             "#0d0887"
            ],
            [
             0.1111111111111111,
             "#46039f"
            ],
            [
             0.2222222222222222,
             "#7201a8"
            ],
            [
             0.3333333333333333,
             "#9c179e"
            ],
            [
             0.4444444444444444,
             "#bd3786"
            ],
            [
             0.5555555555555556,
             "#d8576b"
            ],
            [
             0.6666666666666666,
             "#ed7953"
            ],
            [
             0.7777777777777778,
             "#fb9f3a"
            ],
            [
             0.8888888888888888,
             "#fdca26"
            ],
            [
             1,
             "#f0f921"
            ]
           ],
           "sequentialminus": [
            [
             0,
             "#0d0887"
            ],
            [
             0.1111111111111111,
             "#46039f"
            ],
            [
             0.2222222222222222,
             "#7201a8"
            ],
            [
             0.3333333333333333,
             "#9c179e"
            ],
            [
             0.4444444444444444,
             "#bd3786"
            ],
            [
             0.5555555555555556,
             "#d8576b"
            ],
            [
             0.6666666666666666,
             "#ed7953"
            ],
            [
             0.7777777777777778,
             "#fb9f3a"
            ],
            [
             0.8888888888888888,
             "#fdca26"
            ],
            [
             1,
             "#f0f921"
            ]
           ]
          },
          "colorway": [
           "#636efa",
           "#EF553B",
           "#00cc96",
           "#ab63fa",
           "#FFA15A",
           "#19d3f3",
           "#FF6692",
           "#B6E880",
           "#FF97FF",
           "#FECB52"
          ],
          "font": {
           "color": "#2a3f5f"
          },
          "geo": {
           "bgcolor": "white",
           "lakecolor": "white",
           "landcolor": "#E5ECF6",
           "showlakes": true,
           "showland": true,
           "subunitcolor": "white"
          },
          "hoverlabel": {
           "align": "left"
          },
          "hovermode": "closest",
          "mapbox": {
           "style": "light"
          },
          "paper_bgcolor": "white",
          "plot_bgcolor": "#E5ECF6",
          "polar": {
           "angularaxis": {
            "gridcolor": "white",
            "linecolor": "white",
            "ticks": ""
           },
           "bgcolor": "#E5ECF6",
           "radialaxis": {
            "gridcolor": "white",
            "linecolor": "white",
            "ticks": ""
           }
          },
          "scene": {
           "xaxis": {
            "backgroundcolor": "#E5ECF6",
            "gridcolor": "white",
            "gridwidth": 2,
            "linecolor": "white",
            "showbackground": true,
            "ticks": "",
            "zerolinecolor": "white"
           },
           "yaxis": {
            "backgroundcolor": "#E5ECF6",
            "gridcolor": "white",
            "gridwidth": 2,
            "linecolor": "white",
            "showbackground": true,
            "ticks": "",
            "zerolinecolor": "white"
           },
           "zaxis": {
            "backgroundcolor": "#E5ECF6",
            "gridcolor": "white",
            "gridwidth": 2,
            "linecolor": "white",
            "showbackground": true,
            "ticks": "",
            "zerolinecolor": "white"
           }
          },
          "shapedefaults": {
           "line": {
            "color": "#2a3f5f"
           }
          },
          "ternary": {
           "aaxis": {
            "gridcolor": "white",
            "linecolor": "white",
            "ticks": ""
           },
           "baxis": {
            "gridcolor": "white",
            "linecolor": "white",
            "ticks": ""
           },
           "bgcolor": "#E5ECF6",
           "caxis": {
            "gridcolor": "white",
            "linecolor": "white",
            "ticks": ""
           }
          },
          "title": {
           "x": 0.05
          },
          "xaxis": {
           "automargin": true,
           "gridcolor": "white",
           "linecolor": "white",
           "ticks": "",
           "title": {
            "standoff": 15
           },
           "zerolinecolor": "white",
           "zerolinewidth": 2
          },
          "yaxis": {
           "automargin": true,
           "gridcolor": "white",
           "linecolor": "white",
           "ticks": "",
           "title": {
            "standoff": 15
           },
           "zerolinecolor": "white",
           "zerolinewidth": 2
          }
         }
        },
        "xaxis": {
         "anchor": "y",
         "domain": [
          0,
          1
         ],
         "title": {
          "text": "date"
         }
        },
        "yaxis": {
         "anchor": "x",
         "domain": [
          0,
          1
         ],
         "title": {
          "text": "value"
         }
        }
       }
      }
     },
     "metadata": {},
     "output_type": "display_data"
    }
   ],
   "source": [
    "px.line(df_rmv[df_rmv.permno == \"DVN UA Equity\"].price)"
   ]
  },
  {
   "cell_type": "code",
   "execution_count": 45,
   "id": "ea0e0598",
   "metadata": {},
   "outputs": [
    {
     "data": {
      "text/html": [
       "<div>\n",
       "<style scoped>\n",
       "    .dataframe tbody tr th:only-of-type {\n",
       "        vertical-align: middle;\n",
       "    }\n",
       "\n",
       "    .dataframe tbody tr th {\n",
       "        vertical-align: top;\n",
       "    }\n",
       "\n",
       "    .dataframe thead th {\n",
       "        text-align: right;\n",
       "    }\n",
       "</style>\n",
       "<table border=\"1\" class=\"dataframe\">\n",
       "  <thead>\n",
       "    <tr style=\"text-align: right;\">\n",
       "      <th></th>\n",
       "      <th>permno</th>\n",
       "      <th>number_missings</th>\n",
       "    </tr>\n",
       "  </thead>\n",
       "  <tbody>\n",
       "    <tr>\n",
       "      <th>206</th>\n",
       "      <td>BF/B UA Equity</td>\n",
       "      <td>314</td>\n",
       "    </tr>\n",
       "    <tr>\n",
       "      <th>559</th>\n",
       "      <td>PARA UA Equity</td>\n",
       "      <td>221</td>\n",
       "    </tr>\n",
       "    <tr>\n",
       "      <th>1183</th>\n",
       "      <td>PSX UN Equity</td>\n",
       "      <td>207</td>\n",
       "    </tr>\n",
       "    <tr>\n",
       "      <th>408</th>\n",
       "      <td>PNAA US Equity</td>\n",
       "      <td>196</td>\n",
       "    </tr>\n",
       "    <tr>\n",
       "      <th>790</th>\n",
       "      <td>DVN UA Equity</td>\n",
       "      <td>156</td>\n",
       "    </tr>\n",
       "    <tr>\n",
       "      <th>...</th>\n",
       "      <td>...</td>\n",
       "      <td>...</td>\n",
       "    </tr>\n",
       "    <tr>\n",
       "      <th>919</th>\n",
       "      <td>VNO UN Equity</td>\n",
       "      <td>8</td>\n",
       "    </tr>\n",
       "    <tr>\n",
       "      <th>296</th>\n",
       "      <td>GWOW UN Equity</td>\n",
       "      <td>8</td>\n",
       "    </tr>\n",
       "    <tr>\n",
       "      <th>1187</th>\n",
       "      <td>1288453D UW Equity</td>\n",
       "      <td>7</td>\n",
       "    </tr>\n",
       "    <tr>\n",
       "      <th>1248</th>\n",
       "      <td>MNST UW Equity</td>\n",
       "      <td>7</td>\n",
       "    </tr>\n",
       "    <tr>\n",
       "      <th>485</th>\n",
       "      <td>WLBAQ US Equity</td>\n",
       "      <td>6</td>\n",
       "    </tr>\n",
       "  </tbody>\n",
       "</table>\n",
       "<p>75 rows × 2 columns</p>\n",
       "</div>"
      ],
      "text/plain": [
       "                  permno  number_missings\n",
       "206       BF/B UA Equity              314\n",
       "559       PARA UA Equity              221\n",
       "1183       PSX UN Equity              207\n",
       "408       PNAA US Equity              196\n",
       "790        DVN UA Equity              156\n",
       "...                  ...              ...\n",
       "919        VNO UN Equity                8\n",
       "296       GWOW UN Equity                8\n",
       "1187  1288453D UW Equity                7\n",
       "1248      MNST UW Equity                7\n",
       "485      WLBAQ US Equity                6\n",
       "\n",
       "[75 rows x 2 columns]"
      ]
     },
     "execution_count": 45,
     "metadata": {},
     "output_type": "execute_result"
    }
   ],
   "source": [
    "df_n_missing[df_n_missing.number_missings > 5].sort_values(by=\"number_missings\", ascending=False)"
   ]
  },
  {
   "cell_type": "code",
   "execution_count": 46,
   "id": "d1cf23ae",
   "metadata": {},
   "outputs": [],
   "source": [
    "rmv_stocks = df_n_missing[df_n_missing.number_missings > 0].sort_values(by=\"number_missings\", ascending=False).permno.unique()"
   ]
  },
  {
   "cell_type": "code",
   "execution_count": 47,
   "id": "a748dc7d",
   "metadata": {},
   "outputs": [
    {
     "data": {
      "text/plain": [
       "array(['BF/B UA Equity', 'PARA UA Equity', 'PSX UN Equity',\n",
       "       'PNAA US Equity', 'DVN UA Equity', 'NBR UA Equity',\n",
       "       'ETFC UN Equity', '1539941D UN Equity', 'CA UN Equity',\n",
       "       'CME UN Equity', 'SBUX UA Equity', 'ADP UN Equity',\n",
       "       'TFCFA UN Equity', 'MYL UN Equity', 'MAT UN Equity',\n",
       "       'BMC UQ Equity', 'BMC UW Equity', 'MU UN Equity',\n",
       "       'WINMQ UN Equity', 'UAL UW Equity', 'SPLS UA Equity',\n",
       "       'GIDL US Equity', 'HAS UN Equity', 'CAR UN Equity',\n",
       "       'PCH UN Equity', 'RRD UN Equity', 'HBAN UA Equity',\n",
       "       'VIAB UN Equity', 'SLM UN Equity', 'FTRCQ UN Equity',\n",
       "       'TXN UN Equity', 'ADI UN Equity', 'MDLZ UN Equity',\n",
       "       'WDC UN Equity', 'ETFC UW Equity', 'AVATQ US Equity',\n",
       "       'NVDA UA Equity', '69895Q UN Equity', 'GENZ UA Equity',\n",
       "       'GT UN Equity', 'SXCL UQ Equity', 'VTSS UQ Equity',\n",
       "       'CMVT UQ Equity', 'SKY UN Equity', 'MAR UN Equity',\n",
       "       'BNSSA US Equity', 'SCHW UN Equity', 'RRC UN Equity',\n",
       "       'EHC UN Equity', 'SWKS UW Equity', 'WBA UN Equity',\n",
       "       '2731112Q UN Equity', 'GTGOF US Equity', 'AMD UN Equity',\n",
       "       'BVSN UQ Equity', 'TMUS UN Equity', 'CSX UN Equity',\n",
       "       '8384662Q US Equity', '126784Q US Equity', 'JOSEA US Equity',\n",
       "       'NAV UN Equity', '945852Q UN Equity', 'GMCR UW Equity',\n",
       "       'MXIM UQ Equity', 'INCY UW Equity', 'MXIM UW Equity',\n",
       "       'GGP UN Equity', 'ODFL UW Equity', 'GTX UN Equity',\n",
       "       'TTWO UW Equity', 'VNO UN Equity', 'GWOW UN Equity',\n",
       "       '1288453D UW Equity', 'MNST UW Equity', 'WLBAQ US Equity',\n",
       "       'JKHY UW Equity', 'PEP UN Equity', '502466Q US Equity',\n",
       "       'PFG UN Equity', 'RATL UQ Equity', 'RHI UN Equity',\n",
       "       '1028411Q UN Equity', 'NKTR UW Equity', 'AJG UN Equity',\n",
       "       'CERN UW Equity', 'XEL UN Equity', 'ATVI UW Equity',\n",
       "       'TSS UN Equity', 'TSCO UW Equity', 'VIAV UW Equity',\n",
       "       '2999130Q UN Equity', 'RAD UN Equity', 'MZIAQ UN Equity',\n",
       "       'DYNIQ UN Equity', 'VIAV UQ Equity', 'FLTWQ UN Equity',\n",
       "       'APOL UW Equity', 'DRE UN Equity', 'R UN Equity', 'HOLX UW Equity',\n",
       "       'MRNKQ US Equity', 'MEL UN Equity', 'REG UN Equity',\n",
       "       'ANSS UW Equity', 'FNMA UN Equity', 'HET UN Equity',\n",
       "       'UH UN Equity', 'CCTYQ UN Equity', 'AXP UN Equity',\n",
       "       'ATO UN Equity', 'IEX UN Equity', 'AIG UN Equity', 'TYL UN Equity',\n",
       "       'RHDCQ UN Equity', 'USG UN Equity', 'LEN UN Equity',\n",
       "       'PNR UN Equity', 'XTO UN Equity', '1448062D UN Equity',\n",
       "       '0574018D UN Equity', 'APOL UQ Equity', '1500785D UN Equity',\n",
       "       'EXPD UW Equity', 'VSTNQ UN Equity', 'CTRA UN Equity',\n",
       "       'IVZ UN Equity', 'PBCT UW Equity', '3153670Q UQ Equity',\n",
       "       'WM UN Equity', 'TMO UN Equity', 'URBN UW Equity',\n",
       "       'FMCC UN Equity', 'TRV UN Equity', 'VAT UN Equity',\n",
       "       'NDSN UW Equity'], dtype=object)"
      ]
     },
     "execution_count": 47,
     "metadata": {},
     "output_type": "execute_result"
    }
   ],
   "source": [
    "rmv_stocks"
   ]
  },
  {
   "cell_type": "code",
   "execution_count": 48,
   "id": "302a569a",
   "metadata": {},
   "outputs": [],
   "source": [
    "df_rmv_2 = df_rmv[~df_rmv.permno.isin(rmv_stocks)]"
   ]
  },
  {
   "cell_type": "code",
   "execution_count": 49,
   "id": "92fec449",
   "metadata": {},
   "outputs": [],
   "source": [
    "df_rmv_2.to_csv(\"cleaned_data.csv\")"
   ]
  }
 ],
 "metadata": {
  "kernelspec": {
   "display_name": "Python 3 (ipykernel)",
   "language": "python",
   "name": "python3"
  },
  "language_info": {
   "codemirror_mode": {
    "name": "ipython",
    "version": 3
   },
   "file_extension": ".py",
   "mimetype": "text/x-python",
   "name": "python",
   "nbconvert_exporter": "python",
   "pygments_lexer": "ipython3",
   "version": "3.9.0"
  }
 },
 "nbformat": 4,
 "nbformat_minor": 5
}
